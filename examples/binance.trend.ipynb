{
 "cells": [
  {
   "cell_type": "code",
   "execution_count": 1,
   "id": "551dc0f3-0258-417f-b35b-1e221c2733da",
   "metadata": {
    "ExecuteTime": {
     "end_time": "2022-05-25T16:07:21.390442Z",
     "start_time": "2022-05-25T16:07:20.817783Z"
    },
    "execution": {
     "iopub.execute_input": "2023-05-23T12:56:50.825540Z",
     "iopub.status.busy": "2023-05-23T12:56:50.824551Z",
     "iopub.status.idle": "2023-05-23T12:56:51.605214Z",
     "shell.execute_reply": "2023-05-23T12:56:51.604491Z",
     "shell.execute_reply.started": "2023-05-23T12:56:50.825506Z"
    }
   },
   "outputs": [],
   "source": [
    "from simple.binance import getHistMonth\n",
    "from simple.chart import chartFigure\n",
    "from tqdm.auto import tqdm\n",
    "import numpy as np\n",
    "import warnings\n",
    "\n",
    "warnings.simplefilter(\"ignore\")"
   ]
  },
  {
   "cell_type": "code",
   "execution_count": 2,
   "id": "d0a80f1f-1159-40a6-8ae9-c423c49721c6",
   "metadata": {
    "ExecuteTime": {
     "end_time": "2022-05-25T16:07:21.395225Z",
     "start_time": "2022-05-25T16:07:21.392371Z"
    },
    "execution": {
     "iopub.execute_input": "2023-05-23T12:56:51.607200Z",
     "iopub.status.busy": "2023-05-23T12:56:51.606777Z",
     "iopub.status.idle": "2023-05-23T12:56:51.610977Z",
     "shell.execute_reply": "2023-05-23T12:56:51.610326Z",
     "shell.execute_reply.started": "2023-05-23T12:56:51.607162Z"
    }
   },
   "outputs": [],
   "source": [
    "frame = '1h'\n",
    "tickers = ['BTCUSDT', 'ETHUSDT', 'LTCUSDT', 'BCHUSDT', 'TRXUSDT', 'DOGEUSDT', 'ETCUSDT', 'XRPUSDT']"
   ]
  },
  {
   "cell_type": "code",
   "execution_count": 3,
   "id": "e43d3b88-de1d-4a36-b5f4-5095cf36476e",
   "metadata": {
    "execution": {
     "iopub.execute_input": "2023-05-23T12:56:51.612058Z",
     "iopub.status.busy": "2023-05-23T12:56:51.611790Z",
     "iopub.status.idle": "2023-05-23T12:57:02.667224Z",
     "shell.execute_reply": "2023-05-23T12:57:02.666453Z",
     "shell.execute_reply.started": "2023-05-23T12:56:51.612035Z"
    }
   },
   "outputs": [
    {
     "data": {
      "application/vnd.jupyter.widget-view+json": {
       "model_id": "20dfa1ae7cb04f7ab1e97211d0b872a1",
       "version_major": 2,
       "version_minor": 0
      },
      "text/plain": [
       "  0%|          | 0/8 [00:00<?, ?it/s]"
      ]
     },
     "metadata": {},
     "output_type": "display_data"
    }
   ],
   "source": [
    "lines = {}\n",
    "for ticker in tqdm(tickers):\n",
    "    C = getHistMonth('2022-03', '2022-03', ticker, frame)\n",
    "    C['Delta'] = C.Close - C.Open\n",
    "    C['Direction'] = np.sign(C.Delta)\n",
    "    C['Position'] = C.Direction.shift(1)\n",
    "    C['PnL'] = C.Delta / C.Open * C.Position\n",
    "    lines[ticker] = {'x': C.index, 'y': C['PnL'].cumsum().values}"
   ]
  },
  {
   "cell_type": "code",
   "execution_count": 4,
   "id": "d0c58456-8fa2-4aae-b537-58dc9ac30d98",
   "metadata": {
    "execution": {
     "iopub.execute_input": "2023-05-23T12:57:02.668428Z",
     "iopub.status.busy": "2023-05-23T12:57:02.668182Z",
     "iopub.status.idle": "2023-05-23T12:57:03.459993Z",
     "shell.execute_reply": "2023-05-23T12:57:03.459280Z",
     "shell.execute_reply.started": "2023-05-23T12:57:02.668402Z"
    },
    "tags": []
   },
   "outputs": [
    {
     "data": {
      "application/vnd.jupyter.widget-view+json": {
       "model_id": "90eed6b1ddb94362bba48cde722d633a",
       "version_major": 2,
       "version_minor": 0
      },
      "text/plain": [
       "FigureWidgetResampler({\n",
       "    'data': [{'name': 'BTCUSDT',\n",
       "              'type': 'scattergl',\n",
       "              'uid': 'cac6e5fe-0ae7-4efc-ad7f-1a3150886cba',\n",
       "              'x': array([datetime.datetime(2022, 3, 1, 1, 0),\n",
       "                          datetime.datetime(2022, 3, 1, 2, 0),\n",
       "                          datetime.datetime(2022, 3, 1, 3, 0), ...,\n",
       "                          datetime.datetime(2022, 3, 31, 21, 0),\n",
       "                          datetime.datetime(2022, 3, 31, 22, 0),\n",
       "                          datetime.datetime(2022, 3, 31, 23, 0)], dtype=object),\n",
       "              'y': array([-0.00676256, -0.00433042, -0.00413111, ..., -0.04174007, -0.04274802,\n",
       "                          -0.04878093])},\n",
       "             {'name': 'ETHUSDT',\n",
       "              'type': 'scattergl',\n",
       "              'uid': 'ba945295-807b-4ba8-8665-ebaf03cb5c87',\n",
       "              'x': array([datetime.datetime(2022, 3, 1, 1, 0),\n",
       "                          datetime.datetime(2022, 3, 1, 2, 0),\n",
       "                          datetime.datetime(2022, 3, 1, 3, 0), ...,\n",
       "                          datetime.datetime(2022, 3, 31, 21, 0),\n",
       "                          datetime.datetime(2022, 3, 31, 22, 0),\n",
       "                          datetime.datetime(2022, 3, 31, 23, 0)], dtype=object),\n",
       "              'y': array([-0.01024614, -0.010277  , -0.01213149, ..., -0.04096038, -0.0418672 ,\n",
       "                          -0.04422341])},\n",
       "             {'name': 'LTCUSDT',\n",
       "              'type': 'scattergl',\n",
       "              'uid': '74153969-8f48-4ab0-9724-47fa69bad04a',\n",
       "              'x': array([datetime.datetime(2022, 3, 1, 1, 0),\n",
       "                          datetime.datetime(2022, 3, 1, 2, 0),\n",
       "                          datetime.datetime(2022, 3, 1, 3, 0), ...,\n",
       "                          datetime.datetime(2022, 3, 31, 21, 0),\n",
       "                          datetime.datetime(2022, 3, 31, 22, 0),\n",
       "                          datetime.datetime(2022, 3, 31, 23, 0)], dtype=object),\n",
       "              'y': array([-0.01474437, -0.01323902, -0.01128762, ..., -0.20749451, -0.20902258,\n",
       "                          -0.21424262])},\n",
       "             {'name': 'BCHUSDT',\n",
       "              'type': 'scattergl',\n",
       "              'uid': '3a8427b5-883c-41b5-b3a7-ab9765fbccb0',\n",
       "              'x': array([datetime.datetime(2022, 3, 1, 1, 0),\n",
       "                          datetime.datetime(2022, 3, 1, 2, 0),\n",
       "                          datetime.datetime(2022, 3, 1, 3, 0), ...,\n",
       "                          datetime.datetime(2022, 3, 31, 21, 0),\n",
       "                          datetime.datetime(2022, 3, 31, 22, 0),\n",
       "                          datetime.datetime(2022, 3, 31, 23, 0)], dtype=object),\n",
       "              'y': array([-0.01653307, -0.01050987, -0.0083996 , ...,  0.08557176,  0.08259043,\n",
       "                           0.08412889])},\n",
       "             {'name': 'TRXUSDT',\n",
       "              'type': 'scattergl',\n",
       "              'uid': '005957be-f748-4cf1-babb-0544f451819e',\n",
       "              'x': array([datetime.datetime(2022, 3, 1, 1, 0),\n",
       "                          datetime.datetime(2022, 3, 1, 2, 0),\n",
       "                          datetime.datetime(2022, 3, 1, 3, 0), ...,\n",
       "                          datetime.datetime(2022, 3, 31, 21, 0),\n",
       "                          datetime.datetime(2022, 3, 31, 22, 0),\n",
       "                          datetime.datetime(2022, 3, 31, 23, 0)], dtype=object),\n",
       "              'y': array([-0.00896861, -0.00751442,  0.00073935, ..., -0.00186873,  0.00535246,\n",
       "                           0.00925871])},\n",
       "             {'name': 'DOGEUSDT',\n",
       "              'type': 'scattergl',\n",
       "              'uid': 'f30ae6a9-a34a-4615-8ffd-59502def613a',\n",
       "              'x': array([datetime.datetime(2022, 3, 1, 1, 0),\n",
       "                          datetime.datetime(2022, 3, 1, 2, 0),\n",
       "                          datetime.datetime(2022, 3, 1, 3, 0), ...,\n",
       "                          datetime.datetime(2022, 3, 31, 21, 0),\n",
       "                          datetime.datetime(2022, 3, 31, 22, 0),\n",
       "                          datetime.datetime(2022, 3, 31, 23, 0)], dtype=object),\n",
       "              'y': array([-0.00882045, -0.00610552, -0.00799631, ..., -0.3203    , -0.320875  ,\n",
       "                          -0.32841756])},\n",
       "             {'name': 'ETCUSDT',\n",
       "              'type': 'scattergl',\n",
       "              'uid': 'ba016ddb-a29f-4efa-8dbc-596e7a44855d',\n",
       "              'x': array([datetime.datetime(2022, 3, 1, 1, 0),\n",
       "                          datetime.datetime(2022, 3, 1, 2, 0),\n",
       "                          datetime.datetime(2022, 3, 1, 3, 0), ...,\n",
       "                          datetime.datetime(2022, 3, 31, 21, 0),\n",
       "                          datetime.datetime(2022, 3, 31, 22, 0),\n",
       "                          datetime.datetime(2022, 3, 31, 23, 0)], dtype=object),\n",
       "              'y': array([-0.02551942, -0.02724099, -0.03441431, ..., -0.48175563, -0.48699223,\n",
       "                          -0.49049982])},\n",
       "             {'name': 'XRPUSDT',\n",
       "              'type': 'scattergl',\n",
       "              'uid': '381edd5e-296b-404d-8094-fee2a42d3117',\n",
       "              'x': array([datetime.datetime(2022, 3, 1, 1, 0),\n",
       "                          datetime.datetime(2022, 3, 1, 2, 0),\n",
       "                          datetime.datetime(2022, 3, 1, 3, 0), ...,\n",
       "                          datetime.datetime(2022, 3, 31, 21, 0),\n",
       "                          datetime.datetime(2022, 3, 31, 22, 0),\n",
       "                          datetime.datetime(2022, 3, 31, 23, 0)], dtype=object),\n",
       "              'y': array([-0.01745668, -0.01447354, -0.02188769, ..., -0.24237876, -0.24054345,\n",
       "                          -0.24567291])}],\n",
       "    'layout': {'autosize': True,\n",
       "               'height': 700,\n",
       "               'legend': {'orientation': 'h', 'x': 0.1, 'y': 1},\n",
       "               'margin': {'b': 10, 'l': 45, 'pad': 3, 'r': 15, 't': 30},\n",
       "               'template': '...',\n",
       "               'xaxis': {'anchor': 'y', 'domain': [0.0, 0.94], 'rangeslider': {'visible': False}},\n",
       "               'yaxis': {'anchor': 'x', 'domain': [0.0, 1.0]},\n",
       "               'yaxis2': {'anchor': 'x', 'overlaying': 'y', 'side': 'right'}}\n",
       "})"
      ]
     },
     "execution_count": 4,
     "metadata": {},
     "output_type": "execute_result"
    }
   ],
   "source": [
    "chartFigure(**lines)"
   ]
  }
 ],
 "metadata": {
  "kernelspec": {
   "display_name": "Python 3 (ipykernel)",
   "language": "python",
   "name": "python3"
  },
  "language_info": {
   "codemirror_mode": {
    "name": "ipython",
    "version": 3
   },
   "file_extension": ".py",
   "mimetype": "text/x-python",
   "name": "python",
   "nbconvert_exporter": "python",
   "pygments_lexer": "ipython3",
   "version": "3.9.16"
  }
 },
 "nbformat": 4,
 "nbformat_minor": 5
}

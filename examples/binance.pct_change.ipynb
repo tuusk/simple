{
 "cells": [
  {
   "cell_type": "code",
   "execution_count": 1,
   "id": "a7e9651a-f391-4785-ac98-198d7c0fef4f",
   "metadata": {},
   "outputs": [
    {
     "ename": "ImportError",
     "evalue": "cannot import name 'getHistMonth' from 'binance' (/home/neurox/anaconda3/lib/python3.8/site-packages/binance/__init__.py)",
     "output_type": "error",
     "traceback": [
      "\u001b[0;31m---------------------------------------------------------------------------\u001b[0m",
      "\u001b[0;31mImportError\u001b[0m                               Traceback (most recent call last)",
      "Input \u001b[0;32mIn [1]\u001b[0m, in \u001b[0;36m<cell line: 1>\u001b[0;34m()\u001b[0m\n\u001b[0;32m----> 1\u001b[0m \u001b[38;5;28;01mfrom\u001b[39;00m \u001b[38;5;21;01mbinance\u001b[39;00m \u001b[38;5;28;01mimport\u001b[39;00m getHistMonth\n\u001b[1;32m      2\u001b[0m \u001b[38;5;28;01mimport\u001b[39;00m \u001b[38;5;21;01mpandas\u001b[39;00m \u001b[38;5;28;01mas\u001b[39;00m \u001b[38;5;21;01mpd\u001b[39;00m\n\u001b[1;32m      3\u001b[0m \u001b[38;5;28;01mfrom\u001b[39;00m \u001b[38;5;21;01mtqdm\u001b[39;00m\u001b[38;5;21;01m.\u001b[39;00m\u001b[38;5;21;01mauto\u001b[39;00m \u001b[38;5;28;01mimport\u001b[39;00m tqdm\n",
      "\u001b[0;31mImportError\u001b[0m: cannot import name 'getHistMonth' from 'binance' (/home/neurox/anaconda3/lib/python3.8/site-packages/binance/__init__.py)"
     ]
    }
   ],
   "source": [
    "from binance import getHistMonth\n",
    "import pandas as pd\n",
    "from tqdm.auto import tqdm\n",
    "from multiprocessing import Pool\n",
    "from simple.plotly import chartFigure"
   ]
  },
  {
   "cell_type": "code",
   "execution_count": null,
   "id": "1e5f97f9-b335-485e-80a1-5e5b527f7c1c",
   "metadata": {},
   "outputs": [],
   "source": [
    "tickers = ['BTCUSDT', 'ETHUSDT', 'LTCUSDT', 'BCHUSDT', 'TRXUSDT', 'DOGEUSDT', 'ETCUSDT', 'XRPUSDT']\n",
    "frame = '5m'"
   ]
  },
  {
   "cell_type": "code",
   "execution_count": null,
   "id": "61a9e276-bda7-401a-8073-86c2d9e95996",
   "metadata": {},
   "outputs": [],
   "source": [
    "def getChange(ticker):\n",
    "    return getHistMonth('2022-03', '2022-04', ticker, frame, close_only=True).pct_change().dropna()"
   ]
  },
  {
   "cell_type": "code",
   "execution_count": null,
   "id": "8c16c1bb-3e68-4fc2-aec5-3d1c1d9dd7f1",
   "metadata": {},
   "outputs": [],
   "source": [
    "F = pd.concat(tqdm(Pool(8).imap(getChange, tickers), total=len(tickers)), axis=1)\n",
    "F"
   ]
  },
  {
   "cell_type": "code",
   "execution_count": null,
   "id": "c5c68eae-f238-4c88-8824-a9dfd61722f8",
   "metadata": {},
   "outputs": [],
   "source": [
    "chartFigure(**{c: F[c].cumsum() for c in F.columns})"
   ]
  },
  {
   "cell_type": "code",
   "execution_count": null,
   "id": "3da432b8-c976-42da-8cb4-e7b059abf151",
   "metadata": {},
   "outputs": [],
   "source": []
  }
 ],
 "metadata": {
  "kernelspec": {
   "display_name": "Python 3 (ipykernel)",
   "language": "python",
   "name": "python3"
  },
  "language_info": {
   "codemirror_mode": {
    "name": "ipython",
    "version": 3
   },
   "file_extension": ".py",
   "mimetype": "text/x-python",
   "name": "python",
   "nbconvert_exporter": "python",
   "pygments_lexer": "ipython3",
   "version": "3.8.13"
  }
 },
 "nbformat": 4,
 "nbformat_minor": 5
}

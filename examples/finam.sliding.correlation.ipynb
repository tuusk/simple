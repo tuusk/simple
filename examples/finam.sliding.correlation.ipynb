{
 "cells": [
  {
   "cell_type": "markdown",
   "id": "50d34c39-1ccb-4a96-96af-0697c8453786",
   "metadata": {},
   "source": [
    "# Sliding window correlation of MOEX's stocks"
   ]
  },
  {
   "cell_type": "code",
   "execution_count": 1,
   "id": "6dd2b9a4-4006-4458-97f0-8b9422115961",
   "metadata": {
    "tags": []
   },
   "outputs": [],
   "source": [
    "import pandas as pd\n",
    "from simple.pretty import pmap\n",
    "from simple.finam import getOHLC, periods\n",
    "from simple.plotly import chartFigure\n",
    "from datetime import datetime\n",
    "from time import sleep"
   ]
  },
  {
   "cell_type": "code",
   "execution_count": 2,
   "id": "a88ec1aa-7f6d-4770-b3c7-ffc49ccb718a",
   "metadata": {},
   "outputs": [],
   "source": [
    "start_date=datetime(2022, 6, 1)\n",
    "end_date=datetime(2022, 7, 1)"
   ]
  },
  {
   "cell_type": "code",
   "execution_count": 3,
   "id": "98f082a8-8d76-45af-be43-67cffec9bd6c",
   "metadata": {},
   "outputs": [],
   "source": [
    "tickers = {'AFKS': 19715, 'AFLT': 29, 'AKRN': 17564, 'ALRS': 81820, 'APTK': 13855, 'CBOM': 420694, 'CHMF': 16136, 'DSKY': 473181, \n",
    "           'ENRU': 16440, 'FEES': 20509, 'FIVE': 491944, 'GAZP': 16842, 'GMKN': 795, 'HYDR': 20266, 'IRAO': 20516, 'LKOH': 8, \n",
    "           'LSRG': 19736, 'MAGN': 16782, 'MGNT': 17086, 'MOEX': 152798, 'MRKC': 20235, 'MRKP': 20107, 'MRKV': 20286, 'MSNG': 6, \n",
    "           'SBER': 3, 'MTLR': 21018, 'MTSS': 15523, 'MVID': 19737, 'NLMK': 17046, 'NVTK': 17370, 'OGKB': 18684, 'PHOR': 81114, \n",
    "           'PIKK': 18654, 'PLZL': 17123, 'RASP': 17713, 'RNFT': 465236, 'ROSN': 17273, 'RSTI': 20971, 'RTKM': 7, 'MSRS': 16917,  \n",
    "           'SELG': 81360, 'SNGS': 4, 'TATN': 825, 'TGKA': 18382, 'TRMK': 18441, 'UPRO': 18584, 'VSMO': 15965, 'VTBR': 19043, 'YNDX': 388383}"
   ]
  },
  {
   "cell_type": "code",
   "execution_count": 4,
   "id": "d09047f8-0986-4f96-83c7-93496f6bd155",
   "metadata": {},
   "outputs": [],
   "source": [
    "def getClose(ticker):\n",
    "    try:\n",
    "        X = getOHLC(tickers[ticker], 1, periods['hour'], start_date, end_date).Close.between_time('10:00', '18:00')\n",
    "        sleep(0.5)\n",
    "        X.name = ticker\n",
    "        return X\n",
    "    except Exception as E:\n",
    "        print(ticker, E)"
   ]
  },
  {
   "cell_type": "code",
   "execution_count": 5,
   "id": "bc3636f6-38aa-46cf-bd2f-6a86fd7d418e",
   "metadata": {},
   "outputs": [
    {
     "data": {
      "application/vnd.jupyter.widget-view+json": {
       "model_id": "7c12037f743a42579c347f5fab1ee9e6",
       "version_major": 2,
       "version_minor": 0
      },
      "text/plain": [
       "  0%|          | 0/49 [00:00<?, ?it/s]"
      ]
     },
     "metadata": {},
     "output_type": "display_data"
    },
    {
     "data": {
      "text/html": [
       "<div>\n",
       "<style scoped>\n",
       "    .dataframe tbody tr th:only-of-type {\n",
       "        vertical-align: middle;\n",
       "    }\n",
       "\n",
       "    .dataframe tbody tr th {\n",
       "        vertical-align: top;\n",
       "    }\n",
       "\n",
       "    .dataframe thead th {\n",
       "        text-align: right;\n",
       "    }\n",
       "</style>\n",
       "<table border=\"1\" class=\"dataframe\">\n",
       "  <thead>\n",
       "    <tr style=\"text-align: right;\">\n",
       "      <th></th>\n",
       "      <th>AFKS</th>\n",
       "      <th>AFLT</th>\n",
       "      <th>AKRN</th>\n",
       "      <th>ALRS</th>\n",
       "      <th>APTK</th>\n",
       "      <th>CBOM</th>\n",
       "      <th>CHMF</th>\n",
       "      <th>DSKY</th>\n",
       "      <th>ENRU</th>\n",
       "      <th>FEES</th>\n",
       "      <th>...</th>\n",
       "      <th>MSRS</th>\n",
       "      <th>SELG</th>\n",
       "      <th>SNGS</th>\n",
       "      <th>TATN</th>\n",
       "      <th>TGKA</th>\n",
       "      <th>TRMK</th>\n",
       "      <th>UPRO</th>\n",
       "      <th>VSMO</th>\n",
       "      <th>VTBR</th>\n",
       "      <th>YNDX</th>\n",
       "    </tr>\n",
       "    <tr>\n",
       "      <th>DT</th>\n",
       "      <th></th>\n",
       "      <th></th>\n",
       "      <th></th>\n",
       "      <th></th>\n",
       "      <th></th>\n",
       "      <th></th>\n",
       "      <th></th>\n",
       "      <th></th>\n",
       "      <th></th>\n",
       "      <th></th>\n",
       "      <th></th>\n",
       "      <th></th>\n",
       "      <th></th>\n",
       "      <th></th>\n",
       "      <th></th>\n",
       "      <th></th>\n",
       "      <th></th>\n",
       "      <th></th>\n",
       "      <th></th>\n",
       "      <th></th>\n",
       "      <th></th>\n",
       "    </tr>\n",
       "  </thead>\n",
       "  <tbody>\n",
       "    <tr>\n",
       "      <th>2022-06-01 10:00:00</th>\n",
       "      <td>13.005</td>\n",
       "      <td>28.14</td>\n",
       "      <td>16742.0</td>\n",
       "      <td>74.35</td>\n",
       "      <td>12.658</td>\n",
       "      <td>5.607</td>\n",
       "      <td>960.6</td>\n",
       "      <td>67.52</td>\n",
       "      <td>0.4476</td>\n",
       "      <td>0.09586</td>\n",
       "      <td>...</td>\n",
       "      <td>0.9040</td>\n",
       "      <td>48.00</td>\n",
       "      <td>22.080</td>\n",
       "      <td>392.4</td>\n",
       "      <td>0.008796</td>\n",
       "      <td>54.26</td>\n",
       "      <td>1.234</td>\n",
       "      <td>58560.0</td>\n",
       "      <td>0.018450</td>\n",
       "      <td>1602.0</td>\n",
       "    </tr>\n",
       "    <tr>\n",
       "      <th>2022-06-01 11:00:00</th>\n",
       "      <td>13.005</td>\n",
       "      <td>28.10</td>\n",
       "      <td>16762.0</td>\n",
       "      <td>74.15</td>\n",
       "      <td>12.688</td>\n",
       "      <td>5.636</td>\n",
       "      <td>962.0</td>\n",
       "      <td>67.56</td>\n",
       "      <td>0.4458</td>\n",
       "      <td>0.09442</td>\n",
       "      <td>...</td>\n",
       "      <td>0.8995</td>\n",
       "      <td>48.15</td>\n",
       "      <td>22.280</td>\n",
       "      <td>394.4</td>\n",
       "      <td>0.008666</td>\n",
       "      <td>54.28</td>\n",
       "      <td>1.240</td>\n",
       "      <td>58860.0</td>\n",
       "      <td>0.018540</td>\n",
       "      <td>1605.0</td>\n",
       "    </tr>\n",
       "    <tr>\n",
       "      <th>2022-06-01 12:00:00</th>\n",
       "      <td>12.936</td>\n",
       "      <td>28.06</td>\n",
       "      <td>16682.0</td>\n",
       "      <td>74.13</td>\n",
       "      <td>12.636</td>\n",
       "      <td>5.642</td>\n",
       "      <td>958.6</td>\n",
       "      <td>67.52</td>\n",
       "      <td>0.4442</td>\n",
       "      <td>0.09428</td>\n",
       "      <td>...</td>\n",
       "      <td>0.8995</td>\n",
       "      <td>48.04</td>\n",
       "      <td>22.200</td>\n",
       "      <td>394.5</td>\n",
       "      <td>0.008648</td>\n",
       "      <td>54.02</td>\n",
       "      <td>1.245</td>\n",
       "      <td>59300.0</td>\n",
       "      <td>0.018415</td>\n",
       "      <td>1597.4</td>\n",
       "    </tr>\n",
       "    <tr>\n",
       "      <th>2022-06-01 13:00:00</th>\n",
       "      <td>13.000</td>\n",
       "      <td>28.10</td>\n",
       "      <td>16642.0</td>\n",
       "      <td>74.44</td>\n",
       "      <td>12.618</td>\n",
       "      <td>5.644</td>\n",
       "      <td>959.0</td>\n",
       "      <td>67.62</td>\n",
       "      <td>0.4464</td>\n",
       "      <td>0.09454</td>\n",
       "      <td>...</td>\n",
       "      <td>0.9000</td>\n",
       "      <td>48.22</td>\n",
       "      <td>22.190</td>\n",
       "      <td>395.7</td>\n",
       "      <td>0.008686</td>\n",
       "      <td>54.02</td>\n",
       "      <td>1.245</td>\n",
       "      <td>59460.0</td>\n",
       "      <td>0.018520</td>\n",
       "      <td>1609.0</td>\n",
       "    </tr>\n",
       "    <tr>\n",
       "      <th>2022-06-01 14:00:00</th>\n",
       "      <td>13.014</td>\n",
       "      <td>28.20</td>\n",
       "      <td>16666.0</td>\n",
       "      <td>74.78</td>\n",
       "      <td>12.572</td>\n",
       "      <td>5.673</td>\n",
       "      <td>960.0</td>\n",
       "      <td>67.62</td>\n",
       "      <td>0.4486</td>\n",
       "      <td>0.09442</td>\n",
       "      <td>...</td>\n",
       "      <td>0.8980</td>\n",
       "      <td>48.22</td>\n",
       "      <td>22.125</td>\n",
       "      <td>396.6</td>\n",
       "      <td>0.008690</td>\n",
       "      <td>54.12</td>\n",
       "      <td>1.246</td>\n",
       "      <td>59160.0</td>\n",
       "      <td>0.018475</td>\n",
       "      <td>1608.8</td>\n",
       "    </tr>\n",
       "    <tr>\n",
       "      <th>...</th>\n",
       "      <td>...</td>\n",
       "      <td>...</td>\n",
       "      <td>...</td>\n",
       "      <td>...</td>\n",
       "      <td>...</td>\n",
       "      <td>...</td>\n",
       "      <td>...</td>\n",
       "      <td>...</td>\n",
       "      <td>...</td>\n",
       "      <td>...</td>\n",
       "      <td>...</td>\n",
       "      <td>...</td>\n",
       "      <td>...</td>\n",
       "      <td>...</td>\n",
       "      <td>...</td>\n",
       "      <td>...</td>\n",
       "      <td>...</td>\n",
       "      <td>...</td>\n",
       "      <td>...</td>\n",
       "      <td>...</td>\n",
       "      <td>...</td>\n",
       "    </tr>\n",
       "    <tr>\n",
       "      <th>2022-07-01 14:00:00</th>\n",
       "      <td>14.990</td>\n",
       "      <td>27.18</td>\n",
       "      <td>18620.0</td>\n",
       "      <td>66.18</td>\n",
       "      <td>12.424</td>\n",
       "      <td>5.049</td>\n",
       "      <td>850.4</td>\n",
       "      <td>67.46</td>\n",
       "      <td>0.4672</td>\n",
       "      <td>0.09100</td>\n",
       "      <td>...</td>\n",
       "      <td>0.8880</td>\n",
       "      <td>40.05</td>\n",
       "      <td>25.810</td>\n",
       "      <td>432.6</td>\n",
       "      <td>0.009310</td>\n",
       "      <td>59.28</td>\n",
       "      <td>1.460</td>\n",
       "      <td>58220.0</td>\n",
       "      <td>0.018095</td>\n",
       "      <td>1602.8</td>\n",
       "    </tr>\n",
       "    <tr>\n",
       "      <th>2022-07-01 15:00:00</th>\n",
       "      <td>14.970</td>\n",
       "      <td>26.94</td>\n",
       "      <td>18718.0</td>\n",
       "      <td>66.58</td>\n",
       "      <td>12.446</td>\n",
       "      <td>5.046</td>\n",
       "      <td>852.6</td>\n",
       "      <td>67.62</td>\n",
       "      <td>0.4680</td>\n",
       "      <td>0.09058</td>\n",
       "      <td>...</td>\n",
       "      <td>0.8835</td>\n",
       "      <td>40.14</td>\n",
       "      <td>25.910</td>\n",
       "      <td>432.6</td>\n",
       "      <td>0.009300</td>\n",
       "      <td>59.96</td>\n",
       "      <td>1.451</td>\n",
       "      <td>58200.0</td>\n",
       "      <td>0.018020</td>\n",
       "      <td>1588.2</td>\n",
       "    </tr>\n",
       "    <tr>\n",
       "      <th>2022-07-01 16:00:00</th>\n",
       "      <td>14.997</td>\n",
       "      <td>27.00</td>\n",
       "      <td>18656.0</td>\n",
       "      <td>66.80</td>\n",
       "      <td>12.392</td>\n",
       "      <td>5.055</td>\n",
       "      <td>857.4</td>\n",
       "      <td>68.00</td>\n",
       "      <td>0.4648</td>\n",
       "      <td>0.09058</td>\n",
       "      <td>...</td>\n",
       "      <td>0.8855</td>\n",
       "      <td>40.28</td>\n",
       "      <td>26.020</td>\n",
       "      <td>435.0</td>\n",
       "      <td>0.009150</td>\n",
       "      <td>59.48</td>\n",
       "      <td>1.455</td>\n",
       "      <td>58380.0</td>\n",
       "      <td>0.018160</td>\n",
       "      <td>1605.2</td>\n",
       "    </tr>\n",
       "    <tr>\n",
       "      <th>2022-07-01 17:00:00</th>\n",
       "      <td>15.083</td>\n",
       "      <td>26.98</td>\n",
       "      <td>18700.0</td>\n",
       "      <td>66.58</td>\n",
       "      <td>12.412</td>\n",
       "      <td>5.042</td>\n",
       "      <td>855.2</td>\n",
       "      <td>68.26</td>\n",
       "      <td>0.4652</td>\n",
       "      <td>0.09338</td>\n",
       "      <td>...</td>\n",
       "      <td>0.8905</td>\n",
       "      <td>39.87</td>\n",
       "      <td>25.990</td>\n",
       "      <td>438.2</td>\n",
       "      <td>0.009126</td>\n",
       "      <td>59.04</td>\n",
       "      <td>1.454</td>\n",
       "      <td>57800.0</td>\n",
       "      <td>0.018010</td>\n",
       "      <td>1597.4</td>\n",
       "    </tr>\n",
       "    <tr>\n",
       "      <th>2022-07-01 18:00:00</th>\n",
       "      <td>14.850</td>\n",
       "      <td>26.74</td>\n",
       "      <td>18660.0</td>\n",
       "      <td>66.24</td>\n",
       "      <td>12.416</td>\n",
       "      <td>5.037</td>\n",
       "      <td>830.0</td>\n",
       "      <td>68.50</td>\n",
       "      <td>0.4630</td>\n",
       "      <td>0.09282</td>\n",
       "      <td>...</td>\n",
       "      <td>0.8855</td>\n",
       "      <td>39.99</td>\n",
       "      <td>25.110</td>\n",
       "      <td>422.1</td>\n",
       "      <td>0.009112</td>\n",
       "      <td>59.64</td>\n",
       "      <td>1.468</td>\n",
       "      <td>57940.0</td>\n",
       "      <td>0.017505</td>\n",
       "      <td>1596.0</td>\n",
       "    </tr>\n",
       "  </tbody>\n",
       "</table>\n",
       "<p>198 rows × 49 columns</p>\n",
       "</div>"
      ],
      "text/plain": [
       "                       AFKS   AFLT     AKRN   ALRS    APTK   CBOM   CHMF  \\\n",
       "DT                                                                         \n",
       "2022-06-01 10:00:00  13.005  28.14  16742.0  74.35  12.658  5.607  960.6   \n",
       "2022-06-01 11:00:00  13.005  28.10  16762.0  74.15  12.688  5.636  962.0   \n",
       "2022-06-01 12:00:00  12.936  28.06  16682.0  74.13  12.636  5.642  958.6   \n",
       "2022-06-01 13:00:00  13.000  28.10  16642.0  74.44  12.618  5.644  959.0   \n",
       "2022-06-01 14:00:00  13.014  28.20  16666.0  74.78  12.572  5.673  960.0   \n",
       "...                     ...    ...      ...    ...     ...    ...    ...   \n",
       "2022-07-01 14:00:00  14.990  27.18  18620.0  66.18  12.424  5.049  850.4   \n",
       "2022-07-01 15:00:00  14.970  26.94  18718.0  66.58  12.446  5.046  852.6   \n",
       "2022-07-01 16:00:00  14.997  27.00  18656.0  66.80  12.392  5.055  857.4   \n",
       "2022-07-01 17:00:00  15.083  26.98  18700.0  66.58  12.412  5.042  855.2   \n",
       "2022-07-01 18:00:00  14.850  26.74  18660.0  66.24  12.416  5.037  830.0   \n",
       "\n",
       "                      DSKY    ENRU     FEES  ...    MSRS   SELG    SNGS  \\\n",
       "DT                                           ...                          \n",
       "2022-06-01 10:00:00  67.52  0.4476  0.09586  ...  0.9040  48.00  22.080   \n",
       "2022-06-01 11:00:00  67.56  0.4458  0.09442  ...  0.8995  48.15  22.280   \n",
       "2022-06-01 12:00:00  67.52  0.4442  0.09428  ...  0.8995  48.04  22.200   \n",
       "2022-06-01 13:00:00  67.62  0.4464  0.09454  ...  0.9000  48.22  22.190   \n",
       "2022-06-01 14:00:00  67.62  0.4486  0.09442  ...  0.8980  48.22  22.125   \n",
       "...                    ...     ...      ...  ...     ...    ...     ...   \n",
       "2022-07-01 14:00:00  67.46  0.4672  0.09100  ...  0.8880  40.05  25.810   \n",
       "2022-07-01 15:00:00  67.62  0.4680  0.09058  ...  0.8835  40.14  25.910   \n",
       "2022-07-01 16:00:00  68.00  0.4648  0.09058  ...  0.8855  40.28  26.020   \n",
       "2022-07-01 17:00:00  68.26  0.4652  0.09338  ...  0.8905  39.87  25.990   \n",
       "2022-07-01 18:00:00  68.50  0.4630  0.09282  ...  0.8855  39.99  25.110   \n",
       "\n",
       "                      TATN      TGKA   TRMK   UPRO     VSMO      VTBR    YNDX  \n",
       "DT                                                                             \n",
       "2022-06-01 10:00:00  392.4  0.008796  54.26  1.234  58560.0  0.018450  1602.0  \n",
       "2022-06-01 11:00:00  394.4  0.008666  54.28  1.240  58860.0  0.018540  1605.0  \n",
       "2022-06-01 12:00:00  394.5  0.008648  54.02  1.245  59300.0  0.018415  1597.4  \n",
       "2022-06-01 13:00:00  395.7  0.008686  54.02  1.245  59460.0  0.018520  1609.0  \n",
       "2022-06-01 14:00:00  396.6  0.008690  54.12  1.246  59160.0  0.018475  1608.8  \n",
       "...                    ...       ...    ...    ...      ...       ...     ...  \n",
       "2022-07-01 14:00:00  432.6  0.009310  59.28  1.460  58220.0  0.018095  1602.8  \n",
       "2022-07-01 15:00:00  432.6  0.009300  59.96  1.451  58200.0  0.018020  1588.2  \n",
       "2022-07-01 16:00:00  435.0  0.009150  59.48  1.455  58380.0  0.018160  1605.2  \n",
       "2022-07-01 17:00:00  438.2  0.009126  59.04  1.454  57800.0  0.018010  1597.4  \n",
       "2022-07-01 18:00:00  422.1  0.009112  59.64  1.468  57940.0  0.017505  1596.0  \n",
       "\n",
       "[198 rows x 49 columns]"
      ]
     },
     "execution_count": 5,
     "metadata": {},
     "output_type": "execute_result"
    }
   ],
   "source": [
    "F = pd.concat(pmap(getClose, tickers, n_jobs=1), axis=1)  # restrict parallel access to the finam\n",
    "F"
   ]
  },
  {
   "cell_type": "code",
   "execution_count": 6,
   "id": "3a8a07e1-2e36-48b4-a13c-59ed7c4f1e7a",
   "metadata": {},
   "outputs": [
    {
     "data": {
      "text/plain": [
       "DT\n",
       "2022-07-01 14:00:00    0.527545\n",
       "2022-07-01 15:00:00    0.519502\n",
       "2022-07-01 16:00:00    0.510688\n",
       "2022-07-01 17:00:00    0.482894\n",
       "2022-07-01 18:00:00    0.423892\n",
       "Name: AFKS, dtype: float64"
      ]
     },
     "execution_count": 6,
     "metadata": {},
     "output_type": "execute_result"
    }
   ],
   "source": [
    "# calculate mean sliding correlation\n",
    "C = F.AFKS.rolling(20).apply(lambda row: F.loc[row.index].corr().mean().mean())\n",
    "C.tail()"
   ]
  },
  {
   "cell_type": "code",
   "execution_count": 7,
   "id": "acb583af-3b3c-4838-8153-3044cf342334",
   "metadata": {
    "tags": []
   },
   "outputs": [
    {
     "data": {
      "text/html": [
       "<div>\n",
       "<style scoped>\n",
       "    .dataframe tbody tr th:only-of-type {\n",
       "        vertical-align: middle;\n",
       "    }\n",
       "\n",
       "    .dataframe tbody tr th {\n",
       "        vertical-align: top;\n",
       "    }\n",
       "\n",
       "    .dataframe thead th {\n",
       "        text-align: right;\n",
       "    }\n",
       "</style>\n",
       "<table border=\"1\" class=\"dataframe\">\n",
       "  <thead>\n",
       "    <tr style=\"text-align: right;\">\n",
       "      <th></th>\n",
       "      <th>Open</th>\n",
       "      <th>High</th>\n",
       "      <th>Low</th>\n",
       "      <th>Close</th>\n",
       "      <th>Volume</th>\n",
       "    </tr>\n",
       "    <tr>\n",
       "      <th>DT</th>\n",
       "      <th></th>\n",
       "      <th></th>\n",
       "      <th></th>\n",
       "      <th></th>\n",
       "      <th></th>\n",
       "    </tr>\n",
       "  </thead>\n",
       "  <tbody>\n",
       "    <tr>\n",
       "      <th>2022-06-01 10:00:00</th>\n",
       "      <td>1201.96</td>\n",
       "      <td>1213.02</td>\n",
       "      <td>1191.28</td>\n",
       "      <td>1208.74</td>\n",
       "      <td>110377267</td>\n",
       "    </tr>\n",
       "    <tr>\n",
       "      <th>2022-06-01 11:00:00</th>\n",
       "      <td>1209.00</td>\n",
       "      <td>1221.99</td>\n",
       "      <td>1209.00</td>\n",
       "      <td>1219.80</td>\n",
       "      <td>54250093</td>\n",
       "    </tr>\n",
       "    <tr>\n",
       "      <th>2022-06-01 12:00:00</th>\n",
       "      <td>1219.83</td>\n",
       "      <td>1222.24</td>\n",
       "      <td>1217.72</td>\n",
       "      <td>1219.68</td>\n",
       "      <td>31255639</td>\n",
       "    </tr>\n",
       "    <tr>\n",
       "      <th>2022-06-01 13:00:00</th>\n",
       "      <td>1219.65</td>\n",
       "      <td>1227.23</td>\n",
       "      <td>1219.64</td>\n",
       "      <td>1225.50</td>\n",
       "      <td>28430144</td>\n",
       "    </tr>\n",
       "    <tr>\n",
       "      <th>2022-06-01 14:00:00</th>\n",
       "      <td>1225.05</td>\n",
       "      <td>1228.49</td>\n",
       "      <td>1220.94</td>\n",
       "      <td>1224.22</td>\n",
       "      <td>37647679</td>\n",
       "    </tr>\n",
       "    <tr>\n",
       "      <th>...</th>\n",
       "      <td>...</td>\n",
       "      <td>...</td>\n",
       "      <td>...</td>\n",
       "      <td>...</td>\n",
       "      <td>...</td>\n",
       "    </tr>\n",
       "    <tr>\n",
       "      <th>2022-07-01 14:00:00</th>\n",
       "      <td>1288.78</td>\n",
       "      <td>1289.66</td>\n",
       "      <td>1282.15</td>\n",
       "      <td>1283.94</td>\n",
       "      <td>57614535</td>\n",
       "    </tr>\n",
       "    <tr>\n",
       "      <th>2022-07-01 15:00:00</th>\n",
       "      <td>1284.07</td>\n",
       "      <td>1287.16</td>\n",
       "      <td>1280.82</td>\n",
       "      <td>1280.82</td>\n",
       "      <td>42501242</td>\n",
       "    </tr>\n",
       "    <tr>\n",
       "      <th>2022-07-01 16:00:00</th>\n",
       "      <td>1280.91</td>\n",
       "      <td>1283.03</td>\n",
       "      <td>1262.21</td>\n",
       "      <td>1263.38</td>\n",
       "      <td>54233010</td>\n",
       "    </tr>\n",
       "    <tr>\n",
       "      <th>2022-07-01 17:00:00</th>\n",
       "      <td>1263.63</td>\n",
       "      <td>1313.36</td>\n",
       "      <td>1260.36</td>\n",
       "      <td>1292.17</td>\n",
       "      <td>89406503</td>\n",
       "    </tr>\n",
       "    <tr>\n",
       "      <th>2022-07-01 18:00:00</th>\n",
       "      <td>1292.39</td>\n",
       "      <td>1299.46</td>\n",
       "      <td>1276.55</td>\n",
       "      <td>1276.55</td>\n",
       "      <td>76004153</td>\n",
       "    </tr>\n",
       "  </tbody>\n",
       "</table>\n",
       "<p>198 rows × 5 columns</p>\n",
       "</div>"
      ],
      "text/plain": [
       "                        Open     High      Low    Close     Volume\n",
       "DT                                                                \n",
       "2022-06-01 10:00:00  1201.96  1213.02  1191.28  1208.74  110377267\n",
       "2022-06-01 11:00:00  1209.00  1221.99  1209.00  1219.80   54250093\n",
       "2022-06-01 12:00:00  1219.83  1222.24  1217.72  1219.68   31255639\n",
       "2022-06-01 13:00:00  1219.65  1227.23  1219.64  1225.50   28430144\n",
       "2022-06-01 14:00:00  1225.05  1228.49  1220.94  1224.22   37647679\n",
       "...                      ...      ...      ...      ...        ...\n",
       "2022-07-01 14:00:00  1288.78  1289.66  1282.15  1283.94   57614535\n",
       "2022-07-01 15:00:00  1284.07  1287.16  1280.82  1280.82   42501242\n",
       "2022-07-01 16:00:00  1280.91  1283.03  1262.21  1263.38   54233010\n",
       "2022-07-01 17:00:00  1263.63  1313.36  1260.36  1292.17   89406503\n",
       "2022-07-01 18:00:00  1292.39  1299.46  1276.55  1276.55   76004153\n",
       "\n",
       "[198 rows x 5 columns]"
      ]
     },
     "execution_count": 7,
     "metadata": {},
     "output_type": "execute_result"
    }
   ],
   "source": [
    "RTS = getOHLC(95, 6, 7, start_date, end_date)\n",
    "RTS"
   ]
  },
  {
   "cell_type": "code",
   "execution_count": 8,
   "id": "b70dff46-70aa-4dd0-9ef9-4fc0bb8d970a",
   "metadata": {},
   "outputs": [
    {
     "data": {
      "application/vnd.jupyter.widget-view+json": {
       "model_id": "0d5b6d5b292e414797d197b2af0a2b80",
       "version_major": 2,
       "version_minor": 0
      },
      "text/plain": [
       "FigureWidgetResampler({\n",
       "    'data': [{'close': array([1208.74, 1219.8 , 1219.68, 1225.5 , 1224.22, 1219.89, 12…"
      ]
     },
     "metadata": {},
     "output_type": "display_data"
    }
   ],
   "source": [
    "chartFigure(rows=2, \n",
    "    RTS=dict(mode='candlestick', open=RTS.Open, high=RTS.High, low=RTS.Low, close=RTS.Close, opacity=0.5),\n",
    "    Correlation=dict(y=C, row=2, connectgaps=True)\n",
    ")"
   ]
  },
  {
   "cell_type": "code",
   "execution_count": null,
   "id": "57821635-b87b-4d54-bf3c-85902e4d373b",
   "metadata": {},
   "outputs": [],
   "source": []
  }
 ],
 "metadata": {
  "kernelspec": {
   "display_name": "Python 3 (ipykernel)",
   "language": "python",
   "name": "python3"
  },
  "language_info": {
   "codemirror_mode": {
    "name": "ipython",
    "version": 3
   },
   "file_extension": ".py",
   "mimetype": "text/x-python",
   "name": "python",
   "nbconvert_exporter": "python",
   "pygments_lexer": "ipython3",
   "version": "3.8.13"
  },
  "widgets": {
   "application/vnd.jupyter.widget-state+json": {
    "state": {
     "0d5b6d5b292e414797d197b2af0a2b80": {
      "buffers": [
       {
        "data": "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",
        "encoding": "base64",
        "path": [
         "_data",
         0,
         "close",
         "value"
        ]
       },
       {
        "data": "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",
        "encoding": "base64",
        "path": [
         "_data",
         0,
         "high",
         "value"
        ]
       },
       {
        "data": "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",
        "encoding": "base64",
        "path": [
         "_data",
         0,
         "low",
         "value"
        ]
       },
       {
        "data": "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",
        "encoding": "base64",
        "path": [
         "_data",
         0,
         "open",
         "value"
        ]
       },
       {
        "data": "elj//5PT1D+hPj7RAVfVP0pH/K+m6NU/O4B+agLh1T/48xHAjivWP2z16kHIcNY/AIiGduHl1T+/zJ3UYIzUP6P5wQvvGNM/xpu7JXx20j+HFcJTTO7SP4l1SKHgT9M/CsEFW/Vu0z+Zs+ZAKTDTP72rFPm4ENI/qmpvgVez0D+SiAyzq5nMPyY9D0gA/s0/h2Zi29cd0D8P0T+R0h7QPxT6DV5lH9I/eKfdAtiJ0j9E7rU49pDSPzL5N0V6bdM/LruCFK0r1D88LYSKYGLUP4SaY0LrT9U/QZcPFrt+1j+ymK5DmIfWPy/21Ju+XNY/sr76BFFO1j9Yrq97OVvWP2wp9FS3ntY/DC3kQ47q1j83ZZqqwE/XP6zCWUEjQ9c/UssrfaiJ1z/dlqCd123WP7QKi1jAitM/LFMJVEWo0j8IiYE+bX/QP2tHTeYm/c8/YwMQCqabzz8HHqRPuUTPPyyPrBhFFs4/qOU6/wJwzT/Z4FbRfn7MPwMyy+q9W8o/oyoCbjWmxz9yykuojifGPxnmwu7qJ8U/6eoi4Q9mxD9F97TDrKDBP3lWf46zprk/93MDzmHupD8SvU61kx6lPz+9wjq2V6Q/WHK8r5JypD/o4/48i6alP/3U+ssS66Y/uyukt2Oapz8UFf4QPNunP+yRC6z1Vas/6I7+UaDcsz9lVjIu2BS5P9pZDuBemro/2euWrKspvj+YHPGoYd7APwgsCmoDQMQ/1bol26iNxj+3+ZLNLMvIP5UtWUwq/tI/xNHUfvNx2T8F3n1o7yzcPwO3u7N9n94/GxtysG9b4D8ypz4T3ufhP3AgpcLNpOI/NcANdEd64j9G9U2xF53iP6iV+AJoNOE/41lUJRSl4D+/vVAXROnePw4nBHeIdN0/BV58jBjx2z8b6LNbPabZPxjAs4/Vodg/vwKSx1Og1j+W0bAipy7UP/aFRMSofNA/Crl3QVGjxT9RoSRei63HP3wT8+5O3M0/iJ/ex9XQ0T/PkoDUJDfTPypfMrgowdQ/W+pxqGL21j+yH1YjCVTYP2u/1FOe0dg/bo1e16sT2j9Zbrg3D23ZP6vqOorGZdg/NiK09TSS1z/qtLzpnqbWPyEgTvg8eNU/0uLKzaWl0z/J8lJ6LkDSPyTsg8oRN9E/Gy12qFps0T8mLAuuUTzRP2tLD2yaCdE/ustgm70V0T/1sYaG7lTRPx0H36SUTNE/sdkERYpU0T/sRXQvWevQP3tqAD3mQdA/9lmQq8FMzT/5VieJT9TNP1W/zk4A18w/lWZ4XG01yj95AtaEcMnIPzStRCawOsg/ngdJzvCJxz8yR+wHyT/IPzaONCMwn8c/iuh0FndTyz9QLg0rLmvMP2foR7rEpsY/Jgl60NQSwD/K5QemApq0P4caojG3mLM/2L0qF6v/sj+Iod9uGkyrP/m206ugLK0/boj7mPiYsD8mGLZYd0+2PwUP0uw/0ro/b/YseaYyvT+fLK+UO2q/P44yM2hGnMA/UhrMPgdowT8D11t/YjHCP0W25g3d5cE/NqPhF+p6wT+YzEFuHtC/P0fQ41gqOL8/e5MoO6N+wD/sEaxG6k/AP41q5gFmVr4/5yCkW+gmuD/bJSAZeYW1P2zmoQvDC7Y/2zWlxHzfuD/ohm5kSaK9PxRJL3nlEsA/s3yQKiaKwT8F252Kt6zBPysQEi6qTcI/gzyQZnt4wj/t1gvGoiTCP2iWYJ6totc/J9j+OfFe4D83c0fDf2rhP4tBbzTCwuE/i9bu6V284T/Q2W/qxfvhP+Q2SITmi+I/ASBGqPlz4j+9CtAoN5jiPx9t8H0V8uE/bnU1zkc+4T8mjWgOdxThP2tZduSz7+A/9eUVzqXh4D8aQG9Xw5/gPxDdm1ePV+A/IQMhfrzn3j/0lRIpDSHbPw==",
        "encoding": "base64",
        "path": [
         "_data",
         1,
         "y",
         "value"
        ]
       }
      ],
      "model_module": "jupyterlab-plotly",
      "model_module_version": "^5.6.0",
      "model_name": "FigureModel",
      "state": {
       "_config": {
        "plotlyServerURL": "https://plot.ly"
       },
       "_data": [
        {
         "close": {
          "dtype": "float64",
          "shape": [
           198
          ]
         },
         "high": {
          "dtype": "float64",
          "shape": [
           198
          ]
         },
         "low": {
          "dtype": "float64",
          "shape": [
           198
          ]
         },
         "name": "RTS",
         "opacity": 0.5,
         "open": {
          "dtype": "float64",
          "shape": [
           198
          ]
         },
         "type": "candlestick",
         "uid": "55b8cabd-72a0-4c57-bf51-70c56c0abf78",
         "x": [
          0,
          1,
          2,
          3,
          4,
          5,
          6,
          7,
          8,
          9,
          10,
          11,
          12,
          13,
          14,
          15,
          16,
          17,
          18,
          19,
          20,
          21,
          22,
          23,
          24,
          25,
          26,
          27,
          28,
          29,
          30,
          31,
          32,
          33,
          34,
          35,
          36,
          37,
          38,
          39,
          40,
          41,
          42,
          43,
          44,
          45,
          46,
          47,
          48,
          49,
          50,
          51,
          52,
          53,
          54,
          55,
          56,
          57,
          58,
          59,
          60,
          61,
          62,
          63,
          64,
          65,
          66,
          67,
          68,
          69,
          70,
          71,
          72,
          73,
          74,
          75,
          76,
          77,
          78,
          79,
          80,
          81,
          82,
          83,
          84,
          85,
          86,
          87,
          88,
          89,
          90,
          91,
          92,
          93,
          94,
          95,
          96,
          97,
          98,
          99,
          100,
          101,
          102,
          103,
          104,
          105,
          106,
          107,
          108,
          109,
          110,
          111,
          112,
          113,
          114,
          115,
          116,
          117,
          118,
          119,
          120,
          121,
          122,
          123,
          124,
          125,
          126,
          127,
          128,
          129,
          130,
          131,
          132,
          133,
          134,
          135,
          136,
          137,
          138,
          139,
          140,
          141,
          142,
          143,
          144,
          145,
          146,
          147,
          148,
          149,
          150,
          151,
          152,
          153,
          154,
          155,
          156,
          157,
          158,
          159,
          160,
          161,
          162,
          163,
          164,
          165,
          166,
          167,
          168,
          169,
          170,
          171,
          172,
          173,
          174,
          175,
          176,
          177,
          178,
          179,
          180,
          181,
          182,
          183,
          184,
          185,
          186,
          187,
          188,
          189,
          190,
          191,
          192,
          193,
          194,
          195,
          196,
          197
         ],
         "xaxis": "x2"
        },
        {
         "connectgaps": true,
         "name": "Correlation",
         "type": "scattergl",
         "uid": "7b8f344e-2a1b-4c15-84bd-c7a44d5a8f54",
         "x": [
          19,
          20,
          21,
          22,
          23,
          24,
          25,
          26,
          27,
          28,
          29,
          30,
          31,
          32,
          33,
          34,
          35,
          36,
          37,
          38,
          39,
          40,
          41,
          42,
          43,
          44,
          45,
          46,
          47,
          48,
          49,
          50,
          51,
          52,
          53,
          54,
          55,
          56,
          57,
          58,
          59,
          60,
          61,
          62,
          63,
          64,
          65,
          66,
          67,
          68,
          69,
          70,
          71,
          72,
          73,
          74,
          75,
          76,
          77,
          78,
          79,
          80,
          81,
          82,
          83,
          84,
          85,
          86,
          87,
          88,
          89,
          90,
          91,
          92,
          93,
          94,
          95,
          96,
          97,
          98,
          99,
          100,
          101,
          102,
          103,
          104,
          105,
          106,
          107,
          108,
          109,
          110,
          111,
          112,
          113,
          114,
          115,
          116,
          117,
          118,
          119,
          120,
          121,
          122,
          123,
          124,
          125,
          126,
          127,
          128,
          129,
          130,
          131,
          132,
          133,
          134,
          135,
          136,
          137,
          138,
          139,
          140,
          141,
          142,
          143,
          144,
          145,
          146,
          147,
          148,
          149,
          150,
          151,
          152,
          153,
          154,
          155,
          156,
          157,
          158,
          159,
          160,
          161,
          162,
          163,
          164,
          165,
          166,
          167,
          168,
          169,
          170,
          171,
          172,
          173,
          174,
          175,
          176,
          177,
          178,
          179,
          180,
          181,
          182,
          183,
          184,
          185,
          186,
          187,
          188,
          189,
          190,
          191,
          192,
          193,
          194,
          195,
          196,
          197
         ],
         "xaxis": "x2",
         "y": {
          "dtype": "float64",
          "shape": [
           179
          ]
         },
         "yaxis": "y3"
        }
       ],
       "_js2py_relayout": {},
       "_js2py_restyle": {},
       "_js2py_update": {},
       "_last_layout_edit_id": 10,
       "_last_trace_edit_id": 10,
       "_layout": {
        "autosize": true,
        "height": 700,
        "legend": {
         "orientation": "h",
         "x": 0.1,
         "y": 1
        },
        "margin": {
         "b": 10,
         "l": 45,
         "pad": 3,
         "r": 15,
         "t": 30
        },
        "template": {
         "data": {
          "bar": [
           {
            "error_x": {
             "color": "#2a3f5f"
            },
            "error_y": {
             "color": "#2a3f5f"
            },
            "marker": {
             "line": {
              "color": "white",
              "width": 0.5
             },
             "pattern": {
              "fillmode": "overlay",
              "size": 10,
              "solidity": 0.2
             }
            },
            "type": "bar"
           }
          ],
          "barpolar": [
           {
            "marker": {
             "line": {
              "color": "white",
              "width": 0.5
             },
             "pattern": {
              "fillmode": "overlay",
              "size": 10,
              "solidity": 0.2
             }
            },
            "type": "barpolar"
           }
          ],
          "carpet": [
           {
            "aaxis": {
             "endlinecolor": "#2a3f5f",
             "gridcolor": "#C8D4E3",
             "linecolor": "#C8D4E3",
             "minorgridcolor": "#C8D4E3",
             "startlinecolor": "#2a3f5f"
            },
            "baxis": {
             "endlinecolor": "#2a3f5f",
             "gridcolor": "#C8D4E3",
             "linecolor": "#C8D4E3",
             "minorgridcolor": "#C8D4E3",
             "startlinecolor": "#2a3f5f"
            },
            "type": "carpet"
           }
          ],
          "choropleth": [
           {
            "colorbar": {
             "outlinewidth": 0,
             "ticks": ""
            },
            "type": "choropleth"
           }
          ],
          "contour": [
           {
            "colorbar": {
             "outlinewidth": 0,
             "ticks": ""
            },
            "colorscale": [
             [
              0,
              "#0d0887"
             ],
             [
              0.1111111111111111,
              "#46039f"
             ],
             [
              0.2222222222222222,
              "#7201a8"
             ],
             [
              0.3333333333333333,
              "#9c179e"
             ],
             [
              0.4444444444444444,
              "#bd3786"
             ],
             [
              0.5555555555555556,
              "#d8576b"
             ],
             [
              0.6666666666666666,
              "#ed7953"
             ],
             [
              0.7777777777777778,
              "#fb9f3a"
             ],
             [
              0.8888888888888888,
              "#fdca26"
             ],
             [
              1,
              "#f0f921"
             ]
            ],
            "type": "contour"
           }
          ],
          "contourcarpet": [
           {
            "colorbar": {
             "outlinewidth": 0,
             "ticks": ""
            },
            "type": "contourcarpet"
           }
          ],
          "heatmap": [
           {
            "colorbar": {
             "outlinewidth": 0,
             "ticks": ""
            },
            "colorscale": [
             [
              0,
              "#0d0887"
             ],
             [
              0.1111111111111111,
              "#46039f"
             ],
             [
              0.2222222222222222,
              "#7201a8"
             ],
             [
              0.3333333333333333,
              "#9c179e"
             ],
             [
              0.4444444444444444,
              "#bd3786"
             ],
             [
              0.5555555555555556,
              "#d8576b"
             ],
             [
              0.6666666666666666,
              "#ed7953"
             ],
             [
              0.7777777777777778,
              "#fb9f3a"
             ],
             [
              0.8888888888888888,
              "#fdca26"
             ],
             [
              1,
              "#f0f921"
             ]
            ],
            "type": "heatmap"
           }
          ],
          "heatmapgl": [
           {
            "colorbar": {
             "outlinewidth": 0,
             "ticks": ""
            },
            "colorscale": [
             [
              0,
              "#0d0887"
             ],
             [
              0.1111111111111111,
              "#46039f"
             ],
             [
              0.2222222222222222,
              "#7201a8"
             ],
             [
              0.3333333333333333,
              "#9c179e"
             ],
             [
              0.4444444444444444,
              "#bd3786"
             ],
             [
              0.5555555555555556,
              "#d8576b"
             ],
             [
              0.6666666666666666,
              "#ed7953"
             ],
             [
              0.7777777777777778,
              "#fb9f3a"
             ],
             [
              0.8888888888888888,
              "#fdca26"
             ],
             [
              1,
              "#f0f921"
             ]
            ],
            "type": "heatmapgl"
           }
          ],
          "histogram": [
           {
            "marker": {
             "pattern": {
              "fillmode": "overlay",
              "size": 10,
              "solidity": 0.2
             }
            },
            "type": "histogram"
           }
          ],
          "histogram2d": [
           {
            "colorbar": {
             "outlinewidth": 0,
             "ticks": ""
            },
            "colorscale": [
             [
              0,
              "#0d0887"
             ],
             [
              0.1111111111111111,
              "#46039f"
             ],
             [
              0.2222222222222222,
              "#7201a8"
             ],
             [
              0.3333333333333333,
              "#9c179e"
             ],
             [
              0.4444444444444444,
              "#bd3786"
             ],
             [
              0.5555555555555556,
              "#d8576b"
             ],
             [
              0.6666666666666666,
              "#ed7953"
             ],
             [
              0.7777777777777778,
              "#fb9f3a"
             ],
             [
              0.8888888888888888,
              "#fdca26"
             ],
             [
              1,
              "#f0f921"
             ]
            ],
            "type": "histogram2d"
           }
          ],
          "histogram2dcontour": [
           {
            "colorbar": {
             "outlinewidth": 0,
             "ticks": ""
            },
            "colorscale": [
             [
              0,
              "#0d0887"
             ],
             [
              0.1111111111111111,
              "#46039f"
             ],
             [
              0.2222222222222222,
              "#7201a8"
             ],
             [
              0.3333333333333333,
              "#9c179e"
             ],
             [
              0.4444444444444444,
              "#bd3786"
             ],
             [
              0.5555555555555556,
              "#d8576b"
             ],
             [
              0.6666666666666666,
              "#ed7953"
             ],
             [
              0.7777777777777778,
              "#fb9f3a"
             ],
             [
              0.8888888888888888,
              "#fdca26"
             ],
             [
              1,
              "#f0f921"
             ]
            ],
            "type": "histogram2dcontour"
           }
          ],
          "mesh3d": [
           {
            "colorbar": {
             "outlinewidth": 0,
             "ticks": ""
            },
            "type": "mesh3d"
           }
          ],
          "parcoords": [
           {
            "line": {
             "colorbar": {
              "outlinewidth": 0,
              "ticks": ""
             }
            },
            "type": "parcoords"
           }
          ],
          "pie": [
           {
            "automargin": true,
            "type": "pie"
           }
          ],
          "scatter": [
           {
            "marker": {
             "colorbar": {
              "outlinewidth": 0,
              "ticks": ""
             }
            },
            "type": "scatter"
           }
          ],
          "scatter3d": [
           {
            "line": {
             "colorbar": {
              "outlinewidth": 0,
              "ticks": ""
             }
            },
            "marker": {
             "colorbar": {
              "outlinewidth": 0,
              "ticks": ""
             }
            },
            "type": "scatter3d"
           }
          ],
          "scattercarpet": [
           {
            "marker": {
             "colorbar": {
              "outlinewidth": 0,
              "ticks": ""
             }
            },
            "type": "scattercarpet"
           }
          ],
          "scattergeo": [
           {
            "marker": {
             "colorbar": {
              "outlinewidth": 0,
              "ticks": ""
             }
            },
            "type": "scattergeo"
           }
          ],
          "scattergl": [
           {
            "marker": {
             "colorbar": {
              "outlinewidth": 0,
              "ticks": ""
             }
            },
            "type": "scattergl"
           }
          ],
          "scattermapbox": [
           {
            "marker": {
             "colorbar": {
              "outlinewidth": 0,
              "ticks": ""
             }
            },
            "type": "scattermapbox"
           }
          ],
          "scatterpolar": [
           {
            "marker": {
             "colorbar": {
              "outlinewidth": 0,
              "ticks": ""
             }
            },
            "type": "scatterpolar"
           }
          ],
          "scatterpolargl": [
           {
            "marker": {
             "colorbar": {
              "outlinewidth": 0,
              "ticks": ""
             }
            },
            "type": "scatterpolargl"
           }
          ],
          "scatterternary": [
           {
            "marker": {
             "colorbar": {
              "outlinewidth": 0,
              "ticks": ""
             }
            },
            "type": "scatterternary"
           }
          ],
          "surface": [
           {
            "colorbar": {
             "outlinewidth": 0,
             "ticks": ""
            },
            "colorscale": [
             [
              0,
              "#0d0887"
             ],
             [
              0.1111111111111111,
              "#46039f"
             ],
             [
              0.2222222222222222,
              "#7201a8"
             ],
             [
              0.3333333333333333,
              "#9c179e"
             ],
             [
              0.4444444444444444,
              "#bd3786"
             ],
             [
              0.5555555555555556,
              "#d8576b"
             ],
             [
              0.6666666666666666,
              "#ed7953"
             ],
             [
              0.7777777777777778,
              "#fb9f3a"
             ],
             [
              0.8888888888888888,
              "#fdca26"
             ],
             [
              1,
              "#f0f921"
             ]
            ],
            "type": "surface"
           }
          ],
          "table": [
           {
            "cells": {
             "fill": {
              "color": "#EBF0F8"
             },
             "line": {
              "color": "white"
             }
            },
            "header": {
             "fill": {
              "color": "#C8D4E3"
             },
             "line": {
              "color": "white"
             }
            },
            "type": "table"
           }
          ]
         },
         "layout": {
          "annotationdefaults": {
           "arrowcolor": "#2a3f5f",
           "arrowhead": 0,
           "arrowwidth": 1
          },
          "autotypenumbers": "strict",
          "coloraxis": {
           "colorbar": {
            "outlinewidth": 0,
            "ticks": ""
           }
          },
          "colorscale": {
           "diverging": [
            [
             0,
             "#8e0152"
            ],
            [
             0.1,
             "#c51b7d"
            ],
            [
             0.2,
             "#de77ae"
            ],
            [
             0.3,
             "#f1b6da"
            ],
            [
             0.4,
             "#fde0ef"
            ],
            [
             0.5,
             "#f7f7f7"
            ],
            [
             0.6,
             "#e6f5d0"
            ],
            [
             0.7,
             "#b8e186"
            ],
            [
             0.8,
             "#7fbc41"
            ],
            [
             0.9,
             "#4d9221"
            ],
            [
             1,
             "#276419"
            ]
           ],
           "sequential": [
            [
             0,
             "#0d0887"
            ],
            [
             0.1111111111111111,
             "#46039f"
            ],
            [
             0.2222222222222222,
             "#7201a8"
            ],
            [
             0.3333333333333333,
             "#9c179e"
            ],
            [
             0.4444444444444444,
             "#bd3786"
            ],
            [
             0.5555555555555556,
             "#d8576b"
            ],
            [
             0.6666666666666666,
             "#ed7953"
            ],
            [
             0.7777777777777778,
             "#fb9f3a"
            ],
            [
             0.8888888888888888,
             "#fdca26"
            ],
            [
             1,
             "#f0f921"
            ]
           ],
           "sequentialminus": [
            [
             0,
             "#0d0887"
            ],
            [
             0.1111111111111111,
             "#46039f"
            ],
            [
             0.2222222222222222,
             "#7201a8"
            ],
            [
             0.3333333333333333,
             "#9c179e"
            ],
            [
             0.4444444444444444,
             "#bd3786"
            ],
            [
             0.5555555555555556,
             "#d8576b"
            ],
            [
             0.6666666666666666,
             "#ed7953"
            ],
            [
             0.7777777777777778,
             "#fb9f3a"
            ],
            [
             0.8888888888888888,
             "#fdca26"
            ],
            [
             1,
             "#f0f921"
            ]
           ]
          },
          "colorway": [
           "#636efa",
           "#EF553B",
           "#00cc96",
           "#ab63fa",
           "#FFA15A",
           "#19d3f3",
           "#FF6692",
           "#B6E880",
           "#FF97FF",
           "#FECB52"
          ],
          "font": {
           "color": "#2a3f5f"
          },
          "geo": {
           "bgcolor": "white",
           "lakecolor": "white",
           "landcolor": "white",
           "showlakes": true,
           "showland": true,
           "subunitcolor": "#C8D4E3"
          },
          "hoverlabel": {
           "align": "left"
          },
          "hovermode": "closest",
          "mapbox": {
           "style": "light"
          },
          "paper_bgcolor": "white",
          "plot_bgcolor": "white",
          "polar": {
           "angularaxis": {
            "gridcolor": "#EBF0F8",
            "linecolor": "#EBF0F8",
            "ticks": ""
           },
           "bgcolor": "white",
           "radialaxis": {
            "gridcolor": "#EBF0F8",
            "linecolor": "#EBF0F8",
            "ticks": ""
           }
          },
          "scene": {
           "xaxis": {
            "backgroundcolor": "white",
            "gridcolor": "#DFE8F3",
            "gridwidth": 2,
            "linecolor": "#EBF0F8",
            "showbackground": true,
            "ticks": "",
            "zerolinecolor": "#EBF0F8"
           },
           "yaxis": {
            "backgroundcolor": "white",
            "gridcolor": "#DFE8F3",
            "gridwidth": 2,
            "linecolor": "#EBF0F8",
            "showbackground": true,
            "ticks": "",
            "zerolinecolor": "#EBF0F8"
           },
           "zaxis": {
            "backgroundcolor": "white",
            "gridcolor": "#DFE8F3",
            "gridwidth": 2,
            "linecolor": "#EBF0F8",
            "showbackground": true,
            "ticks": "",
            "zerolinecolor": "#EBF0F8"
           }
          },
          "shapedefaults": {
           "line": {
            "color": "#2a3f5f"
           }
          },
          "ternary": {
           "aaxis": {
            "gridcolor": "#DFE8F3",
            "linecolor": "#A2B1C6",
            "ticks": ""
           },
           "baxis": {
            "gridcolor": "#DFE8F3",
            "linecolor": "#A2B1C6",
            "ticks": ""
           },
           "bgcolor": "white",
           "caxis": {
            "gridcolor": "#DFE8F3",
            "linecolor": "#A2B1C6",
            "ticks": ""
           }
          },
          "title": {
           "x": 0.05
          },
          "xaxis": {
           "automargin": true,
           "gridcolor": "#EBF0F8",
           "linecolor": "#EBF0F8",
           "ticks": "",
           "title": {
            "standoff": 15
           },
           "zerolinecolor": "#EBF0F8",
           "zerolinewidth": 2
          },
          "yaxis": {
           "automargin": true,
           "gridcolor": "#EBF0F8",
           "linecolor": "#EBF0F8",
           "ticks": "",
           "title": {
            "standoff": 15
           },
           "zerolinecolor": "#EBF0F8",
           "zerolinewidth": 2
          }
         }
        },
        "xaxis": {
         "anchor": "y",
         "autorange": true,
         "domain": [
          0,
          0.94
         ],
         "matches": "x2",
         "rangeslider": {
          "visible": false
         },
         "showticklabels": false,
         "spikedash": "dot",
         "spikemode": "across+marker",
         "spikesnap": "cursor",
         "spikethickness": 2
        },
        "xaxis2": {
         "anchor": "y3",
         "autorange": true,
         "domain": [
          0,
          0.94
         ],
         "rangeslider": {
          "visible": false
         },
         "spikedash": "dot",
         "spikemode": "across+marker",
         "spikesnap": "cursor",
         "spikethickness": 2
        },
        "yaxis": {
         "anchor": "x",
         "autorange": true,
         "domain": [
          0.32100000000000006,
          1
         ]
        },
        "yaxis2": {
         "anchor": "x",
         "autorange": true,
         "overlaying": "y",
         "side": "right"
        },
        "yaxis3": {
         "anchor": "x2",
         "autorange": true,
         "domain": [
          0,
          0.29100000000000004
         ]
        },
        "yaxis4": {
         "anchor": "x2",
         "autorange": true,
         "overlaying": "y3",
         "side": "right"
        }
       },
       "_py2js_animate": {},
       "_py2js_deleteTraces": {},
       "_py2js_moveTraces": {},
       "_py2js_relayout": {},
       "_py2js_removeLayoutProps": {},
       "_py2js_removeTraceProps": {},
       "_py2js_restyle": {},
       "_view_count": 1
      }
     },
     "12f44b5e921f4e56a5675e0c0cad2a82": {
      "model_module": "@jupyter-widgets/base",
      "model_module_version": "1.2.0",
      "model_name": "LayoutModel",
      "state": {}
     },
     "2c353caff23b4796a8b282b28e7e68b8": {
      "model_module": "jupyterlab-plotly",
      "model_module_version": "^5.6.0",
      "model_name": "FigureModel",
      "state": {
       "_config": {
        "plotlyServerURL": "https://plot.ly"
       },
       "_js2py_layoutDelta": {},
       "_js2py_pointsCallback": {},
       "_js2py_relayout": {},
       "_js2py_restyle": {},
       "_js2py_traceDeltas": {},
       "_js2py_update": {},
       "_layout": {
        "template": {
         "data": {
          "bar": [
           {
            "error_x": {
             "color": "#2a3f5f"
            },
            "error_y": {
             "color": "#2a3f5f"
            },
            "marker": {
             "line": {
              "color": "#E5ECF6",
              "width": 0.5
             },
             "pattern": {
              "fillmode": "overlay",
              "size": 10,
              "solidity": 0.2
             }
            },
            "type": "bar"
           }
          ],
          "barpolar": [
           {
            "marker": {
             "line": {
              "color": "#E5ECF6",
              "width": 0.5
             },
             "pattern": {
              "fillmode": "overlay",
              "size": 10,
              "solidity": 0.2
             }
            },
            "type": "barpolar"
           }
          ],
          "carpet": [
           {
            "aaxis": {
             "endlinecolor": "#2a3f5f",
             "gridcolor": "white",
             "linecolor": "white",
             "minorgridcolor": "white",
             "startlinecolor": "#2a3f5f"
            },
            "baxis": {
             "endlinecolor": "#2a3f5f",
             "gridcolor": "white",
             "linecolor": "white",
             "minorgridcolor": "white",
             "startlinecolor": "#2a3f5f"
            },
            "type": "carpet"
           }
          ],
          "choropleth": [
           {
            "colorbar": {
             "outlinewidth": 0,
             "ticks": ""
            },
            "type": "choropleth"
           }
          ],
          "contour": [
           {
            "colorbar": {
             "outlinewidth": 0,
             "ticks": ""
            },
            "colorscale": [
             [
              0,
              "#0d0887"
             ],
             [
              0.1111111111111111,
              "#46039f"
             ],
             [
              0.2222222222222222,
              "#7201a8"
             ],
             [
              0.3333333333333333,
              "#9c179e"
             ],
             [
              0.4444444444444444,
              "#bd3786"
             ],
             [
              0.5555555555555556,
              "#d8576b"
             ],
             [
              0.6666666666666666,
              "#ed7953"
             ],
             [
              0.7777777777777778,
              "#fb9f3a"
             ],
             [
              0.8888888888888888,
              "#fdca26"
             ],
             [
              1,
              "#f0f921"
             ]
            ],
            "type": "contour"
           }
          ],
          "contourcarpet": [
           {
            "colorbar": {
             "outlinewidth": 0,
             "ticks": ""
            },
            "type": "contourcarpet"
           }
          ],
          "heatmap": [
           {
            "colorbar": {
             "outlinewidth": 0,
             "ticks": ""
            },
            "colorscale": [
             [
              0,
              "#0d0887"
             ],
             [
              0.1111111111111111,
              "#46039f"
             ],
             [
              0.2222222222222222,
              "#7201a8"
             ],
             [
              0.3333333333333333,
              "#9c179e"
             ],
             [
              0.4444444444444444,
              "#bd3786"
             ],
             [
              0.5555555555555556,
              "#d8576b"
             ],
             [
              0.6666666666666666,
              "#ed7953"
             ],
             [
              0.7777777777777778,
              "#fb9f3a"
             ],
             [
              0.8888888888888888,
              "#fdca26"
             ],
             [
              1,
              "#f0f921"
             ]
            ],
            "type": "heatmap"
           }
          ],
          "heatmapgl": [
           {
            "colorbar": {
             "outlinewidth": 0,
             "ticks": ""
            },
            "colorscale": [
             [
              0,
              "#0d0887"
             ],
             [
              0.1111111111111111,
              "#46039f"
             ],
             [
              0.2222222222222222,
              "#7201a8"
             ],
             [
              0.3333333333333333,
              "#9c179e"
             ],
             [
              0.4444444444444444,
              "#bd3786"
             ],
             [
              0.5555555555555556,
              "#d8576b"
             ],
             [
              0.6666666666666666,
              "#ed7953"
             ],
             [
              0.7777777777777778,
              "#fb9f3a"
             ],
             [
              0.8888888888888888,
              "#fdca26"
             ],
             [
              1,
              "#f0f921"
             ]
            ],
            "type": "heatmapgl"
           }
          ],
          "histogram": [
           {
            "marker": {
             "pattern": {
              "fillmode": "overlay",
              "size": 10,
              "solidity": 0.2
             }
            },
            "type": "histogram"
           }
          ],
          "histogram2d": [
           {
            "colorbar": {
             "outlinewidth": 0,
             "ticks": ""
            },
            "colorscale": [
             [
              0,
              "#0d0887"
             ],
             [
              0.1111111111111111,
              "#46039f"
             ],
             [
              0.2222222222222222,
              "#7201a8"
             ],
             [
              0.3333333333333333,
              "#9c179e"
             ],
             [
              0.4444444444444444,
              "#bd3786"
             ],
             [
              0.5555555555555556,
              "#d8576b"
             ],
             [
              0.6666666666666666,
              "#ed7953"
             ],
             [
              0.7777777777777778,
              "#fb9f3a"
             ],
             [
              0.8888888888888888,
              "#fdca26"
             ],
             [
              1,
              "#f0f921"
             ]
            ],
            "type": "histogram2d"
           }
          ],
          "histogram2dcontour": [
           {
            "colorbar": {
             "outlinewidth": 0,
             "ticks": ""
            },
            "colorscale": [
             [
              0,
              "#0d0887"
             ],
             [
              0.1111111111111111,
              "#46039f"
             ],
             [
              0.2222222222222222,
              "#7201a8"
             ],
             [
              0.3333333333333333,
              "#9c179e"
             ],
             [
              0.4444444444444444,
              "#bd3786"
             ],
             [
              0.5555555555555556,
              "#d8576b"
             ],
             [
              0.6666666666666666,
              "#ed7953"
             ],
             [
              0.7777777777777778,
              "#fb9f3a"
             ],
             [
              0.8888888888888888,
              "#fdca26"
             ],
             [
              1,
              "#f0f921"
             ]
            ],
            "type": "histogram2dcontour"
           }
          ],
          "mesh3d": [
           {
            "colorbar": {
             "outlinewidth": 0,
             "ticks": ""
            },
            "type": "mesh3d"
           }
          ],
          "parcoords": [
           {
            "line": {
             "colorbar": {
              "outlinewidth": 0,
              "ticks": ""
             }
            },
            "type": "parcoords"
           }
          ],
          "pie": [
           {
            "automargin": true,
            "type": "pie"
           }
          ],
          "scatter": [
           {
            "marker": {
             "colorbar": {
              "outlinewidth": 0,
              "ticks": ""
             }
            },
            "type": "scatter"
           }
          ],
          "scatter3d": [
           {
            "line": {
             "colorbar": {
              "outlinewidth": 0,
              "ticks": ""
             }
            },
            "marker": {
             "colorbar": {
              "outlinewidth": 0,
              "ticks": ""
             }
            },
            "type": "scatter3d"
           }
          ],
          "scattercarpet": [
           {
            "marker": {
             "colorbar": {
              "outlinewidth": 0,
              "ticks": ""
             }
            },
            "type": "scattercarpet"
           }
          ],
          "scattergeo": [
           {
            "marker": {
             "colorbar": {
              "outlinewidth": 0,
              "ticks": ""
             }
            },
            "type": "scattergeo"
           }
          ],
          "scattergl": [
           {
            "marker": {
             "colorbar": {
              "outlinewidth": 0,
              "ticks": ""
             }
            },
            "type": "scattergl"
           }
          ],
          "scattermapbox": [
           {
            "marker": {
             "colorbar": {
              "outlinewidth": 0,
              "ticks": ""
             }
            },
            "type": "scattermapbox"
           }
          ],
          "scatterpolar": [
           {
            "marker": {
             "colorbar": {
              "outlinewidth": 0,
              "ticks": ""
             }
            },
            "type": "scatterpolar"
           }
          ],
          "scatterpolargl": [
           {
            "marker": {
             "colorbar": {
              "outlinewidth": 0,
              "ticks": ""
             }
            },
            "type": "scatterpolargl"
           }
          ],
          "scatterternary": [
           {
            "marker": {
             "colorbar": {
              "outlinewidth": 0,
              "ticks": ""
             }
            },
            "type": "scatterternary"
           }
          ],
          "surface": [
           {
            "colorbar": {
             "outlinewidth": 0,
             "ticks": ""
            },
            "colorscale": [
             [
              0,
              "#0d0887"
             ],
             [
              0.1111111111111111,
              "#46039f"
             ],
             [
              0.2222222222222222,
              "#7201a8"
             ],
             [
              0.3333333333333333,
              "#9c179e"
             ],
             [
              0.4444444444444444,
              "#bd3786"
             ],
             [
              0.5555555555555556,
              "#d8576b"
             ],
             [
              0.6666666666666666,
              "#ed7953"
             ],
             [
              0.7777777777777778,
              "#fb9f3a"
             ],
             [
              0.8888888888888888,
              "#fdca26"
             ],
             [
              1,
              "#f0f921"
             ]
            ],
            "type": "surface"
           }
          ],
          "table": [
           {
            "cells": {
             "fill": {
              "color": "#EBF0F8"
             },
             "line": {
              "color": "white"
             }
            },
            "header": {
             "fill": {
              "color": "#C8D4E3"
             },
             "line": {
              "color": "white"
             }
            },
            "type": "table"
           }
          ]
         },
         "layout": {
          "annotationdefaults": {
           "arrowcolor": "#2a3f5f",
           "arrowhead": 0,
           "arrowwidth": 1
          },
          "autotypenumbers": "strict",
          "coloraxis": {
           "colorbar": {
            "outlinewidth": 0,
            "ticks": ""
           }
          },
          "colorscale": {
           "diverging": [
            [
             0,
             "#8e0152"
            ],
            [
             0.1,
             "#c51b7d"
            ],
            [
             0.2,
             "#de77ae"
            ],
            [
             0.3,
             "#f1b6da"
            ],
            [
             0.4,
             "#fde0ef"
            ],
            [
             0.5,
             "#f7f7f7"
            ],
            [
             0.6,
             "#e6f5d0"
            ],
            [
             0.7,
             "#b8e186"
            ],
            [
             0.8,
             "#7fbc41"
            ],
            [
             0.9,
             "#4d9221"
            ],
            [
             1,
             "#276419"
            ]
           ],
           "sequential": [
            [
             0,
             "#0d0887"
            ],
            [
             0.1111111111111111,
             "#46039f"
            ],
            [
             0.2222222222222222,
             "#7201a8"
            ],
            [
             0.3333333333333333,
             "#9c179e"
            ],
            [
             0.4444444444444444,
             "#bd3786"
            ],
            [
             0.5555555555555556,
             "#d8576b"
            ],
            [
             0.6666666666666666,
             "#ed7953"
            ],
            [
             0.7777777777777778,
             "#fb9f3a"
            ],
            [
             0.8888888888888888,
             "#fdca26"
            ],
            [
             1,
             "#f0f921"
            ]
           ],
           "sequentialminus": [
            [
             0,
             "#0d0887"
            ],
            [
             0.1111111111111111,
             "#46039f"
            ],
            [
             0.2222222222222222,
             "#7201a8"
            ],
            [
             0.3333333333333333,
             "#9c179e"
            ],
            [
             0.4444444444444444,
             "#bd3786"
            ],
            [
             0.5555555555555556,
             "#d8576b"
            ],
            [
             0.6666666666666666,
             "#ed7953"
            ],
            [
             0.7777777777777778,
             "#fb9f3a"
            ],
            [
             0.8888888888888888,
             "#fdca26"
            ],
            [
             1,
             "#f0f921"
            ]
           ]
          },
          "colorway": [
           "#636efa",
           "#EF553B",
           "#00cc96",
           "#ab63fa",
           "#FFA15A",
           "#19d3f3",
           "#FF6692",
           "#B6E880",
           "#FF97FF",
           "#FECB52"
          ],
          "font": {
           "color": "#2a3f5f"
          },
          "geo": {
           "bgcolor": "white",
           "lakecolor": "white",
           "landcolor": "#E5ECF6",
           "showlakes": true,
           "showland": true,
           "subunitcolor": "white"
          },
          "hoverlabel": {
           "align": "left"
          },
          "hovermode": "closest",
          "mapbox": {
           "style": "light"
          },
          "paper_bgcolor": "white",
          "plot_bgcolor": "#E5ECF6",
          "polar": {
           "angularaxis": {
            "gridcolor": "white",
            "linecolor": "white",
            "ticks": ""
           },
           "bgcolor": "#E5ECF6",
           "radialaxis": {
            "gridcolor": "white",
            "linecolor": "white",
            "ticks": ""
           }
          },
          "scene": {
           "xaxis": {
            "backgroundcolor": "#E5ECF6",
            "gridcolor": "white",
            "gridwidth": 2,
            "linecolor": "white",
            "showbackground": true,
            "ticks": "",
            "zerolinecolor": "white"
           },
           "yaxis": {
            "backgroundcolor": "#E5ECF6",
            "gridcolor": "white",
            "gridwidth": 2,
            "linecolor": "white",
            "showbackground": true,
            "ticks": "",
            "zerolinecolor": "white"
           },
           "zaxis": {
            "backgroundcolor": "#E5ECF6",
            "gridcolor": "white",
            "gridwidth": 2,
            "linecolor": "white",
            "showbackground": true,
            "ticks": "",
            "zerolinecolor": "white"
           }
          },
          "shapedefaults": {
           "line": {
            "color": "#2a3f5f"
           }
          },
          "ternary": {
           "aaxis": {
            "gridcolor": "white",
            "linecolor": "white",
            "ticks": ""
           },
           "baxis": {
            "gridcolor": "white",
            "linecolor": "white",
            "ticks": ""
           },
           "bgcolor": "#E5ECF6",
           "caxis": {
            "gridcolor": "white",
            "linecolor": "white",
            "ticks": ""
           }
          },
          "title": {
           "x": 0.05
          },
          "xaxis": {
           "automargin": true,
           "gridcolor": "white",
           "linecolor": "white",
           "ticks": "",
           "title": {
            "standoff": 15
           },
           "zerolinecolor": "white",
           "zerolinewidth": 2
          },
          "yaxis": {
           "automargin": true,
           "gridcolor": "white",
           "linecolor": "white",
           "ticks": "",
           "title": {
            "standoff": 15
           },
           "zerolinecolor": "white",
           "zerolinewidth": 2
          }
         }
        },
        "xaxis": {
         "anchor": "y",
         "domain": [
          0,
          0.94
         ],
         "matches": "x2",
         "showticklabels": false
        },
        "xaxis2": {
         "anchor": "y3",
         "domain": [
          0,
          0.94
         ]
        },
        "yaxis": {
         "anchor": "x",
         "domain": [
          0.32100000000000006,
          1
         ]
        },
        "yaxis2": {
         "anchor": "x",
         "overlaying": "y",
         "side": "right"
        },
        "yaxis3": {
         "anchor": "x2",
         "domain": [
          0,
          0.29100000000000004
         ]
        },
        "yaxis4": {
         "anchor": "x2",
         "overlaying": "y3",
         "side": "right"
        }
       },
       "_py2js_addTraces": {},
       "_py2js_animate": {},
       "_py2js_deleteTraces": {},
       "_py2js_moveTraces": {},
       "_py2js_relayout": {},
       "_py2js_removeLayoutProps": {},
       "_py2js_removeTraceProps": {},
       "_py2js_restyle": {},
       "_py2js_update": {},
       "_view_count": 0
      }
     },
     "321e86d00ca94457a010a13ba1d6ea3e": {
      "model_module": "jupyterlab-plotly",
      "model_module_version": "^5.6.0",
      "model_name": "FigureModel",
      "state": {
       "_config": {
        "plotlyServerURL": "https://plot.ly"
       },
       "_js2py_layoutDelta": {},
       "_js2py_pointsCallback": {},
       "_js2py_relayout": {},
       "_js2py_restyle": {},
       "_js2py_traceDeltas": {},
       "_js2py_update": {},
       "_last_layout_edit_id": 2,
       "_last_trace_edit_id": 1,
       "_layout": {
        "template": {
         "data": {
          "bar": [
           {
            "error_x": {
             "color": "#2a3f5f"
            },
            "error_y": {
             "color": "#2a3f5f"
            },
            "marker": {
             "line": {
              "color": "#E5ECF6",
              "width": 0.5
             },
             "pattern": {
              "fillmode": "overlay",
              "size": 10,
              "solidity": 0.2
             }
            },
            "type": "bar"
           }
          ],
          "barpolar": [
           {
            "marker": {
             "line": {
              "color": "#E5ECF6",
              "width": 0.5
             },
             "pattern": {
              "fillmode": "overlay",
              "size": 10,
              "solidity": 0.2
             }
            },
            "type": "barpolar"
           }
          ],
          "carpet": [
           {
            "aaxis": {
             "endlinecolor": "#2a3f5f",
             "gridcolor": "white",
             "linecolor": "white",
             "minorgridcolor": "white",
             "startlinecolor": "#2a3f5f"
            },
            "baxis": {
             "endlinecolor": "#2a3f5f",
             "gridcolor": "white",
             "linecolor": "white",
             "minorgridcolor": "white",
             "startlinecolor": "#2a3f5f"
            },
            "type": "carpet"
           }
          ],
          "choropleth": [
           {
            "colorbar": {
             "outlinewidth": 0,
             "ticks": ""
            },
            "type": "choropleth"
           }
          ],
          "contour": [
           {
            "colorbar": {
             "outlinewidth": 0,
             "ticks": ""
            },
            "colorscale": [
             [
              0,
              "#0d0887"
             ],
             [
              0.1111111111111111,
              "#46039f"
             ],
             [
              0.2222222222222222,
              "#7201a8"
             ],
             [
              0.3333333333333333,
              "#9c179e"
             ],
             [
              0.4444444444444444,
              "#bd3786"
             ],
             [
              0.5555555555555556,
              "#d8576b"
             ],
             [
              0.6666666666666666,
              "#ed7953"
             ],
             [
              0.7777777777777778,
              "#fb9f3a"
             ],
             [
              0.8888888888888888,
              "#fdca26"
             ],
             [
              1,
              "#f0f921"
             ]
            ],
            "type": "contour"
           }
          ],
          "contourcarpet": [
           {
            "colorbar": {
             "outlinewidth": 0,
             "ticks": ""
            },
            "type": "contourcarpet"
           }
          ],
          "heatmap": [
           {
            "colorbar": {
             "outlinewidth": 0,
             "ticks": ""
            },
            "colorscale": [
             [
              0,
              "#0d0887"
             ],
             [
              0.1111111111111111,
              "#46039f"
             ],
             [
              0.2222222222222222,
              "#7201a8"
             ],
             [
              0.3333333333333333,
              "#9c179e"
             ],
             [
              0.4444444444444444,
              "#bd3786"
             ],
             [
              0.5555555555555556,
              "#d8576b"
             ],
             [
              0.6666666666666666,
              "#ed7953"
             ],
             [
              0.7777777777777778,
              "#fb9f3a"
             ],
             [
              0.8888888888888888,
              "#fdca26"
             ],
             [
              1,
              "#f0f921"
             ]
            ],
            "type": "heatmap"
           }
          ],
          "heatmapgl": [
           {
            "colorbar": {
             "outlinewidth": 0,
             "ticks": ""
            },
            "colorscale": [
             [
              0,
              "#0d0887"
             ],
             [
              0.1111111111111111,
              "#46039f"
             ],
             [
              0.2222222222222222,
              "#7201a8"
             ],
             [
              0.3333333333333333,
              "#9c179e"
             ],
             [
              0.4444444444444444,
              "#bd3786"
             ],
             [
              0.5555555555555556,
              "#d8576b"
             ],
             [
              0.6666666666666666,
              "#ed7953"
             ],
             [
              0.7777777777777778,
              "#fb9f3a"
             ],
             [
              0.8888888888888888,
              "#fdca26"
             ],
             [
              1,
              "#f0f921"
             ]
            ],
            "type": "heatmapgl"
           }
          ],
          "histogram": [
           {
            "marker": {
             "pattern": {
              "fillmode": "overlay",
              "size": 10,
              "solidity": 0.2
             }
            },
            "type": "histogram"
           }
          ],
          "histogram2d": [
           {
            "colorbar": {
             "outlinewidth": 0,
             "ticks": ""
            },
            "colorscale": [
             [
              0,
              "#0d0887"
             ],
             [
              0.1111111111111111,
              "#46039f"
             ],
             [
              0.2222222222222222,
              "#7201a8"
             ],
             [
              0.3333333333333333,
              "#9c179e"
             ],
             [
              0.4444444444444444,
              "#bd3786"
             ],
             [
              0.5555555555555556,
              "#d8576b"
             ],
             [
              0.6666666666666666,
              "#ed7953"
             ],
             [
              0.7777777777777778,
              "#fb9f3a"
             ],
             [
              0.8888888888888888,
              "#fdca26"
             ],
             [
              1,
              "#f0f921"
             ]
            ],
            "type": "histogram2d"
           }
          ],
          "histogram2dcontour": [
           {
            "colorbar": {
             "outlinewidth": 0,
             "ticks": ""
            },
            "colorscale": [
             [
              0,
              "#0d0887"
             ],
             [
              0.1111111111111111,
              "#46039f"
             ],
             [
              0.2222222222222222,
              "#7201a8"
             ],
             [
              0.3333333333333333,
              "#9c179e"
             ],
             [
              0.4444444444444444,
              "#bd3786"
             ],
             [
              0.5555555555555556,
              "#d8576b"
             ],
             [
              0.6666666666666666,
              "#ed7953"
             ],
             [
              0.7777777777777778,
              "#fb9f3a"
             ],
             [
              0.8888888888888888,
              "#fdca26"
             ],
             [
              1,
              "#f0f921"
             ]
            ],
            "type": "histogram2dcontour"
           }
          ],
          "mesh3d": [
           {
            "colorbar": {
             "outlinewidth": 0,
             "ticks": ""
            },
            "type": "mesh3d"
           }
          ],
          "parcoords": [
           {
            "line": {
             "colorbar": {
              "outlinewidth": 0,
              "ticks": ""
             }
            },
            "type": "parcoords"
           }
          ],
          "pie": [
           {
            "automargin": true,
            "type": "pie"
           }
          ],
          "scatter": [
           {
            "marker": {
             "colorbar": {
              "outlinewidth": 0,
              "ticks": ""
             }
            },
            "type": "scatter"
           }
          ],
          "scatter3d": [
           {
            "line": {
             "colorbar": {
              "outlinewidth": 0,
              "ticks": ""
             }
            },
            "marker": {
             "colorbar": {
              "outlinewidth": 0,
              "ticks": ""
             }
            },
            "type": "scatter3d"
           }
          ],
          "scattercarpet": [
           {
            "marker": {
             "colorbar": {
              "outlinewidth": 0,
              "ticks": ""
             }
            },
            "type": "scattercarpet"
           }
          ],
          "scattergeo": [
           {
            "marker": {
             "colorbar": {
              "outlinewidth": 0,
              "ticks": ""
             }
            },
            "type": "scattergeo"
           }
          ],
          "scattergl": [
           {
            "marker": {
             "colorbar": {
              "outlinewidth": 0,
              "ticks": ""
             }
            },
            "type": "scattergl"
           }
          ],
          "scattermapbox": [
           {
            "marker": {
             "colorbar": {
              "outlinewidth": 0,
              "ticks": ""
             }
            },
            "type": "scattermapbox"
           }
          ],
          "scatterpolar": [
           {
            "marker": {
             "colorbar": {
              "outlinewidth": 0,
              "ticks": ""
             }
            },
            "type": "scatterpolar"
           }
          ],
          "scatterpolargl": [
           {
            "marker": {
             "colorbar": {
              "outlinewidth": 0,
              "ticks": ""
             }
            },
            "type": "scatterpolargl"
           }
          ],
          "scatterternary": [
           {
            "marker": {
             "colorbar": {
              "outlinewidth": 0,
              "ticks": ""
             }
            },
            "type": "scatterternary"
           }
          ],
          "surface": [
           {
            "colorbar": {
             "outlinewidth": 0,
             "ticks": ""
            },
            "colorscale": [
             [
              0,
              "#0d0887"
             ],
             [
              0.1111111111111111,
              "#46039f"
             ],
             [
              0.2222222222222222,
              "#7201a8"
             ],
             [
              0.3333333333333333,
              "#9c179e"
             ],
             [
              0.4444444444444444,
              "#bd3786"
             ],
             [
              0.5555555555555556,
              "#d8576b"
             ],
             [
              0.6666666666666666,
              "#ed7953"
             ],
             [
              0.7777777777777778,
              "#fb9f3a"
             ],
             [
              0.8888888888888888,
              "#fdca26"
             ],
             [
              1,
              "#f0f921"
             ]
            ],
            "type": "surface"
           }
          ],
          "table": [
           {
            "cells": {
             "fill": {
              "color": "#EBF0F8"
             },
             "line": {
              "color": "white"
             }
            },
            "header": {
             "fill": {
              "color": "#C8D4E3"
             },
             "line": {
              "color": "white"
             }
            },
            "type": "table"
           }
          ]
         },
         "layout": {
          "annotationdefaults": {
           "arrowcolor": "#2a3f5f",
           "arrowhead": 0,
           "arrowwidth": 1
          },
          "autotypenumbers": "strict",
          "coloraxis": {
           "colorbar": {
            "outlinewidth": 0,
            "ticks": ""
           }
          },
          "colorscale": {
           "diverging": [
            [
             0,
             "#8e0152"
            ],
            [
             0.1,
             "#c51b7d"
            ],
            [
             0.2,
             "#de77ae"
            ],
            [
             0.3,
             "#f1b6da"
            ],
            [
             0.4,
             "#fde0ef"
            ],
            [
             0.5,
             "#f7f7f7"
            ],
            [
             0.6,
             "#e6f5d0"
            ],
            [
             0.7,
             "#b8e186"
            ],
            [
             0.8,
             "#7fbc41"
            ],
            [
             0.9,
             "#4d9221"
            ],
            [
             1,
             "#276419"
            ]
           ],
           "sequential": [
            [
             0,
             "#0d0887"
            ],
            [
             0.1111111111111111,
             "#46039f"
            ],
            [
             0.2222222222222222,
             "#7201a8"
            ],
            [
             0.3333333333333333,
             "#9c179e"
            ],
            [
             0.4444444444444444,
             "#bd3786"
            ],
            [
             0.5555555555555556,
             "#d8576b"
            ],
            [
             0.6666666666666666,
             "#ed7953"
            ],
            [
             0.7777777777777778,
             "#fb9f3a"
            ],
            [
             0.8888888888888888,
             "#fdca26"
            ],
            [
             1,
             "#f0f921"
            ]
           ],
           "sequentialminus": [
            [
             0,
             "#0d0887"
            ],
            [
             0.1111111111111111,
             "#46039f"
            ],
            [
             0.2222222222222222,
             "#7201a8"
            ],
            [
             0.3333333333333333,
             "#9c179e"
            ],
            [
             0.4444444444444444,
             "#bd3786"
            ],
            [
             0.5555555555555556,
             "#d8576b"
            ],
            [
             0.6666666666666666,
             "#ed7953"
            ],
            [
             0.7777777777777778,
             "#fb9f3a"
            ],
            [
             0.8888888888888888,
             "#fdca26"
            ],
            [
             1,
             "#f0f921"
            ]
           ]
          },
          "colorway": [
           "#636efa",
           "#EF553B",
           "#00cc96",
           "#ab63fa",
           "#FFA15A",
           "#19d3f3",
           "#FF6692",
           "#B6E880",
           "#FF97FF",
           "#FECB52"
          ],
          "font": {
           "color": "#2a3f5f"
          },
          "geo": {
           "bgcolor": "white",
           "lakecolor": "white",
           "landcolor": "#E5ECF6",
           "showlakes": true,
           "showland": true,
           "subunitcolor": "white"
          },
          "hoverlabel": {
           "align": "left"
          },
          "hovermode": "closest",
          "mapbox": {
           "style": "light"
          },
          "paper_bgcolor": "white",
          "plot_bgcolor": "#E5ECF6",
          "polar": {
           "angularaxis": {
            "gridcolor": "white",
            "linecolor": "white",
            "ticks": ""
           },
           "bgcolor": "#E5ECF6",
           "radialaxis": {
            "gridcolor": "white",
            "linecolor": "white",
            "ticks": ""
           }
          },
          "scene": {
           "xaxis": {
            "backgroundcolor": "#E5ECF6",
            "gridcolor": "white",
            "gridwidth": 2,
            "linecolor": "white",
            "showbackground": true,
            "ticks": "",
            "zerolinecolor": "white"
           },
           "yaxis": {
            "backgroundcolor": "#E5ECF6",
            "gridcolor": "white",
            "gridwidth": 2,
            "linecolor": "white",
            "showbackground": true,
            "ticks": "",
            "zerolinecolor": "white"
           },
           "zaxis": {
            "backgroundcolor": "#E5ECF6",
            "gridcolor": "white",
            "gridwidth": 2,
            "linecolor": "white",
            "showbackground": true,
            "ticks": "",
            "zerolinecolor": "white"
           }
          },
          "shapedefaults": {
           "line": {
            "color": "#2a3f5f"
           }
          },
          "ternary": {
           "aaxis": {
            "gridcolor": "white",
            "linecolor": "white",
            "ticks": ""
           },
           "baxis": {
            "gridcolor": "white",
            "linecolor": "white",
            "ticks": ""
           },
           "bgcolor": "#E5ECF6",
           "caxis": {
            "gridcolor": "white",
            "linecolor": "white",
            "ticks": ""
           }
          },
          "title": {
           "x": 0.05
          },
          "xaxis": {
           "automargin": true,
           "gridcolor": "white",
           "linecolor": "white",
           "ticks": "",
           "title": {
            "standoff": 15
           },
           "zerolinecolor": "white",
           "zerolinewidth": 2
          },
          "yaxis": {
           "automargin": true,
           "gridcolor": "white",
           "linecolor": "white",
           "ticks": "",
           "title": {
            "standoff": 15
           },
           "zerolinecolor": "white",
           "zerolinewidth": 2
          }
         }
        },
        "xaxis": {
         "anchor": "y",
         "domain": [
          0,
          0.94
         ],
         "matches": "x2",
         "showticklabels": false
        },
        "xaxis2": {
         "anchor": "y3",
         "domain": [
          0,
          0.94
         ]
        },
        "yaxis": {
         "anchor": "x",
         "domain": [
          0.32100000000000006,
          1
         ]
        },
        "yaxis2": {
         "anchor": "x",
         "overlaying": "y",
         "side": "right"
        },
        "yaxis3": {
         "anchor": "x2",
         "domain": [
          0,
          0.29100000000000004
         ]
        },
        "yaxis4": {
         "anchor": "x2",
         "overlaying": "y3",
         "side": "right"
        }
       },
       "_py2js_animate": {},
       "_py2js_deleteTraces": {},
       "_py2js_moveTraces": {},
       "_py2js_removeLayoutProps": {},
       "_py2js_removeTraceProps": {},
       "_py2js_restyle": {},
       "_py2js_update": {},
       "_view_count": 0
      }
     },
     "40c2c81d8ef041bb84b8d6267ff4ce86": {
      "model_module": "@jupyter-widgets/controls",
      "model_module_version": "1.5.0",
      "model_name": "DescriptionStyleModel",
      "state": {
       "description_width": ""
      }
     },
     "47fa6f5d863e4a5fa09ff5b0737d2d6f": {
      "model_module": "@jupyter-widgets/controls",
      "model_module_version": "1.5.0",
      "model_name": "DescriptionStyleModel",
      "state": {
       "description_width": ""
      }
     },
     "59b452412b70422ca290fcf4f68f160a": {
      "model_module": "jupyterlab-plotly",
      "model_module_version": "^5.6.0",
      "model_name": "FigureModel",
      "state": {
       "_config": {
        "plotlyServerURL": "https://plot.ly"
       },
       "_js2py_layoutDelta": {},
       "_js2py_pointsCallback": {},
       "_js2py_relayout": {},
       "_js2py_restyle": {},
       "_js2py_traceDeltas": {},
       "_js2py_update": {},
       "_layout": {
        "template": {
         "data": {
          "bar": [
           {
            "error_x": {
             "color": "#2a3f5f"
            },
            "error_y": {
             "color": "#2a3f5f"
            },
            "marker": {
             "line": {
              "color": "#E5ECF6",
              "width": 0.5
             },
             "pattern": {
              "fillmode": "overlay",
              "size": 10,
              "solidity": 0.2
             }
            },
            "type": "bar"
           }
          ],
          "barpolar": [
           {
            "marker": {
             "line": {
              "color": "#E5ECF6",
              "width": 0.5
             },
             "pattern": {
              "fillmode": "overlay",
              "size": 10,
              "solidity": 0.2
             }
            },
            "type": "barpolar"
           }
          ],
          "carpet": [
           {
            "aaxis": {
             "endlinecolor": "#2a3f5f",
             "gridcolor": "white",
             "linecolor": "white",
             "minorgridcolor": "white",
             "startlinecolor": "#2a3f5f"
            },
            "baxis": {
             "endlinecolor": "#2a3f5f",
             "gridcolor": "white",
             "linecolor": "white",
             "minorgridcolor": "white",
             "startlinecolor": "#2a3f5f"
            },
            "type": "carpet"
           }
          ],
          "choropleth": [
           {
            "colorbar": {
             "outlinewidth": 0,
             "ticks": ""
            },
            "type": "choropleth"
           }
          ],
          "contour": [
           {
            "colorbar": {
             "outlinewidth": 0,
             "ticks": ""
            },
            "colorscale": [
             [
              0,
              "#0d0887"
             ],
             [
              0.1111111111111111,
              "#46039f"
             ],
             [
              0.2222222222222222,
              "#7201a8"
             ],
             [
              0.3333333333333333,
              "#9c179e"
             ],
             [
              0.4444444444444444,
              "#bd3786"
             ],
             [
              0.5555555555555556,
              "#d8576b"
             ],
             [
              0.6666666666666666,
              "#ed7953"
             ],
             [
              0.7777777777777778,
              "#fb9f3a"
             ],
             [
              0.8888888888888888,
              "#fdca26"
             ],
             [
              1,
              "#f0f921"
             ]
            ],
            "type": "contour"
           }
          ],
          "contourcarpet": [
           {
            "colorbar": {
             "outlinewidth": 0,
             "ticks": ""
            },
            "type": "contourcarpet"
           }
          ],
          "heatmap": [
           {
            "colorbar": {
             "outlinewidth": 0,
             "ticks": ""
            },
            "colorscale": [
             [
              0,
              "#0d0887"
             ],
             [
              0.1111111111111111,
              "#46039f"
             ],
             [
              0.2222222222222222,
              "#7201a8"
             ],
             [
              0.3333333333333333,
              "#9c179e"
             ],
             [
              0.4444444444444444,
              "#bd3786"
             ],
             [
              0.5555555555555556,
              "#d8576b"
             ],
             [
              0.6666666666666666,
              "#ed7953"
             ],
             [
              0.7777777777777778,
              "#fb9f3a"
             ],
             [
              0.8888888888888888,
              "#fdca26"
             ],
             [
              1,
              "#f0f921"
             ]
            ],
            "type": "heatmap"
           }
          ],
          "heatmapgl": [
           {
            "colorbar": {
             "outlinewidth": 0,
             "ticks": ""
            },
            "colorscale": [
             [
              0,
              "#0d0887"
             ],
             [
              0.1111111111111111,
              "#46039f"
             ],
             [
              0.2222222222222222,
              "#7201a8"
             ],
             [
              0.3333333333333333,
              "#9c179e"
             ],
             [
              0.4444444444444444,
              "#bd3786"
             ],
             [
              0.5555555555555556,
              "#d8576b"
             ],
             [
              0.6666666666666666,
              "#ed7953"
             ],
             [
              0.7777777777777778,
              "#fb9f3a"
             ],
             [
              0.8888888888888888,
              "#fdca26"
             ],
             [
              1,
              "#f0f921"
             ]
            ],
            "type": "heatmapgl"
           }
          ],
          "histogram": [
           {
            "marker": {
             "pattern": {
              "fillmode": "overlay",
              "size": 10,
              "solidity": 0.2
             }
            },
            "type": "histogram"
           }
          ],
          "histogram2d": [
           {
            "colorbar": {
             "outlinewidth": 0,
             "ticks": ""
            },
            "colorscale": [
             [
              0,
              "#0d0887"
             ],
             [
              0.1111111111111111,
              "#46039f"
             ],
             [
              0.2222222222222222,
              "#7201a8"
             ],
             [
              0.3333333333333333,
              "#9c179e"
             ],
             [
              0.4444444444444444,
              "#bd3786"
             ],
             [
              0.5555555555555556,
              "#d8576b"
             ],
             [
              0.6666666666666666,
              "#ed7953"
             ],
             [
              0.7777777777777778,
              "#fb9f3a"
             ],
             [
              0.8888888888888888,
              "#fdca26"
             ],
             [
              1,
              "#f0f921"
             ]
            ],
            "type": "histogram2d"
           }
          ],
          "histogram2dcontour": [
           {
            "colorbar": {
             "outlinewidth": 0,
             "ticks": ""
            },
            "colorscale": [
             [
              0,
              "#0d0887"
             ],
             [
              0.1111111111111111,
              "#46039f"
             ],
             [
              0.2222222222222222,
              "#7201a8"
             ],
             [
              0.3333333333333333,
              "#9c179e"
             ],
             [
              0.4444444444444444,
              "#bd3786"
             ],
             [
              0.5555555555555556,
              "#d8576b"
             ],
             [
              0.6666666666666666,
              "#ed7953"
             ],
             [
              0.7777777777777778,
              "#fb9f3a"
             ],
             [
              0.8888888888888888,
              "#fdca26"
             ],
             [
              1,
              "#f0f921"
             ]
            ],
            "type": "histogram2dcontour"
           }
          ],
          "mesh3d": [
           {
            "colorbar": {
             "outlinewidth": 0,
             "ticks": ""
            },
            "type": "mesh3d"
           }
          ],
          "parcoords": [
           {
            "line": {
             "colorbar": {
              "outlinewidth": 0,
              "ticks": ""
             }
            },
            "type": "parcoords"
           }
          ],
          "pie": [
           {
            "automargin": true,
            "type": "pie"
           }
          ],
          "scatter": [
           {
            "marker": {
             "colorbar": {
              "outlinewidth": 0,
              "ticks": ""
             }
            },
            "type": "scatter"
           }
          ],
          "scatter3d": [
           {
            "line": {
             "colorbar": {
              "outlinewidth": 0,
              "ticks": ""
             }
            },
            "marker": {
             "colorbar": {
              "outlinewidth": 0,
              "ticks": ""
             }
            },
            "type": "scatter3d"
           }
          ],
          "scattercarpet": [
           {
            "marker": {
             "colorbar": {
              "outlinewidth": 0,
              "ticks": ""
             }
            },
            "type": "scattercarpet"
           }
          ],
          "scattergeo": [
           {
            "marker": {
             "colorbar": {
              "outlinewidth": 0,
              "ticks": ""
             }
            },
            "type": "scattergeo"
           }
          ],
          "scattergl": [
           {
            "marker": {
             "colorbar": {
              "outlinewidth": 0,
              "ticks": ""
             }
            },
            "type": "scattergl"
           }
          ],
          "scattermapbox": [
           {
            "marker": {
             "colorbar": {
              "outlinewidth": 0,
              "ticks": ""
             }
            },
            "type": "scattermapbox"
           }
          ],
          "scatterpolar": [
           {
            "marker": {
             "colorbar": {
              "outlinewidth": 0,
              "ticks": ""
             }
            },
            "type": "scatterpolar"
           }
          ],
          "scatterpolargl": [
           {
            "marker": {
             "colorbar": {
              "outlinewidth": 0,
              "ticks": ""
             }
            },
            "type": "scatterpolargl"
           }
          ],
          "scatterternary": [
           {
            "marker": {
             "colorbar": {
              "outlinewidth": 0,
              "ticks": ""
             }
            },
            "type": "scatterternary"
           }
          ],
          "surface": [
           {
            "colorbar": {
             "outlinewidth": 0,
             "ticks": ""
            },
            "colorscale": [
             [
              0,
              "#0d0887"
             ],
             [
              0.1111111111111111,
              "#46039f"
             ],
             [
              0.2222222222222222,
              "#7201a8"
             ],
             [
              0.3333333333333333,
              "#9c179e"
             ],
             [
              0.4444444444444444,
              "#bd3786"
             ],
             [
              0.5555555555555556,
              "#d8576b"
             ],
             [
              0.6666666666666666,
              "#ed7953"
             ],
             [
              0.7777777777777778,
              "#fb9f3a"
             ],
             [
              0.8888888888888888,
              "#fdca26"
             ],
             [
              1,
              "#f0f921"
             ]
            ],
            "type": "surface"
           }
          ],
          "table": [
           {
            "cells": {
             "fill": {
              "color": "#EBF0F8"
             },
             "line": {
              "color": "white"
             }
            },
            "header": {
             "fill": {
              "color": "#C8D4E3"
             },
             "line": {
              "color": "white"
             }
            },
            "type": "table"
           }
          ]
         },
         "layout": {
          "annotationdefaults": {
           "arrowcolor": "#2a3f5f",
           "arrowhead": 0,
           "arrowwidth": 1
          },
          "autotypenumbers": "strict",
          "coloraxis": {
           "colorbar": {
            "outlinewidth": 0,
            "ticks": ""
           }
          },
          "colorscale": {
           "diverging": [
            [
             0,
             "#8e0152"
            ],
            [
             0.1,
             "#c51b7d"
            ],
            [
             0.2,
             "#de77ae"
            ],
            [
             0.3,
             "#f1b6da"
            ],
            [
             0.4,
             "#fde0ef"
            ],
            [
             0.5,
             "#f7f7f7"
            ],
            [
             0.6,
             "#e6f5d0"
            ],
            [
             0.7,
             "#b8e186"
            ],
            [
             0.8,
             "#7fbc41"
            ],
            [
             0.9,
             "#4d9221"
            ],
            [
             1,
             "#276419"
            ]
           ],
           "sequential": [
            [
             0,
             "#0d0887"
            ],
            [
             0.1111111111111111,
             "#46039f"
            ],
            [
             0.2222222222222222,
             "#7201a8"
            ],
            [
             0.3333333333333333,
             "#9c179e"
            ],
            [
             0.4444444444444444,
             "#bd3786"
            ],
            [
             0.5555555555555556,
             "#d8576b"
            ],
            [
             0.6666666666666666,
             "#ed7953"
            ],
            [
             0.7777777777777778,
             "#fb9f3a"
            ],
            [
             0.8888888888888888,
             "#fdca26"
            ],
            [
             1,
             "#f0f921"
            ]
           ],
           "sequentialminus": [
            [
             0,
             "#0d0887"
            ],
            [
             0.1111111111111111,
             "#46039f"
            ],
            [
             0.2222222222222222,
             "#7201a8"
            ],
            [
             0.3333333333333333,
             "#9c179e"
            ],
            [
             0.4444444444444444,
             "#bd3786"
            ],
            [
             0.5555555555555556,
             "#d8576b"
            ],
            [
             0.6666666666666666,
             "#ed7953"
            ],
            [
             0.7777777777777778,
             "#fb9f3a"
            ],
            [
             0.8888888888888888,
             "#fdca26"
            ],
            [
             1,
             "#f0f921"
            ]
           ]
          },
          "colorway": [
           "#636efa",
           "#EF553B",
           "#00cc96",
           "#ab63fa",
           "#FFA15A",
           "#19d3f3",
           "#FF6692",
           "#B6E880",
           "#FF97FF",
           "#FECB52"
          ],
          "font": {
           "color": "#2a3f5f"
          },
          "geo": {
           "bgcolor": "white",
           "lakecolor": "white",
           "landcolor": "#E5ECF6",
           "showlakes": true,
           "showland": true,
           "subunitcolor": "white"
          },
          "hoverlabel": {
           "align": "left"
          },
          "hovermode": "closest",
          "mapbox": {
           "style": "light"
          },
          "paper_bgcolor": "white",
          "plot_bgcolor": "#E5ECF6",
          "polar": {
           "angularaxis": {
            "gridcolor": "white",
            "linecolor": "white",
            "ticks": ""
           },
           "bgcolor": "#E5ECF6",
           "radialaxis": {
            "gridcolor": "white",
            "linecolor": "white",
            "ticks": ""
           }
          },
          "scene": {
           "xaxis": {
            "backgroundcolor": "#E5ECF6",
            "gridcolor": "white",
            "gridwidth": 2,
            "linecolor": "white",
            "showbackground": true,
            "ticks": "",
            "zerolinecolor": "white"
           },
           "yaxis": {
            "backgroundcolor": "#E5ECF6",
            "gridcolor": "white",
            "gridwidth": 2,
            "linecolor": "white",
            "showbackground": true,
            "ticks": "",
            "zerolinecolor": "white"
           },
           "zaxis": {
            "backgroundcolor": "#E5ECF6",
            "gridcolor": "white",
            "gridwidth": 2,
            "linecolor": "white",
            "showbackground": true,
            "ticks": "",
            "zerolinecolor": "white"
           }
          },
          "shapedefaults": {
           "line": {
            "color": "#2a3f5f"
           }
          },
          "ternary": {
           "aaxis": {
            "gridcolor": "white",
            "linecolor": "white",
            "ticks": ""
           },
           "baxis": {
            "gridcolor": "white",
            "linecolor": "white",
            "ticks": ""
           },
           "bgcolor": "#E5ECF6",
           "caxis": {
            "gridcolor": "white",
            "linecolor": "white",
            "ticks": ""
           }
          },
          "title": {
           "x": 0.05
          },
          "xaxis": {
           "automargin": true,
           "gridcolor": "white",
           "linecolor": "white",
           "ticks": "",
           "title": {
            "standoff": 15
           },
           "zerolinecolor": "white",
           "zerolinewidth": 2
          },
          "yaxis": {
           "automargin": true,
           "gridcolor": "white",
           "linecolor": "white",
           "ticks": "",
           "title": {
            "standoff": 15
           },
           "zerolinecolor": "white",
           "zerolinewidth": 2
          }
         }
        },
        "xaxis": {
         "anchor": "y",
         "domain": [
          0,
          0.94
         ],
         "matches": "x2",
         "showticklabels": false
        },
        "xaxis2": {
         "anchor": "y3",
         "domain": [
          0,
          0.94
         ]
        },
        "yaxis": {
         "anchor": "x",
         "domain": [
          0.32100000000000006,
          1
         ]
        },
        "yaxis2": {
         "anchor": "x",
         "overlaying": "y",
         "side": "right"
        },
        "yaxis3": {
         "anchor": "x2",
         "domain": [
          0,
          0.29100000000000004
         ]
        },
        "yaxis4": {
         "anchor": "x2",
         "overlaying": "y3",
         "side": "right"
        }
       },
       "_py2js_addTraces": {},
       "_py2js_animate": {},
       "_py2js_deleteTraces": {},
       "_py2js_moveTraces": {},
       "_py2js_relayout": {},
       "_py2js_removeLayoutProps": {},
       "_py2js_removeTraceProps": {},
       "_py2js_restyle": {},
       "_py2js_update": {},
       "_view_count": 0
      }
     },
     "616e1512f1424ce3a95f26fd702d71c5": {
      "model_module": "@jupyter-widgets/controls",
      "model_module_version": "1.5.0",
      "model_name": "ProgressStyleModel",
      "state": {
       "description_width": ""
      }
     },
     "7c12037f743a42579c347f5fab1ee9e6": {
      "model_module": "@jupyter-widgets/controls",
      "model_module_version": "1.5.0",
      "model_name": "HBoxModel",
      "state": {
       "children": [
        "IPY_MODEL_83b96a87ee8c41b2947f33b313619678",
        "IPY_MODEL_df783ef3c95d417dbbf23230048ac87b",
        "IPY_MODEL_b02e15c73f43498fafdc03549cbaf7cf"
       ],
       "layout": "IPY_MODEL_91b987931e674c0aa5e4223e317c5b8e"
      }
     },
     "7d7a29773c82406b8c5e91e58643c028": {
      "model_module": "@jupyter-widgets/base",
      "model_module_version": "1.2.0",
      "model_name": "LayoutModel",
      "state": {}
     },
     "83b96a87ee8c41b2947f33b313619678": {
      "model_module": "@jupyter-widgets/controls",
      "model_module_version": "1.5.0",
      "model_name": "HTMLModel",
      "state": {
       "layout": "IPY_MODEL_ce4f71da541e418aaa127e908886bdce",
       "style": "IPY_MODEL_40c2c81d8ef041bb84b8d6267ff4ce86",
       "value": "100%"
      }
     },
     "91b987931e674c0aa5e4223e317c5b8e": {
      "model_module": "@jupyter-widgets/base",
      "model_module_version": "1.2.0",
      "model_name": "LayoutModel",
      "state": {}
     },
     "b02e15c73f43498fafdc03549cbaf7cf": {
      "model_module": "@jupyter-widgets/controls",
      "model_module_version": "1.5.0",
      "model_name": "HTMLModel",
      "state": {
       "layout": "IPY_MODEL_7d7a29773c82406b8c5e91e58643c028",
       "style": "IPY_MODEL_47fa6f5d863e4a5fa09ff5b0737d2d6f",
       "value": " 49/49 [00:31&lt;00:00,  1.56it/s, cpu=18%]"
      }
     },
     "ce4f71da541e418aaa127e908886bdce": {
      "model_module": "@jupyter-widgets/base",
      "model_module_version": "1.2.0",
      "model_name": "LayoutModel",
      "state": {}
     },
     "df783ef3c95d417dbbf23230048ac87b": {
      "model_module": "@jupyter-widgets/controls",
      "model_module_version": "1.5.0",
      "model_name": "FloatProgressModel",
      "state": {
       "bar_style": "success",
       "layout": "IPY_MODEL_12f44b5e921f4e56a5675e0c0cad2a82",
       "max": 49,
       "style": "IPY_MODEL_616e1512f1424ce3a95f26fd702d71c5",
       "value": 49
      }
     }
    },
    "version_major": 2,
    "version_minor": 0
   }
  }
 },
 "nbformat": 4,
 "nbformat_minor": 5
}

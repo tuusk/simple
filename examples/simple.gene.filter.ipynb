{
 "cells": [
  {
   "cell_type": "code",
   "execution_count": 1,
   "id": "02a048c3",
   "metadata": {
    "ExecuteTime": {
     "end_time": "2022-06-06T21:21:52.106132Z",
     "start_time": "2022-06-06T21:21:50.224347Z"
    }
   },
   "outputs": [],
   "source": [
    "# import\n",
    "import pandas as pd\n",
    "import numpy as np\n",
    "from simple.plotly import interactFigure, updateLines, updateSliders, chartParallel\n",
    "from numba import njit\n",
    "from simple.funcs import vwap, vPIN\n",
    "from simple.geneopt import GeneOpt\n",
    "from ipyslickgrid import show_grid\n",
    "from multiprocessing import current_process\n",
    "import plotly.graph_objs as go\n",
    "from ipywidgets import VBox"
   ]
  },
  {
   "cell_type": "code",
   "execution_count": 2,
   "id": "8a7cb103",
   "metadata": {
    "ExecuteTime": {
     "end_time": "2022-06-06T21:21:52.239435Z",
     "start_time": "2022-06-06T21:21:52.107889Z"
    }
   },
   "outputs": [
    {
     "data": {
      "text/plain": [
       "889360"
      ]
     },
     "execution_count": 2,
     "metadata": {},
     "output_type": "execute_result"
    }
   ],
   "source": [
    "T = np.load('data/tick.npz')['BTCUSDT'].view(np.recarray)\n",
    "len(T)"
   ]
  },
  {
   "cell_type": "code",
   "execution_count": 3,
   "id": "95bbb333",
   "metadata": {
    "ExecuteTime": {
     "end_time": "2022-06-06T21:21:52.258259Z",
     "start_time": "2022-06-06T21:21:52.241995Z"
    }
   },
   "outputs": [],
   "source": [
    "fp32 = np.float32\n",
    "default_fee = 0.05\n",
    "\n",
    "\n",
    "@njit(nogil=True)\n",
    "def backtestLimit(PriceA, qA, qB, signal, threshold, fee_percent=default_fee) -> list:\n",
    "    \"\"\"Vectorized backtester for limit order strategies\"\"\"\n",
    "\n",
    "    buys = [(int(x), fp32(x)) for x in range(0)]\n",
    "    sells = [(int(x), fp32(x)) for x in range(0)]\n",
    "    trades = [(int(x), fp32(x), int(x), fp32(x), int(x), fp32(x), fp32(x)) for x in range(0)]\n",
    "\n",
    "    pos: int = 0\n",
    "\n",
    "    for i in range(len(PriceA) - 1):\n",
    "        price = PriceA[i]\n",
    "\n",
    "        if price > qA[i] and signal[i] > threshold:\n",
    "            delta_pos = -min(pos + 1, 1)\n",
    "        elif price < qB[i] and signal[i] < -threshold:\n",
    "            delta_pos = min(1 - pos, 1)\n",
    "        else:\n",
    "            delta_pos = 0\n",
    "\n",
    "        k = i + 1\n",
    "        if delta_pos > 0:\n",
    "            buys.append((k, qB[k]))\n",
    "        elif delta_pos < 0:\n",
    "            sells.append((k, qA[k]))\n",
    "\n",
    "        if len(sells) > 0 and len(buys) > 0:\n",
    "            k_buy, buy = buys.pop(0)\n",
    "            k_sell, sell = sells.pop(0)\n",
    "            d_rawPnL = sell - buy\n",
    "            fee = fee_percent / 100 * (sell + buy)\n",
    "            d_PnL = d_rawPnL - fee\n",
    "            if delta_pos < 0:\n",
    "                trades.append((k_buy, buy, k_sell, sell, -delta_pos, d_PnL, fee))\n",
    "            else:\n",
    "                trades.append((k_sell, sell, k_buy, buy, -delta_pos, d_PnL, fee))\n",
    "\n",
    "        pos += delta_pos\n",
    "\n",
    "    return trades\n",
    "\n",
    "\n",
    "def npBacktestLimit(PriceA, qA, qB, signal, threshold, fee_percent=default_fee) -> np.ndarray:\n",
    "    \"\"\"Converts trades from the limit-backtester to structured array\"\"\"\n",
    "\n",
    "    trades = backtestLimit(PriceA, qA, qB, signal, threshold, fee_percent=fee_percent)\n",
    "    TPairTrade = [('X0', int), ('Price0', float), ('X1', int), ('Price1', float),\n",
    "                  ('Size', float), ('Profit', float), ('Fee', float)]\n",
    "    return np.array(trades, dtype=TPairTrade).view(np.recarray)\n",
    "\n",
    "\n",
    "def getLong(trades):\n",
    "    LongEntry = trades[['X0', 'Price0']][trades.Size > 0]\n",
    "    LongExit = trades[['X1', 'Price1']][trades.Size < 0]\n",
    "    return {'x': np.concatenate((LongEntry.X0, LongExit.X1)), \n",
    "            'y': np.concatenate((LongEntry.Price0, LongExit.Price1))}\n",
    "\n",
    "\n",
    "def getShort(trades):\n",
    "    ShortEntry = trades[['X0', 'Price0']][trades.Size < 0]\n",
    "    ShortExit = trades[['X1', 'Price1']][trades.Size > 0]\n",
    "    return {'x': np.concatenate((ShortEntry.X0, ShortExit.X1)),\n",
    "            'y': np.concatenate((ShortEntry.Price0, ShortExit.Price1))}"
   ]
  },
  {
   "cell_type": "code",
   "execution_count": 4,
   "id": "acb5c582",
   "metadata": {
    "ExecuteTime": {
     "end_time": "2022-06-06T21:21:52.269259Z",
     "start_time": "2022-06-06T21:21:52.259783Z"
    }
   },
   "outputs": [],
   "source": [
    "# declare chart linestyles\n",
    "line_styles = {\n",
    "    'Tick': dict(color='gray', opacity=0.25),\n",
    "    'Center': dict(color='blue', opacity=0.5),\n",
    "    'qA': dict(color='red', opacity=0.5, dash='dot'),\n",
    "    'qB': dict(color='green', opacity=0.5, dash='dot'),\n",
    "    'Profit': dict(color='black', width=8, opacity=0.1, secondary_y=True, shape='hv'),\n",
    "    'Buy': dict(mode='markers', color='green', symbol='triangle-up', size=10, line=dict(color=\"darkgreen\", width=1)),\n",
    "    'Sell': dict(mode='markers', color='red', symbol='triangle-down', size=10, line=dict(color=\"darkred\", width=1)),\n",
    "    'OSC': dict(color='orange', row=2, col=1, opacity=0.6),\n",
    "}"
   ]
  },
  {
   "cell_type": "code",
   "execution_count": 5,
   "id": "7ab0e9bc",
   "metadata": {
    "ExecuteTime": {
     "end_time": "2022-06-06T21:21:52.278770Z",
     "start_time": "2022-06-06T21:21:52.271169Z"
    }
   },
   "outputs": [],
   "source": [
    "def model(Period: int = (1000, 50000), StdDev: float = (1, 4, 0.1), Threshold: int = (0, 40)):\n",
    "    if Period == 0 or StdDev == 0: return 0, {}\n",
    "    Tick = T.PriceA\n",
    "    Center = vwap(Tick, T.VolumeA, Period)\n",
    "    std = pd.Series(Tick).rolling(Period).std().bfill().values\n",
    "    qA = Center + std*StdDev\n",
    "    qB = Center - std*StdDev\n",
    "    OSC = vPIN(T, Period)\n",
    "\n",
    "    trades = npBacktestLimit(Tick, qA, qB, OSC, Threshold)\n",
    "    Buy, Sell = getLong(trades), getShort(trades)\n",
    "    Profit = {'x': trades.X1, 'y': trades.Profit.cumsum()}\n",
    "    \n",
    "    return trades.Profit.sum(), {\n",
    "        'Count': len(trades),\n",
    "        'AvgProfit': trades.Profit.mean() if len(trades) > 0 else 0,\n",
    "        'Sharpe': trades.Profit.sum() / trades.Profit.std() if len(trades) > 1 else 0\n",
    "     } if current_process().daemon else locals()"
   ]
  },
  {
   "cell_type": "code",
   "execution_count": 6,
   "id": "d91ed300",
   "metadata": {
    "ExecuteTime": {
     "end_time": "2022-06-06T21:23:24.845338Z",
     "start_time": "2022-06-06T21:21:52.280266Z"
    }
   },
   "outputs": [
    {
     "data": {
      "application/vnd.jupyter.widget-view+json": {
       "model_id": "5fc72c5bf3ac4baabed68c7fc86b2368",
       "version_major": 2,
       "version_minor": 0
      },
      "text/plain": [
       "  0%|          | 0/5 [00:00<?, ?it/s]"
      ]
     },
     "metadata": {},
     "output_type": "display_data"
    },
    {
     "data": {
      "text/plain": [
       "{'Period': 26579, 'StdDev': 2.3540066349175297, 'Threshold': 2}"
      ]
     },
     "execution_count": 6,
     "metadata": {},
     "output_type": "execute_result"
    }
   ],
   "source": [
    "# Genetic optimizer\n",
    "G = GeneOpt(model)\n",
    "G.maximize(population_size=256, generations=5)"
   ]
  },
  {
   "cell_type": "code",
   "execution_count": 7,
   "id": "1453d8a7",
   "metadata": {
    "ExecuteTime": {
     "end_time": "2022-06-06T21:23:27.073277Z",
     "start_time": "2022-06-06T21:23:24.847707Z"
    }
   },
   "outputs": [],
   "source": [
    "# Create interactive figure\n",
    "box = interactFigure(model, line_styles, rows=2, height=650)"
   ]
  },
  {
   "cell_type": "code",
   "execution_count": 8,
   "id": "9f094035",
   "metadata": {
    "ExecuteTime": {
     "end_time": "2022-06-06T21:23:27.280004Z",
     "start_time": "2022-06-06T21:23:27.075008Z"
    }
   },
   "outputs": [
    {
     "data": {
      "application/vnd.jupyter.widget-view+json": {
       "model_id": "a61657f2b8614284bcaa7409a9bbaf74",
       "version_major": 2,
       "version_minor": 0
      },
      "text/plain": [
       "VBox(children=(VBox(children=(HBox(children=(IntSlider(value=25500, description='Period', max=50000, min=1000)…"
      ]
     },
     "metadata": {},
     "output_type": "display_data"
    }
   ],
   "source": [
    "# Genetic result browser\n",
    "X = pd.DataFrame(G.log, columns=G.log_columns).drop_duplicates().sort_values('Fitness')\n",
    "\n",
    "\n",
    "def on_changed(event, grid):\n",
    "    changed = grid.get_changed_df()\n",
    "    k = event['new'][0]\n",
    "    selected = changed.iloc[k:k+1].to_dict('records')[0]\n",
    "    param = dict(filter(lambda x: x[0] in G.args, selected.items()))\n",
    "\n",
    "    updateSliders(box.children[0].children, **param)\n",
    "    updateLines(box.children[1], **model(**param)[1])\n",
    "\n",
    "\n",
    "grid = show_grid(X, grid_options={'editable': False, 'forceFitColumns': True, 'multiSelect': False}, \n",
    "                 column_options={'defaultSortAsc': False})\n",
    "grid.on('selection_changed', on_changed)\n",
    "\n",
    "VBox([box, grid])"
   ]
  },
  {
   "cell_type": "code",
   "execution_count": 9,
   "id": "4daae8ce",
   "metadata": {
    "ExecuteTime": {
     "end_time": "2022-06-06T21:23:27.514520Z",
     "start_time": "2022-06-06T21:23:27.281422Z"
    }
   },
   "outputs": [
    {
     "data": {
      "application/vnd.jupyter.widget-view+json": {
       "model_id": "861669717ecf48bbbf702e0489fe8cc0",
       "version_major": 2,
       "version_minor": 0
      },
      "text/plain": [
       "FigureWidget({\n",
       "    'data': [{'dimensions': [{'label': 'Period',\n",
       "                              'values': array(…"
      ]
     },
     "metadata": {},
     "output_type": "display_data"
    }
   ],
   "source": [
    "chartParallel(X)"
   ]
  }
 ],
 "metadata": {
  "kernelspec": {
   "display_name": "Python 3 (ipykernel)",
   "language": "python",
   "name": "python3"
  },
  "language_info": {
   "codemirror_mode": {
    "name": "ipython",
    "version": 3
   },
   "file_extension": ".py",
   "mimetype": "text/x-python",
   "name": "python",
   "nbconvert_exporter": "python",
   "pygments_lexer": "ipython3",
   "version": "3.8.13"
  }
 },
 "nbformat": 4,
 "nbformat_minor": 5
}

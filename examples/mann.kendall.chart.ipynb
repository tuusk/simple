{
 "cells": [
  {
   "cell_type": "code",
   "execution_count": 1,
   "id": "5a0de8b7-5099-4b7c-92c6-4d852033f2c9",
   "metadata": {
    "execution": {
     "iopub.execute_input": "2023-06-25T10:40:16.917809Z",
     "iopub.status.busy": "2023-06-25T10:40:16.917554Z",
     "iopub.status.idle": "2023-06-25T10:40:17.946444Z",
     "shell.execute_reply": "2023-06-25T10:40:17.945284Z",
     "shell.execute_reply.started": "2023-06-25T10:40:16.917778Z"
    },
    "tags": []
   },
   "outputs": [],
   "source": [
    "from simple.chart import interactFigure\n",
    "from simple.mann_kendall import original_series\n",
    "import numpy as np"
   ]
  },
  {
   "cell_type": "code",
   "execution_count": 2,
   "id": "2e1fb752-2807-4255-a067-9bf307c19fb6",
   "metadata": {
    "execution": {
     "iopub.execute_input": "2023-06-25T10:40:17.949147Z",
     "iopub.status.busy": "2023-06-25T10:40:17.948641Z",
     "iopub.status.idle": "2023-06-25T10:40:17.953605Z",
     "shell.execute_reply": "2023-06-25T10:40:17.952622Z",
     "shell.execute_reply.started": "2023-06-25T10:40:17.949115Z"
    },
    "tags": []
   },
   "outputs": [],
   "source": [
    "period = 512"
   ]
  },
  {
   "cell_type": "code",
   "execution_count": 3,
   "id": "03d2762c-8ee8-48da-8013-101456d29f80",
   "metadata": {
    "execution": {
     "iopub.execute_input": "2023-06-25T10:40:17.954738Z",
     "iopub.status.busy": "2023-06-25T10:40:17.954488Z",
     "iopub.status.idle": "2023-06-25T10:40:17.963366Z",
     "shell.execute_reply": "2023-06-25T10:40:17.962272Z",
     "shell.execute_reply.started": "2023-06-25T10:40:17.954712Z"
    },
    "tags": []
   },
   "outputs": [],
   "source": [
    "A = (np.random.rand(period*5)).cumsum()\n",
    "B = np.random.rand(period*5) + A[-1]\n",
    "Source = np.hstack((A, B))"
   ]
  },
  {
   "cell_type": "code",
   "execution_count": 4,
   "id": "01b153aa-fc07-4e08-8efe-735b0cfe3a5a",
   "metadata": {
    "execution": {
     "iopub.execute_input": "2023-06-25T10:40:17.964702Z",
     "iopub.status.busy": "2023-06-25T10:40:17.964395Z",
     "iopub.status.idle": "2023-06-25T10:40:20.708787Z",
     "shell.execute_reply": "2023-06-25T10:40:20.707915Z",
     "shell.execute_reply.started": "2023-06-25T10:40:17.964676Z"
    },
    "tags": []
   },
   "outputs": [
    {
     "name": "stdout",
     "output_type": "stream",
     "text": [
      "CPU times: user 2.66 s, sys: 63.2 ms, total: 2.73 s\n",
      "Wall time: 2.74 s\n"
     ]
    }
   ],
   "source": [
    "%time x = original_series(Source, 256)"
   ]
  },
  {
   "cell_type": "code",
   "execution_count": 5,
   "id": "05974071-4d0e-47c6-990e-64dd48f749aa",
   "metadata": {
    "execution": {
     "iopub.execute_input": "2023-06-25T10:40:20.710382Z",
     "iopub.status.busy": "2023-06-25T10:40:20.709969Z",
     "iopub.status.idle": "2023-06-25T10:40:20.716851Z",
     "shell.execute_reply": "2023-06-25T10:40:20.716042Z",
     "shell.execute_reply.started": "2023-06-25T10:40:20.710352Z"
    },
    "tags": []
   },
   "outputs": [],
   "source": [
    "def model(noise: float=(0, 0.6, 0.05), mk_period: int = (64, 512, 8)):\n",
    "    A = (-np.random.rand(period*5)+noise).cumsum()\n",
    "    B = np.random.rand(period*5) + A[-1]\n",
    "    Source = np.hstack((A, B))\n",
    "    MannKendall = original_series(Source, mk_period)\n",
    "    return locals()"
   ]
  },
  {
   "cell_type": "code",
   "execution_count": 6,
   "id": "a29528aa-bbd7-48ef-b85c-955800554895",
   "metadata": {
    "execution": {
     "iopub.execute_input": "2023-06-25T10:40:20.718075Z",
     "iopub.status.busy": "2023-06-25T10:40:20.717757Z",
     "iopub.status.idle": "2023-06-25T10:40:22.506249Z",
     "shell.execute_reply": "2023-06-25T10:40:22.505428Z",
     "shell.execute_reply.started": "2023-06-25T10:40:20.718048Z"
    },
    "tags": []
   },
   "outputs": [
    {
     "data": {
      "application/vnd.jupyter.widget-view+json": {
       "model_id": "cbfe19626c924729b6da17bb92c24b11",
       "version_major": 2,
       "version_minor": 0
      },
      "text/plain": [
       "VBox(children=(HBox(children=(FloatSlider(value=0.25, description='noise', max=0.6, step=0.05), IntSlider(valu…"
      ]
     },
     "metadata": {},
     "output_type": "display_data"
    }
   ],
   "source": [
    "box = interactFigure(model, Source={'color': 'lightblue'}, MannKendall={'row': 2})\n",
    "fig = box.children[-1]\n",
    "\n",
    "fig.add_vline(x=period*5, line_dash='dot')\n",
    "for shape in fig.layout.shapes:\n",
    "    shape[\"yref\"] = \"paper\"\n",
    "    \n",
    "box"
   ]
  },
  {
   "cell_type": "code",
   "execution_count": null,
   "id": "08db4784-9e1c-492c-b639-5874784e04de",
   "metadata": {},
   "outputs": [],
   "source": []
  }
 ],
 "metadata": {
  "kernelspec": {
   "display_name": "Python 3 (ipykernel)",
   "language": "python",
   "name": "python3"
  },
  "language_info": {
   "codemirror_mode": {
    "name": "ipython",
    "version": 3
   },
   "file_extension": ".py",
   "mimetype": "text/x-python",
   "name": "python",
   "nbconvert_exporter": "python",
   "pygments_lexer": "ipython3",
   "version": "3.9.16"
  }
 },
 "nbformat": 4,
 "nbformat_minor": 5
}

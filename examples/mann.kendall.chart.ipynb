{
 "cells": [
  {
   "cell_type": "code",
   "execution_count": 1,
   "id": "5a0de8b7-5099-4b7c-92c6-4d852033f2c9",
   "metadata": {
    "execution": {
     "iopub.execute_input": "2022-07-07T17:04:32.352798Z",
     "iopub.status.busy": "2022-07-07T17:04:32.352798Z",
     "iopub.status.idle": "2022-07-07T17:04:33.222267Z",
     "shell.execute_reply": "2022-07-07T17:04:33.222267Z",
     "shell.execute_reply.started": "2022-07-07T17:04:32.352798Z"
    },
    "tags": []
   },
   "outputs": [],
   "source": [
    "from simple.plotly import interactFigure\n",
    "from simple.mann_kendall import original_series\n",
    "import numpy as np"
   ]
  },
  {
   "cell_type": "code",
   "execution_count": 2,
   "id": "2e1fb752-2807-4255-a067-9bf307c19fb6",
   "metadata": {
    "execution": {
     "iopub.execute_input": "2022-07-07T17:04:33.223267Z",
     "iopub.status.busy": "2022-07-07T17:04:33.223267Z",
     "iopub.status.idle": "2022-07-07T17:04:33.226268Z",
     "shell.execute_reply": "2022-07-07T17:04:33.226268Z",
     "shell.execute_reply.started": "2022-07-07T17:04:33.223267Z"
    },
    "tags": []
   },
   "outputs": [],
   "source": [
    "period = 512"
   ]
  },
  {
   "cell_type": "code",
   "execution_count": 3,
   "id": "03d2762c-8ee8-48da-8013-101456d29f80",
   "metadata": {
    "execution": {
     "iopub.execute_input": "2022-07-07T17:04:33.227269Z",
     "iopub.status.busy": "2022-07-07T17:04:33.227269Z",
     "iopub.status.idle": "2022-07-07T17:04:33.234270Z",
     "shell.execute_reply": "2022-07-07T17:04:33.234270Z",
     "shell.execute_reply.started": "2022-07-07T17:04:33.227269Z"
    },
    "tags": []
   },
   "outputs": [],
   "source": [
    "A = (np.random.rand(period*5)).cumsum()\n",
    "B = np.random.rand(period*5) + A[-1]\n",
    "Source = np.hstack((A, B))"
   ]
  },
  {
   "cell_type": "code",
   "execution_count": 4,
   "id": "01b153aa-fc07-4e08-8efe-735b0cfe3a5a",
   "metadata": {
    "execution": {
     "iopub.execute_input": "2022-07-07T17:04:33.235270Z",
     "iopub.status.busy": "2022-07-07T17:04:33.235270Z",
     "iopub.status.idle": "2022-07-07T17:04:35.157251Z",
     "shell.execute_reply": "2022-07-07T17:04:35.157251Z",
     "shell.execute_reply.started": "2022-07-07T17:04:33.235270Z"
    },
    "tags": []
   },
   "outputs": [
    {
     "name": "stdout",
     "output_type": "stream",
     "text": [
      "CPU times: total: 1.89 s\n",
      "Wall time: 1.91 s\n"
     ]
    }
   ],
   "source": [
    "%time x = original_series(Source, 256)"
   ]
  },
  {
   "cell_type": "code",
   "execution_count": 5,
   "id": "05974071-4d0e-47c6-990e-64dd48f749aa",
   "metadata": {
    "execution": {
     "iopub.execute_input": "2022-07-07T17:04:35.158251Z",
     "iopub.status.busy": "2022-07-07T17:04:35.158251Z",
     "iopub.status.idle": "2022-07-07T17:04:35.161318Z",
     "shell.execute_reply": "2022-07-07T17:04:35.161318Z",
     "shell.execute_reply.started": "2022-07-07T17:04:35.158251Z"
    },
    "tags": []
   },
   "outputs": [],
   "source": [
    "def model(noise: float=(0, 0.6, 0.05), mk_period: int = (64, 512, 8)):\n",
    "    A = (np.random.rand(period*5)-noise).cumsum()\n",
    "    B = np.random.rand(period*5) + A[-1]\n",
    "    Source = np.hstack((A, B))\n",
    "    MannKendall = original_series(Source, mk_period)\n",
    "    return 0, locals()"
   ]
  },
  {
   "cell_type": "code",
   "execution_count": 6,
   "id": "a29528aa-bbd7-48ef-b85c-955800554895",
   "metadata": {
    "execution": {
     "iopub.execute_input": "2022-07-07T17:04:35.162318Z",
     "iopub.status.busy": "2022-07-07T17:04:35.162318Z",
     "iopub.status.idle": "2022-07-07T17:04:37.072762Z",
     "shell.execute_reply": "2022-07-07T17:04:37.072762Z",
     "shell.execute_reply.started": "2022-07-07T17:04:35.162318Z"
    },
    "tags": []
   },
   "outputs": [
    {
     "data": {
      "application/vnd.jupyter.widget-view+json": {
       "model_id": "e3a2a21522604da69db75d2cdddd1165",
       "version_major": 2,
       "version_minor": 0
      },
      "text/plain": [
       "VBox(children=(HBox(children=(FloatSlider(value=0.25, description='noise', max=0.6, step=0.05), IntSlider(valu…"
      ]
     },
     "metadata": {},
     "output_type": "display_data"
    }
   ],
   "source": [
    "box = interactFigure(model, rows=2, Source={'color': 'lightblue'}, MannKendall={'row': 2})\n",
    "fig = box.children[-1]\n",
    "\n",
    "fig.add_vline(x=period*5, line_dash='dot')\n",
    "for shape in fig.layout.shapes:\n",
    "    shape[\"yref\"] = \"paper\"\n",
    "    \n",
    "box"
   ]
  },
  {
   "cell_type": "code",
   "execution_count": null,
   "id": "08db4784-9e1c-492c-b639-5874784e04de",
   "metadata": {},
   "outputs": [],
   "source": []
  }
 ],
 "metadata": {
  "kernelspec": {
   "display_name": "Python 3 (ipykernel)",
   "language": "python",
   "name": "python3"
  },
  "language_info": {
   "codemirror_mode": {
    "name": "ipython",
    "version": 3
   },
   "file_extension": ".py",
   "mimetype": "text/x-python",
   "name": "python",
   "nbconvert_exporter": "python",
   "pygments_lexer": "ipython3",
   "version": "3.9.12"
  }
 },
 "nbformat": 4,
 "nbformat_minor": 5
}

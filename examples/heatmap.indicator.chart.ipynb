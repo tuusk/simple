{
 "cells": [
  {
   "cell_type": "markdown",
   "id": "13dc65d6-fd0b-41d5-8251-685252897e94",
   "metadata": {},
   "source": [
    "# Heatmap of different oscillators"
   ]
  },
  {
   "cell_type": "code",
   "execution_count": 1,
   "id": "d645f44e",
   "metadata": {
    "collapsed": false,
    "jupyter": {
     "outputs_hidden": false
    },
    "pycharm": {
     "name": "#%%\n"
    },
    "tags": []
   },
   "outputs": [],
   "source": [
    "import numpy as np\n",
    "from simple.chart import chartFigure\n",
    "from simple.funcs import symlog, vPIN, cPIN, tickSpeed\n",
    "from simple.pretty import pmap\n",
    "from simple.jurik import JRSX, JTPO, JCFB\n",
    "from simple.ehlers import reflex\n",
    "from simple.hurst import HurstRS\n",
    "import matplotlib.pyplot as plt"
   ]
  },
  {
   "cell_type": "code",
   "execution_count": 2,
   "id": "e558b31d-aa5c-4d18-a323-3c9651423488",
   "metadata": {},
   "outputs": [],
   "source": [
    "%config InlineBackend.figure_format = 'retina'\n",
    "plt.rcParams['figure.dpi'] = 80\n",
    "plt.rcParams['figure.subplot.left'] = 0.04\n",
    "plt.rcParams['figure.subplot.right'] = 0.96\n",
    "plt.rcParams['figure.subplot.top'] = 0.96\n",
    "plt.rcParams['figure.subplot.bottom'] = 0.04\n",
    "plt.rcParams['axes.grid'] = False"
   ]
  },
  {
   "cell_type": "code",
   "execution_count": 3,
   "id": "bbce2eec-0214-4ba7-a2f7-e2f0c4d2f4a1",
   "metadata": {},
   "outputs": [
    {
     "data": {
      "text/plain": [
       "30000"
      ]
     },
     "execution_count": 3,
     "metadata": {},
     "output_type": "execute_result"
    }
   ],
   "source": [
    "T = np.load('data/ETHUSDT.2022-05-08.tick.npz')['ETHUSDT'].view(np.recarray)[:30_000]\n",
    "len(T)"
   ]
  },
  {
   "cell_type": "code",
   "execution_count": null,
   "id": "b89980d9-164b-41ee-8f1b-c43614a30ff6",
   "metadata": {},
   "outputs": [],
   "source": [
    "T"
   ]
  },
  {
   "cell_type": "code",
   "execution_count": 4,
   "id": "a4305193",
   "metadata": {
    "collapsed": false,
    "jupyter": {
     "outputs_hidden": false
    },
    "pycharm": {
     "name": "#%%\n"
    },
    "tags": []
   },
   "outputs": [
    {
     "data": {
      "text/plain": [
       "rec.array([('2022-05-08T00:19:21.746000', 32556, 2630.26, 331.),\n",
       "           ('2022-05-08T00:19:21.763000', 32557, 2630.26,   2.),\n",
       "           ('2022-05-08T00:19:21.779999', 32558, 2630.26,   2.),\n",
       "           ('2022-05-08T00:19:22.347000', 32573, 2630.21,  15.),\n",
       "           ('2022-05-08T00:19:22.385000', 32584, 2630.13,   2.)],\n",
       "          dtype={'names':['DateTime','LocalDT','Price','Size'], 'formats':['<M8[us]','<i8','<f8','<f8'], 'offsets':[0,8,16,24], 'itemsize':40})"
      ]
     },
     "execution_count": 4,
     "metadata": {},
     "output_type": "execute_result"
    }
   ],
   "source": [
    "Buy = T[T.Size > 0]\n",
    "Sell = T[T.Size < 0]\n",
    "Buy[-5:]"
   ]
  },
  {
   "cell_type": "code",
   "execution_count": 5,
   "id": "30841b90-78a2-45c2-945d-95b6c37442ee",
   "metadata": {
    "tags": []
   },
   "outputs": [
    {
     "data": {
      "application/vnd.jupyter.widget-view+json": {
       "model_id": "7632bb6f87b442bfb5f776bdcc8a89bd",
       "version_major": 2,
       "version_minor": 0
      },
      "text/plain": [
       "FigureWidgetResampler({\n",
       "    'data': [{'marker': {'color': 'red',\n",
       "                         'opacity': 0.2,\n",
       "    …"
      ]
     },
     "metadata": {},
     "output_type": "display_data"
    }
   ],
   "source": [
    "# indexed chart without bidask\n",
    "fig = chartFigure(rows=2, height=500,\n",
    "    Sell=dict(x=Sell.LocalDT, y=Sell.Price, color='red', mode='markers', size=-symlog(Sell.Size), opacity=0.2),\n",
    "    Buy=dict(x=Buy.LocalDT, y=Buy.Price, color='green', mode='markers', size=symlog(Buy.Size), opacity=0.2),\n",
    "    Speed=dict(y=tickSpeed(T, 2000), row=2)\n",
    ")\n",
    "fig"
   ]
  },
  {
   "cell_type": "code",
   "execution_count": 6,
   "id": "6c481877-9dac-40fe-b13e-953d2769785b",
   "metadata": {
    "tags": []
   },
   "outputs": [],
   "source": [
    "P = range(3, 600, 3)\n",
    "k = 120"
   ]
  },
  {
   "cell_type": "code",
   "execution_count": 7,
   "id": "f89da82c-174b-4769-8122-b866d60ab109",
   "metadata": {
    "tags": []
   },
   "outputs": [
    {
     "data": {
      "application/vnd.jupyter.widget-view+json": {
       "model_id": "a65f4487003742daa63719ca83fb8689",
       "version_major": 2,
       "version_minor": 0
      },
      "text/plain": [
       "  0%|          | 0/199 [00:00<?, ?it/s]"
      ]
     },
     "metadata": {},
     "output_type": "display_data"
    }
   ],
   "source": [
    "CPIN = pmap(lambda period: cPIN(T, period*10)[::k], P, postfix='CPIN')"
   ]
  },
  {
   "cell_type": "raw",
   "id": "e29564f3-a9fa-4f43-a8f1-cae2a354304d",
   "metadata": {
    "tags": []
   },
   "source": [
    "VPIN = pmap(lambda period: vPIN(T, period*10)[::k], P, postfix='VPIN')\n",
    "CPIN = pmap(lambda period: cPIN(T, period*10)[::k], P)\n",
    "RSX = pmap(lambda period: JRSX(T.Price, period*10)[::k], P)\n",
    "CFB = pmap(lambda period: JCFB(T.Price, 7, period*10)[::k], P)\n",
    "RF = pmap(lambda period: reflex(T.Price, period*10)[::k], P)\n",
    "SP = pmap(lambda period: tickSpeed(T, period*10)[::k], P)"
   ]
  },
  {
   "cell_type": "raw",
   "id": "5b3aec35-26a3-42e0-b2d7-7c30585946b2",
   "metadata": {
    "tags": []
   },
   "source": [
    "HURST = pmap(lambda period: HurstRS(np.diff(T.Price), 600 + period*10)[::k], P)"
   ]
  },
  {
   "cell_type": "raw",
   "id": "33afd660-0282-4380-bd03-29c6ce8357e9",
   "metadata": {},
   "source": [
    "TPO = pmap(lambda period: JTPO(T.Price, period*10)[::k], P)"
   ]
  },
  {
   "cell_type": "raw",
   "id": "b591489e-7581-4c05-8658-6b58630c20b6",
   "metadata": {},
   "source": [
    "N = 8\n",
    "\n",
    "plt.rcParams[\"image.aspect\"] = 'auto'\n",
    "\n",
    "fig, ax = plt.subplots(N, 1, figsize=(16, 13), sharex='col')\n",
    "fig.subplots_adjust(hspace=0)\n",
    "ax[0].imshow(VPIN, cmap='RdYlGn', vmin=-100, vmax=100)\n",
    "ax[0].set_title('vPIN', y=0.8)\n",
    "\n",
    "ax[1].imshow(CPIN, cmap='RdYlGn', vmin=-100, vmax=100)\n",
    "ax[1].set_title('cPIN', y=0.8)\n",
    "\n",
    "ax[2].imshow(RSX, cmap='RdYlGn', vmin=0, vmax=100)\n",
    "ax[2].set_title('RSX', y=0.8)\n",
    "\n",
    "ax[3].imshow(CFB, cmap='RdYlGn', vmin=0, vmax=200)\n",
    "ax[3].set_title('CFB', y=0.8)\n",
    "\n",
    "ax[4].imshow(RF, cmap='RdYlGn', vmin=-2, vmax=2)\n",
    "ax[4].set_title('Reflex', y=0.8)\n",
    "\n",
    "ax[5].imshow(TPO, cmap='RdYlGn', vmin=-1.5, vmax=1.5)\n",
    "ax[5].set_title('TPO', y=0.8)\n",
    "\n",
    "ax[6].imshow(SP, cmap='RdYlGn', vmin=-0.75, vmax=0.75)\n",
    "ax[6].set_title('Speed', y=0.8)\n",
    "\n",
    "ax[7].imshow(HURST, cmap='RdYlGn', vmin=0, vmax=1.3)\n",
    "ax[7].set_title('Hurst R/S', y=0.8)\n",
    "\n",
    "[ax[t].twinx().plot(T.Price[::k]) for t in range(N)];"
   ]
  },
  {
   "cell_type": "code",
   "execution_count": null,
   "id": "16350522-cc03-4d3a-b6f4-7a499f1273e7",
   "metadata": {},
   "outputs": [],
   "source": []
  }
 ],
 "metadata": {
  "kernelspec": {
   "display_name": "Python 3 (ipykernel)",
   "language": "python",
   "name": "python3"
  },
  "language_info": {
   "codemirror_mode": {
    "name": "ipython",
    "version": 3
   },
   "file_extension": ".py",
   "mimetype": "text/x-python",
   "name": "python",
   "nbconvert_exporter": "python",
   "pygments_lexer": "ipython3",
   "version": "3.8.13"
  },
  "widgets": {
   "application/vnd.jupyter.widget-state+json": {
    "state": {},
    "version_major": 2,
    "version_minor": 0
   }
  }
 },
 "nbformat": 4,
 "nbformat_minor": 5
}

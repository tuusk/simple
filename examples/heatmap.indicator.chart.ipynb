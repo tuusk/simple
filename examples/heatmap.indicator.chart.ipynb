{
 "cells": [
  {
   "cell_type": "markdown",
   "id": "13dc65d6-fd0b-41d5-8251-685252897e94",
   "metadata": {},
   "source": [
    "# Heatmap of different oscillators"
   ]
  },
  {
   "cell_type": "code",
   "execution_count": null,
   "id": "d645f44e",
   "metadata": {
    "collapsed": false,
    "jupyter": {
     "outputs_hidden": false
    },
    "pycharm": {
     "name": "#%%\n"
    },
    "tags": []
   },
   "outputs": [],
   "source": [
    "import numpy as np\n",
    "from simple.plotly import chartFigure\n",
    "from simple.funcs import symlog, vPIN, cPIN, tickSpeed\n",
    "from simple.pretty import pmap\n",
    "from simple.jurik import JRSX, JTPO, JCFB\n",
    "from simple.ehlers import reflex\n",
    "from functools import partial\n",
    "import matplotlib.pyplot as plt"
   ]
  },
  {
   "cell_type": "code",
   "execution_count": null,
   "id": "e558b31d-aa5c-4d18-a323-3c9651423488",
   "metadata": {},
   "outputs": [],
   "source": [
    "%config InlineBackend.figure_format = 'retina'\n",
    "plt.rcParams['figure.dpi'] = 80\n",
    "plt.rcParams['figure.subplot.left'] = 0.04\n",
    "plt.rcParams['figure.subplot.right'] = 0.96\n",
    "plt.rcParams['figure.subplot.top'] = 0.96\n",
    "plt.rcParams['figure.subplot.bottom'] = 0.04\n",
    "plt.rcParams['axes.grid'] = False"
   ]
  },
  {
   "cell_type": "code",
   "execution_count": null,
   "id": "bd27d73e",
   "metadata": {
    "collapsed": false,
    "jupyter": {
     "outputs_hidden": false
    },
    "pycharm": {
     "name": "#%%\n"
    },
    "tags": []
   },
   "outputs": [],
   "source": [
    "T = np.load('data/ETHUSDT.2022-05-08.tick.npz')['ETHUSDT'].view(np.recarray)\n",
    "len(T)"
   ]
  },
  {
   "cell_type": "code",
   "execution_count": null,
   "id": "a4305193",
   "metadata": {
    "collapsed": false,
    "jupyter": {
     "outputs_hidden": false
    },
    "pycharm": {
     "name": "#%%\n"
    },
    "tags": []
   },
   "outputs": [],
   "source": [
    "Buy = T[T.VolumeA > 0]\n",
    "Sell = T[T.VolumeA < 0]\n",
    "Buy[:5]"
   ]
  },
  {
   "cell_type": "code",
   "execution_count": null,
   "id": "30841b90-78a2-45c2-945d-95b6c37442ee",
   "metadata": {
    "tags": []
   },
   "outputs": [],
   "source": [
    "# indexed chart without bidask\n",
    "fig = chartFigure(rows=2, height=500,\n",
    "    Sell=dict(x=Sell.LocalTimeA, y=Sell.PriceA, color='red', mode='markers', size=-symlog(Sell.VolumeA)+3, opacity=0.2),\n",
    "    Buy=dict(x=Buy.LocalTimeA, y=Buy.PriceA, color='green', mode='markers', size=symlog(Buy.VolumeA)+3, opacity=0.2),\n",
    "    Speed=dict(y=tickSpeed(T, 3000), row=2)\n",
    ")\n",
    "fig"
   ]
  },
  {
   "cell_type": "code",
   "execution_count": null,
   "id": "68e56e31-a3c3-40f0-b897-a72e96851205",
   "metadata": {},
   "outputs": [],
   "source": [
    "P = range(3, 600, 3)\n",
    "k = 120\n",
    "VPIN = pmap(lambda period: vPIN(T, period*10)[::k], P)\n",
    "CPIN = pmap(lambda period: cPIN(T, period*10)[::k], P)\n",
    "SP = pmap(lambda period: tickSpeed(T, period*10)[::k], P)\n",
    "RSX = pmap(lambda period: JRSX(T.PriceA, period*10)[::k], P)\n",
    "CFB = pmap(lambda period: JCFB(T.PriceA, 7, period*10)[::k], P)\n",
    "\n",
    "RF = pmap(lambda period: reflex(T.PriceA, period*10)[::k], P)"
   ]
  },
  {
   "cell_type": "code",
   "execution_count": null,
   "id": "285a0b8f-2042-4eb1-a719-99dba3ea43f4",
   "metadata": {},
   "outputs": [],
   "source": [
    "TPO = pmap(lambda period: JTPO(T.PriceA, period*2)[::k], P)"
   ]
  },
  {
   "cell_type": "code",
   "execution_count": null,
   "id": "a5820571-e2d8-436f-8849-ce5beb605c34",
   "metadata": {},
   "outputs": [],
   "source": [
    "N = 6\n",
    "fig, ax = plt.subplots(N, 1, figsize=(16, 12), sharex='col')\n",
    "fig.subplots_adjust(hspace=0)\n",
    "ax[0].imshow(VPIN, cmap='RdYlGn')\n",
    "ax[1].imshow(CPIN, cmap='RdYlGn')\n",
    "ax[2].imshow(RSX, cmap='RdYlGn')\n",
    "ax[3].imshow(CFB, cmap='RdYlGn')\n",
    "ax[4].imshow(RF, cmap='RdYlGn')\n",
    "ax[5].imshow(TPO, cmap='RdYlGn');\n",
    "\n",
    "[ax[t].twinx().plot(T.PriceA[::k]) for t in range(N)];"
   ]
  },
  {
   "cell_type": "code",
   "execution_count": null,
   "id": "eee49b11-72c6-4152-8ea1-85d0d6921b66",
   "metadata": {},
   "outputs": [],
   "source": []
  }
 ],
 "metadata": {
  "kernelspec": {
   "display_name": "Python 3 (ipykernel)",
   "language": "python",
   "name": "python3"
  },
  "language_info": {
   "codemirror_mode": {
    "name": "ipython",
    "version": 3
   },
   "file_extension": ".py",
   "mimetype": "text/x-python",
   "name": "python",
   "nbconvert_exporter": "python",
   "pygments_lexer": "ipython3",
   "version": "3.8.13"
  }
 },
 "nbformat": 4,
 "nbformat_minor": 5
}

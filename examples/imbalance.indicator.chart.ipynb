{
 "cells": [
  {
   "cell_type": "markdown",
   "id": "13dc65d6-fd0b-41d5-8251-685252897e94",
   "metadata": {},
   "source": [
    "# Orderbook imbalance heatmap chart"
   ]
  },
  {
   "cell_type": "code",
   "execution_count": 1,
   "id": "d645f44e",
   "metadata": {
    "collapsed": false,
    "jupyter": {
     "outputs_hidden": false
    },
    "pycharm": {
     "name": "#%%\n"
    },
    "tags": []
   },
   "outputs": [],
   "source": [
    "import numpy as np\n",
    "from simple.plotly import chartFigure\n",
    "from simple.funcs import symlog, Ratio, tickSpeed\n",
    "from simple.pretty import pmap\n",
    "from functools import partial\n",
    "import matplotlib.pyplot as plt"
   ]
  },
  {
   "cell_type": "code",
   "execution_count": 2,
   "id": "e387d185-cb21-4dc4-bb78-683544cc4ac4",
   "metadata": {},
   "outputs": [],
   "source": [
    "%config InlineBackend.figure_format = 'retina'\n",
    "plt.rcParams['figure.dpi'] = 80\n",
    "plt.rcParams['figure.subplot.left'] = 0.04\n",
    "plt.rcParams['figure.subplot.right'] = 0.96\n",
    "plt.rcParams['figure.subplot.top'] = 0.96\n",
    "plt.rcParams['figure.subplot.bottom'] = 0.04\n",
    "plt.rcParams['axes.grid'] = False\n",
    "plt.rcParams['image.aspect'] = 'auto'"
   ]
  },
  {
   "cell_type": "code",
   "execution_count": 3,
   "id": "140671d0-9482-4529-8a19-28e1ffb7b8b1",
   "metadata": {},
   "outputs": [],
   "source": [
    "S = np.load('data/ETHUSDT.2022-05-08.snap.npz')['ETHUSDT'].view(np.recarray)\n",
    "A, vA, B, vB = S.A.T, S.vA.T, S.B.T, S.vB.T"
   ]
  },
  {
   "cell_type": "code",
   "execution_count": 4,
   "id": "d9955ebe-a6ba-45b5-91e1-13071a7fb279",
   "metadata": {},
   "outputs": [
    {
     "data": {
      "application/vnd.jupyter.widget-view+json": {
       "model_id": "804e25728cd242f5ae855ca90723806d",
       "version_major": 2,
       "version_minor": 0
      },
      "text/plain": [
       "FigureWidgetResampler({\n",
       "    'data': [{'line': {'color': 'green'},\n",
       "              'name': '<b style=\"color:sandy…"
      ]
     },
     "metadata": {},
     "output_type": "display_data"
    }
   ],
   "source": [
    "# indexed chart with bidask\n",
    "fig = chartFigure(rows=2,\n",
    "    Bid=dict(y=A[0], color='green'),\n",
    "    Ask=dict(y=B[0], color='red'),\n",
    "    Imb=dict(y=Ratio(vA, vB, 100), color='blue', row=2)\n",
    ")\n",
    "fig"
   ]
  },
  {
   "cell_type": "code",
   "execution_count": null,
   "id": "0be0403e-3f7b-4a97-ad60-5f803e4ad115",
   "metadata": {},
   "outputs": [
    {
     "data": {
      "application/vnd.jupyter.widget-view+json": {
       "model_id": "c2df11ad7910491dad99ea5a48a5039f",
       "version_major": 2,
       "version_minor": 0
      },
      "text/plain": [
       "  0%|          | 0/199 [00:00<?, ?it/s]"
      ]
     },
     "metadata": {},
     "output_type": "display_data"
    }
   ],
   "source": [
    "Imb = pmap(lambda level: Ratio(vA, vB, level), range(1, A.shape[0]))"
   ]
  },
  {
   "cell_type": "code",
   "execution_count": null,
   "id": "f6ade731-16e6-47c3-9035-e7fc6c28b683",
   "metadata": {
    "tags": []
   },
   "outputs": [],
   "source": [
    "plt.figure(figsize=(16,4))\n",
    "plt.imshow(Imb, cmap='RdYlGn');"
   ]
  }
 ],
 "metadata": {
  "kernelspec": {
   "display_name": "Python 3 (ipykernel)",
   "language": "python",
   "name": "python3"
  },
  "language_info": {
   "codemirror_mode": {
    "name": "ipython",
    "version": 3
   },
   "file_extension": ".py",
   "mimetype": "text/x-python",
   "name": "python",
   "nbconvert_exporter": "python",
   "pygments_lexer": "ipython3",
   "version": "3.8.13"
  },
  "widgets": {
   "application/vnd.jupyter.widget-state+json": {
    "state": {
     "11ee1092b619457bb3b1ed8f1f776ee9": {
      "model_module": "jupyterlab-plotly",
      "model_module_version": "^5.6.0",
      "model_name": "FigureModel",
      "state": {
       "_config": {
        "plotlyServerURL": "https://plot.ly"
       },
       "_js2py_layoutDelta": {},
       "_js2py_pointsCallback": {},
       "_js2py_relayout": {},
       "_js2py_restyle": {},
       "_js2py_traceDeltas": {},
       "_js2py_update": {},
       "_layout": {
        "template": {
         "data": {
          "bar": [
           {
            "error_x": {
             "color": "#2a3f5f"
            },
            "error_y": {
             "color": "#2a3f5f"
            },
            "marker": {
             "line": {
              "color": "#E5ECF6",
              "width": 0.5
             },
             "pattern": {
              "fillmode": "overlay",
              "size": 10,
              "solidity": 0.2
             }
            },
            "type": "bar"
           }
          ],
          "barpolar": [
           {
            "marker": {
             "line": {
              "color": "#E5ECF6",
              "width": 0.5
             },
             "pattern": {
              "fillmode": "overlay",
              "size": 10,
              "solidity": 0.2
             }
            },
            "type": "barpolar"
           }
          ],
          "carpet": [
           {
            "aaxis": {
             "endlinecolor": "#2a3f5f",
             "gridcolor": "white",
             "linecolor": "white",
             "minorgridcolor": "white",
             "startlinecolor": "#2a3f5f"
            },
            "baxis": {
             "endlinecolor": "#2a3f5f",
             "gridcolor": "white",
             "linecolor": "white",
             "minorgridcolor": "white",
             "startlinecolor": "#2a3f5f"
            },
            "type": "carpet"
           }
          ],
          "choropleth": [
           {
            "colorbar": {
             "outlinewidth": 0,
             "ticks": ""
            },
            "type": "choropleth"
           }
          ],
          "contour": [
           {
            "colorbar": {
             "outlinewidth": 0,
             "ticks": ""
            },
            "colorscale": [
             [
              0,
              "#0d0887"
             ],
             [
              0.1111111111111111,
              "#46039f"
             ],
             [
              0.2222222222222222,
              "#7201a8"
             ],
             [
              0.3333333333333333,
              "#9c179e"
             ],
             [
              0.4444444444444444,
              "#bd3786"
             ],
             [
              0.5555555555555556,
              "#d8576b"
             ],
             [
              0.6666666666666666,
              "#ed7953"
             ],
             [
              0.7777777777777778,
              "#fb9f3a"
             ],
             [
              0.8888888888888888,
              "#fdca26"
             ],
             [
              1,
              "#f0f921"
             ]
            ],
            "type": "contour"
           }
          ],
          "contourcarpet": [
           {
            "colorbar": {
             "outlinewidth": 0,
             "ticks": ""
            },
            "type": "contourcarpet"
           }
          ],
          "heatmap": [
           {
            "colorbar": {
             "outlinewidth": 0,
             "ticks": ""
            },
            "colorscale": [
             [
              0,
              "#0d0887"
             ],
             [
              0.1111111111111111,
              "#46039f"
             ],
             [
              0.2222222222222222,
              "#7201a8"
             ],
             [
              0.3333333333333333,
              "#9c179e"
             ],
             [
              0.4444444444444444,
              "#bd3786"
             ],
             [
              0.5555555555555556,
              "#d8576b"
             ],
             [
              0.6666666666666666,
              "#ed7953"
             ],
             [
              0.7777777777777778,
              "#fb9f3a"
             ],
             [
              0.8888888888888888,
              "#fdca26"
             ],
             [
              1,
              "#f0f921"
             ]
            ],
            "type": "heatmap"
           }
          ],
          "heatmapgl": [
           {
            "colorbar": {
             "outlinewidth": 0,
             "ticks": ""
            },
            "colorscale": [
             [
              0,
              "#0d0887"
             ],
             [
              0.1111111111111111,
              "#46039f"
             ],
             [
              0.2222222222222222,
              "#7201a8"
             ],
             [
              0.3333333333333333,
              "#9c179e"
             ],
             [
              0.4444444444444444,
              "#bd3786"
             ],
             [
              0.5555555555555556,
              "#d8576b"
             ],
             [
              0.6666666666666666,
              "#ed7953"
             ],
             [
              0.7777777777777778,
              "#fb9f3a"
             ],
             [
              0.8888888888888888,
              "#fdca26"
             ],
             [
              1,
              "#f0f921"
             ]
            ],
            "type": "heatmapgl"
           }
          ],
          "histogram": [
           {
            "marker": {
             "pattern": {
              "fillmode": "overlay",
              "size": 10,
              "solidity": 0.2
             }
            },
            "type": "histogram"
           }
          ],
          "histogram2d": [
           {
            "colorbar": {
             "outlinewidth": 0,
             "ticks": ""
            },
            "colorscale": [
             [
              0,
              "#0d0887"
             ],
             [
              0.1111111111111111,
              "#46039f"
             ],
             [
              0.2222222222222222,
              "#7201a8"
             ],
             [
              0.3333333333333333,
              "#9c179e"
             ],
             [
              0.4444444444444444,
              "#bd3786"
             ],
             [
              0.5555555555555556,
              "#d8576b"
             ],
             [
              0.6666666666666666,
              "#ed7953"
             ],
             [
              0.7777777777777778,
              "#fb9f3a"
             ],
             [
              0.8888888888888888,
              "#fdca26"
             ],
             [
              1,
              "#f0f921"
             ]
            ],
            "type": "histogram2d"
           }
          ],
          "histogram2dcontour": [
           {
            "colorbar": {
             "outlinewidth": 0,
             "ticks": ""
            },
            "colorscale": [
             [
              0,
              "#0d0887"
             ],
             [
              0.1111111111111111,
              "#46039f"
             ],
             [
              0.2222222222222222,
              "#7201a8"
             ],
             [
              0.3333333333333333,
              "#9c179e"
             ],
             [
              0.4444444444444444,
              "#bd3786"
             ],
             [
              0.5555555555555556,
              "#d8576b"
             ],
             [
              0.6666666666666666,
              "#ed7953"
             ],
             [
              0.7777777777777778,
              "#fb9f3a"
             ],
             [
              0.8888888888888888,
              "#fdca26"
             ],
             [
              1,
              "#f0f921"
             ]
            ],
            "type": "histogram2dcontour"
           }
          ],
          "mesh3d": [
           {
            "colorbar": {
             "outlinewidth": 0,
             "ticks": ""
            },
            "type": "mesh3d"
           }
          ],
          "parcoords": [
           {
            "line": {
             "colorbar": {
              "outlinewidth": 0,
              "ticks": ""
             }
            },
            "type": "parcoords"
           }
          ],
          "pie": [
           {
            "automargin": true,
            "type": "pie"
           }
          ],
          "scatter": [
           {
            "marker": {
             "colorbar": {
              "outlinewidth": 0,
              "ticks": ""
             }
            },
            "type": "scatter"
           }
          ],
          "scatter3d": [
           {
            "line": {
             "colorbar": {
              "outlinewidth": 0,
              "ticks": ""
             }
            },
            "marker": {
             "colorbar": {
              "outlinewidth": 0,
              "ticks": ""
             }
            },
            "type": "scatter3d"
           }
          ],
          "scattercarpet": [
           {
            "marker": {
             "colorbar": {
              "outlinewidth": 0,
              "ticks": ""
             }
            },
            "type": "scattercarpet"
           }
          ],
          "scattergeo": [
           {
            "marker": {
             "colorbar": {
              "outlinewidth": 0,
              "ticks": ""
             }
            },
            "type": "scattergeo"
           }
          ],
          "scattergl": [
           {
            "marker": {
             "colorbar": {
              "outlinewidth": 0,
              "ticks": ""
             }
            },
            "type": "scattergl"
           }
          ],
          "scattermapbox": [
           {
            "marker": {
             "colorbar": {
              "outlinewidth": 0,
              "ticks": ""
             }
            },
            "type": "scattermapbox"
           }
          ],
          "scatterpolar": [
           {
            "marker": {
             "colorbar": {
              "outlinewidth": 0,
              "ticks": ""
             }
            },
            "type": "scatterpolar"
           }
          ],
          "scatterpolargl": [
           {
            "marker": {
             "colorbar": {
              "outlinewidth": 0,
              "ticks": ""
             }
            },
            "type": "scatterpolargl"
           }
          ],
          "scatterternary": [
           {
            "marker": {
             "colorbar": {
              "outlinewidth": 0,
              "ticks": ""
             }
            },
            "type": "scatterternary"
           }
          ],
          "surface": [
           {
            "colorbar": {
             "outlinewidth": 0,
             "ticks": ""
            },
            "colorscale": [
             [
              0,
              "#0d0887"
             ],
             [
              0.1111111111111111,
              "#46039f"
             ],
             [
              0.2222222222222222,
              "#7201a8"
             ],
             [
              0.3333333333333333,
              "#9c179e"
             ],
             [
              0.4444444444444444,
              "#bd3786"
             ],
             [
              0.5555555555555556,
              "#d8576b"
             ],
             [
              0.6666666666666666,
              "#ed7953"
             ],
             [
              0.7777777777777778,
              "#fb9f3a"
             ],
             [
              0.8888888888888888,
              "#fdca26"
             ],
             [
              1,
              "#f0f921"
             ]
            ],
            "type": "surface"
           }
          ],
          "table": [
           {
            "cells": {
             "fill": {
              "color": "#EBF0F8"
             },
             "line": {
              "color": "white"
             }
            },
            "header": {
             "fill": {
              "color": "#C8D4E3"
             },
             "line": {
              "color": "white"
             }
            },
            "type": "table"
           }
          ]
         },
         "layout": {
          "annotationdefaults": {
           "arrowcolor": "#2a3f5f",
           "arrowhead": 0,
           "arrowwidth": 1
          },
          "autotypenumbers": "strict",
          "coloraxis": {
           "colorbar": {
            "outlinewidth": 0,
            "ticks": ""
           }
          },
          "colorscale": {
           "diverging": [
            [
             0,
             "#8e0152"
            ],
            [
             0.1,
             "#c51b7d"
            ],
            [
             0.2,
             "#de77ae"
            ],
            [
             0.3,
             "#f1b6da"
            ],
            [
             0.4,
             "#fde0ef"
            ],
            [
             0.5,
             "#f7f7f7"
            ],
            [
             0.6,
             "#e6f5d0"
            ],
            [
             0.7,
             "#b8e186"
            ],
            [
             0.8,
             "#7fbc41"
            ],
            [
             0.9,
             "#4d9221"
            ],
            [
             1,
             "#276419"
            ]
           ],
           "sequential": [
            [
             0,
             "#0d0887"
            ],
            [
             0.1111111111111111,
             "#46039f"
            ],
            [
             0.2222222222222222,
             "#7201a8"
            ],
            [
             0.3333333333333333,
             "#9c179e"
            ],
            [
             0.4444444444444444,
             "#bd3786"
            ],
            [
             0.5555555555555556,
             "#d8576b"
            ],
            [
             0.6666666666666666,
             "#ed7953"
            ],
            [
             0.7777777777777778,
             "#fb9f3a"
            ],
            [
             0.8888888888888888,
             "#fdca26"
            ],
            [
             1,
             "#f0f921"
            ]
           ],
           "sequentialminus": [
            [
             0,
             "#0d0887"
            ],
            [
             0.1111111111111111,
             "#46039f"
            ],
            [
             0.2222222222222222,
             "#7201a8"
            ],
            [
             0.3333333333333333,
             "#9c179e"
            ],
            [
             0.4444444444444444,
             "#bd3786"
            ],
            [
             0.5555555555555556,
             "#d8576b"
            ],
            [
             0.6666666666666666,
             "#ed7953"
            ],
            [
             0.7777777777777778,
             "#fb9f3a"
            ],
            [
             0.8888888888888888,
             "#fdca26"
            ],
            [
             1,
             "#f0f921"
            ]
           ]
          },
          "colorway": [
           "#636efa",
           "#EF553B",
           "#00cc96",
           "#ab63fa",
           "#FFA15A",
           "#19d3f3",
           "#FF6692",
           "#B6E880",
           "#FF97FF",
           "#FECB52"
          ],
          "font": {
           "color": "#2a3f5f"
          },
          "geo": {
           "bgcolor": "white",
           "lakecolor": "white",
           "landcolor": "#E5ECF6",
           "showlakes": true,
           "showland": true,
           "subunitcolor": "white"
          },
          "hoverlabel": {
           "align": "left"
          },
          "hovermode": "closest",
          "mapbox": {
           "style": "light"
          },
          "paper_bgcolor": "white",
          "plot_bgcolor": "#E5ECF6",
          "polar": {
           "angularaxis": {
            "gridcolor": "white",
            "linecolor": "white",
            "ticks": ""
           },
           "bgcolor": "#E5ECF6",
           "radialaxis": {
            "gridcolor": "white",
            "linecolor": "white",
            "ticks": ""
           }
          },
          "scene": {
           "xaxis": {
            "backgroundcolor": "#E5ECF6",
            "gridcolor": "white",
            "gridwidth": 2,
            "linecolor": "white",
            "showbackground": true,
            "ticks": "",
            "zerolinecolor": "white"
           },
           "yaxis": {
            "backgroundcolor": "#E5ECF6",
            "gridcolor": "white",
            "gridwidth": 2,
            "linecolor": "white",
            "showbackground": true,
            "ticks": "",
            "zerolinecolor": "white"
           },
           "zaxis": {
            "backgroundcolor": "#E5ECF6",
            "gridcolor": "white",
            "gridwidth": 2,
            "linecolor": "white",
            "showbackground": true,
            "ticks": "",
            "zerolinecolor": "white"
           }
          },
          "shapedefaults": {
           "line": {
            "color": "#2a3f5f"
           }
          },
          "ternary": {
           "aaxis": {
            "gridcolor": "white",
            "linecolor": "white",
            "ticks": ""
           },
           "baxis": {
            "gridcolor": "white",
            "linecolor": "white",
            "ticks": ""
           },
           "bgcolor": "#E5ECF6",
           "caxis": {
            "gridcolor": "white",
            "linecolor": "white",
            "ticks": ""
           }
          },
          "title": {
           "x": 0.05
          },
          "xaxis": {
           "automargin": true,
           "gridcolor": "white",
           "linecolor": "white",
           "ticks": "",
           "title": {
            "standoff": 15
           },
           "zerolinecolor": "white",
           "zerolinewidth": 2
          },
          "yaxis": {
           "automargin": true,
           "gridcolor": "white",
           "linecolor": "white",
           "ticks": "",
           "title": {
            "standoff": 15
           },
           "zerolinecolor": "white",
           "zerolinewidth": 2
          }
         }
        },
        "xaxis": {
         "anchor": "y",
         "domain": [
          0,
          0.94
         ],
         "matches": "x2",
         "showticklabels": false
        },
        "xaxis2": {
         "anchor": "y3",
         "domain": [
          0,
          0.94
         ]
        },
        "yaxis": {
         "anchor": "x",
         "domain": [
          0.32100000000000006,
          1
         ]
        },
        "yaxis2": {
         "anchor": "x",
         "overlaying": "y",
         "side": "right"
        },
        "yaxis3": {
         "anchor": "x2",
         "domain": [
          0,
          0.29100000000000004
         ]
        },
        "yaxis4": {
         "anchor": "x2",
         "overlaying": "y3",
         "side": "right"
        }
       },
       "_py2js_addTraces": {},
       "_py2js_animate": {},
       "_py2js_deleteTraces": {},
       "_py2js_moveTraces": {},
       "_py2js_relayout": {},
       "_py2js_removeLayoutProps": {},
       "_py2js_removeTraceProps": {},
       "_py2js_restyle": {},
       "_py2js_update": {},
       "_view_count": 0
      }
     },
     "162d7ab8cfcd40deb92a68695a3872b8": {
      "model_module": "@jupyter-widgets/controls",
      "model_module_version": "1.5.0",
      "model_name": "HTMLModel",
      "state": {
       "layout": "IPY_MODEL_2717264b427044f5ace0ad88ff43ccf4",
       "style": "IPY_MODEL_29eabcc3f47e470fbd3471a50759a6eb",
       "value": " 83%"
      }
     },
     "2717264b427044f5ace0ad88ff43ccf4": {
      "model_module": "@jupyter-widgets/base",
      "model_module_version": "1.2.0",
      "model_name": "LayoutModel",
      "state": {}
     },
     "283b002631af4105b7e78520a9fa31d2": {
      "model_module": "jupyterlab-plotly",
      "model_module_version": "^5.6.0",
      "model_name": "FigureModel",
      "state": {
       "_config": {
        "plotlyServerURL": "https://plot.ly"
       },
       "_js2py_layoutDelta": {},
       "_js2py_pointsCallback": {},
       "_js2py_relayout": {},
       "_js2py_restyle": {},
       "_js2py_traceDeltas": {},
       "_js2py_update": {},
       "_layout": {
        "template": {
         "data": {
          "bar": [
           {
            "error_x": {
             "color": "#2a3f5f"
            },
            "error_y": {
             "color": "#2a3f5f"
            },
            "marker": {
             "line": {
              "color": "#E5ECF6",
              "width": 0.5
             },
             "pattern": {
              "fillmode": "overlay",
              "size": 10,
              "solidity": 0.2
             }
            },
            "type": "bar"
           }
          ],
          "barpolar": [
           {
            "marker": {
             "line": {
              "color": "#E5ECF6",
              "width": 0.5
             },
             "pattern": {
              "fillmode": "overlay",
              "size": 10,
              "solidity": 0.2
             }
            },
            "type": "barpolar"
           }
          ],
          "carpet": [
           {
            "aaxis": {
             "endlinecolor": "#2a3f5f",
             "gridcolor": "white",
             "linecolor": "white",
             "minorgridcolor": "white",
             "startlinecolor": "#2a3f5f"
            },
            "baxis": {
             "endlinecolor": "#2a3f5f",
             "gridcolor": "white",
             "linecolor": "white",
             "minorgridcolor": "white",
             "startlinecolor": "#2a3f5f"
            },
            "type": "carpet"
           }
          ],
          "choropleth": [
           {
            "colorbar": {
             "outlinewidth": 0,
             "ticks": ""
            },
            "type": "choropleth"
           }
          ],
          "contour": [
           {
            "colorbar": {
             "outlinewidth": 0,
             "ticks": ""
            },
            "colorscale": [
             [
              0,
              "#0d0887"
             ],
             [
              0.1111111111111111,
              "#46039f"
             ],
             [
              0.2222222222222222,
              "#7201a8"
             ],
             [
              0.3333333333333333,
              "#9c179e"
             ],
             [
              0.4444444444444444,
              "#bd3786"
             ],
             [
              0.5555555555555556,
              "#d8576b"
             ],
             [
              0.6666666666666666,
              "#ed7953"
             ],
             [
              0.7777777777777778,
              "#fb9f3a"
             ],
             [
              0.8888888888888888,
              "#fdca26"
             ],
             [
              1,
              "#f0f921"
             ]
            ],
            "type": "contour"
           }
          ],
          "contourcarpet": [
           {
            "colorbar": {
             "outlinewidth": 0,
             "ticks": ""
            },
            "type": "contourcarpet"
           }
          ],
          "heatmap": [
           {
            "colorbar": {
             "outlinewidth": 0,
             "ticks": ""
            },
            "colorscale": [
             [
              0,
              "#0d0887"
             ],
             [
              0.1111111111111111,
              "#46039f"
             ],
             [
              0.2222222222222222,
              "#7201a8"
             ],
             [
              0.3333333333333333,
              "#9c179e"
             ],
             [
              0.4444444444444444,
              "#bd3786"
             ],
             [
              0.5555555555555556,
              "#d8576b"
             ],
             [
              0.6666666666666666,
              "#ed7953"
             ],
             [
              0.7777777777777778,
              "#fb9f3a"
             ],
             [
              0.8888888888888888,
              "#fdca26"
             ],
             [
              1,
              "#f0f921"
             ]
            ],
            "type": "heatmap"
           }
          ],
          "heatmapgl": [
           {
            "colorbar": {
             "outlinewidth": 0,
             "ticks": ""
            },
            "colorscale": [
             [
              0,
              "#0d0887"
             ],
             [
              0.1111111111111111,
              "#46039f"
             ],
             [
              0.2222222222222222,
              "#7201a8"
             ],
             [
              0.3333333333333333,
              "#9c179e"
             ],
             [
              0.4444444444444444,
              "#bd3786"
             ],
             [
              0.5555555555555556,
              "#d8576b"
             ],
             [
              0.6666666666666666,
              "#ed7953"
             ],
             [
              0.7777777777777778,
              "#fb9f3a"
             ],
             [
              0.8888888888888888,
              "#fdca26"
             ],
             [
              1,
              "#f0f921"
             ]
            ],
            "type": "heatmapgl"
           }
          ],
          "histogram": [
           {
            "marker": {
             "pattern": {
              "fillmode": "overlay",
              "size": 10,
              "solidity": 0.2
             }
            },
            "type": "histogram"
           }
          ],
          "histogram2d": [
           {
            "colorbar": {
             "outlinewidth": 0,
             "ticks": ""
            },
            "colorscale": [
             [
              0,
              "#0d0887"
             ],
             [
              0.1111111111111111,
              "#46039f"
             ],
             [
              0.2222222222222222,
              "#7201a8"
             ],
             [
              0.3333333333333333,
              "#9c179e"
             ],
             [
              0.4444444444444444,
              "#bd3786"
             ],
             [
              0.5555555555555556,
              "#d8576b"
             ],
             [
              0.6666666666666666,
              "#ed7953"
             ],
             [
              0.7777777777777778,
              "#fb9f3a"
             ],
             [
              0.8888888888888888,
              "#fdca26"
             ],
             [
              1,
              "#f0f921"
             ]
            ],
            "type": "histogram2d"
           }
          ],
          "histogram2dcontour": [
           {
            "colorbar": {
             "outlinewidth": 0,
             "ticks": ""
            },
            "colorscale": [
             [
              0,
              "#0d0887"
             ],
             [
              0.1111111111111111,
              "#46039f"
             ],
             [
              0.2222222222222222,
              "#7201a8"
             ],
             [
              0.3333333333333333,
              "#9c179e"
             ],
             [
              0.4444444444444444,
              "#bd3786"
             ],
             [
              0.5555555555555556,
              "#d8576b"
             ],
             [
              0.6666666666666666,
              "#ed7953"
             ],
             [
              0.7777777777777778,
              "#fb9f3a"
             ],
             [
              0.8888888888888888,
              "#fdca26"
             ],
             [
              1,
              "#f0f921"
             ]
            ],
            "type": "histogram2dcontour"
           }
          ],
          "mesh3d": [
           {
            "colorbar": {
             "outlinewidth": 0,
             "ticks": ""
            },
            "type": "mesh3d"
           }
          ],
          "parcoords": [
           {
            "line": {
             "colorbar": {
              "outlinewidth": 0,
              "ticks": ""
             }
            },
            "type": "parcoords"
           }
          ],
          "pie": [
           {
            "automargin": true,
            "type": "pie"
           }
          ],
          "scatter": [
           {
            "marker": {
             "colorbar": {
              "outlinewidth": 0,
              "ticks": ""
             }
            },
            "type": "scatter"
           }
          ],
          "scatter3d": [
           {
            "line": {
             "colorbar": {
              "outlinewidth": 0,
              "ticks": ""
             }
            },
            "marker": {
             "colorbar": {
              "outlinewidth": 0,
              "ticks": ""
             }
            },
            "type": "scatter3d"
           }
          ],
          "scattercarpet": [
           {
            "marker": {
             "colorbar": {
              "outlinewidth": 0,
              "ticks": ""
             }
            },
            "type": "scattercarpet"
           }
          ],
          "scattergeo": [
           {
            "marker": {
             "colorbar": {
              "outlinewidth": 0,
              "ticks": ""
             }
            },
            "type": "scattergeo"
           }
          ],
          "scattergl": [
           {
            "marker": {
             "colorbar": {
              "outlinewidth": 0,
              "ticks": ""
             }
            },
            "type": "scattergl"
           }
          ],
          "scattermapbox": [
           {
            "marker": {
             "colorbar": {
              "outlinewidth": 0,
              "ticks": ""
             }
            },
            "type": "scattermapbox"
           }
          ],
          "scatterpolar": [
           {
            "marker": {
             "colorbar": {
              "outlinewidth": 0,
              "ticks": ""
             }
            },
            "type": "scatterpolar"
           }
          ],
          "scatterpolargl": [
           {
            "marker": {
             "colorbar": {
              "outlinewidth": 0,
              "ticks": ""
             }
            },
            "type": "scatterpolargl"
           }
          ],
          "scatterternary": [
           {
            "marker": {
             "colorbar": {
              "outlinewidth": 0,
              "ticks": ""
             }
            },
            "type": "scatterternary"
           }
          ],
          "surface": [
           {
            "colorbar": {
             "outlinewidth": 0,
             "ticks": ""
            },
            "colorscale": [
             [
              0,
              "#0d0887"
             ],
             [
              0.1111111111111111,
              "#46039f"
             ],
             [
              0.2222222222222222,
              "#7201a8"
             ],
             [
              0.3333333333333333,
              "#9c179e"
             ],
             [
              0.4444444444444444,
              "#bd3786"
             ],
             [
              0.5555555555555556,
              "#d8576b"
             ],
             [
              0.6666666666666666,
              "#ed7953"
             ],
             [
              0.7777777777777778,
              "#fb9f3a"
             ],
             [
              0.8888888888888888,
              "#fdca26"
             ],
             [
              1,
              "#f0f921"
             ]
            ],
            "type": "surface"
           }
          ],
          "table": [
           {
            "cells": {
             "fill": {
              "color": "#EBF0F8"
             },
             "line": {
              "color": "white"
             }
            },
            "header": {
             "fill": {
              "color": "#C8D4E3"
             },
             "line": {
              "color": "white"
             }
            },
            "type": "table"
           }
          ]
         },
         "layout": {
          "annotationdefaults": {
           "arrowcolor": "#2a3f5f",
           "arrowhead": 0,
           "arrowwidth": 1
          },
          "autotypenumbers": "strict",
          "coloraxis": {
           "colorbar": {
            "outlinewidth": 0,
            "ticks": ""
           }
          },
          "colorscale": {
           "diverging": [
            [
             0,
             "#8e0152"
            ],
            [
             0.1,
             "#c51b7d"
            ],
            [
             0.2,
             "#de77ae"
            ],
            [
             0.3,
             "#f1b6da"
            ],
            [
             0.4,
             "#fde0ef"
            ],
            [
             0.5,
             "#f7f7f7"
            ],
            [
             0.6,
             "#e6f5d0"
            ],
            [
             0.7,
             "#b8e186"
            ],
            [
             0.8,
             "#7fbc41"
            ],
            [
             0.9,
             "#4d9221"
            ],
            [
             1,
             "#276419"
            ]
           ],
           "sequential": [
            [
             0,
             "#0d0887"
            ],
            [
             0.1111111111111111,
             "#46039f"
            ],
            [
             0.2222222222222222,
             "#7201a8"
            ],
            [
             0.3333333333333333,
             "#9c179e"
            ],
            [
             0.4444444444444444,
             "#bd3786"
            ],
            [
             0.5555555555555556,
             "#d8576b"
            ],
            [
             0.6666666666666666,
             "#ed7953"
            ],
            [
             0.7777777777777778,
             "#fb9f3a"
            ],
            [
             0.8888888888888888,
             "#fdca26"
            ],
            [
             1,
             "#f0f921"
            ]
           ],
           "sequentialminus": [
            [
             0,
             "#0d0887"
            ],
            [
             0.1111111111111111,
             "#46039f"
            ],
            [
             0.2222222222222222,
             "#7201a8"
            ],
            [
             0.3333333333333333,
             "#9c179e"
            ],
            [
             0.4444444444444444,
             "#bd3786"
            ],
            [
             0.5555555555555556,
             "#d8576b"
            ],
            [
             0.6666666666666666,
             "#ed7953"
            ],
            [
             0.7777777777777778,
             "#fb9f3a"
            ],
            [
             0.8888888888888888,
             "#fdca26"
            ],
            [
             1,
             "#f0f921"
            ]
           ]
          },
          "colorway": [
           "#636efa",
           "#EF553B",
           "#00cc96",
           "#ab63fa",
           "#FFA15A",
           "#19d3f3",
           "#FF6692",
           "#B6E880",
           "#FF97FF",
           "#FECB52"
          ],
          "font": {
           "color": "#2a3f5f"
          },
          "geo": {
           "bgcolor": "white",
           "lakecolor": "white",
           "landcolor": "#E5ECF6",
           "showlakes": true,
           "showland": true,
           "subunitcolor": "white"
          },
          "hoverlabel": {
           "align": "left"
          },
          "hovermode": "closest",
          "mapbox": {
           "style": "light"
          },
          "paper_bgcolor": "white",
          "plot_bgcolor": "#E5ECF6",
          "polar": {
           "angularaxis": {
            "gridcolor": "white",
            "linecolor": "white",
            "ticks": ""
           },
           "bgcolor": "#E5ECF6",
           "radialaxis": {
            "gridcolor": "white",
            "linecolor": "white",
            "ticks": ""
           }
          },
          "scene": {
           "xaxis": {
            "backgroundcolor": "#E5ECF6",
            "gridcolor": "white",
            "gridwidth": 2,
            "linecolor": "white",
            "showbackground": true,
            "ticks": "",
            "zerolinecolor": "white"
           },
           "yaxis": {
            "backgroundcolor": "#E5ECF6",
            "gridcolor": "white",
            "gridwidth": 2,
            "linecolor": "white",
            "showbackground": true,
            "ticks": "",
            "zerolinecolor": "white"
           },
           "zaxis": {
            "backgroundcolor": "#E5ECF6",
            "gridcolor": "white",
            "gridwidth": 2,
            "linecolor": "white",
            "showbackground": true,
            "ticks": "",
            "zerolinecolor": "white"
           }
          },
          "shapedefaults": {
           "line": {
            "color": "#2a3f5f"
           }
          },
          "ternary": {
           "aaxis": {
            "gridcolor": "white",
            "linecolor": "white",
            "ticks": ""
           },
           "baxis": {
            "gridcolor": "white",
            "linecolor": "white",
            "ticks": ""
           },
           "bgcolor": "#E5ECF6",
           "caxis": {
            "gridcolor": "white",
            "linecolor": "white",
            "ticks": ""
           }
          },
          "title": {
           "x": 0.05
          },
          "xaxis": {
           "automargin": true,
           "gridcolor": "white",
           "linecolor": "white",
           "ticks": "",
           "title": {
            "standoff": 15
           },
           "zerolinecolor": "white",
           "zerolinewidth": 2
          },
          "yaxis": {
           "automargin": true,
           "gridcolor": "white",
           "linecolor": "white",
           "ticks": "",
           "title": {
            "standoff": 15
           },
           "zerolinecolor": "white",
           "zerolinewidth": 2
          }
         }
        },
        "xaxis": {
         "anchor": "y",
         "domain": [
          0,
          0.94
         ],
         "matches": "x2",
         "showticklabels": false
        },
        "xaxis2": {
         "anchor": "y3",
         "domain": [
          0,
          0.94
         ]
        },
        "yaxis": {
         "anchor": "x",
         "domain": [
          0.32100000000000006,
          1
         ]
        },
        "yaxis2": {
         "anchor": "x",
         "overlaying": "y",
         "side": "right"
        },
        "yaxis3": {
         "anchor": "x2",
         "domain": [
          0,
          0.29100000000000004
         ]
        },
        "yaxis4": {
         "anchor": "x2",
         "overlaying": "y3",
         "side": "right"
        }
       },
       "_py2js_addTraces": {},
       "_py2js_animate": {},
       "_py2js_deleteTraces": {},
       "_py2js_moveTraces": {},
       "_py2js_relayout": {},
       "_py2js_removeLayoutProps": {},
       "_py2js_removeTraceProps": {},
       "_py2js_restyle": {},
       "_py2js_update": {},
       "_view_count": 0
      }
     },
     "29eabcc3f47e470fbd3471a50759a6eb": {
      "model_module": "@jupyter-widgets/controls",
      "model_module_version": "1.5.0",
      "model_name": "DescriptionStyleModel",
      "state": {
       "description_width": ""
      }
     },
     "2c76cf7fc92a43c5995292f3ff6311e4": {
      "model_module": "@jupyter-widgets/base",
      "model_module_version": "1.2.0",
      "model_name": "LayoutModel",
      "state": {}
     },
     "60523b7753e048ec9055a521a3d6b511": {
      "model_module": "@jupyter-widgets/controls",
      "model_module_version": "1.5.0",
      "model_name": "ProgressStyleModel",
      "state": {
       "description_width": ""
      }
     },
     "80074b5c5f0a46ac88f79a44d0c019d9": {
      "model_module": "@jupyter-widgets/controls",
      "model_module_version": "1.5.0",
      "model_name": "HTMLModel",
      "state": {
       "layout": "IPY_MODEL_b2b4972ffd81463c8c8dde42b6b2903b",
       "style": "IPY_MODEL_9723d74bd5304e1f8c96147258f5fc80",
       "value": " 166/199 [00:09&lt;00:01, 17.62it/s, cpu=27%]"
      }
     },
     "804e25728cd242f5ae855ca90723806d": {
      "buffers": [
       {
        "data": "AMAkRZq5JEWk9CRFZt4kRZr5JEVSyCRFH8kkRbiaJEW4diRFj44kRQCYJEU9eiRFPXokRc2wJEXDkSRF4ZYkRfZ4JEWkeCRFrnskRQC8JEU9qiRFALwkRXG1JEXh8iRFPd4kRSngJEWu+yRFwxElRQrLJEXsxSRFmuEkRaTYJEVS2CRFhbskRYXDJEW4viRFCsskRVyvJEVxqSRFKbwkRSm8JEUpiCRF9qQkRY+OJEW4qiRFpIQkRQqnJEUfgSRFXIckRcN9JEVIfSRFH2UkRXFBJEVcbyRFH1UkRSl0JEX2RCRFuE4kRQAoJEW4HiRFhVskRQozJEVxhSRFcaUkReyZJEWuXyRFzWgkRfZYJEXDYSRFpFAkRXtwJEX2SCRFj14kRR9hJEX2SCRFw1UkRfY0JEXXWyRF7FkkRfY0JEXXOyRFMyMkRYU7JEUpECRFCjckRQoDJEXXAyRFPRYkRT0aJEWaFSRFcf0jRSn0I0VxASRFHxUkRXsgJEXsASRF1x8kReEKJEUAICRFXAskRQr7I0WPCiRFmkUkRexxJEUzayRFmjkkRVxPJEUfLSRFjzokRYUzJEX2FCRFhSMkRa4LJEVcJyRFPRIkRQr7I0UAGCRFPQYkRaQwJEUfPSRFzSQkRXEdJEV7KCRFzSgkRY8eJEVSKCRFSDEkRUhxJEUUbiRFZn4kRbhGJEWuZyRF9jwkRY9aJEU9PiRFhVskRT0aJEVxKSRFhQckRVwXJEVmHiRF9uwjRYUPJEVI/SNFMw8kRVIAJEUfBSRFCtsjRc30I0Vc0yNF9rQjRSnQI0VInSNFUtAjRZqpI0V7qCNFmr0jRXGZI0WPuiNFj5ojRTOHI0VSnCNF4Y4jRVKgI0V7iCNFcXEjRXugI0W4uiNFXKsjRT26I0XDuSNFSNUjRWb6I0V70CNFKbwjRSnYI0WFyyNFM68jRYXjI0Xh8iNFANQjRY/2I0V7ICRFzQAkRbgSJEXsHSRFXOcjReHiI0W4DiRF19sjRa7DI0Uf2SNFrsMjRXvoI0Vc0yNFrtsjRT3CI0VxpSNFUtQjRfbII0XN3CNFj8IjRQDEI0Xh8iNFUsAjRY+6I0UUziNFccEjRVzfI0VS5CNF9sAjRdfHI0UppCNF9rQjRVyjI0UpkCNFXKcjRa6TI0V7cCNFZkojRaRwI0VSQCNFzVwjRTNzI0UfMSNFCksjReHmIkXDDSNFXAcjRcMZI0UKLyNFZvIiRRQWI0V7ECNFPRIjRQA4I0XDLSNF9lQjRVIsI0U9LiNFFEojRYVTI0UKbyNF9jAjRVJMI0UpWCNFKXQjRSlcI0VSTCNFUmQjRWZmI0UfdSNFAFwjRR9lI0V7RCNFSFEjRbg+I0WPRiNFeyQjRewRI0UKHyNFUlwjRfZkI0XXryNFw8EjRfagI0XXryNF7JUjRVyvI0U9piNFj7IjRSmQI0VSsCNF7LUjRWaqI0UpwCNFpKgjRWaqI0X2kCNFe5AjRaR4I0X2aCNF9owjRUh1I0VIoSNFSJEjRT2qI0VSoCNFuLYjRY+eI0X2nCNFuK4jRa5/I0XNeCNFAIgjRaSEI0WPqiNF9oQjRXuUI0UpkCNFPXYjRUhlI0XhdiNFZjIjRQBII0X29CJFj9IiRXsoI0XXMyNFZvIiRTP3IkUfMSJFKdAiRYV/IkVxwSJFKZAiRXGpIkXhfiJFKWAiRYXHIkX2SCJF15siRZp1IkUp5CJFAKwiRa7XIkVmuiJF7M0iRSlQIkW4YiJFKUQiRT1mIkVxTSJFMwciRRQGIkUfYSJFAFQiRUiNIkXNUCJF14MiRddXIkXXgyJFZnoiRY9SIkUAECJFADgiRQr/IUWFlx9F4dogRdeHIEVcsyBFcUkhRXsUIUUAQCFFUvAgRYUzIUX2KCFFuKYgRZohIUWaqSBF4dogRbi6IEVS+CBFuOIgRbhaIUWFDyFFZhohRSngIEVcAyFFPdYgRVJoIEXNPCBFuCIhRRTqH0VSdCBFKSAgRUidIEUAbCBFUsggReydIEV79CBF4d4gRQCEIEXDrSBFj3YgRVK0IEXshSBFM88gRc3YIEXsmSBFhZMgRa6vIEU91iBFj54gRYXXIEWP2iBFmoUgRQDAIEX2lCBF14sgRUjJIEVIjSBFw6UgReFeIEUpgCBFXO8fRVzvH0U9IiBFMzsgRXE5IEUzCyBFHzUgRXvoH0XXGyBFFB4gRdeHHkVIXR9FhQMfRbh+H0UAsB9FUqAfRVLYH0WFmx9FmsEfRYWHH0UA4B9FM8sfRT0CIEXs2R9Fjy4gRWYSIEX23B9FrtcfRdd7H0XXnx9FXJcfRddPH0V7iB9F4SofRaRIH0W45h5FpCgfRSn0HkUpkB5FPa4eRc38HkW44h5FCisfRcNRH0XX9x5FezQfRVyPH0VSXB9F4Y4fRRR2H0WkpB9Fhb8fRXGJH0Xhnh9FmmEfRVIoH0XhWh9FmnEfRbhSH0UAeB9FmlkfRUhNH0WFMx9FwyUfRbhWH0UzQx9FKVAfRR8VH0WkIB9FcekeRXvwHkU93h5FuAoeRaSIHkVIGR5Fe0QfRdcLH0VmJh9FZm4fRXGNH0UKNx9FzQwfRSlUH0XsHR9Fw1EfRa43H0V7eB9FAFgfRbiOH0Vmah9Fw1UfRUiFH0UARB9Fj04fRaQoH0UADB9FZqYeRQDwHkUfwR5FSNkeRSmAHkUKsx5FhfseRTMDH0XDyR5Fmt0eRXuUHkVxrR5FmlkeRa4zHkWuox5FpFQeRXF1HkUfQR5FzXgeRY86HkX2VB5FcU0eRXEtHUXsQR5FCucdRTNXHkVIMR5FPaYeRdd/HkWahR5FzUweRUiBHkUUzh5FZqYeRc18HkXsvR5F1/8eRSnAHkVm8h5FuNYeRSm4HkVmvh5FKZAeRde7HkX2mB5F9tweRcOxHkUUwh5Fw70eRQqTHkW4vh5FPbIeRXvIHkUpsB5FZsYeRYXTHkUpsB5FcekeRYWfHkXhfh5F7K0eRVx/HkUAgB5FmskeRcONHkWuhx5F4V4eRVxHHkUpnB5FcXEeRc14HkUAtB5F4Y4eRc3AHkVIlR5FuIYeRfYcHkVIVR5FzSQeRTNLHkWuOx5FuEoeRWZ+HkWPeh5FKUAeRY8mHkUAGB5FmjUeRT0aHkUpHB5FM08eRTM3HkV7KB5F4S4eRXvsHUUp0B1FAOwdRQAgHkUK3x1FKdAdRXsQHkWa7R1FUiweRXtEHkXXUx5FCiseRfZMHkUAcB5FAEgeRddTHkUzNx5FuFIeRdcTHkXXVx5Fw0UeRaRoHkUUSh5Fw1UeRUi5HkVm2h5F9oweRfawHkV71B5FzbAeRfbkHkWPwh5FruceRQrTHkW46h5FSMUeRQAgH0UzKx9FHwkfRQAgH0Vc7x5FHwEfRYUHH0WPCh9F7OUeRSngHkVc7x5Fe8QeRVzvHkWkyB5FhdMeRR/NHkWk1B5FXP8eRQDgHkUpEB9FUgQfRZoNH0W48h5FcRUfRQAwH0VmEh9FhRsfRc0kH0UzCx9FuAofRbhKH0WkNB9FKXgfRbiWH0WPXh9FhVsfRTPLH0U9ph9FmqUfRXGJH0UUjh9Fe4AfRSlgH0WkdB9FXGMfRcNpH0WPgh9FrsMfRR/hH0UpxB9Fw+kfRQDMH0UAzB9Fj8IfRXGpH0Xhqh9FAHwfRSmEH0U9th9F9sgfRTPPH0Vmsh9FKcQfRfa4H0WawR9FALAfRVKYH0UfwR9F7JkfRVKQH0UAtB9FCqsfRXuIH0WajR9FUmQfRdd/H0Xhah9FhYcfRY+KH0XNoB9FhZcfRYWvH0WalR9FAKgfRT2aH0Uzpx9FhasfRY+aH0UpYB9FCo8fRc14H0VSiB9FSHUfRUiVH0WFdx9FFHofRQqPH0X2hB9Fj44fRc2QH0UUeh9FXH8fRcOFH0V7gB9FZoYfRQqDH0XXgx9FSHUfRQpzH0WknB9FKZAfRQC4H0XsmR9FrqcfRde/H0WayR9FhasfRWa2H0UpsB9FM8MfRUjZH0Uf1R9FCpsfRSmIH0XXnx9F4XofRYV7H0VcYx9Fw2UfRaQ8H0UULh9FUmwfRWY6H0V7HB9FcRUfRYVHH0WFRx9FpDgfRQo/H0XXIx9FmjUfRQpDH0UUPh9FSE0fReFCH0XsNR9F7DUfRXtAH0VSOB9FZiYfRUgtH0UpIB9FrjcfRaQIH0XNGB9FZuYeRVz3HkVc4x5FKQAfRT3mHkWP9h5FZuIeRXvkHkUf+R5FKdAeRbjmHkUp0B5FhQcfRVL8HkUAEB9F9gwfRVzzHkUUBh9FXPMeRfYEH0U9+h5FSAkfRXvgHkWk7B5Fj+oeRY/CHkU9rh5FM6ceRVy7HkVxwR5FXLseRUjNHkU9vh5FPc4eRaSgHkV7uB5Fe6AeRbh2HkXNoB5FPYIeRY+SHkU9eh5FM3MeRWaOHkWFrx5FSKUeRR+VHkVxdR5FAIAeRdd/HkXXXx5F14ceRexlHkWamR5F9oAeReyZHkUzix5FpIAeRT2qHkVm2h5Fj84eRVLoHkVSwB5FM9ceRVLAHkXh3h5FmskeRRTmHkUp4B5FXCcfRT1WH0XhHh9FCgMfRRQOH0VICR9F4eoeRc3sHkXszR5FH+UeRfbQHkW44h5FH9EeRQr3HkUA5B5Fmu0eRSngHkX26B5Fcd0eRUjlHkXD1R5FzdgeRcPFHkUA0B5FSMUeRRTGHkW49h5Fj+YeRYUPH0VmJh9FZhYfRVwzH0VmHh9Fwx0fRfboHkWk6B5F188eRa7XHkUU3h5FZroeRcPZHkWFyx5FpNAeReHKHkVxzR5FXLMeRfaAHkXNhB5FUmQeRfaMHkVcSx5FZmYeRfYwHkWuRx5FzQweRc1EHkWaWR5FADweRTNXHkWPOh5FAEAeRWYmHkXDOR5F7DEeRVJQHkVIRR5FAHweRTNrHkUfhR5FKXAeRcN1HkXXax5FFFIeRQBAHkUpWB5FUkQeRQBEHkUUJh5FXC8eRZpxHkVIhR5FzXQeRXuEHkWagR5Fmq0eRWaKHkWuqx5FzaQeRa7PHkWamR5FZqoeRY+iHkUfpR5FmpEeRSmAHkVcix5F14MeRc1kHkUKRx5F7G0eRXE9HkVmYh5Fw1UeRfZYHkXsdR5FFLIeRfakHkX21B5FUrAeRR/FHkUzux5FM7seRTPrHkUpwB5Fw7UeRcPVHkUfvR5FmskeRSnAHkXDvR5FM6ceRSm4HkUpzB5F7LkeRSmgHkUfsR5FFKYeRSm8HkVxuR5FXMseRRSuHkUzwx5FH70eRZrJHkUfsR5F7IUeRSmcHkUpjB5FpJQeRcN1HkW4Yh5Fw50eRa6HHkWFlx5Fj5IeRQ==",
        "encoding": "base64",
        "path": [
         "_data",
         0,
         "y",
         "value"
        ]
       },
       {
        "data": "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",
        "encoding": "base64",
        "path": [
         "_data",
         1,
         "y",
         "value"
        ]
       },
       {
        "data": "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",
        "encoding": "base64",
        "path": [
         "_data",
         2,
         "y",
         "value"
        ]
       }
      ],
      "model_module": "jupyterlab-plotly",
      "model_module_version": "^5.6.0",
      "model_name": "FigureModel",
      "state": {
       "_config": {
        "plotlyServerURL": "https://plot.ly"
       },
       "_data": [
        {
         "line": {
          "color": "green"
         },
         "name": "<b style=\"color:sandybrown\">[R]</b> Bid <i style=\"color:#fc9944\">~602</i>",
         "type": "scattergl",
         "uid": "7cc36db0-17df-42e1-8d18-b4fbdb9a7c7a",
         "x": [
          0,
          163,
          919,
          1209,
          1924,
          2760,
          3171,
          3698,
          4617,
          5180,
          5664,
          6543,
          6892,
          7301,
          8033,
          8678,
          9511,
          10123,
          10516,
          11207,
          11609,
          12044,
          12836,
          13557,
          14278,
          14748,
          15173,
          16214,
          16741,
          17328,
          17838,
          18065,
          18735,
          19608,
          19968,
          21075,
          21485,
          22186,
          22673,
          23256,
          23676,
          24385,
          24738,
          25594,
          26252,
          26834,
          27398,
          27814,
          28844,
          28904,
          29724,
          30404,
          31306,
          31575,
          32442,
          32710,
          33407,
          34050,
          34332,
          35235,
          35742,
          36680,
          36810,
          37936,
          38076,
          38990,
          39245,
          39761,
          40672,
          41273,
          42088,
          42498,
          43020,
          43468,
          44359,
          45047,
          45168,
          46147,
          46869,
          47166,
          48122,
          48744,
          49264,
          49909,
          50241,
          50656,
          51698,
          52308,
          52981,
          53512,
          53907,
          54265,
          55399,
          55495,
          56247,
          56604,
          57298,
          57809,
          58910,
          59096,
          60027,
          60517,
          61274,
          61994,
          62625,
          63114,
          63273,
          63995,
          64887,
          65636,
          66181,
          66767,
          67049,
          68036,
          68475,
          68808,
          69345,
          70453,
          70934,
          71423,
          71812,
          72856,
          72889,
          73564,
          74636,
          74669,
          75426,
          75981,
          76847,
          77480,
          78164,
          78452,
          79312,
          79801,
          80619,
          80907,
          81685,
          81932,
          82557,
          83226,
          83924,
          84808,
          85304,
          85784,
          86678,
          87028,
          87441,
          88513,
          88783,
          89456,
          90240,
          90338,
          91317,
          91603,
          92161,
          93201,
          93795,
          94364,
          94768,
          95524,
          96005,
          96760,
          97145,
          97803,
          98495,
          99244,
          99472,
          100185,
          100726,
          101199,
          102347,
          102497,
          103466,
          103849,
          104302,
          104828,
          105794,
          106537,
          107039,
          107248,
          108360,
          108692,
          109332,
          109595,
          110428,
          110983,
          111654,
          112189,
          113088,
          113616,
          113938,
          114412,
          115045,
          115648,
          116228,
          117336,
          117599,
          118330,
          119186,
          119296,
          120293,
          120441,
          121532,
          121893,
          122260,
          123237,
          123736,
          124228,
          124772,
          125852,
          126282,
          126801,
          127240,
          128024,
          128262,
          128944,
          129497,
          130666,
          131043,
          131480,
          132455,
          132505,
          133079,
          134107,
          134791,
          135154,
          136040,
          136344,
          136692,
          137512,
          138152,
          138746,
          139101,
          140003,
          140555,
          141104,
          141541,
          142247,
          142837,
          143913,
          144107,
          145082,
          145631,
          146063,
          146334,
          147530,
          147992,
          148265,
          149001,
          149381,
          150382,
          151125,
          151508,
          152096,
          152935,
          153307,
          153685,
          154756,
          155258,
          155503,
          156012,
          156710,
          157433,
          158246,
          158705,
          159249,
          160011,
          160278,
          161016,
          161644,
          162314,
          163039,
          163435,
          163888,
          164848,
          165074,
          165835,
          166590,
          166801,
          167888,
          168327,
          168920,
          169360,
          170041,
          170864,
          171418,
          171772,
          172251,
          172985,
          173426,
          174628,
          174983,
          175827,
          176410,
          176439,
          177434,
          177836,
          178242,
          179162,
          180043,
          180554,
          181059,
          181275,
          181988,
          182576,
          183064,
          183862,
          184799,
          185234,
          185834,
          186452,
          187109,
          187652,
          187877,
          188892,
          189315,
          189804,
          190839,
          191423,
          192014,
          192562,
          193181,
          193365,
          194391,
          195101,
          195542,
          196151,
          196392,
          196934,
          197658,
          198378,
          198874,
          199878,
          200374,
          201013,
          201372,
          201774,
          202704,
          203267,
          203830,
          204329,
          204783,
          205803,
          206104,
          206654,
          207337,
          208344,
          208922,
          209369,
          209623,
          210709,
          211360,
          211632,
          212147,
          212779,
          213292,
          214145,
          214764,
          215457,
          216094,
          216241,
          216903,
          217758,
          218586,
          219115,
          219279,
          220250,
          220688,
          221168,
          222169,
          222282,
          223014,
          223649,
          224540,
          224950,
          225404,
          226412,
          226577,
          227579,
          228001,
          228365,
          229336,
          229663,
          230243,
          231153,
          231709,
          231966,
          232886,
          233503,
          233701,
          234812,
          235026,
          235961,
          236306,
          237069,
          237855,
          238195,
          238605,
          239095,
          239957,
          240502,
          241325,
          241660,
          242334,
          242958,
          243508,
          244479,
          244922,
          245625,
          246144,
          246310,
          246953,
          248030,
          248384,
          249064,
          249891,
          250117,
          250623,
          251294,
          251771,
          252409,
          253166,
          253821,
          254306,
          255057,
          255671,
          255977,
          257054,
          257482,
          258071,
          258909,
          259241,
          260034,
          260627,
          260855,
          261909,
          261972,
          262547,
          263446,
          263749,
          264894,
          265452,
          265603,
          266380,
          267314,
          267676,
          268164,
          268730,
          269561,
          270119,
          270470,
          271474,
          271610,
          272221,
          273328,
          273717,
          274459,
          275039,
          275265,
          275945,
          276912,
          277564,
          278121,
          278612,
          279189,
          279595,
          280399,
          280610,
          281813,
          282085,
          282417,
          283079,
          283621,
          284783,
          285398,
          285624,
          286631,
          287232,
          287420,
          287922,
          288740,
          289040,
          290101,
          290435,
          291179,
          291618,
          292165,
          293049,
          293477,
          294171,
          294561,
          295129,
          296017,
          296658,
          297045,
          297840,
          298525,
          299185,
          299462,
          300460,
          301031,
          301368,
          301721,
          302359,
          303235,
          303990,
          304133,
          305212,
          305619,
          306207,
          306732,
          307524,
          308288,
          308600,
          309386,
          309863,
          310338,
          311103,
          311593,
          312190,
          312732,
          313713,
          313910,
          314581,
          315089,
          315759,
          316143,
          316832,
          317569,
          318052,
          318886,
          319499,
          319812,
          320800,
          321036,
          322127,
          322313,
          322836,
          323489,
          324508,
          324823,
          325660,
          326342,
          326739,
          327094,
          327599,
          328181,
          329072,
          329782,
          330261,
          330776,
          331192,
          332204,
          332882,
          333224,
          333686,
          334560,
          335169,
          335407,
          336405,
          336936,
          337350,
          338074,
          338796,
          339152,
          339716,
          340742,
          341206,
          341748,
          342569,
          343048,
          343541,
          344156,
          344661,
          345557,
          345900,
          346715,
          347395,
          347495,
          348174,
          348667,
          349858,
          349935,
          350979,
          351378,
          351773,
          352406,
          353471,
          353822,
          354455,
          355157,
          355666,
          356116,
          356520,
          357375,
          358255,
          358452,
          359414,
          359908,
          360691,
          361286,
          361571,
          361920,
          362657,
          363408,
          364250,
          364494,
          364986,
          366114,
          366530,
          366959,
          367681,
          368014,
          368731,
          369262,
          369780,
          370909,
          371118,
          371749,
          372165,
          372795,
          373710,
          373946,
          374851,
          375215,
          376032,
          376359,
          377169,
          377559,
          378161,
          378966,
          379742,
          380410,
          380642,
          381549,
          382307,
          382532,
          383011,
          383920,
          384183,
          384795,
          385625,
          386218,
          386721,
          387577,
          387797,
          388646,
          389183,
          389746,
          390675,
          391077,
          391415,
          392066,
          392809,
          393269,
          393898,
          394613,
          395556,
          396130,
          396578,
          397001,
          397658,
          398032,
          399001,
          399677,
          400057,
          400511,
          401509,
          401803,
          402570,
          403312,
          403872,
          404056,
          405152,
          405310,
          405912,
          406925,
          407581,
          408054,
          408708,
          409106,
          409526,
          410076,
          410714,
          411663,
          411944,
          413033,
          413648,
          414217,
          414321,
          415175,
          416028,
          416378,
          417098,
          417351,
          418041,
          419066,
          419313,
          419797,
          420319,
          421516,
          421688,
          422390,
          422875,
          423395,
          423986,
          425085,
          425248,
          425901,
          426789,
          427095,
          427605,
          428609,
          429017,
          429364,
          430053,
          430615,
          431561,
          432354,
          432556,
          432967,
          433653,
          434467,
          435270,
          435483,
          436521,
          437172,
          437543,
          437979,
          438379,
          439465,
          439915,
          440285,
          440876,
          441388,
          442209,
          442593,
          443655,
          443797,
          444901,
          445573,
          446169,
          446462,
          446829,
          447822,
          448193,
          448790,
          449275,
          449819,
          450940,
          451120,
          452125,
          452422,
          453237,
          453830,
          454118,
          455031,
          455525,
          455842,
          456706,
          457293,
          458248,
          458541,
          458883,
          459573,
          460166,
          460678,
          461861,
          462151,
          462779,
          463487,
          463669,
          464343,
          465474,
          465965,
          466139,
          467103,
          467407,
          468233,
          468881,
          469099,
          470077,
          470538,
          471488,
          471973,
          472114,
          473167,
          473387,
          474046,
          474530,
          475112,
          475982,
          476381,
          477292,
          477786,
          478686,
          478846,
          479575,
          480086,
          480586,
          481142,
          482335,
          482692,
          482972,
          484010,
          484537,
          485046,
          485547,
          486121,
          486721,
          487671,
          487755,
          488674,
          489464,
          489683,
          490746,
          491231,
          491531,
          492011,
          493174,
          493675,
          494149,
          494643,
          495581,
          495871,
          496764,
          496895,
          497391,
          498513,
          498751,
          499676,
          500288,
          500478,
          501122,
          502112,
          502344,
          503273,
          503715,
          504014,
          504628,
          505340,
          505822,
          506698,
          507136,
          508228,
          508499,
          509020,
          509823,
          510483,
          511007,
          511611,
          511905,
          512540,
          513046,
          514211,
          514263,
          514861,
          515458,
          516158,
          516870,
          517510,
          517945,
          518745,
          519189,
          519733,
          520480,
          520935,
          522078,
          522323,
          522802,
          523379,
          524087,
          524487,
          525090,
          525961,
          526557,
          527037,
          527775,
          528100,
          528726,
          529460,
          530067,
          530916,
          531425,
          531881,
          532336,
          533047,
          533643,
          534453,
          534852,
          535684,
          536272,
          536539,
          537640,
          538106,
          538711,
          538939,
          539602,
          540144,
          541233,
          541890,
          542372,
          542914,
          543485,
          544049,
          544431,
          545049,
          545761,
          546640,
          547147,
          547704,
          548303,
          548616,
          549470,
          549849,
          550728,
          551540,
          551885,
          552257,
          553288,
          553721,
          554276,
          554628,
          555407,
          555800,
          556441,
          557358,
          557664,
          558610,
          558999,
          559649,
          560204,
          561214,
          561807,
          562124,
          563012,
          563579,
          563922,
          564416,
          565268,
          565591,
          566203,
          567016,
          567522,
          568315,
          568446,
          569048,
          570040,
          570252,
          571340,
          572031,
          572660,
          572839,
          573553,
          573944,
          575020,
          575613,
          576156,
          576408,
          577303,
          577478,
          578639,
          578945,
          579865,
          579922,
          580489,
          581692,
          581828,
          582295,
          582959,
          583543,
          584102,
          584860,
          585308,
          586482,
          586523,
          587249,
          588178,
          588322,
          589160,
          589670,
          590720,
          590727,
          591373,
          591930,
          592998,
          593302,
          594338,
          594932,
          595171,
          595694,
          596145,
          596747,
          597789,
          598214,
          598701,
          599452,
          599758,
          600360,
          600963
         ],
         "xaxis": "x2",
         "y": {
          "dtype": "float32",
          "shape": [
           1000
          ]
         }
        },
        {
         "line": {
          "color": "red"
         },
         "name": "<b style=\"color:sandybrown\">[R]</b> Ask <i style=\"color:#fc9944\">~602</i>",
         "type": "scattergl",
         "uid": "157d7fa1-cdc3-4d5b-beb4-1536975b702e",
         "x": [
          0,
          158,
          922,
          1205,
          1899,
          2760,
          3157,
          3702,
          4416,
          5069,
          5663,
          6543,
          7017,
          7316,
          8033,
          8677,
          9527,
          10235,
          10512,
          11207,
          11614,
          12044,
          12967,
          13558,
          14167,
          14749,
          15172,
          16210,
          16743,
          17324,
          17833,
          18065,
          19189,
          19608,
          20035,
          20602,
          21435,
          22186,
          22637,
          23256,
          23676,
          24417,
          24738,
          25540,
          26463,
          26835,
          27401,
          27814,
          28344,
          28904,
          29720,
          30305,
          31306,
          31575,
          32442,
          32697,
          33406,
          34050,
          34333,
          35232,
          35806,
          36700,
          36810,
          37936,
          38078,
          38913,
          39250,
          40046,
          40346,
          41273,
          42088,
          42497,
          43014,
          43356,
          44406,
          45047,
          45169,
          46147,
          46809,
          47163,
          48126,
          48744,
          49264,
          49909,
          50237,
          50656,
          51699,
          52317,
          52990,
          53512,
          53907,
          54267,
          55399,
          55492,
          56247,
          56604,
          57299,
          57808,
          58912,
          59105,
          60028,
          60817,
          61274,
          61993,
          62625,
          63093,
          63312,
          63995,
          64890,
          65345,
          66183,
          66773,
          67049,
          68038,
          68477,
          68808,
          69343,
          70433,
          70935,
          71424,
          71813,
          72662,
          72874,
          73564,
          74326,
          74858,
          75445,
          75979,
          76624,
          77494,
          78166,
          78478,
          79312,
          79804,
          80616,
          80909,
          81695,
          81933,
          82558,
          83227,
          83923,
          84816,
          85297,
          85788,
          86680,
          87029,
          87441,
          88515,
          88784,
          89456,
          90238,
          90339,
          91317,
          91530,
          92157,
          93202,
          93795,
          94364,
          94771,
          95525,
          96005,
          96762,
          97146,
          97807,
          98224,
          99237,
          99470,
          100179,
          100562,
          101469,
          102321,
          102501,
          103466,
          103859,
          104303,
          104822,
          105793,
          106443,
          107040,
          107249,
          108361,
          108693,
          109333,
          109595,
          110428,
          110980,
          111637,
          112177,
          113091,
          113570,
          113912,
          114412,
          115020,
          115671,
          116228,
          117362,
          117599,
          118330,
          119187,
          119246,
          120291,
          120434,
          121528,
          121893,
          122264,
          122842,
          123921,
          124485,
          124773,
          125852,
          126283,
          126801,
          127240,
          128028,
          128262,
          128944,
          129498,
          130670,
          131044,
          131480,
          132458,
          132492,
          133079,
          134116,
          134792,
          135162,
          136036,
          136340,
          136698,
          137513,
          138152,
          138748,
          139114,
          139986,
          140558,
          141103,
          141541,
          142244,
          143011,
          143913,
          144107,
          145082,
          145629,
          146034,
          146336,
          147524,
          147996,
          148271,
          148951,
          149382,
          150379,
          151121,
          151508,
          152077,
          152937,
          153304,
          153684,
          154753,
          155245,
          155481,
          156012,
          156715,
          157433,
          158055,
          158705,
          159250,
          160022,
          160278,
          161017,
          161645,
          162314,
          163039,
          163435,
          163888,
          164728,
          165074,
          165836,
          166589,
          166802,
          167908,
          168328,
          168920,
          169362,
          170015,
          170861,
          171396,
          171771,
          172224,
          173007,
          173647,
          174625,
          174993,
          175827,
          176391,
          176441,
          177405,
          177827,
          178242,
          179159,
          180047,
          180557,
          181059,
          181288,
          181980,
          182579,
          183062,
          183864,
          184811,
          185233,
          185826,
          186453,
          187126,
          187646,
          188026,
          188893,
          189317,
          189804,
          190306,
          191423,
          192078,
          192563,
          193180,
          193366,
          194386,
          195037,
          195543,
          196151,
          196434,
          197243,
          197657,
          198432,
          198875,
          199880,
          200375,
          201013,
          201372,
          201760,
          202709,
          203265,
          203827,
          204333,
          204780,
          205803,
          206109,
          206649,
          207335,
          208344,
          208921,
          209367,
          209623,
          210710,
          211339,
          211486,
          211963,
          212780,
          213279,
          214145,
          214764,
          215458,
          216085,
          216241,
          216903,
          217760,
          218586,
          219111,
          219269,
          220255,
          220393,
          221122,
          222169,
          222272,
          222938,
          223648,
          224540,
          224952,
          225402,
          225939,
          226424,
          227031,
          228097,
          228365,
          229336,
          229485,
          230226,
          231140,
          231709,
          231966,
          232893,
          233505,
          233688,
          234811,
          235031,
          235962,
          236305,
          237072,
          237855,
          238190,
          238609,
          239095,
          239958,
          240500,
          241325,
          241660,
          242333,
          242959,
          243506,
          243878,
          244500,
          245141,
          246143,
          246308,
          246903,
          248035,
          248387,
          249072,
          249892,
          250115,
          250622,
          251295,
          251773,
          252408,
          253165,
          253824,
          254340,
          255019,
          255672,
          255977,
          257008,
          257477,
          258071,
          258909,
          259240,
          260034,
          260626,
          260853,
          261909,
          261963,
          262546,
          263439,
          263749,
          264894,
          265452,
          265603,
          266380,
          267316,
          267673,
          268164,
          268734,
          269545,
          270118,
          270961,
          271484,
          271609,
          272219,
          273326,
          273714,
          274458,
          275040,
          275265,
          275945,
          276912,
          277565,
          278120,
          278612,
          279182,
          279595,
          280399,
          280610,
          281810,
          282085,
          282417,
          283078,
          283621,
          284789,
          285344,
          285535,
          286625,
          287215,
          287462,
          287916,
          288743,
          289054,
          290131,
          290435,
          291179,
          291624,
          292174,
          293053,
          293485,
          294175,
          294561,
          295129,
          296006,
          296655,
          297046,
          297840,
          298549,
          299185,
          299463,
          300481,
          301031,
          301371,
          301718,
          302359,
          303247,
          303989,
          304134,
          305212,
          305618,
          306212,
          306729,
          307524,
          308291,
          308881,
          309382,
          309864,
          310324,
          311102,
          311830,
          312195,
          312730,
          313715,
          313910,
          314581,
          315092,
          315745,
          316147,
          316828,
          317572,
          318052,
          318912,
          319570,
          319788,
          320800,
          321036,
          322128,
          322314,
          322835,
          323493,
          324505,
          324822,
          325660,
          326342,
          326739,
          327093,
          327599,
          328181,
          329073,
          329783,
          330261,
          330772,
          331194,
          332204,
          332884,
          333224,
          333896,
          334556,
          335179,
          335419,
          336238,
          336937,
          337341,
          338073,
          338793,
          339142,
          339716,
          340741,
          341197,
          341749,
          342570,
          343048,
          343541,
          344193,
          344782,
          345559,
          345896,
          346714,
          347365,
          347495,
          348175,
          348663,
          349856,
          349936,
          350974,
          351376,
          351781,
          352406,
          353448,
          353833,
          354453,
          355157,
          355665,
          356118,
          356520,
          357369,
          358270,
          358450,
          359414,
          359916,
          360690,
          361287,
          361572,
          361921,
          362660,
          363370,
          364250,
          364492,
          364986,
          366116,
          366529,
          366960,
          367679,
          368072,
          368733,
          369262,
          370271,
          370798,
          371119,
          371751,
          372168,
          372810,
          373710,
          373946,
          374842,
          375209,
          376040,
          376374,
          377169,
          377559,
          378161,
          378966,
          379807,
          380412,
          380642,
          381550,
          382300,
          382533,
          383011,
          383920,
          384355,
          384785,
          385588,
          386219,
          386714,
          387578,
          387796,
          388633,
          389191,
          389723,
          390658,
          391078,
          391806,
          392602,
          392809,
          393745,
          394418,
          394599,
          395548,
          396130,
          396580,
          397004,
          397658,
          398036,
          399005,
          399677,
          400058,
          400513,
          401511,
          401645,
          402568,
          403309,
          403875,
          404196,
          404998,
          405312,
          405912,
          406845,
          407579,
          408054,
          408708,
          409108,
          409526,
          410076,
          410705,
          411663,
          411887,
          413033,
          413648,
          414217,
          414305,
          415173,
          416028,
          416378,
          417098,
          417351,
          418043,
          419066,
          419312,
          419785,
          420314,
          421516,
          421681,
          422390,
          422894,
          423409,
          423989,
          425076,
          425210,
          425976,
          426770,
          427092,
          427603,
          428630,
          429015,
          429364,
          430053,
          430616,
          431562,
          432355,
          432536,
          432964,
          433653,
          434464,
          435263,
          435480,
          436522,
          436571,
          437353,
          437776,
          438907,
          439581,
          439916,
          440281,
          441121,
          441415,
          442147,
          442593,
          443663,
          443797,
          444923,
          445594,
          446058,
          446464,
          446831,
          447823,
          448022,
          448792,
          449268,
          449819,
          450929,
          451122,
          452126,
          452422,
          453227,
          453779,
          454125,
          455029,
          455549,
          455858,
          456717,
          457292,
          458232,
          458542,
          458883,
          459573,
          460167,
          460678,
          461861,
          462152,
          462819,
          463481,
          463669,
          464341,
          465459,
          465964,
          466141,
          467103,
          467401,
          468227,
          468881,
          469095,
          470077,
          470538,
          471488,
          471973,
          472102,
          473167,
          473384,
          474046,
          474529,
          475115,
          475993,
          476331,
          477227,
          477769,
          478685,
          478842,
          479576,
          480086,
          480571,
          481138,
          482315,
          482698,
          482972,
          484022,
          484535,
          485056,
          485509,
          486121,
          486700,
          487671,
          487755,
          488673,
          489465,
          489713,
          490746,
          491234,
          491541,
          492012,
          493142,
          493679,
          494147,
          494643,
          495581,
          495871,
          496765,
          496895,
          497520,
          498519,
          498762,
          499677,
          500288,
          500478,
          501122,
          502111,
          502344,
          503277,
          503743,
          504014,
          504616,
          505315,
          505823,
          506698,
          507136,
          508228,
          508506,
          508948,
          509665,
          510483,
          510983,
          511610,
          511903,
          512540,
          513046,
          514212,
          514272,
          514873,
          515455,
          516158,
          517186,
          517510,
          517944,
          518745,
          519172,
          519731,
          520490,
          520933,
          522078,
          522319,
          522802,
          523378,
          524088,
          524487,
          525154,
          526238,
          526588,
          527075,
          527804,
          528100,
          528706,
          529460,
          530068,
          530906,
          531428,
          531880,
          532336,
          533048,
          533642,
          534451,
          534851,
          535721,
          536271,
          536539,
          537639,
          538105,
          538711,
          538941,
          540066,
          540188,
          541239,
          541890,
          542372,
          542918,
          543486,
          544045,
          544423,
          545049,
          545761,
          546641,
          547147,
          547704,
          548302,
          548616,
          549471,
          549849,
          550764,
          551540,
          551905,
          552244,
          553266,
          553688,
          554295,
          554628,
          555407,
          555800,
          556441,
          557359,
          557664,
          558610,
          558995,
          559649,
          560215,
          561215,
          561807,
          562118,
          563010,
          563579,
          563921,
          564428,
          565272,
          565589,
          566206,
          567022,
          567523,
          568315,
          568446,
          569124,
          570042,
          570252,
          571339,
          572023,
          572660,
          572839,
          573553,
          573954,
          574842,
          575529,
          575673,
          576410,
          577305,
          577478,
          578642,
          578944,
          579862,
          579923,
          580489,
          581692,
          581837,
          582295,
          582958,
          583541,
          584102,
          584748,
          585306,
          586485,
          586523,
          587297,
          588178,
          588325,
          589163,
          589670,
          590685,
          590730,
          591393,
          591934,
          592985,
          593254,
          594239,
          594940,
          595094,
          595695,
          596145,
          596747,
          597761,
          598170,
          598699,
          599452,
          599758,
          600360,
          600963
         ],
         "xaxis": "x2",
         "y": {
          "dtype": "float32",
          "shape": [
           1000
          ]
         }
        },
        {
         "line": {
          "color": "blue"
         },
         "name": "<b style=\"color:sandybrown\">[R]</b> Imb <i style=\"color:#fc9944\">~602</i>",
         "type": "scattergl",
         "uid": "4e6d8288-e91e-4e41-a179-397089b9c1b3",
         "x": [
          0,
          438,
          1040,
          1419,
          1932,
          2907,
          3015,
          3696,
          4257,
          4834,
          5641,
          6031,
          6993,
          7237,
          8180,
          8967,
          9408,
          9703,
          10521,
          11234,
          11616,
          12488,
          13080,
          13578,
          13855,
          14558,
          15172,
          16218,
          16833,
          17276,
          17491,
          18065,
          19204,
          19556,
          20044,
          20609,
          21192,
          21777,
          22366,
          23184,
          23901,
          24440,
          24793,
          25599,
          26465,
          26921,
          27453,
          27851,
          28858,
          28955,
          30053,
          30423,
          31112,
          31373,
          31938,
          32640,
          33403,
          33996,
          34545,
          35454,
          35551,
          36378,
          37223,
          37548,
          37990,
          38924,
          39385,
          40053,
          40423,
          41027,
          41567,
          42204,
          42816,
          43640,
          44450,
          44787,
          45361,
          45766,
          46912,
          47439,
          47619,
          48769,
          49128,
          49919,
          50487,
          50830,
          51238,
          52061,
          52803,
          53229,
          53764,
          54275,
          54972,
          55468,
          56508,
          57016,
          57371,
          58268,
          58961,
          59231,
          59615,
          60519,
          61208,
          61676,
          62075,
          63146,
          63316,
          64006,
          64964,
          65466,
          65997,
          66325,
          66955,
          67909,
          68221,
          68920,
          69506,
          70338,
          70681,
          71474,
          71833,
          72316,
          72871,
          73505,
          74141,
          75245,
          75859,
          75883,
          76952,
          77255,
          78181,
          78771,
          79345,
          79816,
          80292,
          81254,
          81330,
          82348,
          82821,
          83270,
          84014,
          84616,
          85204,
          85808,
          86257,
          86890,
          87587,
          88265,
          88519,
          89362,
          90252,
          90457,
          91341,
          91751,
          92199,
          92879,
          93336,
          93946,
          94744,
          95523,
          95746,
          96357,
          97341,
          97712,
          98391,
          99224,
          99401,
          100063,
          101009,
          101210,
          101776,
          102511,
          103077,
          103734,
          104190,
          104806,
          105544,
          106195,
          106976,
          107412,
          107930,
          108789,
          109052,
          109596,
          110370,
          111135,
          111679,
          112121,
          113065,
          113665,
          114125,
          114468,
          115110,
          115692,
          116347,
          116985,
          117678,
          118274,
          118694,
          119236,
          120291,
          120558,
          121097,
          122236,
          122279,
          123223,
          123525,
          124488,
          124649,
          125698,
          125878,
          126543,
          127159,
          128033,
          128275,
          129057,
          129500,
          130639,
          130699,
          131301,
          131958,
          132671,
          133586,
          133877,
          134606,
          135094,
          135978,
          136271,
          137057,
          137504,
          137924,
          138856,
          139215,
          139780,
          140774,
          141118,
          141666,
          142386,
          142716,
          143751,
          144087,
          144636,
          145644,
          146173,
          146518,
          147006,
          147793,
          148263,
          149100,
          149418,
          150529,
          150978,
          151144,
          151973,
          152897,
          153014,
          153592,
          154565,
          154963,
          155505,
          155963,
          156977,
          157448,
          157900,
          158705,
          159040,
          160173,
          160576,
          161179,
          161432,
          162135,
          162811,
          163213,
          163894,
          164855,
          165148,
          165611,
          166639,
          166828,
          167497,
          168442,
          168693,
          169357,
          169888,
          170847,
          171024,
          172219,
          172267,
          173016,
          173934,
          174473,
          174630,
          175424,
          175880,
          176624,
          177512,
          177917,
          178253,
          179220,
          179455,
          180553,
          180816,
          181519,
          182066,
          183044,
          183193,
          183858,
          184372,
          185254,
          185510,
          186491,
          186815,
          187334,
          187898,
          188902,
          189087,
          189862,
          190312,
          191327,
          192011,
          192506,
          192811,
          193424,
          194384,
          194663,
          195542,
          195879,
          196384,
          197195,
          197934,
          198182,
          198826,
          199336,
          199939,
          201054,
          201416,
          202058,
          202724,
          203066,
          203622,
          204637,
          204890,
          205919,
          206197,
          206638,
          207205,
          207957,
          208747,
          209090,
          209620,
          210373,
          210789,
          211365,
          212023,
          213101,
          213173,
          214085,
          214383,
          215347,
          215660,
          216229,
          216859,
          217661,
          218425,
          219115,
          219197,
          220243,
          220679,
          221047,
          222182,
          222425,
          222805,
          223630,
          224119,
          224634,
          225377,
          225815,
          226476,
          227568,
          227899,
          228422,
          228935,
          229627,
          230310,
          230712,
          231249,
          232105,
          232588,
          233039,
          233685,
          234396,
          235184,
          235801,
          236227,
          237063,
          237274,
          238346,
          238500,
          239168,
          239798,
          240380,
          241064,
          241480,
          242132,
          243046,
          243498,
          243983,
          244702,
          245142,
          246221,
          246350,
          247072,
          247537,
          248161,
          249090,
          249680,
          249918,
          250608,
          251509,
          251734,
          252690,
          253170,
          253514,
          254357,
          255035,
          255813,
          256252,
          256998,
          257305,
          257982,
          258490,
          259092,
          259956,
          260595,
          260810,
          261902,
          261955,
          263108,
          263596,
          264054,
          264416,
          265283,
          265558,
          266409,
          266913,
          267450,
          268070,
          268728,
          269292,
          270230,
          270485,
          271012,
          271973,
          272230,
          272900,
          273902,
          274481,
          275002,
          275219,
          276334,
          276818,
          277240,
          278110,
          278438,
          279184,
          279591,
          280094,
          281182,
          281525,
          281852,
          282418,
          283064,
          283949,
          284298,
          285236,
          285610,
          286369,
          286872,
          287246,
          287885,
          288651,
          289197,
          289848,
          290532,
          291077,
          291533,
          292127,
          292680,
          293389,
          294407,
          294657,
          295260,
          296037,
          296746,
          296888,
          297753,
          298579,
          298755,
          299468,
          299914,
          300484,
          301384,
          301865,
          302474,
          303321,
          303530,
          304445,
          304697,
          305339,
          306226,
          306813,
          307647,
          307835,
          308418,
          309124,
          309718,
          310313,
          311073,
          311552,
          312167,
          312533,
          313226,
          313788,
          314714,
          314953,
          316131,
          316360,
          316882,
          317342,
          318493,
          318862,
          319206,
          320266,
          320457,
          321037,
          321799,
          322313,
          322848,
          323382,
          323976,
          324853,
          325657,
          326075,
          326394,
          327520,
          328029,
          328670,
          329300,
          329396,
          330306,
          330859,
          331661,
          331838,
          332499,
          333226,
          333612,
          334555,
          335179,
          335421,
          336391,
          336639,
          337653,
          337951,
          338582,
          339150,
          339711,
          340364,
          341233,
          341715,
          342139,
          342691,
          343744,
          344272,
          344807,
          345338,
          346238,
          346253,
          347330,
          347575,
          348171,
          348915,
          349324,
          349891,
          350563,
          351396,
          351866,
          352396,
          353285,
          353580,
          354261,
          354677,
          355644,
          356117,
          356647,
          357456,
          358184,
          358481,
          359410,
          359611,
          360597,
          360828,
          361680,
          361927,
          363059,
          363219,
          364209,
          364356,
          365219,
          365648,
          366119,
          366999,
          367818,
          368347,
          368879,
          369538,
          369797,
          370339,
          370950,
          371566,
          372191,
          372787,
          373510,
          374187,
          374673,
          375211,
          376010,
          376510,
          377441,
          377712,
          378636,
          378983,
          379526,
          380426,
          380938,
          381197,
          382297,
          382437,
          383229,
          383865,
          384338,
          385039,
          385404,
          386573,
          386894,
          387660,
          388083,
          388723,
          389318,
          389634,
          390643,
          390881,
          391812,
          392037,
          393087,
          393265,
          393931,
          394976,
          395248,
          395708,
          396580,
          397372,
          397716,
          398034,
          398813,
          399669,
          399839,
          400552,
          401359,
          401704,
          402475,
          403350,
          403943,
          404172,
          404995,
          405288,
          405912,
          406468,
          407362,
          407846,
          408398,
          409188,
          409555,
          410093,
          410824,
          411405,
          412021,
          412894,
          413520,
          414265,
          414325,
          414895,
          415701,
          416387,
          417181,
          417383,
          418204,
          418671,
          419237,
          419743,
          420355,
          421188,
          421582,
          422479,
          422963,
          423668,
          424280,
          424818,
          425298,
          425870,
          426812,
          427259,
          427606,
          428149,
          428986,
          429573,
          430406,
          430642,
          431213,
          432194,
          432616,
          433145,
          433679,
          434587,
          435302,
          435396,
          436534,
          437037,
          437455,
          437977,
          438444,
          439138,
          439875,
          440278,
          440898,
          441525,
          442367,
          442642,
          443748,
          443838,
          444989,
          445309,
          446174,
          446517,
          447119,
          447419,
          448249,
          448796,
          449455,
          450037,
          450978,
          451068,
          452071,
          452259,
          453216,
          453456,
          454578,
          454705,
          455617,
          456208,
          456467,
          457294,
          457751,
          458521,
          458865,
          459596,
          460086,
          460997,
          461365,
          462190,
          462824,
          463492,
          464094,
          464306,
          465154,
          465865,
          466133,
          466901,
          467324,
          468451,
          468563,
          469588,
          470025,
          470521,
          471476,
          471498,
          472102,
          473140,
          473367,
          474304,
          474972,
          475222,
          476155,
          476321,
          477422,
          477690,
          478452,
          478727,
          479562,
          480158,
          480546,
          481146,
          481814,
          482676,
          482942,
          484012,
          484535,
          485035,
          485551,
          486090,
          486615,
          487684,
          487951,
          488584,
          489468,
          489562,
          490305,
          490796,
          491418,
          492008,
          492986,
          493187,
          493996,
          494528,
          495506,
          495786,
          496676,
          496795,
          497514,
          498147,
          499149,
          499239,
          499805,
          500674,
          501238,
          502109,
          502573,
          503241,
          503469,
          504019,
          504648,
          505298,
          506272,
          506685,
          507134,
          508138,
          508690,
          509342,
          509456,
          510599,
          511169,
          511617,
          512413,
          512685,
          513046,
          514250,
          514513,
          514859,
          515808,
          516069,
          516755,
          517517,
          517901,
          518553,
          519135,
          519801,
          520481,
          520927,
          521832,
          522229,
          522715,
          523302,
          524086,
          524932,
          525276,
          526277,
          526335,
          527163,
          527818,
          528106,
          528738,
          529710,
          529964,
          530704,
          531205,
          531946,
          532701,
          533167,
          533613,
          534478,
          534875,
          535353,
          536251,
          536745,
          537655,
          538315,
          538602,
          538996,
          539758,
          540155,
          541223,
          541370,
          542305,
          542782,
          543166,
          543977,
          544374,
          545053,
          545680,
          546542,
          546999,
          547414,
          548075,
          548716,
          549765,
          549889,
          550770,
          551023,
          551624,
          552296,
          553263,
          553936,
          554235,
          555133,
          555452,
          556082,
          556448,
          557038,
          557643,
          558652,
          559034,
          559651,
          560504,
          561017,
          561816,
          561983,
          562443,
          563060,
          563907,
          564764,
          565112,
          565579,
          566054,
          567227,
          567408,
          567868,
          568769,
          569541,
          569856,
          570487,
          571271,
          571512,
          572105,
          572722,
          573501,
          573940,
          574823,
          575554,
          575675,
          576735,
          577381,
          577687,
          578138,
          579129,
          579885,
          580104,
          580623,
          581204,
          581824,
          582306,
          582973,
          583617,
          584407,
          584737,
          585828,
          586489,
          586568,
          587318,
          587901,
          588318,
          589191,
          589761,
          590725,
          590871,
          591480,
          591947,
          592882,
          593364,
          593742,
          594940,
          595120,
          595557,
          596145,
          597342,
          597423,
          598178,
          598710,
          599501,
          599794,
          600458,
          600963
         ],
         "xaxis": "x2",
         "y": {
          "dtype": "float64",
          "shape": [
           1000
          ]
         },
         "yaxis": "y3"
        }
       ],
       "_js2py_layoutDelta": {
        "layout_delta": {
         "activeshape": {
          "fillcolor": "rgb(255,0,255)",
          "opacity": 0.5
         },
         "annotations": [],
         "autotypenumbers": "strict",
         "calendar": "gregorian",
         "clickmode": "event",
         "colorscale": {
          "diverging": [
           [
            0,
            "#8e0152"
           ],
           [
            0.1,
            "#c51b7d"
           ],
           [
            0.2,
            "#de77ae"
           ],
           [
            0.3,
            "#f1b6da"
           ],
           [
            0.4,
            "#fde0ef"
           ],
           [
            0.5,
            "#f7f7f7"
           ],
           [
            0.6,
            "#e6f5d0"
           ],
           [
            0.7,
            "#b8e186"
           ],
           [
            0.8,
            "#7fbc41"
           ],
           [
            0.9,
            "#4d9221"
           ],
           [
            1,
            "#276419"
           ]
          ],
          "sequential": [
           [
            0,
            "#0d0887"
           ],
           [
            0.1111111111111111,
            "#46039f"
           ],
           [
            0.2222222222222222,
            "#7201a8"
           ],
           [
            0.3333333333333333,
            "#9c179e"
           ],
           [
            0.4444444444444444,
            "#bd3786"
           ],
           [
            0.5555555555555556,
            "#d8576b"
           ],
           [
            0.6666666666666666,
            "#ed7953"
           ],
           [
            0.7777777777777778,
            "#fb9f3a"
           ],
           [
            0.8888888888888888,
            "#fdca26"
           ],
           [
            1,
            "#f0f921"
           ]
          ],
          "sequentialminus": [
           [
            0,
            "#0d0887"
           ],
           [
            0.1111111111111111,
            "#46039f"
           ],
           [
            0.2222222222222222,
            "#7201a8"
           ],
           [
            0.3333333333333333,
            "#9c179e"
           ],
           [
            0.4444444444444444,
            "#bd3786"
           ],
           [
            0.5555555555555556,
            "#d8576b"
           ],
           [
            0.6666666666666666,
            "#ed7953"
           ],
           [
            0.7777777777777778,
            "#fb9f3a"
           ],
           [
            0.8888888888888888,
            "#fdca26"
           ],
           [
            1,
            "#f0f921"
           ]
          ]
         },
         "colorway": [
          "#636efa",
          "#EF553B",
          "#00cc96",
          "#ab63fa",
          "#FFA15A",
          "#19d3f3",
          "#FF6692",
          "#B6E880",
          "#FF97FF",
          "#FECB52"
         ],
         "dragmode": "zoom",
         "font": {
          "color": "#2a3f5f",
          "family": "\"Open Sans\", verdana, arial, sans-serif",
          "size": 12
         },
         "hidesources": false,
         "hoverdistance": 20,
         "hoverlabel": {
          "align": "left",
          "font": {
           "family": "Arial, sans-serif",
           "size": 13
          },
          "grouptitlefont": {
           "family": "Arial, sans-serif",
           "size": 13
          },
          "namelength": 15
         },
         "hovermode": "closest",
         "images": [],
         "legend": {
          "bgcolor": "white",
          "bordercolor": "#444",
          "borderwidth": 0,
          "font": {
           "color": "#2a3f5f",
           "family": "\"Open Sans\", verdana, arial, sans-serif",
           "size": 12
          },
          "groupclick": "togglegroup",
          "grouptitlefont": {
           "color": "#2a3f5f",
           "family": "\"Open Sans\", verdana, arial, sans-serif",
           "size": 13
          },
          "itemclick": "toggle",
          "itemdoubleclick": "toggleothers",
          "itemsizing": "trace",
          "itemwidth": 30,
          "title": {
           "text": ""
          },
          "traceorder": "normal",
          "valign": "middle",
          "xanchor": "left",
          "yanchor": "top"
         },
         "margin": {
          "autoexpand": true
         },
         "modebar": {
          "activecolor": "rgba(68, 68, 68, 0.7)",
          "add": "",
          "bgcolor": "rgba(255, 255, 255, 0.5)",
          "color": "rgba(68, 68, 68, 0.3)",
          "orientation": "h",
          "remove": ""
         },
         "newshape": {
          "drawdirection": "diagonal",
          "fillcolor": "rgba(0,0,0,0)",
          "fillrule": "evenodd",
          "layer": "above",
          "line": {
           "color": "#444",
           "dash": "solid",
           "width": 4
          },
          "opacity": 1
         },
         "paper_bgcolor": "white",
         "plot_bgcolor": "white",
         "separators": ".,",
         "shapes": [],
         "showlegend": true,
         "sliders": [],
         "spikedistance": -1,
         "title": {
          "font": {
           "color": "#2a3f5f",
           "family": "\"Open Sans\", verdana, arial, sans-serif",
           "size": 17
          },
          "pad": {
           "b": 0,
           "l": 0,
           "r": 0,
           "t": 0
          },
          "text": "Click to enter Plot title",
          "x": 0.05,
          "xanchor": "auto",
          "xref": "container",
          "y": "auto",
          "yanchor": "auto",
          "yref": "container"
         },
         "uniformtext": {
          "mode": false
         },
         "updatemenus": [],
         "width": 1032.56,
         "xaxis2": {
          "automargin": true,
          "autorange": true,
          "autotypenumbers": "strict",
          "color": "#444",
          "constrain": "range",
          "constraintoward": "center",
          "dtick": 100000,
          "exponentformat": "B",
          "fixedrange": false,
          "gridcolor": "#EBF0F8",
          "gridwidth": 1,
          "hoverformat": "",
          "layer": "above traces",
          "minexponent": 3,
          "nticks": 0,
          "range": [
           0,
           600963
          ],
          "rangemode": "normal",
          "separatethousands": false,
          "showexponent": "all",
          "showgrid": true,
          "showline": false,
          "showspikes": true,
          "showticklabels": true,
          "side": "bottom",
          "tick0": 0,
          "tickangle": "auto",
          "tickfont": {
           "color": "#2a3f5f",
           "family": "\"Open Sans\", verdana, arial, sans-serif",
           "size": 12
          },
          "tickformat": "",
          "ticklabeloverflow": "hide past div",
          "ticklabelposition": "outside",
          "ticklabelstep": 1,
          "tickmode": "auto",
          "tickprefix": "",
          "ticks": "",
          "ticksuffix": "",
          "title": {
           "font": {
            "color": "#2a3f5f",
            "family": "\"Open Sans\", verdana, arial, sans-serif",
            "size": 14
           },
           "standoff": 15,
           "text": "Click to enter X axis title"
          },
          "type": "linear",
          "visible": true,
          "zeroline": true,
          "zerolinecolor": "#EBF0F8",
          "zerolinewidth": 2
         },
         "yaxis": {
          "automargin": true,
          "autorange": true,
          "autotypenumbers": "strict",
          "color": "#444",
          "constrain": "range",
          "constraintoward": "middle",
          "dtick": 20,
          "exponentformat": "B",
          "fixedrange": false,
          "gridcolor": "#EBF0F8",
          "gridwidth": 1,
          "hoverformat": "",
          "layer": "above traces",
          "minexponent": 3,
          "nticks": 0,
          "overlaying": false,
          "range": [
           2507.803955078125,
           2648.126220703125
          ],
          "rangemode": "normal",
          "separatethousands": false,
          "showexponent": "all",
          "showgrid": true,
          "showline": false,
          "showspikes": false,
          "showticklabels": true,
          "side": "left",
          "tick0": 0,
          "tickangle": "auto",
          "tickfont": {
           "color": "#2a3f5f",
           "family": "\"Open Sans\", verdana, arial, sans-serif",
           "size": 12
          },
          "tickformat": "",
          "ticklabeloverflow": "hide past div",
          "ticklabelposition": "outside",
          "ticklabelstep": 1,
          "tickmode": "auto",
          "tickprefix": "",
          "ticks": "",
          "ticksuffix": "",
          "title": {
           "font": {
            "color": "#2a3f5f",
            "family": "\"Open Sans\", verdana, arial, sans-serif",
            "size": 14
           },
           "standoff": 15,
           "text": "Click to enter Y axis title"
          },
          "type": "linear",
          "visible": true,
          "zeroline": true,
          "zerolinecolor": "#EBF0F8",
          "zerolinewidth": 2
         },
         "yaxis3": {
          "automargin": true,
          "autorange": true,
          "autotypenumbers": "strict",
          "color": "#444",
          "constrain": "range",
          "constraintoward": "middle",
          "dtick": 0.5,
          "exponentformat": "B",
          "fixedrange": false,
          "gridcolor": "#EBF0F8",
          "gridwidth": 1,
          "hoverformat": "",
          "layer": "above traces",
          "minexponent": 3,
          "nticks": 0,
          "overlaying": false,
          "range": [
           -0.9516423716529082,
           1.0085030283587237
          ],
          "rangemode": "normal",
          "separatethousands": false,
          "showexponent": "all",
          "showgrid": true,
          "showline": false,
          "showspikes": false,
          "showticklabels": true,
          "side": "left",
          "tick0": 0,
          "tickangle": "auto",
          "tickfont": {
           "color": "#2a3f5f",
           "family": "\"Open Sans\", verdana, arial, sans-serif",
           "size": 12
          },
          "tickformat": "",
          "ticklabeloverflow": "hide past div",
          "ticklabelposition": "outside",
          "ticklabelstep": 1,
          "tickmode": "auto",
          "tickprefix": "",
          "ticks": "",
          "ticksuffix": "",
          "title": {
           "font": {
            "color": "#2a3f5f",
            "family": "\"Open Sans\", verdana, arial, sans-serif",
            "size": 14
           },
           "standoff": 15,
           "text": "Click to enter Y axis title"
          },
          "type": "linear",
          "visible": true,
          "zeroline": true,
          "zerolinecolor": "#EBF0F8",
          "zerolinewidth": 2
         }
        },
        "layout_edit_id": 11
       },
       "_js2py_pointsCallback": {
        "device_state": {
         "alt": false,
         "button": 0,
         "buttons": 0,
         "ctrl": false,
         "meta": false,
         "shift": false
        },
        "event_type": "plotly_unhover",
        "points": {
         "point_indexes": [
          529
         ],
         "trace_indexes": [
          0
         ],
         "xs": [
          318052
         ],
         "ys": [
          2535.989990234375
         ]
        },
        "selector": null
       },
       "_js2py_relayout": {
        "relayout_data": {
         "xaxis2.range[0]": 308128.55350398895,
         "xaxis2.range[1]": 327107.2873490383,
         "yaxis.range[0]": 2520.824278976909,
         "yaxis.range[1]": 2548.073976605186
        },
        "source_view_id": "0fbdee"
       },
       "_js2py_restyle": {},
       "_js2py_traceDeltas": {
        "trace_deltas": [
         {
          "connectgaps": false,
          "error_x": {
           "visible": false
          },
          "error_y": {
           "visible": false
          },
          "fill": "none",
          "hoverinfo": "all",
          "hoverlabel": {
           "align": "left",
           "font": {
            "family": "Arial, sans-serif",
            "size": 13
           },
           "namelength": 15
          },
          "hovertemplate": "",
          "hovertext": "",
          "index": 0,
          "legendgroup": "",
          "legendgrouptitle": {
           "font": {
            "color": "#2a3f5f",
            "family": "\"Open Sans\", verdana, arial, sans-serif",
            "size": 13
           },
           "text": ""
          },
          "legendrank": 1000,
          "line": {
           "dash": "solid",
           "shape": "linear",
           "width": 2
          },
          "mode": "lines",
          "opacity": 1,
          "showlegend": true,
          "text": "",
          "uid": "7cc36db0-17df-42e1-8d18-b4fbdb9a7c7a",
          "visible": true,
          "xcalendar": "gregorian",
          "xhoverformat": "",
          "xperiod": 0,
          "yaxis": "y",
          "ycalendar": "gregorian",
          "yhoverformat": "",
          "yperiod": 0
         },
         {
          "connectgaps": false,
          "error_x": {
           "visible": false
          },
          "error_y": {
           "visible": false
          },
          "fill": "none",
          "hoverinfo": "all",
          "hoverlabel": {
           "align": "left",
           "font": {
            "family": "Arial, sans-serif",
            "size": 13
           },
           "namelength": 15
          },
          "hovertemplate": "",
          "hovertext": "",
          "index": 1,
          "legendgroup": "",
          "legendgrouptitle": {
           "font": {
            "color": "#2a3f5f",
            "family": "\"Open Sans\", verdana, arial, sans-serif",
            "size": 13
           },
           "text": ""
          },
          "legendrank": 1000,
          "line": {
           "dash": "solid",
           "shape": "linear",
           "width": 2
          },
          "mode": "lines",
          "opacity": 1,
          "showlegend": true,
          "text": "",
          "uid": "157d7fa1-cdc3-4d5b-beb4-1536975b702e",
          "visible": true,
          "xcalendar": "gregorian",
          "xhoverformat": "",
          "xperiod": 0,
          "yaxis": "y",
          "ycalendar": "gregorian",
          "yhoverformat": "",
          "yperiod": 0
         },
         {
          "connectgaps": false,
          "error_x": {
           "visible": false
          },
          "error_y": {
           "visible": false
          },
          "fill": "none",
          "hoverinfo": "all",
          "hoverlabel": {
           "align": "left",
           "font": {
            "family": "Arial, sans-serif",
            "size": 13
           },
           "namelength": 15
          },
          "hovertemplate": "",
          "hovertext": "",
          "index": 2,
          "legendgroup": "",
          "legendgrouptitle": {
           "font": {
            "color": "#2a3f5f",
            "family": "\"Open Sans\", verdana, arial, sans-serif",
            "size": 13
           },
           "text": ""
          },
          "legendrank": 1000,
          "line": {
           "dash": "solid",
           "shape": "linear",
           "width": 2
          },
          "mode": "lines",
          "opacity": 1,
          "showlegend": true,
          "text": "",
          "uid": "4e6d8288-e91e-4e41-a179-397089b9c1b3",
          "visible": true,
          "xcalendar": "gregorian",
          "xhoverformat": "",
          "xperiod": 0,
          "ycalendar": "gregorian",
          "yhoverformat": "",
          "yperiod": 0
         }
        ],
        "trace_edit_id": 11
       },
       "_js2py_update": {},
       "_last_layout_edit_id": 11,
       "_last_trace_edit_id": 11,
       "_layout": {
        "autosize": true,
        "height": 700,
        "legend": {
         "orientation": "h",
         "x": 0.1,
         "y": 1
        },
        "margin": {
         "b": 10,
         "l": 45,
         "pad": 3,
         "r": 15,
         "t": 30
        },
        "template": {
         "data": {
          "bar": [
           {
            "error_x": {
             "color": "#2a3f5f"
            },
            "error_y": {
             "color": "#2a3f5f"
            },
            "marker": {
             "line": {
              "color": "white",
              "width": 0.5
             },
             "pattern": {
              "fillmode": "overlay",
              "size": 10,
              "solidity": 0.2
             }
            },
            "type": "bar"
           }
          ],
          "barpolar": [
           {
            "marker": {
             "line": {
              "color": "white",
              "width": 0.5
             },
             "pattern": {
              "fillmode": "overlay",
              "size": 10,
              "solidity": 0.2
             }
            },
            "type": "barpolar"
           }
          ],
          "carpet": [
           {
            "aaxis": {
             "endlinecolor": "#2a3f5f",
             "gridcolor": "#C8D4E3",
             "linecolor": "#C8D4E3",
             "minorgridcolor": "#C8D4E3",
             "startlinecolor": "#2a3f5f"
            },
            "baxis": {
             "endlinecolor": "#2a3f5f",
             "gridcolor": "#C8D4E3",
             "linecolor": "#C8D4E3",
             "minorgridcolor": "#C8D4E3",
             "startlinecolor": "#2a3f5f"
            },
            "type": "carpet"
           }
          ],
          "choropleth": [
           {
            "colorbar": {
             "outlinewidth": 0,
             "ticks": ""
            },
            "type": "choropleth"
           }
          ],
          "contour": [
           {
            "colorbar": {
             "outlinewidth": 0,
             "ticks": ""
            },
            "colorscale": [
             [
              0,
              "#0d0887"
             ],
             [
              0.1111111111111111,
              "#46039f"
             ],
             [
              0.2222222222222222,
              "#7201a8"
             ],
             [
              0.3333333333333333,
              "#9c179e"
             ],
             [
              0.4444444444444444,
              "#bd3786"
             ],
             [
              0.5555555555555556,
              "#d8576b"
             ],
             [
              0.6666666666666666,
              "#ed7953"
             ],
             [
              0.7777777777777778,
              "#fb9f3a"
             ],
             [
              0.8888888888888888,
              "#fdca26"
             ],
             [
              1,
              "#f0f921"
             ]
            ],
            "type": "contour"
           }
          ],
          "contourcarpet": [
           {
            "colorbar": {
             "outlinewidth": 0,
             "ticks": ""
            },
            "type": "contourcarpet"
           }
          ],
          "heatmap": [
           {
            "colorbar": {
             "outlinewidth": 0,
             "ticks": ""
            },
            "colorscale": [
             [
              0,
              "#0d0887"
             ],
             [
              0.1111111111111111,
              "#46039f"
             ],
             [
              0.2222222222222222,
              "#7201a8"
             ],
             [
              0.3333333333333333,
              "#9c179e"
             ],
             [
              0.4444444444444444,
              "#bd3786"
             ],
             [
              0.5555555555555556,
              "#d8576b"
             ],
             [
              0.6666666666666666,
              "#ed7953"
             ],
             [
              0.7777777777777778,
              "#fb9f3a"
             ],
             [
              0.8888888888888888,
              "#fdca26"
             ],
             [
              1,
              "#f0f921"
             ]
            ],
            "type": "heatmap"
           }
          ],
          "heatmapgl": [
           {
            "colorbar": {
             "outlinewidth": 0,
             "ticks": ""
            },
            "colorscale": [
             [
              0,
              "#0d0887"
             ],
             [
              0.1111111111111111,
              "#46039f"
             ],
             [
              0.2222222222222222,
              "#7201a8"
             ],
             [
              0.3333333333333333,
              "#9c179e"
             ],
             [
              0.4444444444444444,
              "#bd3786"
             ],
             [
              0.5555555555555556,
              "#d8576b"
             ],
             [
              0.6666666666666666,
              "#ed7953"
             ],
             [
              0.7777777777777778,
              "#fb9f3a"
             ],
             [
              0.8888888888888888,
              "#fdca26"
             ],
             [
              1,
              "#f0f921"
             ]
            ],
            "type": "heatmapgl"
           }
          ],
          "histogram": [
           {
            "marker": {
             "pattern": {
              "fillmode": "overlay",
              "size": 10,
              "solidity": 0.2
             }
            },
            "type": "histogram"
           }
          ],
          "histogram2d": [
           {
            "colorbar": {
             "outlinewidth": 0,
             "ticks": ""
            },
            "colorscale": [
             [
              0,
              "#0d0887"
             ],
             [
              0.1111111111111111,
              "#46039f"
             ],
             [
              0.2222222222222222,
              "#7201a8"
             ],
             [
              0.3333333333333333,
              "#9c179e"
             ],
             [
              0.4444444444444444,
              "#bd3786"
             ],
             [
              0.5555555555555556,
              "#d8576b"
             ],
             [
              0.6666666666666666,
              "#ed7953"
             ],
             [
              0.7777777777777778,
              "#fb9f3a"
             ],
             [
              0.8888888888888888,
              "#fdca26"
             ],
             [
              1,
              "#f0f921"
             ]
            ],
            "type": "histogram2d"
           }
          ],
          "histogram2dcontour": [
           {
            "colorbar": {
             "outlinewidth": 0,
             "ticks": ""
            },
            "colorscale": [
             [
              0,
              "#0d0887"
             ],
             [
              0.1111111111111111,
              "#46039f"
             ],
             [
              0.2222222222222222,
              "#7201a8"
             ],
             [
              0.3333333333333333,
              "#9c179e"
             ],
             [
              0.4444444444444444,
              "#bd3786"
             ],
             [
              0.5555555555555556,
              "#d8576b"
             ],
             [
              0.6666666666666666,
              "#ed7953"
             ],
             [
              0.7777777777777778,
              "#fb9f3a"
             ],
             [
              0.8888888888888888,
              "#fdca26"
             ],
             [
              1,
              "#f0f921"
             ]
            ],
            "type": "histogram2dcontour"
           }
          ],
          "mesh3d": [
           {
            "colorbar": {
             "outlinewidth": 0,
             "ticks": ""
            },
            "type": "mesh3d"
           }
          ],
          "parcoords": [
           {
            "line": {
             "colorbar": {
              "outlinewidth": 0,
              "ticks": ""
             }
            },
            "type": "parcoords"
           }
          ],
          "pie": [
           {
            "automargin": true,
            "type": "pie"
           }
          ],
          "scatter": [
           {
            "marker": {
             "colorbar": {
              "outlinewidth": 0,
              "ticks": ""
             }
            },
            "type": "scatter"
           }
          ],
          "scatter3d": [
           {
            "line": {
             "colorbar": {
              "outlinewidth": 0,
              "ticks": ""
             }
            },
            "marker": {
             "colorbar": {
              "outlinewidth": 0,
              "ticks": ""
             }
            },
            "type": "scatter3d"
           }
          ],
          "scattercarpet": [
           {
            "marker": {
             "colorbar": {
              "outlinewidth": 0,
              "ticks": ""
             }
            },
            "type": "scattercarpet"
           }
          ],
          "scattergeo": [
           {
            "marker": {
             "colorbar": {
              "outlinewidth": 0,
              "ticks": ""
             }
            },
            "type": "scattergeo"
           }
          ],
          "scattergl": [
           {
            "marker": {
             "colorbar": {
              "outlinewidth": 0,
              "ticks": ""
             }
            },
            "type": "scattergl"
           }
          ],
          "scattermapbox": [
           {
            "marker": {
             "colorbar": {
              "outlinewidth": 0,
              "ticks": ""
             }
            },
            "type": "scattermapbox"
           }
          ],
          "scatterpolar": [
           {
            "marker": {
             "colorbar": {
              "outlinewidth": 0,
              "ticks": ""
             }
            },
            "type": "scatterpolar"
           }
          ],
          "scatterpolargl": [
           {
            "marker": {
             "colorbar": {
              "outlinewidth": 0,
              "ticks": ""
             }
            },
            "type": "scatterpolargl"
           }
          ],
          "scatterternary": [
           {
            "marker": {
             "colorbar": {
              "outlinewidth": 0,
              "ticks": ""
             }
            },
            "type": "scatterternary"
           }
          ],
          "surface": [
           {
            "colorbar": {
             "outlinewidth": 0,
             "ticks": ""
            },
            "colorscale": [
             [
              0,
              "#0d0887"
             ],
             [
              0.1111111111111111,
              "#46039f"
             ],
             [
              0.2222222222222222,
              "#7201a8"
             ],
             [
              0.3333333333333333,
              "#9c179e"
             ],
             [
              0.4444444444444444,
              "#bd3786"
             ],
             [
              0.5555555555555556,
              "#d8576b"
             ],
             [
              0.6666666666666666,
              "#ed7953"
             ],
             [
              0.7777777777777778,
              "#fb9f3a"
             ],
             [
              0.8888888888888888,
              "#fdca26"
             ],
             [
              1,
              "#f0f921"
             ]
            ],
            "type": "surface"
           }
          ],
          "table": [
           {
            "cells": {
             "fill": {
              "color": "#EBF0F8"
             },
             "line": {
              "color": "white"
             }
            },
            "header": {
             "fill": {
              "color": "#C8D4E3"
             },
             "line": {
              "color": "white"
             }
            },
            "type": "table"
           }
          ]
         },
         "layout": {
          "annotationdefaults": {
           "arrowcolor": "#2a3f5f",
           "arrowhead": 0,
           "arrowwidth": 1
          },
          "autotypenumbers": "strict",
          "coloraxis": {
           "colorbar": {
            "outlinewidth": 0,
            "ticks": ""
           }
          },
          "colorscale": {
           "diverging": [
            [
             0,
             "#8e0152"
            ],
            [
             0.1,
             "#c51b7d"
            ],
            [
             0.2,
             "#de77ae"
            ],
            [
             0.3,
             "#f1b6da"
            ],
            [
             0.4,
             "#fde0ef"
            ],
            [
             0.5,
             "#f7f7f7"
            ],
            [
             0.6,
             "#e6f5d0"
            ],
            [
             0.7,
             "#b8e186"
            ],
            [
             0.8,
             "#7fbc41"
            ],
            [
             0.9,
             "#4d9221"
            ],
            [
             1,
             "#276419"
            ]
           ],
           "sequential": [
            [
             0,
             "#0d0887"
            ],
            [
             0.1111111111111111,
             "#46039f"
            ],
            [
             0.2222222222222222,
             "#7201a8"
            ],
            [
             0.3333333333333333,
             "#9c179e"
            ],
            [
             0.4444444444444444,
             "#bd3786"
            ],
            [
             0.5555555555555556,
             "#d8576b"
            ],
            [
             0.6666666666666666,
             "#ed7953"
            ],
            [
             0.7777777777777778,
             "#fb9f3a"
            ],
            [
             0.8888888888888888,
             "#fdca26"
            ],
            [
             1,
             "#f0f921"
            ]
           ],
           "sequentialminus": [
            [
             0,
             "#0d0887"
            ],
            [
             0.1111111111111111,
             "#46039f"
            ],
            [
             0.2222222222222222,
             "#7201a8"
            ],
            [
             0.3333333333333333,
             "#9c179e"
            ],
            [
             0.4444444444444444,
             "#bd3786"
            ],
            [
             0.5555555555555556,
             "#d8576b"
            ],
            [
             0.6666666666666666,
             "#ed7953"
            ],
            [
             0.7777777777777778,
             "#fb9f3a"
            ],
            [
             0.8888888888888888,
             "#fdca26"
            ],
            [
             1,
             "#f0f921"
            ]
           ]
          },
          "colorway": [
           "#636efa",
           "#EF553B",
           "#00cc96",
           "#ab63fa",
           "#FFA15A",
           "#19d3f3",
           "#FF6692",
           "#B6E880",
           "#FF97FF",
           "#FECB52"
          ],
          "font": {
           "color": "#2a3f5f"
          },
          "geo": {
           "bgcolor": "white",
           "lakecolor": "white",
           "landcolor": "white",
           "showlakes": true,
           "showland": true,
           "subunitcolor": "#C8D4E3"
          },
          "hoverlabel": {
           "align": "left"
          },
          "hovermode": "closest",
          "mapbox": {
           "style": "light"
          },
          "paper_bgcolor": "white",
          "plot_bgcolor": "white",
          "polar": {
           "angularaxis": {
            "gridcolor": "#EBF0F8",
            "linecolor": "#EBF0F8",
            "ticks": ""
           },
           "bgcolor": "white",
           "radialaxis": {
            "gridcolor": "#EBF0F8",
            "linecolor": "#EBF0F8",
            "ticks": ""
           }
          },
          "scene": {
           "xaxis": {
            "backgroundcolor": "white",
            "gridcolor": "#DFE8F3",
            "gridwidth": 2,
            "linecolor": "#EBF0F8",
            "showbackground": true,
            "ticks": "",
            "zerolinecolor": "#EBF0F8"
           },
           "yaxis": {
            "backgroundcolor": "white",
            "gridcolor": "#DFE8F3",
            "gridwidth": 2,
            "linecolor": "#EBF0F8",
            "showbackground": true,
            "ticks": "",
            "zerolinecolor": "#EBF0F8"
           },
           "zaxis": {
            "backgroundcolor": "white",
            "gridcolor": "#DFE8F3",
            "gridwidth": 2,
            "linecolor": "#EBF0F8",
            "showbackground": true,
            "ticks": "",
            "zerolinecolor": "#EBF0F8"
           }
          },
          "shapedefaults": {
           "line": {
            "color": "#2a3f5f"
           }
          },
          "ternary": {
           "aaxis": {
            "gridcolor": "#DFE8F3",
            "linecolor": "#A2B1C6",
            "ticks": ""
           },
           "baxis": {
            "gridcolor": "#DFE8F3",
            "linecolor": "#A2B1C6",
            "ticks": ""
           },
           "bgcolor": "white",
           "caxis": {
            "gridcolor": "#DFE8F3",
            "linecolor": "#A2B1C6",
            "ticks": ""
           }
          },
          "title": {
           "x": 0.05
          },
          "xaxis": {
           "automargin": true,
           "gridcolor": "#EBF0F8",
           "linecolor": "#EBF0F8",
           "ticks": "",
           "title": {
            "standoff": 15
           },
           "zerolinecolor": "#EBF0F8",
           "zerolinewidth": 2
          },
          "yaxis": {
           "automargin": true,
           "gridcolor": "#EBF0F8",
           "linecolor": "#EBF0F8",
           "ticks": "",
           "title": {
            "standoff": 15
           },
           "zerolinecolor": "#EBF0F8",
           "zerolinewidth": 2
          }
         }
        },
        "xaxis": {
         "anchor": "y",
         "domain": [
          0,
          0.94
         ],
         "matches": "x2",
         "showticklabels": false,
         "spikedash": "dot",
         "spikemode": "across+marker",
         "spikesnap": "cursor",
         "spikethickness": 2
        },
        "xaxis2": {
         "anchor": "y3",
         "domain": [
          0,
          0.94
         ],
         "spikedash": "dot",
         "spikemode": "across+marker",
         "spikesnap": "cursor",
         "spikethickness": 2
        },
        "yaxis": {
         "anchor": "x",
         "domain": [
          0.32100000000000006,
          1
         ]
        },
        "yaxis2": {
         "anchor": "x",
         "overlaying": "y",
         "side": "right"
        },
        "yaxis3": {
         "anchor": "x2",
         "domain": [
          0,
          0.29100000000000004
         ]
        },
        "yaxis4": {
         "anchor": "x2",
         "overlaying": "y3",
         "side": "right"
        }
       },
       "_py2js_animate": {},
       "_py2js_deleteTraces": {},
       "_py2js_moveTraces": {},
       "_py2js_relayout": {},
       "_py2js_removeLayoutProps": {},
       "_py2js_removeTraceProps": {},
       "_view_count": 1
      }
     },
     "9723d74bd5304e1f8c96147258f5fc80": {
      "model_module": "@jupyter-widgets/controls",
      "model_module_version": "1.5.0",
      "model_name": "DescriptionStyleModel",
      "state": {
       "description_width": ""
      }
     },
     "b2b4972ffd81463c8c8dde42b6b2903b": {
      "model_module": "@jupyter-widgets/base",
      "model_module_version": "1.2.0",
      "model_name": "LayoutModel",
      "state": {}
     },
     "c2df11ad7910491dad99ea5a48a5039f": {
      "model_module": "@jupyter-widgets/controls",
      "model_module_version": "1.5.0",
      "model_name": "HBoxModel",
      "state": {
       "children": [
        "IPY_MODEL_162d7ab8cfcd40deb92a68695a3872b8",
        "IPY_MODEL_c7273d8a74a74309a22d3769b197be6f",
        "IPY_MODEL_80074b5c5f0a46ac88f79a44d0c019d9"
       ],
       "layout": "IPY_MODEL_2c76cf7fc92a43c5995292f3ff6311e4"
      }
     },
     "c3b2cdf2df9246a2958d40d4a39363cb": {
      "model_module": "@jupyter-widgets/base",
      "model_module_version": "1.2.0",
      "model_name": "LayoutModel",
      "state": {}
     },
     "c7273d8a74a74309a22d3769b197be6f": {
      "model_module": "@jupyter-widgets/controls",
      "model_module_version": "1.5.0",
      "model_name": "FloatProgressModel",
      "state": {
       "layout": "IPY_MODEL_c3b2cdf2df9246a2958d40d4a39363cb",
       "max": 199,
       "style": "IPY_MODEL_60523b7753e048ec9055a521a3d6b511",
       "value": 166
      }
     }
    },
    "version_major": 2,
    "version_minor": 0
   }
  }
 },
 "nbformat": 4,
 "nbformat_minor": 5
}

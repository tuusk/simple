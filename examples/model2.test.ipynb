{
 "cells": [
  {
   "cell_type": "markdown",
   "id": "e48c2ec1-4cc0-4b0d-8671-37a4f0431fe4",
   "metadata": {},
   "source": [
    "# Серия тиков с разной ценой, количество тиков N, расстояние во времени меньше T миллисекунд"
   ]
  },
  {
   "cell_type": "code",
   "execution_count": 1,
   "id": "394d085f-7510-446e-bb12-384082b22535",
   "metadata": {
    "execution": {
     "iopub.execute_input": "2022-06-16T11:51:52.739192Z",
     "iopub.status.busy": "2022-06-16T11:51:52.739192Z",
     "iopub.status.idle": "2022-06-16T11:51:53.572837Z",
     "shell.execute_reply": "2022-06-16T11:51:53.572837Z",
     "shell.execute_reply.started": "2022-06-16T11:51:52.739192Z"
    },
    "tags": []
   },
   "outputs": [],
   "source": [
    "from simple.ohlc import debounce, midPrice, npJoin\n",
    "from simple.plotly import chartFigure\n",
    "from simple.funcs import symlog\n",
    "from simple.backtest import npBacktestMarket, getProfit\n",
    "import numpy as np\n",
    "from simple.numpy import rolling_apply"
   ]
  },
  {
   "cell_type": "code",
   "execution_count": 2,
   "id": "846c8459-ecb5-4cf6-b9ab-e8851d7385e8",
   "metadata": {
    "execution": {
     "iopub.execute_input": "2022-06-16T11:51:53.573838Z",
     "iopub.status.busy": "2022-06-16T11:51:53.573838Z",
     "iopub.status.idle": "2022-06-16T11:51:53.576839Z",
     "shell.execute_reply": "2022-06-16T11:51:53.576338Z",
     "shell.execute_reply.started": "2022-06-16T11:51:53.573838Z"
    },
    "tags": []
   },
   "outputs": [],
   "source": [
    "threshold = 2_000_000  # default resolution in microseconds\n",
    "period = 30"
   ]
  },
  {
   "cell_type": "code",
   "execution_count": 3,
   "id": "f2178691-427f-44d0-bce0-c278c85763c2",
   "metadata": {
    "execution": {
     "iopub.execute_input": "2022-06-16T11:51:53.578339Z",
     "iopub.status.busy": "2022-06-16T11:51:53.577839Z",
     "iopub.status.idle": "2022-06-16T11:51:53.602343Z",
     "shell.execute_reply": "2022-06-16T11:51:53.602343Z",
     "shell.execute_reply.started": "2022-06-16T11:51:53.578339Z"
    },
    "tags": []
   },
   "outputs": [
    {
     "data": {
      "text/plain": [
       "rec.array([('2022-05-08T00:19:22.420000', 29995, 2629.81,    -5.),\n",
       "           ('2022-05-08T00:19:22.420000', 29996, 2629.81,    -4.),\n",
       "           ('2022-05-08T00:19:22.420000', 29997, 2629.8 , -1140.),\n",
       "           ('2022-05-08T00:19:22.420000', 29998, 2629.8 ,  -100.),\n",
       "           ('2022-05-08T00:19:22.420000', 29999, 2629.78,    -3.)],\n",
       "          dtype={'names':['DateTimeA','LocalTimeA','PriceA','VolumeA'], 'formats':['<M8[us]','<i8','<f8','<f8'], 'offsets':[0,8,16,24], 'itemsize':40})"
      ]
     },
     "execution_count": 3,
     "metadata": {},
     "output_type": "execute_result"
    }
   ],
   "source": [
    "T = np.load('data/ETHUSDT.2022-05-08.tick.npz')['ETHUSDT'].view(np.recarray)[:30000]\n",
    "T[-5:]"
   ]
  },
  {
   "cell_type": "code",
   "execution_count": 4,
   "id": "7f12f0f8-07db-42f4-8e14-f64749cb63f3",
   "metadata": {
    "execution": {
     "iopub.execute_input": "2022-06-16T11:51:53.603843Z",
     "iopub.status.busy": "2022-06-16T11:51:53.603343Z",
     "iopub.status.idle": "2022-06-16T11:51:53.606844Z",
     "shell.execute_reply": "2022-06-16T11:51:53.606844Z",
     "shell.execute_reply.started": "2022-06-16T11:51:53.603843Z"
    },
    "tags": []
   },
   "outputs": [],
   "source": [
    "Buy = T[T.VolumeA > 0]\n",
    "Sell = T[T.VolumeA < 0]"
   ]
  },
  {
   "cell_type": "code",
   "execution_count": 5,
   "id": "58c23d13-eac4-48d7-a860-98ea7dd6004e",
   "metadata": {
    "execution": {
     "iopub.execute_input": "2022-06-16T11:51:53.607844Z",
     "iopub.status.busy": "2022-06-16T11:51:53.607844Z",
     "iopub.status.idle": "2022-06-16T11:51:54.614019Z",
     "shell.execute_reply": "2022-06-16T11:51:54.614019Z",
     "shell.execute_reply.started": "2022-06-16T11:51:53.607844Z"
    },
    "tags": []
   },
   "outputs": [
    {
     "data": {
      "text/plain": [
       "rec.array([('2022-05-08T00:19:22.420000', 3564, 2629.915, 1000, 1.9750e+03, 0., -1.9750e+03,  2, 0,  2),\n",
       "           ('2022-05-08T00:19:22.420000', 3565, 2629.885,    0, 3.7000e+01, 0., -3.7000e+01,  1, 0,  1),\n",
       "           ('2022-05-08T00:19:22.420000', 3566, 2629.855,    0, 6.5350e+03, 0., -6.5350e+03,  6, 0,  6),\n",
       "           ('2022-05-08T00:19:22.420000', 3567, 2629.825,    0, 1.5953e+04, 0., -1.5953e+04, 10, 0, 10),\n",
       "           ('2022-05-08T00:19:22.420000', 3568, 2629.785,    0, 3.0000e+00, 0., -3.0000e+00,  1, 0,  1)],\n",
       "          dtype=[('DT', '<M8[us]'), ('Index', '<i4'), ('Price', '<f8'), ('Duration', '<m8[us]'), ('Volume', '<f8'), ('BuySize', '<f8'), ('SellSize', '<f8'), ('Count', '<i4'), ('BuyCount', '<i4'), ('SellCount', '<i4')])"
      ]
     },
     "execution_count": 5,
     "metadata": {},
     "output_type": "execute_result"
    }
   ],
   "source": [
    "C = debounce(T)\n",
    "C[-5:]"
   ]
  },
  {
   "cell_type": "code",
   "execution_count": 6,
   "id": "b7fcbf7e-0825-4da1-bd10-5600bc1666ed",
   "metadata": {
    "execution": {
     "iopub.execute_input": "2022-06-16T11:51:54.615019Z",
     "iopub.status.busy": "2022-06-16T11:51:54.615019Z",
     "iopub.status.idle": "2022-06-16T11:51:54.619520Z",
     "shell.execute_reply": "2022-06-16T11:51:54.619020Z",
     "shell.execute_reply.started": "2022-06-16T11:51:54.615019Z"
    },
    "tags": []
   },
   "outputs": [
    {
     "data": {
      "text/plain": [
       "(30000, 3569)"
      ]
     },
     "execution_count": 6,
     "metadata": {},
     "output_type": "execute_result"
    }
   ],
   "source": [
    "len(T), len(C)"
   ]
  },
  {
   "cell_type": "code",
   "execution_count": 7,
   "id": "2607c6c0-f04a-4197-8591-0a883c6cf2fc",
   "metadata": {
    "execution": {
     "iopub.execute_input": "2022-06-16T11:51:54.620020Z",
     "iopub.status.busy": "2022-06-16T11:51:54.620020Z",
     "iopub.status.idle": "2022-06-16T11:51:54.629022Z",
     "shell.execute_reply": "2022-06-16T11:51:54.629022Z",
     "shell.execute_reply.started": "2022-06-16T11:51:54.620020Z"
    },
    "tags": []
   },
   "outputs": [
    {
     "data": {
      "text/plain": [
       "rec.array([('2022-05-08T00:19:22.420000', 3564, 2629.915, 1000, -1.9750e+03, 0., -1.9750e+03,  2, 0,  2),\n",
       "           ('2022-05-08T00:19:22.420000', 3565, 2629.885,    0, -3.7000e+01, 0., -3.7000e+01,  1, 0,  1),\n",
       "           ('2022-05-08T00:19:22.420000', 3566, 2629.855,    0, -6.5350e+03, 0., -6.5350e+03,  6, 0,  6),\n",
       "           ('2022-05-08T00:19:22.420000', 3567, 2629.825,    0, -1.5953e+04, 0., -1.5953e+04, 10, 0, 10),\n",
       "           ('2022-05-08T00:19:22.420000', 3568, 2629.785,    0, -3.0000e+00, 0., -3.0000e+00,  1, 0,  1)],\n",
       "          dtype=[('DT', '<M8[us]'), ('Index', '<i4'), ('Price', '<f8'), ('Duration', '<m8[us]'), ('Volume', '<f8'), ('BuySize', '<f8'), ('SellSize', '<f8'), ('Count', '<i4'), ('BuyCount', '<i4'), ('SellCount', '<i4')])"
      ]
     },
     "execution_count": 7,
     "metadata": {},
     "output_type": "execute_result"
    }
   ],
   "source": [
    "C.Volume = C.BuySize + C.SellSize\n",
    "Buy = C[C.Volume > 0]\n",
    "Sell = C[C.Volume < 0]\n",
    "Sell[-5:]"
   ]
  },
  {
   "cell_type": "code",
   "execution_count": 8,
   "id": "ff310ba4-4f10-49d2-a656-279d24d21232",
   "metadata": {
    "execution": {
     "iopub.execute_input": "2022-06-16T11:51:54.630022Z",
     "iopub.status.busy": "2022-06-16T11:51:54.630022Z",
     "iopub.status.idle": "2022-06-16T11:51:54.646525Z",
     "shell.execute_reply": "2022-06-16T11:51:54.646525Z",
     "shell.execute_reply.started": "2022-06-16T11:51:54.630022Z"
    }
   },
   "outputs": [
    {
     "data": {
      "text/plain": [
       "rec.array([('2022-05-08T00:01:00.007000', 2636., 2635.99),\n",
       "           ('2022-05-08T00:01:00.043000', 2636., 2635.99),\n",
       "           ('2022-05-08T00:01:00.079000', 2636., 2635.99),\n",
       "           ('2022-05-08T00:01:00.117000', 2636., 2635.99),\n",
       "           ('2022-05-08T00:01:00.149000', 2636., 2635.99)],\n",
       "          dtype={'names':['DT','A','B'], 'formats':['<M8[us]','<f4','<f4'], 'offsets':[0,8,16], 'itemsize':24})"
      ]
     },
     "execution_count": 8,
     "metadata": {},
     "output_type": "execute_result"
    }
   ],
   "source": [
    "S = np.load('data/ETHUSDT.2022-05-08.bidask.npz')['ETHUSDT'].view(np.recarray)\n",
    "S[:5]"
   ]
  },
  {
   "cell_type": "code",
   "execution_count": 9,
   "id": "21952de0-3ab8-44e0-9b5a-095d087318b3",
   "metadata": {
    "execution": {
     "iopub.execute_input": "2022-06-16T11:51:54.647525Z",
     "iopub.status.busy": "2022-06-16T11:51:54.647525Z",
     "iopub.status.idle": "2022-06-16T11:51:54.822055Z",
     "shell.execute_reply": "2022-06-16T11:51:54.822055Z",
     "shell.execute_reply.started": "2022-06-16T11:51:54.647525Z"
    },
    "tags": []
   },
   "outputs": [
    {
     "data": {
      "text/plain": [
       "3569"
      ]
     },
     "execution_count": 9,
     "metadata": {},
     "output_type": "execute_result"
    }
   ],
   "source": [
    "K = npJoin(C.DT, S.DT)\n",
    "len(K)"
   ]
  },
  {
   "cell_type": "code",
   "execution_count": 10,
   "id": "5190683f-8702-45b8-af49-cc940587d620",
   "metadata": {
    "execution": {
     "iopub.execute_input": "2022-06-16T11:51:54.823056Z",
     "iopub.status.busy": "2022-06-16T11:51:54.823056Z",
     "iopub.status.idle": "2022-06-16T11:51:54.863063Z",
     "shell.execute_reply": "2022-06-16T11:51:54.863063Z",
     "shell.execute_reply.started": "2022-06-16T11:51:54.823056Z"
    },
    "tags": []
   },
   "outputs": [
    {
     "data": {
      "text/plain": [
       "3569"
      ]
     },
     "execution_count": 10,
     "metadata": {},
     "output_type": "execute_result"
    }
   ],
   "source": [
    "# calculate sum of duration/volume by sliding window\n",
    "def getSum(x):\n",
    "    return np.sum(x).astype(int)\n",
    "\n",
    "\n",
    "DurationA = rolling_apply(getSum, period, C.Duration)\n",
    "VolumeA = rolling_apply(getSum, period, C.Volume)\n",
    "len(DurationA)"
   ]
  },
  {
   "cell_type": "code",
   "execution_count": 11,
   "id": "82c096d7-265a-473c-b6c4-93478dd3dd95",
   "metadata": {
    "execution": {
     "iopub.execute_input": "2022-06-16T11:51:54.864063Z",
     "iopub.status.busy": "2022-06-16T11:51:54.864063Z",
     "iopub.status.idle": "2022-06-16T11:51:54.873565Z",
     "shell.execute_reply": "2022-06-16T11:51:54.873565Z",
     "shell.execute_reply.started": "2022-06-16T11:51:54.864063Z"
    },
    "tags": []
   },
   "outputs": [
    {
     "data": {
      "text/plain": [
       "array([1., 1., 1., 1., 1., 1., 1., 1., 1., 1.])"
      ]
     },
     "execution_count": 11,
     "metadata": {},
     "output_type": "execute_result"
    }
   ],
   "source": [
    "# trade signal\n",
    "signal = 0\n",
    "SignalA = np.zeros_like(DurationA)\n",
    "for i in range(len(SignalA)):\n",
    "    if DurationA[i] < threshold and VolumeA[i] > 0:\n",
    "        signal = 1\n",
    "    elif DurationA[i] < threshold and C.Volume[i] < 0:\n",
    "        signal = -1\n",
    "    SignalA[i] = signal\n",
    "        \n",
    "SignalA[-10:]"
   ]
  },
  {
   "cell_type": "code",
   "execution_count": 16,
   "id": "8890995b-a2c1-4dee-bf97-1f9cef2dbc1e",
   "metadata": {
    "execution": {
     "iopub.execute_input": "2022-06-16T11:53:08.039873Z",
     "iopub.status.busy": "2022-06-16T11:53:08.039873Z",
     "iopub.status.idle": "2022-06-16T11:53:08.045374Z",
     "shell.execute_reply": "2022-06-16T11:53:08.045374Z",
     "shell.execute_reply.started": "2022-06-16T11:53:08.039873Z"
    },
    "tags": []
   },
   "outputs": [
    {
     "data": {
      "text/plain": [
       "rec.array([(3103, '2022-05-08T00:17:07.656000', 2634.35009766, 2634.39501953, 3366, '2022-05-08T00:19:00.114000', 2632.39990234, 2632.39501953, -1.),\n",
       "           (3366, '2022-05-08T00:19:00.114000', 2632.39990234, 2632.39501953, 3382, '2022-05-08T00:19:01.094000', 2632.01000977, 2632.05004883,  1.),\n",
       "           (3382, '2022-05-08T00:19:01.094000', 2632.01000977, 2632.05004883, 3395, '2022-05-08T00:19:02.182000', 2632.15991211, 2632.15478516, -1.),\n",
       "           (3396, '2022-05-08T00:19:03.889000', 2632.15991211, 2632.14990234, 3493, '2022-05-08T00:19:17.753000', 2631.0300293 , 2631.03515625,  1.),\n",
       "           (3493, '2022-05-08T00:19:17.753000', 2631.0300293 , 2631.03515625, 3527, '2022-05-08T00:19:18.307000', 2630.60009766, 2630.57006836, -1.)],\n",
       "          dtype=[('X0', '<i8'), ('T0', '<M8[us]'), ('Price0', '<f8'), ('MidPrice0', '<f8'), ('X1', '<i8'), ('T1', '<M8[us]'), ('Price1', '<f8'), ('MidPrice1', '<f8'), ('Size', '<f8')])"
      ]
     },
     "execution_count": 16,
     "metadata": {},
     "output_type": "execute_result"
    }
   ],
   "source": [
    "D = npBacktestMarket(S.DT[K], S.A[K], S.B[K], SignalA, 0)\n",
    "D[-5:]"
   ]
  },
  {
   "cell_type": "code",
   "execution_count": 17,
   "id": "603fb361-771c-448f-8173-63cd485de5c5",
   "metadata": {
    "execution": {
     "iopub.execute_input": "2022-06-16T11:53:24.562266Z",
     "iopub.status.busy": "2022-06-16T11:53:24.562266Z",
     "iopub.status.idle": "2022-06-16T11:53:24.566766Z",
     "shell.execute_reply": "2022-06-16T11:53:24.566766Z",
     "shell.execute_reply.started": "2022-06-16T11:53:24.562266Z"
    },
    "tags": []
   },
   "outputs": [
    {
     "data": {
      "text/plain": [
       "rec.array([(3366, '2022-05-08T00:19:00.114000',  1.95019531,  2.        , 2.633375  , -0.68317969),\n",
       "           (3382, '2022-05-08T00:19:01.094000', -0.38989258, -0.3449707 , 2.63220496, -3.02209753),\n",
       "           (3395, '2022-05-08T00:19:02.182000', -0.14990234, -0.10473633, 2.63208496, -2.7819873 ),\n",
       "           (3493, '2022-05-08T00:19:17.753000', -1.12988281, -1.11474609, 2.63159497, -3.76147778),\n",
       "           (3527, '2022-05-08T00:19:18.307000',  0.42993164,  0.46508789, 2.63081506, -2.20088342)],\n",
       "          dtype=[('Index', '<i8'), ('DT', '<M8[us]'), ('RawPnL', '<f8'), ('MidPnL', '<f8'), ('Fee', '<f8'), ('Profit', '<f8')])"
      ]
     },
     "execution_count": 17,
     "metadata": {},
     "output_type": "execute_result"
    }
   ],
   "source": [
    "Long = D[D.Size > 0]\n",
    "Short = D[D.Size < 0]\n",
    "\n",
    "P = getProfit(D)\n",
    "P[-5:]"
   ]
  },
  {
   "cell_type": "code",
   "execution_count": 21,
   "id": "586689f2-b133-450f-96c0-8430fdaa3044",
   "metadata": {
    "execution": {
     "iopub.execute_input": "2022-06-16T11:54:30.750853Z",
     "iopub.status.busy": "2022-06-16T11:54:30.750352Z",
     "iopub.status.idle": "2022-06-16T11:54:31.191929Z",
     "shell.execute_reply": "2022-06-16T11:54:31.191429Z",
     "shell.execute_reply.started": "2022-06-16T11:54:30.750853Z"
    },
    "tags": []
   },
   "outputs": [
    {
     "data": {
      "application/vnd.jupyter.widget-view+json": {
       "model_id": "a4be852dddeb4b8f809ad3c864b13a34",
       "version_major": 2,
       "version_minor": 0
      },
      "text/plain": [
       "FigureWidgetResampler({\n",
       "    'data': [{'marker': {'color': 'red',\n",
       "                         'opacity': 0.25,\n",
       "   …"
      ]
     },
     "metadata": {},
     "output_type": "display_data"
    }
   ],
   "source": [
    "# indexed chart with bidask\n",
    "fig = chartFigure(height=800, rows=4,\n",
    "    Sell=dict(x=Sell.Index, y=Sell.Price, color='red', mode='markers', size=-symlog(Sell.Volume)-1, opacity=0.25),\n",
    "    Buy=dict(x=Buy.Index, y=Buy.Price, color='green', mode='markers', size=symlog(Buy.Volume)-1, opacity=0.25),\n",
    "    Bid=dict(x=C.Index, y=S.B[K], color='green', opacity=0.2),\n",
    "    Ask=dict(x=C.Index, y=S.A[K], color='red', opacity=0.2),\n",
    "                  \n",
    "    # trades \n",
    "    EnterLong=dict(x=Long.X0, y=Long.Price0, mode='markers',\n",
    "                   marker=dict(symbol='triangle-up', size=12, line_color='darkgreen', line_width=1, color='green')),\n",
    "    ExitLong=dict(x=Long.X1, y=Long.Price1, mode='markers',\n",
    "                  marker=dict(symbol='x', size=10, line_color='darkgreen', line_width=1, color='green', opacity=0.4)),\n",
    "\n",
    "    EnterShort=dict(x=Short.X0, y=Short.Price0, mode='markers',\n",
    "                    marker=dict(symbol='triangle-down', size=12, line_color='darkred', line_width=1, color='red')),\n",
    "    ExitShort=dict(x=Short.X1, y=Short.Price1, mode='markers',\n",
    "                   marker=dict(symbol='x', size=10, line_color='darkred', line_width=1, color='red', opacity=0.4)),\n",
    "            \n",
    "    # Signal and duration indicators              \n",
    "    Signal=dict(x=C.Index, y=SignalA, color='magenta', row=3, shape='hv'),\n",
    "    Duration=dict(x=C.Index, y=DurationA, color='blue', row=4),\n",
    "                  \n",
    "    # Profit              \n",
    "    RawPnL=dict(x=P.Index, y=P.RawPnL.cumsum(), secondary_y=True, width=4, color='gray', opacity=0.2, shape='hv', connectgaps=True),\n",
    "    Profit = dict(x=P.Index, y=P.Profit.cumsum(), secondary_y=True, width=6, color='blue', opacity=0.4, shape='hv', connectgaps=True)\n",
    ")\n",
    "\n",
    "fig.add_bar(name='Buy', x=Buy.Index, y=Buy.Volume, row=2, col=1, marker_color='green')\n",
    "fig.add_bar(name='Sell', x=Sell.Index, y=Sell.Volume, row=2, col=1, marker_color='red')\n",
    "fig.add_hline(y=threshold, row=4, col=1, line_dash='dot', line_color='gray')\n",
    "\n",
    "# styling\n",
    "fig.update_xaxes(spikemode='across+marker', spikedash='dot', spikethickness=2, spikesnap='cursor')\n",
    "fig.update_traces(xaxis=f'x4')\n",
    "fig.update_layout(legend=dict(x=0, y=1.05, bordercolor=\"lightgray\", borderwidth=1))\n",
    "\n",
    "fig"
   ]
  },
  {
   "cell_type": "code",
   "execution_count": null,
   "id": "fbd93560-529d-4ca2-b732-ee335642b009",
   "metadata": {},
   "outputs": [],
   "source": []
  }
 ],
 "metadata": {
  "kernelspec": {
   "display_name": "Python 3 (ipykernel)",
   "language": "python",
   "name": "python3"
  },
  "language_info": {
   "codemirror_mode": {
    "name": "ipython",
    "version": 3
   },
   "file_extension": ".py",
   "mimetype": "text/x-python",
   "name": "python",
   "nbconvert_exporter": "python",
   "pygments_lexer": "ipython3",
   "version": "3.9.12"
  }
 },
 "nbformat": 4,
 "nbformat_minor": 5
}

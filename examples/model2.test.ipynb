{
 "cells": [
  {
   "cell_type": "markdown",
   "id": "e48c2ec1-4cc0-4b0d-8671-37a4f0431fe4",
   "metadata": {},
   "source": [
    "# Серия тиков с разной ценой, количество тиков N, расстояние во времени меньше T миллисекунд"
   ]
  },
  {
   "cell_type": "code",
   "execution_count": 1,
   "id": "394d085f-7510-446e-bb12-384082b22535",
   "metadata": {
    "execution": {
     "iopub.execute_input": "2022-06-21T18:55:49.525124Z",
     "iopub.status.busy": "2022-06-21T18:55:49.524625Z",
     "iopub.status.idle": "2022-06-21T18:55:50.856858Z",
     "shell.execute_reply": "2022-06-21T18:55:50.856357Z",
     "shell.execute_reply.started": "2022-06-21T18:55:49.525124Z"
    },
    "tags": []
   },
   "outputs": [],
   "source": [
    "from simple.ohlc import debounce, npJoin\n",
    "from simple.plotly import chartFigure\n",
    "from simple.funcs import symlog\n",
    "from simple.backtest import npBacktestMarket, getProfit\n",
    "import numpy as np\n",
    "from simple.numpy import rolling_apply"
   ]
  },
  {
   "cell_type": "code",
   "execution_count": 2,
   "id": "846c8459-ecb5-4cf6-b9ab-e8851d7385e8",
   "metadata": {
    "execution": {
     "iopub.execute_input": "2022-06-21T18:55:50.857858Z",
     "iopub.status.busy": "2022-06-21T18:55:50.857858Z",
     "iopub.status.idle": "2022-06-21T18:55:50.861358Z",
     "shell.execute_reply": "2022-06-21T18:55:50.860858Z",
     "shell.execute_reply.started": "2022-06-21T18:55:50.857858Z"
    },
    "tags": []
   },
   "outputs": [],
   "source": [
    "threshold = 2_000_000  # default resolution in microseconds\n",
    "period = 30"
   ]
  },
  {
   "cell_type": "code",
   "execution_count": 3,
   "id": "f2178691-427f-44d0-bce0-c278c85763c2",
   "metadata": {
    "execution": {
     "iopub.execute_input": "2022-06-21T18:55:50.862358Z",
     "iopub.status.busy": "2022-06-21T18:55:50.861858Z",
     "iopub.status.idle": "2022-06-21T18:55:51.010385Z",
     "shell.execute_reply": "2022-06-21T18:55:51.009884Z",
     "shell.execute_reply.started": "2022-06-21T18:55:50.862358Z"
    },
    "tags": []
   },
   "outputs": [
    {
     "data": {
      "text/plain": [
       "rec.array([('2022-05-08T05:59:59.886999', 910037, 2537.16, 394.),\n",
       "           ('2022-05-08T05:59:59.886999', 910038, 2537.16, 394.),\n",
       "           ('2022-05-08T05:59:59.886999', 910039, 2537.16, 210.),\n",
       "           ('2022-05-08T05:59:59.897000', 910040, 2537.16,   2.),\n",
       "           ('2022-05-08T05:59:59.909999', 910041, 2537.16,   2.)],\n",
       "          dtype={'names':['DT','LocalDT','Price','Volume'], 'formats':['<M8[us]','<i8','<f8','<f8'], 'offsets':[0,8,16,24], 'itemsize':40})"
      ]
     },
     "execution_count": 3,
     "metadata": {},
     "output_type": "execute_result"
    }
   ],
   "source": [
    "T = np.load('data/ETHUSDT.2022-05-08.tick.npz')['ETHUSDT'].view(np.recarray)\n",
    "T[-5:]"
   ]
  },
  {
   "cell_type": "code",
   "execution_count": 4,
   "id": "7f12f0f8-07db-42f4-8e14-f64749cb63f3",
   "metadata": {
    "execution": {
     "iopub.execute_input": "2022-06-21T18:55:51.011885Z",
     "iopub.status.busy": "2022-06-21T18:55:51.011885Z",
     "iopub.status.idle": "2022-06-21T18:55:51.051392Z",
     "shell.execute_reply": "2022-06-21T18:55:51.050892Z",
     "shell.execute_reply.started": "2022-06-21T18:55:51.011885Z"
    },
    "tags": []
   },
   "outputs": [],
   "source": [
    "Buy = T[T.Volume > 0]\n",
    "Sell = T[T.Volume < 0]"
   ]
  },
  {
   "cell_type": "code",
   "execution_count": 5,
   "id": "58c23d13-eac4-48d7-a860-98ea7dd6004e",
   "metadata": {
    "execution": {
     "iopub.execute_input": "2022-06-21T18:55:51.052392Z",
     "iopub.status.busy": "2022-06-21T18:55:51.051892Z",
     "iopub.status.idle": "2022-06-21T18:55:52.450637Z",
     "shell.execute_reply": "2022-06-21T18:55:52.450136Z",
     "shell.execute_reply.started": "2022-06-21T18:55:51.051892Z"
    },
    "tags": []
   },
   "outputs": [
    {
     "data": {
      "text/plain": [
       "rec.array([('2022-05-08T05:59:50.540000', 155086, 2537.145,       0,  2535., 2535.,  0.000e+00,  3,  3,  0),\n",
       "           ('2022-05-08T05:59:50.611000', 155087, 2537.185,   71000,  2380., 2378., -2.000e+00,  6,  5,  1),\n",
       "           ('2022-05-08T05:59:51.163000', 155088, 2537.105,   18000,   395.,  197., -1.980e+02,  2,  1,  1),\n",
       "           ('2022-05-08T05:59:59.780999', 155089, 2536.985, 8617999, 16592., 9984., -6.608e+03, 67, 55, 12),\n",
       "           ('1970-01-01T00:00:00.000000', 155090, 2537.145,  129000,  3880., 3880.,  0.000e+00, 10, 10,  0)],\n",
       "          dtype=[('DT', '<M8[us]'), ('Index', '<i4'), ('Price', '<f8'), ('Duration', '<m8[us]'), ('Volume', '<f8'), ('BuySize', '<f8'), ('SellSize', '<f8'), ('Count', '<i4'), ('BuyCount', '<i4'), ('SellCount', '<i4')])"
      ]
     },
     "execution_count": 5,
     "metadata": {},
     "output_type": "execute_result"
    }
   ],
   "source": [
    "C = debounce(T)\n",
    "C[-5:]"
   ]
  },
  {
   "cell_type": "code",
   "execution_count": 6,
   "id": "b7fcbf7e-0825-4da1-bd10-5600bc1666ed",
   "metadata": {
    "execution": {
     "iopub.execute_input": "2022-06-21T18:55:52.451637Z",
     "iopub.status.busy": "2022-06-21T18:55:52.451637Z",
     "iopub.status.idle": "2022-06-21T18:55:52.456638Z",
     "shell.execute_reply": "2022-06-21T18:55:52.456638Z",
     "shell.execute_reply.started": "2022-06-21T18:55:52.451637Z"
    },
    "tags": []
   },
   "outputs": [
    {
     "data": {
      "text/plain": [
       "(907307, 155091)"
      ]
     },
     "execution_count": 6,
     "metadata": {},
     "output_type": "execute_result"
    }
   ],
   "source": [
    "len(T), len(C)"
   ]
  },
  {
   "cell_type": "code",
   "execution_count": 7,
   "id": "2607c6c0-f04a-4197-8591-0a883c6cf2fc",
   "metadata": {
    "execution": {
     "iopub.execute_input": "2022-06-21T18:55:52.457638Z",
     "iopub.status.busy": "2022-06-21T18:55:52.457638Z",
     "iopub.status.idle": "2022-06-21T18:55:52.485643Z",
     "shell.execute_reply": "2022-06-21T18:55:52.485643Z",
     "shell.execute_reply.started": "2022-06-21T18:55:52.457638Z"
    },
    "tags": []
   },
   "outputs": [
    {
     "data": {
      "text/plain": [
       "rec.array([('2022-05-08T05:59:42.346000', 155074, 2536.975,      0, -1.000e+02,   0.,  -100., 1, 0, 1),\n",
       "           ('2022-05-08T05:59:42.346000', 155075, 2536.935,      0, -1.970e+03,   0., -1970., 3, 0, 3),\n",
       "           ('2022-05-08T05:59:42.346000', 155076, 2536.905,      0, -5.081e+03,   0., -5081., 6, 0, 6),\n",
       "           ('2022-05-08T05:59:42.745000', 155077, 2536.875, 363000, -5.649e+03,   0., -5649., 7, 0, 7),\n",
       "           ('2022-05-08T05:59:51.163000', 155088, 2537.105,  18000, -1.000e+00, 197.,  -198., 2, 1, 1)],\n",
       "          dtype=[('DT', '<M8[us]'), ('Index', '<i4'), ('Price', '<f8'), ('Duration', '<m8[us]'), ('Volume', '<f8'), ('BuySize', '<f8'), ('SellSize', '<f8'), ('Count', '<i4'), ('BuyCount', '<i4'), ('SellCount', '<i4')])"
      ]
     },
     "execution_count": 7,
     "metadata": {},
     "output_type": "execute_result"
    }
   ],
   "source": [
    "C.Volume = C.BuySize + C.SellSize\n",
    "Buy = C[C.Volume > 0]\n",
    "Sell = C[C.Volume < 0]\n",
    "Sell[-5:]"
   ]
  },
  {
   "cell_type": "code",
   "execution_count": 8,
   "id": "ff310ba4-4f10-49d2-a656-279d24d21232",
   "metadata": {
    "execution": {
     "iopub.execute_input": "2022-06-21T18:55:52.487143Z",
     "iopub.status.busy": "2022-06-21T18:55:52.486643Z",
     "iopub.status.idle": "2022-06-21T18:55:52.565657Z",
     "shell.execute_reply": "2022-06-21T18:55:52.565157Z",
     "shell.execute_reply.started": "2022-06-21T18:55:52.487143Z"
    }
   },
   "outputs": [
    {
     "data": {
      "text/plain": [
       "rec.array([('2022-05-08T00:01:00.007000', 2636., 2635.99),\n",
       "           ('2022-05-08T00:01:00.043000', 2636., 2635.99),\n",
       "           ('2022-05-08T00:01:00.079000', 2636., 2635.99),\n",
       "           ('2022-05-08T00:01:00.117000', 2636., 2635.99),\n",
       "           ('2022-05-08T00:01:00.149000', 2636., 2635.99)],\n",
       "          dtype={'names':['DT','A','B'], 'formats':['<M8[us]','<f4','<f4'], 'offsets':[0,8,16], 'itemsize':24})"
      ]
     },
     "execution_count": 8,
     "metadata": {},
     "output_type": "execute_result"
    }
   ],
   "source": [
    "S = np.load('data/ETHUSDT.2022-05-08.bidask.npz')['ETHUSDT'].view(np.recarray)\n",
    "S[:5]"
   ]
  },
  {
   "cell_type": "code",
   "execution_count": 9,
   "id": "21952de0-3ab8-44e0-9b5a-095d087318b3",
   "metadata": {
    "execution": {
     "iopub.execute_input": "2022-06-21T18:55:52.566657Z",
     "iopub.status.busy": "2022-06-21T18:55:52.566157Z",
     "iopub.status.idle": "2022-06-21T18:55:52.806199Z",
     "shell.execute_reply": "2022-06-21T18:55:52.805699Z",
     "shell.execute_reply.started": "2022-06-21T18:55:52.566657Z"
    },
    "tags": []
   },
   "outputs": [
    {
     "data": {
      "text/plain": [
       "155091"
      ]
     },
     "execution_count": 9,
     "metadata": {},
     "output_type": "execute_result"
    }
   ],
   "source": [
    "K = npJoin(C.DT, S.DT)\n",
    "len(K)"
   ]
  },
  {
   "cell_type": "code",
   "execution_count": 11,
   "id": "5190683f-8702-45b8-af49-cc940587d620",
   "metadata": {
    "execution": {
     "iopub.execute_input": "2022-06-21T18:56:05.858484Z",
     "iopub.status.busy": "2022-06-21T18:56:05.858484Z",
     "iopub.status.idle": "2022-06-21T18:56:08.006360Z",
     "shell.execute_reply": "2022-06-21T18:56:08.005860Z",
     "shell.execute_reply.started": "2022-06-21T18:56:05.858484Z"
    },
    "tags": []
   },
   "outputs": [
    {
     "data": {
      "text/plain": [
       "155091"
      ]
     },
     "execution_count": 11,
     "metadata": {},
     "output_type": "execute_result"
    }
   ],
   "source": [
    "# calculate sum of duration/volume by sliding window\n",
    "def getSum(x):\n",
    "    return np.sum(x).astype(int)\n",
    "\n",
    "\n",
    "Duration = rolling_apply(getSum, period, C.Duration)\n",
    "Volume = rolling_apply(getSum, period, C.Volume)\n",
    "len(Duration)"
   ]
  },
  {
   "cell_type": "code",
   "execution_count": 14,
   "id": "82c096d7-265a-473c-b6c4-93478dd3dd95",
   "metadata": {
    "execution": {
     "iopub.execute_input": "2022-06-21T18:56:29.840182Z",
     "iopub.status.busy": "2022-06-21T18:56:29.839698Z",
     "iopub.status.idle": "2022-06-21T18:56:30.161738Z",
     "shell.execute_reply": "2022-06-21T18:56:30.161238Z",
     "shell.execute_reply.started": "2022-06-21T18:56:29.840182Z"
    },
    "tags": []
   },
   "outputs": [
    {
     "data": {
      "text/plain": [
       "array([-1., -1., -1., -1., -1., -1., -1., -1., -1., -1.])"
      ]
     },
     "execution_count": 14,
     "metadata": {},
     "output_type": "execute_result"
    }
   ],
   "source": [
    "# trade signal\n",
    "s = 0\n",
    "Signal = np.zeros_like(Duration)\n",
    "for i in range(len(SignalA)):\n",
    "    if Duration[i] < threshold and Volume[i] > 0:\n",
    "        s = 1\n",
    "    elif Duration[i] < threshold and C.Volume[i] < 0:\n",
    "        s = -1\n",
    "    Signal[i] = s\n",
    "\n",
    "SignalA[-10:]"
   ]
  },
  {
   "cell_type": "code",
   "execution_count": 15,
   "id": "8890995b-a2c1-4dee-bf97-1f9cef2dbc1e",
   "metadata": {
    "execution": {
     "iopub.execute_input": "2022-06-21T18:56:30.741839Z",
     "iopub.status.busy": "2022-06-21T18:56:30.741339Z",
     "iopub.status.idle": "2022-06-21T18:56:32.367124Z",
     "shell.execute_reply": "2022-06-21T18:56:32.367124Z",
     "shell.execute_reply.started": "2022-06-21T18:56:30.741839Z"
    },
    "tags": []
   },
   "outputs": [
    {
     "data": {
      "text/plain": [
       "rec.array([(154314, '2022-05-08T05:55:22.171999', 2539.98999023, 2539.73999023, 154418, '2022-05-08T05:56:51.321000', 2538.19995117, 2538.27490234,  1.),\n",
       "           (154420, '2022-05-08T05:56:51.355000', 2538.22998047, 2538.23999023, 154658, '2022-05-08T05:57:55.601000', 2535.87988281, 2535.79980469, -1.),\n",
       "           (154662, '2022-05-08T05:57:55.633999', 2535.84008789, 2535.83496094, 154829, '2022-05-08T05:58:41.071999', 2534.20996094, 2534.27490234,  1.),\n",
       "           (154829, '2022-05-08T05:58:41.071999', 2534.20996094, 2534.27490234, 154851, '2022-05-08T05:58:41.629999', 2534.84008789, 2534.64990234, -1.),\n",
       "           (154851, '2022-05-08T05:58:41.629999', 2534.84008789, 2534.64990234, 155018, '2022-05-08T05:59:09.130999', 2537.0300293 , 2537.08007812,  1.)],\n",
       "          dtype=[('X0', '<i8'), ('T0', '<M8[us]'), ('Price0', '<f8'), ('MidPrice0', '<f8'), ('X1', '<i8'), ('T1', '<M8[us]'), ('Price1', '<f8'), ('MidPrice1', '<f8'), ('Size', '<f8')])"
      ]
     },
     "execution_count": 15,
     "metadata": {},
     "output_type": "execute_result"
    }
   ],
   "source": [
    "D = npBacktestMarket(S.DT[K], S.A[K], S.B[K], SignalA, 0)\n",
    "D[-5:]"
   ]
  },
  {
   "cell_type": "code",
   "execution_count": 16,
   "id": "603fb361-771c-448f-8173-63cd485de5c5",
   "metadata": {
    "execution": {
     "iopub.execute_input": "2022-06-21T18:56:35.621194Z",
     "iopub.status.busy": "2022-06-21T18:56:35.621194Z",
     "iopub.status.idle": "2022-06-21T18:56:35.627695Z",
     "shell.execute_reply": "2022-06-21T18:56:35.627196Z",
     "shell.execute_reply.started": "2022-06-21T18:56:35.621194Z"
    },
    "tags": []
   },
   "outputs": [
    {
     "data": {
      "text/plain": [
       "rec.array([(154418, '2022-05-08T05:56:51.321000', -1.79003906, -1.46508789, 2.53909497, -4.32913403),\n",
       "           (154658, '2022-05-08T05:57:55.601000',  2.35009766,  2.44018555, 2.53705493, -0.18695728),\n",
       "           (154829, '2022-05-08T05:58:41.071999', -1.63012695, -1.56005859, 2.53502502, -4.16515198),\n",
       "           (154851, '2022-05-08T05:58:41.629999', -0.63012695, -0.375     , 2.53452502, -3.16465198),\n",
       "           (155018, '2022-05-08T05:59:09.130999',  2.18994141,  2.43017578, 2.53593506, -0.34599365)],\n",
       "          dtype=[('Index', '<i8'), ('DT', '<M8[us]'), ('RawPnL', '<f8'), ('MidPnL', '<f8'), ('Fee', '<f8'), ('Profit', '<f8')])"
      ]
     },
     "execution_count": 16,
     "metadata": {},
     "output_type": "execute_result"
    }
   ],
   "source": [
    "Long = D[D.Size > 0]\n",
    "Short = D[D.Size < 0]\n",
    "\n",
    "P = getProfit(D)\n",
    "P[-5:]"
   ]
  },
  {
   "cell_type": "code",
   "execution_count": 18,
   "id": "586689f2-b133-450f-96c0-8430fdaa3044",
   "metadata": {
    "execution": {
     "iopub.execute_input": "2022-06-21T18:56:46.646624Z",
     "iopub.status.busy": "2022-06-21T18:56:46.646124Z",
     "iopub.status.idle": "2022-06-21T18:56:47.638798Z",
     "shell.execute_reply": "2022-06-21T18:56:47.638798Z",
     "shell.execute_reply.started": "2022-06-21T18:56:46.646624Z"
    },
    "tags": []
   },
   "outputs": [
    {
     "data": {
      "application/vnd.jupyter.widget-view+json": {
       "model_id": "a713ee42eaef48cdad9ef0bed56a5fd6",
       "version_major": 2,
       "version_minor": 0
      },
      "text/plain": [
       "FigureWidgetResampler({\n",
       "    'data': [{'marker': {'color': 'red',\n",
       "                         'opacity': 0.25,\n",
       "   …"
      ]
     },
     "metadata": {},
     "output_type": "display_data"
    }
   ],
   "source": [
    "# indexed chart with bidask\n",
    "fig = chartFigure(height=800, rows=4,\n",
    "    Sell=dict(x=Sell.Index, y=Sell.Price, color='red', mode='markers', size=-symlog(Sell.Volume)-1, opacity=0.25),\n",
    "    Buy=dict(x=Buy.Index, y=Buy.Price, color='green', mode='markers', size=symlog(Buy.Volume)-1, opacity=0.25),\n",
    "    Bid=dict(x=C.Index, y=S.B[K], color='green', opacity=0.2),\n",
    "    Ask=dict(x=C.Index, y=S.A[K], color='red', opacity=0.2),\n",
    "\n",
    "    # trades\n",
    "    EnterLong=dict(x=Long.X0, y=Long.Price0, mode='markers',\n",
    "                   marker=dict(symbol='triangle-up', size=12, line_color='darkgreen', line_width=1, color='green')),\n",
    "    ExitLong=dict(x=Long.X1, y=Long.Price1, mode='markers',\n",
    "                  marker=dict(symbol='x', size=10, line_color='darkgreen', line_width=1, color='green', opacity=0.4)),\n",
    "\n",
    "    EnterShort=dict(x=Short.X0, y=Short.Price0, mode='markers',\n",
    "                    marker=dict(symbol='triangle-down', size=12, line_color='darkred', line_width=1, color='red')),\n",
    "    ExitShort=dict(x=Short.X1, y=Short.Price1, mode='markers',\n",
    "                   marker=dict(symbol='x', size=10, line_color='darkred', line_width=1, color='red', opacity=0.4)),\n",
    "\n",
    "    # Signal and duration indicators\n",
    "    Signal=dict(x=C.Index, y=SignalA, color='magenta', row=3, shape='hv'),\n",
    "    Duration=dict(x=C.Index, y=Duration, color='blue', row=4),\n",
    "\n",
    "    # Profit\n",
    "    RawPnL=dict(x=P.Index, y=P.RawPnL.cumsum(), secondary_y=True, width=4, color='gray', opacity=0.2, shape='hv', connectgaps=True),\n",
    "    Profit=dict(x=P.Index, y=P.Profit.cumsum(), secondary_y=True, width=6, color='blue', opacity=0.4, shape='hv', connectgaps=True)\n",
    ")\n",
    "\n",
    "fig.add_bar(name='Buy', x=Buy.Index, y=Buy.Volume, row=2, col=1, marker_color='green')\n",
    "fig.add_bar(name='Sell', x=Sell.Index, y=Sell.Volume, row=2, col=1, marker_color='red')\n",
    "fig.add_hline(y=threshold, row=4, col=1, line_dash='dot', line_color='gray')\n",
    "\n",
    "# styling\n",
    "fig.update_xaxes(spikemode='across+marker', spikedash='dot', spikethickness=2, spikesnap='cursor')\n",
    "fig.update_traces(xaxis='x4')\n",
    "fig.update_layout(legend=dict(x=0, y=1.05, bordercolor=\"lightgray\", borderwidth=1))\n",
    "\n",
    "fig"
   ]
  },
  {
   "cell_type": "code",
   "execution_count": null,
   "id": "fbd93560-529d-4ca2-b732-ee335642b009",
   "metadata": {},
   "outputs": [],
   "source": []
  }
 ],
 "metadata": {
  "kernelspec": {
   "display_name": "Python 3 (ipykernel)",
   "language": "python",
   "name": "python3"
  },
  "language_info": {
   "codemirror_mode": {
    "name": "ipython",
    "version": 3
   },
   "file_extension": ".py",
   "mimetype": "text/x-python",
   "name": "python",
   "nbconvert_exporter": "python",
   "pygments_lexer": "ipython3",
   "version": "3.9.12"
  }
 },
 "nbformat": 4,
 "nbformat_minor": 5
}

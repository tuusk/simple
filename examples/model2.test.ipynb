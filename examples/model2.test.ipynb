{
 "cells": [
  {
   "cell_type": "markdown",
   "id": "e48c2ec1-4cc0-4b0d-8671-37a4f0431fe4",
   "metadata": {},
   "source": [
    "# Серия тиков с разной ценой, количество тиков N, расстояние во времени меньше T миллисекунд"
   ]
  },
  {
   "cell_type": "code",
   "execution_count": 13,
   "id": "394d085f-7510-446e-bb12-384082b22535",
   "metadata": {
    "tags": []
   },
   "outputs": [],
   "source": [
    "from simple.ohlc import npJoin\n",
    "from simple.plotly import chartFigure\n",
    "from simple.funcs import symlog, tickSpeed\n",
    "from simple.backtest import npBacktestMarket, getProfit\n",
    "import numpy as np\n",
    "from simple.jurik import JRSX\n",
    "from simple.numpy import rolling_apply"
   ]
  },
  {
   "cell_type": "code",
   "execution_count": 2,
   "id": "846c8459-ecb5-4cf6-b9ab-e8851d7385e8",
   "metadata": {
    "tags": []
   },
   "outputs": [],
   "source": [
    "threshold = 4_000_000  # default resolution in microseconds\n",
    "period = 60"
   ]
  },
  {
   "cell_type": "code",
   "execution_count": 3,
   "id": "f2178691-427f-44d0-bce0-c278c85763c2",
   "metadata": {
    "tags": []
   },
   "outputs": [
    {
     "data": {
      "text/plain": [
       "rec.array([('2022-05-08T05:59:56.769999', 60618, 2537.025, 14058999,  4.698e+03, 6.557e+03, -1859.),\n",
       "           ('2022-05-08T05:59:56.769999', 60619, 2537.135,        0,  2.020e+03, 2.020e+03,     0.),\n",
       "           ('2022-05-08T05:59:56.769999', 60620, 2537.215,        0,  5.000e+00, 5.000e+00,     0.),\n",
       "           ('2022-05-08T05:59:56.769999', 60621, 2537.245,        0,  2.600e+01, 2.600e+01,     0.),\n",
       "           ('2022-05-08T05:59:56.864000', 60622, 2537.345,    94001, -6.733e+03, 1.046e+03, -7779.)],\n",
       "          dtype=[('DT', '<M8[us]'), ('Index', '<i4'), ('Price', '<f8'), ('Duration', '<m8[us]'), ('Size', '<f8'), ('BuySize', '<f8'), ('SellSize', '<f8')])"
      ]
     },
     "execution_count": 3,
     "metadata": {},
     "output_type": "execute_result"
    }
   ],
   "source": [
    "C = np.load('data/ETHUSDT.2022-05-01.debounce.npz')['ETHUSDT'].view(np.recarray)\n",
    "C = C[(np.datetime64('2022-05-08 00:00:01') < C.DT) & (C.DT < np.datetime64('2022-05-08 06:00'))]\n",
    "C.Index = np.arange(len(C))\n",
    "C[-5:]"
   ]
  },
  {
   "cell_type": "code",
   "execution_count": 4,
   "id": "0c398b42-562a-41bf-9f00-d79599e3dbe3",
   "metadata": {
    "tags": []
   },
   "outputs": [
    {
     "data": {
      "text/plain": [
       "rec.array([('2022-05-08T05:59:38.222000', 60606, 2537.005,    4000, -1.3070e+03,    4., -1.3110e+03),\n",
       "           ('2022-05-08T05:59:39.714000', 60613, 2537.555, 1127000, -1.4246e+04,  717., -1.4963e+04),\n",
       "           ('2022-05-08T05:59:42.684000', 60616, 2537.145,       0, -8.5000e+01,    0., -8.5000e+01),\n",
       "           ('2022-05-08T05:59:42.711000', 60617, 2537.115,       0, -4.0000e+00,    0., -4.0000e+00),\n",
       "           ('2022-05-08T05:59:56.864000', 60622, 2537.345,   94001, -6.7330e+03, 1046., -7.7790e+03)],\n",
       "          dtype=[('DT', '<M8[us]'), ('Index', '<i4'), ('Price', '<f8'), ('Duration', '<m8[us]'), ('Size', '<f8'), ('BuySize', '<f8'), ('SellSize', '<f8')])"
      ]
     },
     "execution_count": 4,
     "metadata": {},
     "output_type": "execute_result"
    }
   ],
   "source": [
    "Buy = C[C.Size > 0]\n",
    "Sell = C[C.Size < 0]\n",
    "Sell[-5:]"
   ]
  },
  {
   "cell_type": "code",
   "execution_count": 5,
   "id": "ff310ba4-4f10-49d2-a656-279d24d21232",
   "metadata": {},
   "outputs": [
    {
     "data": {
      "text/plain": [
       "rec.array([('2022-05-08T00:00:00.643000', 2635.79003906, 2635.7800293 ),\n",
       "           ('2022-05-08T00:00:00.743000', 2635.60009766, 2635.59008789),\n",
       "           ('2022-05-08T00:00:00.844000', 2635.60009766, 2635.59008789),\n",
       "           ('2022-05-08T00:00:00.944000', 2635.60009766, 2635.59008789),\n",
       "           ('2022-05-08T00:00:01.044000', 2635.60009766, 2635.59008789)],\n",
       "          dtype=[('DT', '<M8[us]'), ('A', '<f8'), ('B', '<f8')])"
      ]
     },
     "execution_count": 5,
     "metadata": {},
     "output_type": "execute_result"
    }
   ],
   "source": [
    "S = np.load('data/ETHUSDT.2022-05-08.bidask.npz')['ETHUSDT'].view(np.recarray)\n",
    "S[:5]"
   ]
  },
  {
   "cell_type": "code",
   "execution_count": 6,
   "id": "909f3258-3a15-46e0-a85b-2c6e18d7443c",
   "metadata": {},
   "outputs": [
    {
     "data": {
      "text/plain": [
       "rec.array([('2022-05-08T23:59:59.558999', 2519.7199707, 2519.70996094),\n",
       "           ('2022-05-08T23:59:59.657999', 2519.7199707, 2519.70996094),\n",
       "           ('2022-05-08T23:59:59.757999', 2519.7199707, 2519.70996094),\n",
       "           ('2022-05-08T23:59:59.857999', 2519.7199707, 2519.70996094),\n",
       "           ('2022-05-08T23:59:59.958000', 2519.7199707, 2519.70996094)],\n",
       "          dtype=[('DT', '<M8[us]'), ('A', '<f8'), ('B', '<f8')])"
      ]
     },
     "execution_count": 6,
     "metadata": {},
     "output_type": "execute_result"
    }
   ],
   "source": [
    "S[-5:]"
   ]
  },
  {
   "cell_type": "code",
   "execution_count": 7,
   "id": "21952de0-3ab8-44e0-9b5a-095d087318b3",
   "metadata": {
    "tags": []
   },
   "outputs": [
    {
     "data": {
      "text/plain": [
       "60623"
      ]
     },
     "execution_count": 7,
     "metadata": {},
     "output_type": "execute_result"
    }
   ],
   "source": [
    "K = npJoin(C.DT, S.DT)\n",
    "len(K)"
   ]
  },
  {
   "cell_type": "code",
   "execution_count": 8,
   "id": "5190683f-8702-45b8-af49-cc940587d620",
   "metadata": {
    "tags": []
   },
   "outputs": [
    {
     "data": {
      "text/plain": [
       "60623"
      ]
     },
     "execution_count": 8,
     "metadata": {},
     "output_type": "execute_result"
    }
   ],
   "source": [
    "# calculate sum of duration/volume by sliding window\n",
    "def getSum(x):\n",
    "    return np.sum(x).astype(int)\n",
    "\n",
    "def getDelta(x):\n",
    "    return x[-1] - x[0]\n",
    "\n",
    "Duration = rolling_apply(getSum, period, C.Duration)\n",
    "Volume = rolling_apply(getSum, period, C.Size)\n",
    "Delta = rolling_apply(getDelta, period, C.Price)\n",
    "len(Duration)"
   ]
  },
  {
   "cell_type": "code",
   "execution_count": 9,
   "id": "82c096d7-265a-473c-b6c4-93478dd3dd95",
   "metadata": {
    "tags": []
   },
   "outputs": [
    {
     "data": {
      "text/plain": [
       "array([-1., -1., -1., -1., -1., -1., -1., -1., -1., -1.])"
      ]
     },
     "execution_count": 9,
     "metadata": {},
     "output_type": "execute_result"
    }
   ],
   "source": [
    "# trade signal\n",
    "s = 0\n",
    "Signal = np.zeros_like(Duration)\n",
    "for i in range(len(Signal)):\n",
    "    if Duration[i] < threshold and C.Size[i] > 0:\n",
    "        s = 1\n",
    "    elif Duration[i] < threshold and C.Size[i] < 0:\n",
    "        s = -1\n",
    "    Signal[i] = s\n",
    "\n",
    "Signal[-10:]"
   ]
  },
  {
   "cell_type": "code",
   "execution_count": 10,
   "id": "8890995b-a2c1-4dee-bf97-1f9cef2dbc1e",
   "metadata": {
    "tags": []
   },
   "outputs": [
    {
     "data": {
      "text/plain": [
       "rec.array([(59854, '2022-05-08T05:48:40.817000', 2542.58007812, 2542.58508301, 59854, '2022-05-08T05:48:40.817000', 2542.59008789, 2542.58508301, -1.),\n",
       "           (59855, '2022-05-08T05:48:41.316999', 2542.63989258, 2542.6348877 , 59857, '2022-05-08T05:48:41.517000', 2542.34008789, 2542.34509277,  1.),\n",
       "           (59862, '2022-05-08T05:48:41.617000', 2541.98999023, 2541.99499512, 59864, '2022-05-08T05:48:41.716999', 2542.13989258, 2542.1348877 , -1.),\n",
       "           (59864, '2022-05-08T05:48:41.716999', 2542.13989258, 2542.1348877 , 59869, '2022-05-08T05:48:44.318000', 2541.60009766, 2541.60510254,  1.),\n",
       "           (59870, '2022-05-08T05:48:48.020000', 2541.87011719, 2541.8651123 , 60360, '2022-05-08T05:56:54.171000', 2536.69995117, 2536.70495605,  1.)],\n",
       "          dtype=[('X0', '<i8'), ('T0', '<M8[us]'), ('Price0', '<f8'), ('MidPrice0', '<f8'), ('X1', '<i8'), ('T1', '<M8[us]'), ('Price1', '<f8'), ('MidPrice1', '<f8'), ('Size', '<f8')])"
      ]
     },
     "execution_count": 10,
     "metadata": {},
     "output_type": "execute_result"
    }
   ],
   "source": [
    "D = npBacktestMarket(S.DT[K], S.A[K], S.B[K], Signal, 0)\n",
    "D[-5:]"
   ]
  },
  {
   "cell_type": "code",
   "execution_count": 11,
   "id": "603fb361-771c-448f-8173-63cd485de5c5",
   "metadata": {
    "tags": []
   },
   "outputs": [
    {
     "data": {
      "text/plain": [
       "rec.array([(59854, '2022-05-08T05:48:40.817000', -0.01000977, -0.        , 2.54258508, -2.55259485),\n",
       "           (59857, '2022-05-08T05:48:41.517000', -0.29980469, -0.28979492, 2.54248999, -2.84229468),\n",
       "           (59864, '2022-05-08T05:48:41.716999', -0.14990234, -0.13989258, 2.54206494, -2.69196729),\n",
       "           (59869, '2022-05-08T05:48:44.318000', -0.53979492, -0.52978516, 2.54187   , -3.08166492),\n",
       "           (60360, '2022-05-08T05:56:54.171000', -5.17016602, -5.16015625, 2.53928503, -7.70945105)],\n",
       "          dtype=[('Index', '<i8'), ('DT', '<M8[us]'), ('RawPnL', '<f8'), ('MidPnL', '<f8'), ('Fee', '<f8'), ('Profit', '<f8')])"
      ]
     },
     "execution_count": 11,
     "metadata": {},
     "output_type": "execute_result"
    }
   ],
   "source": [
    "P = getProfit(D)\n",
    "P[-5:]"
   ]
  },
  {
   "cell_type": "code",
   "execution_count": 16,
   "id": "586689f2-b133-450f-96c0-8430fdaa3044",
   "metadata": {
    "tags": []
   },
   "outputs": [
    {
     "data": {
      "application/vnd.jupyter.widget-view+json": {
       "model_id": "2020f91ac58b4e0390cfd422e55e53c3",
       "version_major": 2,
       "version_minor": 0
      },
      "text/plain": [
       "FigureWidgetResampler({\n",
       "    'data': [{'marker': {'color': 'red',\n",
       "                         'opacity': 0.25,\n",
       "   …"
      ]
     },
     "metadata": {},
     "output_type": "display_data"
    }
   ],
   "source": [
    "# indexed chart with bidask\n",
    "fig = chartFigure(height=1200, rows=6,\n",
    "    Sell=dict(x=Sell.Index, y=Sell.Price, color='red', mode='markers', size=-symlog(Sell.Size), opacity=0.25),\n",
    "    Buy=dict(x=Buy.Index, y=Buy.Price, color='green', mode='markers', size=symlog(Buy.Size), opacity=0.25),\n",
    "    Bid=dict(x=C.Index, y=S.B[K], color='green', opacity=0.2),\n",
    "    Ask=dict(x=C.Index, y=S.A[K], color='red', opacity=0.2),\n",
    "\n",
    "    #**chartTrades(D, tm=False),\n",
    "\n",
    "    # Signal and duration indicators\n",
    "    Speed=dict(x=C.Index, y=tickSpeed(C, period), color='green', row=2),\n",
    "    LogSpeed=dict(x=C.Index, y=symlog(tickSpeed(C, period)), color='red', row=2, secondary_y=True, opacity=0.4),\n",
    "    Duration=dict(x=C.Index, y=Duration, color='orange', row=3),\n",
    "    Delta=dict(x=C.Index, y=Delta, color='blue', row=4),\n",
    "    Signal=dict(x=C.Index, y=Signal, color='magenta', row=5, shape='hv'),\n",
    "    RSX=dict(x=C.Index, y=JRSX(C.Price, period), color='cyan', row=6),\n",
    "\n",
    "    # Profit\n",
    "    RawPnL=dict(x=P.Index, y=P.RawPnL.cumsum(), secondary_y=True, width=4, color='gray', opacity=0.4, shape='hv', connectgaps=True),\n",
    "    Profit=dict(x=P.Index, y=P.Profit.cumsum(), secondary_y=True, width=2, color='blue', opacity=0.3, shape='hv', connectgaps=True)\n",
    ")\n",
    "\n",
    "# styling\n",
    "fig.update_xaxes(spikemode='across+marker', spikedash='dot', spikethickness=2, spikesnap='cursor')\n",
    "fig.update_traces(xaxis='x4')\n",
    "fig.update_layout(legend=dict(x=0, y=1.05, bordercolor=\"lightgray\", borderwidth=1))\n",
    "\n",
    "fig"
   ]
  },
  {
   "cell_type": "code",
   "execution_count": null,
   "id": "fbd93560-529d-4ca2-b732-ee335642b009",
   "metadata": {},
   "outputs": [],
   "source": []
  }
 ],
 "metadata": {
  "kernelspec": {
   "display_name": "Python 3 (ipykernel)",
   "language": "python",
   "name": "python3"
  },
  "language_info": {
   "codemirror_mode": {
    "name": "ipython",
    "version": 3
   },
   "file_extension": ".py",
   "mimetype": "text/x-python",
   "name": "python",
   "nbconvert_exporter": "python",
   "pygments_lexer": "ipython3",
   "version": "3.8.13"
  },
  "widgets": {
   "application/vnd.jupyter.widget-state+json": {
    "state": {},
    "version_major": 2,
    "version_minor": 0
   }
  }
 },
 "nbformat": 4,
 "nbformat_minor": 5
}

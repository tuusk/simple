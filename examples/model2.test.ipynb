{
 "cells": [
  {
   "cell_type": "markdown",
   "id": "e48c2ec1-4cc0-4b0d-8671-37a4f0431fe4",
   "metadata": {},
   "source": [
    "# Серия тиков с разной ценой, количество тиков N, расстояние во времени меньше T миллисекунд"
   ]
  },
  {
   "cell_type": "code",
   "execution_count": 1,
   "id": "394d085f-7510-446e-bb12-384082b22535",
   "metadata": {
    "tags": []
   },
   "outputs": [],
   "source": [
    "from simple.ohlc import debounce, npJoin\n",
    "from simple.plotly import chartFigure\n",
    "from simple.funcs import symlog\n",
    "from simple.backtest import npBacktestMarket, getProfit\n",
    "import numpy as np\n",
    "from simple.numpy import rolling_apply"
   ]
  },
  {
   "cell_type": "code",
   "execution_count": 2,
   "id": "846c8459-ecb5-4cf6-b9ab-e8851d7385e8",
   "metadata": {
    "tags": []
   },
   "outputs": [],
   "source": [
    "threshold = 2_000_000  # default resolution in microseconds\n",
    "period = 30"
   ]
  },
  {
   "cell_type": "code",
   "execution_count": 3,
   "id": "f2178691-427f-44d0-bce0-c278c85763c2",
   "metadata": {
    "tags": []
   },
   "outputs": [
    {
     "data": {
      "text/plain": [
       "rec.array([('2022-05-08T00:59:59.571000', 95815, 2617.99,   -2.),\n",
       "           ('2022-05-08T00:59:59.584000', 95816, 2617.99,   -2.),\n",
       "           ('2022-05-08T00:59:59.596000', 95817, 2617.99,   -2.),\n",
       "           ('2022-05-08T00:59:59.706000', 95818, 2618.  ,   32.),\n",
       "           ('2022-05-08T00:59:59.826000', 95819, 2618.  , 1912.)],\n",
       "          dtype={'names':['DateTimeA','LocalTimeA','PriceA','VolumeA'], 'formats':['<M8[us]','<i8','<f8','<f8'], 'offsets':[0,8,16,24], 'itemsize':40})"
      ]
     },
     "execution_count": 3,
     "metadata": {},
     "output_type": "execute_result"
    }
   ],
   "source": [
    "T = np.load('data/ETHUSDT.2022-05-08.tick.npz')['ETHUSDT'].view(np.recarray)\n",
    "T[-5:]"
   ]
  },
  {
   "cell_type": "code",
   "execution_count": 4,
   "id": "7f12f0f8-07db-42f4-8e14-f64749cb63f3",
   "metadata": {
    "tags": []
   },
   "outputs": [],
   "source": [
    "Buy = T[T.VolumeA > 0]\n",
    "Sell = T[T.VolumeA < 0]"
   ]
  },
  {
   "cell_type": "code",
   "execution_count": 5,
   "id": "58c23d13-eac4-48d7-a860-98ea7dd6004e",
   "metadata": {
    "tags": []
   },
   "outputs": [
    {
     "data": {
      "text/plain": [
       "rec.array([('2022-05-08T00:59:57.402000', 12593, 2618.405,       0, 1.3980e+03, 1398.,  0.0000e+00,  2,  2,  0),\n",
       "           ('2022-05-08T00:59:57.418999', 12594, 2618.435,       0, 1.9920e+03, 1992.,  0.0000e+00,  1,  1,  0),\n",
       "           ('2022-05-08T00:59:58.848000', 12595, 2618.165, 1429001, 6.0580e+03, 2123., -3.9350e+03, 46, 19, 27),\n",
       "           ('2022-05-08T00:59:58.848000', 12596, 2618.115,       0, 3.0000e+00,    0., -3.0000e+00,  1,  0,  1),\n",
       "           ('1970-01-01T00:00:00.000000', 12597, 2618.015,  978000, 3.3762e+04, 2243., -3.1519e+04, 27,  5, 22)],\n",
       "          dtype=[('DT', '<M8[us]'), ('Index', '<i8'), ('Price', '<f8'), ('Duration', '<m8[us]'), ('Volume', '<f8'), ('BuySize', '<f8'), ('SellSize', '<f8'), ('Count', '<i8'), ('BuyCount', '<i8'), ('SellCount', '<i8')])"
      ]
     },
     "execution_count": 5,
     "metadata": {},
     "output_type": "execute_result"
    }
   ],
   "source": [
    "C = debounce(T)\n",
    "C[-5:]"
   ]
  },
  {
   "cell_type": "code",
   "execution_count": 6,
   "id": "b7fcbf7e-0825-4da1-bd10-5600bc1666ed",
   "metadata": {
    "tags": []
   },
   "outputs": [
    {
     "data": {
      "text/plain": [
       "(95820, 12598)"
      ]
     },
     "execution_count": 6,
     "metadata": {},
     "output_type": "execute_result"
    }
   ],
   "source": [
    "len(T), len(C)"
   ]
  },
  {
   "cell_type": "code",
   "execution_count": 7,
   "id": "2607c6c0-f04a-4197-8591-0a883c6cf2fc",
   "metadata": {
    "tags": []
   },
   "outputs": [
    {
     "data": {
      "text/plain": [
       "rec.array([('2022-05-08T00:59:57.149000', 12590, 2618.425,  819000, -9.3230e+03, 1092., -1.0415e+04, 84,  5, 79),\n",
       "           ('2022-05-08T00:59:57.186999', 12591, 2618.285,   22999, -1.1100e+02,  410., -5.2100e+02,  8,  2,  6),\n",
       "           ('2022-05-08T00:59:58.848000', 12595, 2618.165, 1429001, -1.8120e+03, 2123., -3.9350e+03, 46, 19, 27),\n",
       "           ('2022-05-08T00:59:58.848000', 12596, 2618.115,       0, -3.0000e+00,    0., -3.0000e+00,  1,  0,  1),\n",
       "           ('1970-01-01T00:00:00.000000', 12597, 2618.015,  978000, -2.9276e+04, 2243., -3.1519e+04, 27,  5, 22)],\n",
       "          dtype=[('DT', '<M8[us]'), ('Index', '<i8'), ('Price', '<f8'), ('Duration', '<m8[us]'), ('Volume', '<f8'), ('BuySize', '<f8'), ('SellSize', '<f8'), ('Count', '<i8'), ('BuyCount', '<i8'), ('SellCount', '<i8')])"
      ]
     },
     "execution_count": 7,
     "metadata": {},
     "output_type": "execute_result"
    }
   ],
   "source": [
    "C.Volume = C.BuySize + C.SellSize\n",
    "Buy = C[C.Volume > 0]\n",
    "Sell = C[C.Volume < 0]\n",
    "Sell[-5:]"
   ]
  },
  {
   "cell_type": "code",
   "execution_count": 8,
   "id": "ff310ba4-4f10-49d2-a656-279d24d21232",
   "metadata": {},
   "outputs": [
    {
     "data": {
      "text/plain": [
       "rec.array([('2022-05-08T00:01:00.007000', 2636., 2635.99),\n",
       "           ('2022-05-08T00:01:00.043000', 2636., 2635.99),\n",
       "           ('2022-05-08T00:01:00.079000', 2636., 2635.99),\n",
       "           ('2022-05-08T00:01:00.117000', 2636., 2635.99),\n",
       "           ('2022-05-08T00:01:00.149000', 2636., 2635.99)],\n",
       "          dtype={'names':['DT','A','B'], 'formats':['<M8[us]','<f4','<f4'], 'offsets':[0,8,16], 'itemsize':24})"
      ]
     },
     "execution_count": 8,
     "metadata": {},
     "output_type": "execute_result"
    }
   ],
   "source": [
    "S = np.load('data/ETHUSDT.2022-05-08.bidask.npz')['ETHUSDT'].view(np.recarray)\n",
    "S[:5]"
   ]
  },
  {
   "cell_type": "code",
   "execution_count": 9,
   "id": "21952de0-3ab8-44e0-9b5a-095d087318b3",
   "metadata": {
    "tags": []
   },
   "outputs": [
    {
     "data": {
      "text/plain": [
       "12598"
      ]
     },
     "execution_count": 9,
     "metadata": {},
     "output_type": "execute_result"
    }
   ],
   "source": [
    "K = npJoin(C.DT, S.DT)\n",
    "len(K)"
   ]
  },
  {
   "cell_type": "code",
   "execution_count": 10,
   "id": "5190683f-8702-45b8-af49-cc940587d620",
   "metadata": {
    "tags": []
   },
   "outputs": [
    {
     "data": {
      "text/plain": [
       "12598"
      ]
     },
     "execution_count": 10,
     "metadata": {},
     "output_type": "execute_result"
    }
   ],
   "source": [
    "# calculate sum of duration/volume by sliding window\n",
    "def getSum(x):\n",
    "    return np.sum(x).astype(int)\n",
    "\n",
    "\n",
    "DurationA = rolling_apply(getSum, period, C.Duration)\n",
    "VolumeA = rolling_apply(getSum, period, C.Volume)\n",
    "len(DurationA)"
   ]
  },
  {
   "cell_type": "code",
   "execution_count": 11,
   "id": "82c096d7-265a-473c-b6c4-93478dd3dd95",
   "metadata": {
    "tags": []
   },
   "outputs": [
    {
     "data": {
      "text/plain": [
       "array([-1., -1., -1., -1., -1., -1., -1., -1., -1., -1.])"
      ]
     },
     "execution_count": 11,
     "metadata": {},
     "output_type": "execute_result"
    }
   ],
   "source": [
    "# trade signal\n",
    "signal = 0\n",
    "SignalA = np.zeros_like(DurationA)\n",
    "for i in range(len(SignalA)):\n",
    "    if DurationA[i] < threshold and VolumeA[i] > 0:\n",
    "        signal = 1\n",
    "    elif DurationA[i] < threshold and C.Volume[i] < 0:\n",
    "        signal = -1\n",
    "    SignalA[i] = signal\n",
    "\n",
    "SignalA[-10:]"
   ]
  },
  {
   "cell_type": "code",
   "execution_count": 12,
   "id": "8890995b-a2c1-4dee-bf97-1f9cef2dbc1e",
   "metadata": {
    "tags": []
   },
   "outputs": [
    {
     "data": {
      "text/plain": [
       "rec.array([(11962, '2022-05-08T00:57:41.550000', 2616.44995117, 2616.44482422, 12011, '2022-05-08T00:57:42.198000', 2616.60009766, 2616.66015625,  1.),\n",
       "           (12011, '2022-05-08T00:57:42.198000', 2616.60009766, 2616.66015625, 12192, '2022-05-08T00:58:43.629000', 2617.64990234, 2617.54492188, -1.),\n",
       "           (12192, '2022-05-08T00:58:43.629000', 2617.64990234, 2617.54492188, 12327, '2022-05-08T00:59:33.395000', 2615.4699707 , 2615.625     ,  1.),\n",
       "           (12327, '2022-05-08T00:59:33.395000', 2615.4699707 , 2615.625     , 12397, '2022-05-08T00:59:34.078000', 2615.11010742, 2615.08007812, -1.),\n",
       "           (12397, '2022-05-08T00:59:34.078000', 2615.11010742, 2615.08007812, 12548, '2022-05-08T00:59:41.940000', 2617.55004883, 2617.60986328,  1.)],\n",
       "          dtype=[('X0', '<i8'), ('T0', '<M8[us]'), ('Price0', '<f8'), ('MidPrice0', '<f8'), ('X1', '<i8'), ('T1', '<M8[us]'), ('Price1', '<f8'), ('MidPrice1', '<f8'), ('Size', '<f8')])"
      ]
     },
     "execution_count": 12,
     "metadata": {},
     "output_type": "execute_result"
    }
   ],
   "source": [
    "D = npBacktestMarket(S.DT[K], S.A[K], S.B[K], SignalA, 0)\n",
    "D[-5:]"
   ]
  },
  {
   "cell_type": "code",
   "execution_count": 13,
   "id": "603fb361-771c-448f-8173-63cd485de5c5",
   "metadata": {
    "tags": []
   },
   "outputs": [
    {
     "data": {
      "text/plain": [
       "rec.array([(12011, '2022-05-08T00:57:42.198000',  0.15014648,  0.21533203, 2.61652502, -2.46637854),\n",
       "           (12192, '2022-05-08T00:58:43.629000', -1.04980469, -0.88476562, 2.617125  , -3.66692969),\n",
       "           (12327, '2022-05-08T00:59:33.395000', -2.17993164, -1.91992188, 2.61655994, -4.79649158),\n",
       "           (12397, '2022-05-08T00:59:34.078000',  0.35986328,  0.54492188, 2.61529004, -2.25542676),\n",
       "           (12548, '2022-05-08T00:59:41.940000',  2.43994141,  2.52978516, 2.61633008, -0.17638867)],\n",
       "          dtype=[('Index', '<i8'), ('DT', '<M8[us]'), ('RawPnL', '<f8'), ('MidPnL', '<f8'), ('Fee', '<f8'), ('Profit', '<f8')])"
      ]
     },
     "execution_count": 13,
     "metadata": {},
     "output_type": "execute_result"
    }
   ],
   "source": [
    "Long = D[D.Size > 0]\n",
    "Short = D[D.Size < 0]\n",
    "\n",
    "P = getProfit(D)\n",
    "P[-5:]"
   ]
  },
  {
   "cell_type": "code",
   "execution_count": 14,
   "id": "586689f2-b133-450f-96c0-8430fdaa3044",
   "metadata": {
    "tags": []
   },
   "outputs": [
    {
     "data": {
      "application/vnd.jupyter.widget-view+json": {
       "model_id": "6698fe138bb04729ad80c554f0ea9939",
       "version_major": 2,
       "version_minor": 0
      },
      "text/plain": [
       "FigureWidgetResampler({\n",
       "    'data': [{'marker': {'color': 'red',\n",
       "                         'opacity': 0.25,\n",
       "   …"
      ]
     },
     "metadata": {},
     "output_type": "display_data"
    }
   ],
   "source": [
    "# indexed chart with bidask\n",
    "fig = chartFigure(height=800, rows=4,\n",
    "    Sell=dict(x=Sell.Index, y=Sell.Price, color='red', mode='markers', size=-symlog(Sell.Volume)-1, opacity=0.25),\n",
    "    Buy=dict(x=Buy.Index, y=Buy.Price, color='green', mode='markers', size=symlog(Buy.Volume)-1, opacity=0.25),\n",
    "    Bid=dict(x=C.Index, y=S.B[K], color='green', opacity=0.2),\n",
    "    Ask=dict(x=C.Index, y=S.A[K], color='red', opacity=0.2),\n",
    "\n",
    "    # trades\n",
    "    EnterLong=dict(x=Long.X0, y=Long.Price0, mode='markers',\n",
    "                   marker=dict(symbol='triangle-up', size=12, line_color='darkgreen', line_width=1, color='green')),\n",
    "    ExitLong=dict(x=Long.X1, y=Long.Price1, mode='markers',\n",
    "                  marker=dict(symbol='x', size=10, line_color='darkgreen', line_width=1, color='green', opacity=0.4)),\n",
    "\n",
    "    EnterShort=dict(x=Short.X0, y=Short.Price0, mode='markers',\n",
    "                    marker=dict(symbol='triangle-down', size=12, line_color='darkred', line_width=1, color='red')),\n",
    "    ExitShort=dict(x=Short.X1, y=Short.Price1, mode='markers',\n",
    "                   marker=dict(symbol='x', size=10, line_color='darkred', line_width=1, color='red', opacity=0.4)),\n",
    "\n",
    "    # Signal and duration indicators\n",
    "    Signal=dict(x=C.Index, y=SignalA, color='magenta', row=3, shape='hv'),\n",
    "    Duration=dict(x=C.Index, y=DurationA, color='blue', row=4),\n",
    "\n",
    "    # Profit\n",
    "    RawPnL=dict(x=P.Index, y=P.RawPnL.cumsum(), secondary_y=True, width=4, color='gray', opacity=0.2, shape='hv', connectgaps=True),\n",
    "    Profit=dict(x=P.Index, y=P.Profit.cumsum(), secondary_y=True, width=6, color='blue', opacity=0.4, shape='hv', connectgaps=True)\n",
    ")\n",
    "\n",
    "fig.add_bar(name='Buy', x=Buy.Index, y=Buy.Volume, row=2, col=1, marker_color='green')\n",
    "fig.add_bar(name='Sell', x=Sell.Index, y=Sell.Volume, row=2, col=1, marker_color='red')\n",
    "fig.add_hline(y=threshold, row=4, col=1, line_dash='dot', line_color='gray')\n",
    "\n",
    "# styling\n",
    "fig.update_xaxes(spikemode='across+marker', spikedash='dot', spikethickness=2, spikesnap='cursor')\n",
    "fig.update_traces(xaxis='x4')\n",
    "fig.update_layout(legend=dict(x=0, y=1.05, bordercolor=\"lightgray\", borderwidth=1))\n",
    "\n",
    "fig"
   ]
  },
  {
   "cell_type": "code",
   "execution_count": null,
   "id": "fbd93560-529d-4ca2-b732-ee335642b009",
   "metadata": {},
   "outputs": [],
   "source": []
  }
 ],
 "metadata": {
  "kernelspec": {
   "display_name": "Python 3 (ipykernel)",
   "language": "python",
   "name": "python3"
  },
  "language_info": {
   "codemirror_mode": {
    "name": "ipython",
    "version": 3
   },
   "file_extension": ".py",
   "mimetype": "text/x-python",
   "name": "python",
   "nbconvert_exporter": "python",
   "pygments_lexer": "ipython3",
   "version": "3.9.12"
  }
 },
 "nbformat": 4,
 "nbformat_minor": 5
}

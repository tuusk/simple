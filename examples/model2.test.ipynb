{
 "cells": [
  {
   "cell_type": "markdown",
   "id": "e48c2ec1-4cc0-4b0d-8671-37a4f0431fe4",
   "metadata": {},
   "source": [
    "# Серия тиков с разной ценой, количество тиков N, расстояние во времени меньше T миллисекунд"
   ]
  },
  {
   "cell_type": "code",
   "execution_count": 1,
   "id": "394d085f-7510-446e-bb12-384082b22535",
   "metadata": {
    "tags": []
   },
   "outputs": [],
   "source": [
    "from simple.ohlc import debounce, npJoin\n",
    "from simple.plotly import chartFigure, chartTrades\n",
    "from simple.funcs import symlog, tickSpeed\n",
    "from simple.backtest import npBacktestMarket, getProfit\n",
    "import numpy as np\n",
    "from simple.numpy import rolling_apply"
   ]
  },
  {
   "cell_type": "code",
   "execution_count": 2,
   "id": "846c8459-ecb5-4cf6-b9ab-e8851d7385e8",
   "metadata": {
    "tags": []
   },
   "outputs": [],
   "source": [
    "threshold = 4_000_000  # default resolution in microseconds\n",
    "period = 30"
   ]
  },
  {
   "cell_type": "code",
   "execution_count": 3,
   "id": "f2178691-427f-44d0-bce0-c278c85763c2",
   "metadata": {
    "tags": []
   },
   "outputs": [
    {
     "data": {
      "text/plain": [
       "rec.array([('2022-05-08T05:59:59.886999', 910037, 2537.16, 394.),\n",
       "           ('2022-05-08T05:59:59.886999', 910038, 2537.16, 394.),\n",
       "           ('2022-05-08T05:59:59.886999', 910039, 2537.16, 210.),\n",
       "           ('2022-05-08T05:59:59.897000', 910040, 2537.16,   2.),\n",
       "           ('2022-05-08T05:59:59.909999', 910041, 2537.16,   2.)],\n",
       "          dtype={'names':['DT','LocalDT','Price','Size'], 'formats':['<M8[us]','<i8','<f8','<f8'], 'offsets':[0,8,16,24], 'itemsize':40})"
      ]
     },
     "execution_count": 3,
     "metadata": {},
     "output_type": "execute_result"
    }
   ],
   "source": [
    "T = np.load('data/ETHUSDT.2022-05-08.tick.npz')['ETHUSDT'].view(np.recarray)\n",
    "T[-5:]"
   ]
  },
  {
   "cell_type": "code",
   "execution_count": 4,
   "id": "7f12f0f8-07db-42f4-8e14-f64749cb63f3",
   "metadata": {
    "tags": []
   },
   "outputs": [],
   "source": [
    "Buy = T[T.Size > 0]\n",
    "Sell = T[T.Size < 0]"
   ]
  },
  {
   "cell_type": "code",
   "execution_count": 5,
   "id": "58c23d13-eac4-48d7-a860-98ea7dd6004e",
   "metadata": {
    "tags": []
   },
   "outputs": [
    {
     "name": "stdout",
     "output_type": "stream",
     "text": [
      "907307 converted to 155091 debounced ticks\n"
     ]
    },
    {
     "data": {
      "text/plain": [
       "rec.array([('2022-05-08T05:59:50.540000', 155086, 2537.145,       0,  2.535e+03, 2535.,  0.000e+00,  3,  3,  0),\n",
       "           ('2022-05-08T05:59:50.611000', 155087, 2537.185,   71000,  2.376e+03, 2378., -2.000e+00,  6,  5,  1),\n",
       "           ('2022-05-08T05:59:51.163000', 155088, 2537.105,   18000, -1.000e+00,  197., -1.980e+02,  2,  1,  1),\n",
       "           ('2022-05-08T05:59:59.780999', 155089, 2536.985, 8617999,  3.376e+03, 9984., -6.608e+03, 67, 55, 12),\n",
       "           ('1970-01-01T00:00:00.000000', 155090, 2537.145,  129000,  3.880e+03, 3880.,  0.000e+00, 10, 10,  0)],\n",
       "          dtype=[('DT', '<M8[us]'), ('Index', '<i8'), ('Price', '<f8'), ('Duration', '<m8[us]'), ('Size', '<f8'), ('BuySize', '<f8'), ('SellSize', '<f8'), ('Count', '<i8'), ('BuyCount', '<i8'), ('SellCount', '<i8')])"
      ]
     },
     "execution_count": 5,
     "metadata": {},
     "output_type": "execute_result"
    }
   ],
   "source": [
    "C = debounce(T)\n",
    "print(len(T), 'converted to', len(C), 'debounced ticks')\n",
    "C[-5:]"
   ]
  },
  {
   "cell_type": "code",
   "execution_count": 6,
   "id": "2607c6c0-f04a-4197-8591-0a883c6cf2fc",
   "metadata": {
    "tags": []
   },
   "outputs": [
    {
     "data": {
      "text/plain": [
       "rec.array([('2022-05-08T05:59:42.346000', 155074, 2536.975,      0, -1.000e+02,   0.,  -100., 1, 0, 1),\n",
       "           ('2022-05-08T05:59:42.346000', 155075, 2536.935,      0, -1.970e+03,   0., -1970., 3, 0, 3),\n",
       "           ('2022-05-08T05:59:42.346000', 155076, 2536.905,      0, -5.081e+03,   0., -5081., 6, 0, 6),\n",
       "           ('2022-05-08T05:59:42.745000', 155077, 2536.875, 363000, -5.649e+03,   0., -5649., 7, 0, 7),\n",
       "           ('2022-05-08T05:59:51.163000', 155088, 2537.105,  18000, -1.000e+00, 197.,  -198., 2, 1, 1)],\n",
       "          dtype=[('DT', '<M8[us]'), ('Index', '<i8'), ('Price', '<f8'), ('Duration', '<m8[us]'), ('Size', '<f8'), ('BuySize', '<f8'), ('SellSize', '<f8'), ('Count', '<i8'), ('BuyCount', '<i8'), ('SellCount', '<i8')])"
      ]
     },
     "execution_count": 6,
     "metadata": {},
     "output_type": "execute_result"
    }
   ],
   "source": [
    "C.Volume = C.BuySize + C.SellSize\n",
    "Buy = C[C.Volume > 0]\n",
    "Sell = C[C.Volume < 0]\n",
    "Sell[-5:]"
   ]
  },
  {
   "cell_type": "code",
   "execution_count": 7,
   "id": "ff310ba4-4f10-49d2-a656-279d24d21232",
   "metadata": {},
   "outputs": [
    {
     "data": {
      "text/plain": [
       "rec.array([('2022-05-08T00:01:00.007000', 2636., 2635.99),\n",
       "           ('2022-05-08T00:01:00.043000', 2636., 2635.99),\n",
       "           ('2022-05-08T00:01:00.079000', 2636., 2635.99),\n",
       "           ('2022-05-08T00:01:00.117000', 2636., 2635.99),\n",
       "           ('2022-05-08T00:01:00.149000', 2636., 2635.99)],\n",
       "          dtype={'names':['DT','A','B'], 'formats':['<M8[us]','<f4','<f4'], 'offsets':[0,8,16], 'itemsize':24})"
      ]
     },
     "execution_count": 7,
     "metadata": {},
     "output_type": "execute_result"
    }
   ],
   "source": [
    "S = np.load('data/ETHUSDT.2022-05-08.bidask.npz')['ETHUSDT'].view(np.recarray)\n",
    "S[:5]"
   ]
  },
  {
   "cell_type": "code",
   "execution_count": 8,
   "id": "21952de0-3ab8-44e0-9b5a-095d087318b3",
   "metadata": {
    "tags": []
   },
   "outputs": [
    {
     "data": {
      "text/plain": [
       "155091"
      ]
     },
     "execution_count": 8,
     "metadata": {},
     "output_type": "execute_result"
    }
   ],
   "source": [
    "K = npJoin(C.DT, S.DT)\n",
    "len(K)"
   ]
  },
  {
   "cell_type": "code",
   "execution_count": 9,
   "id": "5190683f-8702-45b8-af49-cc940587d620",
   "metadata": {
    "tags": []
   },
   "outputs": [
    {
     "data": {
      "text/plain": [
       "155091"
      ]
     },
     "execution_count": 9,
     "metadata": {},
     "output_type": "execute_result"
    }
   ],
   "source": [
    "# calculate sum of duration/volume by sliding window\n",
    "def getSum(x):\n",
    "    return np.sum(x).astype(int)\n",
    "\n",
    "\n",
    "Duration = rolling_apply(getSum, period, C.Duration)\n",
    "Volume = rolling_apply(getSum, period, C.Volume)\n",
    "len(Duration)"
   ]
  },
  {
   "cell_type": "code",
   "execution_count": 10,
   "id": "82c096d7-265a-473c-b6c4-93478dd3dd95",
   "metadata": {
    "tags": []
   },
   "outputs": [
    {
     "data": {
      "text/plain": [
       "array([1., 1., 1., 1., 1., 1., 1., 1., 1., 1.])"
      ]
     },
     "execution_count": 10,
     "metadata": {},
     "output_type": "execute_result"
    }
   ],
   "source": [
    "# trade signal\n",
    "s = 0\n",
    "Signal = np.zeros_like(Duration)\n",
    "for i in range(len(Signal)):\n",
    "    if Duration[i] < threshold and Volume[i] > 0:\n",
    "        s = 1\n",
    "    elif Duration[i] < threshold and C.Volume[i] < 0:\n",
    "        s = -1\n",
    "    Signal[i] = s\n",
    "\n",
    "Signal[-10:]"
   ]
  },
  {
   "cell_type": "code",
   "execution_count": 11,
   "id": "8890995b-a2c1-4dee-bf97-1f9cef2dbc1e",
   "metadata": {
    "tags": []
   },
   "outputs": [
    {
     "data": {
      "text/plain": [
       "rec.array([(154588, '2022-05-08T05:57:54.785000', 2536.23999023, 2536.29492188, 154658, '2022-05-08T05:57:55.601000', 2535.87988281, 2535.79980469, -1.),\n",
       "           (154662, '2022-05-08T05:57:55.633999', 2535.84008789, 2535.83496094, 154829, '2022-05-08T05:58:41.071999', 2534.20996094, 2534.27490234,  1.),\n",
       "           (154829, '2022-05-08T05:58:41.071999', 2534.20996094, 2534.27490234, 154836, '2022-05-08T05:58:41.529999', 2534.40991211, 2534.31005859, -1.),\n",
       "           (154844, '2022-05-08T05:58:41.562999', 2534.61010742, 2534.42504883, 155000, '2022-05-08T05:59:08.414000', 2537.4699707 , 2537.64990234,  1.),\n",
       "           (155000, '2022-05-08T05:59:08.414000', 2537.4699707 , 2537.64990234, 155077, '2022-05-08T05:59:42.733000', 2536.79003906, 2536.75488281, -1.)],\n",
       "          dtype=[('X0', '<i8'), ('T0', '<M8[us]'), ('Price0', '<f8'), ('MidPrice0', '<f8'), ('X1', '<i8'), ('T1', '<M8[us]'), ('Price1', '<f8'), ('MidPrice1', '<f8'), ('Size', '<f8')])"
      ]
     },
     "execution_count": 11,
     "metadata": {},
     "output_type": "execute_result"
    }
   ],
   "source": [
    "D = npBacktestMarket(S.DT[K], S.A[K], S.B[K], Signal, 0)\n",
    "D[-5:]"
   ]
  },
  {
   "cell_type": "code",
   "execution_count": 12,
   "id": "603fb361-771c-448f-8173-63cd485de5c5",
   "metadata": {
    "tags": []
   },
   "outputs": [
    {
     "data": {
      "text/plain": [
       "rec.array([(154658, '2022-05-08T05:57:55.601000',  0.36010742,  0.49511719, 2.53605994, -2.17595251),\n",
       "           (154829, '2022-05-08T05:58:41.071999', -1.63012695, -1.56005859, 2.53502502, -4.16515198),\n",
       "           (154836, '2022-05-08T05:58:41.529999', -0.19995117, -0.03515625, 2.53430994, -2.73426111),\n",
       "           (155000, '2022-05-08T05:59:08.414000',  2.85986328,  3.22485352, 2.53604004,  0.32382324),\n",
       "           (155077, '2022-05-08T05:59:42.733000',  0.67993164,  0.89501953, 2.53713   , -1.85719836)],\n",
       "          dtype=[('Index', '<i8'), ('DT', '<M8[us]'), ('RawPnL', '<f8'), ('MidPnL', '<f8'), ('Fee', '<f8'), ('Profit', '<f8')])"
      ]
     },
     "execution_count": 12,
     "metadata": {},
     "output_type": "execute_result"
    }
   ],
   "source": [
    "P = getProfit(D)\n",
    "P[-5:]"
   ]
  },
  {
   "cell_type": "code",
   "execution_count": 15,
   "id": "586689f2-b133-450f-96c0-8430fdaa3044",
   "metadata": {
    "tags": []
   },
   "outputs": [
    {
     "data": {
      "application/vnd.jupyter.widget-view+json": {
       "model_id": "9168c993a30a4365b7cb1d1cf86a69cf",
       "version_major": 2,
       "version_minor": 0
      },
      "text/plain": [
       "FigureWidgetResampler({\n",
       "    'data': [{'marker': {'color': 'red',\n",
       "                         'opacity': 0.25,\n",
       "   …"
      ]
     },
     "metadata": {},
     "output_type": "display_data"
    }
   ],
   "source": [
    "# indexed chart with bidask\n",
    "fig = chartFigure(height=1200, rows=4,\n",
    "    Sell=dict(x=Sell.Index, y=Sell.Price, color='red', mode='markers', size=-symlog(Sell.Size), opacity=0.25),\n",
    "    Buy=dict(x=Buy.Index, y=Buy.Price, color='green', mode='markers', size=symlog(Buy.Size), opacity=0.25),\n",
    "    Bid=dict(x=C.Index, y=S.B[K], color='green', opacity=0.2),\n",
    "    Ask=dict(x=C.Index, y=S.A[K], color='red', opacity=0.2),\n",
    "\n",
    "    **chartTrades(D, tm=False),\n",
    "\n",
    "    # Signal and duration indicators\n",
    "    Speed=dict(x=C.Index, y=tickSpeed(C, period), color='green', row=2),\n",
    "    Signal=dict(x=C.Index, y=Signal, color='magenta', row=3, shape='hv'),\n",
    "    Duration=dict(x=C.Index, y=Duration, color='orange', row=4),\n",
    "\n",
    "    # Profit\n",
    "    RawPnL=dict(x=P.Index, y=P.RawPnL.cumsum(), secondary_y=True, width=4, color='gray', opacity=0.4, shape='hv', connectgaps=True),\n",
    "    Profit=dict(x=P.Index, y=P.Profit.cumsum(), secondary_y=True, width=2, color='blue', opacity=0.3, shape='hv', connectgaps=True)\n",
    ")\n",
    "\n",
    "# styling\n",
    "fig.update_xaxes(spikemode='across+marker', spikedash='dot', spikethickness=2, spikesnap='cursor')\n",
    "fig.update_traces(xaxis='x4')\n",
    "fig.update_layout(legend=dict(x=0, y=1.05, bordercolor=\"lightgray\", borderwidth=1))\n",
    "\n",
    "fig"
   ]
  },
  {
   "cell_type": "code",
   "execution_count": null,
   "id": "fbd93560-529d-4ca2-b732-ee335642b009",
   "metadata": {},
   "outputs": [],
   "source": []
  }
 ],
 "metadata": {
  "kernelspec": {
   "display_name": "Python 3 (ipykernel)",
   "language": "python",
   "name": "python3"
  },
  "language_info": {
   "codemirror_mode": {
    "name": "ipython",
    "version": 3
   },
   "file_extension": ".py",
   "mimetype": "text/x-python",
   "name": "python",
   "nbconvert_exporter": "python",
   "pygments_lexer": "ipython3",
   "version": "3.8.13"
  },
  "widgets": {
   "application/vnd.jupyter.widget-state+json": {
    "state": {},
    "version_major": 2,
    "version_minor": 0
   }
  }
 },
 "nbformat": 4,
 "nbformat_minor": 5
}

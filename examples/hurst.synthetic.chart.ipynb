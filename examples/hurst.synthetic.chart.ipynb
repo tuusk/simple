{
 "cells": [
  {
   "cell_type": "code",
   "execution_count": 1,
   "id": "d3fbaac6",
   "metadata": {
    "ExecuteTime": {
     "end_time": "2022-05-03T19:02:33.719235Z",
     "start_time": "2022-05-03T19:02:32.653366Z"
    },
    "tags": []
   },
   "outputs": [],
   "source": [
    "import numpy as np\n",
    "from simple.hurst import HurstRS, HurstDMA, HurstDSOD\n",
    "from simple.funcs import hurst\n",
    "from simple.pretty import prun\n",
    "from simple.numpy import rolling_apply\n",
    "from simple.plotly import chartFigure, updateLines"
   ]
  },
  {
   "cell_type": "code",
   "execution_count": 2,
   "id": "27037c4c-78d3-4557-85f1-9e6d9437db3b",
   "metadata": {},
   "outputs": [],
   "source": [
    "period = 1024"
   ]
  },
  {
   "cell_type": "code",
   "execution_count": 3,
   "id": "d43e3370",
   "metadata": {
    "ExecuteTime": {
     "end_time": "2022-05-03T19:02:33.839903Z",
     "start_time": "2022-05-03T19:02:33.725569Z"
    },
    "tags": []
   },
   "outputs": [
    {
     "data": {
      "text/plain": [
       "6144"
      ]
     },
     "execution_count": 3,
     "metadata": {},
     "output_type": "execute_result"
    }
   ],
   "source": [
    "A = (np.random.rand(period*2)-0.4).cumsum()\n",
    "B = np.random.rand(period*4) + A[-1]\n",
    "T = np.hstack((A, B))\n",
    "len(T)"
   ]
  },
  {
   "cell_type": "code",
   "execution_count": 4,
   "id": "36aa403d-31a1-470a-8d87-8a4ab2c29099",
   "metadata": {
    "tags": []
   },
   "outputs": [
    {
     "data": {
      "application/vnd.jupyter.widget-view+json": {
       "model_id": "7327d319126849f78b585c59174e7503",
       "version_major": 2,
       "version_minor": 0
      },
      "text/plain": [
       "FigureWidgetResampler({\n",
       "    'data': [{'name': '<b style=\"color:sandybrown\">[R]</b> Price <i style=\"color:#fc99…"
      ]
     },
     "metadata": {},
     "output_type": "display_data"
    }
   ],
   "source": [
    "fig = chartFigure(Price=T, rows=2, HurstDSOD={'row': 2}, hurstSeries={'row': 2}, HurstRS={'row': 2}, HurstDMA={'row': 2})\n",
    "fig"
   ]
  },
  {
   "cell_type": "code",
   "execution_count": 5,
   "id": "8c687126-2e57-46c7-b159-cada8acb1399",
   "metadata": {},
   "outputs": [],
   "source": [
    "def hurstSeries(X: np.array, Period: int) -> np.array:\n",
    "    x = rolling_apply(lambda x: hurst(x), Period, X, n_jobs=128, progress=True)\n",
    "    x[:period] = x[period]\n",
    "    return x"
   ]
  },
  {
   "cell_type": "code",
   "execution_count": 6,
   "id": "f27a022a-e6c6-4026-b735-290c6c73de10",
   "metadata": {
    "tags": []
   },
   "outputs": [
    {
     "data": {
      "application/vnd.jupyter.widget-view+json": {
       "model_id": "b96873723e194f38a8f6bbe55ce9d25d",
       "version_major": 2,
       "version_minor": 0
      },
      "text/plain": [
       "  0%|          | 0/5120 [00:00<?, ?it/s]"
      ]
     },
     "metadata": {},
     "output_type": "display_data"
    }
   ],
   "source": [
    "h = hurstSeries(T, period)\n",
    "updateLines(fig, hurstSeries=h)"
   ]
  },
  {
   "cell_type": "code",
   "execution_count": 7,
   "id": "a3e725ab-61a0-4b1b-8a59-9308d89f33fd",
   "metadata": {
    "tags": []
   },
   "outputs": [],
   "source": [
    "h = HurstDSOD(T, period)\n",
    "updateLines(fig, HurstDSOD=h)"
   ]
  },
  {
   "cell_type": "code",
   "execution_count": 8,
   "id": "b2f9676b-3b8e-43ae-bdf4-f3eae1ec4045",
   "metadata": {
    "tags": []
   },
   "outputs": [
    {
     "data": {
      "application/vnd.jupyter.widget-view+json": {
       "model_id": "62b9efe888df419da110b3a68e25b67a",
       "version_major": 2,
       "version_minor": 0
      },
      "text/plain": [
       "  0%|          | 0/256 [00:00<?, ?it/s]"
      ]
     },
     "metadata": {},
     "output_type": "display_data"
    }
   ],
   "source": [
    "h = prun(lambda src, period: HurstRS(np.diff(src, prepend=0), period), T, period)\n",
    "updateLines(fig, HurstRS=h)"
   ]
  },
  {
   "cell_type": "code",
   "execution_count": 9,
   "id": "38abeb35-0f88-42d8-9b08-318a7b3bf9cb",
   "metadata": {
    "tags": []
   },
   "outputs": [
    {
     "data": {
      "application/vnd.jupyter.widget-view+json": {
       "model_id": "80cbea29565f4e218bbc7d2359cfa837",
       "version_major": 2,
       "version_minor": 0
      },
      "text/plain": [
       "  0%|          | 0/256 [00:00<?, ?it/s]"
      ]
     },
     "metadata": {},
     "output_type": "display_data"
    }
   ],
   "source": [
    "h = prun(HurstDMA, T, period)\n",
    "updateLines(fig, HurstDMA=h)"
   ]
  }
 ],
 "metadata": {
  "kernelspec": {
   "display_name": "Python 3 (ipykernel)",
   "language": "python",
   "name": "python3"
  },
  "language_info": {
   "codemirror_mode": {
    "name": "ipython",
    "version": 3
   },
   "file_extension": ".py",
   "mimetype": "text/x-python",
   "name": "python",
   "nbconvert_exporter": "python",
   "pygments_lexer": "ipython3",
   "version": "3.8.13"
  },
  "widgets": {
   "application/vnd.jupyter.widget-state+json": {
    "state": {
     "05262c028c274c60b270ca7d78380952": {
      "model_module": "@jupyter-widgets/base",
      "model_module_version": "1.2.0",
      "model_name": "LayoutModel",
      "state": {}
     },
     "079caff6c670493695e7afab8b927c18": {
      "model_module": "@jupyter-widgets/base",
      "model_module_version": "1.2.0",
      "model_name": "LayoutModel",
      "state": {}
     },
     "104efdc6ea984ab2b9c62eefbb6f477b": {
      "model_module": "@jupyter-widgets/controls",
      "model_module_version": "1.5.0",
      "model_name": "ProgressStyleModel",
      "state": {
       "description_width": ""
      }
     },
     "110bc35de5d7412990013dd0e39eeac6": {
      "model_module": "@jupyter-widgets/base",
      "model_module_version": "1.2.0",
      "model_name": "LayoutModel",
      "state": {}
     },
     "22a1239af7df4624af7646f1b64bf51c": {
      "model_module": "@jupyter-widgets/base",
      "model_module_version": "1.2.0",
      "model_name": "LayoutModel",
      "state": {}
     },
     "2598c75dd0924e4e888e168bc548c5b2": {
      "model_module": "@jupyter-widgets/base",
      "model_module_version": "1.2.0",
      "model_name": "LayoutModel",
      "state": {}
     },
     "36231db6e2474671a55808f59400be74": {
      "model_module": "@jupyter-widgets/controls",
      "model_module_version": "1.5.0",
      "model_name": "DescriptionStyleModel",
      "state": {
       "description_width": ""
      }
     },
     "379720f023374149a54115d80a26acb2": {
      "model_module": "@jupyter-widgets/controls",
      "model_module_version": "1.5.0",
      "model_name": "HTMLModel",
      "state": {
       "layout": "IPY_MODEL_22a1239af7df4624af7646f1b64bf51c",
       "style": "IPY_MODEL_86455b6bdd1e4d539d36814274c3bd0a",
       "value": "100%"
      }
     },
     "3d03766dc6924432afa37ef47b5f8626": {
      "model_module": "jupyterlab-plotly",
      "model_module_version": "^5.6.0",
      "model_name": "FigureModel",
      "state": {
       "_config": {
        "plotlyServerURL": "https://plot.ly"
       },
       "_js2py_layoutDelta": {},
       "_js2py_pointsCallback": {},
       "_js2py_relayout": {},
       "_js2py_restyle": {},
       "_js2py_traceDeltas": {},
       "_js2py_update": {},
       "_layout": {
        "template": {
         "data": {
          "bar": [
           {
            "error_x": {
             "color": "#2a3f5f"
            },
            "error_y": {
             "color": "#2a3f5f"
            },
            "marker": {
             "line": {
              "color": "#E5ECF6",
              "width": 0.5
             },
             "pattern": {
              "fillmode": "overlay",
              "size": 10,
              "solidity": 0.2
             }
            },
            "type": "bar"
           }
          ],
          "barpolar": [
           {
            "marker": {
             "line": {
              "color": "#E5ECF6",
              "width": 0.5
             },
             "pattern": {
              "fillmode": "overlay",
              "size": 10,
              "solidity": 0.2
             }
            },
            "type": "barpolar"
           }
          ],
          "carpet": [
           {
            "aaxis": {
             "endlinecolor": "#2a3f5f",
             "gridcolor": "white",
             "linecolor": "white",
             "minorgridcolor": "white",
             "startlinecolor": "#2a3f5f"
            },
            "baxis": {
             "endlinecolor": "#2a3f5f",
             "gridcolor": "white",
             "linecolor": "white",
             "minorgridcolor": "white",
             "startlinecolor": "#2a3f5f"
            },
            "type": "carpet"
           }
          ],
          "choropleth": [
           {
            "colorbar": {
             "outlinewidth": 0,
             "ticks": ""
            },
            "type": "choropleth"
           }
          ],
          "contour": [
           {
            "colorbar": {
             "outlinewidth": 0,
             "ticks": ""
            },
            "colorscale": [
             [
              0,
              "#0d0887"
             ],
             [
              0.1111111111111111,
              "#46039f"
             ],
             [
              0.2222222222222222,
              "#7201a8"
             ],
             [
              0.3333333333333333,
              "#9c179e"
             ],
             [
              0.4444444444444444,
              "#bd3786"
             ],
             [
              0.5555555555555556,
              "#d8576b"
             ],
             [
              0.6666666666666666,
              "#ed7953"
             ],
             [
              0.7777777777777778,
              "#fb9f3a"
             ],
             [
              0.8888888888888888,
              "#fdca26"
             ],
             [
              1,
              "#f0f921"
             ]
            ],
            "type": "contour"
           }
          ],
          "contourcarpet": [
           {
            "colorbar": {
             "outlinewidth": 0,
             "ticks": ""
            },
            "type": "contourcarpet"
           }
          ],
          "heatmap": [
           {
            "colorbar": {
             "outlinewidth": 0,
             "ticks": ""
            },
            "colorscale": [
             [
              0,
              "#0d0887"
             ],
             [
              0.1111111111111111,
              "#46039f"
             ],
             [
              0.2222222222222222,
              "#7201a8"
             ],
             [
              0.3333333333333333,
              "#9c179e"
             ],
             [
              0.4444444444444444,
              "#bd3786"
             ],
             [
              0.5555555555555556,
              "#d8576b"
             ],
             [
              0.6666666666666666,
              "#ed7953"
             ],
             [
              0.7777777777777778,
              "#fb9f3a"
             ],
             [
              0.8888888888888888,
              "#fdca26"
             ],
             [
              1,
              "#f0f921"
             ]
            ],
            "type": "heatmap"
           }
          ],
          "heatmapgl": [
           {
            "colorbar": {
             "outlinewidth": 0,
             "ticks": ""
            },
            "colorscale": [
             [
              0,
              "#0d0887"
             ],
             [
              0.1111111111111111,
              "#46039f"
             ],
             [
              0.2222222222222222,
              "#7201a8"
             ],
             [
              0.3333333333333333,
              "#9c179e"
             ],
             [
              0.4444444444444444,
              "#bd3786"
             ],
             [
              0.5555555555555556,
              "#d8576b"
             ],
             [
              0.6666666666666666,
              "#ed7953"
             ],
             [
              0.7777777777777778,
              "#fb9f3a"
             ],
             [
              0.8888888888888888,
              "#fdca26"
             ],
             [
              1,
              "#f0f921"
             ]
            ],
            "type": "heatmapgl"
           }
          ],
          "histogram": [
           {
            "marker": {
             "pattern": {
              "fillmode": "overlay",
              "size": 10,
              "solidity": 0.2
             }
            },
            "type": "histogram"
           }
          ],
          "histogram2d": [
           {
            "colorbar": {
             "outlinewidth": 0,
             "ticks": ""
            },
            "colorscale": [
             [
              0,
              "#0d0887"
             ],
             [
              0.1111111111111111,
              "#46039f"
             ],
             [
              0.2222222222222222,
              "#7201a8"
             ],
             [
              0.3333333333333333,
              "#9c179e"
             ],
             [
              0.4444444444444444,
              "#bd3786"
             ],
             [
              0.5555555555555556,
              "#d8576b"
             ],
             [
              0.6666666666666666,
              "#ed7953"
             ],
             [
              0.7777777777777778,
              "#fb9f3a"
             ],
             [
              0.8888888888888888,
              "#fdca26"
             ],
             [
              1,
              "#f0f921"
             ]
            ],
            "type": "histogram2d"
           }
          ],
          "histogram2dcontour": [
           {
            "colorbar": {
             "outlinewidth": 0,
             "ticks": ""
            },
            "colorscale": [
             [
              0,
              "#0d0887"
             ],
             [
              0.1111111111111111,
              "#46039f"
             ],
             [
              0.2222222222222222,
              "#7201a8"
             ],
             [
              0.3333333333333333,
              "#9c179e"
             ],
             [
              0.4444444444444444,
              "#bd3786"
             ],
             [
              0.5555555555555556,
              "#d8576b"
             ],
             [
              0.6666666666666666,
              "#ed7953"
             ],
             [
              0.7777777777777778,
              "#fb9f3a"
             ],
             [
              0.8888888888888888,
              "#fdca26"
             ],
             [
              1,
              "#f0f921"
             ]
            ],
            "type": "histogram2dcontour"
           }
          ],
          "mesh3d": [
           {
            "colorbar": {
             "outlinewidth": 0,
             "ticks": ""
            },
            "type": "mesh3d"
           }
          ],
          "parcoords": [
           {
            "line": {
             "colorbar": {
              "outlinewidth": 0,
              "ticks": ""
             }
            },
            "type": "parcoords"
           }
          ],
          "pie": [
           {
            "automargin": true,
            "type": "pie"
           }
          ],
          "scatter": [
           {
            "marker": {
             "colorbar": {
              "outlinewidth": 0,
              "ticks": ""
             }
            },
            "type": "scatter"
           }
          ],
          "scatter3d": [
           {
            "line": {
             "colorbar": {
              "outlinewidth": 0,
              "ticks": ""
             }
            },
            "marker": {
             "colorbar": {
              "outlinewidth": 0,
              "ticks": ""
             }
            },
            "type": "scatter3d"
           }
          ],
          "scattercarpet": [
           {
            "marker": {
             "colorbar": {
              "outlinewidth": 0,
              "ticks": ""
             }
            },
            "type": "scattercarpet"
           }
          ],
          "scattergeo": [
           {
            "marker": {
             "colorbar": {
              "outlinewidth": 0,
              "ticks": ""
             }
            },
            "type": "scattergeo"
           }
          ],
          "scattergl": [
           {
            "marker": {
             "colorbar": {
              "outlinewidth": 0,
              "ticks": ""
             }
            },
            "type": "scattergl"
           }
          ],
          "scattermapbox": [
           {
            "marker": {
             "colorbar": {
              "outlinewidth": 0,
              "ticks": ""
             }
            },
            "type": "scattermapbox"
           }
          ],
          "scatterpolar": [
           {
            "marker": {
             "colorbar": {
              "outlinewidth": 0,
              "ticks": ""
             }
            },
            "type": "scatterpolar"
           }
          ],
          "scatterpolargl": [
           {
            "marker": {
             "colorbar": {
              "outlinewidth": 0,
              "ticks": ""
             }
            },
            "type": "scatterpolargl"
           }
          ],
          "scatterternary": [
           {
            "marker": {
             "colorbar": {
              "outlinewidth": 0,
              "ticks": ""
             }
            },
            "type": "scatterternary"
           }
          ],
          "surface": [
           {
            "colorbar": {
             "outlinewidth": 0,
             "ticks": ""
            },
            "colorscale": [
             [
              0,
              "#0d0887"
             ],
             [
              0.1111111111111111,
              "#46039f"
             ],
             [
              0.2222222222222222,
              "#7201a8"
             ],
             [
              0.3333333333333333,
              "#9c179e"
             ],
             [
              0.4444444444444444,
              "#bd3786"
             ],
             [
              0.5555555555555556,
              "#d8576b"
             ],
             [
              0.6666666666666666,
              "#ed7953"
             ],
             [
              0.7777777777777778,
              "#fb9f3a"
             ],
             [
              0.8888888888888888,
              "#fdca26"
             ],
             [
              1,
              "#f0f921"
             ]
            ],
            "type": "surface"
           }
          ],
          "table": [
           {
            "cells": {
             "fill": {
              "color": "#EBF0F8"
             },
             "line": {
              "color": "white"
             }
            },
            "header": {
             "fill": {
              "color": "#C8D4E3"
             },
             "line": {
              "color": "white"
             }
            },
            "type": "table"
           }
          ]
         },
         "layout": {
          "annotationdefaults": {
           "arrowcolor": "#2a3f5f",
           "arrowhead": 0,
           "arrowwidth": 1
          },
          "autotypenumbers": "strict",
          "coloraxis": {
           "colorbar": {
            "outlinewidth": 0,
            "ticks": ""
           }
          },
          "colorscale": {
           "diverging": [
            [
             0,
             "#8e0152"
            ],
            [
             0.1,
             "#c51b7d"
            ],
            [
             0.2,
             "#de77ae"
            ],
            [
             0.3,
             "#f1b6da"
            ],
            [
             0.4,
             "#fde0ef"
            ],
            [
             0.5,
             "#f7f7f7"
            ],
            [
             0.6,
             "#e6f5d0"
            ],
            [
             0.7,
             "#b8e186"
            ],
            [
             0.8,
             "#7fbc41"
            ],
            [
             0.9,
             "#4d9221"
            ],
            [
             1,
             "#276419"
            ]
           ],
           "sequential": [
            [
             0,
             "#0d0887"
            ],
            [
             0.1111111111111111,
             "#46039f"
            ],
            [
             0.2222222222222222,
             "#7201a8"
            ],
            [
             0.3333333333333333,
             "#9c179e"
            ],
            [
             0.4444444444444444,
             "#bd3786"
            ],
            [
             0.5555555555555556,
             "#d8576b"
            ],
            [
             0.6666666666666666,
             "#ed7953"
            ],
            [
             0.7777777777777778,
             "#fb9f3a"
            ],
            [
             0.8888888888888888,
             "#fdca26"
            ],
            [
             1,
             "#f0f921"
            ]
           ],
           "sequentialminus": [
            [
             0,
             "#0d0887"
            ],
            [
             0.1111111111111111,
             "#46039f"
            ],
            [
             0.2222222222222222,
             "#7201a8"
            ],
            [
             0.3333333333333333,
             "#9c179e"
            ],
            [
             0.4444444444444444,
             "#bd3786"
            ],
            [
             0.5555555555555556,
             "#d8576b"
            ],
            [
             0.6666666666666666,
             "#ed7953"
            ],
            [
             0.7777777777777778,
             "#fb9f3a"
            ],
            [
             0.8888888888888888,
             "#fdca26"
            ],
            [
             1,
             "#f0f921"
            ]
           ]
          },
          "colorway": [
           "#636efa",
           "#EF553B",
           "#00cc96",
           "#ab63fa",
           "#FFA15A",
           "#19d3f3",
           "#FF6692",
           "#B6E880",
           "#FF97FF",
           "#FECB52"
          ],
          "font": {
           "color": "#2a3f5f"
          },
          "geo": {
           "bgcolor": "white",
           "lakecolor": "white",
           "landcolor": "#E5ECF6",
           "showlakes": true,
           "showland": true,
           "subunitcolor": "white"
          },
          "hoverlabel": {
           "align": "left"
          },
          "hovermode": "closest",
          "mapbox": {
           "style": "light"
          },
          "paper_bgcolor": "white",
          "plot_bgcolor": "#E5ECF6",
          "polar": {
           "angularaxis": {
            "gridcolor": "white",
            "linecolor": "white",
            "ticks": ""
           },
           "bgcolor": "#E5ECF6",
           "radialaxis": {
            "gridcolor": "white",
            "linecolor": "white",
            "ticks": ""
           }
          },
          "scene": {
           "xaxis": {
            "backgroundcolor": "#E5ECF6",
            "gridcolor": "white",
            "gridwidth": 2,
            "linecolor": "white",
            "showbackground": true,
            "ticks": "",
            "zerolinecolor": "white"
           },
           "yaxis": {
            "backgroundcolor": "#E5ECF6",
            "gridcolor": "white",
            "gridwidth": 2,
            "linecolor": "white",
            "showbackground": true,
            "ticks": "",
            "zerolinecolor": "white"
           },
           "zaxis": {
            "backgroundcolor": "#E5ECF6",
            "gridcolor": "white",
            "gridwidth": 2,
            "linecolor": "white",
            "showbackground": true,
            "ticks": "",
            "zerolinecolor": "white"
           }
          },
          "shapedefaults": {
           "line": {
            "color": "#2a3f5f"
           }
          },
          "ternary": {
           "aaxis": {
            "gridcolor": "white",
            "linecolor": "white",
            "ticks": ""
           },
           "baxis": {
            "gridcolor": "white",
            "linecolor": "white",
            "ticks": ""
           },
           "bgcolor": "#E5ECF6",
           "caxis": {
            "gridcolor": "white",
            "linecolor": "white",
            "ticks": ""
           }
          },
          "title": {
           "x": 0.05
          },
          "xaxis": {
           "automargin": true,
           "gridcolor": "white",
           "linecolor": "white",
           "ticks": "",
           "title": {
            "standoff": 15
           },
           "zerolinecolor": "white",
           "zerolinewidth": 2
          },
          "yaxis": {
           "automargin": true,
           "gridcolor": "white",
           "linecolor": "white",
           "ticks": "",
           "title": {
            "standoff": 15
           },
           "zerolinecolor": "white",
           "zerolinewidth": 2
          }
         }
        },
        "xaxis": {
         "anchor": "y",
         "domain": [
          0,
          0.94
         ],
         "matches": "x2",
         "showticklabels": false
        },
        "xaxis2": {
         "anchor": "y3",
         "domain": [
          0,
          0.94
         ]
        },
        "yaxis": {
         "anchor": "x",
         "domain": [
          0.32100000000000006,
          1
         ]
        },
        "yaxis2": {
         "anchor": "x",
         "overlaying": "y",
         "side": "right"
        },
        "yaxis3": {
         "anchor": "x2",
         "domain": [
          0,
          0.29100000000000004
         ]
        },
        "yaxis4": {
         "anchor": "x2",
         "overlaying": "y3",
         "side": "right"
        }
       },
       "_py2js_addTraces": {},
       "_py2js_animate": {},
       "_py2js_deleteTraces": {},
       "_py2js_moveTraces": {},
       "_py2js_relayout": {},
       "_py2js_removeLayoutProps": {},
       "_py2js_removeTraceProps": {},
       "_py2js_restyle": {},
       "_py2js_update": {},
       "_view_count": 0
      }
     },
     "42c896fdbf1e4785bf587237e09aa7be": {
      "model_module": "@jupyter-widgets/controls",
      "model_module_version": "1.5.0",
      "model_name": "ProgressStyleModel",
      "state": {
       "description_width": ""
      }
     },
     "4a460a258d0241869537b95d2893d53a": {
      "model_module": "@jupyter-widgets/base",
      "model_module_version": "1.2.0",
      "model_name": "LayoutModel",
      "state": {}
     },
     "53eba9c0b31f47c89dcbc394b9512699": {
      "model_module": "@jupyter-widgets/controls",
      "model_module_version": "1.5.0",
      "model_name": "DescriptionStyleModel",
      "state": {
       "description_width": ""
      }
     },
     "5c806ff6344b4f35a41c13d976e552d0": {
      "model_module": "@jupyter-widgets/controls",
      "model_module_version": "1.5.0",
      "model_name": "FloatProgressModel",
      "state": {
       "bar_style": "success",
       "layout": "IPY_MODEL_079caff6c670493695e7afab8b927c18",
       "max": 256,
       "style": "IPY_MODEL_104efdc6ea984ab2b9c62eefbb6f477b",
       "value": 256
      }
     },
     "62b9efe888df419da110b3a68e25b67a": {
      "model_module": "@jupyter-widgets/controls",
      "model_module_version": "1.5.0",
      "model_name": "HBoxModel",
      "state": {
       "children": [
        "IPY_MODEL_f071b13e002748cebb87b2f9b2a55b8d",
        "IPY_MODEL_5c806ff6344b4f35a41c13d976e552d0",
        "IPY_MODEL_daaeb2ba5f474409b9c9f8cca97b38c9"
       ],
       "layout": "IPY_MODEL_f2b7d89aade4484685541d5364322c6e"
      }
     },
     "7327d319126849f78b585c59174e7503": {
      "buffers": [
       {
        "data": "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",
        "encoding": "base64",
        "path": [
         "_data",
         0,
         "y",
         "value"
        ]
       },
       {
        "data": "RvVAMCex4D9G9UAwJ7HgP0b1QDAnseA/RvVAMCex4D9G9UAwJ7HgP0b1QDAnseA/RvVAMCex4D9G9UAwJ7HgP0b1QDAnseA/RvVAMCex4D9G9UAwJ7HgP0b1QDAnseA/RvVAMCex4D9G9UAwJ7HgP0b1QDAnseA/RvVAMCex4D9G9UAwJ7HgP0b1QDAnseA/RvVAMCex4D9G9UAwJ7HgP0b1QDAnseA/RvVAMCex4D9G9UAwJ7HgP0b1QDAnseA/RvVAMCex4D9G9UAwJ7HgP0b1QDAnseA/RvVAMCex4D9G9UAwJ7HgP0b1QDAnseA/RvVAMCex4D9G9UAwJ7HgP0b1QDAnseA/RvVAMCex4D9G9UAwJ7HgP0b1QDAnseA/RvVAMCex4D9G9UAwJ7HgP0b1QDAnseA/RvVAMCex4D9G9UAwJ7HgP0b1QDAnseA/RvVAMCex4D9G9UAwJ7HgP0b1QDAnseA/RvVAMCex4D9G9UAwJ7HgP0b1QDAnseA/RvVAMCex4D9G9UAwJ7HgP0b1QDAnseA/RvVAMCex4D9G9UAwJ7HgP0b1QDAnseA/RvVAMCex4D9G9UAwJ7HgP0b1QDAnseA/RvVAMCex4D9G9UAwJ7HgP0b1QDAnseA/RvVAMCex4D9G9UAwJ7HgP0b1QDAnseA/RvVAMCex4D9G9UAwJ7HgP0b1QDAnseA/RvVAMCex4D9G9UAwJ7HgP0b1QDAnseA/RvVAMCex4D9G9UAwJ7HgP0b1QDAnseA/RvVAMCex4D9G9UAwJ7HgP0b1QDAnseA/RvVAMCex4D9G9UAwJ7HgP0b1QDAnseA/RvVAMCex4D9G9UAwJ7HgP0b1QDAnseA/RvVAMCex4D9G9UAwJ7HgP0b1QDAnseA/RvVAMCex4D9G9UAwJ7HgP0b1QDAnseA/RvVAMCex4D9G9UAwJ7HgP0b1QDAnseA/RvVAMCex4D9G9UAwJ7HgP0b1QDAnseA/RvVAMCex4D9G9UAwJ7HgP0b1QDAnseA/RvVAMCex4D9G9UAwJ7HgP0b1QDAnseA/RvVAMCex4D9G9UAwJ7HgP0b1QDAnseA/RvVAMCex4D9G9UAwJ7HgP0b1QDAnseA/RvVAMCex4D9G9UAwJ7HgP0b1QDAnseA/RvVAMCex4D9G9UAwJ7HgP0b1QDAnseA/RvVAMCex4D9G9UAwJ7HgP0b1QDAnseA/RvVAMCex4D9G9UAwJ7HgP0b1QDAnseA/RvVAMCex4D9G9UAwJ7HgP0b1QDAnseA/RvVAMCex4D9G9UAwJ7HgP0b1QDAnseA/RvVAMCex4D9G9UAwJ7HgP0b1QDAnseA/RvVAMCex4D9G9UAwJ7HgP0b1QDAnseA/RvVAMCex4D9G9UAwJ7HgP0b1QDAnseA/RvVAMCex4D9G9UAwJ7HgP0b1QDAnseA/RvVAMCex4D9G9UAwJ7HgP0b1QDAnseA/RvVAMCex4D9G9UAwJ7HgP0b1QDAnseA/RvVAMCex4D9G9UAwJ7HgP0b1QDAnseA/RvVAMCex4D9G9UAwJ7HgP0b1QDAnseA/RvVAMCex4D9G9UAwJ7HgP0b1QDAnseA/RvVAMCex4D9G9UAwJ7HgP0b1QDAnseA/RvVAMCex4D9G9UAwJ7HgP0b1QDAnseA/RvVAMCex4D9G9UAwJ7HgP0b1QDAnseA/RvVAMCex4D9G9UAwJ7HgP0b1QDAnseA/RvVAMCex4D9G9UAwJ7HgP0b1QDAnseA/RvVAMCex4D9G9UAwJ7HgPyEtuccjvOA/zLnhAOaY4D+D+Cbvqt3gP7DM2LU10uA/Z0Y0izSX4D8j0PeINu7gP0bendrs1eA/1FezWHUn4T/xMx7xLybhP8No7FvX9OA/npZt/JMT4T/xmTOVqebgP8RIO4c5DeE/C5f6dIjp4D8M24zHyC/hP1bgOISrWuE/XIYrMWtC4T82mOaKgGHhPwqzD6pQL+E/6+aqx1lS4T+3qX/jPyrhP3ftEUfwD+E/b2K6dSpC4T8BHlwoZ+XgPxBmyJxl/uA/vegeusvs4D+4Y5ItTZfgP8GPzJroi+A/FR1EWl6i4D/XI3UxsMngP8oNDOyypuA/m5HieBLb4D9Md4MB9azgP3G6ja4f0+A/AWBUo92p4D9xa8E7AaHgP+Nee8LZauA/JVwOyZqp4D99cpl8spTgP/RrRy86ueA/Jj2i7yVg4D8/GHMFIZbgPwV9np8rxOA/EveP+Fme4D+1L/g2CZXgP9WHqEh/0OA/rNv9EMGO4D+tgRYg8dbgP6e1CDJ13eA/Z0calRfI4D+3yG+VZnXgPxo2MNj8deA/zBf7KLZY4D8Vw2dY43PgP0vdkG9nY+A/mhWp3jhL4D+3wYWHpDjgP+NxESrpdt8/2d4/BZW03z8qXgZjIZ/fP1UrDvA3pN8/8oAL+E0n4D8GgKl4qunfPwRuftuQRN8/PkS38Jh+3z+AsYzBmCzfP1LnM1XAZt8/o8MFjsZG3z+pN3qMT3zePxOamKVbkd4/Dzkj4QAV3z/v0u2kIjTfP0X+XW9TJN8/O1sMrbSa3j98So79QDPfP5b7IbNaLN8/SLELO2f53z+Mcn/+gIbfP04rXrVNFN8/zm1Z/Af33z/fWQtySnzfPyOgm+FvD98/GKiMr+kT3z8XDfnVl6vfP5PSOZdlwt8/6d015pBK3z+CLmIEY7jfP4RPm4zSI+A/vBZJsfPZ3z/YxA1o3p3fP7AR4yZrwd8/C1WO6E8g4D+v6bQNOkPgP3wrc7GPaN8/wNc3c7x53z8usrKaaAngP+zyRK1goN8/4rnXKjB83z84csUfsSrfP9K9dmdQ3N4/1WYVMSkc3z/ZEqH0oNPeP3pFDG+sbd8/5MkY5sn63j86PGAgC8ffPyNF1vR1wt8/jXiAYRQc4D9UclZspiLgP04Pr/kC/d8/1s5/TrcW4D8XyIQg+MbfP9G1fVnS8N8/IqThu3fl3z8T7c+pF7PeP3gQXP5gH98/Dd1X9wPI3j+ruqzKG1XfP2V9gGCZB98/85jz4xwk3z8wIApbVuveP3fb7l3fgd4/ytA9/Fgl3j/uj3G+YbreP8rnGBN2jt4/Kvv4UJrP3j/BdnPa04beP1nsIMcOMd4/4YP93Ceb3j9PEPiIZMzdP5LGDl/xqd0/CP9EAh9W3j/27mkyIe/eP8YKVlO4E98/qfkDtqnK3j+JV2S0wJ/eP8XEkJAhRt8/6Riuj44X3z/3ynUhU3XfP3O+87QklN8/ZrqsBS1b3z99lurOmpbeP1DSdYnxwt4/JtZeSME/3j9zS8xEAoTeP1S28dysGd4/Qcgs3+hX3j+lBnh1JyPeP2L+XJNk3t0/LSSU94Dj3T/lOc2Z+ofdP7SXnA6WQt0/i/DMYFvQ3D+Pa8KkWFPcP4eFcpe5adw/6W95BFzU2z/84U07bTHcP0lUMsMrRtw/eFI0QwIj3D9qJj2KSIjbPyKcIngZ/ts/LU+YMxmU2z+Oel0GuLXbP6dJjCqBVts/+/NYqLMp2z+3XzGFLo/bP7hSvURi1ts/Sc1T+4NU2z8gyifnz8TbP1s6CWnocNo/AP7MthPH2j9gaWU1rxzaPwi5urGaDdo/3EPze8pc2T8yVCk8Xu3YP8XE8HMiXdk/dZjjUsi32D8JQtPVnnTZPxnsHKlGRdk/peds8LsQ2D8RTJZejirYP39SBWz2c9c/+5o4hxfj1T+nz8AUnOTVPx1nA1AqQdU/ZwwbAOeB1T+jHi2VOQ3VPxGlOfhZPtU/Bx3WuAIB1j91IFBFL8/VPxrDRxreJtY/Q7Mi8ITH1T80CY5RKznWP/hrkgpRjdU/8vxE+IFN1j9nDlXYSj/VP5y+OVgPOtU/WQVjc5Dx1D8AkUUjRvTUPy2V6fI9XNQ/HXoA+e3r0z/XzlxLA9PSP+HdYq04s9I/TthHRXf/0j8NOzviq7/SP+SLj0c5HNI/XJ+qY2Nc0j+CNS0m9yXSP7rSP88BY9E/p5k5uN650D+y1dN+vuTQPy7XTLMRQ9A/DCOeNPyX0D9+U1vLxrPPP6hA1iBfNc8/n5+q3OlTzz8YVUdoV43OPx9A6cNHk88/F+/ZxQFbzj9b0PH2UOTPP8pZLpWQFNA/a1mZA7fBzz/FGTbQ3KHQPy5mGa/aXNE/oaGvOdMC0T9DLf+8JFnRPxTac0+gNdE/znZXwvM/0T/Hy/c2yGfQP3tV/JPzC9E/ySoLR1Y40T/FnM8xEEXPP2bzJeZjQs8/xUQr4Fz1zT92tp+JkGfNPyLAH8ksd8w/+lWN0VEjzT9JtgWR+nHMP+ao3PwnCMw//fRD0cLczT8KYC0OLf3NP/uSKkC3TM0/WJu6WRfizT/KUZSm+1DNPzy2OwdsKs4/t8X4Fb06zT/6iJpxdyzOPxcrZvnKxs0/sWUMRfL+zj87fMPPJs/MP4PqXLn0P8w/tNNP21mlzD+KKKvoGnnLPyFL51//c8s/HNIZsclByj/4O198e7/KP9fXe/UM7cg/8DhpPoMTyT8KR88V2dzGP/fvZK9VH8c/iY8DL0GhyD8aDXEG3AjHPyx/Yhhr0MY/DbeyJQUFyD+jUq82EDvIPxM0cs8xjcc/hUBH4599xz/EE79Ht5rEP2/kCycE7cQ/aEmXIs6nwz9PJvU///nCPx5or3CoT8M/1H0MrmKKwj9aHU/b4NPCPzR+lJbp9MI/1w+ERidcwj/MisyTUxTBPz0Ws9cAacE/R2rAPnxJvj8I/6nbrfC9P4v79iUsBMA/I/6yofnSvT9s2s+hHsS8P4lUVK0P/rk/6cGHQRrHuT8gbPjEGTC7P5gKQulXcbs/m3O+QaMauT+0RujjLnO5P9A+E5dHILc/v1Ln3+lLtz+5nwBqv8O1P6PASAEeGbU/6O8HvKootj8JVvh3Blq1P/FC7z/6gbY/rZObwT6WtT/6QQ3F0bKyP95f1lEA/bI/Kd0gXCnisD/JUfxgzXCxP195qbMFmqw/dFaoB3/VqT/6dHijLj+tP3Iam5QqjKs/mw6JK+VirD9+5QKGQm6uP00m/d3MvK8/8MkDRcr+qz9parK17oGtP+u+pkUP66w/Rh1tbh+trD8t5GxVaZGvPyu1+7/9UK8/m5a+2PcLrT+q3jyRZhquP2MCsHVCfa4/lAaP5kCFqz9JgjkwfRyrP/6LgsI8tqc/WEZVgws+qD//zIJyqemkP//HqlOZkqQ/Shr/mR3doD/RFuO24hqePzYoxlk+IJ8//ELZKQxZoj9DLAVWmSWjPx56HybJNJ8/QMlUt7V1oz9C5bXQJzqgP808k/YOYaI/qZOaG3V1lj9bHrSZN8yWP7y7VCSjpY8/7Dtl/sD0jz9acS/28FaPP4W2avRs8Jg/LPWiUAPtlz8u8Tbr9bKPP5xY4AJh4JQ/jMM8aQP9ij+O/emFX9GMP/2kTxSBxIc/fdhuIgHckj/gs49xr1GRP93PGInZAZM/1ye7fhLpnT9B7z0IHeeiP2VhFfWSDqM/fuZFdFzKoT9AaBKUDXChP4IDVQnRdJw/Xtnu4czzlz+xBQUxj82cP6jM+dgWhp0/sbRV/HCDmj/Qpeksub+SPzNIk7bjyJE/DekdxN1GnT8v5qzwt1+RP8OXLbFdtZg/kEVKG83lnT+Wl35KJYmgPzzlIgepgJU/TfcsYi8ymj90g8DpsTSYP13xR9I5VaA/ksbuyGBUnT+/nghhYIuhP36JvK6UuaA/feVJj5bXoj9EnMxn4SygP8wWrWA8MaQ/SQM2IZ1xnz+I/pMhGcuiP2OlTKug76E/rJsTskbrnT8k3EFXNlihP5aWd19cbKc/aajqpeK6qD8gY/EKJlakPwDc4Hl7U6Y/ZLgffZdIpD8oraj9rNGmP1BFaYg8g58/5X6qloXblj9Y+RgW31eHP4E0ZMGcyZI/iqgkHQBNjD871SMCaE5yP+g0odeWlYE/ssJdK6axeD82eH+INt57P4vEKu6ksIw/Pt4lXJWQgz/C6PRnJY+IP5glJJQr6ZQ/BQBboWhYkT8uOGL2t1OXP5N+z4yCIJs/KRs3kpfOnT98MsctEj+NP7szZMIU95A/3G5qbm/Hlz++BPdcyyZzP88oDuxRDAE/9r5yXby5hT94VRE/SfVtP+GqIl7Wmns/8sIzx8DJdb+ibVRgpRBivz48hlIbpne/MgPt7tm9jL/MWKsQK1qTv7G0/Vzseny/8p0BH2UFg78MJgYzneF/v4OsQEPhNYC/honk9jVKWz9mXomql9Z6P1vAJnz1TGM/6n8FddqIhz9mHyZABRGYP7wBI0qfEow/6cULSZzLkD882cK637iCPxlXUlzJV34/08A6EEuVfj9Faph8/JFiv1vJsYKtVWA/fKDpzzT3Nz8MBY+ckzRiP/a+Y1tc4oc/XYIFUVpmiD9CuDHnnfdzP8tGawCdUIE/5+sSHkqiID+gA4Jjj+J6P/3o4/q+Uze/2mDtFoJRH79NzjmneTZ3P4HxjsWPcn4/D8q19S+ljT/7+sn4tO6aP9RUalH2658/HZZJ297blj+hsDNzFQWhPxgMhMiYf54/ZgTEy+MQpz9PzSPcdiqmP2Ss1usxe54/9WnC8jDCoD91//FL88mcPxj4Wkei65k/Pv17PX0CoD+l0z6PEbGjP8He4MPjhqQ/fd/xkrbjoz9lhsdvrCmhP92Sr1z9qKI/1bAATfrPoD8g95jtpqGkP+WsBkj/LaM/s41slxBuoz9Km7GQbjSmP9khq35KN6Y/9dFQpg8gqT8mxB6iOqKpP0EeDFOGTKU/Sz1t+cYlpj/iNwq/hl2iP1aT3j7bOaM/OGD3HL3ToT9usf0DW0ejP0bL+XglH6I/FWT1Ul+upT/HOdGoC4qjP+Ecy/82K6g/xui6muAhoz85b8N4y7elP+tIgLCtaaE//YqzEZhtoz8ggqq3rvObP3cu22hv1pY/TZj5o75rnD+YFTXyyTmcP9hcxljI9ps/bxYJWdPHpT8Mmh2sA8mkP3ARgtHV5aU/uk183kBCpj9SYTwSMOGhP8NdNHYom6Q/WADNzVqwoz87hSrEt7yjP6YC+EulYqA/Rygow2Kcnz8bQP1g7vWgP+EskCeeXqU/qMHWttwnqT8chXp6p76oP60gJJrHEa0/P6aXEVg5rT8M5L7PrW+wPzwCQxBlFLM/xQ0sRi9xsT+xXli/XYGzP+RpQ82O87E/vo7SUo1psj/Q6RbDZBuyP+6gcsXPAbA/jZJJsZHtrT+OI27hLSqtP0Vp6HnOALA/qhgdwSQMrj8pdvCXzYivP39E+L8gUq8/cIMmWr0ysj8TU+VtYjuyP5k3HzCETKw/IgjigH8vqj8l5YMWEJyqP8CCHs+m4a0/wGkf6AVJqj+hHVo4Ny6qP1lGVbCszq8/FXErH/GOsD/8Wdw8zHyvP8u6Zf4l8Kg/MXQIamhLrj98UOJegOWtP351NdkBVbA/LosKS560sD/QNOeRO4GvP5uP3K9WdLA/REdM7ciorT8AwsylDWSwPwRG/2mHorA/owzi8uFvrT/EkL5HkvGxP4KMqcmDlLI/4/wuhumDsT9dFW0vSoSwP1IkqXPFwqs/sNxdg+gaqT9oO6FfT2GrP1keNamoOLA/jJQbkOhwrz9fUAUI1zarP3pZjBrQmKg/wVCITddfpz9aDZltlxquP8qWnPWHWq4/tEbdLU5Epj/jAFQiOuelP6Lr18yJOKg/1zhZ1mQvpT+snq05EquoP80JVvtdMKc/IuDGHsRiqD9vG01b4MmiP91KiZLfs6M/oJcbr01Woj8C8RA6VVumP89RePhrLaY/82Tm/Gz2oz9TAJuJmQuiP2o2koZcPac/q5rfcvX+pj9jRJK3wgilPyc+nUUEraI/bNmnHbbYpz+41GHtRhOiP/K2CpaX+6I/FopkCqmWqD+sBylMo8SmP8rk6x2rj68/eZ5H2Aiqrz8EZIg6i8muPwM93d21LLA/IC2Gdq1krT8QT9pHKc2vP3etWjtQGa4/07piwqNyrz/lW5qcHIyqP7+r/NTgT6o/6Val2qjXrD/OqOiQeSyoP8hU93IsoZ0/TNosnkbBnz/4MdBAy0ekP6jEyH0WmaI/7RbLCCvJpj/ISgGjF36pP9cNydJE4aU/h6xbLN6Nqj9Dv7redIqqPx8DPw84nKw/31fqMcqMpz8foKKGTSOpP/G2I9r8Ga0/x26So14jrz/xh/+Na5OuP4+MYGlW0KY/0DtsE3baqD9aoHYDhJqnP2FyljKt8ag/ZGYKxwrvoj+hCE85Gk6kPz/8lxLJ0pY/ZW/XEnYonj/LQ3KFr7eaP5dHWVz3T58/GS+5DIYxmj/0bSy+mJyVP/ajYAj7tJU/59tLAQY2oj/Ea4yU4KCgPzD0a+KwIqI/PMdKq4tRoj8T2CIJ4TihP5fbUv9C46A/nW8c5WoLmj934ZeAPRidPzGegRK36J0/vF4A8UdSmj+gfXA7b2GXP+0G+BgmX6E/B8C4d1aooT+4VjGQI5GXPwEgMXUybJ4/X2ih8UT+mD+stH5pWU6gP/Zed5P9t5k/OBwgZ/7mnD+C5jTPJ8iZP77Ad9KEuZk/WtGwnSMeoD8fRmwj5YajP9CJmzHDTKU/YmHKNttpnz8dM1za8xmZP6x81hZYc5o/QBqoYZgBkj8AHyomfEySP+5J77CRt54/gAgsaFTenz+Y+s8wfcqbP0MlkyHMc6E/jprVibAbpz8gi3v05QGoP/lcboRot6Q/nmAVO3yLoz/HkJCbqgCcP3M+xtJyAZw/dxvzBuseoT+QYv8qsHydP5Skrubr8Z8/xYoeOtehmz/YrqCXz+ydP77FW9amfpk/bSXDA3Evoj/3y44I1aKgPz+9CwEhbJY/Ij5ek/dplj/sfhLLg2t8P2msaasA+XM/oBMyu5Dhbb8phrlp95STv9VcP8LIfJC/FeMvrFxJm79tBQDVdWOYv5sindaSkp2/AxN6BX17o79CQTpT3aaev1+vLatGMqO/AEPR3DOJn787vt6NJO6iv3BUdJDHkaW/zdckCYXBrr/kAoYq4NGuv6UnfHr0s6m/yEpCIQeXqL+cIb/p5T2tv8x9T2NBzqi/guVu9aJcp78qoC7Uwimfv49f2k6/b6C/3rmqZq2Wob8yBR7zlZmnv5Ean3TGZae/10zWsjT4q78YsV+PSdmqv8THdzG736e/18JgjPcto7+UeWtT4zOmv+CznIADKai/mYoMFnD6pb/P79QloCmpv34VwJ6jWae/RNenn3RPqL8aZFVQTj2qv3rje9Ocw6e/BEz9J8Tdqr/yRSe31JWpv2HHCkznr62/zhE+2xKXqL86dDUgazunv9jXkySvIaS/+6zlyeR4or/I8ac02qehv+HMo9Mjsqa/qU7b8BS9qb+ilEYM9omov9VOCPFmNqS/g21wN2SXo78EcX87NAOav0NCCD/vXaK/WurH3lH4mb/Qomfv85uBvz8jES0oMn+/YSQoYeV6e7/k9pL7tkuNv7jOsEBtY4m/wMhSYbLalr++QHk2VaeWvwK0ssw/3pC/cNwvJGRwkb/GztTYGs+gvyOqCWGa2KG/dLKVhqLkoL9zHKK+1Amkv2p6CZCl/aG/VePhC6MEpb+CazA8Sm+ov1j1xTZ22qu/GBdu4UPGq7+Smw8Edjqvv7GB4S5IKq+/Gm0elnycp78/qnblPZSlv7Lr+Ghnnqu/tQihNmMvrr+W40kpjVGov83pPXX5mqi/Or8/l+zfo7+SdvTMuMqjv6Du9+q3A6q/gZAQWs5Crb+t8yZvr+6uv+97PUcy2Ky/EiW+MsJysL+GVDq1kkiwv5NK93Skb62/3km3GhQGp79VG483w5qnv/YgigxwPay/Gt2lVBljqr8ejJoHbS6qvwHQbR4dyK+/+KO7udtXrr/F1PBjz9G0vwP0lqCx4LS/MDMIMixXtr8F2kBQ0nu0vwnMcmL+PLW/VB/N9lOQtL+gPwi+5bu0vybxOJgj2a+/AQoSwJ9FsL8RhcDlwSSrv2CfAXfmEKu/c3jNoP/Rrr9amcYp/D6ov6GHQW+8vaq/2upmkRr1pr9x3gcQjxuov/ukpnUTMqW/+z1tuHTXpb/Lr3+/21Siv68vMKVwMKK/Q0bm0ymkpb99q38qzS+lvwO3GQ/K+qW/Olmx3F5Lo785y1S+/Belv8vouTNyyqO/DUZBKvdHpb+WdVN87X2iv2S6VnzI4Jy/rTsqIMPtlr/8xNlLW7iXvw2y6KtBpJi/n7aXcZh1ob9s0EvqU56Wv7Mh8yOzUJ2/Aq+hSNTrm7/FoXy8J0ifv0xAC/x1DqG/nmbDfTismr/FwLx542qcv2rZja4fupa/CjuyjPKNmr8ickLN8pyiv/UJBgPS16G/HAPP4V0ao79yXeW/D+Cdv+/3ov+Aepu/Miup9dOaor8Kz1C/fnugv/CmofNl2qO/pEQd4PcDoL/Ig6G4Tryiv2+Q8+i9Ip2/mSRFrMGmn7/FVqfboOmav3xlZduRWZW/HkPRPpSFlL9+oFDm2iKSvz0rR2iK04u/jYH6vkHHcb+O4wrJiySGvxs/Z9D3Z4a/KCKx83jmkb+2fLH3C4uRv2XcSvED/IK/cIuFffvIh7/mZMbBdU6Bv7/2VRvlh4e/o4UpnEHOir8UQXsNMxOKv8QsnVA8EHa/MM6+kGkkhL8=",
        "encoding": "base64",
        "path": [
         "_data",
         1,
         "y",
         "value"
        ]
       },
       {
        "data": "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",
        "encoding": "base64",
        "path": [
         "_data",
         2,
         "y",
         "value"
        ]
       },
       {
        "data": "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",
        "encoding": "base64",
        "path": [
         "_data",
         3,
         "y",
         "value"
        ]
       },
       {
        "data": "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",
        "encoding": "base64",
        "path": [
         "_data",
         4,
         "y",
         "value"
        ]
       }
      ],
      "model_module": "jupyterlab-plotly",
      "model_module_version": "^5.6.0",
      "model_name": "FigureModel",
      "state": {
       "_config": {
        "plotlyServerURL": "https://plot.ly"
       },
       "_data": [
        {
         "name": "<b style=\"color:sandybrown\">[R]</b> Price <i style=\"color:#fc9944\">~6</i>",
         "type": "scattergl",
         "uid": "cfb454a4-8de3-41be-8889-5c6402e62ff3",
         "visible": true,
         "x": [
          0,
          4,
          7,
          14,
          21,
          26,
          32,
          37,
          47,
          55,
          61,
          66,
          70,
          78,
          86,
          91,
          93,
          102,
          110,
          115,
          122,
          127,
          131,
          137,
          145,
          150,
          154,
          161,
          169,
          178,
          181,
          186,
          195,
          202,
          205,
          213,
          217,
          227,
          230,
          238,
          242,
          249,
          254,
          259,
          269,
          273,
          277,
          286,
          294,
          300,
          304,
          311,
          318,
          325,
          331,
          333,
          343,
          348,
          352,
          357,
          367,
          370,
          379,
          385,
          393,
          397,
          404,
          409,
          415,
          419,
          430,
          436,
          439,
          449,
          455,
          456,
          465,
          472,
          476,
          483,
          487,
          493,
          504,
          506,
          514,
          518,
          525,
          532,
          536,
          543,
          550,
          559,
          565,
          572,
          577,
          580,
          587,
          595,
          603,
          609,
          614,
          618,
          624,
          628,
          634,
          646,
          649,
          656,
          661,
          666,
          671,
          679,
          685,
          692,
          701,
          702,
          711,
          714,
          724,
          732,
          736,
          744,
          749,
          756,
          762,
          767,
          772,
          780,
          784,
          791,
          796,
          804,
          809,
          815,
          822,
          827,
          836,
          839,
          844,
          855,
          859,
          862,
          871,
          874,
          883,
          887,
          893,
          901,
          910,
          914,
          920,
          927,
          935,
          938,
          946,
          948,
          958,
          962,
          969,
          976,
          982,
          990,
          995,
          1003,
          1005,
          1013,
          1017,
          1022,
          1033,
          1040,
          1045,
          1049,
          1053,
          1059,
          1069,
          1076,
          1083,
          1085,
          1092,
          1098,
          1104,
          1108,
          1115,
          1126,
          1130,
          1133,
          1144,
          1150,
          1152,
          1161,
          1168,
          1170,
          1180,
          1182,
          1189,
          1197,
          1206,
          1209,
          1218,
          1224,
          1229,
          1237,
          1243,
          1248,
          1251,
          1257,
          1262,
          1269,
          1277,
          1285,
          1288,
          1294,
          1301,
          1309,
          1313,
          1321,
          1327,
          1334,
          1341,
          1343,
          1348,
          1360,
          1361,
          1368,
          1378,
          1381,
          1389,
          1392,
          1400,
          1407,
          1415,
          1421,
          1425,
          1433,
          1439,
          1442,
          1452,
          1457,
          1461,
          1466,
          1472,
          1483,
          1485,
          1493,
          1497,
          1505,
          1511,
          1516,
          1525,
          1528,
          1537,
          1543,
          1547,
          1556,
          1558,
          1566,
          1570,
          1578,
          1582,
          1589,
          1600,
          1602,
          1609,
          1616,
          1624,
          1628,
          1631,
          1639,
          1649,
          1653,
          1658,
          1667,
          1671,
          1676,
          1685,
          1691,
          1694,
          1703,
          1709,
          1715,
          1720,
          1724,
          1731,
          1741,
          1744,
          1753,
          1756,
          1764,
          1769,
          1775,
          1780,
          1787,
          1793,
          1802,
          1806,
          1813,
          1820,
          1822,
          1831,
          1836,
          1844,
          1851,
          1857,
          1860,
          1869,
          1876,
          1883,
          1886,
          1890,
          1899,
          1904,
          1911,
          1916,
          1922,
          1932,
          1938,
          1943,
          1949,
          1951,
          1960,
          1968,
          1970,
          1979,
          1987,
          1990,
          1996,
          2004,
          2012,
          2017,
          2022,
          2025,
          2034,
          2043,
          2047,
          2052,
          2057,
          2065,
          2074,
          2080,
          2084,
          2087,
          2095,
          2103,
          2106,
          2113,
          2119,
          2129,
          2133,
          2138,
          2143,
          2152,
          2159,
          2163,
          2171,
          2173,
          2183,
          2186,
          2191,
          2201,
          2204,
          2212,
          2216,
          2222,
          2228,
          2237,
          2245,
          2249,
          2253,
          2259,
          2267,
          2276,
          2283,
          2284,
          2292,
          2296,
          2305,
          2310,
          2316,
          2323,
          2329,
          2335,
          2344,
          2345,
          2352,
          2360,
          2367,
          2371,
          2376,
          2384,
          2390,
          2398,
          2402,
          2407,
          2413,
          2422,
          2425,
          2431,
          2443,
          2447,
          2450,
          2457,
          2466,
          2468,
          2476,
          2482,
          2490,
          2493,
          2502,
          2505,
          2514,
          2523,
          2526,
          2530,
          2537,
          2543,
          2551,
          2556,
          2563,
          2568,
          2575,
          2579,
          2590,
          2592,
          2598,
          2605,
          2612,
          2620,
          2623,
          2629,
          2636,
          2646,
          2647,
          2654,
          2661,
          2669,
          2676,
          2680,
          2688,
          2691,
          2697,
          2703,
          2713,
          2717,
          2722,
          2731,
          2733,
          2742,
          2745,
          2754,
          2759,
          2764,
          2770,
          2778,
          2782,
          2793,
          2795,
          2804,
          2808,
          2816,
          2819,
          2827,
          2831,
          2841,
          2845,
          2850,
          2860,
          2862,
          2870,
          2876,
          2885,
          2892,
          2895,
          2901,
          2910,
          2914,
          2919,
          2928,
          2931,
          2937,
          2942,
          2954,
          2959,
          2961,
          2970,
          2978,
          2982,
          2988,
          2991,
          3003,
          3006,
          3010,
          3018,
          3024,
          3028,
          3038,
          3044,
          3049,
          3053,
          3062,
          3067,
          3072,
          3083,
          3089,
          3092,
          3101,
          3102,
          3112,
          3117,
          3123,
          3128,
          3135,
          3140,
          3147,
          3154,
          3159,
          3169,
          3171,
          3181,
          3182,
          3194,
          3196,
          3206,
          3210,
          3213,
          3223,
          3225,
          3234,
          3242,
          3244,
          3251,
          3258,
          3266,
          3268,
          3280,
          3281,
          3292,
          3297,
          3300,
          3306,
          3313,
          3318,
          3325,
          3334,
          3340,
          3342,
          3349,
          3358,
          3361,
          3367,
          3374,
          3381,
          3385,
          3392,
          3398,
          3408,
          3412,
          3419,
          3422,
          3429,
          3437,
          3441,
          3448,
          3457,
          3460,
          3470,
          3477,
          3479,
          3486,
          3493,
          3496,
          3507,
          3512,
          3517,
          3525,
          3528,
          3534,
          3543,
          3545,
          3554,
          3563,
          3566,
          3573,
          3578,
          3582,
          3588,
          3595,
          3605,
          3607,
          3617,
          3619,
          3627,
          3632,
          3641,
          3644,
          3651,
          3658,
          3667,
          3672,
          3676,
          3686,
          3687,
          3693,
          3699,
          3708,
          3712,
          3723,
          3727,
          3730,
          3738,
          3746,
          3748,
          3757,
          3766,
          3767,
          3778,
          3782,
          3785,
          3797,
          3803,
          3806,
          3813,
          3820,
          3822,
          3828,
          3838,
          3841,
          3851,
          3854,
          3859,
          3868,
          3873,
          3879,
          3886,
          3890,
          3900,
          3904,
          3908,
          3917,
          3925,
          3928,
          3935,
          3939,
          3947,
          3955,
          3963,
          3964,
          3973,
          3977,
          3982,
          3994,
          3995,
          4003,
          4009,
          4014,
          4020,
          4025,
          4036,
          4040,
          4048,
          4052,
          4057,
          4067,
          4068,
          4077,
          4084,
          4088,
          4097,
          4099,
          4111,
          4112,
          4122,
          4127,
          4132,
          4136,
          4143,
          4152,
          4156,
          4166,
          4168,
          4177,
          4179,
          4188,
          4192,
          4200,
          4206,
          4212,
          4216,
          4223,
          4233,
          4236,
          4241,
          4252,
          4255,
          4263,
          4265,
          4272,
          4283,
          4284,
          4294,
          4297,
          4302,
          4311,
          4316,
          4324,
          4328,
          4333,
          4339,
          4349,
          4355,
          4360,
          4368,
          4373,
          4378,
          4385,
          4394,
          4397,
          4404,
          4407,
          4415,
          4421,
          4427,
          4437,
          4439,
          4446,
          4450,
          4460,
          4463,
          4470,
          4480,
          4483,
          4490,
          4493,
          4503,
          4509,
          4512,
          4521,
          4528,
          4531,
          4539,
          4544,
          4550,
          4559,
          4561,
          4569,
          4574,
          4584,
          4590,
          4595,
          4603,
          4605,
          4614,
          4620,
          4624,
          4634,
          4638,
          4641,
          4651,
          4653,
          4660,
          4671,
          4673,
          4679,
          4687,
          4694,
          4701,
          4702,
          4712,
          4718,
          4723,
          4730,
          4735,
          4739,
          4745,
          4754,
          4763,
          4768,
          4772,
          4777,
          4784,
          4793,
          4795,
          4804,
          4807,
          4815,
          4824,
          4825,
          4836,
          4843,
          4844,
          4854,
          4858,
          4866,
          4871,
          4879,
          4881,
          4892,
          4894,
          4899,
          4905,
          4914,
          4918,
          4927,
          4932,
          4937,
          4944,
          4953,
          4959,
          4962,
          4968,
          4976,
          4984,
          4988,
          4992,
          5002,
          5005,
          5012,
          5020,
          5024,
          5032,
          5037,
          5042,
          5051,
          5054,
          5061,
          5065,
          5072,
          5080,
          5089,
          5091,
          5098,
          5102,
          5110,
          5117,
          5124,
          5128,
          5134,
          5143,
          5148,
          5153,
          5158,
          5167,
          5171,
          5181,
          5185,
          5192,
          5195,
          5203,
          5210,
          5213,
          5219,
          5228,
          5234,
          5238,
          5244,
          5250,
          5261,
          5262,
          5274,
          5279,
          5284,
          5287,
          5295,
          5299,
          5311,
          5312,
          5318,
          5327,
          5334,
          5340,
          5342,
          5354,
          5358,
          5364,
          5370,
          5378,
          5385,
          5386,
          5396,
          5400,
          5407,
          5412,
          5418,
          5423,
          5432,
          5437,
          5446,
          5447,
          5458,
          5462,
          5466,
          5476,
          5478,
          5484,
          5490,
          5496,
          5502,
          5511,
          5519,
          5523,
          5532,
          5535,
          5541,
          5550,
          5553,
          5563,
          5564,
          5572,
          5577,
          5586,
          5591,
          5597,
          5604,
          5607,
          5614,
          5621,
          5631,
          5632,
          5640,
          5644,
          5652,
          5656,
          5665,
          5669,
          5675,
          5682,
          5690,
          5695,
          5702,
          5707,
          5714,
          5718,
          5725,
          5731,
          5738,
          5743,
          5750,
          5755,
          5761,
          5767,
          5778,
          5780,
          5786,
          5797,
          5799,
          5805,
          5815,
          5819,
          5822,
          5830,
          5838,
          5841,
          5851,
          5853,
          5859,
          5870,
          5875,
          5879,
          5887,
          5892,
          5897,
          5905,
          5913,
          5919,
          5921,
          5927,
          5934,
          5941,
          5948,
          5955,
          5961,
          5965,
          5970,
          5979,
          5986,
          5991,
          5997,
          6001,
          6010,
          6014,
          6022,
          6026,
          6035,
          6040,
          6045,
          6055,
          6058,
          6062,
          6073,
          6076,
          6081,
          6087,
          6097,
          6100,
          6106,
          6113,
          6119,
          6124,
          6130,
          6141,
          6143
         ],
         "xaxis": "x2",
         "y": {
          "dtype": "float64",
          "shape": [
           1000
          ]
         }
        },
        {
         "name": "<b style=\"color:sandybrown\">[R]</b> HurstDSOD <i style=\"color:#fc9944\">~6</i>",
         "type": "scattergl",
         "uid": "79c6d8e6-0a5e-4b0f-abb6-e2f873c427a0",
         "visible": true,
         "x": [
          0,
          6,
          12,
          18,
          24,
          30,
          36,
          43,
          49,
          55,
          61,
          67,
          73,
          80,
          86,
          92,
          98,
          104,
          110,
          116,
          123,
          129,
          135,
          141,
          147,
          153,
          160,
          166,
          172,
          178,
          184,
          190,
          196,
          203,
          209,
          215,
          221,
          227,
          233,
          240,
          246,
          252,
          258,
          264,
          270,
          276,
          283,
          289,
          295,
          301,
          307,
          313,
          320,
          326,
          332,
          338,
          344,
          350,
          356,
          363,
          369,
          375,
          381,
          387,
          393,
          400,
          406,
          412,
          418,
          424,
          430,
          436,
          443,
          449,
          455,
          461,
          467,
          473,
          480,
          486,
          492,
          498,
          504,
          510,
          516,
          523,
          529,
          535,
          541,
          547,
          553,
          560,
          566,
          572,
          578,
          584,
          590,
          596,
          603,
          609,
          615,
          621,
          627,
          633,
          640,
          646,
          652,
          658,
          664,
          670,
          676,
          683,
          689,
          695,
          701,
          707,
          713,
          720,
          726,
          732,
          738,
          744,
          750,
          756,
          763,
          769,
          775,
          781,
          787,
          793,
          800,
          806,
          812,
          818,
          824,
          830,
          836,
          843,
          849,
          855,
          861,
          867,
          873,
          880,
          886,
          892,
          898,
          904,
          910,
          916,
          923,
          929,
          935,
          941,
          947,
          953,
          960,
          966,
          972,
          978,
          984,
          990,
          996,
          1003,
          1009,
          1015,
          1021,
          1025,
          1030,
          1040,
          1044,
          1051,
          1057,
          1063,
          1066,
          1072,
          1080,
          1086,
          1094,
          1097,
          1106,
          1110,
          1119,
          1123,
          1132,
          1137,
          1141,
          1146,
          1157,
          1160,
          1167,
          1174,
          1180,
          1184,
          1191,
          1199,
          1205,
          1211,
          1216,
          1220,
          1225,
          1232,
          1242,
          1247,
          1252,
          1260,
          1263,
          1271,
          1275,
          1284,
          1291,
          1294,
          1302,
          1306,
          1312,
          1320,
          1329,
          1333,
          1341,
          1345,
          1352,
          1360,
          1366,
          1369,
          1374,
          1381,
          1389,
          1394,
          1401,
          1405,
          1415,
          1416,
          1424,
          1428,
          1438,
          1443,
          1448,
          1453,
          1460,
          1465,
          1474,
          1480,
          1487,
          1493,
          1499,
          1505,
          1510,
          1514,
          1521,
          1527,
          1533,
          1544,
          1549,
          1551,
          1561,
          1565,
          1572,
          1580,
          1585,
          1591,
          1599,
          1604,
          1608,
          1614,
          1624,
          1626,
          1636,
          1639,
          1646,
          1652,
          1656,
          1664,
          1669,
          1676,
          1682,
          1688,
          1695,
          1699,
          1705,
          1713,
          1723,
          1727,
          1731,
          1738,
          1746,
          1753,
          1755,
          1762,
          1771,
          1776,
          1781,
          1788,
          1791,
          1800,
          1805,
          1815,
          1818,
          1823,
          1833,
          1840,
          1846,
          1848,
          1857,
          1861,
          1865,
          1877,
          1880,
          1885,
          1891,
          1896,
          1902,
          1909,
          1914,
          1925,
          1928,
          1933,
          1944,
          1946,
          1951,
          1962,
          1966,
          1970,
          1976,
          1982,
          1992,
          1998,
          2002,
          2012,
          2016,
          2020,
          2027,
          2031,
          2043,
          2049,
          2053,
          2057,
          2064,
          2071,
          2080,
          2083,
          2089,
          2094,
          2099,
          2109,
          2113,
          2118,
          2125,
          2132,
          2137,
          2146,
          2149,
          2156,
          2165,
          2171,
          2177,
          2183,
          2186,
          2192,
          2202,
          2209,
          2215,
          2219,
          2227,
          2230,
          2240,
          2242,
          2252,
          2256,
          2260,
          2268,
          2276,
          2283,
          2288,
          2294,
          2296,
          2307,
          2308,
          2318,
          2323,
          2328,
          2337,
          2344,
          2346,
          2357,
          2359,
          2366,
          2370,
          2376,
          2384,
          2393,
          2398,
          2405,
          2407,
          2417,
          2423,
          2427,
          2434,
          2442,
          2446,
          2452,
          2460,
          2467,
          2472,
          2475,
          2483,
          2492,
          2495,
          2499,
          2509,
          2512,
          2522,
          2528,
          2535,
          2537,
          2544,
          2553,
          2559,
          2563,
          2570,
          2573,
          2580,
          2590,
          2592,
          2598,
          2607,
          2612,
          2617,
          2627,
          2631,
          2636,
          2642,
          2648,
          2654,
          2664,
          2665,
          2671,
          2681,
          2688,
          2693,
          2696,
          2706,
          2708,
          2719,
          2722,
          2732,
          2733,
          2743,
          2747,
          2756,
          2761,
          2764,
          2773,
          2781,
          2786,
          2790,
          2795,
          2804,
          2811,
          2817,
          2822,
          2825,
          2836,
          2840,
          2847,
          2854,
          2860,
          2866,
          2873,
          2879,
          2883,
          2887,
          2897,
          2900,
          2910,
          2916,
          2918,
          2925,
          2933,
          2936,
          2947,
          2948,
          2958,
          2965,
          2969,
          2973,
          2982,
          2986,
          2993,
          2998,
          3005,
          3014,
          3020,
          3025,
          3030,
          3038,
          3042,
          3047,
          3053,
          3064,
          3068,
          3074,
          3080,
          3084,
          3093,
          3100,
          3104,
          3110,
          3117,
          3126,
          3130,
          3138,
          3140,
          3148,
          3155,
          3162,
          3169,
          3173,
          3180,
          3185,
          3194,
          3197,
          3202,
          3211,
          3215,
          3221,
          3228,
          3236,
          3241,
          3247,
          3254,
          3259,
          3263,
          3274,
          3277,
          3282,
          3287,
          3293,
          3299,
          3306,
          3317,
          3321,
          3324,
          3335,
          3338,
          3344,
          3349,
          3360,
          3364,
          3370,
          3374,
          3380,
          3387,
          3397,
          3400,
          3407,
          3413,
          3420,
          3424,
          3428,
          3437,
          3441,
          3451,
          3456,
          3462,
          3468,
          3473,
          3480,
          3486,
          3491,
          3498,
          3503,
          3514,
          3516,
          3523,
          3527,
          3534,
          3539,
          3546,
          3556,
          3561,
          3564,
          3574,
          3580,
          3587,
          3590,
          3596,
          3602,
          3610,
          3613,
          3622,
          3629,
          3633,
          3638,
          3648,
          3650,
          3659,
          3664,
          3668,
          3678,
          3685,
          3692,
          3698,
          3700,
          3709,
          3714,
          3720,
          3727,
          3730,
          3739,
          3747,
          3752,
          3757,
          3761,
          3772,
          3776,
          3782,
          3788,
          3792,
          3803,
          3807,
          3812,
          3816,
          3823,
          3833,
          3838,
          3841,
          3851,
          3856,
          3859,
          3865,
          3875,
          3879,
          3889,
          3894,
          3897,
          3903,
          3913,
          3919,
          3925,
          3931,
          3933,
          3941,
          3948,
          3955,
          3963,
          3967,
          3970,
          3977,
          3982,
          3989,
          3999,
          4003,
          4007,
          4013,
          4023,
          4025,
          4037,
          4041,
          4045,
          4055,
          4056,
          4066,
          4070,
          4075,
          4084,
          4087,
          4096,
          4100,
          4106,
          4114,
          4118,
          4125,
          4134,
          4141,
          4145,
          4149,
          4155,
          4162,
          4168,
          4178,
          4182,
          4189,
          4192,
          4202,
          4205,
          4210,
          4218,
          4224,
          4233,
          4240,
          4245,
          4249,
          4256,
          4260,
          4270,
          4274,
          4278,
          4285,
          4290,
          4300,
          4304,
          4314,
          4318,
          4323,
          4327,
          4336,
          4342,
          4350,
          4352,
          4360,
          4366,
          4371,
          4381,
          4385,
          4394,
          4399,
          4406,
          4409,
          4416,
          4422,
          4430,
          4432,
          4441,
          4445,
          4450,
          4457,
          4464,
          4470,
          4477,
          4483,
          4489,
          4496,
          4501,
          4507,
          4512,
          4522,
          4526,
          4533,
          4536,
          4544,
          4550,
          4558,
          4561,
          4570,
          4576,
          4579,
          4585,
          4592,
          4598,
          4604,
          4611,
          4620,
          4626,
          4631,
          4638,
          4642,
          4651,
          4656,
          4663,
          4667,
          4676,
          4679,
          4688,
          4695,
          4699,
          4708,
          4714,
          4718,
          4726,
          4728,
          4733,
          4739,
          4747,
          4755,
          4760,
          4767,
          4773,
          4781,
          4788,
          4790,
          4795,
          4806,
          4809,
          4813,
          4824,
          4826,
          4833,
          4838,
          4847,
          4852,
          4857,
          4867,
          4871,
          4878,
          4886,
          4889,
          4893,
          4901,
          4907,
          4912,
          4918,
          4929,
          4930,
          4939,
          4948,
          4951,
          4960,
          4965,
          4969,
          4974,
          4980,
          4985,
          4997,
          4998,
          5007,
          5014,
          5018,
          5023,
          5029,
          5035,
          5044,
          5050,
          5055,
          5063,
          5071,
          5076,
          5081,
          5086,
          5095,
          5099,
          5104,
          5109,
          5115,
          5122,
          5131,
          5137,
          5141,
          5146,
          5157,
          5158,
          5165,
          5171,
          5176,
          5182,
          5191,
          5198,
          5205,
          5209,
          5215,
          5224,
          5230,
          5235,
          5239,
          5245,
          5254,
          5258,
          5264,
          5273,
          5277,
          5286,
          5292,
          5295,
          5300,
          5311,
          5315,
          5321,
          5329,
          5330,
          5338,
          5343,
          5349,
          5357,
          5362,
          5367,
          5374,
          5379,
          5391,
          5392,
          5398,
          5407,
          5414,
          5418,
          5423,
          5431,
          5437,
          5442,
          5451,
          5458,
          5460,
          5470,
          5475,
          5480,
          5485,
          5491,
          5499,
          5505,
          5513,
          5515,
          5525,
          5527,
          5537,
          5539,
          5548,
          5557,
          5562,
          5566,
          5575,
          5577,
          5583,
          5590,
          5600,
          5603,
          5611,
          5613,
          5619,
          5627,
          5636,
          5643,
          5646,
          5653,
          5660,
          5664,
          5672,
          5678,
          5686,
          5690,
          5695,
          5703,
          5709,
          5715,
          5720,
          5725,
          5734,
          5736,
          5747,
          5754,
          5758,
          5763,
          5768,
          5776,
          5781,
          5787,
          5792,
          5802,
          5805,
          5811,
          5819,
          5828,
          5832,
          5839,
          5846,
          5849,
          5856,
          5863,
          5868,
          5875,
          5879,
          5886,
          5895,
          5898,
          5905,
          5913,
          5918,
          5924,
          5929,
          5936,
          5944,
          5951,
          5954,
          5960,
          5968,
          5971,
          5981,
          5985,
          5991,
          5998,
          6002,
          6010,
          6015,
          6024,
          6031,
          6037,
          6040,
          6048,
          6054,
          6061,
          6062,
          6070,
          6075,
          6084,
          6090,
          6096,
          6105,
          6109,
          6112,
          6120,
          6124,
          6131,
          6141,
          6143
         ],
         "xaxis": "x2",
         "y": {
          "dtype": "float64",
          "shape": [
           1000
          ]
         },
         "yaxis": "y3"
        },
        {
         "name": "<b style=\"color:sandybrown\">[R]</b> hurstSeries <i style=\"color:#fc9944\">~6</i>",
         "type": "scattergl",
         "uid": "ce6bed42-47e0-43ff-90b3-87e9d581d7a7",
         "visible": "legendonly",
         "x": [
          0,
          1,
          7,
          13,
          19,
          25,
          31,
          37,
          44,
          50,
          56,
          62,
          68,
          74,
          81,
          87,
          93,
          99,
          105,
          111,
          117,
          124,
          130,
          136,
          142,
          148,
          154,
          161,
          167,
          173,
          179,
          185,
          191,
          197,
          204,
          210,
          216,
          222,
          228,
          234,
          241,
          247,
          253,
          259,
          265,
          271,
          277,
          284,
          290,
          296,
          302,
          308,
          314,
          321,
          327,
          333,
          339,
          345,
          351,
          357,
          364,
          370,
          376,
          382,
          388,
          394,
          401,
          407,
          413,
          419,
          425,
          431,
          437,
          444,
          450,
          456,
          462,
          468,
          474,
          481,
          487,
          493,
          499,
          505,
          511,
          517,
          524,
          530,
          536,
          542,
          548,
          554,
          561,
          567,
          573,
          579,
          585,
          591,
          597,
          604,
          610,
          616,
          622,
          628,
          634,
          641,
          647,
          653,
          659,
          665,
          671,
          677,
          684,
          690,
          696,
          702,
          708,
          714,
          721,
          727,
          733,
          739,
          745,
          751,
          757,
          764,
          770,
          776,
          782,
          788,
          794,
          801,
          807,
          813,
          819,
          825,
          831,
          837,
          844,
          850,
          856,
          862,
          868,
          874,
          881,
          887,
          893,
          899,
          905,
          911,
          917,
          924,
          930,
          936,
          942,
          948,
          954,
          961,
          967,
          973,
          979,
          985,
          991,
          997,
          1004,
          1010,
          1021,
          1027,
          1030,
          1040,
          1045,
          1051,
          1057,
          1060,
          1069,
          1077,
          1082,
          1088,
          1091,
          1101,
          1104,
          1109,
          1115,
          1123,
          1130,
          1138,
          1144,
          1148,
          1156,
          1160,
          1168,
          1175,
          1181,
          1187,
          1190,
          1198,
          1201,
          1207,
          1214,
          1220,
          1230,
          1235,
          1240,
          1249,
          1254,
          1260,
          1265,
          1270,
          1278,
          1282,
          1289,
          1297,
          1303,
          1310,
          1317,
          1320,
          1328,
          1335,
          1339,
          1342,
          1350,
          1354,
          1361,
          1368,
          1378,
          1383,
          1385,
          1394,
          1400,
          1409,
          1414,
          1418,
          1422,
          1428,
          1436,
          1444,
          1451,
          1458,
          1460,
          1466,
          1476,
          1481,
          1489,
          1493,
          1496,
          1502,
          1508,
          1518,
          1526,
          1532,
          1536,
          1543,
          1547,
          1555,
          1560,
          1568,
          1572,
          1579,
          1585,
          1592,
          1598,
          1606,
          1611,
          1614,
          1622,
          1630,
          1633,
          1639,
          1645,
          1654,
          1658,
          1662,
          1670,
          1677,
          1684,
          1692,
          1697,
          1701,
          1708,
          1713,
          1722,
          1726,
          1734,
          1740,
          1744,
          1748,
          1755,
          1766,
          1770,
          1773,
          1782,
          1788,
          1794,
          1798,
          1809,
          1815,
          1817,
          1825,
          1828,
          1837,
          1841,
          1852,
          1857,
          1861,
          1865,
          1874,
          1881,
          1889,
          1894,
          1901,
          1905,
          1911,
          1916,
          1922,
          1932,
          1936,
          1942,
          1949,
          1954,
          1960,
          1965,
          1970,
          1977,
          1984,
          1990,
          1998,
          2005,
          2012,
          2013,
          2022,
          2026,
          2035,
          2042,
          2048,
          2052,
          2059,
          2067,
          2071,
          2079,
          2083,
          2090,
          2095,
          2101,
          2108,
          2112,
          2118,
          2128,
          2135,
          2140,
          2147,
          2151,
          2156,
          2161,
          2168,
          2176,
          2181,
          2190,
          2195,
          2200,
          2209,
          2213,
          2218,
          2227,
          2232,
          2240,
          2246,
          2250,
          2257,
          2264,
          2270,
          2274,
          2282,
          2289,
          2294,
          2298,
          2307,
          2310,
          2315,
          2322,
          2331,
          2338,
          2344,
          2350,
          2355,
          2362,
          2367,
          2370,
          2380,
          2385,
          2390,
          2397,
          2406,
          2412,
          2418,
          2420,
          2428,
          2437,
          2443,
          2446,
          2454,
          2460,
          2464,
          2474,
          2480,
          2484,
          2492,
          2498,
          2501,
          2508,
          2515,
          2518,
          2525,
          2532,
          2541,
          2547,
          2552,
          2560,
          2566,
          2569,
          2575,
          2581,
          2590,
          2596,
          2600,
          2607,
          2614,
          2620,
          2625,
          2631,
          2637,
          2645,
          2649,
          2657,
          2662,
          2669,
          2674,
          2678,
          2688,
          2693,
          2696,
          2707,
          2713,
          2716,
          2725,
          2731,
          2737,
          2741,
          2747,
          2756,
          2762,
          2766,
          2771,
          2776,
          2783,
          2789,
          2800,
          2806,
          2808,
          2816,
          2823,
          2828,
          2833,
          2840,
          2849,
          2854,
          2859,
          2866,
          2873,
          2876,
          2883,
          2888,
          2897,
          2903,
          2910,
          2913,
          2923,
          2927,
          2935,
          2941,
          2945,
          2952,
          2958,
          2963,
          2969,
          2976,
          2982,
          2988,
          2995,
          3003,
          3009,
          3011,
          3021,
          3022,
          3032,
          3036,
          3041,
          3047,
          3056,
          3059,
          3065,
          3077,
          3082,
          3088,
          3091,
          3097,
          3105,
          3113,
          3116,
          3123,
          3129,
          3133,
          3143,
          3151,
          3156,
          3158,
          3168,
          3173,
          3178,
          3182,
          3188,
          3196,
          3201,
          3207,
          3215,
          3221,
          3226,
          3234,
          3238,
          3245,
          3252,
          3259,
          3267,
          3272,
          3280,
          3284,
          3291,
          3296,
          3301,
          3310,
          3315,
          3318,
          3329,
          3330,
          3339,
          3342,
          3350,
          3356,
          3361,
          3368,
          3375,
          3379,
          3387,
          3393,
          3398,
          3409,
          3414,
          3420,
          3425,
          3434,
          3438,
          3444,
          3448,
          3457,
          3463,
          3470,
          3475,
          3480,
          3485,
          3490,
          3498,
          3502,
          3514,
          3517,
          3525,
          3529,
          3536,
          3544,
          3551,
          3555,
          3563,
          3568,
          3572,
          3579,
          3586,
          3592,
          3597,
          3604,
          3611,
          3615,
          3623,
          3629,
          3633,
          3638,
          3645,
          3652,
          3660,
          3665,
          3674,
          3680,
          3685,
          3692,
          3698,
          3703,
          3710,
          3714,
          3723,
          3729,
          3734,
          3740,
          3747,
          3749,
          3756,
          3761,
          3769,
          3773,
          3784,
          3785,
          3796,
          3802,
          3805,
          3814,
          3819,
          3824,
          3831,
          3840,
          3843,
          3849,
          3856,
          3862,
          3869,
          3877,
          3882,
          3889,
          3895,
          3900,
          3903,
          3914,
          3920,
          3924,
          3927,
          3935,
          3944,
          3951,
          3956,
          3963,
          3964,
          3970,
          3977,
          3984,
          3992,
          3998,
          4004,
          4010,
          4014,
          4020,
          4027,
          4032,
          4040,
          4045,
          4055,
          4061,
          4065,
          4072,
          4077,
          4086,
          4089,
          4096,
          4100,
          4108,
          4114,
          4118,
          4126,
          4135,
          4136,
          4148,
          4154,
          4159,
          4163,
          4167,
          4177,
          4184,
          4190,
          4196,
          4199,
          4206,
          4212,
          4216,
          4228,
          4232,
          4235,
          4243,
          4250,
          4258,
          4263,
          4267,
          4276,
          4283,
          4289,
          4295,
          4300,
          4304,
          4311,
          4318,
          4326,
          4332,
          4337,
          4343,
          4348,
          4354,
          4362,
          4368,
          4372,
          4377,
          4385,
          4392,
          4397,
          4404,
          4407,
          4415,
          4421,
          4425,
          4432,
          4438,
          4449,
          4453,
          4458,
          4466,
          4471,
          4476,
          4481,
          4489,
          4497,
          4502,
          4510,
          4514,
          4518,
          4524,
          4535,
          4538,
          4543,
          4549,
          4558,
          4565,
          4567,
          4573,
          4581,
          4588,
          4593,
          4602,
          4604,
          4613,
          4619,
          4623,
          4629,
          4639,
          4646,
          4651,
          4658,
          4661,
          4671,
          4677,
          4679,
          4685,
          4693,
          4699,
          4706,
          4712,
          4717,
          4722,
          4729,
          4736,
          4739,
          4747,
          4752,
          4761,
          4766,
          4771,
          4779,
          4785,
          4791,
          4795,
          4805,
          4811,
          4815,
          4819,
          4831,
          4834,
          4843,
          4845,
          4850,
          4861,
          4862,
          4869,
          4875,
          4885,
          4892,
          4897,
          4903,
          4906,
          4913,
          4919,
          4928,
          4932,
          4937,
          4946,
          4952,
          4959,
          4965,
          4968,
          4975,
          4979,
          4985,
          4994,
          4999,
          5009,
          5015,
          5018,
          5023,
          5030,
          5038,
          5042,
          5050,
          5057,
          5063,
          5066,
          5072,
          5081,
          5089,
          5094,
          5097,
          5106,
          5109,
          5115,
          5123,
          5128,
          5138,
          5140,
          5150,
          5156,
          5163,
          5165,
          5171,
          5179,
          5184,
          5190,
          5198,
          5206,
          5211,
          5213,
          5223,
          5231,
          5234,
          5240,
          5248,
          5255,
          5261,
          5262,
          5273,
          5277,
          5281,
          5287,
          5293,
          5299,
          5311,
          5317,
          5322,
          5325,
          5332,
          5338,
          5346,
          5349,
          5357,
          5364,
          5371,
          5375,
          5380,
          5388,
          5395,
          5400,
          5409,
          5414,
          5420,
          5427,
          5433,
          5436,
          5442,
          5452,
          5458,
          5465,
          5471,
          5474,
          5481,
          5487,
          5490,
          5500,
          5506,
          5510,
          5518,
          5525,
          5529,
          5538,
          5541,
          5547,
          5557,
          5561,
          5565,
          5572,
          5580,
          5582,
          5589,
          5600,
          5605,
          5612,
          5618,
          5624,
          5626,
          5633,
          5638,
          5644,
          5655,
          5661,
          5665,
          5671,
          5679,
          5682,
          5687,
          5695,
          5703,
          5710,
          5713,
          5723,
          5729,
          5735,
          5741,
          5746,
          5752,
          5755,
          5762,
          5769,
          5773,
          5779,
          5786,
          5795,
          5800,
          5805,
          5810,
          5819,
          5827,
          5830,
          5838,
          5843,
          5847,
          5853,
          5862,
          5866,
          5872,
          5878,
          5889,
          5894,
          5897,
          5902,
          5914,
          5920,
          5923,
          5929,
          5934,
          5941,
          5951,
          5957,
          5961,
          5964,
          5970,
          5980,
          5982,
          5994,
          5997,
          6001,
          6008,
          6013,
          6019,
          6028,
          6036,
          6041,
          6049,
          6052,
          6061,
          6065,
          6070,
          6078,
          6082,
          6087,
          6098,
          6101,
          6108,
          6112,
          6120,
          6124,
          6131,
          6136,
          6143
         ],
         "xaxis": "x2",
         "y": {
          "dtype": "float64",
          "shape": [
           1000
          ]
         },
         "yaxis": "y3"
        },
        {
         "name": "<b style=\"color:sandybrown\">[R]</b> HurstRS <i style=\"color:#fc9944\">~6</i>",
         "type": "scattergl",
         "uid": "04dd78f3-4897-407f-af5e-3077c5dcd143",
         "visible": "legendonly",
         "x": [
          0,
          1,
          7,
          13,
          19,
          25,
          31,
          37,
          44,
          50,
          56,
          62,
          68,
          74,
          81,
          87,
          93,
          99,
          105,
          111,
          117,
          124,
          130,
          136,
          142,
          148,
          154,
          161,
          167,
          173,
          179,
          185,
          191,
          197,
          204,
          210,
          216,
          222,
          228,
          234,
          241,
          247,
          253,
          259,
          265,
          271,
          277,
          284,
          290,
          296,
          302,
          308,
          314,
          321,
          327,
          333,
          339,
          345,
          351,
          357,
          364,
          370,
          376,
          382,
          388,
          394,
          401,
          407,
          413,
          419,
          425,
          431,
          437,
          444,
          450,
          456,
          462,
          468,
          474,
          481,
          487,
          493,
          499,
          505,
          511,
          517,
          524,
          530,
          536,
          542,
          548,
          554,
          561,
          567,
          573,
          579,
          585,
          591,
          597,
          604,
          610,
          616,
          622,
          628,
          634,
          641,
          647,
          653,
          659,
          665,
          671,
          677,
          684,
          690,
          696,
          702,
          708,
          714,
          721,
          727,
          733,
          739,
          745,
          751,
          757,
          764,
          770,
          776,
          782,
          788,
          794,
          801,
          807,
          813,
          819,
          825,
          831,
          837,
          844,
          850,
          856,
          862,
          868,
          874,
          881,
          887,
          893,
          899,
          905,
          911,
          917,
          924,
          930,
          936,
          942,
          948,
          954,
          961,
          967,
          973,
          979,
          985,
          991,
          997,
          1004,
          1010,
          1021,
          1025,
          1030,
          1036,
          1041,
          1050,
          1058,
          1062,
          1067,
          1071,
          1078,
          1086,
          1091,
          1101,
          1104,
          1109,
          1118,
          1124,
          1131,
          1135,
          1140,
          1149,
          1151,
          1159,
          1166,
          1171,
          1177,
          1183,
          1190,
          1195,
          1201,
          1207,
          1213,
          1224,
          1230,
          1234,
          1241,
          1244,
          1254,
          1259,
          1262,
          1270,
          1275,
          1285,
          1290,
          1294,
          1304,
          1310,
          1311,
          1318,
          1324,
          1334,
          1340,
          1342,
          1349,
          1355,
          1363,
          1369,
          1378,
          1381,
          1389,
          1391,
          1398,
          1407,
          1411,
          1421,
          1423,
          1429,
          1437,
          1444,
          1449,
          1453,
          1464,
          1470,
          1471,
          1483,
          1485,
          1494,
          1499,
          1504,
          1509,
          1514,
          1524,
          1529,
          1533,
          1544,
          1545,
          1557,
          1563,
          1565,
          1571,
          1577,
          1583,
          1589,
          1595,
          1601,
          1609,
          1615,
          1619,
          1625,
          1631,
          1643,
          1649,
          1651,
          1657,
          1664,
          1669,
          1675,
          1686,
          1691,
          1693,
          1704,
          1710,
          1715,
          1721,
          1724,
          1733,
          1736,
          1747,
          1749,
          1755,
          1763,
          1769,
          1774,
          1783,
          1787,
          1797,
          1803,
          1805,
          1811,
          1821,
          1827,
          1829,
          1834,
          1842,
          1849,
          1857,
          1864,
          1865,
          1871,
          1882,
          1885,
          1893,
          1901,
          1904,
          1909,
          1916,
          1924,
          1927,
          1933,
          1944,
          1945,
          1957,
          1963,
          1964,
          1973,
          1981,
          1984,
          1989,
          1994,
          2004,
          2009,
          2013,
          2024,
          2029,
          2034,
          2038,
          2044,
          2053,
          2061,
          2064,
          2069,
          2077,
          2084,
          2087,
          2098,
          2104,
          2109,
          2114,
          2118,
          2124,
          2133,
          2136,
          2144,
          2149,
          2157,
          2164,
          2167,
          2176,
          2184,
          2185,
          2197,
          2200,
          2204,
          2213,
          2218,
          2224,
          2229,
          2237,
          2244,
          2247,
          2254,
          2264,
          2267,
          2277,
          2281,
          2285,
          2290,
          2299,
          2304,
          2309,
          2315,
          2324,
          2327,
          2333,
          2344,
          2348,
          2352,
          2361,
          2364,
          2371,
          2376,
          2384,
          2388,
          2400,
          2404,
          2407,
          2417,
          2424,
          2427,
          2434,
          2443,
          2444,
          2451,
          2461,
          2464,
          2468,
          2476,
          2484,
          2487,
          2497,
          2504,
          2505,
          2515,
          2521,
          2524,
          2530,
          2539,
          2544,
          2548,
          2558,
          2564,
          2567,
          2573,
          2584,
          2588,
          2592,
          2601,
          2605,
          2613,
          2618,
          2624,
          2629,
          2636,
          2644,
          2648,
          2653,
          2659,
          2670,
          2675,
          2678,
          2688,
          2693,
          2696,
          2704,
          2708,
          2720,
          2724,
          2729,
          2737,
          2744,
          2748,
          2756,
          2758,
          2764,
          2771,
          2780,
          2784,
          2789,
          2798,
          2804,
          2807,
          2813,
          2824,
          2825,
          2836,
          2838,
          2849,
          2851,
          2860,
          2864,
          2870,
          2876,
          2883,
          2889,
          2898,
          2900,
          2907,
          2912,
          2918,
          2927,
          2935,
          2941,
          2944,
          2952,
          2956,
          2961,
          2972,
          2973,
          2984,
          2990,
          2993,
          3002,
          3008,
          3011,
          3020,
          3024,
          3028,
          3038,
          3044,
          3048,
          3055,
          3064,
          3067,
          3074,
          3079,
          3084,
          3090,
          3100,
          3104,
          3108,
          3120,
          3124,
          3127,
          3136,
          3144,
          3145,
          3155,
          3163,
          3164,
          3170,
          3176,
          3184,
          3188,
          3199,
          3204,
          3207,
          3214,
          3224,
          3225,
          3232,
          3239,
          3244,
          3250,
          3258,
          3264,
          3268,
          3279,
          3284,
          3288,
          3298,
          3304,
          3305,
          3313,
          3322,
          3324,
          3330,
          3340,
          3344,
          3349,
          3360,
          3364,
          3367,
          3374,
          3384,
          3385,
          3395,
          3399,
          3404,
          3411,
          3416,
          3424,
          3428,
          3440,
          3444,
          3448,
          3457,
          3464,
          3466,
          3472,
          3482,
          3484,
          3490,
          3499,
          3504,
          3508,
          3516,
          3524,
          3527,
          3535,
          3544,
          3545,
          3552,
          3562,
          3564,
          3570,
          3580,
          3584,
          3588,
          3596,
          3604,
          3609,
          3613,
          3624,
          3625,
          3632,
          3642,
          3644,
          3650,
          3658,
          3664,
          3668,
          3675,
          3684,
          3687,
          3693,
          3704,
          3707,
          3712,
          3722,
          3724,
          3731,
          3740,
          3744,
          3748,
          3758,
          3764,
          3768,
          3776,
          3784,
          3785,
          3795,
          3801,
          3804,
          3810,
          3821,
          3824,
          3828,
          3835,
          3844,
          3847,
          3853,
          3864,
          3865,
          3872,
          3881,
          3884,
          3890,
          3899,
          3904,
          3908,
          3919,
          3924,
          3927,
          3938,
          3944,
          3945,
          3954,
          3963,
          3964,
          3970,
          3978,
          3984,
          3988,
          3996,
          4004,
          4008,
          4013,
          4024,
          4026,
          4036,
          4043,
          4044,
          4051,
          4060,
          4064,
          4068,
          4076,
          4084,
          4087,
          4098,
          4104,
          4105,
          4113,
          4120,
          4124,
          4130,
          4139,
          4144,
          4149,
          4159,
          4164,
          4167,
          4178,
          4184,
          4187,
          4196,
          4202,
          4204,
          4210,
          4219,
          4224,
          4230,
          4235,
          4244,
          4247,
          4253,
          4264,
          4265,
          4272,
          4278,
          4284,
          4290,
          4300,
          4304,
          4312,
          4317,
          4324,
          4327,
          4333,
          4344,
          4345,
          4355,
          4361,
          4364,
          4370,
          4379,
          4384,
          4390,
          4400,
          4404,
          4407,
          4418,
          4424,
          4425,
          4434,
          4439,
          4444,
          4451,
          4456,
          4464,
          4471,
          4478,
          4484,
          4489,
          4497,
          4504,
          4505,
          4513,
          4523,
          4524,
          4530,
          4541,
          4544,
          4549,
          4559,
          4564,
          4567,
          4578,
          4584,
          4585,
          4597,
          4601,
          4604,
          4612,
          4617,
          4624,
          4629,
          4637,
          4644,
          4647,
          4653,
          4664,
          4665,
          4675,
          4679,
          4684,
          4690,
          4699,
          4704,
          4709,
          4718,
          4724,
          4727,
          4736,
          4744,
          4745,
          4757,
          4760,
          4764,
          4770,
          4781,
          4784,
          4790,
          4796,
          4804,
          4810,
          4817,
          4824,
          4825,
          4837,
          4843,
          4844,
          4850,
          4859,
          4864,
          4870,
          4876,
          4884,
          4887,
          4897,
          4904,
          4905,
          4913,
          4919,
          4924,
          4930,
          4936,
          4944,
          4951,
          4957,
          4964,
          4969,
          4973,
          4984,
          4985,
          4992,
          4999,
          5004,
          5010,
          5018,
          5024,
          5029,
          5038,
          5044,
          5047,
          5056,
          5064,
          5065,
          5077,
          5080,
          5084,
          5090,
          5101,
          5104,
          5110,
          5118,
          5124,
          5127,
          5138,
          5144,
          5146,
          5154,
          5161,
          5164,
          5170,
          5179,
          5184,
          5189,
          5199,
          5204,
          5207,
          5216,
          5224,
          5228,
          5236,
          5240,
          5244,
          5250,
          5260,
          5264,
          5269,
          5279,
          5284,
          5290,
          5296,
          5304,
          5306,
          5317,
          5320,
          5324,
          5332,
          5336,
          5344,
          5349,
          5360,
          5364,
          5367,
          5373,
          5384,
          5386,
          5392,
          5401,
          5404,
          5410,
          5419,
          5424,
          5430,
          5437,
          5444,
          5450,
          5458,
          5464,
          5467,
          5477,
          5480,
          5484,
          5490,
          5500,
          5504,
          5509,
          5519,
          5524,
          5529,
          5535,
          5544,
          5546,
          5553,
          5559,
          5564,
          5570,
          5580,
          5584,
          5590,
          5598,
          5604,
          5607,
          5617,
          5624,
          5626,
          5635,
          5642,
          5644,
          5651,
          5659,
          5664,
          5670,
          5678,
          5684,
          5687,
          5698,
          5704,
          5706,
          5712,
          5718,
          5724,
          5730,
          5739,
          5744,
          5749,
          5760,
          5764,
          5768,
          5774,
          5784,
          5786,
          5795,
          5801,
          5804,
          5810,
          5816,
          5824,
          5832,
          5835,
          5844,
          5847,
          5857,
          5864,
          5866,
          5874,
          5882,
          5884,
          5890,
          5899,
          5904,
          5909,
          5917,
          5924,
          5928,
          5938,
          5944,
          5946,
          5953,
          5962,
          5964,
          5970,
          5976,
          5984,
          5989,
          6000,
          6004,
          6009,
          6018,
          6024,
          6026,
          6036,
          6041,
          6044,
          6050,
          6056,
          6064,
          6069,
          6080,
          6084,
          6087,
          6098,
          6104,
          6106,
          6116,
          6120,
          6124,
          6131,
          6141,
          6143
         ],
         "xaxis": "x2",
         "y": {
          "dtype": "float64",
          "shape": [
           1000
          ]
         },
         "yaxis": "y3"
        },
        {
         "name": "<b style=\"color:sandybrown\">[R]</b> HurstDMA <i style=\"color:#fc9944\">~6</i>",
         "type": "scattergl",
         "uid": "dd1d62c4-5d10-4831-b3a7-8fee0be1838f",
         "visible": "legendonly",
         "x": [
          0,
          1,
          7,
          13,
          19,
          25,
          36,
          37,
          44,
          50,
          56,
          62,
          73,
          74,
          81,
          87,
          93,
          99,
          105,
          116,
          117,
          124,
          130,
          136,
          142,
          153,
          154,
          161,
          167,
          173,
          179,
          185,
          196,
          197,
          204,
          210,
          216,
          222,
          233,
          234,
          241,
          247,
          253,
          259,
          265,
          276,
          277,
          284,
          290,
          296,
          302,
          313,
          314,
          321,
          327,
          333,
          339,
          345,
          356,
          357,
          364,
          370,
          376,
          382,
          393,
          394,
          401,
          407,
          413,
          419,
          425,
          436,
          437,
          444,
          450,
          456,
          462,
          473,
          474,
          481,
          487,
          493,
          499,
          505,
          516,
          517,
          524,
          530,
          536,
          542,
          553,
          554,
          561,
          567,
          573,
          579,
          585,
          596,
          597,
          604,
          610,
          616,
          622,
          633,
          634,
          641,
          647,
          653,
          659,
          665,
          676,
          677,
          684,
          690,
          696,
          702,
          713,
          714,
          721,
          727,
          733,
          739,
          745,
          756,
          757,
          764,
          770,
          776,
          782,
          793,
          794,
          801,
          807,
          813,
          819,
          825,
          836,
          837,
          844,
          850,
          856,
          862,
          873,
          874,
          881,
          887,
          893,
          899,
          905,
          916,
          917,
          924,
          930,
          936,
          942,
          953,
          954,
          961,
          967,
          973,
          979,
          985,
          996,
          997,
          1004,
          1010,
          1021,
          1024,
          1033,
          1036,
          1043,
          1050,
          1057,
          1062,
          1070,
          1077,
          1081,
          1089,
          1094,
          1100,
          1106,
          1113,
          1117,
          1121,
          1129,
          1137,
          1143,
          1146,
          1156,
          1162,
          1167,
          1174,
          1181,
          1182,
          1191,
          1199,
          1204,
          1211,
          1218,
          1219,
          1229,
          1233,
          1243,
          1246,
          1254,
          1258,
          1264,
          1273,
          1277,
          1284,
          1291,
          1297,
          1304,
          1307,
          1315,
          1319,
          1328,
          1335,
          1339,
          1343,
          1350,
          1357,
          1363,
          1371,
          1378,
          1380,
          1388,
          1391,
          1398,
          1405,
          1412,
          1419,
          1423,
          1433,
          1438,
          1445,
          1450,
          1455,
          1464,
          1469,
          1476,
          1481,
          1488,
          1492,
          1499,
          1507,
          1509,
          1519,
          1523,
          1528,
          1534,
          1544,
          1550,
          1557,
          1563,
          1566,
          1573,
          1579,
          1584,
          1589,
          1599,
          1603,
          1607,
          1613,
          1621,
          1627,
          1632,
          1640,
          1645,
          1655,
          1656,
          1663,
          1668,
          1675,
          1684,
          1690,
          1698,
          1702,
          1709,
          1714,
          1723,
          1728,
          1733,
          1741,
          1743,
          1752,
          1754,
          1763,
          1770,
          1776,
          1783,
          1785,
          1793,
          1799,
          1806,
          1811,
          1821,
          1827,
          1830,
          1839,
          1846,
          1848,
          1857,
          1864,
          1866,
          1873,
          1878,
          1889,
          1895,
          1898,
          1907,
          1913,
          1919,
          1925,
          1929,
          1938,
          1944,
          1950,
          1953,
          1960,
          1968,
          1970,
          1980,
          1986,
          1991,
          1997,
          2005,
          2012,
          2017,
          2021,
          2027,
          2035,
          2042,
          2048,
          2055,
          2058,
          2064,
          2070,
          2075,
          2086,
          2092,
          2098,
          2102,
          2107,
          2112,
          2121,
          2129,
          2134,
          2141,
          2146,
          2150,
          2160,
          2162,
          2172,
          2174,
          2181,
          2188,
          2193,
          2203,
          2209,
          2210,
          2216,
          2224,
          2229,
          2238,
          2242,
          2251,
          2258,
          2261,
          2267,
          2274,
          2281,
          2287,
          2292,
          2300,
          2304,
          2308,
          2317,
          2323,
          2331,
          2334,
          2340,
          2350,
          2356,
          2362,
          2368,
          2373,
          2380,
          2386,
          2390,
          2396,
          2406,
          2411,
          2418,
          2422,
          2427,
          2431,
          2438,
          2446,
          2450,
          2456,
          2465,
          2469,
          2478,
          2486,
          2492,
          2493,
          2500,
          2507,
          2517,
          2522,
          2525,
          2531,
          2537,
          2543,
          2553,
          2556,
          2564,
          2571,
          2575,
          2582,
          2587,
          2596,
          2602,
          2605,
          2612,
          2621,
          2624,
          2634,
          2640,
          2644,
          2651,
          2653,
          2662,
          2670,
          2677,
          2681,
          2687,
          2692,
          2697,
          2707,
          2712,
          2717,
          2726,
          2732,
          2736,
          2742,
          2745,
          2752,
          2760,
          2764,
          2772,
          2779,
          2784,
          2790,
          2800,
          2804,
          2809,
          2815,
          2821,
          2830,
          2835,
          2843,
          2847,
          2853,
          2859,
          2867,
          2873,
          2877,
          2883,
          2891,
          2897,
          2904,
          2910,
          2914,
          2923,
          2928,
          2935,
          2940,
          2942,
          2951,
          2956,
          2963,
          2970,
          2975,
          2981,
          2990,
          2996,
          2999,
          3005,
          3015,
          3021,
          3024,
          3034,
          3036,
          3046,
          3051,
          3053,
          3059,
          3068,
          3077,
          3082,
          3089,
          3091,
          3101,
          3107,
          3112,
          3116,
          3122,
          3131,
          3138,
          3140,
          3147,
          3157,
          3159,
          3165,
          3170,
          3180,
          3185,
          3192,
          3195,
          3201,
          3208,
          3213,
          3220,
          3230,
          3237,
          3243,
          3244,
          3253,
          3257,
          3265,
          3274,
          3277,
          3281,
          3287,
          3296,
          3303,
          3307,
          3316,
          3323,
          3329,
          3331,
          3338,
          3345,
          3354,
          3357,
          3363,
          3371,
          3375,
          3380,
          3385,
          3397,
          3403,
          3406,
          3410,
          3419,
          3426,
          3433,
          3435,
          3445,
          3449,
          3458,
          3463,
          3470,
          3473,
          3482,
          3488,
          3492,
          3499,
          3505,
          3512,
          3517,
          3523,
          3528,
          3535,
          3542,
          3547,
          3552,
          3559,
          3565,
          3570,
          3580,
          3582,
          3593,
          3600,
          3603,
          3612,
          3616,
          3619,
          3626,
          3634,
          3641,
          3644,
          3650,
          3659,
          3666,
          3669,
          3680,
          3682,
          3687,
          3694,
          3700,
          3708,
          3717,
          3720,
          3727,
          3730,
          3737,
          3747,
          3754,
          3755,
          3761,
          3767,
          3774,
          3780,
          3785,
          3793,
          3803,
          3806,
          3812,
          3819,
          3827,
          3830,
          3838,
          3844,
          3850,
          3856,
          3860,
          3869,
          3874,
          3880,
          3887,
          3892,
          3901,
          3907,
          3912,
          3917,
          3924,
          3928,
          3933,
          3942,
          3948,
          3954,
          3959,
          3968,
          3971,
          3976,
          3982,
          3989,
          3995,
          4005,
          4011,
          4015,
          4022,
          4026,
          4033,
          4043,
          4045,
          4050,
          4057,
          4067,
          4069,
          4076,
          4084,
          4090,
          4098,
          4104,
          4106,
          4116,
          4123,
          4126,
          4135,
          4137,
          4145,
          4154,
          4155,
          4161,
          4168,
          4177,
          4180,
          4190,
          4196,
          4203,
          4207,
          4211,
          4217,
          4228,
          4234,
          4238,
          4244,
          4248,
          4256,
          4262,
          4269,
          4272,
          4281,
          4284,
          4292,
          4298,
          4305,
          4309,
          4318,
          4322,
          4330,
          4338,
          4342,
          4345,
          4356,
          4362,
          4366,
          4374,
          4380,
          4388,
          4391,
          4396,
          4401,
          4408,
          4416,
          4421,
          4429,
          4435,
          4439,
          4446,
          4455,
          4458,
          4464,
          4473,
          4480,
          4486,
          4489,
          4493,
          4503,
          4507,
          4512,
          4519,
          4525,
          4532,
          4539,
          4544,
          4549,
          4559,
          4561,
          4571,
          4575,
          4582,
          4585,
          4597,
          4603,
          4608,
          4614,
          4620,
          4626,
          4629,
          4639,
          4642,
          4650,
          4657,
          4661,
          4667,
          4676,
          4683,
          4689,
          4690,
          4701,
          4707,
          4711,
          4717,
          4723,
          4727,
          4733,
          4743,
          4746,
          4756,
          4758,
          4765,
          4772,
          4778,
          4786,
          4789,
          4796,
          4802,
          4810,
          4818,
          4820,
          4827,
          4834,
          4838,
          4844,
          4854,
          4858,
          4862,
          4870,
          4877,
          4886,
          4891,
          4897,
          4902,
          4907,
          4913,
          4921,
          4924,
          4933,
          4939,
          4947,
          4954,
          4960,
          4963,
          4968,
          4978,
          4982,
          4986,
          4996,
          4999,
          5008,
          5015,
          5019,
          5023,
          5032,
          5035,
          5044,
          5051,
          5056,
          5059,
          5067,
          5072,
          5078,
          5089,
          5090,
          5099,
          5107,
          5110,
          5119,
          5125,
          5129,
          5133,
          5139,
          5146,
          5156,
          5161,
          5164,
          5170,
          5177,
          5184,
          5194,
          5197,
          5201,
          5211,
          5218,
          5219,
          5226,
          5232,
          5239,
          5249,
          5250,
          5257,
          5266,
          5269,
          5280,
          5284,
          5288,
          5294,
          5303,
          5310,
          5312,
          5320,
          5326,
          5330,
          5339,
          5345,
          5352,
          5360,
          5366,
          5372,
          5376,
          5380,
          5386,
          5396,
          5398,
          5405,
          5411,
          5420,
          5426,
          5432,
          5437,
          5443,
          5451,
          5455,
          5461,
          5471,
          5477,
          5479,
          5489,
          5493,
          5501,
          5505,
          5509,
          5515,
          5523,
          5530,
          5536,
          5544,
          5549,
          5553,
          5560,
          5567,
          5574,
          5576,
          5583,
          5593,
          5598,
          5603,
          5612,
          5613,
          5621,
          5628,
          5636,
          5638,
          5648,
          5650,
          5661,
          5665,
          5672,
          5676,
          5686,
          5690,
          5695,
          5699,
          5710,
          5717,
          5719,
          5725,
          5730,
          5738,
          5743,
          5753,
          5755,
          5761,
          5767,
          5773,
          5783,
          5786,
          5796,
          5801,
          5809,
          5813,
          5816,
          5828,
          5831,
          5836,
          5843,
          5850,
          5855,
          5863,
          5870,
          5874,
          5882,
          5889,
          5893,
          5898,
          5904,
          5910,
          5920,
          5924,
          5930,
          5938,
          5941,
          5949,
          5954,
          5962,
          5967,
          5971,
          5981,
          5982,
          5991,
          6000,
          6001,
          6009,
          6016,
          6025,
          6027,
          6037,
          6043,
          6046,
          6051,
          6056,
          6067,
          6069,
          6077,
          6082,
          6089,
          6096,
          6104,
          6107,
          6117,
          6119,
          6124,
          6135,
          6138,
          6143
         ],
         "xaxis": "x2",
         "y": {
          "dtype": "float64",
          "shape": [
           1000
          ]
         },
         "yaxis": "y3"
        }
       ],
       "_js2py_update": {},
       "_last_layout_edit_id": 23,
       "_last_trace_edit_id": 22,
       "_layout": {
        "autosize": true,
        "height": 700,
        "legend": {
         "orientation": "h",
         "x": 0.1,
         "y": 1
        },
        "margin": {
         "b": 10,
         "l": 45,
         "pad": 3,
         "r": 15,
         "t": 30
        },
        "template": {
         "data": {
          "bar": [
           {
            "error_x": {
             "color": "#2a3f5f"
            },
            "error_y": {
             "color": "#2a3f5f"
            },
            "marker": {
             "line": {
              "color": "white",
              "width": 0.5
             },
             "pattern": {
              "fillmode": "overlay",
              "size": 10,
              "solidity": 0.2
             }
            },
            "type": "bar"
           }
          ],
          "barpolar": [
           {
            "marker": {
             "line": {
              "color": "white",
              "width": 0.5
             },
             "pattern": {
              "fillmode": "overlay",
              "size": 10,
              "solidity": 0.2
             }
            },
            "type": "barpolar"
           }
          ],
          "carpet": [
           {
            "aaxis": {
             "endlinecolor": "#2a3f5f",
             "gridcolor": "#C8D4E3",
             "linecolor": "#C8D4E3",
             "minorgridcolor": "#C8D4E3",
             "startlinecolor": "#2a3f5f"
            },
            "baxis": {
             "endlinecolor": "#2a3f5f",
             "gridcolor": "#C8D4E3",
             "linecolor": "#C8D4E3",
             "minorgridcolor": "#C8D4E3",
             "startlinecolor": "#2a3f5f"
            },
            "type": "carpet"
           }
          ],
          "choropleth": [
           {
            "colorbar": {
             "outlinewidth": 0,
             "ticks": ""
            },
            "type": "choropleth"
           }
          ],
          "contour": [
           {
            "colorbar": {
             "outlinewidth": 0,
             "ticks": ""
            },
            "colorscale": [
             [
              0,
              "#0d0887"
             ],
             [
              0.1111111111111111,
              "#46039f"
             ],
             [
              0.2222222222222222,
              "#7201a8"
             ],
             [
              0.3333333333333333,
              "#9c179e"
             ],
             [
              0.4444444444444444,
              "#bd3786"
             ],
             [
              0.5555555555555556,
              "#d8576b"
             ],
             [
              0.6666666666666666,
              "#ed7953"
             ],
             [
              0.7777777777777778,
              "#fb9f3a"
             ],
             [
              0.8888888888888888,
              "#fdca26"
             ],
             [
              1,
              "#f0f921"
             ]
            ],
            "type": "contour"
           }
          ],
          "contourcarpet": [
           {
            "colorbar": {
             "outlinewidth": 0,
             "ticks": ""
            },
            "type": "contourcarpet"
           }
          ],
          "heatmap": [
           {
            "colorbar": {
             "outlinewidth": 0,
             "ticks": ""
            },
            "colorscale": [
             [
              0,
              "#0d0887"
             ],
             [
              0.1111111111111111,
              "#46039f"
             ],
             [
              0.2222222222222222,
              "#7201a8"
             ],
             [
              0.3333333333333333,
              "#9c179e"
             ],
             [
              0.4444444444444444,
              "#bd3786"
             ],
             [
              0.5555555555555556,
              "#d8576b"
             ],
             [
              0.6666666666666666,
              "#ed7953"
             ],
             [
              0.7777777777777778,
              "#fb9f3a"
             ],
             [
              0.8888888888888888,
              "#fdca26"
             ],
             [
              1,
              "#f0f921"
             ]
            ],
            "type": "heatmap"
           }
          ],
          "heatmapgl": [
           {
            "colorbar": {
             "outlinewidth": 0,
             "ticks": ""
            },
            "colorscale": [
             [
              0,
              "#0d0887"
             ],
             [
              0.1111111111111111,
              "#46039f"
             ],
             [
              0.2222222222222222,
              "#7201a8"
             ],
             [
              0.3333333333333333,
              "#9c179e"
             ],
             [
              0.4444444444444444,
              "#bd3786"
             ],
             [
              0.5555555555555556,
              "#d8576b"
             ],
             [
              0.6666666666666666,
              "#ed7953"
             ],
             [
              0.7777777777777778,
              "#fb9f3a"
             ],
             [
              0.8888888888888888,
              "#fdca26"
             ],
             [
              1,
              "#f0f921"
             ]
            ],
            "type": "heatmapgl"
           }
          ],
          "histogram": [
           {
            "marker": {
             "pattern": {
              "fillmode": "overlay",
              "size": 10,
              "solidity": 0.2
             }
            },
            "type": "histogram"
           }
          ],
          "histogram2d": [
           {
            "colorbar": {
             "outlinewidth": 0,
             "ticks": ""
            },
            "colorscale": [
             [
              0,
              "#0d0887"
             ],
             [
              0.1111111111111111,
              "#46039f"
             ],
             [
              0.2222222222222222,
              "#7201a8"
             ],
             [
              0.3333333333333333,
              "#9c179e"
             ],
             [
              0.4444444444444444,
              "#bd3786"
             ],
             [
              0.5555555555555556,
              "#d8576b"
             ],
             [
              0.6666666666666666,
              "#ed7953"
             ],
             [
              0.7777777777777778,
              "#fb9f3a"
             ],
             [
              0.8888888888888888,
              "#fdca26"
             ],
             [
              1,
              "#f0f921"
             ]
            ],
            "type": "histogram2d"
           }
          ],
          "histogram2dcontour": [
           {
            "colorbar": {
             "outlinewidth": 0,
             "ticks": ""
            },
            "colorscale": [
             [
              0,
              "#0d0887"
             ],
             [
              0.1111111111111111,
              "#46039f"
             ],
             [
              0.2222222222222222,
              "#7201a8"
             ],
             [
              0.3333333333333333,
              "#9c179e"
             ],
             [
              0.4444444444444444,
              "#bd3786"
             ],
             [
              0.5555555555555556,
              "#d8576b"
             ],
             [
              0.6666666666666666,
              "#ed7953"
             ],
             [
              0.7777777777777778,
              "#fb9f3a"
             ],
             [
              0.8888888888888888,
              "#fdca26"
             ],
             [
              1,
              "#f0f921"
             ]
            ],
            "type": "histogram2dcontour"
           }
          ],
          "mesh3d": [
           {
            "colorbar": {
             "outlinewidth": 0,
             "ticks": ""
            },
            "type": "mesh3d"
           }
          ],
          "parcoords": [
           {
            "line": {
             "colorbar": {
              "outlinewidth": 0,
              "ticks": ""
             }
            },
            "type": "parcoords"
           }
          ],
          "pie": [
           {
            "automargin": true,
            "type": "pie"
           }
          ],
          "scatter": [
           {
            "marker": {
             "colorbar": {
              "outlinewidth": 0,
              "ticks": ""
             }
            },
            "type": "scatter"
           }
          ],
          "scatter3d": [
           {
            "line": {
             "colorbar": {
              "outlinewidth": 0,
              "ticks": ""
             }
            },
            "marker": {
             "colorbar": {
              "outlinewidth": 0,
              "ticks": ""
             }
            },
            "type": "scatter3d"
           }
          ],
          "scattercarpet": [
           {
            "marker": {
             "colorbar": {
              "outlinewidth": 0,
              "ticks": ""
             }
            },
            "type": "scattercarpet"
           }
          ],
          "scattergeo": [
           {
            "marker": {
             "colorbar": {
              "outlinewidth": 0,
              "ticks": ""
             }
            },
            "type": "scattergeo"
           }
          ],
          "scattergl": [
           {
            "marker": {
             "colorbar": {
              "outlinewidth": 0,
              "ticks": ""
             }
            },
            "type": "scattergl"
           }
          ],
          "scattermapbox": [
           {
            "marker": {
             "colorbar": {
              "outlinewidth": 0,
              "ticks": ""
             }
            },
            "type": "scattermapbox"
           }
          ],
          "scatterpolar": [
           {
            "marker": {
             "colorbar": {
              "outlinewidth": 0,
              "ticks": ""
             }
            },
            "type": "scatterpolar"
           }
          ],
          "scatterpolargl": [
           {
            "marker": {
             "colorbar": {
              "outlinewidth": 0,
              "ticks": ""
             }
            },
            "type": "scatterpolargl"
           }
          ],
          "scatterternary": [
           {
            "marker": {
             "colorbar": {
              "outlinewidth": 0,
              "ticks": ""
             }
            },
            "type": "scatterternary"
           }
          ],
          "surface": [
           {
            "colorbar": {
             "outlinewidth": 0,
             "ticks": ""
            },
            "colorscale": [
             [
              0,
              "#0d0887"
             ],
             [
              0.1111111111111111,
              "#46039f"
             ],
             [
              0.2222222222222222,
              "#7201a8"
             ],
             [
              0.3333333333333333,
              "#9c179e"
             ],
             [
              0.4444444444444444,
              "#bd3786"
             ],
             [
              0.5555555555555556,
              "#d8576b"
             ],
             [
              0.6666666666666666,
              "#ed7953"
             ],
             [
              0.7777777777777778,
              "#fb9f3a"
             ],
             [
              0.8888888888888888,
              "#fdca26"
             ],
             [
              1,
              "#f0f921"
             ]
            ],
            "type": "surface"
           }
          ],
          "table": [
           {
            "cells": {
             "fill": {
              "color": "#EBF0F8"
             },
             "line": {
              "color": "white"
             }
            },
            "header": {
             "fill": {
              "color": "#C8D4E3"
             },
             "line": {
              "color": "white"
             }
            },
            "type": "table"
           }
          ]
         },
         "layout": {
          "annotationdefaults": {
           "arrowcolor": "#2a3f5f",
           "arrowhead": 0,
           "arrowwidth": 1
          },
          "autotypenumbers": "strict",
          "coloraxis": {
           "colorbar": {
            "outlinewidth": 0,
            "ticks": ""
           }
          },
          "colorscale": {
           "diverging": [
            [
             0,
             "#8e0152"
            ],
            [
             0.1,
             "#c51b7d"
            ],
            [
             0.2,
             "#de77ae"
            ],
            [
             0.3,
             "#f1b6da"
            ],
            [
             0.4,
             "#fde0ef"
            ],
            [
             0.5,
             "#f7f7f7"
            ],
            [
             0.6,
             "#e6f5d0"
            ],
            [
             0.7,
             "#b8e186"
            ],
            [
             0.8,
             "#7fbc41"
            ],
            [
             0.9,
             "#4d9221"
            ],
            [
             1,
             "#276419"
            ]
           ],
           "sequential": [
            [
             0,
             "#0d0887"
            ],
            [
             0.1111111111111111,
             "#46039f"
            ],
            [
             0.2222222222222222,
             "#7201a8"
            ],
            [
             0.3333333333333333,
             "#9c179e"
            ],
            [
             0.4444444444444444,
             "#bd3786"
            ],
            [
             0.5555555555555556,
             "#d8576b"
            ],
            [
             0.6666666666666666,
             "#ed7953"
            ],
            [
             0.7777777777777778,
             "#fb9f3a"
            ],
            [
             0.8888888888888888,
             "#fdca26"
            ],
            [
             1,
             "#f0f921"
            ]
           ],
           "sequentialminus": [
            [
             0,
             "#0d0887"
            ],
            [
             0.1111111111111111,
             "#46039f"
            ],
            [
             0.2222222222222222,
             "#7201a8"
            ],
            [
             0.3333333333333333,
             "#9c179e"
            ],
            [
             0.4444444444444444,
             "#bd3786"
            ],
            [
             0.5555555555555556,
             "#d8576b"
            ],
            [
             0.6666666666666666,
             "#ed7953"
            ],
            [
             0.7777777777777778,
             "#fb9f3a"
            ],
            [
             0.8888888888888888,
             "#fdca26"
            ],
            [
             1,
             "#f0f921"
            ]
           ]
          },
          "colorway": [
           "#636efa",
           "#EF553B",
           "#00cc96",
           "#ab63fa",
           "#FFA15A",
           "#19d3f3",
           "#FF6692",
           "#B6E880",
           "#FF97FF",
           "#FECB52"
          ],
          "font": {
           "color": "#2a3f5f"
          },
          "geo": {
           "bgcolor": "white",
           "lakecolor": "white",
           "landcolor": "white",
           "showlakes": true,
           "showland": true,
           "subunitcolor": "#C8D4E3"
          },
          "hoverlabel": {
           "align": "left"
          },
          "hovermode": "closest",
          "mapbox": {
           "style": "light"
          },
          "paper_bgcolor": "white",
          "plot_bgcolor": "white",
          "polar": {
           "angularaxis": {
            "gridcolor": "#EBF0F8",
            "linecolor": "#EBF0F8",
            "ticks": ""
           },
           "bgcolor": "white",
           "radialaxis": {
            "gridcolor": "#EBF0F8",
            "linecolor": "#EBF0F8",
            "ticks": ""
           }
          },
          "scene": {
           "xaxis": {
            "backgroundcolor": "white",
            "gridcolor": "#DFE8F3",
            "gridwidth": 2,
            "linecolor": "#EBF0F8",
            "showbackground": true,
            "ticks": "",
            "zerolinecolor": "#EBF0F8"
           },
           "yaxis": {
            "backgroundcolor": "white",
            "gridcolor": "#DFE8F3",
            "gridwidth": 2,
            "linecolor": "#EBF0F8",
            "showbackground": true,
            "ticks": "",
            "zerolinecolor": "#EBF0F8"
           },
           "zaxis": {
            "backgroundcolor": "white",
            "gridcolor": "#DFE8F3",
            "gridwidth": 2,
            "linecolor": "#EBF0F8",
            "showbackground": true,
            "ticks": "",
            "zerolinecolor": "#EBF0F8"
           }
          },
          "shapedefaults": {
           "line": {
            "color": "#2a3f5f"
           }
          },
          "ternary": {
           "aaxis": {
            "gridcolor": "#DFE8F3",
            "linecolor": "#A2B1C6",
            "ticks": ""
           },
           "baxis": {
            "gridcolor": "#DFE8F3",
            "linecolor": "#A2B1C6",
            "ticks": ""
           },
           "bgcolor": "white",
           "caxis": {
            "gridcolor": "#DFE8F3",
            "linecolor": "#A2B1C6",
            "ticks": ""
           }
          },
          "title": {
           "x": 0.05
          },
          "xaxis": {
           "automargin": true,
           "gridcolor": "#EBF0F8",
           "linecolor": "#EBF0F8",
           "ticks": "",
           "title": {
            "standoff": 15
           },
           "zerolinecolor": "#EBF0F8",
           "zerolinewidth": 2
          },
          "yaxis": {
           "automargin": true,
           "gridcolor": "#EBF0F8",
           "linecolor": "#EBF0F8",
           "ticks": "",
           "title": {
            "standoff": 15
           },
           "zerolinecolor": "#EBF0F8",
           "zerolinewidth": 2
          }
         }
        },
        "xaxis": {
         "anchor": "y",
         "domain": [
          0,
          0.94
         ],
         "matches": "x2",
         "showticklabels": false,
         "spikedash": "dot",
         "spikemode": "across+marker",
         "spikesnap": "cursor",
         "spikethickness": 2
        },
        "xaxis2": {
         "anchor": "y3",
         "domain": [
          0,
          0.94
         ],
         "spikedash": "dot",
         "spikemode": "across+marker",
         "spikesnap": "cursor",
         "spikethickness": 2
        },
        "yaxis": {
         "anchor": "x",
         "domain": [
          0.32100000000000006,
          1
         ],
         "range": [
          -9.756669668315276,
          240.8245805657503
         ]
        },
        "yaxis2": {
         "anchor": "x",
         "overlaying": "y",
         "side": "right"
        },
        "yaxis3": {
         "anchor": "x2",
         "domain": [
          0,
          0.29100000000000004
         ]
        },
        "yaxis4": {
         "anchor": "x2",
         "overlaying": "y3",
         "side": "right"
        }
       },
       "_py2js_animate": {},
       "_py2js_deleteTraces": {},
       "_py2js_moveTraces": {},
       "_py2js_removeLayoutProps": {},
       "_py2js_removeTraceProps": {},
       "_view_count": 1
      }
     },
     "763b1ee0f11a4e5786b55bf6a1f66330": {
      "model_module": "@jupyter-widgets/controls",
      "model_module_version": "1.5.0",
      "model_name": "ProgressStyleModel",
      "state": {
       "description_width": ""
      }
     },
     "7dad910985e84374a03bd40bc6817c6e": {
      "model_module": "@jupyter-widgets/controls",
      "model_module_version": "1.5.0",
      "model_name": "HTMLModel",
      "state": {
       "layout": "IPY_MODEL_96806c6d0bf64aa8b03e27b1dc90617e",
       "style": "IPY_MODEL_53eba9c0b31f47c89dcbc394b9512699",
       "value": " 256/256 [01:17&lt;00:00,  3.32it/s, cpu=2%]"
      }
     },
     "8059e79cdc294339996163c4caae0e57": {
      "model_module": "jupyterlab-plotly",
      "model_module_version": "^5.6.0",
      "model_name": "FigureModel",
      "state": {
       "_config": {
        "plotlyServerURL": "https://plot.ly"
       },
       "_js2py_layoutDelta": {},
       "_js2py_pointsCallback": {},
       "_js2py_relayout": {},
       "_js2py_restyle": {},
       "_js2py_traceDeltas": {},
       "_js2py_update": {},
       "_layout": {
        "template": {
         "data": {
          "bar": [
           {
            "error_x": {
             "color": "#2a3f5f"
            },
            "error_y": {
             "color": "#2a3f5f"
            },
            "marker": {
             "line": {
              "color": "#E5ECF6",
              "width": 0.5
             },
             "pattern": {
              "fillmode": "overlay",
              "size": 10,
              "solidity": 0.2
             }
            },
            "type": "bar"
           }
          ],
          "barpolar": [
           {
            "marker": {
             "line": {
              "color": "#E5ECF6",
              "width": 0.5
             },
             "pattern": {
              "fillmode": "overlay",
              "size": 10,
              "solidity": 0.2
             }
            },
            "type": "barpolar"
           }
          ],
          "carpet": [
           {
            "aaxis": {
             "endlinecolor": "#2a3f5f",
             "gridcolor": "white",
             "linecolor": "white",
             "minorgridcolor": "white",
             "startlinecolor": "#2a3f5f"
            },
            "baxis": {
             "endlinecolor": "#2a3f5f",
             "gridcolor": "white",
             "linecolor": "white",
             "minorgridcolor": "white",
             "startlinecolor": "#2a3f5f"
            },
            "type": "carpet"
           }
          ],
          "choropleth": [
           {
            "colorbar": {
             "outlinewidth": 0,
             "ticks": ""
            },
            "type": "choropleth"
           }
          ],
          "contour": [
           {
            "colorbar": {
             "outlinewidth": 0,
             "ticks": ""
            },
            "colorscale": [
             [
              0,
              "#0d0887"
             ],
             [
              0.1111111111111111,
              "#46039f"
             ],
             [
              0.2222222222222222,
              "#7201a8"
             ],
             [
              0.3333333333333333,
              "#9c179e"
             ],
             [
              0.4444444444444444,
              "#bd3786"
             ],
             [
              0.5555555555555556,
              "#d8576b"
             ],
             [
              0.6666666666666666,
              "#ed7953"
             ],
             [
              0.7777777777777778,
              "#fb9f3a"
             ],
             [
              0.8888888888888888,
              "#fdca26"
             ],
             [
              1,
              "#f0f921"
             ]
            ],
            "type": "contour"
           }
          ],
          "contourcarpet": [
           {
            "colorbar": {
             "outlinewidth": 0,
             "ticks": ""
            },
            "type": "contourcarpet"
           }
          ],
          "heatmap": [
           {
            "colorbar": {
             "outlinewidth": 0,
             "ticks": ""
            },
            "colorscale": [
             [
              0,
              "#0d0887"
             ],
             [
              0.1111111111111111,
              "#46039f"
             ],
             [
              0.2222222222222222,
              "#7201a8"
             ],
             [
              0.3333333333333333,
              "#9c179e"
             ],
             [
              0.4444444444444444,
              "#bd3786"
             ],
             [
              0.5555555555555556,
              "#d8576b"
             ],
             [
              0.6666666666666666,
              "#ed7953"
             ],
             [
              0.7777777777777778,
              "#fb9f3a"
             ],
             [
              0.8888888888888888,
              "#fdca26"
             ],
             [
              1,
              "#f0f921"
             ]
            ],
            "type": "heatmap"
           }
          ],
          "heatmapgl": [
           {
            "colorbar": {
             "outlinewidth": 0,
             "ticks": ""
            },
            "colorscale": [
             [
              0,
              "#0d0887"
             ],
             [
              0.1111111111111111,
              "#46039f"
             ],
             [
              0.2222222222222222,
              "#7201a8"
             ],
             [
              0.3333333333333333,
              "#9c179e"
             ],
             [
              0.4444444444444444,
              "#bd3786"
             ],
             [
              0.5555555555555556,
              "#d8576b"
             ],
             [
              0.6666666666666666,
              "#ed7953"
             ],
             [
              0.7777777777777778,
              "#fb9f3a"
             ],
             [
              0.8888888888888888,
              "#fdca26"
             ],
             [
              1,
              "#f0f921"
             ]
            ],
            "type": "heatmapgl"
           }
          ],
          "histogram": [
           {
            "marker": {
             "pattern": {
              "fillmode": "overlay",
              "size": 10,
              "solidity": 0.2
             }
            },
            "type": "histogram"
           }
          ],
          "histogram2d": [
           {
            "colorbar": {
             "outlinewidth": 0,
             "ticks": ""
            },
            "colorscale": [
             [
              0,
              "#0d0887"
             ],
             [
              0.1111111111111111,
              "#46039f"
             ],
             [
              0.2222222222222222,
              "#7201a8"
             ],
             [
              0.3333333333333333,
              "#9c179e"
             ],
             [
              0.4444444444444444,
              "#bd3786"
             ],
             [
              0.5555555555555556,
              "#d8576b"
             ],
             [
              0.6666666666666666,
              "#ed7953"
             ],
             [
              0.7777777777777778,
              "#fb9f3a"
             ],
             [
              0.8888888888888888,
              "#fdca26"
             ],
             [
              1,
              "#f0f921"
             ]
            ],
            "type": "histogram2d"
           }
          ],
          "histogram2dcontour": [
           {
            "colorbar": {
             "outlinewidth": 0,
             "ticks": ""
            },
            "colorscale": [
             [
              0,
              "#0d0887"
             ],
             [
              0.1111111111111111,
              "#46039f"
             ],
             [
              0.2222222222222222,
              "#7201a8"
             ],
             [
              0.3333333333333333,
              "#9c179e"
             ],
             [
              0.4444444444444444,
              "#bd3786"
             ],
             [
              0.5555555555555556,
              "#d8576b"
             ],
             [
              0.6666666666666666,
              "#ed7953"
             ],
             [
              0.7777777777777778,
              "#fb9f3a"
             ],
             [
              0.8888888888888888,
              "#fdca26"
             ],
             [
              1,
              "#f0f921"
             ]
            ],
            "type": "histogram2dcontour"
           }
          ],
          "mesh3d": [
           {
            "colorbar": {
             "outlinewidth": 0,
             "ticks": ""
            },
            "type": "mesh3d"
           }
          ],
          "parcoords": [
           {
            "line": {
             "colorbar": {
              "outlinewidth": 0,
              "ticks": ""
             }
            },
            "type": "parcoords"
           }
          ],
          "pie": [
           {
            "automargin": true,
            "type": "pie"
           }
          ],
          "scatter": [
           {
            "marker": {
             "colorbar": {
              "outlinewidth": 0,
              "ticks": ""
             }
            },
            "type": "scatter"
           }
          ],
          "scatter3d": [
           {
            "line": {
             "colorbar": {
              "outlinewidth": 0,
              "ticks": ""
             }
            },
            "marker": {
             "colorbar": {
              "outlinewidth": 0,
              "ticks": ""
             }
            },
            "type": "scatter3d"
           }
          ],
          "scattercarpet": [
           {
            "marker": {
             "colorbar": {
              "outlinewidth": 0,
              "ticks": ""
             }
            },
            "type": "scattercarpet"
           }
          ],
          "scattergeo": [
           {
            "marker": {
             "colorbar": {
              "outlinewidth": 0,
              "ticks": ""
             }
            },
            "type": "scattergeo"
           }
          ],
          "scattergl": [
           {
            "marker": {
             "colorbar": {
              "outlinewidth": 0,
              "ticks": ""
             }
            },
            "type": "scattergl"
           }
          ],
          "scattermapbox": [
           {
            "marker": {
             "colorbar": {
              "outlinewidth": 0,
              "ticks": ""
             }
            },
            "type": "scattermapbox"
           }
          ],
          "scatterpolar": [
           {
            "marker": {
             "colorbar": {
              "outlinewidth": 0,
              "ticks": ""
             }
            },
            "type": "scatterpolar"
           }
          ],
          "scatterpolargl": [
           {
            "marker": {
             "colorbar": {
              "outlinewidth": 0,
              "ticks": ""
             }
            },
            "type": "scatterpolargl"
           }
          ],
          "scatterternary": [
           {
            "marker": {
             "colorbar": {
              "outlinewidth": 0,
              "ticks": ""
             }
            },
            "type": "scatterternary"
           }
          ],
          "surface": [
           {
            "colorbar": {
             "outlinewidth": 0,
             "ticks": ""
            },
            "colorscale": [
             [
              0,
              "#0d0887"
             ],
             [
              0.1111111111111111,
              "#46039f"
             ],
             [
              0.2222222222222222,
              "#7201a8"
             ],
             [
              0.3333333333333333,
              "#9c179e"
             ],
             [
              0.4444444444444444,
              "#bd3786"
             ],
             [
              0.5555555555555556,
              "#d8576b"
             ],
             [
              0.6666666666666666,
              "#ed7953"
             ],
             [
              0.7777777777777778,
              "#fb9f3a"
             ],
             [
              0.8888888888888888,
              "#fdca26"
             ],
             [
              1,
              "#f0f921"
             ]
            ],
            "type": "surface"
           }
          ],
          "table": [
           {
            "cells": {
             "fill": {
              "color": "#EBF0F8"
             },
             "line": {
              "color": "white"
             }
            },
            "header": {
             "fill": {
              "color": "#C8D4E3"
             },
             "line": {
              "color": "white"
             }
            },
            "type": "table"
           }
          ]
         },
         "layout": {
          "annotationdefaults": {
           "arrowcolor": "#2a3f5f",
           "arrowhead": 0,
           "arrowwidth": 1
          },
          "autotypenumbers": "strict",
          "coloraxis": {
           "colorbar": {
            "outlinewidth": 0,
            "ticks": ""
           }
          },
          "colorscale": {
           "diverging": [
            [
             0,
             "#8e0152"
            ],
            [
             0.1,
             "#c51b7d"
            ],
            [
             0.2,
             "#de77ae"
            ],
            [
             0.3,
             "#f1b6da"
            ],
            [
             0.4,
             "#fde0ef"
            ],
            [
             0.5,
             "#f7f7f7"
            ],
            [
             0.6,
             "#e6f5d0"
            ],
            [
             0.7,
             "#b8e186"
            ],
            [
             0.8,
             "#7fbc41"
            ],
            [
             0.9,
             "#4d9221"
            ],
            [
             1,
             "#276419"
            ]
           ],
           "sequential": [
            [
             0,
             "#0d0887"
            ],
            [
             0.1111111111111111,
             "#46039f"
            ],
            [
             0.2222222222222222,
             "#7201a8"
            ],
            [
             0.3333333333333333,
             "#9c179e"
            ],
            [
             0.4444444444444444,
             "#bd3786"
            ],
            [
             0.5555555555555556,
             "#d8576b"
            ],
            [
             0.6666666666666666,
             "#ed7953"
            ],
            [
             0.7777777777777778,
             "#fb9f3a"
            ],
            [
             0.8888888888888888,
             "#fdca26"
            ],
            [
             1,
             "#f0f921"
            ]
           ],
           "sequentialminus": [
            [
             0,
             "#0d0887"
            ],
            [
             0.1111111111111111,
             "#46039f"
            ],
            [
             0.2222222222222222,
             "#7201a8"
            ],
            [
             0.3333333333333333,
             "#9c179e"
            ],
            [
             0.4444444444444444,
             "#bd3786"
            ],
            [
             0.5555555555555556,
             "#d8576b"
            ],
            [
             0.6666666666666666,
             "#ed7953"
            ],
            [
             0.7777777777777778,
             "#fb9f3a"
            ],
            [
             0.8888888888888888,
             "#fdca26"
            ],
            [
             1,
             "#f0f921"
            ]
           ]
          },
          "colorway": [
           "#636efa",
           "#EF553B",
           "#00cc96",
           "#ab63fa",
           "#FFA15A",
           "#19d3f3",
           "#FF6692",
           "#B6E880",
           "#FF97FF",
           "#FECB52"
          ],
          "font": {
           "color": "#2a3f5f"
          },
          "geo": {
           "bgcolor": "white",
           "lakecolor": "white",
           "landcolor": "#E5ECF6",
           "showlakes": true,
           "showland": true,
           "subunitcolor": "white"
          },
          "hoverlabel": {
           "align": "left"
          },
          "hovermode": "closest",
          "mapbox": {
           "style": "light"
          },
          "paper_bgcolor": "white",
          "plot_bgcolor": "#E5ECF6",
          "polar": {
           "angularaxis": {
            "gridcolor": "white",
            "linecolor": "white",
            "ticks": ""
           },
           "bgcolor": "#E5ECF6",
           "radialaxis": {
            "gridcolor": "white",
            "linecolor": "white",
            "ticks": ""
           }
          },
          "scene": {
           "xaxis": {
            "backgroundcolor": "#E5ECF6",
            "gridcolor": "white",
            "gridwidth": 2,
            "linecolor": "white",
            "showbackground": true,
            "ticks": "",
            "zerolinecolor": "white"
           },
           "yaxis": {
            "backgroundcolor": "#E5ECF6",
            "gridcolor": "white",
            "gridwidth": 2,
            "linecolor": "white",
            "showbackground": true,
            "ticks": "",
            "zerolinecolor": "white"
           },
           "zaxis": {
            "backgroundcolor": "#E5ECF6",
            "gridcolor": "white",
            "gridwidth": 2,
            "linecolor": "white",
            "showbackground": true,
            "ticks": "",
            "zerolinecolor": "white"
           }
          },
          "shapedefaults": {
           "line": {
            "color": "#2a3f5f"
           }
          },
          "ternary": {
           "aaxis": {
            "gridcolor": "white",
            "linecolor": "white",
            "ticks": ""
           },
           "baxis": {
            "gridcolor": "white",
            "linecolor": "white",
            "ticks": ""
           },
           "bgcolor": "#E5ECF6",
           "caxis": {
            "gridcolor": "white",
            "linecolor": "white",
            "ticks": ""
           }
          },
          "title": {
           "x": 0.05
          },
          "xaxis": {
           "automargin": true,
           "gridcolor": "white",
           "linecolor": "white",
           "ticks": "",
           "title": {
            "standoff": 15
           },
           "zerolinecolor": "white",
           "zerolinewidth": 2
          },
          "yaxis": {
           "automargin": true,
           "gridcolor": "white",
           "linecolor": "white",
           "ticks": "",
           "title": {
            "standoff": 15
           },
           "zerolinecolor": "white",
           "zerolinewidth": 2
          }
         }
        },
        "xaxis": {
         "anchor": "y",
         "domain": [
          0,
          0.94
         ],
         "matches": "x2",
         "showticklabels": false
        },
        "xaxis2": {
         "anchor": "y3",
         "domain": [
          0,
          0.94
         ]
        },
        "yaxis": {
         "anchor": "x",
         "domain": [
          0.32100000000000006,
          1
         ]
        },
        "yaxis2": {
         "anchor": "x",
         "overlaying": "y",
         "side": "right"
        },
        "yaxis3": {
         "anchor": "x2",
         "domain": [
          0,
          0.29100000000000004
         ]
        },
        "yaxis4": {
         "anchor": "x2",
         "overlaying": "y3",
         "side": "right"
        }
       },
       "_py2js_addTraces": {},
       "_py2js_animate": {},
       "_py2js_deleteTraces": {},
       "_py2js_moveTraces": {},
       "_py2js_relayout": {},
       "_py2js_removeLayoutProps": {},
       "_py2js_removeTraceProps": {},
       "_py2js_restyle": {},
       "_py2js_update": {},
       "_view_count": 0
      }
     },
     "80cbea29565f4e218bbc7d2359cfa837": {
      "model_module": "@jupyter-widgets/controls",
      "model_module_version": "1.5.0",
      "model_name": "HBoxModel",
      "state": {
       "children": [
        "IPY_MODEL_379720f023374149a54115d80a26acb2",
        "IPY_MODEL_b821b7b389474c42970f80b170a22e06",
        "IPY_MODEL_7dad910985e84374a03bd40bc6817c6e"
       ],
       "layout": "IPY_MODEL_852083cb85ae4ca3804e2638a2f6de23"
      }
     },
     "84da6143408c40768ffa50d2cae5a3f6": {
      "model_module": "@jupyter-widgets/controls",
      "model_module_version": "1.5.0",
      "model_name": "DescriptionStyleModel",
      "state": {
       "description_width": ""
      }
     },
     "852083cb85ae4ca3804e2638a2f6de23": {
      "model_module": "@jupyter-widgets/base",
      "model_module_version": "1.2.0",
      "model_name": "LayoutModel",
      "state": {}
     },
     "86455b6bdd1e4d539d36814274c3bd0a": {
      "model_module": "@jupyter-widgets/controls",
      "model_module_version": "1.5.0",
      "model_name": "DescriptionStyleModel",
      "state": {
       "description_width": ""
      }
     },
     "96806c6d0bf64aa8b03e27b1dc90617e": {
      "model_module": "@jupyter-widgets/base",
      "model_module_version": "1.2.0",
      "model_name": "LayoutModel",
      "state": {}
     },
     "a33f665808eb405bac0125e7dbe9c00c": {
      "model_module": "@jupyter-widgets/controls",
      "model_module_version": "1.5.0",
      "model_name": "HTMLModel",
      "state": {
       "layout": "IPY_MODEL_f16236d74e50404e8d458b1d9daf46b8",
       "style": "IPY_MODEL_c8a000115793475384b8eb200147d91a",
       "value": " 5121/? [00:10&lt;00:00, 499.36it/s, cpu=4%]"
      }
     },
     "ab501e993c1a4bf7a5f2e6a3e481b4d9": {
      "model_module": "@jupyter-widgets/base",
      "model_module_version": "1.2.0",
      "model_name": "LayoutModel",
      "state": {}
     },
     "aef35d259f5f4be897de67aa024bc6d0": {
      "model_module": "@jupyter-widgets/base",
      "model_module_version": "1.2.0",
      "model_name": "LayoutModel",
      "state": {}
     },
     "b02434f73dc24228a9488125380300e7": {
      "model_module": "@jupyter-widgets/controls",
      "model_module_version": "1.5.0",
      "model_name": "FloatProgressModel",
      "state": {
       "bar_style": "success",
       "layout": "IPY_MODEL_aef35d259f5f4be897de67aa024bc6d0",
       "max": 5120,
       "style": "IPY_MODEL_42c896fdbf1e4785bf587237e09aa7be",
       "value": 5120
      }
     },
     "b821b7b389474c42970f80b170a22e06": {
      "model_module": "@jupyter-widgets/controls",
      "model_module_version": "1.5.0",
      "model_name": "FloatProgressModel",
      "state": {
       "bar_style": "success",
       "layout": "IPY_MODEL_110bc35de5d7412990013dd0e39eeac6",
       "max": 256,
       "style": "IPY_MODEL_763b1ee0f11a4e5786b55bf6a1f66330",
       "value": 256
      }
     },
     "b96873723e194f38a8f6bbe55ce9d25d": {
      "model_module": "@jupyter-widgets/controls",
      "model_module_version": "1.5.0",
      "model_name": "HBoxModel",
      "state": {
       "children": [
        "IPY_MODEL_df78f7cc3b2b4687b7bd7a5675cd7d2a",
        "IPY_MODEL_b02434f73dc24228a9488125380300e7",
        "IPY_MODEL_a33f665808eb405bac0125e7dbe9c00c"
       ],
       "layout": "IPY_MODEL_4a460a258d0241869537b95d2893d53a"
      }
     },
     "c8a000115793475384b8eb200147d91a": {
      "model_module": "@jupyter-widgets/controls",
      "model_module_version": "1.5.0",
      "model_name": "DescriptionStyleModel",
      "state": {
       "description_width": ""
      }
     },
     "d0d5f4e5de124753995450da54d678c2": {
      "model_module": "@jupyter-widgets/controls",
      "model_module_version": "1.5.0",
      "model_name": "DescriptionStyleModel",
      "state": {
       "description_width": ""
      }
     },
     "daaeb2ba5f474409b9c9f8cca97b38c9": {
      "model_module": "@jupyter-widgets/controls",
      "model_module_version": "1.5.0",
      "model_name": "HTMLModel",
      "state": {
       "layout": "IPY_MODEL_2598c75dd0924e4e888e168bc548c5b2",
       "style": "IPY_MODEL_d0d5f4e5de124753995450da54d678c2",
       "value": " 256/256 [00:09&lt;00:00, 27.41it/s, cpu=4%]"
      }
     },
     "df78f7cc3b2b4687b7bd7a5675cd7d2a": {
      "model_module": "@jupyter-widgets/controls",
      "model_module_version": "1.5.0",
      "model_name": "HTMLModel",
      "state": {
       "layout": "IPY_MODEL_05262c028c274c60b270ca7d78380952",
       "style": "IPY_MODEL_36231db6e2474671a55808f59400be74"
      }
     },
     "f071b13e002748cebb87b2f9b2a55b8d": {
      "model_module": "@jupyter-widgets/controls",
      "model_module_version": "1.5.0",
      "model_name": "HTMLModel",
      "state": {
       "layout": "IPY_MODEL_ab501e993c1a4bf7a5f2e6a3e481b4d9",
       "style": "IPY_MODEL_84da6143408c40768ffa50d2cae5a3f6",
       "value": "100%"
      }
     },
     "f16236d74e50404e8d458b1d9daf46b8": {
      "model_module": "@jupyter-widgets/base",
      "model_module_version": "1.2.0",
      "model_name": "LayoutModel",
      "state": {}
     },
     "f2b7d89aade4484685541d5364322c6e": {
      "model_module": "@jupyter-widgets/base",
      "model_module_version": "1.2.0",
      "model_name": "LayoutModel",
      "state": {}
     }
    },
    "version_major": 2,
    "version_minor": 0
   }
  }
 },
 "nbformat": 4,
 "nbformat_minor": 5
}

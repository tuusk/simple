{
 "cells": [
  {
   "cell_type": "markdown",
   "id": "ab4ce2c3-0c3f-40fc-83cd-399a39339872",
   "metadata": {},
   "source": [
    "## Just an equivolume OHLC chart with ta-lib ADX indicator"
   ]
  },
  {
   "cell_type": "code",
   "execution_count": 1,
   "id": "99d015a5-e0f9-4836-bc38-0a75f2a716fe",
   "metadata": {
    "execution": {
     "iopub.execute_input": "2022-06-22T08:14:09.442143Z",
     "iopub.status.busy": "2022-06-22T08:14:09.442143Z",
     "iopub.status.idle": "2022-06-22T08:14:09.890722Z",
     "shell.execute_reply": "2022-06-22T08:14:09.890722Z",
     "shell.execute_reply.started": "2022-06-22T08:14:09.442143Z"
    },
    "tags": []
   },
   "outputs": [],
   "source": [
    "import numpy as np\n",
    "from simple.ohlc import ohlcVolume\n",
    "import plotly.graph_objects as go\n",
    "from plotly.subplots import make_subplots\n",
    "from talib import ADX"
   ]
  },
  {
   "cell_type": "code",
   "execution_count": 6,
   "id": "f0177d68-489a-4ce3-9660-277ef75473cb",
   "metadata": {
    "execution": {
     "iopub.execute_input": "2022-06-22T08:14:44.292744Z",
     "iopub.status.busy": "2022-06-22T08:14:44.292744Z",
     "iopub.status.idle": "2022-06-22T08:14:44.405764Z",
     "shell.execute_reply": "2022-06-22T08:14:44.405264Z",
     "shell.execute_reply.started": "2022-06-22T08:14:44.292744Z"
    },
    "tags": []
   },
   "outputs": [
    {
     "data": {
      "text/plain": [
       "rec.array([('2022-05-08T05:32:40.073000', 2531.27, 2535.68, 2528.21, 2535.69, 5006273., 2685841., -2342618.,  8847, 4353, 4494),\n",
       "           ('2022-05-08T05:40:45.786000', 2535.69, 2540.98, 2530.34, 2537.99, 5002380., 2826329., -2153864., 11199, 5896, 5303),\n",
       "           ('2022-05-08T05:46:03.365000', 2537.99, 2539.  , 2531.73, 2538.85, 5004183., 2429897., -2575184.,  7436, 3517, 3919),\n",
       "           ('2022-05-08T05:53:58.423000', 2538.85, 2542.7 , 2537.79, 2539.01, 5000036., 2802296., -2198056.,  9660, 4802, 4858),\n",
       "           ('1970-01-01T00:00:00.000000', 2539.01, 2541.  , 2534.16,    0.  , 3704265., 1549453., -2153596.,  8045, 3288, 4757)],\n",
       "          dtype=[('DT', '<M8[us]'), ('Open', '<f8'), ('High', '<f8'), ('Low', '<f8'), ('Close', '<f8'), ('Size', '<f8'), ('BuySize', '<f8'), ('SellSize', '<f8'), ('Count', '<i4'), ('BuyCount', '<i4'), ('SellCount', '<i4')])"
      ]
     },
     "execution_count": 6,
     "metadata": {},
     "output_type": "execute_result"
    }
   ],
   "source": [
    "T = np.load('data/ETHUSDT.2022-05-08.tick.npz')['ETHUSDT'].view(np.recarray)\n",
    "\n",
    "C = ohlcVolume(T, 5_000_000)\n",
    "C[-5:]"
   ]
  },
  {
   "cell_type": "code",
   "execution_count": 8,
   "id": "9d77cc70-ea3d-417a-b94d-5eec32fa5fac",
   "metadata": {
    "execution": {
     "iopub.execute_input": "2022-06-22T08:14:46.105061Z",
     "iopub.status.busy": "2022-06-22T08:14:46.105061Z",
     "iopub.status.idle": "2022-06-22T08:14:46.109062Z",
     "shell.execute_reply": "2022-06-22T08:14:46.109062Z",
     "shell.execute_reply.started": "2022-06-22T08:14:46.105061Z"
    },
    "tags": []
   },
   "outputs": [
    {
     "data": {
      "text/plain": [
       "array([28.57677546, 26.06332947, 23.90894718, 21.3044472 , 19.66348248])"
      ]
     },
     "execution_count": 8,
     "metadata": {},
     "output_type": "execute_result"
    }
   ],
   "source": [
    "adx = ADX(C.High, C.Low, C.Close, 7)\n",
    "adx[-5:]"
   ]
  },
  {
   "cell_type": "code",
   "execution_count": 9,
   "id": "a97423f1-7b08-4288-923a-e520623978b5",
   "metadata": {
    "execution": {
     "iopub.execute_input": "2022-06-22T08:15:02.129867Z",
     "iopub.status.busy": "2022-06-22T08:15:02.129367Z",
     "iopub.status.idle": "2022-06-22T08:15:02.244887Z",
     "shell.execute_reply": "2022-06-22T08:15:02.244887Z",
     "shell.execute_reply.started": "2022-06-22T08:15:02.129867Z"
    },
    "tags": []
   },
   "outputs": [
    {
     "data": {
      "application/vnd.jupyter.widget-view+json": {
       "model_id": "c63a0aa3d2f648f49e981ac83e689279",
       "version_major": 2,
       "version_minor": 0
      },
      "text/plain": [
       "FigureWidget({\n",
       "    'data': [{'close': array([2631.42, 2640.66, 2630.61, 2629.71, 2629.74, 2625.4 , 2628.47, 26…"
      ]
     },
     "metadata": {},
     "output_type": "display_data"
    }
   ],
   "source": [
    "fig = go.FigureWidget(make_subplots(rows=3, cols=1, shared_xaxes=True, vertical_spacing=0,\n",
    "                                    row_heights=[0.7, 0.15, 0.15], specs=[[{\"secondary_y\": True}], [{}], [{}]]))\n",
    "\n",
    "fig.update_layout(autosize=True, height=600, template='plotly_white',\n",
    "                  legend=dict(x=0.4, y=1.01, orientation=\"h\"),\n",
    "                  margin=dict(l=45, r=5, b=10, t=10, pad=3),\n",
    "                  xaxis_rangeslider_visible=False,\n",
    "                  yaxis2_showgrid=False)\n",
    "\n",
    "fig.add_candlestick(\n",
    "    open=C.Open, high=C.High, low=C.Low, close=C.Close, name='OHLC', opacity=0.5)\n",
    "\n",
    "fig.add_bar(y=C.BuySize, name='Buy', marker_color='green', opacity=0.5, offsetgroup=0, row=2, col=1)\n",
    "fig.add_bar(y=C.SellSize, name='Sell', marker_color='red', opacity=0.5, offsetgroup=0, row=2, col=1)\n",
    "\n",
    "fig.add_scattergl(name='ADX', y=adx, row=3, col=1)\n",
    "\n",
    "fig.update_xaxes(spikemode='across+marker', spikedash='dot', spikethickness=2, spikesnap='cursor')\n",
    "fig.update_traces(xaxis='x1')\n",
    "\n",
    "fig"
   ]
  },
  {
   "cell_type": "code",
   "execution_count": null,
   "id": "004d718c-32c4-425d-aa95-bfb1a5f66230",
   "metadata": {},
   "outputs": [],
   "source": []
  }
 ],
 "metadata": {
  "kernelspec": {
   "display_name": "Python 3 (ipykernel)",
   "language": "python",
   "name": "python3"
  },
  "language_info": {
   "codemirror_mode": {
    "name": "ipython",
    "version": 3
   },
   "file_extension": ".py",
   "mimetype": "text/x-python",
   "name": "python",
   "nbconvert_exporter": "python",
   "pygments_lexer": "ipython3",
   "version": "3.9.12"
  }
 },
 "nbformat": 4,
 "nbformat_minor": 5
}

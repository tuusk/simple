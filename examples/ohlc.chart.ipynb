{
 "cells": [
  {
   "cell_type": "markdown",
   "id": "ab4ce2c3-0c3f-40fc-83cd-399a39339872",
   "metadata": {},
   "source": [
    "## Just an equivolume OHLC chart"
   ]
  },
  {
   "cell_type": "code",
   "execution_count": 4,
   "id": "99d015a5-e0f9-4836-bc38-0a75f2a716fe",
   "metadata": {},
   "outputs": [],
   "source": [
    "import numpy as np\n",
    "from simple.ohlc import ohlcVolume\n",
    "import plotly.graph_objects as go\n",
    "from plotly.subplots import make_subplots\n",
    "from talib import ADX"
   ]
  },
  {
   "cell_type": "code",
   "execution_count": 6,
   "id": "f0177d68-489a-4ce3-9660-277ef75473cb",
   "metadata": {},
   "outputs": [
    {
     "data": {
      "text/plain": [
       "rec.array([('2021-06-04T20:01:21.200000', 37140.5, 37140.5, 36730.5, 36879.5, 50007907., 18542459, -31442567),\n",
       "           ('2021-06-04T21:45:56.794000', 36879.5, 37248.5, 36858.5, 37188. , 50024098., 23661006, -26356102),\n",
       "           ('2021-06-04T22:55:20.106000', 37188. , 37223.5, 37060.5, 37197.5, 50025182., 22309822, -27716673),\n",
       "           ('2021-06-04T23:16:22.755000', 37197.5, 37208.5, 36489.5, 36530. , 50023850., 17857670, -32164873),\n",
       "           ('1970-01-01T00:00:00.000000', 36530. , 37071.5, 36530. ,     0. , 43896410., 19920081, -23976315)],\n",
       "          dtype=[('DT', '<M8[us]'), ('Open', '<f8'), ('High', '<f8'), ('Low', '<f8'), ('Close', '<f8'), ('Volume', '<f8'), ('Buy', '<i8'), ('Sell', '<i8')])"
      ]
     },
     "execution_count": 6,
     "metadata": {},
     "output_type": "execute_result"
    }
   ],
   "source": [
    "T = np.load('data/tick.npz')['BTCUSDT'].view(np.recarray)\n",
    "\n",
    "C = ohlcVolume(T, 50_000_000)\n",
    "C[-5:]"
   ]
  },
  {
   "cell_type": "code",
   "execution_count": 12,
   "id": "9d77cc70-ea3d-417a-b94d-5eec32fa5fac",
   "metadata": {},
   "outputs": [
    {
     "data": {
      "text/plain": [
       "array([22.37827108, 21.35997529, 20.48715034, 22.39107531, 24.02301099])"
      ]
     },
     "execution_count": 12,
     "metadata": {},
     "output_type": "execute_result"
    }
   ],
   "source": [
    "adx = ADX(C.High, C.Low, C.Close, 7)\n",
    "adx[-5:]"
   ]
  },
  {
   "cell_type": "code",
   "execution_count": 13,
   "id": "a97423f1-7b08-4288-923a-e520623978b5",
   "metadata": {},
   "outputs": [
    {
     "data": {
      "application/vnd.jupyter.widget-view+json": {
       "model_id": "b7dc88a0ad5948fc80260dd2bb797fb5",
       "version_major": 2,
       "version_minor": 0
      },
      "text/plain": [
       "FigureWidget({\n",
       "    'data': [{'close': array([37708. , 37710.5, 37000. , 36775. , 36677. , 36896. , 37287.5, 36…"
      ]
     },
     "metadata": {},
     "output_type": "display_data"
    }
   ],
   "source": [
    "fig = go.FigureWidget(make_subplots(rows=3, cols=1, shared_xaxes=True, vertical_spacing=0,\n",
    "                                    row_heights=[0.7, 0.15, 0.15], specs=[[{\"secondary_y\": True}], [{}], [{}]]))\n",
    "\n",
    "fig.update_layout(autosize=True, height=600, template='plotly_white',\n",
    "                  legend=dict(x=0.4, y=1.01, orientation=\"h\"),\n",
    "                  margin=dict(l=45, r=5, b=10, t=10, pad=3),\n",
    "                  xaxis_rangeslider_visible=False,\n",
    "                  yaxis2_showgrid=False)\n",
    "\n",
    "fig.add_candlestick(\n",
    "    open=C.Open, high=C.High, low=C.Low, close=C.Close, name='OHLC', opacity=0.5)\n",
    "\n",
    "fig.add_bar(y=C.Buy, name='Buy', marker_color='green', opacity=0.5, offsetgroup=0, row=2, col=1)\n",
    "fig.add_bar(y=C.Sell, name='Sell', marker_color='red', opacity=0.5, offsetgroup=0, row=2, col=1)\n",
    "\n",
    "fig.add_scattergl(name='ADX', y=adx, row=3, col=1)\n",
    "\n",
    "fig.update_xaxes(spikemode='across+marker', spikedash='dot', spikethickness=2, spikesnap='cursor')\n",
    "fig.update_traces(xaxis='x1')\n",
    "\n",
    "fig"
   ]
  },
  {
   "cell_type": "code",
   "execution_count": null,
   "id": "004d718c-32c4-425d-aa95-bfb1a5f66230",
   "metadata": {},
   "outputs": [],
   "source": []
  }
 ],
 "metadata": {
  "kernelspec": {
   "display_name": "Python 3 (ipykernel)",
   "language": "python",
   "name": "python3"
  },
  "language_info": {
   "codemirror_mode": {
    "name": "ipython",
    "version": 3
   },
   "file_extension": ".py",
   "mimetype": "text/x-python",
   "name": "python",
   "nbconvert_exporter": "python",
   "pygments_lexer": "ipython3",
   "version": "3.8.13"
  }
 },
 "nbformat": 4,
 "nbformat_minor": 5
}

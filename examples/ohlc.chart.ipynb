{
 "cells": [
  {
   "cell_type": "markdown",
   "id": "ab4ce2c3-0c3f-40fc-83cd-399a39339872",
   "metadata": {},
   "source": [
    "## Just an equivolume OHLC chart"
   ]
  },
  {
   "cell_type": "code",
   "execution_count": 1,
   "id": "99d015a5-e0f9-4836-bc38-0a75f2a716fe",
   "metadata": {},
   "outputs": [],
   "source": [
    "import numpy as np\n",
    "from simple.ohlc import ohlcVolume\n",
    "import plotly.graph_objects as go\n",
    "from plotly.subplots import make_subplots"
   ]
  },
  {
   "cell_type": "code",
   "execution_count": 2,
   "id": "f0177d68-489a-4ce3-9660-277ef75473cb",
   "metadata": {},
   "outputs": [
    {
     "data": {
      "text/plain": [
       "127"
      ]
     },
     "execution_count": 2,
     "metadata": {},
     "output_type": "execute_result"
    }
   ],
   "source": [
    "T = np.load('data/tick.npz')['BTCUSDT'].view(np.recarray)\n",
    "\n",
    "OHLC = ohlcVolume(T, 50_000_000)\n",
    "len(OHLC)"
   ]
  },
  {
   "cell_type": "code",
   "execution_count": 3,
   "id": "a97423f1-7b08-4288-923a-e520623978b5",
   "metadata": {},
   "outputs": [
    {
     "data": {
      "application/vnd.jupyter.widget-view+json": {
       "model_id": "e0de875a0a8c44a4b2248036f3359d06",
       "version_major": 2,
       "version_minor": 0
      },
      "text/plain": [
       "FigureWidget({\n",
       "    'data': [{'close': array([37708. , 37710.5, 37000. , 36775. , 36677. , 36896. , 37287.5, 36…"
      ]
     },
     "metadata": {},
     "output_type": "display_data"
    }
   ],
   "source": [
    "fig = go.FigureWidget(make_subplots(rows=2, cols=1, shared_xaxes=True, vertical_spacing=0,\n",
    "                                    row_heights=[0.75, 0.25], specs=[[{\"secondary_y\": True}], [{}]]))\n",
    "\n",
    "fig.update_layout(autosize=True, height=600, template='plotly_white',\n",
    "                  legend=dict(x=0.4, y=1.01, orientation=\"h\"),\n",
    "                  margin=dict(l=45, r=5, b=10, t=10, pad=3),\n",
    "                  xaxis_rangeslider_visible=False,\n",
    "                  yaxis2_showgrid=False)\n",
    "\n",
    "fig.add_candlestick(\n",
    "    open=OHLC.Open, high=OHLC.High, low=OHLC.Low, close=OHLC.Close, name='OHLC', opacity=0.5)\n",
    "\n",
    "fig.add_bar(y=OHLC.Buy, name='Buy', marker_color='green', opacity=0.5, offsetgroup=0, row=2, col=1)\n",
    "fig.add_bar(y=OHLC.Sell, name='Sell', marker_color='red', opacity=0.5, offsetgroup=0, row=2, col=1)\n",
    "\n",
    "fig.update_xaxes(spikemode='across+marker', spikedash='dot', spikethickness=2, spikesnap='cursor')\n",
    "fig.update_traces(xaxis='x1')\n",
    "\n",
    "fig"
   ]
  },
  {
   "cell_type": "code",
   "execution_count": null,
   "id": "004d718c-32c4-425d-aa95-bfb1a5f66230",
   "metadata": {},
   "outputs": [],
   "source": []
  }
 ],
 "metadata": {
  "kernelspec": {
   "display_name": "Python 3 (ipykernel)",
   "language": "python",
   "name": "python3"
  },
  "language_info": {
   "codemirror_mode": {
    "name": "ipython",
    "version": 3
   },
   "file_extension": ".py",
   "mimetype": "text/x-python",
   "name": "python",
   "nbconvert_exporter": "python",
   "pygments_lexer": "ipython3",
   "version": "3.8.13"
  }
 },
 "nbformat": 4,
 "nbformat_minor": 5
}

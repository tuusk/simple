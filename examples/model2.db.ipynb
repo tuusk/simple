{
 "cells": [
  {
   "cell_type": "code",
   "execution_count": 1,
   "id": "32d83697-21bb-45cf-a73b-c2f01765725a",
   "metadata": {
    "ExecuteTime": {
     "end_time": "2022-08-10T13:36:36.566327Z",
     "start_time": "2022-08-10T13:36:35.368430Z"
    },
    "code_folding": [
     0
    ],
    "tags": []
   },
   "outputs": [],
   "source": [
    "# Tick speed threshold model\n",
    "import numpy as np\n",
    "import pandas as pd\n",
    "\n",
    "import simple.histdb as db\n",
    "from simple.ohlc import debounce\n",
    "from simple.backtest import npBacktestMarket, getProfit, getLong, getShort\n",
    "from simple.types import TTrade\n",
    "from simple.pretty import pp\n",
    "from simple.geneopt import GridOpt\n",
    "from simple.plotly import interactTable, interactFigure\n",
    "from simple.funcs import tickSpeed, getSpread\n",
    "from simple.plotly import chartFigure\n",
    "\n",
    "np.set_printoptions(edgeitems=2)\n",
    "#%load_ext ipycache"
   ]
  },
  {
   "cell_type": "code",
   "execution_count": null,
   "id": "5726899d-0502-4aa3-b10f-308d5a4511f8",
   "metadata": {
    "ExecuteTime": {
     "end_time": "2022-08-10T13:36:36.589706Z",
     "start_time": "2022-08-10T13:36:36.569602Z"
    }
   },
   "outputs": [
    {
     "name": "stdout",
     "output_type": "stream",
     "text": [
      "KeyError('HISTDB_PASSWORD') .reconnectKeyError('HISTDB_PASSWORD') .reconnectKeyError('HISTDB_PASSWORD') .reconnectKeyError('HISTDB_PASSWORD') .reconnectKeyError('HISTDB_PASSWORD') .reconnectKeyError('HISTDB_PASSWORD') .reconnectKeyError('HISTDB_PASSWORD') .reconnect"
     ]
    }
   ],
   "source": [
    "startDate, endDate = '2022-01-01', '2022-07-30'\n",
    "ticker = 'BTCUSDT'\n",
    "tickerID = db.getTickerID(f'{ticker}@BINANCE')\n",
    "tickerID"
   ]
  },
  {
   "cell_type": "code",
   "execution_count": null,
   "id": "eb71d2b4-f5c1-4597-8b48-57939065dcd1",
   "metadata": {
    "ExecuteTime": {
     "end_time": "2022-08-10T13:37:22.387116Z",
     "start_time": "2022-08-10T13:36:36.593171Z"
    }
   },
   "outputs": [],
   "source": [
    "T = db.npTradeT(tickerID, startDate, endDate)\n",
    "T.dtype = TTrade\n",
    "T"
   ]
  },
  {
   "cell_type": "code",
   "execution_count": null,
   "id": "78e04266-fe1b-4c7d-8e5f-2c16fbd006a5",
   "metadata": {
    "ExecuteTime": {
     "end_time": "2022-08-10T13:38:04.626822Z",
     "start_time": "2022-08-10T13:37:22.390609Z"
    }
   },
   "outputs": [],
   "source": [
    "C = debounce(T)[:-1]\n",
    "print(len(T), 'trades converted to', len(C), 'debounced records')\n",
    "C"
   ]
  },
  {
   "cell_type": "code",
   "execution_count": null,
   "id": "86293234-88f2-46dd-8f48-225defbb37e4",
   "metadata": {
    "ExecuteTime": {
     "end_time": "2022-08-10T13:47:19.918350Z",
     "start_time": "2022-08-10T13:38:04.629026Z"
    }
   },
   "outputs": [],
   "source": [
    "#%%cache mycache.pkl ts, A, vA, B, vB\n",
    "ts, A, vA, B, vB = db.flatSnapS(tickerID, startDate, endDate, 1)\n",
    "ts"
   ]
  },
  {
   "cell_type": "code",
   "execution_count": null,
   "id": "934eb729-2caf-4bc5-8574-2aee41c590dd",
   "metadata": {
    "ExecuteTime": {
     "end_time": "2022-08-10T13:47:34.125483Z",
     "start_time": "2022-08-10T13:47:19.921975Z"
    }
   },
   "outputs": [],
   "source": [
    "R = getSpread(ts, A[0], B[0], C).view(np.recarray)\n",
    "R"
   ]
  },
  {
   "cell_type": "code",
   "execution_count": null,
   "id": "15898efe",
   "metadata": {
    "ExecuteTime": {
     "end_time": "2022-08-08T06:16:03.293331Z",
     "start_time": "2022-08-08T06:15:05.581287Z"
    },
    "deletable": false,
    "editable": false,
    "run_control": {
     "frozen": true
    }
   },
   "outputs": [],
   "source": [
    "np.savez_compressed(f'/tmp/{ticker}.npz', C=C, Ask=R.Ask, Bid=R.Bid)"
   ]
  },
  {
   "cell_type": "code",
   "execution_count": null,
   "id": "d9c02e2a-17f8-4106-8d6e-6737c39db55b",
   "metadata": {
    "ExecuteTime": {
     "end_time": "2022-08-10T13:47:34.134213Z",
     "start_time": "2022-08-10T13:47:34.127790Z"
    }
   },
   "outputs": [],
   "source": [
    "# declare chart linestyles\n",
    "line_styles = {\n",
    "    'Price': dict(color='gray', opacity=0.25),\n",
    "    'Speed': dict(color='magenta', opacity=0.5, row=2),\n",
    "    'Spread': dict(color='blue', opacity=0.5, row=3),\n",
    "\n",
    "    'Profit': dict(color='blue', width=3, opacity=0.4, secondary_y=True, connectgaps=True),\n",
    "    'RawPnL': dict(color='gray', width=3, opacity=0.4, secondary_y=True, connectgaps=True),\n",
    "    'Buy': dict(mode='markers', color='green', symbol='triangle-up', size=10, line=dict(color=\"darkgreen\", width=1)),\n",
    "    'Sell': dict(mode='markers', color='red', symbol='triangle-down', size=10, line=dict(color=\"darkred\", width=1))\n",
    "}"
   ]
  },
  {
   "cell_type": "code",
   "execution_count": null,
   "id": "963bdc75-7fc6-4193-8cf5-32ce56c260ce",
   "metadata": {
    "ExecuteTime": {
     "end_time": "2022-08-10T13:47:34.146991Z",
     "start_time": "2022-08-10T13:47:34.135842Z"
    }
   },
   "outputs": [],
   "source": [
    "def model(Threshold: int = (2, 5.5, 0.125), Period: int = (500, 15000, 500)):\n",
    "    Speed = tickSpeed(C, Period, log=True)\n",
    "    D = npBacktestMarket(C.DT, R.Ask, R.Bid, Speed, Threshold, hold=None)\n",
    "    P = getProfit(D)\n",
    "\n",
    "    return P.Profit.sum(), {\n",
    "        'Count': len(P),\n",
    "        'AvgProfit': P.Profit.mean() if len(P) > 0 else 0,\n",
    "        'RawPnL': P.RawPnL.sum() if len(P) > 0 else 0,\n",
    "        'Fee': P.Fee.sum() if len(P) > 0 else 0,\n",
    "        'MidPnL': P.MidPnL.sum() if len(P) > 0 else 0,\n",
    "        'Sharpe': P.Profit.sum() / P.Profit.std() if len(P) > 1 else 0\n",
    "     }"
   ]
  },
  {
   "cell_type": "code",
   "execution_count": null,
   "id": "e488b963",
   "metadata": {
    "ExecuteTime": {
     "end_time": "2022-08-10T13:47:34.156115Z",
     "start_time": "2022-08-10T13:47:34.148791Z"
    }
   },
   "outputs": [],
   "source": [
    "def modelp(Threshold: int = (2, 5.5, 0.125), Period: int = (500, 15000, 500)):\n",
    "    Price = C.Price\n",
    "    Speed = np.nan_to_num(tickSpeed(C, Period, log=True))\n",
    "    Spread = R.Mean\n",
    "\n",
    "    D = npBacktestMarket(C.DT, R.Ask, R.Bid, Speed, Threshold, hold=600_000_000)\n",
    "    P = getProfit(D)\n",
    "    Profit = {'x': P.Index, 'y': P.Profit.cumsum()}\n",
    "    RawPnL = {'x': P.Index, 'y': P.RawPnL.cumsum()}\n",
    "    Fee = {'x': P.Index, 'y': P.Fee.cumsum()}\n",
    "    MidPnL = {'x': P.Index, 'y': P.MidPnL.cumsum()}\n",
    "    Buy, Sell = getLong(D), getShort(D)\n",
    "\n",
    "    return P.Profit.sum(), locals()"
   ]
  },
  {
   "cell_type": "code",
   "execution_count": null,
   "id": "4e2ab721",
   "metadata": {
    "ExecuteTime": {
     "end_time": "2022-08-10T13:47:39.611069Z",
     "start_time": "2022-08-10T13:47:34.158289Z"
    }
   },
   "outputs": [],
   "source": [
    "D = modelp(3.7, 500)\n",
    "pd.DataFrame(D[1]['D'])"
   ]
  },
  {
   "cell_type": "code",
   "execution_count": null,
   "id": "76056e54",
   "metadata": {
    "ExecuteTime": {
     "end_time": "2022-08-10T13:47:49.435740Z",
     "start_time": "2022-08-10T13:47:39.614476Z"
    }
   },
   "outputs": [],
   "source": [
    "interactFigure(modelp, height=600, rows=3, **line_styles)"
   ]
  },
  {
   "cell_type": "code",
   "execution_count": null,
   "id": "7ec6c242-c76c-43f2-b31c-f8fc0cb935aa",
   "metadata": {
    "ExecuteTime": {
     "end_time": "2022-08-10T14:14:30.348535Z",
     "start_time": "2022-08-10T13:47:49.437445Z"
    }
   },
   "outputs": [],
   "source": [
    "G = GridOpt(model)\n",
    "G.fullSearch()\n",
    "X = pd.DataFrame(G.log, columns=G.log_columns).drop_duplicates().sort_values('Fitness')\n",
    "X.Threshold = X.Threshold.apply(lambda f: f'{f:1.2f}')  # explicit float format \n",
    "X"
   ]
  },
  {
   "cell_type": "code",
   "execution_count": null,
   "id": "4885c31e-e97a-4d61-891c-5a837d31137e",
   "metadata": {
    "ExecuteTime": {
     "end_time": "2022-08-10T14:14:31.257663Z",
     "start_time": "2022-08-10T14:14:30.350984Z"
    }
   },
   "outputs": [],
   "source": [
    "# Grid map\n",
    "pp(X.pivot(index='Period', columns='Threshold', values='MidPnL').astype(int))"
   ]
  },
  {
   "cell_type": "code",
   "execution_count": null,
   "id": "eae593e1",
   "metadata": {
    "ExecuteTime": {
     "end_time": "2022-08-10T14:14:41.402210Z",
     "start_time": "2022-08-10T14:14:31.259656Z"
    }
   },
   "outputs": [],
   "source": [
    "# Grid result browser\n",
    "interactTable(modelp, X, height=600, rows=3, **line_styles)"
   ]
  },
  {
   "cell_type": "code",
   "execution_count": null,
   "id": "c44cc663",
   "metadata": {},
   "outputs": [],
   "source": []
  }
 ],
 "metadata": {
  "kernelspec": {
   "display_name": "Python 3 (ipykernel)",
   "language": "python",
   "name": "python3"
  },
  "language_info": {
   "codemirror_mode": {
    "name": "ipython",
    "version": 3
   },
   "file_extension": ".py",
   "mimetype": "text/x-python",
   "name": "python",
   "nbconvert_exporter": "python",
   "pygments_lexer": "ipython3",
   "version": "3.8.13"
  },
  "widgets": {
   "application/vnd.jupyter.widget-state+json": {
    "state": {},
    "version_major": 2,
    "version_minor": 0
   }
  }
 },
 "nbformat": 4,
 "nbformat_minor": 5
}

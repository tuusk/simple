{
 "cells": [
  {
   "cell_type": "code",
   "execution_count": 1,
   "id": "32d83697-21bb-45cf-a73b-c2f01765725a",
   "metadata": {
    "ExecuteTime": {
     "end_time": "2022-08-10T13:36:36.566327Z",
     "start_time": "2022-08-10T13:36:35.368430Z"
    },
    "code_folding": [
     0
    ],
    "tags": []
   },
   "outputs": [
    {
     "name": "stderr",
     "output_type": "stream",
     "text": [
      "/home/neurox/anaconda3/lib/python3.9/site-packages/IPython/config.py:12: ShimWarning: The `IPython.config` package has been deprecated since IPython 4.0. You should import from traitlets.config instead.\n",
      "  warn(\"The `IPython.config` package has been deprecated since IPython 4.0. \"\n",
      "/home/neurox/anaconda3/lib/python3.9/site-packages/ipycache.py:17: UserWarning: IPython.utils.traitlets has moved to a top-level traitlets package.\n",
      "  from IPython.utils.traitlets import Unicode\n"
     ]
    }
   ],
   "source": [
    "# Tick speed threshold model\n",
    "import numpy as np\n",
    "import pandas as pd\n",
    "from multiprocessing import current_process\n",
    "\n",
    "import simple.histdb as db\n",
    "from simple.ohlc import debounce, npJoin\n",
    "from simple.backtest import npBacktestMarket, getProfit, getLong, getShort\n",
    "from simple.types import TTrade\n",
    "from simple.pretty import pp\n",
    "from simple.geneopt import GridOpt\n",
    "from simple.plotly import interactTable, interactFigure\n",
    "from simple.funcs import symlog, tickSpeed, getSpread\n",
    "from simple.plotly import chartFigure, chartTrades\n",
    "\n",
    "np.set_printoptions(edgeitems=2)\n",
    "%load_ext ipycache"
   ]
  },
  {
   "cell_type": "code",
   "execution_count": 2,
   "id": "5726899d-0502-4aa3-b10f-308d5a4511f8",
   "metadata": {
    "ExecuteTime": {
     "end_time": "2022-08-10T13:36:36.589706Z",
     "start_time": "2022-08-10T13:36:36.569602Z"
    }
   },
   "outputs": [
    {
     "data": {
      "text/plain": [
       "10551"
      ]
     },
     "execution_count": 2,
     "metadata": {},
     "output_type": "execute_result"
    }
   ],
   "source": [
    "startDate, endDate = '2022-01-01', '2022-07-30'\n",
    "ticker = 'BTCUSDT'\n",
    "tickerID = db.getTickerID(f'{ticker}@BINANCE')\n",
    "tickerID"
   ]
  },
  {
   "cell_type": "code",
   "execution_count": 3,
   "id": "eb71d2b4-f5c1-4597-8b48-57939065dcd1",
   "metadata": {
    "ExecuteTime": {
     "end_time": "2022-08-10T13:37:22.387116Z",
     "start_time": "2022-08-10T13:36:36.593171Z"
    }
   },
   "outputs": [
    {
     "data": {
      "application/vnd.jupyter.widget-view+json": {
       "model_id": "3fa4ca4b33294b18a2ef7cde385f4424",
       "version_major": 2,
       "version_minor": 0
      },
      "text/plain": [
       "  0%|          | 0/187 [00:00<?, ?it/s]"
      ]
     },
     "metadata": {},
     "output_type": "display_data"
    },
    {
     "data": {
      "text/plain": [
       "rec.array([('2022-01-13T12:34:19.993999', '2022-01-13T12:34:19.990000', 43760.82, -1., nan),\n",
       "           ('2022-01-13T12:34:20.222999', '2022-01-13T12:34:20.224000', 43760.82, -1., nan),\n",
       "           ...,\n",
       "           ('2022-07-29T23:59:59.999000', '2022-07-29T23:59:59.996000', 23773.75, -3., nan),\n",
       "           ('2022-07-29T23:59:59.999000', '2022-07-29T23:59:59.996000', 23773.75, -1., nan)],\n",
       "          dtype=[('DT', '<M8[us]'), ('LocalDT', '<M8[us]'), ('Price', '<f8'), ('Size', '<f8'), ('OpenInt', '<f8')])"
      ]
     },
     "execution_count": 3,
     "metadata": {},
     "output_type": "execute_result"
    }
   ],
   "source": [
    "T = db.npTradeT(tickerID, startDate, endDate)\n",
    "T.dtype = TTrade\n",
    "T"
   ]
  },
  {
   "cell_type": "code",
   "execution_count": 4,
   "id": "78e04266-fe1b-4c7d-8e5f-2c16fbd006a5",
   "metadata": {
    "ExecuteTime": {
     "end_time": "2022-08-10T13:38:04.626822Z",
     "start_time": "2022-08-10T13:37:22.390609Z"
    }
   },
   "outputs": [
    {
     "name": "stdout",
     "output_type": "stream",
     "text": [
      "254910055 trades converted to 72059788 debounced records\n"
     ]
    },
    {
     "data": {
      "text/plain": [
       "rec.array([('2022-01-13T12:34:25.790999',        0, 43760.825, 4633001,  -8., 174., -182., 29, 13, 16),\n",
       "           ('2022-01-13T12:34:29.274000',        1, 43759.465, 3483001, 320., 371.,  -51., 13,  7,  6),\n",
       "           ...,\n",
       "           ('2022-07-29T23:59:59.997999', 72059786, 23777.275,       0,   5.,   5.,    0.,  2,  2,  0),\n",
       "           ('2022-07-29T23:59:59.997999', 72059787, 23775.705,       0,  -1.,   0.,   -1.,  1,  0,  1)],\n",
       "          dtype=[('DT', '<M8[us]'), ('Index', '<i8'), ('Price', '<f8'), ('Duration', '<m8[us]'), ('Size', '<f8'), ('BuySize', '<f8'), ('SellSize', '<f8'), ('Count', '<i8'), ('BuyCount', '<i8'), ('SellCount', '<i8')])"
      ]
     },
     "execution_count": 4,
     "metadata": {},
     "output_type": "execute_result"
    }
   ],
   "source": [
    "C = debounce(T)[:-1]\n",
    "print(len(T), 'trades converted to', len(C), 'debounced records')\n",
    "C"
   ]
  },
  {
   "cell_type": "code",
   "execution_count": 5,
   "id": "86293234-88f2-46dd-8f48-225defbb37e4",
   "metadata": {
    "ExecuteTime": {
     "end_time": "2022-08-10T13:47:19.918350Z",
     "start_time": "2022-08-10T13:38:04.629026Z"
    }
   },
   "outputs": [
    {
     "data": {
      "application/vnd.jupyter.widget-view+json": {
       "model_id": "f6724da09a864a869343735378ce39ea",
       "version_major": 2,
       "version_minor": 0
      },
      "text/plain": [
       "  0%|          | 0/268054 [00:00<?, ?it/s]"
      ]
     },
     "metadata": {},
     "output_type": "display_data"
    },
    {
     "data": {
      "text/plain": [
       "array(['2022-01-13T12:34:19.277000', '2022-01-13T12:34:19.377000', ...,\n",
       "       '2022-07-29T23:59:59.812999', '2022-07-29T23:59:59.912999'],\n",
       "      dtype='datetime64[us]')"
      ]
     },
     "execution_count": 5,
     "metadata": {},
     "output_type": "execute_result"
    }
   ],
   "source": [
    "#%%cache mycache.pkl ts, A, vA, B, vB\n",
    "ts, A, vA, B, vB = db.flatSnapS(tickerID, startDate, endDate, 1)\n",
    "ts"
   ]
  },
  {
   "cell_type": "code",
   "execution_count": 6,
   "id": "934eb729-2caf-4bc5-8574-2aee41c590dd",
   "metadata": {
    "ExecuteTime": {
     "end_time": "2022-08-10T13:47:34.125483Z",
     "start_time": "2022-08-10T13:47:19.921975Z"
    }
   },
   "outputs": [
    {
     "data": {
      "text/plain": [
       "rec.array([(43759.46875  , 43759.4609375, 0.07981179, 0., 0.),\n",
       "           (43759.4609375, 43756.328125 , 0.11875   , 0., 0.), ...,\n",
       "           (    0.       ,     0.       , 0.        , 0., 0.),\n",
       "           (    0.       ,     0.       , 0.        , 0., 0.)],\n",
       "          dtype=[('Ask', '<f8'), ('Bid', '<f8'), ('Mean', '<f8'), ('AskLiq', '<f8'), ('BidLiq', '<f8')])"
      ]
     },
     "execution_count": 6,
     "metadata": {},
     "output_type": "execute_result"
    }
   ],
   "source": [
    "R = getSpread(ts, A[0], B[0], C).view(np.recarray)\n",
    "R"
   ]
  },
  {
   "cell_type": "code",
   "execution_count": 7,
   "id": "15898efe",
   "metadata": {
    "ExecuteTime": {
     "end_time": "2022-08-08T06:16:03.293331Z",
     "start_time": "2022-08-08T06:15:05.581287Z"
    },
    "deletable": false,
    "editable": false,
    "run_control": {
     "frozen": true
    }
   },
   "outputs": [],
   "source": [
    "np.savez_compressed(f'/tmp/{ticker}.npz', C=C, Ask=R.Ask, Bid=R.Bid)"
   ]
  },
  {
   "cell_type": "code",
   "execution_count": 8,
   "id": "d9c02e2a-17f8-4106-8d6e-6737c39db55b",
   "metadata": {
    "ExecuteTime": {
     "end_time": "2022-08-10T13:47:34.134213Z",
     "start_time": "2022-08-10T13:47:34.127790Z"
    }
   },
   "outputs": [],
   "source": [
    "# declare chart linestyles\n",
    "line_styles = {\n",
    "    'Price': dict(color='gray', opacity=0.25),\n",
    "    'Speed': dict(color='magenta', opacity=0.5, row=2),\n",
    "    'Spread': dict(color='blue', opacity=0.5, row=3),\n",
    "\n",
    "    'Profit': dict(color='blue', width=3, opacity=0.4, secondary_y=True, connectgaps=True),\n",
    "    'RawPnL': dict(color='gray', width=3, opacity=0.4, secondary_y=True, connectgaps=True),\n",
    "    'Buy': dict(mode='markers', color='green', symbol='triangle-up', size=10, line=dict(color=\"darkgreen\", width=1)),\n",
    "    'Sell': dict(mode='markers', color='red', symbol='triangle-down', size=10, line=dict(color=\"darkred\", width=1))\n",
    "}"
   ]
  },
  {
   "cell_type": "code",
   "execution_count": 9,
   "id": "963bdc75-7fc6-4193-8cf5-32ce56c260ce",
   "metadata": {
    "ExecuteTime": {
     "end_time": "2022-08-10T13:47:34.146991Z",
     "start_time": "2022-08-10T13:47:34.135842Z"
    }
   },
   "outputs": [],
   "source": [
    "def model(Threshold: int=(2, 5.5, 0.125), Period: int=(500, 15000, 500)):\n",
    "    Speed = tickSpeed(C, Period, log=True)\n",
    "    D = npBacktestMarket(C.DT, R.Ask, R.Bid, Speed, Threshold, hold=None)\n",
    "    P = getProfit(D)\n",
    "    \n",
    "    return P.Profit.sum(), {\n",
    "        'Count': len(P),\n",
    "        'AvgProfit': P.Profit.mean() if len(P) > 0 else 0,\n",
    "        'RawPnL': P.RawPnL.sum() if len(P) > 0 else 0,\n",
    "        'Fee': P.Fee.sum() if len(P) > 0 else 0,\n",
    "        'MidPnL': P.MidPnL.sum() if len(P) > 0 else 0,\n",
    "        'Sharpe': P.Profit.sum() / P.Profit.std() if len(P) > 1 else 0\n",
    "     }"
   ]
  },
  {
   "cell_type": "code",
   "execution_count": 10,
   "id": "e488b963",
   "metadata": {
    "ExecuteTime": {
     "end_time": "2022-08-10T13:47:34.156115Z",
     "start_time": "2022-08-10T13:47:34.148791Z"
    }
   },
   "outputs": [],
   "source": [
    "def modelp(Threshold: int=(2, 5.5, 0.125), Period: int=(500, 15000, 500)):\n",
    "    Price = C.Price\n",
    "    Speed = np.nan_to_num(tickSpeed(C, Period, log=True))\n",
    "    Spread = R.Mean\n",
    "    \n",
    "    D = npBacktestMarket(C.DT, R.Ask, R.Bid, Speed, Threshold, hold=600_000_000)\n",
    "    P = getProfit(D)\n",
    "    Profit = {'x': P.Index, 'y': P.Profit.cumsum()}\n",
    "    RawPnL = {'x': P.Index, 'y': P.RawPnL.cumsum()}\n",
    "    Fee = {'x': P.Index, 'y': P.Fee.cumsum()}\n",
    "    MidPnL = {'x': P.Index, 'y': P.MidPnL.cumsum()}\n",
    "    Buy, Sell = getLong(D), getShort(D)\n",
    "    \n",
    "    return P.Profit.sum(), locals()"
   ]
  },
  {
   "cell_type": "code",
   "execution_count": 11,
   "id": "4e2ab721",
   "metadata": {
    "ExecuteTime": {
     "end_time": "2022-08-10T13:47:39.611069Z",
     "start_time": "2022-08-10T13:47:34.158289Z"
    }
   },
   "outputs": [
    {
     "data": {
      "text/html": [
       "<div>\n",
       "<style scoped>\n",
       "    .dataframe tbody tr th:only-of-type {\n",
       "        vertical-align: middle;\n",
       "    }\n",
       "\n",
       "    .dataframe tbody tr th {\n",
       "        vertical-align: top;\n",
       "    }\n",
       "\n",
       "    .dataframe thead th {\n",
       "        text-align: right;\n",
       "    }\n",
       "</style>\n",
       "<table border=\"1\" class=\"dataframe\">\n",
       "  <thead>\n",
       "    <tr style=\"text-align: right;\">\n",
       "      <th></th>\n",
       "      <th>X0</th>\n",
       "      <th>T0</th>\n",
       "      <th>Price0</th>\n",
       "      <th>MidPrice0</th>\n",
       "      <th>X1</th>\n",
       "      <th>T1</th>\n",
       "      <th>Price1</th>\n",
       "      <th>MidPrice1</th>\n",
       "      <th>Size</th>\n",
       "    </tr>\n",
       "  </thead>\n",
       "  <tbody>\n",
       "    <tr>\n",
       "      <th>0</th>\n",
       "      <td>9289</td>\n",
       "      <td>2022-01-13 14:18:49.844</td>\n",
       "      <td>44200.000000</td>\n",
       "      <td>44187.369141</td>\n",
       "      <td>12503</td>\n",
       "      <td>2022-01-13 14:28:50.624</td>\n",
       "      <td>44189.988281</td>\n",
       "      <td>44189.994141</td>\n",
       "      <td>1.0</td>\n",
       "    </tr>\n",
       "    <tr>\n",
       "      <th>1</th>\n",
       "      <td>16432</td>\n",
       "      <td>2022-01-13 14:37:31.663</td>\n",
       "      <td>44346.738281</td>\n",
       "      <td>44346.734375</td>\n",
       "      <td>16433</td>\n",
       "      <td>2022-01-13 14:37:31.668</td>\n",
       "      <td>44346.730469</td>\n",
       "      <td>44346.734375</td>\n",
       "      <td>1.0</td>\n",
       "    </tr>\n",
       "    <tr>\n",
       "      <th>2</th>\n",
       "      <td>16434</td>\n",
       "      <td>2022-01-13 14:37:31.675</td>\n",
       "      <td>44346.730469</td>\n",
       "      <td>44346.734375</td>\n",
       "      <td>16741</td>\n",
       "      <td>2022-01-13 14:37:36.030</td>\n",
       "      <td>44390.898438</td>\n",
       "      <td>44387.353516</td>\n",
       "      <td>-1.0</td>\n",
       "    </tr>\n",
       "    <tr>\n",
       "      <th>3</th>\n",
       "      <td>16741</td>\n",
       "      <td>2022-01-13 14:37:36.030</td>\n",
       "      <td>44390.898438</td>\n",
       "      <td>44387.353516</td>\n",
       "      <td>16966</td>\n",
       "      <td>2022-01-13 14:37:41.125</td>\n",
       "      <td>44363.839844</td>\n",
       "      <td>44365.199219</td>\n",
       "      <td>1.0</td>\n",
       "    </tr>\n",
       "    <tr>\n",
       "      <th>4</th>\n",
       "      <td>16966</td>\n",
       "      <td>2022-01-13 14:37:41.125</td>\n",
       "      <td>44363.839844</td>\n",
       "      <td>44365.199219</td>\n",
       "      <td>20641</td>\n",
       "      <td>2022-01-13 14:47:41.855</td>\n",
       "      <td>44026.488281</td>\n",
       "      <td>44026.484375</td>\n",
       "      <td>-1.0</td>\n",
       "    </tr>\n",
       "    <tr>\n",
       "      <th>...</th>\n",
       "      <td>...</td>\n",
       "      <td>...</td>\n",
       "      <td>...</td>\n",
       "      <td>...</td>\n",
       "      <td>...</td>\n",
       "      <td>...</td>\n",
       "      <td>...</td>\n",
       "      <td>...</td>\n",
       "      <td>...</td>\n",
       "    </tr>\n",
       "    <tr>\n",
       "      <th>5319</th>\n",
       "      <td>71977176</td>\n",
       "      <td>2022-07-29 23:01:44.032</td>\n",
       "      <td>23928.800781</td>\n",
       "      <td>23927.410156</td>\n",
       "      <td>71977179</td>\n",
       "      <td>2022-07-29 23:01:44.051</td>\n",
       "      <td>23926.019531</td>\n",
       "      <td>23927.410156</td>\n",
       "      <td>1.0</td>\n",
       "    </tr>\n",
       "    <tr>\n",
       "      <th>5320</th>\n",
       "      <td>71977221</td>\n",
       "      <td>2022-07-29 23:01:44.176</td>\n",
       "      <td>23926.029297</td>\n",
       "      <td>23926.044922</td>\n",
       "      <td>71977561</td>\n",
       "      <td>2022-07-29 23:01:45.630</td>\n",
       "      <td>23939.599609</td>\n",
       "      <td>23938.375000</td>\n",
       "      <td>-1.0</td>\n",
       "    </tr>\n",
       "    <tr>\n",
       "      <th>5321</th>\n",
       "      <td>71977561</td>\n",
       "      <td>2022-07-29 23:01:45.630</td>\n",
       "      <td>23939.599609</td>\n",
       "      <td>23938.375000</td>\n",
       "      <td>71991508</td>\n",
       "      <td>2022-07-29 23:11:45.729</td>\n",
       "      <td>24030.560547</td>\n",
       "      <td>24030.910156</td>\n",
       "      <td>1.0</td>\n",
       "    </tr>\n",
       "    <tr>\n",
       "      <th>5322</th>\n",
       "      <td>72020019</td>\n",
       "      <td>2022-07-29 23:35:11.031</td>\n",
       "      <td>24017.369141</td>\n",
       "      <td>24020.219727</td>\n",
       "      <td>72032787</td>\n",
       "      <td>2022-07-29 23:45:11.137</td>\n",
       "      <td>23953.769531</td>\n",
       "      <td>23952.104492</td>\n",
       "      <td>-1.0</td>\n",
       "    </tr>\n",
       "    <tr>\n",
       "      <th>5323</th>\n",
       "      <td>72036599</td>\n",
       "      <td>2022-07-29 23:48:59.118</td>\n",
       "      <td>23884.419922</td>\n",
       "      <td>23886.309570</td>\n",
       "      <td>72051024</td>\n",
       "      <td>2022-07-29 23:55:37.482</td>\n",
       "      <td>23824.740234</td>\n",
       "      <td>23823.525391</td>\n",
       "      <td>-1.0</td>\n",
       "    </tr>\n",
       "  </tbody>\n",
       "</table>\n",
       "<p>5324 rows × 9 columns</p>\n",
       "</div>"
      ],
      "text/plain": [
       "            X0                      T0        Price0     MidPrice0        X1  \\\n",
       "0         9289 2022-01-13 14:18:49.844  44200.000000  44187.369141     12503   \n",
       "1        16432 2022-01-13 14:37:31.663  44346.738281  44346.734375     16433   \n",
       "2        16434 2022-01-13 14:37:31.675  44346.730469  44346.734375     16741   \n",
       "3        16741 2022-01-13 14:37:36.030  44390.898438  44387.353516     16966   \n",
       "4        16966 2022-01-13 14:37:41.125  44363.839844  44365.199219     20641   \n",
       "...        ...                     ...           ...           ...       ...   \n",
       "5319  71977176 2022-07-29 23:01:44.032  23928.800781  23927.410156  71977179   \n",
       "5320  71977221 2022-07-29 23:01:44.176  23926.029297  23926.044922  71977561   \n",
       "5321  71977561 2022-07-29 23:01:45.630  23939.599609  23938.375000  71991508   \n",
       "5322  72020019 2022-07-29 23:35:11.031  24017.369141  24020.219727  72032787   \n",
       "5323  72036599 2022-07-29 23:48:59.118  23884.419922  23886.309570  72051024   \n",
       "\n",
       "                          T1        Price1     MidPrice1  Size  \n",
       "0    2022-01-13 14:28:50.624  44189.988281  44189.994141   1.0  \n",
       "1    2022-01-13 14:37:31.668  44346.730469  44346.734375   1.0  \n",
       "2    2022-01-13 14:37:36.030  44390.898438  44387.353516  -1.0  \n",
       "3    2022-01-13 14:37:41.125  44363.839844  44365.199219   1.0  \n",
       "4    2022-01-13 14:47:41.855  44026.488281  44026.484375  -1.0  \n",
       "...                      ...           ...           ...   ...  \n",
       "5319 2022-07-29 23:01:44.051  23926.019531  23927.410156   1.0  \n",
       "5320 2022-07-29 23:01:45.630  23939.599609  23938.375000  -1.0  \n",
       "5321 2022-07-29 23:11:45.729  24030.560547  24030.910156   1.0  \n",
       "5322 2022-07-29 23:45:11.137  23953.769531  23952.104492  -1.0  \n",
       "5323 2022-07-29 23:55:37.482  23824.740234  23823.525391  -1.0  \n",
       "\n",
       "[5324 rows x 9 columns]"
      ]
     },
     "execution_count": 11,
     "metadata": {},
     "output_type": "execute_result"
    }
   ],
   "source": [
    "D = modelp(3.7, 500)\n",
    "pd.DataFrame(D[1]['D'])"
   ]
  },
  {
   "cell_type": "code",
   "execution_count": 12,
   "id": "76056e54",
   "metadata": {
    "ExecuteTime": {
     "end_time": "2022-08-10T13:47:49.435740Z",
     "start_time": "2022-08-10T13:47:39.614476Z"
    }
   },
   "outputs": [
    {
     "data": {
      "application/vnd.jupyter.widget-view+json": {
       "model_id": "ed748bfe71a54b79838bdbccae8e897c",
       "version_major": 2,
       "version_minor": 0
      },
      "text/plain": [
       "VBox(children=(HBox(children=(FloatSlider(value=3.75, description='Threshold', max=5.5, min=2.0, step=0.125), …"
      ]
     },
     "metadata": {},
     "output_type": "display_data"
    }
   ],
   "source": [
    "interactFigure(modelp, height=600, rows=3, **line_styles)"
   ]
  },
  {
   "cell_type": "code",
   "execution_count": null,
   "id": "7ec6c242-c76c-43f2-b31c-f8fc0cb935aa",
   "metadata": {
    "ExecuteTime": {
     "end_time": "2022-08-10T14:14:30.348535Z",
     "start_time": "2022-08-10T13:47:49.437445Z"
    }
   },
   "outputs": [
    {
     "data": {
      "application/vnd.jupyter.widget-view+json": {
       "model_id": "7f2d50e84c6b4579a3f8c50d809de58c",
       "version_major": 2,
       "version_minor": 0
      },
      "text/plain": [
       "  0%|          | 0/870 [00:00<?, ?it/s]"
      ]
     },
     "metadata": {},
     "output_type": "display_data"
    }
   ],
   "source": [
    "G = GridOpt(model)\n",
    "G.fullSearch()\n",
    "X = pd.DataFrame(G.log, columns=G.log_columns).drop_duplicates().sort_values('Fitness')\n",
    "X.Threshold = X.Threshold.apply(lambda f: f'{f:1.2f}')  # explicit float format \n",
    "X"
   ]
  },
  {
   "cell_type": "code",
   "execution_count": null,
   "id": "4885c31e-e97a-4d61-891c-5a837d31137e",
   "metadata": {
    "ExecuteTime": {
     "end_time": "2022-08-10T14:14:31.257663Z",
     "start_time": "2022-08-10T14:14:30.350984Z"
    }
   },
   "outputs": [],
   "source": [
    "# Grid map\n",
    "pp(X.pivot(index='Period', columns='Threshold', values='MidPnL').astype(int))"
   ]
  },
  {
   "cell_type": "code",
   "execution_count": null,
   "id": "eae593e1",
   "metadata": {
    "ExecuteTime": {
     "end_time": "2022-08-10T14:14:41.402210Z",
     "start_time": "2022-08-10T14:14:31.259656Z"
    }
   },
   "outputs": [],
   "source": [
    "# Grid result browser\n",
    "interactTable(modelp, X, height=600, rows=3, **line_styles)"
   ]
  },
  {
   "cell_type": "code",
   "execution_count": null,
   "id": "c44cc663",
   "metadata": {},
   "outputs": [],
   "source": []
  }
 ],
 "metadata": {
  "kernelspec": {
   "display_name": "Python 3 (ipykernel)",
   "language": "python",
   "name": "python3"
  },
  "language_info": {
   "codemirror_mode": {
    "name": "ipython",
    "version": 3
   },
   "file_extension": ".py",
   "mimetype": "text/x-python",
   "name": "python",
   "nbconvert_exporter": "python",
   "pygments_lexer": "ipython3",
   "version": "3.9.12"
  }
 },
 "nbformat": 4,
 "nbformat_minor": 5
}

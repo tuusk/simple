{
 "cells": [
  {
   "cell_type": "code",
   "execution_count": 1,
   "id": "e9df1e94",
   "metadata": {
    "execution": {
     "iopub.execute_input": "2022-04-21T15:02:54.077888Z",
     "iopub.status.busy": "2022-04-21T15:02:54.077888Z",
     "iopub.status.idle": "2022-04-21T15:02:54.343947Z",
     "shell.execute_reply": "2022-04-21T15:02:54.343947Z",
     "shell.execute_reply.started": "2022-04-21T15:02:54.077888Z"
    }
   },
   "outputs": [],
   "source": [
    "import qgrid"
   ]
  },
  {
   "cell_type": "code",
   "execution_count": 2,
   "id": "bcd1961c",
   "metadata": {
    "execution": {
     "iopub.execute_input": "2022-04-21T15:02:54.344948Z",
     "iopub.status.busy": "2022-04-21T15:02:54.344948Z",
     "iopub.status.idle": "2022-04-21T15:02:54.388958Z",
     "shell.execute_reply": "2022-04-21T15:02:54.388958Z",
     "shell.execute_reply.started": "2022-04-21T15:02:54.344948Z"
    }
   },
   "outputs": [
    {
     "data": {
      "text/html": [
       "<div>\n",
       "<style scoped>\n",
       "    .dataframe tbody tr th:only-of-type {\n",
       "        vertical-align: middle;\n",
       "    }\n",
       "\n",
       "    .dataframe tbody tr th {\n",
       "        vertical-align: top;\n",
       "    }\n",
       "\n",
       "    .dataframe thead th {\n",
       "        text-align: right;\n",
       "    }\n",
       "</style>\n",
       "<table border=\"1\" class=\"dataframe\">\n",
       "  <thead>\n",
       "    <tr style=\"text-align: right;\">\n",
       "      <th></th>\n",
       "      <th>time</th>\n",
       "      <th>time_bin</th>\n",
       "    </tr>\n",
       "  </thead>\n",
       "  <tbody>\n",
       "    <tr>\n",
       "      <th>0</th>\n",
       "      <td>2017-04-17 00:03:35</td>\n",
       "      <td>(2017-04-17, 2017-04-17 00:15:00]</td>\n",
       "    </tr>\n",
       "    <tr>\n",
       "      <th>1</th>\n",
       "      <td>2017-04-17 00:05:36</td>\n",
       "      <td>(2017-04-17, 2017-04-17 00:15:00]</td>\n",
       "    </tr>\n",
       "    <tr>\n",
       "      <th>2</th>\n",
       "      <td>2017-04-17 00:08:47</td>\n",
       "      <td>(2017-04-17, 2017-04-17 00:15:00]</td>\n",
       "    </tr>\n",
       "    <tr>\n",
       "      <th>3</th>\n",
       "      <td>2017-04-17 00:23:29</td>\n",
       "      <td>(2017-04-17 00:15:00, 2017-04-17 00:30:00]</td>\n",
       "    </tr>\n",
       "    <tr>\n",
       "      <th>4</th>\n",
       "      <td>2017-04-17 00:27:49</td>\n",
       "      <td>(2017-04-17 00:15:00, 2017-04-17 00:30:00]</td>\n",
       "    </tr>\n",
       "    <tr>\n",
       "      <th>...</th>\n",
       "      <td>...</td>\n",
       "      <td>...</td>\n",
       "    </tr>\n",
       "    <tr>\n",
       "      <th>995</th>\n",
       "      <td>2017-04-22 03:48:01</td>\n",
       "      <td>(2017-04-22 03:45:00, 2017-04-22 04:00:00]</td>\n",
       "    </tr>\n",
       "    <tr>\n",
       "      <th>996</th>\n",
       "      <td>2017-04-22 03:52:20</td>\n",
       "      <td>(2017-04-22 03:45:00, 2017-04-22 04:00:00]</td>\n",
       "    </tr>\n",
       "    <tr>\n",
       "      <th>997</th>\n",
       "      <td>2017-04-22 04:04:02</td>\n",
       "      <td>(2017-04-22 04:00:00, 2017-04-22 04:15:00]</td>\n",
       "    </tr>\n",
       "    <tr>\n",
       "      <th>998</th>\n",
       "      <td>2017-04-22 04:13:22</td>\n",
       "      <td>(2017-04-22 04:00:00, 2017-04-22 04:15:00]</td>\n",
       "    </tr>\n",
       "    <tr>\n",
       "      <th>999</th>\n",
       "      <td>2017-04-22 04:14:01</td>\n",
       "      <td>(2017-04-22 04:00:00, 2017-04-22 04:15:00]</td>\n",
       "    </tr>\n",
       "  </tbody>\n",
       "</table>\n",
       "<p>1000 rows × 2 columns</p>\n",
       "</div>"
      ],
      "text/plain": [
       "                   time                                    time_bin\n",
       "0   2017-04-17 00:03:35           (2017-04-17, 2017-04-17 00:15:00]\n",
       "1   2017-04-17 00:05:36           (2017-04-17, 2017-04-17 00:15:00]\n",
       "2   2017-04-17 00:08:47           (2017-04-17, 2017-04-17 00:15:00]\n",
       "3   2017-04-17 00:23:29  (2017-04-17 00:15:00, 2017-04-17 00:30:00]\n",
       "4   2017-04-17 00:27:49  (2017-04-17 00:15:00, 2017-04-17 00:30:00]\n",
       "..                  ...                                         ...\n",
       "995 2017-04-22 03:48:01  (2017-04-22 03:45:00, 2017-04-22 04:00:00]\n",
       "996 2017-04-22 03:52:20  (2017-04-22 03:45:00, 2017-04-22 04:00:00]\n",
       "997 2017-04-22 04:04:02  (2017-04-22 04:00:00, 2017-04-22 04:15:00]\n",
       "998 2017-04-22 04:13:22  (2017-04-22 04:00:00, 2017-04-22 04:15:00]\n",
       "999 2017-04-22 04:14:01  (2017-04-22 04:00:00, 2017-04-22 04:15:00]\n",
       "\n",
       "[1000 rows x 2 columns]"
      ]
     },
     "execution_count": 2,
     "metadata": {},
     "output_type": "execute_result"
    }
   ],
   "source": [
    "import numpy as np\n",
    "import pandas as pd\n",
    "\n",
    "td = np.cumsum(np.random.randint(1, 15*60, 1000))\n",
    "start = pd.Timestamp('2017-04-17')\n",
    "df_interval = pd.DataFrame(\n",
    "    [(start + pd.Timedelta(seconds=d)) for d in td],\n",
    "    columns=['time'])\n",
    "\n",
    "freq = '15Min'\n",
    "start = df_interval['time'].min().floor(freq)\n",
    "end = df_interval['time'].max().ceil(freq)\n",
    "bins = pd.date_range(start, end, freq=freq)\n",
    "\n",
    "df_interval['time_bin'] = pd.cut(df_interval['time'], bins)\n",
    "df_interval"
   ]
  },
  {
   "cell_type": "code",
   "execution_count": 4,
   "id": "d184ac5d",
   "metadata": {
    "execution": {
     "iopub.execute_input": "2022-04-21T15:02:54.389958Z",
     "iopub.status.busy": "2022-04-21T15:02:54.389958Z",
     "iopub.status.idle": "2022-04-21T15:02:54.413963Z",
     "shell.execute_reply": "2022-04-21T15:02:54.413963Z",
     "shell.execute_reply.started": "2022-04-21T15:02:54.389958Z"
    },
    "tags": []
   },
   "outputs": [
    {
     "data": {
      "application/vnd.jupyter.widget-view+json": {
       "model_id": "955562532ed341059c74cf1b771310eb",
       "version_major": 2,
       "version_minor": 0
      },
      "text/plain": [
       "QgridWidget(grid_options={'fullWidthRows': True, 'syncColumnCellResize': True, 'forceFitColumns': True, 'defau…"
      ]
     },
     "metadata": {},
     "output_type": "display_data"
    }
   ],
   "source": [
    "qgrid.show_grid(df_interval, show_toolbar=False)"
   ]
  },
  {
   "cell_type": "code",
   "execution_count": null,
   "id": "80e72a98",
   "metadata": {},
   "outputs": [],
   "source": []
  }
 ],
 "metadata": {
  "kernelspec": {
   "display_name": "Python 3 (ipykernel)",
   "language": "python",
   "name": "python3"
  },
  "language_info": {
   "codemirror_mode": {
    "name": "ipython",
    "version": 3
   },
   "file_extension": ".py",
   "mimetype": "text/x-python",
   "name": "python",
   "nbconvert_exporter": "python",
   "pygments_lexer": "ipython3",
   "version": "3.9.7"
  }
 },
 "nbformat": 4,
 "nbformat_minor": 5
}

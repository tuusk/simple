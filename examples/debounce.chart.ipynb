{
 "cells": [
  {
   "cell_type": "code",
   "execution_count": 1,
   "id": "394d085f-7510-446e-bb12-384082b22535",
   "metadata": {
    "execution": {
     "iopub.execute_input": "2022-06-14T17:25:47.721940Z",
     "iopub.status.busy": "2022-06-14T17:25:47.720940Z",
     "iopub.status.idle": "2022-06-14T17:25:48.589212Z",
     "shell.execute_reply": "2022-06-14T17:25:48.589212Z",
     "shell.execute_reply.started": "2022-06-14T17:25:47.721940Z"
    },
    "tags": []
   },
   "outputs": [],
   "source": [
    "from simple.ohlc import debounce, midPrice, TTrade, npJoin\n",
    "from simple.plotly import chartFigure\n",
    "from simple.funcs import symlog\n",
    "import numpy as np"
   ]
  },
  {
   "cell_type": "code",
   "execution_count": 2,
   "id": "f2178691-427f-44d0-bce0-c278c85763c2",
   "metadata": {
    "execution": {
     "iopub.execute_input": "2022-06-14T17:25:48.590212Z",
     "iopub.status.busy": "2022-06-14T17:25:48.590212Z",
     "iopub.status.idle": "2022-06-14T17:25:48.610343Z",
     "shell.execute_reply": "2022-06-14T17:25:48.610343Z",
     "shell.execute_reply.started": "2022-06-14T17:25:48.590212Z"
    },
    "tags": []
   },
   "outputs": [
    {
     "data": {
      "text/plain": [
       "rec.array([('2022-05-08T00:01:50.167000', 1995, 2638.5 , 2.000e+00),\n",
       "           ('2022-05-08T00:01:50.167000', 1996, 2638.5 , 5.275e+03),\n",
       "           ('2022-05-08T00:01:50.167000', 1997, 2638.56, 5.000e+00),\n",
       "           ('2022-05-08T00:01:50.167000', 1998, 2638.62, 3.704e+03),\n",
       "           ('2022-05-08T00:01:50.167000', 1999, 2638.63, 3.000e+00)],\n",
       "          dtype={'names':['DateTimeA','LocalTimeA','PriceA','VolumeA'], 'formats':['<M8[us]','<i8','<f8','<f8'], 'offsets':[0,8,16,24], 'itemsize':40})"
      ]
     },
     "execution_count": 2,
     "metadata": {},
     "output_type": "execute_result"
    }
   ],
   "source": [
    "T = np.load('data/ETHUSDT.2022-05-08.tick.npz')['ETHUSDT'].view(np.recarray)[:2000]\n",
    "T[-5:]"
   ]
  },
  {
   "cell_type": "code",
   "execution_count": 3,
   "id": "7f12f0f8-07db-42f4-8e14-f64749cb63f3",
   "metadata": {
    "execution": {
     "iopub.execute_input": "2022-06-14T17:25:48.611343Z",
     "iopub.status.busy": "2022-06-14T17:25:48.611343Z",
     "iopub.status.idle": "2022-06-14T17:25:48.615344Z",
     "shell.execute_reply": "2022-06-14T17:25:48.615344Z",
     "shell.execute_reply.started": "2022-06-14T17:25:48.611343Z"
    },
    "tags": []
   },
   "outputs": [],
   "source": [
    "Buy = T[T.VolumeA > 0]\n",
    "Sell = T[T.VolumeA < 0]"
   ]
  },
  {
   "cell_type": "code",
   "execution_count": 4,
   "id": "58c23d13-eac4-48d7-a860-98ea7dd6004e",
   "metadata": {
    "execution": {
     "iopub.execute_input": "2022-06-14T17:25:48.616344Z",
     "iopub.status.busy": "2022-06-14T17:25:48.616344Z",
     "iopub.status.idle": "2022-06-14T17:25:49.395409Z",
     "shell.execute_reply": "2022-06-14T17:25:49.395409Z",
     "shell.execute_reply.started": "2022-06-14T17:25:48.616344Z"
    },
    "tags": []
   },
   "outputs": [
    {
     "data": {
      "text/plain": [
       "rec.array([('2022-05-08T00:01:47.215000', 496, 2638.445,       0, 2.0000e+00, 2.000e+00,    0.,  1,  1,  0),\n",
       "           ('2022-05-08T00:01:47.281000', 497, 2638.495, 2886000, 1.3646e+04, 1.277e+04, -876., 44, 33, 11),\n",
       "           ('2022-05-08T00:01:50.167000', 498, 2638.555,       0, 5.0000e+00, 5.000e+00,    0.,  1,  1,  0),\n",
       "           ('2022-05-08T00:01:50.167000', 499, 2638.615,       0, 3.7040e+03, 3.704e+03,    0.,  1,  1,  0),\n",
       "           ('2022-05-08T00:01:50.167000', 500, 2638.625,       0, 3.0000e+00, 3.000e+00,    0.,  1,  1,  0)],\n",
       "          dtype=[('DT', '<M8[us]'), ('Index', '<i4'), ('Price', '<f8'), ('Duration', '<m8[us]'), ('Volume', '<f8'), ('BuySize', '<f8'), ('SellSize', '<f8'), ('Count', '<i4'), ('BuyCount', '<i4'), ('SellCount', '<i4')])"
      ]
     },
     "execution_count": 4,
     "metadata": {},
     "output_type": "execute_result"
    }
   ],
   "source": [
    "C = debounce(T)\n",
    "C[-5:]"
   ]
  },
  {
   "cell_type": "code",
   "execution_count": 5,
   "id": "b7fcbf7e-0825-4da1-bd10-5600bc1666ed",
   "metadata": {
    "execution": {
     "iopub.execute_input": "2022-06-14T17:25:49.396409Z",
     "iopub.status.busy": "2022-06-14T17:25:49.396409Z",
     "iopub.status.idle": "2022-06-14T17:25:49.400410Z",
     "shell.execute_reply": "2022-06-14T17:25:49.400410Z",
     "shell.execute_reply.started": "2022-06-14T17:25:49.396409Z"
    },
    "tags": []
   },
   "outputs": [
    {
     "data": {
      "text/plain": [
       "(2000, 501)"
      ]
     },
     "execution_count": 5,
     "metadata": {},
     "output_type": "execute_result"
    }
   ],
   "source": [
    "len(T), len(C)"
   ]
  },
  {
   "cell_type": "code",
   "execution_count": 6,
   "id": "b72c1f8a-ed42-4b9e-966e-d834a53a7dc4",
   "metadata": {
    "execution": {
     "iopub.execute_input": "2022-06-14T17:25:49.401411Z",
     "iopub.status.busy": "2022-06-14T17:25:49.401411Z",
     "iopub.status.idle": "2022-06-14T17:25:50.523784Z",
     "shell.execute_reply": "2022-06-14T17:25:50.523784Z",
     "shell.execute_reply.started": "2022-06-14T17:25:49.401411Z"
    },
    "tags": []
   },
   "outputs": [
    {
     "data": {
      "application/vnd.jupyter.widget-view+json": {
       "model_id": "77c5389d04ca4262aefccbda2c4737e0",
       "version_major": 2,
       "version_minor": 0
      },
      "text/plain": [
       "FigureWidgetResampler({\n",
       "    'data': [{'marker': {'color': 'red',\n",
       "                         'opacity': 0.2,\n",
       "    …"
      ]
     },
     "metadata": {},
     "output_type": "display_data"
    }
   ],
   "source": [
    "# indexed chart\n",
    "fig = chartFigure(height=400,\n",
    "    Sell=dict(x=Sell.DateTimeA, y=Sell.PriceA, color='red', mode='markers', size=-symlog(Sell.VolumeA)+3, opacity=0.2),\n",
    "    Buy=dict(x=Buy.DateTimeA, y=Buy.PriceA, color='green', mode='markers', size=symlog(Buy.VolumeA)+3, opacity=0.2),\n",
    "    Debounce=dict(mode='markers+lines', x=C.DT, y=C.Price, color='black', connectgaps=True, opacity=0.7)\n",
    ")\n",
    "fig"
   ]
  },
  {
   "cell_type": "code",
   "execution_count": 7,
   "id": "2607c6c0-f04a-4197-8591-0a883c6cf2fc",
   "metadata": {
    "execution": {
     "iopub.execute_input": "2022-06-14T17:25:50.524782Z",
     "iopub.status.busy": "2022-06-14T17:25:50.524782Z",
     "iopub.status.idle": "2022-06-14T17:25:50.529784Z",
     "shell.execute_reply": "2022-06-14T17:25:50.529784Z",
     "shell.execute_reply.started": "2022-06-14T17:25:50.524782Z"
    },
    "tags": []
   },
   "outputs": [
    {
     "data": {
      "text/plain": [
       "rec.array([('2022-05-08T00:01:44.597000', 471, 2637.905,      0,   -77., 0.,   -77., 1, 0, 1),\n",
       "           ('2022-05-08T00:01:44.743999', 481, 2638.135,      0,  -190., 0.,  -190., 1, 0, 1),\n",
       "           ('2022-05-08T00:01:45.020000', 483, 2638.135, 493000, -2523., 0., -2523., 7, 0, 7),\n",
       "           ('2022-05-08T00:01:46.519000', 485, 2638.135,      0,   -19., 0.,   -19., 1, 0, 1),\n",
       "           ('2022-05-08T00:01:46.765000', 491, 2638.295, 438000, -1606., 4., -1610., 6, 2, 4)],\n",
       "          dtype=[('DT', '<M8[us]'), ('Index', '<i4'), ('Price', '<f8'), ('Duration', '<m8[us]'), ('Volume', '<f8'), ('BuySize', '<f8'), ('SellSize', '<f8'), ('Count', '<i4'), ('BuyCount', '<i4'), ('SellCount', '<i4')])"
      ]
     },
     "execution_count": 7,
     "metadata": {},
     "output_type": "execute_result"
    }
   ],
   "source": [
    "C.Volume = C.BuySize + C.SellSize\n",
    "Buy = C[C.Volume > 0]\n",
    "Sell = C[C.Volume < 0]\n",
    "Sell[-5:]"
   ]
  },
  {
   "cell_type": "code",
   "execution_count": 8,
   "id": "fd713a4e-dd67-4814-8c00-b3ea537ce3cf",
   "metadata": {
    "execution": {
     "iopub.execute_input": "2022-06-14T17:25:50.530784Z",
     "iopub.status.busy": "2022-06-14T17:25:50.530784Z",
     "iopub.status.idle": "2022-06-14T17:25:50.679818Z",
     "shell.execute_reply": "2022-06-14T17:25:50.679818Z",
     "shell.execute_reply.started": "2022-06-14T17:25:50.530784Z"
    },
    "tags": []
   },
   "outputs": [
    {
     "data": {
      "application/vnd.jupyter.widget-view+json": {
       "model_id": "867c3010b90642d8ba25d74b0f6a0a18",
       "version_major": 2,
       "version_minor": 0
      },
      "text/plain": [
       "FigureWidgetResampler({\n",
       "    'data': [{'marker': {'color': 'red',\n",
       "                         'opacity': 0.4,\n",
       "    …"
      ]
     },
     "metadata": {},
     "output_type": "display_data"
    }
   ],
   "source": [
    "# indexed chart without bidask\n",
    "fig = chartFigure(height=400,\n",
    "    Sell=dict(x=Sell.Index, y=Sell.Price, color='red', mode='markers', size=-symlog(Sell.Volume)-1, opacity=0.4),\n",
    "    Buy=dict(x=Buy.Index, y=Buy.Price, color='green', mode='markers', size=symlog(Buy.Volume)-1, opacity=0.4),\n",
    ")\n",
    "fig"
   ]
  },
  {
   "cell_type": "code",
   "execution_count": 9,
   "id": "fbfc2778-5b0d-42ca-a5f7-37acefa8a3bc",
   "metadata": {
    "execution": {
     "iopub.execute_input": "2022-06-14T17:25:50.680818Z",
     "iopub.status.busy": "2022-06-14T17:25:50.680818Z",
     "iopub.status.idle": "2022-06-14T17:25:50.686820Z",
     "shell.execute_reply": "2022-06-14T17:25:50.686820Z",
     "shell.execute_reply.started": "2022-06-14T17:25:50.680818Z"
    },
    "tags": []
   },
   "outputs": [
    {
     "data": {
      "text/plain": [
       "rec.array([('2022-05-08T00:01:47.215000', '1970-01-01T00:00:00.000000', 2638.445, 2.0000e+00, 0.),\n",
       "           ('2022-05-08T00:01:47.281000', '1970-01-01T00:00:00.000000', 2638.495, 1.1894e+04, 0.),\n",
       "           ('2022-05-08T00:01:50.167000', '1970-01-01T00:00:00.000000', 2638.555, 5.0000e+00, 0.),\n",
       "           ('2022-05-08T00:01:50.167000', '1970-01-01T00:00:00.000000', 2638.615, 3.7040e+03, 0.),\n",
       "           ('2022-05-08T00:01:50.167000', '1970-01-01T00:00:00.000000', 2638.625, 3.0000e+00, 0.)],\n",
       "          dtype=[('DateTimeA', '<M8[us]'), ('LocalTimeA', '<M8[us]'), ('PriceA', '<f8'), ('VolumeA', '<f8'), ('OpenIntA', '<f8')])"
      ]
     },
     "execution_count": 9,
     "metadata": {},
     "output_type": "execute_result"
    }
   ],
   "source": [
    "T = np.zeros(len(C), dtype=TTrade).view(np.recarray)\n",
    "T.DateTimeA = C.DT\n",
    "T.PriceA = C.Price#np.round(C.Price, 1)\n",
    "T.VolumeA = C.Volume\n",
    "T[-5:]"
   ]
  },
  {
   "cell_type": "code",
   "execution_count": 10,
   "id": "c6a1f43b-4d92-464f-88b0-3b6b34e8596e",
   "metadata": {
    "execution": {
     "iopub.execute_input": "2022-06-14T17:25:50.687820Z",
     "iopub.status.busy": "2022-06-14T17:25:50.687820Z",
     "iopub.status.idle": "2022-06-14T17:25:51.205971Z",
     "shell.execute_reply": "2022-06-14T17:25:51.205971Z",
     "shell.execute_reply.started": "2022-06-14T17:25:50.687820Z"
    },
    "tags": []
   },
   "outputs": [
    {
     "data": {
      "text/plain": [
       "(501, 501)"
      ]
     },
     "execution_count": 10,
     "metadata": {},
     "output_type": "execute_result"
    }
   ],
   "source": [
    "C = debounce(T)\n",
    "len(T), len(C)"
   ]
  },
  {
   "cell_type": "code",
   "execution_count": 11,
   "id": "d67049f6-d715-4fe5-b02f-ac3c9ac68574",
   "metadata": {
    "execution": {
     "iopub.execute_input": "2022-06-14T17:25:51.206972Z",
     "iopub.status.busy": "2022-06-14T17:25:51.206972Z",
     "iopub.status.idle": "2022-06-14T17:25:51.211973Z",
     "shell.execute_reply": "2022-06-14T17:25:51.211973Z",
     "shell.execute_reply.started": "2022-06-14T17:25:51.206972Z"
    }
   },
   "outputs": [
    {
     "data": {
      "text/plain": [
       "rec.array([('2022-05-08T00:01:44.597000', 471, 2637.91, 0,   -77., 0.,   -77., 1, 0, 1),\n",
       "           ('2022-05-08T00:01:44.743999', 481, 2638.14, 0,  -190., 0.,  -190., 1, 0, 1),\n",
       "           ('2022-05-08T00:01:45.020000', 483, 2638.14, 0, -2523., 0., -2523., 1, 0, 1),\n",
       "           ('2022-05-08T00:01:46.519000', 485, 2638.14, 0,   -19., 0.,   -19., 1, 0, 1),\n",
       "           ('2022-05-08T00:01:46.765000', 491, 2638.3 , 0, -1606., 0., -1606., 1, 0, 1)],\n",
       "          dtype=[('DT', '<M8[us]'), ('Index', '<i4'), ('Price', '<f8'), ('Duration', '<m8[us]'), ('Volume', '<f8'), ('BuySize', '<f8'), ('SellSize', '<f8'), ('Count', '<i4'), ('BuyCount', '<i4'), ('SellCount', '<i4')])"
      ]
     },
     "execution_count": 11,
     "metadata": {},
     "output_type": "execute_result"
    }
   ],
   "source": [
    "C.Volume = C.BuySize + C.SellSize\n",
    "Buy = C[C.Volume > 0]\n",
    "Sell = C[C.Volume < 0]\n",
    "Sell[-5:]"
   ]
  },
  {
   "cell_type": "code",
   "execution_count": 12,
   "id": "ff310ba4-4f10-49d2-a656-279d24d21232",
   "metadata": {
    "execution": {
     "iopub.execute_input": "2022-06-14T17:25:51.213973Z",
     "iopub.status.busy": "2022-06-14T17:25:51.212973Z",
     "iopub.status.idle": "2022-06-14T17:25:51.229977Z",
     "shell.execute_reply": "2022-06-14T17:25:51.229977Z",
     "shell.execute_reply.started": "2022-06-14T17:25:51.213973Z"
    }
   },
   "outputs": [
    {
     "data": {
      "text/plain": [
       "rec.array([('2022-05-08T00:01:00.007000', 2636., 2635.99),\n",
       "           ('2022-05-08T00:01:00.043000', 2636., 2635.99),\n",
       "           ('2022-05-08T00:01:00.079000', 2636., 2635.99),\n",
       "           ('2022-05-08T00:01:00.117000', 2636., 2635.99),\n",
       "           ('2022-05-08T00:01:00.149000', 2636., 2635.99)],\n",
       "          dtype={'names':['DT','A','B'], 'formats':['<M8[us]','<f4','<f4'], 'offsets':[0,8,16], 'itemsize':24})"
      ]
     },
     "execution_count": 12,
     "metadata": {},
     "output_type": "execute_result"
    }
   ],
   "source": [
    "S = np.load('data/ETHUSDT.2022-05-08.bidask.npz')['ETHUSDT'].view(np.recarray)\n",
    "S[:5]"
   ]
  },
  {
   "cell_type": "code",
   "execution_count": 13,
   "id": "21952de0-3ab8-44e0-9b5a-095d087318b3",
   "metadata": {
    "execution": {
     "iopub.execute_input": "2022-06-14T17:25:51.230977Z",
     "iopub.status.busy": "2022-06-14T17:25:51.230977Z",
     "iopub.status.idle": "2022-06-14T17:25:51.459029Z",
     "shell.execute_reply": "2022-06-14T17:25:51.459029Z",
     "shell.execute_reply.started": "2022-06-14T17:25:51.230977Z"
    },
    "tags": []
   },
   "outputs": [
    {
     "data": {
      "text/plain": [
       "array([   9,   16,   16,   16,   16,   16,   16,   16,   21,   21,   21,\n",
       "         24,   66,   67,   73,   73,   73,   74,   74,   74,   74,   82,\n",
       "         98,  104,  162,  163,  163,  163,  180,  180,  180,  200,  200,\n",
       "        200,  200,  200,  200,  200,  200,  200,  200,  200,  200,  200,\n",
       "        201,  201,  201,  201,  201,  201,  201,  201,  201,  201,  201,\n",
       "        201,  201,  201,  201,  202,  203,  203,  203,  205,  205,  205,\n",
       "        205,  205,  205,  205,  205,  208,  210,  214,  215,  215,  216,\n",
       "        216,  216,  217,  217,  217,  218,  218,  218,  219,  219,  219,\n",
       "        219,  219,  219,  219,  220,  220,  220,  221,  222,  222,  223,\n",
       "        223,  223,  224,  224,  224,  224,  224,  224,  225,  225,  225,\n",
       "        225,  225,  226,  226,  226,  226,  227,  227,  228,  228,  229,\n",
       "        229,  229,  229,  229,  230,  230,  230,  230,  230,  231,  234,\n",
       "        235,  241,  241,  241,  241,  241,  241,  346,  346,  346,  346,\n",
       "        346,  346,  346,  346,  346,  346,  362,  370,  375,  379,  379,\n",
       "        386,  387,  387,  390,  391,  392,  392,  392,  393,  393,  393,\n",
       "        393,  393,  405,  405,  405,  405,  405,  405,  405,  405,  406,\n",
       "        420,  429,  433,  434,  434,  434,  434,  434,  434,  434,  434,\n",
       "        434,  434,  435,  436,  436,  436,  436,  437,  438,  439,  439,\n",
       "        440,  441,  441,  444,  460,  461,  461,  462,  462,  462,  462,\n",
       "        462,  462,  462,  463,  463,  464,  464,  464,  505,  505,  505,\n",
       "        505,  505,  525,  541,  546,  548,  583,  600,  601,  601,  605,\n",
       "        606,  608,  625,  627,  632,  651,  655,  655,  674,  674,  715,\n",
       "        715,  723,  725,  777,  777,  785,  785,  785,  785,  785,  785,\n",
       "        785,  785,  785,  785,  785,  785,  785,  785,  785,  785,  785,\n",
       "        785,  785,  785,  785,  785,  785,  791,  803,  806,  806,  806,\n",
       "        806,  806,  806,  806,  806,  806,  811,  824,  825,  825,  828,\n",
       "        838,  841,  847,  849,  859,  859,  859,  859,  859,  859,  860,\n",
       "        863,  870,  899,  899,  899,  899,  899,  899,  899,  900,  900,\n",
       "        900,  900,  900,  900,  900,  900,  900,  900,  900,  900,  900,\n",
       "        901,  901,  902,  902,  902,  902,  902,  902,  902,  902,  902,\n",
       "        902,  903,  904,  904,  904,  904,  904,  904,  904,  905,  905,\n",
       "        911,  911,  912,  917,  917,  917,  918,  918,  918,  920,  921,\n",
       "        921,  921,  927,  927,  927,  927,  928,  928,  928,  928,  928,\n",
       "        928,  928,  928,  928,  928,  928,  928,  929,  929,  929,  929,\n",
       "        929,  929,  929,  929,  929,  929,  929,  929,  930,  931,  931,\n",
       "        931, 1034, 1034, 1034, 1034, 1034, 1034, 1034, 1034, 1034, 1034,\n",
       "       1034, 1034, 1034, 1034, 1034, 1034, 1034, 1035, 1035, 1035, 1035,\n",
       "       1035, 1035, 1035, 1035, 1035, 1036, 1036, 1036, 1037, 1037, 1037,\n",
       "       1037, 1037, 1037, 1037, 1037, 1039, 1043, 1046, 1047, 1048, 1049,\n",
       "       1049, 1049, 1049, 1050, 1050, 1051, 1051, 1052, 1053, 1053, 1053,\n",
       "       1054, 1054, 1055, 1055, 1055, 1056, 1057, 1058, 1058, 1058, 1059,\n",
       "       1060, 1061, 1062, 1062, 1062, 1062, 1062, 1062, 1062, 1063, 1077,\n",
       "       1098, 1103, 1103, 1103, 1103, 1103, 1214, 1233, 1241, 1255, 1256,\n",
       "       1256, 1256, 1256, 1256, 1256, 1256, 1256, 1256, 1260, 1261, 1268,\n",
       "       1300, 1312, 1314, 1318, 1318, 1318, 1318, 1319, 1332, 1332, 1332,\n",
       "       1332, 1333, 1335, 1418, 1418, 1418])"
      ]
     },
     "execution_count": 13,
     "metadata": {},
     "output_type": "execute_result"
    }
   ],
   "source": [
    "K = npJoin(C.DT, S.DT)\n",
    "K"
   ]
  },
  {
   "cell_type": "code",
   "execution_count": 14,
   "id": "6dafb12a-40c0-4962-9240-e7528d1ace5d",
   "metadata": {
    "execution": {
     "iopub.execute_input": "2022-06-14T17:25:51.460028Z",
     "iopub.status.busy": "2022-06-14T17:25:51.460028Z",
     "iopub.status.idle": "2022-06-14T17:25:51.463029Z",
     "shell.execute_reply": "2022-06-14T17:25:51.463029Z",
     "shell.execute_reply.started": "2022-06-14T17:25:51.460028Z"
    },
    "tags": []
   },
   "outputs": [
    {
     "data": {
      "text/plain": [
       "(501, 99941, 501)"
      ]
     },
     "execution_count": 14,
     "metadata": {},
     "output_type": "execute_result"
    }
   ],
   "source": [
    "len(C), len(S), len(K)"
   ]
  },
  {
   "cell_type": "code",
   "execution_count": 17,
   "id": "586689f2-b133-450f-96c0-8430fdaa3044",
   "metadata": {
    "execution": {
     "iopub.execute_input": "2022-06-14T17:26:54.140498Z",
     "iopub.status.busy": "2022-06-14T17:26:54.140498Z",
     "iopub.status.idle": "2022-06-14T17:26:54.348829Z",
     "shell.execute_reply": "2022-06-14T17:26:54.348829Z",
     "shell.execute_reply.started": "2022-06-14T17:26:54.140498Z"
    },
    "tags": []
   },
   "outputs": [
    {
     "data": {
      "application/vnd.jupyter.widget-view+json": {
       "model_id": "d06449aa94e6419d8b92f4cea07a611c",
       "version_major": 2,
       "version_minor": 0
      },
      "text/plain": [
       "FigureWidgetResampler({\n",
       "    'data': [{'marker': {'color': 'red',\n",
       "                         'opacity': 0.75,\n",
       "   …"
      ]
     },
     "metadata": {},
     "output_type": "display_data"
    }
   ],
   "source": [
    "# indexed chart without bidask\n",
    "fig = chartFigure(height=600, rows=2,\n",
    "    Sell=dict(x=Sell.Index, y=Sell.Price, color='red', mode='markers', size=-symlog(Sell.Volume)-1, opacity=0.75),\n",
    "    Buy=dict(x=Buy.Index, y=Buy.Price, color='green', mode='markers', size=symlog(Buy.Volume)-1, opacity=0.75),\n",
    "    Bid=dict(x=C.Index, y=S.B[K], color='green', opacity=0.4),\n",
    "    Ask=dict(x=C.Index, y=S.A[K], color='red', opacity=0.4)\n",
    ")\n",
    "fig.add_bar(x=Buy.Index, y=Buy.Volume, row=2, col=1, marker_color='green')\n",
    "fig.add_bar(x=Sell.Index, y=Sell.Volume, row=2, col=1, marker_color='red')\n",
    "fig"
   ]
  },
  {
   "cell_type": "code",
   "execution_count": null,
   "id": "ccea9fd1-0b9b-4222-93f9-97cb1f3becc3",
   "metadata": {},
   "outputs": [],
   "source": []
  }
 ],
 "metadata": {
  "kernelspec": {
   "display_name": "Python 3 (ipykernel)",
   "language": "python",
   "name": "python3"
  },
  "language_info": {
   "codemirror_mode": {
    "name": "ipython",
    "version": 3
   },
   "file_extension": ".py",
   "mimetype": "text/x-python",
   "name": "python",
   "nbconvert_exporter": "python",
   "pygments_lexer": "ipython3",
   "version": "3.9.12"
  }
 },
 "nbformat": 4,
 "nbformat_minor": 5
}

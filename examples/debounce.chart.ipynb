{
 "cells": [
  {
   "cell_type": "code",
   "execution_count": 1,
   "id": "394d085f-7510-446e-bb12-384082b22535",
   "metadata": {
    "execution": {
     "iopub.execute_input": "2022-06-14T15:33:44.286021Z",
     "iopub.status.busy": "2022-06-14T15:33:44.286021Z",
     "iopub.status.idle": "2022-06-14T15:33:45.149640Z",
     "shell.execute_reply": "2022-06-14T15:33:45.149640Z",
     "shell.execute_reply.started": "2022-06-14T15:33:44.286021Z"
    },
    "tags": []
   },
   "outputs": [],
   "source": [
    "from simple.ohlc import debounce, midPrice, TTrade\n",
    "from simple.plotly import chartFigure\n",
    "from simple.funcs import symlog\n",
    "import numpy as np"
   ]
  },
  {
   "cell_type": "code",
   "execution_count": 2,
   "id": "f2178691-427f-44d0-bce0-c278c85763c2",
   "metadata": {
    "execution": {
     "iopub.execute_input": "2022-06-14T15:33:45.150641Z",
     "iopub.status.busy": "2022-06-14T15:33:45.150641Z",
     "iopub.status.idle": "2022-06-14T15:33:45.267666Z",
     "shell.execute_reply": "2022-06-14T15:33:45.267666Z",
     "shell.execute_reply.started": "2022-06-14T15:33:45.150641Z"
    },
    "tags": []
   },
   "outputs": [
    {
     "data": {
      "text/plain": [
       "rec.array([('2021-06-01T00:06:08.611000', '2021-06-01T00:06:08.653000', 37615.,  -5649., nan),\n",
       "           ('2021-06-01T00:06:08.611000', '2021-06-01T00:06:08.653000', 37615.,   -500., nan),\n",
       "           ('2021-06-01T00:06:08.611000', '2021-06-01T00:06:08.653000', 37615.,   -800., nan),\n",
       "           ('2021-06-01T00:06:08.611000', '2021-06-01T00:06:08.653000', 37615., -50000., nan),\n",
       "           ('2021-06-01T00:06:08.611000', '2021-06-01T00:06:08.653000', 37615., -50000., nan)],\n",
       "          dtype=[('DateTimeA', '<M8[us]'), ('LocalTimeA', '<M8[us]'), ('PriceA', '<f8'), ('VolumeA', '<f8'), ('OpenIntA', '<f8')])"
      ]
     },
     "execution_count": 2,
     "metadata": {},
     "output_type": "execute_result"
    }
   ],
   "source": [
    "T = np.load('data/tick.npz')['BTCUSDT'].view(np.recarray)[:3300]\n",
    "T[-5:]"
   ]
  },
  {
   "cell_type": "code",
   "execution_count": 3,
   "id": "7f12f0f8-07db-42f4-8e14-f64749cb63f3",
   "metadata": {
    "execution": {
     "iopub.execute_input": "2022-06-14T15:33:45.268667Z",
     "iopub.status.busy": "2022-06-14T15:33:45.268667Z",
     "iopub.status.idle": "2022-06-14T15:33:45.271667Z",
     "shell.execute_reply": "2022-06-14T15:33:45.271667Z",
     "shell.execute_reply.started": "2022-06-14T15:33:45.268667Z"
    },
    "tags": []
   },
   "outputs": [],
   "source": [
    "Buy = T[T.VolumeA > 0]\n",
    "Sell = T[T.VolumeA < 0]"
   ]
  },
  {
   "cell_type": "code",
   "execution_count": 4,
   "id": "58c23d13-eac4-48d7-a860-98ea7dd6004e",
   "metadata": {
    "execution": {
     "iopub.execute_input": "2022-06-14T15:33:45.272667Z",
     "iopub.status.busy": "2022-06-14T15:33:45.272667Z",
     "iopub.status.idle": "2022-06-14T15:33:46.115853Z",
     "shell.execute_reply": "2022-06-14T15:33:46.115853Z",
     "shell.execute_reply.started": "2022-06-14T15:33:45.272667Z"
    },
    "tags": []
   },
   "outputs": [
    {
     "data": {
      "text/plain": [
       "rec.array([('2021-06-01T00:06:08.594000', 726, 37620.25, 1999, 116000., 0., -116000., 3, 0, 3),\n",
       "           ('2021-06-01T00:06:08.595999', 727, 37618.75,    0,    377., 0.,    -377., 1, 0, 1),\n",
       "           ('2021-06-01T00:06:08.595999', 728, 37617.75,    0,   5000., 0.,   -5000., 1, 0, 1),\n",
       "           ('2021-06-01T00:06:08.595999', 729, 37616.25,    0,  29600., 0.,  -29600., 1, 0, 1),\n",
       "           ('2021-06-01T00:06:08.611000', 730, 37615.25,    0, 125949., 0., -125949., 6, 0, 6)],\n",
       "          dtype=[('DT', '<M8[us]'), ('Index', '<i4'), ('Price', '<f8'), ('Duration', '<m8[us]'), ('Volume', '<f8'), ('BuySize', '<f8'), ('SellSize', '<f8'), ('Count', '<i4'), ('BuyCount', '<i4'), ('SellCount', '<i4')])"
      ]
     },
     "execution_count": 4,
     "metadata": {},
     "output_type": "execute_result"
    }
   ],
   "source": [
    "C = debounce(T)\n",
    "C[-5:]"
   ]
  },
  {
   "cell_type": "code",
   "execution_count": 5,
   "id": "b7fcbf7e-0825-4da1-bd10-5600bc1666ed",
   "metadata": {
    "execution": {
     "iopub.execute_input": "2022-06-14T15:33:46.116854Z",
     "iopub.status.busy": "2022-06-14T15:33:46.116854Z",
     "iopub.status.idle": "2022-06-14T15:33:46.119854Z",
     "shell.execute_reply": "2022-06-14T15:33:46.119854Z",
     "shell.execute_reply.started": "2022-06-14T15:33:46.116854Z"
    },
    "tags": []
   },
   "outputs": [
    {
     "data": {
      "text/plain": [
       "(3300, 731)"
      ]
     },
     "execution_count": 5,
     "metadata": {},
     "output_type": "execute_result"
    }
   ],
   "source": [
    "len(T), len(C)"
   ]
  },
  {
   "cell_type": "code",
   "execution_count": 6,
   "id": "b72c1f8a-ed42-4b9e-966e-d834a53a7dc4",
   "metadata": {
    "execution": {
     "iopub.execute_input": "2022-06-14T15:33:46.120855Z",
     "iopub.status.busy": "2022-06-14T15:33:46.119854Z",
     "iopub.status.idle": "2022-06-14T15:33:47.229887Z",
     "shell.execute_reply": "2022-06-14T15:33:47.229887Z",
     "shell.execute_reply.started": "2022-06-14T15:33:46.120855Z"
    },
    "tags": []
   },
   "outputs": [
    {
     "data": {
      "application/vnd.jupyter.widget-view+json": {
       "model_id": "5c0807a1478d4cd8ba2c27f97ef679f2",
       "version_major": 2,
       "version_minor": 0
      },
      "text/plain": [
       "FigureWidgetResampler({\n",
       "    'data': [{'marker': {'color': 'red',\n",
       "                         'opacity': 0.2,\n",
       "    …"
      ]
     },
     "metadata": {},
     "output_type": "display_data"
    }
   ],
   "source": [
    "# indexed chart\n",
    "fig = chartFigure(height=400,\n",
    "    Sell=dict(x=Sell.DateTimeA, y=Sell.PriceA, color='red', mode='markers', size=-symlog(Sell.VolumeA)+3, opacity=0.2),\n",
    "    Buy=dict(x=Buy.DateTimeA, y=Buy.PriceA, color='green', mode='markers', size=symlog(Buy.VolumeA)+3, opacity=0.2),\n",
    "    Debounce=dict(mode='markers+lines', x=C.DT, y=C.Price, color='black', connectgaps=True, opacity=0.7)\n",
    ")\n",
    "fig"
   ]
  },
  {
   "cell_type": "code",
   "execution_count": 7,
   "id": "2607c6c0-f04a-4197-8591-0a883c6cf2fc",
   "metadata": {
    "execution": {
     "iopub.execute_input": "2022-06-14T15:33:47.230887Z",
     "iopub.status.busy": "2022-06-14T15:33:47.230887Z",
     "iopub.status.idle": "2022-06-14T15:33:47.235887Z",
     "shell.execute_reply": "2022-06-14T15:33:47.235887Z",
     "shell.execute_reply.started": "2022-06-14T15:33:47.230887Z"
    },
    "tags": []
   },
   "outputs": [
    {
     "data": {
      "text/plain": [
       "rec.array([('2021-06-01T00:06:08.594000', 726, 37620.25, 1999, -116000., 0., -116000., 3, 0, 3),\n",
       "           ('2021-06-01T00:06:08.595999', 727, 37618.75,    0,    -377., 0.,    -377., 1, 0, 1),\n",
       "           ('2021-06-01T00:06:08.595999', 728, 37617.75,    0,   -5000., 0.,   -5000., 1, 0, 1),\n",
       "           ('2021-06-01T00:06:08.595999', 729, 37616.25,    0,  -29600., 0.,  -29600., 1, 0, 1),\n",
       "           ('2021-06-01T00:06:08.611000', 730, 37615.25,    0, -125949., 0., -125949., 6, 0, 6)],\n",
       "          dtype=[('DT', '<M8[us]'), ('Index', '<i4'), ('Price', '<f8'), ('Duration', '<m8[us]'), ('Volume', '<f8'), ('BuySize', '<f8'), ('SellSize', '<f8'), ('Count', '<i4'), ('BuyCount', '<i4'), ('SellCount', '<i4')])"
      ]
     },
     "execution_count": 7,
     "metadata": {},
     "output_type": "execute_result"
    }
   ],
   "source": [
    "C.Volume = C.BuySize + C.SellSize\n",
    "Buy = C[C.Volume > 0]\n",
    "Sell = C[C.Volume < 0]\n",
    "Sell[-5:]"
   ]
  },
  {
   "cell_type": "code",
   "execution_count": 8,
   "id": "fd713a4e-dd67-4814-8c00-b3ea537ce3cf",
   "metadata": {
    "execution": {
     "iopub.execute_input": "2022-06-14T15:33:47.236888Z",
     "iopub.status.busy": "2022-06-14T15:33:47.236888Z",
     "iopub.status.idle": "2022-06-14T15:33:47.388922Z",
     "shell.execute_reply": "2022-06-14T15:33:47.388922Z",
     "shell.execute_reply.started": "2022-06-14T15:33:47.236888Z"
    },
    "tags": []
   },
   "outputs": [
    {
     "data": {
      "application/vnd.jupyter.widget-view+json": {
       "model_id": "5040e28a6df641fe8a469dfeb710ca45",
       "version_major": 2,
       "version_minor": 0
      },
      "text/plain": [
       "FigureWidgetResampler({\n",
       "    'data': [{'marker': {'color': 'red',\n",
       "                         'opacity': 0.4,\n",
       "    …"
      ]
     },
     "metadata": {},
     "output_type": "display_data"
    }
   ],
   "source": [
    "# indexed chart without bidask\n",
    "fig = chartFigure(height=400,\n",
    "    Sell=dict(x=Sell.Index, y=Sell.Price, color='red', mode='markers', size=-symlog(Sell.Volume)-1, opacity=0.4),\n",
    "    Buy=dict(x=Buy.Index, y=Buy.Price, color='green', mode='markers', size=symlog(Buy.Volume)-1, opacity=0.4),\n",
    ")\n",
    "fig"
   ]
  },
  {
   "cell_type": "code",
   "execution_count": 9,
   "id": "fbfc2778-5b0d-42ca-a5f7-37acefa8a3bc",
   "metadata": {
    "execution": {
     "iopub.execute_input": "2022-06-14T15:33:47.389923Z",
     "iopub.status.busy": "2022-06-14T15:33:47.389923Z",
     "iopub.status.idle": "2022-06-14T15:33:47.394924Z",
     "shell.execute_reply": "2022-06-14T15:33:47.394924Z",
     "shell.execute_reply.started": "2022-06-14T15:33:47.389923Z"
    },
    "tags": []
   },
   "outputs": [
    {
     "data": {
      "text/plain": [
       "rec.array([('2021-06-01T00:06:08.594000', '1970-01-01T00:00:00.000000', 37620., -116000., 0.),\n",
       "           ('2021-06-01T00:06:08.595999', '1970-01-01T00:00:00.000000', 37620.,    -377., 0.),\n",
       "           ('2021-06-01T00:06:08.595999', '1970-01-01T00:00:00.000000', 37620.,   -5000., 0.),\n",
       "           ('2021-06-01T00:06:08.595999', '1970-01-01T00:00:00.000000', 37620.,  -29600., 0.),\n",
       "           ('2021-06-01T00:06:08.611000', '1970-01-01T00:00:00.000000', 37620., -125949., 0.)],\n",
       "          dtype=[('DateTimeA', '<M8[us]'), ('LocalTimeA', '<M8[us]'), ('PriceA', '<f8'), ('VolumeA', '<f8'), ('OpenIntA', '<f8')])"
      ]
     },
     "execution_count": 9,
     "metadata": {},
     "output_type": "execute_result"
    }
   ],
   "source": [
    "T = np.zeros(len(C), dtype=TTrade).view(np.recarray)\n",
    "T.DateTimeA = C.DT\n",
    "T.PriceA = np.round(C.Price, -1)\n",
    "T.VolumeA = C.Volume\n",
    "T[-5:]"
   ]
  },
  {
   "cell_type": "code",
   "execution_count": 10,
   "id": "c6a1f43b-4d92-464f-88b0-3b6b34e8596e",
   "metadata": {
    "execution": {
     "iopub.execute_input": "2022-06-14T15:33:47.395923Z",
     "iopub.status.busy": "2022-06-14T15:33:47.395923Z",
     "iopub.status.idle": "2022-06-14T15:33:47.403925Z",
     "shell.execute_reply": "2022-06-14T15:33:47.403925Z",
     "shell.execute_reply.started": "2022-06-14T15:33:47.395923Z"
    },
    "tags": []
   },
   "outputs": [
    {
     "data": {
      "text/plain": [
       "(731, 197)"
      ]
     },
     "execution_count": 10,
     "metadata": {},
     "output_type": "execute_result"
    }
   ],
   "source": [
    "C = debounce(T)\n",
    "len(T), len(C)"
   ]
  },
  {
   "cell_type": "code",
   "execution_count": 11,
   "id": "d67049f6-d715-4fe5-b02f-ac3c9ac68574",
   "metadata": {
    "execution": {
     "iopub.execute_input": "2022-06-14T15:33:47.404925Z",
     "iopub.status.busy": "2022-06-14T15:33:47.404925Z",
     "iopub.status.idle": "2022-06-14T15:33:47.411927Z",
     "shell.execute_reply": "2022-06-14T15:33:47.411927Z",
     "shell.execute_reply.started": "2022-06-14T15:33:47.404925Z"
    }
   },
   "outputs": [
    {
     "data": {
      "text/plain": [
       "rec.array([('2021-06-01T00:05:47.966000', 191, 37655.,       0, -2.00000e+01, 0., -2.00000e+01, 1, 0, 1),\n",
       "           ('2021-06-01T00:05:49.479000', 193, 37655.,   24999, -6.23000e+02, 0., -6.23000e+02, 2, 0, 2),\n",
       "           ('2021-06-01T00:05:49.529000', 194, 37645., 8350999, -7.30543e+05, 0., -7.30543e+05, 5, 0, 5),\n",
       "           ('2021-06-01T00:05:57.900000', 195, 37635.,  722000, -2.13910e+04, 0., -2.13910e+04, 2, 0, 2),\n",
       "           ('2021-06-01T00:06:08.594000', 196, 37625.,   17000, -2.98477e+05, 0., -2.98477e+05, 6, 0, 6)],\n",
       "          dtype=[('DT', '<M8[us]'), ('Index', '<i4'), ('Price', '<f8'), ('Duration', '<m8[us]'), ('Volume', '<f8'), ('BuySize', '<f8'), ('SellSize', '<f8'), ('Count', '<i4'), ('BuyCount', '<i4'), ('SellCount', '<i4')])"
      ]
     },
     "execution_count": 11,
     "metadata": {},
     "output_type": "execute_result"
    }
   ],
   "source": [
    "C.Volume = C.BuySize + C.SellSize\n",
    "Buy = C[C.Volume > 0]\n",
    "Sell = C[C.Volume < 0]\n",
    "Sell[-5:]"
   ]
  },
  {
   "cell_type": "code",
   "execution_count": 12,
   "id": "586689f2-b133-450f-96c0-8430fdaa3044",
   "metadata": {
    "execution": {
     "iopub.execute_input": "2022-06-14T15:33:47.413927Z",
     "iopub.status.busy": "2022-06-14T15:33:47.412927Z",
     "iopub.status.idle": "2022-06-14T15:33:47.541957Z",
     "shell.execute_reply": "2022-06-14T15:33:47.541957Z",
     "shell.execute_reply.started": "2022-06-14T15:33:47.413927Z"
    },
    "tags": []
   },
   "outputs": [
    {
     "data": {
      "application/vnd.jupyter.widget-view+json": {
       "model_id": "2d07fb47562542068c6e2e2b6790114e",
       "version_major": 2,
       "version_minor": 0
      },
      "text/plain": [
       "FigureWidgetResampler({\n",
       "    'data': [{'marker': {'color': 'red',\n",
       "                         'opacity': 0.4,\n",
       "    …"
      ]
     },
     "metadata": {},
     "output_type": "display_data"
    }
   ],
   "source": [
    "# indexed chart without bidask\n",
    "fig = chartFigure(height=400,\n",
    "    Sell=dict(x=Sell.Index, y=Sell.Price, color='red', mode='markers', size=-symlog(Sell.Volume)-1, opacity=0.4),\n",
    "    Buy=dict(x=Buy.Index, y=Buy.Price, color='green', mode='markers', size=symlog(Buy.Volume)-1, opacity=0.4),\n",
    ")\n",
    "fig"
   ]
  },
  {
   "cell_type": "code",
   "execution_count": null,
   "id": "ff310ba4-4f10-49d2-a656-279d24d21232",
   "metadata": {},
   "outputs": [],
   "source": []
  }
 ],
 "metadata": {
  "kernelspec": {
   "display_name": "Python 3 (ipykernel)",
   "language": "python",
   "name": "python3"
  },
  "language_info": {
   "codemirror_mode": {
    "name": "ipython",
    "version": 3
   },
   "file_extension": ".py",
   "mimetype": "text/x-python",
   "name": "python",
   "nbconvert_exporter": "python",
   "pygments_lexer": "ipython3",
   "version": "3.9.12"
  }
 },
 "nbformat": 4,
 "nbformat_minor": 5
}

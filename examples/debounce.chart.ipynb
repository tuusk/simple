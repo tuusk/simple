{
 "cells": [
  {
   "cell_type": "code",
   "execution_count": 1,
   "id": "394d085f-7510-446e-bb12-384082b22535",
   "metadata": {
    "execution": {
     "iopub.execute_input": "2022-06-16T07:39:47.337219Z",
     "iopub.status.busy": "2022-06-16T07:39:47.337219Z",
     "iopub.status.idle": "2022-06-16T07:39:48.124361Z",
     "shell.execute_reply": "2022-06-16T07:39:48.124361Z",
     "shell.execute_reply.started": "2022-06-16T07:39:47.337219Z"
    },
    "tags": []
   },
   "outputs": [],
   "source": [
    "from simple.ohlc import debounce, midPrice, TTrade, npJoin\n",
    "from simple.plotly import chartFigure\n",
    "from simple.funcs import symlog\n",
    "import numpy as np"
   ]
  },
  {
   "cell_type": "code",
   "execution_count": 2,
   "id": "f2178691-427f-44d0-bce0-c278c85763c2",
   "metadata": {
    "execution": {
     "iopub.execute_input": "2022-06-16T07:39:48.125361Z",
     "iopub.status.busy": "2022-06-16T07:39:48.124861Z",
     "iopub.status.idle": "2022-06-16T07:39:48.144865Z",
     "shell.execute_reply": "2022-06-16T07:39:48.144865Z",
     "shell.execute_reply.started": "2022-06-16T07:39:48.125361Z"
    },
    "tags": []
   },
   "outputs": [
    {
     "data": {
      "text/plain": [
       "rec.array([('2022-05-08T00:01:50.167000', 1995, 2638.5 , 2.000e+00),\n",
       "           ('2022-05-08T00:01:50.167000', 1996, 2638.5 , 5.275e+03),\n",
       "           ('2022-05-08T00:01:50.167000', 1997, 2638.56, 5.000e+00),\n",
       "           ('2022-05-08T00:01:50.167000', 1998, 2638.62, 3.704e+03),\n",
       "           ('2022-05-08T00:01:50.167000', 1999, 2638.63, 3.000e+00)],\n",
       "          dtype={'names':['DateTimeA','LocalTimeA','PriceA','VolumeA'], 'formats':['<M8[us]','<i8','<f8','<f8'], 'offsets':[0,8,16,24], 'itemsize':40})"
      ]
     },
     "execution_count": 2,
     "metadata": {},
     "output_type": "execute_result"
    }
   ],
   "source": [
    "T = np.load('data/ETHUSDT.2022-05-08.tick.npz')['ETHUSDT'].view(np.recarray)[:2000]\n",
    "T[-5:]"
   ]
  },
  {
   "cell_type": "code",
   "execution_count": 3,
   "id": "7f12f0f8-07db-42f4-8e14-f64749cb63f3",
   "metadata": {
    "execution": {
     "iopub.execute_input": "2022-06-16T07:39:48.146365Z",
     "iopub.status.busy": "2022-06-16T07:39:48.146365Z",
     "iopub.status.idle": "2022-06-16T07:39:48.148866Z",
     "shell.execute_reply": "2022-06-16T07:39:48.148866Z",
     "shell.execute_reply.started": "2022-06-16T07:39:48.146365Z"
    },
    "tags": []
   },
   "outputs": [],
   "source": [
    "Buy = T[T.VolumeA > 0]\n",
    "Sell = T[T.VolumeA < 0]"
   ]
  },
  {
   "cell_type": "code",
   "execution_count": 4,
   "id": "58c23d13-eac4-48d7-a860-98ea7dd6004e",
   "metadata": {
    "execution": {
     "iopub.execute_input": "2022-06-16T07:39:48.149865Z",
     "iopub.status.busy": "2022-06-16T07:39:48.149365Z",
     "iopub.status.idle": "2022-06-16T07:39:48.815482Z",
     "shell.execute_reply": "2022-06-16T07:39:48.815482Z",
     "shell.execute_reply.started": "2022-06-16T07:39:48.149865Z"
    },
    "tags": []
   },
   "outputs": [
    {
     "data": {
      "text/plain": [
       "rec.array([('2022-05-08T00:01:47.203000', 196, 2638.395,       0, 9.0000e+01, 9.000e+01,    0.,  2,  2,  0),\n",
       "           ('2022-05-08T00:01:47.215000', 197, 2638.445,       0, 2.0000e+00, 2.000e+00,    0.,  1,  1,  0),\n",
       "           ('2022-05-08T00:01:47.281000', 198, 2638.495, 2886000, 1.3646e+04, 1.277e+04, -876., 44, 33, 11),\n",
       "           ('2022-05-08T00:01:50.167000', 199, 2638.555,       0, 5.0000e+00, 5.000e+00,    0.,  1,  1,  0),\n",
       "           ('2022-05-08T00:01:50.167000', 200, 2638.615,       0, 3.7070e+03, 3.707e+03,    0.,  2,  2,  0)],\n",
       "          dtype=[('DT', '<M8[us]'), ('Index', '<i4'), ('Price', '<f8'), ('Duration', '<m8[us]'), ('Volume', '<f8'), ('BuySize', '<f8'), ('SellSize', '<f8'), ('Count', '<i4'), ('BuyCount', '<i4'), ('SellCount', '<i4')])"
      ]
     },
     "execution_count": 4,
     "metadata": {},
     "output_type": "execute_result"
    }
   ],
   "source": [
    "C = debounce(T)\n",
    "C[-5:]"
   ]
  },
  {
   "cell_type": "code",
   "execution_count": 5,
   "id": "b7fcbf7e-0825-4da1-bd10-5600bc1666ed",
   "metadata": {
    "execution": {
     "iopub.execute_input": "2022-06-16T07:39:48.816482Z",
     "iopub.status.busy": "2022-06-16T07:39:48.815982Z",
     "iopub.status.idle": "2022-06-16T07:39:48.819983Z",
     "shell.execute_reply": "2022-06-16T07:39:48.819983Z",
     "shell.execute_reply.started": "2022-06-16T07:39:48.815982Z"
    },
    "tags": []
   },
   "outputs": [
    {
     "data": {
      "text/plain": [
       "(2000, 201)"
      ]
     },
     "execution_count": 5,
     "metadata": {},
     "output_type": "execute_result"
    }
   ],
   "source": [
    "len(T), len(C)"
   ]
  },
  {
   "cell_type": "code",
   "execution_count": 6,
   "id": "b72c1f8a-ed42-4b9e-966e-d834a53a7dc4",
   "metadata": {
    "execution": {
     "iopub.execute_input": "2022-06-16T07:39:48.820983Z",
     "iopub.status.busy": "2022-06-16T07:39:48.820483Z",
     "iopub.status.idle": "2022-06-16T07:39:49.791653Z",
     "shell.execute_reply": "2022-06-16T07:39:49.791653Z",
     "shell.execute_reply.started": "2022-06-16T07:39:48.820983Z"
    },
    "tags": []
   },
   "outputs": [
    {
     "data": {
      "application/vnd.jupyter.widget-view+json": {
       "model_id": "c02398317e50488fb244d21b4fca9685",
       "version_major": 2,
       "version_minor": 0
      },
      "text/plain": [
       "FigureWidgetResampler({\n",
       "    'data': [{'marker': {'color': 'red',\n",
       "                         'opacity': 0.2,\n",
       "    …"
      ]
     },
     "metadata": {},
     "output_type": "display_data"
    }
   ],
   "source": [
    "# indexed chart\n",
    "fig = chartFigure(height=400,\n",
    "    Sell=dict(x=Sell.DateTimeA, y=Sell.PriceA, color='red', mode='markers', size=-symlog(Sell.VolumeA)+3, opacity=0.2),\n",
    "    Buy=dict(x=Buy.DateTimeA, y=Buy.PriceA, color='green', mode='markers', size=symlog(Buy.VolumeA)+3, opacity=0.2),\n",
    "    Debounce=dict(mode='markers+lines', x=C.DT, y=C.Price, color='black', connectgaps=True, opacity=0.5)\n",
    ")\n",
    "fig"
   ]
  },
  {
   "cell_type": "code",
   "execution_count": 7,
   "id": "2607c6c0-f04a-4197-8591-0a883c6cf2fc",
   "metadata": {
    "execution": {
     "iopub.execute_input": "2022-06-16T07:39:49.792653Z",
     "iopub.status.busy": "2022-06-16T07:39:49.792653Z",
     "iopub.status.idle": "2022-06-16T07:39:49.797654Z",
     "shell.execute_reply": "2022-06-16T07:39:49.797654Z",
     "shell.execute_reply.started": "2022-06-16T07:39:49.792653Z"
    },
    "tags": []
   },
   "outputs": [
    {
     "data": {
      "text/plain": [
       "rec.array([('2022-05-08T00:01:36.910000', 174, 2637.915,   35999,  -902.,    0., -9.020e+02,  5,  0, 5),\n",
       "           ('2022-05-08T00:01:36.955000', 176, 2637.895,       0,    -2.,    0., -2.000e+00,  1,  0, 1),\n",
       "           ('2022-05-08T00:01:39.125000', 185, 2638.015,       0,    -8.,    0., -8.000e+00,  2,  0, 2),\n",
       "           ('2022-05-08T00:01:44.624999', 191, 2638.135, 2117001, -1740.,  992., -2.732e+03, 26, 17, 9),\n",
       "           ('2022-05-08T00:01:46.744000', 194, 2638.275,  459000,  -401., 1209., -1.610e+03,  9,  5, 4)],\n",
       "          dtype=[('DT', '<M8[us]'), ('Index', '<i4'), ('Price', '<f8'), ('Duration', '<m8[us]'), ('Volume', '<f8'), ('BuySize', '<f8'), ('SellSize', '<f8'), ('Count', '<i4'), ('BuyCount', '<i4'), ('SellCount', '<i4')])"
      ]
     },
     "execution_count": 7,
     "metadata": {},
     "output_type": "execute_result"
    }
   ],
   "source": [
    "C.Volume = C.BuySize + C.SellSize\n",
    "Buy = C[C.Volume > 0]\n",
    "Sell = C[C.Volume < 0]\n",
    "Sell[-5:]"
   ]
  },
  {
   "cell_type": "code",
   "execution_count": 8,
   "id": "ff310ba4-4f10-49d2-a656-279d24d21232",
   "metadata": {
    "execution": {
     "iopub.execute_input": "2022-06-16T07:39:49.798154Z",
     "iopub.status.busy": "2022-06-16T07:39:49.798154Z",
     "iopub.status.idle": "2022-06-16T07:39:49.817157Z",
     "shell.execute_reply": "2022-06-16T07:39:49.817157Z",
     "shell.execute_reply.started": "2022-06-16T07:39:49.798154Z"
    }
   },
   "outputs": [
    {
     "data": {
      "text/plain": [
       "rec.array([('2022-05-08T00:01:00.007000', 2636., 2635.99),\n",
       "           ('2022-05-08T00:01:00.043000', 2636., 2635.99),\n",
       "           ('2022-05-08T00:01:00.079000', 2636., 2635.99),\n",
       "           ('2022-05-08T00:01:00.117000', 2636., 2635.99),\n",
       "           ('2022-05-08T00:01:00.149000', 2636., 2635.99)],\n",
       "          dtype={'names':['DT','A','B'], 'formats':['<M8[us]','<f4','<f4'], 'offsets':[0,8,16], 'itemsize':24})"
      ]
     },
     "execution_count": 8,
     "metadata": {},
     "output_type": "execute_result"
    }
   ],
   "source": [
    "S = np.load('data/ETHUSDT.2022-05-08.bidask.npz')['ETHUSDT'].view(np.recarray)\n",
    "S[:5]"
   ]
  },
  {
   "cell_type": "code",
   "execution_count": 9,
   "id": "21952de0-3ab8-44e0-9b5a-095d087318b3",
   "metadata": {
    "execution": {
     "iopub.execute_input": "2022-06-16T07:39:49.818157Z",
     "iopub.status.busy": "2022-06-16T07:39:49.818157Z",
     "iopub.status.idle": "2022-06-16T07:39:49.944679Z",
     "shell.execute_reply": "2022-06-16T07:39:49.944679Z",
     "shell.execute_reply.started": "2022-06-16T07:39:49.818157Z"
    },
    "tags": []
   },
   "outputs": [],
   "source": [
    "K = npJoin(C.DT, S.DT)"
   ]
  },
  {
   "cell_type": "code",
   "execution_count": 10,
   "id": "586689f2-b133-450f-96c0-8430fdaa3044",
   "metadata": {
    "execution": {
     "iopub.execute_input": "2022-06-16T07:39:49.945680Z",
     "iopub.status.busy": "2022-06-16T07:39:49.945179Z",
     "iopub.status.idle": "2022-06-16T07:39:50.132213Z",
     "shell.execute_reply": "2022-06-16T07:39:50.132213Z",
     "shell.execute_reply.started": "2022-06-16T07:39:49.945680Z"
    },
    "tags": []
   },
   "outputs": [
    {
     "data": {
      "application/vnd.jupyter.widget-view+json": {
       "model_id": "1676274cae32438ea11b28a1bb7eef45",
       "version_major": 2,
       "version_minor": 0
      },
      "text/plain": [
       "FigureWidgetResampler({\n",
       "    'data': [{'marker': {'color': 'red',\n",
       "                         'opacity': 0.75,\n",
       "   …"
      ]
     },
     "metadata": {},
     "output_type": "display_data"
    }
   ],
   "source": [
    "# indexed chart without bidask\n",
    "fig = chartFigure(height=600, rows=2,\n",
    "    Sell=dict(x=Sell.Index, y=Sell.Price, color='red', mode='markers', size=-symlog(Sell.Volume)-1, opacity=0.75),\n",
    "    Buy=dict(x=Buy.Index, y=Buy.Price, color='green', mode='markers', size=symlog(Buy.Volume)-1, opacity=0.75),\n",
    "    Bid=dict(x=C.Index, y=S.B[K], color='green', opacity=0.4),\n",
    "    Ask=dict(x=C.Index, y=S.A[K], color='red', opacity=0.4)\n",
    ")\n",
    "fig.add_bar(name='Buy', x=Buy.Index, y=Buy.Volume, row=2, col=1, marker_color='green')\n",
    "fig.add_bar(name='Sell', x=Sell.Index, y=Sell.Volume, row=2, col=1, marker_color='red')\n",
    "fig"
   ]
  },
  {
   "cell_type": "code",
   "execution_count": null,
   "id": "ccea9fd1-0b9b-4222-93f9-97cb1f3becc3",
   "metadata": {},
   "outputs": [],
   "source": []
  }
 ],
 "metadata": {
  "kernelspec": {
   "display_name": "Python 3 (ipykernel)",
   "language": "python",
   "name": "python3"
  },
  "language_info": {
   "codemirror_mode": {
    "name": "ipython",
    "version": 3
   },
   "file_extension": ".py",
   "mimetype": "text/x-python",
   "name": "python",
   "nbconvert_exporter": "python",
   "pygments_lexer": "ipython3",
   "version": "3.9.12"
  }
 },
 "nbformat": 4,
 "nbformat_minor": 5
}

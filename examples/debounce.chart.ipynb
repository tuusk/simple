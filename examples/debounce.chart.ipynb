{
 "cells": [
  {
   "cell_type": "code",
   "execution_count": 1,
   "id": "394d085f-7510-446e-bb12-384082b22535",
   "metadata": {
    "execution": {
     "iopub.execute_input": "2023-06-25T10:39:17.279064Z",
     "iopub.status.busy": "2023-06-25T10:39:17.278800Z",
     "iopub.status.idle": "2023-06-25T10:39:18.320250Z",
     "shell.execute_reply": "2023-06-25T10:39:18.319510Z",
     "shell.execute_reply.started": "2023-06-25T10:39:17.279035Z"
    },
    "tags": []
   },
   "outputs": [],
   "source": [
    "from simple.ohlc import debounce, midPrice, TTrade, npJoin\n",
    "from simple.chart import chartFigure\n",
    "from simple.funcs import symlog\n",
    "import numpy as np"
   ]
  },
  {
   "cell_type": "code",
   "execution_count": 2,
   "id": "f2178691-427f-44d0-bce0-c278c85763c2",
   "metadata": {
    "execution": {
     "iopub.execute_input": "2023-06-25T10:39:18.322478Z",
     "iopub.status.busy": "2023-06-25T10:39:18.322021Z",
     "iopub.status.idle": "2023-06-25T10:39:18.413971Z",
     "shell.execute_reply": "2023-06-25T10:39:18.413312Z",
     "shell.execute_reply.started": "2023-06-25T10:39:18.322453Z"
    },
    "tags": []
   },
   "outputs": [
    {
     "data": {
      "text/plain": [
       "rec.array([('2022-05-08T05:59:59.886999', 2537.16, 394.),\n",
       "           ('2022-05-08T05:59:59.886999', 2537.16, 394.),\n",
       "           ('2022-05-08T05:59:59.886999', 2537.16, 210.),\n",
       "           ('2022-05-08T05:59:59.897000', 2537.16,   2.),\n",
       "           ('2022-05-08T05:59:59.909999', 2537.16,   2.)],\n",
       "          dtype=[('DateTime', '<M8[us]'), ('Price', '<f8'), ('Size', '<f8')])"
      ]
     },
     "execution_count": 2,
     "metadata": {},
     "output_type": "execute_result"
    }
   ],
   "source": [
    "T = np.load('data/ETHUSDT.2022-05-08.tick.npz')['ETHUSDT'].view(np.recarray)\n",
    "T[-5:]"
   ]
  },
  {
   "cell_type": "code",
   "execution_count": 3,
   "id": "7f12f0f8-07db-42f4-8e14-f64749cb63f3",
   "metadata": {
    "execution": {
     "iopub.execute_input": "2023-06-25T10:39:18.415317Z",
     "iopub.status.busy": "2023-06-25T10:39:18.415076Z",
     "iopub.status.idle": "2023-06-25T10:39:18.448487Z",
     "shell.execute_reply": "2023-06-25T10:39:18.447662Z",
     "shell.execute_reply.started": "2023-06-25T10:39:18.415294Z"
    },
    "tags": []
   },
   "outputs": [],
   "source": [
    "Buy = T[T.Size > 0]\n",
    "Sell = T[T.Size < 0]"
   ]
  },
  {
   "cell_type": "code",
   "execution_count": 4,
   "id": "58c23d13-eac4-48d7-a860-98ea7dd6004e",
   "metadata": {
    "execution": {
     "iopub.execute_input": "2023-06-25T10:39:18.449891Z",
     "iopub.status.busy": "2023-06-25T10:39:18.449551Z",
     "iopub.status.idle": "2023-06-25T10:39:19.739412Z",
     "shell.execute_reply": "2023-06-25T10:39:19.738674Z",
     "shell.execute_reply.started": "2023-06-25T10:39:18.449841Z"
    },
    "tags": []
   },
   "outputs": [
    {
     "data": {
      "text/plain": [
       "rec.array([('2022-05-08T05:59:50.540000', 155085, 2537.085,       0,  1.3485e+04, 13485.,  0.000e+00,  4,  4,  0),\n",
       "           ('2022-05-08T05:59:50.540000', 155086, 2537.145,       0,  2.5350e+03,  2535.,  0.000e+00,  3,  3,  0),\n",
       "           ('2022-05-08T05:59:50.611000', 155087, 2537.185,   71000,  2.3760e+03,  2378., -2.000e+00,  6,  5,  1),\n",
       "           ('2022-05-08T05:59:51.163000', 155088, 2537.105,   18000, -1.0000e+00,   197., -1.980e+02,  2,  1,  1),\n",
       "           ('2022-05-08T05:59:59.780999', 155089, 2536.985, 8617999,  3.3760e+03,  9984., -6.608e+03, 67, 55, 12)],\n",
       "          dtype=[('DateTime', '<M8[us]'), ('Index', '<i8'), ('Price', '<f8'), ('Duration', '<m8[us]'), ('Size', '<f8'), ('BuySize', '<f8'), ('SellSize', '<f8'), ('Count', '<i8'), ('BuyCount', '<i8'), ('SellCount', '<i8')])"
      ]
     },
     "execution_count": 4,
     "metadata": {},
     "output_type": "execute_result"
    }
   ],
   "source": [
    "C = debounce(T)[:-1]\n",
    "C[-5:]"
   ]
  },
  {
   "cell_type": "code",
   "execution_count": 5,
   "id": "b7fcbf7e-0825-4da1-bd10-5600bc1666ed",
   "metadata": {
    "execution": {
     "iopub.execute_input": "2023-06-25T10:39:19.740688Z",
     "iopub.status.busy": "2023-06-25T10:39:19.740431Z",
     "iopub.status.idle": "2023-06-25T10:39:19.745570Z",
     "shell.execute_reply": "2023-06-25T10:39:19.744898Z",
     "shell.execute_reply.started": "2023-06-25T10:39:19.740664Z"
    },
    "tags": []
   },
   "outputs": [
    {
     "data": {
      "text/plain": [
       "(907307, 155090)"
      ]
     },
     "execution_count": 5,
     "metadata": {},
     "output_type": "execute_result"
    }
   ],
   "source": [
    "len(T), len(C)"
   ]
  },
  {
   "cell_type": "code",
   "execution_count": 6,
   "id": "b72c1f8a-ed42-4b9e-966e-d834a53a7dc4",
   "metadata": {
    "execution": {
     "iopub.execute_input": "2023-06-25T10:39:19.746811Z",
     "iopub.status.busy": "2023-06-25T10:39:19.746408Z",
     "iopub.status.idle": "2023-06-25T10:39:21.042022Z",
     "shell.execute_reply": "2023-06-25T10:39:21.041287Z",
     "shell.execute_reply.started": "2023-06-25T10:39:19.746786Z"
    },
    "tags": []
   },
   "outputs": [
    {
     "data": {
      "application/vnd.jupyter.widget-view+json": {
       "model_id": "57dcceffb833498990c76c51e9e7bc27",
       "version_major": 2,
       "version_minor": 0
      },
      "text/plain": [
       "FigureWidgetResampler({\n",
       "    'data': [{'marker': {'color': 'red',\n",
       "                         'opacity': 0.2,\n",
       "                         'size': array([ 7.58351894,  8.91265489,  4.69314718, ...,  9.22035583, 10.3403593 ,\n",
       "                                         4.69314718])},\n",
       "              'mode': 'markers',\n",
       "              'name': '<b style=\"color:sandybrown\">[R]</b> Sell <i style=\"color:#fc9944\">~22s</i>',\n",
       "              'type': 'scattergl',\n",
       "              'uid': 'c5cf04a2-58b9-49d5-ba71-e576c58628ef',\n",
       "              'x': array([datetime.datetime(2022, 5, 8, 0, 1, 0, 865000),\n",
       "                          datetime.datetime(2022, 5, 8, 0, 1, 31, 602999),\n",
       "                          datetime.datetime(2022, 5, 8, 0, 1, 36, 945999), ...,\n",
       "                          datetime.datetime(2022, 5, 8, 5, 58, 41, 166000),\n",
       "                          datetime.datetime(2022, 5, 8, 5, 59, 8, 347000),\n",
       "                          datetime.datetime(2022, 5, 8, 5, 59, 56, 864999)], dtype=object),\n",
       "              'y': array([2636.21, 2639.28, 2637.89, ..., 2534.16, 2537.85, 2536.98])},\n",
       "             {'marker': {'color': 'green',\n",
       "                         'opacity': 0.2,\n",
       "                         'size': array([5.79175947, 5.38629436, 8.56434819, ..., 9.34710753, 4.69314718,\n",
       "                                        4.69314718])},\n",
       "              'mode': 'markers',\n",
       "              'name': '<b style=\"color:sandybrown\">[R]</b> Buy <i style=\"color:#fc9944\">~22s</i>',\n",
       "              'type': 'scattergl',\n",
       "              'uid': '4482cacd-26cc-485a-80af-22ef049d12cd',\n",
       "              'x': array([datetime.datetime(2022, 5, 8, 0, 1, 0, 335000),\n",
       "                          datetime.datetime(2022, 5, 8, 0, 1, 5, 755000),\n",
       "                          datetime.datetime(2022, 5, 8, 0, 1, 15, 594000), ...,\n",
       "                          datetime.datetime(2022, 5, 8, 5, 58, 53, 508000),\n",
       "                          datetime.datetime(2022, 5, 8, 5, 59, 13, 856999),\n",
       "                          datetime.datetime(2022, 5, 8, 5, 59, 59, 909999)], dtype=object),\n",
       "              'y': array([2636.  , 2635.6 , 2637.69, ..., 2537.56, 2536.08, 2537.16])},\n",
       "             {'connectgaps': True,\n",
       "              'line': {'color': 'black'},\n",
       "              'mode': 'markers+lines',\n",
       "              'name': '<b style=\"color:sandybrown\">[R]</b> Debounce <i style=\"color:#fc9944\">~22s</i>',\n",
       "              'opacity': 0.5,\n",
       "              'type': 'scattergl',\n",
       "              'uid': 'd7a41150-4ec6-4d13-b29c-c54923155e6d',\n",
       "              'x': array([datetime.datetime(2022, 5, 8, 0, 1, 0, 689000),\n",
       "                          datetime.datetime(2022, 5, 8, 0, 1, 31, 819000),\n",
       "                          datetime.datetime(2022, 5, 8, 0, 2, 7, 705000), ...,\n",
       "                          datetime.datetime(2022, 5, 8, 5, 58, 41, 518999),\n",
       "                          datetime.datetime(2022, 5, 8, 5, 59, 6, 963000),\n",
       "                          datetime.datetime(2022, 5, 8, 5, 59, 59, 780999)], dtype=object),\n",
       "              'y': array([2635.995, 2639.285, 2639.565, ..., 2534.185, 2537.805, 2536.985])}],\n",
       "    'layout': {'autosize': True,\n",
       "               'height': 400,\n",
       "               'legend': {'orientation': 'h', 'x': 0.1, 'y': 1},\n",
       "               'margin': {'b': 10, 'l': 45, 'pad': 3, 'r': 15, 't': 30},\n",
       "               'template': '...',\n",
       "               'title': {},\n",
       "               'xaxis': {'anchor': 'y', 'domain': [0.0, 0.94], 'rangeslider': {'visible': False}},\n",
       "               'yaxis': {'anchor': 'x', 'domain': [0.0, 1.0]},\n",
       "               'yaxis2': {'anchor': 'x', 'overlaying': 'y', 'side': 'right'}}\n",
       "})"
      ]
     },
     "execution_count": 6,
     "metadata": {},
     "output_type": "execute_result"
    }
   ],
   "source": [
    "# datetime chart\n",
    "fig = chartFigure(height=400,\n",
    "    Sell=dict(x=Sell.DateTime, y=Sell.Price, color='red', mode='markers', size=-symlog(Sell.Size)+3, opacity=0.2),\n",
    "    Buy=dict(x=Buy.DateTime, y=Buy.Price, color='green', mode='markers', size=symlog(Buy.Size)+3, opacity=0.2),\n",
    "    Debounce=dict(mode='markers+lines', x=C.DateTime, y=C.Price, color='black', connectgaps=True, opacity=0.5)\n",
    ")\n",
    "fig"
   ]
  },
  {
   "cell_type": "code",
   "execution_count": 7,
   "id": "2607c6c0-f04a-4197-8591-0a883c6cf2fc",
   "metadata": {
    "execution": {
     "iopub.execute_input": "2023-06-25T10:39:21.044704Z",
     "iopub.status.busy": "2023-06-25T10:39:21.044387Z",
     "iopub.status.idle": "2023-06-25T10:39:21.065763Z",
     "shell.execute_reply": "2023-06-25T10:39:21.065015Z",
     "shell.execute_reply.started": "2023-06-25T10:39:21.044679Z"
    },
    "tags": []
   },
   "outputs": [
    {
     "data": {
      "text/plain": [
       "rec.array([('2022-05-08T05:59:42.346000', 155074, 2536.975,      0, -1.000e+02,   0.,  -100., 1, 0, 1),\n",
       "           ('2022-05-08T05:59:42.346000', 155075, 2536.935,      0, -1.970e+03,   0., -1970., 3, 0, 3),\n",
       "           ('2022-05-08T05:59:42.346000', 155076, 2536.905,      0, -5.081e+03,   0., -5081., 6, 0, 6),\n",
       "           ('2022-05-08T05:59:42.745000', 155077, 2536.875, 363000, -5.649e+03,   0., -5649., 7, 0, 7),\n",
       "           ('2022-05-08T05:59:51.163000', 155088, 2537.105,  18000, -1.000e+00, 197.,  -198., 2, 1, 1)],\n",
       "          dtype=[('DateTime', '<M8[us]'), ('Index', '<i8'), ('Price', '<f8'), ('Duration', '<m8[us]'), ('Size', '<f8'), ('BuySize', '<f8'), ('SellSize', '<f8'), ('Count', '<i8'), ('BuyCount', '<i8'), ('SellCount', '<i8')])"
      ]
     },
     "execution_count": 7,
     "metadata": {},
     "output_type": "execute_result"
    }
   ],
   "source": [
    "C.Volume = C.BuySize + C.SellSize\n",
    "Buy = C[C.Volume > 0]\n",
    "Sell = C[C.Volume < 0]\n",
    "Sell[-5:]"
   ]
  },
  {
   "cell_type": "code",
   "execution_count": 8,
   "id": "ff310ba4-4f10-49d2-a656-279d24d21232",
   "metadata": {
    "execution": {
     "iopub.execute_input": "2023-06-25T10:39:21.067021Z",
     "iopub.status.busy": "2023-06-25T10:39:21.066761Z",
     "iopub.status.idle": "2023-06-25T10:39:21.123273Z",
     "shell.execute_reply": "2023-06-25T10:39:21.122612Z",
     "shell.execute_reply.started": "2023-06-25T10:39:21.066997Z"
    },
    "tags": []
   },
   "outputs": [
    {
     "data": {
      "text/plain": [
       "rec.array([('2022-05-08T00:01:00.007000', 2636., 2635.99),\n",
       "           ('2022-05-08T00:01:00.043000', 2636., 2635.99),\n",
       "           ('2022-05-08T00:01:00.079000', 2636., 2635.99),\n",
       "           ('2022-05-08T00:01:00.117000', 2636., 2635.99),\n",
       "           ('2022-05-08T00:01:00.149000', 2636., 2635.99)],\n",
       "          dtype={'names': ['DateTime', 'Ask', 'Bid'], 'formats': ['<M8[us]', '<f4', '<f4'], 'offsets': [0, 8, 16], 'itemsize': 24})"
      ]
     },
     "execution_count": 8,
     "metadata": {},
     "output_type": "execute_result"
    }
   ],
   "source": [
    "S = np.load('data/ETHUSDT.2022-05-08.bidask.npz')['ETHUSDT'].view(np.recarray)\n",
    "S[:5]"
   ]
  },
  {
   "cell_type": "code",
   "execution_count": 9,
   "id": "21952de0-3ab8-44e0-9b5a-095d087318b3",
   "metadata": {
    "execution": {
     "iopub.execute_input": "2023-06-25T10:39:21.124580Z",
     "iopub.status.busy": "2023-06-25T10:39:21.124262Z",
     "iopub.status.idle": "2023-06-25T10:39:21.414738Z",
     "shell.execute_reply": "2023-06-25T10:39:21.413772Z",
     "shell.execute_reply.started": "2023-06-25T10:39:21.124557Z"
    },
    "tags": []
   },
   "outputs": [],
   "source": [
    "K = npJoin(C.DateTime, S.DateTime)"
   ]
  },
  {
   "cell_type": "code",
   "execution_count": 10,
   "id": "586689f2-b133-450f-96c0-8430fdaa3044",
   "metadata": {
    "execution": {
     "iopub.execute_input": "2023-06-25T10:39:21.416057Z",
     "iopub.status.busy": "2023-06-25T10:39:21.415807Z",
     "iopub.status.idle": "2023-06-25T10:39:21.760987Z",
     "shell.execute_reply": "2023-06-25T10:39:21.760284Z",
     "shell.execute_reply.started": "2023-06-25T10:39:21.416033Z"
    },
    "tags": []
   },
   "outputs": [
    {
     "data": {
      "application/vnd.jupyter.widget-view+json": {
       "model_id": "e4f2bddbe0364abe8e931f6ccb4ceda4",
       "version_major": 2,
       "version_minor": 0
      },
      "text/plain": [
       "FigureWidgetResampler({\n",
       "    'data': [{'marker': {'color': 'red',\n",
       "                         'opacity': 0.75,\n",
       "                         'size': array([1.60943791, 5.55682806, 8.08023742, ..., 8.53326337, 8.63923382,\n",
       "                                        0.        ])},\n",
       "              'mode': 'markers',\n",
       "              'name': '<b style=\"color:sandybrown\">[R]</b> Sell <i style=\"color:#fc9944\">~155</i>',\n",
       "              'type': 'scattergl',\n",
       "              'uid': '0f68f23f-3cd4-4e2c-bbe4-b65653015903',\n",
       "              'x': array([     6,    135,    261, ..., 154835, 154915, 155088]),\n",
       "              'y': array([2636.155, 2639.285, 2639.565, ..., 2534.185, 2537.485, 2537.105])},\n",
       "             {'marker': {'color': 'green',\n",
       "                         'opacity': 0.75,\n",
       "                         'size': array([8.18172046, 1.60943791, 4.99721227, ..., 7.83794892, 7.77317368,\n",
       "                                        8.12444686])},\n",
       "              'mode': 'markers',\n",
       "              'name': '<b style=\"color:sandybrown\">[R]</b> Buy <i style=\"color:#fc9944\">~155</i>',\n",
       "              'type': 'scattergl',\n",
       "              'uid': '49877b87-aaa1-42fa-a1bf-a592c9962ae3',\n",
       "              'x': array([     0,     12,    134, ..., 154913, 155036, 155089]),\n",
       "              'y': array([2635.995, 2635.615, 2639.245, ..., 2537.485, 2536.075, 2536.985])},\n",
       "             {'line': {'color': 'green'},\n",
       "              'name': '<b style=\"color:sandybrown\">[R]</b> Bid <i style=\"color:#fc9944\">~155</i>',\n",
       "              'opacity': 0.4,\n",
       "              'type': 'scattergl',\n",
       "              'uid': '08d5cca5-acb6-46b5-a5fc-456682ab5b0b',\n",
       "              'x': array([     0,    135,    261, ..., 154830, 154959, 155089]),\n",
       "              'y': array([2635.99, 2639.25, 2639.48, ..., 2534.15, 2537.6 , 2536.98],\n",
       "                         dtype=float32)},\n",
       "             {'line': {'color': 'red'},\n",
       "              'name': '<b style=\"color:sandybrown\">[R]</b> Ask <i style=\"color:#fc9944\">~155</i>',\n",
       "              'opacity': 0.4,\n",
       "              'type': 'scattergl',\n",
       "              'uid': 'aece839f-036f-4e21-866d-f07b1cb45403',\n",
       "              'x': array([     0,    135,    261, ..., 154830, 154959, 155089]),\n",
       "              'y': array([2636.  , 2639.29, 2639.57, ..., 2534.17, 2537.71, 2536.99],\n",
       "                         dtype=float32)}],\n",
       "    'layout': {'autosize': True,\n",
       "               'height': 550,\n",
       "               'legend': {'orientation': 'h', 'x': 0.1, 'y': 1},\n",
       "               'margin': {'b': 10, 'l': 45, 'pad': 3, 'r': 15, 't': 30},\n",
       "               'template': '...',\n",
       "               'title': {},\n",
       "               'xaxis': {'anchor': 'y', 'domain': [0.0, 0.94], 'rangeslider': {'visible': False}},\n",
       "               'yaxis': {'anchor': 'x', 'domain': [0.0, 1.0]},\n",
       "               'yaxis2': {'anchor': 'x', 'overlaying': 'y', 'side': 'right'}}\n",
       "})"
      ]
     },
     "execution_count": 10,
     "metadata": {},
     "output_type": "execute_result"
    }
   ],
   "source": [
    "# indexed chart with bidask\n",
    "chartFigure(\n",
    "    Sell=dict(x=Sell.Index, y=Sell.Price, color='red', mode='markers', size=symlog(-Sell.Size)-1, opacity=0.75),\n",
    "    Buy=dict(x=Buy.Index, y=Buy.Price, color='green', mode='markers', size=symlog(Buy.Size)-1, opacity=0.75),\n",
    "    Bid=dict(x=C.Index, y=S.Bid[K], color='green', opacity=0.4),\n",
    "    Ask=dict(x=C.Index, y=S.Ask[K], color='red', opacity=0.4)\n",
    ")"
   ]
  },
  {
   "cell_type": "code",
   "execution_count": 12,
   "id": "826f4609-b64a-406a-9195-5a3712520a67",
   "metadata": {
    "execution": {
     "iopub.execute_input": "2023-06-25T10:39:39.959062Z",
     "iopub.status.busy": "2023-06-25T10:39:39.958230Z",
     "iopub.status.idle": "2023-06-25T10:39:39.964469Z",
     "shell.execute_reply": "2023-06-25T10:39:39.963706Z",
     "shell.execute_reply.started": "2023-06-25T10:39:39.958993Z"
    },
    "tags": []
   },
   "outputs": [],
   "source": [
    "# fig.add_bar(name='Buy', x=Buy.Index, y=Buy.Size, row=2, col=1, marker_color='green')\n",
    "# fig.add_bar(name='Sell', x=Sell.Index, y=-Sell.Size, row=2, col=1, marker_color='red')"
   ]
  },
  {
   "cell_type": "code",
   "execution_count": null,
   "id": "18db3ab9-e1e1-4cab-8f84-b447567763ef",
   "metadata": {},
   "outputs": [],
   "source": []
  }
 ],
 "metadata": {
  "kernelspec": {
   "display_name": "Python 3 (ipykernel)",
   "language": "python",
   "name": "python3"
  },
  "language_info": {
   "codemirror_mode": {
    "name": "ipython",
    "version": 3
   },
   "file_extension": ".py",
   "mimetype": "text/x-python",
   "name": "python",
   "nbconvert_exporter": "python",
   "pygments_lexer": "ipython3",
   "version": "3.9.16"
  },
  "widgets": {
   "application/vnd.jupyter.widget-state+json": {
    "state": {
     "20779b70fba943dcac1c3e8b0ea60c6f": {
      "model_module": "jupyterlab-plotly",
      "model_module_version": "^5.6.0",
      "model_name": "FigureModel",
      "state": {
       "_config": {
        "plotlyServerURL": "https://plot.ly"
       },
       "_js2py_layoutDelta": {},
       "_js2py_pointsCallback": {},
       "_js2py_relayout": {},
       "_js2py_restyle": {},
       "_js2py_traceDeltas": {},
       "_js2py_update": {},
       "_layout": {
        "template": {
         "data": {
          "bar": [
           {
            "error_x": {
             "color": "#2a3f5f"
            },
            "error_y": {
             "color": "#2a3f5f"
            },
            "marker": {
             "line": {
              "color": "#E5ECF6",
              "width": 0.5
             },
             "pattern": {
              "fillmode": "overlay",
              "size": 10,
              "solidity": 0.2
             }
            },
            "type": "bar"
           }
          ],
          "barpolar": [
           {
            "marker": {
             "line": {
              "color": "#E5ECF6",
              "width": 0.5
             },
             "pattern": {
              "fillmode": "overlay",
              "size": 10,
              "solidity": 0.2
             }
            },
            "type": "barpolar"
           }
          ],
          "carpet": [
           {
            "aaxis": {
             "endlinecolor": "#2a3f5f",
             "gridcolor": "white",
             "linecolor": "white",
             "minorgridcolor": "white",
             "startlinecolor": "#2a3f5f"
            },
            "baxis": {
             "endlinecolor": "#2a3f5f",
             "gridcolor": "white",
             "linecolor": "white",
             "minorgridcolor": "white",
             "startlinecolor": "#2a3f5f"
            },
            "type": "carpet"
           }
          ],
          "choropleth": [
           {
            "colorbar": {
             "outlinewidth": 0,
             "ticks": ""
            },
            "type": "choropleth"
           }
          ],
          "contour": [
           {
            "colorbar": {
             "outlinewidth": 0,
             "ticks": ""
            },
            "colorscale": [
             [
              0,
              "#0d0887"
             ],
             [
              0.1111111111111111,
              "#46039f"
             ],
             [
              0.2222222222222222,
              "#7201a8"
             ],
             [
              0.3333333333333333,
              "#9c179e"
             ],
             [
              0.4444444444444444,
              "#bd3786"
             ],
             [
              0.5555555555555556,
              "#d8576b"
             ],
             [
              0.6666666666666666,
              "#ed7953"
             ],
             [
              0.7777777777777778,
              "#fb9f3a"
             ],
             [
              0.8888888888888888,
              "#fdca26"
             ],
             [
              1,
              "#f0f921"
             ]
            ],
            "type": "contour"
           }
          ],
          "contourcarpet": [
           {
            "colorbar": {
             "outlinewidth": 0,
             "ticks": ""
            },
            "type": "contourcarpet"
           }
          ],
          "heatmap": [
           {
            "colorbar": {
             "outlinewidth": 0,
             "ticks": ""
            },
            "colorscale": [
             [
              0,
              "#0d0887"
             ],
             [
              0.1111111111111111,
              "#46039f"
             ],
             [
              0.2222222222222222,
              "#7201a8"
             ],
             [
              0.3333333333333333,
              "#9c179e"
             ],
             [
              0.4444444444444444,
              "#bd3786"
             ],
             [
              0.5555555555555556,
              "#d8576b"
             ],
             [
              0.6666666666666666,
              "#ed7953"
             ],
             [
              0.7777777777777778,
              "#fb9f3a"
             ],
             [
              0.8888888888888888,
              "#fdca26"
             ],
             [
              1,
              "#f0f921"
             ]
            ],
            "type": "heatmap"
           }
          ],
          "heatmapgl": [
           {
            "colorbar": {
             "outlinewidth": 0,
             "ticks": ""
            },
            "colorscale": [
             [
              0,
              "#0d0887"
             ],
             [
              0.1111111111111111,
              "#46039f"
             ],
             [
              0.2222222222222222,
              "#7201a8"
             ],
             [
              0.3333333333333333,
              "#9c179e"
             ],
             [
              0.4444444444444444,
              "#bd3786"
             ],
             [
              0.5555555555555556,
              "#d8576b"
             ],
             [
              0.6666666666666666,
              "#ed7953"
             ],
             [
              0.7777777777777778,
              "#fb9f3a"
             ],
             [
              0.8888888888888888,
              "#fdca26"
             ],
             [
              1,
              "#f0f921"
             ]
            ],
            "type": "heatmapgl"
           }
          ],
          "histogram": [
           {
            "marker": {
             "pattern": {
              "fillmode": "overlay",
              "size": 10,
              "solidity": 0.2
             }
            },
            "type": "histogram"
           }
          ],
          "histogram2d": [
           {
            "colorbar": {
             "outlinewidth": 0,
             "ticks": ""
            },
            "colorscale": [
             [
              0,
              "#0d0887"
             ],
             [
              0.1111111111111111,
              "#46039f"
             ],
             [
              0.2222222222222222,
              "#7201a8"
             ],
             [
              0.3333333333333333,
              "#9c179e"
             ],
             [
              0.4444444444444444,
              "#bd3786"
             ],
             [
              0.5555555555555556,
              "#d8576b"
             ],
             [
              0.6666666666666666,
              "#ed7953"
             ],
             [
              0.7777777777777778,
              "#fb9f3a"
             ],
             [
              0.8888888888888888,
              "#fdca26"
             ],
             [
              1,
              "#f0f921"
             ]
            ],
            "type": "histogram2d"
           }
          ],
          "histogram2dcontour": [
           {
            "colorbar": {
             "outlinewidth": 0,
             "ticks": ""
            },
            "colorscale": [
             [
              0,
              "#0d0887"
             ],
             [
              0.1111111111111111,
              "#46039f"
             ],
             [
              0.2222222222222222,
              "#7201a8"
             ],
             [
              0.3333333333333333,
              "#9c179e"
             ],
             [
              0.4444444444444444,
              "#bd3786"
             ],
             [
              0.5555555555555556,
              "#d8576b"
             ],
             [
              0.6666666666666666,
              "#ed7953"
             ],
             [
              0.7777777777777778,
              "#fb9f3a"
             ],
             [
              0.8888888888888888,
              "#fdca26"
             ],
             [
              1,
              "#f0f921"
             ]
            ],
            "type": "histogram2dcontour"
           }
          ],
          "mesh3d": [
           {
            "colorbar": {
             "outlinewidth": 0,
             "ticks": ""
            },
            "type": "mesh3d"
           }
          ],
          "parcoords": [
           {
            "line": {
             "colorbar": {
              "outlinewidth": 0,
              "ticks": ""
             }
            },
            "type": "parcoords"
           }
          ],
          "pie": [
           {
            "automargin": true,
            "type": "pie"
           }
          ],
          "scatter": [
           {
            "marker": {
             "colorbar": {
              "outlinewidth": 0,
              "ticks": ""
             }
            },
            "type": "scatter"
           }
          ],
          "scatter3d": [
           {
            "line": {
             "colorbar": {
              "outlinewidth": 0,
              "ticks": ""
             }
            },
            "marker": {
             "colorbar": {
              "outlinewidth": 0,
              "ticks": ""
             }
            },
            "type": "scatter3d"
           }
          ],
          "scattercarpet": [
           {
            "marker": {
             "colorbar": {
              "outlinewidth": 0,
              "ticks": ""
             }
            },
            "type": "scattercarpet"
           }
          ],
          "scattergeo": [
           {
            "marker": {
             "colorbar": {
              "outlinewidth": 0,
              "ticks": ""
             }
            },
            "type": "scattergeo"
           }
          ],
          "scattergl": [
           {
            "marker": {
             "colorbar": {
              "outlinewidth": 0,
              "ticks": ""
             }
            },
            "type": "scattergl"
           }
          ],
          "scattermapbox": [
           {
            "marker": {
             "colorbar": {
              "outlinewidth": 0,
              "ticks": ""
             }
            },
            "type": "scattermapbox"
           }
          ],
          "scatterpolar": [
           {
            "marker": {
             "colorbar": {
              "outlinewidth": 0,
              "ticks": ""
             }
            },
            "type": "scatterpolar"
           }
          ],
          "scatterpolargl": [
           {
            "marker": {
             "colorbar": {
              "outlinewidth": 0,
              "ticks": ""
             }
            },
            "type": "scatterpolargl"
           }
          ],
          "scatterternary": [
           {
            "marker": {
             "colorbar": {
              "outlinewidth": 0,
              "ticks": ""
             }
            },
            "type": "scatterternary"
           }
          ],
          "surface": [
           {
            "colorbar": {
             "outlinewidth": 0,
             "ticks": ""
            },
            "colorscale": [
             [
              0,
              "#0d0887"
             ],
             [
              0.1111111111111111,
              "#46039f"
             ],
             [
              0.2222222222222222,
              "#7201a8"
             ],
             [
              0.3333333333333333,
              "#9c179e"
             ],
             [
              0.4444444444444444,
              "#bd3786"
             ],
             [
              0.5555555555555556,
              "#d8576b"
             ],
             [
              0.6666666666666666,
              "#ed7953"
             ],
             [
              0.7777777777777778,
              "#fb9f3a"
             ],
             [
              0.8888888888888888,
              "#fdca26"
             ],
             [
              1,
              "#f0f921"
             ]
            ],
            "type": "surface"
           }
          ],
          "table": [
           {
            "cells": {
             "fill": {
              "color": "#EBF0F8"
             },
             "line": {
              "color": "white"
             }
            },
            "header": {
             "fill": {
              "color": "#C8D4E3"
             },
             "line": {
              "color": "white"
             }
            },
            "type": "table"
           }
          ]
         },
         "layout": {
          "annotationdefaults": {
           "arrowcolor": "#2a3f5f",
           "arrowhead": 0,
           "arrowwidth": 1
          },
          "autotypenumbers": "strict",
          "coloraxis": {
           "colorbar": {
            "outlinewidth": 0,
            "ticks": ""
           }
          },
          "colorscale": {
           "diverging": [
            [
             0,
             "#8e0152"
            ],
            [
             0.1,
             "#c51b7d"
            ],
            [
             0.2,
             "#de77ae"
            ],
            [
             0.3,
             "#f1b6da"
            ],
            [
             0.4,
             "#fde0ef"
            ],
            [
             0.5,
             "#f7f7f7"
            ],
            [
             0.6,
             "#e6f5d0"
            ],
            [
             0.7,
             "#b8e186"
            ],
            [
             0.8,
             "#7fbc41"
            ],
            [
             0.9,
             "#4d9221"
            ],
            [
             1,
             "#276419"
            ]
           ],
           "sequential": [
            [
             0,
             "#0d0887"
            ],
            [
             0.1111111111111111,
             "#46039f"
            ],
            [
             0.2222222222222222,
             "#7201a8"
            ],
            [
             0.3333333333333333,
             "#9c179e"
            ],
            [
             0.4444444444444444,
             "#bd3786"
            ],
            [
             0.5555555555555556,
             "#d8576b"
            ],
            [
             0.6666666666666666,
             "#ed7953"
            ],
            [
             0.7777777777777778,
             "#fb9f3a"
            ],
            [
             0.8888888888888888,
             "#fdca26"
            ],
            [
             1,
             "#f0f921"
            ]
           ],
           "sequentialminus": [
            [
             0,
             "#0d0887"
            ],
            [
             0.1111111111111111,
             "#46039f"
            ],
            [
             0.2222222222222222,
             "#7201a8"
            ],
            [
             0.3333333333333333,
             "#9c179e"
            ],
            [
             0.4444444444444444,
             "#bd3786"
            ],
            [
             0.5555555555555556,
             "#d8576b"
            ],
            [
             0.6666666666666666,
             "#ed7953"
            ],
            [
             0.7777777777777778,
             "#fb9f3a"
            ],
            [
             0.8888888888888888,
             "#fdca26"
            ],
            [
             1,
             "#f0f921"
            ]
           ]
          },
          "colorway": [
           "#636efa",
           "#EF553B",
           "#00cc96",
           "#ab63fa",
           "#FFA15A",
           "#19d3f3",
           "#FF6692",
           "#B6E880",
           "#FF97FF",
           "#FECB52"
          ],
          "font": {
           "color": "#2a3f5f"
          },
          "geo": {
           "bgcolor": "white",
           "lakecolor": "white",
           "landcolor": "#E5ECF6",
           "showlakes": true,
           "showland": true,
           "subunitcolor": "white"
          },
          "hoverlabel": {
           "align": "left"
          },
          "hovermode": "closest",
          "mapbox": {
           "style": "light"
          },
          "paper_bgcolor": "white",
          "plot_bgcolor": "#E5ECF6",
          "polar": {
           "angularaxis": {
            "gridcolor": "white",
            "linecolor": "white",
            "ticks": ""
           },
           "bgcolor": "#E5ECF6",
           "radialaxis": {
            "gridcolor": "white",
            "linecolor": "white",
            "ticks": ""
           }
          },
          "scene": {
           "xaxis": {
            "backgroundcolor": "#E5ECF6",
            "gridcolor": "white",
            "gridwidth": 2,
            "linecolor": "white",
            "showbackground": true,
            "ticks": "",
            "zerolinecolor": "white"
           },
           "yaxis": {
            "backgroundcolor": "#E5ECF6",
            "gridcolor": "white",
            "gridwidth": 2,
            "linecolor": "white",
            "showbackground": true,
            "ticks": "",
            "zerolinecolor": "white"
           },
           "zaxis": {
            "backgroundcolor": "#E5ECF6",
            "gridcolor": "white",
            "gridwidth": 2,
            "linecolor": "white",
            "showbackground": true,
            "ticks": "",
            "zerolinecolor": "white"
           }
          },
          "shapedefaults": {
           "line": {
            "color": "#2a3f5f"
           }
          },
          "ternary": {
           "aaxis": {
            "gridcolor": "white",
            "linecolor": "white",
            "ticks": ""
           },
           "baxis": {
            "gridcolor": "white",
            "linecolor": "white",
            "ticks": ""
           },
           "bgcolor": "#E5ECF6",
           "caxis": {
            "gridcolor": "white",
            "linecolor": "white",
            "ticks": ""
           }
          },
          "title": {
           "x": 0.05
          },
          "xaxis": {
           "automargin": true,
           "gridcolor": "white",
           "linecolor": "white",
           "ticks": "",
           "title": {
            "standoff": 15
           },
           "zerolinecolor": "white",
           "zerolinewidth": 2
          },
          "yaxis": {
           "automargin": true,
           "gridcolor": "white",
           "linecolor": "white",
           "ticks": "",
           "title": {
            "standoff": 15
           },
           "zerolinecolor": "white",
           "zerolinewidth": 2
          }
         }
        },
        "xaxis": {
         "anchor": "y",
         "domain": [
          0,
          0.94
         ]
        },
        "yaxis": {
         "anchor": "x",
         "domain": [
          0,
          1
         ]
        },
        "yaxis2": {
         "anchor": "x",
         "overlaying": "y",
         "side": "right"
        }
       },
       "_py2js_addTraces": {},
       "_py2js_animate": {},
       "_py2js_deleteTraces": {},
       "_py2js_moveTraces": {},
       "_py2js_relayout": {},
       "_py2js_removeLayoutProps": {},
       "_py2js_removeTraceProps": {},
       "_py2js_restyle": {},
       "_py2js_update": {},
       "_view_count": 0
      }
     },
     "2a29a4e5459f4b069ae7ce880ed7db7c": {
      "buffers": [
       {
        "data": "NI3t90HA+T90+qkiMToWQO8h7eAUKSBAJEqW1lqoCkDkaik6/YcTQCD+zcs48ApAl2rWwZBUI0BYWjKuciL/PyBroJNmhBxAyMU9d3S6CEClOjPIp50SQFwHopobRRFAtdkmb8c7JUBdNM5SuEAhQDSN7fdBwPk/VFGfs4xdHkASrdVp8H4UQPA5+v5CLvY/9eJbw1VNIEAPWJU+QkQjQObYst10dCFAsD64OrhcG0DwJc4HQNceQDBb5Z4zOyVA8/66WYIHIEDuXcG3YcYWQI5/60YwAB9AwPep+xkwHkAQbAa5nCgcQDp3KJ7SthtADAOteuqT8T+LMmXcm2AgQIsyZdybYCBAoRvi5kQ3IUDqorYpzJgeQDNa1sSM7BtAVK20lYxGHkBWwtTr1xIcQPA5+v5CLuY/8Dn6/kIu5j/wOfr+Qi7mP9p++Y1imCNAnHdydWlrHkCkC9NJvJkhQEAqXkY0Dh9AMv9kGb+gGEBR8enquVggQFT2Ui8/OR5AKuPCw4F6HEA0nylgH7EdQMql3qn5tyNAVI2xCickH0D3iDNK5p8jQPcJR3UfICFAUGwqy/UZEEDIrSsN+U4eQBg2NX3K0x9AvsSg8hsOI0AIGhlfgikcQAwDrXrqk/E/aANpZWUtHkALOWbe7DcbQPA5+v5CLuY/c6s7P7KiAECcMUxCuNgdQJwRPwbR+RdA",
        "encoding": "base64",
        "path": [
         "_data",
         0,
         "marker",
         "size",
         "value"
        ]
       },
       {
        "data": "w/UoXE+YpEB7FK5HIZikQArXo3D9l6RAkML1KJyXpECuR+F6VJekQAAAAAAAAPh/AAAAAMCXpEAAAAAAAAD4fwrXo3D9maRAAAAAAAAA+H+QwvUonJqkQFyPwvVomqRArkfhelSapEDsUbgeRZqkQClcj8I1mqRAAAAAAAAA+H+F61G4XpukQMP1KFxPm6RAAAAAAECbpEBnZmZmJpukQB+F61H4mqRAAAAAAAAA+H9cj8L16JqkQAAAAAAAAPh/wvUoXE+bpECF61G4XpukQDMzMzNzm6RAAAAAAAAA+H8fhetR+J2kQAAAAAAAAPh/SOF6FG6epEC4HoXrkZ6kQPYoXI+CnqRAMzMzM3OepEBxPQrXY56kQNejcD1KnqRAKVyPwjWepED2KFyPAp6kQEjhehTunaRAFa5H4TqepEDiehSuB56kQFyPwvXonaRAw/UoXM+dpEAAAAAAwJ2kQFK4HoWrnaRAkML1KJydpEAK16NwfZ2kQFyPwvVonaRAkML1KJydpEBcj8L1aJ2kQMP1KFxPnaRAPgrXozCdpECkcD0KF52kQPYoXI8CnaRASOF6FO6cpECamZmZ2ZykQNejcD3KnKRAPgrXo7CcpEB7FK5HoZykQLkeheuRnKRA9ihcj4KcpEBcj8L1aJykQArXo3B9nKRAhetRuF6cpEDXo3A9SpykQBWuR+E6nKRAUrgehSucpEDiehSuB5ykQFyPwvXom6RArkfhetSbpEDXo3A9ypukQAAAAAAAAPh/4noUrgecpEAAAAAAAAD4f+tRuB5FnKRAzczMzIycpEA=",
        "encoding": "base64",
        "path": [
         "_data",
         0,
         "y",
         "value"
        ]
       },
       {
        "data": "NJSndgpdIEA0je33QcD5P1ry2zYl/RNApiNK2jTCEEA0je33QcD5P8NMFF9VohlAAAAAAAAAAACaCjx7gnUgQGzIuL7TuQtACOTIB2M7HkAMA6166pPxP8WNB07E0CFADAOteuqT8T8sswQGNo4HQOyOzrI/0hVAQ+6plW1kGEDjK+6bNuIgQNBKFJ0cEh9AkeNze0L3F0BSEWD8dp4bQB+gmO0BkCJAIp56GmnkIUDCJUIMvLUhQOOQIwXaUyJA3yJE47pPGkCeGf8VaCEeQFPWiYzSHRNAc6s7P7KiAEDdMjiPoWkgQH2OXJpT6iJADAOteuqT8T8P9K5T7TIYQH1cPlHVFyBAcLBw1JDNHkAYjWkuLWwdQFhaMq5yIv8/oP+PmYqhG0AMA6166pPxP5ogtQ/m5xVAc6s7P7KiAEBzqzs/sqIQQOy1gbrJKx9Ap7vXFsocBUC2O3Jk1z8bQLI2+pLxhR9AhpFrOnsfB0DvMDpNsvQXQAsDrXrqkwFANI3t90HA+T+TdkCDSt4jQElKOH7lXyVAadFFy4w0IUB7UTw/MTEjQHuRd3ecMiJAbUYRE7TJG0BDUKIjWZobQICXgYMhYB5AjNZX8OWNG0BcF7eXoZofQEa/bMiZ0yRA+3pmhBm2IUAfSE05FqoFQGK4sDnC2xhARb+kJyKPIUAv8YLJqhsiQBrDXKrYXiFAJ6iX1E29IkC3wXNZzlAhQE8JrcyF8yFAvVAgrtxrIEAcF/vT5hsdQJyuA7YLix5AwLPM62+dG0CAl4GDIWAeQHoY3DD3HyBAUHw/yHtvHkBIcmK90bUbQCi/8pZ3bh5AoGPvgbW0HkChtXISvBAgQORYDJzIQh1AEHhy9zBiHkDAs8zrb50bQMyqHnjFqB5Al+S2eieGIUAJBscHNKAiQJuI2gg2ciFAmjHwnl90IUCbiNoINnIhQH1hp1KRGSJAUzWF+ebUIECy9arSQvIiQIP9oVqLciFAJClq7WzYIkCoqHQ2+tQiQNhSoVoLciFAX6D1aGBzIUDV1OzvnXUhQAv9nk7LcSFA2xKXVoF5I0B12qXD9qchQIUO0fO8ACNAWdAZD6XqG0CMWpbZr4sgQE2qG5zQtBtAmgqq1huBHkBFY0NFBlUbQMJLqCrRXBdAnuek5PLjG0AbcmXehtIbQAKk2VsK0R1Anuek5PLjG0BTnJQbejEVQPA5+v5CLuY/8Dn6/kIu5j86UmEdI/YgQDSN7fdBwAlANI3t90HA+T9UwAM9gKUcQPA5+v5CLvY/bEKQvQ6hDkBs2RABD4ciQJXyHniEkiNAdLnCIMNKFUAMMcJPf8odQAHu7nl3byBALREo8ZrREEAMA6166pPxPwwDrXrqk/E/c6s7P7KiAEAQLDEbzv8RQPA5+v5CLuY/UOWnCYDEIkA0je33QcD5P+aLy9aabyBA",
        "encoding": "base64",
        "path": [
         "_data",
         1,
         "marker",
         "size",
         "value"
        ]
       },
       {
        "data": "CtejcP2XpECPwvUoHJikQBSuR+E6mKRA16NwPUqYpECZmZmZWZikQEfhehRumKRAAAAAAAAA+H+F61G43pekQBWuR+E6l6RAwvUoXE+XpEAK16NwfZekQKRwPQqXl6RAFK5H4bqXpECZmZmZ2ZekQFyPwvXol6RAHoXrUfiXpEC4HoXrEZikQGZmZmYmmKRAKVyPwjWYpEDrUbgeRZikQK5H4XpUmKRAcD0K12OYpEAK16NwfZikQM3MzMyMmKRAexSuR6GYpEBmZmZmppikQAAAAADAmKRAXI/C9eiYpED2KFyPApmkQLgehesRmaRAexSuRyGZpEA9CtejMJmkQJmZmZlZmaRAMzMzM3OZpEDNzMzMjJmkQI/C9SicmaRAPQrXo7CZpEDC9Shcz5mkQFyPwvXomaRAKVyPwjWapECZmZmZWZqkQFyPwvVomqRA4XoUroeapEBmZmZmppqkQClcj8K1mqRAAAAAAAAA+H+kcD0KF5qkQOtRuB5FmqRAmZmZmVmapEBcj8L1aJqkQB6F61F4mqRAPQrXo7CapEDXo3A9ypqkQHA9CtfjmqRAMzMzM/OapED2KFyPApukQLgehesRm6RAZmZmZiabpEApXI/CNZukQOtRuB5Fm6RAAAAAAAAA+H9mZmZmJpukQBSuR+E6m6RAwvUoXE+bpEBmZmZmJpukQArXo3D9mqRAZmZmZiabpEBcj8L16JqkQArXo3D9mqRAzczMzAybpEBmZmZmJpukQClcj8I1m6RAAAAAAAAA+H/2KFyPgpukQLgeheuRm6RAexSuR6GbpEApXI/CtZukQNejcD3Km6RAmZmZmdmbpEAzMzMz85ukQPYoXI8CnKRAj8L1KBycpEBSuB6FK5ykQBSuR+E6nKRAwvUoXE+cpECF61G4XpykQB6F61F4nKRA4XoUroecpECkcD0Kl5ykQD0K16OwnKRA61G4HsWcpECuR+F61JykQHA9CtfjnKRAMzMzM/OcpEDNzMzMDJ2kQI/C9SgcnaRAUrgehSudpEDrUbgeRZ2kQIXrUbhenaRAMzMzM3OdpED2KFyPgp2kQLgeheuRnaRAexSuR6GdpEA9CtejsJ2kQNejcD3KnaRAmZmZmdmdpEBcj8L16J2kQArXo3D9naRAzczMzAyepECPwvUoHJ6kQD0K16MwnqRAUrgehSuepEAUrkfhOp6kQML1KFxPnqRAhetRuF6epEAK16NwfZ6kQAAAAAAAAPh/AAAAAECdpEAAAAAAAAD4f1yPwvXom6RAXI/C9eibpEDXo3A9ypukQJmZmZnZm6RAR+F6FO6bpEDhehSuB5ykQHsUrkchnKRAKVyPwjWcpEBwPQrXY5ykQK5H4XrUm6RAXI/C9eibpEDhehSuB5ykQKRwPQoXnKRAZmZmZiacpEBwPQrXY5ykQB6F61F4nKRAexSuR6GcpEDXo3A9ypykQHA9CtfjnKRACtejcP2cpECPwvUoHJ2kQBSuR+E6naRA",
        "encoding": "base64",
        "path": [
         "_data",
         1,
         "y",
         "value"
        ]
       },
       {
        "data": "178kRde/JEXXvyRF178kRde/JEVcwyRFXMMkRde/JEXhviRFzbwkRaS8JEWauSRFSLkkRUi5JEWuuyRFrrskRXG9JEVxvSRFcb0kRXG9JEVxvSRFcb0kRXG9JEVxvSRFcb0kRXG9JEVxvSRFcb0kRXG9JEVxvSRFcb0kRQrDJEXsxSRF7MUkRezFJEXsxSRF7MUkRezFJEXsxSRF7MUkRaTMJEWkzCRFpMwkRaTMJEWFzyRFhc8kRYXPJEWFzyRFhc8kRYXPJEXD1SRFw9UkRY/SJEWP0iRFpNAkRaTQJEVS0CRFUtAkRVLQJEVS0CRFUtAkRZrVJEWa1SRFmtUkRZrVJEWa1SRFH9kkRR/ZJEUf2SRF4dokRbjaJEXs2SRF7NkkRR/ZJEUf2SRFH9kkRR/ZJEUz1yRFM9ckRbjWJEW41iRFuNYkReHWJEXh1iRFpNgkRR/ZJEVm2iRFPdokRTPbJEUK2yRFrtskRa7bJEWu2yRFrtskRa7bJEWu2yRFrtskRa7bJEWu2yRFrtskRR/hJEU94iRF4eIkReHiJEXh4iRFSOUkRZrlJEWa5SRFmuUkReHmJEWF5yRFKegkRSnoJEUp6CRFUugkRVLoJEVS6CRFUugkRVLoJEVS6CRF4eokReHqJEVx7SRFce0kRXHtJEVx7SRFce0kRa7vJEWu7yRFru8kRa7vJEWu7yRFM/MkRYXzJEWF8yRFAPQkRQD0JEUA9CRFAPQkRQD0JEUA9CRFAPQkRaTwJEWk8CRFpPAkRaTwJEWk8CRFpPAkRaTwJEXX6yRFM+skRTPrJEUz6yRFCuskRQrrJEUK6yRFCuskRQrrJEUK6yRFCuskRT3mJEU95iRFPeYkRT3mJEXX4yRF1+MkReHiJEXh4iRF4eIkReHiJEWa4SRF9uAkRSngJEUz3yRFj94kRY/eJEU93iRFPd4kRT3eJEU93iRFPd4kRT3eJEWa4SRFKeAkRSngJEUp4CRFPd4kRT3eJEU93iRFPd4kRT3eJEVx4SRFceEkRXHhJEV75CRFe+QkRUjlJEUK5yRF4eYkReHmJEXh5iRF",
        "encoding": "base64",
        "path": [
         "_data",
         2,
         "y",
         "value"
        ]
       },
       {
        "data": "AMAkRQDAJEUAwCRFAMAkRQDAJEWFwyRFhcMkRR/BJEUKvyRFCr8kRfa8JEVmuiRFmrkkRZq5JEXNvCRFzbwkReG+JEXhviRF4b4kReG+JEXhviRF4b4kReG+JEXhviRF4cIkReHCJEXhwiRF4cIkReHCJEXhwiRF4cIkRSnIJEVcxyRFXMckRaTIJEWkyCRFpMgkRaTIJEWkyCRFpMgkRfbMJEX2zCRF9swkRfbMJEUA0CRFANAkRQDQJEUA0CRFANAkRQDQJEXs1SRF7NUkRVzTJEUK0yRFPdIkRT3SJEV70CRFe9AkRXvQJEV70CRFe9AkRWbWJEVm1iRFZtYkRWbWJEVm1iRFSNkkRUjZJEVI2SRFM9skRQrbJEUK2yRFCtskRRTaJEUU2iRFFNokRRTaJEVI2SRFSNkkRQDYJEUA2CRFANgkRa7XJEWu1yRFzdgkRUjZJEWP2iRFCtskRdfbJEXX2yRFUtwkRVLcJEVS3CRFUtwkRVLcJEVS3CRFUtwkRVLcJEVS3CRFUtwkRRTiJEUK4yRFXOMkRVzjJEVc4yRFZuYkRWbmJEVm5iRFZuYkRQDoJEUA6CRF9ugkRfboJEX26CRFj+okRY/qJEWP6iRFj+okRY/qJEWP6iRFZu4kRWbuJEXh7iRF4e4kReHuJEXh7iRF4e4kRXHxJEVx8SRFcfEkRXHxJEVx8SRFhfMkRa7zJEVS9CRFpPQkRaT0JEWk9CRFpPQkRaT0JEWk9CRFpPQkRcPxJEXD8SRFw/EkRcPxJEXD8SRFw/EkRcPxJEVc7yRFhe8kRYXvJEWF7yRFXOskRVzrJEVc6yRFXOskRVzrJEVc6yRFXOskRVzrJEVc6yRFXOskRVzrJEWP6iRFj+okRfbkJEX25CRF9uQkRfbkJEUz4yRFH+EkRVLgJEVc3yRFXN8kRVzfJEVc3yRFXN8kRY/eJEWP3iRFj94kRY/eJEXD4SRFM+MkRTPjJEUz4yRFhd8kRYXfJEWF3yRFhd8kRYXfJEWk5CRFpOQkRaTkJEUf5SRFH+UkRTPnJEUA6CRFAOgkRQDoJEUA6CRF",
        "encoding": "base64",
        "path": [
         "_data",
         3,
         "y",
         "value"
        ]
       },
       {
        "data": "AAAAAADuq0AAAAAAAAAUQAAAAAAAgGJAAAAAAACAUEAAAAAAAAAUQAAAAAAA+IJAAAAAAAAA8D8AAAAAAEytQAAAAAAAAEBAAAAAAADwnUAAAAAAAAAIQAAAAAAA3bxAAAAAAAAACEAAAAAAAAAzQAAAAAAAQG1AAAAAAADQe0AAAAAAAB2yQAAAAAAAdqJAAAAAAAAAeUAAAAAAACiPQAAAAACA98RAAAAAAAD+vUAAAAAAAGG7QAAAAACApMJAAAAAAAB4hkAAAAAAADCdQAAAAAAAwF1AAAAAAAAAIEAAAAAAAKCsQAAAAAAAA8lAAAAAAAAACEAAAAAAAIB6QAAAAAAAZqhAAAAAAABEoUAAAAAAAHSYQAAAAAAAABxAAAAAAABAj0AAAAAAAAAIQAAAAAAA4G1AAAAAAAAAIEAAAAAAAABQQAAAAAAA7qJAAAAAAAAALEAAAAAAAGiMQAAAAAAArKRAAAAAAAAAMkAAAAAAAPB4QAAAAAAAACJAAAAAAAAAFEAAAAAAwCPUQAAAAACAYuVAAAAAAABGtUAAAAAAgLnMQAAAAACAeMFAAAAAAABAkEAAAAAAAAiPQAAAAAAACJ9AAAAAAACojkAAAAAAABilQAAAAABgQuBAAAAAAABmu0AAAAAAAAAuQAAAAAAAQH9AAAAAAABkuUAAAAAAgLTAQAAAAAAAG7dAAAAAAADoxkAAAAAAAHu2QAAAAAAA5L5AAAAAAADArEAAAAAAAJyWQAAAAAAALqBAAAAAAAAgj0AAAAAAAAifQAAAAAAAyqhAAAAAAACAn0AAAAAAAOCPQAAAAAAAeJ9AAAAAAADaoEAAAAAAABCoQAAAAAAAfJdAAAAAAAAYn0AAAAAAACCPQAAAAAAAqKBAAAAAAADzuEAAAAAAAKTFQAAAAAAA/7dAAAAAAAAZuEAAAAAAAP+3QAAAAAAAo8BAAAAAAACmsUAAAAAAAGfJQAAAAAAAA7hAAAAAAAAnyEAAAAAAgP3HQAAAAAAA/bdAAAAAAAANuEAAAAAAACi4QAAAAAAA+rdAAAAAAICK0EAAAAAAAKe6QAAAAACAIcpAAAAAAADIkEAAAAAAAJiuQAAAAAAA2I9AAAAAAAAGoEAAAAAAAACNQAAAAAAAgHVAAAAAAACskEAAAAAAAGSQQAAAAAAA/JpAAAAAAACskEAAAAAAAABpQAAAAAAAAABAAAAAAAAAAEAAAAAAANWyQAAAAAAAADlAAAAAAAAAFEAAAAAAACSUQAAAAAAAABBAAAAAAAAAR0AAAAAAgJrEQAAAAACAXtFAAAAAAACgaUAAAAAAANCaQAAAAAAA9KxAAAAAAADAUEAAAAAAAAAIQAAAAAAAAAhAAAAAAAAAIEAAAAAAAIBWQAAAAAAAAABAAAAAAAA7x0AAAAAAAAAUQAAAAAAA9qxA",
        "encoding": "base64",
        "path": [
         "_data",
         4,
         "y",
         "value"
        ]
       },
       {
        "data": "AAAAAAAAFMAAAAAAADBwwAAAAAAAPKnAAAAAAAAAPMAAAAAAAIBgwAAAAAAAAD3AAAAAAIDHzsAAAAAAAAAcwAAAAAAAgJPAAAAAAAAANsAAAAAAAEBawAAAAAAAwFLAAAAAAKDt48AAAAAAAMm1wAAAAAAAABTAAAAAAAD0nsAAAAAAAABlwAAAAAAAABDAAAAAAAAWq8AAAAAAgNDNwAAAAAAAGrjAAAAAAAA4jcAAAAAAAG6hwAAAAADg5+PAAAAAAACip8AAAAAAAJBywAAAAAAAJKLAAAAAAACcncAAAAAAANSRwAAAAAAA6I/AAAAAAAAACMAAAAAAACCswAAAAAAAIKzAAAAAAABjtcAAAAAAAGagwAAAAAAA0JDAAAAAAABEnsAAAAAAAHSRwAAAAAAAAADAAAAAAAAAAMAAAAAAAAAAwAAAAADAkdHAAAAAAABgn8AAAAAAAOy5wAAAAAAAZKLAAAAAAACAfcAAAAAAALKrwAAAAAAA4J3AAAAAAABQk8AAAAAAACiawAAAAAAAsNLAAAAAAADKosAAAAAAQNTRwAAAAAAAcbTAAAAAAAAATMAAAAAAAISewAAAAAAATqbAAAAAAIDSysAAAAAAANiRwAAAAAAAAAjAAAAAAACIncAAAAAAADCMwAAAAAAAAADAAAAAAAAAIMAAAAAAADCbwAAAAAAAEHnA",
        "encoding": "base64",
        "path": [
         "_data",
         5,
         "y",
         "value"
        ]
       }
      ],
      "model_module": "jupyterlab-plotly",
      "model_module_version": "^5.6.0",
      "model_name": "FigureModel",
      "state": {
       "_config": {
        "plotlyServerURL": "https://plot.ly"
       },
       "_data": [
        {
         "marker": {
          "color": "red",
          "opacity": 0.75,
          "size": {
           "dtype": "float64",
           "shape": [
            66
           ],
           "value": {}
          }
         },
         "mode": "markers",
         "name": "Sell",
         "type": "scattergl",
         "uid": "f543b0c9-3cea-4af8-8b8e-5571cca828b3",
         "x": [
          6,
          7,
          8,
          10,
          11,
          29,
          29,
          44,
          44,
          51,
          51,
          52,
          53,
          54,
          55,
          70,
          70,
          71,
          72,
          73,
          74,
          78,
          78,
          87,
          87,
          88,
          89,
          128,
          128,
          133,
          133,
          135,
          136,
          137,
          138,
          139,
          140,
          141,
          142,
          143,
          144,
          145,
          146,
          147,
          148,
          149,
          150,
          151,
          152,
          153,
          154,
          155,
          156,
          157,
          158,
          159,
          160,
          161,
          162,
          163,
          164,
          166,
          167,
          168,
          169,
          170,
          171,
          172,
          173,
          174,
          176,
          185,
          185,
          191,
          191,
          194
         ],
         "xaxis": "x2",
         "y": {
          "dtype": "float64",
          "shape": [
           76
          ],
          "value": {}
         }
        },
        {
         "marker": {
          "color": "green",
          "opacity": 0.75,
          "size": {
           "dtype": "float64",
           "shape": [
            135
           ],
           "value": {}
          }
         },
         "mode": "markers",
         "name": "Buy",
         "type": "scattergl",
         "uid": "ce2bd7cc-8561-4c64-9efc-eade28ced37c",
         "x": [
          0,
          1,
          2,
          3,
          4,
          5,
          9,
          9,
          12,
          13,
          14,
          15,
          16,
          17,
          18,
          19,
          20,
          21,
          22,
          23,
          24,
          25,
          26,
          27,
          28,
          30,
          31,
          32,
          33,
          34,
          35,
          36,
          37,
          38,
          39,
          40,
          41,
          42,
          43,
          45,
          46,
          47,
          48,
          49,
          50,
          56,
          56,
          57,
          58,
          59,
          60,
          61,
          62,
          63,
          64,
          65,
          66,
          67,
          68,
          69,
          75,
          75,
          76,
          77,
          79,
          80,
          81,
          82,
          83,
          84,
          85,
          86,
          90,
          90,
          91,
          92,
          93,
          94,
          95,
          96,
          97,
          98,
          99,
          100,
          101,
          102,
          103,
          104,
          105,
          106,
          107,
          108,
          109,
          110,
          111,
          112,
          113,
          114,
          115,
          116,
          117,
          118,
          119,
          120,
          121,
          122,
          123,
          124,
          125,
          126,
          127,
          129,
          130,
          131,
          132,
          134,
          165,
          165,
          175,
          175,
          177,
          178,
          179,
          180,
          181,
          182,
          183,
          184,
          186,
          187,
          188,
          189,
          190,
          192,
          193,
          195,
          196,
          197,
          198,
          199,
          200
         ],
         "xaxis": "x2",
         "y": {
          "dtype": "float64",
          "shape": [
           141
          ],
          "value": {}
         }
        },
        {
         "line": {
          "color": "green"
         },
         "name": "Bid",
         "opacity": 0.4,
         "type": "scattergl",
         "uid": "da513984-a76a-4a18-aadd-b1b1c258c84f",
         "x": [
          0,
          1,
          2,
          3,
          4,
          5,
          6,
          7,
          8,
          9,
          10,
          11,
          12,
          13,
          14,
          15,
          16,
          17,
          18,
          19,
          20,
          21,
          22,
          23,
          24,
          25,
          26,
          27,
          28,
          29,
          30,
          31,
          32,
          33,
          34,
          35,
          36,
          37,
          38,
          39,
          40,
          41,
          42,
          43,
          44,
          45,
          46,
          47,
          48,
          49,
          50,
          51,
          52,
          53,
          54,
          55,
          56,
          57,
          58,
          59,
          60,
          61,
          62,
          63,
          64,
          65,
          66,
          67,
          68,
          69,
          70,
          71,
          72,
          73,
          74,
          75,
          76,
          77,
          78,
          79,
          80,
          81,
          82,
          83,
          84,
          85,
          86,
          87,
          88,
          89,
          90,
          91,
          92,
          93,
          94,
          95,
          96,
          97,
          98,
          99,
          100,
          101,
          102,
          103,
          104,
          105,
          106,
          107,
          108,
          109,
          110,
          111,
          112,
          113,
          114,
          115,
          116,
          117,
          118,
          119,
          120,
          121,
          122,
          123,
          124,
          125,
          126,
          127,
          128,
          129,
          130,
          131,
          132,
          133,
          134,
          135,
          136,
          137,
          138,
          139,
          140,
          141,
          142,
          143,
          144,
          145,
          146,
          147,
          148,
          149,
          150,
          151,
          152,
          153,
          154,
          155,
          156,
          157,
          158,
          159,
          160,
          161,
          162,
          163,
          164,
          165,
          166,
          167,
          168,
          169,
          170,
          171,
          172,
          173,
          174,
          175,
          176,
          177,
          178,
          179,
          180,
          181,
          182,
          183,
          184,
          185,
          186,
          187,
          188,
          189,
          190,
          191,
          192,
          193,
          194,
          195,
          196,
          197,
          198,
          199,
          200
         ],
         "xaxis": "x2",
         "y": {
          "dtype": "float32",
          "shape": [
           201
          ],
          "value": {}
         }
        },
        {
         "line": {
          "color": "red"
         },
         "name": "Ask",
         "opacity": 0.4,
         "type": "scattergl",
         "uid": "bdce9835-0624-4a04-9fc5-c6babee10aa4",
         "x": [
          0,
          1,
          2,
          3,
          4,
          5,
          6,
          7,
          8,
          9,
          10,
          11,
          12,
          13,
          14,
          15,
          16,
          17,
          18,
          19,
          20,
          21,
          22,
          23,
          24,
          25,
          26,
          27,
          28,
          29,
          30,
          31,
          32,
          33,
          34,
          35,
          36,
          37,
          38,
          39,
          40,
          41,
          42,
          43,
          44,
          45,
          46,
          47,
          48,
          49,
          50,
          51,
          52,
          53,
          54,
          55,
          56,
          57,
          58,
          59,
          60,
          61,
          62,
          63,
          64,
          65,
          66,
          67,
          68,
          69,
          70,
          71,
          72,
          73,
          74,
          75,
          76,
          77,
          78,
          79,
          80,
          81,
          82,
          83,
          84,
          85,
          86,
          87,
          88,
          89,
          90,
          91,
          92,
          93,
          94,
          95,
          96,
          97,
          98,
          99,
          100,
          101,
          102,
          103,
          104,
          105,
          106,
          107,
          108,
          109,
          110,
          111,
          112,
          113,
          114,
          115,
          116,
          117,
          118,
          119,
          120,
          121,
          122,
          123,
          124,
          125,
          126,
          127,
          128,
          129,
          130,
          131,
          132,
          133,
          134,
          135,
          136,
          137,
          138,
          139,
          140,
          141,
          142,
          143,
          144,
          145,
          146,
          147,
          148,
          149,
          150,
          151,
          152,
          153,
          154,
          155,
          156,
          157,
          158,
          159,
          160,
          161,
          162,
          163,
          164,
          165,
          166,
          167,
          168,
          169,
          170,
          171,
          172,
          173,
          174,
          175,
          176,
          177,
          178,
          179,
          180,
          181,
          182,
          183,
          184,
          185,
          186,
          187,
          188,
          189,
          190,
          191,
          192,
          193,
          194,
          195,
          196,
          197,
          198,
          199,
          200
         ],
         "xaxis": "x2",
         "y": {
          "dtype": "float32",
          "shape": [
           201
          ],
          "value": {}
         }
        },
        {
         "marker": {
          "color": "green"
         },
         "name": "Buy",
         "type": "bar",
         "uid": "c301f08a-450e-4dcd-ba63-4899e0df6a22",
         "x": [
          0,
          1,
          2,
          3,
          4,
          5,
          9,
          12,
          13,
          14,
          15,
          16,
          17,
          18,
          19,
          20,
          21,
          22,
          23,
          24,
          25,
          26,
          27,
          28,
          30,
          31,
          32,
          33,
          34,
          35,
          36,
          37,
          38,
          39,
          40,
          41,
          42,
          43,
          45,
          46,
          47,
          48,
          49,
          50,
          56,
          57,
          58,
          59,
          60,
          61,
          62,
          63,
          64,
          65,
          66,
          67,
          68,
          69,
          75,
          76,
          77,
          79,
          80,
          81,
          82,
          83,
          84,
          85,
          86,
          90,
          91,
          92,
          93,
          94,
          95,
          96,
          97,
          98,
          99,
          100,
          101,
          102,
          103,
          104,
          105,
          106,
          107,
          108,
          109,
          110,
          111,
          112,
          113,
          114,
          115,
          116,
          117,
          118,
          119,
          120,
          121,
          122,
          123,
          124,
          125,
          126,
          127,
          129,
          130,
          131,
          132,
          134,
          165,
          175,
          177,
          178,
          179,
          180,
          181,
          182,
          183,
          184,
          186,
          187,
          188,
          189,
          190,
          192,
          193,
          195,
          196,
          197,
          198,
          199,
          200
         ],
         "xaxis": "x2",
         "y": {
          "dtype": "float64",
          "shape": [
           135
          ],
          "value": {}
         },
         "yaxis": "y3"
        },
        {
         "marker": {
          "color": "red"
         },
         "name": "Sell",
         "type": "bar",
         "uid": "3400e348-4ea8-41d0-94d1-4ecbb3a7f230",
         "x": [
          6,
          7,
          8,
          10,
          11,
          29,
          44,
          51,
          52,
          53,
          54,
          55,
          70,
          71,
          72,
          73,
          74,
          78,
          87,
          88,
          89,
          128,
          133,
          135,
          136,
          137,
          138,
          139,
          140,
          141,
          142,
          143,
          144,
          145,
          146,
          147,
          148,
          149,
          150,
          151,
          152,
          153,
          154,
          155,
          156,
          157,
          158,
          159,
          160,
          161,
          162,
          163,
          164,
          166,
          167,
          168,
          169,
          170,
          171,
          172,
          173,
          174,
          176,
          185,
          191,
          194
         ],
         "xaxis": "x2",
         "y": {
          "dtype": "float64",
          "shape": [
           66
          ],
          "value": {}
         },
         "yaxis": "y3"
        }
       ],
       "_js2py_restyle": {},
       "_js2py_update": {},
       "_last_layout_edit_id": 18,
       "_last_trace_edit_id": 17,
       "_layout": {
        "autosize": true,
        "height": 600,
        "legend": {
         "orientation": "h",
         "x": 0.1,
         "y": 1
        },
        "margin": {
         "b": 10,
         "l": 45,
         "pad": 3,
         "r": 15,
         "t": 30
        },
        "template": {
         "data": {
          "bar": [
           {
            "error_x": {
             "color": "#2a3f5f"
            },
            "error_y": {
             "color": "#2a3f5f"
            },
            "marker": {
             "line": {
              "color": "white",
              "width": 0.5
             },
             "pattern": {
              "fillmode": "overlay",
              "size": 10,
              "solidity": 0.2
             }
            },
            "type": "bar"
           }
          ],
          "barpolar": [
           {
            "marker": {
             "line": {
              "color": "white",
              "width": 0.5
             },
             "pattern": {
              "fillmode": "overlay",
              "size": 10,
              "solidity": 0.2
             }
            },
            "type": "barpolar"
           }
          ],
          "carpet": [
           {
            "aaxis": {
             "endlinecolor": "#2a3f5f",
             "gridcolor": "#C8D4E3",
             "linecolor": "#C8D4E3",
             "minorgridcolor": "#C8D4E3",
             "startlinecolor": "#2a3f5f"
            },
            "baxis": {
             "endlinecolor": "#2a3f5f",
             "gridcolor": "#C8D4E3",
             "linecolor": "#C8D4E3",
             "minorgridcolor": "#C8D4E3",
             "startlinecolor": "#2a3f5f"
            },
            "type": "carpet"
           }
          ],
          "choropleth": [
           {
            "colorbar": {
             "outlinewidth": 0,
             "ticks": ""
            },
            "type": "choropleth"
           }
          ],
          "contour": [
           {
            "colorbar": {
             "outlinewidth": 0,
             "ticks": ""
            },
            "colorscale": [
             [
              0,
              "#0d0887"
             ],
             [
              0.1111111111111111,
              "#46039f"
             ],
             [
              0.2222222222222222,
              "#7201a8"
             ],
             [
              0.3333333333333333,
              "#9c179e"
             ],
             [
              0.4444444444444444,
              "#bd3786"
             ],
             [
              0.5555555555555556,
              "#d8576b"
             ],
             [
              0.6666666666666666,
              "#ed7953"
             ],
             [
              0.7777777777777778,
              "#fb9f3a"
             ],
             [
              0.8888888888888888,
              "#fdca26"
             ],
             [
              1,
              "#f0f921"
             ]
            ],
            "type": "contour"
           }
          ],
          "contourcarpet": [
           {
            "colorbar": {
             "outlinewidth": 0,
             "ticks": ""
            },
            "type": "contourcarpet"
           }
          ],
          "heatmap": [
           {
            "colorbar": {
             "outlinewidth": 0,
             "ticks": ""
            },
            "colorscale": [
             [
              0,
              "#0d0887"
             ],
             [
              0.1111111111111111,
              "#46039f"
             ],
             [
              0.2222222222222222,
              "#7201a8"
             ],
             [
              0.3333333333333333,
              "#9c179e"
             ],
             [
              0.4444444444444444,
              "#bd3786"
             ],
             [
              0.5555555555555556,
              "#d8576b"
             ],
             [
              0.6666666666666666,
              "#ed7953"
             ],
             [
              0.7777777777777778,
              "#fb9f3a"
             ],
             [
              0.8888888888888888,
              "#fdca26"
             ],
             [
              1,
              "#f0f921"
             ]
            ],
            "type": "heatmap"
           }
          ],
          "heatmapgl": [
           {
            "colorbar": {
             "outlinewidth": 0,
             "ticks": ""
            },
            "colorscale": [
             [
              0,
              "#0d0887"
             ],
             [
              0.1111111111111111,
              "#46039f"
             ],
             [
              0.2222222222222222,
              "#7201a8"
             ],
             [
              0.3333333333333333,
              "#9c179e"
             ],
             [
              0.4444444444444444,
              "#bd3786"
             ],
             [
              0.5555555555555556,
              "#d8576b"
             ],
             [
              0.6666666666666666,
              "#ed7953"
             ],
             [
              0.7777777777777778,
              "#fb9f3a"
             ],
             [
              0.8888888888888888,
              "#fdca26"
             ],
             [
              1,
              "#f0f921"
             ]
            ],
            "type": "heatmapgl"
           }
          ],
          "histogram": [
           {
            "marker": {
             "pattern": {
              "fillmode": "overlay",
              "size": 10,
              "solidity": 0.2
             }
            },
            "type": "histogram"
           }
          ],
          "histogram2d": [
           {
            "colorbar": {
             "outlinewidth": 0,
             "ticks": ""
            },
            "colorscale": [
             [
              0,
              "#0d0887"
             ],
             [
              0.1111111111111111,
              "#46039f"
             ],
             [
              0.2222222222222222,
              "#7201a8"
             ],
             [
              0.3333333333333333,
              "#9c179e"
             ],
             [
              0.4444444444444444,
              "#bd3786"
             ],
             [
              0.5555555555555556,
              "#d8576b"
             ],
             [
              0.6666666666666666,
              "#ed7953"
             ],
             [
              0.7777777777777778,
              "#fb9f3a"
             ],
             [
              0.8888888888888888,
              "#fdca26"
             ],
             [
              1,
              "#f0f921"
             ]
            ],
            "type": "histogram2d"
           }
          ],
          "histogram2dcontour": [
           {
            "colorbar": {
             "outlinewidth": 0,
             "ticks": ""
            },
            "colorscale": [
             [
              0,
              "#0d0887"
             ],
             [
              0.1111111111111111,
              "#46039f"
             ],
             [
              0.2222222222222222,
              "#7201a8"
             ],
             [
              0.3333333333333333,
              "#9c179e"
             ],
             [
              0.4444444444444444,
              "#bd3786"
             ],
             [
              0.5555555555555556,
              "#d8576b"
             ],
             [
              0.6666666666666666,
              "#ed7953"
             ],
             [
              0.7777777777777778,
              "#fb9f3a"
             ],
             [
              0.8888888888888888,
              "#fdca26"
             ],
             [
              1,
              "#f0f921"
             ]
            ],
            "type": "histogram2dcontour"
           }
          ],
          "mesh3d": [
           {
            "colorbar": {
             "outlinewidth": 0,
             "ticks": ""
            },
            "type": "mesh3d"
           }
          ],
          "parcoords": [
           {
            "line": {
             "colorbar": {
              "outlinewidth": 0,
              "ticks": ""
             }
            },
            "type": "parcoords"
           }
          ],
          "pie": [
           {
            "automargin": true,
            "type": "pie"
           }
          ],
          "scatter": [
           {
            "marker": {
             "colorbar": {
              "outlinewidth": 0,
              "ticks": ""
             }
            },
            "type": "scatter"
           }
          ],
          "scatter3d": [
           {
            "line": {
             "colorbar": {
              "outlinewidth": 0,
              "ticks": ""
             }
            },
            "marker": {
             "colorbar": {
              "outlinewidth": 0,
              "ticks": ""
             }
            },
            "type": "scatter3d"
           }
          ],
          "scattercarpet": [
           {
            "marker": {
             "colorbar": {
              "outlinewidth": 0,
              "ticks": ""
             }
            },
            "type": "scattercarpet"
           }
          ],
          "scattergeo": [
           {
            "marker": {
             "colorbar": {
              "outlinewidth": 0,
              "ticks": ""
             }
            },
            "type": "scattergeo"
           }
          ],
          "scattergl": [
           {
            "marker": {
             "colorbar": {
              "outlinewidth": 0,
              "ticks": ""
             }
            },
            "type": "scattergl"
           }
          ],
          "scattermapbox": [
           {
            "marker": {
             "colorbar": {
              "outlinewidth": 0,
              "ticks": ""
             }
            },
            "type": "scattermapbox"
           }
          ],
          "scatterpolar": [
           {
            "marker": {
             "colorbar": {
              "outlinewidth": 0,
              "ticks": ""
             }
            },
            "type": "scatterpolar"
           }
          ],
          "scatterpolargl": [
           {
            "marker": {
             "colorbar": {
              "outlinewidth": 0,
              "ticks": ""
             }
            },
            "type": "scatterpolargl"
           }
          ],
          "scatterternary": [
           {
            "marker": {
             "colorbar": {
              "outlinewidth": 0,
              "ticks": ""
             }
            },
            "type": "scatterternary"
           }
          ],
          "surface": [
           {
            "colorbar": {
             "outlinewidth": 0,
             "ticks": ""
            },
            "colorscale": [
             [
              0,
              "#0d0887"
             ],
             [
              0.1111111111111111,
              "#46039f"
             ],
             [
              0.2222222222222222,
              "#7201a8"
             ],
             [
              0.3333333333333333,
              "#9c179e"
             ],
             [
              0.4444444444444444,
              "#bd3786"
             ],
             [
              0.5555555555555556,
              "#d8576b"
             ],
             [
              0.6666666666666666,
              "#ed7953"
             ],
             [
              0.7777777777777778,
              "#fb9f3a"
             ],
             [
              0.8888888888888888,
              "#fdca26"
             ],
             [
              1,
              "#f0f921"
             ]
            ],
            "type": "surface"
           }
          ],
          "table": [
           {
            "cells": {
             "fill": {
              "color": "#EBF0F8"
             },
             "line": {
              "color": "white"
             }
            },
            "header": {
             "fill": {
              "color": "#C8D4E3"
             },
             "line": {
              "color": "white"
             }
            },
            "type": "table"
           }
          ]
         },
         "layout": {
          "annotationdefaults": {
           "arrowcolor": "#2a3f5f",
           "arrowhead": 0,
           "arrowwidth": 1
          },
          "autotypenumbers": "strict",
          "coloraxis": {
           "colorbar": {
            "outlinewidth": 0,
            "ticks": ""
           }
          },
          "colorscale": {
           "diverging": [
            [
             0,
             "#8e0152"
            ],
            [
             0.1,
             "#c51b7d"
            ],
            [
             0.2,
             "#de77ae"
            ],
            [
             0.3,
             "#f1b6da"
            ],
            [
             0.4,
             "#fde0ef"
            ],
            [
             0.5,
             "#f7f7f7"
            ],
            [
             0.6,
             "#e6f5d0"
            ],
            [
             0.7,
             "#b8e186"
            ],
            [
             0.8,
             "#7fbc41"
            ],
            [
             0.9,
             "#4d9221"
            ],
            [
             1,
             "#276419"
            ]
           ],
           "sequential": [
            [
             0,
             "#0d0887"
            ],
            [
             0.1111111111111111,
             "#46039f"
            ],
            [
             0.2222222222222222,
             "#7201a8"
            ],
            [
             0.3333333333333333,
             "#9c179e"
            ],
            [
             0.4444444444444444,
             "#bd3786"
            ],
            [
             0.5555555555555556,
             "#d8576b"
            ],
            [
             0.6666666666666666,
             "#ed7953"
            ],
            [
             0.7777777777777778,
             "#fb9f3a"
            ],
            [
             0.8888888888888888,
             "#fdca26"
            ],
            [
             1,
             "#f0f921"
            ]
           ],
           "sequentialminus": [
            [
             0,
             "#0d0887"
            ],
            [
             0.1111111111111111,
             "#46039f"
            ],
            [
             0.2222222222222222,
             "#7201a8"
            ],
            [
             0.3333333333333333,
             "#9c179e"
            ],
            [
             0.4444444444444444,
             "#bd3786"
            ],
            [
             0.5555555555555556,
             "#d8576b"
            ],
            [
             0.6666666666666666,
             "#ed7953"
            ],
            [
             0.7777777777777778,
             "#fb9f3a"
            ],
            [
             0.8888888888888888,
             "#fdca26"
            ],
            [
             1,
             "#f0f921"
            ]
           ]
          },
          "colorway": [
           "#636efa",
           "#EF553B",
           "#00cc96",
           "#ab63fa",
           "#FFA15A",
           "#19d3f3",
           "#FF6692",
           "#B6E880",
           "#FF97FF",
           "#FECB52"
          ],
          "font": {
           "color": "#2a3f5f"
          },
          "geo": {
           "bgcolor": "white",
           "lakecolor": "white",
           "landcolor": "white",
           "showlakes": true,
           "showland": true,
           "subunitcolor": "#C8D4E3"
          },
          "hoverlabel": {
           "align": "left"
          },
          "hovermode": "closest",
          "mapbox": {
           "style": "light"
          },
          "paper_bgcolor": "white",
          "plot_bgcolor": "white",
          "polar": {
           "angularaxis": {
            "gridcolor": "#EBF0F8",
            "linecolor": "#EBF0F8",
            "ticks": ""
           },
           "bgcolor": "white",
           "radialaxis": {
            "gridcolor": "#EBF0F8",
            "linecolor": "#EBF0F8",
            "ticks": ""
           }
          },
          "scene": {
           "xaxis": {
            "backgroundcolor": "white",
            "gridcolor": "#DFE8F3",
            "gridwidth": 2,
            "linecolor": "#EBF0F8",
            "showbackground": true,
            "ticks": "",
            "zerolinecolor": "#EBF0F8"
           },
           "yaxis": {
            "backgroundcolor": "white",
            "gridcolor": "#DFE8F3",
            "gridwidth": 2,
            "linecolor": "#EBF0F8",
            "showbackground": true,
            "ticks": "",
            "zerolinecolor": "#EBF0F8"
           },
           "zaxis": {
            "backgroundcolor": "white",
            "gridcolor": "#DFE8F3",
            "gridwidth": 2,
            "linecolor": "#EBF0F8",
            "showbackground": true,
            "ticks": "",
            "zerolinecolor": "#EBF0F8"
           }
          },
          "shapedefaults": {
           "line": {
            "color": "#2a3f5f"
           }
          },
          "ternary": {
           "aaxis": {
            "gridcolor": "#DFE8F3",
            "linecolor": "#A2B1C6",
            "ticks": ""
           },
           "baxis": {
            "gridcolor": "#DFE8F3",
            "linecolor": "#A2B1C6",
            "ticks": ""
           },
           "bgcolor": "white",
           "caxis": {
            "gridcolor": "#DFE8F3",
            "linecolor": "#A2B1C6",
            "ticks": ""
           }
          },
          "title": {
           "x": 0.05
          },
          "xaxis": {
           "automargin": true,
           "gridcolor": "#EBF0F8",
           "linecolor": "#EBF0F8",
           "ticks": "",
           "title": {
            "standoff": 15
           },
           "zerolinecolor": "#EBF0F8",
           "zerolinewidth": 2
          },
          "yaxis": {
           "automargin": true,
           "gridcolor": "#EBF0F8",
           "linecolor": "#EBF0F8",
           "ticks": "",
           "title": {
            "standoff": 15
           },
           "zerolinecolor": "#EBF0F8",
           "zerolinewidth": 2
          }
         }
        },
        "xaxis": {
         "anchor": "y",
         "domain": [
          0,
          0.94
         ],
         "matches": "x2",
         "showticklabels": false,
         "spikedash": "dot",
         "spikemode": "across+marker",
         "spikesnap": "cursor",
         "spikethickness": 2
        },
        "xaxis2": {
         "anchor": "y3",
         "autorange": true,
         "domain": [
          0,
          0.94
         ],
         "showspikes": true,
         "spikedash": "dot",
         "spikemode": "across+marker",
         "spikesnap": "cursor",
         "spikethickness": 2
        },
        "yaxis": {
         "anchor": "x",
         "autorange": true,
         "domain": [
          0.32100000000000006,
          1
         ],
         "showspikes": false
        },
        "yaxis2": {
         "anchor": "x",
         "overlaying": "y",
         "side": "right"
        },
        "yaxis3": {
         "anchor": "x2",
         "autorange": true,
         "domain": [
          0,
          0.29100000000000004
         ],
         "showspikes": false
        },
        "yaxis4": {
         "anchor": "x2",
         "overlaying": "y3",
         "side": "right"
        }
       },
       "_py2js_animate": {},
       "_py2js_deleteTraces": {},
       "_py2js_moveTraces": {},
       "_py2js_removeLayoutProps": {},
       "_py2js_removeTraceProps": {},
       "_view_count": 2
      }
     },
     "3d462378e1cf42a8b1cd7243c4a14da6": {
      "model_module": "jupyterlab-plotly",
      "model_module_version": "^5.6.0",
      "model_name": "FigureModel",
      "state": {
       "_config": {
        "plotlyServerURL": "https://plot.ly"
       },
       "_js2py_layoutDelta": {},
       "_js2py_pointsCallback": {},
       "_js2py_relayout": {},
       "_js2py_restyle": {},
       "_js2py_traceDeltas": {},
       "_js2py_update": {},
       "_layout": {
        "template": {
         "data": {
          "bar": [
           {
            "error_x": {
             "color": "#2a3f5f"
            },
            "error_y": {
             "color": "#2a3f5f"
            },
            "marker": {
             "line": {
              "color": "#E5ECF6",
              "width": 0.5
             },
             "pattern": {
              "fillmode": "overlay",
              "size": 10,
              "solidity": 0.2
             }
            },
            "type": "bar"
           }
          ],
          "barpolar": [
           {
            "marker": {
             "line": {
              "color": "#E5ECF6",
              "width": 0.5
             },
             "pattern": {
              "fillmode": "overlay",
              "size": 10,
              "solidity": 0.2
             }
            },
            "type": "barpolar"
           }
          ],
          "carpet": [
           {
            "aaxis": {
             "endlinecolor": "#2a3f5f",
             "gridcolor": "white",
             "linecolor": "white",
             "minorgridcolor": "white",
             "startlinecolor": "#2a3f5f"
            },
            "baxis": {
             "endlinecolor": "#2a3f5f",
             "gridcolor": "white",
             "linecolor": "white",
             "minorgridcolor": "white",
             "startlinecolor": "#2a3f5f"
            },
            "type": "carpet"
           }
          ],
          "choropleth": [
           {
            "colorbar": {
             "outlinewidth": 0,
             "ticks": ""
            },
            "type": "choropleth"
           }
          ],
          "contour": [
           {
            "colorbar": {
             "outlinewidth": 0,
             "ticks": ""
            },
            "colorscale": [
             [
              0,
              "#0d0887"
             ],
             [
              0.1111111111111111,
              "#46039f"
             ],
             [
              0.2222222222222222,
              "#7201a8"
             ],
             [
              0.3333333333333333,
              "#9c179e"
             ],
             [
              0.4444444444444444,
              "#bd3786"
             ],
             [
              0.5555555555555556,
              "#d8576b"
             ],
             [
              0.6666666666666666,
              "#ed7953"
             ],
             [
              0.7777777777777778,
              "#fb9f3a"
             ],
             [
              0.8888888888888888,
              "#fdca26"
             ],
             [
              1,
              "#f0f921"
             ]
            ],
            "type": "contour"
           }
          ],
          "contourcarpet": [
           {
            "colorbar": {
             "outlinewidth": 0,
             "ticks": ""
            },
            "type": "contourcarpet"
           }
          ],
          "heatmap": [
           {
            "colorbar": {
             "outlinewidth": 0,
             "ticks": ""
            },
            "colorscale": [
             [
              0,
              "#0d0887"
             ],
             [
              0.1111111111111111,
              "#46039f"
             ],
             [
              0.2222222222222222,
              "#7201a8"
             ],
             [
              0.3333333333333333,
              "#9c179e"
             ],
             [
              0.4444444444444444,
              "#bd3786"
             ],
             [
              0.5555555555555556,
              "#d8576b"
             ],
             [
              0.6666666666666666,
              "#ed7953"
             ],
             [
              0.7777777777777778,
              "#fb9f3a"
             ],
             [
              0.8888888888888888,
              "#fdca26"
             ],
             [
              1,
              "#f0f921"
             ]
            ],
            "type": "heatmap"
           }
          ],
          "heatmapgl": [
           {
            "colorbar": {
             "outlinewidth": 0,
             "ticks": ""
            },
            "colorscale": [
             [
              0,
              "#0d0887"
             ],
             [
              0.1111111111111111,
              "#46039f"
             ],
             [
              0.2222222222222222,
              "#7201a8"
             ],
             [
              0.3333333333333333,
              "#9c179e"
             ],
             [
              0.4444444444444444,
              "#bd3786"
             ],
             [
              0.5555555555555556,
              "#d8576b"
             ],
             [
              0.6666666666666666,
              "#ed7953"
             ],
             [
              0.7777777777777778,
              "#fb9f3a"
             ],
             [
              0.8888888888888888,
              "#fdca26"
             ],
             [
              1,
              "#f0f921"
             ]
            ],
            "type": "heatmapgl"
           }
          ],
          "histogram": [
           {
            "marker": {
             "pattern": {
              "fillmode": "overlay",
              "size": 10,
              "solidity": 0.2
             }
            },
            "type": "histogram"
           }
          ],
          "histogram2d": [
           {
            "colorbar": {
             "outlinewidth": 0,
             "ticks": ""
            },
            "colorscale": [
             [
              0,
              "#0d0887"
             ],
             [
              0.1111111111111111,
              "#46039f"
             ],
             [
              0.2222222222222222,
              "#7201a8"
             ],
             [
              0.3333333333333333,
              "#9c179e"
             ],
             [
              0.4444444444444444,
              "#bd3786"
             ],
             [
              0.5555555555555556,
              "#d8576b"
             ],
             [
              0.6666666666666666,
              "#ed7953"
             ],
             [
              0.7777777777777778,
              "#fb9f3a"
             ],
             [
              0.8888888888888888,
              "#fdca26"
             ],
             [
              1,
              "#f0f921"
             ]
            ],
            "type": "histogram2d"
           }
          ],
          "histogram2dcontour": [
           {
            "colorbar": {
             "outlinewidth": 0,
             "ticks": ""
            },
            "colorscale": [
             [
              0,
              "#0d0887"
             ],
             [
              0.1111111111111111,
              "#46039f"
             ],
             [
              0.2222222222222222,
              "#7201a8"
             ],
             [
              0.3333333333333333,
              "#9c179e"
             ],
             [
              0.4444444444444444,
              "#bd3786"
             ],
             [
              0.5555555555555556,
              "#d8576b"
             ],
             [
              0.6666666666666666,
              "#ed7953"
             ],
             [
              0.7777777777777778,
              "#fb9f3a"
             ],
             [
              0.8888888888888888,
              "#fdca26"
             ],
             [
              1,
              "#f0f921"
             ]
            ],
            "type": "histogram2dcontour"
           }
          ],
          "mesh3d": [
           {
            "colorbar": {
             "outlinewidth": 0,
             "ticks": ""
            },
            "type": "mesh3d"
           }
          ],
          "parcoords": [
           {
            "line": {
             "colorbar": {
              "outlinewidth": 0,
              "ticks": ""
             }
            },
            "type": "parcoords"
           }
          ],
          "pie": [
           {
            "automargin": true,
            "type": "pie"
           }
          ],
          "scatter": [
           {
            "marker": {
             "colorbar": {
              "outlinewidth": 0,
              "ticks": ""
             }
            },
            "type": "scatter"
           }
          ],
          "scatter3d": [
           {
            "line": {
             "colorbar": {
              "outlinewidth": 0,
              "ticks": ""
             }
            },
            "marker": {
             "colorbar": {
              "outlinewidth": 0,
              "ticks": ""
             }
            },
            "type": "scatter3d"
           }
          ],
          "scattercarpet": [
           {
            "marker": {
             "colorbar": {
              "outlinewidth": 0,
              "ticks": ""
             }
            },
            "type": "scattercarpet"
           }
          ],
          "scattergeo": [
           {
            "marker": {
             "colorbar": {
              "outlinewidth": 0,
              "ticks": ""
             }
            },
            "type": "scattergeo"
           }
          ],
          "scattergl": [
           {
            "marker": {
             "colorbar": {
              "outlinewidth": 0,
              "ticks": ""
             }
            },
            "type": "scattergl"
           }
          ],
          "scattermapbox": [
           {
            "marker": {
             "colorbar": {
              "outlinewidth": 0,
              "ticks": ""
             }
            },
            "type": "scattermapbox"
           }
          ],
          "scatterpolar": [
           {
            "marker": {
             "colorbar": {
              "outlinewidth": 0,
              "ticks": ""
             }
            },
            "type": "scatterpolar"
           }
          ],
          "scatterpolargl": [
           {
            "marker": {
             "colorbar": {
              "outlinewidth": 0,
              "ticks": ""
             }
            },
            "type": "scatterpolargl"
           }
          ],
          "scatterternary": [
           {
            "marker": {
             "colorbar": {
              "outlinewidth": 0,
              "ticks": ""
             }
            },
            "type": "scatterternary"
           }
          ],
          "surface": [
           {
            "colorbar": {
             "outlinewidth": 0,
             "ticks": ""
            },
            "colorscale": [
             [
              0,
              "#0d0887"
             ],
             [
              0.1111111111111111,
              "#46039f"
             ],
             [
              0.2222222222222222,
              "#7201a8"
             ],
             [
              0.3333333333333333,
              "#9c179e"
             ],
             [
              0.4444444444444444,
              "#bd3786"
             ],
             [
              0.5555555555555556,
              "#d8576b"
             ],
             [
              0.6666666666666666,
              "#ed7953"
             ],
             [
              0.7777777777777778,
              "#fb9f3a"
             ],
             [
              0.8888888888888888,
              "#fdca26"
             ],
             [
              1,
              "#f0f921"
             ]
            ],
            "type": "surface"
           }
          ],
          "table": [
           {
            "cells": {
             "fill": {
              "color": "#EBF0F8"
             },
             "line": {
              "color": "white"
             }
            },
            "header": {
             "fill": {
              "color": "#C8D4E3"
             },
             "line": {
              "color": "white"
             }
            },
            "type": "table"
           }
          ]
         },
         "layout": {
          "annotationdefaults": {
           "arrowcolor": "#2a3f5f",
           "arrowhead": 0,
           "arrowwidth": 1
          },
          "autotypenumbers": "strict",
          "coloraxis": {
           "colorbar": {
            "outlinewidth": 0,
            "ticks": ""
           }
          },
          "colorscale": {
           "diverging": [
            [
             0,
             "#8e0152"
            ],
            [
             0.1,
             "#c51b7d"
            ],
            [
             0.2,
             "#de77ae"
            ],
            [
             0.3,
             "#f1b6da"
            ],
            [
             0.4,
             "#fde0ef"
            ],
            [
             0.5,
             "#f7f7f7"
            ],
            [
             0.6,
             "#e6f5d0"
            ],
            [
             0.7,
             "#b8e186"
            ],
            [
             0.8,
             "#7fbc41"
            ],
            [
             0.9,
             "#4d9221"
            ],
            [
             1,
             "#276419"
            ]
           ],
           "sequential": [
            [
             0,
             "#0d0887"
            ],
            [
             0.1111111111111111,
             "#46039f"
            ],
            [
             0.2222222222222222,
             "#7201a8"
            ],
            [
             0.3333333333333333,
             "#9c179e"
            ],
            [
             0.4444444444444444,
             "#bd3786"
            ],
            [
             0.5555555555555556,
             "#d8576b"
            ],
            [
             0.6666666666666666,
             "#ed7953"
            ],
            [
             0.7777777777777778,
             "#fb9f3a"
            ],
            [
             0.8888888888888888,
             "#fdca26"
            ],
            [
             1,
             "#f0f921"
            ]
           ],
           "sequentialminus": [
            [
             0,
             "#0d0887"
            ],
            [
             0.1111111111111111,
             "#46039f"
            ],
            [
             0.2222222222222222,
             "#7201a8"
            ],
            [
             0.3333333333333333,
             "#9c179e"
            ],
            [
             0.4444444444444444,
             "#bd3786"
            ],
            [
             0.5555555555555556,
             "#d8576b"
            ],
            [
             0.6666666666666666,
             "#ed7953"
            ],
            [
             0.7777777777777778,
             "#fb9f3a"
            ],
            [
             0.8888888888888888,
             "#fdca26"
            ],
            [
             1,
             "#f0f921"
            ]
           ]
          },
          "colorway": [
           "#636efa",
           "#EF553B",
           "#00cc96",
           "#ab63fa",
           "#FFA15A",
           "#19d3f3",
           "#FF6692",
           "#B6E880",
           "#FF97FF",
           "#FECB52"
          ],
          "font": {
           "color": "#2a3f5f"
          },
          "geo": {
           "bgcolor": "white",
           "lakecolor": "white",
           "landcolor": "#E5ECF6",
           "showlakes": true,
           "showland": true,
           "subunitcolor": "white"
          },
          "hoverlabel": {
           "align": "left"
          },
          "hovermode": "closest",
          "mapbox": {
           "style": "light"
          },
          "paper_bgcolor": "white",
          "plot_bgcolor": "#E5ECF6",
          "polar": {
           "angularaxis": {
            "gridcolor": "white",
            "linecolor": "white",
            "ticks": ""
           },
           "bgcolor": "#E5ECF6",
           "radialaxis": {
            "gridcolor": "white",
            "linecolor": "white",
            "ticks": ""
           }
          },
          "scene": {
           "xaxis": {
            "backgroundcolor": "#E5ECF6",
            "gridcolor": "white",
            "gridwidth": 2,
            "linecolor": "white",
            "showbackground": true,
            "ticks": "",
            "zerolinecolor": "white"
           },
           "yaxis": {
            "backgroundcolor": "#E5ECF6",
            "gridcolor": "white",
            "gridwidth": 2,
            "linecolor": "white",
            "showbackground": true,
            "ticks": "",
            "zerolinecolor": "white"
           },
           "zaxis": {
            "backgroundcolor": "#E5ECF6",
            "gridcolor": "white",
            "gridwidth": 2,
            "linecolor": "white",
            "showbackground": true,
            "ticks": "",
            "zerolinecolor": "white"
           }
          },
          "shapedefaults": {
           "line": {
            "color": "#2a3f5f"
           }
          },
          "ternary": {
           "aaxis": {
            "gridcolor": "white",
            "linecolor": "white",
            "ticks": ""
           },
           "baxis": {
            "gridcolor": "white",
            "linecolor": "white",
            "ticks": ""
           },
           "bgcolor": "#E5ECF6",
           "caxis": {
            "gridcolor": "white",
            "linecolor": "white",
            "ticks": ""
           }
          },
          "title": {
           "x": 0.05
          },
          "xaxis": {
           "automargin": true,
           "gridcolor": "white",
           "linecolor": "white",
           "ticks": "",
           "title": {
            "standoff": 15
           },
           "zerolinecolor": "white",
           "zerolinewidth": 2
          },
          "yaxis": {
           "automargin": true,
           "gridcolor": "white",
           "linecolor": "white",
           "ticks": "",
           "title": {
            "standoff": 15
           },
           "zerolinecolor": "white",
           "zerolinewidth": 2
          }
         }
        },
        "xaxis": {
         "anchor": "y",
         "domain": [
          0,
          0.94
         ],
         "matches": "x2",
         "showticklabels": false
        },
        "xaxis2": {
         "anchor": "y3",
         "domain": [
          0,
          0.94
         ]
        },
        "yaxis": {
         "anchor": "x",
         "domain": [
          0.32100000000000006,
          1
         ]
        },
        "yaxis2": {
         "anchor": "x",
         "overlaying": "y",
         "side": "right"
        },
        "yaxis3": {
         "anchor": "x2",
         "domain": [
          0,
          0.29100000000000004
         ]
        },
        "yaxis4": {
         "anchor": "x2",
         "overlaying": "y3",
         "side": "right"
        }
       },
       "_py2js_addTraces": {},
       "_py2js_animate": {},
       "_py2js_deleteTraces": {},
       "_py2js_moveTraces": {},
       "_py2js_relayout": {},
       "_py2js_removeLayoutProps": {},
       "_py2js_removeTraceProps": {},
       "_py2js_restyle": {},
       "_py2js_update": {},
       "_view_count": 0
      }
     },
     "4123efc53b58455dbe0b1d2b360827d2": {
      "buffers": [
       {
        "data": "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",
        "encoding": "base64",
        "path": [
         "_data",
         0,
         "marker",
         "size",
         "value"
        ]
       },
       {
        "data": "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",
        "encoding": "base64",
        "path": [
         "_data",
         0,
         "y",
         "value"
        ]
       },
       {
        "data": "AIiK/sIqF0B8jr6/kIsVQHzSAz/yICFAPkffX8jFEkA+R99fyMUSQD5H31/IxRJAjVVoog/AJ0A+R99fyMUSQD5H31/IxRJAmK7B015UIkC61Z0fWVEYQDFc2BzhbSRATWP7fRBwFkC8ik2AR9MhQD5H31/IxRJAPkffX8jFEkBNY/t9EHAWQAh2Cgt4Cx9Aw0CrnvpkFEA+R99fyMUSQIuq2t3YNSFA0xElbRphIEA+R99fyMUSQMNAq576ZBRAfrOtu1N5JUA+R99fyMUSQD5H31/IxRJAPkffX8jFEkA+R99fyMUSQD5H31/IxRJAPkffX8jFEkCLqtrd2DUZQIuq2t3YNRlATuuFfNOaJUCuxDvgngUnQIuq2t3YNRlA1KDhYuOMHkB5zAV/xvcjQKgXUBE6DCJAARAV/YVVHkD3NuL6GfshQD5H31/IxRJAPkffX8jFEkDDQKue+mQUQLrVnR9ZURhApFRX1RLOH0A+R99fyMUSQD5H31/IxRJAPkffX8jFEkA+R99fyMUSQD5H31/IxRJANTp824ArIUB8Fkm+U7YcQEG29sXTayRATWP7fRBwFkBIwgHc7y4dQCIqfpsCIydAPkffX8jFEkA+R99fyMUSQD5H31/IxRJAPkffX8jFEkA+R99fyMUSQN5jHXeUcR5Aw0CrnvpkFEBNY/t9EHAWQKrM/3EojiNAPkffX8jFEkA+R99fyMUSQD5H31/IxRJAPkffX8jFEkA+R99fyMUSQD5H31/IxRJAPkffX8jFEkA+R99fyMUSQCTAIp/a/iZAPkffX8jFEkA+R99fyMUSQEqcyz03JClAfI6+v5CLFUDDQKue+mQUQEzTUFQRDyNA6jL7BJTcIEDI8bk9ofsbQMPINZ29jxtAw0CrnvpkFECWWQIDG8cbQLrVnR9ZURhATWUJXVDXIkDHmfUA7SgkQE1j+30QcBZAw0CrnvpkFECLqtrd2DUhQOTinjs6XRxAQbb2xdNrJECFwBnIfWkoQLzYKHwUvSNA2A3WW+mlH0CykpgAn2UkQMPG3/6nAydA7EowLVZoI0CLqtrd2DUhQHp/3SzBAyBAruekhN7tJEBSnRnk004hQBy1H5nGiyJAw0CrnvpkFEDsSjAtVmgjQE9I9bvKASlABCq4Cpo5KUBmYBCDeMclQHexxYvNCClAVDXKmwfXJkBIwgHc7y4dQLztKHBEuiVAhoFWPfXJGEBZAFHARQgkQPYwU1DiGiVAT0j1u8oBKUDDQKue+mQUQDzoTNGwUypAPkffX8jFEkBjuki8NyQkQMC6H3odEyNAPkffX8jFEkC61Z0fWVEYQIuq2t3YNRlAi6ra3dg1GUDPjP8KtBAnQD5H31/IxRJAPkffX8jFEkA+R99fyMUSQD5H31/IxRJAPkffX8jFEkA+R99fyMUSQK6jXwV9WCFAw0CrnvpkFEBNY/t9EHAWQPVxaPwPDyVAi+4fXTrLJEB8OavPgownQAKBf94SQiRAClNbYqPXKkDDQKue+mQUQHyOvr+QixVAw0CrnvpkFEDqJWGt8BAkQEe7P0EebyNAZCHVLZB0JkBHuz9BHm8jQL5AlEj1EiZAfI6+v5CLFUBHuz9BHm8jQE1j+30QcBZATkPOQJcYJ0A+R99fyMUSQD5H31/IxRJAPkffX8jFEkA+R99fyMUSQKabv9txlxlAPkffX8jFEkA+R99fyMUSQD5H31/IxRJAPkffX8jFEkA+R99fyMUSQD5H31/IxRJAPkffX8jFEkA+R99fyMUSQD5H31/IxRJAPkffX8jFEkA+R99fyMUSQD5H31/IxRJAPkffX8jFEkA+R99fyMUSQD5H31/IxRJAPkffX8jFEkA+R99fyMUSQD5H31/IxRJAPkffX8jFEkAAAAAAAAAQQAAAAAAAABBAAAAAAAAAEEAAAAAAAAAQQD5H31/IxRJAPkffX8jFEkA+R99fyMUSQD5H31/IxRJAPkffX8jFEkA+R99fyMUSQD5H31/IxRJAPkffX8jFEkA+R99fyMUSQD5H31/IxRJAPkffX8jFEkA+R99fyMUSQD5H31/IxRJAPkffX8jFEkA+R99fyMUSQD5H31/IxRJAPkffX8jFEkA+R99fyMUSQD5H31/IxRJAPkffX8jFEkA+R99fyMUSQD5H31/IxRJAPkffX8jFEkAoxpgVgkIaQEKCZGWESyJAPkffX8jFEkA+R99fyMUSQD5H31/IxRJAPkffX8jFEkA+R99fyMUSQJZZAgMbxxtAw0CrnvpkFEB4GJ0mWfojQJaWjKucyBdAMVzYHOFtJEAxX3B5f1ojQLrVnR9ZURhAKMaYFYJCGkCK4ZCWi88jQD5H31/IxRJAfI6+v5CLFUA+R99fyMUSQD7PaV6L8BlAppu/23GXGUA+z2lei/AZQAY5mZ1pwR5AlpaMq5zIF0ASJUtrLVQdQFw40yyXiiFAutWdH1lRGECaxvb7IOAcQCdWx6Ky2h5Aw8g1nb2PG0A+R99fyMUSQL0//eA1VRtAPkffX8jFEkB8jr6/kIsVQMNAq576ZBRA0P/HTMXQJUDDQKue+mQUQGjcanps/B1APkffX8jFEkB8jr6/kIsVQK4r1eh+USdAppu/23GXGUDB46sufSYiQI5EnVdukiRA3rnYMqBUJ0DUoOFi44weQEjCAdzvLh1AKk7KDb2YIkDDQKue+mQUQD5H31/IxRJAfI6+v5CLFUC61Z0fWVEYQIaBVj31yRhAPkffX8jFEkAc511QY3AgQKabv9txlxlAPkffX8jFEkCLqtrd2DUZQD5H31/IxRJA+Nno/r6KHEDDyDWdvY8bQFjXN0qXLRxAKDaV5foMIEB7RdeLLvogQLJOU4E90CBAEKSmHAvVGkBNY/t9EHAWQNgN1lvppR9APkffX8jFEkA+R99fyMUSQGgyJKaxVCRAPs9pXovwGUA2ZFzf6dwdQD5H31/IxRJAPkffX8jFEkAGOZmdacEeQACIiv7CKhdAyPG5PaH7G0AsLRlXOZEfQPgcfX8hFxtAKMaYFYJCGkCXTNn3Lv4jQHyOvr+QixVAPs9pXovwGUCWloyrnMgXQAY5mZ1pwR5AutWdH1lRGECQ8YrK0awiQPjZ6P6+ihxAw0CrnvpkFEBNY/t9EHAWQMNAq576ZBRATWP7fRBwFkCWloyrnMgXQCzN1tAKFiBAPkffX8jFEkBC1Wdf4Q8nQMfM6r07pCRAw0CrnvpkFECGgVY99ckYQD5H31/IxRJAllkCAxvHG0BIwgHc7y4dQG+jt3ypMydAPkffX8jFEkA+R99fyMUSQD5H31/IxRJAPkffX8jFEkDYDdZb6aUfQIuq2t3YNRlAKHraZFyiI0DN1OCh+lYjQM3U4KH6ViNAkOT4Q5wUJEA+R99fyMUSQD5H31/IxRJAPkffX8jFEkA+R99fyMUSQDFc2BzhbSRAPkffX8jFEkA+R99fyMUSQD5H31/IxRJA2A3WW+mlJ0DDQKue+mQUQD5H31/IxRJAmsb2+yDgHEC61Z0fWVEYQD5H31/IxRJAPkffX8jFEkC61Z0fWVEYQIuq2t3YNRlAwId7Qq+aI0Ac511QY3AgQACIiv7CKhdAw0CrnvpkFEBNY/t9EHAWQGYNeHVKCB1AR7g61a0pIkArJOybU8koQD5H31/IxRJAPkffX8jFEkBNY/t9EHAWQJaWjKucyBdAw0CrnvpkFECWloyrnMgXQJaWjKucyBdATWP7fRBwFkCLqtrd2DUZQIrhkJaLzyNAhoFWPfXJGECLqtrd2DUZQD5H31/IxRJAPkffX8jFEkABEBX9hVUeQACIiv7CKhdAfI6+v5CLFUCWloyrnMgXQLrVnR9ZURhAi6ra3dg1GUA+R99fyMUSQD5H31/IxRJAlpaMq5zIF0D42ej+voocQJba0Sr+XSNA2A3WW+mlJ0DDQKue+mQUQCT1a1+HRSJAAIiK/sIqF0A+R99fyMUSQD5H31/IxRJATWP7fRBwFkABEBX9hVUeQAqj+F5GxSlASpzLPTckKUDg+9T9DBgnQEL23OLeWChAw0CrnvpkFECJyp3tVEkrQGCK1YMw9SNAEFTBP7QuKkB8jLeOdQcqQDIioWYUNClAMiKhZhQ0KUBNY/t9EHAWQDIioWYUNClA7kMlDaZ/KEA+R99fyMUSQD5H31/IxRJAtjS3AbQzKUB4NkkXPPYpQD5H31/IxRJAIijRkSzNJUDDQKue+mQUQD5H31/IxRJAPkffX8jFEkA+R99fyMUSQD5H31/IxRJAPkffX8jFEkA+R99fyMUSQD5H31/IxRJAThO3eefFJUAiKn6bAiMfQCIo0ZEszSVAIijRkSzNJUAiKNGRLM0lQD5H31/IxRJAPkffX8jFEkA+R99fyMUSQACo+YQbyyVAPkffX8jFEkA+R99fyMUSQD5H31/IxRJAPkffX8jFEkA+R99fyMUSQHyOvr+QixVAfI6+v5CLFUA+R99fyMUSQD5H31/IxRJAPkffX8jFEkA+R99fyMUSQD5H31/IxRJAPkffX8jFEkA+R99fyMUSQD5H31/IxRJA+4bcQP4aHkA+R99fyMUSQD5H31/IxRJAPkffX8jFEkA+R99fyMUSQFKdGeTTTiFAw0CrnvpkFEAM3GJ84V0lQCIqfpsCIx9A1KDhYuOMHkA+R99fyMUSQD5H31/IxRJANTp824ArIUCybV7eU3YiQHyOvr+QixVABjmZnWnBHkA+R99fyMUSQD5H31/IxRJAPkffX8jFEkA+R99fyMUSQL0//eA1VRtA145pEZVzIkBO64V805olQE7rhXzTmiVATuuFfNOaJUC61Z0fWVEYQNgN1lvppSdAARAV/YVVHkAUpxGKorYgQAEQFf2FVR5AvIpNgEfTIUDSo2BTNjQrQAEQFf2FVR5ANtJ8mS2zKEDiMa1e97EoQAqj+F5GxSlAY26TsvNKJUAM0R0To4UoQE7rhXzTmiVATuuFfNOaJUCtlUgkZ7wdQPbneLYemCRAEKSmHAvVGkAxXNgc4W0kQMTmNos4kiVACXRg4VWpIECpimaA8vUnQBSnEYqitiBAARAV/YVVHkDYDdZb6aUnQD5H31/IxRJAPkffX8jFEkA+R99fyMUSQD5H31/IxRJAPkffX8jFEkA+R99fyMUSQD5H31/IxRJAPkffX8jFEkA+R99fyMUSQD5H31/IxRJAPkffX8jFEkCWloyrnMgXQDYhyF6HUB9APkffX8jFEkA+R99fyMUSQD5H31/IxRJAoh5yvmd9IUA+R99fyMUSQD5H31/IxRJAPoaCKilfJUBWeGBHsS0mQD5H31/IxRJAw0CrnvpkFEACuo6VP1wjQKabv9txlxlALC0ZVzmRH0A2Icheh1AfQLrVnR9ZUSBAPkffX8jFEkA+R99fyMUSQIcHhdJpXilAhweF0mleKUBNY/t9EHAWQIcHhdJpXilAllLQCxXGJEA2UrEDQ7cjQIuq2t3YNRlAPkffX8jFEkA+R99fyMUSQD5H31/IxRJAPkffX8jFEkA+R99fyMUSQD5H31/IxRJAPkffX8jFEkA+R99fyMUSQD5H31/IxRJAPkffX8jFEkA+R99fyMUSQD5H31/IxRJAPkffX8jFEkA+R99fyMUSQD5H31/IxRJAhoFWPfXJGEA+R99fyMUSQD5H31/IxRJAPkffX8jFEkA6Ste+BOAjQD5H31/IxRJAPkffX8jFEkA+R99fyMUSQND/x0zF0CVAPkffX8jFEkA+R99fyMUSQD5H31/IxRJAPkffX8jFEkA+R99fyMUSQD5H31/IxRJAPkffX8jFEkA+R99fyMUSQCqpWAum+CVACx0QOYa+I0C82Ch8FL0jQLzYKHwUvSNAYGDm63RwJkA+R99fyMUSQD5H31/IxRJAZg14dUoIHUCLqtrd2DUZQJHu0XHYeiZAPkffX8jFEkA+R99fyMUSQD5H31/IxRJAPkffX8jFEkA+R99fyMUSQCyrOU20/yVAMaAdnEIDKEBZAFHARQgkQD5H31/IxRJAPkffX8jFEkA+R99fyMUSQOeQnqCjqiRAPkffX8jFEkAm1Q1OaNolQJZZAgMbxxtA+Nno/r6KHEA+R99fyMUSQD5H31/IxRJAPkffX8jFEkA+R99fyMUSQD5H31/IxRJAPkffX8jFEkA+R99fyMUSQD5H31/IxRJAPkffX8jFEkA+R99fyMUSQD5H31/IxRJAPkffX8jFEkA+R99fyMUSQD5H31/IxRJAPkffX8jFEkA+R99fyMUSQD5H31/IxRJAPkffX8jFEkAqTsoNvZgiQD5H31/IxRJAw0CrnvpkFEA2rIOoscshQJYIlHjNaCBAWi49sCs2I0DDyDWdvY8bQD5H31/IxRJAfxf12FenJ0BolalthV4lQD5H31/IxRJA2O3G7uhCJUDDyDWdvY8bQGiVqW2FXiVADNxifOFdJUBNZQldUNciQD5H31/IxRJAPkffX8jFEkC1GzcHwCojQD5H31/IxRJAPkffX8jFEkA+R99fyMUSQD5H31/IxRJAPkffX8jFEkBo3Gp6bPwdQLrY10QovSBAUp0Z5NNOIUCGgVY99ckYQMjxuT2h+yNAKMaYFYJCGkCLqtrd2DUZQNgN1lvppSdA3k8tguXWJ0A+R99fyMUSQHp/3SzBAyBAEIyw/uZuJECmm7/bcZcZQHyOvr+QixVABH/KhB0bI0CWloyrnMgXQD7PaV6L8BlAutWdH1lRGEDaDPNv+u8jQD5H31/IxRJAPs9pXovwGUA+R99fyMUSQMNAq576ZBRAYcbHiFGRI0A+R99fyMUSQD5H31/IxRJAfI6+v5CLFUAYZxLcBvwkQD5H31/IxRJAiYULXnPeIUA+R99fyMUSQK7BGS1sdCFA+gN107PYJEA+R99fyMUSQD5H31/IxRJAPkffX8jFEkA+R99fyMUSQD5H31/IxRJAvIpNgEfTIUAGOZmdacEeQD5H31/IxRJAPkffX8jFEkBolalthV4lQD5H31/IxRJAPkffX8jFEkA+R99fyMUSQPjZ6P6+ihxAnJ2q4JVPJUDQ/8dMxdAlQBuNhNF40CJAPkffX8jFEkCSuOjs/AojQE1j+30QcBZAPkffX8jFEkAr002ZK4YjQD5H31/IxRJAhoFWPfXJGEDIvCBTlGQkQIuq2t3YNRlANlZgzlGHJ0DQ/8dMxdAlQKabv9txlxlAPkffX8jFEkAU76jQugIjQE1j+30QcBZAhgnhO7j0H0A+R99fyMUSQOYhrIxy/CJA4mjdewMGJUCFUXwvo+IgQEjCAdzvLh1Aw0CrnvpkFEDoM2KkjIMlQD5H31/IxRJAlQtlJ1cFJ0A+R99fyMUSQCIo0ZEszSVAIijRkSzNJUCMjTW0yzYkQE1j+30QcBZAIijRkSzNJUAiKNGRLM0lQIVRfC+j4iBAw0CrnvpkFEAiKNGRLM0lQCIo0ZEszSVAIijRkSzNJUBoo134yF8nQCIo0ZEszSVAIijRkSzNJUDDQKue+mQUQEjCAdzvLh1AIijRkSzNJUBIwgHc7y4dQCIo0ZEszSVAIijRkSzNJUAiKNGRLM0lQBIlS2stVB1Ai6ra3dg1GUCLqtrd2DUZQE1j+30QcBZAdagSaWgTJkAiKNGRLM0lQAh2Cgt4Cx9A5vHRfiAVI0A+R99fyMUSQD5H31/IxRJAPkffX8jFEkCmHb4kCjElQD7PaV6L8BlAsg78TNisJkCWWQIDG8cbQD5H31/IxRJAPkffX8jFEkAAiIr+wioXQACIiv7CKhdATWP7fRBwFkAGYJCflz0kQD5H31/IxRJATWP7fRBwFkA6/ZPXZOUjQMjxuT2h+yNA0sq5iFygIkA+R99fyMUSQHLefsCVGyFAyPG5PaH7I0AoxpgVgkIaQMd7MKS26iNAPs9pXovwIUA+R99fyMUSQD5H31/IxRJA7EowLVZoI0BYfMd0DCAiQD5H31/IxRJAIijRkSzNJUA+R99fyMUSQGJsJc2h8iRABL/HDeWvI0DDQKue+mQUQCIo0ZEszSVAw0CrnvpkFEDnMKz4+ewhQCIo0ZEszSVAoh5yvmd9IUBbeMgXjWYfQIVRfC+j4iBAQEfL7TPWJECqwP9oaiElQAkvhwplmyVAAGq3uDX0JEA+R99fyMUSQEL7X/MswSVA/y3FsxRYJUByIsQ/97AkQD5H31/IxRJAPkffX8jFEkA+R99fyMUSQOvJAVloqSVAPkffX8jFEkCLqtrd2DUZQGHGx4hRkSNAMaAdnEIDKEBWHhE0lOEfQI6IKJLKMiZAUK7XvoKtJkA+R99fyMUSQBCkphwL1RpAPkffX8jFEkDIaYhFZqUjQKbfBFvTLCVAWr5n16h5J0CR117s+EgnQD5H31/IxRJAkrjo7PwKI0B8jr6/kIsVQE1j+30QcBZATWP7fRBwFkAszdbQChYgQE1j+30QcBZAePsyP/DQI0A+R99fyMUSQN65rH0bWyRAyPG5PaH7G0AGOZmdacEeQD5H31/IxRJATWP7fRBwFkAL/Z5Oy3EpQAv9nk7LcSlArZVIJGe8HUBNY/t9EHAWQMeZ9QDtKCRAPkffX8jFEkCdMG+vzEspQDGgHZxCAyhAPkffX8jFEkA+R99fyMUSQD5H31/IxRJAwLofeh0TI0CgNH7vAO4nQHyOvr+QixVAPkffX8jFEkCgK3oup40gQHyOvr+QixVAIkC8/pjDIECMEC2wCgooQD5H31/IxRJAjC9eaUcjIkBkaxL6fYYgQK3VgZJe3SdAPkffX8jFEkBo1ud5krYiQD5H31/IxRJAaJWpbYVeJUCim/caLZckQAzcYnzhXSVATuuFfNOaJUAeNTlMMFoiQLZYPLix+SRAweOrLn0mIkCb6iwOghImQKrKokvXPiVAPkffX8jFEkB8jr6/kIsVQKabv9txlyFAPkffX8jFEkDwtD0+HDwlQJaWjKucyBdAVh4RNJThH0BzkdH6Mk4kQLbuN/MpLSlAY26TsvNKJUA4bX6Ioy8lQAv9nk7LcSlAw0CrnvpkFEDDQKue+mQUQAv9nk7LcSlAw0CrnvpkFEAPqulWGuIoQGZknxENoSZACJaYDef/IEAI7kj+V0MoQH4HDad41CdAfI6+v5CLFUDDQKue+mQUQAv9nk7LcSlAZ270+phFKEDKLVabqNEnQMNAq576ZBRAZ270+phFKEDKLVabqNEnQJZZAgMbxxtA5LUpaAGiJ0CInNLopmgoQAv9nk7LcSlACHYKC3gLH0DDQKue+mQUQB+LElZ9YiRA0P/HTMXQJUBiCg0IsyYnQMjxuT2h+yNAaJWpbYVeJUBolalthV4lQCpOyg29mCJAPkffX8jFEkCwtthPzGokQAv9nk7LcSlAPkffX8jFEkCLMmXcm2AoQAv9nk7LcSlAD4jluJruJUAL/Z5Oy3EpQPVxaPwPDyVAPkffX8jFEkA+R99fyMUSQGkvztx1cSlAD4jluJruJUAIdgoLeAsfQD5H31/IxRJAreJ+l6BxKUDI8bk9ofsbQN5jHXeUcR5AKQrelOPXJUDDQKue+mQUQA7QtnOq3iNAKQrelOPXJUCLqtrd2DUhQFZosvIalidAKQrelOPXJUBNY/t9EHAWQCkK3pTj1yVA+Nno/r6KHEApCt6U49clQM86VG0YESNA2gNpY30EJUA+R99fyMUSQD5H31/IxRJAw0CrnvpkFECqGASA7KkjQMNAq576ZBRA2A3WW+mlH0ApCt6U49clQA65Mm9D6SVATWP7fRBwFkBCVuGJKq8kQD5H31/IxRJAxioFJOlXJEDXjmkRlXMiQJDRRsGTJiRAPkffX8jFEkA+R99fyMUSQD5H31/IxRJANiHIXodQH0B9/CHROxYiQNDMHJNDriRAlkcjZ6FlIkBYfMd0DCAiQGCK1YMw9SNA+Nno/r6KJEA+R99fyMUSQMd7MKS26iNACXRg4VWpIEA+R99fyMUSQAh2Cgt4Cx9Adu4TwhdBIEBE/mnr2CEkQMbZhBXfbyFA145pEZVzIkBCn7CWh9QkQKgXUBE6DCJAw0CrnvpkFEDUVWrse/YjQLwpRRbk/yRATWP7fRBwFkDAOdoXZiUkQD5H31/IxRJAPkffX8jFEkA+R99fyMUSQAl0YOFVqSBAKlx+mACaJEA+R99fyMUSQIuq2t3YNRlAfBZJvlO2HEAszdbQChYgQMNAq576ZBRAPkffX8jFEkC61Z0fWVEYQD5H31/IxRJATWP7fRBwFkAQpKYcC9UaQBCkphwL1RpAEKSmHAvVGkAQpKYcC9UaQBCkphwL1RpAEKSmHAvVGkAQpKYcC9UaQMNAq576ZBRAPkffX8jFEkAMkGKr8YIkQPl6MfTvAydAFKcRiqK2IEA+R99fyMUSQE1j+30QcBZAPkffX8jFEkBmDXh1SggdQEe7P0EebyNAfI6+v5CLFUCLqtrd2DUhQP4A+TNcrSRAPkffX8jFEkDB46sufSYiQD5H31/IxRJAPkffX8jFEkBq6HzPnUslQD5H31/IxRJAPkffX8jFEkA+R99fyMUSQDQHfKq20yNA+Bx9fyEXG0A+hoIqKV8lQMNAq576ZBRAY0bhO7tfI0CLqtrd2DUhQE7rhXzTmiVATlyerUlXIkAnVseistoeQD7PaV6L8BlAw0CrnvpkFED7htxA/hoeQHyOvr+QixVASMIB3O8uHUDWCHcMk9kiQBCkphwL1RpAPkffX8jFEkBOXJ6tSVciQD5H31/IxRJAPs9pXovwIUDbPFEgIJEmQGiVqW2FXiVAyPG5PaH7I0AqTsoNvZgiQD5H31/IxRJAPkffX8jFEkA+R99fyMUSQD5H31/IxRJAKk7KDb2YIkB4+zI/8NAjQD5H31/IxRJAPkffX8jFEkA+R99fyMUSQD5H31/IxRJAPkffX8jFEkA+R99fyMUSQD5H31/IxRJAPkffX8jFEkA+R99fyMUSQD5H31/IxRJAi6ra3dg1IUA+R99fyMUSQD5H31/IxRJAPkffX8jFEkAAiIr+wioXQE7rhXzTmiVAMVzYHOFtJEBO64V805olQCpOyg29mCJAKk7KDb2YIkC61Z0fWVEYQD5H31/IxRJASMIB3O8uHUACo/30I34mQJaWjKucyBdA1N1rC2WOGkA+R99fyMUSQIaBVj31yRhAfI6+v5CLFUAAAAAAAAAQQCrggR7AUiZAPkffX8jFEkA+R99fyMUSQCIqfpsCIx9APkffX8jFEkBkaxL6fYYgQCoAHOfYCCJAAAAAAAAAEEAAAAAAAAAQQAAAAAAAABBAutWdH1lRGEA6tFPfJwshQC4z5C50ryVAuAoCDOteJkAY1MF+/+gnQAl0YOFVqSBAldRCgMZ9JkCwL6Auy9ElQPRb1pgYKiRA2A3WW+mlJ0ABEBX9hVUeQNMRJW0aYSBAPkffX8jFEkA+R99fyMUSQD5H31/IxRJAPs9pXovwGUDQ/8dMxdAlQAY2iXXEOCBAuMpX0fWpJUAWkT4s0J8oQAiWmA3n/yBAvIpNgEfTIUB8jr6/kIsVQD5H31/IxRJAw0CrnvpkFEBo3Gp6bPwdQKbZeKWomyFAPkffX8jFEkAxXNgc4W0kQCpOyg29mCJAyPG5PaH7I0D8pXKEQCYhQPwbqvt1ZCdAvbyVc+sSIkCGgVY99ckYQD5H31/IxRJAVLjmaDTHIkBWaqy8bSwkQAY5mZ1pwR5AfBZJvlO2HEA+R99fyMUSQIuq2t3YNRlAw0CrnvpkFEDHmfUA7SgkQMNAq576ZBRAtEoBuoYZIkC61Z0fWVEYQMYLaEn7uCJAns56vilPJkA+R99fyMUSQD5H31/IxRJAPkffX8jFEkA+R99fyMUSQIuq2t3YNRlAniY3oXiVJ0A+R99fyMUSQNgN1lvppR9AIoQBfvpYJEDgEUIUAJEiQPKETpMZRyZAEcazb9sTJkDyhE6TGUcmQHTzYgh6kSRAPkffX8jFEkBCcXQouHglQBHGs2/bEyZA8oROkxlHJkBCBqdtrXUmQMNAq576ZBRAPkffX8jFEkA+R99fyMUSQALq0GufwiRAPkffX8jFEkB8jr6/kIsVQIuq2t3YNRlATWP7fRBwFkAqTsoNvZgiQCpOyg29mCJAptl4paibIUBCBqdtrXUmQNTdawtljhpAZTSNEWFBJkBCBqdtrXUmQKh9zbws+CVARpky7k0wIEA+R99fyMUSQD5H31/IxRJAPkffX8jFEkAAAAAAAAAQQAAAAAAAABBAPkffX8jFEkA+R99fyMUSQCjGmBWCQiJAPkffX8jFEkCmm7/bcZcZQNTdawtljhpAl0zZ9y7+I0B8jr6/kIsVQD5H31/IxRJAzN/TuyoWIUDyQAkUuLEiQD5H31/IxRJAlpaMq5zIF0A+z2lei/AZQE1j+30QcBZAVh4RNJThH0DDQKue+mQUQMNAq576ZBRATWP7fRBwFkAkLlrqQy0mQD5H31/IxRJAPkffX8jFEkA+R99fyMUSQE1j+30QcBZAw0CrnvpkFEDDQKue+mQUQOkfSYKL7iBAPkffX8jFEkCGCeE7uPQfQCdWx6Ky2h5APkffX8jFEkA+R99fyMUSQD5H31/IxRJAPkffX8jFEkA+R99fyMUSQJrG9vsg4CRArqNfBX1YIUA67VHkCOwjQIjGtkTpwihAPkffX8jFEkA+R99fyMUSQHyOvr+QixVArgNRzY2iIEAI4KlSAQwkQBCkphwL1RpAPkffX8jFEkC6XGGQYaUiQLpdKB4cfB9APkffX8jFEkA+R99fyMUSQD5H31/IxRJAPkffX8jFEkA+R99fyMUSQJba0Sr+XSNAw0CrnvpkFEA+R99fyMUSQGbb2lQ5uCFAPMCIy7toJEC+rR8eWqoiQD5H31/IxRJASpzLPTckKUBNY/t9EHAWQCkR4bgwbyhAw0CrnvpkFEA=",
        "encoding": "base64",
        "path": [
         "_data",
         1,
         "marker",
         "size",
         "value"
        ]
       },
       {
        "data": "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",
        "encoding": "base64",
        "path": [
         "_data",
         1,
         "y",
         "value"
        ]
       },
       {
        "data": "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",
        "encoding": "base64",
        "path": [
         "_data",
         2,
         "y",
         "value"
        ]
       }
      ],
      "model_module": "jupyterlab-plotly",
      "model_module_version": "^5.6.0",
      "model_name": "FigureModel",
      "state": {
       "_config": {
        "plotlyServerURL": "https://plot.ly"
       },
       "_data": [
        {
         "marker": {
          "color": "red",
          "opacity": 0.2,
          "size": {
           "dtype": "float64",
           "shape": [
            784
           ],
           "value": {}
          }
         },
         "mode": "markers",
         "name": "Sell",
         "type": "scattergl",
         "uid": "d4dbf5fd-97d6-46b0-b8fe-494099d06da9",
         "x": [
          "2022-05-08T00:01:00.865000",
          "2022-05-08T00:01:00.865000",
          "2022-05-08T00:01:00.865000",
          "2022-05-08T00:01:00.865000",
          "2022-05-08T00:01:00.865000",
          "2022-05-08T00:01:00.865000",
          "2022-05-08T00:01:00.865000",
          "2022-05-08T00:01:00.865000",
          "2022-05-08T00:01:00.879000",
          "2022-05-08T00:01:00.880000",
          "2022-05-08T00:01:00.891000",
          "2022-05-08T00:01:00.891000",
          "2022-05-08T00:01:00.952000",
          "2022-05-08T00:01:00.952000",
          "2022-05-08T00:01:00.952000",
          "2022-05-08T00:01:00.952000",
          "2022-05-08T00:01:00.964000",
          "2022-05-08T00:01:00.964000",
          "2022-05-08T00:01:00.985000",
          "2022-05-08T00:01:00.985000",
          "2022-05-08T00:01:01.005999",
          "2022-05-08T00:01:01.009000",
          "2022-05-08T00:01:01.009000",
          "2022-05-08T00:01:01.015000",
          "2022-05-08T00:01:01.035000",
          "2022-05-08T00:01:01.035000",
          "2022-05-08T00:01:01.141000",
          "2022-05-08T00:01:01.141000",
          "2022-05-08T00:01:01.238999",
          "2022-05-08T00:01:01.238999",
          "2022-05-08T00:01:01.289000",
          "2022-05-08T00:01:01.289000",
          "2022-05-08T00:01:01.580999",
          "2022-05-08T00:01:01.580999",
          "2022-05-08T00:01:01.580999",
          "2022-05-08T00:01:01.882000",
          "2022-05-08T00:01:01.882000",
          "2022-05-08T00:01:02.152000",
          "2022-05-08T00:01:02.152000",
          "2022-05-08T00:01:02.342000",
          "2022-05-08T00:01:02.342000",
          "2022-05-08T00:01:02.342000",
          "2022-05-08T00:01:02.342000",
          "2022-05-08T00:01:02.342000",
          "2022-05-08T00:01:02.342000",
          "2022-05-08T00:01:02.342000",
          "2022-05-08T00:01:02.342000",
          "2022-05-08T00:01:02.342000",
          "2022-05-08T00:01:02.342000",
          "2022-05-08T00:01:02.342000",
          "2022-05-08T00:01:02.342000",
          "2022-05-08T00:01:02.342000",
          "2022-05-08T00:01:02.342000",
          "2022-05-08T00:01:02.342000",
          "2022-05-08T00:01:02.342000",
          "2022-05-08T00:01:02.342000",
          "2022-05-08T00:01:02.342000",
          "2022-05-08T00:01:02.357000",
          "2022-05-08T00:01:02.357000",
          "2022-05-08T00:01:02.373000",
          "2022-05-08T00:01:02.373000",
          "2022-05-08T00:01:02.385000",
          "2022-05-08T00:01:02.385000",
          "2022-05-08T00:01:02.400000",
          "2022-05-08T00:01:02.400000",
          "2022-05-08T00:01:02.403000",
          "2022-05-08T00:01:02.421000",
          "2022-05-08T00:01:02.421000",
          "2022-05-08T00:01:02.434000",
          "2022-05-08T00:01:02.589000",
          "2022-05-08T00:01:02.589000",
          "2022-05-08T00:01:02.589000",
          "2022-05-08T00:01:02.589000",
          "2022-05-08T00:01:02.589000",
          "2022-05-08T00:01:02.589000",
          "2022-05-08T00:01:02.594000",
          "2022-05-08T00:01:02.594000",
          "2022-05-08T00:01:02.601000",
          "2022-05-08T00:01:02.601000",
          "2022-05-08T00:01:02.606000",
          "2022-05-08T00:01:02.614000",
          "2022-05-08T00:01:02.614000",
          "2022-05-08T00:01:02.614000",
          "2022-05-08T00:01:02.614000",
          "2022-05-08T00:01:02.614000",
          "2022-05-08T00:01:02.614000",
          "2022-05-08T00:01:02.616000",
          "2022-05-08T00:01:02.616000",
          "2022-05-08T00:01:02.626000",
          "2022-05-08T00:01:02.626000",
          "2022-05-08T00:01:02.633000",
          "2022-05-08T00:01:02.633000",
          "2022-05-08T00:01:02.637000",
          "2022-05-08T00:01:02.637000",
          "2022-05-08T00:01:02.649000",
          "2022-05-08T00:01:02.649000",
          "2022-05-08T00:01:02.756000",
          "2022-05-08T00:01:02.756000",
          "2022-05-08T00:01:02.852000",
          "2022-05-08T00:01:02.852000",
          "2022-05-08T00:01:02.852000",
          "2022-05-08T00:01:02.852000",
          "2022-05-08T00:01:02.852000",
          "2022-05-08T00:01:02.861000",
          "2022-05-08T00:01:02.861000",
          "2022-05-08T00:01:02.871000",
          "2022-05-08T00:01:02.874000",
          "2022-05-08T00:01:02.881000",
          "2022-05-08T00:01:02.884000",
          "2022-05-08T00:01:02.884000",
          "2022-05-08T00:01:02.892000",
          "2022-05-08T00:01:02.892000",
          "2022-05-08T00:01:02.894000",
          "2022-05-08T00:01:02.894000",
          "2022-05-08T00:01:02.899000",
          "2022-05-08T00:01:02.904000",
          "2022-05-08T00:01:02.932000",
          "2022-05-08T00:01:03.666000",
          "2022-05-08T00:01:03.666000",
          "2022-05-08T00:01:04.252000",
          "2022-05-08T00:01:04.252000",
          "2022-05-08T00:01:04.700000",
          "2022-05-08T00:01:04.700000",
          "2022-05-08T00:01:04.700000",
          "2022-05-08T00:01:04.700000",
          "2022-05-08T00:01:04.700000",
          "2022-05-08T00:01:04.700000",
          "2022-05-08T00:01:04.711000",
          "2022-05-08T00:01:04.711000",
          "2022-05-08T00:01:06.159000",
          "2022-05-08T00:01:06.159000",
          "2022-05-08T00:01:06.382999",
          "2022-05-08T00:01:06.382999",
          "2022-05-08T00:01:06.701000",
          "2022-05-08T00:01:06.701000",
          "2022-05-08T00:01:06.843999",
          "2022-05-08T00:01:06.843999",
          "2022-05-08T00:01:06.857999",
          "2022-05-08T00:01:07.049999",
          "2022-05-08T00:01:07.049999",
          "2022-05-08T00:01:07.300000",
          "2022-05-08T00:01:07.300000",
          "2022-05-08T00:01:07.473999",
          "2022-05-08T00:01:07.473999",
          "2022-05-08T00:01:07.527000",
          "2022-05-08T00:01:07.527000",
          "2022-05-08T00:01:07.538000",
          "2022-05-08T00:01:07.572000",
          "2022-05-08T00:01:07.575000",
          "2022-05-08T00:01:07.594000",
          "2022-05-08T00:01:07.617000",
          "2022-05-08T00:01:07.631999",
          "2022-05-08T00:01:07.639000",
          "2022-05-08T00:01:07.639000",
          "2022-05-08T00:01:07.639000",
          "2022-05-08T00:01:07.639999",
          "2022-05-08T00:01:07.645000",
          "2022-05-08T00:01:07.648000",
          "2022-05-08T00:01:07.648000",
          "2022-05-08T00:01:07.650000",
          "2022-05-08T00:01:07.667000",
          "2022-05-08T00:01:07.672000",
          "2022-05-08T00:01:07.689000",
          "2022-05-08T00:01:07.720000",
          "2022-05-08T00:01:07.727999",
          "2022-05-08T00:01:07.727999",
          "2022-05-08T00:01:07.736000",
          "2022-05-08T00:01:07.751000",
          "2022-05-08T00:01:07.753000",
          "2022-05-08T00:01:07.756000",
          "2022-05-08T00:01:07.768000",
          "2022-05-08T00:01:07.778000",
          "2022-05-08T00:01:07.779999",
          "2022-05-08T00:01:07.794000",
          "2022-05-08T00:01:07.812000",
          "2022-05-08T00:01:07.815000",
          "2022-05-08T00:01:07.819999",
          "2022-05-08T00:01:07.825000",
          "2022-05-08T00:01:07.830999",
          "2022-05-08T00:01:07.849999",
          "2022-05-08T00:01:07.849999",
          "2022-05-08T00:01:07.862000",
          "2022-05-08T00:01:07.867000",
          "2022-05-08T00:01:07.877000",
          "2022-05-08T00:01:07.878999",
          "2022-05-08T00:01:07.886000",
          "2022-05-08T00:01:07.904999",
          "2022-05-08T00:01:07.918000",
          "2022-05-08T00:01:07.930999",
          "2022-05-08T00:01:07.939000",
          "2022-05-08T00:01:07.976000",
          "2022-05-08T00:01:07.976000",
          "2022-05-08T00:01:07.985000",
          "2022-05-08T00:01:07.998000",
          "2022-05-08T00:01:08.008000",
          "2022-05-08T00:01:08.020000",
          "2022-05-08T00:01:08.130000",
          "2022-05-08T00:01:08.130000",
          "2022-05-08T00:01:08.605000",
          "2022-05-08T00:01:08.605000",
          "2022-05-08T00:01:08.607000",
          "2022-05-08T00:01:08.607000",
          "2022-05-08T00:01:08.622000",
          "2022-05-08T00:01:08.640000",
          "2022-05-08T00:01:08.645000",
          "2022-05-08T00:01:08.999000",
          "2022-05-08T00:01:08.999000",
          "2022-05-08T00:01:08.999000",
          "2022-05-08T00:01:09.145000",
          "2022-05-08T00:01:09.145000",
          "2022-05-08T00:01:09.199000",
          "2022-05-08T00:01:09.199000",
          "2022-05-08T00:01:09.199000",
          "2022-05-08T00:01:09.199000",
          "2022-05-08T00:01:09.234999",
          "2022-05-08T00:01:09.245999",
          "2022-05-08T00:01:09.245999",
          "2022-05-08T00:01:09.262000",
          "2022-05-08T00:01:09.280000",
          "2022-05-08T00:01:09.295000",
          "2022-05-08T00:01:09.501000",
          "2022-05-08T00:01:09.501000",
          "2022-05-08T00:01:09.794999",
          "2022-05-08T00:01:09.794999",
          "2022-05-08T00:01:10.356000",
          "2022-05-08T00:01:10.356000",
          "2022-05-08T00:01:10.440000",
          "2022-05-08T00:01:10.440000",
          "2022-05-08T00:01:10.440000",
          "2022-05-08T00:01:10.440000",
          "2022-05-08T00:01:10.455000",
          "2022-05-08T00:01:10.455000",
          "2022-05-08T00:01:10.916000",
          "2022-05-08T00:01:10.916000",
          "2022-05-08T00:01:11.146000",
          "2022-05-08T00:01:11.146000",
          "2022-05-08T00:01:11.250000",
          "2022-05-08T00:01:11.250000",
          "2022-05-08T00:01:11.250000",
          "2022-05-08T00:01:11.605000",
          "2022-05-08T00:01:11.605000",
          "2022-05-08T00:01:11.908000",
          "2022-05-08T00:01:11.908000",
          "2022-05-08T00:01:11.908000",
          "2022-05-08T00:01:11.908000",
          "2022-05-08T00:01:11.923000",
          "2022-05-08T00:01:11.923000",
          "2022-05-08T00:01:11.935000",
          "2022-05-08T00:01:11.936000",
          "2022-05-08T00:01:11.952000",
          "2022-05-08T00:01:12.525999",
          "2022-05-08T00:01:12.525999",
          "2022-05-08T00:01:12.525999",
          "2022-05-08T00:01:12.525999",
          "2022-05-08T00:01:12.525999",
          "2022-05-08T00:01:12.525999",
          "2022-05-08T00:01:12.777000",
          "2022-05-08T00:01:12.777000",
          "2022-05-08T00:01:12.842000",
          "2022-05-08T00:01:12.842000",
          "2022-05-08T00:01:13.203000",
          "2022-05-08T00:01:13.203000",
          "2022-05-08T00:01:13.373000",
          "2022-05-08T00:01:13.373000",
          "2022-05-08T00:01:13.373000",
          "2022-05-08T00:01:13.373000",
          "2022-05-08T00:01:13.373000",
          "2022-05-08T00:01:13.373000",
          "2022-05-08T00:01:13.373000",
          "2022-05-08T00:01:13.373000",
          "2022-05-08T00:01:13.373000",
          "2022-05-08T00:01:13.373000",
          "2022-05-08T00:01:13.373000",
          "2022-05-08T00:01:13.373000",
          "2022-05-08T00:01:13.373000",
          "2022-05-08T00:01:13.373000",
          "2022-05-08T00:01:13.373000",
          "2022-05-08T00:01:13.373000",
          "2022-05-08T00:01:13.373000",
          "2022-05-08T00:01:13.373000",
          "2022-05-08T00:01:13.612000",
          "2022-05-08T00:01:13.612000",
          "2022-05-08T00:01:13.636000",
          "2022-05-08T00:01:13.636000",
          "2022-05-08T00:01:13.645000",
          "2022-05-08T00:01:13.663000",
          "2022-05-08T00:01:13.675000",
          "2022-05-08T00:01:13.718000",
          "2022-05-08T00:01:13.734000",
          "2022-05-08T00:01:13.772000",
          "2022-05-08T00:01:13.789000",
          "2022-05-08T00:01:13.802000",
          "2022-05-08T00:01:13.831000",
          "2022-05-08T00:01:13.831000",
          "2022-05-08T00:01:13.831000",
          "2022-05-08T00:01:13.831000",
          "2022-05-08T00:01:13.831000",
          "2022-05-08T00:01:13.831000",
          "2022-05-08T00:01:13.831000",
          "2022-05-08T00:01:13.831000",
          "2022-05-08T00:01:13.831000",
          "2022-05-08T00:01:13.842000",
          "2022-05-08T00:01:13.844000",
          "2022-05-08T00:01:13.847000",
          "2022-05-08T00:01:13.857000",
          "2022-05-08T00:01:13.857000",
          "2022-05-08T00:01:14.281999",
          "2022-05-08T00:01:14.281999",
          "2022-05-08T00:01:14.310000",
          "2022-05-08T00:01:15.082000",
          "2022-05-08T00:01:15.082000",
          "2022-05-08T00:01:15.387000",
          "2022-05-08T00:01:15.387000",
          "2022-05-08T00:01:15.414000",
          "2022-05-08T00:01:15.488000",
          "2022-05-08T00:01:15.488000",
          "2022-05-08T00:01:15.630000",
          "2022-05-08T00:01:15.630000",
          "2022-05-08T00:01:16.104000",
          "2022-05-08T00:01:16.104000",
          "2022-05-08T00:01:16.104000",
          "2022-05-08T00:01:16.104000",
          "2022-05-08T00:01:16.104000",
          "2022-05-08T00:01:16.104000",
          "2022-05-08T00:01:16.104000",
          "2022-05-08T00:01:16.104000",
          "2022-05-08T00:01:16.104000",
          "2022-05-08T00:01:16.104000",
          "2022-05-08T00:01:16.104000",
          "2022-05-08T00:01:16.104000",
          "2022-05-08T00:01:16.104000",
          "2022-05-08T00:01:16.104000",
          "2022-05-08T00:01:16.104000",
          "2022-05-08T00:01:16.122000",
          "2022-05-08T00:01:16.122000",
          "2022-05-08T00:01:16.122000",
          "2022-05-08T00:01:16.122000",
          "2022-05-08T00:01:16.122000",
          "2022-05-08T00:01:16.122000",
          "2022-05-08T00:01:16.122000",
          "2022-05-08T00:01:16.122000",
          "2022-05-08T00:01:16.122000",
          "2022-05-08T00:01:16.122000",
          "2022-05-08T00:01:16.122000",
          "2022-05-08T00:01:16.122000",
          "2022-05-08T00:01:16.122000",
          "2022-05-08T00:01:16.122000",
          "2022-05-08T00:01:16.122000",
          "2022-05-08T00:01:16.123000",
          "2022-05-08T00:01:16.123000",
          "2022-05-08T00:01:16.123000",
          "2022-05-08T00:01:16.123000",
          "2022-05-08T00:01:16.123000",
          "2022-05-08T00:01:16.151000",
          "2022-05-08T00:01:16.153000",
          "2022-05-08T00:01:16.160000",
          "2022-05-08T00:01:16.178000",
          "2022-05-08T00:01:16.178000",
          "2022-05-08T00:01:16.178000",
          "2022-05-08T00:01:16.190000",
          "2022-05-08T00:01:16.191000",
          "2022-05-08T00:01:16.232000",
          "2022-05-08T00:01:16.237000",
          "2022-05-08T00:01:16.247000",
          "2022-05-08T00:01:16.247000",
          "2022-05-08T00:01:17.477000",
          "2022-05-08T00:01:17.477000",
          "2022-05-08T00:01:17.647999",
          "2022-05-08T00:01:17.647999",
          "2022-05-08T00:01:17.657000",
          "2022-05-08T00:01:17.691999",
          "2022-05-08T00:01:17.727000",
          "2022-05-08T00:01:17.759000",
          "2022-05-08T00:01:17.765999",
          "2022-05-08T00:01:17.818000",
          "2022-05-08T00:01:17.818000",
          "2022-05-08T00:01:17.830999",
          "2022-05-08T00:01:17.860000",
          "2022-05-08T00:01:17.914000",
          "2022-05-08T00:01:17.914000",
          "2022-05-08T00:01:17.955000",
          "2022-05-08T00:01:17.970999",
          "2022-05-08T00:01:18.023000",
          "2022-05-08T00:01:18.023000",
          "2022-05-08T00:01:18.069000",
          "2022-05-08T00:01:18.096000",
          "2022-05-08T00:01:18.110000",
          "2022-05-08T00:01:18.135000",
          "2022-05-08T00:01:18.217000",
          "2022-05-08T00:01:18.217000",
          "2022-05-08T00:01:18.794000",
          "2022-05-08T00:01:18.794000",
          "2022-05-08T00:01:19.155000",
          "2022-05-08T00:01:19.155000",
          "2022-05-08T00:01:19.168000",
          "2022-05-08T00:01:19.217000",
          "2022-05-08T00:01:19.266000",
          "2022-05-08T00:01:19.298000",
          "2022-05-08T00:01:19.309000",
          "2022-05-08T00:01:19.357000",
          "2022-05-08T00:01:19.367000",
          "2022-05-08T00:01:19.402000",
          "2022-05-08T00:01:19.454000",
          "2022-05-08T00:01:19.454000",
          "2022-05-08T00:01:19.512000",
          "2022-05-08T00:01:19.512000",
          "2022-05-08T00:01:19.520000",
          "2022-05-08T00:01:19.533000",
          "2022-05-08T00:01:19.543000",
          "2022-05-08T00:01:19.556000",
          "2022-05-08T00:01:20.842000",
          "2022-05-08T00:01:20.842000",
          "2022-05-08T00:01:21.000000",
          "2022-05-08T00:01:21.000000",
          "2022-05-08T00:01:21.088000",
          "2022-05-08T00:01:21.088000",
          "2022-05-08T00:01:21.186000",
          "2022-05-08T00:01:21.186000",
          "2022-05-08T00:01:21.186000",
          "2022-05-08T00:01:21.296000",
          "2022-05-08T00:01:21.296000",
          "2022-05-08T00:01:21.362000",
          "2022-05-08T00:01:21.362000",
          "2022-05-08T00:01:21.450000",
          "2022-05-08T00:01:21.450000",
          "2022-05-08T00:01:21.719000",
          "2022-05-08T00:01:21.719000",
          "2022-05-08T00:01:22.599000",
          "2022-05-08T00:01:22.599000",
          "2022-05-08T00:01:22.599000",
          "2022-05-08T00:01:23.127000",
          "2022-05-08T00:01:23.127000",
          "2022-05-08T00:01:23.396000",
          "2022-05-08T00:01:23.396000",
          "2022-05-08T00:01:23.396000",
          "2022-05-08T00:01:23.396000",
          "2022-05-08T00:01:23.412000",
          "2022-05-08T00:01:23.502000",
          "2022-05-08T00:01:23.502000",
          "2022-05-08T00:01:23.760999",
          "2022-05-08T00:01:23.760999",
          "2022-05-08T00:01:23.772000",
          "2022-05-08T00:01:23.772000",
          "2022-05-08T00:01:23.823999",
          "2022-05-08T00:01:23.823999",
          "2022-05-08T00:01:23.823999",
          "2022-05-08T00:01:24.179000",
          "2022-05-08T00:01:24.179000",
          "2022-05-08T00:01:24.179000",
          "2022-05-08T00:01:24.179000",
          "2022-05-08T00:01:24.179000",
          "2022-05-08T00:01:24.190000",
          "2022-05-08T00:01:24.470000",
          "2022-05-08T00:01:24.470000",
          "2022-05-08T00:01:24.470000",
          "2022-05-08T00:01:24.470000",
          "2022-05-08T00:01:24.470000",
          "2022-05-08T00:01:24.470000",
          "2022-05-08T00:01:24.470000",
          "2022-05-08T00:01:24.470000",
          "2022-05-08T00:01:24.484000",
          "2022-05-08T00:01:25.023999",
          "2022-05-08T00:01:25.023999",
          "2022-05-08T00:01:25.023999",
          "2022-05-08T00:01:25.023999",
          "2022-05-08T00:01:25.023999",
          "2022-05-08T00:01:25.023999",
          "2022-05-08T00:01:25.023999",
          "2022-05-08T00:01:25.023999",
          "2022-05-08T00:01:25.023999",
          "2022-05-08T00:01:25.023999",
          "2022-05-08T00:01:25.023999",
          "2022-05-08T00:01:25.075999",
          "2022-05-08T00:01:25.075999",
          "2022-05-08T00:01:25.120999",
          "2022-05-08T00:01:25.142999",
          "2022-05-08T00:01:25.152999",
          "2022-05-08T00:01:25.152999",
          "2022-05-08T00:01:25.166000",
          "2022-05-08T00:01:25.177000",
          "2022-05-08T00:01:25.188000",
          "2022-05-08T00:01:25.237000",
          "2022-05-08T00:01:25.237000",
          "2022-05-08T00:01:25.237000",
          "2022-05-08T00:01:25.237000",
          "2022-05-08T00:01:25.237000",
          "2022-05-08T00:01:25.251000",
          "2022-05-08T00:01:25.263000",
          "2022-05-08T00:01:25.266000",
          "2022-05-08T00:01:25.572000",
          "2022-05-08T00:01:25.572000",
          "2022-05-08T00:01:25.971999",
          "2022-05-08T00:01:25.971999",
          "2022-05-08T00:01:26.172000",
          "2022-05-08T00:01:26.172000",
          "2022-05-08T00:01:26.355000",
          "2022-05-08T00:01:26.355000",
          "2022-05-08T00:01:26.355000",
          "2022-05-08T00:01:26.355000",
          "2022-05-08T00:01:26.355000",
          "2022-05-08T00:01:26.355000",
          "2022-05-08T00:01:26.355000",
          "2022-05-08T00:01:26.355000",
          "2022-05-08T00:01:26.355000",
          "2022-05-08T00:01:26.355000",
          "2022-05-08T00:01:26.355000",
          "2022-05-08T00:01:26.366999",
          "2022-05-08T00:01:26.379000",
          "2022-05-08T00:01:26.424000",
          "2022-05-08T00:01:26.442000",
          "2022-05-08T00:01:26.482000",
          "2022-05-08T00:01:26.482000",
          "2022-05-08T00:01:26.536000",
          "2022-05-08T00:01:26.536000",
          "2022-05-08T00:01:26.710000",
          "2022-05-08T00:01:26.710000",
          "2022-05-08T00:01:26.973000",
          "2022-05-08T00:01:26.973000",
          "2022-05-08T00:01:28.391000",
          "2022-05-08T00:01:28.391000",
          "2022-05-08T00:01:28.518999",
          "2022-05-08T00:01:28.518999",
          "2022-05-08T00:01:28.959000",
          "2022-05-08T00:01:28.959000",
          "2022-05-08T00:01:29.006000",
          "2022-05-08T00:01:29.231000",
          "2022-05-08T00:01:29.231000",
          "2022-05-08T00:01:29.231000",
          "2022-05-08T00:01:29.316000",
          "2022-05-08T00:01:29.316000",
          "2022-05-08T00:01:29.449000",
          "2022-05-08T00:01:29.449000",
          "2022-05-08T00:01:29.759000",
          "2022-05-08T00:01:29.759000",
          "2022-05-08T00:01:29.823000",
          "2022-05-08T00:01:29.823000",
          "2022-05-08T00:01:29.823000",
          "2022-05-08T00:01:30.189000",
          "2022-05-08T00:01:30.189000",
          "2022-05-08T00:01:30.599000",
          "2022-05-08T00:01:30.599000",
          "2022-05-08T00:01:30.802000",
          "2022-05-08T00:01:30.802000",
          "2022-05-08T00:01:30.802000",
          "2022-05-08T00:01:31.056000",
          "2022-05-08T00:01:31.056000",
          "2022-05-08T00:01:31.266000",
          "2022-05-08T00:01:31.266000",
          "2022-05-08T00:01:31.358000",
          "2022-05-08T00:01:31.358000",
          "2022-05-08T00:01:31.358000",
          "2022-05-08T00:01:31.358000",
          "2022-05-08T00:01:31.358000",
          "2022-05-08T00:01:31.358000",
          "2022-05-08T00:01:31.358000",
          "2022-05-08T00:01:31.358000",
          "2022-05-08T00:01:31.399999",
          "2022-05-08T00:01:31.495000",
          "2022-05-08T00:01:31.495000",
          "2022-05-08T00:01:31.561000",
          "2022-05-08T00:01:31.561000",
          "2022-05-08T00:01:31.602999",
          "2022-05-08T00:01:31.777000",
          "2022-05-08T00:01:31.777000",
          "2022-05-08T00:01:31.777000",
          "2022-05-08T00:01:31.777000",
          "2022-05-08T00:01:31.777000",
          "2022-05-08T00:01:31.777000",
          "2022-05-08T00:01:31.777000",
          "2022-05-08T00:01:31.777000",
          "2022-05-08T00:01:31.777000",
          "2022-05-08T00:01:31.777000",
          "2022-05-08T00:01:31.779000",
          "2022-05-08T00:01:31.779000",
          "2022-05-08T00:01:31.779000",
          "2022-05-08T00:01:31.779000",
          "2022-05-08T00:01:31.779000",
          "2022-05-08T00:01:31.779000",
          "2022-05-08T00:01:31.779000",
          "2022-05-08T00:01:31.779000",
          "2022-05-08T00:01:31.779000",
          "2022-05-08T00:01:31.779000",
          "2022-05-08T00:01:31.786000",
          "2022-05-08T00:01:31.814000",
          "2022-05-08T00:01:31.819000",
          "2022-05-08T00:01:31.822000",
          "2022-05-08T00:01:31.822000",
          "2022-05-08T00:01:31.823000",
          "2022-05-08T00:01:31.823000",
          "2022-05-08T00:01:31.823000",
          "2022-05-08T00:01:31.823000",
          "2022-05-08T00:01:31.823000",
          "2022-05-08T00:01:31.823000",
          "2022-05-08T00:01:31.823000",
          "2022-05-08T00:01:31.823000",
          "2022-05-08T00:01:31.823000",
          "2022-05-08T00:01:31.823000",
          "2022-05-08T00:01:31.823000",
          "2022-05-08T00:01:31.823000",
          "2022-05-08T00:01:31.823000",
          "2022-05-08T00:01:31.823000",
          "2022-05-08T00:01:31.823000",
          "2022-05-08T00:01:31.823000",
          "2022-05-08T00:01:31.823000",
          "2022-05-08T00:01:31.823000",
          "2022-05-08T00:01:31.823000",
          "2022-05-08T00:01:31.823000",
          "2022-05-08T00:01:31.858000",
          "2022-05-08T00:01:31.860000",
          "2022-05-08T00:01:31.860000",
          "2022-05-08T00:01:31.860000",
          "2022-05-08T00:01:31.862000",
          "2022-05-08T00:01:31.862000",
          "2022-05-08T00:01:31.862000",
          "2022-05-08T00:01:31.862000",
          "2022-05-08T00:01:31.864000",
          "2022-05-08T00:01:31.871000",
          "2022-05-08T00:01:31.871000",
          "2022-05-08T00:01:31.871000",
          "2022-05-08T00:01:31.871000",
          "2022-05-08T00:01:31.871000",
          "2022-05-08T00:01:31.871000",
          "2022-05-08T00:01:31.871000",
          "2022-05-08T00:01:31.871000",
          "2022-05-08T00:01:31.871000",
          "2022-05-08T00:01:31.871000",
          "2022-05-08T00:01:31.871000",
          "2022-05-08T00:01:31.871000",
          "2022-05-08T00:01:31.871000",
          "2022-05-08T00:01:31.873000",
          "2022-05-08T00:01:31.873000",
          "2022-05-08T00:01:31.888000",
          "2022-05-08T00:01:31.907000",
          "2022-05-08T00:01:31.923000",
          "2022-05-08T00:01:31.923000",
          "2022-05-08T00:01:31.952999",
          "2022-05-08T00:01:31.962000",
          "2022-05-08T00:01:31.978999",
          "2022-05-08T00:01:32.253000",
          "2022-05-08T00:01:32.253000",
          "2022-05-08T00:01:32.356000",
          "2022-05-08T00:01:32.356000",
          "2022-05-08T00:01:32.576000",
          "2022-05-08T00:01:32.576000",
          "2022-05-08T00:01:32.673000",
          "2022-05-08T00:01:32.673000",
          "2022-05-08T00:01:32.673000",
          "2022-05-08T00:01:32.908000",
          "2022-05-08T00:01:32.908000",
          "2022-05-08T00:01:32.982000",
          "2022-05-08T00:01:32.982000",
          "2022-05-08T00:01:33.177000",
          "2022-05-08T00:01:33.177000",
          "2022-05-08T00:01:33.177000",
          "2022-05-08T00:01:33.177000",
          "2022-05-08T00:01:33.187999",
          "2022-05-08T00:01:33.360999",
          "2022-05-08T00:01:33.360999",
          "2022-05-08T00:01:33.462000",
          "2022-05-08T00:01:33.462000",
          "2022-05-08T00:01:33.462000",
          "2022-05-08T00:01:33.462000",
          "2022-05-08T00:01:33.462000",
          "2022-05-08T00:01:33.462000",
          "2022-05-08T00:01:33.462000",
          "2022-05-08T00:01:33.462000",
          "2022-05-08T00:01:33.462000",
          "2022-05-08T00:01:33.474999",
          "2022-05-08T00:01:33.793000",
          "2022-05-08T00:01:33.793000",
          "2022-05-08T00:01:33.793000",
          "2022-05-08T00:01:33.793000",
          "2022-05-08T00:01:33.793000",
          "2022-05-08T00:01:33.802999",
          "2022-05-08T00:01:34.027000",
          "2022-05-08T00:01:34.027000",
          "2022-05-08T00:01:34.027000",
          "2022-05-08T00:01:34.027000",
          "2022-05-08T00:01:34.027000",
          "2022-05-08T00:01:34.027000",
          "2022-05-08T00:01:34.027000",
          "2022-05-08T00:01:34.029000",
          "2022-05-08T00:01:34.074000",
          "2022-05-08T00:01:34.090000",
          "2022-05-08T00:01:34.090000",
          "2022-05-08T00:01:34.576000",
          "2022-05-08T00:01:34.576000",
          "2022-05-08T00:01:34.576000",
          "2022-05-08T00:01:34.870000",
          "2022-05-08T00:01:34.870000",
          "2022-05-08T00:01:35.058000",
          "2022-05-08T00:01:35.058000",
          "2022-05-08T00:01:35.253000",
          "2022-05-08T00:01:35.253000",
          "2022-05-08T00:01:35.450000",
          "2022-05-08T00:01:35.450000",
          "2022-05-08T00:01:35.712000",
          "2022-05-08T00:01:35.712000",
          "2022-05-08T00:01:36.045000",
          "2022-05-08T00:01:36.045000",
          "2022-05-08T00:01:36.107000",
          "2022-05-08T00:01:36.107000",
          "2022-05-08T00:01:36.149999",
          "2022-05-08T00:01:36.248000",
          "2022-05-08T00:01:36.248000",
          "2022-05-08T00:01:36.274999",
          "2022-05-08T00:01:36.274999",
          "2022-05-08T00:01:36.274999",
          "2022-05-08T00:01:36.274999",
          "2022-05-08T00:01:36.274999",
          "2022-05-08T00:01:36.274999",
          "2022-05-08T00:01:36.274999",
          "2022-05-08T00:01:36.274999",
          "2022-05-08T00:01:36.274999",
          "2022-05-08T00:01:36.274999",
          "2022-05-08T00:01:36.274999",
          "2022-05-08T00:01:36.274999",
          "2022-05-08T00:01:36.274999",
          "2022-05-08T00:01:36.274999",
          "2022-05-08T00:01:36.274999",
          "2022-05-08T00:01:36.286999",
          "2022-05-08T00:01:36.453000",
          "2022-05-08T00:01:36.453000",
          "2022-05-08T00:01:36.453000",
          "2022-05-08T00:01:36.462000",
          "2022-05-08T00:01:36.462000",
          "2022-05-08T00:01:36.462000",
          "2022-05-08T00:01:36.462000",
          "2022-05-08T00:01:36.462000",
          "2022-05-08T00:01:36.462000",
          "2022-05-08T00:01:36.462000",
          "2022-05-08T00:01:36.462000",
          "2022-05-08T00:01:36.462000",
          "2022-05-08T00:01:36.462000",
          "2022-05-08T00:01:36.462000",
          "2022-05-08T00:01:36.462000",
          "2022-05-08T00:01:36.466000",
          "2022-05-08T00:01:36.466000",
          "2022-05-08T00:01:36.466000",
          "2022-05-08T00:01:36.466000",
          "2022-05-08T00:01:36.466000",
          "2022-05-08T00:01:36.466000",
          "2022-05-08T00:01:36.466000",
          "2022-05-08T00:01:36.466000",
          "2022-05-08T00:01:36.466000",
          "2022-05-08T00:01:36.466000",
          "2022-05-08T00:01:36.466000",
          "2022-05-08T00:01:36.466000",
          "2022-05-08T00:01:36.466000",
          "2022-05-08T00:01:36.466000",
          "2022-05-08T00:01:36.466000",
          "2022-05-08T00:01:36.466000",
          "2022-05-08T00:01:36.466000",
          "2022-05-08T00:01:36.466000",
          "2022-05-08T00:01:36.466000",
          "2022-05-08T00:01:36.466000",
          "2022-05-08T00:01:36.466000",
          "2022-05-08T00:01:36.466000",
          "2022-05-08T00:01:36.466000",
          "2022-05-08T00:01:36.466000",
          "2022-05-08T00:01:36.472000",
          "2022-05-08T00:01:36.472000",
          "2022-05-08T00:01:36.473000",
          "2022-05-08T00:01:36.473000",
          "2022-05-08T00:01:36.473000",
          "2022-05-08T00:01:36.473000",
          "2022-05-08T00:01:36.473000",
          "2022-05-08T00:01:36.473000",
          "2022-05-08T00:01:36.473999",
          "2022-05-08T00:01:36.474999",
          "2022-05-08T00:01:36.474999",
          "2022-05-08T00:01:36.474999",
          "2022-05-08T00:01:36.474999",
          "2022-05-08T00:01:36.474999",
          "2022-05-08T00:01:36.474999",
          "2022-05-08T00:01:36.474999",
          "2022-05-08T00:01:36.474999",
          "2022-05-08T00:01:36.474999",
          "2022-05-08T00:01:36.474999",
          "2022-05-08T00:01:36.474999",
          "2022-05-08T00:01:36.525999",
          "2022-05-08T00:01:36.525999",
          "2022-05-08T00:01:36.532999",
          "2022-05-08T00:01:36.532999",
          "2022-05-08T00:01:36.543000",
          "2022-05-08T00:01:36.546000",
          "2022-05-08T00:01:36.551999",
          "2022-05-08T00:01:36.551999",
          "2022-05-08T00:01:36.551999",
          "2022-05-08T00:01:36.551999",
          "2022-05-08T00:01:36.551999",
          "2022-05-08T00:01:36.551999",
          "2022-05-08T00:01:36.561999",
          "2022-05-08T00:01:36.561999",
          "2022-05-08T00:01:36.569000",
          "2022-05-08T00:01:36.569000",
          "2022-05-08T00:01:36.569000",
          "2022-05-08T00:01:36.569000",
          "2022-05-08T00:01:36.569000",
          "2022-05-08T00:01:36.569000",
          "2022-05-08T00:01:36.602999",
          "2022-05-08T00:01:36.617000",
          "2022-05-08T00:01:36.686000",
          "2022-05-08T00:01:36.686000",
          "2022-05-08T00:01:36.712000",
          "2022-05-08T00:01:36.712000",
          "2022-05-08T00:01:36.712000",
          "2022-05-08T00:01:36.728999",
          "2022-05-08T00:01:36.735999",
          "2022-05-08T00:01:36.783000",
          "2022-05-08T00:01:36.849999",
          "2022-05-08T00:01:36.849999",
          "2022-05-08T00:01:36.853000",
          "2022-05-08T00:01:36.867999",
          "2022-05-08T00:01:36.867999",
          "2022-05-08T00:01:36.910000",
          "2022-05-08T00:01:36.945999",
          "2022-05-08T00:01:36.945999",
          "2022-05-08T00:01:36.945999",
          "2022-05-08T00:01:36.945999",
          "2022-05-08T00:01:36.955000",
          "2022-05-08T00:01:36.985999",
          "2022-05-08T00:01:36.999000",
          "2022-05-08T00:01:37.025000",
          "2022-05-08T00:01:37.068000",
          "2022-05-08T00:01:37.073000",
          "2022-05-08T00:01:37.105000",
          "2022-05-08T00:01:37.144000",
          "2022-05-08T00:01:37.177000",
          "2022-05-08T00:01:37.220000",
          "2022-05-08T00:01:37.249000",
          "2022-05-08T00:01:37.261000",
          "2022-05-08T00:01:37.285000",
          "2022-05-08T00:01:37.316000",
          "2022-05-08T00:01:37.357000",
          "2022-05-08T00:01:38.937000",
          "2022-05-08T00:01:38.937000",
          "2022-05-08T00:01:38.944000",
          "2022-05-08T00:01:39.125000",
          "2022-05-08T00:01:39.125000",
          "2022-05-08T00:01:39.125000",
          "2022-05-08T00:01:39.125000",
          "2022-05-08T00:01:39.125000",
          "2022-05-08T00:01:39.125000",
          "2022-05-08T00:01:39.125000",
          "2022-05-08T00:01:39.125000",
          "2022-05-08T00:01:39.125000",
          "2022-05-08T00:01:39.125000",
          "2022-05-08T00:01:39.125000",
          "2022-05-08T00:01:39.125000",
          "2022-05-08T00:01:39.125000",
          "2022-05-08T00:01:39.125000",
          "2022-05-08T00:01:39.125000",
          "2022-05-08T00:01:39.125000",
          "2022-05-08T00:01:39.134000",
          "2022-05-08T00:01:39.160999",
          "2022-05-08T00:01:39.328000",
          "2022-05-08T00:01:39.328000",
          "2022-05-08T00:01:39.328000",
          "2022-05-08T00:01:39.328000",
          "2022-05-08T00:01:39.328000",
          "2022-05-08T00:01:39.328000",
          "2022-05-08T00:01:39.328000",
          "2022-05-08T00:01:39.339000",
          "2022-05-08T00:01:39.351000",
          "2022-05-08T00:01:39.362000",
          "2022-05-08T00:01:39.373000",
          "2022-05-08T00:01:39.373000",
          "2022-05-08T00:01:39.373000",
          "2022-05-08T00:01:39.387000",
          "2022-05-08T00:01:39.668999",
          "2022-05-08T00:01:39.668999",
          "2022-05-08T00:01:41.566999",
          "2022-05-08T00:01:41.566999",
          "2022-05-08T00:01:41.623000",
          "2022-05-08T00:01:41.623000",
          "2022-05-08T00:01:41.623000",
          "2022-05-08T00:01:41.623000",
          "2022-05-08T00:01:41.623000",
          "2022-05-08T00:01:41.634000",
          "2022-05-08T00:01:41.646000",
          "2022-05-08T00:01:41.657000",
          "2022-05-08T00:01:41.668000",
          "2022-05-08T00:01:41.677999",
          "2022-05-08T00:01:42.628000",
          "2022-05-08T00:01:42.628000",
          "2022-05-08T00:01:42.998000",
          "2022-05-08T00:01:42.998000",
          "2022-05-08T00:01:43.735000",
          "2022-05-08T00:01:43.735000",
          "2022-05-08T00:01:43.945000",
          "2022-05-08T00:01:43.945000",
          "2022-05-08T00:01:43.945000",
          "2022-05-08T00:01:44.597000",
          "2022-05-08T00:01:44.597000",
          "2022-05-08T00:01:44.743999",
          "2022-05-08T00:01:44.743999",
          "2022-05-08T00:01:45.020000",
          "2022-05-08T00:01:45.020000",
          "2022-05-08T00:01:45.020000",
          "2022-05-08T00:01:45.020000",
          "2022-05-08T00:01:45.035000",
          "2022-05-08T00:01:45.054000",
          "2022-05-08T00:01:45.089000",
          "2022-05-08T00:01:45.513000",
          "2022-05-08T00:01:45.513000",
          "2022-05-08T00:01:46.519000",
          "2022-05-08T00:01:46.519000",
          "2022-05-08T00:01:47.138000",
          "2022-05-08T00:01:47.138000",
          "2022-05-08T00:01:47.138000",
          "2022-05-08T00:01:47.142999",
          "2022-05-08T00:01:47.148000",
          "2022-05-08T00:01:49.303000",
          "2022-05-08T00:01:49.303000",
          "2022-05-08T00:01:49.303000",
          "2022-05-08T00:01:49.795999",
          "2022-05-08T00:01:49.795999",
          "2022-05-08T00:01:50.132000",
          "2022-05-08T00:01:50.132000",
          "2022-05-08T00:01:50.132000",
          "2022-05-08T00:01:50.134000",
          "2022-05-08T00:01:50.134000",
          "2022-05-08T00:01:50.134000",
          "2022-05-08T00:01:50.134000",
          "2022-05-08T00:01:50.134000",
          "2022-05-08T00:01:50.160000"
         ],
         "y": {
          "dtype": "float64",
          "shape": [
           927
          ],
          "value": {}
         }
        },
        {
         "marker": {
          "color": "green",
          "opacity": 0.2,
          "size": {
           "dtype": "float64",
           "shape": [
            1216
           ],
           "value": {}
          }
         },
         "mode": "markers",
         "name": "<b style=\"color:sandybrown\">[R]</b> Buy <i style=\"color:#fc9944\">~50ms</i>",
         "type": "scattergl",
         "uid": "9f3df4cf-9070-4331-9583-022fa75d330c",
         "x": [
          "2022-05-08T00:01:00.335000",
          "2022-05-08T00:01:00.335000",
          "2022-05-08T00:01:00.668000",
          "2022-05-08T00:01:00.668000",
          "2022-05-08T00:01:00.668000",
          "2022-05-08T00:01:00.668000",
          "2022-05-08T00:01:00.678000",
          "2022-05-08T00:01:00.680000",
          "2022-05-08T00:01:00.689000",
          "2022-05-08T00:01:00.689000",
          "2022-05-08T00:01:00.689000",
          "2022-05-08T00:01:00.689000",
          "2022-05-08T00:01:00.689000",
          "2022-05-08T00:01:00.689000",
          "2022-05-08T00:01:00.689000",
          "2022-05-08T00:01:00.689000",
          "2022-05-08T00:01:00.689000",
          "2022-05-08T00:01:00.689000",
          "2022-05-08T00:01:00.689000",
          "2022-05-08T00:01:00.689000",
          "2022-05-08T00:01:00.689000",
          "2022-05-08T00:01:00.703000",
          "2022-05-08T00:01:00.706000",
          "2022-05-08T00:01:00.706000",
          "2022-05-08T00:01:00.721000",
          "2022-05-08T00:01:00.737000",
          "2022-05-08T00:01:00.991000",
          "2022-05-08T00:01:02.376000",
          "2022-05-08T00:01:03.452000",
          "2022-05-08T00:01:03.621000",
          "2022-05-08T00:01:05.738000",
          "2022-05-08T00:01:05.738000",
          "2022-05-08T00:01:05.755000",
          "2022-05-08T00:01:05.755000",
          "2022-05-08T00:01:05.755000",
          "2022-05-08T00:01:05.755000",
          "2022-05-08T00:01:05.755000",
          "2022-05-08T00:01:05.755000",
          "2022-05-08T00:01:05.755000",
          "2022-05-08T00:01:05.755000",
          "2022-05-08T00:01:05.755000",
          "2022-05-08T00:01:05.755000",
          "2022-05-08T00:01:05.755000",
          "2022-05-08T00:01:05.755000",
          "2022-05-08T00:01:05.755000",
          "2022-05-08T00:01:05.755000",
          "2022-05-08T00:01:05.755000",
          "2022-05-08T00:01:05.755000",
          "2022-05-08T00:01:05.767000",
          "2022-05-08T00:01:05.767000",
          "2022-05-08T00:01:06.349999",
          "2022-05-08T00:01:06.349999",
          "2022-05-08T00:01:06.349999",
          "2022-05-08T00:01:06.349999",
          "2022-05-08T00:01:06.349999",
          "2022-05-08T00:01:06.360999",
          "2022-05-08T00:01:06.360999",
          "2022-05-08T00:01:06.375999",
          "2022-05-08T00:01:06.388999",
          "2022-05-08T00:01:06.391000",
          "2022-05-08T00:01:06.403999",
          "2022-05-08T00:01:06.421999",
          "2022-05-08T00:01:07.042999",
          "2022-05-08T00:01:07.042999",
          "2022-05-08T00:01:07.042999",
          "2022-05-08T00:01:07.042999",
          "2022-05-08T00:01:07.042999",
          "2022-05-08T00:01:07.042999",
          "2022-05-08T00:01:07.042999",
          "2022-05-08T00:01:07.042999",
          "2022-05-08T00:01:07.042999",
          "2022-05-08T00:01:07.042999",
          "2022-05-08T00:01:07.042999",
          "2022-05-08T00:01:07.042999",
          "2022-05-08T00:01:07.042999",
          "2022-05-08T00:01:07.042999",
          "2022-05-08T00:01:07.042999",
          "2022-05-08T00:01:07.042999",
          "2022-05-08T00:01:07.042999",
          "2022-05-08T00:01:07.042999",
          "2022-05-08T00:01:07.044000",
          "2022-05-08T00:01:07.044000",
          "2022-05-08T00:01:07.044000",
          "2022-05-08T00:01:07.044000",
          "2022-05-08T00:01:07.044000",
          "2022-05-08T00:01:07.045000",
          "2022-05-08T00:01:07.045000",
          "2022-05-08T00:01:07.045000",
          "2022-05-08T00:01:07.045000",
          "2022-05-08T00:01:07.045000",
          "2022-05-08T00:01:07.045000",
          "2022-05-08T00:01:07.045000",
          "2022-05-08T00:01:07.045000",
          "2022-05-08T00:01:07.049999",
          "2022-05-08T00:01:07.049999",
          "2022-05-08T00:01:07.049999",
          "2022-05-08T00:01:07.049999",
          "2022-05-08T00:01:07.049999",
          "2022-05-08T00:01:07.049999",
          "2022-05-08T00:01:07.056000",
          "2022-05-08T00:01:07.056000",
          "2022-05-08T00:01:07.056000",
          "2022-05-08T00:01:07.064999",
          "2022-05-08T00:01:07.071000",
          "2022-05-08T00:01:07.071000",
          "2022-05-08T00:01:07.071000",
          "2022-05-08T00:01:07.105000",
          "2022-05-08T00:01:07.105000",
          "2022-05-08T00:01:07.107000",
          "2022-05-08T00:01:07.107000",
          "2022-05-08T00:01:07.116000",
          "2022-05-08T00:01:07.128000",
          "2022-05-08T00:01:07.128000",
          "2022-05-08T00:01:07.128000",
          "2022-05-08T00:01:07.158000",
          "2022-05-08T00:01:07.199000",
          "2022-05-08T00:01:07.199000",
          "2022-05-08T00:01:07.199000",
          "2022-05-08T00:01:07.199000",
          "2022-05-08T00:01:07.199000",
          "2022-05-08T00:01:07.199000",
          "2022-05-08T00:01:07.199000",
          "2022-05-08T00:01:07.199000",
          "2022-05-08T00:01:07.199000",
          "2022-05-08T00:01:07.199000",
          "2022-05-08T00:01:07.199000",
          "2022-05-08T00:01:07.199000",
          "2022-05-08T00:01:07.204999",
          "2022-05-08T00:01:07.204999",
          "2022-05-08T00:01:07.222000",
          "2022-05-08T00:01:07.222000",
          "2022-05-08T00:01:07.362999",
          "2022-05-08T00:01:07.369000",
          "2022-05-08T00:01:07.374000",
          "2022-05-08T00:01:07.377000",
          "2022-05-08T00:01:07.473999",
          "2022-05-08T00:01:07.519000",
          "2022-05-08T00:01:07.536000",
          "2022-05-08T00:01:07.538000",
          "2022-05-08T00:01:07.571000",
          "2022-05-08T00:01:07.594000",
          "2022-05-08T00:01:07.617000",
          "2022-05-08T00:01:07.627000",
          "2022-05-08T00:01:07.631999",
          "2022-05-08T00:01:07.639000",
          "2022-05-08T00:01:07.667000",
          "2022-05-08T00:01:07.667000",
          "2022-05-08T00:01:07.690000",
          "2022-05-08T00:01:07.690000",
          "2022-05-08T00:01:07.712000",
          "2022-05-08T00:01:07.720000",
          "2022-05-08T00:01:07.735000",
          "2022-05-08T00:01:07.768000",
          "2022-05-08T00:01:07.795000",
          "2022-05-08T00:01:07.822000",
          "2022-05-08T00:01:07.825000",
          "2022-05-08T00:01:07.843000",
          "2022-05-08T00:01:07.849999",
          "2022-05-08T00:01:07.867000",
          "2022-05-08T00:01:07.903000",
          "2022-05-08T00:01:07.904999",
          "2022-05-08T00:01:07.930999",
          "2022-05-08T00:01:07.937999",
          "2022-05-08T00:01:07.977000",
          "2022-05-08T00:01:07.985000",
          "2022-05-08T00:01:07.998000",
          "2022-05-08T00:01:07.998000",
          "2022-05-08T00:01:07.998000",
          "2022-05-08T00:01:08.020000",
          "2022-05-08T00:01:08.030000",
          "2022-05-08T00:01:08.030000",
          "2022-05-08T00:01:08.066000",
          "2022-05-08T00:01:08.124000",
          "2022-05-08T00:01:08.188000",
          "2022-05-08T00:01:08.223000",
          "2022-05-08T00:01:08.354000",
          "2022-05-08T00:01:08.354000",
          "2022-05-08T00:01:08.354000",
          "2022-05-08T00:01:08.354000",
          "2022-05-08T00:01:08.354000",
          "2022-05-08T00:01:08.354000",
          "2022-05-08T00:01:08.354000",
          "2022-05-08T00:01:08.354000",
          "2022-05-08T00:01:08.354000",
          "2022-05-08T00:01:08.354000",
          "2022-05-08T00:01:08.354000",
          "2022-05-08T00:01:08.354000",
          "2022-05-08T00:01:08.354000",
          "2022-05-08T00:01:08.354000",
          "2022-05-08T00:01:08.356000",
          "2022-05-08T00:01:08.356000",
          "2022-05-08T00:01:08.356000",
          "2022-05-08T00:01:08.356000",
          "2022-05-08T00:01:08.356000",
          "2022-05-08T00:01:08.356000",
          "2022-05-08T00:01:08.356000",
          "2022-05-08T00:01:08.356000",
          "2022-05-08T00:01:08.356000",
          "2022-05-08T00:01:08.356000",
          "2022-05-08T00:01:08.356000",
          "2022-05-08T00:01:08.375000",
          "2022-05-08T00:01:09.348999",
          "2022-05-08T00:01:10.107000",
          "2022-05-08T00:01:10.108000",
          "2022-05-08T00:01:10.946000",
          "2022-05-08T00:01:11.024000",
          "2022-05-08T00:01:11.024000",
          "2022-05-08T00:01:11.024000",
          "2022-05-08T00:01:11.024000",
          "2022-05-08T00:01:11.026000",
          "2022-05-08T00:01:11.026000",
          "2022-05-08T00:01:11.026000",
          "2022-05-08T00:01:11.026000",
          "2022-05-08T00:01:11.026000",
          "2022-05-08T00:01:11.026000",
          "2022-05-08T00:01:11.026000",
          "2022-05-08T00:01:11.026000",
          "2022-05-08T00:01:11.026000",
          "2022-05-08T00:01:11.026000",
          "2022-05-08T00:01:11.026000",
          "2022-05-08T00:01:11.026000",
          "2022-05-08T00:01:11.026000",
          "2022-05-08T00:01:11.026000",
          "2022-05-08T00:01:11.026000",
          "2022-05-08T00:01:11.026000",
          "2022-05-08T00:01:11.086000",
          "2022-05-08T00:01:11.086000",
          "2022-05-08T00:01:11.972000",
          "2022-05-08T00:01:11.972000",
          "2022-05-08T00:01:11.972000",
          "2022-05-08T00:01:11.972000",
          "2022-05-08T00:01:11.972000",
          "2022-05-08T00:01:11.972000",
          "2022-05-08T00:01:11.972000",
          "2022-05-08T00:01:11.972000",
          "2022-05-08T00:01:11.972000",
          "2022-05-08T00:01:11.972000",
          "2022-05-08T00:01:11.972000",
          "2022-05-08T00:01:11.972000",
          "2022-05-08T00:01:11.972000",
          "2022-05-08T00:01:11.972000",
          "2022-05-08T00:01:11.972000",
          "2022-05-08T00:01:11.972000",
          "2022-05-08T00:01:11.972000",
          "2022-05-08T00:01:11.972000",
          "2022-05-08T00:01:11.972000",
          "2022-05-08T00:01:11.972000",
          "2022-05-08T00:01:11.972000",
          "2022-05-08T00:01:11.972000",
          "2022-05-08T00:01:11.972000",
          "2022-05-08T00:01:11.972000",
          "2022-05-08T00:01:11.972000",
          "2022-05-08T00:01:11.972000",
          "2022-05-08T00:01:11.972000",
          "2022-05-08T00:01:11.973000",
          "2022-05-08T00:01:11.987000",
          "2022-05-08T00:01:11.989000",
          "2022-05-08T00:01:12.007000",
          "2022-05-08T00:01:12.396999",
          "2022-05-08T00:01:12.945000",
          "2022-05-08T00:01:13.757000",
          "2022-05-08T00:01:13.758000",
          "2022-05-08T00:01:13.758000",
          "2022-05-08T00:01:13.799000",
          "2022-05-08T00:01:13.799000",
          "2022-05-08T00:01:13.819000",
          "2022-05-08T00:01:13.929000",
          "2022-05-08T00:01:14.252999",
          "2022-05-08T00:01:14.252999",
          "2022-05-08T00:01:14.252999",
          "2022-05-08T00:01:14.252999",
          "2022-05-08T00:01:14.252999",
          "2022-05-08T00:01:14.252999",
          "2022-05-08T00:01:14.252999",
          "2022-05-08T00:01:14.255000",
          "2022-05-08T00:01:14.255000",
          "2022-05-08T00:01:14.255000",
          "2022-05-08T00:01:14.255000",
          "2022-05-08T00:01:14.255000",
          "2022-05-08T00:01:14.255000",
          "2022-05-08T00:01:14.255000",
          "2022-05-08T00:01:14.255000",
          "2022-05-08T00:01:14.255000",
          "2022-05-08T00:01:14.267000",
          "2022-05-08T00:01:14.268999",
          "2022-05-08T00:01:14.762999",
          "2022-05-08T00:01:15.001000",
          "2022-05-08T00:01:15.001000",
          "2022-05-08T00:01:15.001000",
          "2022-05-08T00:01:15.001000",
          "2022-05-08T00:01:15.001000",
          "2022-05-08T00:01:15.001000",
          "2022-05-08T00:01:15.001000",
          "2022-05-08T00:01:15.001000",
          "2022-05-08T00:01:15.001000",
          "2022-05-08T00:01:15.001000",
          "2022-05-08T00:01:15.001000",
          "2022-05-08T00:01:15.001000",
          "2022-05-08T00:01:15.001000",
          "2022-05-08T00:01:15.001000",
          "2022-05-08T00:01:15.009000",
          "2022-05-08T00:01:15.012999",
          "2022-05-08T00:01:15.074000",
          "2022-05-08T00:01:15.236000",
          "2022-05-08T00:01:15.236000",
          "2022-05-08T00:01:15.236000",
          "2022-05-08T00:01:15.236000",
          "2022-05-08T00:01:15.236000",
          "2022-05-08T00:01:15.236000",
          "2022-05-08T00:01:15.236000",
          "2022-05-08T00:01:15.236000",
          "2022-05-08T00:01:15.236000",
          "2022-05-08T00:01:15.250000",
          "2022-05-08T00:01:15.252999",
          "2022-05-08T00:01:15.252999",
          "2022-05-08T00:01:15.252999",
          "2022-05-08T00:01:15.255000",
          "2022-05-08T00:01:15.255000",
          "2022-05-08T00:01:15.255000",
          "2022-05-08T00:01:15.259999",
          "2022-05-08T00:01:15.259999",
          "2022-05-08T00:01:15.259999",
          "2022-05-08T00:01:15.262000",
          "2022-05-08T00:01:15.263000",
          "2022-05-08T00:01:15.263999",
          "2022-05-08T00:01:15.263999",
          "2022-05-08T00:01:15.263999",
          "2022-05-08T00:01:15.263999",
          "2022-05-08T00:01:15.276000",
          "2022-05-08T00:01:15.277000",
          "2022-05-08T00:01:15.284000",
          "2022-05-08T00:01:15.291000",
          "2022-05-08T00:01:15.291000",
          "2022-05-08T00:01:15.298000",
          "2022-05-08T00:01:15.298000",
          "2022-05-08T00:01:15.311999",
          "2022-05-08T00:01:15.326000",
          "2022-05-08T00:01:15.326000",
          "2022-05-08T00:01:15.340999",
          "2022-05-08T00:01:15.357000",
          "2022-05-08T00:01:15.384000",
          "2022-05-08T00:01:15.407000",
          "2022-05-08T00:01:15.440999",
          "2022-05-08T00:01:15.440999",
          "2022-05-08T00:01:15.446000",
          "2022-05-08T00:01:15.449000",
          "2022-05-08T00:01:15.451000",
          "2022-05-08T00:01:15.451000",
          "2022-05-08T00:01:15.456000",
          "2022-05-08T00:01:15.456000",
          "2022-05-08T00:01:15.482000",
          "2022-05-08T00:01:15.482000",
          "2022-05-08T00:01:15.504000",
          "2022-05-08T00:01:15.553000",
          "2022-05-08T00:01:15.553000",
          "2022-05-08T00:01:15.553000",
          "2022-05-08T00:01:15.594000",
          "2022-05-08T00:01:15.638000",
          "2022-05-08T00:01:15.697000",
          "2022-05-08T00:01:15.830999",
          "2022-05-08T00:01:15.881000",
          "2022-05-08T00:01:15.881000",
          "2022-05-08T00:01:15.881000",
          "2022-05-08T00:01:15.881000",
          "2022-05-08T00:01:15.889999",
          "2022-05-08T00:01:15.889999",
          "2022-05-08T00:01:15.889999",
          "2022-05-08T00:01:15.895000",
          "2022-05-08T00:01:15.900999",
          "2022-05-08T00:01:15.900999",
          "2022-05-08T00:01:16.117000",
          "2022-05-08T00:01:16.180000",
          "2022-05-08T00:01:16.180000",
          "2022-05-08T00:01:16.180000",
          "2022-05-08T00:01:16.180000",
          "2022-05-08T00:01:16.180000",
          "2022-05-08T00:01:16.180000",
          "2022-05-08T00:01:16.180000",
          "2022-05-08T00:01:16.180000",
          "2022-05-08T00:01:16.180000",
          "2022-05-08T00:01:16.180000",
          "2022-05-08T00:01:16.180000",
          "2022-05-08T00:01:16.180000",
          "2022-05-08T00:01:16.180000",
          "2022-05-08T00:01:16.180000",
          "2022-05-08T00:01:16.180000",
          "2022-05-08T00:01:16.182000",
          "2022-05-08T00:01:16.182000",
          "2022-05-08T00:01:16.199000",
          "2022-05-08T00:01:16.222000",
          "2022-05-08T00:01:16.222000",
          "2022-05-08T00:01:16.222000",
          "2022-05-08T00:01:16.222000",
          "2022-05-08T00:01:16.222000",
          "2022-05-08T00:01:16.222000",
          "2022-05-08T00:01:16.235000",
          "2022-05-08T00:01:16.242000",
          "2022-05-08T00:01:16.269000",
          "2022-05-08T00:01:16.269000",
          "2022-05-08T00:01:16.306000",
          "2022-05-08T00:01:16.317000",
          "2022-05-08T00:01:16.340000",
          "2022-05-08T00:01:16.356000",
          "2022-05-08T00:01:16.543000",
          "2022-05-08T00:01:17.130000",
          "2022-05-08T00:01:17.332000",
          "2022-05-08T00:01:17.332000",
          "2022-05-08T00:01:17.332000",
          "2022-05-08T00:01:17.343000",
          "2022-05-08T00:01:17.344999",
          "2022-05-08T00:01:17.514000",
          "2022-05-08T00:01:17.610999",
          "2022-05-08T00:01:17.610999",
          "2022-05-08T00:01:17.610999",
          "2022-05-08T00:01:17.610999",
          "2022-05-08T00:01:17.610999",
          "2022-05-08T00:01:17.610999",
          "2022-05-08T00:01:17.610999",
          "2022-05-08T00:01:17.610999",
          "2022-05-08T00:01:17.610999",
          "2022-05-08T00:01:17.610999",
          "2022-05-08T00:01:17.610999",
          "2022-05-08T00:01:17.610999",
          "2022-05-08T00:01:17.613999",
          "2022-05-08T00:01:17.623000",
          "2022-05-08T00:01:17.623000",
          "2022-05-08T00:01:17.623000",
          "2022-05-08T00:01:17.628999",
          "2022-05-08T00:01:17.639000",
          "2022-05-08T00:01:17.639000",
          "2022-05-08T00:01:17.645000",
          "2022-05-08T00:01:17.654999",
          "2022-05-08T00:01:17.654999",
          "2022-05-08T00:01:17.657000",
          "2022-05-08T00:01:17.661999",
          "2022-05-08T00:01:17.691999",
          "2022-05-08T00:01:17.742999",
          "2022-05-08T00:01:17.745000",
          "2022-05-08T00:01:17.757000",
          "2022-05-08T00:01:17.759000",
          "2022-05-08T00:01:17.791999",
          "2022-05-08T00:01:17.818000",
          "2022-05-08T00:01:17.860000",
          "2022-05-08T00:01:17.914000",
          "2022-05-08T00:01:17.926000",
          "2022-05-08T00:01:17.955000",
          "2022-05-08T00:01:17.967999",
          "2022-05-08T00:01:17.977000",
          "2022-05-08T00:01:17.988000",
          "2022-05-08T00:01:18.000000",
          "2022-05-08T00:01:18.100000",
          "2022-05-08T00:01:18.228000",
          "2022-05-08T00:01:18.255000",
          "2022-05-08T00:01:18.256000",
          "2022-05-08T00:01:18.278000",
          "2022-05-08T00:01:18.278000",
          "2022-05-08T00:01:18.278000",
          "2022-05-08T00:01:18.278000",
          "2022-05-08T00:01:18.278000",
          "2022-05-08T00:01:18.289000",
          "2022-05-08T00:01:18.303000",
          "2022-05-08T00:01:18.315000",
          "2022-05-08T00:01:18.325000",
          "2022-05-08T00:01:18.340000",
          "2022-05-08T00:01:19.094000",
          "2022-05-08T00:01:19.096000",
          "2022-05-08T00:01:19.096000",
          "2022-05-08T00:01:19.096000",
          "2022-05-08T00:01:19.096000",
          "2022-05-08T00:01:19.096000",
          "2022-05-08T00:01:19.096000",
          "2022-05-08T00:01:19.107000",
          "2022-05-08T00:01:19.122000",
          "2022-05-08T00:01:19.155000",
          "2022-05-08T00:01:19.155000",
          "2022-05-08T00:01:19.166000",
          "2022-05-08T00:01:19.176000",
          "2022-05-08T00:01:19.231000",
          "2022-05-08T00:01:19.266000",
          "2022-05-08T00:01:19.281000",
          "2022-05-08T00:01:19.294000",
          "2022-05-08T00:01:19.302000",
          "2022-05-08T00:01:19.316000",
          "2022-05-08T00:01:19.357000",
          "2022-05-08T00:01:19.402000",
          "2022-05-08T00:01:19.454000",
          "2022-05-08T00:01:19.514000",
          "2022-05-08T00:01:20.020999",
          "2022-05-08T00:01:20.241999",
          "2022-05-08T00:01:20.241999",
          "2022-05-08T00:01:20.259000",
          "2022-05-08T00:01:20.259000",
          "2022-05-08T00:01:20.259000",
          "2022-05-08T00:01:20.259000",
          "2022-05-08T00:01:20.259000",
          "2022-05-08T00:01:20.259000",
          "2022-05-08T00:01:20.315000",
          "2022-05-08T00:01:20.333000",
          "2022-05-08T00:01:20.380000",
          "2022-05-08T00:01:20.786000",
          "2022-05-08T00:01:20.796000",
          "2022-05-08T00:01:20.796000",
          "2022-05-08T00:01:20.796000",
          "2022-05-08T00:01:20.809999",
          "2022-05-08T00:01:20.823000",
          "2022-05-08T00:01:20.849000",
          "2022-05-08T00:01:20.862000",
          "2022-05-08T00:01:20.934000",
          "2022-05-08T00:01:21.019000",
          "2022-05-08T00:01:21.048000",
          "2022-05-08T00:01:21.891000",
          "2022-05-08T00:01:22.063000",
          "2022-05-08T00:01:22.503000",
          "2022-05-08T00:01:22.536000",
          "2022-05-08T00:01:22.727000",
          "2022-05-08T00:01:22.727000",
          "2022-05-08T00:01:22.727000",
          "2022-05-08T00:01:22.727000",
          "2022-05-08T00:01:22.727000",
          "2022-05-08T00:01:22.727000",
          "2022-05-08T00:01:22.727000",
          "2022-05-08T00:01:22.727000",
          "2022-05-08T00:01:22.727000",
          "2022-05-08T00:01:22.739000",
          "2022-05-08T00:01:23.370000",
          "2022-05-08T00:01:23.370000",
          "2022-05-08T00:01:23.370000",
          "2022-05-08T00:01:23.381000",
          "2022-05-08T00:01:23.741000",
          "2022-05-08T00:01:23.932000",
          "2022-05-08T00:01:23.932000",
          "2022-05-08T00:01:23.932000",
          "2022-05-08T00:01:23.943000",
          "2022-05-08T00:01:23.945000",
          "2022-05-08T00:01:23.952999",
          "2022-05-08T00:01:23.965000",
          "2022-05-08T00:01:23.977000",
          "2022-05-08T00:01:24.322000",
          "2022-05-08T00:01:24.322000",
          "2022-05-08T00:01:24.322000",
          "2022-05-08T00:01:24.333000",
          "2022-05-08T00:01:24.347000",
          "2022-05-08T00:01:24.357000",
          "2022-05-08T00:01:24.370000",
          "2022-05-08T00:01:24.380000",
          "2022-05-08T00:01:24.523000",
          "2022-05-08T00:01:24.524000",
          "2022-05-08T00:01:24.761000",
          "2022-05-08T00:01:24.761000",
          "2022-05-08T00:01:24.761000",
          "2022-05-08T00:01:24.761000",
          "2022-05-08T00:01:24.761000",
          "2022-05-08T00:01:24.773000",
          "2022-05-08T00:01:25.185000",
          "2022-05-08T00:01:25.211000",
          "2022-05-08T00:01:25.211000",
          "2022-05-08T00:01:26.108999",
          "2022-05-08T00:01:26.477000",
          "2022-05-08T00:01:26.808999",
          "2022-05-08T00:01:26.808999",
          "2022-05-08T00:01:26.808999",
          "2022-05-08T00:01:26.808999",
          "2022-05-08T00:01:26.808999",
          "2022-05-08T00:01:26.808999",
          "2022-05-08T00:01:26.808999",
          "2022-05-08T00:01:26.808999",
          "2022-05-08T00:01:26.808999",
          "2022-05-08T00:01:26.821000",
          "2022-05-08T00:01:27.089000",
          "2022-05-08T00:01:27.089000",
          "2022-05-08T00:01:27.089000",
          "2022-05-08T00:01:27.089000",
          "2022-05-08T00:01:27.089000",
          "2022-05-08T00:01:27.089000",
          "2022-05-08T00:01:27.089000",
          "2022-05-08T00:01:27.089000",
          "2022-05-08T00:01:27.089000",
          "2022-05-08T00:01:27.092000",
          "2022-05-08T00:01:27.092000",
          "2022-05-08T00:01:27.092000",
          "2022-05-08T00:01:27.092000",
          "2022-05-08T00:01:27.092000",
          "2022-05-08T00:01:27.092000",
          "2022-05-08T00:01:27.092000",
          "2022-05-08T00:01:27.092000",
          "2022-05-08T00:01:27.092000",
          "2022-05-08T00:01:27.092000",
          "2022-05-08T00:01:27.092000",
          "2022-05-08T00:01:27.092000",
          "2022-05-08T00:01:27.092000",
          "2022-05-08T00:01:27.092000",
          "2022-05-08T00:01:27.092000",
          "2022-05-08T00:01:27.092000",
          "2022-05-08T00:01:27.106000",
          "2022-05-08T00:01:27.125000",
          "2022-05-08T00:01:27.127000",
          "2022-05-08T00:01:27.167000",
          "2022-05-08T00:01:27.167000",
          "2022-05-08T00:01:27.167000",
          "2022-05-08T00:01:27.181000",
          "2022-05-08T00:01:27.255000",
          "2022-05-08T00:01:27.255000",
          "2022-05-08T00:01:27.255000",
          "2022-05-08T00:01:27.255000",
          "2022-05-08T00:01:27.271000",
          "2022-05-08T00:01:27.463000",
          "2022-05-08T00:01:27.682000",
          "2022-05-08T00:01:27.682000",
          "2022-05-08T00:01:27.682000",
          "2022-05-08T00:01:27.682000",
          "2022-05-08T00:01:27.682000",
          "2022-05-08T00:01:27.682000",
          "2022-05-08T00:01:27.682000",
          "2022-05-08T00:01:27.697000",
          "2022-05-08T00:01:27.708000",
          "2022-05-08T00:01:27.753000",
          "2022-05-08T00:01:27.758000",
          "2022-05-08T00:01:27.774000",
          "2022-05-08T00:01:27.781000",
          "2022-05-08T00:01:27.781000",
          "2022-05-08T00:01:27.786000",
          "2022-05-08T00:01:27.786000",
          "2022-05-08T00:01:27.786000",
          "2022-05-08T00:01:27.786000",
          "2022-05-08T00:01:27.786000",
          "2022-05-08T00:01:27.786000",
          "2022-05-08T00:01:27.786000",
          "2022-05-08T00:01:27.786000",
          "2022-05-08T00:01:27.789000",
          "2022-05-08T00:01:27.793000",
          "2022-05-08T00:01:27.796000",
          "2022-05-08T00:01:27.796000",
          "2022-05-08T00:01:27.796000",
          "2022-05-08T00:01:27.804000",
          "2022-05-08T00:01:27.804000",
          "2022-05-08T00:01:27.817000",
          "2022-05-08T00:01:27.822000",
          "2022-05-08T00:01:27.822000",
          "2022-05-08T00:01:27.949000",
          "2022-05-08T00:01:28.335000",
          "2022-05-08T00:01:28.348000",
          "2022-05-08T00:01:28.398000",
          "2022-05-08T00:01:28.406000",
          "2022-05-08T00:01:28.406000",
          "2022-05-08T00:01:28.406000",
          "2022-05-08T00:01:28.406000",
          "2022-05-08T00:01:28.406000",
          "2022-05-08T00:01:28.411999",
          "2022-05-08T00:01:28.417000",
          "2022-05-08T00:01:28.469999",
          "2022-05-08T00:01:28.853000",
          "2022-05-08T00:01:28.871999",
          "2022-05-08T00:01:28.914000",
          "2022-05-08T00:01:29.228000",
          "2022-05-08T00:01:29.552000",
          "2022-05-08T00:01:29.552000",
          "2022-05-08T00:01:29.552000",
          "2022-05-08T00:01:29.552000",
          "2022-05-08T00:01:29.552000",
          "2022-05-08T00:01:29.552000",
          "2022-05-08T00:01:29.552000",
          "2022-05-08T00:01:29.555000",
          "2022-05-08T00:01:29.555000",
          "2022-05-08T00:01:29.555000",
          "2022-05-08T00:01:29.561000",
          "2022-05-08T00:01:29.561000",
          "2022-05-08T00:01:29.564000",
          "2022-05-08T00:01:29.579000",
          "2022-05-08T00:01:29.582000",
          "2022-05-08T00:01:29.681000",
          "2022-05-08T00:01:29.694000",
          "2022-05-08T00:01:29.694000",
          "2022-05-08T00:01:29.694000",
          "2022-05-08T00:01:29.694000",
          "2022-05-08T00:01:29.694000",
          "2022-05-08T00:01:29.701999",
          "2022-05-08T00:01:29.713000",
          "2022-05-08T00:01:29.873000",
          "2022-05-08T00:01:29.899000",
          "2022-05-08T00:01:29.899000",
          "2022-05-08T00:01:29.899000",
          "2022-05-08T00:01:29.977000",
          "2022-05-08T00:01:30.080000",
          "2022-05-08T00:01:30.386000",
          "2022-05-08T00:01:30.498000",
          "2022-05-08T00:01:30.780000",
          "2022-05-08T00:01:30.802000",
          "2022-05-08T00:01:30.822000",
          "2022-05-08T00:01:30.893000",
          "2022-05-08T00:01:30.893000",
          "2022-05-08T00:01:30.893000",
          "2022-05-08T00:01:30.893000",
          "2022-05-08T00:01:30.893000",
          "2022-05-08T00:01:30.893000",
          "2022-05-08T00:01:30.893000",
          "2022-05-08T00:01:30.893000",
          "2022-05-08T00:01:30.893000",
          "2022-05-08T00:01:30.896000",
          "2022-05-08T00:01:30.896000",
          "2022-05-08T00:01:30.896000",
          "2022-05-08T00:01:30.896000",
          "2022-05-08T00:01:30.896000",
          "2022-05-08T00:01:30.896000",
          "2022-05-08T00:01:30.896000",
          "2022-05-08T00:01:30.896000",
          "2022-05-08T00:01:30.899000",
          "2022-05-08T00:01:30.899000",
          "2022-05-08T00:01:30.899000",
          "2022-05-08T00:01:30.899000",
          "2022-05-08T00:01:30.901000",
          "2022-05-08T00:01:30.901000",
          "2022-05-08T00:01:30.901000",
          "2022-05-08T00:01:30.905000",
          "2022-05-08T00:01:30.905000",
          "2022-05-08T00:01:30.905000",
          "2022-05-08T00:01:30.905000",
          "2022-05-08T00:01:30.905000",
          "2022-05-08T00:01:30.905000",
          "2022-05-08T00:01:30.905000",
          "2022-05-08T00:01:30.915000",
          "2022-05-08T00:01:30.915000",
          "2022-05-08T00:01:30.915000",
          "2022-05-08T00:01:30.915000",
          "2022-05-08T00:01:30.921000",
          "2022-05-08T00:01:30.930000",
          "2022-05-08T00:01:30.930000",
          "2022-05-08T00:01:30.930000",
          "2022-05-08T00:01:30.930000",
          "2022-05-08T00:01:30.930000",
          "2022-05-08T00:01:30.941000",
          "2022-05-08T00:01:30.941000",
          "2022-05-08T00:01:30.945000",
          "2022-05-08T00:01:30.966000",
          "2022-05-08T00:01:30.966000",
          "2022-05-08T00:01:30.966000",
          "2022-05-08T00:01:30.989000",
          "2022-05-08T00:01:30.989000",
          "2022-05-08T00:01:30.989000",
          "2022-05-08T00:01:30.989000",
          "2022-05-08T00:01:30.989000",
          "2022-05-08T00:01:30.989000",
          "2022-05-08T00:01:30.989000",
          "2022-05-08T00:01:30.989000",
          "2022-05-08T00:01:30.989000",
          "2022-05-08T00:01:30.989000",
          "2022-05-08T00:01:30.989000",
          "2022-05-08T00:01:30.989000",
          "2022-05-08T00:01:30.989000",
          "2022-05-08T00:01:30.989000",
          "2022-05-08T00:01:31.012000",
          "2022-05-08T00:01:31.057999",
          "2022-05-08T00:01:31.057999",
          "2022-05-08T00:01:31.057999",
          "2022-05-08T00:01:31.057999",
          "2022-05-08T00:01:31.057999",
          "2022-05-08T00:01:31.057999",
          "2022-05-08T00:01:31.057999",
          "2022-05-08T00:01:31.070000",
          "2022-05-08T00:01:31.075999",
          "2022-05-08T00:01:31.075999",
          "2022-05-08T00:01:31.111000",
          "2022-05-08T00:01:31.245000",
          "2022-05-08T00:01:31.248000",
          "2022-05-08T00:01:31.252999",
          "2022-05-08T00:01:31.283000",
          "2022-05-08T00:01:31.291000",
          "2022-05-08T00:01:31.291000",
          "2022-05-08T00:01:31.291000",
          "2022-05-08T00:01:31.298000",
          "2022-05-08T00:01:31.335000",
          "2022-05-08T00:01:31.364000",
          "2022-05-08T00:01:31.442000",
          "2022-05-08T00:01:31.442000",
          "2022-05-08T00:01:31.460000",
          "2022-05-08T00:01:31.460000",
          "2022-05-08T00:01:31.476000",
          "2022-05-08T00:01:31.477000",
          "2022-05-08T00:01:31.480000",
          "2022-05-08T00:01:31.480000",
          "2022-05-08T00:01:31.509000",
          "2022-05-08T00:01:31.509000",
          "2022-05-08T00:01:31.509000",
          "2022-05-08T00:01:31.590000",
          "2022-05-08T00:01:31.611000",
          "2022-05-08T00:01:31.661999",
          "2022-05-08T00:01:31.667000",
          "2022-05-08T00:01:31.667000",
          "2022-05-08T00:01:31.667000",
          "2022-05-08T00:01:31.667000",
          "2022-05-08T00:01:31.705999",
          "2022-05-08T00:01:31.731000",
          "2022-05-08T00:01:31.746000",
          "2022-05-08T00:01:31.746000",
          "2022-05-08T00:01:31.749000",
          "2022-05-08T00:01:31.749000",
          "2022-05-08T00:01:31.749000",
          "2022-05-08T00:01:31.752000",
          "2022-05-08T00:01:31.752000",
          "2022-05-08T00:01:31.752000",
          "2022-05-08T00:01:31.779000",
          "2022-05-08T00:01:31.796000",
          "2022-05-08T00:01:32.078000",
          "2022-05-08T00:01:32.079000",
          "2022-05-08T00:01:32.155000",
          "2022-05-08T00:01:32.197000",
          "2022-05-08T00:01:32.759000",
          "2022-05-08T00:01:33.290999",
          "2022-05-08T00:01:33.306000",
          "2022-05-08T00:01:33.790000",
          "2022-05-08T00:01:33.948000",
          "2022-05-08T00:01:33.948000",
          "2022-05-08T00:01:33.963000",
          "2022-05-08T00:01:33.977000",
          "2022-05-08T00:01:34.026000",
          "2022-05-08T00:01:34.026000",
          "2022-05-08T00:01:34.026000",
          "2022-05-08T00:01:34.026000",
          "2022-05-08T00:01:34.211999",
          "2022-05-08T00:01:34.615000",
          "2022-05-08T00:01:35.225000",
          "2022-05-08T00:01:35.227000",
          "2022-05-08T00:01:35.238000",
          "2022-05-08T00:01:35.332000",
          "2022-05-08T00:01:35.614000",
          "2022-05-08T00:01:35.620000",
          "2022-05-08T00:01:35.620000",
          "2022-05-08T00:01:35.620000",
          "2022-05-08T00:01:35.620000",
          "2022-05-08T00:01:35.620000",
          "2022-05-08T00:01:35.620000",
          "2022-05-08T00:01:35.620000",
          "2022-05-08T00:01:35.634000",
          "2022-05-08T00:01:36.013999",
          "2022-05-08T00:01:36.273000",
          "2022-05-08T00:01:36.367999",
          "2022-05-08T00:01:36.510000",
          "2022-05-08T00:01:36.904000",
          "2022-05-08T00:01:36.985999",
          "2022-05-08T00:01:37.025000",
          "2022-05-08T00:01:37.037000",
          "2022-05-08T00:01:37.037000",
          "2022-05-08T00:01:37.073000",
          "2022-05-08T00:01:37.104000",
          "2022-05-08T00:01:37.129000",
          "2022-05-08T00:01:37.152999",
          "2022-05-08T00:01:37.176000",
          "2022-05-08T00:01:37.205000",
          "2022-05-08T00:01:37.249000",
          "2022-05-08T00:01:37.264000",
          "2022-05-08T00:01:37.280000",
          "2022-05-08T00:01:37.284000",
          "2022-05-08T00:01:37.317000",
          "2022-05-08T00:01:37.361000",
          "2022-05-08T00:01:37.361000",
          "2022-05-08T00:01:37.361000",
          "2022-05-08T00:01:37.361000",
          "2022-05-08T00:01:37.361000",
          "2022-05-08T00:01:37.361000",
          "2022-05-08T00:01:37.361000",
          "2022-05-08T00:01:37.362000",
          "2022-05-08T00:01:37.362000",
          "2022-05-08T00:01:37.362000",
          "2022-05-08T00:01:37.362000",
          "2022-05-08T00:01:37.362000",
          "2022-05-08T00:01:37.362000",
          "2022-05-08T00:01:37.365000",
          "2022-05-08T00:01:37.372000",
          "2022-05-08T00:01:37.376000",
          "2022-05-08T00:01:37.404000",
          "2022-05-08T00:01:38.116000",
          "2022-05-08T00:01:38.474000",
          "2022-05-08T00:01:38.474000",
          "2022-05-08T00:01:38.491000",
          "2022-05-08T00:01:38.491000",
          "2022-05-08T00:01:38.590000",
          "2022-05-08T00:01:38.613000",
          "2022-05-08T00:01:38.769000",
          "2022-05-08T00:01:38.780000",
          "2022-05-08T00:01:38.780000",
          "2022-05-08T00:01:38.780000",
          "2022-05-08T00:01:38.782000",
          "2022-05-08T00:01:38.782000",
          "2022-05-08T00:01:38.782000",
          "2022-05-08T00:01:38.782000",
          "2022-05-08T00:01:38.793000",
          "2022-05-08T00:01:38.803000",
          "2022-05-08T00:01:40.376000",
          "2022-05-08T00:01:40.567000",
          "2022-05-08T00:01:40.658000",
          "2022-05-08T00:01:40.733000",
          "2022-05-08T00:01:40.943000",
          "2022-05-08T00:01:41.418999",
          "2022-05-08T00:01:41.418999",
          "2022-05-08T00:01:41.418999",
          "2022-05-08T00:01:41.418999",
          "2022-05-08T00:01:41.418999",
          "2022-05-08T00:01:41.433999",
          "2022-05-08T00:01:41.510999",
          "2022-05-08T00:01:41.596999",
          "2022-05-08T00:01:41.603999",
          "2022-05-08T00:01:41.743999",
          "2022-05-08T00:01:43.042000",
          "2022-05-08T00:01:43.042000",
          "2022-05-08T00:01:43.042000",
          "2022-05-08T00:01:43.042000",
          "2022-05-08T00:01:43.042000",
          "2022-05-08T00:01:43.042000",
          "2022-05-08T00:01:43.042000",
          "2022-05-08T00:01:43.042000",
          "2022-05-08T00:01:43.042000",
          "2022-05-08T00:01:43.042000",
          "2022-05-08T00:01:43.045000",
          "2022-05-08T00:01:43.045000",
          "2022-05-08T00:01:43.045000",
          "2022-05-08T00:01:43.107000",
          "2022-05-08T00:01:43.155000",
          "2022-05-08T00:01:43.179000",
          "2022-05-08T00:01:43.624000",
          "2022-05-08T00:01:43.721000",
          "2022-05-08T00:01:44.057000",
          "2022-05-08T00:01:44.355000",
          "2022-05-08T00:01:44.602999",
          "2022-05-08T00:01:44.605000",
          "2022-05-08T00:01:44.605000",
          "2022-05-08T00:01:44.605000",
          "2022-05-08T00:01:44.608000",
          "2022-05-08T00:01:44.608000",
          "2022-05-08T00:01:44.608000",
          "2022-05-08T00:01:44.608000",
          "2022-05-08T00:01:44.609999",
          "2022-05-08T00:01:44.612000",
          "2022-05-08T00:01:44.612000",
          "2022-05-08T00:01:44.612000",
          "2022-05-08T00:01:44.612000",
          "2022-05-08T00:01:44.612000",
          "2022-05-08T00:01:44.612000",
          "2022-05-08T00:01:44.612000",
          "2022-05-08T00:01:44.612000",
          "2022-05-08T00:01:44.612000",
          "2022-05-08T00:01:44.613000",
          "2022-05-08T00:01:44.613000",
          "2022-05-08T00:01:44.613000",
          "2022-05-08T00:01:44.613999",
          "2022-05-08T00:01:44.613999",
          "2022-05-08T00:01:44.619000",
          "2022-05-08T00:01:44.621999",
          "2022-05-08T00:01:44.624999",
          "2022-05-08T00:01:44.624999",
          "2022-05-08T00:01:44.641000",
          "2022-05-08T00:01:44.770000",
          "2022-05-08T00:01:46.136000",
          "2022-05-08T00:01:46.136000",
          "2022-05-08T00:01:46.597000",
          "2022-05-08T00:01:46.741000",
          "2022-05-08T00:01:46.741000",
          "2022-05-08T00:01:46.741000",
          "2022-05-08T00:01:46.741000",
          "2022-05-08T00:01:46.741000",
          "2022-05-08T00:01:46.742000",
          "2022-05-08T00:01:46.742000",
          "2022-05-08T00:01:46.742000",
          "2022-05-08T00:01:46.742000",
          "2022-05-08T00:01:46.744000",
          "2022-05-08T00:01:46.744000",
          "2022-05-08T00:01:46.753000",
          "2022-05-08T00:01:46.765000",
          "2022-05-08T00:01:47.203000",
          "2022-05-08T00:01:47.203000",
          "2022-05-08T00:01:47.203000",
          "2022-05-08T00:01:47.203000",
          "2022-05-08T00:01:47.215000",
          "2022-05-08T00:01:47.281000",
          "2022-05-08T00:01:47.281000",
          "2022-05-08T00:01:47.292999",
          "2022-05-08T00:01:47.304000",
          "2022-05-08T00:01:47.315000",
          "2022-05-08T00:01:47.525999",
          "2022-05-08T00:01:47.561999",
          "2022-05-08T00:01:48.320000",
          "2022-05-08T00:01:49.793000",
          "2022-05-08T00:01:49.897000",
          "2022-05-08T00:01:49.897000",
          "2022-05-08T00:01:49.897000",
          "2022-05-08T00:01:49.897000",
          "2022-05-08T00:01:49.897000",
          "2022-05-08T00:01:49.897000",
          "2022-05-08T00:01:49.897000",
          "2022-05-08T00:01:49.909999",
          "2022-05-08T00:01:49.920999",
          "2022-05-08T00:01:49.931999",
          "2022-05-08T00:01:49.951000",
          "2022-05-08T00:01:50.167000",
          "2022-05-08T00:01:50.167000",
          "2022-05-08T00:01:50.167000",
          "2022-05-08T00:01:50.167000",
          "2022-05-08T00:01:50.167000",
          "2022-05-08T00:01:50.167000",
          "2022-05-08T00:01:50.167000",
          "2022-05-08T00:01:50.167000",
          "2022-05-08T00:01:50.167000"
         ],
         "y": {
          "dtype": "float64",
          "shape": [
           1000
          ],
          "value": {}
         }
        },
        {
         "connectgaps": true,
         "line": {
          "color": "black"
         },
         "mode": "markers+lines",
         "name": "Debounce",
         "opacity": 0.5,
         "type": "scattergl",
         "uid": "8dba263b-87af-4206-b61e-e7973aa530e4",
         "x": [
          "2022-05-08T00:01:00.689000",
          "2022-05-08T00:01:00.689000",
          "2022-05-08T00:01:00.689000",
          "2022-05-08T00:01:00.689000",
          "2022-05-08T00:01:00.689000",
          "2022-05-08T00:01:00.865000",
          "2022-05-08T00:01:00.865000",
          "2022-05-08T00:01:00.865000",
          "2022-05-08T00:01:00.952000",
          "2022-05-08T00:01:00.952000",
          "2022-05-08T00:01:02.357000",
          "2022-05-08T00:01:02.357000",
          "2022-05-08T00:01:02.400000",
          "2022-05-08T00:01:02.400000",
          "2022-05-08T00:01:02.589000",
          "2022-05-08T00:01:02.589000",
          "2022-05-08T00:01:02.616000",
          "2022-05-08T00:01:02.616000",
          "2022-05-08T00:01:05.755000",
          "2022-05-08T00:01:05.755000",
          "2022-05-08T00:01:05.755000",
          "2022-05-08T00:01:06.349999",
          "2022-05-08T00:01:06.349999",
          "2022-05-08T00:01:06.349999",
          "2022-05-08T00:01:07.042999",
          "2022-05-08T00:01:07.042999",
          "2022-05-08T00:01:07.042999",
          "2022-05-08T00:01:07.042999",
          "2022-05-08T00:01:07.042999",
          "2022-05-08T00:01:07.042999",
          "2022-05-08T00:01:07.042999",
          "2022-05-08T00:01:07.044000",
          "2022-05-08T00:01:07.044000",
          "2022-05-08T00:01:07.045000",
          "2022-05-08T00:01:07.045000",
          "2022-05-08T00:01:07.049999",
          "2022-05-08T00:01:07.049999",
          "2022-05-08T00:01:07.049999",
          "2022-05-08T00:01:07.056000",
          "2022-05-08T00:01:07.071000",
          "2022-05-08T00:01:07.071000",
          "2022-05-08T00:01:07.105000",
          "2022-05-08T00:01:07.105000",
          "2022-05-08T00:01:07.128000",
          "2022-05-08T00:01:07.128000",
          "2022-05-08T00:01:07.128000",
          "2022-05-08T00:01:07.199000",
          "2022-05-08T00:01:07.199000",
          "2022-05-08T00:01:07.199000",
          "2022-05-08T00:01:07.199000",
          "2022-05-08T00:01:07.199000",
          "2022-05-08T00:01:07.199000",
          "2022-05-08T00:01:07.204999",
          "2022-05-08T00:01:08.356000",
          "2022-05-08T00:01:08.356000",
          "2022-05-08T00:01:08.356000",
          "2022-05-08T00:01:08.356000",
          "2022-05-08T00:01:08.356000",
          "2022-05-08T00:01:11.972000",
          "2022-05-08T00:01:11.972000",
          "2022-05-08T00:01:11.972000",
          "2022-05-08T00:01:11.972000",
          "2022-05-08T00:01:11.972000",
          "2022-05-08T00:01:11.972000",
          "2022-05-08T00:01:11.972000",
          "2022-05-08T00:01:13.373000",
          "2022-05-08T00:01:13.373000",
          "2022-05-08T00:01:13.373000",
          "2022-05-08T00:01:13.612000",
          "2022-05-08T00:01:13.612000",
          "2022-05-08T00:01:13.645000",
          "2022-05-08T00:01:13.645000",
          "2022-05-08T00:01:13.831000",
          "2022-05-08T00:01:13.831000",
          "2022-05-08T00:01:13.831000",
          "2022-05-08T00:01:14.255000",
          "2022-05-08T00:01:14.255000",
          "2022-05-08T00:01:14.255000",
          "2022-05-08T00:01:14.255000",
          "2022-05-08T00:01:14.255000",
          "2022-05-08T00:01:14.255000",
          "2022-05-08T00:01:15.250000",
          "2022-05-08T00:01:15.250000",
          "2022-05-08T00:01:15.258000",
          "2022-05-08T00:01:15.259999",
          "2022-05-08T00:01:15.263999",
          "2022-05-08T00:01:15.263999",
          "2022-05-08T00:01:15.311999",
          "2022-05-08T00:01:15.311999",
          "2022-05-08T00:01:15.326000",
          "2022-05-08T00:01:15.326000",
          "2022-05-08T00:01:15.326000",
          "2022-05-08T00:01:15.594000",
          "2022-05-08T00:01:15.594000",
          "2022-05-08T00:01:16.123000",
          "2022-05-08T00:01:16.123000",
          "2022-05-08T00:01:16.151000",
          "2022-05-08T00:01:16.151000",
          "2022-05-08T00:01:16.153000",
          "2022-05-08T00:01:16.178000",
          "2022-05-08T00:01:16.178000",
          "2022-05-08T00:01:16.180000",
          "2022-05-08T00:01:16.180000",
          "2022-05-08T00:01:16.180000",
          "2022-05-08T00:01:16.190000",
          "2022-05-08T00:01:16.190000",
          "2022-05-08T00:01:16.199000",
          "2022-05-08T00:01:16.222000",
          "2022-05-08T00:01:16.222000",
          "2022-05-08T00:01:16.222000",
          "2022-05-08T00:01:16.232000",
          "2022-05-08T00:01:16.232000",
          "2022-05-08T00:01:17.610999",
          "2022-05-08T00:01:17.610999",
          "2022-05-08T00:01:17.610999",
          "2022-05-08T00:01:18.278000",
          "2022-05-08T00:01:18.278000",
          "2022-05-08T00:01:19.096000",
          "2022-05-08T00:01:19.096000",
          "2022-05-08T00:01:20.809999",
          "2022-05-08T00:01:20.809999",
          "2022-05-08T00:01:22.727000",
          "2022-05-08T00:01:22.727000",
          "2022-05-08T00:01:24.761000",
          "2022-05-08T00:01:24.761000",
          "2022-05-08T00:01:26.808999",
          "2022-05-08T00:01:26.808999",
          "2022-05-08T00:01:27.089000",
          "2022-05-08T00:01:27.089000",
          "2022-05-08T00:01:27.089000",
          "2022-05-08T00:01:27.089000",
          "2022-05-08T00:01:27.092000",
          "2022-05-08T00:01:27.092000",
          "2022-05-08T00:01:27.092000",
          "2022-05-08T00:01:27.092000",
          "2022-05-08T00:01:27.092000",
          "2022-05-08T00:01:27.092000",
          "2022-05-08T00:01:27.092000",
          "2022-05-08T00:01:27.271000",
          "2022-05-08T00:01:27.271000",
          "2022-05-08T00:01:27.682000",
          "2022-05-08T00:01:27.682000",
          "2022-05-08T00:01:27.781000",
          "2022-05-08T00:01:27.781000",
          "2022-05-08T00:01:27.786000",
          "2022-05-08T00:01:27.786000",
          "2022-05-08T00:01:27.949000",
          "2022-05-08T00:01:27.949000",
          "2022-05-08T00:01:29.552000",
          "2022-05-08T00:01:29.552000",
          "2022-05-08T00:01:29.555000",
          "2022-05-08T00:01:29.555000",
          "2022-05-08T00:01:29.564000",
          "2022-05-08T00:01:29.899000",
          "2022-05-08T00:01:29.899000",
          "2022-05-08T00:01:30.893000",
          "2022-05-08T00:01:30.893000",
          "2022-05-08T00:01:30.896000",
          "2022-05-08T00:01:30.896000",
          "2022-05-08T00:01:30.899000",
          "2022-05-08T00:01:30.901000",
          "2022-05-08T00:01:30.905000",
          "2022-05-08T00:01:30.905000",
          "2022-05-08T00:01:30.905000",
          "2022-05-08T00:01:30.930000",
          "2022-05-08T00:01:30.930000",
          "2022-05-08T00:01:30.941000",
          "2022-05-08T00:01:30.941000",
          "2022-05-08T00:01:30.945000",
          "2022-05-08T00:01:30.989000",
          "2022-05-08T00:01:30.989000",
          "2022-05-08T00:01:30.989000",
          "2022-05-08T00:01:30.989000",
          "2022-05-08T00:01:30.989000",
          "2022-05-08T00:01:30.989000",
          "2022-05-08T00:01:31.056000",
          "2022-05-08T00:01:31.056000",
          "2022-05-08T00:01:31.057999",
          "2022-05-08T00:01:31.057999",
          "2022-05-08T00:01:31.057999",
          "2022-05-08T00:01:31.057999",
          "2022-05-08T00:01:31.266000",
          "2022-05-08T00:01:31.266000",
          "2022-05-08T00:01:31.480000",
          "2022-05-08T00:01:31.480000",
          "2022-05-08T00:01:31.509000",
          "2022-05-08T00:01:31.509000",
          "2022-05-08T00:01:31.819000",
          "2022-05-08T00:01:31.819000",
          "2022-05-08T00:01:31.823000",
          "2022-05-08T00:01:31.823000",
          "2022-05-08T00:01:31.823000",
          "2022-05-08T00:01:31.823000",
          "2022-05-08T00:01:31.823000",
          "2022-05-08T00:01:31.823000",
          "2022-05-08T00:01:31.858000",
          "2022-05-08T00:01:31.858000",
          "2022-05-08T00:01:31.860000",
          "2022-05-08T00:01:31.862000",
          "2022-05-08T00:01:31.871000",
          "2022-05-08T00:01:31.871000",
          "2022-05-08T00:01:31.871000",
          "2022-05-08T00:01:31.871000",
          "2022-05-08T00:01:31.888000",
          "2022-05-08T00:01:31.888000",
          "2022-05-08T00:01:31.907000",
          "2022-05-08T00:01:31.907000",
          "2022-05-08T00:01:31.923000",
          "2022-05-08T00:01:31.923000",
          "2022-05-08T00:01:31.923000",
          "2022-05-08T00:01:36.466000",
          "2022-05-08T00:01:36.466000",
          "2022-05-08T00:01:36.466000",
          "2022-05-08T00:01:36.466000",
          "2022-05-08T00:01:36.466000",
          "2022-05-08T00:01:36.466000",
          "2022-05-08T00:01:36.466000",
          "2022-05-08T00:01:36.466000",
          "2022-05-08T00:01:36.473000",
          "2022-05-08T00:01:36.473000",
          "2022-05-08T00:01:36.474999",
          "2022-05-08T00:01:36.474999",
          "2022-05-08T00:01:36.510000",
          "2022-05-08T00:01:36.510000",
          "2022-05-08T00:01:36.525999",
          "2022-05-08T00:01:36.525999",
          "2022-05-08T00:01:36.546000",
          "2022-05-08T00:01:36.546000",
          "2022-05-08T00:01:36.551999",
          "2022-05-08T00:01:36.561999",
          "2022-05-08T00:01:36.561999",
          "2022-05-08T00:01:36.569000",
          "2022-05-08T00:01:36.617000",
          "2022-05-08T00:01:36.617000",
          "2022-05-08T00:01:36.853000",
          "2022-05-08T00:01:36.853000",
          "2022-05-08T00:01:36.867999",
          "2022-05-08T00:01:36.867999",
          "2022-05-08T00:01:36.910000",
          "2022-05-08T00:01:36.910000",
          "2022-05-08T00:01:36.945999",
          "2022-05-08T00:01:36.945999",
          "2022-05-08T00:01:36.955000",
          "2022-05-08T00:01:36.955000",
          "2022-05-08T00:01:36.985999",
          "2022-05-08T00:01:36.985999",
          "2022-05-08T00:01:36.985999",
          "2022-05-08T00:01:37.362000",
          "2022-05-08T00:01:37.362000",
          "2022-05-08T00:01:37.362000",
          "2022-05-08T00:01:37.365000",
          "2022-05-08T00:01:37.372000",
          "2022-05-08T00:01:37.404000",
          "2022-05-08T00:01:37.404000",
          "2022-05-08T00:01:38.116000",
          "2022-05-08T00:01:38.116000",
          "2022-05-08T00:01:39.125000",
          "2022-05-08T00:01:39.125000",
          "2022-05-08T00:01:39.125000",
          "2022-05-08T00:01:44.612000",
          "2022-05-08T00:01:44.612000",
          "2022-05-08T00:01:44.612000",
          "2022-05-08T00:01:44.613000",
          "2022-05-08T00:01:44.613999",
          "2022-05-08T00:01:44.624999",
          "2022-05-08T00:01:44.624999",
          "2022-05-08T00:01:46.742000",
          "2022-05-08T00:01:46.742000",
          "2022-05-08T00:01:46.744000",
          "2022-05-08T00:01:46.744000",
          "2022-05-08T00:01:47.203000",
          "2022-05-08T00:01:47.203000",
          "2022-05-08T00:01:47.203000",
          "2022-05-08T00:01:47.215000",
          "2022-05-08T00:01:47.215000",
          "2022-05-08T00:01:47.281000",
          "2022-05-08T00:01:47.281000",
          "2022-05-08T00:01:50.167000",
          "2022-05-08T00:01:50.167000",
          "2022-05-08T00:01:50.167000",
          "2022-05-08T00:01:50.167000"
         ],
         "y": {
          "dtype": "float64",
          "shape": [
           281
          ],
          "value": {}
         }
        }
       ],
       "_js2py_pointsCallback": {},
       "_js2py_restyle": {},
       "_js2py_update": {},
       "_last_layout_edit_id": 7,
       "_last_trace_edit_id": 7,
       "_layout": {
        "autosize": true,
        "height": 400,
        "legend": {
         "orientation": "h",
         "x": 0.1,
         "y": 1
        },
        "margin": {
         "b": 10,
         "l": 45,
         "pad": 3,
         "r": 15,
         "t": 30
        },
        "template": {
         "data": {
          "bar": [
           {
            "error_x": {
             "color": "#2a3f5f"
            },
            "error_y": {
             "color": "#2a3f5f"
            },
            "marker": {
             "line": {
              "color": "white",
              "width": 0.5
             },
             "pattern": {
              "fillmode": "overlay",
              "size": 10,
              "solidity": 0.2
             }
            },
            "type": "bar"
           }
          ],
          "barpolar": [
           {
            "marker": {
             "line": {
              "color": "white",
              "width": 0.5
             },
             "pattern": {
              "fillmode": "overlay",
              "size": 10,
              "solidity": 0.2
             }
            },
            "type": "barpolar"
           }
          ],
          "carpet": [
           {
            "aaxis": {
             "endlinecolor": "#2a3f5f",
             "gridcolor": "#C8D4E3",
             "linecolor": "#C8D4E3",
             "minorgridcolor": "#C8D4E3",
             "startlinecolor": "#2a3f5f"
            },
            "baxis": {
             "endlinecolor": "#2a3f5f",
             "gridcolor": "#C8D4E3",
             "linecolor": "#C8D4E3",
             "minorgridcolor": "#C8D4E3",
             "startlinecolor": "#2a3f5f"
            },
            "type": "carpet"
           }
          ],
          "choropleth": [
           {
            "colorbar": {
             "outlinewidth": 0,
             "ticks": ""
            },
            "type": "choropleth"
           }
          ],
          "contour": [
           {
            "colorbar": {
             "outlinewidth": 0,
             "ticks": ""
            },
            "colorscale": [
             [
              0,
              "#0d0887"
             ],
             [
              0.1111111111111111,
              "#46039f"
             ],
             [
              0.2222222222222222,
              "#7201a8"
             ],
             [
              0.3333333333333333,
              "#9c179e"
             ],
             [
              0.4444444444444444,
              "#bd3786"
             ],
             [
              0.5555555555555556,
              "#d8576b"
             ],
             [
              0.6666666666666666,
              "#ed7953"
             ],
             [
              0.7777777777777778,
              "#fb9f3a"
             ],
             [
              0.8888888888888888,
              "#fdca26"
             ],
             [
              1,
              "#f0f921"
             ]
            ],
            "type": "contour"
           }
          ],
          "contourcarpet": [
           {
            "colorbar": {
             "outlinewidth": 0,
             "ticks": ""
            },
            "type": "contourcarpet"
           }
          ],
          "heatmap": [
           {
            "colorbar": {
             "outlinewidth": 0,
             "ticks": ""
            },
            "colorscale": [
             [
              0,
              "#0d0887"
             ],
             [
              0.1111111111111111,
              "#46039f"
             ],
             [
              0.2222222222222222,
              "#7201a8"
             ],
             [
              0.3333333333333333,
              "#9c179e"
             ],
             [
              0.4444444444444444,
              "#bd3786"
             ],
             [
              0.5555555555555556,
              "#d8576b"
             ],
             [
              0.6666666666666666,
              "#ed7953"
             ],
             [
              0.7777777777777778,
              "#fb9f3a"
             ],
             [
              0.8888888888888888,
              "#fdca26"
             ],
             [
              1,
              "#f0f921"
             ]
            ],
            "type": "heatmap"
           }
          ],
          "heatmapgl": [
           {
            "colorbar": {
             "outlinewidth": 0,
             "ticks": ""
            },
            "colorscale": [
             [
              0,
              "#0d0887"
             ],
             [
              0.1111111111111111,
              "#46039f"
             ],
             [
              0.2222222222222222,
              "#7201a8"
             ],
             [
              0.3333333333333333,
              "#9c179e"
             ],
             [
              0.4444444444444444,
              "#bd3786"
             ],
             [
              0.5555555555555556,
              "#d8576b"
             ],
             [
              0.6666666666666666,
              "#ed7953"
             ],
             [
              0.7777777777777778,
              "#fb9f3a"
             ],
             [
              0.8888888888888888,
              "#fdca26"
             ],
             [
              1,
              "#f0f921"
             ]
            ],
            "type": "heatmapgl"
           }
          ],
          "histogram": [
           {
            "marker": {
             "pattern": {
              "fillmode": "overlay",
              "size": 10,
              "solidity": 0.2
             }
            },
            "type": "histogram"
           }
          ],
          "histogram2d": [
           {
            "colorbar": {
             "outlinewidth": 0,
             "ticks": ""
            },
            "colorscale": [
             [
              0,
              "#0d0887"
             ],
             [
              0.1111111111111111,
              "#46039f"
             ],
             [
              0.2222222222222222,
              "#7201a8"
             ],
             [
              0.3333333333333333,
              "#9c179e"
             ],
             [
              0.4444444444444444,
              "#bd3786"
             ],
             [
              0.5555555555555556,
              "#d8576b"
             ],
             [
              0.6666666666666666,
              "#ed7953"
             ],
             [
              0.7777777777777778,
              "#fb9f3a"
             ],
             [
              0.8888888888888888,
              "#fdca26"
             ],
             [
              1,
              "#f0f921"
             ]
            ],
            "type": "histogram2d"
           }
          ],
          "histogram2dcontour": [
           {
            "colorbar": {
             "outlinewidth": 0,
             "ticks": ""
            },
            "colorscale": [
             [
              0,
              "#0d0887"
             ],
             [
              0.1111111111111111,
              "#46039f"
             ],
             [
              0.2222222222222222,
              "#7201a8"
             ],
             [
              0.3333333333333333,
              "#9c179e"
             ],
             [
              0.4444444444444444,
              "#bd3786"
             ],
             [
              0.5555555555555556,
              "#d8576b"
             ],
             [
              0.6666666666666666,
              "#ed7953"
             ],
             [
              0.7777777777777778,
              "#fb9f3a"
             ],
             [
              0.8888888888888888,
              "#fdca26"
             ],
             [
              1,
              "#f0f921"
             ]
            ],
            "type": "histogram2dcontour"
           }
          ],
          "mesh3d": [
           {
            "colorbar": {
             "outlinewidth": 0,
             "ticks": ""
            },
            "type": "mesh3d"
           }
          ],
          "parcoords": [
           {
            "line": {
             "colorbar": {
              "outlinewidth": 0,
              "ticks": ""
             }
            },
            "type": "parcoords"
           }
          ],
          "pie": [
           {
            "automargin": true,
            "type": "pie"
           }
          ],
          "scatter": [
           {
            "marker": {
             "colorbar": {
              "outlinewidth": 0,
              "ticks": ""
             }
            },
            "type": "scatter"
           }
          ],
          "scatter3d": [
           {
            "line": {
             "colorbar": {
              "outlinewidth": 0,
              "ticks": ""
             }
            },
            "marker": {
             "colorbar": {
              "outlinewidth": 0,
              "ticks": ""
             }
            },
            "type": "scatter3d"
           }
          ],
          "scattercarpet": [
           {
            "marker": {
             "colorbar": {
              "outlinewidth": 0,
              "ticks": ""
             }
            },
            "type": "scattercarpet"
           }
          ],
          "scattergeo": [
           {
            "marker": {
             "colorbar": {
              "outlinewidth": 0,
              "ticks": ""
             }
            },
            "type": "scattergeo"
           }
          ],
          "scattergl": [
           {
            "marker": {
             "colorbar": {
              "outlinewidth": 0,
              "ticks": ""
             }
            },
            "type": "scattergl"
           }
          ],
          "scattermapbox": [
           {
            "marker": {
             "colorbar": {
              "outlinewidth": 0,
              "ticks": ""
             }
            },
            "type": "scattermapbox"
           }
          ],
          "scatterpolar": [
           {
            "marker": {
             "colorbar": {
              "outlinewidth": 0,
              "ticks": ""
             }
            },
            "type": "scatterpolar"
           }
          ],
          "scatterpolargl": [
           {
            "marker": {
             "colorbar": {
              "outlinewidth": 0,
              "ticks": ""
             }
            },
            "type": "scatterpolargl"
           }
          ],
          "scatterternary": [
           {
            "marker": {
             "colorbar": {
              "outlinewidth": 0,
              "ticks": ""
             }
            },
            "type": "scatterternary"
           }
          ],
          "surface": [
           {
            "colorbar": {
             "outlinewidth": 0,
             "ticks": ""
            },
            "colorscale": [
             [
              0,
              "#0d0887"
             ],
             [
              0.1111111111111111,
              "#46039f"
             ],
             [
              0.2222222222222222,
              "#7201a8"
             ],
             [
              0.3333333333333333,
              "#9c179e"
             ],
             [
              0.4444444444444444,
              "#bd3786"
             ],
             [
              0.5555555555555556,
              "#d8576b"
             ],
             [
              0.6666666666666666,
              "#ed7953"
             ],
             [
              0.7777777777777778,
              "#fb9f3a"
             ],
             [
              0.8888888888888888,
              "#fdca26"
             ],
             [
              1,
              "#f0f921"
             ]
            ],
            "type": "surface"
           }
          ],
          "table": [
           {
            "cells": {
             "fill": {
              "color": "#EBF0F8"
             },
             "line": {
              "color": "white"
             }
            },
            "header": {
             "fill": {
              "color": "#C8D4E3"
             },
             "line": {
              "color": "white"
             }
            },
            "type": "table"
           }
          ]
         },
         "layout": {
          "annotationdefaults": {
           "arrowcolor": "#2a3f5f",
           "arrowhead": 0,
           "arrowwidth": 1
          },
          "autotypenumbers": "strict",
          "coloraxis": {
           "colorbar": {
            "outlinewidth": 0,
            "ticks": ""
           }
          },
          "colorscale": {
           "diverging": [
            [
             0,
             "#8e0152"
            ],
            [
             0.1,
             "#c51b7d"
            ],
            [
             0.2,
             "#de77ae"
            ],
            [
             0.3,
             "#f1b6da"
            ],
            [
             0.4,
             "#fde0ef"
            ],
            [
             0.5,
             "#f7f7f7"
            ],
            [
             0.6,
             "#e6f5d0"
            ],
            [
             0.7,
             "#b8e186"
            ],
            [
             0.8,
             "#7fbc41"
            ],
            [
             0.9,
             "#4d9221"
            ],
            [
             1,
             "#276419"
            ]
           ],
           "sequential": [
            [
             0,
             "#0d0887"
            ],
            [
             0.1111111111111111,
             "#46039f"
            ],
            [
             0.2222222222222222,
             "#7201a8"
            ],
            [
             0.3333333333333333,
             "#9c179e"
            ],
            [
             0.4444444444444444,
             "#bd3786"
            ],
            [
             0.5555555555555556,
             "#d8576b"
            ],
            [
             0.6666666666666666,
             "#ed7953"
            ],
            [
             0.7777777777777778,
             "#fb9f3a"
            ],
            [
             0.8888888888888888,
             "#fdca26"
            ],
            [
             1,
             "#f0f921"
            ]
           ],
           "sequentialminus": [
            [
             0,
             "#0d0887"
            ],
            [
             0.1111111111111111,
             "#46039f"
            ],
            [
             0.2222222222222222,
             "#7201a8"
            ],
            [
             0.3333333333333333,
             "#9c179e"
            ],
            [
             0.4444444444444444,
             "#bd3786"
            ],
            [
             0.5555555555555556,
             "#d8576b"
            ],
            [
             0.6666666666666666,
             "#ed7953"
            ],
            [
             0.7777777777777778,
             "#fb9f3a"
            ],
            [
             0.8888888888888888,
             "#fdca26"
            ],
            [
             1,
             "#f0f921"
            ]
           ]
          },
          "colorway": [
           "#636efa",
           "#EF553B",
           "#00cc96",
           "#ab63fa",
           "#FFA15A",
           "#19d3f3",
           "#FF6692",
           "#B6E880",
           "#FF97FF",
           "#FECB52"
          ],
          "font": {
           "color": "#2a3f5f"
          },
          "geo": {
           "bgcolor": "white",
           "lakecolor": "white",
           "landcolor": "white",
           "showlakes": true,
           "showland": true,
           "subunitcolor": "#C8D4E3"
          },
          "hoverlabel": {
           "align": "left"
          },
          "hovermode": "closest",
          "mapbox": {
           "style": "light"
          },
          "paper_bgcolor": "white",
          "plot_bgcolor": "white",
          "polar": {
           "angularaxis": {
            "gridcolor": "#EBF0F8",
            "linecolor": "#EBF0F8",
            "ticks": ""
           },
           "bgcolor": "white",
           "radialaxis": {
            "gridcolor": "#EBF0F8",
            "linecolor": "#EBF0F8",
            "ticks": ""
           }
          },
          "scene": {
           "xaxis": {
            "backgroundcolor": "white",
            "gridcolor": "#DFE8F3",
            "gridwidth": 2,
            "linecolor": "#EBF0F8",
            "showbackground": true,
            "ticks": "",
            "zerolinecolor": "#EBF0F8"
           },
           "yaxis": {
            "backgroundcolor": "white",
            "gridcolor": "#DFE8F3",
            "gridwidth": 2,
            "linecolor": "#EBF0F8",
            "showbackground": true,
            "ticks": "",
            "zerolinecolor": "#EBF0F8"
           },
           "zaxis": {
            "backgroundcolor": "white",
            "gridcolor": "#DFE8F3",
            "gridwidth": 2,
            "linecolor": "#EBF0F8",
            "showbackground": true,
            "ticks": "",
            "zerolinecolor": "#EBF0F8"
           }
          },
          "shapedefaults": {
           "line": {
            "color": "#2a3f5f"
           }
          },
          "ternary": {
           "aaxis": {
            "gridcolor": "#DFE8F3",
            "linecolor": "#A2B1C6",
            "ticks": ""
           },
           "baxis": {
            "gridcolor": "#DFE8F3",
            "linecolor": "#A2B1C6",
            "ticks": ""
           },
           "bgcolor": "white",
           "caxis": {
            "gridcolor": "#DFE8F3",
            "linecolor": "#A2B1C6",
            "ticks": ""
           }
          },
          "title": {
           "x": 0.05
          },
          "xaxis": {
           "automargin": true,
           "gridcolor": "#EBF0F8",
           "linecolor": "#EBF0F8",
           "ticks": "",
           "title": {
            "standoff": 15
           },
           "zerolinecolor": "#EBF0F8",
           "zerolinewidth": 2
          },
          "yaxis": {
           "automargin": true,
           "gridcolor": "#EBF0F8",
           "linecolor": "#EBF0F8",
           "ticks": "",
           "title": {
            "standoff": 15
           },
           "zerolinecolor": "#EBF0F8",
           "zerolinewidth": 2
          }
         }
        },
        "xaxis": {
         "anchor": "y",
         "domain": [
          0,
          0.94
         ]
        },
        "yaxis": {
         "anchor": "x",
         "domain": [
          0,
          1
         ]
        },
        "yaxis2": {
         "anchor": "x",
         "overlaying": "y",
         "side": "right"
        }
       },
       "_py2js_animate": {},
       "_py2js_deleteTraces": {},
       "_py2js_moveTraces": {},
       "_py2js_relayout": {},
       "_py2js_removeLayoutProps": {},
       "_py2js_removeTraceProps": {},
       "_view_count": 2
      }
     },
     "b9b167e5a9fd46dfbc62e311970e74c8": {
      "model_module": "jupyterlab-plotly",
      "model_module_version": "^5.6.0",
      "model_name": "FigureModel",
      "state": {
       "_config": {
        "plotlyServerURL": "https://plot.ly"
       },
       "_js2py_layoutDelta": {},
       "_js2py_pointsCallback": {},
       "_js2py_relayout": {},
       "_js2py_restyle": {},
       "_js2py_traceDeltas": {},
       "_js2py_update": {},
       "_layout": {
        "template": {
         "data": {
          "bar": [
           {
            "error_x": {
             "color": "#2a3f5f"
            },
            "error_y": {
             "color": "#2a3f5f"
            },
            "marker": {
             "line": {
              "color": "#E5ECF6",
              "width": 0.5
             },
             "pattern": {
              "fillmode": "overlay",
              "size": 10,
              "solidity": 0.2
             }
            },
            "type": "bar"
           }
          ],
          "barpolar": [
           {
            "marker": {
             "line": {
              "color": "#E5ECF6",
              "width": 0.5
             },
             "pattern": {
              "fillmode": "overlay",
              "size": 10,
              "solidity": 0.2
             }
            },
            "type": "barpolar"
           }
          ],
          "carpet": [
           {
            "aaxis": {
             "endlinecolor": "#2a3f5f",
             "gridcolor": "white",
             "linecolor": "white",
             "minorgridcolor": "white",
             "startlinecolor": "#2a3f5f"
            },
            "baxis": {
             "endlinecolor": "#2a3f5f",
             "gridcolor": "white",
             "linecolor": "white",
             "minorgridcolor": "white",
             "startlinecolor": "#2a3f5f"
            },
            "type": "carpet"
           }
          ],
          "choropleth": [
           {
            "colorbar": {
             "outlinewidth": 0,
             "ticks": ""
            },
            "type": "choropleth"
           }
          ],
          "contour": [
           {
            "colorbar": {
             "outlinewidth": 0,
             "ticks": ""
            },
            "colorscale": [
             [
              0,
              "#0d0887"
             ],
             [
              0.1111111111111111,
              "#46039f"
             ],
             [
              0.2222222222222222,
              "#7201a8"
             ],
             [
              0.3333333333333333,
              "#9c179e"
             ],
             [
              0.4444444444444444,
              "#bd3786"
             ],
             [
              0.5555555555555556,
              "#d8576b"
             ],
             [
              0.6666666666666666,
              "#ed7953"
             ],
             [
              0.7777777777777778,
              "#fb9f3a"
             ],
             [
              0.8888888888888888,
              "#fdca26"
             ],
             [
              1,
              "#f0f921"
             ]
            ],
            "type": "contour"
           }
          ],
          "contourcarpet": [
           {
            "colorbar": {
             "outlinewidth": 0,
             "ticks": ""
            },
            "type": "contourcarpet"
           }
          ],
          "heatmap": [
           {
            "colorbar": {
             "outlinewidth": 0,
             "ticks": ""
            },
            "colorscale": [
             [
              0,
              "#0d0887"
             ],
             [
              0.1111111111111111,
              "#46039f"
             ],
             [
              0.2222222222222222,
              "#7201a8"
             ],
             [
              0.3333333333333333,
              "#9c179e"
             ],
             [
              0.4444444444444444,
              "#bd3786"
             ],
             [
              0.5555555555555556,
              "#d8576b"
             ],
             [
              0.6666666666666666,
              "#ed7953"
             ],
             [
              0.7777777777777778,
              "#fb9f3a"
             ],
             [
              0.8888888888888888,
              "#fdca26"
             ],
             [
              1,
              "#f0f921"
             ]
            ],
            "type": "heatmap"
           }
          ],
          "heatmapgl": [
           {
            "colorbar": {
             "outlinewidth": 0,
             "ticks": ""
            },
            "colorscale": [
             [
              0,
              "#0d0887"
             ],
             [
              0.1111111111111111,
              "#46039f"
             ],
             [
              0.2222222222222222,
              "#7201a8"
             ],
             [
              0.3333333333333333,
              "#9c179e"
             ],
             [
              0.4444444444444444,
              "#bd3786"
             ],
             [
              0.5555555555555556,
              "#d8576b"
             ],
             [
              0.6666666666666666,
              "#ed7953"
             ],
             [
              0.7777777777777778,
              "#fb9f3a"
             ],
             [
              0.8888888888888888,
              "#fdca26"
             ],
             [
              1,
              "#f0f921"
             ]
            ],
            "type": "heatmapgl"
           }
          ],
          "histogram": [
           {
            "marker": {
             "pattern": {
              "fillmode": "overlay",
              "size": 10,
              "solidity": 0.2
             }
            },
            "type": "histogram"
           }
          ],
          "histogram2d": [
           {
            "colorbar": {
             "outlinewidth": 0,
             "ticks": ""
            },
            "colorscale": [
             [
              0,
              "#0d0887"
             ],
             [
              0.1111111111111111,
              "#46039f"
             ],
             [
              0.2222222222222222,
              "#7201a8"
             ],
             [
              0.3333333333333333,
              "#9c179e"
             ],
             [
              0.4444444444444444,
              "#bd3786"
             ],
             [
              0.5555555555555556,
              "#d8576b"
             ],
             [
              0.6666666666666666,
              "#ed7953"
             ],
             [
              0.7777777777777778,
              "#fb9f3a"
             ],
             [
              0.8888888888888888,
              "#fdca26"
             ],
             [
              1,
              "#f0f921"
             ]
            ],
            "type": "histogram2d"
           }
          ],
          "histogram2dcontour": [
           {
            "colorbar": {
             "outlinewidth": 0,
             "ticks": ""
            },
            "colorscale": [
             [
              0,
              "#0d0887"
             ],
             [
              0.1111111111111111,
              "#46039f"
             ],
             [
              0.2222222222222222,
              "#7201a8"
             ],
             [
              0.3333333333333333,
              "#9c179e"
             ],
             [
              0.4444444444444444,
              "#bd3786"
             ],
             [
              0.5555555555555556,
              "#d8576b"
             ],
             [
              0.6666666666666666,
              "#ed7953"
             ],
             [
              0.7777777777777778,
              "#fb9f3a"
             ],
             [
              0.8888888888888888,
              "#fdca26"
             ],
             [
              1,
              "#f0f921"
             ]
            ],
            "type": "histogram2dcontour"
           }
          ],
          "mesh3d": [
           {
            "colorbar": {
             "outlinewidth": 0,
             "ticks": ""
            },
            "type": "mesh3d"
           }
          ],
          "parcoords": [
           {
            "line": {
             "colorbar": {
              "outlinewidth": 0,
              "ticks": ""
             }
            },
            "type": "parcoords"
           }
          ],
          "pie": [
           {
            "automargin": true,
            "type": "pie"
           }
          ],
          "scatter": [
           {
            "marker": {
             "colorbar": {
              "outlinewidth": 0,
              "ticks": ""
             }
            },
            "type": "scatter"
           }
          ],
          "scatter3d": [
           {
            "line": {
             "colorbar": {
              "outlinewidth": 0,
              "ticks": ""
             }
            },
            "marker": {
             "colorbar": {
              "outlinewidth": 0,
              "ticks": ""
             }
            },
            "type": "scatter3d"
           }
          ],
          "scattercarpet": [
           {
            "marker": {
             "colorbar": {
              "outlinewidth": 0,
              "ticks": ""
             }
            },
            "type": "scattercarpet"
           }
          ],
          "scattergeo": [
           {
            "marker": {
             "colorbar": {
              "outlinewidth": 0,
              "ticks": ""
             }
            },
            "type": "scattergeo"
           }
          ],
          "scattergl": [
           {
            "marker": {
             "colorbar": {
              "outlinewidth": 0,
              "ticks": ""
             }
            },
            "type": "scattergl"
           }
          ],
          "scattermapbox": [
           {
            "marker": {
             "colorbar": {
              "outlinewidth": 0,
              "ticks": ""
             }
            },
            "type": "scattermapbox"
           }
          ],
          "scatterpolar": [
           {
            "marker": {
             "colorbar": {
              "outlinewidth": 0,
              "ticks": ""
             }
            },
            "type": "scatterpolar"
           }
          ],
          "scatterpolargl": [
           {
            "marker": {
             "colorbar": {
              "outlinewidth": 0,
              "ticks": ""
             }
            },
            "type": "scatterpolargl"
           }
          ],
          "scatterternary": [
           {
            "marker": {
             "colorbar": {
              "outlinewidth": 0,
              "ticks": ""
             }
            },
            "type": "scatterternary"
           }
          ],
          "surface": [
           {
            "colorbar": {
             "outlinewidth": 0,
             "ticks": ""
            },
            "colorscale": [
             [
              0,
              "#0d0887"
             ],
             [
              0.1111111111111111,
              "#46039f"
             ],
             [
              0.2222222222222222,
              "#7201a8"
             ],
             [
              0.3333333333333333,
              "#9c179e"
             ],
             [
              0.4444444444444444,
              "#bd3786"
             ],
             [
              0.5555555555555556,
              "#d8576b"
             ],
             [
              0.6666666666666666,
              "#ed7953"
             ],
             [
              0.7777777777777778,
              "#fb9f3a"
             ],
             [
              0.8888888888888888,
              "#fdca26"
             ],
             [
              1,
              "#f0f921"
             ]
            ],
            "type": "surface"
           }
          ],
          "table": [
           {
            "cells": {
             "fill": {
              "color": "#EBF0F8"
             },
             "line": {
              "color": "white"
             }
            },
            "header": {
             "fill": {
              "color": "#C8D4E3"
             },
             "line": {
              "color": "white"
             }
            },
            "type": "table"
           }
          ]
         },
         "layout": {
          "annotationdefaults": {
           "arrowcolor": "#2a3f5f",
           "arrowhead": 0,
           "arrowwidth": 1
          },
          "autotypenumbers": "strict",
          "coloraxis": {
           "colorbar": {
            "outlinewidth": 0,
            "ticks": ""
           }
          },
          "colorscale": {
           "diverging": [
            [
             0,
             "#8e0152"
            ],
            [
             0.1,
             "#c51b7d"
            ],
            [
             0.2,
             "#de77ae"
            ],
            [
             0.3,
             "#f1b6da"
            ],
            [
             0.4,
             "#fde0ef"
            ],
            [
             0.5,
             "#f7f7f7"
            ],
            [
             0.6,
             "#e6f5d0"
            ],
            [
             0.7,
             "#b8e186"
            ],
            [
             0.8,
             "#7fbc41"
            ],
            [
             0.9,
             "#4d9221"
            ],
            [
             1,
             "#276419"
            ]
           ],
           "sequential": [
            [
             0,
             "#0d0887"
            ],
            [
             0.1111111111111111,
             "#46039f"
            ],
            [
             0.2222222222222222,
             "#7201a8"
            ],
            [
             0.3333333333333333,
             "#9c179e"
            ],
            [
             0.4444444444444444,
             "#bd3786"
            ],
            [
             0.5555555555555556,
             "#d8576b"
            ],
            [
             0.6666666666666666,
             "#ed7953"
            ],
            [
             0.7777777777777778,
             "#fb9f3a"
            ],
            [
             0.8888888888888888,
             "#fdca26"
            ],
            [
             1,
             "#f0f921"
            ]
           ],
           "sequentialminus": [
            [
             0,
             "#0d0887"
            ],
            [
             0.1111111111111111,
             "#46039f"
            ],
            [
             0.2222222222222222,
             "#7201a8"
            ],
            [
             0.3333333333333333,
             "#9c179e"
            ],
            [
             0.4444444444444444,
             "#bd3786"
            ],
            [
             0.5555555555555556,
             "#d8576b"
            ],
            [
             0.6666666666666666,
             "#ed7953"
            ],
            [
             0.7777777777777778,
             "#fb9f3a"
            ],
            [
             0.8888888888888888,
             "#fdca26"
            ],
            [
             1,
             "#f0f921"
            ]
           ]
          },
          "colorway": [
           "#636efa",
           "#EF553B",
           "#00cc96",
           "#ab63fa",
           "#FFA15A",
           "#19d3f3",
           "#FF6692",
           "#B6E880",
           "#FF97FF",
           "#FECB52"
          ],
          "font": {
           "color": "#2a3f5f"
          },
          "geo": {
           "bgcolor": "white",
           "lakecolor": "white",
           "landcolor": "#E5ECF6",
           "showlakes": true,
           "showland": true,
           "subunitcolor": "white"
          },
          "hoverlabel": {
           "align": "left"
          },
          "hovermode": "closest",
          "mapbox": {
           "style": "light"
          },
          "paper_bgcolor": "white",
          "plot_bgcolor": "#E5ECF6",
          "polar": {
           "angularaxis": {
            "gridcolor": "white",
            "linecolor": "white",
            "ticks": ""
           },
           "bgcolor": "#E5ECF6",
           "radialaxis": {
            "gridcolor": "white",
            "linecolor": "white",
            "ticks": ""
           }
          },
          "scene": {
           "xaxis": {
            "backgroundcolor": "#E5ECF6",
            "gridcolor": "white",
            "gridwidth": 2,
            "linecolor": "white",
            "showbackground": true,
            "ticks": "",
            "zerolinecolor": "white"
           },
           "yaxis": {
            "backgroundcolor": "#E5ECF6",
            "gridcolor": "white",
            "gridwidth": 2,
            "linecolor": "white",
            "showbackground": true,
            "ticks": "",
            "zerolinecolor": "white"
           },
           "zaxis": {
            "backgroundcolor": "#E5ECF6",
            "gridcolor": "white",
            "gridwidth": 2,
            "linecolor": "white",
            "showbackground": true,
            "ticks": "",
            "zerolinecolor": "white"
           }
          },
          "shapedefaults": {
           "line": {
            "color": "#2a3f5f"
           }
          },
          "ternary": {
           "aaxis": {
            "gridcolor": "white",
            "linecolor": "white",
            "ticks": ""
           },
           "baxis": {
            "gridcolor": "white",
            "linecolor": "white",
            "ticks": ""
           },
           "bgcolor": "#E5ECF6",
           "caxis": {
            "gridcolor": "white",
            "linecolor": "white",
            "ticks": ""
           }
          },
          "title": {
           "x": 0.05
          },
          "xaxis": {
           "automargin": true,
           "gridcolor": "white",
           "linecolor": "white",
           "ticks": "",
           "title": {
            "standoff": 15
           },
           "zerolinecolor": "white",
           "zerolinewidth": 2
          },
          "yaxis": {
           "automargin": true,
           "gridcolor": "white",
           "linecolor": "white",
           "ticks": "",
           "title": {
            "standoff": 15
           },
           "zerolinecolor": "white",
           "zerolinewidth": 2
          }
         }
        },
        "xaxis": {
         "anchor": "y",
         "domain": [
          0,
          0.94
         ]
        },
        "yaxis": {
         "anchor": "x",
         "domain": [
          0,
          1
         ]
        },
        "yaxis2": {
         "anchor": "x",
         "overlaying": "y",
         "side": "right"
        }
       },
       "_py2js_addTraces": {},
       "_py2js_animate": {},
       "_py2js_deleteTraces": {},
       "_py2js_moveTraces": {},
       "_py2js_relayout": {},
       "_py2js_removeLayoutProps": {},
       "_py2js_removeTraceProps": {},
       "_py2js_restyle": {},
       "_py2js_update": {},
       "_view_count": 0
      }
     },
     "bd77224e39c24d2f950afe2a3f17d9b1": {
      "model_module": "jupyterlab-plotly",
      "model_module_version": "^5.6.0",
      "model_name": "FigureModel",
      "state": {
       "_config": {
        "plotlyServerURL": "https://plot.ly"
       },
       "_js2py_layoutDelta": {},
       "_js2py_pointsCallback": {},
       "_js2py_relayout": {},
       "_js2py_restyle": {},
       "_js2py_traceDeltas": {},
       "_js2py_update": {},
       "_layout": {
        "template": {
         "data": {
          "bar": [
           {
            "error_x": {
             "color": "#2a3f5f"
            },
            "error_y": {
             "color": "#2a3f5f"
            },
            "marker": {
             "line": {
              "color": "#E5ECF6",
              "width": 0.5
             },
             "pattern": {
              "fillmode": "overlay",
              "size": 10,
              "solidity": 0.2
             }
            },
            "type": "bar"
           }
          ],
          "barpolar": [
           {
            "marker": {
             "line": {
              "color": "#E5ECF6",
              "width": 0.5
             },
             "pattern": {
              "fillmode": "overlay",
              "size": 10,
              "solidity": 0.2
             }
            },
            "type": "barpolar"
           }
          ],
          "carpet": [
           {
            "aaxis": {
             "endlinecolor": "#2a3f5f",
             "gridcolor": "white",
             "linecolor": "white",
             "minorgridcolor": "white",
             "startlinecolor": "#2a3f5f"
            },
            "baxis": {
             "endlinecolor": "#2a3f5f",
             "gridcolor": "white",
             "linecolor": "white",
             "minorgridcolor": "white",
             "startlinecolor": "#2a3f5f"
            },
            "type": "carpet"
           }
          ],
          "choropleth": [
           {
            "colorbar": {
             "outlinewidth": 0,
             "ticks": ""
            },
            "type": "choropleth"
           }
          ],
          "contour": [
           {
            "colorbar": {
             "outlinewidth": 0,
             "ticks": ""
            },
            "colorscale": [
             [
              0,
              "#0d0887"
             ],
             [
              0.1111111111111111,
              "#46039f"
             ],
             [
              0.2222222222222222,
              "#7201a8"
             ],
             [
              0.3333333333333333,
              "#9c179e"
             ],
             [
              0.4444444444444444,
              "#bd3786"
             ],
             [
              0.5555555555555556,
              "#d8576b"
             ],
             [
              0.6666666666666666,
              "#ed7953"
             ],
             [
              0.7777777777777778,
              "#fb9f3a"
             ],
             [
              0.8888888888888888,
              "#fdca26"
             ],
             [
              1,
              "#f0f921"
             ]
            ],
            "type": "contour"
           }
          ],
          "contourcarpet": [
           {
            "colorbar": {
             "outlinewidth": 0,
             "ticks": ""
            },
            "type": "contourcarpet"
           }
          ],
          "heatmap": [
           {
            "colorbar": {
             "outlinewidth": 0,
             "ticks": ""
            },
            "colorscale": [
             [
              0,
              "#0d0887"
             ],
             [
              0.1111111111111111,
              "#46039f"
             ],
             [
              0.2222222222222222,
              "#7201a8"
             ],
             [
              0.3333333333333333,
              "#9c179e"
             ],
             [
              0.4444444444444444,
              "#bd3786"
             ],
             [
              0.5555555555555556,
              "#d8576b"
             ],
             [
              0.6666666666666666,
              "#ed7953"
             ],
             [
              0.7777777777777778,
              "#fb9f3a"
             ],
             [
              0.8888888888888888,
              "#fdca26"
             ],
             [
              1,
              "#f0f921"
             ]
            ],
            "type": "heatmap"
           }
          ],
          "heatmapgl": [
           {
            "colorbar": {
             "outlinewidth": 0,
             "ticks": ""
            },
            "colorscale": [
             [
              0,
              "#0d0887"
             ],
             [
              0.1111111111111111,
              "#46039f"
             ],
             [
              0.2222222222222222,
              "#7201a8"
             ],
             [
              0.3333333333333333,
              "#9c179e"
             ],
             [
              0.4444444444444444,
              "#bd3786"
             ],
             [
              0.5555555555555556,
              "#d8576b"
             ],
             [
              0.6666666666666666,
              "#ed7953"
             ],
             [
              0.7777777777777778,
              "#fb9f3a"
             ],
             [
              0.8888888888888888,
              "#fdca26"
             ],
             [
              1,
              "#f0f921"
             ]
            ],
            "type": "heatmapgl"
           }
          ],
          "histogram": [
           {
            "marker": {
             "pattern": {
              "fillmode": "overlay",
              "size": 10,
              "solidity": 0.2
             }
            },
            "type": "histogram"
           }
          ],
          "histogram2d": [
           {
            "colorbar": {
             "outlinewidth": 0,
             "ticks": ""
            },
            "colorscale": [
             [
              0,
              "#0d0887"
             ],
             [
              0.1111111111111111,
              "#46039f"
             ],
             [
              0.2222222222222222,
              "#7201a8"
             ],
             [
              0.3333333333333333,
              "#9c179e"
             ],
             [
              0.4444444444444444,
              "#bd3786"
             ],
             [
              0.5555555555555556,
              "#d8576b"
             ],
             [
              0.6666666666666666,
              "#ed7953"
             ],
             [
              0.7777777777777778,
              "#fb9f3a"
             ],
             [
              0.8888888888888888,
              "#fdca26"
             ],
             [
              1,
              "#f0f921"
             ]
            ],
            "type": "histogram2d"
           }
          ],
          "histogram2dcontour": [
           {
            "colorbar": {
             "outlinewidth": 0,
             "ticks": ""
            },
            "colorscale": [
             [
              0,
              "#0d0887"
             ],
             [
              0.1111111111111111,
              "#46039f"
             ],
             [
              0.2222222222222222,
              "#7201a8"
             ],
             [
              0.3333333333333333,
              "#9c179e"
             ],
             [
              0.4444444444444444,
              "#bd3786"
             ],
             [
              0.5555555555555556,
              "#d8576b"
             ],
             [
              0.6666666666666666,
              "#ed7953"
             ],
             [
              0.7777777777777778,
              "#fb9f3a"
             ],
             [
              0.8888888888888888,
              "#fdca26"
             ],
             [
              1,
              "#f0f921"
             ]
            ],
            "type": "histogram2dcontour"
           }
          ],
          "mesh3d": [
           {
            "colorbar": {
             "outlinewidth": 0,
             "ticks": ""
            },
            "type": "mesh3d"
           }
          ],
          "parcoords": [
           {
            "line": {
             "colorbar": {
              "outlinewidth": 0,
              "ticks": ""
             }
            },
            "type": "parcoords"
           }
          ],
          "pie": [
           {
            "automargin": true,
            "type": "pie"
           }
          ],
          "scatter": [
           {
            "marker": {
             "colorbar": {
              "outlinewidth": 0,
              "ticks": ""
             }
            },
            "type": "scatter"
           }
          ],
          "scatter3d": [
           {
            "line": {
             "colorbar": {
              "outlinewidth": 0,
              "ticks": ""
             }
            },
            "marker": {
             "colorbar": {
              "outlinewidth": 0,
              "ticks": ""
             }
            },
            "type": "scatter3d"
           }
          ],
          "scattercarpet": [
           {
            "marker": {
             "colorbar": {
              "outlinewidth": 0,
              "ticks": ""
             }
            },
            "type": "scattercarpet"
           }
          ],
          "scattergeo": [
           {
            "marker": {
             "colorbar": {
              "outlinewidth": 0,
              "ticks": ""
             }
            },
            "type": "scattergeo"
           }
          ],
          "scattergl": [
           {
            "marker": {
             "colorbar": {
              "outlinewidth": 0,
              "ticks": ""
             }
            },
            "type": "scattergl"
           }
          ],
          "scattermapbox": [
           {
            "marker": {
             "colorbar": {
              "outlinewidth": 0,
              "ticks": ""
             }
            },
            "type": "scattermapbox"
           }
          ],
          "scatterpolar": [
           {
            "marker": {
             "colorbar": {
              "outlinewidth": 0,
              "ticks": ""
             }
            },
            "type": "scatterpolar"
           }
          ],
          "scatterpolargl": [
           {
            "marker": {
             "colorbar": {
              "outlinewidth": 0,
              "ticks": ""
             }
            },
            "type": "scatterpolargl"
           }
          ],
          "scatterternary": [
           {
            "marker": {
             "colorbar": {
              "outlinewidth": 0,
              "ticks": ""
             }
            },
            "type": "scatterternary"
           }
          ],
          "surface": [
           {
            "colorbar": {
             "outlinewidth": 0,
             "ticks": ""
            },
            "colorscale": [
             [
              0,
              "#0d0887"
             ],
             [
              0.1111111111111111,
              "#46039f"
             ],
             [
              0.2222222222222222,
              "#7201a8"
             ],
             [
              0.3333333333333333,
              "#9c179e"
             ],
             [
              0.4444444444444444,
              "#bd3786"
             ],
             [
              0.5555555555555556,
              "#d8576b"
             ],
             [
              0.6666666666666666,
              "#ed7953"
             ],
             [
              0.7777777777777778,
              "#fb9f3a"
             ],
             [
              0.8888888888888888,
              "#fdca26"
             ],
             [
              1,
              "#f0f921"
             ]
            ],
            "type": "surface"
           }
          ],
          "table": [
           {
            "cells": {
             "fill": {
              "color": "#EBF0F8"
             },
             "line": {
              "color": "white"
             }
            },
            "header": {
             "fill": {
              "color": "#C8D4E3"
             },
             "line": {
              "color": "white"
             }
            },
            "type": "table"
           }
          ]
         },
         "layout": {
          "annotationdefaults": {
           "arrowcolor": "#2a3f5f",
           "arrowhead": 0,
           "arrowwidth": 1
          },
          "autotypenumbers": "strict",
          "coloraxis": {
           "colorbar": {
            "outlinewidth": 0,
            "ticks": ""
           }
          },
          "colorscale": {
           "diverging": [
            [
             0,
             "#8e0152"
            ],
            [
             0.1,
             "#c51b7d"
            ],
            [
             0.2,
             "#de77ae"
            ],
            [
             0.3,
             "#f1b6da"
            ],
            [
             0.4,
             "#fde0ef"
            ],
            [
             0.5,
             "#f7f7f7"
            ],
            [
             0.6,
             "#e6f5d0"
            ],
            [
             0.7,
             "#b8e186"
            ],
            [
             0.8,
             "#7fbc41"
            ],
            [
             0.9,
             "#4d9221"
            ],
            [
             1,
             "#276419"
            ]
           ],
           "sequential": [
            [
             0,
             "#0d0887"
            ],
            [
             0.1111111111111111,
             "#46039f"
            ],
            [
             0.2222222222222222,
             "#7201a8"
            ],
            [
             0.3333333333333333,
             "#9c179e"
            ],
            [
             0.4444444444444444,
             "#bd3786"
            ],
            [
             0.5555555555555556,
             "#d8576b"
            ],
            [
             0.6666666666666666,
             "#ed7953"
            ],
            [
             0.7777777777777778,
             "#fb9f3a"
            ],
            [
             0.8888888888888888,
             "#fdca26"
            ],
            [
             1,
             "#f0f921"
            ]
           ],
           "sequentialminus": [
            [
             0,
             "#0d0887"
            ],
            [
             0.1111111111111111,
             "#46039f"
            ],
            [
             0.2222222222222222,
             "#7201a8"
            ],
            [
             0.3333333333333333,
             "#9c179e"
            ],
            [
             0.4444444444444444,
             "#bd3786"
            ],
            [
             0.5555555555555556,
             "#d8576b"
            ],
            [
             0.6666666666666666,
             "#ed7953"
            ],
            [
             0.7777777777777778,
             "#fb9f3a"
            ],
            [
             0.8888888888888888,
             "#fdca26"
            ],
            [
             1,
             "#f0f921"
            ]
           ]
          },
          "colorway": [
           "#636efa",
           "#EF553B",
           "#00cc96",
           "#ab63fa",
           "#FFA15A",
           "#19d3f3",
           "#FF6692",
           "#B6E880",
           "#FF97FF",
           "#FECB52"
          ],
          "font": {
           "color": "#2a3f5f"
          },
          "geo": {
           "bgcolor": "white",
           "lakecolor": "white",
           "landcolor": "#E5ECF6",
           "showlakes": true,
           "showland": true,
           "subunitcolor": "white"
          },
          "hoverlabel": {
           "align": "left"
          },
          "hovermode": "closest",
          "mapbox": {
           "style": "light"
          },
          "paper_bgcolor": "white",
          "plot_bgcolor": "#E5ECF6",
          "polar": {
           "angularaxis": {
            "gridcolor": "white",
            "linecolor": "white",
            "ticks": ""
           },
           "bgcolor": "#E5ECF6",
           "radialaxis": {
            "gridcolor": "white",
            "linecolor": "white",
            "ticks": ""
           }
          },
          "scene": {
           "xaxis": {
            "backgroundcolor": "#E5ECF6",
            "gridcolor": "white",
            "gridwidth": 2,
            "linecolor": "white",
            "showbackground": true,
            "ticks": "",
            "zerolinecolor": "white"
           },
           "yaxis": {
            "backgroundcolor": "#E5ECF6",
            "gridcolor": "white",
            "gridwidth": 2,
            "linecolor": "white",
            "showbackground": true,
            "ticks": "",
            "zerolinecolor": "white"
           },
           "zaxis": {
            "backgroundcolor": "#E5ECF6",
            "gridcolor": "white",
            "gridwidth": 2,
            "linecolor": "white",
            "showbackground": true,
            "ticks": "",
            "zerolinecolor": "white"
           }
          },
          "shapedefaults": {
           "line": {
            "color": "#2a3f5f"
           }
          },
          "ternary": {
           "aaxis": {
            "gridcolor": "white",
            "linecolor": "white",
            "ticks": ""
           },
           "baxis": {
            "gridcolor": "white",
            "linecolor": "white",
            "ticks": ""
           },
           "bgcolor": "#E5ECF6",
           "caxis": {
            "gridcolor": "white",
            "linecolor": "white",
            "ticks": ""
           }
          },
          "title": {
           "x": 0.05
          },
          "xaxis": {
           "automargin": true,
           "gridcolor": "white",
           "linecolor": "white",
           "ticks": "",
           "title": {
            "standoff": 15
           },
           "zerolinecolor": "white",
           "zerolinewidth": 2
          },
          "yaxis": {
           "automargin": true,
           "gridcolor": "white",
           "linecolor": "white",
           "ticks": "",
           "title": {
            "standoff": 15
           },
           "zerolinecolor": "white",
           "zerolinewidth": 2
          }
         }
        },
        "xaxis": {
         "anchor": "y",
         "domain": [
          0,
          0.94
         ],
         "matches": "x2",
         "showticklabels": false
        },
        "xaxis2": {
         "anchor": "y3",
         "domain": [
          0,
          0.94
         ]
        },
        "yaxis": {
         "anchor": "x",
         "domain": [
          0.32100000000000006,
          1
         ]
        },
        "yaxis2": {
         "anchor": "x",
         "overlaying": "y",
         "side": "right"
        },
        "yaxis3": {
         "anchor": "x2",
         "domain": [
          0,
          0.29100000000000004
         ]
        },
        "yaxis4": {
         "anchor": "x2",
         "overlaying": "y3",
         "side": "right"
        }
       },
       "_py2js_addTraces": {},
       "_py2js_animate": {},
       "_py2js_deleteTraces": {},
       "_py2js_moveTraces": {},
       "_py2js_relayout": {},
       "_py2js_removeLayoutProps": {},
       "_py2js_removeTraceProps": {},
       "_py2js_restyle": {},
       "_py2js_update": {},
       "_view_count": 0
      }
     }
    },
    "version_major": 2,
    "version_minor": 0
   }
  }
 },
 "nbformat": 4,
 "nbformat_minor": 5
}

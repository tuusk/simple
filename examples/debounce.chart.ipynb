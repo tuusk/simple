{
 "cells": [
  {
   "cell_type": "code",
   "execution_count": 1,
   "id": "394d085f-7510-446e-bb12-384082b22535",
   "metadata": {
    "execution": {
     "iopub.execute_input": "2022-06-14T15:20:34.019886Z",
     "iopub.status.busy": "2022-06-14T15:20:34.019886Z",
     "iopub.status.idle": "2022-06-14T15:20:34.884980Z",
     "shell.execute_reply": "2022-06-14T15:20:34.884980Z",
     "shell.execute_reply.started": "2022-06-14T15:20:34.019886Z"
    },
    "tags": []
   },
   "outputs": [],
   "source": [
    "from simple.ohlc import debounce, midPrice, TTrade\n",
    "from simple.plotly import chartFigure\n",
    "from simple.funcs import symlog\n",
    "import numpy as np"
   ]
  },
  {
   "cell_type": "code",
   "execution_count": 2,
   "id": "f2178691-427f-44d0-bce0-c278c85763c2",
   "metadata": {
    "execution": {
     "iopub.execute_input": "2022-06-14T15:20:34.886030Z",
     "iopub.status.busy": "2022-06-14T15:20:34.886030Z",
     "iopub.status.idle": "2022-06-14T15:20:35.002245Z",
     "shell.execute_reply": "2022-06-14T15:20:35.002245Z",
     "shell.execute_reply.started": "2022-06-14T15:20:34.886030Z"
    },
    "tags": []
   },
   "outputs": [
    {
     "data": {
      "text/plain": [
       "rec.array([('2021-06-01T01:10:04.112000', '2021-06-01T01:10:04.157000', 37678.5,  -1100., nan),\n",
       "           ('2021-06-01T01:10:04.112000', '2021-06-01T01:10:04.157000', 37678.5,   -900., nan),\n",
       "           ('2021-06-01T01:10:04.112000', '2021-06-01T01:10:04.157000', 37678.5, -14856., nan),\n",
       "           ('2021-06-01T01:10:04.230000', '2021-06-01T01:10:04.347000', 37678.5, -16856., nan),\n",
       "           ('2021-06-01T01:10:04.232000', '2021-06-01T01:10:04.347000', 37678.5,  -7288., nan)],\n",
       "          dtype=[('DateTimeA', '<M8[us]'), ('LocalTimeA', '<M8[us]'), ('PriceA', '<f8'), ('VolumeA', '<f8'), ('OpenIntA', '<f8')])"
      ]
     },
     "execution_count": 2,
     "metadata": {},
     "output_type": "execute_result"
    }
   ],
   "source": [
    "T = np.load('data/tick.npz')['BTCUSDT'].view(np.recarray)[:13000]\n",
    "T[-5:]"
   ]
  },
  {
   "cell_type": "code",
   "execution_count": 3,
   "id": "7f12f0f8-07db-42f4-8e14-f64749cb63f3",
   "metadata": {
    "execution": {
     "iopub.execute_input": "2022-06-14T15:20:35.003246Z",
     "iopub.status.busy": "2022-06-14T15:20:35.003246Z",
     "iopub.status.idle": "2022-06-14T15:20:35.007290Z",
     "shell.execute_reply": "2022-06-14T15:20:35.007290Z",
     "shell.execute_reply.started": "2022-06-14T15:20:35.003246Z"
    },
    "tags": []
   },
   "outputs": [],
   "source": [
    "Buy = T[T.VolumeA > 0]\n",
    "Sell = T[T.VolumeA < 0]"
   ]
  },
  {
   "cell_type": "code",
   "execution_count": 4,
   "id": "58c23d13-eac4-48d7-a860-98ea7dd6004e",
   "metadata": {
    "execution": {
     "iopub.execute_input": "2022-06-14T15:20:35.008290Z",
     "iopub.status.busy": "2022-06-14T15:20:35.008290Z",
     "iopub.status.idle": "2022-06-14T15:20:35.840822Z",
     "shell.execute_reply": "2022-06-14T15:20:35.840822Z",
     "shell.execute_reply.started": "2022-06-14T15:20:35.008290Z"
    },
    "tags": []
   },
   "outputs": [
    {
     "data": {
      "text/plain": [
       "rec.array([('2021-06-01T01:09:21.633000', 2579, 37657.75,  1674999, 74400., 73400.,  -1000.,  8,  7, 1),\n",
       "           ('2021-06-01T01:09:23.502000', 2580, 37662.25,        0, 50000., 50000.,      0.,  1,  1, 0),\n",
       "           ('2021-06-01T01:09:23.502000', 2581, 37670.75,        0,  5000.,  5000.,      0.,  1,  1, 0),\n",
       "           ('2021-06-01T01:09:23.729000', 2582, 37671.75,   111000,  7300.,  7300.,      0.,  6,  6, 0),\n",
       "           ('2021-06-01T01:09:23.945000', 2583, 37678.75, 40287000, 57620., 16394., -41226., 25, 18, 7)],\n",
       "          dtype=[('DT', '<M8[us]'), ('Index', '<i4'), ('Price', '<f8'), ('Duration', '<m8[us]'), ('Volume', '<f8'), ('BuySize', '<f8'), ('SellSize', '<f8'), ('Count', '<i4'), ('BuyCount', '<i4'), ('SellCount', '<i4')])"
      ]
     },
     "execution_count": 4,
     "metadata": {},
     "output_type": "execute_result"
    }
   ],
   "source": [
    "C = debounce(T)\n",
    "C[-5:]"
   ]
  },
  {
   "cell_type": "code",
   "execution_count": 5,
   "id": "b7fcbf7e-0825-4da1-bd10-5600bc1666ed",
   "metadata": {
    "execution": {
     "iopub.execute_input": "2022-06-14T15:20:35.841821Z",
     "iopub.status.busy": "2022-06-14T15:20:35.841821Z",
     "iopub.status.idle": "2022-06-14T15:20:35.844822Z",
     "shell.execute_reply": "2022-06-14T15:20:35.844822Z",
     "shell.execute_reply.started": "2022-06-14T15:20:35.841821Z"
    },
    "tags": []
   },
   "outputs": [
    {
     "data": {
      "text/plain": [
       "(13000, 2584)"
      ]
     },
     "execution_count": 5,
     "metadata": {},
     "output_type": "execute_result"
    }
   ],
   "source": [
    "len(T), len(C)"
   ]
  },
  {
   "cell_type": "code",
   "execution_count": 6,
   "id": "b72c1f8a-ed42-4b9e-966e-d834a53a7dc4",
   "metadata": {
    "execution": {
     "iopub.execute_input": "2022-06-14T15:20:35.845823Z",
     "iopub.status.busy": "2022-06-14T15:20:35.845823Z",
     "iopub.status.idle": "2022-06-14T15:20:36.400507Z",
     "shell.execute_reply": "2022-06-14T15:20:36.400507Z",
     "shell.execute_reply.started": "2022-06-14T15:20:35.845823Z"
    },
    "tags": []
   },
   "outputs": [
    {
     "data": {
      "application/vnd.jupyter.widget-view+json": {
       "model_id": "6569db27e8544010a73d40bf3825e9dc",
       "version_major": 2,
       "version_minor": 0
      },
      "text/plain": [
       "FigureWidgetResampler({\n",
       "    'data': [{'marker': {'color': 'red',\n",
       "                         'opacity': 0.2,\n",
       "    …"
      ]
     },
     "metadata": {},
     "output_type": "display_data"
    }
   ],
   "source": [
    "# indexed chart\n",
    "fig = chartFigure(height=400,\n",
    "    Sell=dict(x=Sell.DateTimeA, y=Sell.PriceA, color='red', mode='markers', size=-symlog(Sell.VolumeA)+3, opacity=0.2),\n",
    "    Buy=dict(x=Buy.DateTimeA, y=Buy.PriceA, color='green', mode='markers', size=symlog(Buy.VolumeA)+3, opacity=0.2),\n",
    "    Debounce=dict(mode='markers+lines', x=C.DT, y=C.Price, color='black', connectgaps=True, opacity=0.7)\n",
    ")\n",
    "fig"
   ]
  },
  {
   "cell_type": "code",
   "execution_count": 7,
   "id": "2607c6c0-f04a-4197-8591-0a883c6cf2fc",
   "metadata": {
    "execution": {
     "iopub.execute_input": "2022-06-14T15:20:36.401508Z",
     "iopub.status.busy": "2022-06-14T15:20:36.401508Z",
     "iopub.status.idle": "2022-06-14T15:20:36.406509Z",
     "shell.execute_reply": "2022-06-14T15:20:36.406509Z",
     "shell.execute_reply.started": "2022-06-14T15:20:36.401508Z"
    },
    "jupyter": {
     "source_hidden": true
    },
    "tags": []
   },
   "outputs": [
    {
     "data": {
      "text/plain": [
       "rec.array([('2021-06-01T01:08:10.270000', 2561, 37646.75,        0,   -212.,     0.,   -212.,  1,  0,  1),\n",
       "           ('2021-06-01T01:08:59.130000', 2574, 37671.75,   103000,  -8200.,     0.,  -8200.,  6,  0,  6),\n",
       "           ('2021-06-01T01:09:00.441000', 2575, 37657.75,  9318000, -22497.,     0., -22497., 11,  0, 11),\n",
       "           ('2021-06-01T01:09:09.792000', 2576, 37650.25,        0,    -60.,     0.,    -60.,  2,  0,  2),\n",
       "           ('2021-06-01T01:09:23.945000', 2583, 37678.75, 40287000, -24832., 16394., -41226., 25, 18,  7)],\n",
       "          dtype=[('DT', '<M8[us]'), ('Index', '<i4'), ('Price', '<f8'), ('Duration', '<m8[us]'), ('Volume', '<f8'), ('BuySize', '<f8'), ('SellSize', '<f8'), ('Count', '<i4'), ('BuyCount', '<i4'), ('SellCount', '<i4')])"
      ]
     },
     "execution_count": 7,
     "metadata": {},
     "output_type": "execute_result"
    }
   ],
   "source": [
    "C.Volume = C.BuySize + C.SellSize\n",
    "Buy = C[C.Volume > 0]\n",
    "Sell = C[C.Volume < 0]\n",
    "Sell[-5:]"
   ]
  },
  {
   "cell_type": "code",
   "execution_count": 8,
   "id": "fd713a4e-dd67-4814-8c00-b3ea537ce3cf",
   "metadata": {
    "execution": {
     "iopub.execute_input": "2022-06-14T15:20:36.407509Z",
     "iopub.status.busy": "2022-06-14T15:20:36.407509Z",
     "iopub.status.idle": "2022-06-14T15:20:36.557543Z",
     "shell.execute_reply": "2022-06-14T15:20:36.557543Z",
     "shell.execute_reply.started": "2022-06-14T15:20:36.407509Z"
    },
    "tags": []
   },
   "outputs": [
    {
     "data": {
      "application/vnd.jupyter.widget-view+json": {
       "model_id": "2eb1c031be754da393b121192252c971",
       "version_major": 2,
       "version_minor": 0
      },
      "text/plain": [
       "FigureWidgetResampler({\n",
       "    'data': [{'marker': {'color': 'red',\n",
       "                         'opacity': 0.4,\n",
       "    …"
      ]
     },
     "metadata": {},
     "output_type": "display_data"
    }
   ],
   "source": [
    "# indexed chart without bidask\n",
    "fig = chartFigure(height=400,\n",
    "    Sell=dict(x=Sell.Index, y=Sell.Price, color='red', mode='markers', size=-symlog(Sell.Volume)-1, opacity=0.4),\n",
    "    Buy=dict(x=Buy.Index, y=Buy.Price, color='green', mode='markers', size=symlog(Buy.Volume)-1, opacity=0.4),\n",
    ")\n",
    "fig"
   ]
  },
  {
   "cell_type": "code",
   "execution_count": 9,
   "id": "fbfc2778-5b0d-42ca-a5f7-37acefa8a3bc",
   "metadata": {
    "execution": {
     "iopub.execute_input": "2022-06-14T15:20:36.558543Z",
     "iopub.status.busy": "2022-06-14T15:20:36.558543Z",
     "iopub.status.idle": "2022-06-14T15:20:36.563544Z",
     "shell.execute_reply": "2022-06-14T15:20:36.563544Z",
     "shell.execute_reply.started": "2022-06-14T15:20:36.558543Z"
    },
    "tags": []
   },
   "outputs": [
    {
     "data": {
      "text/plain": [
       "rec.array([('2021-06-01T01:09:21.633000', '1970-01-01T00:00:00.000000', 37657.75,  72400., 0.),\n",
       "           ('2021-06-01T01:09:23.502000', '1970-01-01T00:00:00.000000', 37662.25,  50000., 0.),\n",
       "           ('2021-06-01T01:09:23.502000', '1970-01-01T00:00:00.000000', 37670.75,   5000., 0.),\n",
       "           ('2021-06-01T01:09:23.729000', '1970-01-01T00:00:00.000000', 37671.75,   7300., 0.),\n",
       "           ('2021-06-01T01:09:23.945000', '1970-01-01T00:00:00.000000', 37678.75, -24832., 0.)],\n",
       "          dtype=[('DateTimeA', '<M8[us]'), ('LocalTimeA', '<M8[us]'), ('PriceA', '<f8'), ('VolumeA', '<f8'), ('OpenIntA', '<f8')])"
      ]
     },
     "execution_count": 9,
     "metadata": {},
     "output_type": "execute_result"
    }
   ],
   "source": [
    "T = np.zeros(len(C), dtype=TTrade).view(np.recarray)\n",
    "T.DateTimeA = C.DT\n",
    "T.PriceA = C.Price\n",
    "T.VolumeA = C.Volume\n",
    "T[-5:]"
   ]
  },
  {
   "cell_type": "code",
   "execution_count": 10,
   "id": "c6a1f43b-4d92-464f-88b0-3b6b34e8596e",
   "metadata": {
    "execution": {
     "iopub.execute_input": "2022-06-14T15:20:36.564545Z",
     "iopub.status.busy": "2022-06-14T15:20:36.564545Z",
     "iopub.status.idle": "2022-06-14T15:20:36.571546Z",
     "shell.execute_reply": "2022-06-14T15:20:36.571546Z",
     "shell.execute_reply.started": "2022-06-14T15:20:36.564545Z"
    },
    "tags": []
   },
   "outputs": [
    {
     "data": {
      "text/plain": [
       "(2584, 2565)"
      ]
     },
     "execution_count": 10,
     "metadata": {},
     "output_type": "execute_result"
    }
   ],
   "source": [
    "C = debounce(T)\n",
    "len(T), len(C)"
   ]
  },
  {
   "cell_type": "code",
   "execution_count": 11,
   "id": "586689f2-b133-450f-96c0-8430fdaa3044",
   "metadata": {
    "execution": {
     "iopub.execute_input": "2022-06-14T15:20:36.572546Z",
     "iopub.status.busy": "2022-06-14T15:20:36.572546Z",
     "iopub.status.idle": "2022-06-14T15:20:36.712578Z",
     "shell.execute_reply": "2022-06-14T15:20:36.712578Z",
     "shell.execute_reply.started": "2022-06-14T15:20:36.572546Z"
    },
    "tags": []
   },
   "outputs": [
    {
     "data": {
      "application/vnd.jupyter.widget-view+json": {
       "model_id": "01c4131d1015470f95d6ba176d3ffc71",
       "version_major": 2,
       "version_minor": 0
      },
      "text/plain": [
       "FigureWidgetResampler({\n",
       "    'data': [{'marker': {'color': 'red',\n",
       "                         'opacity': 0.4,\n",
       "    …"
      ]
     },
     "metadata": {},
     "output_type": "display_data"
    }
   ],
   "source": [
    "# indexed chart without bidask\n",
    "fig = chartFigure(height=400,\n",
    "    Sell=dict(x=Sell.Index, y=Sell.Price, color='red', mode='markers', size=-symlog(Sell.Volume)-1, opacity=0.4),\n",
    "    Buy=dict(x=Buy.Index, y=Buy.Price, color='green', mode='markers', size=symlog(Buy.Volume)-1, opacity=0.4),\n",
    ")\n",
    "fig"
   ]
  },
  {
   "cell_type": "code",
   "execution_count": null,
   "id": "ff310ba4-4f10-49d2-a656-279d24d21232",
   "metadata": {},
   "outputs": [],
   "source": []
  }
 ],
 "metadata": {
  "kernelspec": {
   "display_name": "Python 3 (ipykernel)",
   "language": "python",
   "name": "python3"
  },
  "language_info": {
   "codemirror_mode": {
    "name": "ipython",
    "version": 3
   },
   "file_extension": ".py",
   "mimetype": "text/x-python",
   "name": "python",
   "nbconvert_exporter": "python",
   "pygments_lexer": "ipython3",
   "version": "3.9.12"
  }
 },
 "nbformat": 4,
 "nbformat_minor": 5
}

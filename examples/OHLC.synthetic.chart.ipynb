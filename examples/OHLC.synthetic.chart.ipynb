{
 "cells": [
  {
   "cell_type": "code",
   "execution_count": 1,
   "id": "07c7c795-918c-426b-899a-c680da7d3fa4",
   "metadata": {
    "execution": {
     "iopub.execute_input": "2023-05-23T13:08:02.589035Z",
     "iopub.status.busy": "2023-05-23T13:08:02.588813Z",
     "iopub.status.idle": "2023-05-23T13:08:03.820436Z",
     "shell.execute_reply": "2023-05-23T13:08:03.819600Z",
     "shell.execute_reply.started": "2023-05-23T13:08:02.589010Z"
    },
    "tags": []
   },
   "outputs": [],
   "source": [
    "import numpy as np\n",
    "import pandas as pd\n",
    "from simple.chart import chartFigure\n",
    "from simple.types import TOHLC\n",
    "from datetime import date\n",
    "from talib import ADX\n",
    "from simple.jurik import JCFB\n",
    "from simple.hurst import HurstDSOD\n",
    "from simple.funcs import varIndex"
   ]
  },
  {
   "cell_type": "code",
   "execution_count": 2,
   "id": "473d1555-1e80-4f69-83ab-b92e223e14db",
   "metadata": {
    "execution": {
     "iopub.execute_input": "2023-05-23T13:08:03.822977Z",
     "iopub.status.busy": "2023-05-23T13:08:03.822489Z",
     "iopub.status.idle": "2023-05-23T13:08:03.828130Z",
     "shell.execute_reply": "2023-05-23T13:08:03.826253Z",
     "shell.execute_reply.started": "2023-05-23T13:08:03.822951Z"
    },
    "tags": []
   },
   "outputs": [],
   "source": [
    "period = 1024"
   ]
  },
  {
   "cell_type": "code",
   "execution_count": 3,
   "id": "3e72c770-40cb-4a42-bbc6-bf242a29689a",
   "metadata": {
    "execution": {
     "iopub.execute_input": "2023-05-23T13:08:03.830322Z",
     "iopub.status.busy": "2023-05-23T13:08:03.829881Z",
     "iopub.status.idle": "2023-05-23T13:08:03.841562Z",
     "shell.execute_reply": "2023-05-23T13:08:03.840925Z",
     "shell.execute_reply.started": "2023-05-23T13:08:03.830297Z"
    },
    "tags": []
   },
   "outputs": [
    {
     "data": {
      "text/plain": [
       "12288"
      ]
     },
     "execution_count": 3,
     "metadata": {},
     "output_type": "execute_result"
    }
   ],
   "source": [
    "A = (np.random.rand(period*4)-0.05).cumsum()\n",
    "B = np.random.rand(period*8) + A[-1]\n",
    "T = np.hstack((A, B))/100\n",
    "len(T)"
   ]
  },
  {
   "cell_type": "code",
   "execution_count": 4,
   "id": "f53a7dfb-e2de-45d5-95d9-93133a734b10",
   "metadata": {
    "execution": {
     "iopub.execute_input": "2023-05-23T13:08:03.842637Z",
     "iopub.status.busy": "2023-05-23T13:08:03.842408Z",
     "iopub.status.idle": "2023-05-23T13:08:03.869677Z",
     "shell.execute_reply": "2023-05-23T13:08:03.869049Z",
     "shell.execute_reply.started": "2023-05-23T13:08:03.842614Z"
    },
    "tags": []
   },
   "outputs": [
    {
     "data": {
      "text/html": [
       "<div>\n",
       "<style scoped>\n",
       "    .dataframe tbody tr th:only-of-type {\n",
       "        vertical-align: middle;\n",
       "    }\n",
       "\n",
       "    .dataframe tbody tr th {\n",
       "        vertical-align: top;\n",
       "    }\n",
       "\n",
       "    .dataframe thead th {\n",
       "        text-align: right;\n",
       "    }\n",
       "</style>\n",
       "<table border=\"1\" class=\"dataframe\">\n",
       "  <thead>\n",
       "    <tr style=\"text-align: right;\">\n",
       "      <th></th>\n",
       "      <th>open</th>\n",
       "      <th>high</th>\n",
       "      <th>low</th>\n",
       "      <th>close</th>\n",
       "    </tr>\n",
       "  </thead>\n",
       "  <tbody>\n",
       "    <tr>\n",
       "      <th>0</th>\n",
       "      <td>0.008224</td>\n",
       "      <td>0.062912</td>\n",
       "      <td>0.008224</td>\n",
       "      <td>0.062912</td>\n",
       "    </tr>\n",
       "    <tr>\n",
       "      <th>1</th>\n",
       "      <td>0.066031</td>\n",
       "      <td>0.123517</td>\n",
       "      <td>0.066031</td>\n",
       "      <td>0.123517</td>\n",
       "    </tr>\n",
       "    <tr>\n",
       "      <th>2</th>\n",
       "      <td>0.124414</td>\n",
       "      <td>0.196294</td>\n",
       "      <td>0.124414</td>\n",
       "      <td>0.196294</td>\n",
       "    </tr>\n",
       "    <tr>\n",
       "      <th>3</th>\n",
       "      <td>0.200856</td>\n",
       "      <td>0.260350</td>\n",
       "      <td>0.200856</td>\n",
       "      <td>0.259880</td>\n",
       "    </tr>\n",
       "    <tr>\n",
       "      <th>4</th>\n",
       "      <td>0.260924</td>\n",
       "      <td>0.339551</td>\n",
       "      <td>0.260924</td>\n",
       "      <td>0.339551</td>\n",
       "    </tr>\n",
       "    <tr>\n",
       "      <th>...</th>\n",
       "      <td>...</td>\n",
       "      <td>...</td>\n",
       "      <td>...</td>\n",
       "      <td>...</td>\n",
       "    </tr>\n",
       "    <tr>\n",
       "      <th>815</th>\n",
       "      <td>18.753875</td>\n",
       "      <td>18.756038</td>\n",
       "      <td>18.746359</td>\n",
       "      <td>18.746359</td>\n",
       "    </tr>\n",
       "    <tr>\n",
       "      <th>816</th>\n",
       "      <td>18.753133</td>\n",
       "      <td>18.755454</td>\n",
       "      <td>18.746324</td>\n",
       "      <td>18.753933</td>\n",
       "    </tr>\n",
       "    <tr>\n",
       "      <th>817</th>\n",
       "      <td>18.747651</td>\n",
       "      <td>18.755785</td>\n",
       "      <td>18.746485</td>\n",
       "      <td>18.754369</td>\n",
       "    </tr>\n",
       "    <tr>\n",
       "      <th>818</th>\n",
       "      <td>18.748237</td>\n",
       "      <td>18.755125</td>\n",
       "      <td>18.747136</td>\n",
       "      <td>18.748439</td>\n",
       "    </tr>\n",
       "    <tr>\n",
       "      <th>819</th>\n",
       "      <td>18.747870</td>\n",
       "      <td>18.751361</td>\n",
       "      <td>18.747051</td>\n",
       "      <td>18.747051</td>\n",
       "    </tr>\n",
       "  </tbody>\n",
       "</table>\n",
       "<p>820 rows × 4 columns</p>\n",
       "</div>"
      ],
      "text/plain": [
       "          open       high        low      close\n",
       "0     0.008224   0.062912   0.008224   0.062912\n",
       "1     0.066031   0.123517   0.066031   0.123517\n",
       "2     0.124414   0.196294   0.124414   0.196294\n",
       "3     0.200856   0.260350   0.200856   0.259880\n",
       "4     0.260924   0.339551   0.260924   0.339551\n",
       "..         ...        ...        ...        ...\n",
       "815  18.753875  18.756038  18.746359  18.746359\n",
       "816  18.753133  18.755454  18.746324  18.753933\n",
       "817  18.747651  18.755785  18.746485  18.754369\n",
       "818  18.748237  18.755125  18.747136  18.748439\n",
       "819  18.747870  18.751361  18.747051  18.747051\n",
       "\n",
       "[820 rows x 4 columns]"
      ]
     },
     "execution_count": 4,
     "metadata": {},
     "output_type": "execute_result"
    }
   ],
   "source": [
    "C = pd.DataFrame(T, index=pd.date_range(date.today(), freq='1min', periods=len(T))).resample('15min').ohlc()[0].reset_index()\n",
    "del C['index']\n",
    "C"
   ]
  },
  {
   "cell_type": "code",
   "execution_count": 5,
   "id": "62f87807-6ac0-4438-a279-2cf27464bf48",
   "metadata": {
    "execution": {
     "iopub.execute_input": "2023-05-23T13:08:03.870791Z",
     "iopub.status.busy": "2023-05-23T13:08:03.870536Z",
     "iopub.status.idle": "2023-05-23T13:08:03.879435Z",
     "shell.execute_reply": "2023-05-23T13:08:03.878722Z",
     "shell.execute_reply.started": "2023-05-23T13:08:03.870767Z"
    },
    "tags": []
   },
   "outputs": [
    {
     "data": {
      "text/plain": [
       "rec.array([('1970-01-01T00:00:00.000815', 18.75387546, 18.75603816, 18.74635945, 18.74635945, 0., 0., 0., 0, 0, 0),\n",
       "           ('1970-01-01T00:00:00.000816', 18.75313256, 18.75545386, 18.74632385, 18.75393258, 0., 0., 0., 0, 0, 0),\n",
       "           ('1970-01-01T00:00:00.000817', 18.74765066, 18.7557849 , 18.74648507, 18.75436862, 0., 0., 0., 0, 0, 0),\n",
       "           ('1970-01-01T00:00:00.000818', 18.74823683, 18.75512461, 18.74713592, 18.74843948, 0., 0., 0., 0, 0, 0),\n",
       "           ('1970-01-01T00:00:00.000819', 18.74786958, 18.75136128, 18.74705067, 18.74705067, 0., 0., 0., 0, 0, 0)],\n",
       "          dtype=[('DateTime', '<M8[us]'), ('Open', '<f8'), ('High', '<f8'), ('Low', '<f8'), ('Close', '<f8'), ('Size', '<f8'), ('BuySize', '<f8'), ('SellSize', '<f8'), ('Count', '<i8'), ('BuyCount', '<i8'), ('SellCount', '<i8')])"
      ]
     },
     "execution_count": 5,
     "metadata": {},
     "output_type": "execute_result"
    }
   ],
   "source": [
    "c = np.zeros(len(C), dtype=TOHLC).view(np.recarray)\n",
    "c.DateTime = C.index\n",
    "c.Open = C.open\n",
    "c.High = C.high\n",
    "c.Low = C.low\n",
    "c.Close = C.close\n",
    "c[-5:]"
   ]
  },
  {
   "cell_type": "code",
   "execution_count": 6,
   "id": "86e4cff1-900a-46b9-a180-160105230f79",
   "metadata": {
    "execution": {
     "iopub.execute_input": "2023-05-23T13:08:03.880894Z",
     "iopub.status.busy": "2023-05-23T13:08:03.880374Z",
     "iopub.status.idle": "2023-05-23T13:08:11.598996Z",
     "shell.execute_reply": "2023-05-23T13:08:11.597920Z",
     "shell.execute_reply.started": "2023-05-23T13:08:03.880867Z"
    },
    "tags": []
   },
   "outputs": [
    {
     "data": {
      "application/vnd.jupyter.widget-view+json": {
       "model_id": "8ad028ef580d4117b0235e73ed09b0cb",
       "version_major": 2,
       "version_minor": 0
      },
      "text/plain": [
       "FigureWidgetResampler({\n",
       "    'data': [{'close': array([ 0.06291181,  0.12351745,  0.19629437, ..., 18.75436862, 18.74843948,\n",
       "                              18.74705067]),\n",
       "              'high': array([ 0.06291181,  0.12351745,  0.19629437, ..., 18.7557849 , 18.75512461,\n",
       "                             18.75136128]),\n",
       "              'low': array([8.22363447e-03, 6.60312847e-02, 1.24414281e-01, ..., 1.87464851e+01,\n",
       "                            1.87471359e+01, 1.87470507e+01]),\n",
       "              'name': 'OHLC',\n",
       "              'open': array([8.22363447e-03, 6.60312847e-02, 1.24414281e-01, ..., 1.87476507e+01,\n",
       "                             1.87482368e+01, 1.87478696e+01]),\n",
       "              'type': 'candlestick',\n",
       "              'uid': 'e0c4ee36-9f59-4043-842a-449f12a553fc',\n",
       "              'x': array([  0,   1,   2, ..., 817, 818, 819]),\n",
       "              'xaxis': 'x5'},\n",
       "             {'name': 'ADX',\n",
       "              'type': 'scattergl',\n",
       "              'uid': '2bb717db-4263-4cf9-ab66-c42e68211d5d',\n",
       "              'x': array([ 13,  14,  15, ..., 817, 818, 819]),\n",
       "              'xaxis': 'x5',\n",
       "              'y': array([100.        , 100.        , 100.        , ...,  21.63725074,\n",
       "                           21.04078542,  19.83824069]),\n",
       "              'yaxis': 'y3'},\n",
       "             {'name': 'CFB',\n",
       "              'type': 'scattergl',\n",
       "              'uid': 'e0e052e7-7812-4b60-b96d-30133dc61dc6',\n",
       "              'x': array([  0,   1,   2, ..., 817, 818, 819]),\n",
       "              'xaxis': 'x5',\n",
       "              'y': array([40.        , 40.        , 40.        , ...,  6.89444768,  5.77708655,\n",
       "                           4.38783025]),\n",
       "              'yaxis': 'y5'},\n",
       "             {'name': 'HurstDSOD',\n",
       "              'type': 'scattergl',\n",
       "              'uid': 'b7a3655f-8207-48b7-80aa-91a573fa8748',\n",
       "              'x': array([  0,   1,   2, ..., 817, 818, 819]),\n",
       "              'xaxis': 'x5',\n",
       "              'y': array([ 0.88029989,  0.88029989,  0.88029989, ..., -0.01716635,  0.00963073,\n",
       "                           0.02509955]),\n",
       "              'yaxis': 'y7'},\n",
       "             {'name': 'varIndex',\n",
       "              'type': 'scattergl',\n",
       "              'uid': '11812656-c07f-4906-8057-7f4f22cbf9ca',\n",
       "              'x': array([  0,   1,   2, ..., 817, 818, 819]),\n",
       "              'xaxis': 'x5',\n",
       "              'y': array([0.        , 0.        , 0.        , ..., 0.81234074, 0.81045549,\n",
       "                          0.80795049]),\n",
       "              'yaxis': 'y9'}],\n",
       "    'layout': {'autosize': True,\n",
       "               'height': 700,\n",
       "               'legend': {'orientation': 'h', 'x': 0.1, 'y': 1},\n",
       "               'margin': {'b': 10, 'l': 45, 'pad': 3, 'r': 15, 't': 30},\n",
       "               'template': '...',\n",
       "               'xaxis': {'anchor': 'y',\n",
       "                         'domain': [0.0, 0.94],\n",
       "                         'matches': 'x5',\n",
       "                         'rangeslider': {'visible': False},\n",
       "                         'showticklabels': False,\n",
       "                         'spikedash': 'dot',\n",
       "                         'spikemode': 'across+marker',\n",
       "                         'spikesnap': 'cursor',\n",
       "                         'spikethickness': 2},\n",
       "               'xaxis2': {'anchor': 'y3',\n",
       "                          'domain': [0.0, 0.94],\n",
       "                          'matches': 'x5',\n",
       "                          'rangeslider': {'visible': False},\n",
       "                          'showticklabels': False,\n",
       "                          'spikedash': 'dot',\n",
       "                          'spikemode': 'across+marker',\n",
       "                          'spikesnap': 'cursor',\n",
       "                          'spikethickness': 2},\n",
       "               'xaxis3': {'anchor': 'y5',\n",
       "                          'domain': [0.0, 0.94],\n",
       "                          'matches': 'x5',\n",
       "                          'rangeslider': {'visible': False},\n",
       "                          'showticklabels': False,\n",
       "                          'spikedash': 'dot',\n",
       "                          'spikemode': 'across+marker',\n",
       "                          'spikesnap': 'cursor',\n",
       "                          'spikethickness': 2},\n",
       "               'xaxis4': {'anchor': 'y7',\n",
       "                          'domain': [0.0, 0.94],\n",
       "                          'matches': 'x5',\n",
       "                          'rangeslider': {'visible': False},\n",
       "                          'showticklabels': False,\n",
       "                          'spikedash': 'dot',\n",
       "                          'spikemode': 'across+marker',\n",
       "                          'spikesnap': 'cursor',\n",
       "                          'spikethickness': 2},\n",
       "               'xaxis5': {'anchor': 'y9',\n",
       "                          'domain': [0.0, 0.94],\n",
       "                          'rangeslider': {'visible': False},\n",
       "                          'spikedash': 'dot',\n",
       "                          'spikemode': 'across+marker',\n",
       "                          'spikesnap': 'cursor',\n",
       "                          'spikethickness': 2},\n",
       "               'yaxis': {'anchor': 'x', 'domain': [0.648, 1.0]},\n",
       "               'yaxis10': {'anchor': 'x5', 'overlaying': 'y9', 'side': 'right'},\n",
       "               'yaxis2': {'anchor': 'x', 'overlaying': 'y', 'side': 'right'},\n",
       "               'yaxis3': {'anchor': 'x2', 'domain': [0.486, 0.618]},\n",
       "               'yaxis4': {'anchor': 'x2', 'overlaying': 'y3', 'side': 'right'},\n",
       "               'yaxis5': {'anchor': 'x3', 'domain': [0.324, 0.456]},\n",
       "               'yaxis6': {'anchor': 'x3', 'overlaying': 'y5', 'side': 'right'},\n",
       "               'yaxis7': {'anchor': 'x4', 'domain': [0.162, 0.29400000000000004]},\n",
       "               'yaxis8': {'anchor': 'x4', 'overlaying': 'y7', 'side': 'right'},\n",
       "               'yaxis9': {'anchor': 'x5', 'domain': [0.0, 0.132]}}\n",
       "})"
      ]
     },
     "execution_count": 6,
     "metadata": {},
     "output_type": "execute_result"
    }
   ],
   "source": [
    "chartFigure(rows=5,\n",
    "    OHLC=dict(mode='candlestick', x=C.index, open=C.open, high=C.high, low=C.low, close=C.close),\n",
    "    ADX=dict(x=C.index, y=ADX(C.high, C.low, C.close, 7), row=2),\n",
    "    CFB=dict(x=C.index, y=JCFB(C.close.values, 5, 3), row=3),\n",
    "    HurstDSOD=dict(x=C.index, y=HurstDSOD(C.close.values, 64), row=4),\n",
    "    varIndex=dict(x=C.index, y=varIndex(c, 6), row=5)\n",
    ")"
   ]
  },
  {
   "cell_type": "code",
   "execution_count": null,
   "id": "4c771451-1563-4b40-b46d-0fc71df0718a",
   "metadata": {},
   "outputs": [],
   "source": []
  }
 ],
 "metadata": {
  "kernelspec": {
   "display_name": "Python 3 (ipykernel)",
   "language": "python",
   "name": "python3"
  },
  "language_info": {
   "codemirror_mode": {
    "name": "ipython",
    "version": 3
   },
   "file_extension": ".py",
   "mimetype": "text/x-python",
   "name": "python",
   "nbconvert_exporter": "python",
   "pygments_lexer": "ipython3",
   "version": "3.9.16"
  }
 },
 "nbformat": 4,
 "nbformat_minor": 5
}

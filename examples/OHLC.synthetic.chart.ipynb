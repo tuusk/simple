{
 "cells": [
  {
   "cell_type": "code",
   "execution_count": 1,
   "id": "07c7c795-918c-426b-899a-c680da7d3fa4",
   "metadata": {
    "execution": {
     "iopub.execute_input": "2022-07-07T17:07:38.239144Z",
     "iopub.status.busy": "2022-07-07T17:07:38.239144Z",
     "iopub.status.idle": "2022-07-07T17:07:39.553980Z",
     "shell.execute_reply": "2022-07-07T17:07:39.553980Z",
     "shell.execute_reply.started": "2022-07-07T17:07:38.239144Z"
    },
    "tags": []
   },
   "outputs": [],
   "source": [
    "import numpy as np\n",
    "import pandas as pd\n",
    "from simple.chart import chartFigure\n",
    "from simple.types import TOHLC\n",
    "from datetime import date\n",
    "from talib import ADX\n",
    "from simple.jurik import JCFB\n",
    "from simple.hurst import HurstDSOD\n",
    "from simple.funcs import varIndex"
   ]
  },
  {
   "cell_type": "code",
   "execution_count": 2,
   "id": "473d1555-1e80-4f69-83ab-b92e223e14db",
   "metadata": {
    "execution": {
     "iopub.execute_input": "2022-07-07T17:07:39.554981Z",
     "iopub.status.busy": "2022-07-07T17:07:39.554981Z",
     "iopub.status.idle": "2022-07-07T17:07:39.556982Z",
     "shell.execute_reply": "2022-07-07T17:07:39.556982Z",
     "shell.execute_reply.started": "2022-07-07T17:07:39.554981Z"
    },
    "tags": []
   },
   "outputs": [],
   "source": [
    "period = 1024"
   ]
  },
  {
   "cell_type": "code",
   "execution_count": 3,
   "id": "3e72c770-40cb-4a42-bbc6-bf242a29689a",
   "metadata": {
    "execution": {
     "iopub.execute_input": "2022-07-07T17:07:39.557981Z",
     "iopub.status.busy": "2022-07-07T17:07:39.557981Z",
     "iopub.status.idle": "2022-07-07T17:07:39.569985Z",
     "shell.execute_reply": "2022-07-07T17:07:39.569985Z",
     "shell.execute_reply.started": "2022-07-07T17:07:39.557981Z"
    },
    "tags": []
   },
   "outputs": [
    {
     "data": {
      "text/plain": [
       "12288"
      ]
     },
     "execution_count": 3,
     "metadata": {},
     "output_type": "execute_result"
    }
   ],
   "source": [
    "A = (np.random.rand(period*4)-0.05).cumsum()\n",
    "B = np.random.rand(period*8) + A[-1]\n",
    "T = np.hstack((A, B))/100\n",
    "len(T)"
   ]
  },
  {
   "cell_type": "code",
   "execution_count": 4,
   "id": "f53a7dfb-e2de-45d5-95d9-93133a734b10",
   "metadata": {
    "execution": {
     "iopub.execute_input": "2022-07-07T17:07:39.570984Z",
     "iopub.status.busy": "2022-07-07T17:07:39.570984Z",
     "iopub.status.idle": "2022-07-07T17:07:39.591057Z",
     "shell.execute_reply": "2022-07-07T17:07:39.591057Z",
     "shell.execute_reply.started": "2022-07-07T17:07:39.570984Z"
    },
    "tags": []
   },
   "outputs": [
    {
     "data": {
      "text/html": [
       "<div>\n",
       "<style scoped>\n",
       "    .dataframe tbody tr th:only-of-type {\n",
       "        vertical-align: middle;\n",
       "    }\n",
       "\n",
       "    .dataframe tbody tr th {\n",
       "        vertical-align: top;\n",
       "    }\n",
       "\n",
       "    .dataframe thead th {\n",
       "        text-align: right;\n",
       "    }\n",
       "</style>\n",
       "<table border=\"1\" class=\"dataframe\">\n",
       "  <thead>\n",
       "    <tr style=\"text-align: right;\">\n",
       "      <th></th>\n",
       "      <th>open</th>\n",
       "      <th>high</th>\n",
       "      <th>low</th>\n",
       "      <th>close</th>\n",
       "    </tr>\n",
       "  </thead>\n",
       "  <tbody>\n",
       "    <tr>\n",
       "      <th>0</th>\n",
       "      <td>0.004777</td>\n",
       "      <td>0.079745</td>\n",
       "      <td>0.004777</td>\n",
       "      <td>0.079745</td>\n",
       "    </tr>\n",
       "    <tr>\n",
       "      <th>1</th>\n",
       "      <td>0.085827</td>\n",
       "      <td>0.143932</td>\n",
       "      <td>0.085674</td>\n",
       "      <td>0.143563</td>\n",
       "    </tr>\n",
       "    <tr>\n",
       "      <th>2</th>\n",
       "      <td>0.151641</td>\n",
       "      <td>0.208114</td>\n",
       "      <td>0.151641</td>\n",
       "      <td>0.208114</td>\n",
       "    </tr>\n",
       "    <tr>\n",
       "      <th>3</th>\n",
       "      <td>0.212791</td>\n",
       "      <td>0.283864</td>\n",
       "      <td>0.212791</td>\n",
       "      <td>0.283864</td>\n",
       "    </tr>\n",
       "    <tr>\n",
       "      <th>4</th>\n",
       "      <td>0.288826</td>\n",
       "      <td>0.355173</td>\n",
       "      <td>0.288826</td>\n",
       "      <td>0.355173</td>\n",
       "    </tr>\n",
       "    <tr>\n",
       "      <th>...</th>\n",
       "      <td>...</td>\n",
       "      <td>...</td>\n",
       "      <td>...</td>\n",
       "      <td>...</td>\n",
       "    </tr>\n",
       "    <tr>\n",
       "      <th>815</th>\n",
       "      <td>18.447848</td>\n",
       "      <td>18.454668</td>\n",
       "      <td>18.446447</td>\n",
       "      <td>18.452237</td>\n",
       "    </tr>\n",
       "    <tr>\n",
       "      <th>816</th>\n",
       "      <td>18.451942</td>\n",
       "      <td>18.453820</td>\n",
       "      <td>18.445457</td>\n",
       "      <td>18.447142</td>\n",
       "    </tr>\n",
       "    <tr>\n",
       "      <th>817</th>\n",
       "      <td>18.452120</td>\n",
       "      <td>18.453925</td>\n",
       "      <td>18.445467</td>\n",
       "      <td>18.451364</td>\n",
       "    </tr>\n",
       "    <tr>\n",
       "      <th>818</th>\n",
       "      <td>18.454428</td>\n",
       "      <td>18.454658</td>\n",
       "      <td>18.445566</td>\n",
       "      <td>18.454177</td>\n",
       "    </tr>\n",
       "    <tr>\n",
       "      <th>819</th>\n",
       "      <td>18.446628</td>\n",
       "      <td>18.454186</td>\n",
       "      <td>18.446628</td>\n",
       "      <td>18.453523</td>\n",
       "    </tr>\n",
       "  </tbody>\n",
       "</table>\n",
       "<p>820 rows × 4 columns</p>\n",
       "</div>"
      ],
      "text/plain": [
       "          open       high        low      close\n",
       "0     0.004777   0.079745   0.004777   0.079745\n",
       "1     0.085827   0.143932   0.085674   0.143563\n",
       "2     0.151641   0.208114   0.151641   0.208114\n",
       "3     0.212791   0.283864   0.212791   0.283864\n",
       "4     0.288826   0.355173   0.288826   0.355173\n",
       "..         ...        ...        ...        ...\n",
       "815  18.447848  18.454668  18.446447  18.452237\n",
       "816  18.451942  18.453820  18.445457  18.447142\n",
       "817  18.452120  18.453925  18.445467  18.451364\n",
       "818  18.454428  18.454658  18.445566  18.454177\n",
       "819  18.446628  18.454186  18.446628  18.453523\n",
       "\n",
       "[820 rows x 4 columns]"
      ]
     },
     "execution_count": 4,
     "metadata": {},
     "output_type": "execute_result"
    }
   ],
   "source": [
    "C = pd.DataFrame(T, index=pd.date_range(date.today(), freq='1min', periods=len(T))).resample('15min').ohlc()[0].reset_index()\n",
    "del C['index']\n",
    "C"
   ]
  },
  {
   "cell_type": "code",
   "execution_count": 5,
   "id": "62f87807-6ac0-4438-a279-2cf27464bf48",
   "metadata": {
    "execution": {
     "iopub.execute_input": "2022-07-07T17:07:39.592058Z",
     "iopub.status.busy": "2022-07-07T17:07:39.592058Z",
     "iopub.status.idle": "2022-07-07T17:07:39.600059Z",
     "shell.execute_reply": "2022-07-07T17:07:39.600059Z",
     "shell.execute_reply.started": "2022-07-07T17:07:39.592058Z"
    },
    "tags": []
   },
   "outputs": [
    {
     "data": {
      "text/plain": [
       "rec.array([('1970-01-01T00:00:00.000815', 18.44784847, 18.45466765, 18.44644718, 18.45223653, 0., 0., 0., 0, 0, 0),\n",
       "           ('1970-01-01T00:00:00.000816', 18.45194181, 18.45382006, 18.44545736, 18.44714232, 0., 0., 0., 0, 0, 0),\n",
       "           ('1970-01-01T00:00:00.000817', 18.45212041, 18.45392485, 18.44546691, 18.45136353, 0., 0., 0., 0, 0, 0),\n",
       "           ('1970-01-01T00:00:00.000818', 18.45442814, 18.4546579 , 18.44556638, 18.45417712, 0., 0., 0., 0, 0, 0),\n",
       "           ('1970-01-01T00:00:00.000819', 18.44662805, 18.45418621, 18.44662805, 18.45352258, 0., 0., 0., 0, 0, 0)],\n",
       "          dtype=[('DateTime', '<M8[us]'), ('Open', '<f8'), ('High', '<f8'), ('Low', '<f8'), ('Close', '<f8'), ('Size', '<f8'), ('BuySize', '<f8'), ('SellSize', '<f8'), ('Count', '<i4'), ('BuyCount', '<i4'), ('SellCount', '<i4')])"
      ]
     },
     "execution_count": 5,
     "metadata": {},
     "output_type": "execute_result"
    }
   ],
   "source": [
    "c = np.zeros(len(C), dtype=TOHLC).view(np.recarray)\n",
    "c.DateTime = C.index\n",
    "c.Open = C.open\n",
    "c.High = C.high\n",
    "c.Low = C.low\n",
    "c.Close = C.close\n",
    "c[-5:]"
   ]
  },
  {
   "cell_type": "code",
   "execution_count": 6,
   "id": "86e4cff1-900a-46b9-a180-160105230f79",
   "metadata": {
    "execution": {
     "iopub.execute_input": "2022-07-07T17:07:39.601060Z",
     "iopub.status.busy": "2022-07-07T17:07:39.601060Z",
     "iopub.status.idle": "2022-07-07T17:07:44.781831Z",
     "shell.execute_reply": "2022-07-07T17:07:44.781831Z",
     "shell.execute_reply.started": "2022-07-07T17:07:39.601060Z"
    },
    "tags": []
   },
   "outputs": [
    {
     "data": {
      "application/vnd.jupyter.widget-view+json": {
       "model_id": "d11267a6a1bb4ad598b283411f584d94",
       "version_major": 2,
       "version_minor": 0
      },
      "text/plain": [
       "FigureWidgetResampler({\n",
       "    'data': [{'close': array([ 0.07974497,  0.14356315,  0.20811397, ..., 18.45136353,…"
      ]
     },
     "metadata": {},
     "output_type": "display_data"
    }
   ],
   "source": [
    "chartFigure(rows=5,\n",
    "    OHLC=dict(mode='candlestick', x=C.index, open=C.open, high=C.high, low=C.low, close=C.close),\n",
    "    ADX=dict(x=C.index, y=ADX(C.high, C.low, C.close, 7), row=2),\n",
    "    CFB=dict(x=C.index, y=JCFB(C.close.values, 5, 3), row=3),\n",
    "    HurstDSOD=dict(x=C.index, y=HurstDSOD(C.close.values, 64), row=4),\n",
    "    varIndex=dict(x=C.index, y=varIndex(c, 6), row=5)\n",
    ")"
   ]
  },
  {
   "cell_type": "code",
   "execution_count": null,
   "id": "4c771451-1563-4b40-b46d-0fc71df0718a",
   "metadata": {},
   "outputs": [],
   "source": []
  }
 ],
 "metadata": {
  "kernelspec": {
   "display_name": "Python 3 (ipykernel)",
   "language": "python",
   "name": "python3"
  },
  "language_info": {
   "codemirror_mode": {
    "name": "ipython",
    "version": 3
   },
   "file_extension": ".py",
   "mimetype": "text/x-python",
   "name": "python",
   "nbconvert_exporter": "python",
   "pygments_lexer": "ipython3",
   "version": "3.9.12"
  }
 },
 "nbformat": 4,
 "nbformat_minor": 5
}

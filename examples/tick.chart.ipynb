{
 "cells": [
  {
   "cell_type": "code",
   "execution_count": 1,
   "id": "d645f44e",
   "metadata": {
    "collapsed": false,
    "execution": {
     "iopub.execute_input": "2022-06-22T07:01:27.176015Z",
     "iopub.status.busy": "2022-06-22T07:01:27.176015Z",
     "iopub.status.idle": "2022-06-22T07:01:28.007660Z",
     "shell.execute_reply": "2022-06-22T07:01:28.007660Z",
     "shell.execute_reply.started": "2022-06-22T07:01:27.176015Z"
    },
    "jupyter": {
     "outputs_hidden": false
    },
    "pycharm": {
     "name": "#%%\n"
    },
    "tags": []
   },
   "outputs": [],
   "source": [
    "import numpy as np\n",
    "from simple.plotly import chartFigure\n",
    "from simple.funcs import symlog, vPIN, cPIN, tickSpeed"
   ]
  },
  {
   "cell_type": "code",
   "execution_count": 2,
   "id": "bd27d73e",
   "metadata": {
    "collapsed": false,
    "execution": {
     "iopub.execute_input": "2022-06-22T07:01:28.008660Z",
     "iopub.status.busy": "2022-06-22T07:01:28.008660Z",
     "iopub.status.idle": "2022-06-22T07:01:28.119180Z",
     "shell.execute_reply": "2022-06-22T07:01:28.119180Z",
     "shell.execute_reply.started": "2022-06-22T07:01:28.008660Z"
    },
    "jupyter": {
     "outputs_hidden": false
    },
    "pycharm": {
     "name": "#%%\n"
    },
    "tags": []
   },
   "outputs": [
    {
     "data": {
      "text/plain": [
       "907307"
      ]
     },
     "execution_count": 2,
     "metadata": {},
     "output_type": "execute_result"
    }
   ],
   "source": [
    "T = np.load('data/ETHUSDT.2022-05-08.tick.npz')['ETHUSDT'].view(np.recarray)\n",
    "len(T)"
   ]
  },
  {
   "cell_type": "code",
   "execution_count": 3,
   "id": "a4305193",
   "metadata": {
    "collapsed": false,
    "execution": {
     "iopub.execute_input": "2022-06-22T07:01:28.120680Z",
     "iopub.status.busy": "2022-06-22T07:01:28.120180Z",
     "iopub.status.idle": "2022-06-22T07:01:28.152186Z",
     "shell.execute_reply": "2022-06-22T07:01:28.152186Z",
     "shell.execute_reply.started": "2022-06-22T07:01:28.120680Z"
    },
    "jupyter": {
     "outputs_hidden": false
    },
    "pycharm": {
     "name": "#%%\n"
    },
    "tags": []
   },
   "outputs": [
    {
     "data": {
      "text/plain": [
       "rec.array([('2022-05-08T00:01:00.335000', 2735, 2636.,  6.),\n",
       "           ('2022-05-08T00:01:00.335000', 2736, 2636.,  4.),\n",
       "           ('2022-05-08T00:01:00.668000', 2737, 2636., 96.),\n",
       "           ('2022-05-08T00:01:00.668000', 2738, 2636.,  2.),\n",
       "           ('2022-05-08T00:01:00.668000', 2739, 2636.,  2.)],\n",
       "          dtype={'names':['DT','LocalDT','Price','Size'], 'formats':['<M8[us]','<i8','<f8','<f8'], 'offsets':[0,8,16,24], 'itemsize':40})"
      ]
     },
     "execution_count": 3,
     "metadata": {},
     "output_type": "execute_result"
    }
   ],
   "source": [
    "Buy = T[T.Size > 0]\n",
    "Sell = T[T.Size < 0]\n",
    "Buy[:5]"
   ]
  },
  {
   "cell_type": "code",
   "execution_count": 4,
   "id": "30841b90-78a2-45c2-945d-95b6c37442ee",
   "metadata": {
    "execution": {
     "iopub.execute_input": "2022-06-22T07:01:28.153185Z",
     "iopub.status.busy": "2022-06-22T07:01:28.153185Z",
     "iopub.status.idle": "2022-06-22T07:01:30.020513Z",
     "shell.execute_reply": "2022-06-22T07:01:30.020012Z",
     "shell.execute_reply.started": "2022-06-22T07:01:28.153185Z"
    },
    "tags": []
   },
   "outputs": [
    {
     "data": {
      "application/vnd.jupyter.widget-view+json": {
       "model_id": "e029bb8f73ea475aae406997eae00ac7",
       "version_major": 2,
       "version_minor": 0
      },
      "text/plain": [
       "FigureWidgetResampler({\n",
       "    'data': [{'marker': {'color': 'red',\n",
       "                         'opacity': 0.2,\n",
       "    …"
      ]
     },
     "metadata": {},
     "output_type": "display_data"
    }
   ],
   "source": [
    "# indexed chart without bidask\n",
    "fig = chartFigure(rows=3,\n",
    "    Sell=dict(x=Sell.LocalDT, y=Sell.Price, color='red', mode='markers', size=-symlog(Sell.Size)+3, opacity=0.2),\n",
    "    Buy=dict(x=Buy.LocalDT, y=Buy.Price, color='green', mode='markers', size=symlog(Buy.Size)+3, opacity=0.2),\n",
    "    VPIN=dict(y=vPIN(T, 3000), row=2),\n",
    "    CPIN=dict(y=cPIN(T, 3000), row=2),\n",
    "    Speed=dict(y=tickSpeed(T, 3000), row=3)\n",
    ")\n",
    "fig"
   ]
  },
  {
   "cell_type": "code",
   "execution_count": 5,
   "id": "10390b68",
   "metadata": {
    "collapsed": false,
    "execution": {
     "iopub.execute_input": "2022-06-22T07:01:30.021012Z",
     "iopub.status.busy": "2022-06-22T07:01:30.021012Z",
     "iopub.status.idle": "2022-06-22T07:01:30.079023Z",
     "shell.execute_reply": "2022-06-22T07:01:30.079023Z",
     "shell.execute_reply.started": "2022-06-22T07:01:30.021012Z"
    },
    "jupyter": {
     "outputs_hidden": false
    },
    "pycharm": {
     "name": "#%%\n"
    }
   },
   "outputs": [
    {
     "data": {
      "text/plain": [
       "rec.array([('2022-05-08T00:01:00.007000', 2636., 2635.99),\n",
       "           ('2022-05-08T00:01:00.043000', 2636., 2635.99),\n",
       "           ('2022-05-08T00:01:00.079000', 2636., 2635.99),\n",
       "           ('2022-05-08T00:01:00.117000', 2636., 2635.99),\n",
       "           ('2022-05-08T00:01:00.149000', 2636., 2635.99)],\n",
       "          dtype={'names':['DT','A','B'], 'formats':['<M8[us]','<f4','<f4'], 'offsets':[0,8,16], 'itemsize':24})"
      ]
     },
     "execution_count": 5,
     "metadata": {},
     "output_type": "execute_result"
    }
   ],
   "source": [
    "S = np.load('data/ETHUSDT.2022-05-08.bidask.npz')['ETHUSDT'].view(np.recarray)\n",
    "S[:5]"
   ]
  },
  {
   "cell_type": "code",
   "execution_count": 7,
   "id": "f1e5ed6e",
   "metadata": {
    "collapsed": false,
    "execution": {
     "iopub.execute_input": "2022-06-22T07:02:03.911446Z",
     "iopub.status.busy": "2022-06-22T07:02:03.911446Z",
     "iopub.status.idle": "2022-06-22T07:02:04.677579Z",
     "shell.execute_reply": "2022-06-22T07:02:04.677579Z",
     "shell.execute_reply.started": "2022-06-22T07:02:03.911446Z"
    },
    "jupyter": {
     "outputs_hidden": false
    },
    "pycharm": {
     "name": "#%%\n"
    },
    "tags": []
   },
   "outputs": [
    {
     "data": {
      "application/vnd.jupyter.widget-view+json": {
       "model_id": "20fa872618cd4b708c5408e6ce5debbb",
       "version_major": 2,
       "version_minor": 0
      },
      "text/plain": [
       "FigureWidgetResampler({\n",
       "    'data': [{'marker': {'color': 'red',\n",
       "                         'opacity': 0.2,\n",
       "    …"
      ]
     },
     "metadata": {},
     "output_type": "display_data"
    }
   ],
   "source": [
    "# timed chart\n",
    "fig = chartFigure(\n",
    "    Sell=dict(x=Sell.DT, y=Sell.Price, color='red', mode='markers', size=-symlog(Sell.Size)+3, opacity=0.2),\n",
    "    Buy=dict(x=Buy.DT, y=Buy.Price, color='green', mode='markers', size=symlog(Buy.Size)+3, opacity=0.2),\n",
    "    Ask=dict(x=S.DT, y=S.A, color='red', opacity=0.2, shape='hv', mode='lines'),\n",
    "    Bid=dict(x=S.DT, y=S.B, color='green', opacity=0.2, shape='hv', mode='lines')\n",
    ")\n",
    "fig"
   ]
  },
  {
   "cell_type": "code",
   "execution_count": null,
   "id": "b26fbe1b-60cd-4e6d-8e3c-ecfe958d53f2",
   "metadata": {},
   "outputs": [],
   "source": []
  }
 ],
 "metadata": {
  "kernelspec": {
   "display_name": "Python 3 (ipykernel)",
   "language": "python",
   "name": "python3"
  },
  "language_info": {
   "codemirror_mode": {
    "name": "ipython",
    "version": 3
   },
   "file_extension": ".py",
   "mimetype": "text/x-python",
   "name": "python",
   "nbconvert_exporter": "python",
   "pygments_lexer": "ipython3",
   "version": "3.9.12"
  }
 },
 "nbformat": 4,
 "nbformat_minor": 5
}

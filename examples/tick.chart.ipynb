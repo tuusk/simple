{
 "cells": [
  {
   "cell_type": "code",
   "execution_count": 1,
   "id": "d645f44e",
   "metadata": {
    "collapsed": false,
    "execution": {
     "iopub.execute_input": "2023-05-05T16:38:18.612133Z",
     "iopub.status.busy": "2023-05-05T16:38:18.611444Z",
     "iopub.status.idle": "2023-05-05T16:38:19.686796Z",
     "shell.execute_reply": "2023-05-05T16:38:19.685142Z",
     "shell.execute_reply.started": "2023-05-05T16:38:18.612072Z"
    },
    "jupyter": {
     "outputs_hidden": false
    },
    "pycharm": {
     "name": "#%%\n"
    },
    "tags": []
   },
   "outputs": [],
   "source": [
    "import numpy as np\n",
    "from simple.chart import chartFigure\n",
    "from simple.funcs import symlog, vPIN, cPIN, tickSpeed, npAdd"
   ]
  },
  {
   "cell_type": "code",
   "execution_count": 2,
   "id": "bd27d73e",
   "metadata": {
    "collapsed": false,
    "execution": {
     "iopub.execute_input": "2023-05-05T16:38:20.427303Z",
     "iopub.status.busy": "2023-05-05T16:38:20.426622Z",
     "iopub.status.idle": "2023-05-05T16:38:20.539340Z",
     "shell.execute_reply": "2023-05-05T16:38:20.538318Z",
     "shell.execute_reply.started": "2023-05-05T16:38:20.427238Z"
    },
    "jupyter": {
     "outputs_hidden": false
    },
    "pycharm": {
     "name": "#%%\n"
    },
    "tags": []
   },
   "outputs": [
    {
     "data": {
      "text/plain": [
       "(907307,\n",
       " dtype((numpy.record, [('DateTime', '<M8[us]'), ('Price', '<f8'), ('Size', '<f8')])))"
      ]
     },
     "execution_count": 2,
     "metadata": {},
     "output_type": "execute_result"
    }
   ],
   "source": [
    "T = np.load('data/ETHUSDT.2022-05-08.tick.npz')['ETHUSDT'].view(np.recarray)\n",
    "len(T), T.dtype"
   ]
  },
  {
   "cell_type": "code",
   "execution_count": 3,
   "id": "685f9afa-dd0d-4949-8cd4-46d3553117f3",
   "metadata": {
    "execution": {
     "iopub.execute_input": "2023-05-05T16:38:21.272147Z",
     "iopub.status.busy": "2023-05-05T16:38:21.271391Z",
     "iopub.status.idle": "2023-05-05T16:38:21.383600Z",
     "shell.execute_reply": "2023-05-05T16:38:21.382766Z",
     "shell.execute_reply.started": "2023-05-05T16:38:21.272081Z"
    },
    "tags": []
   },
   "outputs": [
    {
     "data": {
      "text/plain": [
       "rec.array([('2022-05-08T00:01:00.335000', 2636.  ,   6.,      0),\n",
       "           ('2022-05-08T00:01:00.335000', 2636.  ,   4.,      1),\n",
       "           ('2022-05-08T00:01:00.668000', 2636.  ,  96.,      2), ...,\n",
       "           ('2022-05-08T05:59:59.886999', 2537.16, 210., 907304),\n",
       "           ('2022-05-08T05:59:59.897000', 2537.16,   2., 907305),\n",
       "           ('2022-05-08T05:59:59.909999', 2537.16,   2., 907306)],\n",
       "          dtype=[('DateTime', '<M8[us]'), ('Price', '<f8'), ('Size', '<f8'), ('LocalDT', '<i8')])"
      ]
     },
     "execution_count": 3,
     "metadata": {},
     "output_type": "execute_result"
    }
   ],
   "source": [
    "T = npAdd(T, ['Index'], [range(len(T))])\n",
    "T"
   ]
  },
  {
   "cell_type": "code",
   "execution_count": 4,
   "id": "a4305193",
   "metadata": {
    "collapsed": false,
    "execution": {
     "iopub.execute_input": "2023-05-05T16:38:25.297008Z",
     "iopub.status.busy": "2023-05-05T16:38:25.296234Z",
     "iopub.status.idle": "2023-05-05T16:38:25.353184Z",
     "shell.execute_reply": "2023-05-05T16:38:25.352393Z",
     "shell.execute_reply.started": "2023-05-05T16:38:25.296943Z"
    },
    "jupyter": {
     "outputs_hidden": false
    },
    "pycharm": {
     "name": "#%%\n"
    },
    "tags": []
   },
   "outputs": [
    {
     "data": {
      "text/plain": [
       "rec.array([('2022-05-08T00:01:00.335000', 2636.,  6., 0),\n",
       "           ('2022-05-08T00:01:00.335000', 2636.,  4., 1),\n",
       "           ('2022-05-08T00:01:00.668000', 2636., 96., 2),\n",
       "           ('2022-05-08T00:01:00.668000', 2636.,  2., 3),\n",
       "           ('2022-05-08T00:01:00.668000', 2636.,  2., 4)],\n",
       "          dtype=[('DateTime', '<M8[us]'), ('Price', '<f8'), ('Size', '<f8'), ('LocalDT', '<i8')])"
      ]
     },
     "execution_count": 4,
     "metadata": {},
     "output_type": "execute_result"
    }
   ],
   "source": [
    "Buy = T[T.Size > 0]\n",
    "Sell = T[T.Size < 0]\n",
    "Buy[:5]"
   ]
  },
  {
   "cell_type": "code",
   "execution_count": 5,
   "id": "30841b90-78a2-45c2-945d-95b6c37442ee",
   "metadata": {
    "execution": {
     "iopub.execute_input": "2023-05-05T16:38:26.029008Z",
     "iopub.status.busy": "2023-05-05T16:38:26.028404Z",
     "iopub.status.idle": "2023-05-05T16:38:28.613824Z",
     "shell.execute_reply": "2023-05-05T16:38:28.613144Z",
     "shell.execute_reply.started": "2023-05-05T16:38:26.028960Z"
    },
    "tags": []
   },
   "outputs": [
    {
     "data": {
      "application/vnd.jupyter.widget-view+json": {
       "model_id": "76820336ba4b4b1795f0c8bb11a51cbc",
       "version_major": 2,
       "version_minor": 0
      },
      "text/plain": [
       "FigureWidgetResampler({\n",
       "    'data': [{'marker': {'color': 'red',\n",
       "                         'opacity': 0.2,\n",
       "    …"
      ]
     },
     "metadata": {},
     "output_type": "display_data"
    }
   ],
   "source": [
    "# indexed chart without bidask\n",
    "fig = chartFigure(rows=3,\n",
    "    Sell=dict(x=Sell.Index, y=Sell.Price, color='red', mode='markers', size=-symlog(Sell.Size)+3, opacity=0.2),\n",
    "    Buy=dict(x=Buy.Index, y=Buy.Price, color='green', mode='markers', size=symlog(Buy.Size)+3, opacity=0.2),\n",
    "    VPIN=dict(y=vPIN(T, 3000), row=2),\n",
    "    CPIN=dict(y=cPIN(T, 3000), row=2),\n",
    "    Speed=dict(y=tickSpeed(T, 3000), row=3)\n",
    ")\n",
    "fig"
   ]
  },
  {
   "cell_type": "code",
   "execution_count": 6,
   "id": "10390b68",
   "metadata": {
    "collapsed": false,
    "execution": {
     "iopub.execute_input": "2023-05-05T16:38:58.128176Z",
     "iopub.status.busy": "2023-05-05T16:38:58.127366Z",
     "iopub.status.idle": "2023-05-05T16:38:58.214200Z",
     "shell.execute_reply": "2023-05-05T16:38:58.213402Z",
     "shell.execute_reply.started": "2023-05-05T16:38:58.128096Z"
    },
    "jupyter": {
     "outputs_hidden": false
    },
    "pycharm": {
     "name": "#%%\n"
    }
   },
   "outputs": [
    {
     "data": {
      "text/plain": [
       "rec.array([('2022-05-08T00:01:00.007000', 2636., 2635.99),\n",
       "           ('2022-05-08T00:01:00.043000', 2636., 2635.99),\n",
       "           ('2022-05-08T00:01:00.079000', 2636., 2635.99),\n",
       "           ('2022-05-08T00:01:00.117000', 2636., 2635.99),\n",
       "           ('2022-05-08T00:01:00.149000', 2636., 2635.99)],\n",
       "          dtype={'names': ['DT', 'A', 'B'], 'formats': ['<M8[us]', '<f4', '<f4'], 'offsets': [0, 8, 16], 'itemsize': 24})"
      ]
     },
     "execution_count": 6,
     "metadata": {},
     "output_type": "execute_result"
    }
   ],
   "source": [
    "S = np.load('data/ETHUSDT.2022-05-08.bidask.npz')['ETHUSDT'].view(np.recarray)\n",
    "S[:5]"
   ]
  },
  {
   "cell_type": "code",
   "execution_count": 9,
   "id": "f1e5ed6e",
   "metadata": {
    "collapsed": false,
    "execution": {
     "iopub.execute_input": "2023-05-05T16:41:14.799259Z",
     "iopub.status.busy": "2023-05-05T16:41:14.798633Z",
     "iopub.status.idle": "2023-05-05T16:41:16.099286Z",
     "shell.execute_reply": "2023-05-05T16:41:16.098591Z",
     "shell.execute_reply.started": "2023-05-05T16:41:14.799198Z"
    },
    "jupyter": {
     "outputs_hidden": false
    },
    "pycharm": {
     "name": "#%%\n"
    },
    "tags": []
   },
   "outputs": [
    {
     "data": {
      "application/vnd.jupyter.widget-view+json": {
       "model_id": "cc6ebed3e1ff456296ec07790d9ce4d6",
       "version_major": 2,
       "version_minor": 0
      },
      "text/plain": [
       "FigureWidgetResampler({\n",
       "    'data': [{'marker': {'color': 'red',\n",
       "                         'opacity': 0.2,\n",
       "    …"
      ]
     },
     "metadata": {},
     "output_type": "display_data"
    }
   ],
   "source": [
    "# timed chart\n",
    "fig = chartFigure(\n",
    "    Sell=dict(x=Sell.DateTime, y=Sell.Price, color='red', mode='markers', size=-symlog(Sell.Size)+3, opacity=0.2),\n",
    "    Buy=dict(x=Buy.DateTime, y=Buy.Price, color='green', mode='markers', size=symlog(Buy.Size)+3, opacity=0.2),\n",
    "    Ask=dict(x=S.DT, y=S.A, color='red', opacity=0.2, shape='hv', mode='lines'),\n",
    "    Bid=dict(x=S.DT, y=S.B, color='green', opacity=0.2, shape='hv', mode='lines')\n",
    ")\n",
    "fig"
   ]
  },
  {
   "cell_type": "code",
   "execution_count": null,
   "id": "b26fbe1b-60cd-4e6d-8e3c-ecfe958d53f2",
   "metadata": {},
   "outputs": [],
   "source": []
  }
 ],
 "metadata": {
  "kernelspec": {
   "display_name": "Python 3 (ipykernel)",
   "language": "python",
   "name": "python3"
  },
  "language_info": {
   "codemirror_mode": {
    "name": "ipython",
    "version": 3
   },
   "file_extension": ".py",
   "mimetype": "text/x-python",
   "name": "python",
   "nbconvert_exporter": "python",
   "pygments_lexer": "ipython3",
   "version": "3.9.16"
  }
 },
 "nbformat": 4,
 "nbformat_minor": 5
}

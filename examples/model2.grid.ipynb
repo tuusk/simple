{
 "cells": [
  {
   "cell_type": "code",
   "execution_count": 1,
   "id": "57993536",
   "metadata": {
    "ExecuteTime": {
     "end_time": "2022-08-11T14:30:02.303557Z",
     "start_time": "2022-08-11T14:30:01.520160Z"
    }
   },
   "outputs": [],
   "source": [
    "from IPython.display import display\n",
    "from ipywidgets import interact\n",
    "import numpy as np\n",
    "import pandas as pd\n",
    "from simple.backtest import npBacktestMarket, getProfit\n",
    "from simple.funcs import tickSpeed\n",
    "from simple.geneopt import GridOpt\n",
    "from simple.pretty import pp"
   ]
  },
  {
   "cell_type": "code",
   "execution_count": 2,
   "id": "74e600e9",
   "metadata": {
    "ExecuteTime": {
     "end_time": "2022-08-11T14:30:02.316803Z",
     "start_time": "2022-08-11T14:30:02.305105Z"
    }
   },
   "outputs": [
    {
     "data": {
      "text/plain": [
       "<numpy.lib.npyio.NpzFile at 0x7f6c94162730>"
      ]
     },
     "execution_count": 2,
     "metadata": {},
     "output_type": "execute_result"
    }
   ],
   "source": [
    "X = np.load('/tmp/BTCUSDT.npz')\n",
    "X"
   ]
  },
  {
   "cell_type": "code",
   "execution_count": 3,
   "id": "207757d8",
   "metadata": {
    "ExecuteTime": {
     "end_time": "2022-08-11T14:30:29.141852Z",
     "start_time": "2022-08-11T14:30:02.319253Z"
    }
   },
   "outputs": [
    {
     "data": {
      "text/plain": [
       "(array([43759.46875  , 43759.4609375, 43758.8515625, ...,     0.       ,\n",
       "            0.       ,     0.       ]),\n",
       " array([43759.4609375, 43756.328125 , 43758.828125 , ...,     0.       ,\n",
       "            0.       ,     0.       ]),\n",
       " rec.array([('2022-01-13T12:34:25.790999',        0, 43760.825, 4633001,  -8., 174., -182., 29, 13, 16),\n",
       "            ('2022-01-13T12:34:29.274000',        1, 43759.465, 3483001, 320., 371.,  -51., 13,  7,  6),\n",
       "            ('2022-01-13T12:34:31.683000',        2, 43756.335, 2396000,  89., 152.,  -63., 14,  7,  7),\n",
       "            ...,\n",
       "            ('2022-07-29T23:59:59.996999', 72059785, 23773.745,    1999,  -5.,   0.,   -5.,  4,  0,  4),\n",
       "            ('2022-07-29T23:59:59.997999', 72059786, 23777.275,       0,   5.,   5.,    0.,  2,  2,  0),\n",
       "            ('2022-07-29T23:59:59.997999', 72059787, 23775.705,       0,  -1.,   0.,   -1.,  1,  0,  1)],\n",
       "           dtype=[('DateTime', '<M8[us]'), ('Index', '<i8'), ('Price', '<f8'), ('Duration', '<m8[us]'), ('Size', '<f8'), ('BuySize', '<f8'), ('SellSize', '<f8'), ('Count', '<i8'), ('BuyCount', '<i8'), ('SellCount', '<i8')]))"
      ]
     },
     "execution_count": 3,
     "metadata": {},
     "output_type": "execute_result"
    }
   ],
   "source": [
    "A = X['Ask'].copy()\n",
    "B = X['Bid'].copy()\n",
    "C = X['C'].copy().view(np.recarray)\n",
    "del X\n",
    "A, B, C"
   ]
  },
  {
   "cell_type": "code",
   "execution_count": 4,
   "id": "4154eccf",
   "metadata": {
    "ExecuteTime": {
     "end_time": "2022-08-11T14:30:29.150064Z",
     "start_time": "2022-08-11T14:30:29.144705Z"
    }
   },
   "outputs": [
    {
     "data": {
      "text/plain": [
       "33554432"
      ]
     },
     "execution_count": 4,
     "metadata": {},
     "output_type": "execute_result"
    }
   ],
   "source": [
    "np.power(2, 25)"
   ]
  },
  {
   "cell_type": "code",
   "execution_count": 5,
   "id": "cb3f7d95",
   "metadata": {
    "ExecuteTime": {
     "end_time": "2022-08-11T14:30:29.157545Z",
     "start_time": "2022-08-11T14:30:29.151699Z"
    }
   },
   "outputs": [],
   "source": [
    "def model(Threshold: int=(2, 5, 0.125), Period: int=(500, 15000, 500), Hold: int=(1, 25, 1)):\n",
    "    Speed = tickSpeed(C, Period, log=True)\n",
    "    D = npBacktestMarket(C.DateTime, A, B, Speed, Threshold, hold=np.power(2, Hold)*1_000_000)\n",
    "    P = getProfit(D)\n",
    "    return P.MidPnL.sum(), {\n",
    "        'Count': len(P),\n",
    "        'AvgMid': P.MidPnL.mean() if len(P) > 0 else 0,\n",
    "        'RawPnL': P.RawPnL.sum() if len(P) > 0 else 0,\n",
    "        'Fee': P.Fee.sum() if len(P) > 0 else 0,\n",
    "        'MidPnL': P.MidPnL.sum() if len(P) > 0 else 0,\n",
    "        'Sharpe': P.Profit.sum() / P.Profit.std() if len(P) > 1 else 0\n",
    "     }"
   ]
  },
  {
   "cell_type": "code",
   "execution_count": 6,
   "id": "0a7d1c99",
   "metadata": {
    "ExecuteTime": {
     "end_time": "2022-08-11T15:10:05.730233Z",
     "start_time": "2022-08-11T14:30:29.159203Z"
    }
   },
   "outputs": [
    {
     "data": {
      "application/vnd.jupyter.widget-view+json": {
       "model_id": "f4c0e800b5554e4b9fdc20f464ca9b0e",
       "version_major": 2,
       "version_minor": 0
      },
      "text/plain": [
       "  0%|          | 0/18750 [00:00<?, ?it/s]"
      ]
     },
     "metadata": {},
     "output_type": "display_data"
    },
    {
     "data": {
      "text/html": [
       "<div>\n",
       "<style scoped>\n",
       "    .dataframe tbody tr th:only-of-type {\n",
       "        vertical-align: middle;\n",
       "    }\n",
       "\n",
       "    .dataframe tbody tr th {\n",
       "        vertical-align: top;\n",
       "    }\n",
       "\n",
       "    .dataframe thead th {\n",
       "        text-align: right;\n",
       "    }\n",
       "</style>\n",
       "<table border=\"1\" class=\"dataframe\">\n",
       "  <thead>\n",
       "    <tr style=\"text-align: right;\">\n",
       "      <th></th>\n",
       "      <th>Threshold</th>\n",
       "      <th>Period</th>\n",
       "      <th>Hold</th>\n",
       "      <th>Fitness</th>\n",
       "      <th>Count</th>\n",
       "      <th>AvgMid</th>\n",
       "      <th>RawPnL</th>\n",
       "      <th>Fee</th>\n",
       "      <th>MidPnL</th>\n",
       "      <th>Sharpe</th>\n",
       "    </tr>\n",
       "  </thead>\n",
       "  <tbody>\n",
       "    <tr>\n",
       "      <th>2996</th>\n",
       "      <td>2.375</td>\n",
       "      <td>15000</td>\n",
       "      <td>22</td>\n",
       "      <td>-56975.532227</td>\n",
       "      <td>23</td>\n",
       "      <td>-2477.197053</td>\n",
       "      <td>-57262.476562</td>\n",
       "      <td>7.070759e+02</td>\n",
       "      <td>-56975.532227</td>\n",
       "      <td>-21.519115</td>\n",
       "    </tr>\n",
       "    <tr>\n",
       "      <th>2997</th>\n",
       "      <td>2.375</td>\n",
       "      <td>15000</td>\n",
       "      <td>23</td>\n",
       "      <td>-56975.532227</td>\n",
       "      <td>23</td>\n",
       "      <td>-2477.197053</td>\n",
       "      <td>-57262.476562</td>\n",
       "      <td>7.070759e+02</td>\n",
       "      <td>-56975.532227</td>\n",
       "      <td>-21.519115</td>\n",
       "    </tr>\n",
       "    <tr>\n",
       "      <th>2998</th>\n",
       "      <td>2.375</td>\n",
       "      <td>15000</td>\n",
       "      <td>24</td>\n",
       "      <td>-56975.532227</td>\n",
       "      <td>23</td>\n",
       "      <td>-2477.197053</td>\n",
       "      <td>-57262.476562</td>\n",
       "      <td>7.070759e+02</td>\n",
       "      <td>-56975.532227</td>\n",
       "      <td>-21.519115</td>\n",
       "    </tr>\n",
       "    <tr>\n",
       "      <th>2999</th>\n",
       "      <td>2.375</td>\n",
       "      <td>15000</td>\n",
       "      <td>25</td>\n",
       "      <td>-56975.532227</td>\n",
       "      <td>23</td>\n",
       "      <td>-2477.197053</td>\n",
       "      <td>-57262.476562</td>\n",
       "      <td>7.070759e+02</td>\n",
       "      <td>-56975.532227</td>\n",
       "      <td>-21.519115</td>\n",
       "    </tr>\n",
       "    <tr>\n",
       "      <th>2973</th>\n",
       "      <td>2.375</td>\n",
       "      <td>14500</td>\n",
       "      <td>24</td>\n",
       "      <td>-54912.627930</td>\n",
       "      <td>21</td>\n",
       "      <td>-2614.887044</td>\n",
       "      <td>-55353.427734</td>\n",
       "      <td>6.600849e+02</td>\n",
       "      <td>-54912.627930</td>\n",
       "      <td>-20.303025</td>\n",
       "    </tr>\n",
       "    <tr>\n",
       "      <th>...</th>\n",
       "      <td>...</td>\n",
       "      <td>...</td>\n",
       "      <td>...</td>\n",
       "      <td>...</td>\n",
       "      <td>...</td>\n",
       "      <td>...</td>\n",
       "      <td>...</td>\n",
       "      <td>...</td>\n",
       "      <td>...</td>\n",
       "      <td>...</td>\n",
       "    </tr>\n",
       "    <tr>\n",
       "      <th>759</th>\n",
       "      <td>2.125</td>\n",
       "      <td>500</td>\n",
       "      <td>10</td>\n",
       "      <td>39600.779297</td>\n",
       "      <td>34847</td>\n",
       "      <td>1.136419</td>\n",
       "      <td>-329193.138672</td>\n",
       "      <td>1.038385e+06</td>\n",
       "      <td>39600.779297</td>\n",
       "      <td>-19499.114143</td>\n",
       "    </tr>\n",
       "    <tr>\n",
       "      <th>757</th>\n",
       "      <td>2.125</td>\n",
       "      <td>500</td>\n",
       "      <td>8</td>\n",
       "      <td>39767.843750</td>\n",
       "      <td>35828</td>\n",
       "      <td>1.109965</td>\n",
       "      <td>-330560.994141</td>\n",
       "      <td>1.066765e+06</td>\n",
       "      <td>39767.843750</td>\n",
       "      <td>-23478.727289</td>\n",
       "    </tr>\n",
       "    <tr>\n",
       "      <th>760</th>\n",
       "      <td>2.125</td>\n",
       "      <td>500</td>\n",
       "      <td>11</td>\n",
       "      <td>39772.429688</td>\n",
       "      <td>34516</td>\n",
       "      <td>1.152290</td>\n",
       "      <td>-328703.351562</td>\n",
       "      <td>1.028783e+06</td>\n",
       "      <td>39772.429688</td>\n",
       "      <td>-17994.901185</td>\n",
       "    </tr>\n",
       "    <tr>\n",
       "      <th>11</th>\n",
       "      <td>2.000</td>\n",
       "      <td>500</td>\n",
       "      <td>12</td>\n",
       "      <td>41656.293945</td>\n",
       "      <td>38915</td>\n",
       "      <td>1.070443</td>\n",
       "      <td>-356320.853516</td>\n",
       "      <td>1.151426e+06</td>\n",
       "      <td>41656.293945</td>\n",
       "      <td>-19430.129106</td>\n",
       "    </tr>\n",
       "    <tr>\n",
       "      <th>0</th>\n",
       "      <td>2.000</td>\n",
       "      <td>500</td>\n",
       "      <td>1</td>\n",
       "      <td>41987.709961</td>\n",
       "      <td>115669</td>\n",
       "      <td>0.362999</td>\n",
       "      <td>-533205.845703</td>\n",
       "      <td>3.514815e+06</td>\n",
       "      <td>41987.709961</td>\n",
       "      <td>-165641.919631</td>\n",
       "    </tr>\n",
       "  </tbody>\n",
       "</table>\n",
       "<p>18750 rows × 10 columns</p>\n",
       "</div>"
      ],
      "text/plain": [
       "     Threshold  Period  Hold       Fitness   Count       AvgMid  \\\n",
       "2996     2.375   15000    22 -56975.532227      23 -2477.197053   \n",
       "2997     2.375   15000    23 -56975.532227      23 -2477.197053   \n",
       "2998     2.375   15000    24 -56975.532227      23 -2477.197053   \n",
       "2999     2.375   15000    25 -56975.532227      23 -2477.197053   \n",
       "2973     2.375   14500    24 -54912.627930      21 -2614.887044   \n",
       "...        ...     ...   ...           ...     ...          ...   \n",
       "759      2.125     500    10  39600.779297   34847     1.136419   \n",
       "757      2.125     500     8  39767.843750   35828     1.109965   \n",
       "760      2.125     500    11  39772.429688   34516     1.152290   \n",
       "11       2.000     500    12  41656.293945   38915     1.070443   \n",
       "0        2.000     500     1  41987.709961  115669     0.362999   \n",
       "\n",
       "             RawPnL           Fee        MidPnL         Sharpe  \n",
       "2996  -57262.476562  7.070759e+02 -56975.532227     -21.519115  \n",
       "2997  -57262.476562  7.070759e+02 -56975.532227     -21.519115  \n",
       "2998  -57262.476562  7.070759e+02 -56975.532227     -21.519115  \n",
       "2999  -57262.476562  7.070759e+02 -56975.532227     -21.519115  \n",
       "2973  -55353.427734  6.600849e+02 -54912.627930     -20.303025  \n",
       "...             ...           ...           ...            ...  \n",
       "759  -329193.138672  1.038385e+06  39600.779297  -19499.114143  \n",
       "757  -330560.994141  1.066765e+06  39767.843750  -23478.727289  \n",
       "760  -328703.351562  1.028783e+06  39772.429688  -17994.901185  \n",
       "11   -356320.853516  1.151426e+06  41656.293945  -19430.129106  \n",
       "0    -533205.845703  3.514815e+06  41987.709961 -165641.919631  \n",
       "\n",
       "[18750 rows x 10 columns]"
      ]
     },
     "execution_count": 6,
     "metadata": {},
     "output_type": "execute_result"
    }
   ],
   "source": [
    "G = GridOpt(model)\n",
    "G.fullSearch()\n",
    "X = pd.DataFrame(G.log, columns=G.log_columns).drop_duplicates().sort_values('Fitness')\n",
    "X.Threshold = X.Threshold.apply(lambda x: f'{x:1.3f}')  # explicit float format to workaround formatting bug\n",
    "X"
   ]
  },
  {
   "cell_type": "code",
   "execution_count": 7,
   "id": "21f5fd96",
   "metadata": {
    "ExecuteTime": {
     "end_time": "2022-08-11T15:10:05.785905Z",
     "start_time": "2022-08-11T15:10:05.733409Z"
    }
   },
   "outputs": [],
   "source": [
    "X.to_hdf('grid.hdf', key='model21')"
   ]
  },
  {
   "cell_type": "code",
   "execution_count": 8,
   "id": "80f6f46f",
   "metadata": {
    "ExecuteTime": {
     "end_time": "2022-08-11T15:10:06.453634Z",
     "start_time": "2022-08-11T15:10:05.788058Z"
    }
   },
   "outputs": [
    {
     "data": {
      "application/vnd.jupyter.widget-view+json": {
       "model_id": "e258596bf16e4bcea099eb8ae76199d6",
       "version_major": 2,
       "version_minor": 0
      },
      "text/plain": [
       "interactive(children=(IntSlider(value=13, description='hold', max=25, min=1), Dropdown(description='column', o…"
      ]
     },
     "metadata": {},
     "output_type": "display_data"
    }
   ],
   "source": [
    "@interact(hold=(1,25), column=X.columns[4:])\n",
    "def Plot(hold, column):\n",
    "    display(pp(X[X.Hold == hold].pivot(index='Period', columns='Threshold', values=column).astype(int)))"
   ]
  },
  {
   "cell_type": "code",
   "execution_count": null,
   "id": "2a0801aa",
   "metadata": {},
   "outputs": [],
   "source": []
  }
 ],
 "metadata": {
  "kernelspec": {
   "display_name": "Python 3 (ipykernel)",
   "language": "python",
   "name": "python3"
  },
  "language_info": {
   "codemirror_mode": {
    "name": "ipython",
    "version": 3
   },
   "file_extension": ".py",
   "mimetype": "text/x-python",
   "name": "python",
   "nbconvert_exporter": "python",
   "pygments_lexer": "ipython3",
   "version": "3.8.13"
  },
  "widgets": {
   "application/vnd.jupyter.widget-state+json": {
    "state": {
     "0519d931501144af8b451226f8fc4085": {
      "model_module": "@jupyter-widgets/base",
      "model_module_version": "1.2.0",
      "model_name": "LayoutModel",
      "state": {}
     },
     "2026978d9eb74dadbde8053ad2ccb768": {
      "model_module": "@jupyter-widgets/controls",
      "model_module_version": "1.5.0",
      "model_name": "DescriptionStyleModel",
      "state": {
       "description_width": ""
      }
     },
     "33936a40ef404d418817e20cc87004fd": {
      "model_module": "@jupyter-widgets/base",
      "model_module_version": "1.2.0",
      "model_name": "LayoutModel",
      "state": {}
     },
     "3a2dc6403a84432cb3953cfe536cff49": {
      "model_module": "@jupyter-widgets/controls",
      "model_module_version": "1.5.0",
      "model_name": "DropdownModel",
      "state": {
       "_options_labels": [
        "Count",
        "AvgMid",
        "RawPnL",
        "Fee",
        "MidPnL",
        "Sharpe"
       ],
       "description": "column",
       "index": 5,
       "layout": "IPY_MODEL_46b56a9583394e20940b5eaf38c65ca4",
       "style": "IPY_MODEL_e427c893cdc840559b9fb4e20be66e37"
      }
     },
     "40299426ee3f4bf39678b16accf9c817": {
      "model_module": "@jupyter-widgets/output",
      "model_module_version": "1.0.0",
      "model_name": "OutputModel",
      "state": {
       "layout": "IPY_MODEL_c8f79562be494ec2a14bb4022b37a15b",
       "outputs": [
        {
         "data": {
          "text/html": "<style type=\"text/css\">\n#T_a40af_row0_col0, #T_a40af_row0_col1, #T_a40af_row0_col2, #T_a40af_row0_col3, #T_a40af_row0_col4, #T_a40af_row0_col5, #T_a40af_row0_col6, #T_a40af_row0_col7, #T_a40af_row0_col8, #T_a40af_row0_col9, #T_a40af_row0_col10, #T_a40af_row0_col11, #T_a40af_row0_col12, #T_a40af_row0_col13, #T_a40af_row0_col14, #T_a40af_row0_col15, #T_a40af_row0_col16, #T_a40af_row0_col17, #T_a40af_row0_col18, #T_a40af_row0_col19, #T_a40af_row0_col20, #T_a40af_row0_col21, #T_a40af_row0_col22, #T_a40af_row0_col23, #T_a40af_row0_col24, #T_a40af_row1_col0, #T_a40af_row1_col1, #T_a40af_row1_col2, #T_a40af_row1_col3, #T_a40af_row1_col4, #T_a40af_row1_col5, #T_a40af_row1_col6, #T_a40af_row1_col7, #T_a40af_row1_col8, #T_a40af_row1_col9, #T_a40af_row1_col10, #T_a40af_row1_col11, #T_a40af_row1_col12, #T_a40af_row1_col13, #T_a40af_row1_col14, #T_a40af_row2_col0, #T_a40af_row2_col1, #T_a40af_row2_col2, #T_a40af_row2_col3, #T_a40af_row2_col4, #T_a40af_row2_col5, #T_a40af_row2_col6, #T_a40af_row2_col7, #T_a40af_row2_col8, #T_a40af_row2_col9, #T_a40af_row2_col10, #T_a40af_row3_col0, #T_a40af_row3_col1, #T_a40af_row3_col2, #T_a40af_row3_col3, #T_a40af_row3_col4, #T_a40af_row3_col5, #T_a40af_row3_col6, #T_a40af_row4_col0, #T_a40af_row4_col1, #T_a40af_row4_col2, #T_a40af_row4_col3, #T_a40af_row4_col5, #T_a40af_row5_col0, #T_a40af_row5_col1, #T_a40af_row5_col2, #T_a40af_row5_col3 {\n  background-color: #a50026;\n}\n#T_a40af_row1_col15, #T_a40af_row28_col3 {\n  background-color: #db382b;\n}\n#T_a40af_row1_col16, #T_a40af_row8_col12, #T_a40af_row9_col13, #T_a40af_row10_col12, #T_a40af_row22_col2, #T_a40af_row23_col1, #T_a40af_row25_col5, #T_a40af_row27_col3, #T_a40af_row27_col5, #T_a40af_row28_col1 {\n  background-color: #f7814c;\n}\n#T_a40af_row1_col17, #T_a40af_row5_col4, #T_a40af_row5_col18, #T_a40af_row6_col13, #T_a40af_row7_col15, #T_a40af_row10_col6, #T_a40af_row11_col5, #T_a40af_row11_col9, #T_a40af_row11_col14, #T_a40af_row12_col1, #T_a40af_row12_col13, #T_a40af_row13_col3, #T_a40af_row13_col5, #T_a40af_row13_col7, #T_a40af_row13_col13, #T_a40af_row14_col0, #T_a40af_row14_col9, #T_a40af_row14_col11, #T_a40af_row14_col12, #T_a40af_row16_col10, #T_a40af_row17_col6, #T_a40af_row17_col10, #T_a40af_row18_col0, #T_a40af_row18_col8, #T_a40af_row18_col9, #T_a40af_row18_col10, #T_a40af_row18_col12, #T_a40af_row18_col13, #T_a40af_row19_col5, #T_a40af_row19_col7, #T_a40af_row19_col8, #T_a40af_row19_col9, #T_a40af_row19_col10, #T_a40af_row20_col4, #T_a40af_row20_col6, #T_a40af_row20_col7, #T_a40af_row20_col12, #T_a40af_row21_col0, #T_a40af_row21_col4, #T_a40af_row21_col8, #T_a40af_row21_col11, #T_a40af_row22_col6, #T_a40af_row23_col6, #T_a40af_row24_col9, #T_a40af_row24_col11, #T_a40af_row26_col11, #T_a40af_row27_col6, #T_a40af_row28_col6, #T_a40af_row29_col11 {\n  background-color: #fee18d;\n}\n#T_a40af_row1_col18, #T_a40af_row6_col12, #T_a40af_row6_col17, #T_a40af_row6_col18, #T_a40af_row7_col17, #T_a40af_row8_col1, #T_a40af_row8_col3, #T_a40af_row9_col5, #T_a40af_row9_col8, #T_a40af_row11_col1, #T_a40af_row11_col4, #T_a40af_row12_col2, #T_a40af_row12_col14, #T_a40af_row13_col18, #T_a40af_row13_col19, #T_a40af_row14_col7, #T_a40af_row14_col17, #T_a40af_row14_col18, #T_a40af_row15_col13, #T_a40af_row15_col16, #T_a40af_row15_col17, #T_a40af_row15_col18, #T_a40af_row16_col12, #T_a40af_row16_col13, #T_a40af_row16_col15, #T_a40af_row16_col16, #T_a40af_row16_col17, #T_a40af_row16_col18, #T_a40af_row17_col11, #T_a40af_row17_col12, #T_a40af_row17_col15, #T_a40af_row17_col16, #T_a40af_row17_col17, #T_a40af_row18_col11, #T_a40af_row18_col15, #T_a40af_row18_col16, #T_a40af_row19_col14, #T_a40af_row19_col15, #T_a40af_row20_col14, #T_a40af_row21_col12, #T_a40af_row21_col13, #T_a40af_row22_col11, #T_a40af_row22_col12, #T_a40af_row23_col11, #T_a40af_row24_col10, #T_a40af_row25_col7, #T_a40af_row26_col7 {\n  background-color: #fff3ac;\n}\n#T_a40af_row1_col19, #T_a40af_row8_col15, #T_a40af_row9_col3, #T_a40af_row9_col11, #T_a40af_row17_col3, #T_a40af_row17_col7, #T_a40af_row19_col1, #T_a40af_row20_col2, #T_a40af_row22_col0, #T_a40af_row22_col3, #T_a40af_row22_col5, #T_a40af_row24_col1, #T_a40af_row25_col0 {\n  background-color: #fdb163;\n}\n#T_a40af_row1_col20, #T_a40af_row1_col21, #T_a40af_row4_col20, #T_a40af_row8_col16, #T_a40af_row9_col15, #T_a40af_row9_col16, #T_a40af_row10_col0, #T_a40af_row11_col12, #T_a40af_row14_col4, #T_a40af_row15_col0, #T_a40af_row15_col9, #T_a40af_row16_col3, #T_a40af_row17_col1, #T_a40af_row18_col7, #T_a40af_row19_col3, #T_a40af_row21_col6, #T_a40af_row22_col4, #T_a40af_row23_col4, #T_a40af_row25_col1, #T_a40af_row25_col6, #T_a40af_row26_col0, #T_a40af_row26_col2, #T_a40af_row26_col5, #T_a40af_row29_col5 {\n  background-color: #fdbb6c;\n}\n#T_a40af_row1_col22, #T_a40af_row3_col20, #T_a40af_row3_col24, #T_a40af_row4_col11, #T_a40af_row4_col16, #T_a40af_row4_col23, #T_a40af_row5_col19, #T_a40af_row5_col21, #T_a40af_row5_col22, #T_a40af_row6_col2, #T_a40af_row6_col20, #T_a40af_row6_col21, #T_a40af_row6_col24, #T_a40af_row7_col24, #T_a40af_row8_col9, #T_a40af_row8_col18, #T_a40af_row8_col24, #T_a40af_row9_col18, #T_a40af_row9_col23, #T_a40af_row9_col24, #T_a40af_row10_col5, #T_a40af_row10_col17, #T_a40af_row10_col18, #T_a40af_row10_col21, #T_a40af_row10_col22, #T_a40af_row10_col23, #T_a40af_row10_col24, #T_a40af_row11_col6, #T_a40af_row11_col8, #T_a40af_row11_col15, #T_a40af_row11_col16, #T_a40af_row11_col17, #T_a40af_row11_col20, #T_a40af_row11_col21, #T_a40af_row11_col22, #T_a40af_row11_col23, #T_a40af_row11_col24, #T_a40af_row12_col6, #T_a40af_row12_col7, #T_a40af_row12_col15, #T_a40af_row12_col19, #T_a40af_row12_col20, #T_a40af_row12_col21, #T_a40af_row12_col22, #T_a40af_row12_col23, #T_a40af_row12_col24, #T_a40af_row13_col4, #T_a40af_row13_col20, #T_a40af_row13_col21, #T_a40af_row13_col22, #T_a40af_row13_col23, #T_a40af_row13_col24, #T_a40af_row14_col2, #T_a40af_row14_col19, #T_a40af_row14_col20, #T_a40af_row14_col21, #T_a40af_row14_col22, #T_a40af_row14_col23, #T_a40af_row14_col24, #T_a40af_row15_col5, #T_a40af_row15_col19, #T_a40af_row15_col20, #T_a40af_row15_col21, #T_a40af_row15_col22, #T_a40af_row15_col23, #T_a40af_row15_col24, #T_a40af_row16_col19, #T_a40af_row16_col20, #T_a40af_row16_col21, #T_a40af_row16_col22, #T_a40af_row16_col23, #T_a40af_row16_col24, #T_a40af_row17_col18, #T_a40af_row17_col19, #T_a40af_row17_col20, #T_a40af_row17_col21, #T_a40af_row17_col22, #T_a40af_row17_col23, #T_a40af_row17_col24, #T_a40af_row18_col18, #T_a40af_row18_col19, #T_a40af_row18_col20, #T_a40af_row18_col21, #T_a40af_row18_col22, #T_a40af_row18_col23, #T_a40af_row18_col24, #T_a40af_row19_col12, #T_a40af_row19_col17, #T_a40af_row19_col18, #T_a40af_row19_col19, #T_a40af_row19_col20, #T_a40af_row19_col21, #T_a40af_row19_col22, #T_a40af_row19_col23, #T_a40af_row19_col24, #T_a40af_row20_col16, #T_a40af_row20_col17, #T_a40af_row20_col18, #T_a40af_row20_col19, #T_a40af_row20_col20, #T_a40af_row20_col21, #T_a40af_row20_col22, #T_a40af_row20_col23, #T_a40af_row20_col24, #T_a40af_row21_col15, #T_a40af_row21_col16, #T_a40af_row21_col17, #T_a40af_row21_col18, #T_a40af_row21_col19, #T_a40af_row21_col20, #T_a40af_row21_col21, #T_a40af_row21_col22, #T_a40af_row21_col23, #T_a40af_row21_col24, #T_a40af_row22_col15, #T_a40af_row22_col16, #T_a40af_row22_col17, #T_a40af_row22_col18, #T_a40af_row22_col19, #T_a40af_row22_col20, #T_a40af_row22_col21, #T_a40af_row22_col22, #T_a40af_row22_col23, #T_a40af_row22_col24, #T_a40af_row23_col9, #T_a40af_row23_col10, #T_a40af_row23_col14, #T_a40af_row23_col15, #T_a40af_row23_col16, #T_a40af_row23_col17, #T_a40af_row23_col18, #T_a40af_row23_col19, #T_a40af_row23_col20, #T_a40af_row23_col21, #T_a40af_row23_col22, #T_a40af_row23_col23, #T_a40af_row23_col24, #T_a40af_row24_col8, #T_a40af_row24_col14, #T_a40af_row24_col15, #T_a40af_row24_col16, #T_a40af_row24_col17, #T_a40af_row24_col18, #T_a40af_row24_col19, #T_a40af_row24_col20, #T_a40af_row24_col21, #T_a40af_row24_col22, #T_a40af_row24_col23, #T_a40af_row24_col24, #T_a40af_row25_col8, #T_a40af_row25_col13, #T_a40af_row25_col14, #T_a40af_row25_col15, #T_a40af_row25_col16, #T_a40af_row25_col17, #T_a40af_row25_col18, #T_a40af_row25_col19, #T_a40af_row25_col20, #T_a40af_row25_col21, #T_a40af_row25_col22, #T_a40af_row25_col23, #T_a40af_row25_col24, #T_a40af_row26_col12, #T_a40af_row26_col13, #T_a40af_row26_col14, #T_a40af_row26_col15, #T_a40af_row26_col16, #T_a40af_row26_col17, #T_a40af_row26_col18, #T_a40af_row26_col19, #T_a40af_row26_col20, #T_a40af_row26_col21, #T_a40af_row26_col22, #T_a40af_row26_col23, #T_a40af_row26_col24, #T_a40af_row27_col12, #T_a40af_row27_col13, #T_a40af_row27_col14, #T_a40af_row27_col15, #T_a40af_row27_col16, #T_a40af_row27_col17, #T_a40af_row27_col18, #T_a40af_row27_col19, #T_a40af_row27_col20, #T_a40af_row27_col21, #T_a40af_row27_col22, #T_a40af_row27_col23, #T_a40af_row27_col24, #T_a40af_row28_col11, #T_a40af_row28_col12, #T_a40af_row28_col13, #T_a40af_row28_col14, #T_a40af_row28_col15, #T_a40af_row28_col16, #T_a40af_row28_col17, #T_a40af_row28_col18, #T_a40af_row28_col19, #T_a40af_row28_col20, #T_a40af_row28_col21, #T_a40af_row28_col22, #T_a40af_row28_col23, #T_a40af_row28_col24, #T_a40af_row29_col12, #T_a40af_row29_col13, #T_a40af_row29_col14, #T_a40af_row29_col15, #T_a40af_row29_col16, #T_a40af_row29_col17, #T_a40af_row29_col18, #T_a40af_row29_col19, #T_a40af_row29_col20, #T_a40af_row29_col21, #T_a40af_row29_col22, #T_a40af_row29_col23, #T_a40af_row29_col24 {\n  background-color: #feffbe;\n}\n#T_a40af_row1_col23, #T_a40af_row2_col13, #T_a40af_row3_col19, #T_a40af_row4_col22, #T_a40af_row5_col13, #T_a40af_row6_col11, #T_a40af_row7_col0, #T_a40af_row8_col2, #T_a40af_row9_col4, #T_a40af_row12_col4, #T_a40af_row12_col17, #T_a40af_row12_col18, #T_a40af_row13_col16, #T_a40af_row13_col17, #T_a40af_row14_col16, #T_a40af_row15_col15, #T_a40af_row19_col11 {\n  background-color: #f8fcb6;\n}\n#T_a40af_row1_col24, #T_a40af_row4_col24, #T_a40af_row5_col23, #T_a40af_row6_col22, #T_a40af_row6_col23, #T_a40af_row7_col8, #T_a40af_row7_col21, #T_a40af_row7_col22, #T_a40af_row7_col23, #T_a40af_row8_col21, #T_a40af_row9_col6, #T_a40af_row9_col20, #T_a40af_row12_col0 {\n  background-color: #e2f397;\n}\n#T_a40af_row2_col11, #T_a40af_row2_col24, #T_a40af_row4_col8, #T_a40af_row5_col5, #T_a40af_row7_col20, #T_a40af_row8_col6, #T_a40af_row8_col19, #T_a40af_row8_col20, #T_a40af_row8_col23, #T_a40af_row9_col19, #T_a40af_row9_col21, #T_a40af_row9_col22, #T_a40af_row10_col8, #T_a40af_row10_col20, #T_a40af_row11_col18, #T_a40af_row12_col5 {\n  background-color: #f1f9ac;\n}\n#T_a40af_row2_col12, #T_a40af_row4_col15, #T_a40af_row4_col17, #T_a40af_row4_col18, #T_a40af_row5_col14, #T_a40af_row5_col24, #T_a40af_row6_col3, #T_a40af_row8_col10, #T_a40af_row8_col22, #T_a40af_row10_col19, #T_a40af_row11_col7, #T_a40af_row11_col19 {\n  background-color: #e9f6a1;\n}\n#T_a40af_row2_col14, #T_a40af_row4_col7, #T_a40af_row4_col14, #T_a40af_row5_col12, #T_a40af_row6_col10, #T_a40af_row7_col9, #T_a40af_row8_col4 {\n  background-color: #daf08d;\n}\n#T_a40af_row2_col15, #T_a40af_row6_col4 {\n  background-color: #a9da6c;\n}\n#T_a40af_row2_col16, #T_a40af_row4_col13, #T_a40af_row5_col8 {\n  background-color: #84ca66;\n}\n#T_a40af_row2_col17, #T_a40af_row7_col6 {\n  background-color: #91d068;\n}\n#T_a40af_row2_col18, #T_a40af_row2_col19, #T_a40af_row2_col22 {\n  background-color: #d1ec86;\n}\n#T_a40af_row2_col20, #T_a40af_row2_col23, #T_a40af_row3_col9, #T_a40af_row7_col10 {\n  background-color: #bde379;\n}\n#T_a40af_row2_col21, #T_a40af_row3_col16, #T_a40af_row6_col9 {\n  background-color: #b3df72;\n}\n#T_a40af_row3_col7, #T_a40af_row9_col0 {\n  background-color: #ad0826;\n}\n#T_a40af_row3_col8, #T_a40af_row9_col1, #T_a40af_row29_col3 {\n  background-color: #d42d27;\n}\n#T_a40af_row3_col10 {\n  background-color: #006837;\n}\n#T_a40af_row3_col11 {\n  background-color: #138c4a;\n}\n#T_a40af_row3_col12, #T_a40af_row4_col9, #T_a40af_row6_col8 {\n  background-color: #33a456;\n}\n#T_a40af_row3_col13 {\n  background-color: #249d53;\n}\n#T_a40af_row3_col14 {\n  background-color: #18954f;\n}\n#T_a40af_row3_col15 {\n  background-color: #51b35e;\n}\n#T_a40af_row3_col17, #T_a40af_row4_col10, #T_a40af_row5_col6, #T_a40af_row5_col7, #T_a40af_row8_col5 {\n  background-color: #9dd569;\n}\n#T_a40af_row3_col18 {\n  background-color: #c7e77f;\n}\n#T_a40af_row3_col21, #T_a40af_row5_col20, #T_a40af_row6_col16, #T_a40af_row6_col19, #T_a40af_row7_col19, #T_a40af_row9_col17, #T_a40af_row10_col16, #T_a40af_row12_col3, #T_a40af_row13_col12, #T_a40af_row14_col1, #T_a40af_row15_col3, #T_a40af_row15_col7, #T_a40af_row17_col9, #T_a40af_row17_col13, #T_a40af_row19_col4, #T_a40af_row22_col10, #T_a40af_row25_col9, #T_a40af_row25_col10, #T_a40af_row25_col11, #T_a40af_row26_col8, #T_a40af_row26_col9, #T_a40af_row26_col10, #T_a40af_row27_col8, #T_a40af_row27_col9, #T_a40af_row27_col10, #T_a40af_row27_col11, #T_a40af_row28_col9, #T_a40af_row28_col10, #T_a40af_row29_col8, #T_a40af_row29_col9, #T_a40af_row29_col10 {\n  background-color: #fee797;\n}\n#T_a40af_row3_col22, #T_a40af_row6_col15, #T_a40af_row7_col11, #T_a40af_row7_col16, #T_a40af_row9_col9, #T_a40af_row10_col13, #T_a40af_row10_col14, #T_a40af_row10_col15, #T_a40af_row11_col10, #T_a40af_row11_col11, #T_a40af_row11_col13, #T_a40af_row12_col10, #T_a40af_row13_col10, #T_a40af_row14_col8, #T_a40af_row15_col8, #T_a40af_row16_col4, #T_a40af_row17_col8, #T_a40af_row18_col4, #T_a40af_row19_col6, #T_a40af_row20_col1, #T_a40af_row20_col3, #T_a40af_row20_col5, #T_a40af_row21_col3, #T_a40af_row23_col7 {\n  background-color: #fdc574;\n}\n#T_a40af_row3_col23, #T_a40af_row5_col16, #T_a40af_row5_col17, #T_a40af_row7_col18, #T_a40af_row8_col8, #T_a40af_row8_col11, #T_a40af_row10_col9, #T_a40af_row11_col0, #T_a40af_row13_col8, #T_a40af_row14_col5, #T_a40af_row14_col13, #T_a40af_row15_col6, #T_a40af_row15_col12, #T_a40af_row16_col6, #T_a40af_row16_col11, #T_a40af_row17_col4, #T_a40af_row17_col5, #T_a40af_row20_col9, #T_a40af_row23_col5, #T_a40af_row28_col8, #T_a40af_row29_col7 {\n  background-color: #feeda1;\n}\n#T_a40af_row4_col4, #T_a40af_row7_col1, #T_a40af_row7_col2 {\n  background-color: #e65036;\n}\n#T_a40af_row4_col6, #T_a40af_row7_col12, #T_a40af_row7_col13, #T_a40af_row8_col0, #T_a40af_row8_col7, #T_a40af_row10_col1, #T_a40af_row10_col11, #T_a40af_row12_col8, #T_a40af_row12_col12, #T_a40af_row13_col1, #T_a40af_row13_col11, #T_a40af_row14_col10, #T_a40af_row15_col1, #T_a40af_row15_col4, #T_a40af_row15_col10, #T_a40af_row16_col9, #T_a40af_row18_col3, #T_a40af_row21_col10, #T_a40af_row22_col7, #T_a40af_row22_col8, #T_a40af_row23_col8, #T_a40af_row24_col6, #T_a40af_row24_col7, #T_a40af_row26_col6, #T_a40af_row27_col7, #T_a40af_row28_col7, #T_a40af_row29_col6 {\n  background-color: #fece7c;\n}\n#T_a40af_row4_col12, #T_a40af_row5_col9, #T_a40af_row7_col4, #T_a40af_row7_col5 {\n  background-color: #60ba62;\n}\n#T_a40af_row4_col19, #T_a40af_row4_col21, #T_a40af_row5_col15, #T_a40af_row10_col4, #T_a40af_row10_col7, #T_a40af_row12_col16, #T_a40af_row13_col0, #T_a40af_row13_col2, #T_a40af_row13_col14, #T_a40af_row13_col15, #T_a40af_row14_col6, #T_a40af_row14_col14, #T_a40af_row14_col15, #T_a40af_row15_col14, #T_a40af_row16_col5, #T_a40af_row16_col14, #T_a40af_row17_col14, #T_a40af_row18_col14, #T_a40af_row19_col13, #T_a40af_row20_col10, #T_a40af_row20_col11, #T_a40af_row20_col13, #T_a40af_row22_col9 {\n  background-color: #fffab6;\n}\n#T_a40af_row5_col10, #T_a40af_row6_col6 {\n  background-color: #7ac665;\n}\n#T_a40af_row5_col11, #T_a40af_row6_col5 {\n  background-color: #6ec064;\n}\n#T_a40af_row6_col0 {\n  background-color: #c01a27;\n}\n#T_a40af_row6_col1, #T_a40af_row7_col14, #T_a40af_row10_col3, #T_a40af_row12_col11, #T_a40af_row14_col3, #T_a40af_row15_col2, #T_a40af_row16_col1, #T_a40af_row17_col0, #T_a40af_row17_col2, #T_a40af_row18_col6, #T_a40af_row19_col2, #T_a40af_row22_col1, #T_a40af_row24_col5, #T_a40af_row26_col1, #T_a40af_row27_col0, #T_a40af_row27_col1, #T_a40af_row27_col2, #T_a40af_row28_col0, #T_a40af_row29_col0 {\n  background-color: #fca55d;\n}\n#T_a40af_row6_col7, #T_a40af_row7_col7 {\n  background-color: #42ac5a;\n}\n#T_a40af_row6_col14, #T_a40af_row9_col2, #T_a40af_row16_col8, #T_a40af_row18_col2, #T_a40af_row18_col17, #T_a40af_row21_col1, #T_a40af_row23_col2, #T_a40af_row25_col2, #T_a40af_row25_col4, #T_a40af_row29_col1 {\n  background-color: #fa9857;\n}\n#T_a40af_row7_col3, #T_a40af_row8_col17, #T_a40af_row9_col7, #T_a40af_row9_col10, #T_a40af_row10_col2, #T_a40af_row10_col10, #T_a40af_row11_col2, #T_a40af_row11_col3, #T_a40af_row12_col9, #T_a40af_row13_col6, #T_a40af_row13_col9, #T_a40af_row15_col11, #T_a40af_row16_col7, #T_a40af_row18_col5, #T_a40af_row19_col0, #T_a40af_row20_col0, #T_a40af_row20_col8, #T_a40af_row20_col15, #T_a40af_row21_col7, #T_a40af_row21_col9, #T_a40af_row21_col14, #T_a40af_row22_col13, #T_a40af_row22_col14, #T_a40af_row23_col12, #T_a40af_row23_col13, #T_a40af_row24_col12, #T_a40af_row24_col13, #T_a40af_row25_col12 {\n  background-color: #fed884;\n}\n#T_a40af_row8_col13, #T_a40af_row8_col14, #T_a40af_row9_col14, #T_a40af_row23_col0, #T_a40af_row23_col3, #T_a40af_row24_col0, #T_a40af_row25_col3, #T_a40af_row26_col4, #T_a40af_row28_col2, #T_a40af_row28_col4, #T_a40af_row29_col2, #T_a40af_row29_col4 {\n  background-color: #f57547;\n}\n#T_a40af_row9_col12, #T_a40af_row24_col2 {\n  background-color: #f26841;\n}\n#T_a40af_row16_col0, #T_a40af_row26_col3 {\n  background-color: #ec5c3b;\n}\n#T_a40af_row16_col2, #T_a40af_row18_col1, #T_a40af_row19_col16, #T_a40af_row21_col2, #T_a40af_row21_col5, #T_a40af_row24_col3, #T_a40af_row24_col4, #T_a40af_row28_col5 {\n  background-color: #f98e52;\n}\n#T_a40af_row27_col4 {\n  background-color: #e14430;\n}\n</style>\n<table id=\"T_a40af_\">\n  <thead>\n    <tr>\n      <th class=\"index_name level0\" >Threshold</th>\n      <th class=\"col_heading level0 col0\" >2.000</th>\n      <th class=\"col_heading level0 col1\" >2.125</th>\n      <th class=\"col_heading level0 col2\" >2.250</th>\n      <th class=\"col_heading level0 col3\" >2.375</th>\n      <th class=\"col_heading level0 col4\" >2.500</th>\n      <th class=\"col_heading level0 col5\" >2.625</th>\n      <th class=\"col_heading level0 col6\" >2.750</th>\n      <th class=\"col_heading level0 col7\" >2.875</th>\n      <th class=\"col_heading level0 col8\" >3.000</th>\n      <th class=\"col_heading level0 col9\" >3.125</th>\n      <th class=\"col_heading level0 col10\" >3.250</th>\n      <th class=\"col_heading level0 col11\" >3.375</th>\n      <th class=\"col_heading level0 col12\" >3.500</th>\n      <th class=\"col_heading level0 col13\" >3.625</th>\n      <th class=\"col_heading level0 col14\" >3.750</th>\n      <th class=\"col_heading level0 col15\" >3.875</th>\n      <th class=\"col_heading level0 col16\" >4.000</th>\n      <th class=\"col_heading level0 col17\" >4.125</th>\n      <th class=\"col_heading level0 col18\" >4.250</th>\n      <th class=\"col_heading level0 col19\" >4.375</th>\n      <th class=\"col_heading level0 col20\" >4.500</th>\n      <th class=\"col_heading level0 col21\" >4.625</th>\n      <th class=\"col_heading level0 col22\" >4.750</th>\n      <th class=\"col_heading level0 col23\" >4.875</th>\n      <th class=\"col_heading level0 col24\" >5.000</th>\n    </tr>\n    <tr>\n      <th class=\"index_name level0\" >Period</th>\n      <th class=\"blank col0\" >&nbsp;</th>\n      <th class=\"blank col1\" >&nbsp;</th>\n      <th class=\"blank col2\" >&nbsp;</th>\n      <th class=\"blank col3\" >&nbsp;</th>\n      <th class=\"blank col4\" >&nbsp;</th>\n      <th class=\"blank col5\" >&nbsp;</th>\n      <th class=\"blank col6\" >&nbsp;</th>\n      <th class=\"blank col7\" >&nbsp;</th>\n      <th class=\"blank col8\" >&nbsp;</th>\n      <th class=\"blank col9\" >&nbsp;</th>\n      <th class=\"blank col10\" >&nbsp;</th>\n      <th class=\"blank col11\" >&nbsp;</th>\n      <th class=\"blank col12\" >&nbsp;</th>\n      <th class=\"blank col13\" >&nbsp;</th>\n      <th class=\"blank col14\" >&nbsp;</th>\n      <th class=\"blank col15\" >&nbsp;</th>\n      <th class=\"blank col16\" >&nbsp;</th>\n      <th class=\"blank col17\" >&nbsp;</th>\n      <th class=\"blank col18\" >&nbsp;</th>\n      <th class=\"blank col19\" >&nbsp;</th>\n      <th class=\"blank col20\" >&nbsp;</th>\n      <th class=\"blank col21\" >&nbsp;</th>\n      <th class=\"blank col22\" >&nbsp;</th>\n      <th class=\"blank col23\" >&nbsp;</th>\n      <th class=\"blank col24\" >&nbsp;</th>\n    </tr>\n  </thead>\n  <tbody>\n    <tr>\n      <th id=\"T_a40af_level0_row0\" class=\"row_heading level0 row0\" >500</th>\n      <td id=\"T_a40af_row0_col0\" class=\"data row0 col0\" >-16293</td>\n      <td id=\"T_a40af_row0_col1\" class=\"data row0 col1\" >-13588</td>\n      <td id=\"T_a40af_row0_col2\" class=\"data row0 col2\" >-11429</td>\n      <td id=\"T_a40af_row0_col3\" class=\"data row0 col3\" >-9625</td>\n      <td id=\"T_a40af_row0_col4\" class=\"data row0 col4\" >-8078</td>\n      <td id=\"T_a40af_row0_col5\" class=\"data row0 col5\" >-6618</td>\n      <td id=\"T_a40af_row0_col6\" class=\"data row0 col6\" >-5387</td>\n      <td id=\"T_a40af_row0_col7\" class=\"data row0 col7\" >-4357</td>\n      <td id=\"T_a40af_row0_col8\" class=\"data row0 col8\" >-3587</td>\n      <td id=\"T_a40af_row0_col9\" class=\"data row0 col9\" >-2918</td>\n      <td id=\"T_a40af_row0_col10\" class=\"data row0 col10\" >-2321</td>\n      <td id=\"T_a40af_row0_col11\" class=\"data row0 col11\" >-1832</td>\n      <td id=\"T_a40af_row0_col12\" class=\"data row0 col12\" >-1387</td>\n      <td id=\"T_a40af_row0_col13\" class=\"data row0 col13\" >-1057</td>\n      <td id=\"T_a40af_row0_col14\" class=\"data row0 col14\" >-828</td>\n      <td id=\"T_a40af_row0_col15\" class=\"data row0 col15\" >-635</td>\n      <td id=\"T_a40af_row0_col16\" class=\"data row0 col16\" >-445</td>\n      <td id=\"T_a40af_row0_col17\" class=\"data row0 col17\" >-298</td>\n      <td id=\"T_a40af_row0_col18\" class=\"data row0 col18\" >-193</td>\n      <td id=\"T_a40af_row0_col19\" class=\"data row0 col19\" >-176</td>\n      <td id=\"T_a40af_row0_col20\" class=\"data row0 col20\" >-97</td>\n      <td id=\"T_a40af_row0_col21\" class=\"data row0 col21\" >-96</td>\n      <td id=\"T_a40af_row0_col22\" class=\"data row0 col22\" >-78</td>\n      <td id=\"T_a40af_row0_col23\" class=\"data row0 col23\" >-75</td>\n      <td id=\"T_a40af_row0_col24\" class=\"data row0 col24\" >-56</td>\n    </tr>\n    <tr>\n      <th id=\"T_a40af_level0_row1\" class=\"row_heading level0 row1\" >1000</th>\n      <td id=\"T_a40af_row1_col0\" class=\"data row1 col0\" >-2490</td>\n      <td id=\"T_a40af_row1_col1\" class=\"data row1 col1\" >-2072</td>\n      <td id=\"T_a40af_row1_col2\" class=\"data row1 col2\" >-1594</td>\n      <td id=\"T_a40af_row1_col3\" class=\"data row1 col3\" >-1183</td>\n      <td id=\"T_a40af_row1_col4\" class=\"data row1 col4\" >-935</td>\n      <td id=\"T_a40af_row1_col5\" class=\"data row1 col5\" >-725</td>\n      <td id=\"T_a40af_row1_col6\" class=\"data row1 col6\" >-563</td>\n      <td id=\"T_a40af_row1_col7\" class=\"data row1 col7\" >-397</td>\n      <td id=\"T_a40af_row1_col8\" class=\"data row1 col8\" >-342</td>\n      <td id=\"T_a40af_row1_col9\" class=\"data row1 col9\" >-268</td>\n      <td id=\"T_a40af_row1_col10\" class=\"data row1 col10\" >-183</td>\n      <td id=\"T_a40af_row1_col11\" class=\"data row1 col11\" >-114</td>\n      <td id=\"T_a40af_row1_col12\" class=\"data row1 col12\" >-86</td>\n      <td id=\"T_a40af_row1_col13\" class=\"data row1 col13\" >-40</td>\n      <td id=\"T_a40af_row1_col14\" class=\"data row1 col14\" >-39</td>\n      <td id=\"T_a40af_row1_col15\" class=\"data row1 col15\" >-20</td>\n      <td id=\"T_a40af_row1_col16\" class=\"data row1 col16\" >-14</td>\n      <td id=\"T_a40af_row1_col17\" class=\"data row1 col17\" >-5</td>\n      <td id=\"T_a40af_row1_col18\" class=\"data row1 col18\" >-2</td>\n      <td id=\"T_a40af_row1_col19\" class=\"data row1 col19\" >-10</td>\n      <td id=\"T_a40af_row1_col20\" class=\"data row1 col20\" >-9</td>\n      <td id=\"T_a40af_row1_col21\" class=\"data row1 col21\" >-9</td>\n      <td id=\"T_a40af_row1_col22\" class=\"data row1 col22\" >0</td>\n      <td id=\"T_a40af_row1_col23\" class=\"data row1 col23\" >1</td>\n      <td id=\"T_a40af_row1_col24\" class=\"data row1 col24\" >4</td>\n    </tr>\n    <tr>\n      <th id=\"T_a40af_level0_row2\" class=\"row_heading level0 row2\" >1500</th>\n      <td id=\"T_a40af_row2_col0\" class=\"data row2 col0\" >-741</td>\n      <td id=\"T_a40af_row2_col1\" class=\"data row2 col1\" >-523</td>\n      <td id=\"T_a40af_row2_col2\" class=\"data row2 col2\" >-437</td>\n      <td id=\"T_a40af_row2_col3\" class=\"data row2 col3\" >-337</td>\n      <td id=\"T_a40af_row2_col4\" class=\"data row2 col4\" >-231</td>\n      <td id=\"T_a40af_row2_col5\" class=\"data row2 col5\" >-158</td>\n      <td id=\"T_a40af_row2_col6\" class=\"data row2 col6\" >-145</td>\n      <td id=\"T_a40af_row2_col7\" class=\"data row2 col7\" >-126</td>\n      <td id=\"T_a40af_row2_col8\" class=\"data row2 col8\" >-101</td>\n      <td id=\"T_a40af_row2_col9\" class=\"data row2 col9\" >-53</td>\n      <td id=\"T_a40af_row2_col10\" class=\"data row2 col10\" >-35</td>\n      <td id=\"T_a40af_row2_col11\" class=\"data row2 col11\" >2</td>\n      <td id=\"T_a40af_row2_col12\" class=\"data row2 col12\" >3</td>\n      <td id=\"T_a40af_row2_col13\" class=\"data row2 col13\" >1</td>\n      <td id=\"T_a40af_row2_col14\" class=\"data row2 col14\" >5</td>\n      <td id=\"T_a40af_row2_col15\" class=\"data row2 col15\" >10</td>\n      <td id=\"T_a40af_row2_col16\" class=\"data row2 col16\" >13</td>\n      <td id=\"T_a40af_row2_col17\" class=\"data row2 col17\" >12</td>\n      <td id=\"T_a40af_row2_col18\" class=\"data row2 col18\" >6</td>\n      <td id=\"T_a40af_row2_col19\" class=\"data row2 col19\" >6</td>\n      <td id=\"T_a40af_row2_col20\" class=\"data row2 col20\" >8</td>\n      <td id=\"T_a40af_row2_col21\" class=\"data row2 col21\" >9</td>\n      <td id=\"T_a40af_row2_col22\" class=\"data row2 col22\" >6</td>\n      <td id=\"T_a40af_row2_col23\" class=\"data row2 col23\" >8</td>\n      <td id=\"T_a40af_row2_col24\" class=\"data row2 col24\" >2</td>\n    </tr>\n    <tr>\n      <th id=\"T_a40af_level0_row3\" class=\"row_heading level0 row3\" >2000</th>\n      <td id=\"T_a40af_row3_col0\" class=\"data row3 col0\" >-346</td>\n      <td id=\"T_a40af_row3_col1\" class=\"data row3 col1\" >-212</td>\n      <td id=\"T_a40af_row3_col2\" class=\"data row3 col2\" >-150</td>\n      <td id=\"T_a40af_row3_col3\" class=\"data row3 col3\" >-106</td>\n      <td id=\"T_a40af_row3_col4\" class=\"data row3 col4\" >-74</td>\n      <td id=\"T_a40af_row3_col5\" class=\"data row3 col5\" >-63</td>\n      <td id=\"T_a40af_row3_col6\" class=\"data row3 col6\" >-45</td>\n      <td id=\"T_a40af_row3_col7\" class=\"data row3 col7\" >-25</td>\n      <td id=\"T_a40af_row3_col8\" class=\"data row3 col8\" >-21</td>\n      <td id=\"T_a40af_row3_col9\" class=\"data row3 col9\" >8</td>\n      <td id=\"T_a40af_row3_col10\" class=\"data row3 col10\" >26</td>\n      <td id=\"T_a40af_row3_col11\" class=\"data row3 col11\" >22</td>\n      <td id=\"T_a40af_row3_col12\" class=\"data row3 col12\" >19</td>\n      <td id=\"T_a40af_row3_col13\" class=\"data row3 col13\" >20</td>\n      <td id=\"T_a40af_row3_col14\" class=\"data row3 col14\" >21</td>\n      <td id=\"T_a40af_row3_col15\" class=\"data row3 col15\" >17</td>\n      <td id=\"T_a40af_row3_col16\" class=\"data row3 col16\" >9</td>\n      <td id=\"T_a40af_row3_col17\" class=\"data row3 col17\" >11</td>\n      <td id=\"T_a40af_row3_col18\" class=\"data row3 col18\" >7</td>\n      <td id=\"T_a40af_row3_col19\" class=\"data row3 col19\" >1</td>\n      <td id=\"T_a40af_row3_col20\" class=\"data row3 col20\" >0</td>\n      <td id=\"T_a40af_row3_col21\" class=\"data row3 col21\" >-4</td>\n      <td id=\"T_a40af_row3_col22\" class=\"data row3 col22\" >-8</td>\n      <td id=\"T_a40af_row3_col23\" class=\"data row3 col23\" >-3</td>\n      <td id=\"T_a40af_row3_col24\" class=\"data row3 col24\" >0</td>\n    </tr>\n    <tr>\n      <th id=\"T_a40af_level0_row4\" class=\"row_heading level0 row4\" >2500</th>\n      <td id=\"T_a40af_row4_col0\" class=\"data row4 col0\" >-111</td>\n      <td id=\"T_a40af_row4_col1\" class=\"data row4 col1\" >-98</td>\n      <td id=\"T_a40af_row4_col2\" class=\"data row4 col2\" >-38</td>\n      <td id=\"T_a40af_row4_col3\" class=\"data row4 col3\" >-27</td>\n      <td id=\"T_a40af_row4_col4\" class=\"data row4 col4\" >-18</td>\n      <td id=\"T_a40af_row4_col5\" class=\"data row4 col5\" >-31</td>\n      <td id=\"T_a40af_row4_col6\" class=\"data row4 col6\" >-7</td>\n      <td id=\"T_a40af_row4_col7\" class=\"data row4 col7\" >5</td>\n      <td id=\"T_a40af_row4_col8\" class=\"data row4 col8\" >2</td>\n      <td id=\"T_a40af_row4_col9\" class=\"data row4 col9\" >19</td>\n      <td id=\"T_a40af_row4_col10\" class=\"data row4 col10\" >11</td>\n      <td id=\"T_a40af_row4_col11\" class=\"data row4 col11\" >0</td>\n      <td id=\"T_a40af_row4_col12\" class=\"data row4 col12\" >16</td>\n      <td id=\"T_a40af_row4_col13\" class=\"data row4 col13\" >13</td>\n      <td id=\"T_a40af_row4_col14\" class=\"data row4 col14\" >5</td>\n      <td id=\"T_a40af_row4_col15\" class=\"data row4 col15\" >3</td>\n      <td id=\"T_a40af_row4_col16\" class=\"data row4 col16\" >0</td>\n      <td id=\"T_a40af_row4_col17\" class=\"data row4 col17\" >3</td>\n      <td id=\"T_a40af_row4_col18\" class=\"data row4 col18\" >3</td>\n      <td id=\"T_a40af_row4_col19\" class=\"data row4 col19\" >-1</td>\n      <td id=\"T_a40af_row4_col20\" class=\"data row4 col20\" >-9</td>\n      <td id=\"T_a40af_row4_col21\" class=\"data row4 col21\" >-1</td>\n      <td id=\"T_a40af_row4_col22\" class=\"data row4 col22\" >1</td>\n      <td id=\"T_a40af_row4_col23\" class=\"data row4 col23\" >0</td>\n      <td id=\"T_a40af_row4_col24\" class=\"data row4 col24\" >4</td>\n    </tr>\n    <tr>\n      <th id=\"T_a40af_level0_row5\" class=\"row_heading level0 row5\" >3000</th>\n      <td id=\"T_a40af_row5_col0\" class=\"data row5 col0\" >-89</td>\n      <td id=\"T_a40af_row5_col1\" class=\"data row5 col1\" >-33</td>\n      <td id=\"T_a40af_row5_col2\" class=\"data row5 col2\" >-31</td>\n      <td id=\"T_a40af_row5_col3\" class=\"data row5 col3\" >-32</td>\n      <td id=\"T_a40af_row5_col4\" class=\"data row5 col4\" >-5</td>\n      <td id=\"T_a40af_row5_col5\" class=\"data row5 col5\" >2</td>\n      <td id=\"T_a40af_row5_col6\" class=\"data row5 col6\" >11</td>\n      <td id=\"T_a40af_row5_col7\" class=\"data row5 col7\" >11</td>\n      <td id=\"T_a40af_row5_col8\" class=\"data row5 col8\" >13</td>\n      <td id=\"T_a40af_row5_col9\" class=\"data row5 col9\" >16</td>\n      <td id=\"T_a40af_row5_col10\" class=\"data row5 col10\" >14</td>\n      <td id=\"T_a40af_row5_col11\" class=\"data row5 col11\" >15</td>\n      <td id=\"T_a40af_row5_col12\" class=\"data row5 col12\" >5</td>\n      <td id=\"T_a40af_row5_col13\" class=\"data row5 col13\" >1</td>\n      <td id=\"T_a40af_row5_col14\" class=\"data row5 col14\" >3</td>\n      <td id=\"T_a40af_row5_col15\" class=\"data row5 col15\" >-1</td>\n      <td id=\"T_a40af_row5_col16\" class=\"data row5 col16\" >-3</td>\n      <td id=\"T_a40af_row5_col17\" class=\"data row5 col17\" >-3</td>\n      <td id=\"T_a40af_row5_col18\" class=\"data row5 col18\" >-5</td>\n      <td id=\"T_a40af_row5_col19\" class=\"data row5 col19\" >0</td>\n      <td id=\"T_a40af_row5_col20\" class=\"data row5 col20\" >-4</td>\n      <td id=\"T_a40af_row5_col21\" class=\"data row5 col21\" >0</td>\n      <td id=\"T_a40af_row5_col22\" class=\"data row5 col22\" >0</td>\n      <td id=\"T_a40af_row5_col23\" class=\"data row5 col23\" >4</td>\n      <td id=\"T_a40af_row5_col24\" class=\"data row5 col24\" >3</td>\n    </tr>\n    <tr>\n      <th id=\"T_a40af_level0_row6\" class=\"row_heading level0 row6\" >3500</th>\n      <td id=\"T_a40af_row6_col0\" class=\"data row6 col0\" >-23</td>\n      <td id=\"T_a40af_row6_col1\" class=\"data row6 col1\" >-11</td>\n      <td id=\"T_a40af_row6_col2\" class=\"data row6 col2\" >0</td>\n      <td id=\"T_a40af_row6_col3\" class=\"data row6 col3\" >3</td>\n      <td id=\"T_a40af_row6_col4\" class=\"data row6 col4\" >10</td>\n      <td id=\"T_a40af_row6_col5\" class=\"data row6 col5\" >15</td>\n      <td id=\"T_a40af_row6_col6\" class=\"data row6 col6\" >14</td>\n      <td id=\"T_a40af_row6_col7\" class=\"data row6 col7\" >18</td>\n      <td id=\"T_a40af_row6_col8\" class=\"data row6 col8\" >19</td>\n      <td id=\"T_a40af_row6_col9\" class=\"data row6 col9\" >9</td>\n      <td id=\"T_a40af_row6_col10\" class=\"data row6 col10\" >5</td>\n      <td id=\"T_a40af_row6_col11\" class=\"data row6 col11\" >1</td>\n      <td id=\"T_a40af_row6_col12\" class=\"data row6 col12\" >-2</td>\n      <td id=\"T_a40af_row6_col13\" class=\"data row6 col13\" >-5</td>\n      <td id=\"T_a40af_row6_col14\" class=\"data row6 col14\" >-12</td>\n      <td id=\"T_a40af_row6_col15\" class=\"data row6 col15\" >-8</td>\n      <td id=\"T_a40af_row6_col16\" class=\"data row6 col16\" >-4</td>\n      <td id=\"T_a40af_row6_col17\" class=\"data row6 col17\" >-2</td>\n      <td id=\"T_a40af_row6_col18\" class=\"data row6 col18\" >-2</td>\n      <td id=\"T_a40af_row6_col19\" class=\"data row6 col19\" >-4</td>\n      <td id=\"T_a40af_row6_col20\" class=\"data row6 col20\" >0</td>\n      <td id=\"T_a40af_row6_col21\" class=\"data row6 col21\" >0</td>\n      <td id=\"T_a40af_row6_col22\" class=\"data row6 col22\" >4</td>\n      <td id=\"T_a40af_row6_col23\" class=\"data row6 col23\" >4</td>\n      <td id=\"T_a40af_row6_col24\" class=\"data row6 col24\" >0</td>\n    </tr>\n    <tr>\n      <th id=\"T_a40af_level0_row7\" class=\"row_heading level0 row7\" >4000</th>\n      <td id=\"T_a40af_row7_col0\" class=\"data row7 col0\" >1</td>\n      <td id=\"T_a40af_row7_col1\" class=\"data row7 col1\" >-18</td>\n      <td id=\"T_a40af_row7_col2\" class=\"data row7 col2\" >-18</td>\n      <td id=\"T_a40af_row7_col3\" class=\"data row7 col3\" >-6</td>\n      <td id=\"T_a40af_row7_col4\" class=\"data row7 col4\" >16</td>\n      <td id=\"T_a40af_row7_col5\" class=\"data row7 col5\" >16</td>\n      <td id=\"T_a40af_row7_col6\" class=\"data row7 col6\" >12</td>\n      <td id=\"T_a40af_row7_col7\" class=\"data row7 col7\" >18</td>\n      <td id=\"T_a40af_row7_col8\" class=\"data row7 col8\" >4</td>\n      <td id=\"T_a40af_row7_col9\" class=\"data row7 col9\" >5</td>\n      <td id=\"T_a40af_row7_col10\" class=\"data row7 col10\" >8</td>\n      <td id=\"T_a40af_row7_col11\" class=\"data row7 col11\" >-8</td>\n      <td id=\"T_a40af_row7_col12\" class=\"data row7 col12\" >-7</td>\n      <td id=\"T_a40af_row7_col13\" class=\"data row7 col13\" >-7</td>\n      <td id=\"T_a40af_row7_col14\" class=\"data row7 col14\" >-11</td>\n      <td id=\"T_a40af_row7_col15\" class=\"data row7 col15\" >-5</td>\n      <td id=\"T_a40af_row7_col16\" class=\"data row7 col16\" >-8</td>\n      <td id=\"T_a40af_row7_col17\" class=\"data row7 col17\" >-2</td>\n      <td id=\"T_a40af_row7_col18\" class=\"data row7 col18\" >-3</td>\n      <td id=\"T_a40af_row7_col19\" class=\"data row7 col19\" >-4</td>\n      <td id=\"T_a40af_row7_col20\" class=\"data row7 col20\" >2</td>\n      <td id=\"T_a40af_row7_col21\" class=\"data row7 col21\" >4</td>\n      <td id=\"T_a40af_row7_col22\" class=\"data row7 col22\" >4</td>\n      <td id=\"T_a40af_row7_col23\" class=\"data row7 col23\" >4</td>\n      <td id=\"T_a40af_row7_col24\" class=\"data row7 col24\" >0</td>\n    </tr>\n    <tr>\n      <th id=\"T_a40af_level0_row8\" class=\"row_heading level0 row8\" >4500</th>\n      <td id=\"T_a40af_row8_col0\" class=\"data row8 col0\" >-7</td>\n      <td id=\"T_a40af_row8_col1\" class=\"data row8 col1\" >-2</td>\n      <td id=\"T_a40af_row8_col2\" class=\"data row8 col2\" >1</td>\n      <td id=\"T_a40af_row8_col3\" class=\"data row8 col3\" >-2</td>\n      <td id=\"T_a40af_row8_col4\" class=\"data row8 col4\" >5</td>\n      <td id=\"T_a40af_row8_col5\" class=\"data row8 col5\" >11</td>\n      <td id=\"T_a40af_row8_col6\" class=\"data row8 col6\" >2</td>\n      <td id=\"T_a40af_row8_col7\" class=\"data row8 col7\" >-7</td>\n      <td id=\"T_a40af_row8_col8\" class=\"data row8 col8\" >-3</td>\n      <td id=\"T_a40af_row8_col9\" class=\"data row8 col9\" >0</td>\n      <td id=\"T_a40af_row8_col10\" class=\"data row8 col10\" >3</td>\n      <td id=\"T_a40af_row8_col11\" class=\"data row8 col11\" >-3</td>\n      <td id=\"T_a40af_row8_col12\" class=\"data row8 col12\" >-14</td>\n      <td id=\"T_a40af_row8_col13\" class=\"data row8 col13\" >-15</td>\n      <td id=\"T_a40af_row8_col14\" class=\"data row8 col14\" >-15</td>\n      <td id=\"T_a40af_row8_col15\" class=\"data row8 col15\" >-10</td>\n      <td id=\"T_a40af_row8_col16\" class=\"data row8 col16\" >-9</td>\n      <td id=\"T_a40af_row8_col17\" class=\"data row8 col17\" >-6</td>\n      <td id=\"T_a40af_row8_col18\" class=\"data row8 col18\" >0</td>\n      <td id=\"T_a40af_row8_col19\" class=\"data row8 col19\" >2</td>\n      <td id=\"T_a40af_row8_col20\" class=\"data row8 col20\" >2</td>\n      <td id=\"T_a40af_row8_col21\" class=\"data row8 col21\" >4</td>\n      <td id=\"T_a40af_row8_col22\" class=\"data row8 col22\" >3</td>\n      <td id=\"T_a40af_row8_col23\" class=\"data row8 col23\" >2</td>\n      <td id=\"T_a40af_row8_col24\" class=\"data row8 col24\" >0</td>\n    </tr>\n    <tr>\n      <th id=\"T_a40af_level0_row9\" class=\"row_heading level0 row9\" >5000</th>\n      <td id=\"T_a40af_row9_col0\" class=\"data row9 col0\" >-25</td>\n      <td id=\"T_a40af_row9_col1\" class=\"data row9 col1\" >-21</td>\n      <td id=\"T_a40af_row9_col2\" class=\"data row9 col2\" >-12</td>\n      <td id=\"T_a40af_row9_col3\" class=\"data row9 col3\" >-10</td>\n      <td id=\"T_a40af_row9_col4\" class=\"data row9 col4\" >1</td>\n      <td id=\"T_a40af_row9_col5\" class=\"data row9 col5\" >-2</td>\n      <td id=\"T_a40af_row9_col6\" class=\"data row9 col6\" >4</td>\n      <td id=\"T_a40af_row9_col7\" class=\"data row9 col7\" >-6</td>\n      <td id=\"T_a40af_row9_col8\" class=\"data row9 col8\" >-2</td>\n      <td id=\"T_a40af_row9_col9\" class=\"data row9 col9\" >-8</td>\n      <td id=\"T_a40af_row9_col10\" class=\"data row9 col10\" >-6</td>\n      <td id=\"T_a40af_row9_col11\" class=\"data row9 col11\" >-10</td>\n      <td id=\"T_a40af_row9_col12\" class=\"data row9 col12\" >-16</td>\n      <td id=\"T_a40af_row9_col13\" class=\"data row9 col13\" >-14</td>\n      <td id=\"T_a40af_row9_col14\" class=\"data row9 col14\" >-15</td>\n      <td id=\"T_a40af_row9_col15\" class=\"data row9 col15\" >-9</td>\n      <td id=\"T_a40af_row9_col16\" class=\"data row9 col16\" >-9</td>\n      <td id=\"T_a40af_row9_col17\" class=\"data row9 col17\" >-4</td>\n      <td id=\"T_a40af_row9_col18\" class=\"data row9 col18\" >0</td>\n      <td id=\"T_a40af_row9_col19\" class=\"data row9 col19\" >2</td>\n      <td id=\"T_a40af_row9_col20\" class=\"data row9 col20\" >4</td>\n      <td id=\"T_a40af_row9_col21\" class=\"data row9 col21\" >2</td>\n      <td id=\"T_a40af_row9_col22\" class=\"data row9 col22\" >2</td>\n      <td id=\"T_a40af_row9_col23\" class=\"data row9 col23\" >0</td>\n      <td id=\"T_a40af_row9_col24\" class=\"data row9 col24\" >0</td>\n    </tr>\n    <tr>\n      <th id=\"T_a40af_level0_row10\" class=\"row_heading level0 row10\" >5500</th>\n      <td id=\"T_a40af_row10_col0\" class=\"data row10 col0\" >-9</td>\n      <td id=\"T_a40af_row10_col1\" class=\"data row10 col1\" >-7</td>\n      <td id=\"T_a40af_row10_col2\" class=\"data row10 col2\" >-6</td>\n      <td id=\"T_a40af_row10_col3\" class=\"data row10 col3\" >-11</td>\n      <td id=\"T_a40af_row10_col4\" class=\"data row10 col4\" >-1</td>\n      <td id=\"T_a40af_row10_col5\" class=\"data row10 col5\" >0</td>\n      <td id=\"T_a40af_row10_col6\" class=\"data row10 col6\" >-5</td>\n      <td id=\"T_a40af_row10_col7\" class=\"data row10 col7\" >-1</td>\n      <td id=\"T_a40af_row10_col8\" class=\"data row10 col8\" >2</td>\n      <td id=\"T_a40af_row10_col9\" class=\"data row10 col9\" >-3</td>\n      <td id=\"T_a40af_row10_col10\" class=\"data row10 col10\" >-6</td>\n      <td id=\"T_a40af_row10_col11\" class=\"data row10 col11\" >-7</td>\n      <td id=\"T_a40af_row10_col12\" class=\"data row10 col12\" >-14</td>\n      <td id=\"T_a40af_row10_col13\" class=\"data row10 col13\" >-8</td>\n      <td id=\"T_a40af_row10_col14\" class=\"data row10 col14\" >-8</td>\n      <td id=\"T_a40af_row10_col15\" class=\"data row10 col15\" >-8</td>\n      <td id=\"T_a40af_row10_col16\" class=\"data row10 col16\" >-4</td>\n      <td id=\"T_a40af_row10_col17\" class=\"data row10 col17\" >0</td>\n      <td id=\"T_a40af_row10_col18\" class=\"data row10 col18\" >0</td>\n      <td id=\"T_a40af_row10_col19\" class=\"data row10 col19\" >3</td>\n      <td id=\"T_a40af_row10_col20\" class=\"data row10 col20\" >2</td>\n      <td id=\"T_a40af_row10_col21\" class=\"data row10 col21\" >0</td>\n      <td id=\"T_a40af_row10_col22\" class=\"data row10 col22\" >0</td>\n      <td id=\"T_a40af_row10_col23\" class=\"data row10 col23\" >0</td>\n      <td id=\"T_a40af_row10_col24\" class=\"data row10 col24\" >0</td>\n    </tr>\n    <tr>\n      <th id=\"T_a40af_level0_row11\" class=\"row_heading level0 row11\" >6000</th>\n      <td id=\"T_a40af_row11_col0\" class=\"data row11 col0\" >-3</td>\n      <td id=\"T_a40af_row11_col1\" class=\"data row11 col1\" >-2</td>\n      <td id=\"T_a40af_row11_col2\" class=\"data row11 col2\" >-6</td>\n      <td id=\"T_a40af_row11_col3\" class=\"data row11 col3\" >-6</td>\n      <td id=\"T_a40af_row11_col4\" class=\"data row11 col4\" >-2</td>\n      <td id=\"T_a40af_row11_col5\" class=\"data row11 col5\" >-5</td>\n      <td id=\"T_a40af_row11_col6\" class=\"data row11 col6\" >0</td>\n      <td id=\"T_a40af_row11_col7\" class=\"data row11 col7\" >3</td>\n      <td id=\"T_a40af_row11_col8\" class=\"data row11 col8\" >0</td>\n      <td id=\"T_a40af_row11_col9\" class=\"data row11 col9\" >-5</td>\n      <td id=\"T_a40af_row11_col10\" class=\"data row11 col10\" >-8</td>\n      <td id=\"T_a40af_row11_col11\" class=\"data row11 col11\" >-8</td>\n      <td id=\"T_a40af_row11_col12\" class=\"data row11 col12\" >-9</td>\n      <td id=\"T_a40af_row11_col13\" class=\"data row11 col13\" >-8</td>\n      <td id=\"T_a40af_row11_col14\" class=\"data row11 col14\" >-5</td>\n      <td id=\"T_a40af_row11_col15\" class=\"data row11 col15\" >0</td>\n      <td id=\"T_a40af_row11_col16\" class=\"data row11 col16\" >0</td>\n      <td id=\"T_a40af_row11_col17\" class=\"data row11 col17\" >0</td>\n      <td id=\"T_a40af_row11_col18\" class=\"data row11 col18\" >2</td>\n      <td id=\"T_a40af_row11_col19\" class=\"data row11 col19\" >3</td>\n      <td id=\"T_a40af_row11_col20\" class=\"data row11 col20\" >0</td>\n      <td id=\"T_a40af_row11_col21\" class=\"data row11 col21\" >0</td>\n      <td id=\"T_a40af_row11_col22\" class=\"data row11 col22\" >0</td>\n      <td id=\"T_a40af_row11_col23\" class=\"data row11 col23\" >0</td>\n      <td id=\"T_a40af_row11_col24\" class=\"data row11 col24\" >0</td>\n    </tr>\n    <tr>\n      <th id=\"T_a40af_level0_row12\" class=\"row_heading level0 row12\" >6500</th>\n      <td id=\"T_a40af_row12_col0\" class=\"data row12 col0\" >4</td>\n      <td id=\"T_a40af_row12_col1\" class=\"data row12 col1\" >-5</td>\n      <td id=\"T_a40af_row12_col2\" class=\"data row12 col2\" >-2</td>\n      <td id=\"T_a40af_row12_col3\" class=\"data row12 col3\" >-4</td>\n      <td id=\"T_a40af_row12_col4\" class=\"data row12 col4\" >1</td>\n      <td id=\"T_a40af_row12_col5\" class=\"data row12 col5\" >2</td>\n      <td id=\"T_a40af_row12_col6\" class=\"data row12 col6\" >0</td>\n      <td id=\"T_a40af_row12_col7\" class=\"data row12 col7\" >0</td>\n      <td id=\"T_a40af_row12_col8\" class=\"data row12 col8\" >-7</td>\n      <td id=\"T_a40af_row12_col9\" class=\"data row12 col9\" >-6</td>\n      <td id=\"T_a40af_row12_col10\" class=\"data row12 col10\" >-8</td>\n      <td id=\"T_a40af_row12_col11\" class=\"data row12 col11\" >-11</td>\n      <td id=\"T_a40af_row12_col12\" class=\"data row12 col12\" >-7</td>\n      <td id=\"T_a40af_row12_col13\" class=\"data row12 col13\" >-5</td>\n      <td id=\"T_a40af_row12_col14\" class=\"data row12 col14\" >-2</td>\n      <td id=\"T_a40af_row12_col15\" class=\"data row12 col15\" >0</td>\n      <td id=\"T_a40af_row12_col16\" class=\"data row12 col16\" >-1</td>\n      <td id=\"T_a40af_row12_col17\" class=\"data row12 col17\" >1</td>\n      <td id=\"T_a40af_row12_col18\" class=\"data row12 col18\" >1</td>\n      <td id=\"T_a40af_row12_col19\" class=\"data row12 col19\" >0</td>\n      <td id=\"T_a40af_row12_col20\" class=\"data row12 col20\" >0</td>\n      <td id=\"T_a40af_row12_col21\" class=\"data row12 col21\" >0</td>\n      <td id=\"T_a40af_row12_col22\" class=\"data row12 col22\" >0</td>\n      <td id=\"T_a40af_row12_col23\" class=\"data row12 col23\" >0</td>\n      <td id=\"T_a40af_row12_col24\" class=\"data row12 col24\" >0</td>\n    </tr>\n    <tr>\n      <th id=\"T_a40af_level0_row13\" class=\"row_heading level0 row13\" >7000</th>\n      <td id=\"T_a40af_row13_col0\" class=\"data row13 col0\" >-1</td>\n      <td id=\"T_a40af_row13_col1\" class=\"data row13 col1\" >-7</td>\n      <td id=\"T_a40af_row13_col2\" class=\"data row13 col2\" >-1</td>\n      <td id=\"T_a40af_row13_col3\" class=\"data row13 col3\" >-5</td>\n      <td id=\"T_a40af_row13_col4\" class=\"data row13 col4\" >0</td>\n      <td id=\"T_a40af_row13_col5\" class=\"data row13 col5\" >-5</td>\n      <td id=\"T_a40af_row13_col6\" class=\"data row13 col6\" >-6</td>\n      <td id=\"T_a40af_row13_col7\" class=\"data row13 col7\" >-5</td>\n      <td id=\"T_a40af_row13_col8\" class=\"data row13 col8\" >-3</td>\n      <td id=\"T_a40af_row13_col9\" class=\"data row13 col9\" >-6</td>\n      <td id=\"T_a40af_row13_col10\" class=\"data row13 col10\" >-8</td>\n      <td id=\"T_a40af_row13_col11\" class=\"data row13 col11\" >-7</td>\n      <td id=\"T_a40af_row13_col12\" class=\"data row13 col12\" >-4</td>\n      <td id=\"T_a40af_row13_col13\" class=\"data row13 col13\" >-5</td>\n      <td id=\"T_a40af_row13_col14\" class=\"data row13 col14\" >-1</td>\n      <td id=\"T_a40af_row13_col15\" class=\"data row13 col15\" >-1</td>\n      <td id=\"T_a40af_row13_col16\" class=\"data row13 col16\" >1</td>\n      <td id=\"T_a40af_row13_col17\" class=\"data row13 col17\" >1</td>\n      <td id=\"T_a40af_row13_col18\" class=\"data row13 col18\" >-2</td>\n      <td id=\"T_a40af_row13_col19\" class=\"data row13 col19\" >-2</td>\n      <td id=\"T_a40af_row13_col20\" class=\"data row13 col20\" >0</td>\n      <td id=\"T_a40af_row13_col21\" class=\"data row13 col21\" >0</td>\n      <td id=\"T_a40af_row13_col22\" class=\"data row13 col22\" >0</td>\n      <td id=\"T_a40af_row13_col23\" class=\"data row13 col23\" >0</td>\n      <td id=\"T_a40af_row13_col24\" class=\"data row13 col24\" >0</td>\n    </tr>\n    <tr>\n      <th id=\"T_a40af_level0_row14\" class=\"row_heading level0 row14\" >7500</th>\n      <td id=\"T_a40af_row14_col0\" class=\"data row14 col0\" >-5</td>\n      <td id=\"T_a40af_row14_col1\" class=\"data row14 col1\" >-4</td>\n      <td id=\"T_a40af_row14_col2\" class=\"data row14 col2\" >0</td>\n      <td id=\"T_a40af_row14_col3\" class=\"data row14 col3\" >-11</td>\n      <td id=\"T_a40af_row14_col4\" class=\"data row14 col4\" >-9</td>\n      <td id=\"T_a40af_row14_col5\" class=\"data row14 col5\" >-3</td>\n      <td id=\"T_a40af_row14_col6\" class=\"data row14 col6\" >-1</td>\n      <td id=\"T_a40af_row14_col7\" class=\"data row14 col7\" >-2</td>\n      <td id=\"T_a40af_row14_col8\" class=\"data row14 col8\" >-8</td>\n      <td id=\"T_a40af_row14_col9\" class=\"data row14 col9\" >-5</td>\n      <td id=\"T_a40af_row14_col10\" class=\"data row14 col10\" >-7</td>\n      <td id=\"T_a40af_row14_col11\" class=\"data row14 col11\" >-5</td>\n      <td id=\"T_a40af_row14_col12\" class=\"data row14 col12\" >-5</td>\n      <td id=\"T_a40af_row14_col13\" class=\"data row14 col13\" >-3</td>\n      <td id=\"T_a40af_row14_col14\" class=\"data row14 col14\" >-1</td>\n      <td id=\"T_a40af_row14_col15\" class=\"data row14 col15\" >-1</td>\n      <td id=\"T_a40af_row14_col16\" class=\"data row14 col16\" >1</td>\n      <td id=\"T_a40af_row14_col17\" class=\"data row14 col17\" >-2</td>\n      <td id=\"T_a40af_row14_col18\" class=\"data row14 col18\" >-2</td>\n      <td id=\"T_a40af_row14_col19\" class=\"data row14 col19\" >0</td>\n      <td id=\"T_a40af_row14_col20\" class=\"data row14 col20\" >0</td>\n      <td id=\"T_a40af_row14_col21\" class=\"data row14 col21\" >0</td>\n      <td id=\"T_a40af_row14_col22\" class=\"data row14 col22\" >0</td>\n      <td id=\"T_a40af_row14_col23\" class=\"data row14 col23\" >0</td>\n      <td id=\"T_a40af_row14_col24\" class=\"data row14 col24\" >0</td>\n    </tr>\n    <tr>\n      <th id=\"T_a40af_level0_row15\" class=\"row_heading level0 row15\" >8000</th>\n      <td id=\"T_a40af_row15_col0\" class=\"data row15 col0\" >-9</td>\n      <td id=\"T_a40af_row15_col1\" class=\"data row15 col1\" >-7</td>\n      <td id=\"T_a40af_row15_col2\" class=\"data row15 col2\" >-11</td>\n      <td id=\"T_a40af_row15_col3\" class=\"data row15 col3\" >-4</td>\n      <td id=\"T_a40af_row15_col4\" class=\"data row15 col4\" >-7</td>\n      <td id=\"T_a40af_row15_col5\" class=\"data row15 col5\" >0</td>\n      <td id=\"T_a40af_row15_col6\" class=\"data row15 col6\" >-3</td>\n      <td id=\"T_a40af_row15_col7\" class=\"data row15 col7\" >-4</td>\n      <td id=\"T_a40af_row15_col8\" class=\"data row15 col8\" >-8</td>\n      <td id=\"T_a40af_row15_col9\" class=\"data row15 col9\" >-9</td>\n      <td id=\"T_a40af_row15_col10\" class=\"data row15 col10\" >-7</td>\n      <td id=\"T_a40af_row15_col11\" class=\"data row15 col11\" >-6</td>\n      <td id=\"T_a40af_row15_col12\" class=\"data row15 col12\" >-3</td>\n      <td id=\"T_a40af_row15_col13\" class=\"data row15 col13\" >-2</td>\n      <td id=\"T_a40af_row15_col14\" class=\"data row15 col14\" >-1</td>\n      <td id=\"T_a40af_row15_col15\" class=\"data row15 col15\" >1</td>\n      <td id=\"T_a40af_row15_col16\" class=\"data row15 col16\" >-2</td>\n      <td id=\"T_a40af_row15_col17\" class=\"data row15 col17\" >-2</td>\n      <td id=\"T_a40af_row15_col18\" class=\"data row15 col18\" >-2</td>\n      <td id=\"T_a40af_row15_col19\" class=\"data row15 col19\" >0</td>\n      <td id=\"T_a40af_row15_col20\" class=\"data row15 col20\" >0</td>\n      <td id=\"T_a40af_row15_col21\" class=\"data row15 col21\" >0</td>\n      <td id=\"T_a40af_row15_col22\" class=\"data row15 col22\" >0</td>\n      <td id=\"T_a40af_row15_col23\" class=\"data row15 col23\" >0</td>\n      <td id=\"T_a40af_row15_col24\" class=\"data row15 col24\" >0</td>\n    </tr>\n    <tr>\n      <th id=\"T_a40af_level0_row16\" class=\"row_heading level0 row16\" >8500</th>\n      <td id=\"T_a40af_row16_col0\" class=\"data row16 col0\" >-17</td>\n      <td id=\"T_a40af_row16_col1\" class=\"data row16 col1\" >-11</td>\n      <td id=\"T_a40af_row16_col2\" class=\"data row16 col2\" >-13</td>\n      <td id=\"T_a40af_row16_col3\" class=\"data row16 col3\" >-9</td>\n      <td id=\"T_a40af_row16_col4\" class=\"data row16 col4\" >-8</td>\n      <td id=\"T_a40af_row16_col5\" class=\"data row16 col5\" >-1</td>\n      <td id=\"T_a40af_row16_col6\" class=\"data row16 col6\" >-3</td>\n      <td id=\"T_a40af_row16_col7\" class=\"data row16 col7\" >-6</td>\n      <td id=\"T_a40af_row16_col8\" class=\"data row16 col8\" >-12</td>\n      <td id=\"T_a40af_row16_col9\" class=\"data row16 col9\" >-7</td>\n      <td id=\"T_a40af_row16_col10\" class=\"data row16 col10\" >-5</td>\n      <td id=\"T_a40af_row16_col11\" class=\"data row16 col11\" >-3</td>\n      <td id=\"T_a40af_row16_col12\" class=\"data row16 col12\" >-2</td>\n      <td id=\"T_a40af_row16_col13\" class=\"data row16 col13\" >-2</td>\n      <td id=\"T_a40af_row16_col14\" class=\"data row16 col14\" >-1</td>\n      <td id=\"T_a40af_row16_col15\" class=\"data row16 col15\" >-2</td>\n      <td id=\"T_a40af_row16_col16\" class=\"data row16 col16\" >-2</td>\n      <td id=\"T_a40af_row16_col17\" class=\"data row16 col17\" >-2</td>\n      <td id=\"T_a40af_row16_col18\" class=\"data row16 col18\" >-2</td>\n      <td id=\"T_a40af_row16_col19\" class=\"data row16 col19\" >0</td>\n      <td id=\"T_a40af_row16_col20\" class=\"data row16 col20\" >0</td>\n      <td id=\"T_a40af_row16_col21\" class=\"data row16 col21\" >0</td>\n      <td id=\"T_a40af_row16_col22\" class=\"data row16 col22\" >0</td>\n      <td id=\"T_a40af_row16_col23\" class=\"data row16 col23\" >0</td>\n      <td id=\"T_a40af_row16_col24\" class=\"data row16 col24\" >0</td>\n    </tr>\n    <tr>\n      <th id=\"T_a40af_level0_row17\" class=\"row_heading level0 row17\" >9000</th>\n      <td id=\"T_a40af_row17_col0\" class=\"data row17 col0\" >-11</td>\n      <td id=\"T_a40af_row17_col1\" class=\"data row17 col1\" >-9</td>\n      <td id=\"T_a40af_row17_col2\" class=\"data row17 col2\" >-11</td>\n      <td id=\"T_a40af_row17_col3\" class=\"data row17 col3\" >-10</td>\n      <td id=\"T_a40af_row17_col4\" class=\"data row17 col4\" >-3</td>\n      <td id=\"T_a40af_row17_col5\" class=\"data row17 col5\" >-3</td>\n      <td id=\"T_a40af_row17_col6\" class=\"data row17 col6\" >-5</td>\n      <td id=\"T_a40af_row17_col7\" class=\"data row17 col7\" >-10</td>\n      <td id=\"T_a40af_row17_col8\" class=\"data row17 col8\" >-8</td>\n      <td id=\"T_a40af_row17_col9\" class=\"data row17 col9\" >-4</td>\n      <td id=\"T_a40af_row17_col10\" class=\"data row17 col10\" >-5</td>\n      <td id=\"T_a40af_row17_col11\" class=\"data row17 col11\" >-2</td>\n      <td id=\"T_a40af_row17_col12\" class=\"data row17 col12\" >-2</td>\n      <td id=\"T_a40af_row17_col13\" class=\"data row17 col13\" >-4</td>\n      <td id=\"T_a40af_row17_col14\" class=\"data row17 col14\" >-1</td>\n      <td id=\"T_a40af_row17_col15\" class=\"data row17 col15\" >-2</td>\n      <td id=\"T_a40af_row17_col16\" class=\"data row17 col16\" >-2</td>\n      <td id=\"T_a40af_row17_col17\" class=\"data row17 col17\" >-2</td>\n      <td id=\"T_a40af_row17_col18\" class=\"data row17 col18\" >0</td>\n      <td id=\"T_a40af_row17_col19\" class=\"data row17 col19\" >0</td>\n      <td id=\"T_a40af_row17_col20\" class=\"data row17 col20\" >0</td>\n      <td id=\"T_a40af_row17_col21\" class=\"data row17 col21\" >0</td>\n      <td id=\"T_a40af_row17_col22\" class=\"data row17 col22\" >0</td>\n      <td id=\"T_a40af_row17_col23\" class=\"data row17 col23\" >0</td>\n      <td id=\"T_a40af_row17_col24\" class=\"data row17 col24\" >0</td>\n    </tr>\n    <tr>\n      <th id=\"T_a40af_level0_row18\" class=\"row_heading level0 row18\" >9500</th>\n      <td id=\"T_a40af_row18_col0\" class=\"data row18 col0\" >-5</td>\n      <td id=\"T_a40af_row18_col1\" class=\"data row18 col1\" >-13</td>\n      <td id=\"T_a40af_row18_col2\" class=\"data row18 col2\" >-12</td>\n      <td id=\"T_a40af_row18_col3\" class=\"data row18 col3\" >-7</td>\n      <td id=\"T_a40af_row18_col4\" class=\"data row18 col4\" >-8</td>\n      <td id=\"T_a40af_row18_col5\" class=\"data row18 col5\" >-6</td>\n      <td id=\"T_a40af_row18_col6\" class=\"data row18 col6\" >-11</td>\n      <td id=\"T_a40af_row18_col7\" class=\"data row18 col7\" >-9</td>\n      <td id=\"T_a40af_row18_col8\" class=\"data row18 col8\" >-5</td>\n      <td id=\"T_a40af_row18_col9\" class=\"data row18 col9\" >-5</td>\n      <td id=\"T_a40af_row18_col10\" class=\"data row18 col10\" >-5</td>\n      <td id=\"T_a40af_row18_col11\" class=\"data row18 col11\" >-2</td>\n      <td id=\"T_a40af_row18_col12\" class=\"data row18 col12\" >-5</td>\n      <td id=\"T_a40af_row18_col13\" class=\"data row18 col13\" >-5</td>\n      <td id=\"T_a40af_row18_col14\" class=\"data row18 col14\" >-1</td>\n      <td id=\"T_a40af_row18_col15\" class=\"data row18 col15\" >-2</td>\n      <td id=\"T_a40af_row18_col16\" class=\"data row18 col16\" >-2</td>\n      <td id=\"T_a40af_row18_col17\" class=\"data row18 col17\" >-12</td>\n      <td id=\"T_a40af_row18_col18\" class=\"data row18 col18\" >0</td>\n      <td id=\"T_a40af_row18_col19\" class=\"data row18 col19\" >0</td>\n      <td id=\"T_a40af_row18_col20\" class=\"data row18 col20\" >0</td>\n      <td id=\"T_a40af_row18_col21\" class=\"data row18 col21\" >0</td>\n      <td id=\"T_a40af_row18_col22\" class=\"data row18 col22\" >0</td>\n      <td id=\"T_a40af_row18_col23\" class=\"data row18 col23\" >0</td>\n      <td id=\"T_a40af_row18_col24\" class=\"data row18 col24\" >0</td>\n    </tr>\n    <tr>\n      <th id=\"T_a40af_level0_row19\" class=\"row_heading level0 row19\" >10000</th>\n      <td id=\"T_a40af_row19_col0\" class=\"data row19 col0\" >-6</td>\n      <td id=\"T_a40af_row19_col1\" class=\"data row19 col1\" >-10</td>\n      <td id=\"T_a40af_row19_col2\" class=\"data row19 col2\" >-11</td>\n      <td id=\"T_a40af_row19_col3\" class=\"data row19 col3\" >-9</td>\n      <td id=\"T_a40af_row19_col4\" class=\"data row19 col4\" >-4</td>\n      <td id=\"T_a40af_row19_col5\" class=\"data row19 col5\" >-5</td>\n      <td id=\"T_a40af_row19_col6\" class=\"data row19 col6\" >-8</td>\n      <td id=\"T_a40af_row19_col7\" class=\"data row19 col7\" >-5</td>\n      <td id=\"T_a40af_row19_col8\" class=\"data row19 col8\" >-5</td>\n      <td id=\"T_a40af_row19_col9\" class=\"data row19 col9\" >-5</td>\n      <td id=\"T_a40af_row19_col10\" class=\"data row19 col10\" >-5</td>\n      <td id=\"T_a40af_row19_col11\" class=\"data row19 col11\" >1</td>\n      <td id=\"T_a40af_row19_col12\" class=\"data row19 col12\" >0</td>\n      <td id=\"T_a40af_row19_col13\" class=\"data row19 col13\" >-1</td>\n      <td id=\"T_a40af_row19_col14\" class=\"data row19 col14\" >-2</td>\n      <td id=\"T_a40af_row19_col15\" class=\"data row19 col15\" >-2</td>\n      <td id=\"T_a40af_row19_col16\" class=\"data row19 col16\" >-13</td>\n      <td id=\"T_a40af_row19_col17\" class=\"data row19 col17\" >0</td>\n      <td id=\"T_a40af_row19_col18\" class=\"data row19 col18\" >0</td>\n      <td id=\"T_a40af_row19_col19\" class=\"data row19 col19\" >0</td>\n      <td id=\"T_a40af_row19_col20\" class=\"data row19 col20\" >0</td>\n      <td id=\"T_a40af_row19_col21\" class=\"data row19 col21\" >0</td>\n      <td id=\"T_a40af_row19_col22\" class=\"data row19 col22\" >0</td>\n      <td id=\"T_a40af_row19_col23\" class=\"data row19 col23\" >0</td>\n      <td id=\"T_a40af_row19_col24\" class=\"data row19 col24\" >0</td>\n    </tr>\n    <tr>\n      <th id=\"T_a40af_level0_row20\" class=\"row_heading level0 row20\" >10500</th>\n      <td id=\"T_a40af_row20_col0\" class=\"data row20 col0\" >-6</td>\n      <td id=\"T_a40af_row20_col1\" class=\"data row20 col1\" >-8</td>\n      <td id=\"T_a40af_row20_col2\" class=\"data row20 col2\" >-10</td>\n      <td id=\"T_a40af_row20_col3\" class=\"data row20 col3\" >-8</td>\n      <td id=\"T_a40af_row20_col4\" class=\"data row20 col4\" >-5</td>\n      <td id=\"T_a40af_row20_col5\" class=\"data row20 col5\" >-8</td>\n      <td id=\"T_a40af_row20_col6\" class=\"data row20 col6\" >-5</td>\n      <td id=\"T_a40af_row20_col7\" class=\"data row20 col7\" >-5</td>\n      <td id=\"T_a40af_row20_col8\" class=\"data row20 col8\" >-6</td>\n      <td id=\"T_a40af_row20_col9\" class=\"data row20 col9\" >-3</td>\n      <td id=\"T_a40af_row20_col10\" class=\"data row20 col10\" >-1</td>\n      <td id=\"T_a40af_row20_col11\" class=\"data row20 col11\" >-1</td>\n      <td id=\"T_a40af_row20_col12\" class=\"data row20 col12\" >-5</td>\n      <td id=\"T_a40af_row20_col13\" class=\"data row20 col13\" >-1</td>\n      <td id=\"T_a40af_row20_col14\" class=\"data row20 col14\" >-2</td>\n      <td id=\"T_a40af_row20_col15\" class=\"data row20 col15\" >-6</td>\n      <td id=\"T_a40af_row20_col16\" class=\"data row20 col16\" >0</td>\n      <td id=\"T_a40af_row20_col17\" class=\"data row20 col17\" >0</td>\n      <td id=\"T_a40af_row20_col18\" class=\"data row20 col18\" >0</td>\n      <td id=\"T_a40af_row20_col19\" class=\"data row20 col19\" >0</td>\n      <td id=\"T_a40af_row20_col20\" class=\"data row20 col20\" >0</td>\n      <td id=\"T_a40af_row20_col21\" class=\"data row20 col21\" >0</td>\n      <td id=\"T_a40af_row20_col22\" class=\"data row20 col22\" >0</td>\n      <td id=\"T_a40af_row20_col23\" class=\"data row20 col23\" >0</td>\n      <td id=\"T_a40af_row20_col24\" class=\"data row20 col24\" >0</td>\n    </tr>\n    <tr>\n      <th id=\"T_a40af_level0_row21\" class=\"row_heading level0 row21\" >11000</th>\n      <td id=\"T_a40af_row21_col0\" class=\"data row21 col0\" >-5</td>\n      <td id=\"T_a40af_row21_col1\" class=\"data row21 col1\" >-12</td>\n      <td id=\"T_a40af_row21_col2\" class=\"data row21 col2\" >-13</td>\n      <td id=\"T_a40af_row21_col3\" class=\"data row21 col3\" >-8</td>\n      <td id=\"T_a40af_row21_col4\" class=\"data row21 col4\" >-5</td>\n      <td id=\"T_a40af_row21_col5\" class=\"data row21 col5\" >-13</td>\n      <td id=\"T_a40af_row21_col6\" class=\"data row21 col6\" >-9</td>\n      <td id=\"T_a40af_row21_col7\" class=\"data row21 col7\" >-6</td>\n      <td id=\"T_a40af_row21_col8\" class=\"data row21 col8\" >-5</td>\n      <td id=\"T_a40af_row21_col9\" class=\"data row21 col9\" >-6</td>\n      <td id=\"T_a40af_row21_col10\" class=\"data row21 col10\" >-7</td>\n      <td id=\"T_a40af_row21_col11\" class=\"data row21 col11\" >-5</td>\n      <td id=\"T_a40af_row21_col12\" class=\"data row21 col12\" >-2</td>\n      <td id=\"T_a40af_row21_col13\" class=\"data row21 col13\" >-2</td>\n      <td id=\"T_a40af_row21_col14\" class=\"data row21 col14\" >-6</td>\n      <td id=\"T_a40af_row21_col15\" class=\"data row21 col15\" >0</td>\n      <td id=\"T_a40af_row21_col16\" class=\"data row21 col16\" >0</td>\n      <td id=\"T_a40af_row21_col17\" class=\"data row21 col17\" >0</td>\n      <td id=\"T_a40af_row21_col18\" class=\"data row21 col18\" >0</td>\n      <td id=\"T_a40af_row21_col19\" class=\"data row21 col19\" >0</td>\n      <td id=\"T_a40af_row21_col20\" class=\"data row21 col20\" >0</td>\n      <td id=\"T_a40af_row21_col21\" class=\"data row21 col21\" >0</td>\n      <td id=\"T_a40af_row21_col22\" class=\"data row21 col22\" >0</td>\n      <td id=\"T_a40af_row21_col23\" class=\"data row21 col23\" >0</td>\n      <td id=\"T_a40af_row21_col24\" class=\"data row21 col24\" >0</td>\n    </tr>\n    <tr>\n      <th id=\"T_a40af_level0_row22\" class=\"row_heading level0 row22\" >11500</th>\n      <td id=\"T_a40af_row22_col0\" class=\"data row22 col0\" >-10</td>\n      <td id=\"T_a40af_row22_col1\" class=\"data row22 col1\" >-11</td>\n      <td id=\"T_a40af_row22_col2\" class=\"data row22 col2\" >-14</td>\n      <td id=\"T_a40af_row22_col3\" class=\"data row22 col3\" >-10</td>\n      <td id=\"T_a40af_row22_col4\" class=\"data row22 col4\" >-9</td>\n      <td id=\"T_a40af_row22_col5\" class=\"data row22 col5\" >-10</td>\n      <td id=\"T_a40af_row22_col6\" class=\"data row22 col6\" >-5</td>\n      <td id=\"T_a40af_row22_col7\" class=\"data row22 col7\" >-7</td>\n      <td id=\"T_a40af_row22_col8\" class=\"data row22 col8\" >-7</td>\n      <td id=\"T_a40af_row22_col9\" class=\"data row22 col9\" >-1</td>\n      <td id=\"T_a40af_row22_col10\" class=\"data row22 col10\" >-4</td>\n      <td id=\"T_a40af_row22_col11\" class=\"data row22 col11\" >-2</td>\n      <td id=\"T_a40af_row22_col12\" class=\"data row22 col12\" >-2</td>\n      <td id=\"T_a40af_row22_col13\" class=\"data row22 col13\" >-6</td>\n      <td id=\"T_a40af_row22_col14\" class=\"data row22 col14\" >-6</td>\n      <td id=\"T_a40af_row22_col15\" class=\"data row22 col15\" >0</td>\n      <td id=\"T_a40af_row22_col16\" class=\"data row22 col16\" >0</td>\n      <td id=\"T_a40af_row22_col17\" class=\"data row22 col17\" >0</td>\n      <td id=\"T_a40af_row22_col18\" class=\"data row22 col18\" >0</td>\n      <td id=\"T_a40af_row22_col19\" class=\"data row22 col19\" >0</td>\n      <td id=\"T_a40af_row22_col20\" class=\"data row22 col20\" >0</td>\n      <td id=\"T_a40af_row22_col21\" class=\"data row22 col21\" >0</td>\n      <td id=\"T_a40af_row22_col22\" class=\"data row22 col22\" >0</td>\n      <td id=\"T_a40af_row22_col23\" class=\"data row22 col23\" >0</td>\n      <td id=\"T_a40af_row22_col24\" class=\"data row22 col24\" >0</td>\n    </tr>\n    <tr>\n      <th id=\"T_a40af_level0_row23\" class=\"row_heading level0 row23\" >12000</th>\n      <td id=\"T_a40af_row23_col0\" class=\"data row23 col0\" >-15</td>\n      <td id=\"T_a40af_row23_col1\" class=\"data row23 col1\" >-14</td>\n      <td id=\"T_a40af_row23_col2\" class=\"data row23 col2\" >-12</td>\n      <td id=\"T_a40af_row23_col3\" class=\"data row23 col3\" >-15</td>\n      <td id=\"T_a40af_row23_col4\" class=\"data row23 col4\" >-9</td>\n      <td id=\"T_a40af_row23_col5\" class=\"data row23 col5\" >-3</td>\n      <td id=\"T_a40af_row23_col6\" class=\"data row23 col6\" >-5</td>\n      <td id=\"T_a40af_row23_col7\" class=\"data row23 col7\" >-8</td>\n      <td id=\"T_a40af_row23_col8\" class=\"data row23 col8\" >-7</td>\n      <td id=\"T_a40af_row23_col9\" class=\"data row23 col9\" >0</td>\n      <td id=\"T_a40af_row23_col10\" class=\"data row23 col10\" >0</td>\n      <td id=\"T_a40af_row23_col11\" class=\"data row23 col11\" >-2</td>\n      <td id=\"T_a40af_row23_col12\" class=\"data row23 col12\" >-6</td>\n      <td id=\"T_a40af_row23_col13\" class=\"data row23 col13\" >-6</td>\n      <td id=\"T_a40af_row23_col14\" class=\"data row23 col14\" >0</td>\n      <td id=\"T_a40af_row23_col15\" class=\"data row23 col15\" >0</td>\n      <td id=\"T_a40af_row23_col16\" class=\"data row23 col16\" >0</td>\n      <td id=\"T_a40af_row23_col17\" class=\"data row23 col17\" >0</td>\n      <td id=\"T_a40af_row23_col18\" class=\"data row23 col18\" >0</td>\n      <td id=\"T_a40af_row23_col19\" class=\"data row23 col19\" >0</td>\n      <td id=\"T_a40af_row23_col20\" class=\"data row23 col20\" >0</td>\n      <td id=\"T_a40af_row23_col21\" class=\"data row23 col21\" >0</td>\n      <td id=\"T_a40af_row23_col22\" class=\"data row23 col22\" >0</td>\n      <td id=\"T_a40af_row23_col23\" class=\"data row23 col23\" >0</td>\n      <td id=\"T_a40af_row23_col24\" class=\"data row23 col24\" >0</td>\n    </tr>\n    <tr>\n      <th id=\"T_a40af_level0_row24\" class=\"row_heading level0 row24\" >12500</th>\n      <td id=\"T_a40af_row24_col0\" class=\"data row24 col0\" >-15</td>\n      <td id=\"T_a40af_row24_col1\" class=\"data row24 col1\" >-10</td>\n      <td id=\"T_a40af_row24_col2\" class=\"data row24 col2\" >-16</td>\n      <td id=\"T_a40af_row24_col3\" class=\"data row24 col3\" >-13</td>\n      <td id=\"T_a40af_row24_col4\" class=\"data row24 col4\" >-13</td>\n      <td id=\"T_a40af_row24_col5\" class=\"data row24 col5\" >-11</td>\n      <td id=\"T_a40af_row24_col6\" class=\"data row24 col6\" >-7</td>\n      <td id=\"T_a40af_row24_col7\" class=\"data row24 col7\" >-7</td>\n      <td id=\"T_a40af_row24_col8\" class=\"data row24 col8\" >0</td>\n      <td id=\"T_a40af_row24_col9\" class=\"data row24 col9\" >-5</td>\n      <td id=\"T_a40af_row24_col10\" class=\"data row24 col10\" >-2</td>\n      <td id=\"T_a40af_row24_col11\" class=\"data row24 col11\" >-5</td>\n      <td id=\"T_a40af_row24_col12\" class=\"data row24 col12\" >-6</td>\n      <td id=\"T_a40af_row24_col13\" class=\"data row24 col13\" >-6</td>\n      <td id=\"T_a40af_row24_col14\" class=\"data row24 col14\" >0</td>\n      <td id=\"T_a40af_row24_col15\" class=\"data row24 col15\" >0</td>\n      <td id=\"T_a40af_row24_col16\" class=\"data row24 col16\" >0</td>\n      <td id=\"T_a40af_row24_col17\" class=\"data row24 col17\" >0</td>\n      <td id=\"T_a40af_row24_col18\" class=\"data row24 col18\" >0</td>\n      <td id=\"T_a40af_row24_col19\" class=\"data row24 col19\" >0</td>\n      <td id=\"T_a40af_row24_col20\" class=\"data row24 col20\" >0</td>\n      <td id=\"T_a40af_row24_col21\" class=\"data row24 col21\" >0</td>\n      <td id=\"T_a40af_row24_col22\" class=\"data row24 col22\" >0</td>\n      <td id=\"T_a40af_row24_col23\" class=\"data row24 col23\" >0</td>\n      <td id=\"T_a40af_row24_col24\" class=\"data row24 col24\" >0</td>\n    </tr>\n    <tr>\n      <th id=\"T_a40af_level0_row25\" class=\"row_heading level0 row25\" >13000</th>\n      <td id=\"T_a40af_row25_col0\" class=\"data row25 col0\" >-10</td>\n      <td id=\"T_a40af_row25_col1\" class=\"data row25 col1\" >-9</td>\n      <td id=\"T_a40af_row25_col2\" class=\"data row25 col2\" >-12</td>\n      <td id=\"T_a40af_row25_col3\" class=\"data row25 col3\" >-15</td>\n      <td id=\"T_a40af_row25_col4\" class=\"data row25 col4\" >-12</td>\n      <td id=\"T_a40af_row25_col5\" class=\"data row25 col5\" >-14</td>\n      <td id=\"T_a40af_row25_col6\" class=\"data row25 col6\" >-9</td>\n      <td id=\"T_a40af_row25_col7\" class=\"data row25 col7\" >-2</td>\n      <td id=\"T_a40af_row25_col8\" class=\"data row25 col8\" >0</td>\n      <td id=\"T_a40af_row25_col9\" class=\"data row25 col9\" >-4</td>\n      <td id=\"T_a40af_row25_col10\" class=\"data row25 col10\" >-4</td>\n      <td id=\"T_a40af_row25_col11\" class=\"data row25 col11\" >-4</td>\n      <td id=\"T_a40af_row25_col12\" class=\"data row25 col12\" >-6</td>\n      <td id=\"T_a40af_row25_col13\" class=\"data row25 col13\" >0</td>\n      <td id=\"T_a40af_row25_col14\" class=\"data row25 col14\" >0</td>\n      <td id=\"T_a40af_row25_col15\" class=\"data row25 col15\" >0</td>\n      <td id=\"T_a40af_row25_col16\" class=\"data row25 col16\" >0</td>\n      <td id=\"T_a40af_row25_col17\" class=\"data row25 col17\" >0</td>\n      <td id=\"T_a40af_row25_col18\" class=\"data row25 col18\" >0</td>\n      <td id=\"T_a40af_row25_col19\" class=\"data row25 col19\" >0</td>\n      <td id=\"T_a40af_row25_col20\" class=\"data row25 col20\" >0</td>\n      <td id=\"T_a40af_row25_col21\" class=\"data row25 col21\" >0</td>\n      <td id=\"T_a40af_row25_col22\" class=\"data row25 col22\" >0</td>\n      <td id=\"T_a40af_row25_col23\" class=\"data row25 col23\" >0</td>\n      <td id=\"T_a40af_row25_col24\" class=\"data row25 col24\" >0</td>\n    </tr>\n    <tr>\n      <th id=\"T_a40af_level0_row26\" class=\"row_heading level0 row26\" >13500</th>\n      <td id=\"T_a40af_row26_col0\" class=\"data row26 col0\" >-9</td>\n      <td id=\"T_a40af_row26_col1\" class=\"data row26 col1\" >-11</td>\n      <td id=\"T_a40af_row26_col2\" class=\"data row26 col2\" >-9</td>\n      <td id=\"T_a40af_row26_col3\" class=\"data row26 col3\" >-17</td>\n      <td id=\"T_a40af_row26_col4\" class=\"data row26 col4\" >-15</td>\n      <td id=\"T_a40af_row26_col5\" class=\"data row26 col5\" >-9</td>\n      <td id=\"T_a40af_row26_col6\" class=\"data row26 col6\" >-7</td>\n      <td id=\"T_a40af_row26_col7\" class=\"data row26 col7\" >-2</td>\n      <td id=\"T_a40af_row26_col8\" class=\"data row26 col8\" >-4</td>\n      <td id=\"T_a40af_row26_col9\" class=\"data row26 col9\" >-4</td>\n      <td id=\"T_a40af_row26_col10\" class=\"data row26 col10\" >-4</td>\n      <td id=\"T_a40af_row26_col11\" class=\"data row26 col11\" >-5</td>\n      <td id=\"T_a40af_row26_col12\" class=\"data row26 col12\" >0</td>\n      <td id=\"T_a40af_row26_col13\" class=\"data row26 col13\" >0</td>\n      <td id=\"T_a40af_row26_col14\" class=\"data row26 col14\" >0</td>\n      <td id=\"T_a40af_row26_col15\" class=\"data row26 col15\" >0</td>\n      <td id=\"T_a40af_row26_col16\" class=\"data row26 col16\" >0</td>\n      <td id=\"T_a40af_row26_col17\" class=\"data row26 col17\" >0</td>\n      <td id=\"T_a40af_row26_col18\" class=\"data row26 col18\" >0</td>\n      <td id=\"T_a40af_row26_col19\" class=\"data row26 col19\" >0</td>\n      <td id=\"T_a40af_row26_col20\" class=\"data row26 col20\" >0</td>\n      <td id=\"T_a40af_row26_col21\" class=\"data row26 col21\" >0</td>\n      <td id=\"T_a40af_row26_col22\" class=\"data row26 col22\" >0</td>\n      <td id=\"T_a40af_row26_col23\" class=\"data row26 col23\" >0</td>\n      <td id=\"T_a40af_row26_col24\" class=\"data row26 col24\" >0</td>\n    </tr>\n    <tr>\n      <th id=\"T_a40af_level0_row27\" class=\"row_heading level0 row27\" >14000</th>\n      <td id=\"T_a40af_row27_col0\" class=\"data row27 col0\" >-11</td>\n      <td id=\"T_a40af_row27_col1\" class=\"data row27 col1\" >-11</td>\n      <td id=\"T_a40af_row27_col2\" class=\"data row27 col2\" >-11</td>\n      <td id=\"T_a40af_row27_col3\" class=\"data row27 col3\" >-14</td>\n      <td id=\"T_a40af_row27_col4\" class=\"data row27 col4\" >-19</td>\n      <td id=\"T_a40af_row27_col5\" class=\"data row27 col5\" >-14</td>\n      <td id=\"T_a40af_row27_col6\" class=\"data row27 col6\" >-5</td>\n      <td id=\"T_a40af_row27_col7\" class=\"data row27 col7\" >-7</td>\n      <td id=\"T_a40af_row27_col8\" class=\"data row27 col8\" >-4</td>\n      <td id=\"T_a40af_row27_col9\" class=\"data row27 col9\" >-4</td>\n      <td id=\"T_a40af_row27_col10\" class=\"data row27 col10\" >-4</td>\n      <td id=\"T_a40af_row27_col11\" class=\"data row27 col11\" >-4</td>\n      <td id=\"T_a40af_row27_col12\" class=\"data row27 col12\" >0</td>\n      <td id=\"T_a40af_row27_col13\" class=\"data row27 col13\" >0</td>\n      <td id=\"T_a40af_row27_col14\" class=\"data row27 col14\" >0</td>\n      <td id=\"T_a40af_row27_col15\" class=\"data row27 col15\" >0</td>\n      <td id=\"T_a40af_row27_col16\" class=\"data row27 col16\" >0</td>\n      <td id=\"T_a40af_row27_col17\" class=\"data row27 col17\" >0</td>\n      <td id=\"T_a40af_row27_col18\" class=\"data row27 col18\" >0</td>\n      <td id=\"T_a40af_row27_col19\" class=\"data row27 col19\" >0</td>\n      <td id=\"T_a40af_row27_col20\" class=\"data row27 col20\" >0</td>\n      <td id=\"T_a40af_row27_col21\" class=\"data row27 col21\" >0</td>\n      <td id=\"T_a40af_row27_col22\" class=\"data row27 col22\" >0</td>\n      <td id=\"T_a40af_row27_col23\" class=\"data row27 col23\" >0</td>\n      <td id=\"T_a40af_row27_col24\" class=\"data row27 col24\" >0</td>\n    </tr>\n    <tr>\n      <th id=\"T_a40af_level0_row28\" class=\"row_heading level0 row28\" >14500</th>\n      <td id=\"T_a40af_row28_col0\" class=\"data row28 col0\" >-11</td>\n      <td id=\"T_a40af_row28_col1\" class=\"data row28 col1\" >-14</td>\n      <td id=\"T_a40af_row28_col2\" class=\"data row28 col2\" >-15</td>\n      <td id=\"T_a40af_row28_col3\" class=\"data row28 col3\" >-20</td>\n      <td id=\"T_a40af_row28_col4\" class=\"data row28 col4\" >-15</td>\n      <td id=\"T_a40af_row28_col5\" class=\"data row28 col5\" >-13</td>\n      <td id=\"T_a40af_row28_col6\" class=\"data row28 col6\" >-5</td>\n      <td id=\"T_a40af_row28_col7\" class=\"data row28 col7\" >-7</td>\n      <td id=\"T_a40af_row28_col8\" class=\"data row28 col8\" >-3</td>\n      <td id=\"T_a40af_row28_col9\" class=\"data row28 col9\" >-4</td>\n      <td id=\"T_a40af_row28_col10\" class=\"data row28 col10\" >-4</td>\n      <td id=\"T_a40af_row28_col11\" class=\"data row28 col11\" >0</td>\n      <td id=\"T_a40af_row28_col12\" class=\"data row28 col12\" >0</td>\n      <td id=\"T_a40af_row28_col13\" class=\"data row28 col13\" >0</td>\n      <td id=\"T_a40af_row28_col14\" class=\"data row28 col14\" >0</td>\n      <td id=\"T_a40af_row28_col15\" class=\"data row28 col15\" >0</td>\n      <td id=\"T_a40af_row28_col16\" class=\"data row28 col16\" >0</td>\n      <td id=\"T_a40af_row28_col17\" class=\"data row28 col17\" >0</td>\n      <td id=\"T_a40af_row28_col18\" class=\"data row28 col18\" >0</td>\n      <td id=\"T_a40af_row28_col19\" class=\"data row28 col19\" >0</td>\n      <td id=\"T_a40af_row28_col20\" class=\"data row28 col20\" >0</td>\n      <td id=\"T_a40af_row28_col21\" class=\"data row28 col21\" >0</td>\n      <td id=\"T_a40af_row28_col22\" class=\"data row28 col22\" >0</td>\n      <td id=\"T_a40af_row28_col23\" class=\"data row28 col23\" >0</td>\n      <td id=\"T_a40af_row28_col24\" class=\"data row28 col24\" >0</td>\n    </tr>\n    <tr>\n      <th id=\"T_a40af_level0_row29\" class=\"row_heading level0 row29\" >15000</th>\n      <td id=\"T_a40af_row29_col0\" class=\"data row29 col0\" >-11</td>\n      <td id=\"T_a40af_row29_col1\" class=\"data row29 col1\" >-12</td>\n      <td id=\"T_a40af_row29_col2\" class=\"data row29 col2\" >-15</td>\n      <td id=\"T_a40af_row29_col3\" class=\"data row29 col3\" >-21</td>\n      <td id=\"T_a40af_row29_col4\" class=\"data row29 col4\" >-15</td>\n      <td id=\"T_a40af_row29_col5\" class=\"data row29 col5\" >-9</td>\n      <td id=\"T_a40af_row29_col6\" class=\"data row29 col6\" >-7</td>\n      <td id=\"T_a40af_row29_col7\" class=\"data row29 col7\" >-3</td>\n      <td id=\"T_a40af_row29_col8\" class=\"data row29 col8\" >-4</td>\n      <td id=\"T_a40af_row29_col9\" class=\"data row29 col9\" >-4</td>\n      <td id=\"T_a40af_row29_col10\" class=\"data row29 col10\" >-4</td>\n      <td id=\"T_a40af_row29_col11\" class=\"data row29 col11\" >-5</td>\n      <td id=\"T_a40af_row29_col12\" class=\"data row29 col12\" >0</td>\n      <td id=\"T_a40af_row29_col13\" class=\"data row29 col13\" >0</td>\n      <td id=\"T_a40af_row29_col14\" class=\"data row29 col14\" >0</td>\n      <td id=\"T_a40af_row29_col15\" class=\"data row29 col15\" >0</td>\n      <td id=\"T_a40af_row29_col16\" class=\"data row29 col16\" >0</td>\n      <td id=\"T_a40af_row29_col17\" class=\"data row29 col17\" >0</td>\n      <td id=\"T_a40af_row29_col18\" class=\"data row29 col18\" >0</td>\n      <td id=\"T_a40af_row29_col19\" class=\"data row29 col19\" >0</td>\n      <td id=\"T_a40af_row29_col20\" class=\"data row29 col20\" >0</td>\n      <td id=\"T_a40af_row29_col21\" class=\"data row29 col21\" >0</td>\n      <td id=\"T_a40af_row29_col22\" class=\"data row29 col22\" >0</td>\n      <td id=\"T_a40af_row29_col23\" class=\"data row29 col23\" >0</td>\n      <td id=\"T_a40af_row29_col24\" class=\"data row29 col24\" >0</td>\n    </tr>\n  </tbody>\n</table>\n",
          "text/plain": "<pandas.io.formats.style.Styler at 0x7f6a70322700>"
         },
         "metadata": {},
         "output_type": "display_data"
        }
       ]
      }
     },
     "46b56a9583394e20940b5eaf38c65ca4": {
      "model_module": "@jupyter-widgets/base",
      "model_module_version": "1.2.0",
      "model_name": "LayoutModel",
      "state": {}
     },
     "594a36783c1e4c82879ceec9521792ce": {
      "model_module": "@jupyter-widgets/base",
      "model_module_version": "1.2.0",
      "model_name": "LayoutModel",
      "state": {}
     },
     "697c6b297a12432ca2c668a7b35512cf": {
      "model_module": "@jupyter-widgets/base",
      "model_module_version": "1.2.0",
      "model_name": "LayoutModel",
      "state": {}
     },
     "83bb58e9eaa94e5eba43730f06543e12": {
      "model_module": "@jupyter-widgets/base",
      "model_module_version": "1.2.0",
      "model_name": "LayoutModel",
      "state": {}
     },
     "88ea14edab334c53abccc5e78695d0c3": {
      "model_module": "@jupyter-widgets/base",
      "model_module_version": "1.2.0",
      "model_name": "LayoutModel",
      "state": {}
     },
     "9174d8236b1f4685a3b731bbdf7610f9": {
      "model_module": "@jupyter-widgets/controls",
      "model_module_version": "1.5.0",
      "model_name": "FloatProgressModel",
      "state": {
       "bar_style": "success",
       "layout": "IPY_MODEL_697c6b297a12432ca2c668a7b35512cf",
       "max": 18750,
       "style": "IPY_MODEL_a48f99b24e6b4f899121e163ce97d915",
       "value": 18750
      }
     },
     "9a0eb68a47984e15a712ab49968f9776": {
      "model_module": "@jupyter-widgets/controls",
      "model_module_version": "1.5.0",
      "model_name": "SliderStyleModel",
      "state": {
       "description_width": ""
      }
     },
     "a48f99b24e6b4f899121e163ce97d915": {
      "model_module": "@jupyter-widgets/controls",
      "model_module_version": "1.5.0",
      "model_name": "ProgressStyleModel",
      "state": {
       "description_width": ""
      }
     },
     "a7cbad35d4c24ace922be341bd5ee9fb": {
      "model_module": "@jupyter-widgets/controls",
      "model_module_version": "1.5.0",
      "model_name": "IntSliderModel",
      "state": {
       "description": "hold",
       "layout": "IPY_MODEL_594a36783c1e4c82879ceec9521792ce",
       "max": 25,
       "min": 1,
       "style": "IPY_MODEL_9a0eb68a47984e15a712ab49968f9776",
       "value": 25
      }
     },
     "ae9415c703a949029c4d37f9a12265e4": {
      "model_module": "@jupyter-widgets/controls",
      "model_module_version": "1.5.0",
      "model_name": "DescriptionStyleModel",
      "state": {
       "description_width": ""
      }
     },
     "b6eabaeee51c4afab34f100f2fe83d67": {
      "model_module": "@jupyter-widgets/controls",
      "model_module_version": "1.5.0",
      "model_name": "HTMLModel",
      "state": {
       "layout": "IPY_MODEL_33936a40ef404d418817e20cc87004fd",
       "style": "IPY_MODEL_ae9415c703a949029c4d37f9a12265e4",
       "value": "100%"
      }
     },
     "c8f79562be494ec2a14bb4022b37a15b": {
      "model_module": "@jupyter-widgets/base",
      "model_module_version": "1.2.0",
      "model_name": "LayoutModel",
      "state": {}
     },
     "dd2adff3ca27443e9449d3cf0292a62f": {
      "model_module": "@jupyter-widgets/controls",
      "model_module_version": "1.5.0",
      "model_name": "HTMLModel",
      "state": {
       "layout": "IPY_MODEL_83bb58e9eaa94e5eba43730f06543e12",
       "style": "IPY_MODEL_2026978d9eb74dadbde8053ad2ccb768",
       "value": " 18750/18750 [39:36&lt;00:00,  7.89it/s, cpu=11%]"
      }
     },
     "e258596bf16e4bcea099eb8ae76199d6": {
      "model_module": "@jupyter-widgets/controls",
      "model_module_version": "1.5.0",
      "model_name": "VBoxModel",
      "state": {
       "_dom_classes": [
        "widget-interact"
       ],
       "children": [
        "IPY_MODEL_a7cbad35d4c24ace922be341bd5ee9fb",
        "IPY_MODEL_3a2dc6403a84432cb3953cfe536cff49",
        "IPY_MODEL_40299426ee3f4bf39678b16accf9c817"
       ],
       "layout": "IPY_MODEL_88ea14edab334c53abccc5e78695d0c3"
      }
     },
     "e427c893cdc840559b9fb4e20be66e37": {
      "model_module": "@jupyter-widgets/controls",
      "model_module_version": "1.5.0",
      "model_name": "DescriptionStyleModel",
      "state": {
       "description_width": ""
      }
     },
     "f4c0e800b5554e4b9fdc20f464ca9b0e": {
      "model_module": "@jupyter-widgets/controls",
      "model_module_version": "1.5.0",
      "model_name": "HBoxModel",
      "state": {
       "children": [
        "IPY_MODEL_b6eabaeee51c4afab34f100f2fe83d67",
        "IPY_MODEL_9174d8236b1f4685a3b731bbdf7610f9",
        "IPY_MODEL_dd2adff3ca27443e9449d3cf0292a62f"
       ],
       "layout": "IPY_MODEL_0519d931501144af8b451226f8fc4085"
      }
     }
    },
    "version_major": 2,
    "version_minor": 0
   }
  }
 },
 "nbformat": 4,
 "nbformat_minor": 5
}

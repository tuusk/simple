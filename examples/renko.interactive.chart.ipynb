{
 "cells": [
  {
   "cell_type": "code",
   "execution_count": 1,
   "id": "51e98344",
   "metadata": {
    "collapsed": false,
    "execution": {
     "iopub.execute_input": "2022-06-06T20:59:18.627139Z",
     "iopub.status.busy": "2022-06-06T20:59:18.627139Z",
     "iopub.status.idle": "2022-06-06T20:59:19.366337Z",
     "shell.execute_reply": "2022-06-06T20:59:19.366337Z",
     "shell.execute_reply.started": "2022-06-06T20:59:18.627139Z"
    },
    "jupyter": {
     "outputs_hidden": false
    },
    "pycharm": {
     "name": "#%%\n"
    }
   },
   "outputs": [],
   "source": [
    "import numpy as np\n",
    "import pandas as pd\n",
    "from simple.renko import Renko\n",
    "from simple.plotly import interactFigure"
   ]
  },
  {
   "cell_type": "code",
   "execution_count": 2,
   "id": "dbccbb53",
   "metadata": {
    "collapsed": false,
    "execution": {
     "iopub.execute_input": "2022-06-06T20:59:19.367337Z",
     "iopub.status.busy": "2022-06-06T20:59:19.367337Z",
     "iopub.status.idle": "2022-06-06T20:59:19.486404Z",
     "shell.execute_reply": "2022-06-06T20:59:19.486404Z",
     "shell.execute_reply.started": "2022-06-06T20:59:19.367337Z"
    },
    "jupyter": {
     "outputs_hidden": false
    },
    "pycharm": {
     "name": "#%%\n"
    }
   },
   "outputs": [
    {
     "data": {
      "text/plain": [
       "889360"
      ]
     },
     "execution_count": 2,
     "metadata": {},
     "output_type": "execute_result"
    }
   ],
   "source": [
    "T = np.load('data/tick.npz')['BTCUSDT']\n",
    "len(T)"
   ]
  },
  {
   "cell_type": "code",
   "execution_count": 3,
   "id": "aed33593",
   "metadata": {
    "collapsed": false,
    "execution": {
     "iopub.execute_input": "2022-06-06T20:59:19.487405Z",
     "iopub.status.busy": "2022-06-06T20:59:19.487405Z",
     "iopub.status.idle": "2022-06-06T20:59:19.491406Z",
     "shell.execute_reply": "2022-06-06T20:59:19.491406Z",
     "shell.execute_reply.started": "2022-06-06T20:59:19.487405Z"
    },
    "jupyter": {
     "outputs_hidden": false
    },
    "pycharm": {
     "name": "#%%\n"
    }
   },
   "outputs": [],
   "source": [
    "def model(step: int = (1, 200, 1)):\n",
    "    rnk = Renko(step, T['PriceA'])\n",
    "    rnk.create_renko()\n",
    "\n",
    "    X = pd.DataFrame(rnk.bricks)\n",
    "    X['mid'] = (X.close + X.open) / 2\n",
    "    renko = X.mid.values\n",
    "    return 0, locals()"
   ]
  },
  {
   "cell_type": "code",
   "execution_count": 4,
   "id": "0fa751a1",
   "metadata": {
    "collapsed": false,
    "execution": {
     "iopub.execute_input": "2022-06-06T20:59:19.492405Z",
     "iopub.status.busy": "2022-06-06T20:59:19.492405Z",
     "iopub.status.idle": "2022-06-06T20:59:20.593988Z",
     "shell.execute_reply": "2022-06-06T20:59:20.593988Z",
     "shell.execute_reply.started": "2022-06-06T20:59:19.492405Z"
    },
    "jupyter": {
     "outputs_hidden": false
    },
    "pycharm": {
     "name": "#%%\n"
    }
   },
   "outputs": [
    {
     "data": {
      "application/vnd.jupyter.widget-view+json": {
       "model_id": "d2bdd1be8dec4f33ac9fcb05ef694d57",
       "version_major": 2,
       "version_minor": 0
      },
      "text/plain": [
       "VBox(children=(HBox(children=(IntSlider(value=100, description='step', max=200, min=1),)), FigureWidgetResampl…"
      ]
     },
     "metadata": {},
     "output_type": "display_data"
    }
   ],
   "source": [
    "interactFigure(model, {'renko': {'color': 'gray', 'opacity': 0.4}})"
   ]
  },
  {
   "cell_type": "code",
   "execution_count": null,
   "id": "398db5be",
   "metadata": {
    "collapsed": false,
    "jupyter": {
     "outputs_hidden": false
    },
    "pycharm": {
     "name": "#%%\n"
    }
   },
   "outputs": [],
   "source": []
  }
 ],
 "metadata": {
  "kernelspec": {
   "display_name": "Python 3 (ipykernel)",
   "language": "python",
   "name": "python3"
  },
  "language_info": {
   "codemirror_mode": {
    "name": "ipython",
    "version": 3
   },
   "file_extension": ".py",
   "mimetype": "text/x-python",
   "name": "python",
   "nbconvert_exporter": "python",
   "pygments_lexer": "ipython3",
   "version": "3.9.12"
  }
 },
 "nbformat": 4,
 "nbformat_minor": 5
}

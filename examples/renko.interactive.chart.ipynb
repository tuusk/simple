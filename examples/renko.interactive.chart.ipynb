{
 "cells": [
  {
   "cell_type": "code",
   "execution_count": 1,
   "id": "51e98344",
   "metadata": {
    "collapsed": false,
    "execution": {
     "iopub.execute_input": "2022-06-22T08:27:00.569632Z",
     "iopub.status.busy": "2022-06-22T08:27:00.569632Z",
     "iopub.status.idle": "2022-06-22T08:27:01.201743Z",
     "shell.execute_reply": "2022-06-22T08:27:01.201743Z",
     "shell.execute_reply.started": "2022-06-22T08:27:00.569632Z"
    },
    "jupyter": {
     "outputs_hidden": false
    },
    "pycharm": {
     "name": "#%%\n"
    }
   },
   "outputs": [],
   "source": [
    "import numpy as np\n",
    "import pandas as pd\n",
    "from simple.renko import Renko\n",
    "from simple.plotly import interactFigure"
   ]
  },
  {
   "cell_type": "code",
   "execution_count": 2,
   "id": "dbccbb53",
   "metadata": {
    "collapsed": false,
    "execution": {
     "iopub.execute_input": "2022-06-22T08:27:01.202743Z",
     "iopub.status.busy": "2022-06-22T08:27:01.202743Z",
     "iopub.status.idle": "2022-06-22T08:27:01.312762Z",
     "shell.execute_reply": "2022-06-22T08:27:01.312762Z",
     "shell.execute_reply.started": "2022-06-22T08:27:01.202743Z"
    },
    "jupyter": {
     "outputs_hidden": false
    },
    "pycharm": {
     "name": "#%%\n"
    }
   },
   "outputs": [
    {
     "data": {
      "text/plain": [
       "907307"
      ]
     },
     "execution_count": 2,
     "metadata": {},
     "output_type": "execute_result"
    }
   ],
   "source": [
    "T = np.load('data/ETHUSDT.2022-05-08.tick.npz')['ETHUSDT'].view(np.recarray)\n",
    "len(T)"
   ]
  },
  {
   "cell_type": "code",
   "execution_count": 5,
   "id": "aed33593",
   "metadata": {
    "collapsed": false,
    "execution": {
     "iopub.execute_input": "2022-06-22T08:27:20.180065Z",
     "iopub.status.busy": "2022-06-22T08:27:20.180065Z",
     "iopub.status.idle": "2022-06-22T08:27:20.183065Z",
     "shell.execute_reply": "2022-06-22T08:27:20.183065Z",
     "shell.execute_reply.started": "2022-06-22T08:27:20.180065Z"
    },
    "jupyter": {
     "outputs_hidden": false
    },
    "pycharm": {
     "name": "#%%\n"
    },
    "tags": []
   },
   "outputs": [],
   "source": [
    "def model(step: int = (1, 20, 1)):\n",
    "    rnk = Renko(step, T['Price'])\n",
    "    rnk.create_renko()\n",
    "\n",
    "    X = pd.DataFrame(rnk.bricks)\n",
    "    X['mid'] = (X.close + X.open) / 2\n",
    "    renko = X.mid.values\n",
    "\n",
    "    return 0, locals()"
   ]
  },
  {
   "cell_type": "code",
   "execution_count": 6,
   "id": "0fa751a1",
   "metadata": {
    "collapsed": false,
    "execution": {
     "iopub.execute_input": "2022-06-22T08:27:20.560632Z",
     "iopub.status.busy": "2022-06-22T08:27:20.560632Z",
     "iopub.status.idle": "2022-06-22T08:27:21.402779Z",
     "shell.execute_reply": "2022-06-22T08:27:21.402779Z",
     "shell.execute_reply.started": "2022-06-22T08:27:20.560632Z"
    },
    "jupyter": {
     "outputs_hidden": false
    },
    "pycharm": {
     "name": "#%%\n"
    },
    "tags": []
   },
   "outputs": [
    {
     "data": {
      "application/vnd.jupyter.widget-view+json": {
       "model_id": "fcef8a96dce540669f345cee02942e3f",
       "version_major": 2,
       "version_minor": 0
      },
      "text/plain": [
       "VBox(children=(HBox(children=(IntSlider(value=10, description='step', max=20, min=1),)), FigureWidgetResampler…"
      ]
     },
     "metadata": {},
     "output_type": "display_data"
    }
   ],
   "source": [
    "interactFigure(model, renko={'color': 'gray', 'opacity': 0.4})"
   ]
  },
  {
   "cell_type": "code",
   "execution_count": null,
   "id": "398db5be",
   "metadata": {
    "collapsed": false,
    "jupyter": {
     "outputs_hidden": false
    },
    "pycharm": {
     "name": "#%%\n"
    }
   },
   "outputs": [],
   "source": []
  }
 ],
 "metadata": {
  "kernelspec": {
   "display_name": "Python 3 (ipykernel)",
   "language": "python",
   "name": "python3"
  },
  "language_info": {
   "codemirror_mode": {
    "name": "ipython",
    "version": 3
   },
   "file_extension": ".py",
   "mimetype": "text/x-python",
   "name": "python",
   "nbconvert_exporter": "python",
   "pygments_lexer": "ipython3",
   "version": "3.9.12"
  }
 },
 "nbformat": 4,
 "nbformat_minor": 5
}

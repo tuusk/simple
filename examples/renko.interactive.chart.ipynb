{
 "cells": [
  {
   "cell_type": "code",
   "execution_count": 1,
   "id": "51e98344",
   "metadata": {
    "collapsed": false,
    "execution": {
     "iopub.execute_input": "2023-06-25T11:22:04.561318Z",
     "iopub.status.busy": "2023-06-25T11:22:04.561053Z",
     "iopub.status.idle": "2023-06-25T11:22:06.520002Z",
     "shell.execute_reply": "2023-06-25T11:22:06.518917Z",
     "shell.execute_reply.started": "2023-06-25T11:22:04.561281Z"
    },
    "jupyter": {
     "outputs_hidden": false
    },
    "pycharm": {
     "name": "#%%\n"
    },
    "tags": []
   },
   "outputs": [],
   "source": [
    "import numpy as np\n",
    "import pandas as pd\n",
    "from simple.renko import Renko\n",
    "from simple.jurik import JTPO, JRSX\n",
    "from simple.chart import interactFigure\n",
    "from simple.pretty import pmap\n",
    "from simple.hurst import HurstDSOD\n",
    "from simple.mann_kendall import original_series"
   ]
  },
  {
   "cell_type": "code",
   "execution_count": 2,
   "id": "dbccbb53",
   "metadata": {
    "collapsed": false,
    "execution": {
     "iopub.execute_input": "2023-06-25T11:22:06.522830Z",
     "iopub.status.busy": "2023-06-25T11:22:06.522366Z",
     "iopub.status.idle": "2023-06-25T11:22:08.543931Z",
     "shell.execute_reply": "2023-06-25T11:22:08.543191Z",
     "shell.execute_reply.started": "2023-06-25T11:22:06.522796Z"
    },
    "jupyter": {
     "outputs_hidden": false
    },
    "pycharm": {
     "name": "#%%\n"
    },
    "tags": []
   },
   "outputs": [
    {
     "data": {
      "text/plain": [
       "(6824488,\n",
       " rec.array([('2022-05-01T00:00:06.912000',       0, 2726.665, 6300000, -5.5435e+04,  922., -5.6357e+04),\n",
       "            ('2022-05-01T00:00:10.695999',       1, 2726.635, 3783999, -3.3200e+03, 7235., -1.0555e+04),\n",
       "            ('2022-05-01T00:00:10.724999',       2, 2726.565,       0, -2.8000e+01,    0., -2.8000e+01),\n",
       "            ...,\n",
       "            ('2022-05-26T23:59:59.691999', 6824485, 1792.385,       0, -1.0000e+03,    0., -1.0000e+03),\n",
       "            ('2022-05-26T23:59:59.923000', 6824486, 1792.325,  231001, -1.0575e+04,   83., -1.0658e+04),\n",
       "            ('2022-05-26T23:59:59.955000', 6824487, 1792.285,       0, -4.7000e+01,    0., -4.7000e+01)],\n",
       "           dtype=[('DateTime', '<M8[us]'), ('Index', '<i4'), ('Price', '<f8'), ('Duration', '<m8[us]'), ('Size', '<f8'), ('BuySize', '<f8'), ('SellSize', '<f8')]))"
      ]
     },
     "execution_count": 2,
     "metadata": {},
     "output_type": "execute_result"
    }
   ],
   "source": [
    "C = np.load('data/ETHUSDT.2022-05-01.debounce.npz')['ETHUSDT'].view(np.recarray)\n",
    "len(C), C"
   ]
  },
  {
   "cell_type": "code",
   "execution_count": 3,
   "id": "88ec9901-ca66-4eb1-afba-59f949e80dae",
   "metadata": {
    "execution": {
     "iopub.execute_input": "2023-06-25T11:22:08.545145Z",
     "iopub.status.busy": "2023-06-25T11:22:08.544889Z",
     "iopub.status.idle": "2023-06-25T11:22:08.548911Z",
     "shell.execute_reply": "2023-06-25T11:22:08.548259Z",
     "shell.execute_reply.started": "2023-06-25T11:22:08.545120Z"
    }
   },
   "outputs": [],
   "source": [
    "count = 30"
   ]
  },
  {
   "cell_type": "code",
   "execution_count": 4,
   "id": "35ccf1a0-a7e9-43d3-85c2-e69beb422c1f",
   "metadata": {
    "execution": {
     "iopub.execute_input": "2023-06-25T11:22:08.549936Z",
     "iopub.status.busy": "2023-06-25T11:22:08.549699Z",
     "iopub.status.idle": "2023-06-25T11:22:08.554150Z",
     "shell.execute_reply": "2023-06-25T11:22:08.553471Z",
     "shell.execute_reply.started": "2023-06-25T11:22:08.549913Z"
    },
    "tags": []
   },
   "outputs": [],
   "source": [
    "def create(step):\n",
    "    rnk = Renko(step, C['Price'])\n",
    "    rnk.create_renko()\n",
    "\n",
    "    X = pd.DataFrame(rnk.bricks)\n",
    "    X['mid'] = (X.close + X.open) / 2\n",
    "    return X.mid.values"
   ]
  },
  {
   "cell_type": "code",
   "execution_count": 5,
   "id": "f2719f51-fae7-4338-a031-ea62603b5788",
   "metadata": {
    "execution": {
     "iopub.execute_input": "2023-06-25T11:22:08.555266Z",
     "iopub.status.busy": "2023-06-25T11:22:08.555016Z",
     "iopub.status.idle": "2023-06-25T11:22:46.031047Z",
     "shell.execute_reply": "2023-06-25T11:22:46.029472Z",
     "shell.execute_reply.started": "2023-06-25T11:22:08.555244Z"
    },
    "tags": []
   },
   "outputs": [
    {
     "data": {
      "application/vnd.jupyter.widget-view+json": {
       "model_id": "6a44aa5cf6aa4ebeb4122b69a8833389",
       "version_major": 2,
       "version_minor": 0
      },
      "text/plain": [
       "  0%|          | 0/29 [00:00<?, ?it/s]"
      ]
     },
     "metadata": {},
     "output_type": "display_data"
    }
   ],
   "source": [
    "R = pmap(create, range(1, count))"
   ]
  },
  {
   "cell_type": "code",
   "execution_count": 6,
   "id": "aed33593",
   "metadata": {
    "collapsed": false,
    "execution": {
     "iopub.execute_input": "2023-06-25T11:22:46.033005Z",
     "iopub.status.busy": "2023-06-25T11:22:46.032588Z",
     "iopub.status.idle": "2023-06-25T11:22:46.038955Z",
     "shell.execute_reply": "2023-06-25T11:22:46.038277Z",
     "shell.execute_reply.started": "2023-06-25T11:22:46.032971Z"
    },
    "jupyter": {
     "outputs_hidden": false
    },
    "pycharm": {
     "name": "#%%\n"
    },
    "tags": []
   },
   "outputs": [],
   "source": [
    "def model(step: int = (0, count-1, 1), period: int = (4, 100, 2)):\n",
    "    renko = R[step]\n",
    "    TPO = JTPO(renko, period)\n",
    "    RSX = JRSX(renko, period)\n",
    "    Hurst_DSOD = HurstDSOD(renko, period)\n",
    "    Mann = original_series(renko, period)\n",
    "    return locals()"
   ]
  },
  {
   "cell_type": "code",
   "execution_count": 7,
   "id": "0fa751a1",
   "metadata": {
    "collapsed": false,
    "execution": {
     "iopub.execute_input": "2023-06-25T11:22:46.041350Z",
     "iopub.status.busy": "2023-06-25T11:22:46.040940Z",
     "iopub.status.idle": "2023-06-25T11:22:49.649121Z",
     "shell.execute_reply": "2023-06-25T11:22:49.648338Z",
     "shell.execute_reply.started": "2023-06-25T11:22:46.041327Z"
    },
    "jupyter": {
     "outputs_hidden": false
    },
    "pycharm": {
     "name": "#%%\n"
    },
    "tags": []
   },
   "outputs": [
    {
     "data": {
      "application/vnd.jupyter.widget-view+json": {
       "model_id": "4aafca52cd474aa895645ee6a547e121",
       "version_major": 2,
       "version_minor": 0
      },
      "text/plain": [
       "VBox(children=(HBox(children=(IntSlider(value=14, description='step', max=29), IntSlider(value=52, description…"
      ]
     },
     "metadata": {},
     "output_type": "display_data"
    }
   ],
   "source": [
    "interactFigure(model,\n",
    "    renko={'color': 'gray', 'opacity': 0.4, 'mode': 'lines'}, \n",
    "    TPO={'color': 'orange', 'row': 2},\n",
    "    Mann={'color': 'magenta', 'row': 2},\n",
    "    RSX={'color': 'red', 'row': 3, 'secondary_y': True},\n",
    "    Hurst_DSOD={'color': 'blue', 'row': 3},\n",
    ")"
   ]
  }
 ],
 "metadata": {
  "kernelspec": {
   "display_name": "Python 3 (ipykernel)",
   "language": "python",
   "name": "python3"
  },
  "language_info": {
   "codemirror_mode": {
    "name": "ipython",
    "version": 3
   },
   "file_extension": ".py",
   "mimetype": "text/x-python",
   "name": "python",
   "nbconvert_exporter": "python",
   "pygments_lexer": "ipython3",
   "version": "3.9.16"
  }
 },
 "nbformat": 4,
 "nbformat_minor": 5
}

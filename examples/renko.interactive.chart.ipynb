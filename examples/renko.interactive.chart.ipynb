{
 "cells": [
  {
   "cell_type": "code",
   "execution_count": 1,
   "id": "51e98344",
   "metadata": {
    "collapsed": false,
    "execution": {
     "iopub.execute_input": "2022-06-28T20:04:54.973465Z",
     "iopub.status.busy": "2022-06-28T20:04:54.973465Z",
     "iopub.status.idle": "2022-06-28T20:04:56.149944Z",
     "shell.execute_reply": "2022-06-28T20:04:56.149944Z",
     "shell.execute_reply.started": "2022-06-28T20:04:54.973465Z"
    },
    "jupyter": {
     "outputs_hidden": false
    },
    "pycharm": {
     "name": "#%%\n"
    },
    "tags": []
   },
   "outputs": [],
   "source": [
    "import numpy as np\n",
    "import pandas as pd\n",
    "from simple.renko import Renko\n",
    "from simple.jurik import JTPO, JRSX\n",
    "from simple.plotly import interactFigure\n",
    "from simple.pretty import pmap\n",
    "from simple.hurst import HurstRS, HurstDSOD"
   ]
  },
  {
   "cell_type": "code",
   "execution_count": 2,
   "id": "dbccbb53",
   "metadata": {
    "collapsed": false,
    "execution": {
     "iopub.execute_input": "2022-06-28T20:04:56.150942Z",
     "iopub.status.busy": "2022-06-28T20:04:56.150942Z",
     "iopub.status.idle": "2022-06-28T20:04:57.934607Z",
     "shell.execute_reply": "2022-06-28T20:04:57.934607Z",
     "shell.execute_reply.started": "2022-06-28T20:04:56.150942Z"
    },
    "jupyter": {
     "outputs_hidden": false
    },
    "pycharm": {
     "name": "#%%\n"
    },
    "tags": []
   },
   "outputs": [
    {
     "data": {
      "text/plain": [
       "(7684832,\n",
       " rec.array([('2022-05-01T00:00:06.912000',       0, 2726.665, 6300000, -5.5435e+04,  922., -5.6357e+04, 51, 16, 35),\n",
       "            ('2022-05-01T00:00:10.695999',       1, 2726.635, 3783999, -3.3200e+03, 7235., -1.0555e+04, 17, 10,  7),\n",
       "            ('2022-05-01T00:00:10.724999',       2, 2726.565,       0, -2.8000e+01,    0., -2.8000e+01,  1,  0,  1),\n",
       "            ...,\n",
       "            ('2022-05-31T23:59:56.573000', 7684829, 1941.785,   20000,  2.3700e+02,  237.,  0.0000e+00,  2,  2,  0),\n",
       "            ('2022-05-31T23:59:59.116999', 7684830, 1941.825, 2543999, -1.3880e+03, 2137., -3.5250e+03, 11,  8,  3),\n",
       "            ('2022-05-31T23:59:59.116999', 7684831, 1941.875,       0,  1.0000e+02,  100.,  0.0000e+00,  1,  1,  0)],\n",
       "           dtype=[('DT', '<M8[us]'), ('Index', '<i4'), ('Price', '<f8'), ('Duration', '<m8[us]'), ('Size', '<f8'), ('BuySize', '<f8'), ('SellSize', '<f8'), ('Count', '<i4'), ('BuyCount', '<i4'), ('SellCount', '<i4')]))"
      ]
     },
     "execution_count": 2,
     "metadata": {},
     "output_type": "execute_result"
    }
   ],
   "source": [
    "C = np.load('data/ETHUSDT.2022-05-01.debounce.npz')['ETHUSDT'].view(np.recarray)\n",
    "len(C), C"
   ]
  },
  {
   "cell_type": "code",
   "execution_count": 3,
   "id": "88ec9901-ca66-4eb1-afba-59f949e80dae",
   "metadata": {
    "execution": {
     "iopub.execute_input": "2022-06-28T20:04:57.935607Z",
     "iopub.status.busy": "2022-06-28T20:04:57.935607Z",
     "iopub.status.idle": "2022-06-28T20:04:57.938607Z",
     "shell.execute_reply": "2022-06-28T20:04:57.938607Z",
     "shell.execute_reply.started": "2022-06-28T20:04:57.935607Z"
    }
   },
   "outputs": [],
   "source": [
    "count = 30"
   ]
  },
  {
   "cell_type": "code",
   "execution_count": 4,
   "id": "35ccf1a0-a7e9-43d3-85c2-e69beb422c1f",
   "metadata": {
    "execution": {
     "iopub.execute_input": "2022-06-28T20:04:57.939607Z",
     "iopub.status.busy": "2022-06-28T20:04:57.939607Z",
     "iopub.status.idle": "2022-06-28T20:04:57.946609Z",
     "shell.execute_reply": "2022-06-28T20:04:57.946609Z",
     "shell.execute_reply.started": "2022-06-28T20:04:57.939607Z"
    },
    "tags": []
   },
   "outputs": [],
   "source": [
    "def create(step):\n",
    "    rnk = Renko(step, C['Price'])\n",
    "    rnk.create_renko()\n",
    "\n",
    "    X = pd.DataFrame(rnk.bricks)\n",
    "    X['mid'] = (X.close + X.open) / 2\n",
    "    return X.mid.values"
   ]
  },
  {
   "cell_type": "code",
   "execution_count": 5,
   "id": "f2719f51-fae7-4338-a031-ea62603b5788",
   "metadata": {
    "execution": {
     "iopub.execute_input": "2022-06-28T20:04:57.947610Z",
     "iopub.status.busy": "2022-06-28T20:04:57.947610Z",
     "iopub.status.idle": "2022-06-28T20:05:29.232370Z",
     "shell.execute_reply": "2022-06-28T20:05:29.232370Z",
     "shell.execute_reply.started": "2022-06-28T20:04:57.947610Z"
    },
    "tags": []
   },
   "outputs": [
    {
     "data": {
      "application/vnd.jupyter.widget-view+json": {
       "model_id": "641eea5ea4eb4db9a0ab0bdb1e6ac21c",
       "version_major": 2,
       "version_minor": 0
      },
      "text/plain": [
       "  0%|          | 0/29 [00:00<?, ?it/s]"
      ]
     },
     "metadata": {},
     "output_type": "display_data"
    }
   ],
   "source": [
    "R = pmap(create, range(1, count))"
   ]
  },
  {
   "cell_type": "code",
   "execution_count": 9,
   "id": "aed33593",
   "metadata": {
    "collapsed": false,
    "execution": {
     "iopub.execute_input": "2022-06-28T20:10:01.441716Z",
     "iopub.status.busy": "2022-06-28T20:10:01.440715Z",
     "iopub.status.idle": "2022-06-28T20:10:01.444717Z",
     "shell.execute_reply": "2022-06-28T20:10:01.444717Z",
     "shell.execute_reply.started": "2022-06-28T20:10:01.441716Z"
    },
    "jupyter": {
     "outputs_hidden": false
    },
    "pycharm": {
     "name": "#%%\n"
    },
    "tags": []
   },
   "outputs": [],
   "source": [
    "def model(step: int = (0, count-1, 1), period: int = (4, 100, 2)):\n",
    "    renko = R[step]\n",
    "    TPO = JTPO(renko, period)\n",
    "    RSX = JRSX(renko, period)\n",
    "    Hurst_DSOD = HurstDSOD(renko, period)\n",
    "    Hurst_RS = HurstRS(np.diff(renko), period)\n",
    "    return 0, locals()"
   ]
  },
  {
   "cell_type": "code",
   "execution_count": 11,
   "id": "0fa751a1",
   "metadata": {
    "collapsed": false,
    "execution": {
     "iopub.execute_input": "2022-06-28T20:10:15.733554Z",
     "iopub.status.busy": "2022-06-28T20:10:15.732553Z",
     "iopub.status.idle": "2022-06-28T20:10:16.145951Z",
     "shell.execute_reply": "2022-06-28T20:10:16.145951Z",
     "shell.execute_reply.started": "2022-06-28T20:10:15.733554Z"
    },
    "jupyter": {
     "outputs_hidden": false
    },
    "pycharm": {
     "name": "#%%\n"
    },
    "tags": []
   },
   "outputs": [
    {
     "data": {
      "application/vnd.jupyter.widget-view+json": {
       "model_id": "334b237456384083adf48ca1bd650e98",
       "version_major": 2,
       "version_minor": 0
      },
      "text/plain": [
       "VBox(children=(HBox(children=(IntSlider(value=14, description='step', max=29), IntSlider(value=52, description…"
      ]
     },
     "metadata": {},
     "output_type": "display_data"
    }
   ],
   "source": [
    "interactFigure(model, rows=3,\n",
    "    renko={'color': 'gray', 'opacity': 0.4, 'mode': 'markers+lines'}, \n",
    "    TPO={'color': 'orange', 'row': 2},\n",
    "    RSX={'color': 'red', 'row': 2, 'secondary_y': True},\n",
    "    Hurst_DSOD={'color': 'blue', 'row': 3},\n",
    "    Hurst_RS={'color': 'gray', 'row': 3, 'secondary_y': True}\n",
    ")"
   ]
  },
  {
   "cell_type": "code",
   "execution_count": null,
   "id": "24aa44c9-e469-41ac-834b-bf7b90864748",
   "metadata": {},
   "outputs": [],
   "source": []
  }
 ],
 "metadata": {
  "kernelspec": {
   "display_name": "Python 3 (ipykernel)",
   "language": "python",
   "name": "python3"
  },
  "language_info": {
   "codemirror_mode": {
    "name": "ipython",
    "version": 3
   },
   "file_extension": ".py",
   "mimetype": "text/x-python",
   "name": "python",
   "nbconvert_exporter": "python",
   "pygments_lexer": "ipython3",
   "version": "3.9.12"
  }
 },
 "nbformat": 4,
 "nbformat_minor": 5
}

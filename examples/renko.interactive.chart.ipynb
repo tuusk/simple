{
 "cells": [
  {
   "cell_type": "code",
   "execution_count": 8,
   "id": "51e98344",
   "metadata": {
    "collapsed": false,
    "execution": {
     "iopub.execute_input": "2023-06-15T09:40:43.994200Z",
     "iopub.status.busy": "2023-06-15T09:40:43.993486Z",
     "iopub.status.idle": "2023-06-15T09:40:44.004188Z",
     "shell.execute_reply": "2023-06-15T09:40:44.003435Z",
     "shell.execute_reply.started": "2023-06-15T09:40:43.994138Z"
    },
    "jupyter": {
     "outputs_hidden": false
    },
    "pycharm": {
     "name": "#%%\n"
    },
    "tags": []
   },
   "outputs": [],
   "source": [
    "import numpy as np\n",
    "import pandas as pd\n",
    "from simple.renko import Renko\n",
    "from simple.jurik import JTPO, JRSX\n",
    "from simple.chart import interactFigure\n",
    "from simple.pretty import pmap\n",
    "from simple.hurst import HurstDSOD\n",
    "from simple.mann_kendall import original_series"
   ]
  },
  {
   "cell_type": "code",
   "execution_count": 2,
   "id": "dbccbb53",
   "metadata": {
    "collapsed": false,
    "execution": {
     "iopub.execute_input": "2023-06-15T09:37:47.371835Z",
     "iopub.status.busy": "2023-06-15T09:37:47.371367Z",
     "iopub.status.idle": "2023-06-15T09:37:48.945357Z",
     "shell.execute_reply": "2023-06-15T09:37:48.944524Z",
     "shell.execute_reply.started": "2023-06-15T09:37:47.371810Z"
    },
    "jupyter": {
     "outputs_hidden": false
    },
    "pycharm": {
     "name": "#%%\n"
    },
    "tags": []
   },
   "outputs": [
    {
     "data": {
      "text/plain": [
       "(6824488,\n",
       " rec.array([('2022-05-01T00:00:06.912000',       0, 2726.665, 6300000, -5.5435e+04,  922., -5.6357e+04),\n",
       "            ('2022-05-01T00:00:10.695999',       1, 2726.635, 3783999, -3.3200e+03, 7235., -1.0555e+04),\n",
       "            ('2022-05-01T00:00:10.724999',       2, 2726.565,       0, -2.8000e+01,    0., -2.8000e+01),\n",
       "            ...,\n",
       "            ('2022-05-26T23:59:59.691999', 6824485, 1792.385,       0, -1.0000e+03,    0., -1.0000e+03),\n",
       "            ('2022-05-26T23:59:59.923000', 6824486, 1792.325,  231001, -1.0575e+04,   83., -1.0658e+04),\n",
       "            ('2022-05-26T23:59:59.955000', 6824487, 1792.285,       0, -4.7000e+01,    0., -4.7000e+01)],\n",
       "           dtype=[('DateTime', '<M8[us]'), ('Index', '<i4'), ('Price', '<f8'), ('Duration', '<m8[us]'), ('Size', '<f8'), ('BuySize', '<f8'), ('SellSize', '<f8')]))"
      ]
     },
     "execution_count": 2,
     "metadata": {},
     "output_type": "execute_result"
    }
   ],
   "source": [
    "C = np.load('data/ETHUSDT.2022-05-01.debounce.npz')['ETHUSDT'].view(np.recarray)\n",
    "len(C), C"
   ]
  },
  {
   "cell_type": "code",
   "execution_count": 3,
   "id": "88ec9901-ca66-4eb1-afba-59f949e80dae",
   "metadata": {
    "execution": {
     "iopub.execute_input": "2023-06-15T09:37:48.946786Z",
     "iopub.status.busy": "2023-06-15T09:37:48.946522Z",
     "iopub.status.idle": "2023-06-15T09:37:48.951115Z",
     "shell.execute_reply": "2023-06-15T09:37:48.950183Z",
     "shell.execute_reply.started": "2023-06-15T09:37:48.946761Z"
    }
   },
   "outputs": [],
   "source": [
    "count = 30"
   ]
  },
  {
   "cell_type": "code",
   "execution_count": 4,
   "id": "35ccf1a0-a7e9-43d3-85c2-e69beb422c1f",
   "metadata": {
    "execution": {
     "iopub.execute_input": "2023-06-15T09:37:48.952545Z",
     "iopub.status.busy": "2023-06-15T09:37:48.952125Z",
     "iopub.status.idle": "2023-06-15T09:37:48.964141Z",
     "shell.execute_reply": "2023-06-15T09:37:48.963004Z",
     "shell.execute_reply.started": "2023-06-15T09:37:48.952515Z"
    },
    "tags": []
   },
   "outputs": [],
   "source": [
    "def create(step):\n",
    "    rnk = Renko(step, C['Price'])\n",
    "    rnk.create_renko()\n",
    "\n",
    "    X = pd.DataFrame(rnk.bricks)\n",
    "    X['mid'] = (X.close + X.open) / 2\n",
    "    return X.mid.values"
   ]
  },
  {
   "cell_type": "code",
   "execution_count": 5,
   "id": "f2719f51-fae7-4338-a031-ea62603b5788",
   "metadata": {
    "execution": {
     "iopub.execute_input": "2023-06-15T09:37:48.965506Z",
     "iopub.status.busy": "2023-06-15T09:37:48.965261Z",
     "iopub.status.idle": "2023-06-15T09:38:28.760983Z",
     "shell.execute_reply": "2023-06-15T09:38:28.759909Z",
     "shell.execute_reply.started": "2023-06-15T09:37:48.965484Z"
    },
    "tags": []
   },
   "outputs": [
    {
     "data": {
      "application/vnd.jupyter.widget-view+json": {
       "model_id": "7c2aa4a2800348ad8c2c5ffd2f99d88b",
       "version_major": 2,
       "version_minor": 0
      },
      "text/plain": [
       "  0%|          | 0/29 [00:00<?, ?it/s]"
      ]
     },
     "metadata": {},
     "output_type": "display_data"
    }
   ],
   "source": [
    "R = pmap(create, range(1, count))"
   ]
  },
  {
   "cell_type": "code",
   "execution_count": 9,
   "id": "aed33593",
   "metadata": {
    "collapsed": false,
    "execution": {
     "iopub.execute_input": "2023-06-15T09:42:33.284212Z",
     "iopub.status.busy": "2023-06-15T09:42:33.283504Z",
     "iopub.status.idle": "2023-06-15T09:42:33.293556Z",
     "shell.execute_reply": "2023-06-15T09:42:33.292724Z",
     "shell.execute_reply.started": "2023-06-15T09:42:33.284169Z"
    },
    "jupyter": {
     "outputs_hidden": false
    },
    "pycharm": {
     "name": "#%%\n"
    },
    "tags": []
   },
   "outputs": [],
   "source": [
    "def model(step: int = (0, count-1, 1), period: int = (4, 100, 2)):\n",
    "    renko = R[step]\n",
    "    TPO = JTPO(renko, period)\n",
    "    RSX = JRSX(renko, period)\n",
    "    Hurst_DSOD = HurstDSOD(renko, period)\n",
    "    Mann = original_series(renko, period)\n",
    "    return locals()"
   ]
  },
  {
   "cell_type": "code",
   "execution_count": 14,
   "id": "0fa751a1",
   "metadata": {
    "collapsed": false,
    "execution": {
     "iopub.execute_input": "2023-06-15T09:47:51.444478Z",
     "iopub.status.busy": "2023-06-15T09:47:51.443832Z",
     "iopub.status.idle": "2023-06-15T09:47:52.029031Z",
     "shell.execute_reply": "2023-06-15T09:47:52.028230Z",
     "shell.execute_reply.started": "2023-06-15T09:47:51.444415Z"
    },
    "jupyter": {
     "outputs_hidden": false
    },
    "pycharm": {
     "name": "#%%\n"
    },
    "tags": []
   },
   "outputs": [
    {
     "data": {
      "application/vnd.jupyter.widget-view+json": {
       "model_id": "ac4d92bea59649f38a02332a7d25e7d4",
       "version_major": 2,
       "version_minor": 0
      },
      "text/plain": [
       "VBox(children=(HBox(children=(IntSlider(value=14, description='step', max=29), IntSlider(value=52, description…"
      ]
     },
     "metadata": {},
     "output_type": "display_data"
    }
   ],
   "source": [
    "interactFigure(model, rows=3,\n",
    "    renko={'color': 'gray', 'opacity': 0.4, 'mode': 'lines'}, \n",
    "    TPO={'color': 'orange', 'row': 2},\n",
    "    Mann={'color': 'magenta', 'row': 2},\n",
    "    RSX={'color': 'red', 'row': 3, 'secondary_y': True},\n",
    "    Hurst_DSOD={'color': 'blue', 'row': 3},\n",
    ")"
   ]
  },
  {
   "cell_type": "code",
   "execution_count": null,
   "id": "24aa44c9-e469-41ac-834b-bf7b90864748",
   "metadata": {},
   "outputs": [],
   "source": []
  },
  {
   "cell_type": "code",
   "execution_count": null,
   "id": "2dd46d2d-0683-4f83-9673-bc88881d8c93",
   "metadata": {},
   "outputs": [],
   "source": []
  }
 ],
 "metadata": {
  "kernelspec": {
   "display_name": "Python 3 (ipykernel)",
   "language": "python",
   "name": "python3"
  },
  "language_info": {
   "codemirror_mode": {
    "name": "ipython",
    "version": 3
   },
   "file_extension": ".py",
   "mimetype": "text/x-python",
   "name": "python",
   "nbconvert_exporter": "python",
   "pygments_lexer": "ipython3",
   "version": "3.9.16"
  }
 },
 "nbformat": 4,
 "nbformat_minor": 5
}

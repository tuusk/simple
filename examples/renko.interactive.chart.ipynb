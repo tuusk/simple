{
 "cells": [
  {
   "cell_type": "code",
   "execution_count": 1,
   "id": "51e98344",
   "metadata": {
    "collapsed": false,
    "execution": {
     "iopub.execute_input": "2022-06-06T12:20:23.729200Z",
     "iopub.status.busy": "2022-06-06T12:20:23.729200Z",
     "iopub.status.idle": "2022-06-06T12:20:24.478368Z",
     "shell.execute_reply": "2022-06-06T12:20:24.478368Z",
     "shell.execute_reply.started": "2022-06-06T12:20:23.729200Z"
    },
    "jupyter": {
     "outputs_hidden": false
    },
    "pycharm": {
     "name": "#%%\n"
    }
   },
   "outputs": [],
   "source": [
    "import numpy as np\n",
    "import pandas as pd\n",
    "from simple.renko import Renko\n",
    "from simple.plotly import interactFigure"
   ]
  },
  {
   "cell_type": "code",
   "execution_count": 2,
   "id": "dbccbb53",
   "metadata": {
    "collapsed": false,
    "execution": {
     "iopub.execute_input": "2022-06-06T12:20:24.479368Z",
     "iopub.status.busy": "2022-06-06T12:20:24.479368Z",
     "iopub.status.idle": "2022-06-06T12:20:24.595395Z",
     "shell.execute_reply": "2022-06-06T12:20:24.595395Z",
     "shell.execute_reply.started": "2022-06-06T12:20:24.479368Z"
    },
    "jupyter": {
     "outputs_hidden": false
    },
    "pycharm": {
     "name": "#%%\n"
    }
   },
   "outputs": [
    {
     "data": {
      "text/plain": [
       "889360"
      ]
     },
     "execution_count": 2,
     "metadata": {},
     "output_type": "execute_result"
    }
   ],
   "source": [
    "T = np.load('data/tick.npz')['BTCUSDT']\n",
    "len(T)"
   ]
  },
  {
   "cell_type": "code",
   "execution_count": 3,
   "id": "aed33593",
   "metadata": {
    "collapsed": false,
    "execution": {
     "iopub.execute_input": "2022-06-06T12:20:24.596395Z",
     "iopub.status.busy": "2022-06-06T12:20:24.596395Z",
     "iopub.status.idle": "2022-06-06T12:20:24.599396Z",
     "shell.execute_reply": "2022-06-06T12:20:24.599396Z",
     "shell.execute_reply.started": "2022-06-06T12:20:24.596395Z"
    },
    "jupyter": {
     "outputs_hidden": false
    },
    "pycharm": {
     "name": "#%%\n"
    }
   },
   "outputs": [],
   "source": [
    "def model(step: int = (1, 200, 1)):\n",
    "    rnk = Renko(step, T['PriceA'])\n",
    "    rnk.create_renko()\n",
    "\n",
    "    X = pd.DataFrame(rnk.bricks)\n",
    "    X['mid'] = (X.close + X.open) / 2\n",
    "    renko = X.mid.values\n",
    "    return 0, locals()"
   ]
  },
  {
   "cell_type": "code",
   "execution_count": 4,
   "id": "0fa751a1",
   "metadata": {
    "collapsed": false,
    "execution": {
     "iopub.execute_input": "2022-06-06T12:20:24.599396Z",
     "iopub.status.busy": "2022-06-06T12:20:24.599396Z",
     "iopub.status.idle": "2022-06-06T12:20:25.733650Z",
     "shell.execute_reply": "2022-06-06T12:20:25.733650Z",
     "shell.execute_reply.started": "2022-06-06T12:20:24.599396Z"
    },
    "jupyter": {
     "outputs_hidden": false
    },
    "pycharm": {
     "name": "#%%\n"
    }
   },
   "outputs": [
    {
     "data": {
      "application/vnd.jupyter.widget-view+json": {
       "model_id": "baf06bbdfb30476d977f3d4749cb9086",
       "version_major": 2,
       "version_minor": 0
      },
      "text/plain": [
       "VBox(children=(HBox(children=(IntSlider(value=100, description='step', max=200, min=1),)), FigureWidgetResampl…"
      ]
     },
     "metadata": {},
     "output_type": "display_data"
    }
   ],
   "source": [
    "interactFigure(model, {'renko': {'color': 'gray', 'opacity': 0.4}})"
   ]
  },
  {
   "cell_type": "code",
   "execution_count": null,
   "id": "398db5be",
   "metadata": {
    "collapsed": false,
    "jupyter": {
     "outputs_hidden": false
    },
    "pycharm": {
     "name": "#%%\n"
    }
   },
   "outputs": [],
   "source": []
  }
 ],
 "metadata": {
  "kernelspec": {
   "display_name": "Python 3 (ipykernel)",
   "language": "python",
   "name": "python3"
  },
  "language_info": {
   "codemirror_mode": {
    "name": "ipython",
    "version": 3
   },
   "file_extension": ".py",
   "mimetype": "text/x-python",
   "name": "python",
   "nbconvert_exporter": "python",
   "pygments_lexer": "ipython3",
   "version": "3.9.12"
  }
 },
 "nbformat": 4,
 "nbformat_minor": 5
}

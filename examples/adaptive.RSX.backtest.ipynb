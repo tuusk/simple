{
 "cells": [
  {
   "cell_type": "markdown",
   "id": "ca79ffa4-0847-4cfe-832c-4a2304775cbd",
   "metadata": {},
   "source": [
    "# Simple RSX oscillator market orders strategy with manual interaction"
   ]
  },
  {
   "cell_type": "code",
   "execution_count": 1,
   "id": "c72f71d9",
   "metadata": {
    "ExecuteTime": {
     "end_time": "2022-05-16T15:09:24.546841Z",
     "start_time": "2022-05-16T15:09:23.689375Z"
    },
    "code_folding": [],
    "execution": {
     "iopub.execute_input": "2023-06-25T10:40:00.521227Z",
     "iopub.status.busy": "2023-06-25T10:40:00.520981Z",
     "iopub.status.idle": "2023-06-25T10:40:02.163356Z",
     "shell.execute_reply": "2023-06-25T10:40:02.161644Z",
     "shell.execute_reply.started": "2023-06-25T10:40:00.521197Z"
    },
    "tags": []
   },
   "outputs": [],
   "source": [
    "import numpy as np\n",
    "import pandas as pd\n",
    "from simple.chart import interactFigure\n",
    "from simple.jurik import JRSX, JMA\n",
    "from simple.backtest import getLong, getShort, npBacktestMarket, getProfit\n",
    "from numba import njit"
   ]
  },
  {
   "cell_type": "code",
   "execution_count": 2,
   "id": "78806a1e",
   "metadata": {
    "ExecuteTime": {
     "end_time": "2022-05-16T15:09:24.675261Z",
     "start_time": "2022-05-16T15:09:24.548616Z"
    },
    "execution": {
     "iopub.execute_input": "2023-06-25T10:40:02.165882Z",
     "iopub.status.busy": "2023-06-25T10:40:02.165534Z",
     "iopub.status.idle": "2023-06-25T10:40:02.234235Z",
     "shell.execute_reply": "2023-06-25T10:40:02.233258Z",
     "shell.execute_reply.started": "2023-06-25T10:40:02.165858Z"
    },
    "tags": []
   },
   "outputs": [
    {
     "data": {
      "text/plain": [
       "600964"
      ]
     },
     "execution_count": 2,
     "metadata": {},
     "output_type": "execute_result"
    }
   ],
   "source": [
    "S = np.load('data/ETHUSDT.2022-05-08.bidask.npz')['ETHUSDT'].view(np.recarray)\n",
    "len(S)"
   ]
  },
  {
   "cell_type": "code",
   "execution_count": 3,
   "id": "5350024c-5e2e-4ac2-850c-36f1f0c659d5",
   "metadata": {
    "execution": {
     "iopub.execute_input": "2023-06-25T10:40:02.235526Z",
     "iopub.status.busy": "2023-06-25T10:40:02.235253Z",
     "iopub.status.idle": "2023-06-25T10:40:02.242364Z",
     "shell.execute_reply": "2023-06-25T10:40:02.241508Z",
     "shell.execute_reply.started": "2023-06-25T10:40:02.235497Z"
    },
    "tags": []
   },
   "outputs": [],
   "source": [
    "@njit\n",
    "def getPos(OSC, Threshold: int = 10):\n",
    "    Result = np.zeros_like(OSC)\n",
    "    p = 0\n",
    "    for i in range(1, len(OSC)):\n",
    "        if OSC[i] > Threshold and OSC[i] < OSC[i-1]:\n",
    "            p = 1\n",
    "        elif OSC[i] < -Threshold and OSC[i] > OSC[i-1]:\n",
    "            p = -1\n",
    "        Result[i] = p\n",
    "    return Result"
   ]
  },
  {
   "cell_type": "code",
   "execution_count": 4,
   "id": "3fbd2922",
   "metadata": {
    "ExecuteTime": {
     "end_time": "2022-05-16T15:15:10.150860Z",
     "start_time": "2022-05-16T15:15:10.144028Z"
    },
    "execution": {
     "iopub.execute_input": "2023-06-25T10:40:02.243595Z",
     "iopub.status.busy": "2023-06-25T10:40:02.243334Z",
     "iopub.status.idle": "2023-06-25T10:40:02.251663Z",
     "shell.execute_reply": "2023-06-25T10:40:02.250848Z",
     "shell.execute_reply.started": "2023-06-25T10:40:02.243569Z"
    },
    "tags": []
   },
   "outputs": [],
   "source": [
    "def model(Period: int = (50, 20000, 50), StdDev: float = (0, 4, 0.1), Threshold: float = (0, 5, 0.5)):\n",
    "    if Period == 0: return {}\n",
    "    Tick = (S.Ask + S.Bid) / 2\n",
    "    OSC = JRSX(Tick, Period) - 50\n",
    "    Signal = -getPos(OSC, Threshold)\n",
    "    maOSC = JMA(OSC, Period*4)\n",
    "\n",
    "    std = pd.Series(OSC).rolling(Period).std().bfill().values\n",
    "    qA = maOSC + std * StdDev\n",
    "    qB = maOSC - std * StdDev\n",
    "\n",
    "    trades = npBacktestMarket(S, Signal, 0)\n",
    "    Buy, Sell = getLong(trades), getShort(trades)\n",
    "    P = getProfit(trades)\n",
    "    Profit = {'x': P.Index, 'y': P.RawPnL.cumsum()}\n",
    "\n",
    "    return locals()"
   ]
  },
  {
   "cell_type": "code",
   "execution_count": 5,
   "id": "2290a208",
   "metadata": {
    "ExecuteTime": {
     "end_time": "2022-05-16T15:15:11.669472Z",
     "start_time": "2022-05-16T15:15:10.776285Z"
    },
    "execution": {
     "iopub.execute_input": "2023-06-25T10:40:02.252990Z",
     "iopub.status.busy": "2023-06-25T10:40:02.252729Z",
     "iopub.status.idle": "2023-06-25T10:40:06.504964Z",
     "shell.execute_reply": "2023-06-25T10:40:06.503958Z",
     "shell.execute_reply.started": "2023-06-25T10:40:02.252965Z"
    },
    "tags": []
   },
   "outputs": [
    {
     "data": {
      "application/vnd.jupyter.widget-view+json": {
       "model_id": "d6642b14734f419cba4c8dffe2a3c849",
       "version_major": 2,
       "version_minor": 0
      },
      "text/plain": [
       "VBox(children=(HBox(children=(IntSlider(value=10000, description='Period', max=20000, min=50, step=50), FloatS…"
      ]
     },
     "metadata": {},
     "output_type": "display_data"
    }
   ],
   "source": [
    "interactFigure(model,\n",
    "    Tick={'color': 'gray', 'opacity': 0.3},\n",
    "    OSC={'color': 'orange', 'opacity': 0.5, 'row': 2},\n",
    "    maOSC={'color': 'green', 'opacity': 0.5, 'row': 2},\n",
    "    Signal={'color': 'red', 'opacity': 0.5, 'row': 2, 'secondary_y': True},\n",
    "    Profit={'mode': 'lines', 'color': 'gray', 'width': 3, 'opacity': 0.5, 'secondary_y': True, 'shape': 'hv', 'connectgaps': True},\n",
    "    Buy={'mode': 'markers', 'color': 'green', 'symbol': 'triangle-up', 'size': 10, 'line': {'color': 'darkgreen', 'width': 1}},\n",
    "    Sell={'mode': 'markers', 'color': 'red', 'symbol': 'triangle-down', 'size': 10, 'line': {'color': 'darkred', 'width': 1}}\n",
    ")"
   ]
  },
  {
   "cell_type": "code",
   "execution_count": null,
   "id": "a2a385bb-9959-4454-97d6-ebb64ec06475",
   "metadata": {},
   "outputs": [],
   "source": []
  }
 ],
 "metadata": {
  "kernelspec": {
   "display_name": "Python 3 (ipykernel)",
   "language": "python",
   "name": "python3"
  },
  "language_info": {
   "codemirror_mode": {
    "name": "ipython",
    "version": 3
   },
   "file_extension": ".py",
   "mimetype": "text/x-python",
   "name": "python",
   "nbconvert_exporter": "python",
   "pygments_lexer": "ipython3",
   "version": "3.9.16"
  },
  "widgets": {
   "application/vnd.jupyter.widget-state+json": {
    "state": {
     "0b5a09146557415fbced9528d67d423a": {
      "model_module": "@jupyter-widgets/base",
      "model_module_version": "1.2.0",
      "model_name": "LayoutModel",
      "state": {}
     },
     "0d4a8d73a4ad489893b65a8e80324b5c": {
      "model_module": "@jupyter-widgets/controls",
      "model_module_version": "1.5.0",
      "model_name": "SliderStyleModel",
      "state": {
       "description_width": ""
      }
     },
     "12512c2549db4910826885ade05be0fb": {
      "model_module": "@jupyter-widgets/controls",
      "model_module_version": "1.5.0",
      "model_name": "VBoxModel",
      "state": {
       "children": [
        "IPY_MODEL_76d81cf854ae4437814a6ca209fd5183",
        "IPY_MODEL_d2bcf0bc91fc41d3ac9b3c400e688bd0"
       ],
       "layout": "IPY_MODEL_e5baaf0d883e4f5094f8709cf2d0e3cd"
      }
     },
     "19178f5e6d3444f282c4d31aaa11197a": {
      "model_module": "@jupyter-widgets/base",
      "model_module_version": "1.2.0",
      "model_name": "LayoutModel",
      "state": {}
     },
     "1956664ce9284eba80241e0a551128ba": {
      "model_module": "@jupyter-widgets/controls",
      "model_module_version": "1.5.0",
      "model_name": "SliderStyleModel",
      "state": {
       "description_width": ""
      }
     },
     "253ff45c93be492aaf332614ca6badd5": {
      "model_module": "@jupyter-widgets/base",
      "model_module_version": "1.2.0",
      "model_name": "LayoutModel",
      "state": {}
     },
     "2bd0f8edf79e4aeab6cfa8e0d58d96c6": {
      "model_module": "@jupyter-widgets/output",
      "model_module_version": "1.0.0",
      "model_name": "OutputModel",
      "state": {
       "layout": "IPY_MODEL_b876941cbaaf4e2593eeb363f7546427"
      }
     },
     "2cb2501e55cb454ea83a16ea151d2d55": {
      "model_module": "jupyterlab-plotly",
      "model_module_version": "^5.6.0",
      "model_name": "FigureModel",
      "state": {
       "_config": {
        "plotlyServerURL": "https://plot.ly"
       },
       "_js2py_layoutDelta": {},
       "_js2py_pointsCallback": {},
       "_js2py_relayout": {},
       "_js2py_restyle": {},
       "_js2py_traceDeltas": {},
       "_js2py_update": {},
       "_layout": {
        "template": {
         "data": {
          "bar": [
           {
            "error_x": {
             "color": "#2a3f5f"
            },
            "error_y": {
             "color": "#2a3f5f"
            },
            "marker": {
             "line": {
              "color": "#E5ECF6",
              "width": 0.5
             },
             "pattern": {
              "fillmode": "overlay",
              "size": 10,
              "solidity": 0.2
             }
            },
            "type": "bar"
           }
          ],
          "barpolar": [
           {
            "marker": {
             "line": {
              "color": "#E5ECF6",
              "width": 0.5
             },
             "pattern": {
              "fillmode": "overlay",
              "size": 10,
              "solidity": 0.2
             }
            },
            "type": "barpolar"
           }
          ],
          "carpet": [
           {
            "aaxis": {
             "endlinecolor": "#2a3f5f",
             "gridcolor": "white",
             "linecolor": "white",
             "minorgridcolor": "white",
             "startlinecolor": "#2a3f5f"
            },
            "baxis": {
             "endlinecolor": "#2a3f5f",
             "gridcolor": "white",
             "linecolor": "white",
             "minorgridcolor": "white",
             "startlinecolor": "#2a3f5f"
            },
            "type": "carpet"
           }
          ],
          "choropleth": [
           {
            "colorbar": {
             "outlinewidth": 0,
             "ticks": ""
            },
            "type": "choropleth"
           }
          ],
          "contour": [
           {
            "colorbar": {
             "outlinewidth": 0,
             "ticks": ""
            },
            "colorscale": [
             [
              0,
              "#0d0887"
             ],
             [
              0.1111111111111111,
              "#46039f"
             ],
             [
              0.2222222222222222,
              "#7201a8"
             ],
             [
              0.3333333333333333,
              "#9c179e"
             ],
             [
              0.4444444444444444,
              "#bd3786"
             ],
             [
              0.5555555555555556,
              "#d8576b"
             ],
             [
              0.6666666666666666,
              "#ed7953"
             ],
             [
              0.7777777777777778,
              "#fb9f3a"
             ],
             [
              0.8888888888888888,
              "#fdca26"
             ],
             [
              1,
              "#f0f921"
             ]
            ],
            "type": "contour"
           }
          ],
          "contourcarpet": [
           {
            "colorbar": {
             "outlinewidth": 0,
             "ticks": ""
            },
            "type": "contourcarpet"
           }
          ],
          "heatmap": [
           {
            "colorbar": {
             "outlinewidth": 0,
             "ticks": ""
            },
            "colorscale": [
             [
              0,
              "#0d0887"
             ],
             [
              0.1111111111111111,
              "#46039f"
             ],
             [
              0.2222222222222222,
              "#7201a8"
             ],
             [
              0.3333333333333333,
              "#9c179e"
             ],
             [
              0.4444444444444444,
              "#bd3786"
             ],
             [
              0.5555555555555556,
              "#d8576b"
             ],
             [
              0.6666666666666666,
              "#ed7953"
             ],
             [
              0.7777777777777778,
              "#fb9f3a"
             ],
             [
              0.8888888888888888,
              "#fdca26"
             ],
             [
              1,
              "#f0f921"
             ]
            ],
            "type": "heatmap"
           }
          ],
          "heatmapgl": [
           {
            "colorbar": {
             "outlinewidth": 0,
             "ticks": ""
            },
            "colorscale": [
             [
              0,
              "#0d0887"
             ],
             [
              0.1111111111111111,
              "#46039f"
             ],
             [
              0.2222222222222222,
              "#7201a8"
             ],
             [
              0.3333333333333333,
              "#9c179e"
             ],
             [
              0.4444444444444444,
              "#bd3786"
             ],
             [
              0.5555555555555556,
              "#d8576b"
             ],
             [
              0.6666666666666666,
              "#ed7953"
             ],
             [
              0.7777777777777778,
              "#fb9f3a"
             ],
             [
              0.8888888888888888,
              "#fdca26"
             ],
             [
              1,
              "#f0f921"
             ]
            ],
            "type": "heatmapgl"
           }
          ],
          "histogram": [
           {
            "marker": {
             "pattern": {
              "fillmode": "overlay",
              "size": 10,
              "solidity": 0.2
             }
            },
            "type": "histogram"
           }
          ],
          "histogram2d": [
           {
            "colorbar": {
             "outlinewidth": 0,
             "ticks": ""
            },
            "colorscale": [
             [
              0,
              "#0d0887"
             ],
             [
              0.1111111111111111,
              "#46039f"
             ],
             [
              0.2222222222222222,
              "#7201a8"
             ],
             [
              0.3333333333333333,
              "#9c179e"
             ],
             [
              0.4444444444444444,
              "#bd3786"
             ],
             [
              0.5555555555555556,
              "#d8576b"
             ],
             [
              0.6666666666666666,
              "#ed7953"
             ],
             [
              0.7777777777777778,
              "#fb9f3a"
             ],
             [
              0.8888888888888888,
              "#fdca26"
             ],
             [
              1,
              "#f0f921"
             ]
            ],
            "type": "histogram2d"
           }
          ],
          "histogram2dcontour": [
           {
            "colorbar": {
             "outlinewidth": 0,
             "ticks": ""
            },
            "colorscale": [
             [
              0,
              "#0d0887"
             ],
             [
              0.1111111111111111,
              "#46039f"
             ],
             [
              0.2222222222222222,
              "#7201a8"
             ],
             [
              0.3333333333333333,
              "#9c179e"
             ],
             [
              0.4444444444444444,
              "#bd3786"
             ],
             [
              0.5555555555555556,
              "#d8576b"
             ],
             [
              0.6666666666666666,
              "#ed7953"
             ],
             [
              0.7777777777777778,
              "#fb9f3a"
             ],
             [
              0.8888888888888888,
              "#fdca26"
             ],
             [
              1,
              "#f0f921"
             ]
            ],
            "type": "histogram2dcontour"
           }
          ],
          "mesh3d": [
           {
            "colorbar": {
             "outlinewidth": 0,
             "ticks": ""
            },
            "type": "mesh3d"
           }
          ],
          "parcoords": [
           {
            "line": {
             "colorbar": {
              "outlinewidth": 0,
              "ticks": ""
             }
            },
            "type": "parcoords"
           }
          ],
          "pie": [
           {
            "automargin": true,
            "type": "pie"
           }
          ],
          "scatter": [
           {
            "marker": {
             "colorbar": {
              "outlinewidth": 0,
              "ticks": ""
             }
            },
            "type": "scatter"
           }
          ],
          "scatter3d": [
           {
            "line": {
             "colorbar": {
              "outlinewidth": 0,
              "ticks": ""
             }
            },
            "marker": {
             "colorbar": {
              "outlinewidth": 0,
              "ticks": ""
             }
            },
            "type": "scatter3d"
           }
          ],
          "scattercarpet": [
           {
            "marker": {
             "colorbar": {
              "outlinewidth": 0,
              "ticks": ""
             }
            },
            "type": "scattercarpet"
           }
          ],
          "scattergeo": [
           {
            "marker": {
             "colorbar": {
              "outlinewidth": 0,
              "ticks": ""
             }
            },
            "type": "scattergeo"
           }
          ],
          "scattergl": [
           {
            "marker": {
             "colorbar": {
              "outlinewidth": 0,
              "ticks": ""
             }
            },
            "type": "scattergl"
           }
          ],
          "scattermapbox": [
           {
            "marker": {
             "colorbar": {
              "outlinewidth": 0,
              "ticks": ""
             }
            },
            "type": "scattermapbox"
           }
          ],
          "scatterpolar": [
           {
            "marker": {
             "colorbar": {
              "outlinewidth": 0,
              "ticks": ""
             }
            },
            "type": "scatterpolar"
           }
          ],
          "scatterpolargl": [
           {
            "marker": {
             "colorbar": {
              "outlinewidth": 0,
              "ticks": ""
             }
            },
            "type": "scatterpolargl"
           }
          ],
          "scatterternary": [
           {
            "marker": {
             "colorbar": {
              "outlinewidth": 0,
              "ticks": ""
             }
            },
            "type": "scatterternary"
           }
          ],
          "surface": [
           {
            "colorbar": {
             "outlinewidth": 0,
             "ticks": ""
            },
            "colorscale": [
             [
              0,
              "#0d0887"
             ],
             [
              0.1111111111111111,
              "#46039f"
             ],
             [
              0.2222222222222222,
              "#7201a8"
             ],
             [
              0.3333333333333333,
              "#9c179e"
             ],
             [
              0.4444444444444444,
              "#bd3786"
             ],
             [
              0.5555555555555556,
              "#d8576b"
             ],
             [
              0.6666666666666666,
              "#ed7953"
             ],
             [
              0.7777777777777778,
              "#fb9f3a"
             ],
             [
              0.8888888888888888,
              "#fdca26"
             ],
             [
              1,
              "#f0f921"
             ]
            ],
            "type": "surface"
           }
          ],
          "table": [
           {
            "cells": {
             "fill": {
              "color": "#EBF0F8"
             },
             "line": {
              "color": "white"
             }
            },
            "header": {
             "fill": {
              "color": "#C8D4E3"
             },
             "line": {
              "color": "white"
             }
            },
            "type": "table"
           }
          ]
         },
         "layout": {
          "annotationdefaults": {
           "arrowcolor": "#2a3f5f",
           "arrowhead": 0,
           "arrowwidth": 1
          },
          "autotypenumbers": "strict",
          "coloraxis": {
           "colorbar": {
            "outlinewidth": 0,
            "ticks": ""
           }
          },
          "colorscale": {
           "diverging": [
            [
             0,
             "#8e0152"
            ],
            [
             0.1,
             "#c51b7d"
            ],
            [
             0.2,
             "#de77ae"
            ],
            [
             0.3,
             "#f1b6da"
            ],
            [
             0.4,
             "#fde0ef"
            ],
            [
             0.5,
             "#f7f7f7"
            ],
            [
             0.6,
             "#e6f5d0"
            ],
            [
             0.7,
             "#b8e186"
            ],
            [
             0.8,
             "#7fbc41"
            ],
            [
             0.9,
             "#4d9221"
            ],
            [
             1,
             "#276419"
            ]
           ],
           "sequential": [
            [
             0,
             "#0d0887"
            ],
            [
             0.1111111111111111,
             "#46039f"
            ],
            [
             0.2222222222222222,
             "#7201a8"
            ],
            [
             0.3333333333333333,
             "#9c179e"
            ],
            [
             0.4444444444444444,
             "#bd3786"
            ],
            [
             0.5555555555555556,
             "#d8576b"
            ],
            [
             0.6666666666666666,
             "#ed7953"
            ],
            [
             0.7777777777777778,
             "#fb9f3a"
            ],
            [
             0.8888888888888888,
             "#fdca26"
            ],
            [
             1,
             "#f0f921"
            ]
           ],
           "sequentialminus": [
            [
             0,
             "#0d0887"
            ],
            [
             0.1111111111111111,
             "#46039f"
            ],
            [
             0.2222222222222222,
             "#7201a8"
            ],
            [
             0.3333333333333333,
             "#9c179e"
            ],
            [
             0.4444444444444444,
             "#bd3786"
            ],
            [
             0.5555555555555556,
             "#d8576b"
            ],
            [
             0.6666666666666666,
             "#ed7953"
            ],
            [
             0.7777777777777778,
             "#fb9f3a"
            ],
            [
             0.8888888888888888,
             "#fdca26"
            ],
            [
             1,
             "#f0f921"
            ]
           ]
          },
          "colorway": [
           "#636efa",
           "#EF553B",
           "#00cc96",
           "#ab63fa",
           "#FFA15A",
           "#19d3f3",
           "#FF6692",
           "#B6E880",
           "#FF97FF",
           "#FECB52"
          ],
          "font": {
           "color": "#2a3f5f"
          },
          "geo": {
           "bgcolor": "white",
           "lakecolor": "white",
           "landcolor": "#E5ECF6",
           "showlakes": true,
           "showland": true,
           "subunitcolor": "white"
          },
          "hoverlabel": {
           "align": "left"
          },
          "hovermode": "closest",
          "mapbox": {
           "style": "light"
          },
          "paper_bgcolor": "white",
          "plot_bgcolor": "#E5ECF6",
          "polar": {
           "angularaxis": {
            "gridcolor": "white",
            "linecolor": "white",
            "ticks": ""
           },
           "bgcolor": "#E5ECF6",
           "radialaxis": {
            "gridcolor": "white",
            "linecolor": "white",
            "ticks": ""
           }
          },
          "scene": {
           "xaxis": {
            "backgroundcolor": "#E5ECF6",
            "gridcolor": "white",
            "gridwidth": 2,
            "linecolor": "white",
            "showbackground": true,
            "ticks": "",
            "zerolinecolor": "white"
           },
           "yaxis": {
            "backgroundcolor": "#E5ECF6",
            "gridcolor": "white",
            "gridwidth": 2,
            "linecolor": "white",
            "showbackground": true,
            "ticks": "",
            "zerolinecolor": "white"
           },
           "zaxis": {
            "backgroundcolor": "#E5ECF6",
            "gridcolor": "white",
            "gridwidth": 2,
            "linecolor": "white",
            "showbackground": true,
            "ticks": "",
            "zerolinecolor": "white"
           }
          },
          "shapedefaults": {
           "line": {
            "color": "#2a3f5f"
           }
          },
          "ternary": {
           "aaxis": {
            "gridcolor": "white",
            "linecolor": "white",
            "ticks": ""
           },
           "baxis": {
            "gridcolor": "white",
            "linecolor": "white",
            "ticks": ""
           },
           "bgcolor": "#E5ECF6",
           "caxis": {
            "gridcolor": "white",
            "linecolor": "white",
            "ticks": ""
           }
          },
          "title": {
           "x": 0.05
          },
          "xaxis": {
           "automargin": true,
           "gridcolor": "white",
           "linecolor": "white",
           "ticks": "",
           "title": {
            "standoff": 15
           },
           "zerolinecolor": "white",
           "zerolinewidth": 2
          },
          "yaxis": {
           "automargin": true,
           "gridcolor": "white",
           "linecolor": "white",
           "ticks": "",
           "title": {
            "standoff": 15
           },
           "zerolinecolor": "white",
           "zerolinewidth": 2
          }
         }
        },
        "xaxis": {
         "anchor": "y",
         "domain": [
          0,
          0.94
         ],
         "matches": "x2",
         "showticklabels": false
        },
        "xaxis2": {
         "anchor": "y3",
         "domain": [
          0,
          0.94
         ]
        },
        "yaxis": {
         "anchor": "x",
         "domain": [
          0.32100000000000006,
          1
         ]
        },
        "yaxis2": {
         "anchor": "x",
         "overlaying": "y",
         "side": "right"
        },
        "yaxis3": {
         "anchor": "x2",
         "domain": [
          0,
          0.29100000000000004
         ]
        },
        "yaxis4": {
         "anchor": "x2",
         "overlaying": "y3",
         "side": "right"
        }
       },
       "_py2js_addTraces": {},
       "_py2js_animate": {},
       "_py2js_deleteTraces": {},
       "_py2js_moveTraces": {},
       "_py2js_relayout": {},
       "_py2js_removeLayoutProps": {},
       "_py2js_removeTraceProps": {},
       "_py2js_restyle": {},
       "_py2js_update": {},
       "_view_count": 0
      }
     },
     "2e303efb31e84f73afba17309e3cdeb2": {
      "model_module": "jupyterlab-plotly",
      "model_module_version": "^5.6.0",
      "model_name": "FigureModel",
      "state": {
       "_config": {
        "plotlyServerURL": "https://plot.ly"
       },
       "_js2py_layoutDelta": {},
       "_js2py_pointsCallback": {},
       "_js2py_relayout": {},
       "_js2py_restyle": {},
       "_js2py_traceDeltas": {},
       "_js2py_update": {},
       "_layout": {
        "template": {
         "data": {
          "bar": [
           {
            "error_x": {
             "color": "#2a3f5f"
            },
            "error_y": {
             "color": "#2a3f5f"
            },
            "marker": {
             "line": {
              "color": "#E5ECF6",
              "width": 0.5
             },
             "pattern": {
              "fillmode": "overlay",
              "size": 10,
              "solidity": 0.2
             }
            },
            "type": "bar"
           }
          ],
          "barpolar": [
           {
            "marker": {
             "line": {
              "color": "#E5ECF6",
              "width": 0.5
             },
             "pattern": {
              "fillmode": "overlay",
              "size": 10,
              "solidity": 0.2
             }
            },
            "type": "barpolar"
           }
          ],
          "carpet": [
           {
            "aaxis": {
             "endlinecolor": "#2a3f5f",
             "gridcolor": "white",
             "linecolor": "white",
             "minorgridcolor": "white",
             "startlinecolor": "#2a3f5f"
            },
            "baxis": {
             "endlinecolor": "#2a3f5f",
             "gridcolor": "white",
             "linecolor": "white",
             "minorgridcolor": "white",
             "startlinecolor": "#2a3f5f"
            },
            "type": "carpet"
           }
          ],
          "choropleth": [
           {
            "colorbar": {
             "outlinewidth": 0,
             "ticks": ""
            },
            "type": "choropleth"
           }
          ],
          "contour": [
           {
            "colorbar": {
             "outlinewidth": 0,
             "ticks": ""
            },
            "colorscale": [
             [
              0,
              "#0d0887"
             ],
             [
              0.1111111111111111,
              "#46039f"
             ],
             [
              0.2222222222222222,
              "#7201a8"
             ],
             [
              0.3333333333333333,
              "#9c179e"
             ],
             [
              0.4444444444444444,
              "#bd3786"
             ],
             [
              0.5555555555555556,
              "#d8576b"
             ],
             [
              0.6666666666666666,
              "#ed7953"
             ],
             [
              0.7777777777777778,
              "#fb9f3a"
             ],
             [
              0.8888888888888888,
              "#fdca26"
             ],
             [
              1,
              "#f0f921"
             ]
            ],
            "type": "contour"
           }
          ],
          "contourcarpet": [
           {
            "colorbar": {
             "outlinewidth": 0,
             "ticks": ""
            },
            "type": "contourcarpet"
           }
          ],
          "heatmap": [
           {
            "colorbar": {
             "outlinewidth": 0,
             "ticks": ""
            },
            "colorscale": [
             [
              0,
              "#0d0887"
             ],
             [
              0.1111111111111111,
              "#46039f"
             ],
             [
              0.2222222222222222,
              "#7201a8"
             ],
             [
              0.3333333333333333,
              "#9c179e"
             ],
             [
              0.4444444444444444,
              "#bd3786"
             ],
             [
              0.5555555555555556,
              "#d8576b"
             ],
             [
              0.6666666666666666,
              "#ed7953"
             ],
             [
              0.7777777777777778,
              "#fb9f3a"
             ],
             [
              0.8888888888888888,
              "#fdca26"
             ],
             [
              1,
              "#f0f921"
             ]
            ],
            "type": "heatmap"
           }
          ],
          "heatmapgl": [
           {
            "colorbar": {
             "outlinewidth": 0,
             "ticks": ""
            },
            "colorscale": [
             [
              0,
              "#0d0887"
             ],
             [
              0.1111111111111111,
              "#46039f"
             ],
             [
              0.2222222222222222,
              "#7201a8"
             ],
             [
              0.3333333333333333,
              "#9c179e"
             ],
             [
              0.4444444444444444,
              "#bd3786"
             ],
             [
              0.5555555555555556,
              "#d8576b"
             ],
             [
              0.6666666666666666,
              "#ed7953"
             ],
             [
              0.7777777777777778,
              "#fb9f3a"
             ],
             [
              0.8888888888888888,
              "#fdca26"
             ],
             [
              1,
              "#f0f921"
             ]
            ],
            "type": "heatmapgl"
           }
          ],
          "histogram": [
           {
            "marker": {
             "pattern": {
              "fillmode": "overlay",
              "size": 10,
              "solidity": 0.2
             }
            },
            "type": "histogram"
           }
          ],
          "histogram2d": [
           {
            "colorbar": {
             "outlinewidth": 0,
             "ticks": ""
            },
            "colorscale": [
             [
              0,
              "#0d0887"
             ],
             [
              0.1111111111111111,
              "#46039f"
             ],
             [
              0.2222222222222222,
              "#7201a8"
             ],
             [
              0.3333333333333333,
              "#9c179e"
             ],
             [
              0.4444444444444444,
              "#bd3786"
             ],
             [
              0.5555555555555556,
              "#d8576b"
             ],
             [
              0.6666666666666666,
              "#ed7953"
             ],
             [
              0.7777777777777778,
              "#fb9f3a"
             ],
             [
              0.8888888888888888,
              "#fdca26"
             ],
             [
              1,
              "#f0f921"
             ]
            ],
            "type": "histogram2d"
           }
          ],
          "histogram2dcontour": [
           {
            "colorbar": {
             "outlinewidth": 0,
             "ticks": ""
            },
            "colorscale": [
             [
              0,
              "#0d0887"
             ],
             [
              0.1111111111111111,
              "#46039f"
             ],
             [
              0.2222222222222222,
              "#7201a8"
             ],
             [
              0.3333333333333333,
              "#9c179e"
             ],
             [
              0.4444444444444444,
              "#bd3786"
             ],
             [
              0.5555555555555556,
              "#d8576b"
             ],
             [
              0.6666666666666666,
              "#ed7953"
             ],
             [
              0.7777777777777778,
              "#fb9f3a"
             ],
             [
              0.8888888888888888,
              "#fdca26"
             ],
             [
              1,
              "#f0f921"
             ]
            ],
            "type": "histogram2dcontour"
           }
          ],
          "mesh3d": [
           {
            "colorbar": {
             "outlinewidth": 0,
             "ticks": ""
            },
            "type": "mesh3d"
           }
          ],
          "parcoords": [
           {
            "line": {
             "colorbar": {
              "outlinewidth": 0,
              "ticks": ""
             }
            },
            "type": "parcoords"
           }
          ],
          "pie": [
           {
            "automargin": true,
            "type": "pie"
           }
          ],
          "scatter": [
           {
            "marker": {
             "colorbar": {
              "outlinewidth": 0,
              "ticks": ""
             }
            },
            "type": "scatter"
           }
          ],
          "scatter3d": [
           {
            "line": {
             "colorbar": {
              "outlinewidth": 0,
              "ticks": ""
             }
            },
            "marker": {
             "colorbar": {
              "outlinewidth": 0,
              "ticks": ""
             }
            },
            "type": "scatter3d"
           }
          ],
          "scattercarpet": [
           {
            "marker": {
             "colorbar": {
              "outlinewidth": 0,
              "ticks": ""
             }
            },
            "type": "scattercarpet"
           }
          ],
          "scattergeo": [
           {
            "marker": {
             "colorbar": {
              "outlinewidth": 0,
              "ticks": ""
             }
            },
            "type": "scattergeo"
           }
          ],
          "scattergl": [
           {
            "marker": {
             "colorbar": {
              "outlinewidth": 0,
              "ticks": ""
             }
            },
            "type": "scattergl"
           }
          ],
          "scattermapbox": [
           {
            "marker": {
             "colorbar": {
              "outlinewidth": 0,
              "ticks": ""
             }
            },
            "type": "scattermapbox"
           }
          ],
          "scatterpolar": [
           {
            "marker": {
             "colorbar": {
              "outlinewidth": 0,
              "ticks": ""
             }
            },
            "type": "scatterpolar"
           }
          ],
          "scatterpolargl": [
           {
            "marker": {
             "colorbar": {
              "outlinewidth": 0,
              "ticks": ""
             }
            },
            "type": "scatterpolargl"
           }
          ],
          "scatterternary": [
           {
            "marker": {
             "colorbar": {
              "outlinewidth": 0,
              "ticks": ""
             }
            },
            "type": "scatterternary"
           }
          ],
          "surface": [
           {
            "colorbar": {
             "outlinewidth": 0,
             "ticks": ""
            },
            "colorscale": [
             [
              0,
              "#0d0887"
             ],
             [
              0.1111111111111111,
              "#46039f"
             ],
             [
              0.2222222222222222,
              "#7201a8"
             ],
             [
              0.3333333333333333,
              "#9c179e"
             ],
             [
              0.4444444444444444,
              "#bd3786"
             ],
             [
              0.5555555555555556,
              "#d8576b"
             ],
             [
              0.6666666666666666,
              "#ed7953"
             ],
             [
              0.7777777777777778,
              "#fb9f3a"
             ],
             [
              0.8888888888888888,
              "#fdca26"
             ],
             [
              1,
              "#f0f921"
             ]
            ],
            "type": "surface"
           }
          ],
          "table": [
           {
            "cells": {
             "fill": {
              "color": "#EBF0F8"
             },
             "line": {
              "color": "white"
             }
            },
            "header": {
             "fill": {
              "color": "#C8D4E3"
             },
             "line": {
              "color": "white"
             }
            },
            "type": "table"
           }
          ]
         },
         "layout": {
          "annotationdefaults": {
           "arrowcolor": "#2a3f5f",
           "arrowhead": 0,
           "arrowwidth": 1
          },
          "autotypenumbers": "strict",
          "coloraxis": {
           "colorbar": {
            "outlinewidth": 0,
            "ticks": ""
           }
          },
          "colorscale": {
           "diverging": [
            [
             0,
             "#8e0152"
            ],
            [
             0.1,
             "#c51b7d"
            ],
            [
             0.2,
             "#de77ae"
            ],
            [
             0.3,
             "#f1b6da"
            ],
            [
             0.4,
             "#fde0ef"
            ],
            [
             0.5,
             "#f7f7f7"
            ],
            [
             0.6,
             "#e6f5d0"
            ],
            [
             0.7,
             "#b8e186"
            ],
            [
             0.8,
             "#7fbc41"
            ],
            [
             0.9,
             "#4d9221"
            ],
            [
             1,
             "#276419"
            ]
           ],
           "sequential": [
            [
             0,
             "#0d0887"
            ],
            [
             0.1111111111111111,
             "#46039f"
            ],
            [
             0.2222222222222222,
             "#7201a8"
            ],
            [
             0.3333333333333333,
             "#9c179e"
            ],
            [
             0.4444444444444444,
             "#bd3786"
            ],
            [
             0.5555555555555556,
             "#d8576b"
            ],
            [
             0.6666666666666666,
             "#ed7953"
            ],
            [
             0.7777777777777778,
             "#fb9f3a"
            ],
            [
             0.8888888888888888,
             "#fdca26"
            ],
            [
             1,
             "#f0f921"
            ]
           ],
           "sequentialminus": [
            [
             0,
             "#0d0887"
            ],
            [
             0.1111111111111111,
             "#46039f"
            ],
            [
             0.2222222222222222,
             "#7201a8"
            ],
            [
             0.3333333333333333,
             "#9c179e"
            ],
            [
             0.4444444444444444,
             "#bd3786"
            ],
            [
             0.5555555555555556,
             "#d8576b"
            ],
            [
             0.6666666666666666,
             "#ed7953"
            ],
            [
             0.7777777777777778,
             "#fb9f3a"
            ],
            [
             0.8888888888888888,
             "#fdca26"
            ],
            [
             1,
             "#f0f921"
            ]
           ]
          },
          "colorway": [
           "#636efa",
           "#EF553B",
           "#00cc96",
           "#ab63fa",
           "#FFA15A",
           "#19d3f3",
           "#FF6692",
           "#B6E880",
           "#FF97FF",
           "#FECB52"
          ],
          "font": {
           "color": "#2a3f5f"
          },
          "geo": {
           "bgcolor": "white",
           "lakecolor": "white",
           "landcolor": "#E5ECF6",
           "showlakes": true,
           "showland": true,
           "subunitcolor": "white"
          },
          "hoverlabel": {
           "align": "left"
          },
          "hovermode": "closest",
          "mapbox": {
           "style": "light"
          },
          "paper_bgcolor": "white",
          "plot_bgcolor": "#E5ECF6",
          "polar": {
           "angularaxis": {
            "gridcolor": "white",
            "linecolor": "white",
            "ticks": ""
           },
           "bgcolor": "#E5ECF6",
           "radialaxis": {
            "gridcolor": "white",
            "linecolor": "white",
            "ticks": ""
           }
          },
          "scene": {
           "xaxis": {
            "backgroundcolor": "#E5ECF6",
            "gridcolor": "white",
            "gridwidth": 2,
            "linecolor": "white",
            "showbackground": true,
            "ticks": "",
            "zerolinecolor": "white"
           },
           "yaxis": {
            "backgroundcolor": "#E5ECF6",
            "gridcolor": "white",
            "gridwidth": 2,
            "linecolor": "white",
            "showbackground": true,
            "ticks": "",
            "zerolinecolor": "white"
           },
           "zaxis": {
            "backgroundcolor": "#E5ECF6",
            "gridcolor": "white",
            "gridwidth": 2,
            "linecolor": "white",
            "showbackground": true,
            "ticks": "",
            "zerolinecolor": "white"
           }
          },
          "shapedefaults": {
           "line": {
            "color": "#2a3f5f"
           }
          },
          "ternary": {
           "aaxis": {
            "gridcolor": "white",
            "linecolor": "white",
            "ticks": ""
           },
           "baxis": {
            "gridcolor": "white",
            "linecolor": "white",
            "ticks": ""
           },
           "bgcolor": "#E5ECF6",
           "caxis": {
            "gridcolor": "white",
            "linecolor": "white",
            "ticks": ""
           }
          },
          "title": {
           "x": 0.05
          },
          "xaxis": {
           "automargin": true,
           "gridcolor": "white",
           "linecolor": "white",
           "ticks": "",
           "title": {
            "standoff": 15
           },
           "zerolinecolor": "white",
           "zerolinewidth": 2
          },
          "yaxis": {
           "automargin": true,
           "gridcolor": "white",
           "linecolor": "white",
           "ticks": "",
           "title": {
            "standoff": 15
           },
           "zerolinecolor": "white",
           "zerolinewidth": 2
          }
         }
        },
        "xaxis": {
         "anchor": "y",
         "domain": [
          0,
          0.94
         ],
         "matches": "x2",
         "showticklabels": false
        },
        "xaxis2": {
         "anchor": "y3",
         "domain": [
          0,
          0.94
         ]
        },
        "yaxis": {
         "anchor": "x",
         "domain": [
          0.32100000000000006,
          1
         ]
        },
        "yaxis2": {
         "anchor": "x",
         "overlaying": "y",
         "side": "right"
        },
        "yaxis3": {
         "anchor": "x2",
         "domain": [
          0,
          0.29100000000000004
         ]
        },
        "yaxis4": {
         "anchor": "x2",
         "overlaying": "y3",
         "side": "right"
        }
       },
       "_py2js_addTraces": {},
       "_py2js_animate": {},
       "_py2js_deleteTraces": {},
       "_py2js_moveTraces": {},
       "_py2js_relayout": {},
       "_py2js_removeLayoutProps": {},
       "_py2js_removeTraceProps": {},
       "_py2js_restyle": {},
       "_py2js_update": {},
       "_view_count": 0
      }
     },
     "2f2df2339d2c4e0cb18645cca24b1624": {
      "model_module": "@jupyter-widgets/controls",
      "model_module_version": "1.5.0",
      "model_name": "IntSliderModel",
      "state": {
       "description": "Period",
       "layout": "IPY_MODEL_dbf88a52f67345c8a746a6222ad63926",
       "max": 20000,
       "min": 50,
       "step": 50,
       "style": "IPY_MODEL_c835a861ff3b405dbb32141017ceb5eb",
       "value": 10000
      }
     },
     "2f623a924ed246f49b261433a148db5c": {
      "model_module": "@jupyter-widgets/base",
      "model_module_version": "1.2.0",
      "model_name": "LayoutModel",
      "state": {}
     },
     "33a4885e78744b549b0a977c4d2d97e9": {
      "model_module": "@jupyter-widgets/output",
      "model_module_version": "1.0.0",
      "model_name": "OutputModel",
      "state": {
       "layout": "IPY_MODEL_7cb7e8cb76e04af28dcfc6db3ce8aa4d"
      }
     },
     "351f06ab510947f09046f37b30864823": {
      "model_module": "jupyterlab-plotly",
      "model_module_version": "^5.6.0",
      "model_name": "FigureModel",
      "state": {
       "_config": {
        "plotlyServerURL": "https://plot.ly"
       },
       "_js2py_layoutDelta": {},
       "_js2py_pointsCallback": {},
       "_js2py_relayout": {},
       "_js2py_restyle": {},
       "_js2py_traceDeltas": {},
       "_js2py_update": {},
       "_layout": {
        "template": {
         "data": {
          "bar": [
           {
            "error_x": {
             "color": "#2a3f5f"
            },
            "error_y": {
             "color": "#2a3f5f"
            },
            "marker": {
             "line": {
              "color": "#E5ECF6",
              "width": 0.5
             },
             "pattern": {
              "fillmode": "overlay",
              "size": 10,
              "solidity": 0.2
             }
            },
            "type": "bar"
           }
          ],
          "barpolar": [
           {
            "marker": {
             "line": {
              "color": "#E5ECF6",
              "width": 0.5
             },
             "pattern": {
              "fillmode": "overlay",
              "size": 10,
              "solidity": 0.2
             }
            },
            "type": "barpolar"
           }
          ],
          "carpet": [
           {
            "aaxis": {
             "endlinecolor": "#2a3f5f",
             "gridcolor": "white",
             "linecolor": "white",
             "minorgridcolor": "white",
             "startlinecolor": "#2a3f5f"
            },
            "baxis": {
             "endlinecolor": "#2a3f5f",
             "gridcolor": "white",
             "linecolor": "white",
             "minorgridcolor": "white",
             "startlinecolor": "#2a3f5f"
            },
            "type": "carpet"
           }
          ],
          "choropleth": [
           {
            "colorbar": {
             "outlinewidth": 0,
             "ticks": ""
            },
            "type": "choropleth"
           }
          ],
          "contour": [
           {
            "colorbar": {
             "outlinewidth": 0,
             "ticks": ""
            },
            "colorscale": [
             [
              0,
              "#0d0887"
             ],
             [
              0.1111111111111111,
              "#46039f"
             ],
             [
              0.2222222222222222,
              "#7201a8"
             ],
             [
              0.3333333333333333,
              "#9c179e"
             ],
             [
              0.4444444444444444,
              "#bd3786"
             ],
             [
              0.5555555555555556,
              "#d8576b"
             ],
             [
              0.6666666666666666,
              "#ed7953"
             ],
             [
              0.7777777777777778,
              "#fb9f3a"
             ],
             [
              0.8888888888888888,
              "#fdca26"
             ],
             [
              1,
              "#f0f921"
             ]
            ],
            "type": "contour"
           }
          ],
          "contourcarpet": [
           {
            "colorbar": {
             "outlinewidth": 0,
             "ticks": ""
            },
            "type": "contourcarpet"
           }
          ],
          "heatmap": [
           {
            "colorbar": {
             "outlinewidth": 0,
             "ticks": ""
            },
            "colorscale": [
             [
              0,
              "#0d0887"
             ],
             [
              0.1111111111111111,
              "#46039f"
             ],
             [
              0.2222222222222222,
              "#7201a8"
             ],
             [
              0.3333333333333333,
              "#9c179e"
             ],
             [
              0.4444444444444444,
              "#bd3786"
             ],
             [
              0.5555555555555556,
              "#d8576b"
             ],
             [
              0.6666666666666666,
              "#ed7953"
             ],
             [
              0.7777777777777778,
              "#fb9f3a"
             ],
             [
              0.8888888888888888,
              "#fdca26"
             ],
             [
              1,
              "#f0f921"
             ]
            ],
            "type": "heatmap"
           }
          ],
          "heatmapgl": [
           {
            "colorbar": {
             "outlinewidth": 0,
             "ticks": ""
            },
            "colorscale": [
             [
              0,
              "#0d0887"
             ],
             [
              0.1111111111111111,
              "#46039f"
             ],
             [
              0.2222222222222222,
              "#7201a8"
             ],
             [
              0.3333333333333333,
              "#9c179e"
             ],
             [
              0.4444444444444444,
              "#bd3786"
             ],
             [
              0.5555555555555556,
              "#d8576b"
             ],
             [
              0.6666666666666666,
              "#ed7953"
             ],
             [
              0.7777777777777778,
              "#fb9f3a"
             ],
             [
              0.8888888888888888,
              "#fdca26"
             ],
             [
              1,
              "#f0f921"
             ]
            ],
            "type": "heatmapgl"
           }
          ],
          "histogram": [
           {
            "marker": {
             "pattern": {
              "fillmode": "overlay",
              "size": 10,
              "solidity": 0.2
             }
            },
            "type": "histogram"
           }
          ],
          "histogram2d": [
           {
            "colorbar": {
             "outlinewidth": 0,
             "ticks": ""
            },
            "colorscale": [
             [
              0,
              "#0d0887"
             ],
             [
              0.1111111111111111,
              "#46039f"
             ],
             [
              0.2222222222222222,
              "#7201a8"
             ],
             [
              0.3333333333333333,
              "#9c179e"
             ],
             [
              0.4444444444444444,
              "#bd3786"
             ],
             [
              0.5555555555555556,
              "#d8576b"
             ],
             [
              0.6666666666666666,
              "#ed7953"
             ],
             [
              0.7777777777777778,
              "#fb9f3a"
             ],
             [
              0.8888888888888888,
              "#fdca26"
             ],
             [
              1,
              "#f0f921"
             ]
            ],
            "type": "histogram2d"
           }
          ],
          "histogram2dcontour": [
           {
            "colorbar": {
             "outlinewidth": 0,
             "ticks": ""
            },
            "colorscale": [
             [
              0,
              "#0d0887"
             ],
             [
              0.1111111111111111,
              "#46039f"
             ],
             [
              0.2222222222222222,
              "#7201a8"
             ],
             [
              0.3333333333333333,
              "#9c179e"
             ],
             [
              0.4444444444444444,
              "#bd3786"
             ],
             [
              0.5555555555555556,
              "#d8576b"
             ],
             [
              0.6666666666666666,
              "#ed7953"
             ],
             [
              0.7777777777777778,
              "#fb9f3a"
             ],
             [
              0.8888888888888888,
              "#fdca26"
             ],
             [
              1,
              "#f0f921"
             ]
            ],
            "type": "histogram2dcontour"
           }
          ],
          "mesh3d": [
           {
            "colorbar": {
             "outlinewidth": 0,
             "ticks": ""
            },
            "type": "mesh3d"
           }
          ],
          "parcoords": [
           {
            "line": {
             "colorbar": {
              "outlinewidth": 0,
              "ticks": ""
             }
            },
            "type": "parcoords"
           }
          ],
          "pie": [
           {
            "automargin": true,
            "type": "pie"
           }
          ],
          "scatter": [
           {
            "marker": {
             "colorbar": {
              "outlinewidth": 0,
              "ticks": ""
             }
            },
            "type": "scatter"
           }
          ],
          "scatter3d": [
           {
            "line": {
             "colorbar": {
              "outlinewidth": 0,
              "ticks": ""
             }
            },
            "marker": {
             "colorbar": {
              "outlinewidth": 0,
              "ticks": ""
             }
            },
            "type": "scatter3d"
           }
          ],
          "scattercarpet": [
           {
            "marker": {
             "colorbar": {
              "outlinewidth": 0,
              "ticks": ""
             }
            },
            "type": "scattercarpet"
           }
          ],
          "scattergeo": [
           {
            "marker": {
             "colorbar": {
              "outlinewidth": 0,
              "ticks": ""
             }
            },
            "type": "scattergeo"
           }
          ],
          "scattergl": [
           {
            "marker": {
             "colorbar": {
              "outlinewidth": 0,
              "ticks": ""
             }
            },
            "type": "scattergl"
           }
          ],
          "scattermapbox": [
           {
            "marker": {
             "colorbar": {
              "outlinewidth": 0,
              "ticks": ""
             }
            },
            "type": "scattermapbox"
           }
          ],
          "scatterpolar": [
           {
            "marker": {
             "colorbar": {
              "outlinewidth": 0,
              "ticks": ""
             }
            },
            "type": "scatterpolar"
           }
          ],
          "scatterpolargl": [
           {
            "marker": {
             "colorbar": {
              "outlinewidth": 0,
              "ticks": ""
             }
            },
            "type": "scatterpolargl"
           }
          ],
          "scatterternary": [
           {
            "marker": {
             "colorbar": {
              "outlinewidth": 0,
              "ticks": ""
             }
            },
            "type": "scatterternary"
           }
          ],
          "surface": [
           {
            "colorbar": {
             "outlinewidth": 0,
             "ticks": ""
            },
            "colorscale": [
             [
              0,
              "#0d0887"
             ],
             [
              0.1111111111111111,
              "#46039f"
             ],
             [
              0.2222222222222222,
              "#7201a8"
             ],
             [
              0.3333333333333333,
              "#9c179e"
             ],
             [
              0.4444444444444444,
              "#bd3786"
             ],
             [
              0.5555555555555556,
              "#d8576b"
             ],
             [
              0.6666666666666666,
              "#ed7953"
             ],
             [
              0.7777777777777778,
              "#fb9f3a"
             ],
             [
              0.8888888888888888,
              "#fdca26"
             ],
             [
              1,
              "#f0f921"
             ]
            ],
            "type": "surface"
           }
          ],
          "table": [
           {
            "cells": {
             "fill": {
              "color": "#EBF0F8"
             },
             "line": {
              "color": "white"
             }
            },
            "header": {
             "fill": {
              "color": "#C8D4E3"
             },
             "line": {
              "color": "white"
             }
            },
            "type": "table"
           }
          ]
         },
         "layout": {
          "annotationdefaults": {
           "arrowcolor": "#2a3f5f",
           "arrowhead": 0,
           "arrowwidth": 1
          },
          "autotypenumbers": "strict",
          "coloraxis": {
           "colorbar": {
            "outlinewidth": 0,
            "ticks": ""
           }
          },
          "colorscale": {
           "diverging": [
            [
             0,
             "#8e0152"
            ],
            [
             0.1,
             "#c51b7d"
            ],
            [
             0.2,
             "#de77ae"
            ],
            [
             0.3,
             "#f1b6da"
            ],
            [
             0.4,
             "#fde0ef"
            ],
            [
             0.5,
             "#f7f7f7"
            ],
            [
             0.6,
             "#e6f5d0"
            ],
            [
             0.7,
             "#b8e186"
            ],
            [
             0.8,
             "#7fbc41"
            ],
            [
             0.9,
             "#4d9221"
            ],
            [
             1,
             "#276419"
            ]
           ],
           "sequential": [
            [
             0,
             "#0d0887"
            ],
            [
             0.1111111111111111,
             "#46039f"
            ],
            [
             0.2222222222222222,
             "#7201a8"
            ],
            [
             0.3333333333333333,
             "#9c179e"
            ],
            [
             0.4444444444444444,
             "#bd3786"
            ],
            [
             0.5555555555555556,
             "#d8576b"
            ],
            [
             0.6666666666666666,
             "#ed7953"
            ],
            [
             0.7777777777777778,
             "#fb9f3a"
            ],
            [
             0.8888888888888888,
             "#fdca26"
            ],
            [
             1,
             "#f0f921"
            ]
           ],
           "sequentialminus": [
            [
             0,
             "#0d0887"
            ],
            [
             0.1111111111111111,
             "#46039f"
            ],
            [
             0.2222222222222222,
             "#7201a8"
            ],
            [
             0.3333333333333333,
             "#9c179e"
            ],
            [
             0.4444444444444444,
             "#bd3786"
            ],
            [
             0.5555555555555556,
             "#d8576b"
            ],
            [
             0.6666666666666666,
             "#ed7953"
            ],
            [
             0.7777777777777778,
             "#fb9f3a"
            ],
            [
             0.8888888888888888,
             "#fdca26"
            ],
            [
             1,
             "#f0f921"
            ]
           ]
          },
          "colorway": [
           "#636efa",
           "#EF553B",
           "#00cc96",
           "#ab63fa",
           "#FFA15A",
           "#19d3f3",
           "#FF6692",
           "#B6E880",
           "#FF97FF",
           "#FECB52"
          ],
          "font": {
           "color": "#2a3f5f"
          },
          "geo": {
           "bgcolor": "white",
           "lakecolor": "white",
           "landcolor": "#E5ECF6",
           "showlakes": true,
           "showland": true,
           "subunitcolor": "white"
          },
          "hoverlabel": {
           "align": "left"
          },
          "hovermode": "closest",
          "mapbox": {
           "style": "light"
          },
          "paper_bgcolor": "white",
          "plot_bgcolor": "#E5ECF6",
          "polar": {
           "angularaxis": {
            "gridcolor": "white",
            "linecolor": "white",
            "ticks": ""
           },
           "bgcolor": "#E5ECF6",
           "radialaxis": {
            "gridcolor": "white",
            "linecolor": "white",
            "ticks": ""
           }
          },
          "scene": {
           "xaxis": {
            "backgroundcolor": "#E5ECF6",
            "gridcolor": "white",
            "gridwidth": 2,
            "linecolor": "white",
            "showbackground": true,
            "ticks": "",
            "zerolinecolor": "white"
           },
           "yaxis": {
            "backgroundcolor": "#E5ECF6",
            "gridcolor": "white",
            "gridwidth": 2,
            "linecolor": "white",
            "showbackground": true,
            "ticks": "",
            "zerolinecolor": "white"
           },
           "zaxis": {
            "backgroundcolor": "#E5ECF6",
            "gridcolor": "white",
            "gridwidth": 2,
            "linecolor": "white",
            "showbackground": true,
            "ticks": "",
            "zerolinecolor": "white"
           }
          },
          "shapedefaults": {
           "line": {
            "color": "#2a3f5f"
           }
          },
          "ternary": {
           "aaxis": {
            "gridcolor": "white",
            "linecolor": "white",
            "ticks": ""
           },
           "baxis": {
            "gridcolor": "white",
            "linecolor": "white",
            "ticks": ""
           },
           "bgcolor": "#E5ECF6",
           "caxis": {
            "gridcolor": "white",
            "linecolor": "white",
            "ticks": ""
           }
          },
          "title": {
           "x": 0.05
          },
          "xaxis": {
           "automargin": true,
           "gridcolor": "white",
           "linecolor": "white",
           "ticks": "",
           "title": {
            "standoff": 15
           },
           "zerolinecolor": "white",
           "zerolinewidth": 2
          },
          "yaxis": {
           "automargin": true,
           "gridcolor": "white",
           "linecolor": "white",
           "ticks": "",
           "title": {
            "standoff": 15
           },
           "zerolinecolor": "white",
           "zerolinewidth": 2
          }
         }
        },
        "xaxis": {
         "anchor": "y",
         "domain": [
          0,
          0.94
         ],
         "matches": "x2",
         "showticklabels": false
        },
        "xaxis2": {
         "anchor": "y3",
         "domain": [
          0,
          0.94
         ]
        },
        "yaxis": {
         "anchor": "x",
         "domain": [
          0.32100000000000006,
          1
         ]
        },
        "yaxis2": {
         "anchor": "x",
         "overlaying": "y",
         "side": "right"
        },
        "yaxis3": {
         "anchor": "x2",
         "domain": [
          0,
          0.29100000000000004
         ]
        },
        "yaxis4": {
         "anchor": "x2",
         "overlaying": "y3",
         "side": "right"
        }
       },
       "_py2js_addTraces": {},
       "_py2js_animate": {},
       "_py2js_deleteTraces": {},
       "_py2js_moveTraces": {},
       "_py2js_relayout": {},
       "_py2js_removeLayoutProps": {},
       "_py2js_removeTraceProps": {},
       "_py2js_restyle": {},
       "_py2js_update": {},
       "_view_count": 0
      }
     },
     "3e0396a9bfe142948af79c7f0d41fa3c": {
      "model_module": "@jupyter-widgets/base",
      "model_module_version": "1.2.0",
      "model_name": "LayoutModel",
      "state": {}
     },
     "40a296db16af4aecb9170f072c53e41f": {
      "model_module": "@jupyter-widgets/controls",
      "model_module_version": "1.5.0",
      "model_name": "HBoxModel",
      "state": {
       "children": [
        "IPY_MODEL_92affac24a5a40f98d29567e84245d18",
        "IPY_MODEL_7953d9263e134cc8a9eafa636c71dc62"
       ],
       "layout": "IPY_MODEL_ce83ffbcf1804bb0a97e82559e064cd2"
      }
     },
     "4523224de23a4f2187203372564a577f": {
      "model_module": "@jupyter-widgets/base",
      "model_module_version": "1.2.0",
      "model_name": "LayoutModel",
      "state": {}
     },
     "49086b3ab64b4dfd980837c4b152df08": {
      "model_module": "@jupyter-widgets/base",
      "model_module_version": "1.2.0",
      "model_name": "LayoutModel",
      "state": {}
     },
     "4a14ae010c9e4adfb1dedd0a9beb546d": {
      "model_module": "@jupyter-widgets/controls",
      "model_module_version": "1.5.0",
      "model_name": "VBoxModel",
      "state": {
       "_dom_classes": [
        "widget-interact"
       ],
       "children": [
        "IPY_MODEL_2f2df2339d2c4e0cb18645cca24b1624",
        "IPY_MODEL_ba241a4b35844df4bd82dc041e075535",
        "IPY_MODEL_98e0df7b08cc41ba922e236bd3d85f73"
       ],
       "layout": "IPY_MODEL_3e0396a9bfe142948af79c7f0d41fa3c"
      }
     },
     "4a2ce81121364b5587599bf4f08da9e4": {
      "model_module": "@jupyter-widgets/base",
      "model_module_version": "1.2.0",
      "model_name": "LayoutModel",
      "state": {}
     },
     "4bef9ed08e4942c7b321b1569726d3f3": {
      "model_module": "@jupyter-widgets/base",
      "model_module_version": "1.2.0",
      "model_name": "LayoutModel",
      "state": {}
     },
     "4f49a8006e0b498699203241b458e410": {
      "model_module": "@jupyter-widgets/base",
      "model_module_version": "1.2.0",
      "model_name": "LayoutModel",
      "state": {}
     },
     "52cb43ab5dd240dcacbea5a06b0295da": {
      "model_module": "@jupyter-widgets/controls",
      "model_module_version": "1.5.0",
      "model_name": "VBoxModel",
      "state": {
       "children": [
        "IPY_MODEL_40a296db16af4aecb9170f072c53e41f",
        "IPY_MODEL_829b793f64d0459e955288941dc38331"
       ],
       "layout": "IPY_MODEL_19178f5e6d3444f282c4d31aaa11197a"
      }
     },
     "594882d647e44c24bc2ddfd1b1ff8867": {
      "model_module": "@jupyter-widgets/base",
      "model_module_version": "1.2.0",
      "model_name": "LayoutModel",
      "state": {}
     },
     "5d855ce1ab8647a3a612602bd90dfc97": {
      "model_module": "@jupyter-widgets/controls",
      "model_module_version": "1.5.0",
      "model_name": "HBoxModel",
      "state": {
       "children": [
        "IPY_MODEL_fdd7b26579fe4c3f8c83a5595fe64d02",
        "IPY_MODEL_c0cb1fc1e70940ea8ba437c6c4131e99"
       ],
       "layout": "IPY_MODEL_e1c0c584a74047e68e7e08a410b59251"
      }
     },
     "5eba76a3a3054f2ab20678c66e4bf928": {
      "buffers": [
       {
        "data": "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",
        "encoding": "base64",
        "path": [
         "_data",
         0,
         "y",
         "value"
        ]
       },
       {
        "data": "AAAAAAAAAAAAAAAAAAAAAAAAAAAAAAAAAAAAAAAAAAAAAAAAAAAAAAAAAAAAAAAAAAAAAAAAAAAAAAAAAAAAAAAAAADwUATAELEGwLD+AMDAedy/oFetv4Aut74AN3U+AB8cP4C/4T/AHEJA8DCPQKihpUAYya1AYCqqQAC0nUCIpIpAEHlpQAAdTEBAK8M/AAhXPwAlJb5AnAy/wG/QvwBOHsAQZzTAYO9fwECPl8Cwb6LA4PikwNA4q8B4A6vA+HKqwMj2p8BAdKfAyECqwGjXqMC4EKnAoOKkwKBVocAInJDAyEuLwNA9jMD4I5bAmO6VwNBbh8AASHLAsJRJwAC7n78A73y+gIirPoBUJT+A8kI/QPs/P4DEDD8AaPM+AJiyPgCuJT4AoLq7gO2xvoB6+b6A3XG/QGSNvwBZpb9g/MW/wFLvvyCHHcDg8zDAAN1JwKDAW8AAu3LAQKF7wODseMCAEXHAYMBXwMALUMCA90nA4FlFwLDXPMAgWCLA0CMawLBUAcCgY9C/QM+Bv8B7SL9ABxS/gIqsvgBWbz7AOVU/YJwpQPDvWkDAjW9AIBFtQIDUWEBgJzZAoE8hQEAN4T9Azgw/ADtcPoAaC78A92u/wLSXvwAdt78gxra/AGGnv4BHfL8ALzG/AI/uvoDEsb4AnzC+AKyDPcBZAT+gaY8/QP83QLCNY0BAOX9AiKqAQABhdEDwBlBAgEkeQPC7BUCA17I/gApiP0BhAL+AKpe/gHnuvwAmLcBQDkPAIA1VwLA5WcDw8lfAYCFQwDCLT8BQ2FDAcOhWwFDEYcDAj3nAwFR+wNhQgcC4j4HAGMCAwABhesAw53XAIFdpwFB6Y8AQamDAEL9cwEDlVcDAOkbAoMs7wEAxMsAgpiLAIPgGwGDvmb/Ab0S/ACxRvYD+xz7AC60/IMjoPxDwBkCQ5RFAUPMRQMCS/T8AT/Y/oEz5PyD1B0BgWw9AQH0qQEChQEBQ0VNA0KJeQAASW0Cwv01A4NcoQBBgD0AAH+Y/ACLQPgBiub2AwP6+wJg6v8Cgj79A+qm/4J3qv3CbAMDwFQHAANXuvwDezL+gX7y/AEmMv4AEX79Ajzi/wGUnv8D+Eb+Az+W+AHDmvQAAYDkA3Ei9gM7FvgByWb+gepq/wIP8v8BSNMAwSVPAoKxvwMhdqcDIwbjAOPa+wHC8vMBAPqvAQOikwIAioMC46qHASHugwHDumsAIFpTAuHCJwICgfsAAf1/AkBw4wJCoIsDQXwXAgFabv0COTb8AIAG/AMwbPoCUDT+AHGc/oNfFP6C26z8g//8/8KsWQODNL0DgDDtAQIxBQPBPSEDgdUxAQMxZQCB3WkAQ1k1AUGA6QGDwHECAReI/AJ/LPoClJr9AOa+/oIjev4CZ2r8gMpi/gDO8vkBTxj+wTCFAEERMQBD2YkBAb3RAoEx5QCBpdkCgWXFA8ONiQNBITUCwFUpAAFxBQADIMUCglx9AMCIDQGCbpz8AYz4/gNPeviAtsL8gWOS/wC/zvwAN5r+A7bm/wM8av4C8mL4AUBg8ALYfPgC32z4AlMo+AAZVPoAu1L6AngW/wFkuv8DuOb/AEEK/gNZRv4Bsdb/A36S/oFPUv0BiLcBwzlzASGCawGh2r8BAMrTAYOivwPiCn8BI55rASMiawEALlMDYO4HAkOZdwGBYQcAgfSzA4FUbwJBEDMDAn/m/QATxv+D8078Ar7O/IMGavwA8Xr+Ax6K+AKqUvQDAr7wAcP29gB2ivgCIIb+A736/QMWcv4Di3L8AYv+/cLYFwEAq+7+Af+i/gAKiv4AjXb8ACba+ABizvQCFKD4A+k4+AMB2O4BXx77A2Ie/sLwowCCBSsCAhlHAsANJwMAqPcAggxnA0AYMwAAQ87+Am9K/oCfCv8COub/gIqW/ICegv8Ctlr8Aqo6/ILGGvwDGZL/A4ki/AMf0voAEub4AKj++AGawvQBg370AkFe+gFQIv8D5O7+Ackq/4HWcv4BYtr8A5bq/QACuv+A2mb+At22/AF/EvgCxP74AQHW7APC5PQDs9D0AmB8+AKUpPgAdWD4AuJ8+AC7APgAbyD4ARMs+gHfcPoA58T6AIAo/AL81P4DlQD9AcTY/ANAjPwDf2z6AV5I+AM8MPgDENL2Aed6+AI5av8BRoL/QARXAAIA1wHATRMAAxEjAACdHwACOOsAwGznAwHIzwJCvLsCAmj7AYAdGwAD3QsCQgTjAMKomwKCp8r9AudC/4JutvwCVl78AzHe/wBlEv4C9874AVpe+AFUoPgA9Qj/Ao4g/gPekPwDDsD8gsKA/AHFmP4DBAz8AQ6W+gEwivwALrb/AsgrAsEBVwHBvccBgkI3AKJ+WwOAHmsBI+5PAgIWHwPBtZsBwjy3AUEkZwGC5o79AwSC/AGJgPsC9QD/AM6I/IDrfP5DcFUBA7ipAEOYyQLBpLEBwER5AoBTWP8Dbsj8gUIQ/wPJkPwAyEz+ARpg+APsBvkBxSL9gvJK/gG7EvwBx4b8AvwfAgGQzwKCMT8BoYIXA+MqawIApssD4bbTAGP6hwLCajsBgqibAwBXDv0AvJ78AYAG9AF6cPsAPBj/AWS0/wO08P8AnXD9A/3A/wFyFP2BhnT8AvrE/ID7HP6BG0T9gKNY/IK3MP0BMrj9AS3M/AOLkPgBKy73AF7S/QJQCwJBiQcCA7l3AsCVuwPD9a8CwrGLAkIQ9wMDBLcAAOSbAoIsnwIBdK8BQPz7AsPg+wMBNO8AwgDDA0LcqwMBBH8AwGBzAIIUWwBCXF8DwMyLA0N4bwAC+CsAgsOK/4H2vv4DPNb8A7JW+AIBTvADS0T0ABsc+gNsLPwCdcj9ghJ0/AK2oP+BKyT8gW9o/MBkGQOAjD0Dw9RNAYFwSQLD+CECAvN8/AK3NPwCftT/A4Jg/ALR1P8D+Uj/ADQI/AIeQPgCmxj0AILe8APaNvQAoj70AmOS8AAAUOgC0JD4AyMU9AJBUvQDy7L7g1o+/AGekv8A0rb9gXca/wHzlv8CyAMBAXSXAoCcuwBCFLcBwfSLA4EsRwCCi0L8Axh+/ANRuvgDsrL0Avp++IAmbv+B2zb+gu++/4EgBwCC0/b+A4vG/YOW9v8B+qb+Atqm/IFayvyC3yb9AeOa/ACHrv8B75b9A482/4DS+v8BdwL8AndG/oAgPwAA4HMBgrx/AgF4jwED/LMAAlCfA4MAUwOBF5L/gTq2/AB95vgBPnT6ASW8/4HPePyAkB0BQ6RlAgJslQLDTJEAw6B1AMHUJQOCr/j8g+/I/wInxP5AGAUCQPx1AcAUoQPAWMEBwEDRAUFI5QLCIPUDAwkBAkN5GQOA9S0AgBVNAgExTQAAUVUBwP1pAkK1oQFCAcUCAVHZAEFxxQADRYEDAg0RAgEAuQHBMDECgV5M/wJpdPwCO9T2A9sG+IO+hv+Cy479gwgbAAMgIwGAA+L/gk8G/4MaEvwAsFj0AqJY+oFGQP8CB4D8gqg1AcOUfQLCPKkCAEixAYO0cQFAeGkAAmB5A0CEvQNAPQEDw93BAkCt9QLCKjUDgY5JA6BuTQGhzj0BYy4dAIGp3QJCGV0AAKThAAMz9P+C/vj/gVIs/AG9kP8DDfT9gS6k/oLXJP+DzGEDg0DJA8GhBQDBSQUDQXDRAAFMWQACN+j9A43o/gFfrPgBInj6AiKw+gELjPkBsAj/A3Sk/wAomPwAUCj8AsqM9gLGfvoD3J78A6ly/AC90vyCQjL8g46y/wKjHvwBR/b9gYSnAULM8wGB5PsCgsjPAwJcfwMCL27+g3pW/wIwDvwDYOr4AyI0+wEw/PwBMdj8AHH8/wPZFPwCpuz4ACNE8gFTBvgD4/75AKSu/gC1EvwD+fb9Ak4a/AGSCv4CeYr8ANTK/wIUqv0CbLr8AREO/QDdEvwD3Pb+AdC2/QAA5v0D1gr+gJZK/gCN5vwAbEL8AEB++AH/EPxDbAEBQMlVAwCOBQJi/jkAIn5NAKLyTQDjrlUBgQp1AELqdQCh4kECwJWJAwBgfQIB9wz4AL66/QNwXwJDbc8CIkJHAYMyowIAer8CAKLTAuN+2wHAms8BAfajAGAmTwKjYhsBQpHnAQCJfwEBoT8BgCT/AQEUVwCDZ17/ACKu/oCKLv4COab9AyRW/gMIJv0AIJ7/AtWq/oMy8v0Au3b+w4wPAEFUlwJD7N8BAjXbAOHSEwJA/jMBwl43AKIKMwIAyi8Bgj4fAcJxzwHBdXsDQyE3AAOI2wNB4D8Dgs5i/AGkLvwCcAD2Ah+s+wJc7P0B/Vz9APXk/YDGbPyAumz8AcXM/AFRTPgAO076AGby/AGxYwEi/hsA4dpnAoNGiwHC6pMD47p3AMEeTwBB0fsCQnWzAMPVmwPAgbMBwjYHAsJ6FwGi/h8BICovA+LuMwODGi8AQSoPAgIZwwDDnKMDwUw7A8FQCwADJ/7+wXgPAUEkNwNDPEcAwAwzAYLXXv0A1s78AmzG/gNHfvgDbAj6AfRE/QDiYP9CyJkBgW05AEKRrQBDje0DY5oRAaOSFQGDQhkBIMIVAOPKGQAg9iUBQ5ZZAeOSaQBiEmEAgFpBAcKSFQCAqZEBwDz5AYAQgQIAKQT8AlBE+gODJvgCsb7+ACpu/oAOqv2BOr7/Aw6q/QGqqv+Bdqr9AtKi/APyuvyATub/ABM+/4Bbxv5C6AcDga/u/4KDRv2BAgL8AKd6+gF+QPnB5DUCACz9AgLhpQFAYdkDQhmZAwHQ5QPBXBUAgaaI/AB0OPmDx3b/gNCzAYFlbwIBvecAwG4TASEyHwNi4jMCY3ZfAmCa/wGi8zcDYkdzAcPHfwDjO4cAYfebAmK7mwEjY5MAg+tzAsCPKwKCpu8Bg2J3AQAqJwECVeMAgF27A0PpRwBDzNcCA0xLAYK/jv+Drgb8AFhg/QF+xP4BVA0CQBiNAYIcuQEDNJUDQ6xdA4IvUP4Byjz+AP6I+AKUIv8Cja79A/12/gMvxvgDAKrwAF74/kHIRQPBrLkDQ2VpAkNhvQNghjECYU5RAoI+VQGCrkUDIrIRAcFx1QOAwU0DwnjFA4CnAPwACTj8AJBk+AKxKvyCO/b/wtmzA8G2LwGChlMAgS4zA8DpswFC8NsAAjC++QDd+P0DG+j9whytA0LtPQADDeUDImYRAUKSHQCg+iUAoBohAMHmEQFB7fEDwQ2JAAE1LQCCEN0CA9O4/QI7OPwBQXj8AIME7QEAPv4CBW7/AqHq/AExZv0DeMr8AnnS+AEhTPQASUj6ARaA+AMNGPgAslL4AHjO/wJfdv3C4IsBwvWvAUBWDwKhEisC4+orA6KKHwA==",
        "encoding": "base64",
        "path": [
         "_data",
         1,
         "y",
         "value"
        ]
       },
       {
        "data": "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",
        "encoding": "base64",
        "path": [
         "_data",
         2,
         "y",
         "value"
        ]
       },
       {
        "data": "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",
        "encoding": "base64",
        "path": [
         "_data",
         3,
         "y",
         "value"
        ]
       },
       {
        "data": "AAAAAIAUDEA=",
        "encoding": "base64",
        "path": [
         "_data",
         4,
         "y",
         "value"
        ]
       },
       {
        "data": "AAAAQLORpEA=",
        "encoding": "base64",
        "path": [
         "_data",
         5,
         "y",
         "value"
        ]
       },
       {
        "data": "AAAAYLiYpEA=",
        "encoding": "base64",
        "path": [
         "_data",
         6,
         "y",
         "value"
        ]
       }
      ],
      "model_module": "jupyterlab-plotly",
      "model_module_version": "^5.6.0",
      "model_name": "FigureModel",
      "state": {
       "_config": {
        "plotlyServerURL": "https://plot.ly"
       },
       "_data": [
        {
         "line": {
          "color": "gray"
         },
         "name": "<b style=\"color:sandybrown\">[R]</b> Tick <i style=\"color:#fc9944\">~602</i>",
         "opacity": 0.3,
         "type": "scattergl",
         "uid": "27bf7d0c-8e16-4ec0-8b22-51a405827128",
         "x": [
          0,
          158,
          922,
          1209,
          1899,
          2760,
          3157,
          3702,
          4617,
          5181,
          5663,
          6543,
          6891,
          7301,
          8033,
          8677,
          9512,
          10123,
          10516,
          11207,
          11614,
          12044,
          12833,
          13557,
          14167,
          14748,
          15173,
          16210,
          16743,
          17324,
          17838,
          18065,
          19189,
          19608,
          19968,
          20685,
          21435,
          22186,
          22637,
          23256,
          23676,
          24385,
          24738,
          25540,
          26277,
          26835,
          27400,
          27814,
          28344,
          28904,
          29720,
          30405,
          31306,
          31575,
          32442,
          32710,
          33407,
          34050,
          34333,
          35235,
          35742,
          36680,
          36810,
          37936,
          38078,
          38913,
          39250,
          40046,
          40346,
          41273,
          42088,
          42498,
          43020,
          43356,
          44406,
          45047,
          45169,
          46147,
          46869,
          47166,
          48122,
          48744,
          49264,
          49909,
          50237,
          50656,
          51698,
          52317,
          52925,
          53512,
          53907,
          54265,
          55399,
          55495,
          56247,
          56604,
          57299,
          57809,
          58912,
          59105,
          60027,
          60817,
          61274,
          61994,
          62625,
          63104,
          63273,
          63995,
          64890,
          65636,
          66183,
          66767,
          67049,
          68038,
          68477,
          68808,
          69343,
          70433,
          70935,
          71424,
          71813,
          72662,
          72889,
          73564,
          74326,
          74858,
          75444,
          75981,
          76847,
          77676,
          78166,
          78452,
          79312,
          79804,
          80631,
          80907,
          81695,
          81932,
          82558,
          83227,
          83923,
          84816,
          85297,
          85788,
          86680,
          87029,
          87441,
          88515,
          88784,
          89456,
          90240,
          90339,
          91317,
          91603,
          92161,
          93201,
          93795,
          94364,
          94771,
          95526,
          96005,
          96762,
          97146,
          97807,
          98224,
          99242,
          99472,
          100186,
          100562,
          101377,
          102347,
          102501,
          103466,
          103859,
          104302,
          104828,
          105793,
          106443,
          107040,
          107249,
          108361,
          108693,
          109333,
          109595,
          110428,
          110980,
          111654,
          112181,
          113089,
          113616,
          113938,
          114412,
          115045,
          115655,
          116228,
          117362,
          117599,
          118330,
          119187,
          119258,
          120293,
          120441,
          121528,
          121893,
          122264,
          123237,
          123629,
          124484,
          124773,
          125852,
          126283,
          126801,
          127240,
          128024,
          128262,
          128944,
          129498,
          130670,
          131044,
          131480,
          132458,
          132505,
          133079,
          134116,
          134792,
          135162,
          136040,
          136344,
          136698,
          137513,
          138152,
          138748,
          139114,
          139986,
          140555,
          141104,
          141541,
          142247,
          142837,
          143913,
          144107,
          145082,
          145631,
          146067,
          146336,
          147524,
          147996,
          148271,
          148951,
          149382,
          150382,
          151125,
          151508,
          152078,
          152937,
          153307,
          153685,
          154753,
          155247,
          155481,
          156012,
          156715,
          157433,
          158055,
          158705,
          159249,
          160011,
          160278,
          161017,
          161645,
          162314,
          163039,
          163435,
          163888,
          164728,
          165074,
          165836,
          166589,
          166802,
          167888,
          168328,
          168920,
          169360,
          170032,
          170864,
          171396,
          171772,
          172224,
          172985,
          173647,
          174625,
          174983,
          175827,
          176410,
          176441,
          177434,
          177836,
          178242,
          179162,
          180043,
          180557,
          181059,
          181288,
          181985,
          182576,
          183062,
          183862,
          184813,
          185233,
          185834,
          186452,
          187109,
          187646,
          188026,
          188893,
          189317,
          189804,
          190306,
          191423,
          192016,
          192563,
          193181,
          193365,
          194392,
          195037,
          195543,
          196151,
          196396,
          196934,
          197657,
          198432,
          198875,
          199875,
          200375,
          201013,
          201372,
          201758,
          202709,
          203267,
          203830,
          204333,
          204783,
          205803,
          206109,
          206649,
          207337,
          208344,
          208922,
          209369,
          209623,
          210709,
          211339,
          211486,
          211963,
          212780,
          213279,
          214145,
          214764,
          215458,
          216085,
          216241,
          216903,
          217760,
          218586,
          219115,
          219279,
          220255,
          220393,
          221168,
          222169,
          222282,
          223014,
          223649,
          224540,
          224951,
          225404,
          225945,
          226424,
          227031,
          228132,
          228365,
          229336,
          229488,
          230243,
          231152,
          231709,
          231966,
          232889,
          233503,
          233701,
          234811,
          235031,
          235962,
          236306,
          237069,
          237855,
          238190,
          238609,
          239095,
          239957,
          240502,
          241325,
          241660,
          242333,
          242959,
          243506,
          244479,
          244924,
          245626,
          245955,
          246738,
          247144,
          248035,
          248387,
          249072,
          249892,
          250117,
          250623,
          251295,
          251773,
          252408,
          253166,
          253824,
          254306,
          255019,
          255672,
          255977,
          257008,
          257477,
          258071,
          258909,
          259241,
          260034,
          260627,
          260855,
          261909,
          261971,
          262546,
          263446,
          263749,
          264894,
          265452,
          265603,
          266380,
          267314,
          267673,
          268164,
          268734,
          269558,
          270118,
          270961,
          271487,
          271610,
          272221,
          273326,
          273717,
          274458,
          275040,
          275265,
          275945,
          276912,
          277564,
          278121,
          278612,
          279189,
          279595,
          280399,
          280610,
          281810,
          282085,
          282417,
          283078,
          283621,
          284783,
          285398,
          285624,
          286625,
          287232,
          287420,
          287916,
          288740,
          289051,
          290098,
          290435,
          291179,
          291624,
          292165,
          293053,
          293485,
          294175,
          294561,
          295129,
          296014,
          296658,
          297046,
          297840,
          298549,
          299185,
          299462,
          300481,
          301031,
          301368,
          301718,
          302359,
          303235,
          303992,
          304134,
          305212,
          305618,
          306207,
          306729,
          307524,
          308286,
          308881,
          309386,
          309864,
          310339,
          311102,
          311830,
          312195,
          312732,
          313715,
          313910,
          314581,
          315090,
          315745,
          316147,
          316832,
          317572,
          318052,
          318912,
          319570,
          319788,
          320800,
          321036,
          322127,
          322314,
          322836,
          323493,
          324508,
          324823,
          325660,
          326342,
          326739,
          327094,
          327599,
          328181,
          329073,
          329783,
          330261,
          330776,
          331194,
          332204,
          332884,
          333224,
          333687,
          334556,
          335179,
          335419,
          336238,
          336937,
          337341,
          338074,
          338793,
          339152,
          339716,
          340741,
          341206,
          341748,
          342570,
          343048,
          343541,
          344156,
          344782,
          345559,
          345900,
          346714,
          347380,
          347495,
          348175,
          348663,
          349856,
          349936,
          350980,
          351377,
          351781,
          352406,
          353448,
          353829,
          354455,
          355157,
          355666,
          356118,
          356520,
          357375,
          358270,
          358450,
          359414,
          359916,
          360691,
          361286,
          361572,
          361920,
          362658,
          363409,
          364250,
          364494,
          364986,
          366116,
          366530,
          366960,
          367681,
          368014,
          368733,
          369262,
          369780,
          370909,
          371118,
          371749,
          372165,
          372804,
          373710,
          373946,
          374851,
          375215,
          376035,
          376374,
          377169,
          377559,
          378161,
          378966,
          379807,
          380412,
          380642,
          381549,
          382307,
          382533,
          383011,
          383920,
          384355,
          384785,
          385588,
          386219,
          386721,
          387578,
          387797,
          388633,
          389183,
          389746,
          390658,
          391078,
          391806,
          392602,
          392809,
          393269,
          393899,
          394613,
          395556,
          396130,
          396580,
          397001,
          397658,
          398032,
          399005,
          399677,
          400058,
          400511,
          401511,
          401645,
          402568,
          403312,
          403872,
          404196,
          405003,
          405312,
          405912,
          406925,
          407581,
          408054,
          408708,
          409108,
          409526,
          410076,
          410714,
          411663,
          411944,
          413033,
          413648,
          414217,
          414305,
          415175,
          416028,
          416378,
          417098,
          417351,
          418041,
          419066,
          419313,
          419797,
          420319,
          421516,
          421688,
          422390,
          422894,
          423395,
          423989,
          425085,
          425210,
          425976,
          426770,
          427095,
          427714,
          428630,
          429017,
          429364,
          430053,
          430616,
          431561,
          432354,
          432556,
          432964,
          433653,
          434467,
          435263,
          435483,
          436522,
          436571,
          437405,
          437776,
          438907,
          439465,
          439916,
          440288,
          440876,
          441746,
          442149,
          442593,
          443655,
          443797,
          444901,
          445573,
          446169,
          446464,
          446831,
          447822,
          448022,
          448790,
          449268,
          449819,
          450929,
          451122,
          452126,
          452422,
          453237,
          453781,
          454118,
          455032,
          455525,
          455842,
          456706,
          457293,
          458248,
          458542,
          458883,
          459573,
          460166,
          460678,
          461861,
          462152,
          462779,
          463487,
          463669,
          464343,
          465459,
          465965,
          466141,
          467103,
          467399,
          468233,
          468881,
          469099,
          470077,
          470538,
          471488,
          471973,
          472114,
          473167,
          473387,
          474046,
          474530,
          475115,
          475993,
          476382,
          477292,
          477786,
          478686,
          478846,
          479573,
          480086,
          480571,
          481142,
          482315,
          482698,
          482972,
          484022,
          484537,
          485056,
          485547,
          486121,
          486700,
          487671,
          487755,
          488673,
          489464,
          489683,
          490746,
          491231,
          491536,
          492012,
          493142,
          493675,
          494149,
          494643,
          495581,
          495871,
          496765,
          496895,
          497520,
          498513,
          498762,
          499677,
          500288,
          500478,
          501122,
          502112,
          502344,
          503277,
          503718,
          504014,
          504628,
          505315,
          505823,
          506698,
          507136,
          508228,
          508506,
          509011,
          509823,
          510483,
          510987,
          511610,
          511905,
          512540,
          513046,
          514211,
          514265,
          514861,
          515458,
          516158,
          516870,
          517510,
          517945,
          518745,
          519172,
          519733,
          520490,
          520935,
          522078,
          522319,
          522802,
          523378,
          524088,
          524487,
          525154,
          526238,
          526557,
          527075,
          527775,
          528100,
          528705,
          529460,
          530068,
          530916,
          531428,
          531881,
          532336,
          533048,
          533643,
          534451,
          534852,
          535721,
          536272,
          536539,
          537639,
          538106,
          538711,
          538941,
          539590,
          540188,
          541233,
          541890,
          542372,
          542918,
          543486,
          544045,
          544431,
          545049,
          545761,
          546640,
          547147,
          547704,
          548303,
          548616,
          549471,
          549849,
          550728,
          551540,
          551905,
          552244,
          553266,
          553688,
          554295,
          554628,
          555407,
          555800,
          556441,
          557358,
          557664,
          558610,
          558999,
          559649,
          560215,
          561215,
          561807,
          562124,
          563012,
          563579,
          563922,
          564416,
          565272,
          565589,
          566206,
          567016,
          567523,
          568315,
          568446,
          569048,
          570040,
          570252,
          571340,
          572031,
          572660,
          572839,
          573553,
          573949,
          575020,
          575613,
          576156,
          576408,
          577303,
          577478,
          578639,
          578945,
          579866,
          579923,
          580489,
          581692,
          581828,
          582295,
          582958,
          583543,
          584102,
          584860,
          585308,
          586482,
          586523,
          587249,
          588178,
          588325,
          589163,
          589670,
          590720,
          590730,
          591373,
          591934,
          592998,
          593254,
          594338,
          594932,
          595177,
          595695,
          596145,
          596747,
          597789,
          598214,
          598699,
          599452,
          599758,
          600360,
          600963
         ],
         "xaxis": "x2",
         "y": {
          "dtype": "float32",
          "shape": [
           1000
          ],
          "value": {}
         }
        },
        {
         "line": {
          "color": "orange"
         },
         "name": "<b style=\"color:sandybrown\">[R]</b> OSC <i style=\"color:#fc9944\">~602</i>",
         "opacity": 0.5,
         "type": "scattergl",
         "uid": "4de1178b-f83b-4a27-a28a-cbb1e0cd7b08",
         "x": [
          0,
          1,
          603,
          1205,
          1807,
          2409,
          3011,
          3613,
          4216,
          4818,
          5420,
          6022,
          6624,
          7226,
          7829,
          8431,
          9634,
          9999,
          10720,
          11254,
          11773,
          12200,
          13163,
          13632,
          13871,
          14550,
          15356,
          16258,
          16748,
          17227,
          17726,
          18325,
          18982,
          19568,
          19889,
          20966,
          21438,
          22260,
          22552,
          23310,
          24086,
          24373,
          24853,
          25797,
          26229,
          26496,
          27416,
          28240,
          28546,
          29358,
          30064,
          30704,
          31282,
          31667,
          32516,
          32858,
          33654,
          34164,
          34605,
          35469,
          35870,
          36732,
          37138,
          37501,
          38425,
          38992,
          39495,
          40017,
          40582,
          41150,
          42100,
          42656,
          43166,
          43770,
          44272,
          45162,
          45434,
          46149,
          46544,
          47281,
          47834,
          48390,
          49296,
          49896,
          50581,
          51011,
          51748,
          52248,
          52722,
          53079,
          53933,
          54402,
          55399,
          55853,
          56266,
          57138,
          57356,
          57920,
          58541,
          59432,
          59890,
          60776,
          61274,
          61811,
          62179,
          63093,
          63634,
          64150,
          64655,
          65306,
          66036,
          66368,
          67046,
          68000,
          68306,
          69113,
          69620,
          70138,
          70820,
          71358,
          71803,
          72561,
          73380,
          74005,
          74404,
          75192,
          75766,
          76223,
          76644,
          77679,
          78141,
          78726,
          79215,
          79605,
          80311,
          81292,
          81740,
          82312,
          82658,
          83492,
          83968,
          84546,
          85347,
          85818,
          86504,
          86963,
          87380,
          88364,
          88581,
          89489,
          90013,
          90502,
          91466,
          91787,
          92733,
          93281,
          93705,
          94377,
          94946,
          95738,
          96179,
          96948,
          97389,
          97957,
          98730,
          99357,
          99829,
          100216,
          100713,
          101621,
          102074,
          102829,
          103227,
          103986,
          104491,
          105062,
          105725,
          106268,
          107145,
          107597,
          107965,
          108967,
          109334,
          110049,
          110692,
          111303,
          111837,
          112325,
          112742,
          113624,
          114051,
          114412,
          115491,
          115955,
          116492,
          116930,
          117922,
          118331,
          119136,
          119641,
          120086,
          120764,
          121637,
          121978,
          122664,
          123206,
          123877,
          124648,
          125183,
          125567,
          126295,
          126908,
          127376,
          128042,
          128680,
          129066,
          129758,
          130670,
          131153,
          131497,
          132476,
          132893,
          133396,
          133981,
          134821,
          135286,
          135933,
          136637,
          137113,
          137655,
          138097,
          138616,
          139150,
          139895,
          140847,
          141313,
          141853,
          142713,
          143151,
          143531,
          144448,
          144966,
          145379,
          146073,
          146558,
          146929,
          147826,
          148574,
          149032,
          149513,
          150404,
          150739,
          151563,
          152136,
          152837,
          153277,
          153709,
          154241,
          155275,
          155961,
          156483,
          156965,
          157533,
          158092,
          158567,
          159433,
          159970,
          160496,
          160990,
          161672,
          162250,
          162915,
          163188,
          163790,
          164919,
          165126,
          165873,
          166691,
          167191,
          167698,
          168336,
          168746,
          169505,
          170247,
          170766,
          171333,
          171895,
          172467,
          173423,
          173836,
          174419,
          174788,
          175654,
          176165,
          176570,
          177577,
          177858,
          178843,
          179210,
          179761,
          180542,
          181045,
          181630,
          182076,
          182968,
          183455,
          184217,
          184728,
          185155,
          185577,
          186534,
          186992,
          187628,
          188058,
          188832,
          189503,
          190089,
          190641,
          191263,
          192072,
          192672,
          192874,
          193661,
          194272,
          194645,
          195198,
          196143,
          196722,
          197223,
          197757,
          198328,
          199037,
          199919,
          200380,
          201123,
          201591,
          202106,
          202647,
          202931,
          203808,
          204409,
          205273,
          205771,
          206415,
          206905,
          207477,
          208129,
          208809,
          209459,
          209877,
          210381,
          210999,
          211421,
          212399,
          212827,
          213538,
          214229,
          214694,
          215073,
          216137,
          216448,
          217227,
          217846,
          218267,
          219105,
          219487,
          220357,
          220738,
          221432,
          222085,
          222583,
          222971,
          223705,
          224512,
          224664,
          225655,
          226264,
          226767,
          227334,
          227814,
          228431,
          229425,
          229843,
          230406,
          230935,
          231253,
          232031,
          232895,
          233381,
          233994,
          234617,
          234957,
          235930,
          236630,
          237126,
          237579,
          238301,
          238859,
          239381,
          239748,
          240477,
          241352,
          241990,
          242455,
          243104,
          243623,
          243996,
          244885,
          245463,
          245970,
          246680,
          247014,
          248007,
          248167,
          249065,
          249807,
          250423,
          250944,
          251473,
          251887,
          252382,
          253512,
          253963,
          254553,
          255008,
          255740,
          256297,
          256924,
          257259,
          258039,
          258931,
          259429,
          259958,
          260569,
          261085,
          261683,
          262133,
          262908,
          263171,
          263749,
          264423,
          265362,
          265820,
          266715,
          267228,
          267745,
          268312,
          268838,
          269446,
          270158,
          270434,
          271459,
          272018,
          272728,
          273217,
          273756,
          274301,
          275048,
          275611,
          276173,
          276720,
          277116,
          278126,
          278527,
          279155,
          279478,
          280369,
          280890,
          281457,
          282201,
          282749,
          283588,
          283968,
          284486,
          285384,
          285843,
          286604,
          287179,
          287684,
          288237,
          288729,
          289040,
          289895,
          290520,
          291163,
          291767,
          292277,
          292814,
          293446,
          293858,
          294877,
          295337,
          295784,
          296550,
          297136,
          297848,
          298417,
          299111,
          299654,
          300232,
          300860,
          301392,
          301806,
          302705,
          303194,
          304093,
          304581,
          305120,
          305570,
          305902,
          306964,
          307506,
          308089,
          308688,
          308958,
          309763,
          310222,
          310718,
          311674,
          312255,
          312999,
          313317,
          314276,
          314569,
          315220,
          315642,
          316268,
          316884,
          317431,
          318268,
          318886,
          319437,
          319751,
          320613,
          320999,
          321889,
          322761,
          323008,
          323667,
          324035,
          325169,
          325664,
          326212,
          326737,
          327215,
          328110,
          328509,
          329153,
          329828,
          330484,
          330816,
          331458,
          332011,
          332649,
          333320,
          333858,
          334602,
          335406,
          335624,
          336437,
          336908,
          337214,
          337945,
          339008,
          339361,
          339622,
          340536,
          341190,
          341589,
          342442,
          342884,
          343666,
          344163,
          344539,
          345294,
          346228,
          346727,
          347316,
          347792,
          348624,
          349097,
          349595,
          350248,
          350790,
          351065,
          351958,
          352550,
          353118,
          353512,
          354209,
          355243,
          355705,
          356044,
          356811,
          357577,
          358186,
          358577,
          359493,
          359903,
          360159,
          360718,
          361693,
          362324,
          362795,
          363350,
          363709,
          364579,
          365080,
          365720,
          366587,
          367101,
          367681,
          368359,
          368793,
          369128,
          370019,
          370651,
          371445,
          372078,
          372557,
          373343,
          373723,
          374256,
          374788,
          375310,
          376023,
          376371,
          377143,
          377609,
          378644,
          379364,
          379794,
          380157,
          380836,
          381455,
          382210,
          382694,
          383352,
          384074,
          384504,
          385037,
          385988,
          386241,
          386843,
          387324,
          388245,
          388857,
          389426,
          389890,
          390373,
          391119,
          391644,
          392573,
          392827,
          393792,
          394418,
          394915,
          395385,
          395922,
          396559,
          397429,
          397794,
          398367,
          399017,
          399370,
          400125,
          400441,
          401644,
          402118,
          402635,
          403213,
          403758,
          404344,
          404974,
          405498,
          406390,
          406952,
          407538,
          408082,
          408608,
          409152,
          409474,
          410406,
          411018,
          411685,
          412208,
          412775,
          413474,
          413857,
          414608,
          415209,
          415723,
          416097,
          416700,
          417302,
          418241,
          418928,
          419388,
          420268,
          420914,
          421516,
          421943,
          422259,
          422991,
          423653,
          424006,
          424589,
          425444,
          426062,
          426664,
          427193,
          427683,
          428649,
          429253,
          429946,
          430325,
          430930,
          431731,
          432276,
          432691,
          433256,
          433926,
          434534,
          435366,
          435698,
          436563,
          436954,
          437648,
          438180,
          438633,
          439294,
          440013,
          440438,
          440786,
          441863,
          442245,
          442721,
          443780,
          444212,
          445000,
          445491,
          445963,
          446491,
          446808,
          448005,
          448320,
          449133,
          449667,
          450172,
          450655,
          451371,
          452122,
          452813,
          453329,
          453811,
          454357,
          454807,
          455616,
          456319,
          456784,
          457566,
          458038,
          458629,
          459014,
          459881,
          460554,
          460974,
          461519,
          462382,
          462921,
          463429,
          464270,
          464705,
          465074,
          465913,
          466676,
          467146,
          467603,
          468021,
          468953,
          469458,
          469929,
          470498,
          471463,
          472004,
          472514,
          473169,
          473460,
          474348,
          474758,
          475483,
          475889,
          476915,
          477486,
          477927,
          478677,
          479324,
          479862,
          480296,
          480830,
          481638,
          482185,
          482738,
          483310,
          483861,
          484213,
          484860,
          485879,
          486352,
          486865,
          487684,
          488115,
          488671,
          489549,
          490008,
          490524,
          491072,
          491622,
          492230,
          492851,
          493667,
          494331,
          494766,
          495506,
          496185,
          496539,
          496905,
          497810,
          498593,
          499096,
          499575,
          499913,
          500822,
          501324,
          501852,
          502570,
          503188,
          503776,
          504410,
          504747,
          505712,
          506116,
          506896,
          507229,
          508086,
          508598,
          509083,
          510034,
          510506,
          511042,
          511505,
          512443,
          512690,
          513416,
          514250,
          514670,
          514869,
          515769,
          516314,
          516884,
          517640,
          518164,
          518809,
          519332,
          519670,
          520873,
          521333,
          521822,
          522429,
          522979,
          523499,
          524222,
          525007,
          525158,
          526056,
          526666,
          527295,
          527732,
          528359,
          529178,
          529798,
          530276,
          530801,
          531492,
          531903,
          532316,
          533411,
          533926,
          534577,
          535097,
          535608,
          536277,
          536824,
          537267,
          537826,
          538735,
          539302,
          539904,
          540485,
          541017,
          541910,
          542408,
          542819,
          543756,
          544146,
          544828,
          545145,
          545800,
          546550,
          547369,
          547837,
          548290,
          548915,
          549331,
          550123,
          550789,
          551315,
          551601,
          552499,
          553219,
          553899,
          554372,
          554878,
          555793,
          556296,
          556824,
          557413,
          557959,
          558483,
          558820,
          559722,
          560315,
          561095,
          561821,
          562283,
          562769,
          563250,
          563628,
          564832,
          565434,
          565808,
          566556,
          566952,
          567842,
          568325,
          568792,
          569270,
          570149,
          570640,
          571227,
          571686,
          572660,
          573151,
          573543,
          574024,
          574655,
          575596,
          576111,
          576663,
          577331,
          577816,
          578192,
          579212,
          579714,
          580243,
          580785,
          581354,
          582291,
          582769,
          583158,
          584101,
          584638,
          585188,
          585676,
          586354,
          586806,
          587113,
          588046,
          588326,
          589266,
          590123,
          590725,
          591189,
          591694,
          592232,
          592539,
          593260,
          593924,
          594580,
          595350,
          595795,
          596397,
          596747,
          597550,
          598232,
          599051,
          599496,
          600092,
          600489,
          600963
         ],
         "xaxis": "x2",
         "y": {
          "dtype": "float32",
          "shape": [
           1000
          ],
          "value": {}
         },
         "yaxis": "y3"
        },
        {
         "line": {
          "color": "green"
         },
         "name": "<b style=\"color:sandybrown\">[R]</b> maOSC <i style=\"color:#fc9944\">~602</i>",
         "opacity": 0.5,
         "type": "scattergl",
         "uid": "cea62684-5d4e-4511-902f-b32fb79f8eeb",
         "x": [
          0,
          1,
          603,
          1205,
          1807,
          2409,
          3011,
          3613,
          4216,
          4818,
          5420,
          6022,
          6624,
          7226,
          7829,
          8431,
          9634,
          10236,
          10747,
          11278,
          11825,
          12378,
          12923,
          13399,
          14362,
          14926,
          15490,
          16063,
          16644,
          17226,
          17809,
          18392,
          18974,
          19550,
          20108,
          20595,
          21586,
          22144,
          22708,
          23282,
          23862,
          24450,
          25042,
          25637,
          26232,
          26825,
          27418,
          28011,
          28605,
          29198,
          29790,
          30381,
          30968,
          31543,
          32084,
          32517,
          33480,
          34112,
          34704,
          35290,
          35880,
          36480,
          37084,
          37696,
          38305,
          38906,
          39501,
          40092,
          40683,
          41274,
          41867,
          42458,
          43052,
          43645,
          44235,
          44819,
          45387,
          45894,
          46908,
          47440,
          47996,
          48573,
          49159,
          49746,
          50338,
          50932,
          51526,
          52121,
          52715,
          53305,
          53894,
          54484,
          55071,
          55659,
          56232,
          56752,
          57795,
          58318,
          58862,
          59426,
          59999,
          60582,
          61173,
          61772,
          62379,
          62988,
          63589,
          64181,
          64769,
          65355,
          65940,
          66517,
          67077,
          67570,
          68576,
          69123,
          69679,
          70247,
          70825,
          71408,
          71994,
          72582,
          73171,
          73761,
          74352,
          74942,
          75527,
          76081,
          76476,
          77457,
          78084,
          78673,
          79253,
          79831,
          80409,
          80985,
          81554,
          82086,
          82497,
          83448,
          84086,
          84686,
          85278,
          85867,
          86456,
          87046,
          87637,
          88229,
          88822,
          89415,
          90011,
          90610,
          91211,
          91810,
          92402,
          92987,
          93552,
          94021,
          95004,
          95594,
          96167,
          96741,
          97324,
          97915,
          98508,
          99102,
          99701,
          100302,
          100908,
          101515,
          102118,
          102717,
          103316,
          103918,
          104516,
          105113,
          105707,
          106300,
          106890,
          107480,
          108071,
          108667,
          109262,
          109865,
          110474,
          111084,
          111686,
          112264,
          112769,
          113755,
          114307,
          114867,
          115437,
          116015,
          116597,
          117183,
          117771,
          118364,
          118960,
          119556,
          120152,
          120745,
          121338,
          121927,
          122513,
          123092,
          123657,
          124180,
          125250,
          125766,
          126309,
          126869,
          127437,
          128007,
          128576,
          129132,
          129627,
          130624,
          131163,
          131721,
          132293,
          132871,
          133450,
          134029,
          134607,
          135187,
          135769,
          136349,
          136922,
          137442,
          138498,
          139005,
          139553,
          140121,
          140697,
          141283,
          141872,
          142468,
          143066,
          143661,
          144259,
          144858,
          145454,
          146055,
          146654,
          147249,
          147847,
          148444,
          149042,
          149639,
          150234,
          150831,
          151426,
          152013,
          152585,
          153083,
          154064,
          154630,
          155195,
          155770,
          156352,
          156936,
          157520,
          158103,
          158683,
          159256,
          159814,
          160330,
          161380,
          161885,
          162419,
          162974,
          163538,
          164111,
          164687,
          165262,
          165832,
          166340,
          167358,
          167901,
          168463,
          169034,
          169612,
          170195,
          170782,
          171369,
          171955,
          172540,
          173122,
          173702,
          174277,
          174836,
          175317,
          176309,
          176856,
          177406,
          177969,
          178555,
          179141,
          179745,
          180355,
          180949,
          181484,
          182456,
          182988,
          183539,
          184104,
          184675,
          185247,
          185820,
          186396,
          186975,
          187557,
          188127,
          188648,
          189682,
          190196,
          190734,
          191295,
          191873,
          192456,
          193044,
          193637,
          194235,
          194835,
          195435,
          196033,
          196634,
          197229,
          197822,
          198413,
          199003,
          199583,
          200156,
          200668,
          201725,
          202231,
          202767,
          203308,
          203872,
          204429,
          204967,
          205392,
          206355,
          206947,
          207505,
          208047,
          208490,
          209427,
          210006,
          210568,
          211135,
          211710,
          212288,
          212867,
          213448,
          214023,
          214581,
          215074,
          216089,
          216641,
          217204,
          217769,
          218349,
          218937,
          219532,
          220136,
          220737,
          221337,
          221931,
          222526,
          223113,
          223688,
          224258,
          224767,
          225798,
          226315,
          226849,
          227408,
          227969,
          228529,
          229086,
          229566,
          230560,
          231099,
          231650,
          232214,
          232788,
          233375,
          233966,
          234561,
          235158,
          235748,
          236341,
          236937,
          237536,
          238155,
          238764,
          239336,
          239829,
          240785,
          241340,
          241905,
          242485,
          243075,
          243670,
          244268,
          244864,
          245456,
          246044,
          246632,
          247220,
          247808,
          248397,
          248988,
          249577,
          250172,
          250771,
          251359,
          251906,
          252308,
          253276,
          253911,
          254504,
          255093,
          255683,
          256274,
          256869,
          257467,
          258068,
          258669,
          259269,
          259867,
          260464,
          261055,
          261640,
          262216,
          262768,
          263209,
          264178,
          264779,
          265361,
          265943,
          266527,
          267115,
          267704,
          268292,
          268877,
          269458,
          270028,
          270564,
          270975,
          271939,
          272570,
          273168,
          273758,
          274348,
          274940,
          275532,
          276124,
          276715,
          277303,
          277887,
          278467,
          279035,
          279567,
          280008,
          280954,
          281596,
          282201,
          282793,
          283383,
          283975,
          284570,
          285167,
          285767,
          286369,
          286971,
          287573,
          288168,
          288754,
          289328,
          289883,
          290369,
          291360,
          291914,
          292473,
          293041,
          293620,
          294204,
          294793,
          295385,
          295980,
          296578,
          297177,
          297776,
          298375,
          298970,
          299565,
          300149,
          300709,
          301160,
          302136,
          302731,
          303309,
          303888,
          304471,
          305057,
          305642,
          306228,
          306814,
          307401,
          307990,
          308581,
          309178,
          309777,
          310371,
          310943,
          311464,
          312524,
          313042,
          313577,
          314140,
          314712,
          315289,
          315887,
          316491,
          317100,
          317703,
          318303,
          318899,
          319497,
          320092,
          320685,
          321283,
          321884,
          322484,
          323083,
          323682,
          324280,
          324881,
          325481,
          326076,
          326669,
          327248,
          327809,
          328294,
          329281,
          329847,
          330413,
          330989,
          331573,
          332161,
          332751,
          333343,
          333936,
          334529,
          335123,
          335717,
          336312,
          336912,
          337521,
          338133,
          338746,
          339354,
          339955,
          340554,
          341154,
          341759,
          342363,
          342962,
          343555,
          344141,
          344711,
          345241,
          345644,
          346588,
          347221,
          347811,
          348386,
          348960,
          349533,
          350109,
          350692,
          351320,
          351977,
          352609,
          353208,
          353801,
          354391,
          354975,
          355559,
          356164,
          356821,
          357442,
          358049,
          358627,
          359151,
          360095,
          360614,
          361153,
          361709,
          362267,
          362814,
          363255,
          364181,
          364770,
          365340,
          365918,
          366499,
          367084,
          367674,
          368263,
          368854,
          369440,
          370028,
          370615,
          371199,
          371778,
          372349,
          372919,
          373517,
          374097,
          374548,
          375533,
          376161,
          376757,
          377338,
          377926,
          378517,
          379116,
          379720,
          380315,
          380906,
          381495,
          382095,
          382709,
          383333,
          383952,
          384569,
          385172,
          385767,
          386363,
          386959,
          387554,
          388148,
          388742,
          389338,
          389931,
          390519,
          391105,
          391690,
          392254,
          392776,
          393816,
          394334,
          394876,
          395435,
          396005,
          396583,
          397166,
          397754,
          398347,
          398947,
          399554,
          400164,
          400768,
          401369,
          401968,
          402563,
          403154,
          403738,
          404310,
          404848,
          405258,
          406208,
          406845,
          407449,
          408037,
          408624,
          409206,
          409789,
          410366,
          410940,
          411503,
          412042,
          412590,
          413400,
          414113,
          414733,
          415311,
          415885,
          416463,
          417043,
          417622,
          418210,
          418794,
          419402,
          420016,
          420639,
          421252,
          421858,
          422458,
          423052,
          423651,
          424258,
          424868,
          425473,
          426074,
          426665,
          427245,
          427807,
          428314,
          429326,
          429851,
          430398,
          430962,
          431538,
          432120,
          432706,
          433292,
          433878,
          434464,
          435050,
          435635,
          436216,
          436789,
          437316,
          438377,
          438870,
          439397,
          439941,
          440506,
          441097,
          441692,
          442289,
          442887,
          443473,
          444057,
          444770,
          445408,
          445968,
          446418,
          447321,
          447892,
          448460,
          449033,
          449612,
          450194,
          450777,
          451362,
          451951,
          452543,
          453136,
          453721,
          454280,
          454742,
          455704,
          456289,
          456863,
          457440,
          458022,
          458608,
          459196,
          459786,
          460378,
          460969,
          461560,
          462147,
          462730,
          463305,
          463855,
          464278,
          465269,
          465885,
          466475,
          467062,
          467649,
          468238,
          468831,
          469423,
          470015,
          470606,
          471196,
          471786,
          472373,
          472949,
          473481,
          473905,
          474839,
          475477,
          476073,
          476664,
          477247,
          477831,
          478416,
          478987,
          479511,
          479927,
          480905,
          481537,
          482135,
          482724,
          483308,
          483897,
          484486,
          485077,
          485670,
          486261,
          486852,
          487435,
          487991,
          488443,
          489418,
          490004,
          490576,
          491151,
          491729,
          492311,
          492897,
          493482,
          494068,
          494654,
          495246,
          495842,
          496448,
          497058,
          497658,
          498256,
          498815,
          499210,
          500213,
          500835,
          501418,
          501994,
          502573,
          503156,
          503744,
          504333,
          504931,
          505532,
          506140,
          506751,
          507362,
          507963,
          508568,
          509175,
          509782,
          510386,
          510982,
          511578,
          512169,
          512760,
          513352,
          513942,
          514530,
          515125,
          515719,
          516305,
          516855,
          517261,
          518241,
          518876,
          519475,
          520068,
          520658,
          521250,
          521841,
          522432,
          523023,
          523615,
          524210,
          524804,
          525399,
          525994,
          526589,
          527187,
          527785,
          528383,
          528985,
          529587,
          530175,
          530733,
          531159,
          532145,
          532753,
          533338,
          533919,
          534502,
          535086,
          535669,
          536251,
          536830,
          537400,
          537938,
          538337,
          539307,
          539931,
          540523,
          541109,
          541695,
          542285,
          542881,
          543482,
          544085,
          544684,
          545280,
          545874,
          546468,
          547061,
          547649,
          548223,
          548756,
          549777,
          550295,
          550838,
          551396,
          551970,
          552553,
          553142,
          553736,
          554334,
          554936,
          555540,
          556141,
          556742,
          557338,
          557934,
          558525,
          559115,
          559701,
          560281,
          560848,
          561358,
          562416,
          562916,
          563446,
          563998,
          564556,
          565117,
          565647,
          566052,
          567019,
          567637,
          568226,
          568805,
          569378,
          569944,
          570485,
          570876,
          571859,
          572479,
          573070,
          573659,
          574249,
          574840,
          575433,
          576026,
          576617,
          577207,
          577793,
          578372,
          578938,
          579466,
          579887,
          580828,
          581463,
          582062,
          582654,
          583244,
          583834,
          584425,
          585017,
          585608,
          586197,
          586779,
          587342,
          587839,
          588850,
          589394,
          589952,
          590526,
          591105,
          591688,
          592272,
          592857,
          593442,
          594028,
          594615,
          595202,
          595799,
          596421,
          597068,
          597703,
          598322,
          598928,
          599523,
          600112,
          600538,
          600963
         ],
         "xaxis": "x2",
         "y": {
          "dtype": "float32",
          "shape": [
           1000
          ],
          "value": {}
         },
         "yaxis": "y3"
        },
        {
         "line": {
          "color": "red"
         },
         "name": "<b style=\"color:sandybrown\">[R]</b> Signal <i style=\"color:#fc9944\">~602</i>",
         "opacity": 0.5,
         "type": "scattergl",
         "uid": "8d5ea765-6c1a-42d8-97f7-8e362103cda0",
         "x": [
          0,
          1,
          603,
          1205,
          1807,
          2409,
          3011,
          3613,
          4216,
          4818,
          5420,
          6022,
          6624,
          7226,
          7829,
          8431,
          9033,
          9635,
          10237,
          10839,
          11442,
          12044,
          12646,
          13248,
          13850,
          14452,
          15055,
          15657,
          16860,
          17296,
          17463,
          18065,
          18668,
          19270,
          19872,
          20474,
          21076,
          21678,
          22281,
          22883,
          23485,
          24087,
          24689,
          25291,
          25894,
          27097,
          27592,
          27700,
          28302,
          28904,
          29507,
          30109,
          30711,
          31313,
          31915,
          32517,
          33120,
          33722,
          34324,
          34926,
          35528,
          36130,
          36733,
          37335,
          37937,
          38539,
          39141,
          39743,
          40346,
          40948,
          41550,
          42152,
          42754,
          43356,
          43959,
          44561,
          45163,
          45765,
          46367,
          46969,
          47572,
          48174,
          48776,
          49378,
          49980,
          50582,
          51185,
          51787,
          52389,
          52991,
          53593,
          54195,
          54798,
          55400,
          56002,
          56604,
          57206,
          57808,
          58411,
          59013,
          59615,
          60217,
          60819,
          61421,
          62024,
          62626,
          63228,
          63830,
          64432,
          65034,
          65637,
          66239,
          66841,
          67443,
          68045,
          68647,
          69250,
          69852,
          70454,
          71056,
          71658,
          72260,
          72863,
          73465,
          74067,
          74669,
          75271,
          75873,
          76476,
          77078,
          77680,
          78282,
          78884,
          79486,
          80089,
          80691,
          81293,
          81895,
          82497,
          83099,
          83702,
          84304,
          84906,
          85508,
          86110,
          86712,
          87315,
          87917,
          88519,
          89121,
          89723,
          90325,
          90928,
          91530,
          92132,
          92734,
          93336,
          93938,
          94541,
          95143,
          95745,
          96347,
          96949,
          97551,
          98154,
          98756,
          99358,
          99960,
          100562,
          101164,
          101767,
          102369,
          102971,
          103573,
          104175,
          104777,
          105380,
          105982,
          106584,
          107186,
          107788,
          108390,
          108993,
          109595,
          110197,
          110799,
          111401,
          112003,
          112606,
          113208,
          113810,
          114412,
          115014,
          115616,
          116219,
          116821,
          117423,
          118025,
          118627,
          119229,
          119832,
          120434,
          121036,
          121638,
          122240,
          122842,
          123445,
          124047,
          124649,
          125251,
          125853,
          126455,
          127058,
          127660,
          128262,
          128864,
          129466,
          130068,
          130671,
          131273,
          131875,
          132477,
          133079,
          133681,
          134284,
          134886,
          135488,
          136090,
          136692,
          137294,
          137897,
          138499,
          139101,
          139703,
          140305,
          140907,
          141510,
          142112,
          142714,
          143316,
          143918,
          144520,
          145123,
          145725,
          146327,
          146929,
          147531,
          148133,
          148736,
          149338,
          149940,
          150542,
          151144,
          151746,
          152349,
          152951,
          153553,
          154155,
          154757,
          155359,
          155962,
          156564,
          157166,
          157768,
          158370,
          158972,
          159575,
          160177,
          160779,
          161381,
          161983,
          162585,
          163188,
          163790,
          164392,
          164994,
          165596,
          166198,
          166801,
          167403,
          168005,
          168607,
          169209,
          169811,
          170414,
          171016,
          171618,
          172220,
          172822,
          173424,
          174027,
          174629,
          175231,
          175833,
          176435,
          177037,
          177640,
          178242,
          178844,
          179446,
          180048,
          180650,
          181253,
          181855,
          182457,
          183059,
          183661,
          184263,
          184866,
          185468,
          186070,
          186672,
          187274,
          187876,
          188479,
          189081,
          189683,
          190285,
          190887,
          191489,
          192092,
          192694,
          193296,
          193898,
          194500,
          195102,
          195705,
          196307,
          196909,
          197511,
          198113,
          198715,
          199318,
          199920,
          200522,
          201124,
          201726,
          202328,
          202931,
          203533,
          204135,
          204737,
          205339,
          205941,
          206544,
          207146,
          207748,
          208350,
          208952,
          209554,
          210157,
          210759,
          211361,
          211963,
          212565,
          213167,
          213770,
          214372,
          214974,
          215576,
          216178,
          216780,
          217383,
          217985,
          218587,
          219189,
          219791,
          220393,
          220996,
          221598,
          222200,
          222802,
          223404,
          224006,
          224609,
          225211,
          225813,
          226415,
          227017,
          227619,
          228222,
          228824,
          229426,
          230028,
          230630,
          231232,
          231835,
          232437,
          233039,
          233641,
          234243,
          234845,
          235448,
          236050,
          236652,
          237254,
          237856,
          238458,
          239061,
          239663,
          240265,
          240867,
          241469,
          242071,
          242674,
          243276,
          243878,
          244480,
          245082,
          245684,
          246287,
          246889,
          247491,
          248093,
          248695,
          249297,
          249900,
          250502,
          251104,
          251706,
          252308,
          252910,
          253513,
          254115,
          254717,
          255319,
          255921,
          256523,
          257126,
          257728,
          258330,
          258932,
          259534,
          260136,
          260739,
          261341,
          261943,
          262545,
          263147,
          263749,
          264352,
          264954,
          265556,
          266158,
          266760,
          267362,
          267965,
          268567,
          269169,
          269771,
          270373,
          270975,
          271578,
          272180,
          272782,
          273384,
          273986,
          274588,
          275191,
          275793,
          276395,
          276997,
          277599,
          278201,
          278804,
          279406,
          280008,
          280610,
          281212,
          281814,
          282417,
          283019,
          283621,
          284223,
          284825,
          285427,
          286030,
          286632,
          287234,
          287836,
          288438,
          289040,
          289643,
          290245,
          290847,
          291449,
          292051,
          292653,
          293256,
          293858,
          294460,
          295062,
          295664,
          296266,
          296869,
          297471,
          298073,
          298675,
          299277,
          299879,
          300482,
          301084,
          301686,
          302288,
          302890,
          303492,
          304094,
          304697,
          305299,
          305901,
          306503,
          307105,
          307707,
          308310,
          308912,
          309514,
          310116,
          310718,
          311320,
          311923,
          312525,
          313127,
          313729,
          314331,
          314933,
          315536,
          316138,
          316740,
          317342,
          317944,
          318546,
          319149,
          319751,
          320353,
          320955,
          321557,
          322159,
          322762,
          323364,
          323966,
          324568,
          325170,
          325772,
          326375,
          326977,
          327579,
          328181,
          328783,
          329385,
          329988,
          330590,
          331192,
          331794,
          332396,
          332998,
          333601,
          334203,
          334805,
          335407,
          336009,
          336611,
          337214,
          337816,
          338418,
          339020,
          339622,
          340224,
          340827,
          341429,
          342031,
          342633,
          343235,
          343837,
          344440,
          345042,
          345644,
          346246,
          346848,
          347450,
          348053,
          348655,
          349257,
          349859,
          350461,
          351063,
          351666,
          352268,
          352870,
          353472,
          354074,
          354676,
          355279,
          355881,
          356483,
          357085,
          357687,
          358289,
          358892,
          359494,
          360096,
          360698,
          361300,
          361902,
          362505,
          363107,
          363709,
          364311,
          364913,
          365515,
          366118,
          366720,
          367322,
          367924,
          368526,
          369128,
          369731,
          370333,
          370935,
          371537,
          372139,
          372741,
          373344,
          373946,
          374548,
          375150,
          375752,
          376354,
          376957,
          377559,
          378161,
          378763,
          379365,
          379967,
          380570,
          381172,
          381774,
          382376,
          382978,
          383580,
          384183,
          384785,
          385387,
          385989,
          386591,
          387193,
          387796,
          388398,
          389000,
          389602,
          390204,
          390806,
          391409,
          392011,
          392613,
          393215,
          393817,
          394419,
          395022,
          395624,
          396226,
          396828,
          397430,
          398032,
          398635,
          399237,
          399839,
          400441,
          401043,
          401645,
          402248,
          402850,
          403452,
          404054,
          404656,
          405258,
          405861,
          406463,
          407065,
          407667,
          408269,
          408871,
          409474,
          410076,
          410678,
          411280,
          411882,
          412484,
          413087,
          413689,
          414291,
          414893,
          415495,
          416097,
          416700,
          417302,
          417904,
          418506,
          419108,
          419710,
          420313,
          420915,
          421517,
          422119,
          422721,
          423323,
          423926,
          424528,
          425130,
          425732,
          426334,
          426936,
          427539,
          428141,
          428743,
          429345,
          429947,
          430549,
          431152,
          431754,
          432356,
          432958,
          433560,
          434162,
          434765,
          435367,
          435969,
          436571,
          437173,
          437775,
          438378,
          438980,
          439582,
          440184,
          440786,
          441388,
          441991,
          442593,
          443195,
          443797,
          444399,
          445001,
          445604,
          446206,
          446808,
          447410,
          448012,
          448614,
          449217,
          449819,
          450421,
          451023,
          451625,
          452227,
          452830,
          453432,
          454034,
          454636,
          455238,
          455840,
          456443,
          457045,
          457647,
          458249,
          458851,
          459453,
          460056,
          460658,
          461260,
          461862,
          462464,
          463066,
          463669,
          464271,
          464873,
          465475,
          466077,
          466679,
          467282,
          467884,
          468486,
          469088,
          469690,
          470292,
          470895,
          471497,
          472099,
          472701,
          473303,
          473905,
          474508,
          475110,
          475712,
          476314,
          476916,
          477518,
          478121,
          478723,
          479325,
          479927,
          480529,
          481131,
          481734,
          482336,
          482938,
          483540,
          484142,
          484744,
          485347,
          485949,
          486551,
          487153,
          487755,
          488357,
          488960,
          489562,
          490164,
          490766,
          491368,
          491970,
          492573,
          493175,
          493777,
          494379,
          494981,
          495583,
          496186,
          496788,
          497390,
          497992,
          498594,
          499196,
          499799,
          500401,
          501003,
          501605,
          502207,
          502809,
          503412,
          504014,
          504616,
          505218,
          505820,
          506422,
          507025,
          507627,
          508229,
          508831,
          509433,
          510035,
          510638,
          511240,
          511842,
          512444,
          513046,
          513648,
          514251,
          514853,
          515455,
          516057,
          516659,
          517261,
          517864,
          518466,
          519068,
          519670,
          520272,
          520874,
          521477,
          522079,
          522681,
          523283,
          523885,
          524487,
          525090,
          525692,
          526294,
          526896,
          527498,
          528100,
          528703,
          529305,
          529907,
          530509,
          531111,
          531713,
          532316,
          532918,
          533520,
          534122,
          534724,
          535326,
          535929,
          536531,
          537133,
          537735,
          538337,
          538939,
          539542,
          540144,
          540746,
          541348,
          541950,
          542552,
          543155,
          543757,
          544359,
          544961,
          545563,
          546165,
          546768,
          547370,
          547972,
          548574,
          549176,
          549778,
          550381,
          550983,
          551585,
          552187,
          552789,
          553391,
          553994,
          554596,
          555198,
          555800,
          556402,
          557004,
          557607,
          558209,
          558811,
          559413,
          560015,
          560617,
          561220,
          561822,
          562424,
          563026,
          563628,
          564230,
          564833,
          565435,
          566037,
          566639,
          567241,
          567843,
          568446,
          569048,
          569650,
          570252,
          570854,
          571456,
          572059,
          572661,
          573263,
          573865,
          574467,
          575069,
          575672,
          576274,
          576876,
          577478,
          578080,
          578682,
          579285,
          579887,
          580489,
          581091,
          581693,
          582295,
          582898,
          583500,
          584102,
          584704,
          585306,
          585908,
          586511,
          587113,
          587715,
          588317,
          588919,
          589521,
          590124,
          590726,
          591328,
          591930,
          592532,
          593134,
          593737,
          594339,
          594941,
          595543,
          596145,
          596747,
          597350,
          597952,
          598554,
          599156,
          599758,
          600360,
          600963
         ],
         "xaxis": "x2",
         "y": {
          "dtype": "float32",
          "shape": [
           1000
          ],
          "value": {}
         },
         "yaxis": "y4"
        },
        {
         "connectgaps": true,
         "line": {
          "color": "gray",
          "shape": "hv",
          "width": 3
         },
         "mode": "lines",
         "name": "Profit",
         "opacity": 0.5,
         "type": "scattergl",
         "uid": "813c2f4e-652d-41d4-87f2-d356b278cc69",
         "x": [
          27594
         ],
         "xaxis": "x2",
         "y": {
          "dtype": "float64",
          "shape": [
           1
          ],
          "value": {}
         },
         "yaxis": "y2"
        },
        {
         "marker": {
          "color": "green",
          "line": {
           "color": "darkgreen",
           "width": 1
          },
          "size": 10,
          "symbol": "triangle-up"
         },
         "mode": "markers",
         "name": "Buy",
         "type": "scattergl",
         "uid": "8008e2c0-081e-4ed1-a4b7-f38333517e83",
         "x": [
          27594
         ],
         "xaxis": "x2",
         "y": {
          "dtype": "float64",
          "shape": [
           1
          ],
          "value": {}
         }
        },
        {
         "marker": {
          "color": "red",
          "line": {
           "color": "darkred",
           "width": 1
          },
          "size": 10,
          "symbol": "triangle-down"
         },
         "mode": "markers",
         "name": "Sell",
         "type": "scattergl",
         "uid": "925de5ea-e2ae-40bb-8089-989b92b9e888",
         "x": [
          17297
         ],
         "xaxis": "x2",
         "y": {
          "dtype": "float64",
          "shape": [
           1
          ],
          "value": {}
         }
        }
       ],
       "_js2py_restyle": {},
       "_js2py_update": {},
       "_last_layout_edit_id": 22,
       "_last_trace_edit_id": 22,
       "_layout": {
        "autosize": true,
        "height": 700,
        "legend": {
         "orientation": "h",
         "x": 0.1,
         "y": 1
        },
        "margin": {
         "b": 10,
         "l": 45,
         "pad": 3,
         "r": 15,
         "t": 30
        },
        "template": {
         "data": {
          "bar": [
           {
            "error_x": {
             "color": "#2a3f5f"
            },
            "error_y": {
             "color": "#2a3f5f"
            },
            "marker": {
             "line": {
              "color": "white",
              "width": 0.5
             },
             "pattern": {
              "fillmode": "overlay",
              "size": 10,
              "solidity": 0.2
             }
            },
            "type": "bar"
           }
          ],
          "barpolar": [
           {
            "marker": {
             "line": {
              "color": "white",
              "width": 0.5
             },
             "pattern": {
              "fillmode": "overlay",
              "size": 10,
              "solidity": 0.2
             }
            },
            "type": "barpolar"
           }
          ],
          "carpet": [
           {
            "aaxis": {
             "endlinecolor": "#2a3f5f",
             "gridcolor": "#C8D4E3",
             "linecolor": "#C8D4E3",
             "minorgridcolor": "#C8D4E3",
             "startlinecolor": "#2a3f5f"
            },
            "baxis": {
             "endlinecolor": "#2a3f5f",
             "gridcolor": "#C8D4E3",
             "linecolor": "#C8D4E3",
             "minorgridcolor": "#C8D4E3",
             "startlinecolor": "#2a3f5f"
            },
            "type": "carpet"
           }
          ],
          "choropleth": [
           {
            "colorbar": {
             "outlinewidth": 0,
             "ticks": ""
            },
            "type": "choropleth"
           }
          ],
          "contour": [
           {
            "colorbar": {
             "outlinewidth": 0,
             "ticks": ""
            },
            "colorscale": [
             [
              0,
              "#0d0887"
             ],
             [
              0.1111111111111111,
              "#46039f"
             ],
             [
              0.2222222222222222,
              "#7201a8"
             ],
             [
              0.3333333333333333,
              "#9c179e"
             ],
             [
              0.4444444444444444,
              "#bd3786"
             ],
             [
              0.5555555555555556,
              "#d8576b"
             ],
             [
              0.6666666666666666,
              "#ed7953"
             ],
             [
              0.7777777777777778,
              "#fb9f3a"
             ],
             [
              0.8888888888888888,
              "#fdca26"
             ],
             [
              1,
              "#f0f921"
             ]
            ],
            "type": "contour"
           }
          ],
          "contourcarpet": [
           {
            "colorbar": {
             "outlinewidth": 0,
             "ticks": ""
            },
            "type": "contourcarpet"
           }
          ],
          "heatmap": [
           {
            "colorbar": {
             "outlinewidth": 0,
             "ticks": ""
            },
            "colorscale": [
             [
              0,
              "#0d0887"
             ],
             [
              0.1111111111111111,
              "#46039f"
             ],
             [
              0.2222222222222222,
              "#7201a8"
             ],
             [
              0.3333333333333333,
              "#9c179e"
             ],
             [
              0.4444444444444444,
              "#bd3786"
             ],
             [
              0.5555555555555556,
              "#d8576b"
             ],
             [
              0.6666666666666666,
              "#ed7953"
             ],
             [
              0.7777777777777778,
              "#fb9f3a"
             ],
             [
              0.8888888888888888,
              "#fdca26"
             ],
             [
              1,
              "#f0f921"
             ]
            ],
            "type": "heatmap"
           }
          ],
          "heatmapgl": [
           {
            "colorbar": {
             "outlinewidth": 0,
             "ticks": ""
            },
            "colorscale": [
             [
              0,
              "#0d0887"
             ],
             [
              0.1111111111111111,
              "#46039f"
             ],
             [
              0.2222222222222222,
              "#7201a8"
             ],
             [
              0.3333333333333333,
              "#9c179e"
             ],
             [
              0.4444444444444444,
              "#bd3786"
             ],
             [
              0.5555555555555556,
              "#d8576b"
             ],
             [
              0.6666666666666666,
              "#ed7953"
             ],
             [
              0.7777777777777778,
              "#fb9f3a"
             ],
             [
              0.8888888888888888,
              "#fdca26"
             ],
             [
              1,
              "#f0f921"
             ]
            ],
            "type": "heatmapgl"
           }
          ],
          "histogram": [
           {
            "marker": {
             "pattern": {
              "fillmode": "overlay",
              "size": 10,
              "solidity": 0.2
             }
            },
            "type": "histogram"
           }
          ],
          "histogram2d": [
           {
            "colorbar": {
             "outlinewidth": 0,
             "ticks": ""
            },
            "colorscale": [
             [
              0,
              "#0d0887"
             ],
             [
              0.1111111111111111,
              "#46039f"
             ],
             [
              0.2222222222222222,
              "#7201a8"
             ],
             [
              0.3333333333333333,
              "#9c179e"
             ],
             [
              0.4444444444444444,
              "#bd3786"
             ],
             [
              0.5555555555555556,
              "#d8576b"
             ],
             [
              0.6666666666666666,
              "#ed7953"
             ],
             [
              0.7777777777777778,
              "#fb9f3a"
             ],
             [
              0.8888888888888888,
              "#fdca26"
             ],
             [
              1,
              "#f0f921"
             ]
            ],
            "type": "histogram2d"
           }
          ],
          "histogram2dcontour": [
           {
            "colorbar": {
             "outlinewidth": 0,
             "ticks": ""
            },
            "colorscale": [
             [
              0,
              "#0d0887"
             ],
             [
              0.1111111111111111,
              "#46039f"
             ],
             [
              0.2222222222222222,
              "#7201a8"
             ],
             [
              0.3333333333333333,
              "#9c179e"
             ],
             [
              0.4444444444444444,
              "#bd3786"
             ],
             [
              0.5555555555555556,
              "#d8576b"
             ],
             [
              0.6666666666666666,
              "#ed7953"
             ],
             [
              0.7777777777777778,
              "#fb9f3a"
             ],
             [
              0.8888888888888888,
              "#fdca26"
             ],
             [
              1,
              "#f0f921"
             ]
            ],
            "type": "histogram2dcontour"
           }
          ],
          "mesh3d": [
           {
            "colorbar": {
             "outlinewidth": 0,
             "ticks": ""
            },
            "type": "mesh3d"
           }
          ],
          "parcoords": [
           {
            "line": {
             "colorbar": {
              "outlinewidth": 0,
              "ticks": ""
             }
            },
            "type": "parcoords"
           }
          ],
          "pie": [
           {
            "automargin": true,
            "type": "pie"
           }
          ],
          "scatter": [
           {
            "marker": {
             "colorbar": {
              "outlinewidth": 0,
              "ticks": ""
             }
            },
            "type": "scatter"
           }
          ],
          "scatter3d": [
           {
            "line": {
             "colorbar": {
              "outlinewidth": 0,
              "ticks": ""
             }
            },
            "marker": {
             "colorbar": {
              "outlinewidth": 0,
              "ticks": ""
             }
            },
            "type": "scatter3d"
           }
          ],
          "scattercarpet": [
           {
            "marker": {
             "colorbar": {
              "outlinewidth": 0,
              "ticks": ""
             }
            },
            "type": "scattercarpet"
           }
          ],
          "scattergeo": [
           {
            "marker": {
             "colorbar": {
              "outlinewidth": 0,
              "ticks": ""
             }
            },
            "type": "scattergeo"
           }
          ],
          "scattergl": [
           {
            "marker": {
             "colorbar": {
              "outlinewidth": 0,
              "ticks": ""
             }
            },
            "type": "scattergl"
           }
          ],
          "scattermapbox": [
           {
            "marker": {
             "colorbar": {
              "outlinewidth": 0,
              "ticks": ""
             }
            },
            "type": "scattermapbox"
           }
          ],
          "scatterpolar": [
           {
            "marker": {
             "colorbar": {
              "outlinewidth": 0,
              "ticks": ""
             }
            },
            "type": "scatterpolar"
           }
          ],
          "scatterpolargl": [
           {
            "marker": {
             "colorbar": {
              "outlinewidth": 0,
              "ticks": ""
             }
            },
            "type": "scatterpolargl"
           }
          ],
          "scatterternary": [
           {
            "marker": {
             "colorbar": {
              "outlinewidth": 0,
              "ticks": ""
             }
            },
            "type": "scatterternary"
           }
          ],
          "surface": [
           {
            "colorbar": {
             "outlinewidth": 0,
             "ticks": ""
            },
            "colorscale": [
             [
              0,
              "#0d0887"
             ],
             [
              0.1111111111111111,
              "#46039f"
             ],
             [
              0.2222222222222222,
              "#7201a8"
             ],
             [
              0.3333333333333333,
              "#9c179e"
             ],
             [
              0.4444444444444444,
              "#bd3786"
             ],
             [
              0.5555555555555556,
              "#d8576b"
             ],
             [
              0.6666666666666666,
              "#ed7953"
             ],
             [
              0.7777777777777778,
              "#fb9f3a"
             ],
             [
              0.8888888888888888,
              "#fdca26"
             ],
             [
              1,
              "#f0f921"
             ]
            ],
            "type": "surface"
           }
          ],
          "table": [
           {
            "cells": {
             "fill": {
              "color": "#EBF0F8"
             },
             "line": {
              "color": "white"
             }
            },
            "header": {
             "fill": {
              "color": "#C8D4E3"
             },
             "line": {
              "color": "white"
             }
            },
            "type": "table"
           }
          ]
         },
         "layout": {
          "annotationdefaults": {
           "arrowcolor": "#2a3f5f",
           "arrowhead": 0,
           "arrowwidth": 1
          },
          "autotypenumbers": "strict",
          "coloraxis": {
           "colorbar": {
            "outlinewidth": 0,
            "ticks": ""
           }
          },
          "colorscale": {
           "diverging": [
            [
             0,
             "#8e0152"
            ],
            [
             0.1,
             "#c51b7d"
            ],
            [
             0.2,
             "#de77ae"
            ],
            [
             0.3,
             "#f1b6da"
            ],
            [
             0.4,
             "#fde0ef"
            ],
            [
             0.5,
             "#f7f7f7"
            ],
            [
             0.6,
             "#e6f5d0"
            ],
            [
             0.7,
             "#b8e186"
            ],
            [
             0.8,
             "#7fbc41"
            ],
            [
             0.9,
             "#4d9221"
            ],
            [
             1,
             "#276419"
            ]
           ],
           "sequential": [
            [
             0,
             "#0d0887"
            ],
            [
             0.1111111111111111,
             "#46039f"
            ],
            [
             0.2222222222222222,
             "#7201a8"
            ],
            [
             0.3333333333333333,
             "#9c179e"
            ],
            [
             0.4444444444444444,
             "#bd3786"
            ],
            [
             0.5555555555555556,
             "#d8576b"
            ],
            [
             0.6666666666666666,
             "#ed7953"
            ],
            [
             0.7777777777777778,
             "#fb9f3a"
            ],
            [
             0.8888888888888888,
             "#fdca26"
            ],
            [
             1,
             "#f0f921"
            ]
           ],
           "sequentialminus": [
            [
             0,
             "#0d0887"
            ],
            [
             0.1111111111111111,
             "#46039f"
            ],
            [
             0.2222222222222222,
             "#7201a8"
            ],
            [
             0.3333333333333333,
             "#9c179e"
            ],
            [
             0.4444444444444444,
             "#bd3786"
            ],
            [
             0.5555555555555556,
             "#d8576b"
            ],
            [
             0.6666666666666666,
             "#ed7953"
            ],
            [
             0.7777777777777778,
             "#fb9f3a"
            ],
            [
             0.8888888888888888,
             "#fdca26"
            ],
            [
             1,
             "#f0f921"
            ]
           ]
          },
          "colorway": [
           "#636efa",
           "#EF553B",
           "#00cc96",
           "#ab63fa",
           "#FFA15A",
           "#19d3f3",
           "#FF6692",
           "#B6E880",
           "#FF97FF",
           "#FECB52"
          ],
          "font": {
           "color": "#2a3f5f"
          },
          "geo": {
           "bgcolor": "white",
           "lakecolor": "white",
           "landcolor": "white",
           "showlakes": true,
           "showland": true,
           "subunitcolor": "#C8D4E3"
          },
          "hoverlabel": {
           "align": "left"
          },
          "hovermode": "closest",
          "mapbox": {
           "style": "light"
          },
          "paper_bgcolor": "white",
          "plot_bgcolor": "white",
          "polar": {
           "angularaxis": {
            "gridcolor": "#EBF0F8",
            "linecolor": "#EBF0F8",
            "ticks": ""
           },
           "bgcolor": "white",
           "radialaxis": {
            "gridcolor": "#EBF0F8",
            "linecolor": "#EBF0F8",
            "ticks": ""
           }
          },
          "scene": {
           "xaxis": {
            "backgroundcolor": "white",
            "gridcolor": "#DFE8F3",
            "gridwidth": 2,
            "linecolor": "#EBF0F8",
            "showbackground": true,
            "ticks": "",
            "zerolinecolor": "#EBF0F8"
           },
           "yaxis": {
            "backgroundcolor": "white",
            "gridcolor": "#DFE8F3",
            "gridwidth": 2,
            "linecolor": "#EBF0F8",
            "showbackground": true,
            "ticks": "",
            "zerolinecolor": "#EBF0F8"
           },
           "zaxis": {
            "backgroundcolor": "white",
            "gridcolor": "#DFE8F3",
            "gridwidth": 2,
            "linecolor": "#EBF0F8",
            "showbackground": true,
            "ticks": "",
            "zerolinecolor": "#EBF0F8"
           }
          },
          "shapedefaults": {
           "line": {
            "color": "#2a3f5f"
           }
          },
          "ternary": {
           "aaxis": {
            "gridcolor": "#DFE8F3",
            "linecolor": "#A2B1C6",
            "ticks": ""
           },
           "baxis": {
            "gridcolor": "#DFE8F3",
            "linecolor": "#A2B1C6",
            "ticks": ""
           },
           "bgcolor": "white",
           "caxis": {
            "gridcolor": "#DFE8F3",
            "linecolor": "#A2B1C6",
            "ticks": ""
           }
          },
          "title": {
           "x": 0.05
          },
          "xaxis": {
           "automargin": true,
           "gridcolor": "#EBF0F8",
           "linecolor": "#EBF0F8",
           "ticks": "",
           "title": {
            "standoff": 15
           },
           "zerolinecolor": "#EBF0F8",
           "zerolinewidth": 2
          },
          "yaxis": {
           "automargin": true,
           "gridcolor": "#EBF0F8",
           "linecolor": "#EBF0F8",
           "ticks": "",
           "title": {
            "standoff": 15
           },
           "zerolinecolor": "#EBF0F8",
           "zerolinewidth": 2
          }
         }
        },
        "xaxis": {
         "anchor": "y",
         "domain": [
          0,
          0.94
         ],
         "matches": "x2",
         "showticklabels": false,
         "spikedash": "dot",
         "spikemode": "across+marker",
         "spikesnap": "cursor",
         "spikethickness": 2
        },
        "xaxis2": {
         "anchor": "y3",
         "domain": [
          0,
          0.94
         ],
         "spikedash": "dot",
         "spikemode": "across+marker",
         "spikesnap": "cursor",
         "spikethickness": 2
        },
        "yaxis": {
         "anchor": "x",
         "domain": [
          0.32100000000000006,
          1
         ]
        },
        "yaxis2": {
         "anchor": "x",
         "overlaying": "y",
         "side": "right"
        },
        "yaxis3": {
         "anchor": "x2",
         "domain": [
          0,
          0.29100000000000004
         ]
        },
        "yaxis4": {
         "anchor": "x2",
         "overlaying": "y3",
         "side": "right"
        }
       },
       "_py2js_animate": {},
       "_py2js_deleteTraces": {},
       "_py2js_moveTraces": {},
       "_py2js_relayout": {},
       "_py2js_removeLayoutProps": {},
       "_py2js_removeTraceProps": {},
       "_view_count": 0
      }
     },
     "658d502978454db6b7fae083e667d6ca": {
      "model_module": "@jupyter-widgets/base",
      "model_module_version": "1.2.0",
      "model_name": "LayoutModel",
      "state": {}
     },
     "6b75588345eb46b497767e168a5ca70d": {
      "model_module": "jupyterlab-plotly",
      "model_module_version": "^5.6.0",
      "model_name": "FigureModel",
      "state": {
       "_config": {
        "plotlyServerURL": "https://plot.ly"
       },
       "_js2py_layoutDelta": {},
       "_js2py_pointsCallback": {},
       "_js2py_relayout": {},
       "_js2py_restyle": {},
       "_js2py_traceDeltas": {},
       "_js2py_update": {},
       "_layout": {
        "template": {
         "data": {
          "bar": [
           {
            "error_x": {
             "color": "#2a3f5f"
            },
            "error_y": {
             "color": "#2a3f5f"
            },
            "marker": {
             "line": {
              "color": "#E5ECF6",
              "width": 0.5
             },
             "pattern": {
              "fillmode": "overlay",
              "size": 10,
              "solidity": 0.2
             }
            },
            "type": "bar"
           }
          ],
          "barpolar": [
           {
            "marker": {
             "line": {
              "color": "#E5ECF6",
              "width": 0.5
             },
             "pattern": {
              "fillmode": "overlay",
              "size": 10,
              "solidity": 0.2
             }
            },
            "type": "barpolar"
           }
          ],
          "carpet": [
           {
            "aaxis": {
             "endlinecolor": "#2a3f5f",
             "gridcolor": "white",
             "linecolor": "white",
             "minorgridcolor": "white",
             "startlinecolor": "#2a3f5f"
            },
            "baxis": {
             "endlinecolor": "#2a3f5f",
             "gridcolor": "white",
             "linecolor": "white",
             "minorgridcolor": "white",
             "startlinecolor": "#2a3f5f"
            },
            "type": "carpet"
           }
          ],
          "choropleth": [
           {
            "colorbar": {
             "outlinewidth": 0,
             "ticks": ""
            },
            "type": "choropleth"
           }
          ],
          "contour": [
           {
            "colorbar": {
             "outlinewidth": 0,
             "ticks": ""
            },
            "colorscale": [
             [
              0,
              "#0d0887"
             ],
             [
              0.1111111111111111,
              "#46039f"
             ],
             [
              0.2222222222222222,
              "#7201a8"
             ],
             [
              0.3333333333333333,
              "#9c179e"
             ],
             [
              0.4444444444444444,
              "#bd3786"
             ],
             [
              0.5555555555555556,
              "#d8576b"
             ],
             [
              0.6666666666666666,
              "#ed7953"
             ],
             [
              0.7777777777777778,
              "#fb9f3a"
             ],
             [
              0.8888888888888888,
              "#fdca26"
             ],
             [
              1,
              "#f0f921"
             ]
            ],
            "type": "contour"
           }
          ],
          "contourcarpet": [
           {
            "colorbar": {
             "outlinewidth": 0,
             "ticks": ""
            },
            "type": "contourcarpet"
           }
          ],
          "heatmap": [
           {
            "colorbar": {
             "outlinewidth": 0,
             "ticks": ""
            },
            "colorscale": [
             [
              0,
              "#0d0887"
             ],
             [
              0.1111111111111111,
              "#46039f"
             ],
             [
              0.2222222222222222,
              "#7201a8"
             ],
             [
              0.3333333333333333,
              "#9c179e"
             ],
             [
              0.4444444444444444,
              "#bd3786"
             ],
             [
              0.5555555555555556,
              "#d8576b"
             ],
             [
              0.6666666666666666,
              "#ed7953"
             ],
             [
              0.7777777777777778,
              "#fb9f3a"
             ],
             [
              0.8888888888888888,
              "#fdca26"
             ],
             [
              1,
              "#f0f921"
             ]
            ],
            "type": "heatmap"
           }
          ],
          "heatmapgl": [
           {
            "colorbar": {
             "outlinewidth": 0,
             "ticks": ""
            },
            "colorscale": [
             [
              0,
              "#0d0887"
             ],
             [
              0.1111111111111111,
              "#46039f"
             ],
             [
              0.2222222222222222,
              "#7201a8"
             ],
             [
              0.3333333333333333,
              "#9c179e"
             ],
             [
              0.4444444444444444,
              "#bd3786"
             ],
             [
              0.5555555555555556,
              "#d8576b"
             ],
             [
              0.6666666666666666,
              "#ed7953"
             ],
             [
              0.7777777777777778,
              "#fb9f3a"
             ],
             [
              0.8888888888888888,
              "#fdca26"
             ],
             [
              1,
              "#f0f921"
             ]
            ],
            "type": "heatmapgl"
           }
          ],
          "histogram": [
           {
            "marker": {
             "pattern": {
              "fillmode": "overlay",
              "size": 10,
              "solidity": 0.2
             }
            },
            "type": "histogram"
           }
          ],
          "histogram2d": [
           {
            "colorbar": {
             "outlinewidth": 0,
             "ticks": ""
            },
            "colorscale": [
             [
              0,
              "#0d0887"
             ],
             [
              0.1111111111111111,
              "#46039f"
             ],
             [
              0.2222222222222222,
              "#7201a8"
             ],
             [
              0.3333333333333333,
              "#9c179e"
             ],
             [
              0.4444444444444444,
              "#bd3786"
             ],
             [
              0.5555555555555556,
              "#d8576b"
             ],
             [
              0.6666666666666666,
              "#ed7953"
             ],
             [
              0.7777777777777778,
              "#fb9f3a"
             ],
             [
              0.8888888888888888,
              "#fdca26"
             ],
             [
              1,
              "#f0f921"
             ]
            ],
            "type": "histogram2d"
           }
          ],
          "histogram2dcontour": [
           {
            "colorbar": {
             "outlinewidth": 0,
             "ticks": ""
            },
            "colorscale": [
             [
              0,
              "#0d0887"
             ],
             [
              0.1111111111111111,
              "#46039f"
             ],
             [
              0.2222222222222222,
              "#7201a8"
             ],
             [
              0.3333333333333333,
              "#9c179e"
             ],
             [
              0.4444444444444444,
              "#bd3786"
             ],
             [
              0.5555555555555556,
              "#d8576b"
             ],
             [
              0.6666666666666666,
              "#ed7953"
             ],
             [
              0.7777777777777778,
              "#fb9f3a"
             ],
             [
              0.8888888888888888,
              "#fdca26"
             ],
             [
              1,
              "#f0f921"
             ]
            ],
            "type": "histogram2dcontour"
           }
          ],
          "mesh3d": [
           {
            "colorbar": {
             "outlinewidth": 0,
             "ticks": ""
            },
            "type": "mesh3d"
           }
          ],
          "parcoords": [
           {
            "line": {
             "colorbar": {
              "outlinewidth": 0,
              "ticks": ""
             }
            },
            "type": "parcoords"
           }
          ],
          "pie": [
           {
            "automargin": true,
            "type": "pie"
           }
          ],
          "scatter": [
           {
            "marker": {
             "colorbar": {
              "outlinewidth": 0,
              "ticks": ""
             }
            },
            "type": "scatter"
           }
          ],
          "scatter3d": [
           {
            "line": {
             "colorbar": {
              "outlinewidth": 0,
              "ticks": ""
             }
            },
            "marker": {
             "colorbar": {
              "outlinewidth": 0,
              "ticks": ""
             }
            },
            "type": "scatter3d"
           }
          ],
          "scattercarpet": [
           {
            "marker": {
             "colorbar": {
              "outlinewidth": 0,
              "ticks": ""
             }
            },
            "type": "scattercarpet"
           }
          ],
          "scattergeo": [
           {
            "marker": {
             "colorbar": {
              "outlinewidth": 0,
              "ticks": ""
             }
            },
            "type": "scattergeo"
           }
          ],
          "scattergl": [
           {
            "marker": {
             "colorbar": {
              "outlinewidth": 0,
              "ticks": ""
             }
            },
            "type": "scattergl"
           }
          ],
          "scattermapbox": [
           {
            "marker": {
             "colorbar": {
              "outlinewidth": 0,
              "ticks": ""
             }
            },
            "type": "scattermapbox"
           }
          ],
          "scatterpolar": [
           {
            "marker": {
             "colorbar": {
              "outlinewidth": 0,
              "ticks": ""
             }
            },
            "type": "scatterpolar"
           }
          ],
          "scatterpolargl": [
           {
            "marker": {
             "colorbar": {
              "outlinewidth": 0,
              "ticks": ""
             }
            },
            "type": "scatterpolargl"
           }
          ],
          "scatterternary": [
           {
            "marker": {
             "colorbar": {
              "outlinewidth": 0,
              "ticks": ""
             }
            },
            "type": "scatterternary"
           }
          ],
          "surface": [
           {
            "colorbar": {
             "outlinewidth": 0,
             "ticks": ""
            },
            "colorscale": [
             [
              0,
              "#0d0887"
             ],
             [
              0.1111111111111111,
              "#46039f"
             ],
             [
              0.2222222222222222,
              "#7201a8"
             ],
             [
              0.3333333333333333,
              "#9c179e"
             ],
             [
              0.4444444444444444,
              "#bd3786"
             ],
             [
              0.5555555555555556,
              "#d8576b"
             ],
             [
              0.6666666666666666,
              "#ed7953"
             ],
             [
              0.7777777777777778,
              "#fb9f3a"
             ],
             [
              0.8888888888888888,
              "#fdca26"
             ],
             [
              1,
              "#f0f921"
             ]
            ],
            "type": "surface"
           }
          ],
          "table": [
           {
            "cells": {
             "fill": {
              "color": "#EBF0F8"
             },
             "line": {
              "color": "white"
             }
            },
            "header": {
             "fill": {
              "color": "#C8D4E3"
             },
             "line": {
              "color": "white"
             }
            },
            "type": "table"
           }
          ]
         },
         "layout": {
          "annotationdefaults": {
           "arrowcolor": "#2a3f5f",
           "arrowhead": 0,
           "arrowwidth": 1
          },
          "autotypenumbers": "strict",
          "coloraxis": {
           "colorbar": {
            "outlinewidth": 0,
            "ticks": ""
           }
          },
          "colorscale": {
           "diverging": [
            [
             0,
             "#8e0152"
            ],
            [
             0.1,
             "#c51b7d"
            ],
            [
             0.2,
             "#de77ae"
            ],
            [
             0.3,
             "#f1b6da"
            ],
            [
             0.4,
             "#fde0ef"
            ],
            [
             0.5,
             "#f7f7f7"
            ],
            [
             0.6,
             "#e6f5d0"
            ],
            [
             0.7,
             "#b8e186"
            ],
            [
             0.8,
             "#7fbc41"
            ],
            [
             0.9,
             "#4d9221"
            ],
            [
             1,
             "#276419"
            ]
           ],
           "sequential": [
            [
             0,
             "#0d0887"
            ],
            [
             0.1111111111111111,
             "#46039f"
            ],
            [
             0.2222222222222222,
             "#7201a8"
            ],
            [
             0.3333333333333333,
             "#9c179e"
            ],
            [
             0.4444444444444444,
             "#bd3786"
            ],
            [
             0.5555555555555556,
             "#d8576b"
            ],
            [
             0.6666666666666666,
             "#ed7953"
            ],
            [
             0.7777777777777778,
             "#fb9f3a"
            ],
            [
             0.8888888888888888,
             "#fdca26"
            ],
            [
             1,
             "#f0f921"
            ]
           ],
           "sequentialminus": [
            [
             0,
             "#0d0887"
            ],
            [
             0.1111111111111111,
             "#46039f"
            ],
            [
             0.2222222222222222,
             "#7201a8"
            ],
            [
             0.3333333333333333,
             "#9c179e"
            ],
            [
             0.4444444444444444,
             "#bd3786"
            ],
            [
             0.5555555555555556,
             "#d8576b"
            ],
            [
             0.6666666666666666,
             "#ed7953"
            ],
            [
             0.7777777777777778,
             "#fb9f3a"
            ],
            [
             0.8888888888888888,
             "#fdca26"
            ],
            [
             1,
             "#f0f921"
            ]
           ]
          },
          "colorway": [
           "#636efa",
           "#EF553B",
           "#00cc96",
           "#ab63fa",
           "#FFA15A",
           "#19d3f3",
           "#FF6692",
           "#B6E880",
           "#FF97FF",
           "#FECB52"
          ],
          "font": {
           "color": "#2a3f5f"
          },
          "geo": {
           "bgcolor": "white",
           "lakecolor": "white",
           "landcolor": "#E5ECF6",
           "showlakes": true,
           "showland": true,
           "subunitcolor": "white"
          },
          "hoverlabel": {
           "align": "left"
          },
          "hovermode": "closest",
          "mapbox": {
           "style": "light"
          },
          "paper_bgcolor": "white",
          "plot_bgcolor": "#E5ECF6",
          "polar": {
           "angularaxis": {
            "gridcolor": "white",
            "linecolor": "white",
            "ticks": ""
           },
           "bgcolor": "#E5ECF6",
           "radialaxis": {
            "gridcolor": "white",
            "linecolor": "white",
            "ticks": ""
           }
          },
          "scene": {
           "xaxis": {
            "backgroundcolor": "#E5ECF6",
            "gridcolor": "white",
            "gridwidth": 2,
            "linecolor": "white",
            "showbackground": true,
            "ticks": "",
            "zerolinecolor": "white"
           },
           "yaxis": {
            "backgroundcolor": "#E5ECF6",
            "gridcolor": "white",
            "gridwidth": 2,
            "linecolor": "white",
            "showbackground": true,
            "ticks": "",
            "zerolinecolor": "white"
           },
           "zaxis": {
            "backgroundcolor": "#E5ECF6",
            "gridcolor": "white",
            "gridwidth": 2,
            "linecolor": "white",
            "showbackground": true,
            "ticks": "",
            "zerolinecolor": "white"
           }
          },
          "shapedefaults": {
           "line": {
            "color": "#2a3f5f"
           }
          },
          "ternary": {
           "aaxis": {
            "gridcolor": "white",
            "linecolor": "white",
            "ticks": ""
           },
           "baxis": {
            "gridcolor": "white",
            "linecolor": "white",
            "ticks": ""
           },
           "bgcolor": "#E5ECF6",
           "caxis": {
            "gridcolor": "white",
            "linecolor": "white",
            "ticks": ""
           }
          },
          "title": {
           "x": 0.05
          },
          "xaxis": {
           "automargin": true,
           "gridcolor": "white",
           "linecolor": "white",
           "ticks": "",
           "title": {
            "standoff": 15
           },
           "zerolinecolor": "white",
           "zerolinewidth": 2
          },
          "yaxis": {
           "automargin": true,
           "gridcolor": "white",
           "linecolor": "white",
           "ticks": "",
           "title": {
            "standoff": 15
           },
           "zerolinecolor": "white",
           "zerolinewidth": 2
          }
         }
        },
        "xaxis": {
         "anchor": "y",
         "domain": [
          0,
          0.94
         ],
         "matches": "x2",
         "showticklabels": false
        },
        "xaxis2": {
         "anchor": "y3",
         "domain": [
          0,
          0.94
         ]
        },
        "yaxis": {
         "anchor": "x",
         "domain": [
          0.32100000000000006,
          1
         ]
        },
        "yaxis2": {
         "anchor": "x",
         "overlaying": "y",
         "side": "right"
        },
        "yaxis3": {
         "anchor": "x2",
         "domain": [
          0,
          0.29100000000000004
         ]
        },
        "yaxis4": {
         "anchor": "x2",
         "overlaying": "y3",
         "side": "right"
        }
       },
       "_py2js_addTraces": {},
       "_py2js_animate": {},
       "_py2js_deleteTraces": {},
       "_py2js_moveTraces": {},
       "_py2js_relayout": {},
       "_py2js_removeLayoutProps": {},
       "_py2js_removeTraceProps": {},
       "_py2js_restyle": {},
       "_py2js_update": {},
       "_view_count": 0
      }
     },
     "71a1283126f24299a8bc51b173e2d940": {
      "model_module": "@jupyter-widgets/output",
      "model_module_version": "1.0.0",
      "model_name": "OutputModel",
      "state": {
       "layout": "IPY_MODEL_4a2ce81121364b5587599bf4f08da9e4"
      }
     },
     "76d81cf854ae4437814a6ca209fd5183": {
      "model_module": "@jupyter-widgets/controls",
      "model_module_version": "1.5.0",
      "model_name": "HBoxModel",
      "state": {
       "children": [
        "IPY_MODEL_b159d0e0e2b648f29bb34d6e39abef5e",
        "IPY_MODEL_aa1f9d17af3f4e93a0bc085f656913df"
       ],
       "layout": "IPY_MODEL_c26e6587a000404bb6e8e5b0a8049cdb"
      }
     },
     "7953d9263e134cc8a9eafa636c71dc62": {
      "model_module": "@jupyter-widgets/controls",
      "model_module_version": "1.5.0",
      "model_name": "IntSliderModel",
      "state": {
       "description": "Threshold",
       "layout": "IPY_MODEL_d8fb56abe8eb4637aa1faf126c7283ab",
       "max": 10,
       "style": "IPY_MODEL_e28b17e731bc454faf02c1b789d7f2a8",
       "value": 5
      }
     },
     "7cb7e8cb76e04af28dcfc6db3ce8aa4d": {
      "model_module": "@jupyter-widgets/base",
      "model_module_version": "1.2.0",
      "model_name": "LayoutModel",
      "state": {}
     },
     "7debec42310c4198adb5ca430e499e7a": {
      "model_module": "@jupyter-widgets/controls",
      "model_module_version": "1.5.0",
      "model_name": "VBoxModel",
      "state": {
       "children": [
        "IPY_MODEL_f765f0c7620f448990e36076350dd33f",
        "IPY_MODEL_5eba76a3a3054f2ab20678c66e4bf928"
       ],
       "layout": "IPY_MODEL_f22402c98d24468bb3e2cf56d764bd81"
      }
     },
     "829b793f64d0459e955288941dc38331": {
      "buffers": [
       {
        "data": "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",
        "encoding": "base64",
        "path": [
         "_data",
         0,
         "y",
         "value"
        ]
       },
       {
        "data": "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",
        "encoding": "base64",
        "path": [
         "_data",
         1,
         "y",
         "value"
        ]
       },
       {
        "data": "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",
        "encoding": "base64",
        "path": [
         "_data",
         2,
         "y",
         "value"
        ]
       },
       {
        "data": "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",
        "encoding": "base64",
        "path": [
         "_data",
         3,
         "y",
         "value"
        ]
       },
       {
        "data": "AAAAAIAUDEA=",
        "encoding": "base64",
        "path": [
         "_data",
         4,
         "y",
         "value"
        ]
       },
       {
        "data": "AAAAQLORpEA=",
        "encoding": "base64",
        "path": [
         "_data",
         5,
         "y",
         "value"
        ]
       },
       {
        "data": "AAAAYLiYpEA=",
        "encoding": "base64",
        "path": [
         "_data",
         6,
         "y",
         "value"
        ]
       }
      ],
      "model_module": "jupyterlab-plotly",
      "model_module_version": "^5.6.0",
      "model_name": "FigureModel",
      "state": {
       "_config": {
        "plotlyServerURL": "https://plot.ly"
       },
       "_data": [
        {
         "line": {
          "color": "gray"
         },
         "name": "<b style=\"color:sandybrown\">[R]</b> Tick <i style=\"color:#fc9944\">~602</i>",
         "opacity": 0.3,
         "type": "scattergl",
         "uid": "fb56d9fd-1aa9-4b3b-8f1f-218a1ab9abab",
         "x": [
          0,
          158,
          922,
          1209,
          1899,
          2760,
          3157,
          3702,
          4617,
          5181,
          5663,
          6543,
          6891,
          7301,
          8033,
          8677,
          9512,
          10123,
          10516,
          11207,
          11614,
          12044,
          12833,
          13557,
          14167,
          14748,
          15173,
          16210,
          16743,
          17324,
          17838,
          18065,
          19189,
          19608,
          19968,
          20685,
          21435,
          22186,
          22637,
          23256,
          23676,
          24385,
          24738,
          25540,
          26277,
          26835,
          27400,
          27814,
          28344,
          28904,
          29720,
          30405,
          31306,
          31575,
          32442,
          32710,
          33407,
          34050,
          34333,
          35235,
          35742,
          36680,
          36810,
          37936,
          38078,
          38913,
          39250,
          40046,
          40346,
          41273,
          42088,
          42498,
          43020,
          43356,
          44406,
          45047,
          45169,
          46147,
          46869,
          47166,
          48122,
          48744,
          49264,
          49909,
          50237,
          50656,
          51698,
          52317,
          52925,
          53512,
          53907,
          54265,
          55399,
          55495,
          56247,
          56604,
          57299,
          57809,
          58912,
          59105,
          60027,
          60817,
          61274,
          61994,
          62625,
          63104,
          63273,
          63995,
          64890,
          65636,
          66183,
          66767,
          67049,
          68038,
          68477,
          68808,
          69343,
          70433,
          70935,
          71424,
          71813,
          72662,
          72889,
          73564,
          74326,
          74858,
          75444,
          75981,
          76847,
          77676,
          78166,
          78452,
          79312,
          79804,
          80631,
          80907,
          81695,
          81932,
          82558,
          83227,
          83923,
          84816,
          85297,
          85788,
          86680,
          87029,
          87441,
          88515,
          88784,
          89456,
          90240,
          90339,
          91317,
          91603,
          92161,
          93201,
          93795,
          94364,
          94771,
          95526,
          96005,
          96762,
          97146,
          97807,
          98224,
          99242,
          99472,
          100186,
          100562,
          101377,
          102347,
          102501,
          103466,
          103859,
          104302,
          104828,
          105793,
          106443,
          107040,
          107249,
          108361,
          108693,
          109333,
          109595,
          110428,
          110980,
          111654,
          112181,
          113089,
          113616,
          113938,
          114412,
          115045,
          115655,
          116228,
          117362,
          117599,
          118330,
          119187,
          119258,
          120293,
          120441,
          121528,
          121893,
          122264,
          123237,
          123629,
          124484,
          124773,
          125852,
          126283,
          126801,
          127240,
          128024,
          128262,
          128944,
          129498,
          130670,
          131044,
          131480,
          132458,
          132505,
          133079,
          134116,
          134792,
          135162,
          136040,
          136344,
          136698,
          137513,
          138152,
          138748,
          139114,
          139986,
          140555,
          141104,
          141541,
          142247,
          142837,
          143913,
          144107,
          145082,
          145631,
          146067,
          146336,
          147524,
          147996,
          148271,
          148951,
          149382,
          150382,
          151125,
          151508,
          152078,
          152937,
          153307,
          153685,
          154753,
          155247,
          155481,
          156012,
          156715,
          157433,
          158055,
          158705,
          159249,
          160011,
          160278,
          161017,
          161645,
          162314,
          163039,
          163435,
          163888,
          164728,
          165074,
          165836,
          166589,
          166802,
          167888,
          168328,
          168920,
          169360,
          170032,
          170864,
          171396,
          171772,
          172224,
          172985,
          173647,
          174625,
          174983,
          175827,
          176410,
          176441,
          177434,
          177836,
          178242,
          179162,
          180043,
          180557,
          181059,
          181288,
          181985,
          182576,
          183062,
          183862,
          184813,
          185233,
          185834,
          186452,
          187109,
          187646,
          188026,
          188893,
          189317,
          189804,
          190306,
          191423,
          192016,
          192563,
          193181,
          193365,
          194392,
          195037,
          195543,
          196151,
          196396,
          196934,
          197657,
          198432,
          198875,
          199875,
          200375,
          201013,
          201372,
          201758,
          202709,
          203267,
          203830,
          204333,
          204783,
          205803,
          206109,
          206649,
          207337,
          208344,
          208922,
          209369,
          209623,
          210709,
          211339,
          211486,
          211963,
          212780,
          213279,
          214145,
          214764,
          215458,
          216085,
          216241,
          216903,
          217760,
          218586,
          219115,
          219279,
          220255,
          220393,
          221168,
          222169,
          222282,
          223014,
          223649,
          224540,
          224951,
          225404,
          225945,
          226424,
          227031,
          228132,
          228365,
          229336,
          229488,
          230243,
          231152,
          231709,
          231966,
          232889,
          233503,
          233701,
          234811,
          235031,
          235962,
          236306,
          237069,
          237855,
          238190,
          238609,
          239095,
          239957,
          240502,
          241325,
          241660,
          242333,
          242959,
          243506,
          244479,
          244924,
          245626,
          245955,
          246738,
          247144,
          248035,
          248387,
          249072,
          249892,
          250117,
          250623,
          251295,
          251773,
          252408,
          253166,
          253824,
          254306,
          255019,
          255672,
          255977,
          257008,
          257477,
          258071,
          258909,
          259241,
          260034,
          260627,
          260855,
          261909,
          261971,
          262546,
          263446,
          263749,
          264894,
          265452,
          265603,
          266380,
          267314,
          267673,
          268164,
          268734,
          269558,
          270118,
          270961,
          271487,
          271610,
          272221,
          273326,
          273717,
          274458,
          275040,
          275265,
          275945,
          276912,
          277564,
          278121,
          278612,
          279189,
          279595,
          280399,
          280610,
          281810,
          282085,
          282417,
          283078,
          283621,
          284783,
          285398,
          285624,
          286625,
          287232,
          287420,
          287916,
          288740,
          289051,
          290098,
          290435,
          291179,
          291624,
          292165,
          293053,
          293485,
          294175,
          294561,
          295129,
          296014,
          296658,
          297046,
          297840,
          298549,
          299185,
          299462,
          300481,
          301031,
          301368,
          301718,
          302359,
          303235,
          303992,
          304134,
          305212,
          305618,
          306207,
          306729,
          307524,
          308286,
          308881,
          309386,
          309864,
          310339,
          311102,
          311830,
          312195,
          312732,
          313715,
          313910,
          314581,
          315090,
          315745,
          316147,
          316832,
          317572,
          318052,
          318912,
          319570,
          319788,
          320800,
          321036,
          322127,
          322314,
          322836,
          323493,
          324508,
          324823,
          325660,
          326342,
          326739,
          327094,
          327599,
          328181,
          329073,
          329783,
          330261,
          330776,
          331194,
          332204,
          332884,
          333224,
          333687,
          334556,
          335179,
          335419,
          336238,
          336937,
          337341,
          338074,
          338793,
          339152,
          339716,
          340741,
          341206,
          341748,
          342570,
          343048,
          343541,
          344156,
          344782,
          345559,
          345900,
          346714,
          347380,
          347495,
          348175,
          348663,
          349856,
          349936,
          350980,
          351377,
          351781,
          352406,
          353448,
          353829,
          354455,
          355157,
          355666,
          356118,
          356520,
          357375,
          358270,
          358450,
          359414,
          359916,
          360691,
          361286,
          361572,
          361920,
          362658,
          363409,
          364250,
          364494,
          364986,
          366116,
          366530,
          366960,
          367681,
          368014,
          368733,
          369262,
          369780,
          370909,
          371118,
          371749,
          372165,
          372804,
          373710,
          373946,
          374851,
          375215,
          376035,
          376374,
          377169,
          377559,
          378161,
          378966,
          379807,
          380412,
          380642,
          381549,
          382307,
          382533,
          383011,
          383920,
          384355,
          384785,
          385588,
          386219,
          386721,
          387578,
          387797,
          388633,
          389183,
          389746,
          390658,
          391078,
          391806,
          392602,
          392809,
          393269,
          393899,
          394613,
          395556,
          396130,
          396580,
          397001,
          397658,
          398032,
          399005,
          399677,
          400058,
          400511,
          401511,
          401645,
          402568,
          403312,
          403872,
          404196,
          405003,
          405312,
          405912,
          406925,
          407581,
          408054,
          408708,
          409108,
          409526,
          410076,
          410714,
          411663,
          411944,
          413033,
          413648,
          414217,
          414305,
          415175,
          416028,
          416378,
          417098,
          417351,
          418041,
          419066,
          419313,
          419797,
          420319,
          421516,
          421688,
          422390,
          422894,
          423395,
          423989,
          425085,
          425210,
          425976,
          426770,
          427095,
          427714,
          428630,
          429017,
          429364,
          430053,
          430616,
          431561,
          432354,
          432556,
          432964,
          433653,
          434467,
          435263,
          435483,
          436522,
          436571,
          437405,
          437776,
          438907,
          439465,
          439916,
          440288,
          440876,
          441746,
          442149,
          442593,
          443655,
          443797,
          444901,
          445573,
          446169,
          446464,
          446831,
          447822,
          448022,
          448790,
          449268,
          449819,
          450929,
          451122,
          452126,
          452422,
          453237,
          453781,
          454118,
          455032,
          455525,
          455842,
          456706,
          457293,
          458248,
          458542,
          458883,
          459573,
          460166,
          460678,
          461861,
          462152,
          462779,
          463487,
          463669,
          464343,
          465459,
          465965,
          466141,
          467103,
          467399,
          468233,
          468881,
          469099,
          470077,
          470538,
          471488,
          471973,
          472114,
          473167,
          473387,
          474046,
          474530,
          475115,
          475993,
          476382,
          477292,
          477786,
          478686,
          478846,
          479573,
          480086,
          480571,
          481142,
          482315,
          482698,
          482972,
          484022,
          484537,
          485056,
          485547,
          486121,
          486700,
          487671,
          487755,
          488673,
          489464,
          489683,
          490746,
          491231,
          491536,
          492012,
          493142,
          493675,
          494149,
          494643,
          495581,
          495871,
          496765,
          496895,
          497520,
          498513,
          498762,
          499677,
          500288,
          500478,
          501122,
          502112,
          502344,
          503277,
          503718,
          504014,
          504628,
          505315,
          505823,
          506698,
          507136,
          508228,
          508506,
          509011,
          509823,
          510483,
          510987,
          511610,
          511905,
          512540,
          513046,
          514211,
          514265,
          514861,
          515458,
          516158,
          516870,
          517510,
          517945,
          518745,
          519172,
          519733,
          520490,
          520935,
          522078,
          522319,
          522802,
          523378,
          524088,
          524487,
          525154,
          526238,
          526557,
          527075,
          527775,
          528100,
          528705,
          529460,
          530068,
          530916,
          531428,
          531881,
          532336,
          533048,
          533643,
          534451,
          534852,
          535721,
          536272,
          536539,
          537639,
          538106,
          538711,
          538941,
          539590,
          540188,
          541233,
          541890,
          542372,
          542918,
          543486,
          544045,
          544431,
          545049,
          545761,
          546640,
          547147,
          547704,
          548303,
          548616,
          549471,
          549849,
          550728,
          551540,
          551905,
          552244,
          553266,
          553688,
          554295,
          554628,
          555407,
          555800,
          556441,
          557358,
          557664,
          558610,
          558999,
          559649,
          560215,
          561215,
          561807,
          562124,
          563012,
          563579,
          563922,
          564416,
          565272,
          565589,
          566206,
          567016,
          567523,
          568315,
          568446,
          569048,
          570040,
          570252,
          571340,
          572031,
          572660,
          572839,
          573553,
          573949,
          575020,
          575613,
          576156,
          576408,
          577303,
          577478,
          578639,
          578945,
          579866,
          579923,
          580489,
          581692,
          581828,
          582295,
          582958,
          583543,
          584102,
          584860,
          585308,
          586482,
          586523,
          587249,
          588178,
          588325,
          589163,
          589670,
          590720,
          590730,
          591373,
          591934,
          592998,
          593254,
          594338,
          594932,
          595177,
          595695,
          596145,
          596747,
          597789,
          598214,
          598699,
          599452,
          599758,
          600360,
          600963
         ],
         "xaxis": "x2",
         "y": {
          "dtype": "float32",
          "shape": [
           1000
          ],
          "value": {}
         }
        },
        {
         "line": {
          "color": "orange"
         },
         "name": "<b style=\"color:sandybrown\">[R]</b> OSC <i style=\"color:#fc9944\">~602</i>",
         "opacity": 0.5,
         "type": "scattergl",
         "uid": "acbbd50c-073a-4b55-85c6-497ec71242cd",
         "x": [
          0,
          1,
          603,
          1205,
          1807,
          2409,
          3011,
          3613,
          4216,
          4818,
          5420,
          6022,
          6624,
          7226,
          7829,
          8431,
          9634,
          9999,
          10720,
          11254,
          11773,
          12200,
          13163,
          13632,
          13871,
          14550,
          15356,
          16258,
          16748,
          17227,
          17726,
          18325,
          18982,
          19568,
          19889,
          20966,
          21438,
          22260,
          22552,
          23310,
          24086,
          24373,
          24853,
          25797,
          26229,
          26496,
          27416,
          28240,
          28546,
          29358,
          30064,
          30704,
          31282,
          31667,
          32516,
          32858,
          33654,
          34164,
          34605,
          35469,
          35870,
          36732,
          37138,
          37501,
          38425,
          38992,
          39495,
          40017,
          40582,
          41150,
          42100,
          42656,
          43166,
          43770,
          44272,
          45162,
          45434,
          46149,
          46544,
          47281,
          47834,
          48390,
          49296,
          49896,
          50581,
          51011,
          51748,
          52248,
          52722,
          53079,
          53933,
          54402,
          55399,
          55853,
          56266,
          57138,
          57356,
          57920,
          58541,
          59432,
          59890,
          60776,
          61274,
          61811,
          62179,
          63093,
          63634,
          64150,
          64655,
          65306,
          66036,
          66368,
          67046,
          68000,
          68306,
          69113,
          69620,
          70138,
          70820,
          71358,
          71803,
          72561,
          73380,
          74005,
          74404,
          75192,
          75766,
          76223,
          76644,
          77679,
          78141,
          78726,
          79215,
          79605,
          80311,
          81292,
          81740,
          82312,
          82658,
          83492,
          83968,
          84546,
          85347,
          85818,
          86504,
          86963,
          87380,
          88364,
          88581,
          89489,
          90013,
          90502,
          91466,
          91787,
          92733,
          93281,
          93705,
          94377,
          94946,
          95738,
          96179,
          96948,
          97389,
          97957,
          98730,
          99357,
          99829,
          100216,
          100713,
          101621,
          102074,
          102829,
          103227,
          103986,
          104491,
          105062,
          105725,
          106268,
          107145,
          107597,
          107965,
          108967,
          109334,
          110049,
          110692,
          111303,
          111837,
          112325,
          112742,
          113624,
          114051,
          114412,
          115491,
          115955,
          116492,
          116930,
          117922,
          118331,
          119136,
          119641,
          120086,
          120764,
          121637,
          121978,
          122664,
          123206,
          123877,
          124648,
          125183,
          125567,
          126295,
          126908,
          127376,
          128042,
          128680,
          129066,
          129758,
          130670,
          131153,
          131497,
          132476,
          132893,
          133396,
          133981,
          134821,
          135286,
          135933,
          136637,
          137113,
          137655,
          138097,
          138616,
          139150,
          139895,
          140847,
          141313,
          141853,
          142713,
          143151,
          143531,
          144448,
          144966,
          145379,
          146073,
          146558,
          146929,
          147826,
          148574,
          149032,
          149513,
          150404,
          150739,
          151563,
          152136,
          152837,
          153277,
          153709,
          154241,
          155275,
          155961,
          156483,
          156965,
          157533,
          158092,
          158567,
          159433,
          159970,
          160496,
          160990,
          161672,
          162250,
          162915,
          163188,
          163790,
          164919,
          165126,
          165873,
          166691,
          167191,
          167698,
          168336,
          168746,
          169505,
          170247,
          170766,
          171333,
          171895,
          172467,
          173423,
          173836,
          174419,
          174788,
          175654,
          176165,
          176570,
          177577,
          177858,
          178843,
          179210,
          179761,
          180542,
          181045,
          181630,
          182076,
          182968,
          183455,
          184217,
          184728,
          185155,
          185577,
          186534,
          186992,
          187628,
          188058,
          188832,
          189503,
          190089,
          190641,
          191263,
          192072,
          192672,
          192874,
          193661,
          194272,
          194645,
          195198,
          196143,
          196722,
          197223,
          197757,
          198328,
          199037,
          199919,
          200380,
          201123,
          201591,
          202106,
          202647,
          202931,
          203808,
          204409,
          205273,
          205771,
          206415,
          206905,
          207477,
          208129,
          208809,
          209459,
          209877,
          210381,
          210999,
          211421,
          212399,
          212827,
          213538,
          214229,
          214694,
          215073,
          216137,
          216448,
          217227,
          217846,
          218267,
          219105,
          219487,
          220357,
          220738,
          221432,
          222085,
          222583,
          222971,
          223705,
          224512,
          224664,
          225655,
          226264,
          226767,
          227334,
          227814,
          228431,
          229425,
          229843,
          230406,
          230935,
          231253,
          232031,
          232895,
          233381,
          233994,
          234617,
          234957,
          235930,
          236630,
          237126,
          237579,
          238301,
          238859,
          239381,
          239748,
          240477,
          241352,
          241990,
          242455,
          243104,
          243623,
          243996,
          244885,
          245463,
          245970,
          246680,
          247014,
          248007,
          248167,
          249065,
          249807,
          250423,
          250944,
          251473,
          251887,
          252382,
          253512,
          253963,
          254553,
          255008,
          255740,
          256297,
          256924,
          257259,
          258039,
          258931,
          259429,
          259958,
          260569,
          261085,
          261683,
          262133,
          262908,
          263171,
          263749,
          264423,
          265362,
          265820,
          266715,
          267228,
          267745,
          268312,
          268838,
          269446,
          270158,
          270434,
          271459,
          272018,
          272728,
          273217,
          273756,
          274301,
          275048,
          275611,
          276173,
          276720,
          277116,
          278126,
          278527,
          279155,
          279478,
          280369,
          280890,
          281457,
          282201,
          282749,
          283588,
          283968,
          284486,
          285384,
          285843,
          286604,
          287179,
          287684,
          288237,
          288729,
          289040,
          289895,
          290520,
          291163,
          291767,
          292277,
          292814,
          293446,
          293858,
          294877,
          295337,
          295784,
          296550,
          297136,
          297848,
          298417,
          299111,
          299654,
          300232,
          300860,
          301392,
          301806,
          302705,
          303194,
          304093,
          304581,
          305120,
          305570,
          305902,
          306964,
          307506,
          308089,
          308688,
          308958,
          309763,
          310222,
          310718,
          311674,
          312255,
          312999,
          313317,
          314276,
          314569,
          315220,
          315642,
          316268,
          316884,
          317431,
          318268,
          318886,
          319437,
          319751,
          320613,
          320999,
          321889,
          322761,
          323008,
          323667,
          324035,
          325169,
          325664,
          326212,
          326737,
          327215,
          328110,
          328509,
          329153,
          329828,
          330484,
          330816,
          331458,
          332011,
          332649,
          333320,
          333858,
          334602,
          335406,
          335624,
          336437,
          336908,
          337214,
          337945,
          339008,
          339361,
          339622,
          340536,
          341190,
          341589,
          342442,
          342884,
          343666,
          344163,
          344539,
          345294,
          346228,
          346727,
          347316,
          347792,
          348624,
          349097,
          349595,
          350248,
          350790,
          351065,
          351958,
          352550,
          353118,
          353512,
          354209,
          355243,
          355705,
          356044,
          356811,
          357577,
          358186,
          358577,
          359493,
          359903,
          360159,
          360718,
          361693,
          362324,
          362795,
          363350,
          363709,
          364579,
          365080,
          365720,
          366587,
          367101,
          367681,
          368359,
          368793,
          369128,
          370019,
          370651,
          371445,
          372078,
          372557,
          373343,
          373723,
          374256,
          374788,
          375310,
          376023,
          376371,
          377143,
          377609,
          378644,
          379364,
          379794,
          380157,
          380836,
          381455,
          382210,
          382694,
          383352,
          384074,
          384504,
          385037,
          385988,
          386241,
          386843,
          387324,
          388245,
          388857,
          389426,
          389890,
          390373,
          391119,
          391644,
          392573,
          392827,
          393792,
          394418,
          394915,
          395385,
          395922,
          396559,
          397429,
          397794,
          398367,
          399017,
          399370,
          400125,
          400441,
          401644,
          402118,
          402635,
          403213,
          403758,
          404344,
          404974,
          405498,
          406390,
          406952,
          407538,
          408082,
          408608,
          409152,
          409474,
          410406,
          411018,
          411685,
          412208,
          412775,
          413474,
          413857,
          414608,
          415209,
          415723,
          416097,
          416700,
          417302,
          418241,
          418928,
          419388,
          420268,
          420914,
          421516,
          421943,
          422259,
          422991,
          423653,
          424006,
          424589,
          425444,
          426062,
          426664,
          427193,
          427683,
          428649,
          429253,
          429946,
          430325,
          430930,
          431731,
          432276,
          432691,
          433256,
          433926,
          434534,
          435366,
          435698,
          436563,
          436954,
          437648,
          438180,
          438633,
          439294,
          440013,
          440438,
          440786,
          441863,
          442245,
          442721,
          443780,
          444212,
          445000,
          445491,
          445963,
          446491,
          446808,
          448005,
          448320,
          449133,
          449667,
          450172,
          450655,
          451371,
          452122,
          452813,
          453329,
          453811,
          454357,
          454807,
          455616,
          456319,
          456784,
          457566,
          458038,
          458629,
          459014,
          459881,
          460554,
          460974,
          461519,
          462382,
          462921,
          463429,
          464270,
          464705,
          465074,
          465913,
          466676,
          467146,
          467603,
          468021,
          468953,
          469458,
          469929,
          470498,
          471463,
          472004,
          472514,
          473169,
          473460,
          474348,
          474758,
          475483,
          475889,
          476915,
          477486,
          477927,
          478677,
          479324,
          479862,
          480296,
          480830,
          481638,
          482185,
          482738,
          483310,
          483861,
          484213,
          484860,
          485879,
          486352,
          486865,
          487684,
          488115,
          488671,
          489549,
          490008,
          490524,
          491072,
          491622,
          492230,
          492851,
          493667,
          494331,
          494766,
          495506,
          496185,
          496539,
          496905,
          497810,
          498593,
          499096,
          499575,
          499913,
          500822,
          501324,
          501852,
          502570,
          503188,
          503776,
          504410,
          504747,
          505712,
          506116,
          506896,
          507229,
          508086,
          508598,
          509083,
          510034,
          510506,
          511042,
          511505,
          512443,
          512690,
          513416,
          514250,
          514670,
          514869,
          515769,
          516314,
          516884,
          517640,
          518164,
          518809,
          519332,
          519670,
          520873,
          521333,
          521822,
          522429,
          522979,
          523499,
          524222,
          525007,
          525158,
          526056,
          526666,
          527295,
          527732,
          528359,
          529178,
          529798,
          530276,
          530801,
          531492,
          531903,
          532316,
          533411,
          533926,
          534577,
          535097,
          535608,
          536277,
          536824,
          537267,
          537826,
          538735,
          539302,
          539904,
          540485,
          541017,
          541910,
          542408,
          542819,
          543756,
          544146,
          544828,
          545145,
          545800,
          546550,
          547369,
          547837,
          548290,
          548915,
          549331,
          550123,
          550789,
          551315,
          551601,
          552499,
          553219,
          553899,
          554372,
          554878,
          555793,
          556296,
          556824,
          557413,
          557959,
          558483,
          558820,
          559722,
          560315,
          561095,
          561821,
          562283,
          562769,
          563250,
          563628,
          564832,
          565434,
          565808,
          566556,
          566952,
          567842,
          568325,
          568792,
          569270,
          570149,
          570640,
          571227,
          571686,
          572660,
          573151,
          573543,
          574024,
          574655,
          575596,
          576111,
          576663,
          577331,
          577816,
          578192,
          579212,
          579714,
          580243,
          580785,
          581354,
          582291,
          582769,
          583158,
          584101,
          584638,
          585188,
          585676,
          586354,
          586806,
          587113,
          588046,
          588326,
          589266,
          590123,
          590725,
          591189,
          591694,
          592232,
          592539,
          593260,
          593924,
          594580,
          595350,
          595795,
          596397,
          596747,
          597550,
          598232,
          599051,
          599496,
          600092,
          600489,
          600963
         ],
         "xaxis": "x2",
         "y": {
          "dtype": "float32",
          "shape": [
           1000
          ],
          "value": {}
         },
         "yaxis": "y3"
        },
        {
         "line": {
          "color": "green"
         },
         "name": "<b style=\"color:sandybrown\">[R]</b> maOSC <i style=\"color:#fc9944\">~602</i>",
         "opacity": 0.5,
         "type": "scattergl",
         "uid": "dac42015-2a22-431b-b7eb-2a6d1ff7a15d",
         "x": [
          0,
          1,
          603,
          1205,
          1807,
          2409,
          3011,
          3613,
          4216,
          4818,
          5420,
          6022,
          6624,
          7226,
          7829,
          8431,
          9634,
          10236,
          10747,
          11277,
          11823,
          12374,
          12913,
          13361,
          14317,
          14904,
          15478,
          16056,
          16639,
          17222,
          17805,
          18387,
          18967,
          19539,
          20083,
          20492,
          21470,
          22086,
          22676,
          23264,
          23852,
          24442,
          25036,
          25632,
          26227,
          26820,
          27413,
          28006,
          28598,
          29188,
          29776,
          30358,
          30928,
          31444,
          32506,
          33026,
          33575,
          34138,
          34708,
          35287,
          35873,
          36470,
          37076,
          37686,
          38294,
          38896,
          39494,
          40088,
          40680,
          41270,
          41860,
          42454,
          43046,
          43633,
          44215,
          44784,
          45303,
          46348,
          46861,
          47406,
          47972,
          48553,
          49142,
          49734,
          50328,
          50925,
          51522,
          52117,
          52709,
          53300,
          53888,
          54476,
          55062,
          55645,
          56205,
          56652,
          57635,
          58236,
          58818,
          59404,
          59987,
          60573,
          61164,
          61767,
          62376,
          62982,
          63582,
          64175,
          64763,
          65349,
          65930,
          66502,
          67045,
          67443,
          68426,
          69047,
          69638,
          70224,
          70811,
          71399,
          71987,
          72575,
          73165,
          73755,
          74345,
          74933,
          75513,
          76044,
          77077,
          77595,
          78137,
          78695,
          79262,
          79834,
          80408,
          80982,
          81546,
          82064,
          83098,
          83615,
          84155,
          84716,
          85290,
          85871,
          86457,
          87045,
          87635,
          88224,
          88815,
          89407,
          89999,
          90595,
          91192,
          91784,
          92359,
          92887,
          93937,
          94455,
          94996,
          95561,
          96135,
          96717,
          97307,
          97901,
          98497,
          99095,
          99696,
          100297,
          100904,
          101508,
          102111,
          102712,
          103314,
          103915,
          104513,
          105109,
          105702,
          106295,
          106882,
          107469,
          108056,
          108645,
          109228,
          109817,
          110409,
          111001,
          111572,
          112605,
          113141,
          113689,
          114254,
          114831,
          115414,
          115999,
          116585,
          117173,
          117765,
          118359,
          118955,
          119552,
          120147,
          120740,
          121331,
          121919,
          122499,
          123063,
          123583,
          124648,
          125158,
          125699,
          126265,
          126840,
          127418,
          127996,
          128572,
          129136,
          129660,
          130068,
          131014,
          131661,
          132268,
          132860,
          133444,
          134025,
          134603,
          135179,
          135753,
          136323,
          136865,
          137294,
          138238,
          138887,
          139488,
          140083,
          140674,
          141268,
          141866,
          142462,
          143060,
          143656,
          144255,
          144851,
          145450,
          146049,
          146648,
          147244,
          147841,
          148438,
          149035,
          149629,
          150219,
          150807,
          151395,
          151961,
          152419,
          153413,
          154008,
          154586,
          155166,
          155751,
          156338,
          156926,
          157513,
          158097,
          158677,
          159249,
          159803,
          160301,
          161327,
          161856,
          162403,
          162964,
          163533,
          164109,
          164687,
          165260,
          165815,
          166303,
          167313,
          167881,
          168451,
          169028,
          169611,
          170196,
          170781,
          171366,
          171950,
          172534,
          173116,
          173691,
          174250,
          174758,
          175813,
          176323,
          176856,
          177405,
          177975,
          178560,
          179149,
          179749,
          180354,
          180950,
          181521,
          182008,
          182971,
          183542,
          184110,
          184680,
          185249,
          185820,
          186392,
          186968,
          187545,
          188099,
          188523,
          189505,
          190109,
          190688,
          191271,
          191855,
          192444,
          193036,
          193632,
          194229,
          194829,
          195430,
          196030,
          196628,
          197224,
          197817,
          198407,
          198990,
          199566,
          200105,
          200522,
          201477,
          202109,
          202695,
          203271,
          203852,
          204420,
          204982,
          205508,
          205941,
          206846,
          207463,
          208004,
          208951,
          209492,
          210027,
          210576,
          211137,
          211707,
          212282,
          212861,
          213439,
          214009,
          214552,
          214974,
          215957,
          216570,
          217162,
          217747,
          218339,
          218933,
          219533,
          220133,
          220733,
          221331,
          221928,
          222520,
          223102,
          223674,
          224225,
          224681,
          225653,
          226243,
          226817,
          227387,
          227958,
          228527,
          229080,
          229574,
          230578,
          231108,
          231654,
          232215,
          232787,
          233371,
          233965,
          234558,
          235149,
          235739,
          236326,
          236913,
          237508,
          238136,
          238750,
          239301,
          240264,
          240791,
          241331,
          241895,
          242475,
          243067,
          243664,
          244264,
          244861,
          245453,
          246042,
          246629,
          247216,
          247803,
          248390,
          248978,
          249563,
          250151,
          250741,
          251306,
          251718,
          252711,
          253332,
          253919,
          254503,
          255088,
          255676,
          256267,
          256864,
          257462,
          258063,
          258663,
          259264,
          259863,
          260458,
          261048,
          261633,
          262202,
          262731,
          263748,
          264267,
          264809,
          265371,
          265945,
          266526,
          267112,
          267701,
          268288,
          268872,
          269451,
          270014,
          270523,
          271562,
          272081,
          272626,
          273191,
          273766,
          274351,
          274939,
          275531,
          276123,
          276713,
          277298,
          277879,
          278452,
          279002,
          279453,
          280434,
          281034,
          281619,
          282204,
          282791,
          283379,
          283970,
          284565,
          285163,
          285762,
          286364,
          286966,
          287569,
          288165,
          288749,
          289319,
          289858,
          290263,
          291238,
          291851,
          292438,
          293021,
          293606,
          294195,
          294786,
          295380,
          295976,
          296573,
          297171,
          297770,
          298368,
          298963,
          299552,
          300126,
          300652,
          301685,
          302206,
          302750,
          303312,
          303886,
          304468,
          305053,
          305638,
          306224,
          306810,
          307396,
          307982,
          308569,
          309159,
          309751,
          310326,
          310828,
          311851,
          312404,
          312964,
          313533,
          314109,
          314690,
          315276,
          315876,
          316479,
          317087,
          317697,
          318298,
          318896,
          319494,
          320089,
          320685,
          321282,
          321879,
          322478,
          323077,
          323675,
          324273,
          324872,
          325470,
          326066,
          326652,
          327219,
          327719,
          328718,
          329263,
          329820,
          330391,
          330972,
          331561,
          332151,
          332743,
          333337,
          333931,
          334525,
          335119,
          335713,
          336306,
          336903,
          337514,
          338127,
          338742,
          339350,
          339952,
          340550,
          341150,
          341755,
          342361,
          342961,
          343552,
          344132,
          344687,
          345143,
          346106,
          346690,
          347258,
          347825,
          348393,
          348963,
          349537,
          350114,
          350704,
          351322,
          351978,
          352610,
          353212,
          353800,
          354384,
          354965,
          355536,
          356152,
          356807,
          357434,
          358039,
          358604,
          359119,
          360095,
          360594,
          361136,
          361693,
          362255,
          362799,
          363228,
          364165,
          364756,
          365334,
          365911,
          366496,
          367081,
          367670,
          368259,
          368848,
          369435,
          370020,
          370601,
          371174,
          371727,
          372200,
          373199,
          373759,
          374334,
          374923,
          375516,
          376112,
          376712,
          377304,
          377900,
          378502,
          379103,
          379708,
          380305,
          380895,
          381492,
          382093,
          382706,
          383330,
          383944,
          384557,
          385163,
          385764,
          386362,
          386958,
          387551,
          388146,
          388740,
          389334,
          389926,
          390516,
          391099,
          391674,
          392222,
          392651,
          393630,
          394235,
          394821,
          395403,
          395987,
          396572,
          397159,
          397749,
          398343,
          398942,
          399549,
          400158,
          400762,
          401363,
          401963,
          402558,
          403148,
          403728,
          404286,
          404763,
          405737,
          406319,
          406889,
          407463,
          408042,
          408623,
          409203,
          409782,
          410358,
          410931,
          411489,
          412007,
          412484,
          413301,
          414186,
          414773,
          415330,
          415895,
          416466,
          417040,
          417621,
          418203,
          418786,
          419380,
          420004,
          420636,
          421258,
          421867,
          422462,
          423055,
          423654,
          424263,
          424871,
          425478,
          426076,
          426662,
          427235,
          427777,
          428176,
          429148,
          429763,
          430352,
          430938,
          431523,
          432111,
          432699,
          433286,
          433872,
          434458,
          435043,
          435622,
          436193,
          436743,
          437173,
          438128,
          438747,
          439333,
          439910,
          440495,
          441087,
          441686,
          442286,
          442883,
          443471,
          444071,
          444727,
          445367,
          445936,
          446435,
          447372,
          447915,
          448470,
          449039,
          449614,
          450194,
          450775,
          451359,
          451946,
          452537,
          453129,
          453710,
          454251,
          454636,
          455609,
          456241,
          456836,
          457424,
          458012,
          458601,
          459190,
          459781,
          460373,
          460964,
          461552,
          462137,
          462714,
          463270,
          463741,
          464732,
          465314,
          465888,
          466469,
          467054,
          467641,
          468231,
          468824,
          469417,
          470009,
          470601,
          471191,
          471778,
          472362,
          472931,
          473430,
          474441,
          474981,
          475534,
          476095,
          476667,
          477251,
          477834,
          478410,
          478973,
          479497,
          479927,
          480878,
          481527,
          482129,
          482720,
          483306,
          483895,
          484482,
          485072,
          485664,
          486256,
          486843,
          487419,
          487958,
          488357,
          489317,
          489952,
          490548,
          491134,
          491719,
          492304,
          492890,
          493475,
          494060,
          494645,
          495230,
          495825,
          496425,
          497021,
          497607,
          498146,
          499195,
          499738,
          500298,
          500860,
          501425,
          501994,
          502573,
          503155,
          503740,
          504329,
          504927,
          505530,
          506141,
          506751,
          507359,
          507964,
          508569,
          509174,
          509782,
          510386,
          510982,
          511576,
          512166,
          512756,
          513345,
          513931,
          514512,
          515093,
          515666,
          516184,
          517217,
          517761,
          518320,
          518891,
          519474,
          520061,
          520650,
          521241,
          521833,
          522426,
          523020,
          523612,
          524205,
          524798,
          525393,
          525987,
          526581,
          527173,
          527766,
          528362,
          528957,
          529550,
          530115,
          530519,
          531513,
          532143,
          532736,
          533322,
          533907,
          534493,
          535079,
          535664,
          536247,
          536826,
          537393,
          537922,
          538337,
          539278,
          539915,
          540513,
          541102,
          541690,
          542280,
          542876,
          543478,
          544081,
          544680,
          545276,
          545869,
          546461,
          547050,
          547632,
          548187,
          548596,
          549582,
          550197,
          550783,
          551365,
          551952,
          552539,
          553134,
          553729,
          554327,
          554929,
          555533,
          556137,
          556737,
          557336,
          557932,
          558523,
          559108,
          559690,
          560264,
          560802,
          561220,
          562174,
          562797,
          563385,
          563964,
          564542,
          565117,
          565678,
          566200,
          566639,
          567565,
          568203,
          568795,
          569367,
          569919,
          570401,
          571361,
          571931,
          572500,
          573075,
          573657,
          574246,
          574838,
          575430,
          576023,
          576614,
          577203,
          577787,
          578363,
          578921,
          579411,
          580411,
          580958,
          581513,
          582082,
          582661,
          583245,
          583832,
          584422,
          585013,
          585603,
          586191,
          586769,
          587322,
          587767,
          588741,
          589340,
          589924,
          590508,
          591093,
          591680,
          592265,
          592851,
          593436,
          594022,
          594604,
          595189,
          595776,
          596400,
          597072,
          597719,
          598334,
          598935,
          599528,
          600114,
          600538,
          600963
         ],
         "xaxis": "x2",
         "y": {
          "dtype": "float32",
          "shape": [
           1000
          ],
          "value": {}
         },
         "yaxis": "y3"
        },
        {
         "line": {
          "color": "red"
         },
         "name": "<b style=\"color:sandybrown\">[R]</b> Signal <i style=\"color:#fc9944\">~602</i>",
         "opacity": 0.5,
         "type": "scattergl",
         "uid": "09bdc774-491c-4b0b-94b0-933c65d44a25",
         "x": [
          0,
          1,
          603,
          1205,
          1807,
          2409,
          3011,
          3613,
          4216,
          4818,
          5420,
          6022,
          6624,
          7226,
          7829,
          8431,
          9033,
          9635,
          10237,
          10839,
          11442,
          12044,
          12646,
          13248,
          13850,
          14452,
          15055,
          15657,
          16860,
          17296,
          17463,
          18065,
          18668,
          19270,
          19872,
          20474,
          21076,
          21678,
          22281,
          22883,
          23485,
          24087,
          24689,
          25291,
          25894,
          27097,
          27592,
          27700,
          28302,
          28904,
          29507,
          30109,
          30711,
          31313,
          31915,
          32517,
          33120,
          33722,
          34324,
          34926,
          35528,
          36130,
          36733,
          37335,
          37937,
          38539,
          39141,
          39743,
          40346,
          40948,
          41550,
          42152,
          42754,
          43356,
          43959,
          44561,
          45163,
          45765,
          46367,
          46969,
          47572,
          48174,
          48776,
          49378,
          49980,
          50582,
          51185,
          51787,
          52389,
          52991,
          53593,
          54195,
          54798,
          55400,
          56002,
          56604,
          57206,
          57808,
          58411,
          59013,
          59615,
          60217,
          60819,
          61421,
          62024,
          62626,
          63228,
          63830,
          64432,
          65034,
          65637,
          66239,
          66841,
          67443,
          68045,
          68647,
          69250,
          69852,
          70454,
          71056,
          71658,
          72260,
          72863,
          73465,
          74067,
          74669,
          75271,
          75873,
          76476,
          77078,
          77680,
          78282,
          78884,
          79486,
          80089,
          80691,
          81293,
          81895,
          82497,
          83099,
          83702,
          84304,
          84906,
          85508,
          86110,
          86712,
          87315,
          87917,
          88519,
          89121,
          89723,
          90325,
          90928,
          91530,
          92132,
          92734,
          93336,
          93938,
          94541,
          95143,
          95745,
          96347,
          96949,
          97551,
          98154,
          98756,
          99358,
          99960,
          100562,
          101164,
          101767,
          102369,
          102971,
          103573,
          104175,
          104777,
          105380,
          105982,
          106584,
          107186,
          107788,
          108390,
          108993,
          109595,
          110197,
          110799,
          111401,
          112003,
          112606,
          113208,
          113810,
          114412,
          115014,
          115616,
          116219,
          116821,
          117423,
          118025,
          118627,
          119229,
          119832,
          120434,
          121036,
          121638,
          122240,
          122842,
          123445,
          124047,
          124649,
          125251,
          125853,
          126455,
          127058,
          127660,
          128262,
          128864,
          129466,
          130068,
          130671,
          131273,
          131875,
          132477,
          133079,
          133681,
          134284,
          134886,
          135488,
          136090,
          136692,
          137294,
          137897,
          138499,
          139101,
          139703,
          140305,
          140907,
          141510,
          142112,
          142714,
          143316,
          143918,
          144520,
          145123,
          145725,
          146327,
          146929,
          147531,
          148133,
          148736,
          149338,
          149940,
          150542,
          151144,
          151746,
          152349,
          152951,
          153553,
          154155,
          154757,
          155359,
          155962,
          156564,
          157166,
          157768,
          158370,
          158972,
          159575,
          160177,
          160779,
          161381,
          161983,
          162585,
          163188,
          163790,
          164392,
          164994,
          165596,
          166198,
          166801,
          167403,
          168005,
          168607,
          169209,
          169811,
          170414,
          171016,
          171618,
          172220,
          172822,
          173424,
          174027,
          174629,
          175231,
          175833,
          176435,
          177037,
          177640,
          178242,
          178844,
          179446,
          180048,
          180650,
          181253,
          181855,
          182457,
          183059,
          183661,
          184263,
          184866,
          185468,
          186070,
          186672,
          187274,
          187876,
          188479,
          189081,
          189683,
          190285,
          190887,
          191489,
          192092,
          192694,
          193296,
          193898,
          194500,
          195102,
          195705,
          196307,
          196909,
          197511,
          198113,
          198715,
          199318,
          199920,
          200522,
          201124,
          201726,
          202328,
          202931,
          203533,
          204135,
          204737,
          205339,
          205941,
          206544,
          207146,
          207748,
          208350,
          208952,
          209554,
          210157,
          210759,
          211361,
          211963,
          212565,
          213167,
          213770,
          214372,
          214974,
          215576,
          216178,
          216780,
          217383,
          217985,
          218587,
          219189,
          219791,
          220393,
          220996,
          221598,
          222200,
          222802,
          223404,
          224006,
          224609,
          225211,
          225813,
          226415,
          227017,
          227619,
          228222,
          228824,
          229426,
          230028,
          230630,
          231232,
          231835,
          232437,
          233039,
          233641,
          234243,
          234845,
          235448,
          236050,
          236652,
          237254,
          237856,
          238458,
          239061,
          239663,
          240265,
          240867,
          241469,
          242071,
          242674,
          243276,
          243878,
          244480,
          245082,
          245684,
          246287,
          246889,
          247491,
          248093,
          248695,
          249297,
          249900,
          250502,
          251104,
          251706,
          252308,
          252910,
          253513,
          254115,
          254717,
          255319,
          255921,
          256523,
          257126,
          257728,
          258330,
          258932,
          259534,
          260136,
          260739,
          261341,
          261943,
          262545,
          263147,
          263749,
          264352,
          264954,
          265556,
          266158,
          266760,
          267362,
          267965,
          268567,
          269169,
          269771,
          270373,
          270975,
          271578,
          272180,
          272782,
          273384,
          273986,
          274588,
          275191,
          275793,
          276395,
          276997,
          277599,
          278201,
          278804,
          279406,
          280008,
          280610,
          281212,
          281814,
          282417,
          283019,
          283621,
          284223,
          284825,
          285427,
          286030,
          286632,
          287234,
          287836,
          288438,
          289040,
          289643,
          290245,
          290847,
          291449,
          292051,
          292653,
          293256,
          293858,
          294460,
          295062,
          295664,
          296266,
          296869,
          297471,
          298073,
          298675,
          299277,
          299879,
          300482,
          301084,
          301686,
          302288,
          302890,
          303492,
          304094,
          304697,
          305299,
          305901,
          306503,
          307105,
          307707,
          308310,
          308912,
          309514,
          310116,
          310718,
          311320,
          311923,
          312525,
          313127,
          313729,
          314331,
          314933,
          315536,
          316138,
          316740,
          317342,
          317944,
          318546,
          319149,
          319751,
          320353,
          320955,
          321557,
          322159,
          322762,
          323364,
          323966,
          324568,
          325170,
          325772,
          326375,
          326977,
          327579,
          328181,
          328783,
          329385,
          329988,
          330590,
          331192,
          331794,
          332396,
          332998,
          333601,
          334203,
          334805,
          335407,
          336009,
          336611,
          337214,
          337816,
          338418,
          339020,
          339622,
          340224,
          340827,
          341429,
          342031,
          342633,
          343235,
          343837,
          344440,
          345042,
          345644,
          346246,
          346848,
          347450,
          348053,
          348655,
          349257,
          349859,
          350461,
          351063,
          351666,
          352268,
          352870,
          353472,
          354074,
          354676,
          355279,
          355881,
          356483,
          357085,
          357687,
          358289,
          358892,
          359494,
          360096,
          360698,
          361300,
          361902,
          362505,
          363107,
          363709,
          364311,
          364913,
          365515,
          366118,
          366720,
          367322,
          367924,
          368526,
          369128,
          369731,
          370333,
          370935,
          371537,
          372139,
          372741,
          373344,
          373946,
          374548,
          375150,
          375752,
          376354,
          376957,
          377559,
          378161,
          378763,
          379365,
          379967,
          380570,
          381172,
          381774,
          382376,
          382978,
          383580,
          384183,
          384785,
          385387,
          385989,
          386591,
          387193,
          387796,
          388398,
          389000,
          389602,
          390204,
          390806,
          391409,
          392011,
          392613,
          393215,
          393817,
          394419,
          395022,
          395624,
          396226,
          396828,
          397430,
          398032,
          398635,
          399237,
          399839,
          400441,
          401043,
          401645,
          402248,
          402850,
          403452,
          404054,
          404656,
          405258,
          405861,
          406463,
          407065,
          407667,
          408269,
          408871,
          409474,
          410076,
          410678,
          411280,
          411882,
          412484,
          413087,
          413689,
          414291,
          414893,
          415495,
          416097,
          416700,
          417302,
          417904,
          418506,
          419108,
          419710,
          420313,
          420915,
          421517,
          422119,
          422721,
          423323,
          423926,
          424528,
          425130,
          425732,
          426334,
          426936,
          427539,
          428141,
          428743,
          429345,
          429947,
          430549,
          431152,
          431754,
          432356,
          432958,
          433560,
          434162,
          434765,
          435367,
          435969,
          436571,
          437173,
          437775,
          438378,
          438980,
          439582,
          440184,
          440786,
          441388,
          441991,
          442593,
          443195,
          443797,
          444399,
          445001,
          445604,
          446206,
          446808,
          447410,
          448012,
          448614,
          449217,
          449819,
          450421,
          451023,
          451625,
          452227,
          452830,
          453432,
          454034,
          454636,
          455238,
          455840,
          456443,
          457045,
          457647,
          458249,
          458851,
          459453,
          460056,
          460658,
          461260,
          461862,
          462464,
          463066,
          463669,
          464271,
          464873,
          465475,
          466077,
          466679,
          467282,
          467884,
          468486,
          469088,
          469690,
          470292,
          470895,
          471497,
          472099,
          472701,
          473303,
          473905,
          474508,
          475110,
          475712,
          476314,
          476916,
          477518,
          478121,
          478723,
          479325,
          479927,
          480529,
          481131,
          481734,
          482336,
          482938,
          483540,
          484142,
          484744,
          485347,
          485949,
          486551,
          487153,
          487755,
          488357,
          488960,
          489562,
          490164,
          490766,
          491368,
          491970,
          492573,
          493175,
          493777,
          494379,
          494981,
          495583,
          496186,
          496788,
          497390,
          497992,
          498594,
          499196,
          499799,
          500401,
          501003,
          501605,
          502207,
          502809,
          503412,
          504014,
          504616,
          505218,
          505820,
          506422,
          507025,
          507627,
          508229,
          508831,
          509433,
          510035,
          510638,
          511240,
          511842,
          512444,
          513046,
          513648,
          514251,
          514853,
          515455,
          516057,
          516659,
          517261,
          517864,
          518466,
          519068,
          519670,
          520272,
          520874,
          521477,
          522079,
          522681,
          523283,
          523885,
          524487,
          525090,
          525692,
          526294,
          526896,
          527498,
          528100,
          528703,
          529305,
          529907,
          530509,
          531111,
          531713,
          532316,
          532918,
          533520,
          534122,
          534724,
          535326,
          535929,
          536531,
          537133,
          537735,
          538337,
          538939,
          539542,
          540144,
          540746,
          541348,
          541950,
          542552,
          543155,
          543757,
          544359,
          544961,
          545563,
          546165,
          546768,
          547370,
          547972,
          548574,
          549176,
          549778,
          550381,
          550983,
          551585,
          552187,
          552789,
          553391,
          553994,
          554596,
          555198,
          555800,
          556402,
          557004,
          557607,
          558209,
          558811,
          559413,
          560015,
          560617,
          561220,
          561822,
          562424,
          563026,
          563628,
          564230,
          564833,
          565435,
          566037,
          566639,
          567241,
          567843,
          568446,
          569048,
          569650,
          570252,
          570854,
          571456,
          572059,
          572661,
          573263,
          573865,
          574467,
          575069,
          575672,
          576274,
          576876,
          577478,
          578080,
          578682,
          579285,
          579887,
          580489,
          581091,
          581693,
          582295,
          582898,
          583500,
          584102,
          584704,
          585306,
          585908,
          586511,
          587113,
          587715,
          588317,
          588919,
          589521,
          590124,
          590726,
          591328,
          591930,
          592532,
          593134,
          593737,
          594339,
          594941,
          595543,
          596145,
          596747,
          597350,
          597952,
          598554,
          599156,
          599758,
          600360,
          600963
         ],
         "xaxis": "x2",
         "y": {
          "dtype": "float32",
          "shape": [
           1000
          ],
          "value": {}
         },
         "yaxis": "y4"
        },
        {
         "connectgaps": true,
         "line": {
          "color": "gray",
          "shape": "hv",
          "width": 3
         },
         "mode": "lines",
         "name": "Profit",
         "opacity": 0.5,
         "type": "scattergl",
         "uid": "a5675636-68a5-4be4-8e1e-dec848e736ff",
         "x": [
          27594
         ],
         "xaxis": "x2",
         "y": {
          "dtype": "float64",
          "shape": [
           1
          ],
          "value": {}
         },
         "yaxis": "y2"
        },
        {
         "marker": {
          "color": "green",
          "line": {
           "color": "darkgreen",
           "width": 1
          },
          "size": 10,
          "symbol": "triangle-up"
         },
         "mode": "markers",
         "name": "Buy",
         "type": "scattergl",
         "uid": "4fc702a3-06e9-40f9-820d-270bc817f9d0",
         "x": [
          27594
         ],
         "xaxis": "x2",
         "y": {
          "dtype": "float64",
          "shape": [
           1
          ],
          "value": {}
         }
        },
        {
         "marker": {
          "color": "red",
          "line": {
           "color": "darkred",
           "width": 1
          },
          "size": 10,
          "symbol": "triangle-down"
         },
         "mode": "markers",
         "name": "Sell",
         "type": "scattergl",
         "uid": "09c99c71-5ff1-429e-87ae-b0b2def765c0",
         "x": [
          17297
         ],
         "xaxis": "x2",
         "y": {
          "dtype": "float64",
          "shape": [
           1
          ],
          "value": {}
         }
        }
       ],
       "_js2py_pointsCallback": {},
       "_js2py_restyle": {},
       "_js2py_update": {},
       "_last_layout_edit_id": 22,
       "_last_trace_edit_id": 22,
       "_layout": {
        "autosize": true,
        "height": 700,
        "legend": {
         "orientation": "h",
         "x": 0.1,
         "y": 1
        },
        "margin": {
         "b": 10,
         "l": 45,
         "pad": 3,
         "r": 15,
         "t": 30
        },
        "template": {
         "data": {
          "bar": [
           {
            "error_x": {
             "color": "#2a3f5f"
            },
            "error_y": {
             "color": "#2a3f5f"
            },
            "marker": {
             "line": {
              "color": "white",
              "width": 0.5
             },
             "pattern": {
              "fillmode": "overlay",
              "size": 10,
              "solidity": 0.2
             }
            },
            "type": "bar"
           }
          ],
          "barpolar": [
           {
            "marker": {
             "line": {
              "color": "white",
              "width": 0.5
             },
             "pattern": {
              "fillmode": "overlay",
              "size": 10,
              "solidity": 0.2
             }
            },
            "type": "barpolar"
           }
          ],
          "carpet": [
           {
            "aaxis": {
             "endlinecolor": "#2a3f5f",
             "gridcolor": "#C8D4E3",
             "linecolor": "#C8D4E3",
             "minorgridcolor": "#C8D4E3",
             "startlinecolor": "#2a3f5f"
            },
            "baxis": {
             "endlinecolor": "#2a3f5f",
             "gridcolor": "#C8D4E3",
             "linecolor": "#C8D4E3",
             "minorgridcolor": "#C8D4E3",
             "startlinecolor": "#2a3f5f"
            },
            "type": "carpet"
           }
          ],
          "choropleth": [
           {
            "colorbar": {
             "outlinewidth": 0,
             "ticks": ""
            },
            "type": "choropleth"
           }
          ],
          "contour": [
           {
            "colorbar": {
             "outlinewidth": 0,
             "ticks": ""
            },
            "colorscale": [
             [
              0,
              "#0d0887"
             ],
             [
              0.1111111111111111,
              "#46039f"
             ],
             [
              0.2222222222222222,
              "#7201a8"
             ],
             [
              0.3333333333333333,
              "#9c179e"
             ],
             [
              0.4444444444444444,
              "#bd3786"
             ],
             [
              0.5555555555555556,
              "#d8576b"
             ],
             [
              0.6666666666666666,
              "#ed7953"
             ],
             [
              0.7777777777777778,
              "#fb9f3a"
             ],
             [
              0.8888888888888888,
              "#fdca26"
             ],
             [
              1,
              "#f0f921"
             ]
            ],
            "type": "contour"
           }
          ],
          "contourcarpet": [
           {
            "colorbar": {
             "outlinewidth": 0,
             "ticks": ""
            },
            "type": "contourcarpet"
           }
          ],
          "heatmap": [
           {
            "colorbar": {
             "outlinewidth": 0,
             "ticks": ""
            },
            "colorscale": [
             [
              0,
              "#0d0887"
             ],
             [
              0.1111111111111111,
              "#46039f"
             ],
             [
              0.2222222222222222,
              "#7201a8"
             ],
             [
              0.3333333333333333,
              "#9c179e"
             ],
             [
              0.4444444444444444,
              "#bd3786"
             ],
             [
              0.5555555555555556,
              "#d8576b"
             ],
             [
              0.6666666666666666,
              "#ed7953"
             ],
             [
              0.7777777777777778,
              "#fb9f3a"
             ],
             [
              0.8888888888888888,
              "#fdca26"
             ],
             [
              1,
              "#f0f921"
             ]
            ],
            "type": "heatmap"
           }
          ],
          "heatmapgl": [
           {
            "colorbar": {
             "outlinewidth": 0,
             "ticks": ""
            },
            "colorscale": [
             [
              0,
              "#0d0887"
             ],
             [
              0.1111111111111111,
              "#46039f"
             ],
             [
              0.2222222222222222,
              "#7201a8"
             ],
             [
              0.3333333333333333,
              "#9c179e"
             ],
             [
              0.4444444444444444,
              "#bd3786"
             ],
             [
              0.5555555555555556,
              "#d8576b"
             ],
             [
              0.6666666666666666,
              "#ed7953"
             ],
             [
              0.7777777777777778,
              "#fb9f3a"
             ],
             [
              0.8888888888888888,
              "#fdca26"
             ],
             [
              1,
              "#f0f921"
             ]
            ],
            "type": "heatmapgl"
           }
          ],
          "histogram": [
           {
            "marker": {
             "pattern": {
              "fillmode": "overlay",
              "size": 10,
              "solidity": 0.2
             }
            },
            "type": "histogram"
           }
          ],
          "histogram2d": [
           {
            "colorbar": {
             "outlinewidth": 0,
             "ticks": ""
            },
            "colorscale": [
             [
              0,
              "#0d0887"
             ],
             [
              0.1111111111111111,
              "#46039f"
             ],
             [
              0.2222222222222222,
              "#7201a8"
             ],
             [
              0.3333333333333333,
              "#9c179e"
             ],
             [
              0.4444444444444444,
              "#bd3786"
             ],
             [
              0.5555555555555556,
              "#d8576b"
             ],
             [
              0.6666666666666666,
              "#ed7953"
             ],
             [
              0.7777777777777778,
              "#fb9f3a"
             ],
             [
              0.8888888888888888,
              "#fdca26"
             ],
             [
              1,
              "#f0f921"
             ]
            ],
            "type": "histogram2d"
           }
          ],
          "histogram2dcontour": [
           {
            "colorbar": {
             "outlinewidth": 0,
             "ticks": ""
            },
            "colorscale": [
             [
              0,
              "#0d0887"
             ],
             [
              0.1111111111111111,
              "#46039f"
             ],
             [
              0.2222222222222222,
              "#7201a8"
             ],
             [
              0.3333333333333333,
              "#9c179e"
             ],
             [
              0.4444444444444444,
              "#bd3786"
             ],
             [
              0.5555555555555556,
              "#d8576b"
             ],
             [
              0.6666666666666666,
              "#ed7953"
             ],
             [
              0.7777777777777778,
              "#fb9f3a"
             ],
             [
              0.8888888888888888,
              "#fdca26"
             ],
             [
              1,
              "#f0f921"
             ]
            ],
            "type": "histogram2dcontour"
           }
          ],
          "mesh3d": [
           {
            "colorbar": {
             "outlinewidth": 0,
             "ticks": ""
            },
            "type": "mesh3d"
           }
          ],
          "parcoords": [
           {
            "line": {
             "colorbar": {
              "outlinewidth": 0,
              "ticks": ""
             }
            },
            "type": "parcoords"
           }
          ],
          "pie": [
           {
            "automargin": true,
            "type": "pie"
           }
          ],
          "scatter": [
           {
            "marker": {
             "colorbar": {
              "outlinewidth": 0,
              "ticks": ""
             }
            },
            "type": "scatter"
           }
          ],
          "scatter3d": [
           {
            "line": {
             "colorbar": {
              "outlinewidth": 0,
              "ticks": ""
             }
            },
            "marker": {
             "colorbar": {
              "outlinewidth": 0,
              "ticks": ""
             }
            },
            "type": "scatter3d"
           }
          ],
          "scattercarpet": [
           {
            "marker": {
             "colorbar": {
              "outlinewidth": 0,
              "ticks": ""
             }
            },
            "type": "scattercarpet"
           }
          ],
          "scattergeo": [
           {
            "marker": {
             "colorbar": {
              "outlinewidth": 0,
              "ticks": ""
             }
            },
            "type": "scattergeo"
           }
          ],
          "scattergl": [
           {
            "marker": {
             "colorbar": {
              "outlinewidth": 0,
              "ticks": ""
             }
            },
            "type": "scattergl"
           }
          ],
          "scattermapbox": [
           {
            "marker": {
             "colorbar": {
              "outlinewidth": 0,
              "ticks": ""
             }
            },
            "type": "scattermapbox"
           }
          ],
          "scatterpolar": [
           {
            "marker": {
             "colorbar": {
              "outlinewidth": 0,
              "ticks": ""
             }
            },
            "type": "scatterpolar"
           }
          ],
          "scatterpolargl": [
           {
            "marker": {
             "colorbar": {
              "outlinewidth": 0,
              "ticks": ""
             }
            },
            "type": "scatterpolargl"
           }
          ],
          "scatterternary": [
           {
            "marker": {
             "colorbar": {
              "outlinewidth": 0,
              "ticks": ""
             }
            },
            "type": "scatterternary"
           }
          ],
          "surface": [
           {
            "colorbar": {
             "outlinewidth": 0,
             "ticks": ""
            },
            "colorscale": [
             [
              0,
              "#0d0887"
             ],
             [
              0.1111111111111111,
              "#46039f"
             ],
             [
              0.2222222222222222,
              "#7201a8"
             ],
             [
              0.3333333333333333,
              "#9c179e"
             ],
             [
              0.4444444444444444,
              "#bd3786"
             ],
             [
              0.5555555555555556,
              "#d8576b"
             ],
             [
              0.6666666666666666,
              "#ed7953"
             ],
             [
              0.7777777777777778,
              "#fb9f3a"
             ],
             [
              0.8888888888888888,
              "#fdca26"
             ],
             [
              1,
              "#f0f921"
             ]
            ],
            "type": "surface"
           }
          ],
          "table": [
           {
            "cells": {
             "fill": {
              "color": "#EBF0F8"
             },
             "line": {
              "color": "white"
             }
            },
            "header": {
             "fill": {
              "color": "#C8D4E3"
             },
             "line": {
              "color": "white"
             }
            },
            "type": "table"
           }
          ]
         },
         "layout": {
          "annotationdefaults": {
           "arrowcolor": "#2a3f5f",
           "arrowhead": 0,
           "arrowwidth": 1
          },
          "autotypenumbers": "strict",
          "coloraxis": {
           "colorbar": {
            "outlinewidth": 0,
            "ticks": ""
           }
          },
          "colorscale": {
           "diverging": [
            [
             0,
             "#8e0152"
            ],
            [
             0.1,
             "#c51b7d"
            ],
            [
             0.2,
             "#de77ae"
            ],
            [
             0.3,
             "#f1b6da"
            ],
            [
             0.4,
             "#fde0ef"
            ],
            [
             0.5,
             "#f7f7f7"
            ],
            [
             0.6,
             "#e6f5d0"
            ],
            [
             0.7,
             "#b8e186"
            ],
            [
             0.8,
             "#7fbc41"
            ],
            [
             0.9,
             "#4d9221"
            ],
            [
             1,
             "#276419"
            ]
           ],
           "sequential": [
            [
             0,
             "#0d0887"
            ],
            [
             0.1111111111111111,
             "#46039f"
            ],
            [
             0.2222222222222222,
             "#7201a8"
            ],
            [
             0.3333333333333333,
             "#9c179e"
            ],
            [
             0.4444444444444444,
             "#bd3786"
            ],
            [
             0.5555555555555556,
             "#d8576b"
            ],
            [
             0.6666666666666666,
             "#ed7953"
            ],
            [
             0.7777777777777778,
             "#fb9f3a"
            ],
            [
             0.8888888888888888,
             "#fdca26"
            ],
            [
             1,
             "#f0f921"
            ]
           ],
           "sequentialminus": [
            [
             0,
             "#0d0887"
            ],
            [
             0.1111111111111111,
             "#46039f"
            ],
            [
             0.2222222222222222,
             "#7201a8"
            ],
            [
             0.3333333333333333,
             "#9c179e"
            ],
            [
             0.4444444444444444,
             "#bd3786"
            ],
            [
             0.5555555555555556,
             "#d8576b"
            ],
            [
             0.6666666666666666,
             "#ed7953"
            ],
            [
             0.7777777777777778,
             "#fb9f3a"
            ],
            [
             0.8888888888888888,
             "#fdca26"
            ],
            [
             1,
             "#f0f921"
            ]
           ]
          },
          "colorway": [
           "#636efa",
           "#EF553B",
           "#00cc96",
           "#ab63fa",
           "#FFA15A",
           "#19d3f3",
           "#FF6692",
           "#B6E880",
           "#FF97FF",
           "#FECB52"
          ],
          "font": {
           "color": "#2a3f5f"
          },
          "geo": {
           "bgcolor": "white",
           "lakecolor": "white",
           "landcolor": "white",
           "showlakes": true,
           "showland": true,
           "subunitcolor": "#C8D4E3"
          },
          "hoverlabel": {
           "align": "left"
          },
          "hovermode": "closest",
          "mapbox": {
           "style": "light"
          },
          "paper_bgcolor": "white",
          "plot_bgcolor": "white",
          "polar": {
           "angularaxis": {
            "gridcolor": "#EBF0F8",
            "linecolor": "#EBF0F8",
            "ticks": ""
           },
           "bgcolor": "white",
           "radialaxis": {
            "gridcolor": "#EBF0F8",
            "linecolor": "#EBF0F8",
            "ticks": ""
           }
          },
          "scene": {
           "xaxis": {
            "backgroundcolor": "white",
            "gridcolor": "#DFE8F3",
            "gridwidth": 2,
            "linecolor": "#EBF0F8",
            "showbackground": true,
            "ticks": "",
            "zerolinecolor": "#EBF0F8"
           },
           "yaxis": {
            "backgroundcolor": "white",
            "gridcolor": "#DFE8F3",
            "gridwidth": 2,
            "linecolor": "#EBF0F8",
            "showbackground": true,
            "ticks": "",
            "zerolinecolor": "#EBF0F8"
           },
           "zaxis": {
            "backgroundcolor": "white",
            "gridcolor": "#DFE8F3",
            "gridwidth": 2,
            "linecolor": "#EBF0F8",
            "showbackground": true,
            "ticks": "",
            "zerolinecolor": "#EBF0F8"
           }
          },
          "shapedefaults": {
           "line": {
            "color": "#2a3f5f"
           }
          },
          "ternary": {
           "aaxis": {
            "gridcolor": "#DFE8F3",
            "linecolor": "#A2B1C6",
            "ticks": ""
           },
           "baxis": {
            "gridcolor": "#DFE8F3",
            "linecolor": "#A2B1C6",
            "ticks": ""
           },
           "bgcolor": "white",
           "caxis": {
            "gridcolor": "#DFE8F3",
            "linecolor": "#A2B1C6",
            "ticks": ""
           }
          },
          "title": {
           "x": 0.05
          },
          "xaxis": {
           "automargin": true,
           "gridcolor": "#EBF0F8",
           "linecolor": "#EBF0F8",
           "ticks": "",
           "title": {
            "standoff": 15
           },
           "zerolinecolor": "#EBF0F8",
           "zerolinewidth": 2
          },
          "yaxis": {
           "automargin": true,
           "gridcolor": "#EBF0F8",
           "linecolor": "#EBF0F8",
           "ticks": "",
           "title": {
            "standoff": 15
           },
           "zerolinecolor": "#EBF0F8",
           "zerolinewidth": 2
          }
         }
        },
        "xaxis": {
         "anchor": "y",
         "domain": [
          0,
          0.94
         ],
         "matches": "x2",
         "showticklabels": false,
         "spikedash": "dot",
         "spikemode": "across+marker",
         "spikesnap": "cursor",
         "spikethickness": 2
        },
        "xaxis2": {
         "anchor": "y3",
         "domain": [
          0,
          0.94
         ],
         "spikedash": "dot",
         "spikemode": "across+marker",
         "spikesnap": "cursor",
         "spikethickness": 2
        },
        "yaxis": {
         "anchor": "x",
         "domain": [
          0.32100000000000006,
          1
         ]
        },
        "yaxis2": {
         "anchor": "x",
         "overlaying": "y",
         "side": "right"
        },
        "yaxis3": {
         "anchor": "x2",
         "domain": [
          0,
          0.29100000000000004
         ]
        },
        "yaxis4": {
         "anchor": "x2",
         "overlaying": "y3",
         "side": "right"
        }
       },
       "_py2js_animate": {},
       "_py2js_deleteTraces": {},
       "_py2js_moveTraces": {},
       "_py2js_relayout": {},
       "_py2js_removeLayoutProps": {},
       "_py2js_removeTraceProps": {},
       "_view_count": 0
      }
     },
     "92affac24a5a40f98d29567e84245d18": {
      "model_module": "@jupyter-widgets/controls",
      "model_module_version": "1.5.0",
      "model_name": "IntSliderModel",
      "state": {
       "description": "Period",
       "layout": "IPY_MODEL_253ff45c93be492aaf332614ca6badd5",
       "max": 20000,
       "min": 50,
       "step": 50,
       "style": "IPY_MODEL_1956664ce9284eba80241e0a551128ba",
       "value": 10000
      }
     },
     "947388ecf64942fdac160fba17c019d3": {
      "model_module": "@jupyter-widgets/controls",
      "model_module_version": "1.5.0",
      "model_name": "VBoxModel",
      "state": {
       "children": [
        "IPY_MODEL_5d855ce1ab8647a3a612602bd90dfc97",
        "IPY_MODEL_d84ab375e7f147588f7bd0925ee3459e"
       ],
       "layout": "IPY_MODEL_b97ed3c33daf4de6b2fce284aef957d1"
      }
     },
     "96860d1d1b2e454883cfade795be2080": {
      "model_module": "@jupyter-widgets/base",
      "model_module_version": "1.2.0",
      "model_name": "LayoutModel",
      "state": {}
     },
     "98e0df7b08cc41ba922e236bd3d85f73": {
      "model_module": "@jupyter-widgets/output",
      "model_module_version": "1.0.0",
      "model_name": "OutputModel",
      "state": {
       "layout": "IPY_MODEL_658d502978454db6b7fae083e667d6ca"
      }
     },
     "999d3d116b7448d89623de03b8a4c047": {
      "model_module": "@jupyter-widgets/controls",
      "model_module_version": "1.5.0",
      "model_name": "SliderStyleModel",
      "state": {
       "description_width": ""
      }
     },
     "9b6f6f2db2a045d59c3a6e9916c392d2": {
      "model_module": "jupyterlab-plotly",
      "model_module_version": "^5.6.0",
      "model_name": "FigureModel",
      "state": {
       "_config": {
        "plotlyServerURL": "https://plot.ly"
       },
       "_js2py_layoutDelta": {},
       "_js2py_pointsCallback": {},
       "_js2py_relayout": {},
       "_js2py_restyle": {},
       "_js2py_traceDeltas": {},
       "_js2py_update": {},
       "_layout": {
        "template": {
         "data": {
          "bar": [
           {
            "error_x": {
             "color": "#2a3f5f"
            },
            "error_y": {
             "color": "#2a3f5f"
            },
            "marker": {
             "line": {
              "color": "#E5ECF6",
              "width": 0.5
             },
             "pattern": {
              "fillmode": "overlay",
              "size": 10,
              "solidity": 0.2
             }
            },
            "type": "bar"
           }
          ],
          "barpolar": [
           {
            "marker": {
             "line": {
              "color": "#E5ECF6",
              "width": 0.5
             },
             "pattern": {
              "fillmode": "overlay",
              "size": 10,
              "solidity": 0.2
             }
            },
            "type": "barpolar"
           }
          ],
          "carpet": [
           {
            "aaxis": {
             "endlinecolor": "#2a3f5f",
             "gridcolor": "white",
             "linecolor": "white",
             "minorgridcolor": "white",
             "startlinecolor": "#2a3f5f"
            },
            "baxis": {
             "endlinecolor": "#2a3f5f",
             "gridcolor": "white",
             "linecolor": "white",
             "minorgridcolor": "white",
             "startlinecolor": "#2a3f5f"
            },
            "type": "carpet"
           }
          ],
          "choropleth": [
           {
            "colorbar": {
             "outlinewidth": 0,
             "ticks": ""
            },
            "type": "choropleth"
           }
          ],
          "contour": [
           {
            "colorbar": {
             "outlinewidth": 0,
             "ticks": ""
            },
            "colorscale": [
             [
              0,
              "#0d0887"
             ],
             [
              0.1111111111111111,
              "#46039f"
             ],
             [
              0.2222222222222222,
              "#7201a8"
             ],
             [
              0.3333333333333333,
              "#9c179e"
             ],
             [
              0.4444444444444444,
              "#bd3786"
             ],
             [
              0.5555555555555556,
              "#d8576b"
             ],
             [
              0.6666666666666666,
              "#ed7953"
             ],
             [
              0.7777777777777778,
              "#fb9f3a"
             ],
             [
              0.8888888888888888,
              "#fdca26"
             ],
             [
              1,
              "#f0f921"
             ]
            ],
            "type": "contour"
           }
          ],
          "contourcarpet": [
           {
            "colorbar": {
             "outlinewidth": 0,
             "ticks": ""
            },
            "type": "contourcarpet"
           }
          ],
          "heatmap": [
           {
            "colorbar": {
             "outlinewidth": 0,
             "ticks": ""
            },
            "colorscale": [
             [
              0,
              "#0d0887"
             ],
             [
              0.1111111111111111,
              "#46039f"
             ],
             [
              0.2222222222222222,
              "#7201a8"
             ],
             [
              0.3333333333333333,
              "#9c179e"
             ],
             [
              0.4444444444444444,
              "#bd3786"
             ],
             [
              0.5555555555555556,
              "#d8576b"
             ],
             [
              0.6666666666666666,
              "#ed7953"
             ],
             [
              0.7777777777777778,
              "#fb9f3a"
             ],
             [
              0.8888888888888888,
              "#fdca26"
             ],
             [
              1,
              "#f0f921"
             ]
            ],
            "type": "heatmap"
           }
          ],
          "heatmapgl": [
           {
            "colorbar": {
             "outlinewidth": 0,
             "ticks": ""
            },
            "colorscale": [
             [
              0,
              "#0d0887"
             ],
             [
              0.1111111111111111,
              "#46039f"
             ],
             [
              0.2222222222222222,
              "#7201a8"
             ],
             [
              0.3333333333333333,
              "#9c179e"
             ],
             [
              0.4444444444444444,
              "#bd3786"
             ],
             [
              0.5555555555555556,
              "#d8576b"
             ],
             [
              0.6666666666666666,
              "#ed7953"
             ],
             [
              0.7777777777777778,
              "#fb9f3a"
             ],
             [
              0.8888888888888888,
              "#fdca26"
             ],
             [
              1,
              "#f0f921"
             ]
            ],
            "type": "heatmapgl"
           }
          ],
          "histogram": [
           {
            "marker": {
             "pattern": {
              "fillmode": "overlay",
              "size": 10,
              "solidity": 0.2
             }
            },
            "type": "histogram"
           }
          ],
          "histogram2d": [
           {
            "colorbar": {
             "outlinewidth": 0,
             "ticks": ""
            },
            "colorscale": [
             [
              0,
              "#0d0887"
             ],
             [
              0.1111111111111111,
              "#46039f"
             ],
             [
              0.2222222222222222,
              "#7201a8"
             ],
             [
              0.3333333333333333,
              "#9c179e"
             ],
             [
              0.4444444444444444,
              "#bd3786"
             ],
             [
              0.5555555555555556,
              "#d8576b"
             ],
             [
              0.6666666666666666,
              "#ed7953"
             ],
             [
              0.7777777777777778,
              "#fb9f3a"
             ],
             [
              0.8888888888888888,
              "#fdca26"
             ],
             [
              1,
              "#f0f921"
             ]
            ],
            "type": "histogram2d"
           }
          ],
          "histogram2dcontour": [
           {
            "colorbar": {
             "outlinewidth": 0,
             "ticks": ""
            },
            "colorscale": [
             [
              0,
              "#0d0887"
             ],
             [
              0.1111111111111111,
              "#46039f"
             ],
             [
              0.2222222222222222,
              "#7201a8"
             ],
             [
              0.3333333333333333,
              "#9c179e"
             ],
             [
              0.4444444444444444,
              "#bd3786"
             ],
             [
              0.5555555555555556,
              "#d8576b"
             ],
             [
              0.6666666666666666,
              "#ed7953"
             ],
             [
              0.7777777777777778,
              "#fb9f3a"
             ],
             [
              0.8888888888888888,
              "#fdca26"
             ],
             [
              1,
              "#f0f921"
             ]
            ],
            "type": "histogram2dcontour"
           }
          ],
          "mesh3d": [
           {
            "colorbar": {
             "outlinewidth": 0,
             "ticks": ""
            },
            "type": "mesh3d"
           }
          ],
          "parcoords": [
           {
            "line": {
             "colorbar": {
              "outlinewidth": 0,
              "ticks": ""
             }
            },
            "type": "parcoords"
           }
          ],
          "pie": [
           {
            "automargin": true,
            "type": "pie"
           }
          ],
          "scatter": [
           {
            "marker": {
             "colorbar": {
              "outlinewidth": 0,
              "ticks": ""
             }
            },
            "type": "scatter"
           }
          ],
          "scatter3d": [
           {
            "line": {
             "colorbar": {
              "outlinewidth": 0,
              "ticks": ""
             }
            },
            "marker": {
             "colorbar": {
              "outlinewidth": 0,
              "ticks": ""
             }
            },
            "type": "scatter3d"
           }
          ],
          "scattercarpet": [
           {
            "marker": {
             "colorbar": {
              "outlinewidth": 0,
              "ticks": ""
             }
            },
            "type": "scattercarpet"
           }
          ],
          "scattergeo": [
           {
            "marker": {
             "colorbar": {
              "outlinewidth": 0,
              "ticks": ""
             }
            },
            "type": "scattergeo"
           }
          ],
          "scattergl": [
           {
            "marker": {
             "colorbar": {
              "outlinewidth": 0,
              "ticks": ""
             }
            },
            "type": "scattergl"
           }
          ],
          "scattermapbox": [
           {
            "marker": {
             "colorbar": {
              "outlinewidth": 0,
              "ticks": ""
             }
            },
            "type": "scattermapbox"
           }
          ],
          "scatterpolar": [
           {
            "marker": {
             "colorbar": {
              "outlinewidth": 0,
              "ticks": ""
             }
            },
            "type": "scatterpolar"
           }
          ],
          "scatterpolargl": [
           {
            "marker": {
             "colorbar": {
              "outlinewidth": 0,
              "ticks": ""
             }
            },
            "type": "scatterpolargl"
           }
          ],
          "scatterternary": [
           {
            "marker": {
             "colorbar": {
              "outlinewidth": 0,
              "ticks": ""
             }
            },
            "type": "scatterternary"
           }
          ],
          "surface": [
           {
            "colorbar": {
             "outlinewidth": 0,
             "ticks": ""
            },
            "colorscale": [
             [
              0,
              "#0d0887"
             ],
             [
              0.1111111111111111,
              "#46039f"
             ],
             [
              0.2222222222222222,
              "#7201a8"
             ],
             [
              0.3333333333333333,
              "#9c179e"
             ],
             [
              0.4444444444444444,
              "#bd3786"
             ],
             [
              0.5555555555555556,
              "#d8576b"
             ],
             [
              0.6666666666666666,
              "#ed7953"
             ],
             [
              0.7777777777777778,
              "#fb9f3a"
             ],
             [
              0.8888888888888888,
              "#fdca26"
             ],
             [
              1,
              "#f0f921"
             ]
            ],
            "type": "surface"
           }
          ],
          "table": [
           {
            "cells": {
             "fill": {
              "color": "#EBF0F8"
             },
             "line": {
              "color": "white"
             }
            },
            "header": {
             "fill": {
              "color": "#C8D4E3"
             },
             "line": {
              "color": "white"
             }
            },
            "type": "table"
           }
          ]
         },
         "layout": {
          "annotationdefaults": {
           "arrowcolor": "#2a3f5f",
           "arrowhead": 0,
           "arrowwidth": 1
          },
          "autotypenumbers": "strict",
          "coloraxis": {
           "colorbar": {
            "outlinewidth": 0,
            "ticks": ""
           }
          },
          "colorscale": {
           "diverging": [
            [
             0,
             "#8e0152"
            ],
            [
             0.1,
             "#c51b7d"
            ],
            [
             0.2,
             "#de77ae"
            ],
            [
             0.3,
             "#f1b6da"
            ],
            [
             0.4,
             "#fde0ef"
            ],
            [
             0.5,
             "#f7f7f7"
            ],
            [
             0.6,
             "#e6f5d0"
            ],
            [
             0.7,
             "#b8e186"
            ],
            [
             0.8,
             "#7fbc41"
            ],
            [
             0.9,
             "#4d9221"
            ],
            [
             1,
             "#276419"
            ]
           ],
           "sequential": [
            [
             0,
             "#0d0887"
            ],
            [
             0.1111111111111111,
             "#46039f"
            ],
            [
             0.2222222222222222,
             "#7201a8"
            ],
            [
             0.3333333333333333,
             "#9c179e"
            ],
            [
             0.4444444444444444,
             "#bd3786"
            ],
            [
             0.5555555555555556,
             "#d8576b"
            ],
            [
             0.6666666666666666,
             "#ed7953"
            ],
            [
             0.7777777777777778,
             "#fb9f3a"
            ],
            [
             0.8888888888888888,
             "#fdca26"
            ],
            [
             1,
             "#f0f921"
            ]
           ],
           "sequentialminus": [
            [
             0,
             "#0d0887"
            ],
            [
             0.1111111111111111,
             "#46039f"
            ],
            [
             0.2222222222222222,
             "#7201a8"
            ],
            [
             0.3333333333333333,
             "#9c179e"
            ],
            [
             0.4444444444444444,
             "#bd3786"
            ],
            [
             0.5555555555555556,
             "#d8576b"
            ],
            [
             0.6666666666666666,
             "#ed7953"
            ],
            [
             0.7777777777777778,
             "#fb9f3a"
            ],
            [
             0.8888888888888888,
             "#fdca26"
            ],
            [
             1,
             "#f0f921"
            ]
           ]
          },
          "colorway": [
           "#636efa",
           "#EF553B",
           "#00cc96",
           "#ab63fa",
           "#FFA15A",
           "#19d3f3",
           "#FF6692",
           "#B6E880",
           "#FF97FF",
           "#FECB52"
          ],
          "font": {
           "color": "#2a3f5f"
          },
          "geo": {
           "bgcolor": "white",
           "lakecolor": "white",
           "landcolor": "#E5ECF6",
           "showlakes": true,
           "showland": true,
           "subunitcolor": "white"
          },
          "hoverlabel": {
           "align": "left"
          },
          "hovermode": "closest",
          "mapbox": {
           "style": "light"
          },
          "paper_bgcolor": "white",
          "plot_bgcolor": "#E5ECF6",
          "polar": {
           "angularaxis": {
            "gridcolor": "white",
            "linecolor": "white",
            "ticks": ""
           },
           "bgcolor": "#E5ECF6",
           "radialaxis": {
            "gridcolor": "white",
            "linecolor": "white",
            "ticks": ""
           }
          },
          "scene": {
           "xaxis": {
            "backgroundcolor": "#E5ECF6",
            "gridcolor": "white",
            "gridwidth": 2,
            "linecolor": "white",
            "showbackground": true,
            "ticks": "",
            "zerolinecolor": "white"
           },
           "yaxis": {
            "backgroundcolor": "#E5ECF6",
            "gridcolor": "white",
            "gridwidth": 2,
            "linecolor": "white",
            "showbackground": true,
            "ticks": "",
            "zerolinecolor": "white"
           },
           "zaxis": {
            "backgroundcolor": "#E5ECF6",
            "gridcolor": "white",
            "gridwidth": 2,
            "linecolor": "white",
            "showbackground": true,
            "ticks": "",
            "zerolinecolor": "white"
           }
          },
          "shapedefaults": {
           "line": {
            "color": "#2a3f5f"
           }
          },
          "ternary": {
           "aaxis": {
            "gridcolor": "white",
            "linecolor": "white",
            "ticks": ""
           },
           "baxis": {
            "gridcolor": "white",
            "linecolor": "white",
            "ticks": ""
           },
           "bgcolor": "#E5ECF6",
           "caxis": {
            "gridcolor": "white",
            "linecolor": "white",
            "ticks": ""
           }
          },
          "title": {
           "x": 0.05
          },
          "xaxis": {
           "automargin": true,
           "gridcolor": "white",
           "linecolor": "white",
           "ticks": "",
           "title": {
            "standoff": 15
           },
           "zerolinecolor": "white",
           "zerolinewidth": 2
          },
          "yaxis": {
           "automargin": true,
           "gridcolor": "white",
           "linecolor": "white",
           "ticks": "",
           "title": {
            "standoff": 15
           },
           "zerolinecolor": "white",
           "zerolinewidth": 2
          }
         }
        },
        "xaxis": {
         "anchor": "y",
         "domain": [
          0,
          0.94
         ],
         "matches": "x2",
         "showticklabels": false
        },
        "xaxis2": {
         "anchor": "y3",
         "domain": [
          0,
          0.94
         ]
        },
        "yaxis": {
         "anchor": "x",
         "domain": [
          0.32100000000000006,
          1
         ]
        },
        "yaxis2": {
         "anchor": "x",
         "overlaying": "y",
         "side": "right"
        },
        "yaxis3": {
         "anchor": "x2",
         "domain": [
          0,
          0.29100000000000004
         ]
        },
        "yaxis4": {
         "anchor": "x2",
         "overlaying": "y3",
         "side": "right"
        }
       },
       "_py2js_addTraces": {},
       "_py2js_animate": {},
       "_py2js_deleteTraces": {},
       "_py2js_moveTraces": {},
       "_py2js_relayout": {},
       "_py2js_removeLayoutProps": {},
       "_py2js_removeTraceProps": {},
       "_py2js_restyle": {},
       "_py2js_update": {},
       "_view_count": 0
      }
     },
     "aa1f9d17af3f4e93a0bc085f656913df": {
      "model_module": "@jupyter-widgets/controls",
      "model_module_version": "1.5.0",
      "model_name": "IntSliderModel",
      "state": {
       "description": "Threshold",
       "layout": "IPY_MODEL_4bef9ed08e4942c7b321b1569726d3f3",
       "max": 10,
       "style": "IPY_MODEL_fe316beead6b45a2bc5a563a85e944f1"
      }
     },
     "ab9ed1eaa2994717bf807d9455293db9": {
      "model_module": "jupyterlab-plotly",
      "model_module_version": "^5.6.0",
      "model_name": "FigureModel",
      "state": {
       "_config": {
        "plotlyServerURL": "https://plot.ly"
       },
       "_js2py_layoutDelta": {},
       "_js2py_pointsCallback": {},
       "_js2py_relayout": {},
       "_js2py_restyle": {},
       "_js2py_traceDeltas": {},
       "_js2py_update": {},
       "_layout": {
        "template": {
         "data": {
          "bar": [
           {
            "error_x": {
             "color": "#2a3f5f"
            },
            "error_y": {
             "color": "#2a3f5f"
            },
            "marker": {
             "line": {
              "color": "#E5ECF6",
              "width": 0.5
             },
             "pattern": {
              "fillmode": "overlay",
              "size": 10,
              "solidity": 0.2
             }
            },
            "type": "bar"
           }
          ],
          "barpolar": [
           {
            "marker": {
             "line": {
              "color": "#E5ECF6",
              "width": 0.5
             },
             "pattern": {
              "fillmode": "overlay",
              "size": 10,
              "solidity": 0.2
             }
            },
            "type": "barpolar"
           }
          ],
          "carpet": [
           {
            "aaxis": {
             "endlinecolor": "#2a3f5f",
             "gridcolor": "white",
             "linecolor": "white",
             "minorgridcolor": "white",
             "startlinecolor": "#2a3f5f"
            },
            "baxis": {
             "endlinecolor": "#2a3f5f",
             "gridcolor": "white",
             "linecolor": "white",
             "minorgridcolor": "white",
             "startlinecolor": "#2a3f5f"
            },
            "type": "carpet"
           }
          ],
          "choropleth": [
           {
            "colorbar": {
             "outlinewidth": 0,
             "ticks": ""
            },
            "type": "choropleth"
           }
          ],
          "contour": [
           {
            "colorbar": {
             "outlinewidth": 0,
             "ticks": ""
            },
            "colorscale": [
             [
              0,
              "#0d0887"
             ],
             [
              0.1111111111111111,
              "#46039f"
             ],
             [
              0.2222222222222222,
              "#7201a8"
             ],
             [
              0.3333333333333333,
              "#9c179e"
             ],
             [
              0.4444444444444444,
              "#bd3786"
             ],
             [
              0.5555555555555556,
              "#d8576b"
             ],
             [
              0.6666666666666666,
              "#ed7953"
             ],
             [
              0.7777777777777778,
              "#fb9f3a"
             ],
             [
              0.8888888888888888,
              "#fdca26"
             ],
             [
              1,
              "#f0f921"
             ]
            ],
            "type": "contour"
           }
          ],
          "contourcarpet": [
           {
            "colorbar": {
             "outlinewidth": 0,
             "ticks": ""
            },
            "type": "contourcarpet"
           }
          ],
          "heatmap": [
           {
            "colorbar": {
             "outlinewidth": 0,
             "ticks": ""
            },
            "colorscale": [
             [
              0,
              "#0d0887"
             ],
             [
              0.1111111111111111,
              "#46039f"
             ],
             [
              0.2222222222222222,
              "#7201a8"
             ],
             [
              0.3333333333333333,
              "#9c179e"
             ],
             [
              0.4444444444444444,
              "#bd3786"
             ],
             [
              0.5555555555555556,
              "#d8576b"
             ],
             [
              0.6666666666666666,
              "#ed7953"
             ],
             [
              0.7777777777777778,
              "#fb9f3a"
             ],
             [
              0.8888888888888888,
              "#fdca26"
             ],
             [
              1,
              "#f0f921"
             ]
            ],
            "type": "heatmap"
           }
          ],
          "heatmapgl": [
           {
            "colorbar": {
             "outlinewidth": 0,
             "ticks": ""
            },
            "colorscale": [
             [
              0,
              "#0d0887"
             ],
             [
              0.1111111111111111,
              "#46039f"
             ],
             [
              0.2222222222222222,
              "#7201a8"
             ],
             [
              0.3333333333333333,
              "#9c179e"
             ],
             [
              0.4444444444444444,
              "#bd3786"
             ],
             [
              0.5555555555555556,
              "#d8576b"
             ],
             [
              0.6666666666666666,
              "#ed7953"
             ],
             [
              0.7777777777777778,
              "#fb9f3a"
             ],
             [
              0.8888888888888888,
              "#fdca26"
             ],
             [
              1,
              "#f0f921"
             ]
            ],
            "type": "heatmapgl"
           }
          ],
          "histogram": [
           {
            "marker": {
             "pattern": {
              "fillmode": "overlay",
              "size": 10,
              "solidity": 0.2
             }
            },
            "type": "histogram"
           }
          ],
          "histogram2d": [
           {
            "colorbar": {
             "outlinewidth": 0,
             "ticks": ""
            },
            "colorscale": [
             [
              0,
              "#0d0887"
             ],
             [
              0.1111111111111111,
              "#46039f"
             ],
             [
              0.2222222222222222,
              "#7201a8"
             ],
             [
              0.3333333333333333,
              "#9c179e"
             ],
             [
              0.4444444444444444,
              "#bd3786"
             ],
             [
              0.5555555555555556,
              "#d8576b"
             ],
             [
              0.6666666666666666,
              "#ed7953"
             ],
             [
              0.7777777777777778,
              "#fb9f3a"
             ],
             [
              0.8888888888888888,
              "#fdca26"
             ],
             [
              1,
              "#f0f921"
             ]
            ],
            "type": "histogram2d"
           }
          ],
          "histogram2dcontour": [
           {
            "colorbar": {
             "outlinewidth": 0,
             "ticks": ""
            },
            "colorscale": [
             [
              0,
              "#0d0887"
             ],
             [
              0.1111111111111111,
              "#46039f"
             ],
             [
              0.2222222222222222,
              "#7201a8"
             ],
             [
              0.3333333333333333,
              "#9c179e"
             ],
             [
              0.4444444444444444,
              "#bd3786"
             ],
             [
              0.5555555555555556,
              "#d8576b"
             ],
             [
              0.6666666666666666,
              "#ed7953"
             ],
             [
              0.7777777777777778,
              "#fb9f3a"
             ],
             [
              0.8888888888888888,
              "#fdca26"
             ],
             [
              1,
              "#f0f921"
             ]
            ],
            "type": "histogram2dcontour"
           }
          ],
          "mesh3d": [
           {
            "colorbar": {
             "outlinewidth": 0,
             "ticks": ""
            },
            "type": "mesh3d"
           }
          ],
          "parcoords": [
           {
            "line": {
             "colorbar": {
              "outlinewidth": 0,
              "ticks": ""
             }
            },
            "type": "parcoords"
           }
          ],
          "pie": [
           {
            "automargin": true,
            "type": "pie"
           }
          ],
          "scatter": [
           {
            "marker": {
             "colorbar": {
              "outlinewidth": 0,
              "ticks": ""
             }
            },
            "type": "scatter"
           }
          ],
          "scatter3d": [
           {
            "line": {
             "colorbar": {
              "outlinewidth": 0,
              "ticks": ""
             }
            },
            "marker": {
             "colorbar": {
              "outlinewidth": 0,
              "ticks": ""
             }
            },
            "type": "scatter3d"
           }
          ],
          "scattercarpet": [
           {
            "marker": {
             "colorbar": {
              "outlinewidth": 0,
              "ticks": ""
             }
            },
            "type": "scattercarpet"
           }
          ],
          "scattergeo": [
           {
            "marker": {
             "colorbar": {
              "outlinewidth": 0,
              "ticks": ""
             }
            },
            "type": "scattergeo"
           }
          ],
          "scattergl": [
           {
            "marker": {
             "colorbar": {
              "outlinewidth": 0,
              "ticks": ""
             }
            },
            "type": "scattergl"
           }
          ],
          "scattermapbox": [
           {
            "marker": {
             "colorbar": {
              "outlinewidth": 0,
              "ticks": ""
             }
            },
            "type": "scattermapbox"
           }
          ],
          "scatterpolar": [
           {
            "marker": {
             "colorbar": {
              "outlinewidth": 0,
              "ticks": ""
             }
            },
            "type": "scatterpolar"
           }
          ],
          "scatterpolargl": [
           {
            "marker": {
             "colorbar": {
              "outlinewidth": 0,
              "ticks": ""
             }
            },
            "type": "scatterpolargl"
           }
          ],
          "scatterternary": [
           {
            "marker": {
             "colorbar": {
              "outlinewidth": 0,
              "ticks": ""
             }
            },
            "type": "scatterternary"
           }
          ],
          "surface": [
           {
            "colorbar": {
             "outlinewidth": 0,
             "ticks": ""
            },
            "colorscale": [
             [
              0,
              "#0d0887"
             ],
             [
              0.1111111111111111,
              "#46039f"
             ],
             [
              0.2222222222222222,
              "#7201a8"
             ],
             [
              0.3333333333333333,
              "#9c179e"
             ],
             [
              0.4444444444444444,
              "#bd3786"
             ],
             [
              0.5555555555555556,
              "#d8576b"
             ],
             [
              0.6666666666666666,
              "#ed7953"
             ],
             [
              0.7777777777777778,
              "#fb9f3a"
             ],
             [
              0.8888888888888888,
              "#fdca26"
             ],
             [
              1,
              "#f0f921"
             ]
            ],
            "type": "surface"
           }
          ],
          "table": [
           {
            "cells": {
             "fill": {
              "color": "#EBF0F8"
             },
             "line": {
              "color": "white"
             }
            },
            "header": {
             "fill": {
              "color": "#C8D4E3"
             },
             "line": {
              "color": "white"
             }
            },
            "type": "table"
           }
          ]
         },
         "layout": {
          "annotationdefaults": {
           "arrowcolor": "#2a3f5f",
           "arrowhead": 0,
           "arrowwidth": 1
          },
          "autotypenumbers": "strict",
          "coloraxis": {
           "colorbar": {
            "outlinewidth": 0,
            "ticks": ""
           }
          },
          "colorscale": {
           "diverging": [
            [
             0,
             "#8e0152"
            ],
            [
             0.1,
             "#c51b7d"
            ],
            [
             0.2,
             "#de77ae"
            ],
            [
             0.3,
             "#f1b6da"
            ],
            [
             0.4,
             "#fde0ef"
            ],
            [
             0.5,
             "#f7f7f7"
            ],
            [
             0.6,
             "#e6f5d0"
            ],
            [
             0.7,
             "#b8e186"
            ],
            [
             0.8,
             "#7fbc41"
            ],
            [
             0.9,
             "#4d9221"
            ],
            [
             1,
             "#276419"
            ]
           ],
           "sequential": [
            [
             0,
             "#0d0887"
            ],
            [
             0.1111111111111111,
             "#46039f"
            ],
            [
             0.2222222222222222,
             "#7201a8"
            ],
            [
             0.3333333333333333,
             "#9c179e"
            ],
            [
             0.4444444444444444,
             "#bd3786"
            ],
            [
             0.5555555555555556,
             "#d8576b"
            ],
            [
             0.6666666666666666,
             "#ed7953"
            ],
            [
             0.7777777777777778,
             "#fb9f3a"
            ],
            [
             0.8888888888888888,
             "#fdca26"
            ],
            [
             1,
             "#f0f921"
            ]
           ],
           "sequentialminus": [
            [
             0,
             "#0d0887"
            ],
            [
             0.1111111111111111,
             "#46039f"
            ],
            [
             0.2222222222222222,
             "#7201a8"
            ],
            [
             0.3333333333333333,
             "#9c179e"
            ],
            [
             0.4444444444444444,
             "#bd3786"
            ],
            [
             0.5555555555555556,
             "#d8576b"
            ],
            [
             0.6666666666666666,
             "#ed7953"
            ],
            [
             0.7777777777777778,
             "#fb9f3a"
            ],
            [
             0.8888888888888888,
             "#fdca26"
            ],
            [
             1,
             "#f0f921"
            ]
           ]
          },
          "colorway": [
           "#636efa",
           "#EF553B",
           "#00cc96",
           "#ab63fa",
           "#FFA15A",
           "#19d3f3",
           "#FF6692",
           "#B6E880",
           "#FF97FF",
           "#FECB52"
          ],
          "font": {
           "color": "#2a3f5f"
          },
          "geo": {
           "bgcolor": "white",
           "lakecolor": "white",
           "landcolor": "#E5ECF6",
           "showlakes": true,
           "showland": true,
           "subunitcolor": "white"
          },
          "hoverlabel": {
           "align": "left"
          },
          "hovermode": "closest",
          "mapbox": {
           "style": "light"
          },
          "paper_bgcolor": "white",
          "plot_bgcolor": "#E5ECF6",
          "polar": {
           "angularaxis": {
            "gridcolor": "white",
            "linecolor": "white",
            "ticks": ""
           },
           "bgcolor": "#E5ECF6",
           "radialaxis": {
            "gridcolor": "white",
            "linecolor": "white",
            "ticks": ""
           }
          },
          "scene": {
           "xaxis": {
            "backgroundcolor": "#E5ECF6",
            "gridcolor": "white",
            "gridwidth": 2,
            "linecolor": "white",
            "showbackground": true,
            "ticks": "",
            "zerolinecolor": "white"
           },
           "yaxis": {
            "backgroundcolor": "#E5ECF6",
            "gridcolor": "white",
            "gridwidth": 2,
            "linecolor": "white",
            "showbackground": true,
            "ticks": "",
            "zerolinecolor": "white"
           },
           "zaxis": {
            "backgroundcolor": "#E5ECF6",
            "gridcolor": "white",
            "gridwidth": 2,
            "linecolor": "white",
            "showbackground": true,
            "ticks": "",
            "zerolinecolor": "white"
           }
          },
          "shapedefaults": {
           "line": {
            "color": "#2a3f5f"
           }
          },
          "ternary": {
           "aaxis": {
            "gridcolor": "white",
            "linecolor": "white",
            "ticks": ""
           },
           "baxis": {
            "gridcolor": "white",
            "linecolor": "white",
            "ticks": ""
           },
           "bgcolor": "#E5ECF6",
           "caxis": {
            "gridcolor": "white",
            "linecolor": "white",
            "ticks": ""
           }
          },
          "title": {
           "x": 0.05
          },
          "xaxis": {
           "automargin": true,
           "gridcolor": "white",
           "linecolor": "white",
           "ticks": "",
           "title": {
            "standoff": 15
           },
           "zerolinecolor": "white",
           "zerolinewidth": 2
          },
          "yaxis": {
           "automargin": true,
           "gridcolor": "white",
           "linecolor": "white",
           "ticks": "",
           "title": {
            "standoff": 15
           },
           "zerolinecolor": "white",
           "zerolinewidth": 2
          }
         }
        },
        "xaxis": {
         "anchor": "y",
         "domain": [
          0,
          0.94
         ],
         "matches": "x2",
         "showticklabels": false
        },
        "xaxis2": {
         "anchor": "y3",
         "domain": [
          0,
          0.94
         ]
        },
        "yaxis": {
         "anchor": "x",
         "domain": [
          0.32100000000000006,
          1
         ]
        },
        "yaxis2": {
         "anchor": "x",
         "overlaying": "y",
         "side": "right"
        },
        "yaxis3": {
         "anchor": "x2",
         "domain": [
          0,
          0.29100000000000004
         ]
        },
        "yaxis4": {
         "anchor": "x2",
         "overlaying": "y3",
         "side": "right"
        }
       },
       "_py2js_addTraces": {},
       "_py2js_animate": {},
       "_py2js_deleteTraces": {},
       "_py2js_moveTraces": {},
       "_py2js_relayout": {},
       "_py2js_removeLayoutProps": {},
       "_py2js_removeTraceProps": {},
       "_py2js_restyle": {},
       "_py2js_update": {},
       "_view_count": 0
      }
     },
     "ac6c585f82a74273bc29d1e798f1696f": {
      "model_module": "@jupyter-widgets/controls",
      "model_module_version": "1.5.0",
      "model_name": "VBoxModel",
      "state": {
       "_dom_classes": [
        "widget-interact"
       ],
       "children": [
        "IPY_MODEL_92affac24a5a40f98d29567e84245d18",
        "IPY_MODEL_7953d9263e134cc8a9eafa636c71dc62",
        "IPY_MODEL_33a4885e78744b549b0a977c4d2d97e9"
       ],
       "layout": "IPY_MODEL_2f623a924ed246f49b261433a148db5c"
      }
     },
     "b159d0e0e2b648f29bb34d6e39abef5e": {
      "model_module": "@jupyter-widgets/controls",
      "model_module_version": "1.5.0",
      "model_name": "IntSliderModel",
      "state": {
       "description": "Period",
       "layout": "IPY_MODEL_d51e548316694d1aba36ba8a57464af9",
       "max": 20000,
       "min": 50,
       "step": 50,
       "style": "IPY_MODEL_b3c073f8b0194bd5bb4b97399e6047a3",
       "value": 8350
      }
     },
     "b3c073f8b0194bd5bb4b97399e6047a3": {
      "model_module": "@jupyter-widgets/controls",
      "model_module_version": "1.5.0",
      "model_name": "SliderStyleModel",
      "state": {
       "description_width": ""
      }
     },
     "b607fbddf8f64ee78180037c23834cb8": {
      "model_module": "@jupyter-widgets/controls",
      "model_module_version": "1.5.0",
      "model_name": "VBoxModel",
      "state": {
       "_dom_classes": [
        "widget-interact"
       ],
       "children": [
        "IPY_MODEL_fdd7b26579fe4c3f8c83a5595fe64d02",
        "IPY_MODEL_c0cb1fc1e70940ea8ba437c6c4131e99",
        "IPY_MODEL_71a1283126f24299a8bc51b173e2d940"
       ],
       "layout": "IPY_MODEL_4f49a8006e0b498699203241b458e410"
      }
     },
     "b876941cbaaf4e2593eeb363f7546427": {
      "model_module": "@jupyter-widgets/base",
      "model_module_version": "1.2.0",
      "model_name": "LayoutModel",
      "state": {}
     },
     "b97ed3c33daf4de6b2fce284aef957d1": {
      "model_module": "@jupyter-widgets/base",
      "model_module_version": "1.2.0",
      "model_name": "LayoutModel",
      "state": {}
     },
     "b9e4f314f215482292b9c765ac5a99a1": {
      "model_module": "@jupyter-widgets/controls",
      "model_module_version": "1.5.0",
      "model_name": "VBoxModel",
      "state": {
       "_dom_classes": [
        "widget-interact"
       ],
       "children": [
        "IPY_MODEL_b159d0e0e2b648f29bb34d6e39abef5e",
        "IPY_MODEL_aa1f9d17af3f4e93a0bc085f656913df",
        "IPY_MODEL_2bd0f8edf79e4aeab6cfa8e0d58d96c6"
       ],
       "layout": "IPY_MODEL_0b5a09146557415fbced9528d67d423a"
      }
     },
     "ba241a4b35844df4bd82dc041e075535": {
      "model_module": "@jupyter-widgets/controls",
      "model_module_version": "1.5.0",
      "model_name": "IntSliderModel",
      "state": {
       "description": "Threshold",
       "layout": "IPY_MODEL_4523224de23a4f2187203372564a577f",
       "max": 10,
       "style": "IPY_MODEL_bb7d44e835954f21a482c3da1351fc0d",
       "value": 5
      }
     },
     "bb7d44e835954f21a482c3da1351fc0d": {
      "model_module": "@jupyter-widgets/controls",
      "model_module_version": "1.5.0",
      "model_name": "SliderStyleModel",
      "state": {
       "description_width": ""
      }
     },
     "c0cb1fc1e70940ea8ba437c6c4131e99": {
      "model_module": "@jupyter-widgets/controls",
      "model_module_version": "1.5.0",
      "model_name": "IntSliderModel",
      "state": {
       "description": "Threshold",
       "layout": "IPY_MODEL_49086b3ab64b4dfd980837c4b152df08",
       "max": 10,
       "style": "IPY_MODEL_0d4a8d73a4ad489893b65a8e80324b5c",
       "value": 5
      }
     },
     "c26e6587a000404bb6e8e5b0a8049cdb": {
      "model_module": "@jupyter-widgets/base",
      "model_module_version": "1.2.0",
      "model_name": "LayoutModel",
      "state": {}
     },
     "c2d40e8f7e4b4198ad1d02a11a6d121f": {
      "model_module": "jupyterlab-plotly",
      "model_module_version": "^5.6.0",
      "model_name": "FigureModel",
      "state": {
       "_config": {
        "plotlyServerURL": "https://plot.ly"
       },
       "_js2py_layoutDelta": {},
       "_js2py_pointsCallback": {},
       "_js2py_relayout": {},
       "_js2py_restyle": {},
       "_js2py_traceDeltas": {},
       "_js2py_update": {},
       "_layout": {
        "template": {
         "data": {
          "bar": [
           {
            "error_x": {
             "color": "#2a3f5f"
            },
            "error_y": {
             "color": "#2a3f5f"
            },
            "marker": {
             "line": {
              "color": "#E5ECF6",
              "width": 0.5
             },
             "pattern": {
              "fillmode": "overlay",
              "size": 10,
              "solidity": 0.2
             }
            },
            "type": "bar"
           }
          ],
          "barpolar": [
           {
            "marker": {
             "line": {
              "color": "#E5ECF6",
              "width": 0.5
             },
             "pattern": {
              "fillmode": "overlay",
              "size": 10,
              "solidity": 0.2
             }
            },
            "type": "barpolar"
           }
          ],
          "carpet": [
           {
            "aaxis": {
             "endlinecolor": "#2a3f5f",
             "gridcolor": "white",
             "linecolor": "white",
             "minorgridcolor": "white",
             "startlinecolor": "#2a3f5f"
            },
            "baxis": {
             "endlinecolor": "#2a3f5f",
             "gridcolor": "white",
             "linecolor": "white",
             "minorgridcolor": "white",
             "startlinecolor": "#2a3f5f"
            },
            "type": "carpet"
           }
          ],
          "choropleth": [
           {
            "colorbar": {
             "outlinewidth": 0,
             "ticks": ""
            },
            "type": "choropleth"
           }
          ],
          "contour": [
           {
            "colorbar": {
             "outlinewidth": 0,
             "ticks": ""
            },
            "colorscale": [
             [
              0,
              "#0d0887"
             ],
             [
              0.1111111111111111,
              "#46039f"
             ],
             [
              0.2222222222222222,
              "#7201a8"
             ],
             [
              0.3333333333333333,
              "#9c179e"
             ],
             [
              0.4444444444444444,
              "#bd3786"
             ],
             [
              0.5555555555555556,
              "#d8576b"
             ],
             [
              0.6666666666666666,
              "#ed7953"
             ],
             [
              0.7777777777777778,
              "#fb9f3a"
             ],
             [
              0.8888888888888888,
              "#fdca26"
             ],
             [
              1,
              "#f0f921"
             ]
            ],
            "type": "contour"
           }
          ],
          "contourcarpet": [
           {
            "colorbar": {
             "outlinewidth": 0,
             "ticks": ""
            },
            "type": "contourcarpet"
           }
          ],
          "heatmap": [
           {
            "colorbar": {
             "outlinewidth": 0,
             "ticks": ""
            },
            "colorscale": [
             [
              0,
              "#0d0887"
             ],
             [
              0.1111111111111111,
              "#46039f"
             ],
             [
              0.2222222222222222,
              "#7201a8"
             ],
             [
              0.3333333333333333,
              "#9c179e"
             ],
             [
              0.4444444444444444,
              "#bd3786"
             ],
             [
              0.5555555555555556,
              "#d8576b"
             ],
             [
              0.6666666666666666,
              "#ed7953"
             ],
             [
              0.7777777777777778,
              "#fb9f3a"
             ],
             [
              0.8888888888888888,
              "#fdca26"
             ],
             [
              1,
              "#f0f921"
             ]
            ],
            "type": "heatmap"
           }
          ],
          "heatmapgl": [
           {
            "colorbar": {
             "outlinewidth": 0,
             "ticks": ""
            },
            "colorscale": [
             [
              0,
              "#0d0887"
             ],
             [
              0.1111111111111111,
              "#46039f"
             ],
             [
              0.2222222222222222,
              "#7201a8"
             ],
             [
              0.3333333333333333,
              "#9c179e"
             ],
             [
              0.4444444444444444,
              "#bd3786"
             ],
             [
              0.5555555555555556,
              "#d8576b"
             ],
             [
              0.6666666666666666,
              "#ed7953"
             ],
             [
              0.7777777777777778,
              "#fb9f3a"
             ],
             [
              0.8888888888888888,
              "#fdca26"
             ],
             [
              1,
              "#f0f921"
             ]
            ],
            "type": "heatmapgl"
           }
          ],
          "histogram": [
           {
            "marker": {
             "pattern": {
              "fillmode": "overlay",
              "size": 10,
              "solidity": 0.2
             }
            },
            "type": "histogram"
           }
          ],
          "histogram2d": [
           {
            "colorbar": {
             "outlinewidth": 0,
             "ticks": ""
            },
            "colorscale": [
             [
              0,
              "#0d0887"
             ],
             [
              0.1111111111111111,
              "#46039f"
             ],
             [
              0.2222222222222222,
              "#7201a8"
             ],
             [
              0.3333333333333333,
              "#9c179e"
             ],
             [
              0.4444444444444444,
              "#bd3786"
             ],
             [
              0.5555555555555556,
              "#d8576b"
             ],
             [
              0.6666666666666666,
              "#ed7953"
             ],
             [
              0.7777777777777778,
              "#fb9f3a"
             ],
             [
              0.8888888888888888,
              "#fdca26"
             ],
             [
              1,
              "#f0f921"
             ]
            ],
            "type": "histogram2d"
           }
          ],
          "histogram2dcontour": [
           {
            "colorbar": {
             "outlinewidth": 0,
             "ticks": ""
            },
            "colorscale": [
             [
              0,
              "#0d0887"
             ],
             [
              0.1111111111111111,
              "#46039f"
             ],
             [
              0.2222222222222222,
              "#7201a8"
             ],
             [
              0.3333333333333333,
              "#9c179e"
             ],
             [
              0.4444444444444444,
              "#bd3786"
             ],
             [
              0.5555555555555556,
              "#d8576b"
             ],
             [
              0.6666666666666666,
              "#ed7953"
             ],
             [
              0.7777777777777778,
              "#fb9f3a"
             ],
             [
              0.8888888888888888,
              "#fdca26"
             ],
             [
              1,
              "#f0f921"
             ]
            ],
            "type": "histogram2dcontour"
           }
          ],
          "mesh3d": [
           {
            "colorbar": {
             "outlinewidth": 0,
             "ticks": ""
            },
            "type": "mesh3d"
           }
          ],
          "parcoords": [
           {
            "line": {
             "colorbar": {
              "outlinewidth": 0,
              "ticks": ""
             }
            },
            "type": "parcoords"
           }
          ],
          "pie": [
           {
            "automargin": true,
            "type": "pie"
           }
          ],
          "scatter": [
           {
            "marker": {
             "colorbar": {
              "outlinewidth": 0,
              "ticks": ""
             }
            },
            "type": "scatter"
           }
          ],
          "scatter3d": [
           {
            "line": {
             "colorbar": {
              "outlinewidth": 0,
              "ticks": ""
             }
            },
            "marker": {
             "colorbar": {
              "outlinewidth": 0,
              "ticks": ""
             }
            },
            "type": "scatter3d"
           }
          ],
          "scattercarpet": [
           {
            "marker": {
             "colorbar": {
              "outlinewidth": 0,
              "ticks": ""
             }
            },
            "type": "scattercarpet"
           }
          ],
          "scattergeo": [
           {
            "marker": {
             "colorbar": {
              "outlinewidth": 0,
              "ticks": ""
             }
            },
            "type": "scattergeo"
           }
          ],
          "scattergl": [
           {
            "marker": {
             "colorbar": {
              "outlinewidth": 0,
              "ticks": ""
             }
            },
            "type": "scattergl"
           }
          ],
          "scattermapbox": [
           {
            "marker": {
             "colorbar": {
              "outlinewidth": 0,
              "ticks": ""
             }
            },
            "type": "scattermapbox"
           }
          ],
          "scatterpolar": [
           {
            "marker": {
             "colorbar": {
              "outlinewidth": 0,
              "ticks": ""
             }
            },
            "type": "scatterpolar"
           }
          ],
          "scatterpolargl": [
           {
            "marker": {
             "colorbar": {
              "outlinewidth": 0,
              "ticks": ""
             }
            },
            "type": "scatterpolargl"
           }
          ],
          "scatterternary": [
           {
            "marker": {
             "colorbar": {
              "outlinewidth": 0,
              "ticks": ""
             }
            },
            "type": "scatterternary"
           }
          ],
          "surface": [
           {
            "colorbar": {
             "outlinewidth": 0,
             "ticks": ""
            },
            "colorscale": [
             [
              0,
              "#0d0887"
             ],
             [
              0.1111111111111111,
              "#46039f"
             ],
             [
              0.2222222222222222,
              "#7201a8"
             ],
             [
              0.3333333333333333,
              "#9c179e"
             ],
             [
              0.4444444444444444,
              "#bd3786"
             ],
             [
              0.5555555555555556,
              "#d8576b"
             ],
             [
              0.6666666666666666,
              "#ed7953"
             ],
             [
              0.7777777777777778,
              "#fb9f3a"
             ],
             [
              0.8888888888888888,
              "#fdca26"
             ],
             [
              1,
              "#f0f921"
             ]
            ],
            "type": "surface"
           }
          ],
          "table": [
           {
            "cells": {
             "fill": {
              "color": "#EBF0F8"
             },
             "line": {
              "color": "white"
             }
            },
            "header": {
             "fill": {
              "color": "#C8D4E3"
             },
             "line": {
              "color": "white"
             }
            },
            "type": "table"
           }
          ]
         },
         "layout": {
          "annotationdefaults": {
           "arrowcolor": "#2a3f5f",
           "arrowhead": 0,
           "arrowwidth": 1
          },
          "autotypenumbers": "strict",
          "coloraxis": {
           "colorbar": {
            "outlinewidth": 0,
            "ticks": ""
           }
          },
          "colorscale": {
           "diverging": [
            [
             0,
             "#8e0152"
            ],
            [
             0.1,
             "#c51b7d"
            ],
            [
             0.2,
             "#de77ae"
            ],
            [
             0.3,
             "#f1b6da"
            ],
            [
             0.4,
             "#fde0ef"
            ],
            [
             0.5,
             "#f7f7f7"
            ],
            [
             0.6,
             "#e6f5d0"
            ],
            [
             0.7,
             "#b8e186"
            ],
            [
             0.8,
             "#7fbc41"
            ],
            [
             0.9,
             "#4d9221"
            ],
            [
             1,
             "#276419"
            ]
           ],
           "sequential": [
            [
             0,
             "#0d0887"
            ],
            [
             0.1111111111111111,
             "#46039f"
            ],
            [
             0.2222222222222222,
             "#7201a8"
            ],
            [
             0.3333333333333333,
             "#9c179e"
            ],
            [
             0.4444444444444444,
             "#bd3786"
            ],
            [
             0.5555555555555556,
             "#d8576b"
            ],
            [
             0.6666666666666666,
             "#ed7953"
            ],
            [
             0.7777777777777778,
             "#fb9f3a"
            ],
            [
             0.8888888888888888,
             "#fdca26"
            ],
            [
             1,
             "#f0f921"
            ]
           ],
           "sequentialminus": [
            [
             0,
             "#0d0887"
            ],
            [
             0.1111111111111111,
             "#46039f"
            ],
            [
             0.2222222222222222,
             "#7201a8"
            ],
            [
             0.3333333333333333,
             "#9c179e"
            ],
            [
             0.4444444444444444,
             "#bd3786"
            ],
            [
             0.5555555555555556,
             "#d8576b"
            ],
            [
             0.6666666666666666,
             "#ed7953"
            ],
            [
             0.7777777777777778,
             "#fb9f3a"
            ],
            [
             0.8888888888888888,
             "#fdca26"
            ],
            [
             1,
             "#f0f921"
            ]
           ]
          },
          "colorway": [
           "#636efa",
           "#EF553B",
           "#00cc96",
           "#ab63fa",
           "#FFA15A",
           "#19d3f3",
           "#FF6692",
           "#B6E880",
           "#FF97FF",
           "#FECB52"
          ],
          "font": {
           "color": "#2a3f5f"
          },
          "geo": {
           "bgcolor": "white",
           "lakecolor": "white",
           "landcolor": "#E5ECF6",
           "showlakes": true,
           "showland": true,
           "subunitcolor": "white"
          },
          "hoverlabel": {
           "align": "left"
          },
          "hovermode": "closest",
          "mapbox": {
           "style": "light"
          },
          "paper_bgcolor": "white",
          "plot_bgcolor": "#E5ECF6",
          "polar": {
           "angularaxis": {
            "gridcolor": "white",
            "linecolor": "white",
            "ticks": ""
           },
           "bgcolor": "#E5ECF6",
           "radialaxis": {
            "gridcolor": "white",
            "linecolor": "white",
            "ticks": ""
           }
          },
          "scene": {
           "xaxis": {
            "backgroundcolor": "#E5ECF6",
            "gridcolor": "white",
            "gridwidth": 2,
            "linecolor": "white",
            "showbackground": true,
            "ticks": "",
            "zerolinecolor": "white"
           },
           "yaxis": {
            "backgroundcolor": "#E5ECF6",
            "gridcolor": "white",
            "gridwidth": 2,
            "linecolor": "white",
            "showbackground": true,
            "ticks": "",
            "zerolinecolor": "white"
           },
           "zaxis": {
            "backgroundcolor": "#E5ECF6",
            "gridcolor": "white",
            "gridwidth": 2,
            "linecolor": "white",
            "showbackground": true,
            "ticks": "",
            "zerolinecolor": "white"
           }
          },
          "shapedefaults": {
           "line": {
            "color": "#2a3f5f"
           }
          },
          "ternary": {
           "aaxis": {
            "gridcolor": "white",
            "linecolor": "white",
            "ticks": ""
           },
           "baxis": {
            "gridcolor": "white",
            "linecolor": "white",
            "ticks": ""
           },
           "bgcolor": "#E5ECF6",
           "caxis": {
            "gridcolor": "white",
            "linecolor": "white",
            "ticks": ""
           }
          },
          "title": {
           "x": 0.05
          },
          "xaxis": {
           "automargin": true,
           "gridcolor": "white",
           "linecolor": "white",
           "ticks": "",
           "title": {
            "standoff": 15
           },
           "zerolinecolor": "white",
           "zerolinewidth": 2
          },
          "yaxis": {
           "automargin": true,
           "gridcolor": "white",
           "linecolor": "white",
           "ticks": "",
           "title": {
            "standoff": 15
           },
           "zerolinecolor": "white",
           "zerolinewidth": 2
          }
         }
        },
        "xaxis": {
         "anchor": "y",
         "domain": [
          0,
          0.94
         ],
         "matches": "x2",
         "showticklabels": false
        },
        "xaxis2": {
         "anchor": "y3",
         "domain": [
          0,
          0.94
         ]
        },
        "yaxis": {
         "anchor": "x",
         "domain": [
          0.32100000000000006,
          1
         ]
        },
        "yaxis2": {
         "anchor": "x",
         "overlaying": "y",
         "side": "right"
        },
        "yaxis3": {
         "anchor": "x2",
         "domain": [
          0,
          0.29100000000000004
         ]
        },
        "yaxis4": {
         "anchor": "x2",
         "overlaying": "y3",
         "side": "right"
        }
       },
       "_py2js_addTraces": {},
       "_py2js_animate": {},
       "_py2js_deleteTraces": {},
       "_py2js_moveTraces": {},
       "_py2js_relayout": {},
       "_py2js_removeLayoutProps": {},
       "_py2js_removeTraceProps": {},
       "_py2js_restyle": {},
       "_py2js_update": {},
       "_view_count": 0
      }
     },
     "c835a861ff3b405dbb32141017ceb5eb": {
      "model_module": "@jupyter-widgets/controls",
      "model_module_version": "1.5.0",
      "model_name": "SliderStyleModel",
      "state": {
       "description_width": ""
      }
     },
     "ce83ffbcf1804bb0a97e82559e064cd2": {
      "model_module": "@jupyter-widgets/base",
      "model_module_version": "1.2.0",
      "model_name": "LayoutModel",
      "state": {}
     },
     "d2bcf0bc91fc41d3ac9b3c400e688bd0": {
      "buffers": [
       {
        "data": "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",
        "encoding": "base64",
        "path": [
         "_data",
         0,
         "y",
         "value"
        ]
       },
       {
        "data": "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",
        "encoding": "base64",
        "path": [
         "_data",
         1,
         "y",
         "value"
        ]
       },
       {
        "data": "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",
        "encoding": "base64",
        "path": [
         "_data",
         2,
         "y",
         "value"
        ]
       },
       {
        "data": "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",
        "encoding": "base64",
        "path": [
         "_data",
         3,
         "y",
         "value"
        ]
       },
       {
        "data": "AAAAAACaD0AAAAAAAJoaQAAAAAAACwFAAAAAAAAfA0AAAAAAAFDIvwAAAAAAFuY/AAAAAECuEkAAAAAAgOslQAAAAAAALiBAAAAAAOB/IEAAAAAAgB4fQAAAAAAAXCxAAAAAACC4KUAAAAAAgMcnQAAAAACAWTBAAAAAAABFMUAAAAAAkMcwQAAAAACQhzBAAAAAAABe978AAAAAAACVvwAAAAAAffS/AAAAAPAtNUAAAAAAgHA0QAAAAADAujlAAAAAALDMOkAAAAAA0DpAQAAAAABgazpAAAAAANA6RkAAAAAA0DpMQAAAAADseFFAAAAAAHz7U0AAAAAA0KNVQAAAAAAkXFVAAAAAABAuVUAAAAAAeJRUQAAAAAAAEFVAAAAAAFzPVEAAAAAA4HpVQAAAAAD0aFVAAAAAALi+UkAAAAAADFdTQAAAAAAMB1FAAAAAAABQUUAAAAAAHCVRQAAAAACg4FBAAAAAANQTUUAAAAAAWN9QQAAAAABsDVFAAAAAAJSJUUAAAAAAnOBSQAAAAAAYRVJAAAAAACwzU0AAAAAAXEZTQAAAAAAUNVRAAAAAAKRHVEAAAAAAmKBTQAAAAACYAFRAAAAAABTlVEAAAAAAKENTQAAAAAAI/lJAAAAAAIyZU0AAAAAAHIxUQAAAAAAwClZAAAAAAJggVkAAAAAAAPdVQAAAAABImFZA",
        "encoding": "base64",
        "path": [
         "_data",
         4,
         "y",
         "value"
        ]
       },
       {
        "data": "AAAAwEySpEAAAADAzJSkQAAAAIA9i6RAAAAA4FGEpEAAAABAs3+kQAAAAGDmeaRAAAAAAClspEAAAADAdWukQAAAAIBrcqRAAAAAoPBxpEAAAACgR0ukQAAAAADXG6RAAAAAoMcPpEAAAACgmQakQAAAAKBw1qNAAAAA4PrSo0AAAAAA19mjQAAAAEAK2aNAAAAAQGHQo0AAAAAAAMmjQAAAAIDC3aNAAAAAIAX1o0AAAADgo/ijQAAAAGDm9KNAAAAAQOHxo0AAAABACuujQAAAAIC93qNAAAAAQOHXo0AAAADAnt2jQAAAAOB62aNAAAAAgJTOo0AAAABgD8yjQAAAAMBM16NAAAAAwMyUpEAAAACAPYukQAAAAOBRhKRAAAAAQLN/pEAAAADgo3mkQAAAAAApbKRAAAAAwHVrpEAAAABAinKkQAAAAKDwcaRAAAAAgBRLpEAAAAAA1xukQAAAAKDHD6RAAAAAoJkGpEAAAACgcNajQAAAAICU06NAAAAAwMzZo0AAAABACtmjQAAAAEBh0KNAAAAAAADJo0AAAACAwt2jQAAAACAF9aNAAAAA4KP4o0AAAABg5vSjQAAAAODR8aNAAAAAQArro0AAAACAvd6jQAAAAEDh16NAAAAAIK7do0AAAADgetmjQAAAAICUzqNAAAAAYA/Mo0AAAADATNejQAAAAMD10KNA",
        "encoding": "base64",
        "path": [
         "_data",
         5,
         "y",
         "value"
        ]
       },
       {
        "data": "AAAAQDOapEAAAACAwoukQAAAAIAUhqRAAAAAoEeMpEAAAADA9XmkQAAAAMD1eKRAAAAAIIVppEAAAABAYXSkQAAAAKBwcaRAAAAAwPVNpEAAAACAwkikQAAAACBcGqRAAAAAgOsRpEAAAAAghfqjQAAAAKBw7qNAAAAAYA/no0AAAACgmdejQAAAAIA91KNAAAAAIFzOo0AAAACgcMijQAAAACCF4qNAAAAAwEz3o0AAAAAAgPajQAAAAIBC86NAAAAAgML1o0AAAAAgLuajQAAAAABX36NAAAAAwHXYo0AAAADAnuCjQAAAAIBrzKNAAAAA4KPTo0AAAAAAANijQAAAAAAA1qNAAAAAQDOapEAAAACAwoukQAAAAIAUhqRAAAAAoEeMpEAAAADA9XmkQAAAAMD1eKRAAAAAIIVppEAAAABAYXSkQAAAAKBwcaRAAAAAwPVNpEAAAACAwkikQAAAACBcGqRAAAAAgOsRpEAAAAAghfqjQAAAAKBw7qNAAAAAYA/no0AAAACgmdejQAAAAIA91KNAAAAAIFzOo0AAAACgcMijQAAAACCF4qNAAAAAwEz3o0AAAAAAgPajQAAAAIBC86NAAAAAgML1o0AAAAAgLuajQAAAAABX36NAAAAAwHXYo0AAAADAnuCjQAAAAIBrzKNAAAAAoHDTo0AAAAAAANijQAAAAAAA1qNA",
        "encoding": "base64",
        "path": [
         "_data",
         6,
         "y",
         "value"
        ]
       }
      ],
      "model_module": "jupyterlab-plotly",
      "model_module_version": "^5.6.0",
      "model_name": "FigureModel",
      "state": {
       "_config": {
        "plotlyServerURL": "https://plot.ly"
       },
       "_data": [
        {
         "line": {
          "color": "gray"
         },
         "name": "<b style=\"color:sandybrown\">[R]</b> Tick <i style=\"color:#fc9944\">~602</i>",
         "opacity": 0.3,
         "type": "scattergl",
         "uid": "898bd253-70d1-4f12-9617-ac2fb075dc2d",
         "visible": true,
         "x": [
          0,
          158,
          922,
          1209,
          1899,
          2760,
          3157,
          3702,
          4617,
          5181,
          5663,
          6543,
          6891,
          7301,
          8033,
          8677,
          9512,
          10123,
          10516,
          11207,
          11614,
          12044,
          12833,
          13557,
          14167,
          14748,
          15173,
          16210,
          16743,
          17324,
          17838,
          18065,
          19189,
          19608,
          19968,
          20685,
          21435,
          22186,
          22637,
          23256,
          23676,
          24385,
          24738,
          25540,
          26277,
          26835,
          27400,
          27814,
          28344,
          28904,
          29720,
          30405,
          31306,
          31575,
          32442,
          32710,
          33407,
          34050,
          34333,
          35235,
          35742,
          36680,
          36810,
          37936,
          38078,
          38913,
          39250,
          40046,
          40346,
          41273,
          42088,
          42498,
          43020,
          43356,
          44406,
          45047,
          45169,
          46147,
          46869,
          47166,
          48122,
          48744,
          49264,
          49909,
          50237,
          50656,
          51698,
          52317,
          52925,
          53512,
          53907,
          54265,
          55399,
          55495,
          56247,
          56604,
          57299,
          57809,
          58912,
          59105,
          60027,
          60817,
          61274,
          61994,
          62625,
          63104,
          63273,
          63995,
          64890,
          65636,
          66183,
          66767,
          67049,
          68038,
          68477,
          68808,
          69343,
          70433,
          70935,
          71424,
          71813,
          72662,
          72889,
          73564,
          74326,
          74858,
          75444,
          75981,
          76847,
          77676,
          78166,
          78452,
          79312,
          79804,
          80631,
          80907,
          81695,
          81932,
          82558,
          83227,
          83923,
          84816,
          85297,
          85788,
          86680,
          87029,
          87441,
          88515,
          88784,
          89456,
          90240,
          90339,
          91317,
          91603,
          92161,
          93201,
          93795,
          94364,
          94771,
          95526,
          96005,
          96762,
          97146,
          97807,
          98224,
          99242,
          99472,
          100186,
          100562,
          101377,
          102347,
          102501,
          103466,
          103859,
          104302,
          104828,
          105793,
          106443,
          107040,
          107249,
          108361,
          108693,
          109333,
          109595,
          110428,
          110980,
          111654,
          112181,
          113089,
          113616,
          113938,
          114412,
          115045,
          115655,
          116228,
          117362,
          117599,
          118330,
          119187,
          119258,
          120293,
          120441,
          121528,
          121893,
          122264,
          123237,
          123629,
          124484,
          124773,
          125852,
          126283,
          126801,
          127240,
          128024,
          128262,
          128944,
          129498,
          130670,
          131044,
          131480,
          132458,
          132505,
          133079,
          134116,
          134792,
          135162,
          136040,
          136344,
          136698,
          137513,
          138152,
          138748,
          139114,
          139986,
          140555,
          141104,
          141541,
          142247,
          142837,
          143913,
          144107,
          145082,
          145631,
          146067,
          146336,
          147524,
          147996,
          148271,
          148951,
          149382,
          150382,
          151125,
          151508,
          152078,
          152937,
          153307,
          153685,
          154753,
          155247,
          155481,
          156012,
          156715,
          157433,
          158055,
          158705,
          159249,
          160011,
          160278,
          161017,
          161645,
          162314,
          163039,
          163435,
          163888,
          164728,
          165074,
          165836,
          166589,
          166802,
          167888,
          168328,
          168920,
          169360,
          170032,
          170864,
          171396,
          171772,
          172224,
          172985,
          173647,
          174625,
          174983,
          175827,
          176410,
          176441,
          177434,
          177836,
          178242,
          179162,
          180043,
          180557,
          181059,
          181288,
          181985,
          182576,
          183062,
          183862,
          184813,
          185233,
          185834,
          186452,
          187109,
          187646,
          188026,
          188893,
          189317,
          189804,
          190306,
          191423,
          192016,
          192563,
          193181,
          193365,
          194392,
          195037,
          195543,
          196151,
          196396,
          196934,
          197657,
          198432,
          198875,
          199875,
          200375,
          201013,
          201372,
          201758,
          202709,
          203267,
          203830,
          204333,
          204783,
          205803,
          206109,
          206649,
          207337,
          208344,
          208922,
          209369,
          209623,
          210709,
          211339,
          211486,
          211963,
          212780,
          213279,
          214145,
          214764,
          215458,
          216085,
          216241,
          216903,
          217760,
          218586,
          219115,
          219279,
          220255,
          220393,
          221168,
          222169,
          222282,
          223014,
          223649,
          224540,
          224951,
          225404,
          225945,
          226424,
          227031,
          228132,
          228365,
          229336,
          229488,
          230243,
          231152,
          231709,
          231966,
          232889,
          233503,
          233701,
          234811,
          235031,
          235962,
          236306,
          237069,
          237855,
          238190,
          238609,
          239095,
          239957,
          240502,
          241325,
          241660,
          242333,
          242959,
          243506,
          244479,
          244924,
          245626,
          245955,
          246738,
          247144,
          248035,
          248387,
          249072,
          249892,
          250117,
          250623,
          251295,
          251773,
          252408,
          253166,
          253824,
          254306,
          255019,
          255672,
          255977,
          257008,
          257477,
          258071,
          258909,
          259241,
          260034,
          260627,
          260855,
          261909,
          261971,
          262546,
          263446,
          263749,
          264894,
          265452,
          265603,
          266380,
          267314,
          267673,
          268164,
          268734,
          269558,
          270118,
          270961,
          271487,
          271610,
          272221,
          273326,
          273717,
          274458,
          275040,
          275265,
          275945,
          276912,
          277564,
          278121,
          278612,
          279189,
          279595,
          280399,
          280610,
          281810,
          282085,
          282417,
          283078,
          283621,
          284783,
          285398,
          285624,
          286625,
          287232,
          287420,
          287916,
          288740,
          289051,
          290098,
          290435,
          291179,
          291624,
          292165,
          293053,
          293485,
          294175,
          294561,
          295129,
          296014,
          296658,
          297046,
          297840,
          298549,
          299185,
          299462,
          300481,
          301031,
          301368,
          301718,
          302359,
          303235,
          303992,
          304134,
          305212,
          305618,
          306207,
          306729,
          307524,
          308286,
          308881,
          309386,
          309864,
          310339,
          311102,
          311830,
          312195,
          312732,
          313715,
          313910,
          314581,
          315090,
          315745,
          316147,
          316832,
          317572,
          318052,
          318912,
          319570,
          319788,
          320800,
          321036,
          322127,
          322314,
          322836,
          323493,
          324508,
          324823,
          325660,
          326342,
          326739,
          327094,
          327599,
          328181,
          329073,
          329783,
          330261,
          330776,
          331194,
          332204,
          332884,
          333224,
          333687,
          334556,
          335179,
          335419,
          336238,
          336937,
          337341,
          338074,
          338793,
          339152,
          339716,
          340741,
          341206,
          341748,
          342570,
          343048,
          343541,
          344156,
          344782,
          345559,
          345900,
          346714,
          347380,
          347495,
          348175,
          348663,
          349856,
          349936,
          350980,
          351377,
          351781,
          352406,
          353448,
          353829,
          354455,
          355157,
          355666,
          356118,
          356520,
          357375,
          358270,
          358450,
          359414,
          359916,
          360691,
          361286,
          361572,
          361920,
          362658,
          363409,
          364250,
          364494,
          364986,
          366116,
          366530,
          366960,
          367681,
          368014,
          368733,
          369262,
          369780,
          370909,
          371118,
          371749,
          372165,
          372804,
          373710,
          373946,
          374851,
          375215,
          376035,
          376374,
          377169,
          377559,
          378161,
          378966,
          379807,
          380412,
          380642,
          381549,
          382307,
          382533,
          383011,
          383920,
          384355,
          384785,
          385588,
          386219,
          386721,
          387578,
          387797,
          388633,
          389183,
          389746,
          390658,
          391078,
          391806,
          392602,
          392809,
          393269,
          393899,
          394613,
          395556,
          396130,
          396580,
          397001,
          397658,
          398032,
          399005,
          399677,
          400058,
          400511,
          401511,
          401645,
          402568,
          403312,
          403872,
          404196,
          405003,
          405312,
          405912,
          406925,
          407581,
          408054,
          408708,
          409108,
          409526,
          410076,
          410714,
          411663,
          411944,
          413033,
          413648,
          414217,
          414305,
          415175,
          416028,
          416378,
          417098,
          417351,
          418041,
          419066,
          419313,
          419797,
          420319,
          421516,
          421688,
          422390,
          422894,
          423395,
          423989,
          425085,
          425210,
          425976,
          426770,
          427095,
          427714,
          428630,
          429017,
          429364,
          430053,
          430616,
          431561,
          432354,
          432556,
          432964,
          433653,
          434467,
          435263,
          435483,
          436522,
          436571,
          437405,
          437776,
          438907,
          439465,
          439916,
          440288,
          440876,
          441746,
          442149,
          442593,
          443655,
          443797,
          444901,
          445573,
          446169,
          446464,
          446831,
          447822,
          448022,
          448790,
          449268,
          449819,
          450929,
          451122,
          452126,
          452422,
          453237,
          453781,
          454118,
          455032,
          455525,
          455842,
          456706,
          457293,
          458248,
          458542,
          458883,
          459573,
          460166,
          460678,
          461861,
          462152,
          462779,
          463487,
          463669,
          464343,
          465459,
          465965,
          466141,
          467103,
          467399,
          468233,
          468881,
          469099,
          470077,
          470538,
          471488,
          471973,
          472114,
          473167,
          473387,
          474046,
          474530,
          475115,
          475993,
          476382,
          477292,
          477786,
          478686,
          478846,
          479573,
          480086,
          480571,
          481142,
          482315,
          482698,
          482972,
          484022,
          484537,
          485056,
          485547,
          486121,
          486700,
          487671,
          487755,
          488673,
          489464,
          489683,
          490746,
          491231,
          491536,
          492012,
          493142,
          493675,
          494149,
          494643,
          495581,
          495871,
          496765,
          496895,
          497520,
          498513,
          498762,
          499677,
          500288,
          500478,
          501122,
          502112,
          502344,
          503277,
          503718,
          504014,
          504628,
          505315,
          505823,
          506698,
          507136,
          508228,
          508506,
          509011,
          509823,
          510483,
          510987,
          511610,
          511905,
          512540,
          513046,
          514211,
          514265,
          514861,
          515458,
          516158,
          516870,
          517510,
          517945,
          518745,
          519172,
          519733,
          520490,
          520935,
          522078,
          522319,
          522802,
          523378,
          524088,
          524487,
          525154,
          526238,
          526557,
          527075,
          527775,
          528100,
          528705,
          529460,
          530068,
          530916,
          531428,
          531881,
          532336,
          533048,
          533643,
          534451,
          534852,
          535721,
          536272,
          536539,
          537639,
          538106,
          538711,
          538941,
          539590,
          540188,
          541233,
          541890,
          542372,
          542918,
          543486,
          544045,
          544431,
          545049,
          545761,
          546640,
          547147,
          547704,
          548303,
          548616,
          549471,
          549849,
          550728,
          551540,
          551905,
          552244,
          553266,
          553688,
          554295,
          554628,
          555407,
          555800,
          556441,
          557358,
          557664,
          558610,
          558999,
          559649,
          560215,
          561215,
          561807,
          562124,
          563012,
          563579,
          563922,
          564416,
          565272,
          565589,
          566206,
          567016,
          567523,
          568315,
          568446,
          569048,
          570040,
          570252,
          571340,
          572031,
          572660,
          572839,
          573553,
          573949,
          575020,
          575613,
          576156,
          576408,
          577303,
          577478,
          578639,
          578945,
          579866,
          579923,
          580489,
          581692,
          581828,
          582295,
          582958,
          583543,
          584102,
          584860,
          585308,
          586482,
          586523,
          587249,
          588178,
          588325,
          589163,
          589670,
          590720,
          590730,
          591373,
          591934,
          592998,
          593254,
          594338,
          594932,
          595177,
          595695,
          596145,
          596747,
          597789,
          598214,
          598699,
          599452,
          599758,
          600360,
          600963
         ],
         "xaxis": "x2",
         "y": {
          "dtype": "float32",
          "shape": [
           1000
          ],
          "value": {}
         }
        },
        {
         "line": {
          "color": "orange"
         },
         "name": "<b style=\"color:sandybrown\">[R]</b> OSC <i style=\"color:#fc9944\">~602</i>",
         "opacity": 0.5,
         "type": "scattergl",
         "uid": "3ca77dee-4c80-4449-867b-214c7699d447",
         "x": [
          0,
          1,
          603,
          1205,
          1807,
          2409,
          3011,
          3613,
          4216,
          4818,
          5420,
          6022,
          6624,
          7828,
          8348,
          8431,
          9221,
          9782,
          10710,
          11246,
          11755,
          12129,
          13196,
          13625,
          14366,
          14730,
          15368,
          16258,
          16738,
          17205,
          17630,
          18065,
          19080,
          19588,
          20325,
          20952,
          21426,
          22275,
          22508,
          23285,
          24086,
          24352,
          24857,
          25791,
          26192,
          26839,
          27418,
          27959,
          28861,
          29376,
          30024,
          30703,
          31273,
          31658,
          32516,
          32837,
          33594,
          34122,
          34538,
          35444,
          35848,
          36732,
          37121,
          37417,
          38347,
          38966,
          39466,
          39980,
          40508,
          41094,
          42028,
          42669,
          43208,
          43519,
          44243,
          45162,
          45386,
          46123,
          46517,
          47268,
          47818,
          48324,
          49265,
          49895,
          50581,
          51001,
          51747,
          52238,
          52679,
          53592,
          54018,
          54459,
          55399,
          55843,
          56247,
          57154,
          57807,
          58039,
          58519,
          59398,
          59866,
          60747,
          61255,
          61793,
          62111,
          63059,
          63604,
          64111,
          64564,
          65302,
          66082,
          66263,
          67056,
          67946,
          68295,
          69087,
          69589,
          69995,
          70800,
          71315,
          71684,
          72500,
          72863,
          73858,
          74341,
          75190,
          75761,
          76194,
          76480,
          77458,
          78073,
          78653,
          79141,
          79486,
          80241,
          80881,
          81688,
          82270,
          82564,
          83406,
          83929,
          84469,
          85343,
          85781,
          86504,
          86906,
          87797,
          88389,
          88616,
          89474,
          89981,
          90927,
          91529,
          91793,
          92242,
          92926,
          93607,
          94363,
          94944,
          95684,
          96159,
          96945,
          97374,
          97949,
          98680,
          98951,
          99706,
          100148,
          100615,
          101456,
          101843,
          102807,
          103196,
          103959,
          104461,
          105013,
          105724,
          106253,
          107101,
          107554,
          107946,
          108975,
          109324,
          110013,
          110591,
          111256,
          111807,
          112294,
          112606,
          113666,
          114024,
          114731,
          115477,
          115929,
          116457,
          116864,
          117861,
          118308,
          119130,
          119627,
          120039,
          120626,
          121637,
          121953,
          122609,
          123165,
          123731,
          124063,
          124881,
          125438,
          126279,
          126891,
          127354,
          128051,
          128713,
          128992,
          129721,
          130096,
          131025,
          131431,
          132446,
          132849,
          133320,
          133955,
          134750,
          135249,
          135893,
          136632,
          137100,
          137643,
          138077,
          138619,
          139144,
          139860,
          140839,
          141305,
          141848,
          142713,
          143145,
          143519,
          144431,
          144954,
          145353,
          146064,
          146539,
          147487,
          147886,
          148557,
          149002,
          149441,
          150257,
          150687,
          151560,
          152128,
          152855,
          153231,
          153596,
          154483,
          155358,
          155961,
          156475,
          156948,
          157522,
          158076,
          158439,
          159349,
          159904,
          160451,
          160907,
          161659,
          162203,
          162914,
          163609,
          164035,
          164905,
          165132,
          165869,
          166698,
          167181,
          167649,
          168328,
          169208,
          169642,
          170268,
          170759,
          171290,
          171860,
          172383,
          173322,
          173782,
          174360,
          174734,
          175640,
          176146,
          176435,
          177532,
          177844,
          178843,
          179195,
          179751,
          180526,
          181027,
          181616,
          182042,
          183033,
          183464,
          184169,
          184691,
          185104,
          186024,
          186586,
          187004,
          187619,
          188003,
          188874,
          189436,
          190063,
          190615,
          191270,
          192050,
          192676,
          192870,
          193653,
          194259,
          194623,
          195213,
          196124,
          196707,
          197203,
          197697,
          198286,
          198994,
          199919,
          200374,
          201123,
          201575,
          202074,
          202594,
          203318,
          204134,
          204491,
          205205,
          205727,
          206394,
          206882,
          207431,
          208123,
          208783,
          209382,
          209786,
          210168,
          211010,
          211366,
          212243,
          212762,
          213237,
          214126,
          214659,
          215007,
          216153,
          216440,
          217213,
          217828,
          218248,
          219101,
          219450,
          220306,
          220718,
          221407,
          222075,
          222555,
          222916,
          223677,
          224526,
          225210,
          225725,
          226276,
          226761,
          227323,
          227746,
          228414,
          229410,
          229826,
          230394,
          230915,
          231232,
          232042,
          232881,
          233367,
          233985,
          234598,
          234911,
          235911,
          236617,
          237115,
          237560,
          238290,
          238832,
          239302,
          240264,
          240587,
          241346,
          241991,
          242439,
          243104,
          243587,
          244479,
          244969,
          245494,
          245952,
          246725,
          246926,
          247863,
          248168,
          249296,
          249826,
          250385,
          250902,
          251435,
          251829,
          252308,
          253501,
          253949,
          254550,
          254993,
          255706,
          256261,
          256906,
          257232,
          258034,
          258931,
          259425,
          259944,
          260563,
          261050,
          261653,
          262002,
          262582,
          263563,
          263938,
          264953,
          265429,
          265832,
          266732,
          267226,
          267730,
          268306,
          268799,
          269439,
          270122,
          270475,
          271496,
          271637,
          272654,
          273163,
          273584,
          274243,
          275043,
          275606,
          276168,
          276706,
          277042,
          277968,
          278444,
          279125,
          279475,
          280362,
          280874,
          281419,
          282182,
          282726,
          283583,
          283952,
          284451,
          285399,
          285839,
          286567,
          287156,
          287654,
          288201,
          288669,
          289543,
          290045,
          290601,
          291227,
          291795,
          292276,
          292792,
          293419,
          294287,
          294910,
          295359,
          295806,
          296532,
          297136,
          297848,
          298364,
          299098,
          299637,
          300216,
          300851,
          301360,
          302150,
          302705,
          303178,
          304093,
          304566,
          305105,
          305506,
          306245,
          306901,
          307475,
          308064,
          308642,
          309513,
          309870,
          310242,
          310718,
          311638,
          312252,
          312979,
          313297,
          314278,
          314932,
          315316,
          316080,
          316369,
          317157,
          317943,
          318402,
          318964,
          319461,
          320291,
          320762,
          321108,
          321895,
          322761,
          322990,
          323647,
          324015,
          325169,
          325663,
          326211,
          326727,
          327055,
          328047,
          328491,
          328783,
          329616,
          330505,
          330793,
          331432,
          331988,
          332595,
          333107,
          333724,
          334641,
          335406,
          336008,
          336522,
          336924,
          337488,
          338410,
          339019,
          339355,
          340223,
          340671,
          341222,
          341570,
          342416,
          342846,
          343680,
          344152,
          344440,
          345304,
          346139,
          346665,
          347293,
          347760,
          348533,
          348984,
          349518,
          350203,
          350763,
          351665,
          352200,
          352670,
          353178,
          353490,
          354194,
          355226,
          355697,
          356010,
          356776,
          357560,
          358178,
          358538,
          359458,
          359880,
          360121,
          360720,
          361692,
          362318,
          362750,
          363298,
          364310,
          364742,
          365158,
          365725,
          366591,
          367096,
          367679,
          368368,
          368783,
          369428,
          370069,
          370648,
          371378,
          372060,
          372542,
          373322,
          373707,
          374239,
          374783,
          375292,
          376014,
          376363,
          377135,
          377606,
          378643,
          379364,
          379788,
          380136,
          380824,
          381434,
          382203,
          382665,
          383354,
          384099,
          384478,
          384839,
          385591,
          386590,
          386918,
          387367,
          388225,
          388847,
          389410,
          389849,
          390204,
          391129,
          391579,
          392439,
          392806,
          393816,
          394418,
          394900,
          395361,
          395883,
          396538,
          397379,
          397759,
          398332,
          399006,
          399307,
          400088,
          400441,
          401288,
          402006,
          402536,
          403173,
          403729,
          404323,
          404978,
          405258,
          406353,
          406928,
          407528,
          408075,
          408589,
          408987,
          409955,
          410503,
          411047,
          411695,
          412197,
          412756,
          413483,
          413798,
          414581,
          415182,
          415676,
          416539,
          416740,
          417834,
          418320,
          418952,
          419376,
          419881,
          420313,
          421106,
          421795,
          422129,
          422953,
          423632,
          423977,
          425129,
          425592,
          426107,
          426689,
          427182,
          427562,
          428724,
          429051,
          429778,
          430272,
          430902,
          431696,
          432255,
          432648,
          432958,
          433864,
          434472,
          435366,
          435685,
          436539,
          436937,
          437642,
          438171,
          438594,
          439297,
          439997,
          440414,
          440786,
          441842,
          442222,
          442593,
          443770,
          444201,
          445000,
          445481,
          445927,
          446465,
          447068,
          447586,
          448188,
          449070,
          449630,
          450145,
          450566,
          451322,
          452090,
          452820,
          453328,
          453797,
          454319,
          455216,
          455640,
          456286,
          456703,
          457601,
          458053,
          458626,
          458936,
          459630,
          460549,
          460939,
          461488,
          462302,
          462866,
          463418,
          464270,
          464698,
          465034,
          465966,
          466589,
          467108,
          467551,
          467916,
          468965,
          469447,
          469869,
          470292,
          471306,
          472019,
          472528,
          473185,
          473904,
          474395,
          474750,
          475493,
          475803,
          476425,
          477424,
          477895,
          478654,
          479324,
          479864,
          480275,
          480817,
          481583,
          482132,
          482720,
          483301,
          483847,
          484142,
          484854,
          485927,
          486362,
          486842,
          487701,
          488050,
          488959,
          489499,
          489954,
          490465,
          491006,
          491585,
          491970,
          492836,
          493639,
          494229,
          494716,
          495502,
          496168,
          496518,
          496894,
          497808,
          498593,
          499088,
          499558,
          499829,
          500761,
          501278,
          501814,
          502588,
          503217,
          503770,
          504399,
          504715,
          505757,
          506093,
          506843,
          507209,
          508088,
          508586,
          508987,
          510007,
          510492,
          511022,
          511475,
          512443,
          512622,
          513538,
          514250,
          514658,
          515418,
          515979,
          516384,
          516907,
          517669,
          518166,
          518844,
          519323,
          519961,
          520837,
          521309,
          521810,
          522412,
          522954,
          523411,
          524146,
          524865,
          525233,
          525815,
          526621,
          527264,
          527716,
          528351,
          529139,
          529771,
          530251,
          530690,
          531478,
          531853,
          532634,
          533395,
          533905,
          534573,
          535087,
          535572,
          536285,
          536815,
          537145,
          537977,
          538728,
          539278,
          539866,
          540442,
          540949,
          541793,
          542363,
          542782,
          543756,
          544132,
          544825,
          545056,
          545779,
          546568,
          547369,
          547833,
          548273,
          548928,
          549777,
          550218,
          550821,
          551323,
          551585,
          552465,
          553189,
          553894,
          554347,
          554795,
          555717,
          556225,
          556770,
          557385,
          557935,
          558430,
          559174,
          559413,
          560015,
          561219,
          561821,
          562273,
          562738,
          563162,
          563916,
          564379,
          565434,
          565804,
          566554,
          566934,
          567842,
          568320,
          568759,
          569167,
          570235,
          570663,
          571243,
          571597,
          572244,
          573012,
          573481,
          574086,
          574660,
          575584,
          576088,
          576641,
          577342,
          577781,
          578624,
          579219,
          579702,
          580221,
          580738,
          581321,
          582294,
          582771,
          583121,
          583651,
          584252,
          585083,
          585591,
          586489,
          586818,
          587601,
          588128,
          588608,
          589290,
          589958,
          590725,
          591181,
          591676,
          592172,
          593048,
          593563,
          594037,
          594650,
          595358,
          595765,
          596375,
          597178,
          597617,
          598237,
          599036,
          599481,
          600069,
          600450,
          600963
         ],
         "xaxis": "x2",
         "y": {
          "dtype": "float32",
          "shape": [
           1000
          ],
          "value": {}
         },
         "yaxis": "y3"
        },
        {
         "line": {
          "color": "green"
         },
         "name": "<b style=\"color:sandybrown\">[R]</b> maOSC <i style=\"color:#fc9944\">~602</i>",
         "opacity": 0.5,
         "type": "scattergl",
         "uid": "b1426fc9-5f3b-476b-b946-19797d108f7b",
         "x": [
          0,
          1,
          603,
          1205,
          1807,
          2409,
          3011,
          3613,
          4216,
          4818,
          5420,
          6022,
          6624,
          7828,
          8430,
          8946,
          9470,
          10019,
          10587,
          11159,
          11710,
          12162,
          13113,
          13701,
          14278,
          14856,
          15437,
          16022,
          16610,
          17193,
          17768,
          18331,
          18856,
          19270,
          20213,
          20853,
          21453,
          22043,
          22633,
          23226,
          23818,
          24411,
          25007,
          25604,
          26197,
          26783,
          27362,
          27925,
          28434,
          29477,
          29998,
          30541,
          31106,
          31684,
          32270,
          32864,
          33463,
          34062,
          34653,
          35241,
          35833,
          36437,
          37056,
          37683,
          38297,
          38902,
          39493,
          40080,
          40665,
          41248,
          41827,
          42393,
          42930,
          43356,
          44315,
          44948,
          45546,
          46138,
          46726,
          47314,
          47908,
          48505,
          49104,
          49702,
          50299,
          50897,
          51494,
          52088,
          52672,
          53238,
          53758,
          54195,
          55111,
          55755,
          56364,
          56968,
          57568,
          58167,
          58764,
          59360,
          59953,
          60541,
          61134,
          61741,
          62363,
          62981,
          63581,
          64167,
          64743,
          65306,
          65833,
          66239,
          67187,
          67826,
          68424,
          69013,
          69601,
          70188,
          70777,
          71364,
          71947,
          72526,
          73094,
          73627,
          74067,
          75007,
          75646,
          76263,
          76871,
          77468,
          78057,
          78639,
          79216,
          79787,
          80347,
          80872,
          81293,
          82239,
          82883,
          83485,
          84075,
          84662,
          85250,
          85839,
          86426,
          87012,
          87594,
          88169,
          88728,
          89231,
          90276,
          90795,
          91340,
          91910,
          92498,
          93092,
          93694,
          94296,
          94893,
          95493,
          96090,
          96683,
          97278,
          97878,
          98481,
          99080,
          99681,
          100291,
          100901,
          101511,
          102116,
          102714,
          103314,
          103914,
          104509,
          105098,
          105684,
          106261,
          106816,
          107306,
          108312,
          108853,
          109402,
          109958,
          110525,
          111102,
          111695,
          112331,
          112977,
          113595,
          114199,
          114798,
          115391,
          115980,
          116567,
          117155,
          117744,
          118336,
          118932,
          119528,
          120115,
          120688,
          121229,
          121638,
          122615,
          123236,
          123824,
          124407,
          124993,
          125587,
          126187,
          126784,
          127372,
          127947,
          128499,
          128949,
          129911,
          130498,
          131075,
          131660,
          132249,
          132835,
          133414,
          133987,
          134546,
          135072,
          135488,
          136429,
          137060,
          137664,
          138264,
          138862,
          139458,
          140053,
          140650,
          141248,
          141847,
          142447,
          143047,
          143645,
          144243,
          144840,
          145437,
          146036,
          146632,
          147222,
          147808,
          148391,
          148960,
          149457,
          150454,
          151005,
          151565,
          152142,
          152731,
          153331,
          153932,
          154529,
          155123,
          155717,
          156311,
          156900,
          157485,
          158061,
          158614,
          159081,
          160051,
          160616,
          161178,
          161746,
          162322,
          162901,
          163477,
          164050,
          164609,
          165114,
          166155,
          166688,
          167243,
          167821,
          168407,
          168995,
          169584,
          170172,
          170756,
          171336,
          171913,
          172475,
          172992,
          174026,
          174533,
          175069,
          175627,
          176194,
          176764,
          177334,
          177907,
          178487,
          179070,
          179661,
          180262,
          180816,
          181849,
          182384,
          182933,
          183498,
          184074,
          184650,
          185220,
          185785,
          186344,
          186887,
          187360,
          188352,
          188931,
          189503,
          190079,
          190659,
          191243,
          191832,
          192424,
          193016,
          193610,
          194208,
          194809,
          195413,
          196017,
          196617,
          197207,
          197779,
          198319,
          198715,
          199681,
          200312,
          200910,
          201500,
          202082,
          202658,
          203228,
          203790,
          204319,
          204737,
          205682,
          206309,
          206895,
          207457,
          207981,
          208951,
          209482,
          210010,
          210555,
          211113,
          211679,
          212244,
          212800,
          213308,
          214358,
          214867,
          215407,
          215968,
          216541,
          217122,
          217711,
          218305,
          218902,
          219509,
          220119,
          220725,
          221323,
          221916,
          222494,
          223034,
          223406,
          224376,
          225002,
          225596,
          226182,
          226763,
          227339,
          227908,
          228458,
          228916,
          229878,
          230455,
          231021,
          231591,
          232167,
          232744,
          233329,
          233926,
          234521,
          235101,
          235650,
          236102,
          237076,
          237640,
          238167,
          238733,
          239467,
          240109,
          240696,
          241271,
          241853,
          242447,
          243047,
          243652,
          244255,
          244853,
          245442,
          246026,
          246606,
          247183,
          247752,
          248301,
          248766,
          249752,
          250315,
          250880,
          251470,
          252076,
          252681,
          253284,
          253880,
          254473,
          255064,
          255654,
          256250,
          256850,
          257452,
          258056,
          258660,
          259261,
          259856,
          260442,
          261011,
          261526,
          262544,
          263059,
          263601,
          264161,
          264735,
          265317,
          265902,
          266489,
          267077,
          267663,
          268241,
          268798,
          269268,
          270243,
          270819,
          271389,
          271966,
          272549,
          273136,
          273726,
          274317,
          274911,
          275503,
          276092,
          276672,
          277228,
          277696,
          278669,
          279243,
          279810,
          280385,
          280970,
          281562,
          282158,
          282753,
          283345,
          283939,
          284536,
          285135,
          285737,
          286344,
          286951,
          287557,
          288142,
          288691,
          289110,
          290066,
          290666,
          291245,
          291824,
          292406,
          292991,
          293578,
          294167,
          294757,
          295350,
          295945,
          296539,
          297136,
          297728,
          298306,
          298842,
          299878,
          300405,
          300953,
          301520,
          302098,
          302679,
          303262,
          303847,
          304435,
          305022,
          305603,
          306177,
          306737,
          307250,
          308309,
          308807,
          309334,
          309887,
          310467,
          311060,
          311659,
          312258,
          312861,
          313459,
          314053,
          314646,
          315234,
          315841,
          316459,
          317083,
          317695,
          318301,
          318898,
          319491,
          320081,
          320674,
          321270,
          321867,
          322464,
          323060,
          323656,
          324251,
          324846,
          325435,
          325993,
          326378,
          327377,
          328000,
          328586,
          329167,
          329752,
          330341,
          330933,
          331528,
          332123,
          332716,
          333307,
          333897,
          334483,
          335065,
          335631,
          336141,
          337209,
          337640,
          338417,
          338949,
          339482,
          340027,
          340591,
          341174,
          341779,
          342386,
          342972,
          343539,
          344062,
          345041,
          345564,
          346108,
          346665,
          347229,
          347793,
          348350,
          348895,
          349397,
          350460,
          350946,
          351447,
          351943,
          352335,
          353257,
          353795,
          354255,
          355185,
          355729,
          356251,
          356717,
          357677,
          358166,
          358636,
          359493,
          360004,
          360532,
          361084,
          361651,
          362211,
          362710,
          363681,
          364213,
          364761,
          365323,
          365897,
          366479,
          367064,
          367650,
          368236,
          368816,
          369381,
          369907,
          370333,
          371264,
          371898,
          372492,
          373071,
          373651,
          374240,
          374841,
          375446,
          376057,
          376660,
          377263,
          377866,
          378468,
          379082,
          379692,
          380283,
          380850,
          381423,
          382038,
          382724,
          383387,
          383998,
          384594,
          385187,
          385775,
          386364,
          386955,
          387544,
          388134,
          388725,
          389314,
          389894,
          390456,
          390963,
          391992,
          392514,
          393057,
          393618,
          394193,
          394777,
          395363,
          395949,
          396535,
          397118,
          397699,
          398283,
          398877,
          399504,
          400148,
          400761,
          401359,
          401949,
          402523,
          403043,
          404053,
          404578,
          405121,
          405684,
          406259,
          406842,
          407425,
          408010,
          408591,
          409163,
          409720,
          410222,
          411248,
          411763,
          412297,
          412842,
          413381,
          413840,
          414776,
          415337,
          415890,
          416447,
          417008,
          417567,
          418098,
          418506,
          419459,
          420029,
          420527,
          421479,
          422004,
          422537,
          423089,
          423673,
          424287,
          424902,
          425503,
          426087,
          426653,
          427181,
          427539,
          428503,
          429138,
          429736,
          430325,
          430912,
          431498,
          432086,
          432672,
          433249,
          433815,
          434352,
          434765,
          435735,
          436350,
          436940,
          437530,
          438117,
          438700,
          439280,
          439853,
          440427,
          441012,
          441609,
          442203,
          442752,
          443195,
          444075,
          444453,
          445397,
          445935,
          446807,
          447342,
          447884,
          448443,
          449015,
          449593,
          450172,
          450750,
          451328,
          451906,
          452485,
          453054,
          453513,
          454490,
          455088,
          455663,
          456240,
          456819,
          457403,
          457990,
          458578,
          459166,
          459752,
          460337,
          460915,
          461467,
          461907,
          462884,
          463483,
          464064,
          464646,
          465234,
          465825,
          466420,
          467016,
          467609,
          468202,
          468795,
          469386,
          469970,
          470538,
          471070,
          471497,
          472438,
          473078,
          473682,
          474275,
          474862,
          475446,
          476029,
          476612,
          477194,
          477767,
          478301,
          478723,
          479653,
          480301,
          480913,
          481512,
          482105,
          482696,
          483285,
          483872,
          484458,
          485045,
          485632,
          486213,
          486758,
          487153,
          488125,
          488762,
          489359,
          489943,
          490524,
          491104,
          491685,
          492264,
          492836,
          493388,
          493863,
          494857,
          495414,
          495967,
          496533,
          497111,
          497703,
          498303,
          498908,
          499536,
          500169,
          500785,
          501375,
          501957,
          502540,
          503122,
          503700,
          504282,
          504876,
          505500,
          506136,
          506773,
          507383,
          507981,
          508581,
          509188,
          509793,
          510393,
          510983,
          511567,
          512146,
          512719,
          513274,
          513751,
          514729,
          515286,
          515851,
          516432,
          517031,
          517632,
          518234,
          518837,
          519440,
          520038,
          520634,
          521229,
          521821,
          522411,
          523000,
          523585,
          524169,
          524747,
          525313,
          525839,
          526294,
          527211,
          527849,
          528448,
          529039,
          529632,
          530238,
          530860,
          531479,
          532092,
          532695,
          533290,
          533882,
          534470,
          535055,
          535634,
          536201,
          536732,
          537133,
          538085,
          538721,
          539317,
          539902,
          540486,
          541069,
          541651,
          542235,
          542827,
          543433,
          544045,
          544646,
          545229,
          545788,
          546284,
          547289,
          547844,
          548410,
          548989,
          549573,
          550161,
          550749,
          551336,
          551925,
          552515,
          553110,
          553709,
          554311,
          554919,
          555529,
          556133,
          556733,
          557326,
          557910,
          558480,
          559016,
          559413,
          560384,
          561012,
          561607,
          562194,
          562774,
          563349,
          563920,
          564484,
          565018,
          565435,
          566388,
          567011,
          567604,
          568190,
          568766,
          569330,
          569858,
          570252,
          571211,
          571853,
          572452,
          573043,
          573635,
          574228,
          574822,
          575415,
          576006,
          576592,
          577170,
          577730,
          578216,
          579194,
          579749,
          580307,
          580875,
          581451,
          582033,
          582620,
          583208,
          583795,
          584381,
          584961,
          585523,
          586006,
          586999,
          587570,
          588136,
          588707,
          589286,
          589873,
          590463,
          591055,
          591643,
          592226,
          592798,
          593351,
          593836,
          594836,
          595389,
          595935,
          596472,
          596960,
          597939,
          598459,
          599004,
          599560,
          600122,
          600536,
          600963
         ],
         "xaxis": "x2",
         "y": {
          "dtype": "float32",
          "shape": [
           1000
          ],
          "value": {}
         },
         "yaxis": "y3"
        },
        {
         "line": {
          "color": "red"
         },
         "name": "<b style=\"color:sandybrown\">[R]</b> Signal <i style=\"color:#fc9944\">~602</i>",
         "opacity": 0.5,
         "type": "scattergl",
         "uid": "ee406e7c-a899-4a29-947e-7418c988a9a3",
         "visible": "legendonly",
         "x": [
          0,
          1,
          603,
          1205,
          1807,
          2409,
          3011,
          3613,
          4216,
          4818,
          5420,
          6022,
          6624,
          7828,
          8349,
          8431,
          9033,
          9635,
          10237,
          10839,
          11442,
          12044,
          12646,
          13248,
          13850,
          14452,
          15055,
          15657,
          16860,
          16874,
          17463,
          18065,
          18668,
          19270,
          19872,
          20474,
          21076,
          21678,
          22281,
          22883,
          23485,
          24087,
          24689,
          25893,
          26080,
          26496,
          27098,
          27700,
          28302,
          28904,
          29507,
          30109,
          30711,
          31313,
          31915,
          32517,
          33120,
          33722,
          34324,
          34926,
          35528,
          36130,
          36733,
          37335,
          37937,
          38539,
          39742,
          39994,
          40346,
          40948,
          41550,
          42152,
          42754,
          43356,
          43959,
          44561,
          45163,
          46366,
          46836,
          46969,
          47572,
          48174,
          48776,
          49378,
          49980,
          50582,
          51185,
          51787,
          52389,
          52991,
          53593,
          54195,
          54798,
          55400,
          56002,
          56604,
          57206,
          57808,
          58411,
          59013,
          59615,
          60217,
          60819,
          61421,
          62024,
          62626,
          63829,
          63926,
          64432,
          65034,
          65637,
          66239,
          66841,
          67443,
          68045,
          68647,
          69250,
          70453,
          70693,
          71056,
          71658,
          72260,
          72863,
          73465,
          74067,
          74669,
          75271,
          75873,
          76476,
          77078,
          78281,
          78580,
          78884,
          79486,
          80089,
          80691,
          81293,
          81895,
          82497,
          83099,
          83702,
          84304,
          84906,
          86109,
          86176,
          86712,
          87315,
          87917,
          88519,
          89121,
          89723,
          90325,
          90928,
          91530,
          92132,
          92734,
          93336,
          93938,
          94541,
          95143,
          95745,
          96347,
          96949,
          97551,
          98154,
          98756,
          99358,
          99960,
          100562,
          101164,
          101767,
          102369,
          102971,
          103573,
          104776,
          105231,
          105380,
          105982,
          106584,
          107186,
          107788,
          108390,
          108993,
          109595,
          110197,
          110799,
          111401,
          112003,
          112606,
          113208,
          113810,
          114412,
          115014,
          115616,
          116219,
          116821,
          117423,
          118025,
          119228,
          119516,
          119832,
          120434,
          121036,
          121638,
          122240,
          122842,
          123445,
          124047,
          124649,
          125251,
          126454,
          126705,
          127058,
          127660,
          128262,
          128864,
          129466,
          130068,
          130671,
          131273,
          132476,
          132909,
          133079,
          133681,
          134284,
          134886,
          135488,
          136090,
          136692,
          137294,
          137897,
          138499,
          139101,
          139703,
          140305,
          140907,
          141510,
          142112,
          142714,
          143316,
          143918,
          144520,
          145123,
          145725,
          146327,
          146929,
          147531,
          148735,
          148999,
          149338,
          149940,
          150542,
          151144,
          151746,
          152349,
          152951,
          153553,
          154155,
          154757,
          155359,
          156563,
          156871,
          157166,
          157768,
          158370,
          158972,
          159575,
          160778,
          161332,
          161381,
          161983,
          162585,
          163188,
          163790,
          164392,
          164994,
          165596,
          166198,
          166801,
          167403,
          168005,
          168607,
          169209,
          170413,
          170667,
          171016,
          171618,
          172220,
          172822,
          173424,
          174027,
          175230,
          175671,
          175833,
          176435,
          177037,
          177640,
          178843,
          179258,
          179446,
          180048,
          180650,
          181253,
          181855,
          182457,
          183059,
          183661,
          184263,
          184866,
          185468,
          186070,
          186672,
          187274,
          187876,
          188479,
          189081,
          189683,
          190285,
          190887,
          191489,
          192092,
          192694,
          193296,
          193898,
          194500,
          195102,
          196306,
          196845,
          196909,
          197511,
          198113,
          198715,
          199318,
          199920,
          200522,
          201725,
          201781,
          202328,
          202931,
          203533,
          204135,
          204737,
          205940,
          206539,
          206544,
          207146,
          207748,
          208350,
          209553,
          209818,
          210157,
          210759,
          211361,
          211963,
          212565,
          213167,
          213770,
          214372,
          214974,
          215576,
          216178,
          216780,
          217383,
          217985,
          218587,
          219189,
          219791,
          220393,
          221597,
          221889,
          222200,
          222802,
          223404,
          224006,
          224609,
          225812,
          226366,
          226415,
          227017,
          227619,
          228222,
          228824,
          229426,
          230629,
          231001,
          231232,
          231835,
          232437,
          233039,
          233641,
          234243,
          234845,
          235448,
          236050,
          236652,
          237254,
          237856,
          238458,
          239061,
          239663,
          240265,
          240867,
          241469,
          242071,
          242674,
          243276,
          243878,
          244480,
          245683,
          245828,
          246287,
          246889,
          247491,
          248093,
          248695,
          249297,
          249900,
          250502,
          251104,
          251706,
          252308,
          252910,
          253513,
          254115,
          254717,
          255319,
          255921,
          256523,
          257126,
          257728,
          258330,
          259533,
          260058,
          260136,
          260739,
          261341,
          261943,
          262545,
          263147,
          263749,
          264352,
          264954,
          265556,
          266759,
          267125,
          267362,
          267965,
          268567,
          269169,
          269771,
          270373,
          270975,
          271578,
          272180,
          272782,
          273384,
          273986,
          275190,
          275719,
          275793,
          276395,
          276997,
          277599,
          278201,
          278804,
          279406,
          280008,
          280610,
          281212,
          281814,
          282417,
          283019,
          283621,
          284223,
          284825,
          285427,
          286030,
          287233,
          287716,
          287836,
          288438,
          289040,
          289643,
          290245,
          290847,
          291449,
          292051,
          293255,
          293594,
          293858,
          294460,
          295062,
          295664,
          296266,
          296869,
          297471,
          298073,
          298675,
          299277,
          299879,
          300482,
          301084,
          301686,
          302288,
          302890,
          303492,
          304696,
          304780,
          305299,
          305901,
          306503,
          307105,
          307707,
          308310,
          308912,
          309514,
          310116,
          310718,
          311320,
          311923,
          312525,
          313127,
          313729,
          314331,
          314933,
          315536,
          316138,
          316740,
          317342,
          317944,
          318546,
          319149,
          319751,
          320353,
          320955,
          321557,
          322159,
          322762,
          323364,
          323966,
          324568,
          325771,
          325867,
          326375,
          326977,
          327579,
          328181,
          328783,
          329385,
          329988,
          330590,
          331192,
          332395,
          332889,
          332998,
          333601,
          334203,
          334805,
          336008,
          336509,
          336611,
          337214,
          337816,
          338418,
          339020,
          339622,
          340224,
          340827,
          341429,
          342632,
          342778,
          343235,
          343837,
          344440,
          345042,
          345644,
          346847,
          346974,
          347450,
          348053,
          348655,
          349858,
          350125,
          350461,
          351063,
          351666,
          352268,
          352870,
          353472,
          354074,
          354676,
          355279,
          355881,
          356483,
          357085,
          357687,
          358289,
          358892,
          359494,
          360096,
          360698,
          361300,
          361902,
          362505,
          363107,
          363709,
          364311,
          364913,
          365515,
          366118,
          366720,
          367923,
          368100,
          368526,
          369128,
          369731,
          370333,
          370935,
          371537,
          372139,
          372741,
          373344,
          373946,
          374548,
          375150,
          375752,
          376354,
          376957,
          377559,
          378161,
          378763,
          379365,
          379967,
          380570,
          381172,
          381774,
          382376,
          382978,
          383580,
          384183,
          384785,
          385387,
          385989,
          386591,
          387193,
          387796,
          388999,
          389296,
          389602,
          390204,
          390806,
          391409,
          392011,
          392613,
          393215,
          393817,
          395021,
          395515,
          395624,
          396226,
          396828,
          397430,
          398032,
          398635,
          399237,
          399839,
          400441,
          401043,
          401645,
          402248,
          402850,
          403452,
          404054,
          404656,
          405258,
          405861,
          406463,
          407666,
          407947,
          408269,
          408871,
          409474,
          410076,
          411279,
          411692,
          411882,
          412484,
          413087,
          413689,
          414892,
          415405,
          415495,
          416097,
          416700,
          417302,
          418505,
          418584,
          419108,
          419710,
          420313,
          420915,
          422118,
          422463,
          422721,
          423323,
          423926,
          424528,
          425130,
          425732,
          426334,
          426936,
          427539,
          428141,
          428743,
          429345,
          429947,
          430549,
          431753,
          432145,
          432356,
          432958,
          433560,
          434162,
          434765,
          435367,
          435969,
          436571,
          437774,
          437896,
          438378,
          438980,
          439582,
          440184,
          440786,
          441388,
          441991,
          442593,
          443195,
          443797,
          444399,
          445001,
          445604,
          446206,
          446808,
          447410,
          448012,
          448614,
          449818,
          450211,
          450421,
          451023,
          451625,
          452227,
          452830,
          453432,
          454034,
          454636,
          455238,
          455840,
          456443,
          457045,
          458248,
          458747,
          458851,
          459453,
          460056,
          460658,
          461260,
          461862,
          462464,
          463066,
          463669,
          464271,
          464873,
          465475,
          466077,
          466679,
          467282,
          468485,
          468963,
          469088,
          469690,
          470292,
          470895,
          471497,
          472099,
          472701,
          473303,
          474507,
          474865,
          475110,
          475712,
          476314,
          476916,
          477518,
          478121,
          478723,
          479325,
          479927,
          480529,
          481131,
          481734,
          482336,
          483539,
          484134,
          484142,
          484744,
          485347,
          485949,
          486551,
          487153,
          487755,
          488357,
          488960,
          490163,
          490507,
          490766,
          491368,
          491970,
          492573,
          493175,
          493777,
          494379,
          494981,
          495583,
          496186,
          496788,
          497390,
          497992,
          498594,
          499196,
          499799,
          500401,
          501003,
          501605,
          502207,
          502809,
          503412,
          504014,
          504616,
          505218,
          505820,
          506422,
          507025,
          507627,
          508229,
          508831,
          509433,
          510035,
          511239,
          511491,
          511842,
          512444,
          513046,
          513648,
          514251,
          514853,
          515455,
          516057,
          516659,
          517261,
          517864,
          518466,
          519068,
          519670,
          520272,
          520874,
          522078,
          522643,
          522681,
          523283,
          523885,
          524487,
          525090,
          525692,
          526294,
          526896,
          527498,
          528100,
          528703,
          529305,
          529907,
          530509,
          531111,
          531713,
          532316,
          532918,
          533520,
          534723,
          534796,
          535326,
          535929,
          536531,
          537133,
          537735,
          538337,
          538939,
          540143,
          540361,
          540746,
          541348,
          541950,
          542552,
          543155,
          543757,
          544359,
          544961,
          545563,
          546165,
          546768,
          547370,
          547972,
          548574,
          549176,
          549778,
          550381,
          550983,
          551585,
          552187,
          552789,
          553391,
          553994,
          554596,
          555198,
          555800,
          557003,
          557486,
          557607,
          558209,
          558811,
          559413,
          560015,
          560617,
          561821,
          562277,
          562424,
          563026,
          563628,
          564230,
          564833,
          565435,
          566037,
          566639,
          567842,
          568323,
          568446,
          569048,
          569650,
          570252,
          570854,
          571456,
          572059,
          572661,
          573263,
          573865,
          574467,
          575671,
          576215,
          576274,
          576876,
          577478,
          578080,
          578682,
          579285,
          579887,
          580489,
          581091,
          582294,
          582782,
          582898,
          583500,
          584102,
          584704,
          585306,
          585908,
          586511,
          587113,
          587715,
          588317,
          588919,
          589521,
          590725,
          591235,
          591328,
          591930,
          592532,
          593134,
          593737,
          594940,
          595196,
          595543,
          596145,
          596747,
          597350,
          597952,
          599155,
          599730,
          599758,
          600360,
          600963
         ],
         "xaxis": "x2",
         "y": {
          "dtype": "float32",
          "shape": [
           1000
          ],
          "value": {}
         },
         "yaxis": "y4"
        },
        {
         "connectgaps": true,
         "line": {
          "color": "gray",
          "shape": "hv",
          "width": 3
         },
         "mode": "lines",
         "name": "Profit",
         "opacity": 0.5,
         "type": "scattergl",
         "uid": "7aad62f8-0b27-4ed0-b057-84ed776ab2a8",
         "visible": true,
         "x": [
          16875,
          26081,
          39995,
          46838,
          63927,
          70694,
          78581,
          86177,
          105233,
          119517,
          126706,
          132910,
          149000,
          156872,
          161334,
          170668,
          175672,
          179259,
          196847,
          201782,
          206541,
          209819,
          221890,
          226368,
          231002,
          245829,
          260060,
          267126,
          275721,
          287718,
          293595,
          304781,
          325868,
          332891,
          336511,
          342779,
          346975,
          350126,
          368101,
          389297,
          395517,
          407948,
          411693,
          415407,
          418585,
          422464,
          432146,
          437897,
          450212,
          458749,
          468965,
          474866,
          484136,
          490508,
          511492,
          522645,
          534797,
          540362,
          557488,
          562279,
          568325,
          576217,
          582784,
          591237,
          595197,
          599732
         ],
         "xaxis": "x2",
         "y": {
          "dtype": "float64",
          "shape": [
           66
          ],
          "value": {}
         },
         "yaxis": "y2"
        },
        {
         "marker": {
          "color": "green",
          "line": {
           "color": "darkgreen",
           "width": 1
          },
          "size": 10,
          "symbol": "triangle-up"
         },
         "mode": "markers",
         "name": "Buy",
         "type": "scattergl",
         "uid": "65ddcff2-72c0-4383-83f6-e46213a45a8a",
         "x": [
          8351,
          26082,
          46839,
          70695,
          86178,
          119518,
          132911,
          156873,
          170669,
          179260,
          201783,
          209820,
          226369,
          245830,
          267127,
          287719,
          304782,
          332892,
          342780,
          350127,
          389298,
          407949,
          415408,
          422465,
          437898,
          458750,
          474867,
          490509,
          522646,
          540363,
          562280,
          576218,
          591238,
          26081,
          46838,
          70694,
          86177,
          119517,
          132910,
          156872,
          170668,
          179259,
          201782,
          209819,
          226368,
          245829,
          267126,
          287718,
          304781,
          332891,
          342779,
          350126,
          389297,
          407948,
          415407,
          422464,
          437897,
          458749,
          474866,
          490508,
          522645,
          540362,
          562279,
          576217,
          591237,
          599732
         ],
         "xaxis": "x2",
         "y": {
          "dtype": "float64",
          "shape": [
           66
          ],
          "value": {}
         }
        },
        {
         "marker": {
          "color": "red",
          "line": {
           "color": "darkred",
           "width": 1
          },
          "size": 10,
          "symbol": "triangle-down"
         },
         "mode": "markers",
         "name": "Sell",
         "type": "scattergl",
         "uid": "cc3fab0c-aa59-44cc-88a3-f1b56c004f3e",
         "x": [
          16876,
          39996,
          63928,
          78582,
          105234,
          126707,
          149001,
          161335,
          175673,
          196848,
          206542,
          221891,
          231003,
          260061,
          275722,
          293596,
          325869,
          336512,
          346976,
          368102,
          395518,
          411694,
          418586,
          432147,
          450213,
          468966,
          484137,
          511493,
          534798,
          557489,
          568326,
          582785,
          595198,
          16875,
          39995,
          63927,
          78581,
          105233,
          126706,
          149000,
          161334,
          175672,
          196847,
          206541,
          221890,
          231002,
          260060,
          275721,
          293595,
          325868,
          336511,
          346975,
          368101,
          395517,
          411693,
          418585,
          432146,
          450212,
          468965,
          484136,
          511492,
          534797,
          557488,
          568325,
          582784,
          595197
         ],
         "xaxis": "x2",
         "y": {
          "dtype": "float64",
          "shape": [
           66
          ],
          "value": {}
         }
        }
       ],
       "_js2py_update": {},
       "_last_layout_edit_id": 148,
       "_last_trace_edit_id": 146,
       "_layout": {
        "autosize": true,
        "height": 700,
        "legend": {
         "orientation": "h",
         "x": 0.1,
         "y": 1
        },
        "margin": {
         "b": 10,
         "l": 45,
         "pad": 3,
         "r": 15,
         "t": 30
        },
        "template": {
         "data": {
          "bar": [
           {
            "error_x": {
             "color": "#2a3f5f"
            },
            "error_y": {
             "color": "#2a3f5f"
            },
            "marker": {
             "line": {
              "color": "white",
              "width": 0.5
             },
             "pattern": {
              "fillmode": "overlay",
              "size": 10,
              "solidity": 0.2
             }
            },
            "type": "bar"
           }
          ],
          "barpolar": [
           {
            "marker": {
             "line": {
              "color": "white",
              "width": 0.5
             },
             "pattern": {
              "fillmode": "overlay",
              "size": 10,
              "solidity": 0.2
             }
            },
            "type": "barpolar"
           }
          ],
          "carpet": [
           {
            "aaxis": {
             "endlinecolor": "#2a3f5f",
             "gridcolor": "#C8D4E3",
             "linecolor": "#C8D4E3",
             "minorgridcolor": "#C8D4E3",
             "startlinecolor": "#2a3f5f"
            },
            "baxis": {
             "endlinecolor": "#2a3f5f",
             "gridcolor": "#C8D4E3",
             "linecolor": "#C8D4E3",
             "minorgridcolor": "#C8D4E3",
             "startlinecolor": "#2a3f5f"
            },
            "type": "carpet"
           }
          ],
          "choropleth": [
           {
            "colorbar": {
             "outlinewidth": 0,
             "ticks": ""
            },
            "type": "choropleth"
           }
          ],
          "contour": [
           {
            "colorbar": {
             "outlinewidth": 0,
             "ticks": ""
            },
            "colorscale": [
             [
              0,
              "#0d0887"
             ],
             [
              0.1111111111111111,
              "#46039f"
             ],
             [
              0.2222222222222222,
              "#7201a8"
             ],
             [
              0.3333333333333333,
              "#9c179e"
             ],
             [
              0.4444444444444444,
              "#bd3786"
             ],
             [
              0.5555555555555556,
              "#d8576b"
             ],
             [
              0.6666666666666666,
              "#ed7953"
             ],
             [
              0.7777777777777778,
              "#fb9f3a"
             ],
             [
              0.8888888888888888,
              "#fdca26"
             ],
             [
              1,
              "#f0f921"
             ]
            ],
            "type": "contour"
           }
          ],
          "contourcarpet": [
           {
            "colorbar": {
             "outlinewidth": 0,
             "ticks": ""
            },
            "type": "contourcarpet"
           }
          ],
          "heatmap": [
           {
            "colorbar": {
             "outlinewidth": 0,
             "ticks": ""
            },
            "colorscale": [
             [
              0,
              "#0d0887"
             ],
             [
              0.1111111111111111,
              "#46039f"
             ],
             [
              0.2222222222222222,
              "#7201a8"
             ],
             [
              0.3333333333333333,
              "#9c179e"
             ],
             [
              0.4444444444444444,
              "#bd3786"
             ],
             [
              0.5555555555555556,
              "#d8576b"
             ],
             [
              0.6666666666666666,
              "#ed7953"
             ],
             [
              0.7777777777777778,
              "#fb9f3a"
             ],
             [
              0.8888888888888888,
              "#fdca26"
             ],
             [
              1,
              "#f0f921"
             ]
            ],
            "type": "heatmap"
           }
          ],
          "heatmapgl": [
           {
            "colorbar": {
             "outlinewidth": 0,
             "ticks": ""
            },
            "colorscale": [
             [
              0,
              "#0d0887"
             ],
             [
              0.1111111111111111,
              "#46039f"
             ],
             [
              0.2222222222222222,
              "#7201a8"
             ],
             [
              0.3333333333333333,
              "#9c179e"
             ],
             [
              0.4444444444444444,
              "#bd3786"
             ],
             [
              0.5555555555555556,
              "#d8576b"
             ],
             [
              0.6666666666666666,
              "#ed7953"
             ],
             [
              0.7777777777777778,
              "#fb9f3a"
             ],
             [
              0.8888888888888888,
              "#fdca26"
             ],
             [
              1,
              "#f0f921"
             ]
            ],
            "type": "heatmapgl"
           }
          ],
          "histogram": [
           {
            "marker": {
             "pattern": {
              "fillmode": "overlay",
              "size": 10,
              "solidity": 0.2
             }
            },
            "type": "histogram"
           }
          ],
          "histogram2d": [
           {
            "colorbar": {
             "outlinewidth": 0,
             "ticks": ""
            },
            "colorscale": [
             [
              0,
              "#0d0887"
             ],
             [
              0.1111111111111111,
              "#46039f"
             ],
             [
              0.2222222222222222,
              "#7201a8"
             ],
             [
              0.3333333333333333,
              "#9c179e"
             ],
             [
              0.4444444444444444,
              "#bd3786"
             ],
             [
              0.5555555555555556,
              "#d8576b"
             ],
             [
              0.6666666666666666,
              "#ed7953"
             ],
             [
              0.7777777777777778,
              "#fb9f3a"
             ],
             [
              0.8888888888888888,
              "#fdca26"
             ],
             [
              1,
              "#f0f921"
             ]
            ],
            "type": "histogram2d"
           }
          ],
          "histogram2dcontour": [
           {
            "colorbar": {
             "outlinewidth": 0,
             "ticks": ""
            },
            "colorscale": [
             [
              0,
              "#0d0887"
             ],
             [
              0.1111111111111111,
              "#46039f"
             ],
             [
              0.2222222222222222,
              "#7201a8"
             ],
             [
              0.3333333333333333,
              "#9c179e"
             ],
             [
              0.4444444444444444,
              "#bd3786"
             ],
             [
              0.5555555555555556,
              "#d8576b"
             ],
             [
              0.6666666666666666,
              "#ed7953"
             ],
             [
              0.7777777777777778,
              "#fb9f3a"
             ],
             [
              0.8888888888888888,
              "#fdca26"
             ],
             [
              1,
              "#f0f921"
             ]
            ],
            "type": "histogram2dcontour"
           }
          ],
          "mesh3d": [
           {
            "colorbar": {
             "outlinewidth": 0,
             "ticks": ""
            },
            "type": "mesh3d"
           }
          ],
          "parcoords": [
           {
            "line": {
             "colorbar": {
              "outlinewidth": 0,
              "ticks": ""
             }
            },
            "type": "parcoords"
           }
          ],
          "pie": [
           {
            "automargin": true,
            "type": "pie"
           }
          ],
          "scatter": [
           {
            "marker": {
             "colorbar": {
              "outlinewidth": 0,
              "ticks": ""
             }
            },
            "type": "scatter"
           }
          ],
          "scatter3d": [
           {
            "line": {
             "colorbar": {
              "outlinewidth": 0,
              "ticks": ""
             }
            },
            "marker": {
             "colorbar": {
              "outlinewidth": 0,
              "ticks": ""
             }
            },
            "type": "scatter3d"
           }
          ],
          "scattercarpet": [
           {
            "marker": {
             "colorbar": {
              "outlinewidth": 0,
              "ticks": ""
             }
            },
            "type": "scattercarpet"
           }
          ],
          "scattergeo": [
           {
            "marker": {
             "colorbar": {
              "outlinewidth": 0,
              "ticks": ""
             }
            },
            "type": "scattergeo"
           }
          ],
          "scattergl": [
           {
            "marker": {
             "colorbar": {
              "outlinewidth": 0,
              "ticks": ""
             }
            },
            "type": "scattergl"
           }
          ],
          "scattermapbox": [
           {
            "marker": {
             "colorbar": {
              "outlinewidth": 0,
              "ticks": ""
             }
            },
            "type": "scattermapbox"
           }
          ],
          "scatterpolar": [
           {
            "marker": {
             "colorbar": {
              "outlinewidth": 0,
              "ticks": ""
             }
            },
            "type": "scatterpolar"
           }
          ],
          "scatterpolargl": [
           {
            "marker": {
             "colorbar": {
              "outlinewidth": 0,
              "ticks": ""
             }
            },
            "type": "scatterpolargl"
           }
          ],
          "scatterternary": [
           {
            "marker": {
             "colorbar": {
              "outlinewidth": 0,
              "ticks": ""
             }
            },
            "type": "scatterternary"
           }
          ],
          "surface": [
           {
            "colorbar": {
             "outlinewidth": 0,
             "ticks": ""
            },
            "colorscale": [
             [
              0,
              "#0d0887"
             ],
             [
              0.1111111111111111,
              "#46039f"
             ],
             [
              0.2222222222222222,
              "#7201a8"
             ],
             [
              0.3333333333333333,
              "#9c179e"
             ],
             [
              0.4444444444444444,
              "#bd3786"
             ],
             [
              0.5555555555555556,
              "#d8576b"
             ],
             [
              0.6666666666666666,
              "#ed7953"
             ],
             [
              0.7777777777777778,
              "#fb9f3a"
             ],
             [
              0.8888888888888888,
              "#fdca26"
             ],
             [
              1,
              "#f0f921"
             ]
            ],
            "type": "surface"
           }
          ],
          "table": [
           {
            "cells": {
             "fill": {
              "color": "#EBF0F8"
             },
             "line": {
              "color": "white"
             }
            },
            "header": {
             "fill": {
              "color": "#C8D4E3"
             },
             "line": {
              "color": "white"
             }
            },
            "type": "table"
           }
          ]
         },
         "layout": {
          "annotationdefaults": {
           "arrowcolor": "#2a3f5f",
           "arrowhead": 0,
           "arrowwidth": 1
          },
          "autotypenumbers": "strict",
          "coloraxis": {
           "colorbar": {
            "outlinewidth": 0,
            "ticks": ""
           }
          },
          "colorscale": {
           "diverging": [
            [
             0,
             "#8e0152"
            ],
            [
             0.1,
             "#c51b7d"
            ],
            [
             0.2,
             "#de77ae"
            ],
            [
             0.3,
             "#f1b6da"
            ],
            [
             0.4,
             "#fde0ef"
            ],
            [
             0.5,
             "#f7f7f7"
            ],
            [
             0.6,
             "#e6f5d0"
            ],
            [
             0.7,
             "#b8e186"
            ],
            [
             0.8,
             "#7fbc41"
            ],
            [
             0.9,
             "#4d9221"
            ],
            [
             1,
             "#276419"
            ]
           ],
           "sequential": [
            [
             0,
             "#0d0887"
            ],
            [
             0.1111111111111111,
             "#46039f"
            ],
            [
             0.2222222222222222,
             "#7201a8"
            ],
            [
             0.3333333333333333,
             "#9c179e"
            ],
            [
             0.4444444444444444,
             "#bd3786"
            ],
            [
             0.5555555555555556,
             "#d8576b"
            ],
            [
             0.6666666666666666,
             "#ed7953"
            ],
            [
             0.7777777777777778,
             "#fb9f3a"
            ],
            [
             0.8888888888888888,
             "#fdca26"
            ],
            [
             1,
             "#f0f921"
            ]
           ],
           "sequentialminus": [
            [
             0,
             "#0d0887"
            ],
            [
             0.1111111111111111,
             "#46039f"
            ],
            [
             0.2222222222222222,
             "#7201a8"
            ],
            [
             0.3333333333333333,
             "#9c179e"
            ],
            [
             0.4444444444444444,
             "#bd3786"
            ],
            [
             0.5555555555555556,
             "#d8576b"
            ],
            [
             0.6666666666666666,
             "#ed7953"
            ],
            [
             0.7777777777777778,
             "#fb9f3a"
            ],
            [
             0.8888888888888888,
             "#fdca26"
            ],
            [
             1,
             "#f0f921"
            ]
           ]
          },
          "colorway": [
           "#636efa",
           "#EF553B",
           "#00cc96",
           "#ab63fa",
           "#FFA15A",
           "#19d3f3",
           "#FF6692",
           "#B6E880",
           "#FF97FF",
           "#FECB52"
          ],
          "font": {
           "color": "#2a3f5f"
          },
          "geo": {
           "bgcolor": "white",
           "lakecolor": "white",
           "landcolor": "white",
           "showlakes": true,
           "showland": true,
           "subunitcolor": "#C8D4E3"
          },
          "hoverlabel": {
           "align": "left"
          },
          "hovermode": "closest",
          "mapbox": {
           "style": "light"
          },
          "paper_bgcolor": "white",
          "plot_bgcolor": "white",
          "polar": {
           "angularaxis": {
            "gridcolor": "#EBF0F8",
            "linecolor": "#EBF0F8",
            "ticks": ""
           },
           "bgcolor": "white",
           "radialaxis": {
            "gridcolor": "#EBF0F8",
            "linecolor": "#EBF0F8",
            "ticks": ""
           }
          },
          "scene": {
           "xaxis": {
            "backgroundcolor": "white",
            "gridcolor": "#DFE8F3",
            "gridwidth": 2,
            "linecolor": "#EBF0F8",
            "showbackground": true,
            "ticks": "",
            "zerolinecolor": "#EBF0F8"
           },
           "yaxis": {
            "backgroundcolor": "white",
            "gridcolor": "#DFE8F3",
            "gridwidth": 2,
            "linecolor": "#EBF0F8",
            "showbackground": true,
            "ticks": "",
            "zerolinecolor": "#EBF0F8"
           },
           "zaxis": {
            "backgroundcolor": "white",
            "gridcolor": "#DFE8F3",
            "gridwidth": 2,
            "linecolor": "#EBF0F8",
            "showbackground": true,
            "ticks": "",
            "zerolinecolor": "#EBF0F8"
           }
          },
          "shapedefaults": {
           "line": {
            "color": "#2a3f5f"
           }
          },
          "ternary": {
           "aaxis": {
            "gridcolor": "#DFE8F3",
            "linecolor": "#A2B1C6",
            "ticks": ""
           },
           "baxis": {
            "gridcolor": "#DFE8F3",
            "linecolor": "#A2B1C6",
            "ticks": ""
           },
           "bgcolor": "white",
           "caxis": {
            "gridcolor": "#DFE8F3",
            "linecolor": "#A2B1C6",
            "ticks": ""
           }
          },
          "title": {
           "x": 0.05
          },
          "xaxis": {
           "automargin": true,
           "gridcolor": "#EBF0F8",
           "linecolor": "#EBF0F8",
           "ticks": "",
           "title": {
            "standoff": 15
           },
           "zerolinecolor": "#EBF0F8",
           "zerolinewidth": 2
          },
          "yaxis": {
           "automargin": true,
           "gridcolor": "#EBF0F8",
           "linecolor": "#EBF0F8",
           "ticks": "",
           "title": {
            "standoff": 15
           },
           "zerolinecolor": "#EBF0F8",
           "zerolinewidth": 2
          }
         }
        },
        "xaxis": {
         "anchor": "y",
         "domain": [
          0,
          0.94
         ],
         "matches": "x2",
         "showticklabels": false,
         "spikedash": "dot",
         "spikemode": "across+marker",
         "spikesnap": "cursor",
         "spikethickness": 2
        },
        "xaxis2": {
         "anchor": "y3",
         "autorange": true,
         "domain": [
          0,
          0.94
         ],
         "spikedash": "dot",
         "spikemode": "across+marker",
         "spikesnap": "cursor",
         "spikethickness": 2
        },
        "yaxis": {
         "anchor": "x",
         "autorange": true,
         "domain": [
          0.32100000000000006,
          1
         ],
         "showspikes": false
        },
        "yaxis2": {
         "anchor": "x",
         "autorange": true,
         "overlaying": "y",
         "showspikes": false,
         "side": "right"
        },
        "yaxis3": {
         "anchor": "x2",
         "autorange": true,
         "domain": [
          0,
          0.29100000000000004
         ],
         "showspikes": false
        },
        "yaxis4": {
         "anchor": "x2",
         "autorange": true,
         "overlaying": "y3",
         "showspikes": false,
         "side": "right"
        }
       },
       "_py2js_animate": {},
       "_py2js_deleteTraces": {},
       "_py2js_moveTraces": {},
       "_py2js_removeTraceProps": {},
       "_view_count": 6
      }
     },
     "d51e548316694d1aba36ba8a57464af9": {
      "model_module": "@jupyter-widgets/base",
      "model_module_version": "1.2.0",
      "model_name": "LayoutModel",
      "state": {}
     },
     "d6c3226095b944a584e5a4f9b8d8c165": {
      "model_module": "jupyterlab-plotly",
      "model_module_version": "^5.6.0",
      "model_name": "FigureModel",
      "state": {
       "_config": {
        "plotlyServerURL": "https://plot.ly"
       },
       "_js2py_layoutDelta": {},
       "_js2py_pointsCallback": {},
       "_js2py_relayout": {},
       "_js2py_restyle": {},
       "_js2py_traceDeltas": {},
       "_js2py_update": {},
       "_layout": {
        "template": {
         "data": {
          "bar": [
           {
            "error_x": {
             "color": "#2a3f5f"
            },
            "error_y": {
             "color": "#2a3f5f"
            },
            "marker": {
             "line": {
              "color": "#E5ECF6",
              "width": 0.5
             },
             "pattern": {
              "fillmode": "overlay",
              "size": 10,
              "solidity": 0.2
             }
            },
            "type": "bar"
           }
          ],
          "barpolar": [
           {
            "marker": {
             "line": {
              "color": "#E5ECF6",
              "width": 0.5
             },
             "pattern": {
              "fillmode": "overlay",
              "size": 10,
              "solidity": 0.2
             }
            },
            "type": "barpolar"
           }
          ],
          "carpet": [
           {
            "aaxis": {
             "endlinecolor": "#2a3f5f",
             "gridcolor": "white",
             "linecolor": "white",
             "minorgridcolor": "white",
             "startlinecolor": "#2a3f5f"
            },
            "baxis": {
             "endlinecolor": "#2a3f5f",
             "gridcolor": "white",
             "linecolor": "white",
             "minorgridcolor": "white",
             "startlinecolor": "#2a3f5f"
            },
            "type": "carpet"
           }
          ],
          "choropleth": [
           {
            "colorbar": {
             "outlinewidth": 0,
             "ticks": ""
            },
            "type": "choropleth"
           }
          ],
          "contour": [
           {
            "colorbar": {
             "outlinewidth": 0,
             "ticks": ""
            },
            "colorscale": [
             [
              0,
              "#0d0887"
             ],
             [
              0.1111111111111111,
              "#46039f"
             ],
             [
              0.2222222222222222,
              "#7201a8"
             ],
             [
              0.3333333333333333,
              "#9c179e"
             ],
             [
              0.4444444444444444,
              "#bd3786"
             ],
             [
              0.5555555555555556,
              "#d8576b"
             ],
             [
              0.6666666666666666,
              "#ed7953"
             ],
             [
              0.7777777777777778,
              "#fb9f3a"
             ],
             [
              0.8888888888888888,
              "#fdca26"
             ],
             [
              1,
              "#f0f921"
             ]
            ],
            "type": "contour"
           }
          ],
          "contourcarpet": [
           {
            "colorbar": {
             "outlinewidth": 0,
             "ticks": ""
            },
            "type": "contourcarpet"
           }
          ],
          "heatmap": [
           {
            "colorbar": {
             "outlinewidth": 0,
             "ticks": ""
            },
            "colorscale": [
             [
              0,
              "#0d0887"
             ],
             [
              0.1111111111111111,
              "#46039f"
             ],
             [
              0.2222222222222222,
              "#7201a8"
             ],
             [
              0.3333333333333333,
              "#9c179e"
             ],
             [
              0.4444444444444444,
              "#bd3786"
             ],
             [
              0.5555555555555556,
              "#d8576b"
             ],
             [
              0.6666666666666666,
              "#ed7953"
             ],
             [
              0.7777777777777778,
              "#fb9f3a"
             ],
             [
              0.8888888888888888,
              "#fdca26"
             ],
             [
              1,
              "#f0f921"
             ]
            ],
            "type": "heatmap"
           }
          ],
          "heatmapgl": [
           {
            "colorbar": {
             "outlinewidth": 0,
             "ticks": ""
            },
            "colorscale": [
             [
              0,
              "#0d0887"
             ],
             [
              0.1111111111111111,
              "#46039f"
             ],
             [
              0.2222222222222222,
              "#7201a8"
             ],
             [
              0.3333333333333333,
              "#9c179e"
             ],
             [
              0.4444444444444444,
              "#bd3786"
             ],
             [
              0.5555555555555556,
              "#d8576b"
             ],
             [
              0.6666666666666666,
              "#ed7953"
             ],
             [
              0.7777777777777778,
              "#fb9f3a"
             ],
             [
              0.8888888888888888,
              "#fdca26"
             ],
             [
              1,
              "#f0f921"
             ]
            ],
            "type": "heatmapgl"
           }
          ],
          "histogram": [
           {
            "marker": {
             "pattern": {
              "fillmode": "overlay",
              "size": 10,
              "solidity": 0.2
             }
            },
            "type": "histogram"
           }
          ],
          "histogram2d": [
           {
            "colorbar": {
             "outlinewidth": 0,
             "ticks": ""
            },
            "colorscale": [
             [
              0,
              "#0d0887"
             ],
             [
              0.1111111111111111,
              "#46039f"
             ],
             [
              0.2222222222222222,
              "#7201a8"
             ],
             [
              0.3333333333333333,
              "#9c179e"
             ],
             [
              0.4444444444444444,
              "#bd3786"
             ],
             [
              0.5555555555555556,
              "#d8576b"
             ],
             [
              0.6666666666666666,
              "#ed7953"
             ],
             [
              0.7777777777777778,
              "#fb9f3a"
             ],
             [
              0.8888888888888888,
              "#fdca26"
             ],
             [
              1,
              "#f0f921"
             ]
            ],
            "type": "histogram2d"
           }
          ],
          "histogram2dcontour": [
           {
            "colorbar": {
             "outlinewidth": 0,
             "ticks": ""
            },
            "colorscale": [
             [
              0,
              "#0d0887"
             ],
             [
              0.1111111111111111,
              "#46039f"
             ],
             [
              0.2222222222222222,
              "#7201a8"
             ],
             [
              0.3333333333333333,
              "#9c179e"
             ],
             [
              0.4444444444444444,
              "#bd3786"
             ],
             [
              0.5555555555555556,
              "#d8576b"
             ],
             [
              0.6666666666666666,
              "#ed7953"
             ],
             [
              0.7777777777777778,
              "#fb9f3a"
             ],
             [
              0.8888888888888888,
              "#fdca26"
             ],
             [
              1,
              "#f0f921"
             ]
            ],
            "type": "histogram2dcontour"
           }
          ],
          "mesh3d": [
           {
            "colorbar": {
             "outlinewidth": 0,
             "ticks": ""
            },
            "type": "mesh3d"
           }
          ],
          "parcoords": [
           {
            "line": {
             "colorbar": {
              "outlinewidth": 0,
              "ticks": ""
             }
            },
            "type": "parcoords"
           }
          ],
          "pie": [
           {
            "automargin": true,
            "type": "pie"
           }
          ],
          "scatter": [
           {
            "marker": {
             "colorbar": {
              "outlinewidth": 0,
              "ticks": ""
             }
            },
            "type": "scatter"
           }
          ],
          "scatter3d": [
           {
            "line": {
             "colorbar": {
              "outlinewidth": 0,
              "ticks": ""
             }
            },
            "marker": {
             "colorbar": {
              "outlinewidth": 0,
              "ticks": ""
             }
            },
            "type": "scatter3d"
           }
          ],
          "scattercarpet": [
           {
            "marker": {
             "colorbar": {
              "outlinewidth": 0,
              "ticks": ""
             }
            },
            "type": "scattercarpet"
           }
          ],
          "scattergeo": [
           {
            "marker": {
             "colorbar": {
              "outlinewidth": 0,
              "ticks": ""
             }
            },
            "type": "scattergeo"
           }
          ],
          "scattergl": [
           {
            "marker": {
             "colorbar": {
              "outlinewidth": 0,
              "ticks": ""
             }
            },
            "type": "scattergl"
           }
          ],
          "scattermapbox": [
           {
            "marker": {
             "colorbar": {
              "outlinewidth": 0,
              "ticks": ""
             }
            },
            "type": "scattermapbox"
           }
          ],
          "scatterpolar": [
           {
            "marker": {
             "colorbar": {
              "outlinewidth": 0,
              "ticks": ""
             }
            },
            "type": "scatterpolar"
           }
          ],
          "scatterpolargl": [
           {
            "marker": {
             "colorbar": {
              "outlinewidth": 0,
              "ticks": ""
             }
            },
            "type": "scatterpolargl"
           }
          ],
          "scatterternary": [
           {
            "marker": {
             "colorbar": {
              "outlinewidth": 0,
              "ticks": ""
             }
            },
            "type": "scatterternary"
           }
          ],
          "surface": [
           {
            "colorbar": {
             "outlinewidth": 0,
             "ticks": ""
            },
            "colorscale": [
             [
              0,
              "#0d0887"
             ],
             [
              0.1111111111111111,
              "#46039f"
             ],
             [
              0.2222222222222222,
              "#7201a8"
             ],
             [
              0.3333333333333333,
              "#9c179e"
             ],
             [
              0.4444444444444444,
              "#bd3786"
             ],
             [
              0.5555555555555556,
              "#d8576b"
             ],
             [
              0.6666666666666666,
              "#ed7953"
             ],
             [
              0.7777777777777778,
              "#fb9f3a"
             ],
             [
              0.8888888888888888,
              "#fdca26"
             ],
             [
              1,
              "#f0f921"
             ]
            ],
            "type": "surface"
           }
          ],
          "table": [
           {
            "cells": {
             "fill": {
              "color": "#EBF0F8"
             },
             "line": {
              "color": "white"
             }
            },
            "header": {
             "fill": {
              "color": "#C8D4E3"
             },
             "line": {
              "color": "white"
             }
            },
            "type": "table"
           }
          ]
         },
         "layout": {
          "annotationdefaults": {
           "arrowcolor": "#2a3f5f",
           "arrowhead": 0,
           "arrowwidth": 1
          },
          "autotypenumbers": "strict",
          "coloraxis": {
           "colorbar": {
            "outlinewidth": 0,
            "ticks": ""
           }
          },
          "colorscale": {
           "diverging": [
            [
             0,
             "#8e0152"
            ],
            [
             0.1,
             "#c51b7d"
            ],
            [
             0.2,
             "#de77ae"
            ],
            [
             0.3,
             "#f1b6da"
            ],
            [
             0.4,
             "#fde0ef"
            ],
            [
             0.5,
             "#f7f7f7"
            ],
            [
             0.6,
             "#e6f5d0"
            ],
            [
             0.7,
             "#b8e186"
            ],
            [
             0.8,
             "#7fbc41"
            ],
            [
             0.9,
             "#4d9221"
            ],
            [
             1,
             "#276419"
            ]
           ],
           "sequential": [
            [
             0,
             "#0d0887"
            ],
            [
             0.1111111111111111,
             "#46039f"
            ],
            [
             0.2222222222222222,
             "#7201a8"
            ],
            [
             0.3333333333333333,
             "#9c179e"
            ],
            [
             0.4444444444444444,
             "#bd3786"
            ],
            [
             0.5555555555555556,
             "#d8576b"
            ],
            [
             0.6666666666666666,
             "#ed7953"
            ],
            [
             0.7777777777777778,
             "#fb9f3a"
            ],
            [
             0.8888888888888888,
             "#fdca26"
            ],
            [
             1,
             "#f0f921"
            ]
           ],
           "sequentialminus": [
            [
             0,
             "#0d0887"
            ],
            [
             0.1111111111111111,
             "#46039f"
            ],
            [
             0.2222222222222222,
             "#7201a8"
            ],
            [
             0.3333333333333333,
             "#9c179e"
            ],
            [
             0.4444444444444444,
             "#bd3786"
            ],
            [
             0.5555555555555556,
             "#d8576b"
            ],
            [
             0.6666666666666666,
             "#ed7953"
            ],
            [
             0.7777777777777778,
             "#fb9f3a"
            ],
            [
             0.8888888888888888,
             "#fdca26"
            ],
            [
             1,
             "#f0f921"
            ]
           ]
          },
          "colorway": [
           "#636efa",
           "#EF553B",
           "#00cc96",
           "#ab63fa",
           "#FFA15A",
           "#19d3f3",
           "#FF6692",
           "#B6E880",
           "#FF97FF",
           "#FECB52"
          ],
          "font": {
           "color": "#2a3f5f"
          },
          "geo": {
           "bgcolor": "white",
           "lakecolor": "white",
           "landcolor": "#E5ECF6",
           "showlakes": true,
           "showland": true,
           "subunitcolor": "white"
          },
          "hoverlabel": {
           "align": "left"
          },
          "hovermode": "closest",
          "mapbox": {
           "style": "light"
          },
          "paper_bgcolor": "white",
          "plot_bgcolor": "#E5ECF6",
          "polar": {
           "angularaxis": {
            "gridcolor": "white",
            "linecolor": "white",
            "ticks": ""
           },
           "bgcolor": "#E5ECF6",
           "radialaxis": {
            "gridcolor": "white",
            "linecolor": "white",
            "ticks": ""
           }
          },
          "scene": {
           "xaxis": {
            "backgroundcolor": "#E5ECF6",
            "gridcolor": "white",
            "gridwidth": 2,
            "linecolor": "white",
            "showbackground": true,
            "ticks": "",
            "zerolinecolor": "white"
           },
           "yaxis": {
            "backgroundcolor": "#E5ECF6",
            "gridcolor": "white",
            "gridwidth": 2,
            "linecolor": "white",
            "showbackground": true,
            "ticks": "",
            "zerolinecolor": "white"
           },
           "zaxis": {
            "backgroundcolor": "#E5ECF6",
            "gridcolor": "white",
            "gridwidth": 2,
            "linecolor": "white",
            "showbackground": true,
            "ticks": "",
            "zerolinecolor": "white"
           }
          },
          "shapedefaults": {
           "line": {
            "color": "#2a3f5f"
           }
          },
          "ternary": {
           "aaxis": {
            "gridcolor": "white",
            "linecolor": "white",
            "ticks": ""
           },
           "baxis": {
            "gridcolor": "white",
            "linecolor": "white",
            "ticks": ""
           },
           "bgcolor": "#E5ECF6",
           "caxis": {
            "gridcolor": "white",
            "linecolor": "white",
            "ticks": ""
           }
          },
          "title": {
           "x": 0.05
          },
          "xaxis": {
           "automargin": true,
           "gridcolor": "white",
           "linecolor": "white",
           "ticks": "",
           "title": {
            "standoff": 15
           },
           "zerolinecolor": "white",
           "zerolinewidth": 2
          },
          "yaxis": {
           "automargin": true,
           "gridcolor": "white",
           "linecolor": "white",
           "ticks": "",
           "title": {
            "standoff": 15
           },
           "zerolinecolor": "white",
           "zerolinewidth": 2
          }
         }
        },
        "xaxis": {
         "anchor": "y",
         "domain": [
          0,
          0.94
         ],
         "matches": "x2",
         "showticklabels": false
        },
        "xaxis2": {
         "anchor": "y3",
         "domain": [
          0,
          0.94
         ]
        },
        "yaxis": {
         "anchor": "x",
         "domain": [
          0.32100000000000006,
          1
         ]
        },
        "yaxis2": {
         "anchor": "x",
         "overlaying": "y",
         "side": "right"
        },
        "yaxis3": {
         "anchor": "x2",
         "domain": [
          0,
          0.29100000000000004
         ]
        },
        "yaxis4": {
         "anchor": "x2",
         "overlaying": "y3",
         "side": "right"
        }
       },
       "_py2js_addTraces": {},
       "_py2js_animate": {},
       "_py2js_deleteTraces": {},
       "_py2js_moveTraces": {},
       "_py2js_relayout": {},
       "_py2js_removeLayoutProps": {},
       "_py2js_removeTraceProps": {},
       "_py2js_restyle": {},
       "_py2js_update": {},
       "_view_count": 0
      }
     },
     "d84ab375e7f147588f7bd0925ee3459e": {
      "buffers": [
       {
        "data": "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",
        "encoding": "base64",
        "path": [
         "_data",
         0,
         "y",
         "value"
        ]
       },
       {
        "data": "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",
        "encoding": "base64",
        "path": [
         "_data",
         1,
         "y",
         "value"
        ]
       },
       {
        "data": "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",
        "encoding": "base64",
        "path": [
         "_data",
         2,
         "y",
         "value"
        ]
       },
       {
        "data": "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",
        "encoding": "base64",
        "path": [
         "_data",
         3,
         "y",
         "value"
        ]
       },
       {
        "data": "AAAAAIAUDEA=",
        "encoding": "base64",
        "path": [
         "_data",
         4,
         "y",
         "value"
        ]
       },
       {
        "data": "AAAAQLORpEA=",
        "encoding": "base64",
        "path": [
         "_data",
         5,
         "y",
         "value"
        ]
       },
       {
        "data": "AAAAYLiYpEA=",
        "encoding": "base64",
        "path": [
         "_data",
         6,
         "y",
         "value"
        ]
       }
      ],
      "model_module": "jupyterlab-plotly",
      "model_module_version": "^5.6.0",
      "model_name": "FigureModel",
      "state": {
       "_config": {
        "plotlyServerURL": "https://plot.ly"
       },
       "_data": [
        {
         "line": {
          "color": "gray"
         },
         "name": "<b style=\"color:sandybrown\">[R]</b> Tick <i style=\"color:#fc9944\">~602</i>",
         "opacity": 0.3,
         "type": "scattergl",
         "uid": "7eeaf718-716f-45e8-8235-790bf2a6dbd8",
         "x": [
          0,
          158,
          922,
          1209,
          1899,
          2760,
          3157,
          3702,
          4617,
          5181,
          5663,
          6543,
          6891,
          7301,
          8033,
          8677,
          9512,
          10123,
          10516,
          11207,
          11614,
          12044,
          12833,
          13557,
          14167,
          14748,
          15173,
          16210,
          16743,
          17324,
          17838,
          18065,
          19189,
          19608,
          19968,
          20685,
          21435,
          22186,
          22637,
          23256,
          23676,
          24385,
          24738,
          25540,
          26277,
          26835,
          27400,
          27814,
          28344,
          28904,
          29720,
          30405,
          31306,
          31575,
          32442,
          32710,
          33407,
          34050,
          34333,
          35235,
          35742,
          36680,
          36810,
          37936,
          38078,
          38913,
          39250,
          40046,
          40346,
          41273,
          42088,
          42498,
          43020,
          43356,
          44406,
          45047,
          45169,
          46147,
          46869,
          47166,
          48122,
          48744,
          49264,
          49909,
          50237,
          50656,
          51698,
          52317,
          52925,
          53512,
          53907,
          54265,
          55399,
          55495,
          56247,
          56604,
          57299,
          57809,
          58912,
          59105,
          60027,
          60817,
          61274,
          61994,
          62625,
          63104,
          63273,
          63995,
          64890,
          65636,
          66183,
          66767,
          67049,
          68038,
          68477,
          68808,
          69343,
          70433,
          70935,
          71424,
          71813,
          72662,
          72889,
          73564,
          74326,
          74858,
          75444,
          75981,
          76847,
          77676,
          78166,
          78452,
          79312,
          79804,
          80631,
          80907,
          81695,
          81932,
          82558,
          83227,
          83923,
          84816,
          85297,
          85788,
          86680,
          87029,
          87441,
          88515,
          88784,
          89456,
          90240,
          90339,
          91317,
          91603,
          92161,
          93201,
          93795,
          94364,
          94771,
          95526,
          96005,
          96762,
          97146,
          97807,
          98224,
          99242,
          99472,
          100186,
          100562,
          101377,
          102347,
          102501,
          103466,
          103859,
          104302,
          104828,
          105793,
          106443,
          107040,
          107249,
          108361,
          108693,
          109333,
          109595,
          110428,
          110980,
          111654,
          112181,
          113089,
          113616,
          113938,
          114412,
          115045,
          115655,
          116228,
          117362,
          117599,
          118330,
          119187,
          119258,
          120293,
          120441,
          121528,
          121893,
          122264,
          123237,
          123629,
          124484,
          124773,
          125852,
          126283,
          126801,
          127240,
          128024,
          128262,
          128944,
          129498,
          130670,
          131044,
          131480,
          132458,
          132505,
          133079,
          134116,
          134792,
          135162,
          136040,
          136344,
          136698,
          137513,
          138152,
          138748,
          139114,
          139986,
          140555,
          141104,
          141541,
          142247,
          142837,
          143913,
          144107,
          145082,
          145631,
          146067,
          146336,
          147524,
          147996,
          148271,
          148951,
          149382,
          150382,
          151125,
          151508,
          152078,
          152937,
          153307,
          153685,
          154753,
          155247,
          155481,
          156012,
          156715,
          157433,
          158055,
          158705,
          159249,
          160011,
          160278,
          161017,
          161645,
          162314,
          163039,
          163435,
          163888,
          164728,
          165074,
          165836,
          166589,
          166802,
          167888,
          168328,
          168920,
          169360,
          170032,
          170864,
          171396,
          171772,
          172224,
          172985,
          173647,
          174625,
          174983,
          175827,
          176410,
          176441,
          177434,
          177836,
          178242,
          179162,
          180043,
          180557,
          181059,
          181288,
          181985,
          182576,
          183062,
          183862,
          184813,
          185233,
          185834,
          186452,
          187109,
          187646,
          188026,
          188893,
          189317,
          189804,
          190306,
          191423,
          192016,
          192563,
          193181,
          193365,
          194392,
          195037,
          195543,
          196151,
          196396,
          196934,
          197657,
          198432,
          198875,
          199875,
          200375,
          201013,
          201372,
          201758,
          202709,
          203267,
          203830,
          204333,
          204783,
          205803,
          206109,
          206649,
          207337,
          208344,
          208922,
          209369,
          209623,
          210709,
          211339,
          211486,
          211963,
          212780,
          213279,
          214145,
          214764,
          215458,
          216085,
          216241,
          216903,
          217760,
          218586,
          219115,
          219279,
          220255,
          220393,
          221168,
          222169,
          222282,
          223014,
          223649,
          224540,
          224951,
          225404,
          225945,
          226424,
          227031,
          228132,
          228365,
          229336,
          229488,
          230243,
          231152,
          231709,
          231966,
          232889,
          233503,
          233701,
          234811,
          235031,
          235962,
          236306,
          237069,
          237855,
          238190,
          238609,
          239095,
          239957,
          240502,
          241325,
          241660,
          242333,
          242959,
          243506,
          244479,
          244924,
          245626,
          245955,
          246738,
          247144,
          248035,
          248387,
          249072,
          249892,
          250117,
          250623,
          251295,
          251773,
          252408,
          253166,
          253824,
          254306,
          255019,
          255672,
          255977,
          257008,
          257477,
          258071,
          258909,
          259241,
          260034,
          260627,
          260855,
          261909,
          261971,
          262546,
          263446,
          263749,
          264894,
          265452,
          265603,
          266380,
          267314,
          267673,
          268164,
          268734,
          269558,
          270118,
          270961,
          271487,
          271610,
          272221,
          273326,
          273717,
          274458,
          275040,
          275265,
          275945,
          276912,
          277564,
          278121,
          278612,
          279189,
          279595,
          280399,
          280610,
          281810,
          282085,
          282417,
          283078,
          283621,
          284783,
          285398,
          285624,
          286625,
          287232,
          287420,
          287916,
          288740,
          289051,
          290098,
          290435,
          291179,
          291624,
          292165,
          293053,
          293485,
          294175,
          294561,
          295129,
          296014,
          296658,
          297046,
          297840,
          298549,
          299185,
          299462,
          300481,
          301031,
          301368,
          301718,
          302359,
          303235,
          303992,
          304134,
          305212,
          305618,
          306207,
          306729,
          307524,
          308286,
          308881,
          309386,
          309864,
          310339,
          311102,
          311830,
          312195,
          312732,
          313715,
          313910,
          314581,
          315090,
          315745,
          316147,
          316832,
          317572,
          318052,
          318912,
          319570,
          319788,
          320800,
          321036,
          322127,
          322314,
          322836,
          323493,
          324508,
          324823,
          325660,
          326342,
          326739,
          327094,
          327599,
          328181,
          329073,
          329783,
          330261,
          330776,
          331194,
          332204,
          332884,
          333224,
          333687,
          334556,
          335179,
          335419,
          336238,
          336937,
          337341,
          338074,
          338793,
          339152,
          339716,
          340741,
          341206,
          341748,
          342570,
          343048,
          343541,
          344156,
          344782,
          345559,
          345900,
          346714,
          347380,
          347495,
          348175,
          348663,
          349856,
          349936,
          350980,
          351377,
          351781,
          352406,
          353448,
          353829,
          354455,
          355157,
          355666,
          356118,
          356520,
          357375,
          358270,
          358450,
          359414,
          359916,
          360691,
          361286,
          361572,
          361920,
          362658,
          363409,
          364250,
          364494,
          364986,
          366116,
          366530,
          366960,
          367681,
          368014,
          368733,
          369262,
          369780,
          370909,
          371118,
          371749,
          372165,
          372804,
          373710,
          373946,
          374851,
          375215,
          376035,
          376374,
          377169,
          377559,
          378161,
          378966,
          379807,
          380412,
          380642,
          381549,
          382307,
          382533,
          383011,
          383920,
          384355,
          384785,
          385588,
          386219,
          386721,
          387578,
          387797,
          388633,
          389183,
          389746,
          390658,
          391078,
          391806,
          392602,
          392809,
          393269,
          393899,
          394613,
          395556,
          396130,
          396580,
          397001,
          397658,
          398032,
          399005,
          399677,
          400058,
          400511,
          401511,
          401645,
          402568,
          403312,
          403872,
          404196,
          405003,
          405312,
          405912,
          406925,
          407581,
          408054,
          408708,
          409108,
          409526,
          410076,
          410714,
          411663,
          411944,
          413033,
          413648,
          414217,
          414305,
          415175,
          416028,
          416378,
          417098,
          417351,
          418041,
          419066,
          419313,
          419797,
          420319,
          421516,
          421688,
          422390,
          422894,
          423395,
          423989,
          425085,
          425210,
          425976,
          426770,
          427095,
          427714,
          428630,
          429017,
          429364,
          430053,
          430616,
          431561,
          432354,
          432556,
          432964,
          433653,
          434467,
          435263,
          435483,
          436522,
          436571,
          437405,
          437776,
          438907,
          439465,
          439916,
          440288,
          440876,
          441746,
          442149,
          442593,
          443655,
          443797,
          444901,
          445573,
          446169,
          446464,
          446831,
          447822,
          448022,
          448790,
          449268,
          449819,
          450929,
          451122,
          452126,
          452422,
          453237,
          453781,
          454118,
          455032,
          455525,
          455842,
          456706,
          457293,
          458248,
          458542,
          458883,
          459573,
          460166,
          460678,
          461861,
          462152,
          462779,
          463487,
          463669,
          464343,
          465459,
          465965,
          466141,
          467103,
          467399,
          468233,
          468881,
          469099,
          470077,
          470538,
          471488,
          471973,
          472114,
          473167,
          473387,
          474046,
          474530,
          475115,
          475993,
          476382,
          477292,
          477786,
          478686,
          478846,
          479573,
          480086,
          480571,
          481142,
          482315,
          482698,
          482972,
          484022,
          484537,
          485056,
          485547,
          486121,
          486700,
          487671,
          487755,
          488673,
          489464,
          489683,
          490746,
          491231,
          491536,
          492012,
          493142,
          493675,
          494149,
          494643,
          495581,
          495871,
          496765,
          496895,
          497520,
          498513,
          498762,
          499677,
          500288,
          500478,
          501122,
          502112,
          502344,
          503277,
          503718,
          504014,
          504628,
          505315,
          505823,
          506698,
          507136,
          508228,
          508506,
          509011,
          509823,
          510483,
          510987,
          511610,
          511905,
          512540,
          513046,
          514211,
          514265,
          514861,
          515458,
          516158,
          516870,
          517510,
          517945,
          518745,
          519172,
          519733,
          520490,
          520935,
          522078,
          522319,
          522802,
          523378,
          524088,
          524487,
          525154,
          526238,
          526557,
          527075,
          527775,
          528100,
          528705,
          529460,
          530068,
          530916,
          531428,
          531881,
          532336,
          533048,
          533643,
          534451,
          534852,
          535721,
          536272,
          536539,
          537639,
          538106,
          538711,
          538941,
          539590,
          540188,
          541233,
          541890,
          542372,
          542918,
          543486,
          544045,
          544431,
          545049,
          545761,
          546640,
          547147,
          547704,
          548303,
          548616,
          549471,
          549849,
          550728,
          551540,
          551905,
          552244,
          553266,
          553688,
          554295,
          554628,
          555407,
          555800,
          556441,
          557358,
          557664,
          558610,
          558999,
          559649,
          560215,
          561215,
          561807,
          562124,
          563012,
          563579,
          563922,
          564416,
          565272,
          565589,
          566206,
          567016,
          567523,
          568315,
          568446,
          569048,
          570040,
          570252,
          571340,
          572031,
          572660,
          572839,
          573553,
          573949,
          575020,
          575613,
          576156,
          576408,
          577303,
          577478,
          578639,
          578945,
          579866,
          579923,
          580489,
          581692,
          581828,
          582295,
          582958,
          583543,
          584102,
          584860,
          585308,
          586482,
          586523,
          587249,
          588178,
          588325,
          589163,
          589670,
          590720,
          590730,
          591373,
          591934,
          592998,
          593254,
          594338,
          594932,
          595177,
          595695,
          596145,
          596747,
          597789,
          598214,
          598699,
          599452,
          599758,
          600360,
          600963
         ],
         "xaxis": "x2",
         "y": {
          "dtype": "float32",
          "shape": [
           1000
          ],
          "value": {}
         }
        },
        {
         "line": {
          "color": "orange"
         },
         "name": "<b style=\"color:sandybrown\">[R]</b> OSC <i style=\"color:#fc9944\">~602</i>",
         "opacity": 0.5,
         "type": "scattergl",
         "uid": "76233509-3bbc-456c-ad9f-510f81b87229",
         "x": [
          0,
          1,
          603,
          1205,
          1807,
          2409,
          3011,
          3613,
          4216,
          4818,
          5420,
          6022,
          6624,
          7226,
          7829,
          8431,
          9634,
          9999,
          10720,
          11254,
          11773,
          12200,
          13163,
          13632,
          13871,
          14550,
          15356,
          16258,
          16748,
          17227,
          17726,
          18325,
          18982,
          19568,
          19889,
          20966,
          21438,
          22260,
          22552,
          23310,
          24086,
          24373,
          24853,
          25797,
          26229,
          26496,
          27416,
          28240,
          28546,
          29358,
          30064,
          30704,
          31282,
          31667,
          32516,
          32858,
          33654,
          34164,
          34605,
          35469,
          35870,
          36732,
          37138,
          37501,
          38425,
          38992,
          39495,
          40017,
          40582,
          41150,
          42100,
          42656,
          43166,
          43770,
          44272,
          45162,
          45434,
          46149,
          46544,
          47281,
          47834,
          48390,
          49296,
          49896,
          50581,
          51011,
          51748,
          52248,
          52722,
          53079,
          53933,
          54402,
          55399,
          55853,
          56266,
          57138,
          57356,
          57920,
          58541,
          59432,
          59890,
          60776,
          61274,
          61811,
          62179,
          63093,
          63634,
          64150,
          64655,
          65306,
          66036,
          66368,
          67046,
          68000,
          68306,
          69113,
          69620,
          70138,
          70820,
          71358,
          71803,
          72561,
          73380,
          74005,
          74404,
          75192,
          75766,
          76223,
          76644,
          77679,
          78141,
          78726,
          79215,
          79605,
          80311,
          81292,
          81740,
          82312,
          82658,
          83492,
          83968,
          84546,
          85347,
          85818,
          86504,
          86963,
          87380,
          88364,
          88581,
          89489,
          90013,
          90502,
          91466,
          91787,
          92733,
          93281,
          93705,
          94377,
          94946,
          95738,
          96179,
          96948,
          97389,
          97957,
          98730,
          99357,
          99829,
          100216,
          100713,
          101621,
          102074,
          102829,
          103227,
          103986,
          104491,
          105062,
          105725,
          106268,
          107145,
          107597,
          107965,
          108967,
          109334,
          110049,
          110692,
          111303,
          111837,
          112325,
          112742,
          113624,
          114051,
          114412,
          115491,
          115955,
          116492,
          116930,
          117922,
          118331,
          119136,
          119641,
          120086,
          120764,
          121637,
          121978,
          122664,
          123206,
          123877,
          124648,
          125183,
          125567,
          126295,
          126908,
          127376,
          128042,
          128680,
          129066,
          129758,
          130670,
          131153,
          131497,
          132476,
          132893,
          133396,
          133981,
          134821,
          135286,
          135933,
          136637,
          137113,
          137655,
          138097,
          138616,
          139150,
          139895,
          140847,
          141313,
          141853,
          142713,
          143151,
          143531,
          144448,
          144966,
          145379,
          146073,
          146558,
          146929,
          147826,
          148574,
          149032,
          149513,
          150404,
          150739,
          151563,
          152136,
          152837,
          153277,
          153709,
          154241,
          155275,
          155961,
          156483,
          156965,
          157533,
          158092,
          158567,
          159433,
          159970,
          160496,
          160990,
          161672,
          162250,
          162915,
          163188,
          163790,
          164919,
          165126,
          165873,
          166691,
          167191,
          167698,
          168336,
          168746,
          169505,
          170247,
          170766,
          171333,
          171895,
          172467,
          173423,
          173836,
          174419,
          174788,
          175654,
          176165,
          176570,
          177577,
          177858,
          178843,
          179210,
          179761,
          180542,
          181045,
          181630,
          182076,
          182968,
          183455,
          184217,
          184728,
          185155,
          185577,
          186534,
          186992,
          187628,
          188058,
          188832,
          189503,
          190089,
          190641,
          191263,
          192072,
          192672,
          192874,
          193661,
          194272,
          194645,
          195198,
          196143,
          196722,
          197223,
          197757,
          198328,
          199037,
          199919,
          200380,
          201123,
          201591,
          202106,
          202647,
          202931,
          203808,
          204409,
          205273,
          205771,
          206415,
          206905,
          207477,
          208129,
          208809,
          209459,
          209877,
          210381,
          210999,
          211421,
          212399,
          212827,
          213538,
          214229,
          214694,
          215073,
          216137,
          216448,
          217227,
          217846,
          218267,
          219105,
          219487,
          220357,
          220738,
          221432,
          222085,
          222583,
          222971,
          223705,
          224512,
          224664,
          225655,
          226264,
          226767,
          227334,
          227814,
          228431,
          229425,
          229843,
          230406,
          230935,
          231253,
          232031,
          232895,
          233381,
          233994,
          234617,
          234957,
          235930,
          236630,
          237126,
          237579,
          238301,
          238859,
          239381,
          239748,
          240477,
          241352,
          241990,
          242455,
          243104,
          243623,
          243996,
          244885,
          245463,
          245970,
          246680,
          247014,
          248007,
          248167,
          249065,
          249807,
          250423,
          250944,
          251473,
          251887,
          252382,
          253512,
          253963,
          254553,
          255008,
          255740,
          256297,
          256924,
          257259,
          258039,
          258931,
          259429,
          259958,
          260569,
          261085,
          261683,
          262133,
          262908,
          263171,
          263749,
          264423,
          265362,
          265820,
          266715,
          267228,
          267745,
          268312,
          268838,
          269446,
          270158,
          270434,
          271459,
          272018,
          272728,
          273217,
          273756,
          274301,
          275048,
          275611,
          276173,
          276720,
          277116,
          278126,
          278527,
          279155,
          279478,
          280369,
          280890,
          281457,
          282201,
          282749,
          283588,
          283968,
          284486,
          285384,
          285843,
          286604,
          287179,
          287684,
          288237,
          288729,
          289040,
          289895,
          290520,
          291163,
          291767,
          292277,
          292814,
          293446,
          293858,
          294877,
          295337,
          295784,
          296550,
          297136,
          297848,
          298417,
          299111,
          299654,
          300232,
          300860,
          301392,
          301806,
          302705,
          303194,
          304093,
          304581,
          305120,
          305570,
          305902,
          306964,
          307506,
          308089,
          308688,
          308958,
          309763,
          310222,
          310718,
          311674,
          312255,
          312999,
          313317,
          314276,
          314569,
          315220,
          315642,
          316268,
          316884,
          317431,
          318268,
          318886,
          319437,
          319751,
          320613,
          320999,
          321889,
          322761,
          323008,
          323667,
          324035,
          325169,
          325664,
          326212,
          326737,
          327215,
          328110,
          328509,
          329153,
          329828,
          330484,
          330816,
          331458,
          332011,
          332649,
          333320,
          333858,
          334602,
          335406,
          335624,
          336437,
          336908,
          337214,
          337945,
          339008,
          339361,
          339622,
          340536,
          341190,
          341589,
          342442,
          342884,
          343666,
          344163,
          344539,
          345294,
          346228,
          346727,
          347316,
          347792,
          348624,
          349097,
          349595,
          350248,
          350790,
          351065,
          351958,
          352550,
          353118,
          353512,
          354209,
          355243,
          355705,
          356044,
          356811,
          357577,
          358186,
          358577,
          359493,
          359903,
          360159,
          360718,
          361693,
          362324,
          362795,
          363350,
          363709,
          364579,
          365080,
          365720,
          366587,
          367101,
          367681,
          368359,
          368793,
          369128,
          370019,
          370651,
          371445,
          372078,
          372557,
          373343,
          373723,
          374256,
          374788,
          375310,
          376023,
          376371,
          377143,
          377609,
          378644,
          379364,
          379794,
          380157,
          380836,
          381455,
          382210,
          382694,
          383352,
          384074,
          384504,
          385037,
          385988,
          386241,
          386843,
          387324,
          388245,
          388857,
          389426,
          389890,
          390373,
          391119,
          391644,
          392573,
          392827,
          393792,
          394418,
          394915,
          395385,
          395922,
          396559,
          397429,
          397794,
          398367,
          399017,
          399370,
          400125,
          400441,
          401644,
          402118,
          402635,
          403213,
          403758,
          404344,
          404974,
          405498,
          406390,
          406952,
          407538,
          408082,
          408608,
          409152,
          409474,
          410406,
          411018,
          411685,
          412208,
          412775,
          413474,
          413857,
          414608,
          415209,
          415723,
          416097,
          416700,
          417302,
          418241,
          418928,
          419388,
          420268,
          420914,
          421516,
          421943,
          422259,
          422991,
          423653,
          424006,
          424589,
          425444,
          426062,
          426664,
          427193,
          427683,
          428649,
          429253,
          429946,
          430325,
          430930,
          431731,
          432276,
          432691,
          433256,
          433926,
          434534,
          435366,
          435698,
          436563,
          436954,
          437648,
          438180,
          438633,
          439294,
          440013,
          440438,
          440786,
          441863,
          442245,
          442721,
          443780,
          444212,
          445000,
          445491,
          445963,
          446491,
          446808,
          448005,
          448320,
          449133,
          449667,
          450172,
          450655,
          451371,
          452122,
          452813,
          453329,
          453811,
          454357,
          454807,
          455616,
          456319,
          456784,
          457566,
          458038,
          458629,
          459014,
          459881,
          460554,
          460974,
          461519,
          462382,
          462921,
          463429,
          464270,
          464705,
          465074,
          465913,
          466676,
          467146,
          467603,
          468021,
          468953,
          469458,
          469929,
          470498,
          471463,
          472004,
          472514,
          473169,
          473460,
          474348,
          474758,
          475483,
          475889,
          476915,
          477486,
          477927,
          478677,
          479324,
          479862,
          480296,
          480830,
          481638,
          482185,
          482738,
          483310,
          483861,
          484213,
          484860,
          485879,
          486352,
          486865,
          487684,
          488115,
          488671,
          489549,
          490008,
          490524,
          491072,
          491622,
          492230,
          492851,
          493667,
          494331,
          494766,
          495506,
          496185,
          496539,
          496905,
          497810,
          498593,
          499096,
          499575,
          499913,
          500822,
          501324,
          501852,
          502570,
          503188,
          503776,
          504410,
          504747,
          505712,
          506116,
          506896,
          507229,
          508086,
          508598,
          509083,
          510034,
          510506,
          511042,
          511505,
          512443,
          512690,
          513416,
          514250,
          514670,
          514869,
          515769,
          516314,
          516884,
          517640,
          518164,
          518809,
          519332,
          519670,
          520873,
          521333,
          521822,
          522429,
          522979,
          523499,
          524222,
          525007,
          525158,
          526056,
          526666,
          527295,
          527732,
          528359,
          529178,
          529798,
          530276,
          530801,
          531492,
          531903,
          532316,
          533411,
          533926,
          534577,
          535097,
          535608,
          536277,
          536824,
          537267,
          537826,
          538735,
          539302,
          539904,
          540485,
          541017,
          541910,
          542408,
          542819,
          543756,
          544146,
          544828,
          545145,
          545800,
          546550,
          547369,
          547837,
          548290,
          548915,
          549331,
          550123,
          550789,
          551315,
          551601,
          552499,
          553219,
          553899,
          554372,
          554878,
          555793,
          556296,
          556824,
          557413,
          557959,
          558483,
          558820,
          559722,
          560315,
          561095,
          561821,
          562283,
          562769,
          563250,
          563628,
          564832,
          565434,
          565808,
          566556,
          566952,
          567842,
          568325,
          568792,
          569270,
          570149,
          570640,
          571227,
          571686,
          572660,
          573151,
          573543,
          574024,
          574655,
          575596,
          576111,
          576663,
          577331,
          577816,
          578192,
          579212,
          579714,
          580243,
          580785,
          581354,
          582291,
          582769,
          583158,
          584101,
          584638,
          585188,
          585676,
          586354,
          586806,
          587113,
          588046,
          588326,
          589266,
          590123,
          590725,
          591189,
          591694,
          592232,
          592539,
          593260,
          593924,
          594580,
          595350,
          595795,
          596397,
          596747,
          597550,
          598232,
          599051,
          599496,
          600092,
          600489,
          600963
         ],
         "xaxis": "x2",
         "y": {
          "dtype": "float32",
          "shape": [
           1000
          ],
          "value": {}
         },
         "yaxis": "y3"
        },
        {
         "line": {
          "color": "green"
         },
         "name": "<b style=\"color:sandybrown\">[R]</b> maOSC <i style=\"color:#fc9944\">~602</i>",
         "opacity": 0.5,
         "type": "scattergl",
         "uid": "f99f575d-1bae-47ab-8c25-0f90b2eb1f74",
         "x": [
          0,
          1,
          603,
          1205,
          1807,
          2409,
          3011,
          3613,
          4216,
          4818,
          5420,
          6022,
          6624,
          7226,
          7829,
          8431,
          9634,
          10236,
          10693,
          11147,
          11442,
          12377,
          12998,
          13591,
          14185,
          14770,
          15347,
          15924,
          16486,
          16861,
          17835,
          18453,
          19036,
          19617,
          20201,
          20783,
          21359,
          21919,
          22469,
          23013,
          24086,
          24564,
          25073,
          25637,
          26323,
          26927,
          27495,
          28067,
          28642,
          29219,
          29792,
          30350,
          30900,
          31471,
          32132,
          32920,
          33546,
          34079,
          34489,
          35376,
          35909,
          36367,
          37299,
          37836,
          38372,
          38910,
          39433,
          39867,
          40798,
          41370,
          41933,
          42496,
          43068,
          43649,
          44234,
          44823,
          45428,
          46048,
          46593,
          46973,
          47857,
          48301,
          49215,
          49722,
          50229,
          50758,
          51786,
          52343,
          52895,
          53443,
          53991,
          54535,
          55077,
          55618,
          56237,
          56919,
          57564,
          58162,
          58743,
          59320,
          59826,
          60783,
          61254,
          61551,
          62453,
          63038,
          63577,
          64049,
          64982,
          65511,
          66053,
          66613,
          67183,
          67760,
          68330,
          68884,
          69386,
          70400,
          70932,
          71488,
          72056,
          72625,
          73193,
          73765,
          74333,
          74887,
          75463,
          76259,
          76899,
          77476,
          78031,
          78540,
          79485,
          80000,
          80527,
          81072,
          81632,
          82215,
          82815,
          83410,
          83981,
          84520,
          84957,
          85943,
          86537,
          87114,
          87688,
          88260,
          88829,
          89395,
          89938,
          90371,
          91321,
          91876,
          92385,
          92782,
          93749,
          94350,
          94916,
          95501,
          96073,
          96599,
          97072,
          97551,
          98589,
          99153,
          99736,
          100409,
          100999,
          101564,
          102123,
          102687,
          103281,
          103885,
          104414,
          105379,
          105891,
          106430,
          106987,
          107539,
          108084,
          108617,
          109068,
          110028,
          110599,
          111156,
          111695,
          112083,
          113016,
          113610,
          114195,
          114777,
          115353,
          115914,
          116437,
          116821,
          117763,
          118365,
          118934,
          119542,
          120190,
          120802,
          121389,
          121974,
          122563,
          123136,
          123680,
          124135,
          125079,
          125600,
          126041,
          126956,
          127584,
          128138,
          128692,
          129258,
          129827,
          130389,
          130959,
          131574,
          132199,
          132765,
          133138,
          134082,
          134686,
          135251,
          135808,
          136354,
          136897,
          137497,
          138194,
          138833,
          139430,
          140016,
          140591,
          141184,
          141827,
          142466,
          143047,
          143568,
          143940,
          144863,
          145425,
          145951,
          146758,
          147361,
          147920,
          148472,
          149062,
          149682,
          150283,
          150853,
          151416,
          152052,
          152723,
          153359,
          153958,
          154535,
          155105,
          155684,
          156259,
          156769,
          157743,
          158272,
          158816,
          159369,
          159921,
          160465,
          160973,
          161381,
          162303,
          162934,
          163532,
          164114,
          164693,
          165266,
          165836,
          166419,
          167077,
          167764,
          168388,
          168985,
          169561,
          170115,
          170602,
          171555,
          172096,
          172646,
          173206,
          173767,
          174323,
          174869,
          175377,
          176426,
          176940,
          177470,
          178004,
          178541,
          179075,
          179555,
          180569,
          180998,
          181831,
          182368,
          182909,
          183472,
          184044,
          184591,
          185040,
          185951,
          186504,
          187047,
          187596,
          188184,
          188789,
          189388,
          189969,
          190521,
          190990,
          191962,
          192509,
          193068,
          193638,
          194192,
          194695,
          195704,
          196182,
          196617,
          197470,
          198007,
          198549,
          199102,
          199661,
          200234,
          200829,
          201415,
          201911,
          202864,
          203404,
          203947,
          204500,
          205060,
          205623,
          206166,
          206553,
          207534,
          208147,
          208742,
          209349,
          209898,
          210395,
          210759,
          211683,
          212304,
          212888,
          213462,
          214033,
          214589,
          215082,
          216117,
          216641,
          217185,
          217741,
          218295,
          218838,
          219284,
          220226,
          220783,
          221311,
          221743,
          222686,
          223270,
          223821,
          224365,
          224937,
          225520,
          226083,
          226537,
          227477,
          228054,
          228619,
          229187,
          229752,
          230301,
          230798,
          231820,
          232322,
          232851,
          233387,
          233923,
          234488,
          235123,
          235760,
          236343,
          236883,
          237254,
          238208,
          238763,
          239112,
          240059,
          240649,
          241205,
          241779,
          242405,
          243045,
          243663,
          244265,
          244843,
          245388,
          245851,
          246787,
          247340,
          247891,
          248445,
          249007,
          249573,
          250068,
          251053,
          251475,
          252307,
          252812,
          253340,
          253881,
          254421,
          254933,
          255319,
          256227,
          256804,
          257279,
          258241,
          258789,
          259319,
          259762,
          260658,
          261226,
          261784,
          262349,
          262917,
          263491,
          264066,
          264642,
          265216,
          265737,
          266759,
          267269,
          267819,
          268390,
          268965,
          269541,
          270117,
          270688,
          271259,
          271835,
          272414,
          272967,
          273384,
          274350,
          274969,
          275574,
          276183,
          276786,
          277379,
          277959,
          278529,
          279093,
          279641,
          280154,
          280610,
          281624,
          282232,
          282731,
          283019,
          283923,
          284496,
          284988,
          286002,
          286535,
          287066,
          287617,
          287986,
          288888,
          289472,
          290029,
          290582,
          291132,
          291661,
          292058,
          293026,
          293633,
          294213,
          294789,
          295362,
          295933,
          296501,
          297058,
          297607,
          298271,
          299029,
          299699,
          300309,
          300896,
          301483,
          302070,
          302645,
          303208,
          303757,
          304270,
          305298,
          305816,
          306349,
          306896,
          307450,
          308001,
          308531,
          308931,
          309870,
          310430,
          310950,
          311367,
          312321,
          312916,
          313445,
          313910,
          314885,
          315383,
          315802,
          316673,
          317211,
          317757,
          318310,
          318859,
          319377,
          319751,
          320678,
          321277,
          321859,
          322473,
          323069,
          323645,
          324236,
          324835,
          325468,
          326168,
          326805,
          327399,
          327972,
          328531,
          329089,
          329655,
          330229,
          330834,
          331464,
          332009,
          332997,
          333514,
          334053,
          334607,
          335173,
          335757,
          336338,
          336847,
          337812,
          338314,
          338839,
          339369,
          339875,
          340297,
          341190,
          342030,
          342516,
          342908,
          343746,
          344316,
          344875,
          345436,
          346005,
          346564,
          347077,
          348052,
          348560,
          349079,
          349609,
          350136,
          350603,
          351564,
          352103,
          352635,
          353154,
          353600,
          354536,
          355086,
          355613,
          356034,
          356928,
          357482,
          357995,
          358289,
          359254,
          359850,
          360385,
          360882,
          361300,
          362278,
          362931,
          363521,
          364095,
          364662,
          365222,
          365775,
          366312,
          366720,
          367706,
          368325,
          368922,
          369506,
          370079,
          370646,
          371205,
          371746,
          372149,
          373128,
          373718,
          374267,
          374803,
          375318,
          375752,
          376646,
          377265,
          377850,
          378456,
          379131,
          379710,
          380107,
          380984,
          381533,
          382014,
          382942,
          383476,
          384023,
          384587,
          385161,
          385736,
          386314,
          386894,
          387451,
          387975,
          388398,
          389367,
          390022,
          390614,
          391189,
          391770,
          392352,
          392924,
          393487,
          394054,
          394621,
          395035,
          396021,
          396633,
          397216,
          397781,
          398331,
          398844,
          399838,
          400326,
          400822,
          401326,
          401790,
          402758,
          403319,
          403880,
          404446,
          405020,
          405600,
          406180,
          406751,
          407291,
          407667,
          408660,
          409277,
          409857,
          410426,
          410986,
          411528,
          411979,
          412937,
          413517,
          414092,
          414659,
          415208,
          415712,
          416097,
          416998,
          417626,
          418217,
          418783,
          419297,
          420312,
          420810,
          421334,
          421868,
          422374,
          422769,
          423632,
          424527,
          425040,
          425552,
          426023,
          426935,
          427453,
          427988,
          428537,
          429099,
          429670,
          430240,
          430795,
          431292,
          432320,
          432864,
          433414,
          433968,
          434525,
          435086,
          435645,
          436177,
          436640,
          437671,
          438258,
          438831,
          439395,
          439957,
          440502,
          441027,
          441494,
          442493,
          442953,
          443346,
          444398,
          444937,
          445437,
          445825,
          446692,
          447259,
          447813,
          448375,
          448946,
          449505,
          450000,
          450976,
          451498,
          452031,
          452572,
          453142,
          453789,
          454424,
          455020,
          455598,
          456168,
          456729,
          457266,
          457709,
          458687,
          459286,
          459854,
          460420,
          461002,
          461593,
          462182,
          462764,
          463337,
          463893,
          464427,
          464964,
          465621,
          466362,
          466915,
          467837,
          468374,
          468918,
          469496,
          470088,
          470672,
          471249,
          471819,
          472400,
          472999,
          473616,
          474219,
          474754,
          475110,
          476070,
          476684,
          477267,
          477857,
          478460,
          479048,
          479627,
          480233,
          480864,
          481471,
          482050,
          482606,
          483086,
          484054,
          484603,
          485150,
          485706,
          486291,
          486910,
          487519,
          488123,
          488722,
          489309,
          489877,
          490404,
          490767,
          491734,
          492351,
          492935,
          493515,
          494083,
          494638,
          495147,
          496185,
          496669,
          497178,
          497713,
          498254,
          498766,
          499751,
          500294,
          500829,
          501357,
          501854,
          502207,
          503146,
          503769,
          504343,
          504871,
          505287,
          506243,
          506831,
          507385,
          507937,
          508531,
          509183,
          509798,
          510371,
          510886,
          511240,
          512177,
          512801,
          513392,
          513977,
          514549,
          515075,
          515506,
          516398,
          517232,
          517764,
          518316,
          518880,
          519453,
          520030,
          520606,
          521175,
          521715,
          522138,
          523104,
          523699,
          524272,
          524843,
          525414,
          525987,
          526562,
          527122,
          527614,
          528618,
          529154,
          529682,
          530119,
          531004,
          531571,
          532140,
          532706,
          533271,
          533828,
          534348,
          534724,
          535681,
          536309,
          536900,
          537484,
          538064,
          538642,
          539205,
          539722,
          540745,
          541254,
          541785,
          542325,
          542853,
          543330,
          544323,
          544748,
          545562,
          546064,
          546591,
          547147,
          547722,
          548335,
          548944,
          549534,
          550113,
          550676,
          551213,
          551631,
          552573,
          553152,
          553694,
          554135,
          555061,
          555633,
          556179,
          556705,
          557128,
          558063,
          558651,
          559218,
          559782,
          560353,
          560931,
          561514,
          562083,
          562510,
          563453,
          564039,
          564604,
          565171,
          565740,
          566297,
          566832,
          567254,
          568244,
          568872,
          569459,
          570033,
          570609,
          571196,
          571789,
          572380,
          572968,
          573572,
          574178,
          574767,
          575341,
          575836,
          576793,
          577354,
          577918,
          578486,
          579052,
          579615,
          580170,
          580697,
          581093,
          582061,
          582670,
          583261,
          583846,
          584428,
          585016,
          585613,
          586217,
          586824,
          587431,
          588020,
          588586,
          589132,
          589704,
          590279,
          591327,
          591865,
          592406,
          592957,
          593510,
          594063,
          594613,
          595147,
          595543,
          596505,
          597129,
          597709,
          598282,
          598863,
          599413,
          599830,
          600615,
          600963
         ],
         "xaxis": "x2",
         "y": {
          "dtype": "float32",
          "shape": [
           1000
          ],
          "value": {}
         },
         "yaxis": "y3"
        },
        {
         "line": {
          "color": "red"
         },
         "name": "<b style=\"color:sandybrown\">[R]</b> Signal <i style=\"color:#fc9944\">~602</i>",
         "opacity": 0.5,
         "type": "scattergl",
         "uid": "4e5d5492-4406-47c1-af01-6745ecf3345d",
         "x": [
          0,
          1,
          603,
          1205,
          1807,
          2409,
          3011,
          3613,
          4216,
          4818,
          5420,
          6022,
          6624,
          7226,
          7829,
          8431,
          9033,
          9635,
          10237,
          10839,
          11442,
          12044,
          12646,
          13248,
          13850,
          14452,
          15055,
          15657,
          16860,
          17296,
          17463,
          18065,
          18668,
          19270,
          19872,
          20474,
          21076,
          21678,
          22281,
          22883,
          23485,
          24087,
          24689,
          25291,
          25894,
          27097,
          27592,
          27700,
          28302,
          28904,
          29507,
          30109,
          30711,
          31313,
          31915,
          32517,
          33120,
          33722,
          34324,
          34926,
          35528,
          36130,
          36733,
          37335,
          37937,
          38539,
          39141,
          39743,
          40346,
          40948,
          41550,
          42152,
          42754,
          43356,
          43959,
          44561,
          45163,
          45765,
          46367,
          46969,
          47572,
          48174,
          48776,
          49378,
          49980,
          50582,
          51185,
          51787,
          52389,
          52991,
          53593,
          54195,
          54798,
          55400,
          56002,
          56604,
          57206,
          57808,
          58411,
          59013,
          59615,
          60217,
          60819,
          61421,
          62024,
          62626,
          63228,
          63830,
          64432,
          65034,
          65637,
          66239,
          66841,
          67443,
          68045,
          68647,
          69250,
          69852,
          70454,
          71056,
          71658,
          72260,
          72863,
          73465,
          74067,
          74669,
          75271,
          75873,
          76476,
          77078,
          77680,
          78282,
          78884,
          79486,
          80089,
          80691,
          81293,
          81895,
          82497,
          83099,
          83702,
          84304,
          84906,
          85508,
          86110,
          86712,
          87315,
          87917,
          88519,
          89121,
          89723,
          90325,
          90928,
          91530,
          92132,
          92734,
          93336,
          93938,
          94541,
          95143,
          95745,
          96347,
          96949,
          97551,
          98154,
          98756,
          99358,
          99960,
          100562,
          101164,
          101767,
          102369,
          102971,
          103573,
          104175,
          104777,
          105380,
          105982,
          106584,
          107186,
          107788,
          108390,
          108993,
          109595,
          110197,
          110799,
          111401,
          112003,
          112606,
          113208,
          113810,
          114412,
          115014,
          115616,
          116219,
          116821,
          117423,
          118025,
          118627,
          119229,
          119832,
          120434,
          121036,
          121638,
          122240,
          122842,
          123445,
          124047,
          124649,
          125251,
          125853,
          126455,
          127058,
          127660,
          128262,
          128864,
          129466,
          130068,
          130671,
          131273,
          131875,
          132477,
          133079,
          133681,
          134284,
          134886,
          135488,
          136090,
          136692,
          137294,
          137897,
          138499,
          139101,
          139703,
          140305,
          140907,
          141510,
          142112,
          142714,
          143316,
          143918,
          144520,
          145123,
          145725,
          146327,
          146929,
          147531,
          148133,
          148736,
          149338,
          149940,
          150542,
          151144,
          151746,
          152349,
          152951,
          153553,
          154155,
          154757,
          155359,
          155962,
          156564,
          157166,
          157768,
          158370,
          158972,
          159575,
          160177,
          160779,
          161381,
          161983,
          162585,
          163188,
          163790,
          164392,
          164994,
          165596,
          166198,
          166801,
          167403,
          168005,
          168607,
          169209,
          169811,
          170414,
          171016,
          171618,
          172220,
          172822,
          173424,
          174027,
          174629,
          175231,
          175833,
          176435,
          177037,
          177640,
          178242,
          178844,
          179446,
          180048,
          180650,
          181253,
          181855,
          182457,
          183059,
          183661,
          184263,
          184866,
          185468,
          186070,
          186672,
          187274,
          187876,
          188479,
          189081,
          189683,
          190285,
          190887,
          191489,
          192092,
          192694,
          193296,
          193898,
          194500,
          195102,
          195705,
          196307,
          196909,
          197511,
          198113,
          198715,
          199318,
          199920,
          200522,
          201124,
          201726,
          202328,
          202931,
          203533,
          204135,
          204737,
          205339,
          205941,
          206544,
          207146,
          207748,
          208350,
          208952,
          209554,
          210157,
          210759,
          211361,
          211963,
          212565,
          213167,
          213770,
          214372,
          214974,
          215576,
          216178,
          216780,
          217383,
          217985,
          218587,
          219189,
          219791,
          220393,
          220996,
          221598,
          222200,
          222802,
          223404,
          224006,
          224609,
          225211,
          225813,
          226415,
          227017,
          227619,
          228222,
          228824,
          229426,
          230028,
          230630,
          231232,
          231835,
          232437,
          233039,
          233641,
          234243,
          234845,
          235448,
          236050,
          236652,
          237254,
          237856,
          238458,
          239061,
          239663,
          240265,
          240867,
          241469,
          242071,
          242674,
          243276,
          243878,
          244480,
          245082,
          245684,
          246287,
          246889,
          247491,
          248093,
          248695,
          249297,
          249900,
          250502,
          251104,
          251706,
          252308,
          252910,
          253513,
          254115,
          254717,
          255319,
          255921,
          256523,
          257126,
          257728,
          258330,
          258932,
          259534,
          260136,
          260739,
          261341,
          261943,
          262545,
          263147,
          263749,
          264352,
          264954,
          265556,
          266158,
          266760,
          267362,
          267965,
          268567,
          269169,
          269771,
          270373,
          270975,
          271578,
          272180,
          272782,
          273384,
          273986,
          274588,
          275191,
          275793,
          276395,
          276997,
          277599,
          278201,
          278804,
          279406,
          280008,
          280610,
          281212,
          281814,
          282417,
          283019,
          283621,
          284223,
          284825,
          285427,
          286030,
          286632,
          287234,
          287836,
          288438,
          289040,
          289643,
          290245,
          290847,
          291449,
          292051,
          292653,
          293256,
          293858,
          294460,
          295062,
          295664,
          296266,
          296869,
          297471,
          298073,
          298675,
          299277,
          299879,
          300482,
          301084,
          301686,
          302288,
          302890,
          303492,
          304094,
          304697,
          305299,
          305901,
          306503,
          307105,
          307707,
          308310,
          308912,
          309514,
          310116,
          310718,
          311320,
          311923,
          312525,
          313127,
          313729,
          314331,
          314933,
          315536,
          316138,
          316740,
          317342,
          317944,
          318546,
          319149,
          319751,
          320353,
          320955,
          321557,
          322159,
          322762,
          323364,
          323966,
          324568,
          325170,
          325772,
          326375,
          326977,
          327579,
          328181,
          328783,
          329385,
          329988,
          330590,
          331192,
          331794,
          332396,
          332998,
          333601,
          334203,
          334805,
          335407,
          336009,
          336611,
          337214,
          337816,
          338418,
          339020,
          339622,
          340224,
          340827,
          341429,
          342031,
          342633,
          343235,
          343837,
          344440,
          345042,
          345644,
          346246,
          346848,
          347450,
          348053,
          348655,
          349257,
          349859,
          350461,
          351063,
          351666,
          352268,
          352870,
          353472,
          354074,
          354676,
          355279,
          355881,
          356483,
          357085,
          357687,
          358289,
          358892,
          359494,
          360096,
          360698,
          361300,
          361902,
          362505,
          363107,
          363709,
          364311,
          364913,
          365515,
          366118,
          366720,
          367322,
          367924,
          368526,
          369128,
          369731,
          370333,
          370935,
          371537,
          372139,
          372741,
          373344,
          373946,
          374548,
          375150,
          375752,
          376354,
          376957,
          377559,
          378161,
          378763,
          379365,
          379967,
          380570,
          381172,
          381774,
          382376,
          382978,
          383580,
          384183,
          384785,
          385387,
          385989,
          386591,
          387193,
          387796,
          388398,
          389000,
          389602,
          390204,
          390806,
          391409,
          392011,
          392613,
          393215,
          393817,
          394419,
          395022,
          395624,
          396226,
          396828,
          397430,
          398032,
          398635,
          399237,
          399839,
          400441,
          401043,
          401645,
          402248,
          402850,
          403452,
          404054,
          404656,
          405258,
          405861,
          406463,
          407065,
          407667,
          408269,
          408871,
          409474,
          410076,
          410678,
          411280,
          411882,
          412484,
          413087,
          413689,
          414291,
          414893,
          415495,
          416097,
          416700,
          417302,
          417904,
          418506,
          419108,
          419710,
          420313,
          420915,
          421517,
          422119,
          422721,
          423323,
          423926,
          424528,
          425130,
          425732,
          426334,
          426936,
          427539,
          428141,
          428743,
          429345,
          429947,
          430549,
          431152,
          431754,
          432356,
          432958,
          433560,
          434162,
          434765,
          435367,
          435969,
          436571,
          437173,
          437775,
          438378,
          438980,
          439582,
          440184,
          440786,
          441388,
          441991,
          442593,
          443195,
          443797,
          444399,
          445001,
          445604,
          446206,
          446808,
          447410,
          448012,
          448614,
          449217,
          449819,
          450421,
          451023,
          451625,
          452227,
          452830,
          453432,
          454034,
          454636,
          455238,
          455840,
          456443,
          457045,
          457647,
          458249,
          458851,
          459453,
          460056,
          460658,
          461260,
          461862,
          462464,
          463066,
          463669,
          464271,
          464873,
          465475,
          466077,
          466679,
          467282,
          467884,
          468486,
          469088,
          469690,
          470292,
          470895,
          471497,
          472099,
          472701,
          473303,
          473905,
          474508,
          475110,
          475712,
          476314,
          476916,
          477518,
          478121,
          478723,
          479325,
          479927,
          480529,
          481131,
          481734,
          482336,
          482938,
          483540,
          484142,
          484744,
          485347,
          485949,
          486551,
          487153,
          487755,
          488357,
          488960,
          489562,
          490164,
          490766,
          491368,
          491970,
          492573,
          493175,
          493777,
          494379,
          494981,
          495583,
          496186,
          496788,
          497390,
          497992,
          498594,
          499196,
          499799,
          500401,
          501003,
          501605,
          502207,
          502809,
          503412,
          504014,
          504616,
          505218,
          505820,
          506422,
          507025,
          507627,
          508229,
          508831,
          509433,
          510035,
          510638,
          511240,
          511842,
          512444,
          513046,
          513648,
          514251,
          514853,
          515455,
          516057,
          516659,
          517261,
          517864,
          518466,
          519068,
          519670,
          520272,
          520874,
          521477,
          522079,
          522681,
          523283,
          523885,
          524487,
          525090,
          525692,
          526294,
          526896,
          527498,
          528100,
          528703,
          529305,
          529907,
          530509,
          531111,
          531713,
          532316,
          532918,
          533520,
          534122,
          534724,
          535326,
          535929,
          536531,
          537133,
          537735,
          538337,
          538939,
          539542,
          540144,
          540746,
          541348,
          541950,
          542552,
          543155,
          543757,
          544359,
          544961,
          545563,
          546165,
          546768,
          547370,
          547972,
          548574,
          549176,
          549778,
          550381,
          550983,
          551585,
          552187,
          552789,
          553391,
          553994,
          554596,
          555198,
          555800,
          556402,
          557004,
          557607,
          558209,
          558811,
          559413,
          560015,
          560617,
          561220,
          561822,
          562424,
          563026,
          563628,
          564230,
          564833,
          565435,
          566037,
          566639,
          567241,
          567843,
          568446,
          569048,
          569650,
          570252,
          570854,
          571456,
          572059,
          572661,
          573263,
          573865,
          574467,
          575069,
          575672,
          576274,
          576876,
          577478,
          578080,
          578682,
          579285,
          579887,
          580489,
          581091,
          581693,
          582295,
          582898,
          583500,
          584102,
          584704,
          585306,
          585908,
          586511,
          587113,
          587715,
          588317,
          588919,
          589521,
          590124,
          590726,
          591328,
          591930,
          592532,
          593134,
          593737,
          594339,
          594941,
          595543,
          596145,
          596747,
          597350,
          597952,
          598554,
          599156,
          599758,
          600360,
          600963
         ],
         "xaxis": "x2",
         "y": {
          "dtype": "float32",
          "shape": [
           1000
          ],
          "value": {}
         },
         "yaxis": "y4"
        },
        {
         "connectgaps": true,
         "line": {
          "color": "gray",
          "shape": "hv",
          "width": 3
         },
         "mode": "lines",
         "name": "Profit",
         "opacity": 0.5,
         "type": "scattergl",
         "uid": "91133a75-3ba8-4a4f-accb-53c309dbe904",
         "x": [
          27594
         ],
         "xaxis": "x2",
         "y": {
          "dtype": "float64",
          "shape": [
           1
          ],
          "value": {}
         },
         "yaxis": "y2"
        },
        {
         "marker": {
          "color": "green",
          "line": {
           "color": "darkgreen",
           "width": 1
          },
          "size": 10,
          "symbol": "triangle-up"
         },
         "mode": "markers",
         "name": "Buy",
         "type": "scattergl",
         "uid": "b0f6c3a7-fb16-455b-a5e5-6117bfb14e17",
         "x": [
          27594
         ],
         "xaxis": "x2",
         "y": {
          "dtype": "float64",
          "shape": [
           1
          ],
          "value": {}
         }
        },
        {
         "marker": {
          "color": "red",
          "line": {
           "color": "darkred",
           "width": 1
          },
          "size": 10,
          "symbol": "triangle-down"
         },
         "mode": "markers",
         "name": "Sell",
         "type": "scattergl",
         "uid": "dbdf9fec-bedc-4a0c-88fa-ae399f4fd659",
         "x": [
          17297
         ],
         "xaxis": "x2",
         "y": {
          "dtype": "float64",
          "shape": [
           1
          ],
          "value": {}
         }
        }
       ],
       "_js2py_restyle": {},
       "_js2py_update": {},
       "_last_layout_edit_id": 22,
       "_last_trace_edit_id": 22,
       "_layout": {
        "autosize": true,
        "height": 700,
        "legend": {
         "orientation": "h",
         "x": 0.1,
         "y": 1
        },
        "margin": {
         "b": 10,
         "l": 45,
         "pad": 3,
         "r": 15,
         "t": 30
        },
        "template": {
         "data": {
          "bar": [
           {
            "error_x": {
             "color": "#2a3f5f"
            },
            "error_y": {
             "color": "#2a3f5f"
            },
            "marker": {
             "line": {
              "color": "white",
              "width": 0.5
             },
             "pattern": {
              "fillmode": "overlay",
              "size": 10,
              "solidity": 0.2
             }
            },
            "type": "bar"
           }
          ],
          "barpolar": [
           {
            "marker": {
             "line": {
              "color": "white",
              "width": 0.5
             },
             "pattern": {
              "fillmode": "overlay",
              "size": 10,
              "solidity": 0.2
             }
            },
            "type": "barpolar"
           }
          ],
          "carpet": [
           {
            "aaxis": {
             "endlinecolor": "#2a3f5f",
             "gridcolor": "#C8D4E3",
             "linecolor": "#C8D4E3",
             "minorgridcolor": "#C8D4E3",
             "startlinecolor": "#2a3f5f"
            },
            "baxis": {
             "endlinecolor": "#2a3f5f",
             "gridcolor": "#C8D4E3",
             "linecolor": "#C8D4E3",
             "minorgridcolor": "#C8D4E3",
             "startlinecolor": "#2a3f5f"
            },
            "type": "carpet"
           }
          ],
          "choropleth": [
           {
            "colorbar": {
             "outlinewidth": 0,
             "ticks": ""
            },
            "type": "choropleth"
           }
          ],
          "contour": [
           {
            "colorbar": {
             "outlinewidth": 0,
             "ticks": ""
            },
            "colorscale": [
             [
              0,
              "#0d0887"
             ],
             [
              0.1111111111111111,
              "#46039f"
             ],
             [
              0.2222222222222222,
              "#7201a8"
             ],
             [
              0.3333333333333333,
              "#9c179e"
             ],
             [
              0.4444444444444444,
              "#bd3786"
             ],
             [
              0.5555555555555556,
              "#d8576b"
             ],
             [
              0.6666666666666666,
              "#ed7953"
             ],
             [
              0.7777777777777778,
              "#fb9f3a"
             ],
             [
              0.8888888888888888,
              "#fdca26"
             ],
             [
              1,
              "#f0f921"
             ]
            ],
            "type": "contour"
           }
          ],
          "contourcarpet": [
           {
            "colorbar": {
             "outlinewidth": 0,
             "ticks": ""
            },
            "type": "contourcarpet"
           }
          ],
          "heatmap": [
           {
            "colorbar": {
             "outlinewidth": 0,
             "ticks": ""
            },
            "colorscale": [
             [
              0,
              "#0d0887"
             ],
             [
              0.1111111111111111,
              "#46039f"
             ],
             [
              0.2222222222222222,
              "#7201a8"
             ],
             [
              0.3333333333333333,
              "#9c179e"
             ],
             [
              0.4444444444444444,
              "#bd3786"
             ],
             [
              0.5555555555555556,
              "#d8576b"
             ],
             [
              0.6666666666666666,
              "#ed7953"
             ],
             [
              0.7777777777777778,
              "#fb9f3a"
             ],
             [
              0.8888888888888888,
              "#fdca26"
             ],
             [
              1,
              "#f0f921"
             ]
            ],
            "type": "heatmap"
           }
          ],
          "heatmapgl": [
           {
            "colorbar": {
             "outlinewidth": 0,
             "ticks": ""
            },
            "colorscale": [
             [
              0,
              "#0d0887"
             ],
             [
              0.1111111111111111,
              "#46039f"
             ],
             [
              0.2222222222222222,
              "#7201a8"
             ],
             [
              0.3333333333333333,
              "#9c179e"
             ],
             [
              0.4444444444444444,
              "#bd3786"
             ],
             [
              0.5555555555555556,
              "#d8576b"
             ],
             [
              0.6666666666666666,
              "#ed7953"
             ],
             [
              0.7777777777777778,
              "#fb9f3a"
             ],
             [
              0.8888888888888888,
              "#fdca26"
             ],
             [
              1,
              "#f0f921"
             ]
            ],
            "type": "heatmapgl"
           }
          ],
          "histogram": [
           {
            "marker": {
             "pattern": {
              "fillmode": "overlay",
              "size": 10,
              "solidity": 0.2
             }
            },
            "type": "histogram"
           }
          ],
          "histogram2d": [
           {
            "colorbar": {
             "outlinewidth": 0,
             "ticks": ""
            },
            "colorscale": [
             [
              0,
              "#0d0887"
             ],
             [
              0.1111111111111111,
              "#46039f"
             ],
             [
              0.2222222222222222,
              "#7201a8"
             ],
             [
              0.3333333333333333,
              "#9c179e"
             ],
             [
              0.4444444444444444,
              "#bd3786"
             ],
             [
              0.5555555555555556,
              "#d8576b"
             ],
             [
              0.6666666666666666,
              "#ed7953"
             ],
             [
              0.7777777777777778,
              "#fb9f3a"
             ],
             [
              0.8888888888888888,
              "#fdca26"
             ],
             [
              1,
              "#f0f921"
             ]
            ],
            "type": "histogram2d"
           }
          ],
          "histogram2dcontour": [
           {
            "colorbar": {
             "outlinewidth": 0,
             "ticks": ""
            },
            "colorscale": [
             [
              0,
              "#0d0887"
             ],
             [
              0.1111111111111111,
              "#46039f"
             ],
             [
              0.2222222222222222,
              "#7201a8"
             ],
             [
              0.3333333333333333,
              "#9c179e"
             ],
             [
              0.4444444444444444,
              "#bd3786"
             ],
             [
              0.5555555555555556,
              "#d8576b"
             ],
             [
              0.6666666666666666,
              "#ed7953"
             ],
             [
              0.7777777777777778,
              "#fb9f3a"
             ],
             [
              0.8888888888888888,
              "#fdca26"
             ],
             [
              1,
              "#f0f921"
             ]
            ],
            "type": "histogram2dcontour"
           }
          ],
          "mesh3d": [
           {
            "colorbar": {
             "outlinewidth": 0,
             "ticks": ""
            },
            "type": "mesh3d"
           }
          ],
          "parcoords": [
           {
            "line": {
             "colorbar": {
              "outlinewidth": 0,
              "ticks": ""
             }
            },
            "type": "parcoords"
           }
          ],
          "pie": [
           {
            "automargin": true,
            "type": "pie"
           }
          ],
          "scatter": [
           {
            "marker": {
             "colorbar": {
              "outlinewidth": 0,
              "ticks": ""
             }
            },
            "type": "scatter"
           }
          ],
          "scatter3d": [
           {
            "line": {
             "colorbar": {
              "outlinewidth": 0,
              "ticks": ""
             }
            },
            "marker": {
             "colorbar": {
              "outlinewidth": 0,
              "ticks": ""
             }
            },
            "type": "scatter3d"
           }
          ],
          "scattercarpet": [
           {
            "marker": {
             "colorbar": {
              "outlinewidth": 0,
              "ticks": ""
             }
            },
            "type": "scattercarpet"
           }
          ],
          "scattergeo": [
           {
            "marker": {
             "colorbar": {
              "outlinewidth": 0,
              "ticks": ""
             }
            },
            "type": "scattergeo"
           }
          ],
          "scattergl": [
           {
            "marker": {
             "colorbar": {
              "outlinewidth": 0,
              "ticks": ""
             }
            },
            "type": "scattergl"
           }
          ],
          "scattermapbox": [
           {
            "marker": {
             "colorbar": {
              "outlinewidth": 0,
              "ticks": ""
             }
            },
            "type": "scattermapbox"
           }
          ],
          "scatterpolar": [
           {
            "marker": {
             "colorbar": {
              "outlinewidth": 0,
              "ticks": ""
             }
            },
            "type": "scatterpolar"
           }
          ],
          "scatterpolargl": [
           {
            "marker": {
             "colorbar": {
              "outlinewidth": 0,
              "ticks": ""
             }
            },
            "type": "scatterpolargl"
           }
          ],
          "scatterternary": [
           {
            "marker": {
             "colorbar": {
              "outlinewidth": 0,
              "ticks": ""
             }
            },
            "type": "scatterternary"
           }
          ],
          "surface": [
           {
            "colorbar": {
             "outlinewidth": 0,
             "ticks": ""
            },
            "colorscale": [
             [
              0,
              "#0d0887"
             ],
             [
              0.1111111111111111,
              "#46039f"
             ],
             [
              0.2222222222222222,
              "#7201a8"
             ],
             [
              0.3333333333333333,
              "#9c179e"
             ],
             [
              0.4444444444444444,
              "#bd3786"
             ],
             [
              0.5555555555555556,
              "#d8576b"
             ],
             [
              0.6666666666666666,
              "#ed7953"
             ],
             [
              0.7777777777777778,
              "#fb9f3a"
             ],
             [
              0.8888888888888888,
              "#fdca26"
             ],
             [
              1,
              "#f0f921"
             ]
            ],
            "type": "surface"
           }
          ],
          "table": [
           {
            "cells": {
             "fill": {
              "color": "#EBF0F8"
             },
             "line": {
              "color": "white"
             }
            },
            "header": {
             "fill": {
              "color": "#C8D4E3"
             },
             "line": {
              "color": "white"
             }
            },
            "type": "table"
           }
          ]
         },
         "layout": {
          "annotationdefaults": {
           "arrowcolor": "#2a3f5f",
           "arrowhead": 0,
           "arrowwidth": 1
          },
          "autotypenumbers": "strict",
          "coloraxis": {
           "colorbar": {
            "outlinewidth": 0,
            "ticks": ""
           }
          },
          "colorscale": {
           "diverging": [
            [
             0,
             "#8e0152"
            ],
            [
             0.1,
             "#c51b7d"
            ],
            [
             0.2,
             "#de77ae"
            ],
            [
             0.3,
             "#f1b6da"
            ],
            [
             0.4,
             "#fde0ef"
            ],
            [
             0.5,
             "#f7f7f7"
            ],
            [
             0.6,
             "#e6f5d0"
            ],
            [
             0.7,
             "#b8e186"
            ],
            [
             0.8,
             "#7fbc41"
            ],
            [
             0.9,
             "#4d9221"
            ],
            [
             1,
             "#276419"
            ]
           ],
           "sequential": [
            [
             0,
             "#0d0887"
            ],
            [
             0.1111111111111111,
             "#46039f"
            ],
            [
             0.2222222222222222,
             "#7201a8"
            ],
            [
             0.3333333333333333,
             "#9c179e"
            ],
            [
             0.4444444444444444,
             "#bd3786"
            ],
            [
             0.5555555555555556,
             "#d8576b"
            ],
            [
             0.6666666666666666,
             "#ed7953"
            ],
            [
             0.7777777777777778,
             "#fb9f3a"
            ],
            [
             0.8888888888888888,
             "#fdca26"
            ],
            [
             1,
             "#f0f921"
            ]
           ],
           "sequentialminus": [
            [
             0,
             "#0d0887"
            ],
            [
             0.1111111111111111,
             "#46039f"
            ],
            [
             0.2222222222222222,
             "#7201a8"
            ],
            [
             0.3333333333333333,
             "#9c179e"
            ],
            [
             0.4444444444444444,
             "#bd3786"
            ],
            [
             0.5555555555555556,
             "#d8576b"
            ],
            [
             0.6666666666666666,
             "#ed7953"
            ],
            [
             0.7777777777777778,
             "#fb9f3a"
            ],
            [
             0.8888888888888888,
             "#fdca26"
            ],
            [
             1,
             "#f0f921"
            ]
           ]
          },
          "colorway": [
           "#636efa",
           "#EF553B",
           "#00cc96",
           "#ab63fa",
           "#FFA15A",
           "#19d3f3",
           "#FF6692",
           "#B6E880",
           "#FF97FF",
           "#FECB52"
          ],
          "font": {
           "color": "#2a3f5f"
          },
          "geo": {
           "bgcolor": "white",
           "lakecolor": "white",
           "landcolor": "white",
           "showlakes": true,
           "showland": true,
           "subunitcolor": "#C8D4E3"
          },
          "hoverlabel": {
           "align": "left"
          },
          "hovermode": "closest",
          "mapbox": {
           "style": "light"
          },
          "paper_bgcolor": "white",
          "plot_bgcolor": "white",
          "polar": {
           "angularaxis": {
            "gridcolor": "#EBF0F8",
            "linecolor": "#EBF0F8",
            "ticks": ""
           },
           "bgcolor": "white",
           "radialaxis": {
            "gridcolor": "#EBF0F8",
            "linecolor": "#EBF0F8",
            "ticks": ""
           }
          },
          "scene": {
           "xaxis": {
            "backgroundcolor": "white",
            "gridcolor": "#DFE8F3",
            "gridwidth": 2,
            "linecolor": "#EBF0F8",
            "showbackground": true,
            "ticks": "",
            "zerolinecolor": "#EBF0F8"
           },
           "yaxis": {
            "backgroundcolor": "white",
            "gridcolor": "#DFE8F3",
            "gridwidth": 2,
            "linecolor": "#EBF0F8",
            "showbackground": true,
            "ticks": "",
            "zerolinecolor": "#EBF0F8"
           },
           "zaxis": {
            "backgroundcolor": "white",
            "gridcolor": "#DFE8F3",
            "gridwidth": 2,
            "linecolor": "#EBF0F8",
            "showbackground": true,
            "ticks": "",
            "zerolinecolor": "#EBF0F8"
           }
          },
          "shapedefaults": {
           "line": {
            "color": "#2a3f5f"
           }
          },
          "ternary": {
           "aaxis": {
            "gridcolor": "#DFE8F3",
            "linecolor": "#A2B1C6",
            "ticks": ""
           },
           "baxis": {
            "gridcolor": "#DFE8F3",
            "linecolor": "#A2B1C6",
            "ticks": ""
           },
           "bgcolor": "white",
           "caxis": {
            "gridcolor": "#DFE8F3",
            "linecolor": "#A2B1C6",
            "ticks": ""
           }
          },
          "title": {
           "x": 0.05
          },
          "xaxis": {
           "automargin": true,
           "gridcolor": "#EBF0F8",
           "linecolor": "#EBF0F8",
           "ticks": "",
           "title": {
            "standoff": 15
           },
           "zerolinecolor": "#EBF0F8",
           "zerolinewidth": 2
          },
          "yaxis": {
           "automargin": true,
           "gridcolor": "#EBF0F8",
           "linecolor": "#EBF0F8",
           "ticks": "",
           "title": {
            "standoff": 15
           },
           "zerolinecolor": "#EBF0F8",
           "zerolinewidth": 2
          }
         }
        },
        "xaxis": {
         "anchor": "y",
         "domain": [
          0,
          0.94
         ],
         "matches": "x2",
         "showticklabels": false,
         "spikedash": "dot",
         "spikemode": "across+marker",
         "spikesnap": "cursor",
         "spikethickness": 2
        },
        "xaxis2": {
         "anchor": "y3",
         "domain": [
          0,
          0.94
         ],
         "spikedash": "dot",
         "spikemode": "across+marker",
         "spikesnap": "cursor",
         "spikethickness": 2
        },
        "yaxis": {
         "anchor": "x",
         "domain": [
          0.32100000000000006,
          1
         ]
        },
        "yaxis2": {
         "anchor": "x",
         "overlaying": "y",
         "side": "right"
        },
        "yaxis3": {
         "anchor": "x2",
         "domain": [
          0,
          0.29100000000000004
         ]
        },
        "yaxis4": {
         "anchor": "x2",
         "overlaying": "y3",
         "side": "right"
        }
       },
       "_py2js_animate": {},
       "_py2js_deleteTraces": {},
       "_py2js_moveTraces": {},
       "_py2js_relayout": {},
       "_py2js_removeLayoutProps": {},
       "_py2js_removeTraceProps": {},
       "_view_count": 0
      }
     },
     "d8fb56abe8eb4637aa1faf126c7283ab": {
      "model_module": "@jupyter-widgets/base",
      "model_module_version": "1.2.0",
      "model_name": "LayoutModel",
      "state": {}
     },
     "dbf88a52f67345c8a746a6222ad63926": {
      "model_module": "@jupyter-widgets/base",
      "model_module_version": "1.2.0",
      "model_name": "LayoutModel",
      "state": {}
     },
     "e1c0c584a74047e68e7e08a410b59251": {
      "model_module": "@jupyter-widgets/base",
      "model_module_version": "1.2.0",
      "model_name": "LayoutModel",
      "state": {}
     },
     "e28b17e731bc454faf02c1b789d7f2a8": {
      "model_module": "@jupyter-widgets/controls",
      "model_module_version": "1.5.0",
      "model_name": "SliderStyleModel",
      "state": {
       "description_width": ""
      }
     },
     "e5baaf0d883e4f5094f8709cf2d0e3cd": {
      "model_module": "@jupyter-widgets/base",
      "model_module_version": "1.2.0",
      "model_name": "LayoutModel",
      "state": {}
     },
     "f22402c98d24468bb3e2cf56d764bd81": {
      "model_module": "@jupyter-widgets/base",
      "model_module_version": "1.2.0",
      "model_name": "LayoutModel",
      "state": {}
     },
     "f765f0c7620f448990e36076350dd33f": {
      "model_module": "@jupyter-widgets/controls",
      "model_module_version": "1.5.0",
      "model_name": "HBoxModel",
      "state": {
       "children": [
        "IPY_MODEL_2f2df2339d2c4e0cb18645cca24b1624",
        "IPY_MODEL_ba241a4b35844df4bd82dc041e075535"
       ],
       "layout": "IPY_MODEL_594882d647e44c24bc2ddfd1b1ff8867"
      }
     },
     "fdd7b26579fe4c3f8c83a5595fe64d02": {
      "model_module": "@jupyter-widgets/controls",
      "model_module_version": "1.5.0",
      "model_name": "IntSliderModel",
      "state": {
       "description": "Period",
       "layout": "IPY_MODEL_96860d1d1b2e454883cfade795be2080",
       "max": 20000,
       "min": 50,
       "step": 50,
       "style": "IPY_MODEL_999d3d116b7448d89623de03b8a4c047",
       "value": 10000
      }
     },
     "fe316beead6b45a2bc5a563a85e944f1": {
      "model_module": "@jupyter-widgets/controls",
      "model_module_version": "1.5.0",
      "model_name": "SliderStyleModel",
      "state": {
       "description_width": ""
      }
     }
    },
    "version_major": 2,
    "version_minor": 0
   }
  }
 },
 "nbformat": 4,
 "nbformat_minor": 5
}

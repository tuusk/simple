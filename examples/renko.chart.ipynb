{
 "cells": [
  {
   "cell_type": "code",
   "execution_count": 1,
   "id": "57dcaf97-5385-4655-b3e4-046c5816be33",
   "metadata": {
    "pycharm": {
     "name": "#%%\n"
    },
    "tags": []
   },
   "outputs": [],
   "source": [
    "import numpy as np\n",
    "import pandas as pd\n",
    "from simple.renko import Renko\n",
    "from simple.plotly import interactFigure"
   ]
  },
  {
   "cell_type": "code",
   "execution_count": 2,
   "id": "22fb8f9e",
   "metadata": {
    "collapsed": false,
    "jupyter": {
     "outputs_hidden": false
    },
    "pycharm": {
     "name": "#%%\n"
    }
   },
   "outputs": [
    {
     "data": {
      "text/plain": [
       "889360"
      ]
     },
     "execution_count": 2,
     "metadata": {},
     "output_type": "execute_result"
    }
   ],
   "source": [
    "T = np.load('data/tick.npz')['BTCUSDT']\n",
    "len(T)"
   ]
  },
  {
   "cell_type": "code",
   "execution_count": 3,
   "id": "7de4666d-f4dd-4ec9-8250-b2116585dbd7",
   "metadata": {
    "collapsed": false,
    "jupyter": {
     "outputs_hidden": false
    },
    "pycharm": {
     "name": "#%%\n"
    }
   },
   "outputs": [],
   "source": [
    "def model(step: int = (1, 200, 1)):\n",
    "    rnk = Renko(step, T['PriceA'])\n",
    "    rnk.create_renko()\n",
    "\n",
    "    X = pd.DataFrame(rnk.bricks)\n",
    "    X['mid'] = (X.close + X.open) / 2\n",
    "    renko = X.mid.values\n",
    "    return 0, locals()"
   ]
  },
  {
   "cell_type": "code",
   "execution_count": 4,
   "id": "7b2c63c4",
   "metadata": {
    "collapsed": false,
    "jupyter": {
     "outputs_hidden": false
    },
    "pycharm": {
     "name": "#%%\n"
    }
   },
   "outputs": [
    {
     "data": {
      "application/vnd.jupyter.widget-view+json": {
       "model_id": "64b7391e7eaf45f0b6c459dced51a219",
       "version_major": 2,
       "version_minor": 0
      },
      "text/plain": [
       "VBox(children=(HBox(children=(IntSlider(value=100, description='step', max=200, min=1),)), FigureWidgetResampl…"
      ]
     },
     "metadata": {},
     "output_type": "display_data"
    }
   ],
   "source": [
    "interactFigure(model, {'renko': {'color': 'gray', 'opacity': 0.4}})"
   ]
  },
  {
   "cell_type": "code",
   "execution_count": null,
   "id": "424364be-c533-4683-9345-383d83d726bb",
   "metadata": {},
   "outputs": [],
   "source": []
  }
 ],
 "metadata": {
  "kernelspec": {
   "display_name": "Python 3 (ipykernel)",
   "language": "python",
   "name": "python3"
  },
  "language_info": {
   "codemirror_mode": {
    "name": "ipython",
    "version": 3
   },
   "file_extension": ".py",
   "mimetype": "text/x-python",
   "name": "python",
   "nbconvert_exporter": "python",
   "pygments_lexer": "ipython3",
   "version": "3.8.13"
  }
 },
 "nbformat": 4,
 "nbformat_minor": 5
}

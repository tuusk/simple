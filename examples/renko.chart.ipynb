{
 "cells": [
  {
   "cell_type": "code",
   "execution_count": 1,
   "id": "d645f44e",
   "metadata": {
    "collapsed": false,
    "jupyter": {
     "outputs_hidden": false
    },
    "pycharm": {
     "name": "#%%\n"
    },
    "tags": []
   },
   "outputs": [],
   "source": [
    "import numpy as np\n",
    "from simple.ohlc import renko\n",
    "from simple.plotly import chartFigure\n",
    "from simple.funcs import symlog\n",
    "from simple.backtest import npBacktestIOC"
   ]
  },
  {
   "cell_type": "code",
   "execution_count": 2,
   "id": "bd27d73e",
   "metadata": {
    "collapsed": false,
    "jupyter": {
     "outputs_hidden": false
    },
    "pycharm": {
     "name": "#%%\n"
    }
   },
   "outputs": [
    {
     "data": {
      "text/plain": [
       "95820"
      ]
     },
     "execution_count": 2,
     "metadata": {},
     "output_type": "execute_result"
    }
   ],
   "source": [
    "T = np.load('data/ETHUSDT.2022-05-08.tick.npz')['ETHUSDT'].view(np.recarray)\n",
    "len(T)"
   ]
  },
  {
   "cell_type": "code",
   "execution_count": 3,
   "id": "a4305193",
   "metadata": {
    "collapsed": false,
    "jupyter": {
     "outputs_hidden": false
    },
    "pycharm": {
     "name": "#%%\n"
    }
   },
   "outputs": [
    {
     "data": {
      "text/plain": [
       "rec.array([('2022-05-08T00:01:00.335000', 0, 2636.,  6.),\n",
       "           ('2022-05-08T00:01:00.335000', 1, 2636.,  4.),\n",
       "           ('2022-05-08T00:01:00.668000', 2, 2636., 96.),\n",
       "           ('2022-05-08T00:01:00.668000', 3, 2636.,  2.),\n",
       "           ('2022-05-08T00:01:00.668000', 4, 2636.,  2.)],\n",
       "          dtype={'names':['DateTimeA','LocalTimeA','PriceA','VolumeA'], 'formats':['<M8[us]','<i8','<f8','<f8'], 'offsets':[0,8,16,24], 'itemsize':40})"
      ]
     },
     "execution_count": 3,
     "metadata": {},
     "output_type": "execute_result"
    }
   ],
   "source": [
    "Buy = T[T.VolumeA > 0]\n",
    "Sell = T[T.VolumeA < 0]\n",
    "Buy[:5]"
   ]
  },
  {
   "cell_type": "code",
   "execution_count": 4,
   "id": "10390b68",
   "metadata": {
    "collapsed": false,
    "jupyter": {
     "outputs_hidden": false
    },
    "pycharm": {
     "name": "#%%\n"
    }
   },
   "outputs": [
    {
     "data": {
      "text/plain": [
       "rec.array([('2022-05-08T00:01:00.007000', 2636., 2635.99),\n",
       "           ('2022-05-08T00:01:00.043000', 2636., 2635.99),\n",
       "           ('2022-05-08T00:01:00.079000', 2636., 2635.99),\n",
       "           ('2022-05-08T00:01:00.117000', 2636., 2635.99),\n",
       "           ('2022-05-08T00:01:00.149000', 2636., 2635.99)],\n",
       "          dtype={'names':['DT','A','B'], 'formats':['<M8[us]','<f4','<f4'], 'offsets':[0,8,16], 'itemsize':24})"
      ]
     },
     "execution_count": 4,
     "metadata": {},
     "output_type": "execute_result"
    }
   ],
   "source": [
    "S = np.load('data/ETHUSDT.2022-05-08.bidask.npz')['ETHUSDT'].view(np.recarray)\n",
    "S[:5]"
   ]
  },
  {
   "cell_type": "code",
   "execution_count": 5,
   "id": "1bf1c0c2",
   "metadata": {
    "collapsed": false,
    "jupyter": {
     "outputs_hidden": false
    },
    "pycharm": {
     "name": "#%%\n"
    }
   },
   "outputs": [
    {
     "data": {
      "text/plain": [
       "(95820, 99941)"
      ]
     },
     "execution_count": 5,
     "metadata": {},
     "output_type": "execute_result"
    }
   ],
   "source": [
    "len(T), len(S)"
   ]
  },
  {
   "cell_type": "code",
   "execution_count": 6,
   "id": "efc61822",
   "metadata": {
    "collapsed": false,
    "jupyter": {
     "outputs_hidden": false
    },
    "pycharm": {
     "name": "#%%\n"
    }
   },
   "outputs": [
    {
     "data": {
      "text/plain": [
       "[(0, 17610, 2625.0, 2640.0),\n",
       " (17611, 18413, 2655.0, 2640.0),\n",
       " (18414, 18420, 2625.0, 2640.0),\n",
       " (18421, 18421, 2655.0, 2640.0),\n",
       " (18422, 52272, 2640.0, 2625.0)]"
      ]
     },
     "execution_count": 6,
     "metadata": {},
     "output_type": "execute_result"
    }
   ],
   "source": [
    "C = renko(T, 15)\n",
    "C[:5]"
   ]
  },
  {
   "cell_type": "code",
   "execution_count": 7,
   "id": "43b3d000",
   "metadata": {
    "collapsed": false,
    "jupyter": {
     "outputs_hidden": false
    },
    "pycharm": {
     "name": "#%%\n"
    }
   },
   "outputs": [
    {
     "data": {
      "text/plain": [
       "64"
      ]
     },
     "execution_count": 7,
     "metadata": {},
     "output_type": "execute_result"
    }
   ],
   "source": [
    "len(C)"
   ]
  },
  {
   "cell_type": "code",
   "execution_count": 8,
   "id": "96bbd789",
   "metadata": {
    "collapsed": false,
    "jupyter": {
     "outputs_hidden": false
    },
    "pycharm": {
     "name": "#%%\n"
    }
   },
   "outputs": [],
   "source": [
    "delay = np.timedelta64(10, 'ms')"
   ]
  },
  {
   "cell_type": "code",
   "execution_count": 9,
   "id": "f2b67a1d",
   "metadata": {
    "collapsed": false,
    "jupyter": {
     "outputs_hidden": false
    },
    "pycharm": {
     "name": "#%%\n"
    }
   },
   "outputs": [
    {
     "name": "stdout",
     "output_type": "stream",
     "text": [
      "(0, 17610, 2625.0, 2640.0)\t2022-05-08T00:10:12.393999\t2022-05-08T00:10:12.403999\t552058999 microseconds\t15752\t0\tgreen\n",
      "(17611, 18413, 2655.0, 2640.0)\t2022-05-08T00:10:36.481000\t2022-05-08T00:10:36.491000\t24072001 microseconds\t16434\t0\tred\n",
      "(18414, 18420, 2625.0, 2640.0)\t2022-05-08T00:10:36.481000\t2022-05-08T00:10:36.491000\t0 microseconds  \t16434\t1\tgreen\n",
      "(18421, 18421, 2655.0, 2640.0)\t2022-05-08T00:10:36.496000\t2022-05-08T00:10:36.506000\t0 microseconds  \t16435\t-1\tred\n",
      "(18422, 52272, 2640.0, 2625.0)\t2022-05-08T00:30:48.915000\t2022-05-08T00:30:48.925000\t1212399000 microseconds\t50468\t-1\tred\n",
      "(52273, 52353, 2610.0, 2625.0)\t2022-05-08T00:30:48.921000\t2022-05-08T00:30:48.931000\t0 microseconds  \t50469\t1\tgreen\n",
      "(52354, 52376, 2640.0, 2625.0)\t2022-05-08T00:30:49.108999\t2022-05-08T00:30:49.118999\t175999 microseconds\t50474\t1\tred\n",
      "(52377, 52381, 2610.0, 2625.0)\t2022-05-08T00:30:49.116999\t2022-05-08T00:30:49.126999\t8000 microseconds\t50475\t1\tgreen\n",
      "(52382, 52382, 2640.0, 2625.0)\t2022-05-08T00:30:49.135999\t2022-05-08T00:30:49.145999\t0 microseconds  \t50475\t-1\tred\n",
      "(52383, 53037, 2610.0, 2625.0)\t2022-05-08T00:31:00.807000\t2022-05-08T00:31:00.817000\t11645001 microseconds\t50819\t-1\tgreen\n",
      "(53038, 53048, 2640.0, 2625.0)\t2022-05-08T00:31:00.807000\t2022-05-08T00:31:00.817000\t0 microseconds  \t50819\t-1\tred\n",
      "(53049, 53049, 2610.0, 2625.0)\t2022-05-08T00:31:00.815000\t2022-05-08T00:31:00.825000\t0 microseconds  \t50820\t1\tgreen\n",
      "(53050, 53064, 2640.0, 2625.0)\t2022-05-08T00:31:00.846999\t2022-05-08T00:31:00.856999\t31999 microseconds\t50821\t1\tred\n",
      "(53065, 53066, 2610.0, 2625.0)\t2022-05-08T00:31:00.908000\t2022-05-08T00:31:00.918000\t26000 microseconds\t50822\t1\tgreen\n",
      "(53067, 53079, 2640.0, 2625.0)\t2022-05-08T00:31:00.912000\t2022-05-08T00:31:00.922000\t4000 microseconds\t50822\t-1\tred\n",
      "(53080, 53080, 2610.0, 2625.0)\t2022-05-08T00:31:00.918000\t2022-05-08T00:31:00.928000\t0 microseconds  \t50823\t1\tgreen\n",
      "(53081, 53696, 2640.0, 2625.0)\t2022-05-08T00:31:10.761000\t2022-05-08T00:31:10.771000\t9839000 microseconds\t51115\t1\tred\n",
      "(53697, 54259, 2610.0, 2625.0)\t2022-05-08T00:31:49.976000\t2022-05-08T00:31:49.986000\t39215000 microseconds\t52232\t1\tgreen\n",
      "(54260, 54926, 2640.0, 2625.0)\t2022-05-08T00:32:39.262000\t2022-05-08T00:32:39.272000\t49286000 microseconds\t53620\t1\tred\n",
      "(54927, 56529, 2610.0, 2625.0)\t2022-05-08T00:33:46.282000\t2022-05-08T00:33:46.292000\t67020000 microseconds\t55491\t1\tgreen\n",
      "(56530, 56576, 2640.0, 2625.0)\t2022-05-08T00:33:46.932000\t2022-05-08T00:33:46.942000\t634000 microseconds\t55511\t1\tred\n",
      "(56577, 56607, 2610.0, 2625.0)\t2022-05-08T00:33:48.202000\t2022-05-08T00:33:48.212000\t1270000 microseconds\t55548\t1\tgreen\n",
      "(56608, 56631, 2640.0, 2625.0)\t2022-05-08T00:33:48.811000\t2022-05-08T00:33:48.821000\t609000 microseconds\t55567\t1\tred\n",
      "(56632, 56684, 2610.0, 2625.0)\t2022-05-08T00:33:53.371000\t2022-05-08T00:33:53.381000\t4560000 microseconds\t55700\t1\tgreen\n",
      "(56685, 56720, 2640.0, 2625.0)\t2022-05-08T00:33:53.854000\t2022-05-08T00:33:53.864000\t483000 microseconds\t55714\t1\tred\n",
      "(56721, 56723, 2610.0, 2625.0)\t2022-05-08T00:33:53.854000\t2022-05-08T00:33:53.864000\t0 microseconds  \t55714\t1\tgreen\n",
      "(56724, 56726, 2640.0, 2625.0)\t2022-05-08T00:33:53.865000\t2022-05-08T00:33:53.875000\t0 microseconds  \t55714\t-1\tred\n",
      "(56727, 56986, 2610.0, 2625.0)\t2022-05-08T00:34:10.563000\t2022-05-08T00:34:10.573000\t16698000 microseconds\t56184\t-1\tgreen\n",
      "(56987, 57530, 2640.0, 2625.0)\t2022-05-08T00:34:21.610000\t2022-05-08T00:34:21.620000\t11047000 microseconds\t56497\t-1\tred\n",
      "(57531, 57827, 2610.0, 2625.0)\t2022-05-08T00:34:40.221000\t2022-05-08T00:34:40.231000\t18611000 microseconds\t57014\t-1\tgreen\n",
      "(57828, 57828, 2640.0, 2625.0)\t2022-05-08T00:34:40.221000\t2022-05-08T00:34:40.231000\t0 microseconds  \t57014\t-1\tred\n",
      "(57829, 57838, 2610.0, 2625.0)\t2022-05-08T00:34:40.313000\t2022-05-08T00:34:40.323000\t88000 microseconds\t57017\t-1\tgreen\n",
      "(57839, 58202, 2640.0, 2625.0)\t2022-05-08T00:35:00.281000\t2022-05-08T00:35:00.291000\t19968000 microseconds\t57591\t-1\tred\n",
      "(58203, 58207, 2610.0, 2625.0)\t2022-05-08T00:35:00.296999\t2022-05-08T00:35:00.306999\t7999 microseconds\t57592\t1\tgreen\n",
      "(58208, 58209, 2640.0, 2625.0)\t2022-05-08T00:35:00.296999\t2022-05-08T00:35:00.306999\t0 microseconds  \t57592\t-1\tred\n",
      "(58210, 58210, 2610.0, 2625.0)\t2022-05-08T00:35:00.302000\t2022-05-08T00:35:00.312000\t0 microseconds  \t57592\t1\tgreen\n",
      "(58211, 58245, 2640.0, 2625.0)\t2022-05-08T00:35:00.304000\t2022-05-08T00:35:00.314000\t2000 microseconds\t57592\t-1\tred\n",
      "(58246, 58355, 2610.0, 2625.0)\t2022-05-08T00:35:04.656000\t2022-05-08T00:35:04.666000\t4350000 microseconds\t57718\t-1\tgreen\n",
      "(58356, 58467, 2640.0, 2625.0)\t2022-05-08T00:35:06.785000\t2022-05-08T00:35:06.795000\t2129000 microseconds\t57780\t-1\tred\n",
      "(58468, 58713, 2610.0, 2625.0)\t2022-05-08T00:35:23.808000\t2022-05-08T00:35:23.818000\t17023000 microseconds\t58263\t-1\tgreen\n",
      "(58714, 59150, 2640.0, 2625.0)\t2022-05-08T00:35:53.421000\t2022-05-08T00:35:53.431000\t29613000 microseconds\t59084\t-1\tred\n",
      "(59151, 59288, 2610.0, 2625.0)\t2022-05-08T00:35:58.311000\t2022-05-08T00:35:58.321000\t4890000 microseconds\t59228\t-1\tgreen\n",
      "(59289, 59297, 2640.0, 2625.0)\t2022-05-08T00:35:58.322000\t2022-05-08T00:35:58.332000\t11000 microseconds\t59229\t-1\tred\n",
      "(59298, 60185, 2610.0, 2625.0)\t2022-05-08T00:36:44.455999\t2022-05-08T00:36:44.465999\t46110999 microseconds\t60519\t-1\tgreen\n",
      "(60186, 65263, 2640.0, 2625.0)\t2022-05-08T00:40:34.371000\t2022-05-08T00:40:34.381000\t229915001 microseconds\t67046\t-1\tred\n",
      "(65264, 65317, 2610.0, 2625.0)\t2022-05-08T00:40:35.327000\t2022-05-08T00:40:35.337000\t956000 microseconds\t67075\t-1\tgreen\n",
      "(65318, 65474, 2640.0, 2625.0)\t2022-05-08T00:40:49.266000\t2022-05-08T00:40:49.276000\t13922000 microseconds\t67468\t-1\tred\n",
      "(65475, 65740, 2610.0, 2625.0)\t2022-05-08T00:40:59.224000\t2022-05-08T00:40:59.234000\t9958000 microseconds\t67762\t-1\tgreen\n",
      "(65741, 66341, 2640.0, 2625.0)\t2022-05-08T00:41:31.366000\t2022-05-08T00:41:31.376000\t32142000 microseconds\t68677\t-1\tred\n",
      "(66342, 66657, 2610.0, 2625.0)\t2022-05-08T00:41:39.298000\t2022-05-08T00:41:39.308000\t7930000 microseconds\t68916\t-1\tgreen\n",
      "(66658, 67232, 2640.0, 2625.0)\t2022-05-08T00:42:19.007000\t2022-05-08T00:42:19.017000\t39709000 microseconds\t70035\t-1\tred\n",
      "(67233, 67558, 2610.0, 2625.0)\t2022-05-08T00:42:37.888000\t2022-05-08T00:42:37.898000\t18859000 microseconds\t70578\t-1\tgreen\n",
      "(67559, 76557, 2640.0, 2625.0)\t2022-05-08T00:49:39.882999\t2022-05-08T00:49:39.892999\t421968999 microseconds\t82346\t-1\tred\n",
      "(76558, 76586, 2610.0, 2625.0)\t2022-05-08T00:49:39.890999\t2022-05-08T00:49:39.900999\t8000 microseconds\t82347\t1\tgreen\n",
      "(76587, 76587, 2640.0, 2625.0)\t2022-05-08T00:49:39.900999\t2022-05-08T00:49:39.910999\t0 microseconds  \t82347\t-1\tred\n",
      "(76588, 76690, 2610.0, 2625.0)\t2022-05-08T00:49:43.136000\t2022-05-08T00:49:43.146000\t3222000 microseconds\t82443\t-1\tgreen\n",
      "(76691, 76747, 2640.0, 2625.0)\t2022-05-08T00:49:46.748000\t2022-05-08T00:49:46.758000\t3612000 microseconds\t82547\t-1\tred\n",
      "(76748, 76922, 2610.0, 2625.0)\t2022-05-08T00:49:56.080000\t2022-05-08T00:49:56.090000\t9332000 microseconds\t82816\t-1\tgreen\n",
      "(76923, 77005, 2640.0, 2625.0)\t2022-05-08T00:49:59.251000\t2022-05-08T00:49:59.261000\t3171000 microseconds\t82911\t-1\tred\n",
      "(77006, 77229, 2610.0, 2625.0)\t2022-05-08T00:50:07.383000\t2022-05-08T00:50:07.393000\t8132000 microseconds\t83150\t-1\tgreen\n",
      "(77230, 77397, 2640.0, 2625.0)\t2022-05-08T00:50:16.845999\t2022-05-08T00:50:16.855999\t9462999 microseconds\t83416\t-1\tred\n",
      "(77398, 77406, 2610.0, 2625.0)\t2022-05-08T00:50:16.848000\t2022-05-08T00:50:16.858000\t2001 microseconds\t83416\t1\tgreen\n",
      "(77407, 77739, 2640.0, 2625.0)\t2022-05-08T00:50:38.092000\t2022-05-08T00:50:38.102000\t21232000 microseconds\t84014\t1\tred\n",
      "(77740, 95819, 2625.0, 2610.0)\t2022-05-08T00:59:59.826000\t2022-05-08T00:59:59.836000\t561732001 microseconds\t99936\t1\tred\n"
     ]
    }
   ],
   "source": [
    "signal = 0\n",
    "signalA = np.zeros(len(S.DT))\n",
    "\n",
    "for c in C:\n",
    "    color = 'green' if c[3] > c[2] else 'red'\n",
    "    duration = T.DateTimeA[c[1]] - T.DateTimeA[c[0]]\n",
    "    tm = T.DateTimeA[c[1]] + delay\n",
    "    k = np.searchsorted(S.DT, tm)\n",
    "    if duration < np.timedelta64(10000, 'μs'):\n",
    "        if c[3] > c[2]:\n",
    "            signal = 1\n",
    "        elif c[3] < c[2]:\n",
    "            signal = -1\n",
    "    if k < len(signalA):\n",
    "        signalA[k] = signal\n",
    "\n",
    "    print(f'{str(c): <26}', T.DateTimeA[c[1]], tm, f'{duration: <16}', k, signal, color, sep='\\t')"
   ]
  },
  {
   "cell_type": "code",
   "execution_count": 10,
   "id": "db2174e7",
   "metadata": {
    "collapsed": false,
    "jupyter": {
     "outputs_hidden": false
    },
    "pycharm": {
     "name": "#%%\n"
    }
   },
   "outputs": [
    {
     "data": {
      "text/plain": [
       "rec.array([(16435, '2022-05-08T00:10:36.523000', 2639.86010742, 2639.83007812, 16436, '2022-05-08T00:10:36.556000', 2639.85009766, 2639.85498047,  1.),\n",
       "           (50469, '2022-05-08T00:30:48.959000', 2625.38989258, 2625.62988281, 50470, '2022-05-08T00:30:48.992000', 2625.54003906, 2625.51513672, -1.),\n",
       "           (50475, '2022-05-08T00:30:49.155000', 2625.01000977, 2624.83007812, 50476, '2022-05-08T00:30:49.187999', 2624.62988281, 2624.81982422,  1.),\n",
       "           (50820, '2022-05-08T00:31:00.856000', 2624.67993164, 2624.72998047, 50821, '2022-05-08T00:31:00.888000', 2624.97998047, 2624.875     , -1.),\n",
       "           (50822, '2022-05-08T00:31:00.922000', 2625.2800293 , 2625.0300293 , 50823, '2022-05-08T00:31:00.953999', 2625.12988281, 2625.22998047,  1.),\n",
       "           (50824, '2022-05-08T00:31:00.986999', 2625.37988281, 2625.26489258, 55715, '2022-05-08T00:33:53.917000', 2624.82006836, 2624.84008789,  1.),\n",
       "           (56185, '2022-05-08T00:34:10.629000', 2625.05004883, 2625.05517578, 83417, '2022-05-08T00:50:16.909999', 2625.01000977, 2625.00488281, -1.)],\n",
       "          dtype=[('X0', '<i8'), ('T0', '<M8[us]'), ('Price0', '<f8'), ('MidPrice0', '<f8'), ('X1', '<i8'), ('T1', '<M8[us]'), ('Price1', '<f8'), ('MidPrice1', '<f8'), ('Size', '<f8')])"
      ]
     },
     "execution_count": 10,
     "metadata": {},
     "output_type": "execute_result"
    }
   ],
   "source": [
    "trades = npBacktestIOC(S.DT.astype(np.int64), S.A, S.B, signalA, 0)\n",
    "trades"
   ]
  },
  {
   "cell_type": "code",
   "execution_count": 11,
   "id": "39e59769",
   "metadata": {
    "collapsed": false,
    "jupyter": {
     "outputs_hidden": false
    },
    "pycharm": {
     "name": "#%%\n"
    }
   },
   "outputs": [],
   "source": [
    "Long = trades[trades.Size > 0]\n",
    "Short = trades[trades.Size < 0]"
   ]
  },
  {
   "cell_type": "code",
   "execution_count": 12,
   "id": "f1e5ed6e",
   "metadata": {
    "collapsed": false,
    "jupyter": {
     "outputs_hidden": false
    },
    "pycharm": {
     "name": "#%%\n"
    }
   },
   "outputs": [
    {
     "data": {
      "application/vnd.jupyter.widget-view+json": {
       "model_id": "eafcd47b9ed94297b8da47b8b39f01cb",
       "version_major": 2,
       "version_minor": 0
      },
      "text/plain": [
       "FigureWidgetResampler({\n",
       "    'data': [{'marker': {'color': 'red',\n",
       "                         'opacity': 0.2,\n",
       "    …"
      ]
     },
     "metadata": {},
     "output_type": "display_data"
    }
   ],
   "source": [
    "# timed chart\n",
    "fig = chartFigure(rows=2,\n",
    "    Sell=dict(x=Sell.DateTimeA, y=Sell.PriceA, color='red', mode='markers', size=-symlog(Sell.VolumeA)+3, opacity=0.2),\n",
    "    Buy=dict(x=Buy.DateTimeA, y=Buy.PriceA, color='green', mode='markers', size=symlog(Buy.VolumeA)+3, opacity=0.2),\n",
    "    Ask=dict(x=S.DT, y=S.A, color='red', opacity=0.2, shape='hv', mode='lines'),\n",
    "    Bid=dict(x=S.DT, y=S.B, color='green', opacity=0.2, shape='hv', mode='lines'),\n",
    "\n",
    "    EnterLong=dict(x=Long.T0, y=Long.Price0, mode='markers',\n",
    "                   marker=dict(symbol='triangle-up', size=12, line_color='darkgreen', line_width=1, color='green')),\n",
    "    ExitLong=dict(x=Long.T1, y=Long.Price1, mode='markers',\n",
    "                  marker=dict(symbol='x', size=10, line_color='darkgreen', line_width=1, color='green')),\n",
    "\n",
    "    EnterShort=dict(x=Short.T0, y=Short.Price0, mode='markers',\n",
    "                    marker=dict(symbol='triangle-down', size=12, line_color='darkred', line_width=1, color='red')),\n",
    "    ExitShort=dict(x=Short.T1, y=Short.Price1, mode='markers',\n",
    "                   marker=dict(symbol='x', size=10, line_color='darkred', line_width=1, color='red')),\n",
    "    Signal=dict(x=S.DT, y=signalA, row=2, color='magenta', shape='hv')\n",
    ")\n",
    "fig"
   ]
  },
  {
   "cell_type": "code",
   "execution_count": 13,
   "id": "4c753a17",
   "metadata": {
    "collapsed": false,
    "jupyter": {
     "outputs_hidden": false
    },
    "pycharm": {
     "name": "#%%\n"
    },
    "tags": []
   },
   "outputs": [],
   "source": [
    "fig.layout.shapes = [{\n",
    "    'fillcolor': 'green' if c[3] > c[2] else 'red',\n",
    "    'line': {'color': 'black', 'width': 2},\n",
    "    'opacity': 0.15,\n",
    "    'type': 'rect',\n",
    "    'x0': str(T.DateTimeA[int(c[0])]),\n",
    "    'x1': str(T.DateTimeA[int(c[1])]),\n",
    "    'y0': c[2],\n",
    "    'y1': c[3]\n",
    "} for c in C]"
   ]
  },
  {
   "cell_type": "code",
   "execution_count": null,
   "id": "30841b90-78a2-45c2-945d-95b6c37442ee",
   "metadata": {},
   "outputs": [],
   "source": []
  }
 ],
 "metadata": {
  "kernelspec": {
   "display_name": "Python 3 (ipykernel)",
   "language": "python",
   "name": "python3"
  },
  "language_info": {
   "codemirror_mode": {
    "name": "ipython",
    "version": 3
   },
   "file_extension": ".py",
   "mimetype": "text/x-python",
   "name": "python",
   "nbconvert_exporter": "python",
   "pygments_lexer": "ipython3",
   "version": "3.8.13"
  }
 },
 "nbformat": 4,
 "nbformat_minor": 5
}

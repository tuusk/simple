{
 "cells": [
  {
   "cell_type": "code",
   "execution_count": 1,
   "id": "d645f44e",
   "metadata": {
    "collapsed": false,
    "execution": {
     "iopub.execute_input": "2022-06-06T12:55:17.726149Z",
     "iopub.status.busy": "2022-06-06T12:55:17.726149Z",
     "iopub.status.idle": "2022-06-06T12:55:18.650645Z",
     "shell.execute_reply": "2022-06-06T12:55:18.650645Z",
     "shell.execute_reply.started": "2022-06-06T12:55:17.726149Z"
    },
    "jupyter": {
     "outputs_hidden": false
    },
    "pycharm": {
     "name": "#%%\n"
    }
   },
   "outputs": [],
   "source": [
    "import numpy as np\n",
    "import pandas as pd\n",
    "from simple.ohlc import renko, midPrice\n",
    "from simple.plotly import chartFigure\n",
    "from simple.funcs import symlog"
   ]
  },
  {
   "cell_type": "code",
   "execution_count": 2,
   "id": "bd27d73e",
   "metadata": {
    "collapsed": false,
    "execution": {
     "iopub.execute_input": "2022-06-06T12:55:18.651645Z",
     "iopub.status.busy": "2022-06-06T12:55:18.651645Z",
     "iopub.status.idle": "2022-06-06T12:55:18.660648Z",
     "shell.execute_reply": "2022-06-06T12:55:18.660648Z",
     "shell.execute_reply.started": "2022-06-06T12:55:18.651645Z"
    },
    "jupyter": {
     "outputs_hidden": false
    },
    "pycharm": {
     "name": "#%%\n"
    }
   },
   "outputs": [
    {
     "data": {
      "text/plain": [
       "2224"
      ]
     },
     "execution_count": 2,
     "metadata": {},
     "output_type": "execute_result"
    }
   ],
   "source": [
    "T = np.load('data/ETHUSDT.2022-05-08.tick.npz')['ETHUSDT'].view(np.recarray)\n",
    "len(T)"
   ]
  },
  {
   "cell_type": "code",
   "execution_count": 3,
   "id": "a4305193",
   "metadata": {
    "collapsed": false,
    "execution": {
     "iopub.execute_input": "2022-06-06T12:55:18.662647Z",
     "iopub.status.busy": "2022-06-06T12:55:18.661648Z",
     "iopub.status.idle": "2022-06-06T12:55:18.666648Z",
     "shell.execute_reply": "2022-06-06T12:55:18.666648Z",
     "shell.execute_reply.started": "2022-06-06T12:55:18.662647Z"
    },
    "jupyter": {
     "outputs_hidden": false
    },
    "pycharm": {
     "name": "#%%\n"
    }
   },
   "outputs": [
    {
     "data": {
      "text/plain": [
       "rec.array([('2022-05-08T00:01:00.335000', 0, 2636.,  6.),\n",
       "           ('2022-05-08T00:01:00.335000', 1, 2636.,  4.),\n",
       "           ('2022-05-08T00:01:00.668000', 2, 2636., 96.),\n",
       "           ('2022-05-08T00:01:00.668000', 3, 2636.,  2.),\n",
       "           ('2022-05-08T00:01:00.668000', 4, 2636.,  2.)],\n",
       "          dtype={'names':['DateTimeA','LocalTimeA','PriceA','VolumeA'], 'formats':['<M8[us]','<i8','<f8','<f8'], 'offsets':[0,8,16,24], 'itemsize':40})"
      ]
     },
     "execution_count": 3,
     "metadata": {},
     "output_type": "execute_result"
    }
   ],
   "source": [
    "Buy = T[T.VolumeA > 0]\n",
    "Sell = T[T.VolumeA < 0]\n",
    "Buy[:5]"
   ]
  },
  {
   "cell_type": "code",
   "execution_count": 4,
   "id": "10390b68",
   "metadata": {
    "collapsed": false,
    "execution": {
     "iopub.execute_input": "2022-06-06T12:55:18.667649Z",
     "iopub.status.busy": "2022-06-06T12:55:18.667649Z",
     "iopub.status.idle": "2022-06-06T12:55:18.679652Z",
     "shell.execute_reply": "2022-06-06T12:55:18.679652Z",
     "shell.execute_reply.started": "2022-06-06T12:55:18.667649Z"
    },
    "jupyter": {
     "outputs_hidden": false
    },
    "pycharm": {
     "name": "#%%\n"
    }
   },
   "outputs": [
    {
     "data": {
      "text/plain": [
       "rec.array([('2022-05-08T00:01:00.007000', 2636., 2635.99),\n",
       "           ('2022-05-08T00:01:00.043000', 2636., 2635.99),\n",
       "           ('2022-05-08T00:01:00.079000', 2636., 2635.99),\n",
       "           ('2022-05-08T00:01:00.117000', 2636., 2635.99),\n",
       "           ('2022-05-08T00:01:00.149000', 2636., 2635.99)],\n",
       "          dtype={'names':['DT','A','B'], 'formats':['<M8[us]','<f4','<f4'], 'offsets':[0,8,16], 'itemsize':24})"
      ]
     },
     "execution_count": 4,
     "metadata": {},
     "output_type": "execute_result"
    }
   ],
   "source": [
    "S = np.load('data/ETHUSDT.2022-05-08.bidask.npz')['ETHUSDT'].view(np.recarray)\n",
    "S[:5]"
   ]
  },
  {
   "cell_type": "code",
   "execution_count": 5,
   "id": "1bf1c0c2",
   "metadata": {
    "collapsed": false,
    "execution": {
     "iopub.execute_input": "2022-06-06T12:55:18.680651Z",
     "iopub.status.busy": "2022-06-06T12:55:18.680651Z",
     "iopub.status.idle": "2022-06-06T12:55:18.685652Z",
     "shell.execute_reply": "2022-06-06T12:55:18.685652Z",
     "shell.execute_reply.started": "2022-06-06T12:55:18.680651Z"
    },
    "jupyter": {
     "outputs_hidden": false
    },
    "pycharm": {
     "name": "#%%\n"
    }
   },
   "outputs": [
    {
     "data": {
      "text/plain": [
       "(2224, 1701)"
      ]
     },
     "execution_count": 5,
     "metadata": {},
     "output_type": "execute_result"
    }
   ],
   "source": [
    "len(T), len(S)"
   ]
  },
  {
   "cell_type": "code",
   "execution_count": 6,
   "id": "f1b86c04",
   "metadata": {
    "collapsed": false,
    "execution": {
     "iopub.execute_input": "2022-06-06T12:55:18.686653Z",
     "iopub.status.busy": "2022-06-06T12:55:18.686653Z",
     "iopub.status.idle": "2022-06-06T12:55:20.155793Z",
     "shell.execute_reply": "2022-06-06T12:55:20.155793Z",
     "shell.execute_reply.started": "2022-06-06T12:55:18.686653Z"
    },
    "jupyter": {
     "outputs_hidden": false
    },
    "pycharm": {
     "name": "#%%\n"
    }
   },
   "outputs": [
    {
     "data": {
      "application/vnd.jupyter.widget-view+json": {
       "model_id": "0b4b0d3438804b6fb6666b742f55f550",
       "version_major": 2,
       "version_minor": 0
      },
      "text/plain": [
       "FigureWidgetResampler({\n",
       "    'data': [{'marker': {'color': 'red',\n",
       "                         'size': array([ 7.58…"
      ]
     },
     "metadata": {},
     "output_type": "display_data"
    }
   ],
   "source": [
    "# timed chart\n",
    "fig = chartFigure(Sell=dict(x=Sell.DateTimeA, y=Sell.PriceA, color='red', mode='markers', size=-symlog(Sell.VolumeA)+3),\n",
    "            Buy=dict(x=Buy.DateTimeA, y=Buy.PriceA, color='green', mode='markers', size=symlog(Buy.VolumeA)+3),\n",
    "            Ask=dict(x=S.DT, y=S.A, color='red', opacity=0.2, shape='hv', mode='lines'),\n",
    "            Bid=dict(x=S.DT, y=S.B, color='green', opacity=0.2, shape='hv', mode='lines')\n",
    ")\n",
    "fig"
   ]
  },
  {
   "cell_type": "code",
   "execution_count": 7,
   "id": "f0ab07fb",
   "metadata": {
    "collapsed": false,
    "execution": {
     "iopub.execute_input": "2022-06-06T12:55:20.156793Z",
     "iopub.status.busy": "2022-06-06T12:55:20.156793Z",
     "iopub.status.idle": "2022-06-06T12:55:20.539403Z",
     "shell.execute_reply": "2022-06-06T12:55:20.539403Z",
     "shell.execute_reply.started": "2022-06-06T12:55:20.156793Z"
    },
    "jupyter": {
     "outputs_hidden": false
    },
    "pycharm": {
     "name": "#%%\n"
    }
   },
   "outputs": [
    {
     "data": {
      "text/plain": [
       "array([[   0. ,   15. , 2635.5, 2636. ],\n",
       "       [  16. ,   44. , 2636.5, 2636. ],\n",
       "       [  45. ,  207. , 2635.5, 2636. ],\n",
       "       [ 208. ,  239. , 2636.5, 2636. ],\n",
       "       [ 240. ,  240. , 2635.5, 2636. ]])"
      ]
     },
     "execution_count": 7,
     "metadata": {},
     "output_type": "execute_result"
    }
   ],
   "source": [
    "C = renko(T, 0.5)\n",
    "C[:5]"
   ]
  },
  {
   "cell_type": "code",
   "execution_count": 8,
   "id": "4c753a17",
   "metadata": {
    "collapsed": false,
    "execution": {
     "iopub.execute_input": "2022-06-06T12:55:20.540402Z",
     "iopub.status.busy": "2022-06-06T12:55:20.540402Z",
     "iopub.status.idle": "2022-06-06T12:55:20.556406Z",
     "shell.execute_reply": "2022-06-06T12:55:20.556406Z",
     "shell.execute_reply.started": "2022-06-06T12:55:20.540402Z"
    },
    "jupyter": {
     "outputs_hidden": false
    },
    "pycharm": {
     "name": "#%%\n"
    },
    "tags": []
   },
   "outputs": [],
   "source": [
    "fig.layout.shapes = [{\n",
    "     'fillcolor': 'green' if c[3] > c[2] else 'red',\n",
    "     'line': {'color': 'black', 'width': 1},\n",
    "     'opacity': 0.2,\n",
    "     'type': 'rect',\n",
    "     'x0': str(T.DateTimeA[int(c[0])]),\n",
    "     'x1': str(T.DateTimeA[int(c[1])]),\n",
    "     'y0': c[2],\n",
    "     'y1': c[3]\n",
    " } for c in C]"
   ]
  }
 ],
 "metadata": {
  "kernelspec": {
   "display_name": "Python 3 (ipykernel)",
   "language": "python",
   "name": "python3"
  },
  "language_info": {
   "codemirror_mode": {
    "name": "ipython",
    "version": 3
   },
   "file_extension": ".py",
   "mimetype": "text/x-python",
   "name": "python",
   "nbconvert_exporter": "python",
   "pygments_lexer": "ipython3",
   "version": "3.9.12"
  }
 },
 "nbformat": 4,
 "nbformat_minor": 5
}
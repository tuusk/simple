{
 "cells": [
  {
   "cell_type": "code",
   "execution_count": 1,
   "id": "57dcaf97-5385-4655-b3e4-046c5816be33",
   "metadata": {
    "execution": {
     "iopub.execute_input": "2022-06-03T11:54:52.566280Z",
     "iopub.status.busy": "2022-06-03T11:54:52.566280Z",
     "iopub.status.idle": "2022-06-03T11:54:53.223428Z",
     "shell.execute_reply": "2022-06-03T11:54:53.223428Z",
     "shell.execute_reply.started": "2022-06-03T11:54:52.566280Z"
    },
    "pycharm": {
     "name": "#%%\n"
    },
    "tags": []
   },
   "outputs": [],
   "source": [
    "import numpy as np\n",
    "import pandas as pd\n",
    "from simple.renko import Renko\n",
    "from simple.plotly import chartFigure"
   ]
  },
  {
   "cell_type": "code",
   "execution_count": 2,
   "id": "22fb8f9e",
   "metadata": {
    "collapsed": false,
    "execution": {
     "iopub.execute_input": "2022-06-03T11:54:53.224428Z",
     "iopub.status.busy": "2022-06-03T11:54:53.224428Z",
     "iopub.status.idle": "2022-06-03T11:54:53.338454Z",
     "shell.execute_reply": "2022-06-03T11:54:53.338454Z",
     "shell.execute_reply.started": "2022-06-03T11:54:53.224428Z"
    },
    "jupyter": {
     "outputs_hidden": false
    },
    "pycharm": {
     "name": "#%%\n"
    }
   },
   "outputs": [
    {
     "data": {
      "text/plain": [
       "100000"
      ]
     },
     "execution_count": 2,
     "metadata": {},
     "output_type": "execute_result"
    }
   ],
   "source": [
    "T = np.load('data/tick.npz')['BTCUSDT'][:100000]\n",
    "len(T)"
   ]
  },
  {
   "cell_type": "code",
   "execution_count": 3,
   "id": "adc116c6",
   "metadata": {
    "collapsed": false,
    "execution": {
     "iopub.execute_input": "2022-06-03T11:54:53.339455Z",
     "iopub.status.busy": "2022-06-03T11:54:53.339455Z",
     "iopub.status.idle": "2022-06-03T11:54:53.436476Z",
     "shell.execute_reply": "2022-06-03T11:54:53.436476Z",
     "shell.execute_reply.started": "2022-06-03T11:54:53.339455Z"
    },
    "jupyter": {
     "outputs_hidden": false
    },
    "pycharm": {
     "name": "#%%\n"
    }
   },
   "outputs": [
    {
     "data": {
      "text/plain": [
       "[{'type': 'first', 'open': 37265.0, 'close': 37265.0},\n",
       " {'type': 'down', 'open': 37265.0, 'close': 37240.0},\n",
       " {'type': 'down', 'open': 37240.0, 'close': 37215.0},\n",
       " {'type': 'down', 'open': 37215.0, 'close': 37190.0},\n",
       " {'type': 'down', 'open': 37190.0, 'close': 37165.0},\n",
       " {'type': 'down', 'open': 37165.0, 'close': 37140.0},\n",
       " {'type': 'up', 'open': 37165.0, 'close': 37190.0, 'low': 37130.0},\n",
       " {'type': 'up', 'open': 37190.0, 'close': 37215.0},\n",
       " {'type': 'up', 'open': 37215.0, 'close': 37240.0},\n",
       " {'type': 'up', 'open': 37240.0, 'close': 37265.0}]"
      ]
     },
     "execution_count": 3,
     "metadata": {},
     "output_type": "execute_result"
    }
   ],
   "source": [
    "rnk = Renko(25, T['PriceA'])\n",
    "rnk.create_renko()\n",
    "\n",
    "rnk.bricks[:10]"
   ]
  },
  {
   "cell_type": "code",
   "execution_count": null,
   "outputs": [],
   "source": [
    "X = pd.DataFrame(rnk.bricks)\n",
    "X['color'] = np.where(X.type == 'up', 'green', 'red')\n",
    "X['mid'] = (X.close + X.open) / 2\n",
    "X"
   ],
   "metadata": {
    "collapsed": false,
    "pycharm": {
     "name": "#%%\n"
    }
   }
  },
  {
   "cell_type": "code",
   "execution_count": null,
   "outputs": [],
   "source": [
    "chartFigure(Renko=dict(mode='markers', y=X.mid, marker=dict(symbol='square', size=5, line_width=1, line_color=\"black\", color=X.color)))"
   ],
   "metadata": {
    "collapsed": false,
    "pycharm": {
     "name": "#%%\n"
    }
   }
  }
 ],
 "metadata": {
  "kernelspec": {
   "display_name": "Python 3 (ipykernel)",
   "language": "python",
   "name": "python3"
  },
  "language_info": {
   "codemirror_mode": {
    "name": "ipython",
    "version": 3
   },
   "file_extension": ".py",
   "mimetype": "text/x-python",
   "name": "python",
   "nbconvert_exporter": "python",
   "pygments_lexer": "ipython3",
   "version": "3.9.12"
  }
 },
 "nbformat": 4,
 "nbformat_minor": 5
}
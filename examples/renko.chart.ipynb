{
 "cells": [
  {
   "cell_type": "code",
   "execution_count": null,
   "outputs": [],
   "source": [
    "import numpy as np\n",
    "import pandas as pd\n",
    "from simple.ohlc import renko, midPrice\n",
    "from simple.plotly import chartFigure\n",
    "from simple.funcs import symlog"
   ],
   "metadata": {
    "collapsed": false,
    "pycharm": {
     "name": "#%%\n"
    }
   }
  },
  {
   "cell_type": "code",
   "execution_count": null,
   "outputs": [],
   "source": [
    "T = np.load('data/ETHUSDT.2022-05-08.tick.npz')['ETHUSDT'].view(np.recarray)\n",
    "len(T)"
   ],
   "metadata": {
    "collapsed": false,
    "pycharm": {
     "name": "#%%\n"
    }
   }
  },
  {
   "cell_type": "code",
   "execution_count": null,
   "outputs": [],
   "source": [
    "Buy = T[T.VolumeA > 0]\n",
    "Sell = T[T.VolumeA < 0]\n",
    "Buy[:10]"
   ],
   "metadata": {
    "collapsed": false,
    "pycharm": {
     "name": "#%%\n"
    }
   }
  },
  {
   "cell_type": "code",
   "execution_count": null,
   "outputs": [],
   "source": [
    "S = np.load('data/ETHUSDT.2022-05-08.bidask.npz')['ETHUSDT'].view(np.recarray)\n",
    "S[:10]"
   ],
   "metadata": {
    "collapsed": false,
    "pycharm": {
     "name": "#%%\n"
    }
   }
  },
  {
   "cell_type": "code",
   "execution_count": null,
   "outputs": [],
   "source": [
    "len(T), len(S)"
   ],
   "metadata": {
    "collapsed": false,
    "pycharm": {
     "name": "#%%\n"
    }
   }
  },
  {
   "cell_type": "code",
   "execution_count": null,
   "outputs": [],
   "source": [
    "# timed chart\n",
    "fig = chartFigure(Sell=dict(x=Sell.DateTimeA, y=Sell.PriceA, color='red', mode='markers', size=-symlog(Sell.VolumeA)+3),\n",
    "            Buy=dict(x=Buy.DateTimeA, y=Buy.PriceA, color='green', mode='markers', size=symlog(Buy.VolumeA)+3),\n",
    "            Ask=dict(x=S.DT, y=S.A, color='red', opacity=0.2, shape='hv', mode='lines'),\n",
    "            Bid=dict(x=S.DT, y=S.B, color='green', opacity=0.2, shape='hv', mode='lines')\n",
    ")\n",
    "fig"
   ],
   "metadata": {
    "collapsed": false,
    "pycharm": {
     "name": "#%%\n"
    }
   }
  },
  {
   "cell_type": "code",
   "execution_count": null,
   "outputs": [],
   "source": [
    "C = renko(T, 0.5)\n",
    "C"
   ],
   "metadata": {
    "collapsed": false,
    "pycharm": {
     "name": "#%%\n"
    }
   }
  },
  {
   "cell_type": "code",
   "execution_count": null,
   "outputs": [],
   "source": [
    "fig.layout.shapes = [{\n",
    "     'fillcolor': 'green' if c[3] > c[2] else 'red',\n",
    "     'line': {'color': 'black', 'width': 1},\n",
    "     'opacity': 0.2,\n",
    "     'type': 'rect',\n",
    "     'x0': str(T.DateTimeA[int(c[0])]),\n",
    "     'x1': str(T.DateTimeA[int(c[1])]),\n",
    "     'y0': c[2],\n",
    "     'y1': c[3]\n",
    " } for c in C]"
   ],
   "metadata": {
    "collapsed": false,
    "pycharm": {
     "name": "#%%\n"
    }
   }
  },
  {
   "cell_type": "code",
   "execution_count": null,
   "outputs": [],
   "source": [
    "# indexed chart\n",
    "fig = chartFigure(\n",
    "    Tick=dict(y=T.PriceA, x=T.LocalTimeA, color='gray', opacity=0.4),\n",
    "    Sell=dict(y=Sell.PriceA, x=Sell.LocalTimeA, color='red', mode='markers', size=-symlog(Sell.VolumeA)+3),\n",
    "    Buy=dict(y=Buy.PriceA, x=Buy.LocalTimeA, color='green', mode='markers', size=symlog(Buy.VolumeA)+3)\n",
    ")\n",
    "fig"
   ],
   "metadata": {
    "collapsed": false,
    "pycharm": {
     "name": "#%%\n"
    }
   }
  },
  {
   "cell_type": "code",
   "execution_count": null,
   "outputs": [],
   "source": [
    "fig.layout.shapes = [{\n",
    "     'fillcolor': 'green' if c[3] > c[2] else 'red',\n",
    "     'line': {'color': 'black', 'width': 1},\n",
    "     'opacity': 0.2,\n",
    "     'type': 'rect',\n",
    "     'x0': c[0],\n",
    "     'x1': c[1],\n",
    "     'y0': c[2],\n",
    "     'y1': c[3]\n",
    " } for c in C]"
   ],
   "metadata": {
    "collapsed": false,
    "pycharm": {
     "name": "#%%\n"
    }
   }
  },
  {
   "cell_type": "code",
   "execution_count": 5,
   "id": "44c579d5-5ee1-454f-b835-8eb2d983078d",
   "metadata": {
    "execution": {
     "iopub.execute_input": "2022-06-06T12:19:44.099764Z",
     "iopub.status.busy": "2022-06-06T12:19:44.099764Z",
     "iopub.status.idle": "2022-06-06T12:19:44.105765Z",
     "shell.execute_reply": "2022-06-06T12:19:44.105765Z",
     "shell.execute_reply.started": "2022-06-06T12:19:44.099764Z"
    },
    "tags": []
   },
   "outputs": [
    {
     "data": {
      "text/plain": [
       "(2224, 1701)"
      ]
     },
     "execution_count": 5,
     "metadata": {},
     "output_type": "execute_result"
    }
   ],
   "source": [
    "len(T), len(S)"
   ]
  },
  {
   "cell_type": "code",
   "execution_count": 6,
   "id": "287315a7-ff15-4d2d-aded-90e31979726e",
   "metadata": {
    "execution": {
     "iopub.execute_input": "2022-06-06T12:19:44.106766Z",
     "iopub.status.busy": "2022-06-06T12:19:44.106766Z",
     "iopub.status.idle": "2022-06-06T12:19:45.546089Z",
     "shell.execute_reply": "2022-06-06T12:19:45.546089Z",
     "shell.execute_reply.started": "2022-06-06T12:19:44.106766Z"
    },
    "tags": []
   },
   "outputs": [
    {
     "name": "stderr",
     "output_type": "stream",
     "text": [
      "C:\\ProgramData\\Anaconda3\\lib\\site-packages\\plotly_resampler\\aggregation\\aggregation_interface.py:97: FutureWarning:\n",
      "\n",
      "The default dtype for empty Series will be 'object' instead of 'float64' in a future version. Specify a dtype explicitly to silence this warning.\n",
      "\n"
     ]
    },
    {
     "data": {
      "application/vnd.jupyter.widget-view+json": {
       "model_id": "837c509056db4a11ace720dfd96da205",
       "version_major": 2,
       "version_minor": 0
      },
      "text/plain": [
       "FigureWidgetResampler({\n",
       "    'data': [{'marker': {'color': 'red',\n",
       "                         'size': array([ 7.58…"
      ]
     },
     "metadata": {},
     "output_type": "display_data"
    }
   ],
   "source": [
    "# timed chart\n",
    "fig = chartFigure(Sell=dict(x=Sell.DateTimeA, y=Sell.PriceA, color='red', mode='markers', size=-symlog(Sell.VolumeA)+3),\n",
    "            Buy=dict(x=Buy.DateTimeA, y=Buy.PriceA, color='green', mode='markers', size=symlog(Buy.VolumeA)+3),\n",
    "            Ask=dict(x=S.DT, y=S.A, color='red', opacity=0.2, shape='hv', mode='lines'),\n",
    "            Bid=dict(x=S.DT, y=S.B, color='green', opacity=0.2, shape='hv', mode='lines')\n",
    ")\n",
    "fig"
   ]
  },
  {
   "cell_type": "code",
   "execution_count": 7,
   "id": "a63cd402-27a8-4c0f-a05b-1debee6b515e",
   "metadata": {
    "execution": {
     "iopub.execute_input": "2022-06-06T12:19:45.547089Z",
     "iopub.status.busy": "2022-06-06T12:19:45.547089Z",
     "iopub.status.idle": "2022-06-06T12:19:45.910171Z",
     "shell.execute_reply": "2022-06-06T12:19:45.910171Z",
     "shell.execute_reply.started": "2022-06-06T12:19:45.547089Z"
    },
    "pycharm": {
     "name": "#%%\n"
    },
    "tags": []
   },
   "outputs": [
    {
     "data": {
      "text/plain": [
       "rec.array([[   0. ,   15. , 2635.5, 2636. ],\n",
       "           [  16. ,   44. , 2636.5, 2636. ],\n",
       "           [  45. ,  207. , 2635.5, 2636. ],\n",
       "           [ 208. ,  239. , 2636.5, 2636. ],\n",
       "           [ 240. ,  240. , 2635.5, 2636. ],\n",
       "           [ 241. ,  255. , 2636. , 2636.5],\n",
       "           [ 256. ,  505. , 2636.5, 2637. ],\n",
       "           [ 506. ,  660. , 2637. , 2637.5],\n",
       "           [ 661. ,  759. , 2638. , 2637.5],\n",
       "           [ 760. ,  760. , 2637. , 2637.5],\n",
       "           [ 761. ,  781. , 2638. , 2637.5],\n",
       "           [ 782. ,  783. , 2637. , 2637.5],\n",
       "           [ 784. ,  784. , 2638. , 2637.5],\n",
       "           [ 785. ,  785. , 2637. , 2637.5],\n",
       "           [ 786. ,  792. , 2638. , 2637.5],\n",
       "           [ 793. ,  828. , 2637. , 2637.5],\n",
       "           [ 829. , 1143. , 2637.5, 2638. ],\n",
       "           [1144. , 1271. , 2638. , 2638.5],\n",
       "           [1272. , 1352. , 2638.5, 2639. ],\n",
       "           [1353. , 1361. , 2639.5, 2639. ],\n",
       "           [1362. , 1362. , 2638.5, 2639. ],\n",
       "           [1363. , 1477. , 2639.5, 2639. ],\n",
       "           [1478. , 1479. , 2638.5, 2639. ],\n",
       "           [1480. , 1485. , 2639.5, 2639. ],\n",
       "           [1486. , 1638. , 2639. , 2638.5],\n",
       "           [1639. , 1673. , 2638. , 2638.5],\n",
       "           [1674. , 1674. , 2639. , 2638.5],\n",
       "           [1675. , 1705. , 2638.5, 2638. ],\n",
       "           [1706. , 1762. , 2637.5, 2638. ],\n",
       "           [1763. , 1797. , 2638.5, 2638. ],\n",
       "           [1798. , 1898. , 2637.5, 2638. ],\n",
       "           [1899. , 1996. , 2638. , 2638.5],\n",
       "           [1997. , 2185. , 2638.5, 2639. ],\n",
       "           [2186. , 2186. , 2639.5, 2639. ],\n",
       "           [2187. , 2187. , 2638.5, 2639. ],\n",
       "           [2188. , 2223. , 2639.5, 2639. ]],\n",
       "          dtype=float64)"
      ]
     },
     "execution_count": 7,
     "metadata": {},
     "output_type": "execute_result"
    }
   ],
   "source": [
    "C = renko(T, 0.5)\n",
    "C"
   ]
  },
  {
   "cell_type": "code",
   "execution_count": 8,
   "id": "4ef035f1-8e47-44fa-8a08-31739f6e2fce",
   "metadata": {
    "execution": {
     "iopub.execute_input": "2022-06-06T12:19:45.911171Z",
     "iopub.status.busy": "2022-06-06T12:19:45.911171Z",
     "iopub.status.idle": "2022-06-06T12:19:45.926175Z",
     "shell.execute_reply": "2022-06-06T12:19:45.926175Z",
     "shell.execute_reply.started": "2022-06-06T12:19:45.911171Z"
    },
    "tags": []
   },
   "outputs": [],
   "source": [
    "fig.layout.shapes = [{\n",
    "     'fillcolor': 'green' if c[3] > c[2] else 'red',\n",
    "     'line': {'color': 'black', 'width': 1},\n",
    "     'opacity': 0.2,\n",
    "     'type': 'rect',\n",
    "     'x0': str(T.DateTimeA[int(c[0])]),\n",
    "     'x1': str(T.DateTimeA[int(c[1])]),\n",
    "     'y0': c[2],\n",
    "     'y1': c[3]\n",
    " } for c in C]"
   ]
  },
  {
   "cell_type": "code",
   "execution_count": 10,
   "id": "198bcc61-d35f-443c-9a4c-aa907acdbf60",
   "metadata": {
    "execution": {
     "iopub.execute_input": "2022-06-06T12:19:58.685076Z",
     "iopub.status.busy": "2022-06-06T12:19:58.685076Z",
     "iopub.status.idle": "2022-06-06T12:19:58.889113Z",
     "shell.execute_reply": "2022-06-06T12:19:58.889113Z",
     "shell.execute_reply.started": "2022-06-06T12:19:58.685076Z"
    },
    "tags": []
   },
   "outputs": [
    {
     "name": "stderr",
     "output_type": "stream",
     "text": [
      "C:\\ProgramData\\Anaconda3\\lib\\site-packages\\plotly_resampler\\aggregation\\aggregation_interface.py:97: FutureWarning:\n",
      "\n",
      "The default dtype for empty Series will be 'object' instead of 'float64' in a future version. Specify a dtype explicitly to silence this warning.\n",
      "\n"
     ]
    },
    {
     "data": {
      "application/vnd.jupyter.widget-view+json": {
       "model_id": "96a8f4bea3494ce290584ae3db0420cc",
       "version_major": 2,
       "version_minor": 0
      },
      "text/plain": [
       "FigureWidgetResampler({\n",
       "    'data': [{'line': {'color': 'gray'},\n",
       "              'name': '<b style=\"color:sandyb…"
      ]
     },
     "metadata": {},
     "output_type": "display_data"
    }
   ],
   "source": [
    "# indexed chart\n",
    "fig = chartFigure(\n",
    "    Tick=dict(y=T.PriceA, x=T.LocalTimeA, color='gray', opacity=0.4),\n",
    "    Sell=dict(y=Sell.PriceA, x=Sell.LocalTimeA, color='red', mode='markers', size=-symlog(Sell.VolumeA)+3),\n",
    "    Buy=dict(y=Buy.PriceA, x=Buy.LocalTimeA, color='green', mode='markers', size=symlog(Buy.VolumeA)+3)\n",
    ")\n",
    "fig"
   ]
  },
  {
   "cell_type": "code",
   "execution_count": 11,
   "id": "b19d9ead-52ba-489e-8795-0b9800aefb3c",
   "metadata": {
    "execution": {
     "iopub.execute_input": "2022-06-06T12:20:07.185484Z",
     "iopub.status.busy": "2022-06-06T12:20:07.185484Z",
     "iopub.status.idle": "2022-06-06T12:20:07.196487Z",
     "shell.execute_reply": "2022-06-06T12:20:07.196487Z",
     "shell.execute_reply.started": "2022-06-06T12:20:07.185484Z"
    },
    "tags": []
   },
   "outputs": [],
   "source": [
    "fig.layout.shapes = [{\n",
    "     'fillcolor': 'green' if c[3] > c[2] else 'red',\n",
    "     'line': {'color': 'black', 'width': 1},\n",
    "     'opacity': 0.2,\n",
    "     'type': 'rect',\n",
    "     'x0': c[0],\n",
    "     'x1': c[1],\n",
    "     'y0': c[2],\n",
    "     'y1': c[3]\n",
    " } for c in C]"
   ]
  },
  {
   "cell_type": "code",
   "execution_count": null,
   "id": "939cc1a6-9024-495f-977f-6ad9c6de20d0",
   "metadata": {},
   "outputs": [],
   "source": []
  }
 ],
 "metadata": {
  "kernelspec": {
   "display_name": "Python 3 (ipykernel)",
   "language": "python",
   "name": "python3"
  },
  "language_info": {
   "codemirror_mode": {
    "name": "ipython",
    "version": 3
   },
   "file_extension": ".py",
   "mimetype": "text/x-python",
   "name": "python",
   "nbconvert_exporter": "python",
   "pygments_lexer": "ipython3",
   "version": "3.9.12"
  }
 },
 "nbformat": 4,
 "nbformat_minor": 5
}
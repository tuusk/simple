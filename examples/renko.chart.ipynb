{
 "cells": [
  {
   "cell_type": "code",
   "execution_count": 1,
   "id": "d645f44e",
   "metadata": {
    "collapsed": false,
    "execution": {
     "iopub.execute_input": "2022-06-06T20:51:07.187914Z",
     "iopub.status.busy": "2022-06-06T20:51:07.186914Z",
     "iopub.status.idle": "2022-06-06T20:51:08.093118Z",
     "shell.execute_reply": "2022-06-06T20:51:08.093118Z",
     "shell.execute_reply.started": "2022-06-06T20:51:07.186914Z"
    },
    "jupyter": {
     "outputs_hidden": false
    },
    "pycharm": {
     "name": "#%%\n"
    },
    "tags": []
   },
   "outputs": [],
   "source": [
    "import numpy as np\n",
    "import pandas as pd\n",
    "from simple.ohlc import renko, midPrice\n",
    "from simple.plotly import chartFigure\n",
    "from simple.funcs import symlog\n",
    "from simple.backtest import npBacktestIOC"
   ]
  },
  {
   "cell_type": "code",
   "execution_count": 2,
   "id": "bd27d73e",
   "metadata": {
    "collapsed": false,
    "execution": {
     "iopub.execute_input": "2022-06-06T20:51:08.094118Z",
     "iopub.status.busy": "2022-06-06T20:51:08.094118Z",
     "iopub.status.idle": "2022-06-06T20:51:08.103120Z",
     "shell.execute_reply": "2022-06-06T20:51:08.103120Z",
     "shell.execute_reply.started": "2022-06-06T20:51:08.094118Z"
    },
    "jupyter": {
     "outputs_hidden": false
    },
    "pycharm": {
     "name": "#%%\n"
    }
   },
   "outputs": [
    {
     "data": {
      "text/plain": [
       "2224"
      ]
     },
     "execution_count": 2,
     "metadata": {},
     "output_type": "execute_result"
    }
   ],
   "source": [
    "T = np.load('data/ETHUSDT.2022-05-08.tick.npz')['ETHUSDT'].view(np.recarray)\n",
    "len(T)"
   ]
  },
  {
   "cell_type": "code",
   "execution_count": 3,
   "id": "a4305193",
   "metadata": {
    "collapsed": false,
    "execution": {
     "iopub.execute_input": "2022-06-06T20:51:08.105120Z",
     "iopub.status.busy": "2022-06-06T20:51:08.105120Z",
     "iopub.status.idle": "2022-06-06T20:51:08.109121Z",
     "shell.execute_reply": "2022-06-06T20:51:08.109121Z",
     "shell.execute_reply.started": "2022-06-06T20:51:08.105120Z"
    },
    "jupyter": {
     "outputs_hidden": false
    },
    "pycharm": {
     "name": "#%%\n"
    }
   },
   "outputs": [
    {
     "data": {
      "text/plain": [
       "rec.array([('2022-05-08T00:01:00.335000', 0, 2636.,  6.),\n",
       "           ('2022-05-08T00:01:00.335000', 1, 2636.,  4.),\n",
       "           ('2022-05-08T00:01:00.668000', 2, 2636., 96.),\n",
       "           ('2022-05-08T00:01:00.668000', 3, 2636.,  2.),\n",
       "           ('2022-05-08T00:01:00.668000', 4, 2636.,  2.)],\n",
       "          dtype={'names':['DateTimeA','LocalTimeA','PriceA','VolumeA'], 'formats':['<M8[us]','<i8','<f8','<f8'], 'offsets':[0,8,16,24], 'itemsize':40})"
      ]
     },
     "execution_count": 3,
     "metadata": {},
     "output_type": "execute_result"
    }
   ],
   "source": [
    "Buy = T[T.VolumeA > 0]\n",
    "Sell = T[T.VolumeA < 0]\n",
    "Buy[:5]"
   ]
  },
  {
   "cell_type": "code",
   "execution_count": 4,
   "id": "10390b68",
   "metadata": {
    "collapsed": false,
    "execution": {
     "iopub.execute_input": "2022-06-06T20:51:08.110122Z",
     "iopub.status.busy": "2022-06-06T20:51:08.110122Z",
     "iopub.status.idle": "2022-06-06T20:51:08.123124Z",
     "shell.execute_reply": "2022-06-06T20:51:08.123124Z",
     "shell.execute_reply.started": "2022-06-06T20:51:08.110122Z"
    },
    "jupyter": {
     "outputs_hidden": false
    },
    "pycharm": {
     "name": "#%%\n"
    }
   },
   "outputs": [
    {
     "data": {
      "text/plain": [
       "rec.array([('2022-05-08T00:01:00.007000', 2636., 2635.99),\n",
       "           ('2022-05-08T00:01:00.043000', 2636., 2635.99),\n",
       "           ('2022-05-08T00:01:00.079000', 2636., 2635.99),\n",
       "           ('2022-05-08T00:01:00.117000', 2636., 2635.99),\n",
       "           ('2022-05-08T00:01:00.149000', 2636., 2635.99)],\n",
       "          dtype={'names':['DT','A','B'], 'formats':['<M8[us]','<f4','<f4'], 'offsets':[0,8,16], 'itemsize':24})"
      ]
     },
     "execution_count": 4,
     "metadata": {},
     "output_type": "execute_result"
    }
   ],
   "source": [
    "S = np.load('data/ETHUSDT.2022-05-08.bidask.npz')['ETHUSDT'].view(np.recarray)\n",
    "S[:5]"
   ]
  },
  {
   "cell_type": "code",
   "execution_count": 5,
   "id": "1bf1c0c2",
   "metadata": {
    "collapsed": false,
    "execution": {
     "iopub.execute_input": "2022-06-06T20:51:08.124125Z",
     "iopub.status.busy": "2022-06-06T20:51:08.124125Z",
     "iopub.status.idle": "2022-06-06T20:51:08.139128Z",
     "shell.execute_reply": "2022-06-06T20:51:08.139128Z",
     "shell.execute_reply.started": "2022-06-06T20:51:08.124125Z"
    },
    "jupyter": {
     "outputs_hidden": false
    },
    "pycharm": {
     "name": "#%%\n"
    }
   },
   "outputs": [
    {
     "data": {
      "text/plain": [
       "(2224, 1701)"
      ]
     },
     "execution_count": 5,
     "metadata": {},
     "output_type": "execute_result"
    }
   ],
   "source": [
    "len(T), len(S)"
   ]
  },
  {
   "cell_type": "code",
   "execution_count": 6,
   "id": "f0ab07fb",
   "metadata": {
    "collapsed": false,
    "execution": {
     "iopub.execute_input": "2022-06-06T20:51:08.140128Z",
     "iopub.status.busy": "2022-06-06T20:51:08.140128Z",
     "iopub.status.idle": "2022-06-06T20:51:08.655244Z",
     "shell.execute_reply": "2022-06-06T20:51:08.655244Z",
     "shell.execute_reply.started": "2022-06-06T20:51:08.140128Z"
    },
    "jupyter": {
     "outputs_hidden": false
    },
    "pycharm": {
     "name": "#%%\n"
    }
   },
   "outputs": [
    {
     "data": {
      "text/plain": [
       "[(0, 15, 2635.5, 2636.0),\n",
       " (16, 44, 2636.5, 2636.0),\n",
       " (45, 207, 2635.5, 2636.0),\n",
       " (208, 239, 2636.5, 2636.0),\n",
       " (240, 240, 2635.5, 2636.0)]"
      ]
     },
     "execution_count": 6,
     "metadata": {},
     "output_type": "execute_result"
    }
   ],
   "source": [
    "C = renko(T, 0.5)\n",
    "C[:5]"
   ]
  },
  {
   "cell_type": "code",
   "execution_count": 7,
   "id": "eaf3e524-d443-44a3-b63c-0319e427795c",
   "metadata": {
    "execution": {
     "iopub.execute_input": "2022-06-06T20:51:08.656244Z",
     "iopub.status.busy": "2022-06-06T20:51:08.656244Z",
     "iopub.status.idle": "2022-06-06T20:51:08.660245Z",
     "shell.execute_reply": "2022-06-06T20:51:08.660245Z",
     "shell.execute_reply.started": "2022-06-06T20:51:08.656244Z"
    }
   },
   "outputs": [
    {
     "data": {
      "text/plain": [
       "36"
      ]
     },
     "execution_count": 7,
     "metadata": {},
     "output_type": "execute_result"
    }
   ],
   "source": [
    "len(C)"
   ]
  },
  {
   "cell_type": "code",
   "execution_count": 8,
   "id": "f45dbbec-c179-4efd-9f0e-0eac6878fe28",
   "metadata": {
    "execution": {
     "iopub.execute_input": "2022-06-06T20:51:08.661245Z",
     "iopub.status.busy": "2022-06-06T20:51:08.661245Z",
     "iopub.status.idle": "2022-06-06T20:51:08.669247Z",
     "shell.execute_reply": "2022-06-06T20:51:08.669247Z",
     "shell.execute_reply.started": "2022-06-06T20:51:08.661245Z"
    },
    "tags": []
   },
   "outputs": [
    {
     "name": "stdout",
     "output_type": "stream",
     "text": [
      "(208, 239, 2636.5, 2636.0) 7000 microseconds 202\n",
      "(240, 240, 2635.5, 2636.0) 0 microseconds 202\n",
      "(760, 760, 2637.0, 2637.5) 0 microseconds 463\n",
      "(761, 781, 2638.0, 2637.5) 2000 microseconds 463\n",
      "(782, 783, 2637.0, 2637.5) 1000 microseconds 464\n",
      "(784, 784, 2638.0, 2637.5) 0 microseconds 464\n",
      "(785, 785, 2637.0, 2637.5) 0 microseconds 464\n",
      "(786, 792, 2638.0, 2637.5) 0 microseconds 464\n",
      "(1362, 1362, 2638.5, 2639.0) 0 microseconds 905\n",
      "(1478, 1479, 2638.5, 2639.0) 0 microseconds 929\n",
      "(1480, 1485, 2639.5, 2639.0) 4000 microseconds 930\n",
      "(1639, 1673, 2638.0, 2638.5) 8999 microseconds 1036\n",
      "(1674, 1674, 2639.0, 2638.5) 0 microseconds 1037\n",
      "(2186, 2186, 2639.5, 2639.0) 0 microseconds 1628\n",
      "(2187, 2187, 2638.5, 2639.0) 0 microseconds 1629\n"
     ]
    }
   ],
   "source": [
    "signal = np.zeros(len(S.DT))\n",
    "for c in C:\n",
    "    tm = T.DateTimeA[c[1]] - T.DateTimeA[c[0]]\n",
    "    if tm < np.timedelta64(10000, 'μs'):\n",
    "        k = np.searchsorted(S.DT, T.DateTimeA[c[1]])\n",
    "        signal[k] = 1 if c[3] > c[2] else - 1\n",
    "        print(c, tm, k)"
   ]
  },
  {
   "cell_type": "code",
   "execution_count": 9,
   "id": "65d6abf4-f40c-47d8-85fa-9cd96e19a35d",
   "metadata": {
    "execution": {
     "iopub.execute_input": "2022-06-06T20:51:08.670247Z",
     "iopub.status.busy": "2022-06-06T20:51:08.670247Z",
     "iopub.status.idle": "2022-06-06T20:51:09.781497Z",
     "shell.execute_reply": "2022-06-06T20:51:09.781497Z",
     "shell.execute_reply.started": "2022-06-06T20:51:08.670247Z"
    },
    "tags": []
   },
   "outputs": [
    {
     "data": {
      "text/plain": [
       "rec.array([( 203, 1651968067108999, 2636.45996094, 2636.41503906,  464, 1651968076222000, 2637.41992188, 2637.45996094,  1.),\n",
       "           ( 465, 1651968076254000, 2637.41992188, 2637.43994141,  906, 1651968091095000, 2639.20996094, 2639.18505859, -1.),\n",
       "           ( 930, 1651968091874000, 2638.95996094, 2638.85009766,  931, 1651968091906000, 2638.69995117, 2638.83496094,  1.),\n",
       "           (1037, 1651968096536999, 2638.31005859, 2638.24511719, 1038, 1651968096569999, 2638.10009766, 2638.1550293 ,  1.),\n",
       "           (1629, 1651968117421000, 2638.85009766, 2638.93017578, 1630, 1651968117455000, 2639.01000977, 2639.00488281, -1.)],\n",
       "          dtype=[('X0', '<i8'), ('T0', '<i8'), ('Price0', '<f8'), ('MidPrice0', '<f8'), ('X1', '<i8'), ('T1', '<i8'), ('Price1', '<f8'), ('MidPrice1', '<f8'), ('Size', '<f8')])"
      ]
     },
     "execution_count": 9,
     "metadata": {},
     "output_type": "execute_result"
    }
   ],
   "source": [
    "trades = npBacktestIOC(S.DT.astype(np.int64), S.A, S.B, signal, 0)\n",
    "trades"
   ]
  },
  {
   "cell_type": "code",
   "execution_count": 10,
   "id": "f1b86c04",
   "metadata": {
    "collapsed": false,
    "execution": {
     "iopub.execute_input": "2022-06-06T20:51:09.782497Z",
     "iopub.status.busy": "2022-06-06T20:51:09.782497Z",
     "iopub.status.idle": "2022-06-06T20:51:11.034779Z",
     "shell.execute_reply": "2022-06-06T20:51:11.034779Z",
     "shell.execute_reply.started": "2022-06-06T20:51:09.782497Z"
    },
    "jupyter": {
     "outputs_hidden": false
    },
    "pycharm": {
     "name": "#%%\n"
    },
    "tags": []
   },
   "outputs": [
    {
     "data": {
      "application/vnd.jupyter.widget-view+json": {
       "model_id": "5d9f145e2ff24e2986bcb78618c5620e",
       "version_major": 2,
       "version_minor": 0
      },
      "text/plain": [
       "FigureWidgetResampler({\n",
       "    'data': [{'marker': {'color': 'red',\n",
       "                         'opacity': 0.25,\n",
       "   …"
      ]
     },
     "metadata": {},
     "output_type": "display_data"
    }
   ],
   "source": [
    "# timed chart\n",
    "fig = chartFigure(\n",
    "    Sell=dict(x=Sell.DateTimeA, y=Sell.PriceA, color='red', mode='markers', size=-symlog(Sell.VolumeA)+3, opacity=0.25),\n",
    "    Buy=dict(x=Buy.DateTimeA, y=Buy.PriceA, color='green', mode='markers', size=symlog(Buy.VolumeA)+3, opacity=0.25),\n",
    "    Ask=dict(x=S.DT, y=S.A, color='red', opacity=0.2, shape='hv', mode='lines'),\n",
    "    Bid=dict(x=S.DT, y=S.B, color='green', opacity=0.2, shape='hv', mode='lines'),\n",
    "    Enter=dict(x=trades.T0.astype('M8[us]'), y=trades.Price0, mode='markers', \n",
    "               marker=dict(symbol='triangle-up', size=12, line_color='darkgreen', line_width=1, color='green'))                \n",
    ")\n",
    "fig"
   ]
  },
  {
   "cell_type": "code",
   "execution_count": 11,
   "id": "4c753a17",
   "metadata": {
    "collapsed": false,
    "execution": {
     "iopub.execute_input": "2022-06-06T20:51:11.035779Z",
     "iopub.status.busy": "2022-06-06T20:51:11.035779Z",
     "iopub.status.idle": "2022-06-06T20:51:11.050782Z",
     "shell.execute_reply": "2022-06-06T20:51:11.050782Z",
     "shell.execute_reply.started": "2022-06-06T20:51:11.035779Z"
    },
    "jupyter": {
     "outputs_hidden": false
    },
    "pycharm": {
     "name": "#%%\n"
    },
    "tags": []
   },
   "outputs": [],
   "source": [
    "fig.layout.shapes = [{\n",
    "     'fillcolor': 'green' if c[3] > c[2] else 'red',\n",
    "     'line': {'color': 'black', 'width': 2},\n",
    "     'opacity': 0.15,\n",
    "     'type': 'rect',\n",
    "     'x0': str(T.DateTimeA[int(c[0])]),\n",
    "     'x1': str(T.DateTimeA[int(c[1])]),\n",
    "     'y0': c[2],\n",
    "     'y1': c[3]\n",
    " } for c in C]"
   ]
  },
  {
   "cell_type": "code",
   "execution_count": null,
   "id": "30841b90-78a2-45c2-945d-95b6c37442ee",
   "metadata": {},
   "outputs": [],
   "source": []
  }
 ],
 "metadata": {
  "kernelspec": {
   "display_name": "Python 3 (ipykernel)",
   "language": "python",
   "name": "python3"
  },
  "language_info": {
   "codemirror_mode": {
    "name": "ipython",
    "version": 3
   },
   "file_extension": ".py",
   "mimetype": "text/x-python",
   "name": "python",
   "nbconvert_exporter": "python",
   "pygments_lexer": "ipython3",
   "version": "3.9.12"
  }
 },
 "nbformat": 4,
 "nbformat_minor": 5
}
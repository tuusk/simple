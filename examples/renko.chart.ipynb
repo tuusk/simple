{
 "cells": [
  {
   "cell_type": "code",
   "execution_count": 1,
   "id": "57dcaf97-5385-4655-b3e4-046c5816be33",
   "metadata": {
    "execution": {
     "iopub.execute_input": "2022-06-02T20:37:13.298041Z",
     "iopub.status.busy": "2022-06-02T20:37:13.297041Z",
     "iopub.status.idle": "2022-06-02T20:37:14.513314Z",
     "shell.execute_reply": "2022-06-02T20:37:14.513314Z",
     "shell.execute_reply.started": "2022-06-02T20:37:13.297041Z"
    },
    "pycharm": {
     "name": "#%%\n"
    },
    "tags": []
   },
   "outputs": [],
   "source": [
    "import numpy as np\n",
    "import pandas as pd\n",
    "from simple.renko import Renko\n",
    "from simple.plotly import chartFigure"
   ]
  },
  {
   "cell_type": "code",
   "execution_count": null,
   "outputs": [],
   "source": [
    "T = np.load('data/tick.npz')['BTCUSDT'][:100000]\n",
    "len(T)"
   ],
   "metadata": {
    "collapsed": false,
    "pycharm": {
     "name": "#%%\n"
    }
   }
  },
  {
   "cell_type": "code",
   "execution_count": null,
   "outputs": [],
   "source": [
    "rnk = Renko(25, T['PriceA'])\n",
    "rnk.create_renko()\n",
    "\n",
    "rnk.bricks[:10]"
   ],
   "metadata": {
    "collapsed": false,
    "pycharm": {
     "name": "#%%\n"
    }
   }
  },
  {
   "cell_type": "code",
   "execution_count": null,
   "outputs": [],
   "source": [
    "len({})"
   ],
   "metadata": {
    "collapsed": false,
    "pycharm": {
     "name": "#%%\n"
    }
   }
  },
  {
   "cell_type": "code",
   "execution_count": null,
   "outputs": [],
   "source": [
    "X = pd.DataFrame(rnk.bricks)\n",
    "X['color'] = np.where(X.type == 'up', 'green', 'red')\n",
    "X['mid'] = (X.close + X.open) / 2\n",
    "X"
   ],
   "metadata": {
    "collapsed": false,
    "pycharm": {
     "name": "#%%\n"
    }
   }
  },
  {
   "cell_type": "code",
   "execution_count": null,
   "outputs": [],
   "source": [
    "chartFigure(Renko=dict(mode='markers', y=X.mid, marker=dict(symbol='square', size=5, line_width=1, line_color=\"black\", color=X.color)))"
   ],
   "metadata": {
    "collapsed": false,
    "pycharm": {
     "name": "#%%\n"
    }
   }
  },
  {
   "cell_type": "code",
   "execution_count": 8,
   "id": "21b5ea3d-368e-4a6a-8d65-1131035472a5",
   "metadata": {
    "execution": {
     "iopub.execute_input": "2022-06-02T20:38:23.093735Z",
     "iopub.status.busy": "2022-06-02T20:38:23.092735Z",
     "iopub.status.idle": "2022-06-02T20:38:23.298781Z",
     "shell.execute_reply": "2022-06-02T20:38:23.298781Z",
     "shell.execute_reply.started": "2022-06-02T20:38:23.093735Z"
    },
    "pycharm": {
     "name": "#%%\n"
    },
    "scrolled": false,
    "tags": []
   },
   "outputs": [
    {
     "data": {
      "application/vnd.jupyter.widget-view+json": {
       "model_id": "af894a557a224fe2aac8ab1edb1caaea",
       "version_major": 2,
       "version_minor": 0
      },
      "text/plain": [
       "FigureWidgetResampler({\n",
       "    'data': [{'marker': {'color': array(['red', 'red', 'red', ..., 'green', 'green', '…"
      ]
     },
     "metadata": {},
     "output_type": "display_data"
    }
   ],
   "source": [
    "chartFigure(Renko=dict(mode='markers', y=X.mid, marker=dict(symbol='square', size=5, line_width=1, line_color=\"black\", color=X.color)))"
   ]
  },
  {
   "cell_type": "code",
   "execution_count": null,
   "id": "824c3abf-fbfe-4624-a82f-a5fbdcc63510",
   "metadata": {
    "pycharm": {
     "name": "#%%\n"
    }
   },
   "outputs": [],
   "source": []
  }
 ],
 "metadata": {
  "kernelspec": {
   "display_name": "Python 3 (ipykernel)",
   "language": "python",
   "name": "python3"
  },
  "language_info": {
   "codemirror_mode": {
    "name": "ipython",
    "version": 3
   },
   "file_extension": ".py",
   "mimetype": "text/x-python",
   "name": "python",
   "nbconvert_exporter": "python",
   "pygments_lexer": "ipython3",
   "version": "3.9.12"
  }
 },
 "nbformat": 4,
 "nbformat_minor": 5
}
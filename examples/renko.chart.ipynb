{
 "cells": [
  {
   "cell_type": "code",
   "execution_count": 1,
   "id": "57dcaf97-5385-4655-b3e4-046c5816be33",
   "metadata": {
    "execution": {
     "iopub.execute_input": "2022-06-02T20:37:13.298041Z",
     "iopub.status.busy": "2022-06-02T20:37:13.297041Z",
     "iopub.status.idle": "2022-06-02T20:37:14.513314Z",
     "shell.execute_reply": "2022-06-02T20:37:14.513314Z",
     "shell.execute_reply.started": "2022-06-02T20:37:13.297041Z"
    },
    "tags": []
   },
   "outputs": [],
   "source": [
    "import numpy as np\n",
    "import pandas as pd\n",
    "from simple.renko import Renko\n",
    "from simple.plotly import chartFigure"
   ]
  },
  {
   "cell_type": "code",
   "execution_count": 3,
   "id": "ed695b63-9bb9-44b8-a77e-6294e10c6f6d",
   "metadata": {
    "execution": {
     "iopub.execute_input": "2022-06-02T20:38:16.704299Z",
     "iopub.status.busy": "2022-06-02T20:38:16.703298Z",
     "iopub.status.idle": "2022-06-02T20:38:16.815324Z",
     "shell.execute_reply": "2022-06-02T20:38:16.815324Z",
     "shell.execute_reply.started": "2022-06-02T20:38:16.704299Z"
    },
    "tags": []
   },
   "outputs": [
    {
     "data": {
      "text/plain": [
       "889360"
      ]
     },
     "execution_count": 3,
     "metadata": {},
     "output_type": "execute_result"
    }
   ],
   "source": [
    "T = np.load('../data/tick.npz')['BTCUSDT']\n",
    "len(T)"
   ]
  },
  {
   "cell_type": "code",
   "execution_count": 4,
   "id": "71c60bca-60dd-43ec-88a0-f56f2d98d6c8",
   "metadata": {
    "execution": {
     "iopub.execute_input": "2022-06-02T20:38:17.717526Z",
     "iopub.status.busy": "2022-06-02T20:38:17.717526Z",
     "iopub.status.idle": "2022-06-02T20:38:18.497702Z",
     "shell.execute_reply": "2022-06-02T20:38:18.497702Z",
     "shell.execute_reply.started": "2022-06-02T20:38:17.717526Z"
    },
    "tags": []
   },
   "outputs": [
    {
     "data": {
      "text/plain": [
       "[{'type': 'first', 'open': 37265.0, 'close': 37265.0},\n",
       " {'type': 'down', 'open': 37265.0, 'close': 37215.0},\n",
       " {'type': 'down', 'open': 37215.0, 'close': 37165.0},\n",
       " {'type': 'up', 'open': 37215.0, 'close': 37265.0, 'low': 37130.0},\n",
       " {'type': 'up', 'open': 37265.0, 'close': 37315.0},\n",
       " {'type': 'up', 'open': 37315.0, 'close': 37365.0},\n",
       " {'type': 'up', 'open': 37365.0, 'close': 37415.0},\n",
       " {'type': 'up', 'open': 37415.0, 'close': 37465.0},\n",
       " {'type': 'up', 'open': 37465.0, 'close': 37515.0},\n",
       " {'type': 'up', 'open': 37515.0, 'close': 37565.0}]"
      ]
     },
     "execution_count": 4,
     "metadata": {},
     "output_type": "execute_result"
    }
   ],
   "source": [
    "rnk = Renko(50, T['PriceA'])\n",
    "rnk.create_renko()\n",
    "\n",
    "rnk.bricks[:10]"
   ]
  },
  {
   "cell_type": "code",
   "execution_count": 5,
   "id": "8c9770d1-534d-46cf-9d3d-44c3215f5d7a",
   "metadata": {
    "execution": {
     "iopub.execute_input": "2022-06-02T20:38:19.210862Z",
     "iopub.status.busy": "2022-06-02T20:38:19.210862Z",
     "iopub.status.idle": "2022-06-02T20:38:19.224865Z",
     "shell.execute_reply": "2022-06-02T20:38:19.224865Z",
     "shell.execute_reply.started": "2022-06-02T20:38:19.210862Z"
    },
    "tags": []
   },
   "outputs": [
    {
     "data": {
      "text/html": [
       "<div>\n",
       "<style scoped>\n",
       "    .dataframe tbody tr th:only-of-type {\n",
       "        vertical-align: middle;\n",
       "    }\n",
       "\n",
       "    .dataframe tbody tr th {\n",
       "        vertical-align: top;\n",
       "    }\n",
       "\n",
       "    .dataframe thead th {\n",
       "        text-align: right;\n",
       "    }\n",
       "</style>\n",
       "<table border=\"1\" class=\"dataframe\">\n",
       "  <thead>\n",
       "    <tr style=\"text-align: right;\">\n",
       "      <th></th>\n",
       "      <th>type</th>\n",
       "      <th>open</th>\n",
       "      <th>close</th>\n",
       "      <th>low</th>\n",
       "      <th>high</th>\n",
       "      <th>color</th>\n",
       "      <th>mid</th>\n",
       "    </tr>\n",
       "  </thead>\n",
       "  <tbody>\n",
       "    <tr>\n",
       "      <th>0</th>\n",
       "      <td>first</td>\n",
       "      <td>37265.0</td>\n",
       "      <td>37265.0</td>\n",
       "      <td>NaN</td>\n",
       "      <td>NaN</td>\n",
       "      <td>red</td>\n",
       "      <td>37265.0</td>\n",
       "    </tr>\n",
       "    <tr>\n",
       "      <th>1</th>\n",
       "      <td>down</td>\n",
       "      <td>37265.0</td>\n",
       "      <td>37215.0</td>\n",
       "      <td>NaN</td>\n",
       "      <td>NaN</td>\n",
       "      <td>red</td>\n",
       "      <td>37240.0</td>\n",
       "    </tr>\n",
       "    <tr>\n",
       "      <th>2</th>\n",
       "      <td>down</td>\n",
       "      <td>37215.0</td>\n",
       "      <td>37165.0</td>\n",
       "      <td>NaN</td>\n",
       "      <td>NaN</td>\n",
       "      <td>red</td>\n",
       "      <td>37190.0</td>\n",
       "    </tr>\n",
       "    <tr>\n",
       "      <th>3</th>\n",
       "      <td>up</td>\n",
       "      <td>37215.0</td>\n",
       "      <td>37265.0</td>\n",
       "      <td>37130.0</td>\n",
       "      <td>NaN</td>\n",
       "      <td>green</td>\n",
       "      <td>37240.0</td>\n",
       "    </tr>\n",
       "    <tr>\n",
       "      <th>4</th>\n",
       "      <td>up</td>\n",
       "      <td>37265.0</td>\n",
       "      <td>37315.0</td>\n",
       "      <td>NaN</td>\n",
       "      <td>NaN</td>\n",
       "      <td>green</td>\n",
       "      <td>37290.0</td>\n",
       "    </tr>\n",
       "  </tbody>\n",
       "</table>\n",
       "</div>"
      ],
      "text/plain": [
       "    type     open    close      low  high  color      mid\n",
       "0  first  37265.0  37265.0      NaN   NaN    red  37265.0\n",
       "1   down  37265.0  37215.0      NaN   NaN    red  37240.0\n",
       "2   down  37215.0  37165.0      NaN   NaN    red  37190.0\n",
       "3     up  37215.0  37265.0  37130.0   NaN  green  37240.0\n",
       "4     up  37265.0  37315.0      NaN   NaN  green  37290.0"
      ]
     },
     "execution_count": 5,
     "metadata": {},
     "output_type": "execute_result"
    }
   ],
   "source": [
    "X = pd.DataFrame(rnk.bricks)\n",
    "X['color'] = np.where(X.type == 'up', 'green', 'red')\n",
    "X['mid'] = (X.close + X.open) / 2\n",
    "X.head()"
   ]
  },
  {
   "cell_type": "code",
   "execution_count": 6,
   "id": "36309ea4-794c-4e61-bbe7-a624e1c704d7",
   "metadata": {
    "execution": {
     "iopub.execute_input": "2022-06-02T20:38:19.904017Z",
     "iopub.status.busy": "2022-06-02T20:38:19.904017Z",
     "iopub.status.idle": "2022-06-02T20:38:19.908019Z",
     "shell.execute_reply": "2022-06-02T20:38:19.908019Z",
     "shell.execute_reply.started": "2022-06-02T20:38:19.904017Z"
    },
    "tags": []
   },
   "outputs": [
    {
     "data": {
      "text/plain": [
       "1612"
      ]
     },
     "execution_count": 6,
     "metadata": {},
     "output_type": "execute_result"
    }
   ],
   "source": [
    "len(X)"
   ]
  },
  {
   "cell_type": "code",
   "execution_count": 7,
   "id": "f2d4d8e7-099b-4162-a229-111ab281bf1e",
   "metadata": {
    "execution": {
     "iopub.execute_input": "2022-06-02T20:38:20.687194Z",
     "iopub.status.busy": "2022-06-02T20:38:20.687194Z",
     "iopub.status.idle": "2022-06-02T20:38:20.690195Z",
     "shell.execute_reply": "2022-06-02T20:38:20.690195Z",
     "shell.execute_reply.started": "2022-06-02T20:38:20.687194Z"
    },
    "tags": []
   },
   "outputs": [],
   "source": [
    "import plotly.graph_objects as go\n",
    "from plotly_resampler import FigureWidgetResampler"
   ]
  },
  {
   "cell_type": "code",
   "execution_count": 8,
   "id": "10962ee2-40e2-4350-a8f1-043715d6c839",
   "metadata": {
    "execution": {
     "iopub.execute_input": "2022-06-02T20:38:22.401579Z",
     "iopub.status.busy": "2022-06-02T20:38:22.401579Z",
     "iopub.status.idle": "2022-06-02T20:38:22.766662Z",
     "shell.execute_reply": "2022-06-02T20:38:22.766662Z",
     "shell.execute_reply.started": "2022-06-02T20:38:22.401579Z"
    },
    "tags": []
   },
   "outputs": [
    {
     "data": {
      "application/vnd.jupyter.widget-view+json": {
       "model_id": "38599c3d31cb4ed8ae2856f6b4e73aea",
       "version_major": 2,
       "version_minor": 0
      },
      "text/plain": [
       "FigureWidgetResampler({\n",
       "    'data': [{'marker': {'color': array(['red', 'red', 'red', ..., 'green', 'red', 're…"
      ]
     },
     "metadata": {},
     "output_type": "display_data"
    }
   ],
   "source": [
    "fig = FigureWidgetResampler(go.FigureWidget(layout={'height':500, 'template': 'plotly_white',  \n",
    "                              'margin': dict(l=45, r=5, b=10, t=25, pad=3), 'legend_orientation': 'h'}))\n",
    "\n",
    "fig.add_scattergl(name='B', mode='markers', y=X.mid, marker=dict(symbol='square', size=5, line_width=1, line_color=\"black\", color=X.color))\n",
    "fig"
   ]
  },
  {
   "cell_type": "code",
   "execution_count": 9,
   "id": "21b5ea3d-368e-4a6a-8d65-1131035472a5",
   "metadata": {
    "execution": {
     "iopub.execute_input": "2022-06-02T20:38:23.093735Z",
     "iopub.status.busy": "2022-06-02T20:38:23.092735Z",
     "iopub.status.idle": "2022-06-02T20:38:23.298781Z",
     "shell.execute_reply": "2022-06-02T20:38:23.298781Z",
     "shell.execute_reply.started": "2022-06-02T20:38:23.093735Z"
    },
    "tags": []
   },
   "outputs": [
    {
     "data": {
      "application/vnd.jupyter.widget-view+json": {
       "model_id": "a331276db83e4d75adaeef9de6551ca2",
       "version_major": 2,
       "version_minor": 0
      },
      "text/plain": [
       "FigureWidgetResampler({\n",
       "    'data': [{'mode': 'markers',\n",
       "              'name': '<b style=\"color:sandybrown\">[R…"
      ]
     },
     "metadata": {},
     "output_type": "display_data"
    }
   ],
   "source": [
    "chartFigure(Renko=dict(mode='markers', y=X.mid, marker=dict(symbol='square', size=8, line_width=1, line_color=\"black\", marker_color=X.color)))"
   ]
  },
  {
   "cell_type": "code",
   "execution_count": null,
   "id": "824c3abf-fbfe-4624-a82f-a5fbdcc63510",
   "metadata": {},
   "outputs": [],
   "source": []
  }
 ],
 "metadata": {
  "kernelspec": {
   "display_name": "Python 3 (ipykernel)",
   "language": "python",
   "name": "python3"
  },
  "language_info": {
   "codemirror_mode": {
    "name": "ipython",
    "version": 3
   },
   "file_extension": ".py",
   "mimetype": "text/x-python",
   "name": "python",
   "nbconvert_exporter": "python",
   "pygments_lexer": "ipython3",
   "version": "3.9.12"
  }
 },
 "nbformat": 4,
 "nbformat_minor": 5
}

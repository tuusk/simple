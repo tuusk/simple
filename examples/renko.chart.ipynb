{
 "cells": [
  {
   "cell_type": "code",
   "execution_count": 1,
   "id": "d645f44e",
   "metadata": {
    "collapsed": false,
    "execution": {
     "iopub.execute_input": "2022-06-22T09:54:52.594017Z",
     "iopub.status.busy": "2022-06-22T09:54:52.594017Z",
     "iopub.status.idle": "2022-06-22T09:54:53.413161Z",
     "shell.execute_reply": "2022-06-22T09:54:53.412661Z",
     "shell.execute_reply.started": "2022-06-22T09:54:52.594017Z"
    },
    "jupyter": {
     "outputs_hidden": false
    },
    "pycharm": {
     "name": "#%%\n"
    },
    "tags": []
   },
   "outputs": [],
   "source": [
    "import numpy as np\n",
    "from simple.ohlc import renko\n",
    "from simple.plotly import chartFigure, chartTrades\n",
    "from simple.funcs import symlog\n",
    "from simple.backtest import npBacktestMarket"
   ]
  },
  {
   "cell_type": "code",
   "execution_count": 2,
   "id": "bd27d73e",
   "metadata": {
    "collapsed": false,
    "execution": {
     "iopub.execute_input": "2022-06-22T09:54:53.414161Z",
     "iopub.status.busy": "2022-06-22T09:54:53.413661Z",
     "iopub.status.idle": "2022-06-22T09:54:53.522680Z",
     "shell.execute_reply": "2022-06-22T09:54:53.522680Z",
     "shell.execute_reply.started": "2022-06-22T09:54:53.414161Z"
    },
    "jupyter": {
     "outputs_hidden": false
    },
    "pycharm": {
     "name": "#%%\n"
    }
   },
   "outputs": [
    {
     "data": {
      "text/plain": [
       "100000"
      ]
     },
     "execution_count": 2,
     "metadata": {},
     "output_type": "execute_result"
    }
   ],
   "source": [
    "T = np.load('data/ETHUSDT.2022-05-08.tick.npz')['ETHUSDT'].view(np.recarray)[:100_000]\n",
    "len(T)"
   ]
  },
  {
   "cell_type": "code",
   "execution_count": 3,
   "id": "a4305193",
   "metadata": {
    "collapsed": false,
    "execution": {
     "iopub.execute_input": "2022-06-22T09:54:53.524180Z",
     "iopub.status.busy": "2022-06-22T09:54:53.524180Z",
     "iopub.status.idle": "2022-06-22T09:54:53.532182Z",
     "shell.execute_reply": "2022-06-22T09:54:53.531682Z",
     "shell.execute_reply.started": "2022-06-22T09:54:53.524180Z"
    },
    "jupyter": {
     "outputs_hidden": false
    },
    "pycharm": {
     "name": "#%%\n"
    },
    "tags": []
   },
   "outputs": [
    {
     "data": {
      "text/plain": [
       "rec.array([('2022-05-08T00:01:00.335000', 2735, 2636.,  6.),\n",
       "           ('2022-05-08T00:01:00.335000', 2736, 2636.,  4.),\n",
       "           ('2022-05-08T00:01:00.668000', 2737, 2636., 96.),\n",
       "           ('2022-05-08T00:01:00.668000', 2738, 2636.,  2.),\n",
       "           ('2022-05-08T00:01:00.668000', 2739, 2636.,  2.)],\n",
       "          dtype={'names':['DT','LocalDT','Price','Size'], 'formats':['<M8[us]','<i8','<f8','<f8'], 'offsets':[0,8,16,24], 'itemsize':40})"
      ]
     },
     "execution_count": 3,
     "metadata": {},
     "output_type": "execute_result"
    }
   ],
   "source": [
    "Buy = T[T.Size > 0]\n",
    "Sell = T[T.Size < 0]\n",
    "Buy[:5]"
   ]
  },
  {
   "cell_type": "code",
   "execution_count": 4,
   "id": "10390b68",
   "metadata": {
    "collapsed": false,
    "execution": {
     "iopub.execute_input": "2022-06-22T09:54:53.533182Z",
     "iopub.status.busy": "2022-06-22T09:54:53.532682Z",
     "iopub.status.idle": "2022-06-22T09:54:53.597193Z",
     "shell.execute_reply": "2022-06-22T09:54:53.597193Z",
     "shell.execute_reply.started": "2022-06-22T09:54:53.533182Z"
    },
    "jupyter": {
     "outputs_hidden": false
    },
    "pycharm": {
     "name": "#%%\n"
    },
    "tags": []
   },
   "outputs": [
    {
     "data": {
      "text/plain": [
       "rec.array([('2022-05-08T00:01:00.007000', 2636., 2635.99),\n",
       "           ('2022-05-08T00:01:00.043000', 2636., 2635.99),\n",
       "           ('2022-05-08T00:01:00.079000', 2636., 2635.99),\n",
       "           ('2022-05-08T00:01:00.117000', 2636., 2635.99),\n",
       "           ('2022-05-08T00:01:00.149000', 2636., 2635.99)],\n",
       "          dtype={'names':['DT','A','B'], 'formats':['<M8[us]','<f4','<f4'], 'offsets':[0,8,16], 'itemsize':24})"
      ]
     },
     "execution_count": 4,
     "metadata": {},
     "output_type": "execute_result"
    }
   ],
   "source": [
    "S = np.load('data/ETHUSDT.2022-05-08.bidask.npz')['ETHUSDT'].view(np.recarray)\n",
    "S[:5]"
   ]
  },
  {
   "cell_type": "code",
   "execution_count": 5,
   "id": "1bf1c0c2",
   "metadata": {
    "collapsed": false,
    "execution": {
     "iopub.execute_input": "2022-06-22T09:54:53.598194Z",
     "iopub.status.busy": "2022-06-22T09:54:53.598194Z",
     "iopub.status.idle": "2022-06-22T09:54:53.601194Z",
     "shell.execute_reply": "2022-06-22T09:54:53.601194Z",
     "shell.execute_reply.started": "2022-06-22T09:54:53.598194Z"
    },
    "jupyter": {
     "outputs_hidden": false
    },
    "pycharm": {
     "name": "#%%\n"
    }
   },
   "outputs": [
    {
     "data": {
      "text/plain": [
       "(100000, 600964)"
      ]
     },
     "execution_count": 5,
     "metadata": {},
     "output_type": "execute_result"
    }
   ],
   "source": [
    "len(T), len(S)"
   ]
  },
  {
   "cell_type": "code",
   "execution_count": 6,
   "id": "efc61822",
   "metadata": {
    "collapsed": false,
    "execution": {
     "iopub.execute_input": "2022-06-22T09:54:53.602194Z",
     "iopub.status.busy": "2022-06-22T09:54:53.601694Z",
     "iopub.status.idle": "2022-06-22T09:54:54.108783Z",
     "shell.execute_reply": "2022-06-22T09:54:54.108783Z",
     "shell.execute_reply.started": "2022-06-22T09:54:53.602194Z"
    },
    "jupyter": {
     "outputs_hidden": false
    },
    "pycharm": {
     "name": "#%%\n"
    }
   },
   "outputs": [
    {
     "data": {
      "text/plain": [
       "[(0, 17610, 2625.0, 2640.0),\n",
       " (17611, 18413, 2655.0, 2640.0),\n",
       " (18414, 18420, 2625.0, 2640.0),\n",
       " (18421, 18421, 2655.0, 2640.0),\n",
       " (18422, 52272, 2640.0, 2625.0)]"
      ]
     },
     "execution_count": 6,
     "metadata": {},
     "output_type": "execute_result"
    }
   ],
   "source": [
    "C = renko(T, 15)\n",
    "C[:5], len(C)"
   ]
  },
  {
   "cell_type": "code",
   "execution_count": 9,
   "id": "f2b67a1d",
   "metadata": {
    "collapsed": false,
    "execution": {
     "iopub.execute_input": "2022-06-22T09:54:54.121785Z",
     "iopub.status.busy": "2022-06-22T09:54:54.121785Z",
     "iopub.status.idle": "2022-06-22T09:54:54.140788Z",
     "shell.execute_reply": "2022-06-22T09:54:54.140288Z",
     "shell.execute_reply.started": "2022-06-22T09:54:54.121785Z"
    },
    "jupyter": {
     "outputs_hidden": false
    },
    "pycharm": {
     "name": "#%%\n"
    },
    "tags": []
   },
   "outputs": [
    {
     "name": "stdout",
     "output_type": "stream",
     "text": [
      "(0, 17610, 2625.0, 2640.0)\t2022-05-08T00:10:12.393999\t2022-05-08T00:10:12.493999\t552058999 microseconds\t15754\t0\tgreen\n",
      "(17611, 18413, 2655.0, 2640.0)\t2022-05-08T00:10:36.481000\t2022-05-08T00:10:36.581000\t24072001 microseconds\t16437\t0\tred\n",
      "(18414, 18420, 2625.0, 2640.0)\t2022-05-08T00:10:36.481000\t2022-05-08T00:10:36.581000\t0 microseconds  \t16437\t1\tgreen\n",
      "(18421, 18421, 2655.0, 2640.0)\t2022-05-08T00:10:36.496000\t2022-05-08T00:10:36.596000\t0 microseconds  \t16438\t-1\tred\n",
      "(18422, 52272, 2640.0, 2625.0)\t2022-05-08T00:30:48.915000\t2022-05-08T00:30:49.015000\t1212399000 microseconds\t50471\t-1\tred\n",
      "(52273, 52353, 2610.0, 2625.0)\t2022-05-08T00:30:48.921000\t2022-05-08T00:30:49.021000\t0 microseconds  \t50471\t1\tgreen\n",
      "(52354, 52376, 2640.0, 2625.0)\t2022-05-08T00:30:49.108999\t2022-05-08T00:30:49.208999\t175999 microseconds\t50477\t1\tred\n",
      "(52377, 52381, 2610.0, 2625.0)\t2022-05-08T00:30:49.116999\t2022-05-08T00:30:49.216999\t8000 microseconds\t50477\t1\tgreen\n",
      "(52382, 52382, 2640.0, 2625.0)\t2022-05-08T00:30:49.135999\t2022-05-08T00:30:49.235999\t0 microseconds  \t50478\t-1\tred\n",
      "(52383, 53037, 2610.0, 2625.0)\t2022-05-08T00:31:00.807000\t2022-05-08T00:31:00.907000\t11645001 microseconds\t50822\t-1\tgreen\n",
      "(53038, 53048, 2640.0, 2625.0)\t2022-05-08T00:31:00.807000\t2022-05-08T00:31:00.907000\t0 microseconds  \t50822\t-1\tred\n",
      "(53049, 53049, 2610.0, 2625.0)\t2022-05-08T00:31:00.815000\t2022-05-08T00:31:00.915000\t0 microseconds  \t50822\t1\tgreen\n",
      "(53050, 53064, 2640.0, 2625.0)\t2022-05-08T00:31:00.846999\t2022-05-08T00:31:00.946999\t31999 microseconds\t50823\t1\tred\n",
      "(53065, 53066, 2610.0, 2625.0)\t2022-05-08T00:31:00.908000\t2022-05-08T00:31:01.008000\t26000 microseconds\t50825\t1\tgreen\n",
      "(53067, 53079, 2640.0, 2625.0)\t2022-05-08T00:31:00.912000\t2022-05-08T00:31:01.012000\t4000 microseconds\t50825\t-1\tred\n",
      "(53080, 53080, 2610.0, 2625.0)\t2022-05-08T00:31:00.918000\t2022-05-08T00:31:01.018000\t0 microseconds  \t50825\t1\tgreen\n",
      "(53081, 53696, 2640.0, 2625.0)\t2022-05-08T00:31:10.761000\t2022-05-08T00:31:10.861000\t9839000 microseconds\t51118\t1\tred\n",
      "(53697, 54259, 2610.0, 2625.0)\t2022-05-08T00:31:49.976000\t2022-05-08T00:31:50.076000\t39215000 microseconds\t52235\t1\tgreen\n",
      "(54260, 54926, 2640.0, 2625.0)\t2022-05-08T00:32:39.262000\t2022-05-08T00:32:39.362000\t49286000 microseconds\t53622\t1\tred\n",
      "(54927, 56529, 2610.0, 2625.0)\t2022-05-08T00:33:46.282000\t2022-05-08T00:33:46.382000\t67020000 microseconds\t55494\t1\tgreen\n",
      "(56530, 56576, 2640.0, 2625.0)\t2022-05-08T00:33:46.932000\t2022-05-08T00:33:47.032000\t634000 microseconds\t55513\t1\tred\n",
      "(56577, 56607, 2610.0, 2625.0)\t2022-05-08T00:33:48.202000\t2022-05-08T00:33:48.302000\t1270000 microseconds\t55551\t1\tgreen\n",
      "(56608, 56631, 2640.0, 2625.0)\t2022-05-08T00:33:48.811000\t2022-05-08T00:33:48.911000\t609000 microseconds\t55569\t1\tred\n",
      "(56632, 56684, 2610.0, 2625.0)\t2022-05-08T00:33:53.371000\t2022-05-08T00:33:53.471000\t4560000 microseconds\t55703\t1\tgreen\n",
      "(56685, 56720, 2640.0, 2625.0)\t2022-05-08T00:33:53.854000\t2022-05-08T00:33:53.954000\t483000 microseconds\t55717\t1\tred\n",
      "(56721, 56723, 2610.0, 2625.0)\t2022-05-08T00:33:53.854000\t2022-05-08T00:33:53.954000\t0 microseconds  \t55717\t1\tgreen\n",
      "(56724, 56726, 2640.0, 2625.0)\t2022-05-08T00:33:53.865000\t2022-05-08T00:33:53.965000\t0 microseconds  \t55717\t-1\tred\n",
      "(56727, 56986, 2610.0, 2625.0)\t2022-05-08T00:34:10.563000\t2022-05-08T00:34:10.663000\t16698000 microseconds\t56187\t-1\tgreen\n",
      "(56987, 57530, 2640.0, 2625.0)\t2022-05-08T00:34:21.610000\t2022-05-08T00:34:21.710000\t11047000 microseconds\t56500\t-1\tred\n",
      "(57531, 57827, 2610.0, 2625.0)\t2022-05-08T00:34:40.221000\t2022-05-08T00:34:40.321000\t18611000 microseconds\t57017\t-1\tgreen\n",
      "(57828, 57828, 2640.0, 2625.0)\t2022-05-08T00:34:40.221000\t2022-05-08T00:34:40.321000\t0 microseconds  \t57017\t-1\tred\n",
      "(57829, 57838, 2610.0, 2625.0)\t2022-05-08T00:34:40.313000\t2022-05-08T00:34:40.413000\t88000 microseconds\t57020\t-1\tgreen\n",
      "(57839, 58202, 2640.0, 2625.0)\t2022-05-08T00:35:00.281000\t2022-05-08T00:35:00.381000\t19968000 microseconds\t57594\t-1\tred\n",
      "(58203, 58207, 2610.0, 2625.0)\t2022-05-08T00:35:00.296999\t2022-05-08T00:35:00.396999\t7999 microseconds\t57595\t1\tgreen\n",
      "(58208, 58209, 2640.0, 2625.0)\t2022-05-08T00:35:00.296999\t2022-05-08T00:35:00.396999\t0 microseconds  \t57595\t-1\tred\n",
      "(58210, 58210, 2610.0, 2625.0)\t2022-05-08T00:35:00.302000\t2022-05-08T00:35:00.402000\t0 microseconds  \t57595\t1\tgreen\n",
      "(58211, 58245, 2640.0, 2625.0)\t2022-05-08T00:35:00.304000\t2022-05-08T00:35:00.404000\t2000 microseconds\t57595\t-1\tred\n",
      "(58246, 58355, 2610.0, 2625.0)\t2022-05-08T00:35:04.656000\t2022-05-08T00:35:04.756000\t4350000 microseconds\t57721\t-1\tgreen\n",
      "(58356, 58467, 2640.0, 2625.0)\t2022-05-08T00:35:06.785000\t2022-05-08T00:35:06.885000\t2129000 microseconds\t57782\t-1\tred\n",
      "(58468, 58713, 2610.0, 2625.0)\t2022-05-08T00:35:23.808000\t2022-05-08T00:35:23.908000\t17023000 microseconds\t58266\t-1\tgreen\n",
      "(58714, 59150, 2640.0, 2625.0)\t2022-05-08T00:35:53.421000\t2022-05-08T00:35:53.521000\t29613000 microseconds\t59087\t-1\tred\n",
      "(59151, 59288, 2610.0, 2625.0)\t2022-05-08T00:35:58.311000\t2022-05-08T00:35:58.411000\t4890000 microseconds\t59231\t-1\tgreen\n",
      "(59289, 59297, 2640.0, 2625.0)\t2022-05-08T00:35:58.322000\t2022-05-08T00:35:58.422000\t11000 microseconds\t59231\t-1\tred\n",
      "(59298, 60185, 2610.0, 2625.0)\t2022-05-08T00:36:44.455999\t2022-05-08T00:36:44.555999\t46110999 microseconds\t60522\t-1\tgreen\n",
      "(60186, 65263, 2640.0, 2625.0)\t2022-05-08T00:40:34.371000\t2022-05-08T00:40:34.471000\t229915001 microseconds\t67049\t-1\tred\n",
      "(65264, 65317, 2610.0, 2625.0)\t2022-05-08T00:40:35.327000\t2022-05-08T00:40:35.427000\t956000 microseconds\t67078\t-1\tgreen\n",
      "(65318, 65474, 2640.0, 2625.0)\t2022-05-08T00:40:49.266000\t2022-05-08T00:40:49.366000\t13922000 microseconds\t67471\t-1\tred\n",
      "(65475, 65740, 2610.0, 2625.0)\t2022-05-08T00:40:59.224000\t2022-05-08T00:40:59.324000\t9958000 microseconds\t67765\t-1\tgreen\n",
      "(65741, 66341, 2640.0, 2625.0)\t2022-05-08T00:41:31.366000\t2022-05-08T00:41:31.466000\t32142000 microseconds\t68680\t-1\tred\n",
      "(66342, 66657, 2610.0, 2625.0)\t2022-05-08T00:41:39.298000\t2022-05-08T00:41:39.398000\t7930000 microseconds\t68919\t-1\tgreen\n",
      "(66658, 67232, 2640.0, 2625.0)\t2022-05-08T00:42:19.007000\t2022-05-08T00:42:19.107000\t39709000 microseconds\t70038\t-1\tred\n",
      "(67233, 67558, 2610.0, 2625.0)\t2022-05-08T00:42:37.888000\t2022-05-08T00:42:37.988000\t18859000 microseconds\t70580\t-1\tgreen\n",
      "(67559, 76557, 2640.0, 2625.0)\t2022-05-08T00:49:39.882999\t2022-05-08T00:49:39.982999\t421968999 microseconds\t82349\t-1\tred\n",
      "(76558, 76586, 2610.0, 2625.0)\t2022-05-08T00:49:39.890999\t2022-05-08T00:49:39.990999\t8000 microseconds\t82349\t1\tgreen\n",
      "(76587, 76587, 2640.0, 2625.0)\t2022-05-08T00:49:39.900999\t2022-05-08T00:49:40.000999\t0 microseconds  \t82350\t-1\tred\n",
      "(76588, 76690, 2610.0, 2625.0)\t2022-05-08T00:49:43.136000\t2022-05-08T00:49:43.236000\t3222000 microseconds\t82446\t-1\tgreen\n",
      "(76691, 76747, 2640.0, 2625.0)\t2022-05-08T00:49:46.748000\t2022-05-08T00:49:46.848000\t3612000 microseconds\t82550\t-1\tred\n",
      "(76748, 76922, 2610.0, 2625.0)\t2022-05-08T00:49:56.080000\t2022-05-08T00:49:56.180000\t9332000 microseconds\t82819\t-1\tgreen\n",
      "(76923, 77005, 2640.0, 2625.0)\t2022-05-08T00:49:59.251000\t2022-05-08T00:49:59.351000\t3171000 microseconds\t82914\t-1\tred\n",
      "(77006, 77229, 2610.0, 2625.0)\t2022-05-08T00:50:07.383000\t2022-05-08T00:50:07.483000\t8132000 microseconds\t83153\t-1\tgreen\n",
      "(77230, 77397, 2640.0, 2625.0)\t2022-05-08T00:50:16.845999\t2022-05-08T00:50:16.945999\t9462999 microseconds\t83419\t-1\tred\n",
      "(77398, 77406, 2610.0, 2625.0)\t2022-05-08T00:50:16.848000\t2022-05-08T00:50:16.948000\t2001 microseconds\t83419\t1\tgreen\n",
      "(77407, 77739, 2640.0, 2625.0)\t2022-05-08T00:50:38.092000\t2022-05-08T00:50:38.192000\t21232000 microseconds\t84016\t1\tred\n",
      "(77740, 99999, 2625.0, 2610.0)\t2022-05-08T01:01:46.509000\t2022-05-08T01:01:46.609000\t668415001 microseconds\t102922\t1\tred\n"
     ]
    }
   ],
   "source": [
    "s = 0\n",
    "Signal = np.zeros(len(S.DT))\n",
    "\n",
    "for c in C:\n",
    "    color = 'green' if c[3] > c[2] else 'red'\n",
    "    duration = T.DT[c[1]] - T.DT[c[0]]\n",
    "    tm = T.DT[c[1]] + delay\n",
    "    k = np.searchsorted(S.DT, tm)\n",
    "    if duration < np.timedelta64(10000, 'μs'):\n",
    "        if c[3] > c[2]:\n",
    "            s = 1\n",
    "        elif c[3] < c[2]:\n",
    "            s = -1\n",
    "    if k < len(Signal):\n",
    "        Signal[k] = s\n",
    "\n",
    "    print(f'{str(c): <26}', T.DT[c[1]], tm, f'{duration: <16}', k, s, color, sep='\\t')"
   ]
  },
  {
   "cell_type": "code",
   "execution_count": 10,
   "id": "db2174e7",
   "metadata": {
    "collapsed": false,
    "execution": {
     "iopub.execute_input": "2022-06-22T09:54:54.141788Z",
     "iopub.status.busy": "2022-06-22T09:54:54.141788Z",
     "iopub.status.idle": "2022-06-22T09:54:55.223478Z",
     "shell.execute_reply": "2022-06-22T09:54:55.223478Z",
     "shell.execute_reply.started": "2022-06-22T09:54:54.141788Z"
    },
    "jupyter": {
     "outputs_hidden": false
    },
    "pycharm": {
     "name": "#%%\n"
    },
    "tags": []
   },
   "outputs": [
    {
     "data": {
      "text/plain": [
       "rec.array([(16438, '2022-05-08T00:10:36.622000', 2639.86010742, 2639.83007812, 16439, '2022-05-08T00:10:36.658000', 2639.80004883, 2639.83007812,  1.),\n",
       "           (50472, '2022-05-08T00:30:49.057999', 2625.01000977, 2625.        , 50479, '2022-05-08T00:30:49.285999', 2624.35009766, 2624.45019531,  1.),\n",
       "           (50823, '2022-05-08T00:31:00.953999', 2625.33007812, 2625.22998047, 55718, '2022-05-08T00:33:54.014000', 2624.82006836, 2624.84008789,  1.),\n",
       "           (56188, '2022-05-08T00:34:10.736000', 2625.05004883, 2625.05517578, 82350, '2022-05-08T00:49:40.028000', 2624.92993164, 2624.81494141, -1.),\n",
       "           (82351, '2022-05-08T00:49:40.060000', 2624.89990234, 2624.91503906, 83420, '2022-05-08T00:50:17.009999', 2625.01000977, 2625.00488281, -1.)],\n",
       "          dtype=[('X0', '<i8'), ('T0', '<M8[us]'), ('Price0', '<f8'), ('MidPrice0', '<f8'), ('X1', '<i8'), ('T1', '<M8[us]'), ('Price1', '<f8'), ('MidPrice1', '<f8'), ('Size', '<f8')])"
      ]
     },
     "execution_count": 10,
     "metadata": {},
     "output_type": "execute_result"
    }
   ],
   "source": [
    "trades = npBacktestMarket(S.DT.astype(np.int64), S.A, S.B, Signal, 0)\n",
    "trades"
   ]
  },
  {
   "cell_type": "code",
   "execution_count": 11,
   "id": "f1e5ed6e",
   "metadata": {
    "collapsed": false,
    "execution": {
     "iopub.execute_input": "2022-06-22T09:54:55.224478Z",
     "iopub.status.busy": "2022-06-22T09:54:55.224478Z",
     "iopub.status.idle": "2022-06-22T09:54:56.696736Z",
     "shell.execute_reply": "2022-06-22T09:54:56.696736Z",
     "shell.execute_reply.started": "2022-06-22T09:54:55.224478Z"
    },
    "jupyter": {
     "outputs_hidden": false
    },
    "pycharm": {
     "name": "#%%\n"
    },
    "tags": []
   },
   "outputs": [
    {
     "data": {
      "application/vnd.jupyter.widget-view+json": {
       "model_id": "99193c8175f84bd3bbe024c40e177480",
       "version_major": 2,
       "version_minor": 0
      },
      "text/plain": [
       "FigureWidgetResampler({\n",
       "    'data': [{'marker': {'color': 'red',\n",
       "                         'opacity': 0.2,\n",
       "    …"
      ]
     },
     "metadata": {},
     "output_type": "display_data"
    }
   ],
   "source": [
    "# timed chart\n",
    "fig = chartFigure(rows=2,\n",
    "    Sell=dict(x=Sell.DT, y=Sell.Price, color='red', mode='markers', size=-symlog(Sell.Size), opacity=0.2),\n",
    "    Buy=dict(x=Buy.DT, y=Buy.Price, color='green', mode='markers', size=symlog(Buy.Size), opacity=0.2),\n",
    "    Ask=dict(x=S.DT, y=S.A, color='red', opacity=0.2, shape='hv', mode='lines'),\n",
    "    Bid=dict(x=S.DT, y=S.B, color='green', opacity=0.2, shape='hv', mode='lines'),\n",
    "    Signal=dict(x=S.DT, y=Signal, row=2, color='magenta', shape='hv'),\n",
    "    **chartTrades(trades)\n",
    ")\n",
    "fig"
   ]
  },
  {
   "cell_type": "code",
   "execution_count": 12,
   "id": "4c753a17",
   "metadata": {
    "collapsed": false,
    "execution": {
     "iopub.execute_input": "2022-06-22T09:54:56.698736Z",
     "iopub.status.busy": "2022-06-22T09:54:56.698736Z",
     "iopub.status.idle": "2022-06-22T09:54:56.718740Z",
     "shell.execute_reply": "2022-06-22T09:54:56.718740Z",
     "shell.execute_reply.started": "2022-06-22T09:54:56.698736Z"
    },
    "jupyter": {
     "outputs_hidden": false
    },
    "pycharm": {
     "name": "#%%\n"
    },
    "tags": []
   },
   "outputs": [],
   "source": [
    "fig.layout.shapes = [{\n",
    "    'fillcolor': 'green' if c[3] > c[2] else 'red',\n",
    "    'line': {'color': 'black', 'width': 2},\n",
    "    'opacity': 0.15,\n",
    "    'type': 'rect',\n",
    "    'x0': str(T.DT[int(c[0])]),\n",
    "    'x1': str(T.DT[int(c[1])]),\n",
    "    'y0': c[2],\n",
    "    'y1': c[3]\n",
    "} for c in C]"
   ]
  },
  {
   "cell_type": "code",
   "execution_count": null,
   "id": "30841b90-78a2-45c2-945d-95b6c37442ee",
   "metadata": {},
   "outputs": [],
   "source": []
  }
 ],
 "metadata": {
  "kernelspec": {
   "display_name": "Python 3 (ipykernel)",
   "language": "python",
   "name": "python3"
  },
  "language_info": {
   "codemirror_mode": {
    "name": "ipython",
    "version": 3
   },
   "file_extension": ".py",
   "mimetype": "text/x-python",
   "name": "python",
   "nbconvert_exporter": "python",
   "pygments_lexer": "ipython3",
   "version": "3.9.12"
  }
 },
 "nbformat": 4,
 "nbformat_minor": 5
}

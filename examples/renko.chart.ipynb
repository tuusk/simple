{
 "cells": [
  {
   "cell_type": "code",
   "execution_count": 1,
   "id": "d645f44e",
   "metadata": {
    "collapsed": false,
    "execution": {
     "iopub.execute_input": "2022-06-07T11:42:25.611936Z",
     "iopub.status.busy": "2022-06-07T11:42:25.611936Z",
     "iopub.status.idle": "2022-06-07T11:42:26.486133Z",
     "shell.execute_reply": "2022-06-07T11:42:26.486133Z",
     "shell.execute_reply.started": "2022-06-07T11:42:25.611936Z"
    },
    "jupyter": {
     "outputs_hidden": false
    },
    "pycharm": {
     "name": "#%%\n"
    },
    "tags": []
   },
   "outputs": [],
   "source": [
    "import numpy as np\n",
    "import pandas as pd\n",
    "from simple.ohlc import renko, midPrice\n",
    "from simple.plotly import chartFigure\n",
    "from simple.funcs import symlog\n",
    "from simple.backtest import npBacktestIOC"
   ]
  },
  {
   "cell_type": "code",
   "execution_count": 2,
   "id": "bd27d73e",
   "metadata": {
    "collapsed": false,
    "execution": {
     "iopub.execute_input": "2022-06-07T11:42:26.487133Z",
     "iopub.status.busy": "2022-06-07T11:42:26.487133Z",
     "iopub.status.idle": "2022-06-07T11:42:26.507137Z",
     "shell.execute_reply": "2022-06-07T11:42:26.507137Z",
     "shell.execute_reply.started": "2022-06-07T11:42:26.487133Z"
    },
    "jupyter": {
     "outputs_hidden": false
    },
    "pycharm": {
     "name": "#%%\n"
    }
   },
   "outputs": [
    {
     "data": {
      "text/plain": [
       "95820"
      ]
     },
     "execution_count": 2,
     "metadata": {},
     "output_type": "execute_result"
    }
   ],
   "source": [
    "T = np.load('data/ETHUSDT.2022-05-08.tick.npz')['ETHUSDT'].view(np.recarray)\n",
    "len(T)"
   ]
  },
  {
   "cell_type": "code",
   "execution_count": 3,
   "id": "a4305193",
   "metadata": {
    "collapsed": false,
    "execution": {
     "iopub.execute_input": "2022-06-07T11:42:26.508138Z",
     "iopub.status.busy": "2022-06-07T11:42:26.508138Z",
     "iopub.status.idle": "2022-06-07T11:42:26.515139Z",
     "shell.execute_reply": "2022-06-07T11:42:26.515139Z",
     "shell.execute_reply.started": "2022-06-07T11:42:26.508138Z"
    },
    "jupyter": {
     "outputs_hidden": false
    },
    "pycharm": {
     "name": "#%%\n"
    }
   },
   "outputs": [
    {
     "data": {
      "text/plain": [
       "rec.array([('2022-05-08T00:01:00.335000', 0, 2636.,  6.),\n",
       "           ('2022-05-08T00:01:00.335000', 1, 2636.,  4.),\n",
       "           ('2022-05-08T00:01:00.668000', 2, 2636., 96.),\n",
       "           ('2022-05-08T00:01:00.668000', 3, 2636.,  2.),\n",
       "           ('2022-05-08T00:01:00.668000', 4, 2636.,  2.)],\n",
       "          dtype={'names':['DateTimeA','LocalTimeA','PriceA','VolumeA'], 'formats':['<M8[us]','<i8','<f8','<f8'], 'offsets':[0,8,16,24], 'itemsize':40})"
      ]
     },
     "execution_count": 3,
     "metadata": {},
     "output_type": "execute_result"
    }
   ],
   "source": [
    "Buy = T[T.VolumeA > 0]\n",
    "Sell = T[T.VolumeA < 0]\n",
    "Buy[:5]"
   ]
  },
  {
   "cell_type": "code",
   "execution_count": 4,
   "id": "10390b68",
   "metadata": {
    "collapsed": false,
    "execution": {
     "iopub.execute_input": "2022-06-07T11:42:26.516140Z",
     "iopub.status.busy": "2022-06-07T11:42:26.516140Z",
     "iopub.status.idle": "2022-06-07T11:42:26.529142Z",
     "shell.execute_reply": "2022-06-07T11:42:26.529142Z",
     "shell.execute_reply.started": "2022-06-07T11:42:26.516140Z"
    },
    "jupyter": {
     "outputs_hidden": false
    },
    "pycharm": {
     "name": "#%%\n"
    }
   },
   "outputs": [
    {
     "data": {
      "text/plain": [
       "rec.array([('2022-05-08T00:01:00.007000', 2636., 2635.99),\n",
       "           ('2022-05-08T00:01:00.043000', 2636., 2635.99),\n",
       "           ('2022-05-08T00:01:00.079000', 2636., 2635.99),\n",
       "           ('2022-05-08T00:01:00.117000', 2636., 2635.99),\n",
       "           ('2022-05-08T00:01:00.149000', 2636., 2635.99)],\n",
       "          dtype={'names':['DT','A','B'], 'formats':['<M8[us]','<f4','<f4'], 'offsets':[0,8,16], 'itemsize':24})"
      ]
     },
     "execution_count": 4,
     "metadata": {},
     "output_type": "execute_result"
    }
   ],
   "source": [
    "S = np.load('data/ETHUSDT.2022-05-08.bidask.npz')['ETHUSDT'].view(np.recarray)\n",
    "S[:5]"
   ]
  },
  {
   "cell_type": "code",
   "execution_count": 5,
   "id": "1bf1c0c2",
   "metadata": {
    "collapsed": false,
    "execution": {
     "iopub.execute_input": "2022-06-07T11:42:26.530142Z",
     "iopub.status.busy": "2022-06-07T11:42:26.530142Z",
     "iopub.status.idle": "2022-06-07T11:42:26.534143Z",
     "shell.execute_reply": "2022-06-07T11:42:26.534143Z",
     "shell.execute_reply.started": "2022-06-07T11:42:26.530142Z"
    },
    "jupyter": {
     "outputs_hidden": false
    },
    "pycharm": {
     "name": "#%%\n"
    }
   },
   "outputs": [
    {
     "data": {
      "text/plain": [
       "(95820, 99941)"
      ]
     },
     "execution_count": 5,
     "metadata": {},
     "output_type": "execute_result"
    }
   ],
   "source": [
    "len(T), len(S)"
   ]
  },
  {
   "cell_type": "code",
   "execution_count": null,
   "outputs": [],
   "source": [
    "C = renko(T, 15)\n",
    "C[:5]"
   ],
   "metadata": {
    "collapsed": false,
    "pycharm": {
     "name": "#%%\n"
    }
   }
  },
  {
   "cell_type": "code",
   "execution_count": null,
   "outputs": [],
   "source": [
    "len(C)"
   ],
   "metadata": {
    "collapsed": false,
    "pycharm": {
     "name": "#%%\n"
    }
   }
  },
  {
   "cell_type": "code",
   "execution_count": null,
   "outputs": [],
   "source": [
    "delay = np.timedelta64(10, 'ms')"
   ],
   "metadata": {
    "collapsed": false,
    "pycharm": {
     "name": "#%%\n"
    }
   }
  },
  {
   "cell_type": "code",
   "execution_count": null,
   "outputs": [],
   "source": [
    "signal = 0\n",
    "signalA = np.zeros(len(S.DT))\n",
    "\n",
    "for c in C:\n",
    "    color = 'green' if c[3] > c[2] else 'red'\n",
    "    duration = T.DateTimeA[c[1]] - T.DateTimeA[c[0]]\n",
    "    tm = T.DateTimeA[c[1]] + delay\n",
    "    k = np.searchsorted(S.DT, tm)\n",
    "    if duration < np.timedelta64(10000, 'μs'):\n",
    "        if c[3] > c[2]:\n",
    "            signal = 1\n",
    "        elif c[3] < c[2]:\n",
    "            signal = -1\n",
    "    if k < len(signalA):\n",
    "        signalA[k] = signal\n",
    "        \n",
    "    print(f'{str(c): <26}', T.DateTimeA[c[1]], tm, f'{duration: <16}', k, signal, color, sep='\\t')"
   ],
   "metadata": {
    "collapsed": false,
    "pycharm": {
     "name": "#%%\n"
    }
   }
  },
  {
   "cell_type": "code",
   "execution_count": null,
   "outputs": [],
   "source": [
    "trades = npBacktestIOC(S.DT.astype(np.int64), S.A, S.B, signalA, 0)\n",
    "trades"
   ],
   "metadata": {
    "collapsed": false,
    "pycharm": {
     "name": "#%%\n"
    }
   }
  },
  {
   "cell_type": "code",
   "execution_count": null,
   "outputs": [],
   "source": [
    "Long = trades[trades.Size > 0]\n",
    "Short = trades[trades.Size < 0]"
   ],
   "metadata": {
    "collapsed": false,
    "pycharm": {
     "name": "#%%\n"
    }
   }
  },
  {
   "cell_type": "code",
   "execution_count": null,
   "outputs": [],
   "source": [
    "# timed chart\n",
    "fig = chartFigure(rows=2,\n",
    "    Sell=dict(x=Sell.DateTimeA, y=Sell.PriceA, color='red', mode='markers', size=-symlog(Sell.VolumeA)+3, opacity=0.2),\n",
    "    Buy=dict(x=Buy.DateTimeA, y=Buy.PriceA, color='green', mode='markers', size=symlog(Buy.VolumeA)+3, opacity=0.2),\n",
    "    Ask=dict(x=S.DT, y=S.A, color='red', opacity=0.2, shape='hv', mode='lines'),\n",
    "    Bid=dict(x=S.DT, y=S.B, color='green', opacity=0.2, shape='hv', mode='lines'),\n",
    "\n",
    "    EnterLong=dict(x=Long.T0, y=Long.Price0, mode='markers',\n",
    "               marker=dict(symbol='triangle-up', size=12, line_color='darkgreen', line_width=1, color='green')),\n",
    "    ExitLong=dict(x=Long.T1, y=Long.Price1, mode='markers',\n",
    "               marker=dict(symbol='x', size=10, line_color='darkgreen', line_width=1, color='green')),\n",
    "\n",
    "    EnterShort=dict(x=Short.T0, y=Short.Price0, mode='markers',\n",
    "               marker=dict(symbol='triangle-down', size=12, line_color='darkred', line_width=1, color='red')),\n",
    "    ExitShort=dict(x=Short.T1, y=Short.Price1, mode='markers', \n",
    "               marker=dict(symbol='x', size=10, line_color='darkred', line_width=1, color='red')),\n",
    "    Signal=dict(x=S.DT, y=signalA, row=2, color='magenta', shape='hv')\n",
    ")\n",
    "fig"
   ],
   "metadata": {
    "collapsed": false,
    "pycharm": {
     "name": "#%%\n"
    }
   }
  },
  {
   "cell_type": "code",
   "execution_count": 13,
   "id": "4c753a17",
   "metadata": {
    "collapsed": false,
    "execution": {
     "iopub.execute_input": "2022-06-07T11:42:29.580827Z",
     "iopub.status.busy": "2022-06-07T11:42:29.580827Z",
     "iopub.status.idle": "2022-06-07T11:42:29.600832Z",
     "shell.execute_reply": "2022-06-07T11:42:29.600832Z",
     "shell.execute_reply.started": "2022-06-07T11:42:29.580827Z"
    },
    "jupyter": {
     "outputs_hidden": false
    },
    "pycharm": {
     "name": "#%%\n"
    },
    "tags": []
   },
   "outputs": [],
   "source": [
    "fig.layout.shapes = [{\n",
    "     'fillcolor': 'green' if c[3] > c[2] else 'red',\n",
    "     'line': {'color': 'black', 'width': 2},\n",
    "     'opacity': 0.15,\n",
    "     'type': 'rect',\n",
    "     'x0': str(T.DateTimeA[int(c[0])]),\n",
    "     'x1': str(T.DateTimeA[int(c[1])]),\n",
    "     'y0': c[2],\n",
    "     'y1': c[3]\n",
    " } for c in C]"
   ]
  },
  {
   "cell_type": "code",
   "execution_count": null,
   "id": "30841b90-78a2-45c2-945d-95b6c37442ee",
   "metadata": {},
   "outputs": [],
   "source": []
  }
 ],
 "metadata": {
  "kernelspec": {
   "display_name": "Python 3 (ipykernel)",
   "language": "python",
   "name": "python3"
  },
  "language_info": {
   "codemirror_mode": {
    "name": "ipython",
    "version": 3
   },
   "file_extension": ".py",
   "mimetype": "text/x-python",
   "name": "python",
   "nbconvert_exporter": "python",
   "pygments_lexer": "ipython3",
   "version": "3.9.12"
  }
 },
 "nbformat": 4,
 "nbformat_minor": 5
}
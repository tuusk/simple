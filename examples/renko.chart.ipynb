{
 "cells": [
  {
   "cell_type": "code",
   "execution_count": 1,
   "id": "57dcaf97-5385-4655-b3e4-046c5816be33",
   "metadata": {
    "execution": {
     "iopub.execute_input": "2022-06-03T11:43:43.799754Z",
     "iopub.status.busy": "2022-06-03T11:43:43.799754Z",
     "iopub.status.idle": "2022-06-03T11:43:45.025030Z",
     "shell.execute_reply": "2022-06-03T11:43:45.025030Z",
     "shell.execute_reply.started": "2022-06-03T11:43:43.799754Z"
    },
    "pycharm": {
     "name": "#%%\n"
    },
    "tags": []
   },
   "outputs": [],
   "source": [
    "import numpy as np\n",
    "import pandas as pd\n",
    "from simple.renko import Renko\n",
    "from simple.plotly import chartFigure"
   ]
  },
  {
   "cell_type": "code",
   "execution_count": 2,
   "id": "22fb8f9e",
   "metadata": {
    "collapsed": false,
    "execution": {
     "iopub.execute_input": "2022-06-03T11:43:45.026030Z",
     "iopub.status.busy": "2022-06-03T11:43:45.026030Z",
     "iopub.status.idle": "2022-06-03T11:43:45.136195Z",
     "shell.execute_reply": "2022-06-03T11:43:45.136195Z",
     "shell.execute_reply.started": "2022-06-03T11:43:45.026030Z"
    },
    "jupyter": {
     "outputs_hidden": false
    },
    "pycharm": {
     "name": "#%%\n"
    }
   },
   "outputs": [
    {
     "data": {
      "text/plain": [
       "100000"
      ]
     },
     "execution_count": 2,
     "metadata": {},
     "output_type": "execute_result"
    }
   ],
   "source": [
    "T = np.load('data/tick.npz')['BTCUSDT'][:100000]\n",
    "len(T)"
   ]
  },
  {
   "cell_type": "code",
   "execution_count": 3,
   "id": "adc116c6",
   "metadata": {
    "collapsed": false,
    "execution": {
     "iopub.execute_input": "2022-06-03T11:43:45.137195Z",
     "iopub.status.busy": "2022-06-03T11:43:45.137195Z",
     "iopub.status.idle": "2022-06-03T11:43:45.232363Z",
     "shell.execute_reply": "2022-06-03T11:43:45.232363Z",
     "shell.execute_reply.started": "2022-06-03T11:43:45.137195Z"
    },
    "jupyter": {
     "outputs_hidden": false
    },
    "pycharm": {
     "name": "#%%\n"
    }
   },
   "outputs": [
    {
     "data": {
      "text/plain": [
       "[{'type': 'first', 'open': 37265.0, 'close': 37265.0},\n",
       " {'type': 'down', 'open': 37265.0, 'close': 37240.0},\n",
       " {'type': 'down', 'open': 37240.0, 'close': 37215.0},\n",
       " {'type': 'down', 'open': 37215.0, 'close': 37190.0},\n",
       " {'type': 'down', 'open': 37190.0, 'close': 37165.0},\n",
       " {'type': 'down', 'open': 37165.0, 'close': 37140.0},\n",
       " {'type': 'up', 'open': 37165.0, 'close': 37190.0, 'low': 37130.0},\n",
       " {'type': 'up', 'open': 37190.0, 'close': 37215.0},\n",
       " {'type': 'up', 'open': 37215.0, 'close': 37240.0},\n",
       " {'type': 'up', 'open': 37240.0, 'close': 37265.0}]"
      ]
     },
     "execution_count": 3,
     "metadata": {},
     "output_type": "execute_result"
    }
   ],
   "source": [
    "rnk = Renko(25, T['PriceA'])\n",
    "rnk.create_renko()\n",
    "\n",
    "rnk.bricks[:10]"
   ]
  },
  {
   "cell_type": "code",
   "execution_count": 4,
   "id": "cd509cdf",
   "metadata": {
    "collapsed": false,
    "execution": {
     "iopub.execute_input": "2022-06-03T11:43:45.233355Z",
     "iopub.status.busy": "2022-06-03T11:43:45.232363Z",
     "iopub.status.idle": "2022-06-03T11:43:45.236356Z",
     "shell.execute_reply": "2022-06-03T11:43:45.236356Z",
     "shell.execute_reply.started": "2022-06-03T11:43:45.232363Z"
    },
    "jupyter": {
     "outputs_hidden": false
    },
    "pycharm": {
     "name": "#%%\n"
    }
   },
   "outputs": [
    {
     "data": {
      "text/plain": [
       "0"
      ]
     },
     "execution_count": 4,
     "metadata": {},
     "output_type": "execute_result"
    }
   ],
   "source": [
    "len({})"
   ]
  },
  {
   "cell_type": "code",
   "execution_count": 5,
   "id": "9be4fc27",
   "metadata": {
    "collapsed": false,
    "execution": {
     "iopub.execute_input": "2022-06-03T11:43:45.237355Z",
     "iopub.status.busy": "2022-06-03T11:43:45.237355Z",
     "iopub.status.idle": "2022-06-03T11:43:45.258361Z",
     "shell.execute_reply": "2022-06-03T11:43:45.258361Z",
     "shell.execute_reply.started": "2022-06-03T11:43:45.237355Z"
    },
    "jupyter": {
     "outputs_hidden": false
    },
    "pycharm": {
     "name": "#%%\n"
    }
   },
   "outputs": [
    {
     "data": {
      "text/html": [
       "<div>\n",
       "<style scoped>\n",
       "    .dataframe tbody tr th:only-of-type {\n",
       "        vertical-align: middle;\n",
       "    }\n",
       "\n",
       "    .dataframe tbody tr th {\n",
       "        vertical-align: top;\n",
       "    }\n",
       "\n",
       "    .dataframe thead th {\n",
       "        text-align: right;\n",
       "    }\n",
       "</style>\n",
       "<table border=\"1\" class=\"dataframe\">\n",
       "  <thead>\n",
       "    <tr style=\"text-align: right;\">\n",
       "      <th></th>\n",
       "      <th>type</th>\n",
       "      <th>open</th>\n",
       "      <th>close</th>\n",
       "      <th>low</th>\n",
       "      <th>high</th>\n",
       "      <th>color</th>\n",
       "      <th>mid</th>\n",
       "    </tr>\n",
       "  </thead>\n",
       "  <tbody>\n",
       "    <tr>\n",
       "      <th>0</th>\n",
       "      <td>first</td>\n",
       "      <td>37265.0</td>\n",
       "      <td>37265.0</td>\n",
       "      <td>NaN</td>\n",
       "      <td>NaN</td>\n",
       "      <td>red</td>\n",
       "      <td>37265.0</td>\n",
       "    </tr>\n",
       "    <tr>\n",
       "      <th>1</th>\n",
       "      <td>down</td>\n",
       "      <td>37265.0</td>\n",
       "      <td>37240.0</td>\n",
       "      <td>NaN</td>\n",
       "      <td>NaN</td>\n",
       "      <td>red</td>\n",
       "      <td>37252.5</td>\n",
       "    </tr>\n",
       "    <tr>\n",
       "      <th>2</th>\n",
       "      <td>down</td>\n",
       "      <td>37240.0</td>\n",
       "      <td>37215.0</td>\n",
       "      <td>NaN</td>\n",
       "      <td>NaN</td>\n",
       "      <td>red</td>\n",
       "      <td>37227.5</td>\n",
       "    </tr>\n",
       "    <tr>\n",
       "      <th>3</th>\n",
       "      <td>down</td>\n",
       "      <td>37215.0</td>\n",
       "      <td>37190.0</td>\n",
       "      <td>NaN</td>\n",
       "      <td>NaN</td>\n",
       "      <td>red</td>\n",
       "      <td>37202.5</td>\n",
       "    </tr>\n",
       "    <tr>\n",
       "      <th>4</th>\n",
       "      <td>down</td>\n",
       "      <td>37190.0</td>\n",
       "      <td>37165.0</td>\n",
       "      <td>NaN</td>\n",
       "      <td>NaN</td>\n",
       "      <td>red</td>\n",
       "      <td>37177.5</td>\n",
       "    </tr>\n",
       "    <tr>\n",
       "      <th>...</th>\n",
       "      <td>...</td>\n",
       "      <td>...</td>\n",
       "      <td>...</td>\n",
       "      <td>...</td>\n",
       "      <td>...</td>\n",
       "      <td>...</td>\n",
       "      <td>...</td>\n",
       "    </tr>\n",
       "    <tr>\n",
       "      <th>688</th>\n",
       "      <td>up</td>\n",
       "      <td>36465.0</td>\n",
       "      <td>36490.0</td>\n",
       "      <td>NaN</td>\n",
       "      <td>NaN</td>\n",
       "      <td>green</td>\n",
       "      <td>36477.5</td>\n",
       "    </tr>\n",
       "    <tr>\n",
       "      <th>689</th>\n",
       "      <td>up</td>\n",
       "      <td>36490.0</td>\n",
       "      <td>36515.0</td>\n",
       "      <td>NaN</td>\n",
       "      <td>NaN</td>\n",
       "      <td>green</td>\n",
       "      <td>36502.5</td>\n",
       "    </tr>\n",
       "    <tr>\n",
       "      <th>690</th>\n",
       "      <td>up</td>\n",
       "      <td>36515.0</td>\n",
       "      <td>36540.0</td>\n",
       "      <td>NaN</td>\n",
       "      <td>NaN</td>\n",
       "      <td>green</td>\n",
       "      <td>36527.5</td>\n",
       "    </tr>\n",
       "    <tr>\n",
       "      <th>691</th>\n",
       "      <td>up</td>\n",
       "      <td>36540.0</td>\n",
       "      <td>36565.0</td>\n",
       "      <td>NaN</td>\n",
       "      <td>NaN</td>\n",
       "      <td>green</td>\n",
       "      <td>36552.5</td>\n",
       "    </tr>\n",
       "    <tr>\n",
       "      <th>692</th>\n",
       "      <td>up</td>\n",
       "      <td>36565.0</td>\n",
       "      <td>36590.0</td>\n",
       "      <td>NaN</td>\n",
       "      <td>NaN</td>\n",
       "      <td>green</td>\n",
       "      <td>36577.5</td>\n",
       "    </tr>\n",
       "  </tbody>\n",
       "</table>\n",
       "<p>693 rows × 7 columns</p>\n",
       "</div>"
      ],
      "text/plain": [
       "      type     open    close  low  high  color      mid\n",
       "0    first  37265.0  37265.0  NaN   NaN    red  37265.0\n",
       "1     down  37265.0  37240.0  NaN   NaN    red  37252.5\n",
       "2     down  37240.0  37215.0  NaN   NaN    red  37227.5\n",
       "3     down  37215.0  37190.0  NaN   NaN    red  37202.5\n",
       "4     down  37190.0  37165.0  NaN   NaN    red  37177.5\n",
       "..     ...      ...      ...  ...   ...    ...      ...\n",
       "688     up  36465.0  36490.0  NaN   NaN  green  36477.5\n",
       "689     up  36490.0  36515.0  NaN   NaN  green  36502.5\n",
       "690     up  36515.0  36540.0  NaN   NaN  green  36527.5\n",
       "691     up  36540.0  36565.0  NaN   NaN  green  36552.5\n",
       "692     up  36565.0  36590.0  NaN   NaN  green  36577.5\n",
       "\n",
       "[693 rows x 7 columns]"
      ]
     },
     "execution_count": 5,
     "metadata": {},
     "output_type": "execute_result"
    }
   ],
   "source": [
    "X = pd.DataFrame(rnk.bricks)\n",
    "X['color'] = np.where(X.type == 'up', 'green', 'red')\n",
    "X['mid'] = (X.close + X.open) / 2\n",
    "X"
   ]
  },
  {
   "cell_type": "code",
   "execution_count": 6,
   "id": "173eb32a",
   "metadata": {
    "collapsed": false,
    "execution": {
     "iopub.execute_input": "2022-06-03T11:43:45.259360Z",
     "iopub.status.busy": "2022-06-03T11:43:45.259360Z",
     "iopub.status.idle": "2022-06-03T11:43:45.627594Z",
     "shell.execute_reply": "2022-06-03T11:43:45.627594Z",
     "shell.execute_reply.started": "2022-06-03T11:43:45.259360Z"
    },
    "jupyter": {
     "outputs_hidden": false
    },
    "pycharm": {
     "name": "#%%\n"
    }
   },
   "outputs": [
    {
     "data": {
      "application/vnd.jupyter.widget-view+json": {
       "model_id": "8c692ec40dd2428b952aea2404e0f1e3",
       "version_major": 2,
       "version_minor": 0
      },
      "text/plain": [
       "FigureWidgetResampler({\n",
       "    'data': [{'marker': {'color': array(['red', 'red', 'red', ..., 'green', 'green', '…"
      ]
     },
     "metadata": {},
     "output_type": "display_data"
    }
   ],
   "source": [
    "chartFigure(Renko=dict(mode='markers', y=X.mid, marker=dict(symbol='square', size=5, line_width=1, line_color=\"black\", color=X.color)))"
   ]
  },
  {
   "cell_type": "code",
   "execution_count": null,
   "outputs": [],
   "source": [
    "chartFigure(Renko=dict(mode='markers', y=X.mid, marker=dict(symbol='square', size=5, line_width=1, line_color=\"black\", color=X.color)))"
   ],
   "metadata": {
    "collapsed": false,
    "pycharm": {
     "name": "#%%\n"
    }
   }
  },
  {
   "cell_type": "code",
   "execution_count": null,
   "outputs": [],
   "source": [],
   "metadata": {
    "collapsed": false,
    "pycharm": {
     "name": "#%%\n"
    }
   }
  },
  {
   "cell_type": "code",
   "execution_count": null,
   "id": "824c3abf-fbfe-4624-a82f-a5fbdcc63510",
   "metadata": {
    "pycharm": {
     "name": "#%%\n"
    }
   },
   "outputs": [],
   "source": []
  }
 ],
 "metadata": {
  "kernelspec": {
   "display_name": "Python 3 (ipykernel)",
   "language": "python",
   "name": "python3"
  },
  "language_info": {
   "codemirror_mode": {
    "name": "ipython",
    "version": 3
   },
   "file_extension": ".py",
   "mimetype": "text/x-python",
   "name": "python",
   "nbconvert_exporter": "python",
   "pygments_lexer": "ipython3",
   "version": "3.9.12"
  }
 },
 "nbformat": 4,
 "nbformat_minor": 5
}
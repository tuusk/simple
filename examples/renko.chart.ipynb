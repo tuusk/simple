{
 "cells": [
  {
   "cell_type": "code",
   "execution_count": null,
   "outputs": [],
   "source": [
    "import numpy as np\n",
    "import pandas as pd\n",
    "from simple.ohlc import renko, midPrice\n",
    "from simple.plotly import chartFigure\n",
    "from simple.funcs import symlog\n",
    "from simple.backtest import npBacktestIOC, backtestIOC, getLong"
   ],
   "metadata": {
    "collapsed": false,
    "pycharm": {
     "name": "#%%\n"
    }
   }
  },
  {
   "cell_type": "code",
   "execution_count": null,
   "outputs": [],
   "source": [
    "T = np.load('data/ETHUSDT.2022-05-08.tick.npz')['ETHUSDT'].view(np.recarray)\n",
    "len(T)"
   ],
   "metadata": {
    "collapsed": false,
    "pycharm": {
     "name": "#%%\n"
    }
   }
  },
  {
   "cell_type": "code",
   "execution_count": null,
   "outputs": [],
   "source": [
    "Buy = T[T.VolumeA > 0]\n",
    "Sell = T[T.VolumeA < 0]\n",
    "Buy[:5]"
   ],
   "metadata": {
    "collapsed": false,
    "pycharm": {
     "name": "#%%\n"
    }
   }
  },
  {
   "cell_type": "code",
   "execution_count": null,
   "outputs": [],
   "source": [
    "S = np.load('data/ETHUSDT.2022-05-08.bidask.npz')['ETHUSDT'].view(np.recarray)\n",
    "S[:5]"
   ],
   "metadata": {
    "collapsed": false,
    "pycharm": {
     "name": "#%%\n"
    }
   }
  },
  {
   "cell_type": "code",
   "execution_count": null,
   "outputs": [],
   "source": [
    "len(T), len(S)"
   ],
   "metadata": {
    "collapsed": false,
    "pycharm": {
     "name": "#%%\n"
    }
   }
  },
  {
   "cell_type": "code",
   "execution_count": null,
   "outputs": [],
   "source": [
    "C = renko(T, 0.5)\n",
    "C[:5]"
   ],
   "metadata": {
    "collapsed": false,
    "pycharm": {
     "name": "#%%\n"
    }
   }
  },
  {
   "cell_type": "code",
   "execution_count": null,
   "outputs": [],
   "source": [
    "len(C)"
   ],
   "metadata": {
    "collapsed": false,
    "pycharm": {
     "name": "#%%\n"
    }
   }
  },
  {
   "cell_type": "code",
   "execution_count": null,
   "outputs": [],
   "source": [
    "P = pd.DataFrame(C, columns=['X0', 'X1', 'Price0', 'Price1'])\n",
    "P.head()"
   ],
   "metadata": {
    "collapsed": false,
    "pycharm": {
     "name": "#%%\n"
    }
   }
  },
  {
   "cell_type": "code",
   "execution_count": null,
   "outputs": [],
   "source": [
    "signal = np.zeros(len(S.DT))\n",
    "for c in C:\n",
    "    tm = T.DateTimeA[c[1]] - T.DateTimeA[c[0]]\n",
    "    if tm < np.timedelta64(10000, 'μs'):\n",
    "        k = np.searchsorted(S.DT, T.DateTimeA[c[1]])\n",
    "        signal[k] = 1 if c[3] > c[2] else - 1\n",
    "        print(c, tm, k)"
   ],
   "metadata": {
    "collapsed": false,
    "pycharm": {
     "name": "#%%\n"
    }
   }
  },
  {
   "cell_type": "code",
   "execution_count": null,
   "outputs": [],
   "source": [
    "backtestIOC(S.DT.astype(np.int64), S.A, S.B, signal, 0)"
   ],
   "metadata": {
    "collapsed": false,
    "pycharm": {
     "name": "#%%\n"
    }
   }
  },
  {
   "cell_type": "code",
   "execution_count": null,
   "outputs": [],
   "source": [
    "trades = npBacktestIOC(S.DT.astype(np.int64), S.A, S.B, signal, 0)\n",
    "trades"
   ],
   "metadata": {
    "collapsed": false,
    "pycharm": {
     "name": "#%%\n"
    }
   }
  },
  {
   "cell_type": "code",
   "execution_count": null,
   "outputs": [],
   "source": [
    "Long = getLong(trades)\n",
    "Long"
   ],
   "metadata": {
    "collapsed": false,
    "pycharm": {
     "name": "#%%\n"
    }
   }
  },
  {
   "cell_type": "code",
   "execution_count": null,
   "outputs": [],
   "source": [
    "trades.T0"
   ],
   "metadata": {
    "collapsed": false,
    "pycharm": {
     "name": "#%%\n"
    }
   }
  },
  {
   "cell_type": "code",
   "execution_count": null,
   "outputs": [],
   "source": [
    "# timed chart\n",
    "fig = chartFigure(\n",
    "    Sell=dict(x=Sell.DateTimeA, y=Sell.PriceA, color='red', mode='markers', size=-symlog(Sell.VolumeA)+3, opacity=0.25),\n",
    "    Buy=dict(x=Buy.DateTimeA, y=Buy.PriceA, color='green', mode='markers', size=symlog(Buy.VolumeA)+3, opacity=0.25),\n",
    "    Ask=dict(x=S.DT, y=S.A, color='red', opacity=0.2, shape='hv', mode='lines'),\n",
    "    Bid=dict(x=S.DT, y=S.B, color='green', opacity=0.2, shape='hv', mode='lines'),\n",
    "    Enter=dict(x=trades.T0.astype('M8[us]'), y=trades.Price0, mode='markers', \n",
    "               marker=dict(symbol='triangle-up', size=12, line_color='darkgreen', line_width=1, color='green'))                \n",
    ")\n",
    "fig"
   ],
   "metadata": {
    "collapsed": false,
    "pycharm": {
     "name": "#%%\n"
    }
   }
  },
  {
   "cell_type": "code",
   "execution_count": null,
   "outputs": [],
   "source": [
    "fig.layout.shapes = [{\n",
    "     'fillcolor': 'green' if c[3] > c[2] else 'red',\n",
    "     'line': {'color': 'black', 'width': 2},\n",
    "     'opacity': 0.15,\n",
    "     'type': 'rect',\n",
    "     'x0': str(T.DateTimeA[int(c[0])]),\n",
    "     'x1': str(T.DateTimeA[int(c[1])]),\n",
    "     'y0': c[2],\n",
    "     'y1': c[3]\n",
    " } for c in C]"
   ],
   "metadata": {
    "collapsed": false,
    "pycharm": {
     "name": "#%%\n"
    }
   }
  },
  {
   "cell_type": "code",
   "execution_count": 13,
   "id": "6d7e392a-5b2e-473e-b457-8d24ba51d13b",
   "metadata": {
    "execution": {
     "iopub.execute_input": "2022-06-06T20:18:08.484832Z",
     "iopub.status.busy": "2022-06-06T20:18:08.484832Z",
     "iopub.status.idle": "2022-06-06T20:18:08.491833Z",
     "shell.execute_reply": "2022-06-06T20:18:08.491833Z",
     "shell.execute_reply.started": "2022-06-06T20:18:08.484832Z"
    }
   },
   "outputs": [
    {
     "data": {
      "text/plain": [
       "array([1651968067108999, 1651968076254000, 1651968091874000,\n",
       "       1651968096536999, 1651968117421000], dtype=int64)"
      ]
     },
     "execution_count": 13,
     "metadata": {},
     "output_type": "execute_result"
    }
   ],
   "source": [
    "trades.T0"
   ]
  },
  {
   "cell_type": "code",
   "execution_count": 34,
   "id": "f1b86c04",
   "metadata": {
    "collapsed": false,
    "execution": {
     "iopub.execute_input": "2022-06-06T20:33:41.999562Z",
     "iopub.status.busy": "2022-06-06T20:33:41.999562Z",
     "iopub.status.idle": "2022-06-06T20:33:42.298630Z",
     "shell.execute_reply": "2022-06-06T20:33:42.298630Z",
     "shell.execute_reply.started": "2022-06-06T20:33:41.999562Z"
    },
    "jupyter": {
     "outputs_hidden": false
    },
    "pycharm": {
     "name": "#%%\n"
    },
    "tags": []
   },
   "outputs": [
    {
     "data": {
      "application/vnd.jupyter.widget-view+json": {
       "model_id": "fa368820bc644f1a86ec1b0dd497c34c",
       "version_major": 2,
       "version_minor": 0
      },
      "text/plain": [
       "FigureWidgetResampler({\n",
       "    'data': [{'marker': {'color': 'red',\n",
       "                         'opacity': 0.25,\n",
       "   …"
      ]
     },
     "metadata": {},
     "output_type": "display_data"
    }
   ],
   "source": [
    "# timed chart\n",
    "fig = chartFigure(\n",
    "    Sell=dict(x=Sell.DateTimeA, y=Sell.PriceA, color='red', mode='markers', size=-symlog(Sell.VolumeA)+3, opacity=0.25),\n",
    "    Buy=dict(x=Buy.DateTimeA, y=Buy.PriceA, color='green', mode='markers', size=symlog(Buy.VolumeA)+3, opacity=0.25),\n",
    "    Ask=dict(x=S.DT, y=S.A, color='red', opacity=0.2, shape='hv', mode='lines'),\n",
    "    Bid=dict(x=S.DT, y=S.B, color='green', opacity=0.2, shape='hv', mode='lines'),\n",
    "    Enter=dict(x=trades.T0.astype('M8[us]'), y=trades.Price0, mode='markers', \n",
    "               marker=dict(symbol='triangle-up', size=12, line_color='darkgreen', line_width=1, color='green'))                \n",
    ")\n",
    "fig"
   ]
  },
  {
   "cell_type": "code",
   "execution_count": 35,
   "id": "4c753a17",
   "metadata": {
    "collapsed": false,
    "execution": {
     "iopub.execute_input": "2022-06-06T20:33:42.299630Z",
     "iopub.status.busy": "2022-06-06T20:33:42.299630Z",
     "iopub.status.idle": "2022-06-06T20:33:42.311633Z",
     "shell.execute_reply": "2022-06-06T20:33:42.311633Z",
     "shell.execute_reply.started": "2022-06-06T20:33:42.299630Z"
    },
    "jupyter": {
     "outputs_hidden": false
    },
    "pycharm": {
     "name": "#%%\n"
    },
    "tags": []
   },
   "outputs": [],
   "source": [
    "fig.layout.shapes = [{\n",
    "     'fillcolor': 'green' if c[3] > c[2] else 'red',\n",
    "     'line': {'color': 'black', 'width': 2},\n",
    "     'opacity': 0.15,\n",
    "     'type': 'rect',\n",
    "     'x0': str(T.DateTimeA[int(c[0])]),\n",
    "     'x1': str(T.DateTimeA[int(c[1])]),\n",
    "     'y0': c[2],\n",
    "     'y1': c[3]\n",
    " } for c in C]"
   ]
  },
  {
   "cell_type": "code",
   "execution_count": null,
   "id": "30841b90-78a2-45c2-945d-95b6c37442ee",
   "metadata": {},
   "outputs": [],
   "source": []
  }
 ],
 "metadata": {
  "kernelspec": {
   "display_name": "Python 3 (ipykernel)",
   "language": "python",
   "name": "python3"
  },
  "language_info": {
   "codemirror_mode": {
    "name": "ipython",
    "version": 3
   },
   "file_extension": ".py",
   "mimetype": "text/x-python",
   "name": "python",
   "nbconvert_exporter": "python",
   "pygments_lexer": "ipython3",
   "version": "3.9.12"
  }
 },
 "nbformat": 4,
 "nbformat_minor": 5
}
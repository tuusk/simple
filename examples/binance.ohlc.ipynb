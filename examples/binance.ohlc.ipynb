{
 "cells": [
  {
   "cell_type": "code",
   "execution_count": 1,
   "id": "551dc0f3-0258-417f-b35b-1e221c2733da",
   "metadata": {
    "ExecuteTime": {
     "end_time": "2022-05-25T16:07:21.390442Z",
     "start_time": "2022-05-25T16:07:20.817783Z"
    },
    "execution": {
     "iopub.execute_input": "2022-06-22T08:28:40.220076Z",
     "iopub.status.busy": "2022-06-22T08:28:40.220076Z",
     "iopub.status.idle": "2022-06-22T08:28:40.858691Z",
     "shell.execute_reply": "2022-06-22T08:28:40.858691Z",
     "shell.execute_reply.started": "2022-06-22T08:28:40.220076Z"
    }
   },
   "outputs": [],
   "source": [
    "from simple.binance import getHistMonth\n",
    "from simple.chart import chartFigure\n",
    "from tqdm.auto import tqdm\n",
    "import numpy as np\n",
    "import warnings\n",
    "\n",
    "warnings.simplefilter(\"ignore\")"
   ]
  },
  {
   "cell_type": "code",
   "execution_count": 2,
   "id": "d0a80f1f-1159-40a6-8ae9-c423c49721c6",
   "metadata": {
    "ExecuteTime": {
     "end_time": "2022-05-25T16:07:21.395225Z",
     "start_time": "2022-05-25T16:07:21.392371Z"
    },
    "execution": {
     "iopub.execute_input": "2022-06-22T08:28:40.859688Z",
     "iopub.status.busy": "2022-06-22T08:28:40.859688Z",
     "iopub.status.idle": "2022-06-22T08:28:40.862689Z",
     "shell.execute_reply": "2022-06-22T08:28:40.862689Z",
     "shell.execute_reply.started": "2022-06-22T08:28:40.859688Z"
    }
   },
   "outputs": [],
   "source": [
    "frame = '1h'\n",
    "tickers = ['BTCUSDT', 'ETHUSDT', 'LTCUSDT', 'BCHUSDT', 'TRXUSDT', 'DOGEUSDT', 'ETCUSDT', 'XRPUSDT']"
   ]
  },
  {
   "cell_type": "code",
   "execution_count": 3,
   "id": "e43d3b88-de1d-4a36-b5f4-5095cf36476e",
   "metadata": {
    "execution": {
     "iopub.execute_input": "2022-06-22T08:28:40.864189Z",
     "iopub.status.busy": "2022-06-22T08:28:40.863689Z",
     "iopub.status.idle": "2022-06-22T08:28:48.712563Z",
     "shell.execute_reply": "2022-06-22T08:28:48.712063Z",
     "shell.execute_reply.started": "2022-06-22T08:28:40.864189Z"
    }
   },
   "outputs": [
    {
     "data": {
      "application/vnd.jupyter.widget-view+json": {
       "model_id": "0bd5ffc295f34fd3b5c42e29118e2b9c",
       "version_major": 2,
       "version_minor": 0
      },
      "text/plain": [
       "  0%|          | 0/8 [00:00<?, ?it/s]"
      ]
     },
     "metadata": {},
     "output_type": "display_data"
    }
   ],
   "source": [
    "lines = {}\n",
    "for ticker in tqdm(tickers):\n",
    "    C = getHistMonth('2022-03', '2022-03', ticker, frame)\n",
    "    C['Delta'] = C.Close - C.Open\n",
    "    C['Direction'] = np.sign(C.Delta)\n",
    "    C['Position'] = C.Direction.shift(1)\n",
    "    C['PnL'] = C.Delta / C.Open * C.Position\n",
    "    lines[ticker] = {'x': C.index, 'y': C['PnL'].cumsum().values}"
   ]
  },
  {
   "cell_type": "code",
   "execution_count": 4,
   "id": "d0c58456-8fa2-4aae-b537-58dc9ac30d98",
   "metadata": {
    "execution": {
     "iopub.execute_input": "2022-06-22T08:28:48.713563Z",
     "iopub.status.busy": "2022-06-22T08:28:48.713063Z",
     "iopub.status.idle": "2022-06-22T08:28:49.983786Z",
     "shell.execute_reply": "2022-06-22T08:28:49.983286Z",
     "shell.execute_reply.started": "2022-06-22T08:28:48.713563Z"
    },
    "tags": []
   },
   "outputs": [
    {
     "data": {
      "application/vnd.jupyter.widget-view+json": {
       "model_id": "d3cb09f57105400fb6662e90d4504afb",
       "version_major": 2,
       "version_minor": 0
      },
      "text/plain": [
       "FigureWidgetResampler({\n",
       "    'data': [{'name': 'BTCUSDT',\n",
       "              'type': 'scattergl',\n",
       "              'uid…"
      ]
     },
     "metadata": {},
     "output_type": "display_data"
    }
   ],
   "source": [
    "chartFigure(**lines)"
   ]
  }
 ],
 "metadata": {
  "kernelspec": {
   "display_name": "Python 3 (ipykernel)",
   "language": "python",
   "name": "python3"
  },
  "language_info": {
   "codemirror_mode": {
    "name": "ipython",
    "version": 3
   },
   "file_extension": ".py",
   "mimetype": "text/x-python",
   "name": "python",
   "nbconvert_exporter": "python",
   "pygments_lexer": "ipython3",
   "version": "3.9.12"
  }
 },
 "nbformat": 4,
 "nbformat_minor": 5
}

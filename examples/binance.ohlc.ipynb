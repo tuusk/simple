{
 "cells": [
  {
   "cell_type": "code",
   "execution_count": 4,
   "id": "551dc0f3-0258-417f-b35b-1e221c2733da",
   "metadata": {
    "ExecuteTime": {
     "end_time": "2022-05-25T16:07:21.390442Z",
     "start_time": "2022-05-25T16:07:20.817783Z"
    }
   },
   "outputs": [],
   "source": [
    "from simple.binance import getHistMonth\n",
    "from simple.plotly import chartFigure\n",
    "from tqdm.auto import tqdm\n",
    "import numpy as np\n",
    "import warnings\n",
    "\n",
    "warnings.simplefilter(\"ignore\")"
   ]
  },
  {
   "cell_type": "code",
   "execution_count": 7,
   "id": "d0a80f1f-1159-40a6-8ae9-c423c49721c6",
   "metadata": {
    "ExecuteTime": {
     "end_time": "2022-05-25T16:07:21.395225Z",
     "start_time": "2022-05-25T16:07:21.392371Z"
    }
   },
   "outputs": [],
   "source": [
    "frame = '1h'\n",
    "tickers = ['BTCUSDT', 'ETHUSDT', 'LTCUSDT', 'BCHUSDT', 'TRXUSDT', 'DOGEUSDT', 'ETCUSDT', 'XRPUSDT']"
   ]
  },
  {
   "cell_type": "code",
   "execution_count": 8,
   "id": "e43d3b88-de1d-4a36-b5f4-5095cf36476e",
   "metadata": {},
   "outputs": [
    {
     "data": {
      "application/vnd.jupyter.widget-view+json": {
       "model_id": "bf6b572384764d31bd9b2fd83e6ba10b",
       "version_major": 2,
       "version_minor": 0
      },
      "text/plain": [
       "  0%|          | 0/8 [00:00<?, ?it/s]"
      ]
     },
     "metadata": {},
     "output_type": "display_data"
    }
   ],
   "source": [
    "lines = {}\n",
    "for ticker in tqdm(tickers):\n",
    "    C = getHistMonth('2022-03', '2022-03', ticker, frame)\n",
    "    C['Delta'] = C.Close - C.Open\n",
    "    C['Direction'] = np.sign(C.Delta)\n",
    "    C['Position'] = C.Direction.shift(1)\n",
    "    C['PnL'] = C.Delta / C.Open * C.Position\n",
    "    lines[ticker] = {'x': C.index, 'y': C['PnL'].cumsum().values}"
   ]
  },
  {
   "cell_type": "code",
   "execution_count": 9,
   "id": "d0c58456-8fa2-4aae-b537-58dc9ac30d98",
   "metadata": {},
   "outputs": [
    {
     "data": {
      "application/vnd.jupyter.widget-view+json": {
       "model_id": "c0d37dc974154e9a93204a811b294831",
       "version_major": 2,
       "version_minor": 0
      },
      "text/plain": [
       "FigureWidgetResampler({\n",
       "    'data': [{'name': 'BTCUSDT',\n",
       "              'type': 'scattergl',\n",
       "              'uid…"
      ]
     },
     "metadata": {},
     "output_type": "display_data"
    }
   ],
   "source": [
    "chartFigure(**lines)"
   ]
  }
 ],
 "metadata": {
  "kernelspec": {
   "display_name": "Python 3 (ipykernel)",
   "language": "python",
   "name": "python3"
  },
  "language_info": {
   "codemirror_mode": {
    "name": "ipython",
    "version": 3
   },
   "file_extension": ".py",
   "mimetype": "text/x-python",
   "name": "python",
   "nbconvert_exporter": "python",
   "pygments_lexer": "ipython3",
   "version": "3.8.13"
  }
 },
 "nbformat": 4,
 "nbformat_minor": 5
}

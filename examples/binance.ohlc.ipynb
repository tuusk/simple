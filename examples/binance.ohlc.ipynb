{
 "cells": [
  {
   "cell_type": "code",
   "execution_count": 25,
   "id": "551dc0f3-0258-417f-b35b-1e221c2733da",
   "metadata": {
    "ExecuteTime": {
     "end_time": "2022-05-25T16:07:21.390442Z",
     "start_time": "2022-05-25T16:07:20.817783Z"
    }
   },
   "outputs": [],
   "source": [
    "from binance import getOHLC\n",
    "from data.binance_archive import get_ohlc, Timeframe, Source\n",
    "from tqdm.auto import tqdm\n",
    "import numpy as np\n",
    "from plotly_charts import chartFigure\n",
    "import warnings\n",
    "\n",
    "warnings.simplefilter(\"ignore\")"
   ]
  },
  {
   "cell_type": "code",
   "execution_count": 8,
   "id": "d0a80f1f-1159-40a6-8ae9-c423c49721c6",
   "metadata": {
    "ExecuteTime": {
     "end_time": "2022-05-25T16:07:21.395225Z",
     "start_time": "2022-05-25T16:07:21.392371Z"
    }
   },
   "outputs": [],
   "source": [
    "tickers = ['BTCUSDT', 'ETHUSDT', 'LTCUSDT', 'BCHUSDT', 'TRXUSDT', 'DOGEUSDT', 'ETCUSDT', 'XRPUSDT']"
   ]
  },
  {
   "cell_type": "code",
   "execution_count": 26,
   "id": "e43d3b88-de1d-4a36-b5f4-5095cf36476e",
   "metadata": {},
   "outputs": [
    {
     "data": {
      "application/vnd.jupyter.widget-view+json": {
       "model_id": "3d91630db0d8431d8a1e8ef96c79fd09",
       "version_major": 2,
       "version_minor": 0
      },
      "text/plain": [
       "  0%|          | 0/2 [00:00<?, ?it/s]"
      ]
     },
     "metadata": {},
     "output_type": "display_data"
    }
   ],
   "source": [
    "lines = {}\n",
    "for ticker in tqdm(tickers):\n",
    "    C = getOHLC(ticker, '2021-01-01', '2022-05-01', 5)\n",
    "    # C = get_ohlc(ticker, '2022-01-01', '2022-05-01', Timeframe.MINUTE5, Source.SPOT)\n",
    "    C['Delta'] = C.Close - C.Open\n",
    "    C['Direction'] = np.sign(C.Delta)\n",
    "    C['Position'] = C.Direction.shift(1)\n",
    "    C['PnL'] = C.Delta / C.Open * C.Position\n",
    "    lines[ticker] = {'x': C.index, 'y': C['PnL'].cumsum().values}"
   ]
  },
  {
   "cell_type": "code",
   "execution_count": 27,
   "id": "d0c58456-8fa2-4aae-b537-58dc9ac30d98",
   "metadata": {},
   "outputs": [
    {
     "data": {
      "application/vnd.jupyter.widget-view+json": {
       "model_id": "38d7665d5b4e4047a0c584727fa9b1f4",
       "version_major": 2,
       "version_minor": 0
      },
      "text/plain": [
       "FigureWidgetResampler({\n",
       "    'data': [{'name': '<b style=\"color:sandybrown\">[R]</b> BTCUSDT <i style=\"color:#fc…"
      ]
     },
     "metadata": {},
     "output_type": "display_data"
    }
   ],
   "source": [
    "chartFigure(**lines)"
   ]
  },
  {
   "cell_type": "code",
   "execution_count": null,
   "id": "3a296e9f",
   "metadata": {},
   "outputs": [],
   "source": []
  }
 ],
 "metadata": {
  "kernelspec": {
   "display_name": "Python 3 (ipykernel)",
   "language": "python",
   "name": "python3"
  },
  "language_info": {
   "codemirror_mode": {
    "name": "ipython",
    "version": 3
   },
   "file_extension": ".py",
   "mimetype": "text/x-python",
   "name": "python",
   "nbconvert_exporter": "python",
   "pygments_lexer": "ipython3",
   "version": "3.10.1"
  }
 },
 "nbformat": 4,
 "nbformat_minor": 5
}
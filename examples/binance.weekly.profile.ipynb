{
 "cells": [
  {
   "cell_type": "code",
   "execution_count": 1,
   "id": "a7e9651a-f391-4785-ac98-198d7c0fef4f",
   "metadata": {},
   "outputs": [],
   "source": [
    "from simple.binance import getHistMonth\n",
    "from simple.plotly import interactFigure\n",
    "from simple.pretty import pmap\n",
    "import pandas as pd\n",
    "from calendar import day_name"
   ]
  },
  {
   "cell_type": "code",
   "execution_count": 2,
   "id": "6aeffa75-19fa-43ce-93c6-f78849b8ce9e",
   "metadata": {},
   "outputs": [],
   "source": [
    "frame = '1h'\n",
    "tickers = ['BTCUSDT', 'ETHUSDT', 'LTCUSDT', 'TRXUSDT', 'ETCUSDT', 'XRPUSDT']\n",
    "weekdays = [f'{day: >20}' for day in day_name]"
   ]
  },
  {
   "cell_type": "code",
   "execution_count": 3,
   "id": "61a9e276-bda7-401a-8073-86c2d9e95996",
   "metadata": {},
   "outputs": [],
   "source": [
    "def getDiff(ticker):\n",
    "    return getHistMonth('2019-01', '2021-09', ticker, frame, close_only=True).diff().dropna()"
   ]
  },
  {
   "cell_type": "code",
   "execution_count": 4,
   "id": "f38145a7-1d8f-4d4d-bbb5-3d525ef0ac5e",
   "metadata": {},
   "outputs": [
    {
     "data": {
      "application/vnd.jupyter.widget-view+json": {
       "model_id": "22ed070fb4e34ba28eba6b4ced5a09f2",
       "version_major": 2,
       "version_minor": 0
      },
      "text/plain": [
       "  0%|          | 0/6 [00:00<?, ?it/s]"
      ]
     },
     "metadata": {},
     "output_type": "display_data"
    },
    {
     "data": {
      "text/html": [
       "<div>\n",
       "<style scoped>\n",
       "    .dataframe tbody tr th:only-of-type {\n",
       "        vertical-align: middle;\n",
       "    }\n",
       "\n",
       "    .dataframe tbody tr th {\n",
       "        vertical-align: top;\n",
       "    }\n",
       "\n",
       "    .dataframe thead th {\n",
       "        text-align: right;\n",
       "    }\n",
       "</style>\n",
       "<table border=\"1\" class=\"dataframe\">\n",
       "  <thead>\n",
       "    <tr style=\"text-align: right;\">\n",
       "      <th></th>\n",
       "      <th>BTCUSDT</th>\n",
       "      <th>ETHUSDT</th>\n",
       "      <th>LTCUSDT</th>\n",
       "      <th>TRXUSDT</th>\n",
       "      <th>ETCUSDT</th>\n",
       "      <th>XRPUSDT</th>\n",
       "      <th>year</th>\n",
       "      <th>week</th>\n",
       "      <th>day</th>\n",
       "      <th>week_hour</th>\n",
       "    </tr>\n",
       "    <tr>\n",
       "      <th>DT</th>\n",
       "      <th></th>\n",
       "      <th></th>\n",
       "      <th></th>\n",
       "      <th></th>\n",
       "      <th></th>\n",
       "      <th></th>\n",
       "      <th></th>\n",
       "      <th></th>\n",
       "      <th></th>\n",
       "      <th></th>\n",
       "    </tr>\n",
       "  </thead>\n",
       "  <tbody>\n",
       "    <tr>\n",
       "      <th>2019-01-01 01:00:00</th>\n",
       "      <td>-10.62</td>\n",
       "      <td>-0.68</td>\n",
       "      <td>-0.22</td>\n",
       "      <td>-0.00013</td>\n",
       "      <td>-0.0261</td>\n",
       "      <td>-0.00109</td>\n",
       "      <td>2019</td>\n",
       "      <td>1</td>\n",
       "      <td>2</td>\n",
       "      <td>0</td>\n",
       "    </tr>\n",
       "    <tr>\n",
       "      <th>2019-01-01 02:00:00</th>\n",
       "      <td>0.31</td>\n",
       "      <td>-0.42</td>\n",
       "      <td>-0.02</td>\n",
       "      <td>0.00002</td>\n",
       "      <td>-0.0243</td>\n",
       "      <td>-0.00168</td>\n",
       "      <td>2019</td>\n",
       "      <td>1</td>\n",
       "      <td>2</td>\n",
       "      <td>1</td>\n",
       "    </tr>\n",
       "    <tr>\n",
       "      <th>2019-01-01 03:00:00</th>\n",
       "      <td>3.13</td>\n",
       "      <td>0.60</td>\n",
       "      <td>0.06</td>\n",
       "      <td>0.00014</td>\n",
       "      <td>0.0465</td>\n",
       "      <td>0.00234</td>\n",
       "      <td>2019</td>\n",
       "      <td>1</td>\n",
       "      <td>2</td>\n",
       "      <td>2</td>\n",
       "    </tr>\n",
       "    <tr>\n",
       "      <th>2019-01-01 04:00:00</th>\n",
       "      <td>-0.42</td>\n",
       "      <td>1.03</td>\n",
       "      <td>0.14</td>\n",
       "      <td>0.00013</td>\n",
       "      <td>0.0126</td>\n",
       "      <td>0.00179</td>\n",
       "      <td>2019</td>\n",
       "      <td>1</td>\n",
       "      <td>2</td>\n",
       "      <td>3</td>\n",
       "    </tr>\n",
       "    <tr>\n",
       "      <th>2019-01-01 05:00:00</th>\n",
       "      <td>7.23</td>\n",
       "      <td>0.40</td>\n",
       "      <td>0.09</td>\n",
       "      <td>0.00011</td>\n",
       "      <td>0.0528</td>\n",
       "      <td>0.00081</td>\n",
       "      <td>2019</td>\n",
       "      <td>1</td>\n",
       "      <td>2</td>\n",
       "      <td>4</td>\n",
       "    </tr>\n",
       "    <tr>\n",
       "      <th>...</th>\n",
       "      <td>...</td>\n",
       "      <td>...</td>\n",
       "      <td>...</td>\n",
       "      <td>...</td>\n",
       "      <td>...</td>\n",
       "      <td>...</td>\n",
       "      <td>...</td>\n",
       "      <td>...</td>\n",
       "      <td>...</td>\n",
       "      <td>...</td>\n",
       "    </tr>\n",
       "    <tr>\n",
       "      <th>2021-09-30 19:00:00</th>\n",
       "      <td>-461.77</td>\n",
       "      <td>-44.50</td>\n",
       "      <td>-2.00</td>\n",
       "      <td>-0.00072</td>\n",
       "      <td>-0.5700</td>\n",
       "      <td>-0.00980</td>\n",
       "      <td>2021</td>\n",
       "      <td>39</td>\n",
       "      <td>4</td>\n",
       "      <td>89</td>\n",
       "    </tr>\n",
       "    <tr>\n",
       "      <th>2021-09-30 20:00:00</th>\n",
       "      <td>-97.23</td>\n",
       "      <td>-19.41</td>\n",
       "      <td>-0.30</td>\n",
       "      <td>-0.00044</td>\n",
       "      <td>-0.1400</td>\n",
       "      <td>-0.00380</td>\n",
       "      <td>2021</td>\n",
       "      <td>39</td>\n",
       "      <td>4</td>\n",
       "      <td>90</td>\n",
       "    </tr>\n",
       "    <tr>\n",
       "      <th>2021-09-30 21:00:00</th>\n",
       "      <td>318.92</td>\n",
       "      <td>32.08</td>\n",
       "      <td>1.30</td>\n",
       "      <td>0.00057</td>\n",
       "      <td>0.4200</td>\n",
       "      <td>0.00860</td>\n",
       "      <td>2021</td>\n",
       "      <td>39</td>\n",
       "      <td>4</td>\n",
       "      <td>91</td>\n",
       "    </tr>\n",
       "    <tr>\n",
       "      <th>2021-09-30 22:00:00</th>\n",
       "      <td>-12.30</td>\n",
       "      <td>-1.32</td>\n",
       "      <td>0.60</td>\n",
       "      <td>0.00027</td>\n",
       "      <td>-0.0100</td>\n",
       "      <td>0.00070</td>\n",
       "      <td>2021</td>\n",
       "      <td>39</td>\n",
       "      <td>4</td>\n",
       "      <td>92</td>\n",
       "    </tr>\n",
       "    <tr>\n",
       "      <th>2021-09-30 23:00:00</th>\n",
       "      <td>82.40</td>\n",
       "      <td>-2.97</td>\n",
       "      <td>0.10</td>\n",
       "      <td>0.00024</td>\n",
       "      <td>0.1700</td>\n",
       "      <td>0.00240</td>\n",
       "      <td>2021</td>\n",
       "      <td>39</td>\n",
       "      <td>4</td>\n",
       "      <td>93</td>\n",
       "    </tr>\n",
       "  </tbody>\n",
       "</table>\n",
       "<p>24037 rows × 10 columns</p>\n",
       "</div>"
      ],
      "text/plain": [
       "                     BTCUSDT  ETHUSDT  LTCUSDT  TRXUSDT  ETCUSDT  XRPUSDT  \\\n",
       "DT                                                                          \n",
       "2019-01-01 01:00:00   -10.62    -0.68    -0.22 -0.00013  -0.0261 -0.00109   \n",
       "2019-01-01 02:00:00     0.31    -0.42    -0.02  0.00002  -0.0243 -0.00168   \n",
       "2019-01-01 03:00:00     3.13     0.60     0.06  0.00014   0.0465  0.00234   \n",
       "2019-01-01 04:00:00    -0.42     1.03     0.14  0.00013   0.0126  0.00179   \n",
       "2019-01-01 05:00:00     7.23     0.40     0.09  0.00011   0.0528  0.00081   \n",
       "...                      ...      ...      ...      ...      ...      ...   \n",
       "2021-09-30 19:00:00  -461.77   -44.50    -2.00 -0.00072  -0.5700 -0.00980   \n",
       "2021-09-30 20:00:00   -97.23   -19.41    -0.30 -0.00044  -0.1400 -0.00380   \n",
       "2021-09-30 21:00:00   318.92    32.08     1.30  0.00057   0.4200  0.00860   \n",
       "2021-09-30 22:00:00   -12.30    -1.32     0.60  0.00027  -0.0100  0.00070   \n",
       "2021-09-30 23:00:00    82.40    -2.97     0.10  0.00024   0.1700  0.00240   \n",
       "\n",
       "                     year  week  day  week_hour  \n",
       "DT                                               \n",
       "2019-01-01 01:00:00  2019     1    2          0  \n",
       "2019-01-01 02:00:00  2019     1    2          1  \n",
       "2019-01-01 03:00:00  2019     1    2          2  \n",
       "2019-01-01 04:00:00  2019     1    2          3  \n",
       "2019-01-01 05:00:00  2019     1    2          4  \n",
       "...                   ...   ...  ...        ...  \n",
       "2021-09-30 19:00:00  2021    39    4         89  \n",
       "2021-09-30 20:00:00  2021    39    4         90  \n",
       "2021-09-30 21:00:00  2021    39    4         91  \n",
       "2021-09-30 22:00:00  2021    39    4         92  \n",
       "2021-09-30 23:00:00  2021    39    4         93  \n",
       "\n",
       "[24037 rows x 10 columns]"
      ]
     },
     "execution_count": 4,
     "metadata": {},
     "output_type": "execute_result"
    }
   ],
   "source": [
    "F = pd.concat(pmap(getDiff, tickers), axis=1)\n",
    "F = F.join(F.index.isocalendar())\n",
    "F['week_hour'] = F.groupby(['year', 'week']).cumcount()\n",
    "F"
   ]
  },
  {
   "cell_type": "code",
   "execution_count": 6,
   "id": "777f0cbe-6587-4c49-8c8b-01a0e3e49a02",
   "metadata": {},
   "outputs": [
    {
     "data": {
      "text/plain": [
       "[0, 24, 48, 72, 96, 120, 144]"
      ]
     },
     "execution_count": 6,
     "metadata": {},
     "output_type": "execute_result"
    }
   ],
   "source": [
    "Hours = list(range(0, 168, 24))\n",
    "Hours"
   ]
  },
  {
   "cell_type": "code",
   "execution_count": 7,
   "id": "cc716673-128d-4342-8e17-ca46f189483b",
   "metadata": {},
   "outputs": [],
   "source": [
    "def model(index: int = (0, len(tickers))):\n",
    "    ticker = tickers[index]\n",
    "    Profile = F.groupby('week_hour')[ticker].mean().cumsum()\n",
    "    layout = dict(title={'text': ticker})\n",
    "    return 0, locals()"
   ]
  },
  {
   "cell_type": "code",
   "execution_count": 8,
   "id": "54b4ed47-ab30-4039-952e-2acd7a895a3a",
   "metadata": {},
   "outputs": [],
   "source": [
    "box = interactFigure(model, {\n",
    "    'Profile': dict(width=6, opacity=0.3),\n",
    "    'Weekdays': dict(x=Hours, y=[0] * len(Hours), mode=\"text\", textposition=\"top right\", text=weekdays)\n",
    "}, height=500)"
   ]
  },
  {
   "cell_type": "code",
   "execution_count": 9,
   "id": "e3e5c177-e027-474f-8782-a5c1b67c035b",
   "metadata": {},
   "outputs": [],
   "source": [
    "# add vertical daily lines\n",
    "[box.children[1].add_vline(x=hour, line_color='gray', line_dash='dot') for hour in Hours + [168]];"
   ]
  },
  {
   "cell_type": "code",
   "execution_count": 10,
   "id": "e0b811b5-6740-4ed6-992a-d575ee8e7e1d",
   "metadata": {},
   "outputs": [
    {
     "data": {
      "application/vnd.jupyter.widget-view+json": {
       "model_id": "4e8947f3cdba4847b47b22a12a983639",
       "version_major": 2,
       "version_minor": 0
      },
      "text/plain": [
       "VBox(children=(HBox(children=(IntSlider(value=3, description='index', max=6),)), FigureWidgetResampler({\n",
       "    '…"
      ]
     },
     "metadata": {},
     "output_type": "display_data"
    }
   ],
   "source": [
    "box"
   ]
  }
 ],
 "metadata": {
  "kernelspec": {
   "display_name": "Python 3 (ipykernel)",
   "language": "python",
   "name": "python3"
  },
  "language_info": {
   "codemirror_mode": {
    "name": "ipython",
    "version": 3
   },
   "file_extension": ".py",
   "mimetype": "text/x-python",
   "name": "python",
   "nbconvert_exporter": "python",
   "pygments_lexer": "ipython3",
   "version": "3.8.13"
  }
 },
 "nbformat": 4,
 "nbformat_minor": 5
}

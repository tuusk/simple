{
 "cells": [
  {
   "cell_type": "code",
   "execution_count": 10,
   "id": "a7e9651a-f391-4785-ac98-198d7c0fef4f",
   "metadata": {},
   "outputs": [],
   "source": [
    "from simple.binance import getHistMonth\n",
    "from simple.plotly import chartFigure, interactFigure\n",
    "import pandas as pd\n",
    "from simple.pretty import pmap\n",
    "from calendar import day_name"
   ]
  },
  {
   "cell_type": "code",
   "execution_count": 2,
   "id": "6aeffa75-19fa-43ce-93c6-f78849b8ce9e",
   "metadata": {},
   "outputs": [],
   "source": [
    "frame = '1h'\n",
    "tickers = ['BTCUSDT', 'ETHUSDT', 'LTCUSDT', 'TRXUSDT', 'ETCUSDT', 'XRPUSDT']"
   ]
  },
  {
   "cell_type": "code",
   "execution_count": 3,
   "id": "61a9e276-bda7-401a-8073-86c2d9e95996",
   "metadata": {},
   "outputs": [],
   "source": [
    "def getDiff(ticker):\n",
    "    return getHistMonth('2019-01', '2022-05', ticker, frame, close_only=True).diff().dropna()"
   ]
  },
  {
   "cell_type": "code",
   "execution_count": 4,
   "id": "f38145a7-1d8f-4d4d-bbb5-3d525ef0ac5e",
   "metadata": {},
   "outputs": [
    {
     "data": {
      "application/vnd.jupyter.widget-view+json": {
       "model_id": "ec6761d1ba0244b3a5501f99a3e60165",
       "version_major": 2,
       "version_minor": 0
      },
      "text/plain": [
       "  0%|          | 0/6 [00:00<?, ?it/s]"
      ]
     },
     "metadata": {},
     "output_type": "display_data"
    },
    {
     "data": {
      "text/html": [
       "<div>\n",
       "<style scoped>\n",
       "    .dataframe tbody tr th:only-of-type {\n",
       "        vertical-align: middle;\n",
       "    }\n",
       "\n",
       "    .dataframe tbody tr th {\n",
       "        vertical-align: top;\n",
       "    }\n",
       "\n",
       "    .dataframe thead th {\n",
       "        text-align: right;\n",
       "    }\n",
       "</style>\n",
       "<table border=\"1\" class=\"dataframe\">\n",
       "  <thead>\n",
       "    <tr style=\"text-align: right;\">\n",
       "      <th></th>\n",
       "      <th>BTCUSDT</th>\n",
       "      <th>ETHUSDT</th>\n",
       "      <th>LTCUSDT</th>\n",
       "      <th>TRXUSDT</th>\n",
       "      <th>ETCUSDT</th>\n",
       "      <th>XRPUSDT</th>\n",
       "      <th>year</th>\n",
       "      <th>week</th>\n",
       "      <th>day</th>\n",
       "      <th>week_hour</th>\n",
       "    </tr>\n",
       "    <tr>\n",
       "      <th>DT</th>\n",
       "      <th></th>\n",
       "      <th></th>\n",
       "      <th></th>\n",
       "      <th></th>\n",
       "      <th></th>\n",
       "      <th></th>\n",
       "      <th></th>\n",
       "      <th></th>\n",
       "      <th></th>\n",
       "      <th></th>\n",
       "    </tr>\n",
       "  </thead>\n",
       "  <tbody>\n",
       "    <tr>\n",
       "      <th>2019-01-01 01:00:00</th>\n",
       "      <td>-10.62</td>\n",
       "      <td>-0.68</td>\n",
       "      <td>-0.22</td>\n",
       "      <td>-0.00013</td>\n",
       "      <td>-0.0261</td>\n",
       "      <td>-0.00109</td>\n",
       "      <td>2019</td>\n",
       "      <td>1</td>\n",
       "      <td>2</td>\n",
       "      <td>0</td>\n",
       "    </tr>\n",
       "    <tr>\n",
       "      <th>2019-01-01 02:00:00</th>\n",
       "      <td>0.31</td>\n",
       "      <td>-0.42</td>\n",
       "      <td>-0.02</td>\n",
       "      <td>0.00002</td>\n",
       "      <td>-0.0243</td>\n",
       "      <td>-0.00168</td>\n",
       "      <td>2019</td>\n",
       "      <td>1</td>\n",
       "      <td>2</td>\n",
       "      <td>1</td>\n",
       "    </tr>\n",
       "    <tr>\n",
       "      <th>2019-01-01 03:00:00</th>\n",
       "      <td>3.13</td>\n",
       "      <td>0.60</td>\n",
       "      <td>0.06</td>\n",
       "      <td>0.00014</td>\n",
       "      <td>0.0465</td>\n",
       "      <td>0.00234</td>\n",
       "      <td>2019</td>\n",
       "      <td>1</td>\n",
       "      <td>2</td>\n",
       "      <td>2</td>\n",
       "    </tr>\n",
       "    <tr>\n",
       "      <th>2019-01-01 04:00:00</th>\n",
       "      <td>-0.42</td>\n",
       "      <td>1.03</td>\n",
       "      <td>0.14</td>\n",
       "      <td>0.00013</td>\n",
       "      <td>0.0126</td>\n",
       "      <td>0.00179</td>\n",
       "      <td>2019</td>\n",
       "      <td>1</td>\n",
       "      <td>2</td>\n",
       "      <td>3</td>\n",
       "    </tr>\n",
       "    <tr>\n",
       "      <th>2019-01-01 05:00:00</th>\n",
       "      <td>7.23</td>\n",
       "      <td>0.40</td>\n",
       "      <td>0.09</td>\n",
       "      <td>0.00011</td>\n",
       "      <td>0.0528</td>\n",
       "      <td>0.00081</td>\n",
       "      <td>2019</td>\n",
       "      <td>1</td>\n",
       "      <td>2</td>\n",
       "      <td>4</td>\n",
       "    </tr>\n",
       "    <tr>\n",
       "      <th>...</th>\n",
       "      <td>...</td>\n",
       "      <td>...</td>\n",
       "      <td>...</td>\n",
       "      <td>...</td>\n",
       "      <td>...</td>\n",
       "      <td>...</td>\n",
       "      <td>...</td>\n",
       "      <td>...</td>\n",
       "      <td>...</td>\n",
       "      <td>...</td>\n",
       "    </tr>\n",
       "    <tr>\n",
       "      <th>2022-05-31 19:00:00</th>\n",
       "      <td>-57.20</td>\n",
       "      <td>-0.33</td>\n",
       "      <td>0.40</td>\n",
       "      <td>0.00052</td>\n",
       "      <td>0.1700</td>\n",
       "      <td>0.00120</td>\n",
       "      <td>2022</td>\n",
       "      <td>22</td>\n",
       "      <td>2</td>\n",
       "      <td>43</td>\n",
       "    </tr>\n",
       "    <tr>\n",
       "      <th>2022-05-31 20:00:00</th>\n",
       "      <td>187.94</td>\n",
       "      <td>19.45</td>\n",
       "      <td>0.60</td>\n",
       "      <td>0.00100</td>\n",
       "      <td>0.1600</td>\n",
       "      <td>0.00550</td>\n",
       "      <td>2022</td>\n",
       "      <td>22</td>\n",
       "      <td>2</td>\n",
       "      <td>44</td>\n",
       "    </tr>\n",
       "    <tr>\n",
       "      <th>2022-05-31 21:00:00</th>\n",
       "      <td>-93.64</td>\n",
       "      <td>-6.20</td>\n",
       "      <td>-0.20</td>\n",
       "      <td>-0.00023</td>\n",
       "      <td>-0.0300</td>\n",
       "      <td>0.00100</td>\n",
       "      <td>2022</td>\n",
       "      <td>22</td>\n",
       "      <td>2</td>\n",
       "      <td>45</td>\n",
       "    </tr>\n",
       "    <tr>\n",
       "      <th>2022-05-31 22:00:00</th>\n",
       "      <td>149.27</td>\n",
       "      <td>9.63</td>\n",
       "      <td>0.70</td>\n",
       "      <td>0.00018</td>\n",
       "      <td>0.3000</td>\n",
       "      <td>0.00410</td>\n",
       "      <td>2022</td>\n",
       "      <td>22</td>\n",
       "      <td>2</td>\n",
       "      <td>46</td>\n",
       "    </tr>\n",
       "    <tr>\n",
       "      <th>2022-05-31 23:00:00</th>\n",
       "      <td>-68.24</td>\n",
       "      <td>-15.19</td>\n",
       "      <td>-0.60</td>\n",
       "      <td>0.00236</td>\n",
       "      <td>-0.1800</td>\n",
       "      <td>-0.00340</td>\n",
       "      <td>2022</td>\n",
       "      <td>22</td>\n",
       "      <td>2</td>\n",
       "      <td>47</td>\n",
       "    </tr>\n",
       "  </tbody>\n",
       "</table>\n",
       "<p>29869 rows × 10 columns</p>\n",
       "</div>"
      ],
      "text/plain": [
       "                     BTCUSDT  ETHUSDT  LTCUSDT  TRXUSDT  ETCUSDT  XRPUSDT  \\\n",
       "DT                                                                          \n",
       "2019-01-01 01:00:00   -10.62    -0.68    -0.22 -0.00013  -0.0261 -0.00109   \n",
       "2019-01-01 02:00:00     0.31    -0.42    -0.02  0.00002  -0.0243 -0.00168   \n",
       "2019-01-01 03:00:00     3.13     0.60     0.06  0.00014   0.0465  0.00234   \n",
       "2019-01-01 04:00:00    -0.42     1.03     0.14  0.00013   0.0126  0.00179   \n",
       "2019-01-01 05:00:00     7.23     0.40     0.09  0.00011   0.0528  0.00081   \n",
       "...                      ...      ...      ...      ...      ...      ...   \n",
       "2022-05-31 19:00:00   -57.20    -0.33     0.40  0.00052   0.1700  0.00120   \n",
       "2022-05-31 20:00:00   187.94    19.45     0.60  0.00100   0.1600  0.00550   \n",
       "2022-05-31 21:00:00   -93.64    -6.20    -0.20 -0.00023  -0.0300  0.00100   \n",
       "2022-05-31 22:00:00   149.27     9.63     0.70  0.00018   0.3000  0.00410   \n",
       "2022-05-31 23:00:00   -68.24   -15.19    -0.60  0.00236  -0.1800 -0.00340   \n",
       "\n",
       "                     year  week  day  week_hour  \n",
       "DT                                               \n",
       "2019-01-01 01:00:00  2019     1    2          0  \n",
       "2019-01-01 02:00:00  2019     1    2          1  \n",
       "2019-01-01 03:00:00  2019     1    2          2  \n",
       "2019-01-01 04:00:00  2019     1    2          3  \n",
       "2019-01-01 05:00:00  2019     1    2          4  \n",
       "...                   ...   ...  ...        ...  \n",
       "2022-05-31 19:00:00  2022    22    2         43  \n",
       "2022-05-31 20:00:00  2022    22    2         44  \n",
       "2022-05-31 21:00:00  2022    22    2         45  \n",
       "2022-05-31 22:00:00  2022    22    2         46  \n",
       "2022-05-31 23:00:00  2022    22    2         47  \n",
       "\n",
       "[29869 rows x 10 columns]"
      ]
     },
     "execution_count": 4,
     "metadata": {},
     "output_type": "execute_result"
    }
   ],
   "source": [
    "F = pd.concat(pmap(getDiff, tickers), axis=1)\n",
    "F = F.join(F.index.isocalendar())\n",
    "F['week_hour'] = F.groupby(['year', 'week']).cumcount()\n",
    "F"
   ]
  },
  {
   "cell_type": "code",
   "execution_count": 5,
   "id": "cdc14954-0263-4590-83dc-c14c81da57d0",
   "metadata": {},
   "outputs": [
    {
     "data": {
      "text/plain": [
       "week_hour\n",
       "0       25.794134\n",
       "1       41.340391\n",
       "2        9.267207\n",
       "3       -1.238883\n",
       "4       -8.014693\n",
       "          ...    \n",
       "163     42.744362\n",
       "164    100.803480\n",
       "165    150.882888\n",
       "166    160.179737\n",
       "167    162.755049\n",
       "Name: BTCUSDT, Length: 168, dtype: float64"
      ]
     },
     "execution_count": 5,
     "metadata": {},
     "output_type": "execute_result"
    }
   ],
   "source": [
    "P = F.groupby('week_hour')['BTCUSDT'].mean().cumsum()\n",
    "P"
   ]
  },
  {
   "cell_type": "code",
   "execution_count": 6,
   "id": "777f0cbe-6587-4c49-8c8b-01a0e3e49a02",
   "metadata": {},
   "outputs": [
    {
     "data": {
      "text/plain": [
       "[0, 24, 48, 72, 96, 120, 144]"
      ]
     },
     "execution_count": 6,
     "metadata": {},
     "output_type": "execute_result"
    }
   ],
   "source": [
    "Hours = list(range(0, 168, 24))\n",
    "Hours"
   ]
  },
  {
   "cell_type": "code",
   "execution_count": 9,
   "id": "0dcde271-3951-457e-b530-70f96b4befa4",
   "metadata": {},
   "outputs": [],
   "source": [
    "def model(index: int = (0, len(tickers))):\n",
    "    Profile = F.groupby('week_hour')[tickers[index]].mean().cumsum()\n",
    "    return 0, locals()"
   ]
  },
  {
   "cell_type": "code",
   "execution_count": 7,
   "id": "3a395898-1cb6-4074-b716-09afecab5002",
   "metadata": {},
   "outputs": [
    {
     "data": {
      "application/vnd.jupyter.widget-view+json": {
       "model_id": "786c174ed34a460c97683dbe14ffd2ea",
       "version_major": 2,
       "version_minor": 0
      },
      "text/plain": [
       "FigureWidgetResampler({\n",
       "    'data': [{'line': {'width': 6},\n",
       "              'name': 'Profile',\n",
       "              'op…"
      ]
     },
     "metadata": {},
     "output_type": "display_data"
    }
   ],
   "source": [
    "fig = chartFigure(height=500,\n",
    "                  Profile=dict(y=P, width=6, opacity=0.3),\n",
    "                  Weekdays=dict(x=Hours, y=[0] * 7, mode=\"text\", textposition=\"top right\",\n",
    "                                text=[f'{day: >16}' for day in day_name]))\n",
    "\n",
    "Hours.append(168)\n",
    "[fig.add_vline(x=hour, line_color='gray', line_dash='dot') for hour in Hours]\n",
    "\n",
    "fig"
   ]
  }
 ],
 "metadata": {
  "kernelspec": {
   "display_name": "Python 3 (ipykernel)",
   "language": "python",
   "name": "python3"
  },
  "language_info": {
   "codemirror_mode": {
    "name": "ipython",
    "version": 3
   },
   "file_extension": ".py",
   "mimetype": "text/x-python",
   "name": "python",
   "nbconvert_exporter": "python",
   "pygments_lexer": "ipython3",
   "version": "3.8.13"
  }
 },
 "nbformat": 4,
 "nbformat_minor": 5
}

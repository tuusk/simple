{
 "cells": [
  {
   "cell_type": "code",
   "execution_count": 1,
   "id": "d3fbaac6",
   "metadata": {
    "ExecuteTime": {
     "end_time": "2022-05-03T19:02:33.719235Z",
     "start_time": "2022-05-03T19:02:32.653366Z"
    },
    "execution": {
     "iopub.execute_input": "2022-06-29T07:23:49.377546Z",
     "iopub.status.busy": "2022-06-29T07:23:49.377546Z",
     "iopub.status.idle": "2022-06-29T07:23:50.759309Z",
     "shell.execute_reply": "2022-06-29T07:23:50.759309Z",
     "shell.execute_reply.started": "2022-06-29T07:23:49.377546Z"
    },
    "tags": []
   },
   "outputs": [
    {
     "data": {
      "text/plain": [
       "'memory profile enabled'"
      ]
     },
     "execution_count": 1,
     "metadata": {},
     "output_type": "execute_result"
    },
    {
     "name": "stdout",
     "output_type": "stream",
     "text": [
      "In [1] used 0.0703 MiB RAM in 0.10s, peaked 0.00 MiB above current, total RAM usage 186.65 MiB\n"
     ]
    }
   ],
   "source": [
    "import numpy as np\n",
    "from simple.hurst import HurstRS, HurstDMA, HurstDSOD\n",
    "from simple.funcs import hurst\n",
    "from simple.pretty import prun\n",
    "from simple.numpy import rolling_apply\n",
    "from simple.plotly import chartFigure, updateLines\n",
    "import ipython_memory_usage\n",
    "%ipython_memory_usage_start"
   ]
  },
  {
   "cell_type": "code",
   "execution_count": 2,
   "id": "27037c4c-78d3-4557-85f1-9e6d9437db3b",
   "metadata": {
    "execution": {
     "iopub.execute_input": "2022-06-29T07:23:51.333867Z",
     "iopub.status.busy": "2022-06-29T07:23:51.333867Z",
     "iopub.status.idle": "2022-06-29T07:23:51.436952Z",
     "shell.execute_reply": "2022-06-29T07:23:51.436952Z",
     "shell.execute_reply.started": "2022-06-29T07:23:51.333867Z"
    }
   },
   "outputs": [
    {
     "name": "stdout",
     "output_type": "stream",
     "text": [
      "In [2] used 0.0391 MiB RAM in 0.10s, peaked 0.00 MiB above current, total RAM usage 186.69 MiB\n"
     ]
    }
   ],
   "source": [
    "period = 2000"
   ]
  },
  {
   "cell_type": "raw",
   "id": "1fdf33f5-92b8-43df-868c-a62cf60ecbf9",
   "metadata": {
    "ExecuteTime": {
     "end_time": "2022-05-03T19:02:33.724180Z",
     "start_time": "2022-05-03T19:02:33.720625Z"
    }
   },
   "source": [
    "def hurstSeries(X: np.array, Period: int) -> np.array:\n",
    "    return rolling_apply(lambda x: hurst_dma(x, min_chunksize=8, max_chunksize=200, num_chunksize=5), Period, X, n_jobs=128, progress=True)"
   ]
  },
  {
   "cell_type": "code",
   "execution_count": 3,
   "id": "8c687126-2e57-46c7-b159-cada8acb1399",
   "metadata": {
    "execution": {
     "iopub.execute_input": "2022-06-29T07:23:52.639984Z",
     "iopub.status.busy": "2022-06-29T07:23:52.639984Z",
     "iopub.status.idle": "2022-06-29T07:23:52.743031Z",
     "shell.execute_reply": "2022-06-29T07:23:52.743031Z",
     "shell.execute_reply.started": "2022-06-29T07:23:52.639984Z"
    }
   },
   "outputs": [
    {
     "name": "stdout",
     "output_type": "stream",
     "text": [
      "In [3] used 0.0859 MiB RAM in 0.10s, peaked 0.00 MiB above current, total RAM usage 186.77 MiB\n"
     ]
    }
   ],
   "source": [
    "def hurstSeries(X: np.array, Period: int) -> np.array:\n",
    "    return rolling_apply(lambda x: hurst(x), Period, X, n_jobs=128, progress=True)"
   ]
  },
  {
   "cell_type": "code",
   "execution_count": 4,
   "id": "d43e3370",
   "metadata": {
    "ExecuteTime": {
     "end_time": "2022-05-03T19:02:33.839903Z",
     "start_time": "2022-05-03T19:02:33.725569Z"
    },
    "execution": {
     "iopub.execute_input": "2022-06-29T07:23:59.346471Z",
     "iopub.status.busy": "2022-06-29T07:23:59.346471Z",
     "iopub.status.idle": "2022-06-29T07:23:59.549657Z",
     "shell.execute_reply": "2022-06-29T07:23:59.549657Z",
     "shell.execute_reply.started": "2022-06-29T07:23:59.346471Z"
    }
   },
   "outputs": [
    {
     "data": {
      "text/plain": [
       "20000"
      ]
     },
     "execution_count": 4,
     "metadata": {},
     "output_type": "execute_result"
    },
    {
     "name": "stdout",
     "output_type": "stream",
     "text": [
      "In [4] used 35.4961 MiB RAM in 0.20s, peaked 0.00 MiB above current, total RAM usage 222.27 MiB\n"
     ]
    }
   ],
   "source": [
    "T = np.load('data/ETHUSDT.2022-05-08.tick.npz')['ETHUSDT'].view(np.recarray)[:20_000]\n",
    "len(T)"
   ]
  },
  {
   "cell_type": "code",
   "execution_count": 5,
   "id": "36aa403d-31a1-470a-8d87-8a4ab2c29099",
   "metadata": {
    "execution": {
     "iopub.execute_input": "2022-06-29T07:24:00.460026Z",
     "iopub.status.busy": "2022-06-29T07:24:00.460026Z",
     "iopub.status.idle": "2022-06-29T07:24:01.021518Z",
     "shell.execute_reply": "2022-06-29T07:24:01.021518Z",
     "shell.execute_reply.started": "2022-06-29T07:24:00.460026Z"
    },
    "tags": []
   },
   "outputs": [
    {
     "data": {
      "application/vnd.jupyter.widget-view+json": {
       "model_id": "48e7d965012c407d9eef21679f6912b4",
       "version_major": 2,
       "version_minor": 0
      },
      "text/plain": [
       "FigureWidgetResampler({\n",
       "    'data': [{'name': '<b style=\"color:sandybrown\">[R]</b> Price <i style=\"color:#fc99…"
      ]
     },
     "metadata": {},
     "output_type": "display_data"
    },
    {
     "name": "stdout",
     "output_type": "stream",
     "text": [
      "In [5] used 18.1094 MiB RAM in 0.56s, peaked 0.00 MiB above current, total RAM usage 240.38 MiB\n"
     ]
    }
   ],
   "source": [
    "fig = chartFigure(Price=T.Price, rows=2, HurstDSOD={'row': 2}, hurstSeries={'row': 2}, HurstRS={'row': 2}, HurstDMA={'row': 2})\n",
    "fig"
   ]
  },
  {
   "cell_type": "code",
   "execution_count": 6,
   "id": "a3e725ab-61a0-4b1b-8a59-9308d89f33fd",
   "metadata": {
    "execution": {
     "iopub.execute_input": "2022-06-29T07:24:02.061575Z",
     "iopub.status.busy": "2022-06-29T07:24:02.061575Z",
     "iopub.status.idle": "2022-06-29T07:24:04.411893Z",
     "shell.execute_reply": "2022-06-29T07:24:04.411893Z",
     "shell.execute_reply.started": "2022-06-29T07:24:02.061575Z"
    },
    "tags": []
   },
   "outputs": [
    {
     "name": "stdout",
     "output_type": "stream",
     "text": [
      "In [6] used 1.1094 MiB RAM in 2.35s, peaked 0.00 MiB above current, total RAM usage 241.49 MiB\n"
     ]
    }
   ],
   "source": [
    "h = np.nan_to_num(HurstDSOD(T.Price, period))\n",
    "updateLines(fig, HurstDSOD=h)"
   ]
  },
  {
   "cell_type": "code",
   "execution_count": 7,
   "id": "f27a022a-e6c6-4026-b735-290c6c73de10",
   "metadata": {
    "execution": {
     "iopub.execute_input": "2022-06-29T07:24:07.214719Z",
     "iopub.status.busy": "2022-06-29T07:24:07.214719Z",
     "iopub.status.idle": "2022-06-29T07:24:12.183969Z",
     "shell.execute_reply": "2022-06-29T07:24:12.183969Z",
     "shell.execute_reply.started": "2022-06-29T07:24:07.214719Z"
    },
    "tags": []
   },
   "outputs": [
    {
     "data": {
      "application/vnd.jupyter.widget-view+json": {
       "model_id": "fe955ce2ba9441d6a2e3553835659a8a",
       "version_major": 2,
       "version_minor": 0
      },
      "text/plain": [
       "  0%|          | 0/18000 [00:00<?, ?it/s]"
      ]
     },
     "metadata": {},
     "output_type": "display_data"
    },
    {
     "name": "stdout",
     "output_type": "stream",
     "text": [
      "In [7] used 5.7383 MiB RAM in 4.97s, peaked 0.00 MiB above current, total RAM usage 247.23 MiB\n"
     ]
    }
   ],
   "source": [
    "h = np.nan_to_num(hurstSeries(T.Price, period))\n",
    "updateLines(fig, hurstSeries=h)"
   ]
  },
  {
   "cell_type": "code",
   "execution_count": 8,
   "id": "b2f9676b-3b8e-43ae-bdf4-f3eae1ec4045",
   "metadata": {
    "execution": {
     "iopub.execute_input": "2022-06-29T07:24:13.438138Z",
     "iopub.status.busy": "2022-06-29T07:24:13.437138Z",
     "iopub.status.idle": "2022-06-29T07:24:18.054019Z",
     "shell.execute_reply": "2022-06-29T07:24:18.054019Z",
     "shell.execute_reply.started": "2022-06-29T07:24:13.438138Z"
    },
    "tags": []
   },
   "outputs": [
    {
     "data": {
      "application/vnd.jupyter.widget-view+json": {
       "model_id": "45f5dafb6b3f4418a49c1b27a04ce9e8",
       "version_major": 2,
       "version_minor": 0
      },
      "text/plain": [
       "  0%|          | 0/32 [00:00<?, ?it/s]"
      ]
     },
     "metadata": {},
     "output_type": "display_data"
    },
    {
     "name": "stdout",
     "output_type": "stream",
     "text": [
      "In [8] used 43.2109 MiB RAM in 4.61s, peaked 3.45 MiB above current, total RAM usage 290.44 MiB\n"
     ]
    }
   ],
   "source": [
    "h = np.nan_to_num(prun(lambda src, period: HurstRS(np.diff(src, prepend=0), period), T.Price, 2000))\n",
    "updateLines(fig, HurstRS=h)"
   ]
  },
  {
   "cell_type": "code",
   "execution_count": 9,
   "id": "38abeb35-0f88-42d8-9b08-318a7b3bf9cb",
   "metadata": {
    "execution": {
     "iopub.execute_input": "2022-06-29T07:24:20.595011Z",
     "iopub.status.busy": "2022-06-29T07:24:20.595011Z",
     "iopub.status.idle": "2022-06-29T07:25:41.755333Z",
     "shell.execute_reply": "2022-06-29T07:25:41.755333Z",
     "shell.execute_reply.started": "2022-06-29T07:24:20.595011Z"
    },
    "tags": []
   },
   "outputs": [
    {
     "data": {
      "application/vnd.jupyter.widget-view+json": {
       "model_id": "4e62497615764423b4a166c6119faf84",
       "version_major": 2,
       "version_minor": 0
      },
      "text/plain": [
       "  0%|          | 0/32 [00:00<?, ?it/s]"
      ]
     },
     "metadata": {},
     "output_type": "display_data"
    },
    {
     "name": "stdout",
     "output_type": "stream",
     "text": [
      "In [9] used 2.0312 MiB RAM in 81.16s, peaked 3.79 MiB above current, total RAM usage 292.47 MiB\n"
     ]
    }
   ],
   "source": [
    "h = np.nan_to_num(prun(HurstDMA, T.Price, 2000))\n",
    "updateLines(fig, HurstDMA=h)"
   ]
  },
  {
   "cell_type": "code",
   "execution_count": null,
   "id": "47fed910-304d-4505-b24a-6f35d88221ef",
   "metadata": {},
   "outputs": [],
   "source": []
  }
 ],
 "metadata": {
  "kernelspec": {
   "display_name": "Python 3 (ipykernel)",
   "language": "python",
   "name": "python3"
  },
  "language_info": {
   "codemirror_mode": {
    "name": "ipython",
    "version": 3
   },
   "file_extension": ".py",
   "mimetype": "text/x-python",
   "name": "python",
   "nbconvert_exporter": "python",
   "pygments_lexer": "ipython3",
   "version": "3.9.12"
  },
  "widgets": {
   "application/vnd.jupyter.widget-state+json": {
    "state": {
     "0b0f1732c0784e59b59579db70330235": {
      "model_module": "@jupyter-widgets/controls",
      "model_module_version": "1.5.0",
      "model_name": "FloatProgressModel",
      "state": {
       "bar_style": "success",
       "layout": "IPY_MODEL_cf32e2f153e7479f8189ddd738a4ec0c",
       "max": 18000,
       "style": "IPY_MODEL_b0f0f248b3934d22a10cc74a1be4f40c",
       "value": 18000
      }
     },
     "19ef6d21ec3b430b94a8ce61d824067d": {
      "model_module": "@jupyter-widgets/base",
      "model_module_version": "1.2.0",
      "model_name": "LayoutModel",
      "state": {}
     },
     "406a4551a7224d219a49e8dfec52850b": {
      "model_module": "@jupyter-widgets/base",
      "model_module_version": "1.2.0",
      "model_name": "LayoutModel",
      "state": {}
     },
     "4eb1c89f782b47caa79fafeb4e76440c": {
      "model_module": "@jupyter-widgets/controls",
      "model_module_version": "1.5.0",
      "model_name": "HBoxModel",
      "state": {
       "children": [
        "IPY_MODEL_878a4ab7b6024d689eed412bb5e6b25f",
        "IPY_MODEL_0b0f1732c0784e59b59579db70330235",
        "IPY_MODEL_503d35a3b11c41548dd2743e0f966f64"
       ],
       "layout": "IPY_MODEL_19ef6d21ec3b430b94a8ce61d824067d"
      }
     },
     "503d35a3b11c41548dd2743e0f966f64": {
      "model_module": "@jupyter-widgets/controls",
      "model_module_version": "1.5.0",
      "model_name": "HTMLModel",
      "state": {
       "layout": "IPY_MODEL_b34ccd3c496545c08ef526f932fd2209",
       "style": "IPY_MODEL_e98015b5239540e590b1fb4a502ed03f",
       "value": " 18001/? [00:47&lt;00:00, 379.66it/s, cpu=11%]"
      }
     },
     "878a4ab7b6024d689eed412bb5e6b25f": {
      "model_module": "@jupyter-widgets/controls",
      "model_module_version": "1.5.0",
      "model_name": "HTMLModel",
      "state": {
       "layout": "IPY_MODEL_406a4551a7224d219a49e8dfec52850b",
       "style": "IPY_MODEL_c2b65868761f4ab48f1f21ff316d55c7"
      }
     },
     "b0f0f248b3934d22a10cc74a1be4f40c": {
      "model_module": "@jupyter-widgets/controls",
      "model_module_version": "1.5.0",
      "model_name": "ProgressStyleModel",
      "state": {
       "description_width": ""
      }
     },
     "b34ccd3c496545c08ef526f932fd2209": {
      "model_module": "@jupyter-widgets/base",
      "model_module_version": "1.2.0",
      "model_name": "LayoutModel",
      "state": {}
     },
     "c2b65868761f4ab48f1f21ff316d55c7": {
      "model_module": "@jupyter-widgets/controls",
      "model_module_version": "1.5.0",
      "model_name": "DescriptionStyleModel",
      "state": {
       "description_width": ""
      }
     },
     "cf32e2f153e7479f8189ddd738a4ec0c": {
      "model_module": "@jupyter-widgets/base",
      "model_module_version": "1.2.0",
      "model_name": "LayoutModel",
      "state": {}
     },
     "e98015b5239540e590b1fb4a502ed03f": {
      "model_module": "@jupyter-widgets/controls",
      "model_module_version": "1.5.0",
      "model_name": "DescriptionStyleModel",
      "state": {
       "description_width": ""
      }
     }
    },
    "version_major": 2,
    "version_minor": 0
   }
  }
 },
 "nbformat": 4,
 "nbformat_minor": 5
}

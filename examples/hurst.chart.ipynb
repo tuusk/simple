{
 "cells": [
  {
   "cell_type": "code",
   "execution_count": null,
   "id": "d3fbaac6",
   "metadata": {
    "ExecuteTime": {
     "end_time": "2022-05-03T19:02:33.719235Z",
     "start_time": "2022-05-03T19:02:32.653366Z"
    },
    "tags": []
   },
   "outputs": [],
   "source": [
    "import numpy as np\n",
    "from simple.hurst import HurstRS, HurstDMA, HurstDSOD\n",
    "from simple.funcs import hurst\n",
    "from simple.pretty import prun\n",
    "from simple.numpy import rolling_apply\n",
    "from simple.chart import chartFigure, updateFigure\n",
    "import ipython_memory_usage"
   ]
  },
  {
   "cell_type": "code",
   "execution_count": null,
   "id": "27037c4c-78d3-4557-85f1-9e6d9437db3b",
   "metadata": {},
   "outputs": [],
   "source": [
    "period = 2000"
   ]
  },
  {
   "cell_type": "raw",
   "id": "1fdf33f5-92b8-43df-868c-a62cf60ecbf9",
   "metadata": {
    "ExecuteTime": {
     "end_time": "2022-05-03T19:02:33.724180Z",
     "start_time": "2022-05-03T19:02:33.720625Z"
    }
   },
   "source": [
    "def hurstSeries(X: np.array, Period: int) -> np.array:\n",
    "    return rolling_apply(lambda x: hurst_dma(x, min_chunksize=8, max_chunksize=200, num_chunksize=5), Period, X, n_jobs=128, progress=True)"
   ]
  },
  {
   "cell_type": "code",
   "execution_count": null,
   "id": "8c687126-2e57-46c7-b159-cada8acb1399",
   "metadata": {},
   "outputs": [],
   "source": [
    "def hurstSeries(X: np.array, Period: int) -> np.array:\n",
    "    return rolling_apply(lambda x: hurst(x), Period, X, n_jobs=128, progress=True)"
   ]
  },
  {
   "cell_type": "code",
   "execution_count": null,
   "id": "d43e3370",
   "metadata": {
    "ExecuteTime": {
     "end_time": "2022-05-03T19:02:33.839903Z",
     "start_time": "2022-05-03T19:02:33.725569Z"
    }
   },
   "outputs": [],
   "source": [
    "T = np.load('data/ETHUSDT.2022-05-08.tick.npz')['ETHUSDT'].view(np.recarray)[:20_000]\n",
    "len(T)"
   ]
  },
  {
   "cell_type": "code",
   "execution_count": null,
   "id": "36aa403d-31a1-470a-8d87-8a4ab2c29099",
   "metadata": {
    "tags": []
   },
   "outputs": [],
   "source": [
    "fig = chartFigure(Price=T.Price, rows=2, HurstDSOD={'row': 2}, hurstSeries={'row': 2}, HurstRS={'row': 2}, HurstDMA={'row': 2})\n",
    "fig"
   ]
  },
  {
   "cell_type": "code",
   "execution_count": null,
   "id": "a3e725ab-61a0-4b1b-8a59-9308d89f33fd",
   "metadata": {
    "tags": []
   },
   "outputs": [],
   "source": [
    "h = np.nan_to_num(HurstDSOD(T.Price, period))\n",
    "updateFigure(fig, HurstDSOD=h)"
   ]
  },
  {
   "cell_type": "code",
   "execution_count": null,
   "id": "f27a022a-e6c6-4026-b735-290c6c73de10",
   "metadata": {
    "tags": []
   },
   "outputs": [],
   "source": [
    "h = np.nan_to_num(hurstSeries(T.Price, period))\n",
    "updateFigure(fig, hurstSeries=h)"
   ]
  },
  {
   "cell_type": "code",
   "execution_count": null,
   "id": "b2f9676b-3b8e-43ae-bdf4-f3eae1ec4045",
   "metadata": {
    "tags": []
   },
   "outputs": [],
   "source": [
    "h = np.nan_to_num(prun(lambda src, period: HurstRS(np.diff(src, prepend=0), period), T.Price, period))\n",
    "updateFigure(fig, HurstRS=h)"
   ]
  },
  {
   "cell_type": "code",
   "execution_count": null,
   "id": "38abeb35-0f88-42d8-9b08-318a7b3bf9cb",
   "metadata": {
    "tags": []
   },
   "outputs": [],
   "source": [
    "h = np.nan_to_num(prun(HurstDMA, T.Price, period))\n",
    "updateFigure(fig, HurstDMA=h)"
   ]
  }
 ],
 "metadata": {
  "kernelspec": {
   "display_name": "Python 3 (ipykernel)",
   "language": "python",
   "name": "python3"
  },
  "language_info": {
   "codemirror_mode": {
    "name": "ipython",
    "version": 3
   },
   "file_extension": ".py",
   "mimetype": "text/x-python",
   "name": "python",
   "nbconvert_exporter": "python",
   "pygments_lexer": "ipython3",
   "version": "3.8.13"
  },
  "widgets": {
   "application/vnd.jupyter.widget-state+json": {
    "state": {},
    "version_major": 2,
    "version_minor": 0
   }
  }
 },
 "nbformat": 4,
 "nbformat_minor": 5
}

{
 "cells": [
  {
   "cell_type": "markdown",
   "id": "50d34c39-1ccb-4a96-96af-0697c8453786",
   "metadata": {},
   "source": [
    "# Sliding window correlation of Binance spot major tickers"
   ]
  },
  {
   "cell_type": "code",
   "execution_count": 1,
   "id": "6dd2b9a4-4006-4458-97f0-8b9422115961",
   "metadata": {
    "tags": []
   },
   "outputs": [],
   "source": [
    "import pandas as pd\n",
    "from simple.pretty import pmap\n",
    "from simple.binance import getHistMonth\n",
    "from simple.plotly import chartFigure\n",
    "from datetime import datetime\n",
    "from time import sleep"
   ]
  },
  {
   "cell_type": "code",
   "execution_count": 2,
   "id": "18fe0f01-427b-4dfe-8a81-06ba898c8f25",
   "metadata": {},
   "outputs": [],
   "source": [
    "frame = '1h'\n",
    "start_month = '2022-04'\n",
    "end_month = '2022-05'\n",
    "tickers = ['XLMUSDT', 'ETHUSDT', 'LTCUSDT', 'TRXUSDT', 'BNBUSDT', 'ADAUSDT',\n",
    "           'BTCUSDT', 'ETCUSDT', 'XRPUSDT', 'XMRUSDT', 'ZECUSDT', 'EOSUSDT']"
   ]
  },
  {
   "cell_type": "code",
   "execution_count": 3,
   "id": "a88ec1aa-7f6d-4770-b3c7-ffc49ccb718a",
   "metadata": {},
   "outputs": [],
   "source": [
    "def getClose(ticker):\n",
    "    return getHistMonth(start_month, end_month, ticker, frame, close_only=True, spot=True).dropna()"
   ]
  },
  {
   "cell_type": "code",
   "execution_count": 4,
   "id": "98f082a8-8d76-45af-be43-67cffec9bd6c",
   "metadata": {},
   "outputs": [
    {
     "data": {
      "application/vnd.jupyter.widget-view+json": {
       "model_id": "227bd60581e840a2bd447dedafeb7aa8",
       "version_major": 2,
       "version_minor": 0
      },
      "text/plain": [
       "  0%|          | 0/12 [00:00<?, ?it/s]"
      ]
     },
     "metadata": {},
     "output_type": "display_data"
    },
    {
     "data": {
      "text/html": [
       "<div>\n",
       "<style scoped>\n",
       "    .dataframe tbody tr th:only-of-type {\n",
       "        vertical-align: middle;\n",
       "    }\n",
       "\n",
       "    .dataframe tbody tr th {\n",
       "        vertical-align: top;\n",
       "    }\n",
       "\n",
       "    .dataframe thead th {\n",
       "        text-align: right;\n",
       "    }\n",
       "</style>\n",
       "<table border=\"1\" class=\"dataframe\">\n",
       "  <thead>\n",
       "    <tr style=\"text-align: right;\">\n",
       "      <th></th>\n",
       "      <th>XLMUSDT</th>\n",
       "      <th>ETHUSDT</th>\n",
       "      <th>LTCUSDT</th>\n",
       "      <th>TRXUSDT</th>\n",
       "      <th>BNBUSDT</th>\n",
       "      <th>ADAUSDT</th>\n",
       "      <th>BTCUSDT</th>\n",
       "      <th>ETCUSDT</th>\n",
       "      <th>XRPUSDT</th>\n",
       "      <th>XMRUSDT</th>\n",
       "      <th>ZECUSDT</th>\n",
       "      <th>EOSUSDT</th>\n",
       "    </tr>\n",
       "    <tr>\n",
       "      <th>DT</th>\n",
       "      <th></th>\n",
       "      <th></th>\n",
       "      <th></th>\n",
       "      <th></th>\n",
       "      <th></th>\n",
       "      <th></th>\n",
       "      <th></th>\n",
       "      <th></th>\n",
       "      <th></th>\n",
       "      <th></th>\n",
       "      <th></th>\n",
       "      <th></th>\n",
       "    </tr>\n",
       "  </thead>\n",
       "  <tbody>\n",
       "    <tr>\n",
       "      <th>2022-04-01 00:00:00</th>\n",
       "      <td>0.2297</td>\n",
       "      <td>3300.98</td>\n",
       "      <td>124.5</td>\n",
       "      <td>0.07499</td>\n",
       "      <td>429.1</td>\n",
       "      <td>1.1470</td>\n",
       "      <td>45541.50</td>\n",
       "      <td>47.33</td>\n",
       "      <td>0.8268</td>\n",
       "      <td>214.0</td>\n",
       "      <td>181.7</td>\n",
       "      <td>2.851</td>\n",
       "    </tr>\n",
       "    <tr>\n",
       "      <th>2022-04-01 01:00:00</th>\n",
       "      <td>0.2261</td>\n",
       "      <td>3256.98</td>\n",
       "      <td>122.3</td>\n",
       "      <td>0.07316</td>\n",
       "      <td>423.0</td>\n",
       "      <td>1.1330</td>\n",
       "      <td>44923.77</td>\n",
       "      <td>45.52</td>\n",
       "      <td>0.8188</td>\n",
       "      <td>212.6</td>\n",
       "      <td>178.8</td>\n",
       "      <td>2.777</td>\n",
       "    </tr>\n",
       "    <tr>\n",
       "      <th>2022-04-01 02:00:00</th>\n",
       "      <td>0.2222</td>\n",
       "      <td>3225.93</td>\n",
       "      <td>119.8</td>\n",
       "      <td>0.07164</td>\n",
       "      <td>415.8</td>\n",
       "      <td>1.1100</td>\n",
       "      <td>44392.71</td>\n",
       "      <td>44.11</td>\n",
       "      <td>0.8124</td>\n",
       "      <td>209.3</td>\n",
       "      <td>172.9</td>\n",
       "      <td>2.693</td>\n",
       "    </tr>\n",
       "    <tr>\n",
       "      <th>2022-04-01 03:00:00</th>\n",
       "      <td>0.2238</td>\n",
       "      <td>3250.29</td>\n",
       "      <td>121.0</td>\n",
       "      <td>0.07286</td>\n",
       "      <td>418.9</td>\n",
       "      <td>1.1230</td>\n",
       "      <td>44599.98</td>\n",
       "      <td>44.80</td>\n",
       "      <td>0.8204</td>\n",
       "      <td>210.8</td>\n",
       "      <td>176.9</td>\n",
       "      <td>2.725</td>\n",
       "    </tr>\n",
       "    <tr>\n",
       "      <th>2022-04-01 04:00:00</th>\n",
       "      <td>0.2240</td>\n",
       "      <td>3247.33</td>\n",
       "      <td>121.6</td>\n",
       "      <td>0.07301</td>\n",
       "      <td>420.0</td>\n",
       "      <td>1.1230</td>\n",
       "      <td>44642.44</td>\n",
       "      <td>44.70</td>\n",
       "      <td>0.8215</td>\n",
       "      <td>213.7</td>\n",
       "      <td>174.4</td>\n",
       "      <td>2.732</td>\n",
       "    </tr>\n",
       "    <tr>\n",
       "      <th>...</th>\n",
       "      <td>...</td>\n",
       "      <td>...</td>\n",
       "      <td>...</td>\n",
       "      <td>...</td>\n",
       "      <td>...</td>\n",
       "      <td>...</td>\n",
       "      <td>...</td>\n",
       "      <td>...</td>\n",
       "      <td>...</td>\n",
       "      <td>...</td>\n",
       "      <td>...</td>\n",
       "      <td>...</td>\n",
       "    </tr>\n",
       "    <tr>\n",
       "      <th>2022-05-31 19:00:00</th>\n",
       "      <td>0.1479</td>\n",
       "      <td>1934.21</td>\n",
       "      <td>67.9</td>\n",
       "      <td>0.08110</td>\n",
       "      <td>318.8</td>\n",
       "      <td>0.5988</td>\n",
       "      <td>31625.71</td>\n",
       "      <td>23.52</td>\n",
       "      <td>0.4145</td>\n",
       "      <td>193.5</td>\n",
       "      <td>92.3</td>\n",
       "      <td>1.353</td>\n",
       "    </tr>\n",
       "    <tr>\n",
       "      <th>2022-05-31 20:00:00</th>\n",
       "      <td>0.1500</td>\n",
       "      <td>1953.66</td>\n",
       "      <td>68.5</td>\n",
       "      <td>0.08210</td>\n",
       "      <td>320.3</td>\n",
       "      <td>0.6038</td>\n",
       "      <td>31813.65</td>\n",
       "      <td>23.68</td>\n",
       "      <td>0.4200</td>\n",
       "      <td>196.3</td>\n",
       "      <td>93.1</td>\n",
       "      <td>1.362</td>\n",
       "    </tr>\n",
       "    <tr>\n",
       "      <th>2022-05-31 21:00:00</th>\n",
       "      <td>0.1491</td>\n",
       "      <td>1947.46</td>\n",
       "      <td>68.3</td>\n",
       "      <td>0.08187</td>\n",
       "      <td>319.4</td>\n",
       "      <td>0.6133</td>\n",
       "      <td>31720.01</td>\n",
       "      <td>23.65</td>\n",
       "      <td>0.4210</td>\n",
       "      <td>196.9</td>\n",
       "      <td>92.9</td>\n",
       "      <td>1.361</td>\n",
       "    </tr>\n",
       "    <tr>\n",
       "      <th>2022-05-31 22:00:00</th>\n",
       "      <td>0.1518</td>\n",
       "      <td>1957.09</td>\n",
       "      <td>69.0</td>\n",
       "      <td>0.08205</td>\n",
       "      <td>322.2</td>\n",
       "      <td>0.6399</td>\n",
       "      <td>31869.28</td>\n",
       "      <td>23.95</td>\n",
       "      <td>0.4251</td>\n",
       "      <td>200.9</td>\n",
       "      <td>94.0</td>\n",
       "      <td>1.388</td>\n",
       "    </tr>\n",
       "    <tr>\n",
       "      <th>2022-05-31 23:00:00</th>\n",
       "      <td>0.1507</td>\n",
       "      <td>1941.90</td>\n",
       "      <td>68.4</td>\n",
       "      <td>0.08441</td>\n",
       "      <td>320.9</td>\n",
       "      <td>0.6268</td>\n",
       "      <td>31801.04</td>\n",
       "      <td>23.77</td>\n",
       "      <td>0.4217</td>\n",
       "      <td>198.6</td>\n",
       "      <td>93.3</td>\n",
       "      <td>1.380</td>\n",
       "    </tr>\n",
       "  </tbody>\n",
       "</table>\n",
       "<p>1464 rows × 12 columns</p>\n",
       "</div>"
      ],
      "text/plain": [
       "                     XLMUSDT  ETHUSDT  LTCUSDT  TRXUSDT  BNBUSDT  ADAUSDT  \\\n",
       "DT                                                                          \n",
       "2022-04-01 00:00:00   0.2297  3300.98    124.5  0.07499    429.1   1.1470   \n",
       "2022-04-01 01:00:00   0.2261  3256.98    122.3  0.07316    423.0   1.1330   \n",
       "2022-04-01 02:00:00   0.2222  3225.93    119.8  0.07164    415.8   1.1100   \n",
       "2022-04-01 03:00:00   0.2238  3250.29    121.0  0.07286    418.9   1.1230   \n",
       "2022-04-01 04:00:00   0.2240  3247.33    121.6  0.07301    420.0   1.1230   \n",
       "...                      ...      ...      ...      ...      ...      ...   \n",
       "2022-05-31 19:00:00   0.1479  1934.21     67.9  0.08110    318.8   0.5988   \n",
       "2022-05-31 20:00:00   0.1500  1953.66     68.5  0.08210    320.3   0.6038   \n",
       "2022-05-31 21:00:00   0.1491  1947.46     68.3  0.08187    319.4   0.6133   \n",
       "2022-05-31 22:00:00   0.1518  1957.09     69.0  0.08205    322.2   0.6399   \n",
       "2022-05-31 23:00:00   0.1507  1941.90     68.4  0.08441    320.9   0.6268   \n",
       "\n",
       "                      BTCUSDT  ETCUSDT  XRPUSDT  XMRUSDT  ZECUSDT  EOSUSDT  \n",
       "DT                                                                          \n",
       "2022-04-01 00:00:00  45541.50    47.33   0.8268    214.0    181.7    2.851  \n",
       "2022-04-01 01:00:00  44923.77    45.52   0.8188    212.6    178.8    2.777  \n",
       "2022-04-01 02:00:00  44392.71    44.11   0.8124    209.3    172.9    2.693  \n",
       "2022-04-01 03:00:00  44599.98    44.80   0.8204    210.8    176.9    2.725  \n",
       "2022-04-01 04:00:00  44642.44    44.70   0.8215    213.7    174.4    2.732  \n",
       "...                       ...      ...      ...      ...      ...      ...  \n",
       "2022-05-31 19:00:00  31625.71    23.52   0.4145    193.5     92.3    1.353  \n",
       "2022-05-31 20:00:00  31813.65    23.68   0.4200    196.3     93.1    1.362  \n",
       "2022-05-31 21:00:00  31720.01    23.65   0.4210    196.9     92.9    1.361  \n",
       "2022-05-31 22:00:00  31869.28    23.95   0.4251    200.9     94.0    1.388  \n",
       "2022-05-31 23:00:00  31801.04    23.77   0.4217    198.6     93.3    1.380  \n",
       "\n",
       "[1464 rows x 12 columns]"
      ]
     },
     "execution_count": 4,
     "metadata": {},
     "output_type": "execute_result"
    }
   ],
   "source": [
    "F = pd.concat(pmap(getClose, tickers), axis=1)\n",
    "F"
   ]
  },
  {
   "cell_type": "code",
   "execution_count": 5,
   "id": "3a8a07e1-2e36-48b4-a13c-59ed7c4f1e7a",
   "metadata": {},
   "outputs": [
    {
     "data": {
      "text/plain": [
       "DT\n",
       "2022-05-31 19:00:00    0.479651\n",
       "2022-05-31 20:00:00    0.468829\n",
       "2022-05-31 21:00:00    0.466356\n",
       "2022-05-31 22:00:00    0.473274\n",
       "2022-05-31 23:00:00    0.481748\n",
       "Name: BTCUSDT, dtype: float64"
      ]
     },
     "execution_count": 5,
     "metadata": {},
     "output_type": "execute_result"
    }
   ],
   "source": [
    "# calculate mean sliding correlation\n",
    "C = F.BTCUSDT.rolling(40).apply(lambda row: F.loc[row.index].corr().mean().mean())\n",
    "C.tail()"
   ]
  },
  {
   "cell_type": "code",
   "execution_count": 6,
   "id": "acb583af-3b3c-4838-8153-3044cf342334",
   "metadata": {
    "tags": []
   },
   "outputs": [
    {
     "data": {
      "text/html": [
       "<div>\n",
       "<style scoped>\n",
       "    .dataframe tbody tr th:only-of-type {\n",
       "        vertical-align: middle;\n",
       "    }\n",
       "\n",
       "    .dataframe tbody tr th {\n",
       "        vertical-align: top;\n",
       "    }\n",
       "\n",
       "    .dataframe thead th {\n",
       "        text-align: right;\n",
       "    }\n",
       "</style>\n",
       "<table border=\"1\" class=\"dataframe\">\n",
       "  <thead>\n",
       "    <tr style=\"text-align: right;\">\n",
       "      <th></th>\n",
       "      <th>Open</th>\n",
       "      <th>High</th>\n",
       "      <th>Low</th>\n",
       "      <th>Close</th>\n",
       "      <th>Volume</th>\n",
       "      <th>CloseDT</th>\n",
       "      <th>BaseVolume</th>\n",
       "      <th>TradeCount</th>\n",
       "      <th>TakerBase</th>\n",
       "      <th>TakerQuote</th>\n",
       "      <th>Ignore</th>\n",
       "    </tr>\n",
       "    <tr>\n",
       "      <th>DT</th>\n",
       "      <th></th>\n",
       "      <th></th>\n",
       "      <th></th>\n",
       "      <th></th>\n",
       "      <th></th>\n",
       "      <th></th>\n",
       "      <th></th>\n",
       "      <th></th>\n",
       "      <th></th>\n",
       "      <th></th>\n",
       "      <th></th>\n",
       "    </tr>\n",
       "  </thead>\n",
       "  <tbody>\n",
       "    <tr>\n",
       "      <th>2022-04-01 00:00:00</th>\n",
       "      <td>45510.35</td>\n",
       "      <td>45644.86</td>\n",
       "      <td>45351.73</td>\n",
       "      <td>45541.50</td>\n",
       "      <td>1838.20071</td>\n",
       "      <td>2022-04-01 00:59:59.999</td>\n",
       "      <td>8.371232e+07</td>\n",
       "      <td>51792</td>\n",
       "      <td>940.42832</td>\n",
       "      <td>4.282727e+07</td>\n",
       "      <td>0</td>\n",
       "    </tr>\n",
       "    <tr>\n",
       "      <th>2022-04-01 01:00:00</th>\n",
       "      <td>45542.16</td>\n",
       "      <td>45542.17</td>\n",
       "      <td>44868.00</td>\n",
       "      <td>44923.77</td>\n",
       "      <td>4127.99675</td>\n",
       "      <td>2022-04-01 01:59:59.999</td>\n",
       "      <td>1.863656e+08</td>\n",
       "      <td>76504</td>\n",
       "      <td>1892.75020</td>\n",
       "      <td>8.544520e+07</td>\n",
       "      <td>0</td>\n",
       "    </tr>\n",
       "    <tr>\n",
       "      <th>2022-04-01 02:00:00</th>\n",
       "      <td>44923.77</td>\n",
       "      <td>45049.03</td>\n",
       "      <td>44200.00</td>\n",
       "      <td>44392.71</td>\n",
       "      <td>5752.16535</td>\n",
       "      <td>2022-04-01 02:59:59.999</td>\n",
       "      <td>2.567090e+08</td>\n",
       "      <td>108602</td>\n",
       "      <td>2428.04740</td>\n",
       "      <td>1.084109e+08</td>\n",
       "      <td>0</td>\n",
       "    </tr>\n",
       "    <tr>\n",
       "      <th>2022-04-01 03:00:00</th>\n",
       "      <td>44392.71</td>\n",
       "      <td>44599.99</td>\n",
       "      <td>44273.44</td>\n",
       "      <td>44599.98</td>\n",
       "      <td>2692.58541</td>\n",
       "      <td>2022-04-01 03:59:59.999</td>\n",
       "      <td>1.196809e+08</td>\n",
       "      <td>60370</td>\n",
       "      <td>1445.07602</td>\n",
       "      <td>6.423041e+07</td>\n",
       "      <td>0</td>\n",
       "    </tr>\n",
       "    <tr>\n",
       "      <th>2022-04-01 04:00:00</th>\n",
       "      <td>44599.98</td>\n",
       "      <td>44780.01</td>\n",
       "      <td>44547.11</td>\n",
       "      <td>44642.44</td>\n",
       "      <td>1723.22376</td>\n",
       "      <td>2022-04-01 04:59:59.999</td>\n",
       "      <td>7.697936e+07</td>\n",
       "      <td>47181</td>\n",
       "      <td>892.21570</td>\n",
       "      <td>3.985891e+07</td>\n",
       "      <td>0</td>\n",
       "    </tr>\n",
       "    <tr>\n",
       "      <th>...</th>\n",
       "      <td>...</td>\n",
       "      <td>...</td>\n",
       "      <td>...</td>\n",
       "      <td>...</td>\n",
       "      <td>...</td>\n",
       "      <td>...</td>\n",
       "      <td>...</td>\n",
       "      <td>...</td>\n",
       "      <td>...</td>\n",
       "      <td>...</td>\n",
       "      <td>...</td>\n",
       "    </tr>\n",
       "    <tr>\n",
       "      <th>2022-05-31 19:00:00</th>\n",
       "      <td>31682.09</td>\n",
       "      <td>31784.70</td>\n",
       "      <td>31570.53</td>\n",
       "      <td>31625.71</td>\n",
       "      <td>3215.28839</td>\n",
       "      <td>2022-05-31 19:59:59.999</td>\n",
       "      <td>1.018566e+08</td>\n",
       "      <td>47266</td>\n",
       "      <td>1703.56134</td>\n",
       "      <td>5.395861e+07</td>\n",
       "      <td>0</td>\n",
       "    </tr>\n",
       "    <tr>\n",
       "      <th>2022-05-31 20:00:00</th>\n",
       "      <td>31625.71</td>\n",
       "      <td>31813.65</td>\n",
       "      <td>31584.29</td>\n",
       "      <td>31813.65</td>\n",
       "      <td>1277.75606</td>\n",
       "      <td>2022-05-31 20:59:59.999</td>\n",
       "      <td>4.051084e+07</td>\n",
       "      <td>31980</td>\n",
       "      <td>653.98729</td>\n",
       "      <td>2.073766e+07</td>\n",
       "      <td>0</td>\n",
       "    </tr>\n",
       "    <tr>\n",
       "      <th>2022-05-31 21:00:00</th>\n",
       "      <td>31813.65</td>\n",
       "      <td>31831.94</td>\n",
       "      <td>31657.26</td>\n",
       "      <td>31720.01</td>\n",
       "      <td>968.45304</td>\n",
       "      <td>2022-05-31 21:59:59.999</td>\n",
       "      <td>3.075612e+07</td>\n",
       "      <td>27269</td>\n",
       "      <td>445.04278</td>\n",
       "      <td>1.413350e+07</td>\n",
       "      <td>0</td>\n",
       "    </tr>\n",
       "    <tr>\n",
       "      <th>2022-05-31 22:00:00</th>\n",
       "      <td>31720.00</td>\n",
       "      <td>31895.01</td>\n",
       "      <td>31683.90</td>\n",
       "      <td>31869.28</td>\n",
       "      <td>1443.70621</td>\n",
       "      <td>2022-05-31 22:59:59.999</td>\n",
       "      <td>4.589668e+07</td>\n",
       "      <td>28695</td>\n",
       "      <td>785.15979</td>\n",
       "      <td>2.495946e+07</td>\n",
       "      <td>0</td>\n",
       "    </tr>\n",
       "    <tr>\n",
       "      <th>2022-05-31 23:00:00</th>\n",
       "      <td>31869.27</td>\n",
       "      <td>31936.50</td>\n",
       "      <td>31770.29</td>\n",
       "      <td>31801.04</td>\n",
       "      <td>1203.71834</td>\n",
       "      <td>2022-05-31 23:59:59.999</td>\n",
       "      <td>3.835254e+07</td>\n",
       "      <td>28532</td>\n",
       "      <td>609.15536</td>\n",
       "      <td>1.940924e+07</td>\n",
       "      <td>0</td>\n",
       "    </tr>\n",
       "  </tbody>\n",
       "</table>\n",
       "<p>1464 rows × 11 columns</p>\n",
       "</div>"
      ],
      "text/plain": [
       "                         Open      High       Low     Close      Volume  \\\n",
       "DT                                                                        \n",
       "2022-04-01 00:00:00  45510.35  45644.86  45351.73  45541.50  1838.20071   \n",
       "2022-04-01 01:00:00  45542.16  45542.17  44868.00  44923.77  4127.99675   \n",
       "2022-04-01 02:00:00  44923.77  45049.03  44200.00  44392.71  5752.16535   \n",
       "2022-04-01 03:00:00  44392.71  44599.99  44273.44  44599.98  2692.58541   \n",
       "2022-04-01 04:00:00  44599.98  44780.01  44547.11  44642.44  1723.22376   \n",
       "...                       ...       ...       ...       ...         ...   \n",
       "2022-05-31 19:00:00  31682.09  31784.70  31570.53  31625.71  3215.28839   \n",
       "2022-05-31 20:00:00  31625.71  31813.65  31584.29  31813.65  1277.75606   \n",
       "2022-05-31 21:00:00  31813.65  31831.94  31657.26  31720.01   968.45304   \n",
       "2022-05-31 22:00:00  31720.00  31895.01  31683.90  31869.28  1443.70621   \n",
       "2022-05-31 23:00:00  31869.27  31936.50  31770.29  31801.04  1203.71834   \n",
       "\n",
       "                                    CloseDT    BaseVolume  TradeCount  \\\n",
       "DT                                                                      \n",
       "2022-04-01 00:00:00 2022-04-01 00:59:59.999  8.371232e+07       51792   \n",
       "2022-04-01 01:00:00 2022-04-01 01:59:59.999  1.863656e+08       76504   \n",
       "2022-04-01 02:00:00 2022-04-01 02:59:59.999  2.567090e+08      108602   \n",
       "2022-04-01 03:00:00 2022-04-01 03:59:59.999  1.196809e+08       60370   \n",
       "2022-04-01 04:00:00 2022-04-01 04:59:59.999  7.697936e+07       47181   \n",
       "...                                     ...           ...         ...   \n",
       "2022-05-31 19:00:00 2022-05-31 19:59:59.999  1.018566e+08       47266   \n",
       "2022-05-31 20:00:00 2022-05-31 20:59:59.999  4.051084e+07       31980   \n",
       "2022-05-31 21:00:00 2022-05-31 21:59:59.999  3.075612e+07       27269   \n",
       "2022-05-31 22:00:00 2022-05-31 22:59:59.999  4.589668e+07       28695   \n",
       "2022-05-31 23:00:00 2022-05-31 23:59:59.999  3.835254e+07       28532   \n",
       "\n",
       "                      TakerBase    TakerQuote  Ignore  \n",
       "DT                                                     \n",
       "2022-04-01 00:00:00   940.42832  4.282727e+07       0  \n",
       "2022-04-01 01:00:00  1892.75020  8.544520e+07       0  \n",
       "2022-04-01 02:00:00  2428.04740  1.084109e+08       0  \n",
       "2022-04-01 03:00:00  1445.07602  6.423041e+07       0  \n",
       "2022-04-01 04:00:00   892.21570  3.985891e+07       0  \n",
       "...                         ...           ...     ...  \n",
       "2022-05-31 19:00:00  1703.56134  5.395861e+07       0  \n",
       "2022-05-31 20:00:00   653.98729  2.073766e+07       0  \n",
       "2022-05-31 21:00:00   445.04278  1.413350e+07       0  \n",
       "2022-05-31 22:00:00   785.15979  2.495946e+07       0  \n",
       "2022-05-31 23:00:00   609.15536  1.940924e+07       0  \n",
       "\n",
       "[1464 rows x 11 columns]"
      ]
     },
     "execution_count": 6,
     "metadata": {},
     "output_type": "execute_result"
    }
   ],
   "source": [
    "BTC = getHistMonth(start_month, end_month, 'BTCUSDT', frame, close_only=False, spot=True).dropna()\n",
    "BTC"
   ]
  },
  {
   "cell_type": "code",
   "execution_count": 7,
   "id": "b70dff46-70aa-4dd0-9ef9-4fc0bb8d970a",
   "metadata": {},
   "outputs": [
    {
     "data": {
      "application/vnd.jupyter.widget-view+json": {
       "model_id": "afd7ea5f62da4756a7137b04b1f901a1",
       "version_major": 2,
       "version_minor": 0
      },
      "text/plain": [
       "FigureWidgetResampler({\n",
       "    'data': [{'close': array([45541.5 , 44923.77, 44392.71, ..., 31720.01, 31869.28, 3…"
      ]
     },
     "metadata": {},
     "output_type": "display_data"
    }
   ],
   "source": [
    "chartFigure(rows=2, \n",
    "    BTC=dict(mode='candlestick', open=BTC.Open, high=BTC.High, low=BTC.Low, close=BTC.Close, opacity=0.5),\n",
    "    Correlation=dict(y=C, row=2, connectgaps=True)\n",
    ")"
   ]
  }
 ],
 "metadata": {
  "kernelspec": {
   "display_name": "Python 3 (ipykernel)",
   "language": "python",
   "name": "python3"
  },
  "language_info": {
   "codemirror_mode": {
    "name": "ipython",
    "version": 3
   },
   "file_extension": ".py",
   "mimetype": "text/x-python",
   "name": "python",
   "nbconvert_exporter": "python",
   "pygments_lexer": "ipython3",
   "version": "3.8.13"
  },
  "widgets": {
   "application/vnd.jupyter.widget-state+json": {
    "state": {
     "0414058caf7f4b26bf45cc075d46fc45": {
      "model_module": "@jupyter-widgets/controls",
      "model_module_version": "1.5.0",
      "model_name": "HTMLModel",
      "state": {
       "layout": "IPY_MODEL_da1dbd56cea54c08bb45566ee48ea7c1",
       "style": "IPY_MODEL_10cdcb8d19d34694b15a163ef671294e",
       "value": " 12/12 [00:04&lt;00:00,  2.78it/s, cpu=2%]"
      }
     },
     "10cdcb8d19d34694b15a163ef671294e": {
      "model_module": "@jupyter-widgets/controls",
      "model_module_version": "1.5.0",
      "model_name": "DescriptionStyleModel",
      "state": {
       "description_width": ""
      }
     },
     "227bd60581e840a2bd447dedafeb7aa8": {
      "model_module": "@jupyter-widgets/controls",
      "model_module_version": "1.5.0",
      "model_name": "HBoxModel",
      "state": {
       "children": [
        "IPY_MODEL_7ab4dc8ef82d4dc09bac5b7b6b9ab217",
        "IPY_MODEL_2432dbbb742041e0ab1929f9a393b518",
        "IPY_MODEL_0414058caf7f4b26bf45cc075d46fc45"
       ],
       "layout": "IPY_MODEL_ebff3f369092464aa4424eb96371feb9"
      }
     },
     "2432dbbb742041e0ab1929f9a393b518": {
      "model_module": "@jupyter-widgets/controls",
      "model_module_version": "1.5.0",
      "model_name": "FloatProgressModel",
      "state": {
       "bar_style": "success",
       "layout": "IPY_MODEL_46edca59f31c4df98ccf43149ad5d09f",
       "max": 12,
       "style": "IPY_MODEL_f530d112b48c458d97448e2a6223ab85",
       "value": 12
      }
     },
     "2e635ad4880c4ec5af01f2a50d6b3492": {
      "model_module": "@jupyter-widgets/controls",
      "model_module_version": "1.5.0",
      "model_name": "DescriptionStyleModel",
      "state": {
       "description_width": ""
      }
     },
     "46edca59f31c4df98ccf43149ad5d09f": {
      "model_module": "@jupyter-widgets/base",
      "model_module_version": "1.2.0",
      "model_name": "LayoutModel",
      "state": {}
     },
     "626f096b06e44c8fbb88764ab8a476b9": {
      "model_module": "jupyterlab-plotly",
      "model_module_version": "^5.6.0",
      "model_name": "FigureModel",
      "state": {
       "_config": {
        "plotlyServerURL": "https://plot.ly"
       },
       "_js2py_layoutDelta": {},
       "_js2py_pointsCallback": {},
       "_js2py_relayout": {},
       "_js2py_restyle": {},
       "_js2py_traceDeltas": {},
       "_js2py_update": {},
       "_last_layout_edit_id": 2,
       "_last_trace_edit_id": 1,
       "_layout": {
        "template": {
         "data": {
          "bar": [
           {
            "error_x": {
             "color": "#2a3f5f"
            },
            "error_y": {
             "color": "#2a3f5f"
            },
            "marker": {
             "line": {
              "color": "#E5ECF6",
              "width": 0.5
             },
             "pattern": {
              "fillmode": "overlay",
              "size": 10,
              "solidity": 0.2
             }
            },
            "type": "bar"
           }
          ],
          "barpolar": [
           {
            "marker": {
             "line": {
              "color": "#E5ECF6",
              "width": 0.5
             },
             "pattern": {
              "fillmode": "overlay",
              "size": 10,
              "solidity": 0.2
             }
            },
            "type": "barpolar"
           }
          ],
          "carpet": [
           {
            "aaxis": {
             "endlinecolor": "#2a3f5f",
             "gridcolor": "white",
             "linecolor": "white",
             "minorgridcolor": "white",
             "startlinecolor": "#2a3f5f"
            },
            "baxis": {
             "endlinecolor": "#2a3f5f",
             "gridcolor": "white",
             "linecolor": "white",
             "minorgridcolor": "white",
             "startlinecolor": "#2a3f5f"
            },
            "type": "carpet"
           }
          ],
          "choropleth": [
           {
            "colorbar": {
             "outlinewidth": 0,
             "ticks": ""
            },
            "type": "choropleth"
           }
          ],
          "contour": [
           {
            "colorbar": {
             "outlinewidth": 0,
             "ticks": ""
            },
            "colorscale": [
             [
              0,
              "#0d0887"
             ],
             [
              0.1111111111111111,
              "#46039f"
             ],
             [
              0.2222222222222222,
              "#7201a8"
             ],
             [
              0.3333333333333333,
              "#9c179e"
             ],
             [
              0.4444444444444444,
              "#bd3786"
             ],
             [
              0.5555555555555556,
              "#d8576b"
             ],
             [
              0.6666666666666666,
              "#ed7953"
             ],
             [
              0.7777777777777778,
              "#fb9f3a"
             ],
             [
              0.8888888888888888,
              "#fdca26"
             ],
             [
              1,
              "#f0f921"
             ]
            ],
            "type": "contour"
           }
          ],
          "contourcarpet": [
           {
            "colorbar": {
             "outlinewidth": 0,
             "ticks": ""
            },
            "type": "contourcarpet"
           }
          ],
          "heatmap": [
           {
            "colorbar": {
             "outlinewidth": 0,
             "ticks": ""
            },
            "colorscale": [
             [
              0,
              "#0d0887"
             ],
             [
              0.1111111111111111,
              "#46039f"
             ],
             [
              0.2222222222222222,
              "#7201a8"
             ],
             [
              0.3333333333333333,
              "#9c179e"
             ],
             [
              0.4444444444444444,
              "#bd3786"
             ],
             [
              0.5555555555555556,
              "#d8576b"
             ],
             [
              0.6666666666666666,
              "#ed7953"
             ],
             [
              0.7777777777777778,
              "#fb9f3a"
             ],
             [
              0.8888888888888888,
              "#fdca26"
             ],
             [
              1,
              "#f0f921"
             ]
            ],
            "type": "heatmap"
           }
          ],
          "heatmapgl": [
           {
            "colorbar": {
             "outlinewidth": 0,
             "ticks": ""
            },
            "colorscale": [
             [
              0,
              "#0d0887"
             ],
             [
              0.1111111111111111,
              "#46039f"
             ],
             [
              0.2222222222222222,
              "#7201a8"
             ],
             [
              0.3333333333333333,
              "#9c179e"
             ],
             [
              0.4444444444444444,
              "#bd3786"
             ],
             [
              0.5555555555555556,
              "#d8576b"
             ],
             [
              0.6666666666666666,
              "#ed7953"
             ],
             [
              0.7777777777777778,
              "#fb9f3a"
             ],
             [
              0.8888888888888888,
              "#fdca26"
             ],
             [
              1,
              "#f0f921"
             ]
            ],
            "type": "heatmapgl"
           }
          ],
          "histogram": [
           {
            "marker": {
             "pattern": {
              "fillmode": "overlay",
              "size": 10,
              "solidity": 0.2
             }
            },
            "type": "histogram"
           }
          ],
          "histogram2d": [
           {
            "colorbar": {
             "outlinewidth": 0,
             "ticks": ""
            },
            "colorscale": [
             [
              0,
              "#0d0887"
             ],
             [
              0.1111111111111111,
              "#46039f"
             ],
             [
              0.2222222222222222,
              "#7201a8"
             ],
             [
              0.3333333333333333,
              "#9c179e"
             ],
             [
              0.4444444444444444,
              "#bd3786"
             ],
             [
              0.5555555555555556,
              "#d8576b"
             ],
             [
              0.6666666666666666,
              "#ed7953"
             ],
             [
              0.7777777777777778,
              "#fb9f3a"
             ],
             [
              0.8888888888888888,
              "#fdca26"
             ],
             [
              1,
              "#f0f921"
             ]
            ],
            "type": "histogram2d"
           }
          ],
          "histogram2dcontour": [
           {
            "colorbar": {
             "outlinewidth": 0,
             "ticks": ""
            },
            "colorscale": [
             [
              0,
              "#0d0887"
             ],
             [
              0.1111111111111111,
              "#46039f"
             ],
             [
              0.2222222222222222,
              "#7201a8"
             ],
             [
              0.3333333333333333,
              "#9c179e"
             ],
             [
              0.4444444444444444,
              "#bd3786"
             ],
             [
              0.5555555555555556,
              "#d8576b"
             ],
             [
              0.6666666666666666,
              "#ed7953"
             ],
             [
              0.7777777777777778,
              "#fb9f3a"
             ],
             [
              0.8888888888888888,
              "#fdca26"
             ],
             [
              1,
              "#f0f921"
             ]
            ],
            "type": "histogram2dcontour"
           }
          ],
          "mesh3d": [
           {
            "colorbar": {
             "outlinewidth": 0,
             "ticks": ""
            },
            "type": "mesh3d"
           }
          ],
          "parcoords": [
           {
            "line": {
             "colorbar": {
              "outlinewidth": 0,
              "ticks": ""
             }
            },
            "type": "parcoords"
           }
          ],
          "pie": [
           {
            "automargin": true,
            "type": "pie"
           }
          ],
          "scatter": [
           {
            "marker": {
             "colorbar": {
              "outlinewidth": 0,
              "ticks": ""
             }
            },
            "type": "scatter"
           }
          ],
          "scatter3d": [
           {
            "line": {
             "colorbar": {
              "outlinewidth": 0,
              "ticks": ""
             }
            },
            "marker": {
             "colorbar": {
              "outlinewidth": 0,
              "ticks": ""
             }
            },
            "type": "scatter3d"
           }
          ],
          "scattercarpet": [
           {
            "marker": {
             "colorbar": {
              "outlinewidth": 0,
              "ticks": ""
             }
            },
            "type": "scattercarpet"
           }
          ],
          "scattergeo": [
           {
            "marker": {
             "colorbar": {
              "outlinewidth": 0,
              "ticks": ""
             }
            },
            "type": "scattergeo"
           }
          ],
          "scattergl": [
           {
            "marker": {
             "colorbar": {
              "outlinewidth": 0,
              "ticks": ""
             }
            },
            "type": "scattergl"
           }
          ],
          "scattermapbox": [
           {
            "marker": {
             "colorbar": {
              "outlinewidth": 0,
              "ticks": ""
             }
            },
            "type": "scattermapbox"
           }
          ],
          "scatterpolar": [
           {
            "marker": {
             "colorbar": {
              "outlinewidth": 0,
              "ticks": ""
             }
            },
            "type": "scatterpolar"
           }
          ],
          "scatterpolargl": [
           {
            "marker": {
             "colorbar": {
              "outlinewidth": 0,
              "ticks": ""
             }
            },
            "type": "scatterpolargl"
           }
          ],
          "scatterternary": [
           {
            "marker": {
             "colorbar": {
              "outlinewidth": 0,
              "ticks": ""
             }
            },
            "type": "scatterternary"
           }
          ],
          "surface": [
           {
            "colorbar": {
             "outlinewidth": 0,
             "ticks": ""
            },
            "colorscale": [
             [
              0,
              "#0d0887"
             ],
             [
              0.1111111111111111,
              "#46039f"
             ],
             [
              0.2222222222222222,
              "#7201a8"
             ],
             [
              0.3333333333333333,
              "#9c179e"
             ],
             [
              0.4444444444444444,
              "#bd3786"
             ],
             [
              0.5555555555555556,
              "#d8576b"
             ],
             [
              0.6666666666666666,
              "#ed7953"
             ],
             [
              0.7777777777777778,
              "#fb9f3a"
             ],
             [
              0.8888888888888888,
              "#fdca26"
             ],
             [
              1,
              "#f0f921"
             ]
            ],
            "type": "surface"
           }
          ],
          "table": [
           {
            "cells": {
             "fill": {
              "color": "#EBF0F8"
             },
             "line": {
              "color": "white"
             }
            },
            "header": {
             "fill": {
              "color": "#C8D4E3"
             },
             "line": {
              "color": "white"
             }
            },
            "type": "table"
           }
          ]
         },
         "layout": {
          "annotationdefaults": {
           "arrowcolor": "#2a3f5f",
           "arrowhead": 0,
           "arrowwidth": 1
          },
          "autotypenumbers": "strict",
          "coloraxis": {
           "colorbar": {
            "outlinewidth": 0,
            "ticks": ""
           }
          },
          "colorscale": {
           "diverging": [
            [
             0,
             "#8e0152"
            ],
            [
             0.1,
             "#c51b7d"
            ],
            [
             0.2,
             "#de77ae"
            ],
            [
             0.3,
             "#f1b6da"
            ],
            [
             0.4,
             "#fde0ef"
            ],
            [
             0.5,
             "#f7f7f7"
            ],
            [
             0.6,
             "#e6f5d0"
            ],
            [
             0.7,
             "#b8e186"
            ],
            [
             0.8,
             "#7fbc41"
            ],
            [
             0.9,
             "#4d9221"
            ],
            [
             1,
             "#276419"
            ]
           ],
           "sequential": [
            [
             0,
             "#0d0887"
            ],
            [
             0.1111111111111111,
             "#46039f"
            ],
            [
             0.2222222222222222,
             "#7201a8"
            ],
            [
             0.3333333333333333,
             "#9c179e"
            ],
            [
             0.4444444444444444,
             "#bd3786"
            ],
            [
             0.5555555555555556,
             "#d8576b"
            ],
            [
             0.6666666666666666,
             "#ed7953"
            ],
            [
             0.7777777777777778,
             "#fb9f3a"
            ],
            [
             0.8888888888888888,
             "#fdca26"
            ],
            [
             1,
             "#f0f921"
            ]
           ],
           "sequentialminus": [
            [
             0,
             "#0d0887"
            ],
            [
             0.1111111111111111,
             "#46039f"
            ],
            [
             0.2222222222222222,
             "#7201a8"
            ],
            [
             0.3333333333333333,
             "#9c179e"
            ],
            [
             0.4444444444444444,
             "#bd3786"
            ],
            [
             0.5555555555555556,
             "#d8576b"
            ],
            [
             0.6666666666666666,
             "#ed7953"
            ],
            [
             0.7777777777777778,
             "#fb9f3a"
            ],
            [
             0.8888888888888888,
             "#fdca26"
            ],
            [
             1,
             "#f0f921"
            ]
           ]
          },
          "colorway": [
           "#636efa",
           "#EF553B",
           "#00cc96",
           "#ab63fa",
           "#FFA15A",
           "#19d3f3",
           "#FF6692",
           "#B6E880",
           "#FF97FF",
           "#FECB52"
          ],
          "font": {
           "color": "#2a3f5f"
          },
          "geo": {
           "bgcolor": "white",
           "lakecolor": "white",
           "landcolor": "#E5ECF6",
           "showlakes": true,
           "showland": true,
           "subunitcolor": "white"
          },
          "hoverlabel": {
           "align": "left"
          },
          "hovermode": "closest",
          "mapbox": {
           "style": "light"
          },
          "paper_bgcolor": "white",
          "plot_bgcolor": "#E5ECF6",
          "polar": {
           "angularaxis": {
            "gridcolor": "white",
            "linecolor": "white",
            "ticks": ""
           },
           "bgcolor": "#E5ECF6",
           "radialaxis": {
            "gridcolor": "white",
            "linecolor": "white",
            "ticks": ""
           }
          },
          "scene": {
           "xaxis": {
            "backgroundcolor": "#E5ECF6",
            "gridcolor": "white",
            "gridwidth": 2,
            "linecolor": "white",
            "showbackground": true,
            "ticks": "",
            "zerolinecolor": "white"
           },
           "yaxis": {
            "backgroundcolor": "#E5ECF6",
            "gridcolor": "white",
            "gridwidth": 2,
            "linecolor": "white",
            "showbackground": true,
            "ticks": "",
            "zerolinecolor": "white"
           },
           "zaxis": {
            "backgroundcolor": "#E5ECF6",
            "gridcolor": "white",
            "gridwidth": 2,
            "linecolor": "white",
            "showbackground": true,
            "ticks": "",
            "zerolinecolor": "white"
           }
          },
          "shapedefaults": {
           "line": {
            "color": "#2a3f5f"
           }
          },
          "ternary": {
           "aaxis": {
            "gridcolor": "white",
            "linecolor": "white",
            "ticks": ""
           },
           "baxis": {
            "gridcolor": "white",
            "linecolor": "white",
            "ticks": ""
           },
           "bgcolor": "#E5ECF6",
           "caxis": {
            "gridcolor": "white",
            "linecolor": "white",
            "ticks": ""
           }
          },
          "title": {
           "x": 0.05
          },
          "xaxis": {
           "automargin": true,
           "gridcolor": "white",
           "linecolor": "white",
           "ticks": "",
           "title": {
            "standoff": 15
           },
           "zerolinecolor": "white",
           "zerolinewidth": 2
          },
          "yaxis": {
           "automargin": true,
           "gridcolor": "white",
           "linecolor": "white",
           "ticks": "",
           "title": {
            "standoff": 15
           },
           "zerolinecolor": "white",
           "zerolinewidth": 2
          }
         }
        },
        "xaxis": {
         "anchor": "y",
         "domain": [
          0,
          0.94
         ],
         "matches": "x2",
         "showticklabels": false
        },
        "xaxis2": {
         "anchor": "y3",
         "domain": [
          0,
          0.94
         ]
        },
        "yaxis": {
         "anchor": "x",
         "domain": [
          0.32100000000000006,
          1
         ]
        },
        "yaxis2": {
         "anchor": "x",
         "overlaying": "y",
         "side": "right"
        },
        "yaxis3": {
         "anchor": "x2",
         "domain": [
          0,
          0.29100000000000004
         ]
        },
        "yaxis4": {
         "anchor": "x2",
         "overlaying": "y3",
         "side": "right"
        }
       },
       "_py2js_animate": {},
       "_py2js_deleteTraces": {},
       "_py2js_moveTraces": {},
       "_py2js_removeLayoutProps": {},
       "_py2js_removeTraceProps": {},
       "_py2js_restyle": {},
       "_py2js_update": {},
       "_view_count": 0
      }
     },
     "7ab4dc8ef82d4dc09bac5b7b6b9ab217": {
      "model_module": "@jupyter-widgets/controls",
      "model_module_version": "1.5.0",
      "model_name": "HTMLModel",
      "state": {
       "layout": "IPY_MODEL_fa31aee4c80044a99a05713031f913ae",
       "style": "IPY_MODEL_2e635ad4880c4ec5af01f2a50d6b3492",
       "value": "100%"
      }
     },
     "afd7ea5f62da4756a7137b04b1f901a1": {
      "buffers": [
       {
        "data": "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",
        "encoding": "base64",
        "path": [
         "_data",
         0,
         "close",
         "value"
        ]
       },
       {
        "data": "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",
        "encoding": "base64",
        "path": [
         "_data",
         0,
         "high",
         "value"
        ]
       },
       {
        "data": "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",
        "encoding": "base64",
        "path": [
         "_data",
         0,
         "low",
         "value"
        ]
       },
       {
        "data": "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",
        "encoding": "base64",
        "path": [
         "_data",
         0,
         "open",
         "value"
        ]
       },
       {
        "data": "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",
        "encoding": "base64",
        "path": [
         "_data",
         1,
         "y",
         "value"
        ]
       }
      ],
      "model_module": "jupyterlab-plotly",
      "model_module_version": "^5.6.0",
      "model_name": "FigureModel",
      "state": {
       "_config": {
        "plotlyServerURL": "https://plot.ly"
       },
       "_data": [
        {
         "close": {
          "dtype": "float64",
          "shape": [
           1464
          ]
         },
         "high": {
          "dtype": "float64",
          "shape": [
           1464
          ]
         },
         "low": {
          "dtype": "float64",
          "shape": [
           1464
          ]
         },
         "name": "BTC",
         "opacity": 0.5,
         "open": {
          "dtype": "float64",
          "shape": [
           1464
          ]
         },
         "type": "candlestick",
         "uid": "320de111-bfb5-4031-af5d-96f7f752af6e",
         "x": [
          0,
          1,
          2,
          3,
          4,
          5,
          6,
          7,
          8,
          9,
          10,
          11,
          12,
          13,
          14,
          15,
          16,
          17,
          18,
          19,
          20,
          21,
          22,
          23,
          24,
          25,
          26,
          27,
          28,
          29,
          30,
          31,
          32,
          33,
          34,
          35,
          36,
          37,
          38,
          39,
          40,
          41,
          42,
          43,
          44,
          45,
          46,
          47,
          48,
          49,
          50,
          51,
          52,
          53,
          54,
          55,
          56,
          57,
          58,
          59,
          60,
          61,
          62,
          63,
          64,
          65,
          66,
          67,
          68,
          69,
          70,
          71,
          72,
          73,
          74,
          75,
          76,
          77,
          78,
          79,
          80,
          81,
          82,
          83,
          84,
          85,
          86,
          87,
          88,
          89,
          90,
          91,
          92,
          93,
          94,
          95,
          96,
          97,
          98,
          99,
          100,
          101,
          102,
          103,
          104,
          105,
          106,
          107,
          108,
          109,
          110,
          111,
          112,
          113,
          114,
          115,
          116,
          117,
          118,
          119,
          120,
          121,
          122,
          123,
          124,
          125,
          126,
          127,
          128,
          129,
          130,
          131,
          132,
          133,
          134,
          135,
          136,
          137,
          138,
          139,
          140,
          141,
          142,
          143,
          144,
          145,
          146,
          147,
          148,
          149,
          150,
          151,
          152,
          153,
          154,
          155,
          156,
          157,
          158,
          159,
          160,
          161,
          162,
          163,
          164,
          165,
          166,
          167,
          168,
          169,
          170,
          171,
          172,
          173,
          174,
          175,
          176,
          177,
          178,
          179,
          180,
          181,
          182,
          183,
          184,
          185,
          186,
          187,
          188,
          189,
          190,
          191,
          192,
          193,
          194,
          195,
          196,
          197,
          198,
          199,
          200,
          201,
          202,
          203,
          204,
          205,
          206,
          207,
          208,
          209,
          210,
          211,
          212,
          213,
          214,
          215,
          216,
          217,
          218,
          219,
          220,
          221,
          222,
          223,
          224,
          225,
          226,
          227,
          228,
          229,
          230,
          231,
          232,
          233,
          234,
          235,
          236,
          237,
          238,
          239,
          240,
          241,
          242,
          243,
          244,
          245,
          246,
          247,
          248,
          249,
          250,
          251,
          252,
          253,
          254,
          255,
          256,
          257,
          258,
          259,
          260,
          261,
          262,
          263,
          264,
          265,
          266,
          267,
          268,
          269,
          270,
          271,
          272,
          273,
          274,
          275,
          276,
          277,
          278,
          279,
          280,
          281,
          282,
          283,
          284,
          285,
          286,
          287,
          288,
          289,
          290,
          291,
          292,
          293,
          294,
          295,
          296,
          297,
          298,
          299,
          300,
          301,
          302,
          303,
          304,
          305,
          306,
          307,
          308,
          309,
          310,
          311,
          312,
          313,
          314,
          315,
          316,
          317,
          318,
          319,
          320,
          321,
          322,
          323,
          324,
          325,
          326,
          327,
          328,
          329,
          330,
          331,
          332,
          333,
          334,
          335,
          336,
          337,
          338,
          339,
          340,
          341,
          342,
          343,
          344,
          345,
          346,
          347,
          348,
          349,
          350,
          351,
          352,
          353,
          354,
          355,
          356,
          357,
          358,
          359,
          360,
          361,
          362,
          363,
          364,
          365,
          366,
          367,
          368,
          369,
          370,
          371,
          372,
          373,
          374,
          375,
          376,
          377,
          378,
          379,
          380,
          381,
          382,
          383,
          384,
          385,
          386,
          387,
          388,
          389,
          390,
          391,
          392,
          393,
          394,
          395,
          396,
          397,
          398,
          399,
          400,
          401,
          402,
          403,
          404,
          405,
          406,
          407,
          408,
          409,
          410,
          411,
          412,
          413,
          414,
          415,
          416,
          417,
          418,
          419,
          420,
          421,
          422,
          423,
          424,
          425,
          426,
          427,
          428,
          429,
          430,
          431,
          432,
          433,
          434,
          435,
          436,
          437,
          438,
          439,
          440,
          441,
          442,
          443,
          444,
          445,
          446,
          447,
          448,
          449,
          450,
          451,
          452,
          453,
          454,
          455,
          456,
          457,
          458,
          459,
          460,
          461,
          462,
          463,
          464,
          465,
          466,
          467,
          468,
          469,
          470,
          471,
          472,
          473,
          474,
          475,
          476,
          477,
          478,
          479,
          480,
          481,
          482,
          483,
          484,
          485,
          486,
          487,
          488,
          489,
          490,
          491,
          492,
          493,
          494,
          495,
          496,
          497,
          498,
          499,
          500,
          501,
          502,
          503,
          504,
          505,
          506,
          507,
          508,
          509,
          510,
          511,
          512,
          513,
          514,
          515,
          516,
          517,
          518,
          519,
          520,
          521,
          522,
          523,
          524,
          525,
          526,
          527,
          528,
          529,
          530,
          531,
          532,
          533,
          534,
          535,
          536,
          537,
          538,
          539,
          540,
          541,
          542,
          543,
          544,
          545,
          546,
          547,
          548,
          549,
          550,
          551,
          552,
          553,
          554,
          555,
          556,
          557,
          558,
          559,
          560,
          561,
          562,
          563,
          564,
          565,
          566,
          567,
          568,
          569,
          570,
          571,
          572,
          573,
          574,
          575,
          576,
          577,
          578,
          579,
          580,
          581,
          582,
          583,
          584,
          585,
          586,
          587,
          588,
          589,
          590,
          591,
          592,
          593,
          594,
          595,
          596,
          597,
          598,
          599,
          600,
          601,
          602,
          603,
          604,
          605,
          606,
          607,
          608,
          609,
          610,
          611,
          612,
          613,
          614,
          615,
          616,
          617,
          618,
          619,
          620,
          621,
          622,
          623,
          624,
          625,
          626,
          627,
          628,
          629,
          630,
          631,
          632,
          633,
          634,
          635,
          636,
          637,
          638,
          639,
          640,
          641,
          642,
          643,
          644,
          645,
          646,
          647,
          648,
          649,
          650,
          651,
          652,
          653,
          654,
          655,
          656,
          657,
          658,
          659,
          660,
          661,
          662,
          663,
          664,
          665,
          666,
          667,
          668,
          669,
          670,
          671,
          672,
          673,
          674,
          675,
          676,
          677,
          678,
          679,
          680,
          681,
          682,
          683,
          684,
          685,
          686,
          687,
          688,
          689,
          690,
          691,
          692,
          693,
          694,
          695,
          696,
          697,
          698,
          699,
          700,
          701,
          702,
          703,
          704,
          705,
          706,
          707,
          708,
          709,
          710,
          711,
          712,
          713,
          714,
          715,
          716,
          717,
          718,
          719,
          720,
          721,
          722,
          723,
          724,
          725,
          726,
          727,
          728,
          729,
          730,
          731,
          732,
          733,
          734,
          735,
          736,
          737,
          738,
          739,
          740,
          741,
          742,
          743,
          744,
          745,
          746,
          747,
          748,
          749,
          750,
          751,
          752,
          753,
          754,
          755,
          756,
          757,
          758,
          759,
          760,
          761,
          762,
          763,
          764,
          765,
          766,
          767,
          768,
          769,
          770,
          771,
          772,
          773,
          774,
          775,
          776,
          777,
          778,
          779,
          780,
          781,
          782,
          783,
          784,
          785,
          786,
          787,
          788,
          789,
          790,
          791,
          792,
          793,
          794,
          795,
          796,
          797,
          798,
          799,
          800,
          801,
          802,
          803,
          804,
          805,
          806,
          807,
          808,
          809,
          810,
          811,
          812,
          813,
          814,
          815,
          816,
          817,
          818,
          819,
          820,
          821,
          822,
          823,
          824,
          825,
          826,
          827,
          828,
          829,
          830,
          831,
          832,
          833,
          834,
          835,
          836,
          837,
          838,
          839,
          840,
          841,
          842,
          843,
          844,
          845,
          846,
          847,
          848,
          849,
          850,
          851,
          852,
          853,
          854,
          855,
          856,
          857,
          858,
          859,
          860,
          861,
          862,
          863,
          864,
          865,
          866,
          867,
          868,
          869,
          870,
          871,
          872,
          873,
          874,
          875,
          876,
          877,
          878,
          879,
          880,
          881,
          882,
          883,
          884,
          885,
          886,
          887,
          888,
          889,
          890,
          891,
          892,
          893,
          894,
          895,
          896,
          897,
          898,
          899,
          900,
          901,
          902,
          903,
          904,
          905,
          906,
          907,
          908,
          909,
          910,
          911,
          912,
          913,
          914,
          915,
          916,
          917,
          918,
          919,
          920,
          921,
          922,
          923,
          924,
          925,
          926,
          927,
          928,
          929,
          930,
          931,
          932,
          933,
          934,
          935,
          936,
          937,
          938,
          939,
          940,
          941,
          942,
          943,
          944,
          945,
          946,
          947,
          948,
          949,
          950,
          951,
          952,
          953,
          954,
          955,
          956,
          957,
          958,
          959,
          960,
          961,
          962,
          963,
          964,
          965,
          966,
          967,
          968,
          969,
          970,
          971,
          972,
          973,
          974,
          975,
          976,
          977,
          978,
          979,
          980,
          981,
          982,
          983,
          984,
          985,
          986,
          987,
          988,
          989,
          990,
          991,
          992,
          993,
          994,
          995,
          996,
          997,
          998,
          999,
          1000,
          1001,
          1002,
          1003,
          1004,
          1005,
          1006,
          1007,
          1008,
          1009,
          1010,
          1011,
          1012,
          1013,
          1014,
          1015,
          1016,
          1017,
          1018,
          1019,
          1020,
          1021,
          1022,
          1023,
          1024,
          1025,
          1026,
          1027,
          1028,
          1029,
          1030,
          1031,
          1032,
          1033,
          1034,
          1035,
          1036,
          1037,
          1038,
          1039,
          1040,
          1041,
          1042,
          1043,
          1044,
          1045,
          1046,
          1047,
          1048,
          1049,
          1050,
          1051,
          1052,
          1053,
          1054,
          1055,
          1056,
          1057,
          1058,
          1059,
          1060,
          1061,
          1062,
          1063,
          1064,
          1065,
          1066,
          1067,
          1068,
          1069,
          1070,
          1071,
          1072,
          1073,
          1074,
          1075,
          1076,
          1077,
          1078,
          1079,
          1080,
          1081,
          1082,
          1083,
          1084,
          1085,
          1086,
          1087,
          1088,
          1089,
          1090,
          1091,
          1092,
          1093,
          1094,
          1095,
          1096,
          1097,
          1098,
          1099,
          1100,
          1101,
          1102,
          1103,
          1104,
          1105,
          1106,
          1107,
          1108,
          1109,
          1110,
          1111,
          1112,
          1113,
          1114,
          1115,
          1116,
          1117,
          1118,
          1119,
          1120,
          1121,
          1122,
          1123,
          1124,
          1125,
          1126,
          1127,
          1128,
          1129,
          1130,
          1131,
          1132,
          1133,
          1134,
          1135,
          1136,
          1137,
          1138,
          1139,
          1140,
          1141,
          1142,
          1143,
          1144,
          1145,
          1146,
          1147,
          1148,
          1149,
          1150,
          1151,
          1152,
          1153,
          1154,
          1155,
          1156,
          1157,
          1158,
          1159,
          1160,
          1161,
          1162,
          1163,
          1164,
          1165,
          1166,
          1167,
          1168,
          1169,
          1170,
          1171,
          1172,
          1173,
          1174,
          1175,
          1176,
          1177,
          1178,
          1179,
          1180,
          1181,
          1182,
          1183,
          1184,
          1185,
          1186,
          1187,
          1188,
          1189,
          1190,
          1191,
          1192,
          1193,
          1194,
          1195,
          1196,
          1197,
          1198,
          1199,
          1200,
          1201,
          1202,
          1203,
          1204,
          1205,
          1206,
          1207,
          1208,
          1209,
          1210,
          1211,
          1212,
          1213,
          1214,
          1215,
          1216,
          1217,
          1218,
          1219,
          1220,
          1221,
          1222,
          1223,
          1224,
          1225,
          1226,
          1227,
          1228,
          1229,
          1230,
          1231,
          1232,
          1233,
          1234,
          1235,
          1236,
          1237,
          1238,
          1239,
          1240,
          1241,
          1242,
          1243,
          1244,
          1245,
          1246,
          1247,
          1248,
          1249,
          1250,
          1251,
          1252,
          1253,
          1254,
          1255,
          1256,
          1257,
          1258,
          1259,
          1260,
          1261,
          1262,
          1263,
          1264,
          1265,
          1266,
          1267,
          1268,
          1269,
          1270,
          1271,
          1272,
          1273,
          1274,
          1275,
          1276,
          1277,
          1278,
          1279,
          1280,
          1281,
          1282,
          1283,
          1284,
          1285,
          1286,
          1287,
          1288,
          1289,
          1290,
          1291,
          1292,
          1293,
          1294,
          1295,
          1296,
          1297,
          1298,
          1299,
          1300,
          1301,
          1302,
          1303,
          1304,
          1305,
          1306,
          1307,
          1308,
          1309,
          1310,
          1311,
          1312,
          1313,
          1314,
          1315,
          1316,
          1317,
          1318,
          1319,
          1320,
          1321,
          1322,
          1323,
          1324,
          1325,
          1326,
          1327,
          1328,
          1329,
          1330,
          1331,
          1332,
          1333,
          1334,
          1335,
          1336,
          1337,
          1338,
          1339,
          1340,
          1341,
          1342,
          1343,
          1344,
          1345,
          1346,
          1347,
          1348,
          1349,
          1350,
          1351,
          1352,
          1353,
          1354,
          1355,
          1356,
          1357,
          1358,
          1359,
          1360,
          1361,
          1362,
          1363,
          1364,
          1365,
          1366,
          1367,
          1368,
          1369,
          1370,
          1371,
          1372,
          1373,
          1374,
          1375,
          1376,
          1377,
          1378,
          1379,
          1380,
          1381,
          1382,
          1383,
          1384,
          1385,
          1386,
          1387,
          1388,
          1389,
          1390,
          1391,
          1392,
          1393,
          1394,
          1395,
          1396,
          1397,
          1398,
          1399,
          1400,
          1401,
          1402,
          1403,
          1404,
          1405,
          1406,
          1407,
          1408,
          1409,
          1410,
          1411,
          1412,
          1413,
          1414,
          1415,
          1416,
          1417,
          1418,
          1419,
          1420,
          1421,
          1422,
          1423,
          1424,
          1425,
          1426,
          1427,
          1428,
          1429,
          1430,
          1431,
          1432,
          1433,
          1434,
          1435,
          1436,
          1437,
          1438,
          1439,
          1440,
          1441,
          1442,
          1443,
          1444,
          1445,
          1446,
          1447,
          1448,
          1449,
          1450,
          1451,
          1452,
          1453,
          1454,
          1455,
          1456,
          1457,
          1458,
          1459,
          1460,
          1461,
          1462,
          1463
         ],
         "xaxis": "x2"
        },
        {
         "connectgaps": true,
         "name": "<b style=\"color:sandybrown\">[R]</b> Correlation <i style=\"color:#fc9944\">~1</i>",
         "type": "scattergl",
         "uid": "941c4c4c-d0c8-4962-ba9c-ba617fafbf8b",
         "x": [
          39,
          40,
          41,
          42,
          44,
          45,
          47,
          48,
          50,
          51,
          53,
          54,
          55,
          57,
          58,
          60,
          61,
          63,
          64,
          65,
          67,
          68,
          70,
          71,
          72,
          74,
          76,
          77,
          78,
          80,
          81,
          83,
          84,
          86,
          87,
          88,
          89,
          91,
          93,
          94,
          96,
          97,
          98,
          99,
          101,
          102,
          104,
          106,
          107,
          108,
          109,
          111,
          113,
          114,
          115,
          116,
          118,
          120,
          121,
          123,
          124,
          125,
          126,
          128,
          130,
          131,
          132,
          134,
          135,
          136,
          138,
          139,
          141,
          143,
          144,
          145,
          147,
          148,
          149,
          151,
          153,
          154,
          155,
          156,
          158,
          160,
          161,
          163,
          164,
          165,
          167,
          168,
          169,
          171,
          172,
          174,
          175,
          177,
          178,
          179,
          181,
          183,
          184,
          185,
          187,
          188,
          189,
          191,
          192,
          193,
          195,
          196,
          198,
          199,
          201,
          202,
          203,
          205,
          207,
          208,
          210,
          211,
          212,
          214,
          215,
          217,
          218,
          219,
          221,
          222,
          224,
          225,
          226,
          228,
          229,
          231,
          232,
          233,
          235,
          237,
          238,
          239,
          241,
          242,
          243,
          245,
          247,
          248,
          249,
          251,
          252,
          254,
          255,
          256,
          258,
          260,
          261,
          262,
          264,
          265,
          266,
          268,
          269,
          271,
          272,
          274,
          275,
          276,
          278,
          279,
          281,
          282,
          283,
          285,
          286,
          288,
          289,
          290,
          292,
          294,
          295,
          296,
          298,
          299,
          301,
          302,
          304,
          305,
          307,
          308,
          309,
          311,
          312,
          314,
          315,
          317,
          318,
          319,
          321,
          322,
          324,
          325,
          326,
          328,
          329,
          330,
          332,
          333,
          335,
          337,
          338,
          339,
          340,
          342,
          343,
          345,
          346,
          348,
          349,
          350,
          352,
          353,
          355,
          356,
          358,
          359,
          360,
          362,
          363,
          365,
          366,
          368,
          369,
          371,
          372,
          373,
          375,
          376,
          378,
          379,
          381,
          382,
          383,
          385,
          386,
          388,
          389,
          391,
          392,
          393,
          395,
          396,
          398,
          399,
          401,
          402,
          403,
          405,
          406,
          407,
          409,
          411,
          412,
          413,
          414,
          416,
          417,
          419,
          421,
          422,
          423,
          424,
          426,
          427,
          429,
          431,
          432,
          433,
          435,
          436,
          438,
          439,
          441,
          442,
          443,
          445,
          446,
          447,
          449,
          451,
          452,
          453,
          454,
          456,
          458,
          459,
          461,
          462,
          463,
          465,
          466,
          468,
          469,
          470,
          472,
          473,
          474,
          476,
          477,
          479,
          481,
          482,
          483,
          484,
          486,
          488,
          489,
          490,
          491,
          493,
          495,
          496,
          498,
          499,
          500,
          501,
          503,
          504,
          506,
          508,
          509,
          510,
          511,
          513,
          515,
          516,
          517,
          519,
          520,
          521,
          523,
          524,
          526,
          527,
          529,
          530,
          532,
          533,
          534,
          536,
          537,
          539,
          540,
          541,
          543,
          545,
          546,
          547,
          549,
          550,
          551,
          553,
          554,
          556,
          557,
          559,
          560,
          562,
          563,
          565,
          566,
          567,
          569,
          570,
          571,
          573,
          575,
          576,
          577,
          578,
          580,
          582,
          583,
          584,
          586,
          587,
          588,
          590,
          591,
          593,
          594,
          596,
          597,
          599,
          600,
          602,
          603,
          605,
          606,
          607,
          608,
          610,
          612,
          613,
          615,
          616,
          617,
          618,
          620,
          622,
          623,
          625,
          626,
          627,
          629,
          630,
          631,
          633,
          635,
          636,
          637,
          638,
          640,
          642,
          643,
          644,
          646,
          647,
          649,
          650,
          651,
          653,
          654,
          656,
          657,
          659,
          660,
          662,
          663,
          664,
          666,
          667,
          669,
          670,
          671,
          673,
          674,
          676,
          677,
          679,
          680,
          681,
          683,
          684,
          685,
          687,
          689,
          690,
          691,
          693,
          694,
          695,
          697,
          698,
          700,
          702,
          703,
          704,
          706,
          707,
          709,
          710,
          711,
          713,
          714,
          716,
          717,
          718,
          720,
          721,
          723,
          724,
          725,
          727,
          728,
          730,
          731,
          733,
          734,
          735,
          737,
          739,
          740,
          741,
          742,
          744,
          746,
          747,
          748,
          750,
          751,
          753,
          754,
          756,
          757,
          758,
          760,
          761,
          762,
          764,
          766,
          767,
          769,
          770,
          771,
          773,
          774,
          776,
          777,
          779,
          780,
          781,
          783,
          784,
          786,
          787,
          788,
          790,
          791,
          792,
          794,
          796,
          797,
          798,
          800,
          801,
          803,
          804,
          806,
          807,
          808,
          809,
          811,
          812,
          814,
          815,
          817,
          818,
          820,
          821,
          823,
          824,
          825,
          827,
          828,
          830,
          831,
          832,
          834,
          836,
          837,
          838,
          840,
          841,
          843,
          844,
          846,
          847,
          848,
          850,
          851,
          853,
          854,
          856,
          857,
          858,
          860,
          861,
          862,
          864,
          865,
          867,
          868,
          870,
          871,
          872,
          874,
          875,
          876,
          878,
          880,
          881,
          883,
          884,
          885,
          886,
          888,
          889,
          891,
          893,
          894,
          895,
          897,
          898,
          900,
          901,
          902,
          904,
          905,
          907,
          908,
          910,
          911,
          912,
          914,
          915,
          917,
          918,
          920,
          921,
          923,
          924,
          925,
          926,
          928,
          930,
          931,
          933,
          934,
          935,
          937,
          938,
          940,
          941,
          942,
          943,
          945,
          946,
          948,
          949,
          951,
          952,
          954,
          955,
          956,
          958,
          959,
          961,
          962,
          964,
          965,
          967,
          968,
          970,
          971,
          972,
          974,
          975,
          976,
          978,
          980,
          981,
          982,
          983,
          985,
          986,
          988,
          989,
          991,
          992,
          993,
          995,
          997,
          998,
          1000,
          1001,
          1002,
          1004,
          1005,
          1007,
          1008,
          1010,
          1011,
          1012,
          1014,
          1015,
          1016,
          1018,
          1019,
          1020,
          1022,
          1023,
          1025,
          1027,
          1028,
          1029,
          1030,
          1032,
          1034,
          1035,
          1037,
          1038,
          1039,
          1040,
          1042,
          1044,
          1045,
          1047,
          1048,
          1049,
          1050,
          1052,
          1053,
          1055,
          1056,
          1058,
          1059,
          1061,
          1062,
          1063,
          1065,
          1066,
          1068,
          1069,
          1070,
          1072,
          1073,
          1075,
          1076,
          1078,
          1079,
          1081,
          1082,
          1084,
          1085,
          1087,
          1088,
          1089,
          1090,
          1092,
          1093,
          1095,
          1096,
          1098,
          1099,
          1100,
          1102,
          1103,
          1105,
          1106,
          1107,
          1109,
          1111,
          1112,
          1113,
          1115,
          1116,
          1118,
          1119,
          1121,
          1122,
          1124,
          1125,
          1126,
          1128,
          1129,
          1130,
          1132,
          1133,
          1135,
          1136,
          1138,
          1139,
          1140,
          1142,
          1143,
          1145,
          1146,
          1148,
          1149,
          1150,
          1152,
          1153,
          1155,
          1156,
          1157,
          1159,
          1161,
          1162,
          1163,
          1165,
          1166,
          1168,
          1169,
          1170,
          1172,
          1173,
          1174,
          1176,
          1177,
          1179,
          1181,
          1182,
          1183,
          1185,
          1186,
          1187,
          1189,
          1190,
          1192,
          1193,
          1194,
          1196,
          1197,
          1199,
          1201,
          1202,
          1203,
          1205,
          1206,
          1207,
          1209,
          1211,
          1212,
          1213,
          1214,
          1216,
          1217,
          1219,
          1220,
          1222,
          1223,
          1224,
          1226,
          1227,
          1229,
          1230,
          1232,
          1233,
          1235,
          1236,
          1238,
          1239,
          1240,
          1241,
          1243,
          1245,
          1246,
          1248,
          1249,
          1250,
          1252,
          1253,
          1255,
          1256,
          1258,
          1259,
          1260,
          1262,
          1263,
          1264,
          1266,
          1268,
          1269,
          1270,
          1272,
          1273,
          1274,
          1276,
          1278,
          1279,
          1280,
          1281,
          1283,
          1284,
          1286,
          1288,
          1289,
          1290,
          1291,
          1293,
          1295,
          1296,
          1297,
          1299,
          1300,
          1301,
          1303,
          1304,
          1306,
          1308,
          1309,
          1310,
          1312,
          1313,
          1314,
          1316,
          1317,
          1319,
          1320,
          1322,
          1323,
          1324,
          1326,
          1327,
          1328,
          1330,
          1332,
          1333,
          1335,
          1336,
          1337,
          1338,
          1340,
          1342,
          1343,
          1344,
          1346,
          1347,
          1348,
          1350,
          1352,
          1353,
          1355,
          1356,
          1357,
          1359,
          1360,
          1362,
          1363,
          1364,
          1366,
          1367,
          1369,
          1370,
          1371,
          1373,
          1375,
          1376,
          1377,
          1378,
          1380,
          1382,
          1383,
          1384,
          1386,
          1387,
          1389,
          1390,
          1392,
          1393,
          1394,
          1395,
          1397,
          1398,
          1400,
          1402,
          1403,
          1404,
          1406,
          1407,
          1409,
          1410,
          1411,
          1413,
          1414,
          1416,
          1417,
          1418,
          1420,
          1422,
          1423,
          1424,
          1426,
          1427,
          1428,
          1430,
          1432,
          1433,
          1434,
          1435,
          1437,
          1439,
          1440,
          1442,
          1443,
          1444,
          1445,
          1447,
          1449,
          1450,
          1451,
          1453,
          1454,
          1456,
          1457,
          1459,
          1460,
          1461,
          1463
         ],
         "xaxis": "x2",
         "y": {
          "dtype": "float64",
          "shape": [
           1000
          ]
         },
         "yaxis": "y3"
        }
       ],
       "_js2py_restyle": {},
       "_js2py_update": {},
       "_last_layout_edit_id": 15,
       "_last_trace_edit_id": 12,
       "_layout": {
        "autosize": true,
        "height": 700,
        "legend": {
         "orientation": "h",
         "x": 0.1,
         "y": 1
        },
        "margin": {
         "b": 10,
         "l": 45,
         "pad": 3,
         "r": 15,
         "t": 30
        },
        "template": {
         "data": {
          "bar": [
           {
            "error_x": {
             "color": "#2a3f5f"
            },
            "error_y": {
             "color": "#2a3f5f"
            },
            "marker": {
             "line": {
              "color": "white",
              "width": 0.5
             },
             "pattern": {
              "fillmode": "overlay",
              "size": 10,
              "solidity": 0.2
             }
            },
            "type": "bar"
           }
          ],
          "barpolar": [
           {
            "marker": {
             "line": {
              "color": "white",
              "width": 0.5
             },
             "pattern": {
              "fillmode": "overlay",
              "size": 10,
              "solidity": 0.2
             }
            },
            "type": "barpolar"
           }
          ],
          "carpet": [
           {
            "aaxis": {
             "endlinecolor": "#2a3f5f",
             "gridcolor": "#C8D4E3",
             "linecolor": "#C8D4E3",
             "minorgridcolor": "#C8D4E3",
             "startlinecolor": "#2a3f5f"
            },
            "baxis": {
             "endlinecolor": "#2a3f5f",
             "gridcolor": "#C8D4E3",
             "linecolor": "#C8D4E3",
             "minorgridcolor": "#C8D4E3",
             "startlinecolor": "#2a3f5f"
            },
            "type": "carpet"
           }
          ],
          "choropleth": [
           {
            "colorbar": {
             "outlinewidth": 0,
             "ticks": ""
            },
            "type": "choropleth"
           }
          ],
          "contour": [
           {
            "colorbar": {
             "outlinewidth": 0,
             "ticks": ""
            },
            "colorscale": [
             [
              0,
              "#0d0887"
             ],
             [
              0.1111111111111111,
              "#46039f"
             ],
             [
              0.2222222222222222,
              "#7201a8"
             ],
             [
              0.3333333333333333,
              "#9c179e"
             ],
             [
              0.4444444444444444,
              "#bd3786"
             ],
             [
              0.5555555555555556,
              "#d8576b"
             ],
             [
              0.6666666666666666,
              "#ed7953"
             ],
             [
              0.7777777777777778,
              "#fb9f3a"
             ],
             [
              0.8888888888888888,
              "#fdca26"
             ],
             [
              1,
              "#f0f921"
             ]
            ],
            "type": "contour"
           }
          ],
          "contourcarpet": [
           {
            "colorbar": {
             "outlinewidth": 0,
             "ticks": ""
            },
            "type": "contourcarpet"
           }
          ],
          "heatmap": [
           {
            "colorbar": {
             "outlinewidth": 0,
             "ticks": ""
            },
            "colorscale": [
             [
              0,
              "#0d0887"
             ],
             [
              0.1111111111111111,
              "#46039f"
             ],
             [
              0.2222222222222222,
              "#7201a8"
             ],
             [
              0.3333333333333333,
              "#9c179e"
             ],
             [
              0.4444444444444444,
              "#bd3786"
             ],
             [
              0.5555555555555556,
              "#d8576b"
             ],
             [
              0.6666666666666666,
              "#ed7953"
             ],
             [
              0.7777777777777778,
              "#fb9f3a"
             ],
             [
              0.8888888888888888,
              "#fdca26"
             ],
             [
              1,
              "#f0f921"
             ]
            ],
            "type": "heatmap"
           }
          ],
          "heatmapgl": [
           {
            "colorbar": {
             "outlinewidth": 0,
             "ticks": ""
            },
            "colorscale": [
             [
              0,
              "#0d0887"
             ],
             [
              0.1111111111111111,
              "#46039f"
             ],
             [
              0.2222222222222222,
              "#7201a8"
             ],
             [
              0.3333333333333333,
              "#9c179e"
             ],
             [
              0.4444444444444444,
              "#bd3786"
             ],
             [
              0.5555555555555556,
              "#d8576b"
             ],
             [
              0.6666666666666666,
              "#ed7953"
             ],
             [
              0.7777777777777778,
              "#fb9f3a"
             ],
             [
              0.8888888888888888,
              "#fdca26"
             ],
             [
              1,
              "#f0f921"
             ]
            ],
            "type": "heatmapgl"
           }
          ],
          "histogram": [
           {
            "marker": {
             "pattern": {
              "fillmode": "overlay",
              "size": 10,
              "solidity": 0.2
             }
            },
            "type": "histogram"
           }
          ],
          "histogram2d": [
           {
            "colorbar": {
             "outlinewidth": 0,
             "ticks": ""
            },
            "colorscale": [
             [
              0,
              "#0d0887"
             ],
             [
              0.1111111111111111,
              "#46039f"
             ],
             [
              0.2222222222222222,
              "#7201a8"
             ],
             [
              0.3333333333333333,
              "#9c179e"
             ],
             [
              0.4444444444444444,
              "#bd3786"
             ],
             [
              0.5555555555555556,
              "#d8576b"
             ],
             [
              0.6666666666666666,
              "#ed7953"
             ],
             [
              0.7777777777777778,
              "#fb9f3a"
             ],
             [
              0.8888888888888888,
              "#fdca26"
             ],
             [
              1,
              "#f0f921"
             ]
            ],
            "type": "histogram2d"
           }
          ],
          "histogram2dcontour": [
           {
            "colorbar": {
             "outlinewidth": 0,
             "ticks": ""
            },
            "colorscale": [
             [
              0,
              "#0d0887"
             ],
             [
              0.1111111111111111,
              "#46039f"
             ],
             [
              0.2222222222222222,
              "#7201a8"
             ],
             [
              0.3333333333333333,
              "#9c179e"
             ],
             [
              0.4444444444444444,
              "#bd3786"
             ],
             [
              0.5555555555555556,
              "#d8576b"
             ],
             [
              0.6666666666666666,
              "#ed7953"
             ],
             [
              0.7777777777777778,
              "#fb9f3a"
             ],
             [
              0.8888888888888888,
              "#fdca26"
             ],
             [
              1,
              "#f0f921"
             ]
            ],
            "type": "histogram2dcontour"
           }
          ],
          "mesh3d": [
           {
            "colorbar": {
             "outlinewidth": 0,
             "ticks": ""
            },
            "type": "mesh3d"
           }
          ],
          "parcoords": [
           {
            "line": {
             "colorbar": {
              "outlinewidth": 0,
              "ticks": ""
             }
            },
            "type": "parcoords"
           }
          ],
          "pie": [
           {
            "automargin": true,
            "type": "pie"
           }
          ],
          "scatter": [
           {
            "marker": {
             "colorbar": {
              "outlinewidth": 0,
              "ticks": ""
             }
            },
            "type": "scatter"
           }
          ],
          "scatter3d": [
           {
            "line": {
             "colorbar": {
              "outlinewidth": 0,
              "ticks": ""
             }
            },
            "marker": {
             "colorbar": {
              "outlinewidth": 0,
              "ticks": ""
             }
            },
            "type": "scatter3d"
           }
          ],
          "scattercarpet": [
           {
            "marker": {
             "colorbar": {
              "outlinewidth": 0,
              "ticks": ""
             }
            },
            "type": "scattercarpet"
           }
          ],
          "scattergeo": [
           {
            "marker": {
             "colorbar": {
              "outlinewidth": 0,
              "ticks": ""
             }
            },
            "type": "scattergeo"
           }
          ],
          "scattergl": [
           {
            "marker": {
             "colorbar": {
              "outlinewidth": 0,
              "ticks": ""
             }
            },
            "type": "scattergl"
           }
          ],
          "scattermapbox": [
           {
            "marker": {
             "colorbar": {
              "outlinewidth": 0,
              "ticks": ""
             }
            },
            "type": "scattermapbox"
           }
          ],
          "scatterpolar": [
           {
            "marker": {
             "colorbar": {
              "outlinewidth": 0,
              "ticks": ""
             }
            },
            "type": "scatterpolar"
           }
          ],
          "scatterpolargl": [
           {
            "marker": {
             "colorbar": {
              "outlinewidth": 0,
              "ticks": ""
             }
            },
            "type": "scatterpolargl"
           }
          ],
          "scatterternary": [
           {
            "marker": {
             "colorbar": {
              "outlinewidth": 0,
              "ticks": ""
             }
            },
            "type": "scatterternary"
           }
          ],
          "surface": [
           {
            "colorbar": {
             "outlinewidth": 0,
             "ticks": ""
            },
            "colorscale": [
             [
              0,
              "#0d0887"
             ],
             [
              0.1111111111111111,
              "#46039f"
             ],
             [
              0.2222222222222222,
              "#7201a8"
             ],
             [
              0.3333333333333333,
              "#9c179e"
             ],
             [
              0.4444444444444444,
              "#bd3786"
             ],
             [
              0.5555555555555556,
              "#d8576b"
             ],
             [
              0.6666666666666666,
              "#ed7953"
             ],
             [
              0.7777777777777778,
              "#fb9f3a"
             ],
             [
              0.8888888888888888,
              "#fdca26"
             ],
             [
              1,
              "#f0f921"
             ]
            ],
            "type": "surface"
           }
          ],
          "table": [
           {
            "cells": {
             "fill": {
              "color": "#EBF0F8"
             },
             "line": {
              "color": "white"
             }
            },
            "header": {
             "fill": {
              "color": "#C8D4E3"
             },
             "line": {
              "color": "white"
             }
            },
            "type": "table"
           }
          ]
         },
         "layout": {
          "annotationdefaults": {
           "arrowcolor": "#2a3f5f",
           "arrowhead": 0,
           "arrowwidth": 1
          },
          "autotypenumbers": "strict",
          "coloraxis": {
           "colorbar": {
            "outlinewidth": 0,
            "ticks": ""
           }
          },
          "colorscale": {
           "diverging": [
            [
             0,
             "#8e0152"
            ],
            [
             0.1,
             "#c51b7d"
            ],
            [
             0.2,
             "#de77ae"
            ],
            [
             0.3,
             "#f1b6da"
            ],
            [
             0.4,
             "#fde0ef"
            ],
            [
             0.5,
             "#f7f7f7"
            ],
            [
             0.6,
             "#e6f5d0"
            ],
            [
             0.7,
             "#b8e186"
            ],
            [
             0.8,
             "#7fbc41"
            ],
            [
             0.9,
             "#4d9221"
            ],
            [
             1,
             "#276419"
            ]
           ],
           "sequential": [
            [
             0,
             "#0d0887"
            ],
            [
             0.1111111111111111,
             "#46039f"
            ],
            [
             0.2222222222222222,
             "#7201a8"
            ],
            [
             0.3333333333333333,
             "#9c179e"
            ],
            [
             0.4444444444444444,
             "#bd3786"
            ],
            [
             0.5555555555555556,
             "#d8576b"
            ],
            [
             0.6666666666666666,
             "#ed7953"
            ],
            [
             0.7777777777777778,
             "#fb9f3a"
            ],
            [
             0.8888888888888888,
             "#fdca26"
            ],
            [
             1,
             "#f0f921"
            ]
           ],
           "sequentialminus": [
            [
             0,
             "#0d0887"
            ],
            [
             0.1111111111111111,
             "#46039f"
            ],
            [
             0.2222222222222222,
             "#7201a8"
            ],
            [
             0.3333333333333333,
             "#9c179e"
            ],
            [
             0.4444444444444444,
             "#bd3786"
            ],
            [
             0.5555555555555556,
             "#d8576b"
            ],
            [
             0.6666666666666666,
             "#ed7953"
            ],
            [
             0.7777777777777778,
             "#fb9f3a"
            ],
            [
             0.8888888888888888,
             "#fdca26"
            ],
            [
             1,
             "#f0f921"
            ]
           ]
          },
          "colorway": [
           "#636efa",
           "#EF553B",
           "#00cc96",
           "#ab63fa",
           "#FFA15A",
           "#19d3f3",
           "#FF6692",
           "#B6E880",
           "#FF97FF",
           "#FECB52"
          ],
          "font": {
           "color": "#2a3f5f"
          },
          "geo": {
           "bgcolor": "white",
           "lakecolor": "white",
           "landcolor": "white",
           "showlakes": true,
           "showland": true,
           "subunitcolor": "#C8D4E3"
          },
          "hoverlabel": {
           "align": "left"
          },
          "hovermode": "closest",
          "mapbox": {
           "style": "light"
          },
          "paper_bgcolor": "white",
          "plot_bgcolor": "white",
          "polar": {
           "angularaxis": {
            "gridcolor": "#EBF0F8",
            "linecolor": "#EBF0F8",
            "ticks": ""
           },
           "bgcolor": "white",
           "radialaxis": {
            "gridcolor": "#EBF0F8",
            "linecolor": "#EBF0F8",
            "ticks": ""
           }
          },
          "scene": {
           "xaxis": {
            "backgroundcolor": "white",
            "gridcolor": "#DFE8F3",
            "gridwidth": 2,
            "linecolor": "#EBF0F8",
            "showbackground": true,
            "ticks": "",
            "zerolinecolor": "#EBF0F8"
           },
           "yaxis": {
            "backgroundcolor": "white",
            "gridcolor": "#DFE8F3",
            "gridwidth": 2,
            "linecolor": "#EBF0F8",
            "showbackground": true,
            "ticks": "",
            "zerolinecolor": "#EBF0F8"
           },
           "zaxis": {
            "backgroundcolor": "white",
            "gridcolor": "#DFE8F3",
            "gridwidth": 2,
            "linecolor": "#EBF0F8",
            "showbackground": true,
            "ticks": "",
            "zerolinecolor": "#EBF0F8"
           }
          },
          "shapedefaults": {
           "line": {
            "color": "#2a3f5f"
           }
          },
          "ternary": {
           "aaxis": {
            "gridcolor": "#DFE8F3",
            "linecolor": "#A2B1C6",
            "ticks": ""
           },
           "baxis": {
            "gridcolor": "#DFE8F3",
            "linecolor": "#A2B1C6",
            "ticks": ""
           },
           "bgcolor": "white",
           "caxis": {
            "gridcolor": "#DFE8F3",
            "linecolor": "#A2B1C6",
            "ticks": ""
           }
          },
          "title": {
           "x": 0.05
          },
          "xaxis": {
           "automargin": true,
           "gridcolor": "#EBF0F8",
           "linecolor": "#EBF0F8",
           "ticks": "",
           "title": {
            "standoff": 15
           },
           "zerolinecolor": "#EBF0F8",
           "zerolinewidth": 2
          },
          "yaxis": {
           "automargin": true,
           "gridcolor": "#EBF0F8",
           "linecolor": "#EBF0F8",
           "ticks": "",
           "title": {
            "standoff": 15
           },
           "zerolinecolor": "#EBF0F8",
           "zerolinewidth": 2
          }
         }
        },
        "xaxis": {
         "anchor": "y",
         "autorange": true,
         "domain": [
          0,
          0.94
         ],
         "matches": "x2",
         "rangeslider": {
          "visible": false
         },
         "showticklabels": false,
         "spikedash": "dot",
         "spikemode": "across+marker",
         "spikesnap": "cursor",
         "spikethickness": 2
        },
        "xaxis2": {
         "anchor": "y3",
         "autorange": true,
         "domain": [
          0,
          0.94
         ],
         "rangeslider": {
          "visible": false
         },
         "spikedash": "dot",
         "spikemode": "across+marker",
         "spikesnap": "cursor",
         "spikethickness": 2
        },
        "yaxis": {
         "anchor": "x",
         "autorange": true,
         "domain": [
          0.32100000000000006,
          1
         ],
         "showspikes": false
        },
        "yaxis2": {
         "anchor": "x",
         "autorange": true,
         "overlaying": "y",
         "side": "right"
        },
        "yaxis3": {
         "anchor": "x2",
         "autorange": true,
         "domain": [
          0,
          0.29100000000000004
         ],
         "showspikes": false
        },
        "yaxis4": {
         "anchor": "x2",
         "autorange": true,
         "overlaying": "y3",
         "side": "right"
        }
       },
       "_py2js_animate": {},
       "_py2js_deleteTraces": {},
       "_py2js_moveTraces": {},
       "_py2js_removeTraceProps": {},
       "_py2js_restyle": {},
       "_view_count": 1
      }
     },
     "b0594632f96f465cabcc512cc414642f": {
      "model_module": "jupyterlab-plotly",
      "model_module_version": "^5.6.0",
      "model_name": "FigureModel",
      "state": {
       "_config": {
        "plotlyServerURL": "https://plot.ly"
       },
       "_js2py_layoutDelta": {},
       "_js2py_pointsCallback": {},
       "_js2py_relayout": {},
       "_js2py_restyle": {},
       "_js2py_traceDeltas": {},
       "_js2py_update": {},
       "_layout": {
        "template": {
         "data": {
          "bar": [
           {
            "error_x": {
             "color": "#2a3f5f"
            },
            "error_y": {
             "color": "#2a3f5f"
            },
            "marker": {
             "line": {
              "color": "#E5ECF6",
              "width": 0.5
             },
             "pattern": {
              "fillmode": "overlay",
              "size": 10,
              "solidity": 0.2
             }
            },
            "type": "bar"
           }
          ],
          "barpolar": [
           {
            "marker": {
             "line": {
              "color": "#E5ECF6",
              "width": 0.5
             },
             "pattern": {
              "fillmode": "overlay",
              "size": 10,
              "solidity": 0.2
             }
            },
            "type": "barpolar"
           }
          ],
          "carpet": [
           {
            "aaxis": {
             "endlinecolor": "#2a3f5f",
             "gridcolor": "white",
             "linecolor": "white",
             "minorgridcolor": "white",
             "startlinecolor": "#2a3f5f"
            },
            "baxis": {
             "endlinecolor": "#2a3f5f",
             "gridcolor": "white",
             "linecolor": "white",
             "minorgridcolor": "white",
             "startlinecolor": "#2a3f5f"
            },
            "type": "carpet"
           }
          ],
          "choropleth": [
           {
            "colorbar": {
             "outlinewidth": 0,
             "ticks": ""
            },
            "type": "choropleth"
           }
          ],
          "contour": [
           {
            "colorbar": {
             "outlinewidth": 0,
             "ticks": ""
            },
            "colorscale": [
             [
              0,
              "#0d0887"
             ],
             [
              0.1111111111111111,
              "#46039f"
             ],
             [
              0.2222222222222222,
              "#7201a8"
             ],
             [
              0.3333333333333333,
              "#9c179e"
             ],
             [
              0.4444444444444444,
              "#bd3786"
             ],
             [
              0.5555555555555556,
              "#d8576b"
             ],
             [
              0.6666666666666666,
              "#ed7953"
             ],
             [
              0.7777777777777778,
              "#fb9f3a"
             ],
             [
              0.8888888888888888,
              "#fdca26"
             ],
             [
              1,
              "#f0f921"
             ]
            ],
            "type": "contour"
           }
          ],
          "contourcarpet": [
           {
            "colorbar": {
             "outlinewidth": 0,
             "ticks": ""
            },
            "type": "contourcarpet"
           }
          ],
          "heatmap": [
           {
            "colorbar": {
             "outlinewidth": 0,
             "ticks": ""
            },
            "colorscale": [
             [
              0,
              "#0d0887"
             ],
             [
              0.1111111111111111,
              "#46039f"
             ],
             [
              0.2222222222222222,
              "#7201a8"
             ],
             [
              0.3333333333333333,
              "#9c179e"
             ],
             [
              0.4444444444444444,
              "#bd3786"
             ],
             [
              0.5555555555555556,
              "#d8576b"
             ],
             [
              0.6666666666666666,
              "#ed7953"
             ],
             [
              0.7777777777777778,
              "#fb9f3a"
             ],
             [
              0.8888888888888888,
              "#fdca26"
             ],
             [
              1,
              "#f0f921"
             ]
            ],
            "type": "heatmap"
           }
          ],
          "heatmapgl": [
           {
            "colorbar": {
             "outlinewidth": 0,
             "ticks": ""
            },
            "colorscale": [
             [
              0,
              "#0d0887"
             ],
             [
              0.1111111111111111,
              "#46039f"
             ],
             [
              0.2222222222222222,
              "#7201a8"
             ],
             [
              0.3333333333333333,
              "#9c179e"
             ],
             [
              0.4444444444444444,
              "#bd3786"
             ],
             [
              0.5555555555555556,
              "#d8576b"
             ],
             [
              0.6666666666666666,
              "#ed7953"
             ],
             [
              0.7777777777777778,
              "#fb9f3a"
             ],
             [
              0.8888888888888888,
              "#fdca26"
             ],
             [
              1,
              "#f0f921"
             ]
            ],
            "type": "heatmapgl"
           }
          ],
          "histogram": [
           {
            "marker": {
             "pattern": {
              "fillmode": "overlay",
              "size": 10,
              "solidity": 0.2
             }
            },
            "type": "histogram"
           }
          ],
          "histogram2d": [
           {
            "colorbar": {
             "outlinewidth": 0,
             "ticks": ""
            },
            "colorscale": [
             [
              0,
              "#0d0887"
             ],
             [
              0.1111111111111111,
              "#46039f"
             ],
             [
              0.2222222222222222,
              "#7201a8"
             ],
             [
              0.3333333333333333,
              "#9c179e"
             ],
             [
              0.4444444444444444,
              "#bd3786"
             ],
             [
              0.5555555555555556,
              "#d8576b"
             ],
             [
              0.6666666666666666,
              "#ed7953"
             ],
             [
              0.7777777777777778,
              "#fb9f3a"
             ],
             [
              0.8888888888888888,
              "#fdca26"
             ],
             [
              1,
              "#f0f921"
             ]
            ],
            "type": "histogram2d"
           }
          ],
          "histogram2dcontour": [
           {
            "colorbar": {
             "outlinewidth": 0,
             "ticks": ""
            },
            "colorscale": [
             [
              0,
              "#0d0887"
             ],
             [
              0.1111111111111111,
              "#46039f"
             ],
             [
              0.2222222222222222,
              "#7201a8"
             ],
             [
              0.3333333333333333,
              "#9c179e"
             ],
             [
              0.4444444444444444,
              "#bd3786"
             ],
             [
              0.5555555555555556,
              "#d8576b"
             ],
             [
              0.6666666666666666,
              "#ed7953"
             ],
             [
              0.7777777777777778,
              "#fb9f3a"
             ],
             [
              0.8888888888888888,
              "#fdca26"
             ],
             [
              1,
              "#f0f921"
             ]
            ],
            "type": "histogram2dcontour"
           }
          ],
          "mesh3d": [
           {
            "colorbar": {
             "outlinewidth": 0,
             "ticks": ""
            },
            "type": "mesh3d"
           }
          ],
          "parcoords": [
           {
            "line": {
             "colorbar": {
              "outlinewidth": 0,
              "ticks": ""
             }
            },
            "type": "parcoords"
           }
          ],
          "pie": [
           {
            "automargin": true,
            "type": "pie"
           }
          ],
          "scatter": [
           {
            "marker": {
             "colorbar": {
              "outlinewidth": 0,
              "ticks": ""
             }
            },
            "type": "scatter"
           }
          ],
          "scatter3d": [
           {
            "line": {
             "colorbar": {
              "outlinewidth": 0,
              "ticks": ""
             }
            },
            "marker": {
             "colorbar": {
              "outlinewidth": 0,
              "ticks": ""
             }
            },
            "type": "scatter3d"
           }
          ],
          "scattercarpet": [
           {
            "marker": {
             "colorbar": {
              "outlinewidth": 0,
              "ticks": ""
             }
            },
            "type": "scattercarpet"
           }
          ],
          "scattergeo": [
           {
            "marker": {
             "colorbar": {
              "outlinewidth": 0,
              "ticks": ""
             }
            },
            "type": "scattergeo"
           }
          ],
          "scattergl": [
           {
            "marker": {
             "colorbar": {
              "outlinewidth": 0,
              "ticks": ""
             }
            },
            "type": "scattergl"
           }
          ],
          "scattermapbox": [
           {
            "marker": {
             "colorbar": {
              "outlinewidth": 0,
              "ticks": ""
             }
            },
            "type": "scattermapbox"
           }
          ],
          "scatterpolar": [
           {
            "marker": {
             "colorbar": {
              "outlinewidth": 0,
              "ticks": ""
             }
            },
            "type": "scatterpolar"
           }
          ],
          "scatterpolargl": [
           {
            "marker": {
             "colorbar": {
              "outlinewidth": 0,
              "ticks": ""
             }
            },
            "type": "scatterpolargl"
           }
          ],
          "scatterternary": [
           {
            "marker": {
             "colorbar": {
              "outlinewidth": 0,
              "ticks": ""
             }
            },
            "type": "scatterternary"
           }
          ],
          "surface": [
           {
            "colorbar": {
             "outlinewidth": 0,
             "ticks": ""
            },
            "colorscale": [
             [
              0,
              "#0d0887"
             ],
             [
              0.1111111111111111,
              "#46039f"
             ],
             [
              0.2222222222222222,
              "#7201a8"
             ],
             [
              0.3333333333333333,
              "#9c179e"
             ],
             [
              0.4444444444444444,
              "#bd3786"
             ],
             [
              0.5555555555555556,
              "#d8576b"
             ],
             [
              0.6666666666666666,
              "#ed7953"
             ],
             [
              0.7777777777777778,
              "#fb9f3a"
             ],
             [
              0.8888888888888888,
              "#fdca26"
             ],
             [
              1,
              "#f0f921"
             ]
            ],
            "type": "surface"
           }
          ],
          "table": [
           {
            "cells": {
             "fill": {
              "color": "#EBF0F8"
             },
             "line": {
              "color": "white"
             }
            },
            "header": {
             "fill": {
              "color": "#C8D4E3"
             },
             "line": {
              "color": "white"
             }
            },
            "type": "table"
           }
          ]
         },
         "layout": {
          "annotationdefaults": {
           "arrowcolor": "#2a3f5f",
           "arrowhead": 0,
           "arrowwidth": 1
          },
          "autotypenumbers": "strict",
          "coloraxis": {
           "colorbar": {
            "outlinewidth": 0,
            "ticks": ""
           }
          },
          "colorscale": {
           "diverging": [
            [
             0,
             "#8e0152"
            ],
            [
             0.1,
             "#c51b7d"
            ],
            [
             0.2,
             "#de77ae"
            ],
            [
             0.3,
             "#f1b6da"
            ],
            [
             0.4,
             "#fde0ef"
            ],
            [
             0.5,
             "#f7f7f7"
            ],
            [
             0.6,
             "#e6f5d0"
            ],
            [
             0.7,
             "#b8e186"
            ],
            [
             0.8,
             "#7fbc41"
            ],
            [
             0.9,
             "#4d9221"
            ],
            [
             1,
             "#276419"
            ]
           ],
           "sequential": [
            [
             0,
             "#0d0887"
            ],
            [
             0.1111111111111111,
             "#46039f"
            ],
            [
             0.2222222222222222,
             "#7201a8"
            ],
            [
             0.3333333333333333,
             "#9c179e"
            ],
            [
             0.4444444444444444,
             "#bd3786"
            ],
            [
             0.5555555555555556,
             "#d8576b"
            ],
            [
             0.6666666666666666,
             "#ed7953"
            ],
            [
             0.7777777777777778,
             "#fb9f3a"
            ],
            [
             0.8888888888888888,
             "#fdca26"
            ],
            [
             1,
             "#f0f921"
            ]
           ],
           "sequentialminus": [
            [
             0,
             "#0d0887"
            ],
            [
             0.1111111111111111,
             "#46039f"
            ],
            [
             0.2222222222222222,
             "#7201a8"
            ],
            [
             0.3333333333333333,
             "#9c179e"
            ],
            [
             0.4444444444444444,
             "#bd3786"
            ],
            [
             0.5555555555555556,
             "#d8576b"
            ],
            [
             0.6666666666666666,
             "#ed7953"
            ],
            [
             0.7777777777777778,
             "#fb9f3a"
            ],
            [
             0.8888888888888888,
             "#fdca26"
            ],
            [
             1,
             "#f0f921"
            ]
           ]
          },
          "colorway": [
           "#636efa",
           "#EF553B",
           "#00cc96",
           "#ab63fa",
           "#FFA15A",
           "#19d3f3",
           "#FF6692",
           "#B6E880",
           "#FF97FF",
           "#FECB52"
          ],
          "font": {
           "color": "#2a3f5f"
          },
          "geo": {
           "bgcolor": "white",
           "lakecolor": "white",
           "landcolor": "#E5ECF6",
           "showlakes": true,
           "showland": true,
           "subunitcolor": "white"
          },
          "hoverlabel": {
           "align": "left"
          },
          "hovermode": "closest",
          "mapbox": {
           "style": "light"
          },
          "paper_bgcolor": "white",
          "plot_bgcolor": "#E5ECF6",
          "polar": {
           "angularaxis": {
            "gridcolor": "white",
            "linecolor": "white",
            "ticks": ""
           },
           "bgcolor": "#E5ECF6",
           "radialaxis": {
            "gridcolor": "white",
            "linecolor": "white",
            "ticks": ""
           }
          },
          "scene": {
           "xaxis": {
            "backgroundcolor": "#E5ECF6",
            "gridcolor": "white",
            "gridwidth": 2,
            "linecolor": "white",
            "showbackground": true,
            "ticks": "",
            "zerolinecolor": "white"
           },
           "yaxis": {
            "backgroundcolor": "#E5ECF6",
            "gridcolor": "white",
            "gridwidth": 2,
            "linecolor": "white",
            "showbackground": true,
            "ticks": "",
            "zerolinecolor": "white"
           },
           "zaxis": {
            "backgroundcolor": "#E5ECF6",
            "gridcolor": "white",
            "gridwidth": 2,
            "linecolor": "white",
            "showbackground": true,
            "ticks": "",
            "zerolinecolor": "white"
           }
          },
          "shapedefaults": {
           "line": {
            "color": "#2a3f5f"
           }
          },
          "ternary": {
           "aaxis": {
            "gridcolor": "white",
            "linecolor": "white",
            "ticks": ""
           },
           "baxis": {
            "gridcolor": "white",
            "linecolor": "white",
            "ticks": ""
           },
           "bgcolor": "#E5ECF6",
           "caxis": {
            "gridcolor": "white",
            "linecolor": "white",
            "ticks": ""
           }
          },
          "title": {
           "x": 0.05
          },
          "xaxis": {
           "automargin": true,
           "gridcolor": "white",
           "linecolor": "white",
           "ticks": "",
           "title": {
            "standoff": 15
           },
           "zerolinecolor": "white",
           "zerolinewidth": 2
          },
          "yaxis": {
           "automargin": true,
           "gridcolor": "white",
           "linecolor": "white",
           "ticks": "",
           "title": {
            "standoff": 15
           },
           "zerolinecolor": "white",
           "zerolinewidth": 2
          }
         }
        },
        "xaxis": {
         "anchor": "y",
         "domain": [
          0,
          0.94
         ],
         "matches": "x2",
         "showticklabels": false
        },
        "xaxis2": {
         "anchor": "y3",
         "domain": [
          0,
          0.94
         ]
        },
        "yaxis": {
         "anchor": "x",
         "domain": [
          0.32100000000000006,
          1
         ]
        },
        "yaxis2": {
         "anchor": "x",
         "overlaying": "y",
         "side": "right"
        },
        "yaxis3": {
         "anchor": "x2",
         "domain": [
          0,
          0.29100000000000004
         ]
        },
        "yaxis4": {
         "anchor": "x2",
         "overlaying": "y3",
         "side": "right"
        }
       },
       "_py2js_addTraces": {},
       "_py2js_animate": {},
       "_py2js_deleteTraces": {},
       "_py2js_moveTraces": {},
       "_py2js_relayout": {},
       "_py2js_removeLayoutProps": {},
       "_py2js_removeTraceProps": {},
       "_py2js_restyle": {},
       "_py2js_update": {},
       "_view_count": 0
      }
     },
     "da1dbd56cea54c08bb45566ee48ea7c1": {
      "model_module": "@jupyter-widgets/base",
      "model_module_version": "1.2.0",
      "model_name": "LayoutModel",
      "state": {}
     },
     "ebff3f369092464aa4424eb96371feb9": {
      "model_module": "@jupyter-widgets/base",
      "model_module_version": "1.2.0",
      "model_name": "LayoutModel",
      "state": {}
     },
     "ee3fc88a61474ae6a25389054a2c5867": {
      "model_module": "jupyterlab-plotly",
      "model_module_version": "^5.6.0",
      "model_name": "FigureModel",
      "state": {
       "_config": {
        "plotlyServerURL": "https://plot.ly"
       },
       "_js2py_layoutDelta": {},
       "_js2py_pointsCallback": {},
       "_js2py_relayout": {},
       "_js2py_restyle": {},
       "_js2py_traceDeltas": {},
       "_js2py_update": {},
       "_layout": {
        "template": {
         "data": {
          "bar": [
           {
            "error_x": {
             "color": "#2a3f5f"
            },
            "error_y": {
             "color": "#2a3f5f"
            },
            "marker": {
             "line": {
              "color": "#E5ECF6",
              "width": 0.5
             },
             "pattern": {
              "fillmode": "overlay",
              "size": 10,
              "solidity": 0.2
             }
            },
            "type": "bar"
           }
          ],
          "barpolar": [
           {
            "marker": {
             "line": {
              "color": "#E5ECF6",
              "width": 0.5
             },
             "pattern": {
              "fillmode": "overlay",
              "size": 10,
              "solidity": 0.2
             }
            },
            "type": "barpolar"
           }
          ],
          "carpet": [
           {
            "aaxis": {
             "endlinecolor": "#2a3f5f",
             "gridcolor": "white",
             "linecolor": "white",
             "minorgridcolor": "white",
             "startlinecolor": "#2a3f5f"
            },
            "baxis": {
             "endlinecolor": "#2a3f5f",
             "gridcolor": "white",
             "linecolor": "white",
             "minorgridcolor": "white",
             "startlinecolor": "#2a3f5f"
            },
            "type": "carpet"
           }
          ],
          "choropleth": [
           {
            "colorbar": {
             "outlinewidth": 0,
             "ticks": ""
            },
            "type": "choropleth"
           }
          ],
          "contour": [
           {
            "colorbar": {
             "outlinewidth": 0,
             "ticks": ""
            },
            "colorscale": [
             [
              0,
              "#0d0887"
             ],
             [
              0.1111111111111111,
              "#46039f"
             ],
             [
              0.2222222222222222,
              "#7201a8"
             ],
             [
              0.3333333333333333,
              "#9c179e"
             ],
             [
              0.4444444444444444,
              "#bd3786"
             ],
             [
              0.5555555555555556,
              "#d8576b"
             ],
             [
              0.6666666666666666,
              "#ed7953"
             ],
             [
              0.7777777777777778,
              "#fb9f3a"
             ],
             [
              0.8888888888888888,
              "#fdca26"
             ],
             [
              1,
              "#f0f921"
             ]
            ],
            "type": "contour"
           }
          ],
          "contourcarpet": [
           {
            "colorbar": {
             "outlinewidth": 0,
             "ticks": ""
            },
            "type": "contourcarpet"
           }
          ],
          "heatmap": [
           {
            "colorbar": {
             "outlinewidth": 0,
             "ticks": ""
            },
            "colorscale": [
             [
              0,
              "#0d0887"
             ],
             [
              0.1111111111111111,
              "#46039f"
             ],
             [
              0.2222222222222222,
              "#7201a8"
             ],
             [
              0.3333333333333333,
              "#9c179e"
             ],
             [
              0.4444444444444444,
              "#bd3786"
             ],
             [
              0.5555555555555556,
              "#d8576b"
             ],
             [
              0.6666666666666666,
              "#ed7953"
             ],
             [
              0.7777777777777778,
              "#fb9f3a"
             ],
             [
              0.8888888888888888,
              "#fdca26"
             ],
             [
              1,
              "#f0f921"
             ]
            ],
            "type": "heatmap"
           }
          ],
          "heatmapgl": [
           {
            "colorbar": {
             "outlinewidth": 0,
             "ticks": ""
            },
            "colorscale": [
             [
              0,
              "#0d0887"
             ],
             [
              0.1111111111111111,
              "#46039f"
             ],
             [
              0.2222222222222222,
              "#7201a8"
             ],
             [
              0.3333333333333333,
              "#9c179e"
             ],
             [
              0.4444444444444444,
              "#bd3786"
             ],
             [
              0.5555555555555556,
              "#d8576b"
             ],
             [
              0.6666666666666666,
              "#ed7953"
             ],
             [
              0.7777777777777778,
              "#fb9f3a"
             ],
             [
              0.8888888888888888,
              "#fdca26"
             ],
             [
              1,
              "#f0f921"
             ]
            ],
            "type": "heatmapgl"
           }
          ],
          "histogram": [
           {
            "marker": {
             "pattern": {
              "fillmode": "overlay",
              "size": 10,
              "solidity": 0.2
             }
            },
            "type": "histogram"
           }
          ],
          "histogram2d": [
           {
            "colorbar": {
             "outlinewidth": 0,
             "ticks": ""
            },
            "colorscale": [
             [
              0,
              "#0d0887"
             ],
             [
              0.1111111111111111,
              "#46039f"
             ],
             [
              0.2222222222222222,
              "#7201a8"
             ],
             [
              0.3333333333333333,
              "#9c179e"
             ],
             [
              0.4444444444444444,
              "#bd3786"
             ],
             [
              0.5555555555555556,
              "#d8576b"
             ],
             [
              0.6666666666666666,
              "#ed7953"
             ],
             [
              0.7777777777777778,
              "#fb9f3a"
             ],
             [
              0.8888888888888888,
              "#fdca26"
             ],
             [
              1,
              "#f0f921"
             ]
            ],
            "type": "histogram2d"
           }
          ],
          "histogram2dcontour": [
           {
            "colorbar": {
             "outlinewidth": 0,
             "ticks": ""
            },
            "colorscale": [
             [
              0,
              "#0d0887"
             ],
             [
              0.1111111111111111,
              "#46039f"
             ],
             [
              0.2222222222222222,
              "#7201a8"
             ],
             [
              0.3333333333333333,
              "#9c179e"
             ],
             [
              0.4444444444444444,
              "#bd3786"
             ],
             [
              0.5555555555555556,
              "#d8576b"
             ],
             [
              0.6666666666666666,
              "#ed7953"
             ],
             [
              0.7777777777777778,
              "#fb9f3a"
             ],
             [
              0.8888888888888888,
              "#fdca26"
             ],
             [
              1,
              "#f0f921"
             ]
            ],
            "type": "histogram2dcontour"
           }
          ],
          "mesh3d": [
           {
            "colorbar": {
             "outlinewidth": 0,
             "ticks": ""
            },
            "type": "mesh3d"
           }
          ],
          "parcoords": [
           {
            "line": {
             "colorbar": {
              "outlinewidth": 0,
              "ticks": ""
             }
            },
            "type": "parcoords"
           }
          ],
          "pie": [
           {
            "automargin": true,
            "type": "pie"
           }
          ],
          "scatter": [
           {
            "marker": {
             "colorbar": {
              "outlinewidth": 0,
              "ticks": ""
             }
            },
            "type": "scatter"
           }
          ],
          "scatter3d": [
           {
            "line": {
             "colorbar": {
              "outlinewidth": 0,
              "ticks": ""
             }
            },
            "marker": {
             "colorbar": {
              "outlinewidth": 0,
              "ticks": ""
             }
            },
            "type": "scatter3d"
           }
          ],
          "scattercarpet": [
           {
            "marker": {
             "colorbar": {
              "outlinewidth": 0,
              "ticks": ""
             }
            },
            "type": "scattercarpet"
           }
          ],
          "scattergeo": [
           {
            "marker": {
             "colorbar": {
              "outlinewidth": 0,
              "ticks": ""
             }
            },
            "type": "scattergeo"
           }
          ],
          "scattergl": [
           {
            "marker": {
             "colorbar": {
              "outlinewidth": 0,
              "ticks": ""
             }
            },
            "type": "scattergl"
           }
          ],
          "scattermapbox": [
           {
            "marker": {
             "colorbar": {
              "outlinewidth": 0,
              "ticks": ""
             }
            },
            "type": "scattermapbox"
           }
          ],
          "scatterpolar": [
           {
            "marker": {
             "colorbar": {
              "outlinewidth": 0,
              "ticks": ""
             }
            },
            "type": "scatterpolar"
           }
          ],
          "scatterpolargl": [
           {
            "marker": {
             "colorbar": {
              "outlinewidth": 0,
              "ticks": ""
             }
            },
            "type": "scatterpolargl"
           }
          ],
          "scatterternary": [
           {
            "marker": {
             "colorbar": {
              "outlinewidth": 0,
              "ticks": ""
             }
            },
            "type": "scatterternary"
           }
          ],
          "surface": [
           {
            "colorbar": {
             "outlinewidth": 0,
             "ticks": ""
            },
            "colorscale": [
             [
              0,
              "#0d0887"
             ],
             [
              0.1111111111111111,
              "#46039f"
             ],
             [
              0.2222222222222222,
              "#7201a8"
             ],
             [
              0.3333333333333333,
              "#9c179e"
             ],
             [
              0.4444444444444444,
              "#bd3786"
             ],
             [
              0.5555555555555556,
              "#d8576b"
             ],
             [
              0.6666666666666666,
              "#ed7953"
             ],
             [
              0.7777777777777778,
              "#fb9f3a"
             ],
             [
              0.8888888888888888,
              "#fdca26"
             ],
             [
              1,
              "#f0f921"
             ]
            ],
            "type": "surface"
           }
          ],
          "table": [
           {
            "cells": {
             "fill": {
              "color": "#EBF0F8"
             },
             "line": {
              "color": "white"
             }
            },
            "header": {
             "fill": {
              "color": "#C8D4E3"
             },
             "line": {
              "color": "white"
             }
            },
            "type": "table"
           }
          ]
         },
         "layout": {
          "annotationdefaults": {
           "arrowcolor": "#2a3f5f",
           "arrowhead": 0,
           "arrowwidth": 1
          },
          "autotypenumbers": "strict",
          "coloraxis": {
           "colorbar": {
            "outlinewidth": 0,
            "ticks": ""
           }
          },
          "colorscale": {
           "diverging": [
            [
             0,
             "#8e0152"
            ],
            [
             0.1,
             "#c51b7d"
            ],
            [
             0.2,
             "#de77ae"
            ],
            [
             0.3,
             "#f1b6da"
            ],
            [
             0.4,
             "#fde0ef"
            ],
            [
             0.5,
             "#f7f7f7"
            ],
            [
             0.6,
             "#e6f5d0"
            ],
            [
             0.7,
             "#b8e186"
            ],
            [
             0.8,
             "#7fbc41"
            ],
            [
             0.9,
             "#4d9221"
            ],
            [
             1,
             "#276419"
            ]
           ],
           "sequential": [
            [
             0,
             "#0d0887"
            ],
            [
             0.1111111111111111,
             "#46039f"
            ],
            [
             0.2222222222222222,
             "#7201a8"
            ],
            [
             0.3333333333333333,
             "#9c179e"
            ],
            [
             0.4444444444444444,
             "#bd3786"
            ],
            [
             0.5555555555555556,
             "#d8576b"
            ],
            [
             0.6666666666666666,
             "#ed7953"
            ],
            [
             0.7777777777777778,
             "#fb9f3a"
            ],
            [
             0.8888888888888888,
             "#fdca26"
            ],
            [
             1,
             "#f0f921"
            ]
           ],
           "sequentialminus": [
            [
             0,
             "#0d0887"
            ],
            [
             0.1111111111111111,
             "#46039f"
            ],
            [
             0.2222222222222222,
             "#7201a8"
            ],
            [
             0.3333333333333333,
             "#9c179e"
            ],
            [
             0.4444444444444444,
             "#bd3786"
            ],
            [
             0.5555555555555556,
             "#d8576b"
            ],
            [
             0.6666666666666666,
             "#ed7953"
            ],
            [
             0.7777777777777778,
             "#fb9f3a"
            ],
            [
             0.8888888888888888,
             "#fdca26"
            ],
            [
             1,
             "#f0f921"
            ]
           ]
          },
          "colorway": [
           "#636efa",
           "#EF553B",
           "#00cc96",
           "#ab63fa",
           "#FFA15A",
           "#19d3f3",
           "#FF6692",
           "#B6E880",
           "#FF97FF",
           "#FECB52"
          ],
          "font": {
           "color": "#2a3f5f"
          },
          "geo": {
           "bgcolor": "white",
           "lakecolor": "white",
           "landcolor": "#E5ECF6",
           "showlakes": true,
           "showland": true,
           "subunitcolor": "white"
          },
          "hoverlabel": {
           "align": "left"
          },
          "hovermode": "closest",
          "mapbox": {
           "style": "light"
          },
          "paper_bgcolor": "white",
          "plot_bgcolor": "#E5ECF6",
          "polar": {
           "angularaxis": {
            "gridcolor": "white",
            "linecolor": "white",
            "ticks": ""
           },
           "bgcolor": "#E5ECF6",
           "radialaxis": {
            "gridcolor": "white",
            "linecolor": "white",
            "ticks": ""
           }
          },
          "scene": {
           "xaxis": {
            "backgroundcolor": "#E5ECF6",
            "gridcolor": "white",
            "gridwidth": 2,
            "linecolor": "white",
            "showbackground": true,
            "ticks": "",
            "zerolinecolor": "white"
           },
           "yaxis": {
            "backgroundcolor": "#E5ECF6",
            "gridcolor": "white",
            "gridwidth": 2,
            "linecolor": "white",
            "showbackground": true,
            "ticks": "",
            "zerolinecolor": "white"
           },
           "zaxis": {
            "backgroundcolor": "#E5ECF6",
            "gridcolor": "white",
            "gridwidth": 2,
            "linecolor": "white",
            "showbackground": true,
            "ticks": "",
            "zerolinecolor": "white"
           }
          },
          "shapedefaults": {
           "line": {
            "color": "#2a3f5f"
           }
          },
          "ternary": {
           "aaxis": {
            "gridcolor": "white",
            "linecolor": "white",
            "ticks": ""
           },
           "baxis": {
            "gridcolor": "white",
            "linecolor": "white",
            "ticks": ""
           },
           "bgcolor": "#E5ECF6",
           "caxis": {
            "gridcolor": "white",
            "linecolor": "white",
            "ticks": ""
           }
          },
          "title": {
           "x": 0.05
          },
          "xaxis": {
           "automargin": true,
           "gridcolor": "white",
           "linecolor": "white",
           "ticks": "",
           "title": {
            "standoff": 15
           },
           "zerolinecolor": "white",
           "zerolinewidth": 2
          },
          "yaxis": {
           "automargin": true,
           "gridcolor": "white",
           "linecolor": "white",
           "ticks": "",
           "title": {
            "standoff": 15
           },
           "zerolinecolor": "white",
           "zerolinewidth": 2
          }
         }
        },
        "xaxis": {
         "anchor": "y",
         "domain": [
          0,
          0.94
         ],
         "matches": "x2",
         "showticklabels": false
        },
        "xaxis2": {
         "anchor": "y3",
         "domain": [
          0,
          0.94
         ]
        },
        "yaxis": {
         "anchor": "x",
         "domain": [
          0.32100000000000006,
          1
         ]
        },
        "yaxis2": {
         "anchor": "x",
         "overlaying": "y",
         "side": "right"
        },
        "yaxis3": {
         "anchor": "x2",
         "domain": [
          0,
          0.29100000000000004
         ]
        },
        "yaxis4": {
         "anchor": "x2",
         "overlaying": "y3",
         "side": "right"
        }
       },
       "_py2js_addTraces": {},
       "_py2js_animate": {},
       "_py2js_deleteTraces": {},
       "_py2js_moveTraces": {},
       "_py2js_relayout": {},
       "_py2js_removeLayoutProps": {},
       "_py2js_removeTraceProps": {},
       "_py2js_restyle": {},
       "_py2js_update": {},
       "_view_count": 0
      }
     },
     "f530d112b48c458d97448e2a6223ab85": {
      "model_module": "@jupyter-widgets/controls",
      "model_module_version": "1.5.0",
      "model_name": "ProgressStyleModel",
      "state": {
       "description_width": ""
      }
     },
     "fa31aee4c80044a99a05713031f913ae": {
      "model_module": "@jupyter-widgets/base",
      "model_module_version": "1.2.0",
      "model_name": "LayoutModel",
      "state": {}
     }
    },
    "version_major": 2,
    "version_minor": 0
   }
  }
 },
 "nbformat": 4,
 "nbformat_minor": 5
}

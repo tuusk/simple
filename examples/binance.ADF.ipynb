{
 "cells": [
  {
   "cell_type": "code",
   "execution_count": 1,
   "id": "a7e9651a-f391-4785-ac98-198d7c0fef4f",
   "metadata": {
    "execution": {
     "iopub.execute_input": "2022-06-21T18:16:54.562382Z",
     "iopub.status.busy": "2022-06-21T18:16:54.561882Z",
     "iopub.status.idle": "2022-06-21T18:16:55.760592Z",
     "shell.execute_reply": "2022-06-21T18:16:55.760592Z",
     "shell.execute_reply.started": "2022-06-21T18:16:54.561882Z"
    }
   },
   "outputs": [],
   "source": [
    "from simple.binance import getHistMonth\n",
    "from simple.plotly import chartFigure, updateLines\n",
    "import pandas as pd\n",
    "from simple.pretty import pmap\n",
    "from simple.funcs import hurst\n",
    "\n",
    "from statsmodels.tsa.stattools import adfuller\n",
    "from ipyslickgrid import show_grid\n",
    "from ipywidgets import VBox"
   ]
  },
  {
   "cell_type": "code",
   "execution_count": 2,
   "id": "a18109c9-3733-4e77-b8ea-5f44c25fadc2",
   "metadata": {
    "execution": {
     "iopub.execute_input": "2022-06-21T18:16:55.761592Z",
     "iopub.status.busy": "2022-06-21T18:16:55.761592Z",
     "iopub.status.idle": "2022-06-21T18:16:55.767593Z",
     "shell.execute_reply": "2022-06-21T18:16:55.767593Z",
     "shell.execute_reply.started": "2022-06-21T18:16:55.761592Z"
    }
   },
   "outputs": [],
   "source": [
    "frame = '1h'\n",
    "\n",
    "tickers = [\n",
    "    '1000BTTCUSDT', '1000SHIBUSDT', '1000XECUSDT', '1INCHUSDT', 'AAVEUSDT', 'ADABUSD', 'ADAUSDT', 'AKROUSDT',\n",
    "    'ALGOUSDT', 'ALICEUSDT', 'ALPHAUSDT', 'ANKRUSDT', 'ANTUSDT', 'API3USDT', 'ARPAUSDT', 'ARUSDT', 'ATAUSDT', 'ATOMUSDT',\n",
    "    'AUDIOUSDT', 'AVAXUSDT', 'AXSUSDT', 'BAKEUSDT', 'BALUSDT', 'BANDUSDT', 'BATUSDT', 'BCHUSDT', 'BELUSDT', 'BLZUSDT',\n",
    "    'BNBBUSD', 'BNBUSDT', 'BTCBUSD', 'BTCDOMUSDT', 'BTCSTUSDT', 'BTCUSDT', 'BTSUSDT', 'C98USDT', 'CELOUSDT', 'CELRUSDT',\n",
    "    'CHRUSDT', 'CHZUSDT', 'COMPUSDT', 'COTIUSDT', 'CRVUSDT', 'CTKUSDT', 'CTSIUSDT', 'CVCUSDT', 'DASHUSDT', 'DEFIUSDT',\n",
    "    'DENTUSDT', 'DGBUSDT', 'DODOUSDT', 'DOGEBUSD', 'DOGEUSDT', 'DOTUSDT', 'DUSKUSDT', 'DYDXUSDT', 'EGLDUSDT', 'ENJUSDT',\n",
    "    'ENSUSDT', 'EOSUSDT', 'ETCUSDT', 'ETHBUSD', 'ETHUSDT', 'FILUSDT', 'FLMUSDT', 'FLOWUSDT', 'FTMUSDT', 'FTTBUSD',\n",
    "    'GALAUSDT', 'GRTUSDT', 'GTCUSDT', 'HBARUSDT', 'HNTUSDT', 'HOTUSDT', 'ICPUSDT', 'ICXUSDT', 'IMXUSDT', 'IOSTUSDT',\n",
    "    'IOTAUSDT', 'IOTXUSDT', 'KAVAUSDT', 'KLAYUSDT', 'KNCUSDT', 'KSMUSDT', 'LINAUSDT', 'LINKUSDT', 'LITUSDT', 'LPTUSDT',\n",
    "    'LRCUSDT', 'LTCUSDT', 'LUNAUSDT', 'MANAUSDT', 'MASKUSDT', 'MATICUSDT', 'MKRUSDT', 'MTLUSDT', 'NEARUSDT', 'NEOUSDT',\n",
    "    'NKNUSDT', 'OCEANUSDT', 'OGNUSDT', 'OMGUSDT', 'ONEUSDT', 'ONTUSDT', 'PEOPLEUSDT', 'QTUMUSDT', 'RAYUSDT', 'REEFUSDT',\n",
    "    'RENUSDT', 'RLCUSDT', 'ROSEUSDT', 'RSRUSDT', 'RUNEUSDT', 'RVNUSDT', 'SANDUSDT', 'SCUSDT', 'SFPUSDT', 'SKLUSDT',\n",
    "    'SNXUSDT', 'SOLBUSD', 'SOLUSDT', 'SRMUSDT', 'STMXUSDT', 'STORJUSDT', 'SUSHIUSDT', 'SXPUSDT', 'THETAUSDT', 'TLMUSDT',\n",
    "    'TOMOUSDT', 'TRBUSDT', 'TRXUSDT', 'UNFIUSDT', 'UNIUSDT', 'VETUSDT', 'WAVESUSDT', 'XEMUSDT', 'XLMUSDT', 'XMRUSDT',\n",
    "    'XRPBUSD', 'XRPUSDT', 'XTZUSDT', 'YFIIUSDT', 'YFIUSDT', 'ZECUSDT', 'ZENUSDT', 'ZILUSDT', 'ZRXUSDT'\n",
    "]"
   ]
  },
  {
   "cell_type": "code",
   "execution_count": 3,
   "id": "539ac9bd-a465-43c0-a293-064e07cb21c0",
   "metadata": {
    "execution": {
     "iopub.execute_input": "2022-06-21T18:16:55.769593Z",
     "iopub.status.busy": "2022-06-21T18:16:55.769593Z",
     "iopub.status.idle": "2022-06-21T18:16:55.775594Z",
     "shell.execute_reply": "2022-06-21T18:16:55.775594Z",
     "shell.execute_reply.started": "2022-06-21T18:16:55.769593Z"
    }
   },
   "outputs": [],
   "source": [
    "def getClose(ticker: str) -> pd.Series:\n",
    "    return getHistMonth('2022-02', '2022-03', ticker, frame, close_only=True, spot=False)"
   ]
  },
  {
   "cell_type": "code",
   "execution_count": 4,
   "id": "65c277d7-07cd-4efc-9b56-457de99c0660",
   "metadata": {
    "execution": {
     "iopub.execute_input": "2022-06-21T18:16:55.776595Z",
     "iopub.status.busy": "2022-06-21T18:16:55.776595Z",
     "iopub.status.idle": "2022-06-21T18:17:03.780995Z",
     "shell.execute_reply": "2022-06-21T18:17:03.780995Z",
     "shell.execute_reply.started": "2022-06-21T18:16:55.776595Z"
    }
   },
   "outputs": [
    {
     "data": {
      "application/vnd.jupyter.widget-view+json": {
       "model_id": "e732a4a1e84049fabc0dd6701241e62a",
       "version_major": 2,
       "version_minor": 0
      },
      "text/plain": [
       "  0%|          | 0/147 [00:00<?, ?it/s]"
      ]
     },
     "metadata": {},
     "output_type": "display_data"
    },
    {
     "data": {
      "text/html": [
       "<div>\n",
       "<style scoped>\n",
       "    .dataframe tbody tr th:only-of-type {\n",
       "        vertical-align: middle;\n",
       "    }\n",
       "\n",
       "    .dataframe tbody tr th {\n",
       "        vertical-align: top;\n",
       "    }\n",
       "\n",
       "    .dataframe thead th {\n",
       "        text-align: right;\n",
       "    }\n",
       "</style>\n",
       "<table border=\"1\" class=\"dataframe\">\n",
       "  <thead>\n",
       "    <tr style=\"text-align: right;\">\n",
       "      <th></th>\n",
       "      <th>1000BTTCUSDT</th>\n",
       "      <th>1000SHIBUSDT</th>\n",
       "      <th>1000XECUSDT</th>\n",
       "      <th>1INCHUSDT</th>\n",
       "      <th>AAVEUSDT</th>\n",
       "      <th>ADABUSD</th>\n",
       "      <th>ADAUSDT</th>\n",
       "      <th>AKROUSDT</th>\n",
       "      <th>ALGOUSDT</th>\n",
       "      <th>ALICEUSDT</th>\n",
       "      <th>...</th>\n",
       "      <th>XMRUSDT</th>\n",
       "      <th>XRPBUSD</th>\n",
       "      <th>XRPUSDT</th>\n",
       "      <th>XTZUSDT</th>\n",
       "      <th>YFIIUSDT</th>\n",
       "      <th>YFIUSDT</th>\n",
       "      <th>ZECUSDT</th>\n",
       "      <th>ZENUSDT</th>\n",
       "      <th>ZILUSDT</th>\n",
       "      <th>ZRXUSDT</th>\n",
       "    </tr>\n",
       "    <tr>\n",
       "      <th>DT</th>\n",
       "      <th></th>\n",
       "      <th></th>\n",
       "      <th></th>\n",
       "      <th></th>\n",
       "      <th></th>\n",
       "      <th></th>\n",
       "      <th></th>\n",
       "      <th></th>\n",
       "      <th></th>\n",
       "      <th></th>\n",
       "      <th></th>\n",
       "      <th></th>\n",
       "      <th></th>\n",
       "      <th></th>\n",
       "      <th></th>\n",
       "      <th></th>\n",
       "      <th></th>\n",
       "      <th></th>\n",
       "      <th></th>\n",
       "      <th></th>\n",
       "      <th></th>\n",
       "    </tr>\n",
       "  </thead>\n",
       "  <tbody>\n",
       "    <tr>\n",
       "      <th>2022-02-01 00:00:00</th>\n",
       "      <td>0.002135</td>\n",
       "      <td>0.021436</td>\n",
       "      <td>0.07660</td>\n",
       "      <td>1.6872</td>\n",
       "      <td>158.63</td>\n",
       "      <td>1.0446</td>\n",
       "      <td>1.0441</td>\n",
       "      <td>0.01329</td>\n",
       "      <td>0.9474</td>\n",
       "      <td>6.979</td>\n",
       "      <td>...</td>\n",
       "      <td>146.28</td>\n",
       "      <td>0.6143</td>\n",
       "      <td>0.6143</td>\n",
       "      <td>3.514</td>\n",
       "      <td>2326.3</td>\n",
       "      <td>24777.0</td>\n",
       "      <td>94.75</td>\n",
       "      <td>41.059</td>\n",
       "      <td>0.04479</td>\n",
       "      <td>0.5666</td>\n",
       "    </tr>\n",
       "    <tr>\n",
       "      <th>2022-02-01 01:00:00</th>\n",
       "      <td>0.002131</td>\n",
       "      <td>0.021288</td>\n",
       "      <td>0.07640</td>\n",
       "      <td>1.6874</td>\n",
       "      <td>159.70</td>\n",
       "      <td>1.0431</td>\n",
       "      <td>1.0432</td>\n",
       "      <td>0.01329</td>\n",
       "      <td>0.9532</td>\n",
       "      <td>7.074</td>\n",
       "      <td>...</td>\n",
       "      <td>145.52</td>\n",
       "      <td>0.6163</td>\n",
       "      <td>0.6161</td>\n",
       "      <td>3.500</td>\n",
       "      <td>2336.3</td>\n",
       "      <td>24808.0</td>\n",
       "      <td>94.85</td>\n",
       "      <td>40.990</td>\n",
       "      <td>0.04483</td>\n",
       "      <td>0.5729</td>\n",
       "    </tr>\n",
       "    <tr>\n",
       "      <th>2022-02-01 02:00:00</th>\n",
       "      <td>0.002134</td>\n",
       "      <td>0.021445</td>\n",
       "      <td>0.07685</td>\n",
       "      <td>1.6938</td>\n",
       "      <td>161.09</td>\n",
       "      <td>1.0451</td>\n",
       "      <td>1.0446</td>\n",
       "      <td>0.01342</td>\n",
       "      <td>0.9514</td>\n",
       "      <td>7.105</td>\n",
       "      <td>...</td>\n",
       "      <td>147.51</td>\n",
       "      <td>0.6208</td>\n",
       "      <td>0.6205</td>\n",
       "      <td>3.514</td>\n",
       "      <td>2341.0</td>\n",
       "      <td>24852.0</td>\n",
       "      <td>95.35</td>\n",
       "      <td>41.135</td>\n",
       "      <td>0.04527</td>\n",
       "      <td>0.5771</td>\n",
       "    </tr>\n",
       "    <tr>\n",
       "      <th>2022-02-01 03:00:00</th>\n",
       "      <td>0.002201</td>\n",
       "      <td>0.021733</td>\n",
       "      <td>0.07674</td>\n",
       "      <td>1.7056</td>\n",
       "      <td>163.74</td>\n",
       "      <td>1.0563</td>\n",
       "      <td>1.0556</td>\n",
       "      <td>0.01364</td>\n",
       "      <td>0.9655</td>\n",
       "      <td>7.208</td>\n",
       "      <td>...</td>\n",
       "      <td>147.72</td>\n",
       "      <td>0.6262</td>\n",
       "      <td>0.6260</td>\n",
       "      <td>3.542</td>\n",
       "      <td>2344.4</td>\n",
       "      <td>25031.0</td>\n",
       "      <td>96.30</td>\n",
       "      <td>41.348</td>\n",
       "      <td>0.04548</td>\n",
       "      <td>0.5848</td>\n",
       "    </tr>\n",
       "    <tr>\n",
       "      <th>2022-02-01 04:00:00</th>\n",
       "      <td>0.002175</td>\n",
       "      <td>0.021622</td>\n",
       "      <td>0.07660</td>\n",
       "      <td>1.6943</td>\n",
       "      <td>162.42</td>\n",
       "      <td>1.0536</td>\n",
       "      <td>1.0532</td>\n",
       "      <td>0.01377</td>\n",
       "      <td>0.9720</td>\n",
       "      <td>7.245</td>\n",
       "      <td>...</td>\n",
       "      <td>144.94</td>\n",
       "      <td>0.6239</td>\n",
       "      <td>0.6236</td>\n",
       "      <td>3.535</td>\n",
       "      <td>2323.9</td>\n",
       "      <td>24955.0</td>\n",
       "      <td>95.85</td>\n",
       "      <td>41.038</td>\n",
       "      <td>0.04531</td>\n",
       "      <td>0.5838</td>\n",
       "    </tr>\n",
       "  </tbody>\n",
       "</table>\n",
       "<p>5 rows × 147 columns</p>\n",
       "</div>"
      ],
      "text/plain": [
       "                     1000BTTCUSDT  1000SHIBUSDT  1000XECUSDT  1INCHUSDT  \\\n",
       "DT                                                                        \n",
       "2022-02-01 00:00:00      0.002135      0.021436      0.07660     1.6872   \n",
       "2022-02-01 01:00:00      0.002131      0.021288      0.07640     1.6874   \n",
       "2022-02-01 02:00:00      0.002134      0.021445      0.07685     1.6938   \n",
       "2022-02-01 03:00:00      0.002201      0.021733      0.07674     1.7056   \n",
       "2022-02-01 04:00:00      0.002175      0.021622      0.07660     1.6943   \n",
       "\n",
       "                     AAVEUSDT  ADABUSD  ADAUSDT  AKROUSDT  ALGOUSDT  \\\n",
       "DT                                                                    \n",
       "2022-02-01 00:00:00    158.63   1.0446   1.0441   0.01329    0.9474   \n",
       "2022-02-01 01:00:00    159.70   1.0431   1.0432   0.01329    0.9532   \n",
       "2022-02-01 02:00:00    161.09   1.0451   1.0446   0.01342    0.9514   \n",
       "2022-02-01 03:00:00    163.74   1.0563   1.0556   0.01364    0.9655   \n",
       "2022-02-01 04:00:00    162.42   1.0536   1.0532   0.01377    0.9720   \n",
       "\n",
       "                     ALICEUSDT  ...  XMRUSDT  XRPBUSD  XRPUSDT  XTZUSDT  \\\n",
       "DT                              ...                                       \n",
       "2022-02-01 00:00:00      6.979  ...   146.28   0.6143   0.6143    3.514   \n",
       "2022-02-01 01:00:00      7.074  ...   145.52   0.6163   0.6161    3.500   \n",
       "2022-02-01 02:00:00      7.105  ...   147.51   0.6208   0.6205    3.514   \n",
       "2022-02-01 03:00:00      7.208  ...   147.72   0.6262   0.6260    3.542   \n",
       "2022-02-01 04:00:00      7.245  ...   144.94   0.6239   0.6236    3.535   \n",
       "\n",
       "                     YFIIUSDT  YFIUSDT  ZECUSDT  ZENUSDT  ZILUSDT  ZRXUSDT  \n",
       "DT                                                                          \n",
       "2022-02-01 00:00:00    2326.3  24777.0    94.75   41.059  0.04479   0.5666  \n",
       "2022-02-01 01:00:00    2336.3  24808.0    94.85   40.990  0.04483   0.5729  \n",
       "2022-02-01 02:00:00    2341.0  24852.0    95.35   41.135  0.04527   0.5771  \n",
       "2022-02-01 03:00:00    2344.4  25031.0    96.30   41.348  0.04548   0.5848  \n",
       "2022-02-01 04:00:00    2323.9  24955.0    95.85   41.038  0.04531   0.5838  \n",
       "\n",
       "[5 rows x 147 columns]"
      ]
     },
     "execution_count": 4,
     "metadata": {},
     "output_type": "execute_result"
    }
   ],
   "source": [
    "# parallel load data from binance archive\n",
    "Close = pd.concat(pmap(getClose, tickers), axis=1)\n",
    "Close.head()"
   ]
  },
  {
   "cell_type": "code",
   "execution_count": 5,
   "id": "2ea34867-bb11-4009-b4a5-b2e017437bf1",
   "metadata": {
    "execution": {
     "iopub.execute_input": "2022-06-21T18:17:03.781996Z",
     "iopub.status.busy": "2022-06-21T18:17:03.781996Z",
     "iopub.status.idle": "2022-06-21T18:17:05.660825Z",
     "shell.execute_reply": "2022-06-21T18:17:05.660325Z",
     "shell.execute_reply.started": "2022-06-21T18:17:03.781996Z"
    }
   },
   "outputs": [
    {
     "data": {
      "application/vnd.jupyter.widget-view+json": {
       "model_id": "4e85cb3844c64b8691eaf1209f2c067a",
       "version_major": 2,
       "version_minor": 0
      },
      "text/plain": [
       "  0%|          | 0/147 [00:00<?, ?it/s]"
      ]
     },
     "metadata": {},
     "output_type": "display_data"
    },
    {
     "ename": "LinAlgError",
     "evalue": "SVD did not converge in Linear Least Squares",
     "output_type": "error",
     "traceback": [
      "\u001b[1;31m---------------------------------------------------------------------------\u001b[0m",
      "\u001b[1;31m_RemoteTraceback\u001b[0m                          Traceback (most recent call last)",
      "\u001b[1;31m_RemoteTraceback\u001b[0m: \n\"\"\"\nTraceback (most recent call last):\n  File \"C:\\ProgramData\\Anaconda3\\lib\\site-packages\\joblib\\externals\\loky\\process_executor.py\", line 436, in _process_worker\n    r = call_item()\n  File \"C:\\ProgramData\\Anaconda3\\lib\\site-packages\\joblib\\externals\\loky\\process_executor.py\", line 288, in __call__\n    return self.fn(*self.args, **self.kwargs)\n  File \"C:\\ProgramData\\Anaconda3\\lib\\site-packages\\joblib\\_parallel_backends.py\", line 595, in __call__\n    return self.func(*args, **kwargs)\n  File \"C:\\ProgramData\\Anaconda3\\lib\\site-packages\\joblib\\parallel.py\", line 262, in __call__\n    return [func(*args, **kwargs)\n  File \"C:\\ProgramData\\Anaconda3\\lib\\site-packages\\joblib\\parallel.py\", line 262, in <listcomp>\n    return [func(*args, **kwargs)\n  File \"C:\\Temp\\ipykernel_25680\\2487997108.py\", line 2, in <lambda>\n  File \"c:\\ntick\\ipython\\simple\\simple\\funcs.py\", line 244, in hurst\n    fit = np.polyfit(np.log(lags), np.log(tau), 1)\n  File \"<__array_function__ internals>\", line 5, in polyfit\n  File \"C:\\ProgramData\\Anaconda3\\lib\\site-packages\\numpy\\lib\\polynomial.py\", line 660, in polyfit\n    c, resids, rank, s = lstsq(lhs, rhs, rcond)\n  File \"<__array_function__ internals>\", line 5, in lstsq\n  File \"C:\\ProgramData\\Anaconda3\\lib\\site-packages\\numpy\\linalg\\linalg.py\", line 2306, in lstsq\n    x, resids, rank, s = gufunc(a, b, rcond, signature=signature, extobj=extobj)\n  File \"C:\\ProgramData\\Anaconda3\\lib\\site-packages\\numpy\\linalg\\linalg.py\", line 100, in _raise_linalgerror_lstsq\n    raise LinAlgError(\"SVD did not converge in Linear Least Squares\")\nnumpy.linalg.LinAlgError: SVD did not converge in Linear Least Squares\n\"\"\"",
      "\nThe above exception was the direct cause of the following exception:\n",
      "\u001b[1;31mLinAlgError\u001b[0m                               Traceback (most recent call last)",
      "Input \u001b[1;32mIn [5]\u001b[0m, in \u001b[0;36m<cell line: 2>\u001b[1;34m()\u001b[0m\n\u001b[0;32m      1\u001b[0m \u001b[38;5;66;03m# parallel calculate Hurst Exponent value\u001b[39;00m\n\u001b[1;32m----> 2\u001b[0m Hurst \u001b[38;5;241m=\u001b[39m pd\u001b[38;5;241m.\u001b[39mDataFrame(\u001b[43mpmap\u001b[49m\u001b[43m(\u001b[49m\u001b[38;5;28;43;01mlambda\u001b[39;49;00m\u001b[43m \u001b[49m\u001b[43mt\u001b[49m\u001b[43m:\u001b[49m\u001b[43m \u001b[49m\u001b[43mhurst\u001b[49m\u001b[43m(\u001b[49m\u001b[43mClose\u001b[49m\u001b[43m[\u001b[49m\u001b[43mt\u001b[49m\u001b[43m]\u001b[49m\u001b[38;5;241;43m.\u001b[39;49m\u001b[43mvalues\u001b[49m\u001b[43m)\u001b[49m\u001b[43m,\u001b[49m\u001b[43m \u001b[49m\u001b[43mClose\u001b[49m\u001b[38;5;241;43m.\u001b[39;49m\u001b[43mcolumns\u001b[49m\u001b[43m)\u001b[49m, index\u001b[38;5;241m=\u001b[39mClose\u001b[38;5;241m.\u001b[39mcolumns, columns\u001b[38;5;241m=\u001b[39m[\u001b[38;5;124m'\u001b[39m\u001b[38;5;124mHurst Exponent\u001b[39m\u001b[38;5;124m'\u001b[39m])\n\u001b[0;32m      3\u001b[0m Hurst\n",
      "File \u001b[1;32mc:\\ntick\\ipython\\simple\\simple\\pretty.py:40\u001b[0m, in \u001b[0;36mpmap\u001b[1;34m(func, params, **kwargs)\u001b[0m\n\u001b[0;32m     38\u001b[0m \u001b[38;5;28;01mwith\u001b[39;00m tqdmParallel(total\u001b[38;5;241m=\u001b[39m\u001b[38;5;28mlen\u001b[39m(params), \u001b[38;5;241m*\u001b[39m\u001b[38;5;241m*\u001b[39mkwargs) \u001b[38;5;28;01mas\u001b[39;00m P:\n\u001b[0;32m     39\u001b[0m     FUNC \u001b[38;5;241m=\u001b[39m delayed(func)\n\u001b[1;32m---> 40\u001b[0m     \u001b[38;5;28;01mreturn\u001b[39;00m \u001b[43mP\u001b[49m\u001b[43m(\u001b[49m\u001b[43mFUNC\u001b[49m\u001b[43m(\u001b[49m\u001b[43mparam\u001b[49m\u001b[43m)\u001b[49m\u001b[43m \u001b[49m\u001b[38;5;28;43;01mfor\u001b[39;49;00m\u001b[43m \u001b[49m\u001b[43mparam\u001b[49m\u001b[43m \u001b[49m\u001b[38;5;129;43;01min\u001b[39;49;00m\u001b[43m \u001b[49m\u001b[43mparams\u001b[49m\u001b[43m)\u001b[49m\n",
      "File \u001b[1;32mc:\\ntick\\ipython\\simple\\simple\\pretty.py:23\u001b[0m, in \u001b[0;36mtqdmParallel.__call__\u001b[1;34m(self, *args, **kwargs)\u001b[0m\n\u001b[0;32m     21\u001b[0m \u001b[38;5;28;01mdef\u001b[39;00m \u001b[38;5;21m__call__\u001b[39m(\u001b[38;5;28mself\u001b[39m, \u001b[38;5;241m*\u001b[39margs, \u001b[38;5;241m*\u001b[39m\u001b[38;5;241m*\u001b[39mkwargs):\n\u001b[0;32m     22\u001b[0m     \u001b[38;5;28;01mwith\u001b[39;00m tqdm(disable\u001b[38;5;241m=\u001b[39m\u001b[38;5;129;01mnot\u001b[39;00m \u001b[38;5;28mself\u001b[39m\u001b[38;5;241m.\u001b[39m_progress, total\u001b[38;5;241m=\u001b[39m\u001b[38;5;28mself\u001b[39m\u001b[38;5;241m.\u001b[39m_total) \u001b[38;5;28;01mas\u001b[39;00m \u001b[38;5;28mself\u001b[39m\u001b[38;5;241m.\u001b[39m_pbar:\n\u001b[1;32m---> 23\u001b[0m         \u001b[38;5;28;01mreturn\u001b[39;00m Parallel\u001b[38;5;241m.\u001b[39m\u001b[38;5;21m__call__\u001b[39m(\u001b[38;5;28mself\u001b[39m, \u001b[38;5;241m*\u001b[39margs, \u001b[38;5;241m*\u001b[39m\u001b[38;5;241m*\u001b[39mkwargs)\n",
      "File \u001b[1;32mC:\\ProgramData\\Anaconda3\\lib\\site-packages\\joblib\\parallel.py:1056\u001b[0m, in \u001b[0;36mParallel.__call__\u001b[1;34m(self, iterable)\u001b[0m\n\u001b[0;32m   1053\u001b[0m     \u001b[38;5;28mself\u001b[39m\u001b[38;5;241m.\u001b[39m_iterating \u001b[38;5;241m=\u001b[39m \u001b[38;5;28;01mFalse\u001b[39;00m\n\u001b[0;32m   1055\u001b[0m \u001b[38;5;28;01mwith\u001b[39;00m \u001b[38;5;28mself\u001b[39m\u001b[38;5;241m.\u001b[39m_backend\u001b[38;5;241m.\u001b[39mretrieval_context():\n\u001b[1;32m-> 1056\u001b[0m     \u001b[38;5;28;43mself\u001b[39;49m\u001b[38;5;241;43m.\u001b[39;49m\u001b[43mretrieve\u001b[49m\u001b[43m(\u001b[49m\u001b[43m)\u001b[49m\n\u001b[0;32m   1057\u001b[0m \u001b[38;5;66;03m# Make sure that we get a last message telling us we are done\u001b[39;00m\n\u001b[0;32m   1058\u001b[0m elapsed_time \u001b[38;5;241m=\u001b[39m time\u001b[38;5;241m.\u001b[39mtime() \u001b[38;5;241m-\u001b[39m \u001b[38;5;28mself\u001b[39m\u001b[38;5;241m.\u001b[39m_start_time\n",
      "File \u001b[1;32mC:\\ProgramData\\Anaconda3\\lib\\site-packages\\joblib\\parallel.py:935\u001b[0m, in \u001b[0;36mParallel.retrieve\u001b[1;34m(self)\u001b[0m\n\u001b[0;32m    933\u001b[0m \u001b[38;5;28;01mtry\u001b[39;00m:\n\u001b[0;32m    934\u001b[0m     \u001b[38;5;28;01mif\u001b[39;00m \u001b[38;5;28mgetattr\u001b[39m(\u001b[38;5;28mself\u001b[39m\u001b[38;5;241m.\u001b[39m_backend, \u001b[38;5;124m'\u001b[39m\u001b[38;5;124msupports_timeout\u001b[39m\u001b[38;5;124m'\u001b[39m, \u001b[38;5;28;01mFalse\u001b[39;00m):\n\u001b[1;32m--> 935\u001b[0m         \u001b[38;5;28mself\u001b[39m\u001b[38;5;241m.\u001b[39m_output\u001b[38;5;241m.\u001b[39mextend(\u001b[43mjob\u001b[49m\u001b[38;5;241;43m.\u001b[39;49m\u001b[43mget\u001b[49m\u001b[43m(\u001b[49m\u001b[43mtimeout\u001b[49m\u001b[38;5;241;43m=\u001b[39;49m\u001b[38;5;28;43mself\u001b[39;49m\u001b[38;5;241;43m.\u001b[39;49m\u001b[43mtimeout\u001b[49m\u001b[43m)\u001b[49m)\n\u001b[0;32m    936\u001b[0m     \u001b[38;5;28;01melse\u001b[39;00m:\n\u001b[0;32m    937\u001b[0m         \u001b[38;5;28mself\u001b[39m\u001b[38;5;241m.\u001b[39m_output\u001b[38;5;241m.\u001b[39mextend(job\u001b[38;5;241m.\u001b[39mget())\n",
      "File \u001b[1;32mC:\\ProgramData\\Anaconda3\\lib\\site-packages\\joblib\\_parallel_backends.py:542\u001b[0m, in \u001b[0;36mLokyBackend.wrap_future_result\u001b[1;34m(future, timeout)\u001b[0m\n\u001b[0;32m    539\u001b[0m \u001b[38;5;124;03m\"\"\"Wrapper for Future.result to implement the same behaviour as\u001b[39;00m\n\u001b[0;32m    540\u001b[0m \u001b[38;5;124;03mAsyncResults.get from multiprocessing.\"\"\"\u001b[39;00m\n\u001b[0;32m    541\u001b[0m \u001b[38;5;28;01mtry\u001b[39;00m:\n\u001b[1;32m--> 542\u001b[0m     \u001b[38;5;28;01mreturn\u001b[39;00m \u001b[43mfuture\u001b[49m\u001b[38;5;241;43m.\u001b[39;49m\u001b[43mresult\u001b[49m\u001b[43m(\u001b[49m\u001b[43mtimeout\u001b[49m\u001b[38;5;241;43m=\u001b[39;49m\u001b[43mtimeout\u001b[49m\u001b[43m)\u001b[49m\n\u001b[0;32m    543\u001b[0m \u001b[38;5;28;01mexcept\u001b[39;00m CfTimeoutError \u001b[38;5;28;01mas\u001b[39;00m e:\n\u001b[0;32m    544\u001b[0m     \u001b[38;5;28;01mraise\u001b[39;00m \u001b[38;5;167;01mTimeoutError\u001b[39;00m \u001b[38;5;28;01mfrom\u001b[39;00m \u001b[38;5;21;01me\u001b[39;00m\n",
      "File \u001b[1;32mC:\\ProgramData\\Anaconda3\\lib\\concurrent\\futures\\_base.py:446\u001b[0m, in \u001b[0;36mFuture.result\u001b[1;34m(self, timeout)\u001b[0m\n\u001b[0;32m    444\u001b[0m     \u001b[38;5;28;01mraise\u001b[39;00m CancelledError()\n\u001b[0;32m    445\u001b[0m \u001b[38;5;28;01melif\u001b[39;00m \u001b[38;5;28mself\u001b[39m\u001b[38;5;241m.\u001b[39m_state \u001b[38;5;241m==\u001b[39m FINISHED:\n\u001b[1;32m--> 446\u001b[0m     \u001b[38;5;28;01mreturn\u001b[39;00m \u001b[38;5;28;43mself\u001b[39;49m\u001b[38;5;241;43m.\u001b[39;49m\u001b[43m__get_result\u001b[49m\u001b[43m(\u001b[49m\u001b[43m)\u001b[49m\n\u001b[0;32m    447\u001b[0m \u001b[38;5;28;01melse\u001b[39;00m:\n\u001b[0;32m    448\u001b[0m     \u001b[38;5;28;01mraise\u001b[39;00m \u001b[38;5;167;01mTimeoutError\u001b[39;00m()\n",
      "File \u001b[1;32mC:\\ProgramData\\Anaconda3\\lib\\concurrent\\futures\\_base.py:391\u001b[0m, in \u001b[0;36mFuture.__get_result\u001b[1;34m(self)\u001b[0m\n\u001b[0;32m    389\u001b[0m \u001b[38;5;28;01mif\u001b[39;00m \u001b[38;5;28mself\u001b[39m\u001b[38;5;241m.\u001b[39m_exception:\n\u001b[0;32m    390\u001b[0m     \u001b[38;5;28;01mtry\u001b[39;00m:\n\u001b[1;32m--> 391\u001b[0m         \u001b[38;5;28;01mraise\u001b[39;00m \u001b[38;5;28mself\u001b[39m\u001b[38;5;241m.\u001b[39m_exception\n\u001b[0;32m    392\u001b[0m     \u001b[38;5;28;01mfinally\u001b[39;00m:\n\u001b[0;32m    393\u001b[0m         \u001b[38;5;66;03m# Break a reference cycle with the exception in self._exception\u001b[39;00m\n\u001b[0;32m    394\u001b[0m         \u001b[38;5;28mself\u001b[39m \u001b[38;5;241m=\u001b[39m \u001b[38;5;28;01mNone\u001b[39;00m\n",
      "\u001b[1;31mLinAlgError\u001b[0m: SVD did not converge in Linear Least Squares"
     ]
    }
   ],
   "source": [
    "# parallel calculate Hurst Exponent value\n",
    "Hurst = pd.DataFrame(pmap(lambda t: hurst(Close[t].values), Close.columns), index=Close.columns, columns=['Hurst Exponent'])\n",
    "Hurst"
   ]
  },
  {
   "cell_type": "code",
   "execution_count": null,
   "id": "9e374926-511a-4171-b917-4099bbf4382a",
   "metadata": {
    "execution": {
     "iopub.status.busy": "2022-06-21T18:17:05.661325Z",
     "iopub.status.idle": "2022-06-21T18:17:05.661325Z",
     "shell.execute_reply": "2022-06-21T18:17:05.661325Z",
     "shell.execute_reply.started": "2022-06-21T18:17:05.661325Z"
    }
   },
   "outputs": [],
   "source": [
    "# parallel run of Augmented Dickey-Fuller test\n",
    "ADF = pd.DataFrame(pmap(adfuller, Close.dropna().values.T),\n",
    "                   index=Close.columns,\n",
    "                   columns=['ADF', 'P-value', 'Used Lag', 'Observations', 'Critical Values', 'Best IC'])\n",
    "ADF"
   ]
  },
  {
   "cell_type": "code",
   "execution_count": null,
   "id": "a758ff42-9fa5-4af4-85c1-4afa93ea01e6",
   "metadata": {
    "execution": {
     "iopub.status.busy": "2022-06-21T18:17:05.662325Z",
     "iopub.status.idle": "2022-06-21T18:17:05.662325Z",
     "shell.execute_reply": "2022-06-21T18:17:05.662325Z",
     "shell.execute_reply.started": "2022-06-21T18:17:05.662325Z"
    }
   },
   "outputs": [],
   "source": [
    "fig = chartFigure(Close=dict(color='lightblue', width=3), height=400)"
   ]
  },
  {
   "cell_type": "code",
   "execution_count": null,
   "id": "78ef4f14-9c77-436d-80fd-e0e7733e776e",
   "metadata": {
    "execution": {
     "iopub.status.busy": "2022-06-21T18:17:05.663325Z",
     "iopub.status.idle": "2022-06-21T18:17:05.663325Z",
     "shell.execute_reply": "2022-06-21T18:17:05.663325Z",
     "shell.execute_reply.started": "2022-06-21T18:17:05.663325Z"
    }
   },
   "outputs": [],
   "source": [
    "def on_changed(event, grid):\n",
    "    \"\"\"Redraw chart with selected ticker's data\"\"\"\n",
    "\n",
    "    changed = grid.get_changed_df()\n",
    "    k = event['new'][0]\n",
    "    selected = changed.iloc[k:k + 1].to_dict('records')[0]\n",
    "    ticker = selected['index']\n",
    "    updateLines(fig, Close=Close[ticker])\n",
    "    fig.layout.title.text = ticker"
   ]
  },
  {
   "cell_type": "code",
   "execution_count": null,
   "id": "23c90db9-4ae0-4a18-b2fe-a418e415788d",
   "metadata": {
    "execution": {
     "iopub.status.busy": "2022-06-21T18:17:05.663825Z",
     "iopub.status.idle": "2022-06-21T18:17:05.664325Z",
     "shell.execute_reply": "2022-06-21T18:17:05.664325Z",
     "shell.execute_reply.started": "2022-06-21T18:17:05.664325Z"
    }
   },
   "outputs": [],
   "source": [
    "X = Hurst.join(ADF).reset_index()\n",
    "grid = show_grid(X, grid_options={'editable': False, 'forceFitColumns': True, 'multiSelect': False, 'rowHeight': 24, 'maxVisibleRows': 14},\n",
    "                 column_options={'defaultSortAsc': False},\n",
    "                 column_definitions={'Critical Values': {'width': 500}})\n",
    "\n",
    "grid.on('selection_changed', on_changed)\n",
    "grid.change_selection([0])"
   ]
  },
  {
   "cell_type": "code",
   "execution_count": null,
   "id": "3bf1b75d-5c2a-4c58-935c-42c9d74b6b70",
   "metadata": {
    "execution": {
     "iopub.status.busy": "2022-06-21T18:17:05.665326Z",
     "iopub.status.idle": "2022-06-21T18:17:05.665825Z",
     "shell.execute_reply": "2022-06-21T18:17:05.665326Z",
     "shell.execute_reply.started": "2022-06-21T18:17:05.665326Z"
    }
   },
   "outputs": [],
   "source": [
    "VBox([fig, grid])"
   ]
  },
  {
   "cell_type": "code",
   "execution_count": null,
   "id": "270f99d4-906b-4ddb-91ef-9b9b8be37fc2",
   "metadata": {},
   "outputs": [],
   "source": []
  }
 ],
 "metadata": {
  "kernelspec": {
   "display_name": "Python 3 (ipykernel)",
   "language": "python",
   "name": "python3"
  },
  "language_info": {
   "codemirror_mode": {
    "name": "ipython",
    "version": 3
   },
   "file_extension": ".py",
   "mimetype": "text/x-python",
   "name": "python",
   "nbconvert_exporter": "python",
   "pygments_lexer": "ipython3",
   "version": "3.9.12"
  }
 },
 "nbformat": 4,
 "nbformat_minor": 5
}

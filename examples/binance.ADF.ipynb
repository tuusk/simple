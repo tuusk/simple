{
 "cells": [
  {
   "cell_type": "code",
   "execution_count": null,
   "id": "a7e9651a-f391-4785-ac98-198d7c0fef4f",
   "metadata": {},
   "outputs": [],
   "source": [
    "from simple.binance import getHistMonth\n",
    "from simple.plotly import chartFigure, updateLines\n",
    "import pandas as pd\n",
    "from simple.pretty import pmap\n",
    "from simple.funcs import hurst\n",
    "\n",
    "from statsmodels.tsa.stattools import adfuller\n",
    "from ipyslickgrid import show_grid\n",
    "from ipywidgets import VBox"
   ]
  },
  {
   "cell_type": "code",
   "execution_count": null,
   "id": "a18109c9-3733-4e77-b8ea-5f44c25fadc2",
   "metadata": {},
   "outputs": [],
   "source": [
    "frame = '1h'\n",
    "\n",
    "tickers = [\n",
    "    '1000BTTCUSDT', '1000SHIBUSDT', '1000XECUSDT', '1INCHUSDT', 'AAVEUSDT', 'ADABUSD', 'ADAUSDT', 'AKROUSDT',\n",
    "    'ALGOUSDT', 'ALICEUSDT', 'ALPHAUSDT', 'ANKRUSDT', 'ANTUSDT', 'API3USDT', 'ARPAUSDT', 'ARUSDT', 'ATAUSDT', 'ATOMUSDT',\n",
    "    'AUDIOUSDT', 'AVAXUSDT', 'AXSUSDT', 'BAKEUSDT', 'BALUSDT', 'BANDUSDT', 'BATUSDT', 'BCHUSDT', 'BELUSDT', 'BLZUSDT',\n",
    "    'BNBBUSD', 'BNBUSDT', 'BTCBUSD', 'BTCDOMUSDT', 'BTCSTUSDT', 'BTCUSDT', 'BTSUSDT', 'C98USDT', 'CELOUSDT', 'CELRUSDT',\n",
    "    'CHRUSDT', 'CHZUSDT', 'COMPUSDT', 'COTIUSDT', 'CRVUSDT', 'CTKUSDT', 'CTSIUSDT', 'CVCUSDT', 'DASHUSDT', 'DEFIUSDT',\n",
    "    'DENTUSDT', 'DGBUSDT', 'DODOUSDT', 'DOGEBUSD', 'DOGEUSDT', 'DOTUSDT', 'DUSKUSDT', 'DYDXUSDT', 'EGLDUSDT', 'ENJUSDT',\n",
    "    'ENSUSDT', 'EOSUSDT', 'ETCUSDT', 'ETHBUSD', 'ETHUSDT', 'FILUSDT', 'FLMUSDT', 'FLOWUSDT', 'FTMUSDT', 'FTTBUSD',\n",
    "    'GALAUSDT', 'GRTUSDT', 'GTCUSDT', 'HBARUSDT', 'HNTUSDT', 'HOTUSDT', 'ICPUSDT', 'ICXUSDT', 'IMXUSDT', 'IOSTUSDT',\n",
    "    'IOTAUSDT', 'IOTXUSDT', 'KAVAUSDT', 'KLAYUSDT', 'KNCUSDT', 'KSMUSDT', 'LINAUSDT', 'LINKUSDT', 'LITUSDT', 'LPTUSDT',\n",
    "    'LRCUSDT', 'LTCUSDT', 'LUNAUSDT', 'MANAUSDT', 'MASKUSDT', 'MATICUSDT', 'MKRUSDT', 'MTLUSDT', 'NEARUSDT', 'NEOUSDT',\n",
    "    'NKNUSDT', 'OCEANUSDT', 'OGNUSDT', 'OMGUSDT', 'ONEUSDT', 'ONTUSDT', 'PEOPLEUSDT', 'QTUMUSDT', 'RAYUSDT', 'REEFUSDT',\n",
    "    'RENUSDT', 'RLCUSDT', 'ROSEUSDT', 'RSRUSDT', 'RUNEUSDT', 'RVNUSDT', 'SANDUSDT', 'SCUSDT', 'SFPUSDT', 'SKLUSDT',\n",
    "    'SNXUSDT', 'SOLBUSD', 'SOLUSDT', 'SRMUSDT', 'STMXUSDT', 'STORJUSDT', 'SUSHIUSDT', 'SXPUSDT', 'THETAUSDT', 'TLMUSDT',\n",
    "    'TOMOUSDT', 'TRBUSDT', 'TRXUSDT', 'UNFIUSDT', 'UNIUSDT', 'VETUSDT', 'WAVESUSDT', 'XEMUSDT', 'XLMUSDT', 'XMRUSDT',\n",
    "    'XRPBUSD', 'XRPUSDT', 'XTZUSDT', 'YFIIUSDT', 'YFIUSDT', 'ZECUSDT', 'ZENUSDT', 'ZILUSDT', 'ZRXUSDT'\n",
    "]"
   ]
  },
  {
   "cell_type": "code",
   "execution_count": null,
   "id": "539ac9bd-a465-43c0-a293-064e07cb21c0",
   "metadata": {},
   "outputs": [],
   "source": [
    "def getClose(ticker: str) -> pd.Series:\n",
    "    return getHistMonth('2022-02', '2022-03', ticker, frame, close_only=True, spot=False)"
   ]
  },
  {
   "cell_type": "code",
   "execution_count": null,
   "id": "65c277d7-07cd-4efc-9b56-457de99c0660",
   "metadata": {},
   "outputs": [],
   "source": [
    "# parallel load data from binance archive\n",
    "Close = pd.concat(pmap(getClose, tickers), axis=1)\n",
    "Close.head()"
   ]
  },
  {
   "cell_type": "code",
   "execution_count": null,
   "id": "2ea34867-bb11-4009-b4a5-b2e017437bf1",
   "metadata": {},
   "outputs": [],
   "source": [
    "# parallel calculate Hurst Exponent value\n",
    "Hurst = pd.DataFrame(pmap(lambda t: hurst(Close[t].values), Close.columns), index=Close.columns, columns=['Hurst Exponent'])\n",
    "Hurst"
   ]
  },
  {
   "cell_type": "code",
   "execution_count": null,
   "id": "9e374926-511a-4171-b917-4099bbf4382a",
   "metadata": {},
   "outputs": [],
   "source": [
    "# parallel run of Augmented Dickey-Fuller test\n",
    "ADF = pd.DataFrame(pmap(adfuller, Close.dropna().values.T),\n",
    "                   index=Close.columns,\n",
    "                   columns=['ADF', 'P-value', 'Used Lag', 'Observations', 'Critical Values', 'Best IC'])\n",
    "ADF"
   ]
  },
  {
   "cell_type": "code",
   "execution_count": null,
   "id": "a758ff42-9fa5-4af4-85c1-4afa93ea01e6",
   "metadata": {},
   "outputs": [],
   "source": [
    "fig = chartFigure(Close=dict(color='lightblue', width=3), height=400)"
   ]
  },
  {
   "cell_type": "code",
   "execution_count": null,
   "id": "78ef4f14-9c77-436d-80fd-e0e7733e776e",
   "metadata": {},
   "outputs": [],
   "source": [
    "def on_changed(event, grid):\n",
    "    \"\"\"Redraw chart with selected ticker's data\"\"\"\n",
    "\n",
    "    changed = grid.get_changed_df()\n",
    "    k = event['new'][0]\n",
    "    selected = changed.iloc[k:k + 1].to_dict('records')[0]\n",
    "    ticker = selected['index']\n",
    "    updateLines(fig, Close=Close[ticker])\n",
    "    fig.layout.title.text = ticker"
   ]
  },
  {
   "cell_type": "code",
   "execution_count": null,
   "id": "23c90db9-4ae0-4a18-b2fe-a418e415788d",
   "metadata": {},
   "outputs": [],
   "source": [
    "X = Hurst.join(ADF).reset_index()\n",
    "grid = show_grid(X, grid_options={'editable': False, 'forceFitColumns': True, 'multiSelect': False, 'rowHeight': 24, 'maxVisibleRows': 14},\n",
    "                 column_options={'defaultSortAsc': False},\n",
    "                 column_definitions={'Critical Values': {'width': 500}})\n",
    "\n",
    "grid.on('selection_changed', on_changed)\n",
    "grid.change_selection([0])"
   ]
  },
  {
   "cell_type": "code",
   "execution_count": null,
   "id": "3bf1b75d-5c2a-4c58-935c-42c9d74b6b70",
   "metadata": {},
   "outputs": [],
   "source": [
    "VBox([fig, grid])"
   ]
  },
  {
   "cell_type": "code",
   "execution_count": null,
   "id": "270f99d4-906b-4ddb-91ef-9b9b8be37fc2",
   "metadata": {},
   "outputs": [],
   "source": []
  }
 ],
 "metadata": {
  "kernelspec": {
   "display_name": "Python 3 (ipykernel)",
   "language": "python",
   "name": "python3"
  },
  "language_info": {
   "codemirror_mode": {
    "name": "ipython",
    "version": 3
   },
   "file_extension": ".py",
   "mimetype": "text/x-python",
   "name": "python",
   "nbconvert_exporter": "python",
   "pygments_lexer": "ipython3",
   "version": "3.8.13"
  }
 },
 "nbformat": 4,
 "nbformat_minor": 5
}

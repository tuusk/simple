{
 "cells": [
  {
   "cell_type": "code",
   "execution_count": 7,
   "id": "4951500a",
   "metadata": {
    "ExecuteTime": {
     "end_time": "2022-08-11T08:42:09.628420Z",
     "start_time": "2022-08-11T08:42:09.459489Z"
    }
   },
   "outputs": [],
   "source": [
    "import pandas as pd\n",
    "from IPython.display import display\n",
    "from ipywidgets import interact\n",
    "from simple.pretty import pp"
   ]
  },
  {
   "cell_type": "code",
   "execution_count": 8,
   "id": "51f2c569",
   "metadata": {
    "ExecuteTime": {
     "end_time": "2022-08-11T08:42:10.599711Z",
     "start_time": "2022-08-11T08:42:10.564821Z"
    }
   },
   "outputs": [
    {
     "data": {
      "text/html": [
       "<div>\n",
       "<style scoped>\n",
       "    .dataframe tbody tr th:only-of-type {\n",
       "        vertical-align: middle;\n",
       "    }\n",
       "\n",
       "    .dataframe tbody tr th {\n",
       "        vertical-align: top;\n",
       "    }\n",
       "\n",
       "    .dataframe thead th {\n",
       "        text-align: right;\n",
       "    }\n",
       "</style>\n",
       "<table border=\"1\" class=\"dataframe\">\n",
       "  <thead>\n",
       "    <tr style=\"text-align: right;\">\n",
       "      <th></th>\n",
       "      <th>Threshold</th>\n",
       "      <th>Period</th>\n",
       "      <th>Hold</th>\n",
       "      <th>Fitness</th>\n",
       "    </tr>\n",
       "  </thead>\n",
       "  <tbody>\n",
       "    <tr>\n",
       "      <th>2896</th>\n",
       "      <td>2.375</td>\n",
       "      <td>15000</td>\n",
       "      <td>22</td>\n",
       "      <td>-56975.532227</td>\n",
       "    </tr>\n",
       "    <tr>\n",
       "      <th>2897</th>\n",
       "      <td>2.375</td>\n",
       "      <td>15000</td>\n",
       "      <td>23</td>\n",
       "      <td>-56975.532227</td>\n",
       "    </tr>\n",
       "    <tr>\n",
       "      <th>2898</th>\n",
       "      <td>2.375</td>\n",
       "      <td>15000</td>\n",
       "      <td>24</td>\n",
       "      <td>-56975.532227</td>\n",
       "    </tr>\n",
       "    <tr>\n",
       "      <th>2899</th>\n",
       "      <td>2.375</td>\n",
       "      <td>15000</td>\n",
       "      <td>25</td>\n",
       "      <td>-56975.532227</td>\n",
       "    </tr>\n",
       "    <tr>\n",
       "      <th>2871</th>\n",
       "      <td>2.375</td>\n",
       "      <td>14500</td>\n",
       "      <td>22</td>\n",
       "      <td>-54912.627930</td>\n",
       "    </tr>\n",
       "    <tr>\n",
       "      <th>...</th>\n",
       "      <td>...</td>\n",
       "      <td>...</td>\n",
       "      <td>...</td>\n",
       "      <td>...</td>\n",
       "    </tr>\n",
       "    <tr>\n",
       "      <th>7321</th>\n",
       "      <td>3.250</td>\n",
       "      <td>2000</td>\n",
       "      <td>22</td>\n",
       "      <td>39559.409180</td>\n",
       "    </tr>\n",
       "    <tr>\n",
       "      <th>7320</th>\n",
       "      <td>3.250</td>\n",
       "      <td>2000</td>\n",
       "      <td>21</td>\n",
       "      <td>39559.409180</td>\n",
       "    </tr>\n",
       "    <tr>\n",
       "      <th>7319</th>\n",
       "      <td>3.250</td>\n",
       "      <td>2000</td>\n",
       "      <td>20</td>\n",
       "      <td>39559.409180</td>\n",
       "    </tr>\n",
       "    <tr>\n",
       "      <th>7322</th>\n",
       "      <td>3.250</td>\n",
       "      <td>2000</td>\n",
       "      <td>23</td>\n",
       "      <td>39559.409180</td>\n",
       "    </tr>\n",
       "    <tr>\n",
       "      <th>7323</th>\n",
       "      <td>3.250</td>\n",
       "      <td>2000</td>\n",
       "      <td>24</td>\n",
       "      <td>39559.409180</td>\n",
       "    </tr>\n",
       "  </tbody>\n",
       "</table>\n",
       "<p>18125 rows × 4 columns</p>\n",
       "</div>"
      ],
      "text/plain": [
       "     Threshold  Period  Hold       Fitness\n",
       "2896     2.375   15000    22 -56975.532227\n",
       "2897     2.375   15000    23 -56975.532227\n",
       "2898     2.375   15000    24 -56975.532227\n",
       "2899     2.375   15000    25 -56975.532227\n",
       "2871     2.375   14500    22 -54912.627930\n",
       "...        ...     ...   ...           ...\n",
       "7321     3.250    2000    22  39559.409180\n",
       "7320     3.250    2000    21  39559.409180\n",
       "7319     3.250    2000    20  39559.409180\n",
       "7322     3.250    2000    23  39559.409180\n",
       "7323     3.250    2000    24  39559.409180\n",
       "\n",
       "[18125 rows x 4 columns]"
      ]
     },
     "execution_count": 8,
     "metadata": {},
     "output_type": "execute_result"
    }
   ],
   "source": [
    "X = pd.read_hdf('data/grid.hdf')\n",
    "X"
   ]
  },
  {
   "cell_type": "code",
   "execution_count": 9,
   "id": "cd3b6392",
   "metadata": {
    "ExecuteTime": {
     "end_time": "2022-08-11T08:42:11.976740Z",
     "start_time": "2022-08-11T08:42:10.801470Z"
    }
   },
   "outputs": [
    {
     "data": {
      "application/vnd.jupyter.widget-view+json": {
       "model_id": "34b6acab0daa4099b8051a9be8db9352",
       "version_major": 2,
       "version_minor": 0
      },
      "text/plain": [
       "interactive(children=(IntSlider(value=13, description='hold', max=25, min=1), Output()), _dom_classes=('widget…"
      ]
     },
     "metadata": {},
     "output_type": "display_data"
    }
   ],
   "source": [
    "@interact(hold=(1,25))\n",
    "def Plot(hold):\n",
    "    display(pp(X[X.Hold == hold].pivot(index='Period', columns='Threshold', values='Fitness').astype(int)))"
   ]
  },
  {
   "cell_type": "code",
   "execution_count": null,
   "id": "8c71daf3",
   "metadata": {},
   "outputs": [],
   "source": []
  }
 ],
 "metadata": {
  "kernelspec": {
   "display_name": "Python 3 (ipykernel)",
   "language": "python",
   "name": "python3"
  },
  "language_info": {
   "codemirror_mode": {
    "name": "ipython",
    "version": 3
   },
   "file_extension": ".py",
   "mimetype": "text/x-python",
   "name": "python",
   "nbconvert_exporter": "python",
   "pygments_lexer": "ipython3",
   "version": "3.9.12"
  }
 },
 "nbformat": 4,
 "nbformat_minor": 5
}

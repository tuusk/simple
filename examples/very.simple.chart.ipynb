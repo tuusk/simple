{
 "cells": [
  {
   "cell_type": "code",
   "execution_count": 1,
   "id": "35fcfaea",
   "metadata": {
    "collapsed": false,
    "execution": {
     "iopub.execute_input": "2022-06-05T20:46:05.301555Z",
     "iopub.status.busy": "2022-06-05T20:46:05.301555Z",
     "iopub.status.idle": "2022-06-05T20:46:06.170751Z",
     "shell.execute_reply": "2022-06-05T20:46:06.170751Z",
     "shell.execute_reply.started": "2022-06-05T20:46:05.301555Z"
    },
    "jupyter": {
     "outputs_hidden": false
    },
    "pycharm": {
     "name": "#%%\n"
    }
   },
   "outputs": [],
   "source": [
    "import numpy as np\n",
    "from simple.plotly import chartFigure\n",
    "from simple.funcs import symlog"
   ]
  },
  {
   "cell_type": "code",
   "execution_count": 5,
   "id": "ac772bf9",
   "metadata": {
    "collapsed": false,
    "execution": {
     "iopub.execute_input": "2022-06-05T20:46:14.169052Z",
     "iopub.status.busy": "2022-06-05T20:46:14.169052Z",
     "iopub.status.idle": "2022-06-05T20:46:14.283078Z",
     "shell.execute_reply": "2022-06-05T20:46:14.283078Z",
     "shell.execute_reply.started": "2022-06-05T20:46:14.169052Z"
    },
    "jupyter": {
     "outputs_hidden": false
    },
    "pycharm": {
     "name": "#%%\n"
    },
    "tags": []
   },
   "outputs": [
    {
     "data": {
      "text/plain": [
       "1000"
      ]
     },
     "execution_count": 5,
     "metadata": {},
     "output_type": "execute_result"
    }
   ],
   "source": [
    "T = np.load('data/tick.npz')['BTCUSDT'][:1000]\n",
    "len(T)"
   ]
  },
  {
   "cell_type": "code",
   "execution_count": 6,
   "id": "9d793a91-2e98-4bbc-b3bc-bdd3f04cb4ec",
   "metadata": {
    "execution": {
     "iopub.execute_input": "2022-06-05T20:46:14.909218Z",
     "iopub.status.busy": "2022-06-05T20:46:14.909218Z",
     "iopub.status.idle": "2022-06-05T20:46:14.914220Z",
     "shell.execute_reply": "2022-06-05T20:46:14.914220Z",
     "shell.execute_reply.started": "2022-06-05T20:46:14.909218Z"
    },
    "tags": []
   },
   "outputs": [],
   "source": [
    "Buy = np.where(T['VolumeA'] > 0, symlog(T['VolumeA']), 0)\n",
    "Sell = np.where(T['VolumeA'] < 0, symlog(T['VolumeA']), 0)"
   ]
  },
  {
   "cell_type": "code",
   "execution_count": 10,
   "id": "ce984f74-59dc-419a-b992-4339f183eaf5",
   "metadata": {
    "execution": {
     "iopub.execute_input": "2022-06-05T20:56:28.750937Z",
     "iopub.status.busy": "2022-06-05T20:56:28.750937Z",
     "iopub.status.idle": "2022-06-05T20:56:28.921976Z",
     "shell.execute_reply": "2022-06-05T20:56:28.921976Z",
     "shell.execute_reply.started": "2022-06-05T20:56:28.750937Z"
    },
    "tags": []
   },
   "outputs": [
    {
     "data": {
      "application/vnd.jupyter.widget-view+json": {
       "model_id": "eecdaf089b6641628cc69ed2b5794ac9",
       "version_major": 2,
       "version_minor": 0
      },
      "text/plain": [
       "FigureWidgetResampler({\n",
       "    'data': [{'line': {'color': 'gray'},\n",
       "              'name': 'Tick',\n",
       "              '…"
      ]
     },
     "metadata": {},
     "output_type": "display_data"
    }
   ],
   "source": [
    "chartFigure(Tick={'color': 'gray', 'opacity': 0.4, 'y': T['PriceA']},\n",
    "            Buy={'color': 'green', 'shape': 'hv', 'opacity': 0.6, 'row': 2, 'y': Buy},\n",
    "            Sell={'color': 'red', 'shape': 'hv', 'opacity': 0.6, 'row': 2, 'y': Sell}, rows=2)"
   ]
  },
  {
   "cell_type": "code",
   "execution_count": null,
   "id": "640d581b-b7e4-46c1-ba62-2c06d60348d4",
   "metadata": {},
   "outputs": [],
   "source": []
  }
 ],
 "metadata": {
  "kernelspec": {
   "display_name": "Python 3 (ipykernel)",
   "language": "python",
   "name": "python3"
  },
  "language_info": {
   "codemirror_mode": {
    "name": "ipython",
    "version": 3
   },
   "file_extension": ".py",
   "mimetype": "text/x-python",
   "name": "python",
   "nbconvert_exporter": "python",
   "pygments_lexer": "ipython3",
   "version": "3.9.12"
  },
  "widgets": {
   "application/vnd.jupyter.widget-state+json": {
    "state": {},
    "version_major": 2,
    "version_minor": 0
   }
  }
 },
 "nbformat": 4,
 "nbformat_minor": 5
}

{
 "cells": [
  {
   "cell_type": "markdown",
   "id": "c81035d0-7923-4121-bb7e-dc14f63b0699",
   "metadata": {
    "execution": {
     "iopub.execute_input": "2022-06-22T07:49:05.161314Z",
     "iopub.status.busy": "2022-06-22T07:49:05.161314Z",
     "iopub.status.idle": "2022-06-22T07:49:05.164314Z",
     "shell.execute_reply": "2022-06-22T07:49:05.164314Z",
     "shell.execute_reply.started": "2022-06-22T07:49:05.161314Z"
    }
   },
   "source": [
    "# Very simple tick chart with zoom and Buy/Sell imbalance"
   ]
  },
  {
   "cell_type": "code",
   "execution_count": 1,
   "id": "35fcfaea",
   "metadata": {
    "collapsed": false,
    "execution": {
     "iopub.execute_input": "2022-06-22T07:51:26.260014Z",
     "iopub.status.busy": "2022-06-22T07:51:26.260014Z",
     "iopub.status.idle": "2022-06-22T07:51:27.054654Z",
     "shell.execute_reply": "2022-06-22T07:51:27.054654Z",
     "shell.execute_reply.started": "2022-06-22T07:51:26.260014Z"
    },
    "jupyter": {
     "outputs_hidden": false
    },
    "pycharm": {
     "name": "#%%\n"
    },
    "tags": []
   },
   "outputs": [],
   "source": [
    "import numpy as np\n",
    "from simple.plotly import chartFigure\n",
    "from simple.funcs import symlog"
   ]
  },
  {
   "cell_type": "code",
   "execution_count": 2,
   "id": "ac772bf9",
   "metadata": {
    "collapsed": false,
    "execution": {
     "iopub.execute_input": "2022-06-22T07:51:27.055654Z",
     "iopub.status.busy": "2022-06-22T07:51:27.055654Z",
     "iopub.status.idle": "2022-06-22T07:51:27.164173Z",
     "shell.execute_reply": "2022-06-22T07:51:27.164173Z",
     "shell.execute_reply.started": "2022-06-22T07:51:27.055654Z"
    },
    "jupyter": {
     "outputs_hidden": false
    },
    "pycharm": {
     "name": "#%%\n"
    },
    "tags": []
   },
   "outputs": [
    {
     "data": {
      "text/plain": [
       "1000"
      ]
     },
     "execution_count": 2,
     "metadata": {},
     "output_type": "execute_result"
    }
   ],
   "source": [
    "T = np.load('data/ETHUSDT.2022-05-08.tick.npz')['ETHUSDT'][:1000]\n",
    "len(T)"
   ]
  },
  {
   "cell_type": "code",
   "execution_count": 3,
   "id": "9d793a91-2e98-4bbc-b3bc-bdd3f04cb4ec",
   "metadata": {
    "execution": {
     "iopub.execute_input": "2022-06-22T07:51:27.165673Z",
     "iopub.status.busy": "2022-06-22T07:51:27.165673Z",
     "iopub.status.idle": "2022-06-22T07:51:27.382211Z",
     "shell.execute_reply": "2022-06-22T07:51:27.382211Z",
     "shell.execute_reply.started": "2022-06-22T07:51:27.165673Z"
    },
    "tags": []
   },
   "outputs": [],
   "source": [
    "Buy = np.where(T['Size'] > 0, symlog(T['Size']), 0)\n",
    "Sell = np.where(T['Size'] < 0, symlog(T['Size']), 0)"
   ]
  },
  {
   "cell_type": "code",
   "execution_count": 4,
   "id": "ce984f74-59dc-419a-b992-4339f183eaf5",
   "metadata": {
    "execution": {
     "iopub.execute_input": "2022-06-22T07:51:27.383212Z",
     "iopub.status.busy": "2022-06-22T07:51:27.383212Z",
     "iopub.status.idle": "2022-06-22T07:51:27.875298Z",
     "shell.execute_reply": "2022-06-22T07:51:27.875298Z",
     "shell.execute_reply.started": "2022-06-22T07:51:27.383212Z"
    },
    "tags": []
   },
   "outputs": [
    {
     "data": {
      "application/vnd.jupyter.widget-view+json": {
       "model_id": "f73478cf23e641e6a6ebefb3498ff3b8",
       "version_major": 2,
       "version_minor": 0
      },
      "text/plain": [
       "FigureWidgetResampler({\n",
       "    'data': [{'line': {'color': 'gray'},\n",
       "              'name': 'Tick',\n",
       "              '…"
      ]
     },
     "metadata": {},
     "output_type": "display_data"
    }
   ],
   "source": [
    "chartFigure(Tick={'color': 'gray', 'opacity': 0.4, 'y': T['Price']},\n",
    "            Buy={'color': 'green', 'shape': 'hv', 'opacity': 0.6, 'row': 2, 'y': Buy},\n",
    "            Sell={'color': 'red', 'shape': 'hv', 'opacity': 0.6, 'row': 2, 'y': Sell}, rows=2)"
   ]
  }
 ],
 "metadata": {
  "kernelspec": {
   "display_name": "Python 3 (ipykernel)",
   "language": "python",
   "name": "python3"
  },
  "language_info": {
   "codemirror_mode": {
    "name": "ipython",
    "version": 3
   },
   "file_extension": ".py",
   "mimetype": "text/x-python",
   "name": "python",
   "nbconvert_exporter": "python",
   "pygments_lexer": "ipython3",
   "version": "3.9.12"
  },
  "widgets": {
   "application/vnd.jupyter.widget-state+json": {
    "state": {},
    "version_major": 2,
    "version_minor": 0
   }
  }
 },
 "nbformat": 4,
 "nbformat_minor": 5
}

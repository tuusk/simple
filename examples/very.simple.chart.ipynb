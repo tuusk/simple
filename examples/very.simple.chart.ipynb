{
 "cells": [
  {
   "cell_type": "code",
   "execution_count": 1,
   "id": "35fcfaea",
   "metadata": {
    "collapsed": false,
    "jupyter": {
     "outputs_hidden": false
    },
    "pycharm": {
     "name": "#%%\n"
    }
   },
   "outputs": [],
   "source": [
    "import numpy as np\n",
    "from simple.plotly import chartFigure\n",
    "from simple.funcs import symlog"
   ]
  },
  {
   "cell_type": "code",
   "execution_count": 2,
   "id": "ac772bf9",
   "metadata": {
    "collapsed": false,
    "jupyter": {
     "outputs_hidden": false
    },
    "pycharm": {
     "name": "#%%\n"
    }
   },
   "outputs": [
    {
     "data": {
      "text/plain": [
       "889360"
      ]
     },
     "execution_count": 2,
     "metadata": {},
     "output_type": "execute_result"
    }
   ],
   "source": [
    "T = np.load('data/tick.npz')['BTCUSDT']\n",
    "len(T)"
   ]
  },
  {
   "cell_type": "code",
   "execution_count": 3,
   "id": "9d793a91-2e98-4bbc-b3bc-bdd3f04cb4ec",
   "metadata": {},
   "outputs": [],
   "source": [
    "Buy = np.where(T['VolumeA'] > 0, symlog(T['VolumeA']), 0)\n",
    "Sell = np.where(T['VolumeA'] < 0, symlog(T['VolumeA']), 0)"
   ]
  },
  {
   "cell_type": "code",
   "execution_count": 4,
   "id": "ce984f74-59dc-419a-b992-4339f183eaf5",
   "metadata": {},
   "outputs": [
    {
     "data": {
      "application/vnd.jupyter.widget-view+json": {
       "model_id": "a19130ddf3034cd6a7cbdaec75815ec5",
       "version_major": 2,
       "version_minor": 0
      },
      "text/plain": [
       "FigureWidgetResampler({\n",
       "    'data': [{'line': {'color': 'gray'},\n",
       "              'name': '<b style=\"color:sandyb…"
      ]
     },
     "metadata": {},
     "output_type": "display_data"
    }
   ],
   "source": [
    "chartFigure(Tick={'color': 'gray', 'opacity': 0.4, 'y': T['PriceA']},\n",
    "            Buy={'color': 'green', 'shape': 'hv', 'opacity': 0.6, 'row': 2, 'y': Buy},\n",
    "            Sell={'color': 'red', 'shape': 'hv', 'opacity': 0.6, 'row': 2, 'y': Sell}, rows=2)"
   ]
  }
 ],
 "metadata": {
  "kernelspec": {
   "display_name": "Python 3 (ipykernel)",
   "language": "python",
   "name": "python3"
  },
  "language_info": {
   "codemirror_mode": {
    "name": "ipython",
    "version": 3
   },
   "file_extension": ".py",
   "mimetype": "text/x-python",
   "name": "python",
   "nbconvert_exporter": "python",
   "pygments_lexer": "ipython3",
   "version": "3.8.13"
  },
  "widgets": {
   "application/vnd.jupyter.widget-state+json": {
    "state": {},
    "version_major": 2,
    "version_minor": 0
   }
  }
 },
 "nbformat": 4,
 "nbformat_minor": 5
}
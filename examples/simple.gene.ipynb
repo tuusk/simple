{
 "cells": [
  {
   "cell_type": "code",
   "execution_count": 1,
   "id": "64c4a250",
   "metadata": {
    "ExecuteTime": {
     "end_time": "2022-05-16T15:00:35.331700Z",
     "start_time": "2022-05-16T15:00:33.796653Z"
    },
    "code_folding": [],
    "tags": []
   },
   "outputs": [],
   "source": [
    "# import\n",
    "import pandas as pd\n",
    "import numpy as np\n",
    "from simple.plotly import chartParallel, interactTable\n",
    "from simple.funcs import vwap\n",
    "from simple.geneopt import GeneOpt\n",
    "from multiprocessing import current_process\n",
    "from simple.backtest import getLong, getShort, getProfit, npBacktestLimit"
   ]
  },
  {
   "cell_type": "code",
   "execution_count": 2,
   "id": "725efe1b",
   "metadata": {
    "ExecuteTime": {
     "end_time": "2022-05-16T15:00:35.457953Z",
     "start_time": "2022-05-16T15:00:35.333252Z"
    },
    "tags": []
   },
   "outputs": [
    {
     "data": {
      "text/plain": [
       "907307"
      ]
     },
     "execution_count": 2,
     "metadata": {},
     "output_type": "execute_result"
    }
   ],
   "source": [
    "T = np.load('data/ETHUSDT.2022-05-08.tick.npz')['ETHUSDT'].view(np.recarray)\n",
    "len(T)"
   ]
  },
  {
   "cell_type": "code",
   "execution_count": 3,
   "id": "efaa5fb3",
   "metadata": {
    "ExecuteTime": {
     "end_time": "2022-05-16T15:00:35.476852Z",
     "start_time": "2022-05-16T15:00:35.473153Z"
    }
   },
   "outputs": [],
   "source": [
    "# declare chart linestyles\n",
    "line_styles = {\n",
    "    'Tick': dict(color='gray', opacity=0.25),\n",
    "    'Center': dict(color='blue', opacity=0.5),\n",
    "    'qA': dict(color='red', opacity=0.5, dash='dot'),\n",
    "    'qB': dict(color='green', opacity=0.5, dash='dot'),\n",
    "    'Profit': dict(color='gray', width=3, opacity=0.4, secondary_y=True, shape='hv', connectgaps=True),\n",
    "    'Buy': dict(mode='markers', color='green', symbol='triangle-up', size=10, line=dict(color=\"darkgreen\", width=1)),\n",
    "    'Sell': dict(mode='markers', color='red', symbol='triangle-down', size=10, line=dict(color=\"darkred\", width=1))\n",
    "}"
   ]
  },
  {
   "cell_type": "code",
   "execution_count": 4,
   "id": "237bbc5b",
   "metadata": {
    "ExecuteTime": {
     "end_time": "2022-05-16T15:00:35.482683Z",
     "start_time": "2022-05-16T15:00:35.478199Z"
    },
    "code_folding": [],
    "tags": []
   },
   "outputs": [],
   "source": [
    "def model(Period: int = (1000, 50000), StdDev: float = (1, 4, 0.1)):\n",
    "    if Period == 0 or StdDev == 0: return 0, {}\n",
    "    Tick = T.Price\n",
    "    Center = vwap(T, Period)\n",
    "    std = pd.Series(Tick).rolling(Period).std().bfill().values\n",
    "    qA = Center + std * StdDev\n",
    "    qB = Center - std * StdDev\n",
    "\n",
    "    trades = npBacktestLimit(T, qA, qB)\n",
    "    Buy, Sell = getLong(trades), getShort(trades)\n",
    "    P = getProfit(trades)\n",
    "    Profit = {'x': P.Index, 'y': P.Profit.cumsum()}\n",
    "\n",
    "    return P.Profit.sum(), {\n",
    "        'Count': len(P),\n",
    "        'AvgProfit': P.Profit.mean() if len(P) > 0 else 0,\n",
    "        'Sharpe': P.Profit.sum() / P.Profit.std() if len(P) > 1 else 0\n",
    "     } if current_process().daemon else locals()"
   ]
  },
  {
   "cell_type": "code",
   "execution_count": 5,
   "id": "14af796c",
   "metadata": {
    "ExecuteTime": {
     "end_time": "2022-05-16T15:00:47.568865Z",
     "start_time": "2022-05-16T15:00:35.483905Z"
    },
    "tags": []
   },
   "outputs": [
    {
     "data": {
      "application/vnd.jupyter.widget-view+json": {
       "model_id": "658da9f0a90b4821a2604d089a801ff6",
       "version_major": 2,
       "version_minor": 0
      },
      "text/plain": [
       "  0%|          | 0/5 [00:00<?, ?it/s]"
      ]
     },
     "metadata": {},
     "output_type": "display_data"
    },
    {
     "data": {
      "text/plain": [
       "{'Period': 10784, 'StdDev': 3.545782470840214}"
      ]
     },
     "execution_count": 5,
     "metadata": {},
     "output_type": "execute_result"
    }
   ],
   "source": [
    "# Genetic optimizer\n",
    "G = GeneOpt(model)\n",
    "G.maximize(population_size=100, generations=5)"
   ]
  },
  {
   "cell_type": "code",
   "execution_count": 6,
   "id": "dfec33a1-edd9-4482-8911-dad8d94054a8",
   "metadata": {},
   "outputs": [
    {
     "data": {
      "application/vnd.jupyter.widget-view+json": {
       "model_id": "6dc08bcacdef4b68974dd9f4448e43ac",
       "version_major": 2,
       "version_minor": 0
      },
      "text/plain": [
       "VBox(children=(VBox(children=(HBox(children=(IntSlider(value=25500, description='Period', max=50000, min=1000)…"
      ]
     },
     "metadata": {},
     "output_type": "display_data"
    }
   ],
   "source": [
    "# Genetic result browser\n",
    "X = pd.DataFrame(G.log, columns=G.log_columns).drop_duplicates().sort_values('Fitness')\n",
    "\n",
    "interactTable(model, X, **line_styles)"
   ]
  },
  {
   "cell_type": "code",
   "execution_count": 7,
   "id": "d5485fe6-686e-40e4-a55f-acce42df213e",
   "metadata": {
    "tags": []
   },
   "outputs": [
    {
     "data": {
      "application/vnd.jupyter.widget-view+json": {
       "model_id": "579ad157e35e494ba072881849be70f1",
       "version_major": 2,
       "version_minor": 0
      },
      "text/plain": [
       "FigureWidget({\n",
       "    'data': [{'dimensions': [{'label': 'Period',\n",
       "                              'values': array(…"
      ]
     },
     "metadata": {},
     "output_type": "display_data"
    }
   ],
   "source": [
    "chartParallel(X)"
   ]
  }
 ],
 "metadata": {
  "kernelspec": {
   "display_name": "Python 3 (ipykernel)",
   "language": "python",
   "name": "python3"
  },
  "language_info": {
   "codemirror_mode": {
    "name": "ipython",
    "version": 3
   },
   "file_extension": ".py",
   "mimetype": "text/x-python",
   "name": "python",
   "nbconvert_exporter": "python",
   "pygments_lexer": "ipython3",
   "version": "3.8.13"
  },
  "widgets": {
   "application/vnd.jupyter.widget-state+json": {
    "state": {
     "092fae215e6f4460a761004ccee1e0bb": {
      "model_module": "@jupyter-widgets/base",
      "model_module_version": "1.2.0",
      "model_name": "LayoutModel",
      "state": {}
     },
     "0b0dba492fa44062b87a9a9f080d3bce": {
      "model_module": "@jupyter-widgets/base",
      "model_module_version": "1.2.0",
      "model_name": "LayoutModel",
      "state": {}
     },
     "0d424b73ecce4aed8226e66598bf6f59": {
      "model_module": "@jupyter-widgets/base",
      "model_module_version": "1.2.0",
      "model_name": "LayoutModel",
      "state": {}
     },
     "11982fe61cf34332a1ea1fa0fa218441": {
      "model_module": "@jupyter-widgets/base",
      "model_module_version": "1.2.0",
      "model_name": "LayoutModel",
      "state": {}
     },
     "1923b3f75b864e06b83db134b6a7ea56": {
      "model_module": "@jupyter-widgets/controls",
      "model_module_version": "1.5.0",
      "model_name": "SliderStyleModel",
      "state": {
       "description_width": ""
      }
     },
     "198627b7d1264fc78c41cd4b4e3fdd3a": {
      "model_module": "@jupyter-widgets/base",
      "model_module_version": "1.2.0",
      "model_name": "LayoutModel",
      "state": {}
     },
     "1ac7da10829e40879277994df52668f6": {
      "model_module": "@jupyter-widgets/controls",
      "model_module_version": "1.5.0",
      "model_name": "HBoxModel",
      "state": {
       "children": [
        "IPY_MODEL_6ddd101fc98a42ba8dd939041fec7ea9",
        "IPY_MODEL_5c8301e0d2bd4914b21ac2cd38e54ee2"
       ],
       "layout": "IPY_MODEL_092fae215e6f4460a761004ccee1e0bb"
      }
     },
     "1f2ede3f17784daf845050676e5af306": {
      "model_module": "@jupyter-widgets/output",
      "model_module_version": "1.0.0",
      "model_name": "OutputModel",
      "state": {
       "layout": "IPY_MODEL_86c81f77af7c458e978f788ac3d08c75"
      }
     },
     "265b87e3feee4792bfb71ea8aac1395e": {
      "model_module": "@jupyter-widgets/controls",
      "model_module_version": "1.5.0",
      "model_name": "VBoxModel",
      "state": {
       "children": [
        "IPY_MODEL_1ac7da10829e40879277994df52668f6",
        "IPY_MODEL_ae9e2c39d6d8428f8d1a5072c14430da"
       ],
       "layout": "IPY_MODEL_421491905e164604ba25755bcd85a0c2"
      }
     },
     "2e21c16ad2de4e2c842e1218310dfe18": {
      "model_module": "@jupyter-widgets/base",
      "model_module_version": "1.2.0",
      "model_name": "LayoutModel",
      "state": {}
     },
     "421491905e164604ba25755bcd85a0c2": {
      "model_module": "@jupyter-widgets/base",
      "model_module_version": "1.2.0",
      "model_name": "LayoutModel",
      "state": {}
     },
     "4e5f9f06ac344f279e9227314c005cdd": {
      "model_module": "jupyterlab-plotly",
      "model_module_version": "^5.6.0",
      "model_name": "FigureModel",
      "state": {
       "_config": {
        "plotlyServerURL": "https://plot.ly"
       },
       "_js2py_layoutDelta": {},
       "_js2py_pointsCallback": {},
       "_js2py_relayout": {},
       "_js2py_restyle": {},
       "_js2py_traceDeltas": {},
       "_js2py_update": {},
       "_layout": {
        "template": {
         "data": {
          "bar": [
           {
            "error_x": {
             "color": "#2a3f5f"
            },
            "error_y": {
             "color": "#2a3f5f"
            },
            "marker": {
             "line": {
              "color": "#E5ECF6",
              "width": 0.5
             },
             "pattern": {
              "fillmode": "overlay",
              "size": 10,
              "solidity": 0.2
             }
            },
            "type": "bar"
           }
          ],
          "barpolar": [
           {
            "marker": {
             "line": {
              "color": "#E5ECF6",
              "width": 0.5
             },
             "pattern": {
              "fillmode": "overlay",
              "size": 10,
              "solidity": 0.2
             }
            },
            "type": "barpolar"
           }
          ],
          "carpet": [
           {
            "aaxis": {
             "endlinecolor": "#2a3f5f",
             "gridcolor": "white",
             "linecolor": "white",
             "minorgridcolor": "white",
             "startlinecolor": "#2a3f5f"
            },
            "baxis": {
             "endlinecolor": "#2a3f5f",
             "gridcolor": "white",
             "linecolor": "white",
             "minorgridcolor": "white",
             "startlinecolor": "#2a3f5f"
            },
            "type": "carpet"
           }
          ],
          "choropleth": [
           {
            "colorbar": {
             "outlinewidth": 0,
             "ticks": ""
            },
            "type": "choropleth"
           }
          ],
          "contour": [
           {
            "colorbar": {
             "outlinewidth": 0,
             "ticks": ""
            },
            "colorscale": [
             [
              0,
              "#0d0887"
             ],
             [
              0.1111111111111111,
              "#46039f"
             ],
             [
              0.2222222222222222,
              "#7201a8"
             ],
             [
              0.3333333333333333,
              "#9c179e"
             ],
             [
              0.4444444444444444,
              "#bd3786"
             ],
             [
              0.5555555555555556,
              "#d8576b"
             ],
             [
              0.6666666666666666,
              "#ed7953"
             ],
             [
              0.7777777777777778,
              "#fb9f3a"
             ],
             [
              0.8888888888888888,
              "#fdca26"
             ],
             [
              1,
              "#f0f921"
             ]
            ],
            "type": "contour"
           }
          ],
          "contourcarpet": [
           {
            "colorbar": {
             "outlinewidth": 0,
             "ticks": ""
            },
            "type": "contourcarpet"
           }
          ],
          "heatmap": [
           {
            "colorbar": {
             "outlinewidth": 0,
             "ticks": ""
            },
            "colorscale": [
             [
              0,
              "#0d0887"
             ],
             [
              0.1111111111111111,
              "#46039f"
             ],
             [
              0.2222222222222222,
              "#7201a8"
             ],
             [
              0.3333333333333333,
              "#9c179e"
             ],
             [
              0.4444444444444444,
              "#bd3786"
             ],
             [
              0.5555555555555556,
              "#d8576b"
             ],
             [
              0.6666666666666666,
              "#ed7953"
             ],
             [
              0.7777777777777778,
              "#fb9f3a"
             ],
             [
              0.8888888888888888,
              "#fdca26"
             ],
             [
              1,
              "#f0f921"
             ]
            ],
            "type": "heatmap"
           }
          ],
          "heatmapgl": [
           {
            "colorbar": {
             "outlinewidth": 0,
             "ticks": ""
            },
            "colorscale": [
             [
              0,
              "#0d0887"
             ],
             [
              0.1111111111111111,
              "#46039f"
             ],
             [
              0.2222222222222222,
              "#7201a8"
             ],
             [
              0.3333333333333333,
              "#9c179e"
             ],
             [
              0.4444444444444444,
              "#bd3786"
             ],
             [
              0.5555555555555556,
              "#d8576b"
             ],
             [
              0.6666666666666666,
              "#ed7953"
             ],
             [
              0.7777777777777778,
              "#fb9f3a"
             ],
             [
              0.8888888888888888,
              "#fdca26"
             ],
             [
              1,
              "#f0f921"
             ]
            ],
            "type": "heatmapgl"
           }
          ],
          "histogram": [
           {
            "marker": {
             "pattern": {
              "fillmode": "overlay",
              "size": 10,
              "solidity": 0.2
             }
            },
            "type": "histogram"
           }
          ],
          "histogram2d": [
           {
            "colorbar": {
             "outlinewidth": 0,
             "ticks": ""
            },
            "colorscale": [
             [
              0,
              "#0d0887"
             ],
             [
              0.1111111111111111,
              "#46039f"
             ],
             [
              0.2222222222222222,
              "#7201a8"
             ],
             [
              0.3333333333333333,
              "#9c179e"
             ],
             [
              0.4444444444444444,
              "#bd3786"
             ],
             [
              0.5555555555555556,
              "#d8576b"
             ],
             [
              0.6666666666666666,
              "#ed7953"
             ],
             [
              0.7777777777777778,
              "#fb9f3a"
             ],
             [
              0.8888888888888888,
              "#fdca26"
             ],
             [
              1,
              "#f0f921"
             ]
            ],
            "type": "histogram2d"
           }
          ],
          "histogram2dcontour": [
           {
            "colorbar": {
             "outlinewidth": 0,
             "ticks": ""
            },
            "colorscale": [
             [
              0,
              "#0d0887"
             ],
             [
              0.1111111111111111,
              "#46039f"
             ],
             [
              0.2222222222222222,
              "#7201a8"
             ],
             [
              0.3333333333333333,
              "#9c179e"
             ],
             [
              0.4444444444444444,
              "#bd3786"
             ],
             [
              0.5555555555555556,
              "#d8576b"
             ],
             [
              0.6666666666666666,
              "#ed7953"
             ],
             [
              0.7777777777777778,
              "#fb9f3a"
             ],
             [
              0.8888888888888888,
              "#fdca26"
             ],
             [
              1,
              "#f0f921"
             ]
            ],
            "type": "histogram2dcontour"
           }
          ],
          "mesh3d": [
           {
            "colorbar": {
             "outlinewidth": 0,
             "ticks": ""
            },
            "type": "mesh3d"
           }
          ],
          "parcoords": [
           {
            "line": {
             "colorbar": {
              "outlinewidth": 0,
              "ticks": ""
             }
            },
            "type": "parcoords"
           }
          ],
          "pie": [
           {
            "automargin": true,
            "type": "pie"
           }
          ],
          "scatter": [
           {
            "marker": {
             "colorbar": {
              "outlinewidth": 0,
              "ticks": ""
             }
            },
            "type": "scatter"
           }
          ],
          "scatter3d": [
           {
            "line": {
             "colorbar": {
              "outlinewidth": 0,
              "ticks": ""
             }
            },
            "marker": {
             "colorbar": {
              "outlinewidth": 0,
              "ticks": ""
             }
            },
            "type": "scatter3d"
           }
          ],
          "scattercarpet": [
           {
            "marker": {
             "colorbar": {
              "outlinewidth": 0,
              "ticks": ""
             }
            },
            "type": "scattercarpet"
           }
          ],
          "scattergeo": [
           {
            "marker": {
             "colorbar": {
              "outlinewidth": 0,
              "ticks": ""
             }
            },
            "type": "scattergeo"
           }
          ],
          "scattergl": [
           {
            "marker": {
             "colorbar": {
              "outlinewidth": 0,
              "ticks": ""
             }
            },
            "type": "scattergl"
           }
          ],
          "scattermapbox": [
           {
            "marker": {
             "colorbar": {
              "outlinewidth": 0,
              "ticks": ""
             }
            },
            "type": "scattermapbox"
           }
          ],
          "scatterpolar": [
           {
            "marker": {
             "colorbar": {
              "outlinewidth": 0,
              "ticks": ""
             }
            },
            "type": "scatterpolar"
           }
          ],
          "scatterpolargl": [
           {
            "marker": {
             "colorbar": {
              "outlinewidth": 0,
              "ticks": ""
             }
            },
            "type": "scatterpolargl"
           }
          ],
          "scatterternary": [
           {
            "marker": {
             "colorbar": {
              "outlinewidth": 0,
              "ticks": ""
             }
            },
            "type": "scatterternary"
           }
          ],
          "surface": [
           {
            "colorbar": {
             "outlinewidth": 0,
             "ticks": ""
            },
            "colorscale": [
             [
              0,
              "#0d0887"
             ],
             [
              0.1111111111111111,
              "#46039f"
             ],
             [
              0.2222222222222222,
              "#7201a8"
             ],
             [
              0.3333333333333333,
              "#9c179e"
             ],
             [
              0.4444444444444444,
              "#bd3786"
             ],
             [
              0.5555555555555556,
              "#d8576b"
             ],
             [
              0.6666666666666666,
              "#ed7953"
             ],
             [
              0.7777777777777778,
              "#fb9f3a"
             ],
             [
              0.8888888888888888,
              "#fdca26"
             ],
             [
              1,
              "#f0f921"
             ]
            ],
            "type": "surface"
           }
          ],
          "table": [
           {
            "cells": {
             "fill": {
              "color": "#EBF0F8"
             },
             "line": {
              "color": "white"
             }
            },
            "header": {
             "fill": {
              "color": "#C8D4E3"
             },
             "line": {
              "color": "white"
             }
            },
            "type": "table"
           }
          ]
         },
         "layout": {
          "annotationdefaults": {
           "arrowcolor": "#2a3f5f",
           "arrowhead": 0,
           "arrowwidth": 1
          },
          "autotypenumbers": "strict",
          "coloraxis": {
           "colorbar": {
            "outlinewidth": 0,
            "ticks": ""
           }
          },
          "colorscale": {
           "diverging": [
            [
             0,
             "#8e0152"
            ],
            [
             0.1,
             "#c51b7d"
            ],
            [
             0.2,
             "#de77ae"
            ],
            [
             0.3,
             "#f1b6da"
            ],
            [
             0.4,
             "#fde0ef"
            ],
            [
             0.5,
             "#f7f7f7"
            ],
            [
             0.6,
             "#e6f5d0"
            ],
            [
             0.7,
             "#b8e186"
            ],
            [
             0.8,
             "#7fbc41"
            ],
            [
             0.9,
             "#4d9221"
            ],
            [
             1,
             "#276419"
            ]
           ],
           "sequential": [
            [
             0,
             "#0d0887"
            ],
            [
             0.1111111111111111,
             "#46039f"
            ],
            [
             0.2222222222222222,
             "#7201a8"
            ],
            [
             0.3333333333333333,
             "#9c179e"
            ],
            [
             0.4444444444444444,
             "#bd3786"
            ],
            [
             0.5555555555555556,
             "#d8576b"
            ],
            [
             0.6666666666666666,
             "#ed7953"
            ],
            [
             0.7777777777777778,
             "#fb9f3a"
            ],
            [
             0.8888888888888888,
             "#fdca26"
            ],
            [
             1,
             "#f0f921"
            ]
           ],
           "sequentialminus": [
            [
             0,
             "#0d0887"
            ],
            [
             0.1111111111111111,
             "#46039f"
            ],
            [
             0.2222222222222222,
             "#7201a8"
            ],
            [
             0.3333333333333333,
             "#9c179e"
            ],
            [
             0.4444444444444444,
             "#bd3786"
            ],
            [
             0.5555555555555556,
             "#d8576b"
            ],
            [
             0.6666666666666666,
             "#ed7953"
            ],
            [
             0.7777777777777778,
             "#fb9f3a"
            ],
            [
             0.8888888888888888,
             "#fdca26"
            ],
            [
             1,
             "#f0f921"
            ]
           ]
          },
          "colorway": [
           "#636efa",
           "#EF553B",
           "#00cc96",
           "#ab63fa",
           "#FFA15A",
           "#19d3f3",
           "#FF6692",
           "#B6E880",
           "#FF97FF",
           "#FECB52"
          ],
          "font": {
           "color": "#2a3f5f"
          },
          "geo": {
           "bgcolor": "white",
           "lakecolor": "white",
           "landcolor": "#E5ECF6",
           "showlakes": true,
           "showland": true,
           "subunitcolor": "white"
          },
          "hoverlabel": {
           "align": "left"
          },
          "hovermode": "closest",
          "mapbox": {
           "style": "light"
          },
          "paper_bgcolor": "white",
          "plot_bgcolor": "#E5ECF6",
          "polar": {
           "angularaxis": {
            "gridcolor": "white",
            "linecolor": "white",
            "ticks": ""
           },
           "bgcolor": "#E5ECF6",
           "radialaxis": {
            "gridcolor": "white",
            "linecolor": "white",
            "ticks": ""
           }
          },
          "scene": {
           "xaxis": {
            "backgroundcolor": "#E5ECF6",
            "gridcolor": "white",
            "gridwidth": 2,
            "linecolor": "white",
            "showbackground": true,
            "ticks": "",
            "zerolinecolor": "white"
           },
           "yaxis": {
            "backgroundcolor": "#E5ECF6",
            "gridcolor": "white",
            "gridwidth": 2,
            "linecolor": "white",
            "showbackground": true,
            "ticks": "",
            "zerolinecolor": "white"
           },
           "zaxis": {
            "backgroundcolor": "#E5ECF6",
            "gridcolor": "white",
            "gridwidth": 2,
            "linecolor": "white",
            "showbackground": true,
            "ticks": "",
            "zerolinecolor": "white"
           }
          },
          "shapedefaults": {
           "line": {
            "color": "#2a3f5f"
           }
          },
          "ternary": {
           "aaxis": {
            "gridcolor": "white",
            "linecolor": "white",
            "ticks": ""
           },
           "baxis": {
            "gridcolor": "white",
            "linecolor": "white",
            "ticks": ""
           },
           "bgcolor": "#E5ECF6",
           "caxis": {
            "gridcolor": "white",
            "linecolor": "white",
            "ticks": ""
           }
          },
          "title": {
           "x": 0.05
          },
          "xaxis": {
           "automargin": true,
           "gridcolor": "white",
           "linecolor": "white",
           "ticks": "",
           "title": {
            "standoff": 15
           },
           "zerolinecolor": "white",
           "zerolinewidth": 2
          },
          "yaxis": {
           "automargin": true,
           "gridcolor": "white",
           "linecolor": "white",
           "ticks": "",
           "title": {
            "standoff": 15
           },
           "zerolinecolor": "white",
           "zerolinewidth": 2
          }
         }
        },
        "xaxis": {
         "anchor": "y",
         "domain": [
          0,
          0.94
         ]
        },
        "yaxis": {
         "anchor": "x",
         "domain": [
          0,
          1
         ]
        },
        "yaxis2": {
         "anchor": "x",
         "overlaying": "y",
         "side": "right"
        }
       },
       "_py2js_addTraces": {},
       "_py2js_animate": {},
       "_py2js_deleteTraces": {},
       "_py2js_moveTraces": {},
       "_py2js_relayout": {},
       "_py2js_removeLayoutProps": {},
       "_py2js_removeTraceProps": {},
       "_py2js_restyle": {},
       "_py2js_update": {},
       "_view_count": 0
      }
     },
     "514fbb6d589843c28cc6e2339cce4b21": {
      "model_module": "ipyslickgrid",
      "model_module_version": "0.0.3",
      "model_name": "QgridModel",
      "state": {
       "_columns": {
        "AvgProfit": {
         "cssClass": "number",
         "defaultSortAsc": false,
         "editable": true,
         "field": "AvgProfit",
         "id": "AvgProfit",
         "minWidth": 30,
         "name": "AvgProfit",
         "position": 6,
         "resizable": true,
         "sortable": true,
         "toolTip": "",
         "type": "number"
        },
        "Count": {
         "cssClass": "number",
         "defaultSortAsc": false,
         "editable": true,
         "field": "Count",
         "id": "Count",
         "minWidth": 30,
         "name": "Count",
         "position": 5,
         "resizable": true,
         "sortable": true,
         "toolTip": "",
         "type": "number"
        },
        "Fitness": {
         "cssClass": "number",
         "defaultSortAsc": false,
         "editable": true,
         "field": "Fitness",
         "id": "Fitness",
         "minWidth": 30,
         "name": "Fitness",
         "position": 4,
         "resizable": true,
         "sortable": true,
         "toolTip": "",
         "type": "number"
        },
        "Period": {
         "cssClass": "integer",
         "defaultSortAsc": false,
         "editable": true,
         "field": "Period",
         "id": "Period",
         "minWidth": 30,
         "name": "Period",
         "position": 2,
         "resizable": true,
         "sortable": true,
         "toolTip": "",
         "type": "integer"
        },
        "Sharpe": {
         "cssClass": "number",
         "defaultSortAsc": false,
         "editable": true,
         "field": "Sharpe",
         "id": "Sharpe",
         "minWidth": 30,
         "name": "Sharpe",
         "position": 7,
         "resizable": true,
         "sortable": true,
         "toolTip": "",
         "type": "number"
        },
        "StdDev": {
         "cssClass": "number",
         "defaultSortAsc": false,
         "editable": true,
         "field": "StdDev",
         "id": "StdDev",
         "minWidth": 30,
         "name": "StdDev",
         "position": 3,
         "resizable": true,
         "sortable": true,
         "toolTip": "",
         "type": "number"
        },
        "index": {
         "cssClass": "integer first-idx-col idx-col",
         "defaultSortAsc": false,
         "editable": true,
         "field": "index",
         "first_index": true,
         "id": "index",
         "index_display_text": "",
         "is_index": true,
         "level": 0,
         "minWidth": 30,
         "name": "",
         "position": 0,
         "resizable": true,
         "sortable": true,
         "toolTip": "",
         "type": "integer"
        },
        "qgrid_unfiltered_index": {
         "cssClass": "integer",
         "defaultSortAsc": false,
         "editable": true,
         "field": "qgrid_unfiltered_index",
         "id": "qgrid_unfiltered_index",
         "maxWidth": null,
         "minWidth": 30,
         "name": "qgrid_unfiltered_index",
         "position": 1,
         "resizable": true,
         "sortable": true,
         "toolTip": "",
         "type": "integer",
         "width": null
        }
       },
       "_df_json": "{\"schema\":{\"fields\":[{\"name\":\"index\",\"type\":\"integer\"},{\"name\":\"qgrid_unfiltered_index\",\"type\":\"integer\"},{\"name\":\"Period\",\"type\":\"integer\"},{\"name\":\"StdDev\",\"type\":\"number\"},{\"name\":\"Fitness\",\"type\":\"number\"},{\"name\":\"Count\",\"type\":\"number\"},{\"name\":\"AvgProfit\",\"type\":\"number\"},{\"name\":\"Sharpe\",\"type\":\"number\"}],\"primaryKey\":[\"index\"],\"pandas_version\":\"0.20.0\"},\"data\":[{\"index\":51,\"qgrid_unfiltered_index\":0,\"Period\":1400,\"StdDev\":1.04214,\"Fitness\":-1463.89283,\"Count\":784.0,\"AvgProfit\":-1.86721,\"Sharpe\":-486.31606},{\"index\":97,\"qgrid_unfiltered_index\":1,\"Period\":3992,\"StdDev\":1.00821,\"Fitness\":-524.80407,\"Count\":258.0,\"AvgProfit\":-2.03412,\"Sharpe\":-96.00646},{\"index\":54,\"qgrid_unfiltered_index\":2,\"Period\":6098,\"StdDev\":1.08517,\"Fitness\":-522.54503,\"Count\":139.0,\"AvgProfit\":-3.75932,\"Sharpe\":-94.25387},{\"index\":34,\"qgrid_unfiltered_index\":3,\"Period\":2721,\"StdDev\":2.49649,\"Fitness\":-344.95316,\"Count\":99.0,\"AvgProfit\":-3.48438,\"Sharpe\":-54.52826},{\"index\":1,\"qgrid_unfiltered_index\":4,\"Period\":9645,\"StdDev\":1.10427,\"Fitness\":-339.17528,\"Count\":87.0,\"AvgProfit\":-3.89857,\"Sharpe\":-53.23268},{\"index\":178,\"qgrid_unfiltered_index\":5,\"Period\":7514,\"StdDev\":1.62936,\"Fitness\":-337.1178,\"Count\":81.0,\"AvgProfit\":-4.16195,\"Sharpe\":-50.17743},{\"index\":28,\"qgrid_unfiltered_index\":6,\"Period\":8568,\"StdDev\":1.43496,\"Fitness\":-317.43609,\"Count\":85.0,\"AvgProfit\":-3.73454,\"Sharpe\":-48.91175},{\"index\":301,\"qgrid_unfiltered_index\":7,\"Period\":10784,\"StdDev\":1.15992,\"Fitness\":-287.10922,\"Count\":77.0,\"AvgProfit\":-3.72869,\"Sharpe\":-43.59815},{\"index\":5,\"qgrid_unfiltered_index\":8,\"Period\":6406,\"StdDev\":2.30918,\"Fitness\":-242.81659,\"Count\":60.0,\"AvgProfit\":-4.04694,\"Sharpe\":-32.07036},{\"index\":26,\"qgrid_unfiltered_index\":9,\"Period\":5610,\"StdDev\":2.617,\"Fitness\":-232.28034,\"Count\":39.0,\"AvgProfit\":-5.95591,\"Sharpe\":-20.40211},{\"index\":92,\"qgrid_unfiltered_index\":10,\"Period\":10048,\"StdDev\":1.60328,\"Fitness\":-225.23357,\"Count\":71.0,\"AvgProfit\":-3.1723,\"Sharpe\":-33.39073},{\"index\":309,\"qgrid_unfiltered_index\":11,\"Period\":12936,\"StdDev\":1.15992,\"Fitness\":-221.0864,\"Count\":69.0,\"AvgProfit\":-3.20415,\"Sharpe\":-32.36225},{\"index\":385,\"qgrid_unfiltered_index\":12,\"Period\":14968,\"StdDev\":1.15992,\"Fitness\":-207.73316,\"Count\":59.0,\"AvgProfit\":-3.5209,\"Sharpe\":-28.67641},{\"index\":167,\"qgrid_unfiltered_index\":13,\"Period\":10784,\"StdDev\":1.58668,\"Fitness\":-205.5431,\"Count\":69.0,\"AvgProfit\":-2.97889,\"Sharpe\":-30.45094},{\"index\":290,\"qgrid_unfiltered_index\":14,\"Period\":15866,\"StdDev\":1.15992,\"Fitness\":-201.32835,\"Count\":59.0,\"AvgProfit\":-3.41234,\"Sharpe\":-27.42845},{\"index\":16,\"qgrid_unfiltered_index\":15,\"Period\":12656,\"StdDev\":1.7229,\"Fitness\":-195.2931,\"Count\":49.0,\"AvgProfit\":-3.98557,\"Sharpe\":-24.68474},{\"index\":0,\"qgrid_unfiltered_index\":16,\"Period\":13217,\"StdDev\":1.72954,\"Fitness\":-185.84254,\"Count\":47.0,\"AvgProfit\":-3.9541,\"Sharpe\":-23.75792},{\"index\":82,\"qgrid_unfiltered_index\":17,\"Period\":12984,\"StdDev\":1.74581,\"Fitness\":-175.44754,\"Count\":49.0,\"AvgProfit\":-3.58056,\"Sharpe\":-22.67449},{\"index\":441,\"qgrid_unfiltered_index\":18,\"Period\":10784,\"StdDev\":1.78105,\"Fitness\":-173.80419,\"Count\":65.0,\"AvgProfit\":-2.67391,\"Sharpe\":-25.71966},{\"index\":79,\"qgrid_unfiltered_index\":19,\"Period\":17014,\"StdDev\":1.56609,\"Fitness\":-170.46926,\"Count\":39.0,\"AvgProfit\":-4.37101,\"Sharpe\":-20.07061},{\"index\":62,\"qgrid_unfiltered_index\":20,\"Period\":6691,\"StdDev\":2.72755,\"Fitness\":-152.0758,\"Count\":25.0,\"AvgProfit\":-6.08303,\"Sharpe\":-12.06417},{\"index\":39,\"qgrid_unfiltered_index\":21,\"Period\":24152,\"StdDev\":1.08538,\"Fitness\":-146.89062,\"Count\":39.0,\"AvgProfit\":-3.76643,\"Sharpe\":-18.83515},{\"index\":264,\"qgrid_unfiltered_index\":22,\"Period\":15866,\"StdDev\":1.78105,\"Fitness\":-142.58991,\"Count\":39.0,\"AvgProfit\":-3.65615,\"Sharpe\":-16.92029},{\"index\":433,\"qgrid_unfiltered_index\":23,\"Period\":25128,\"StdDev\":1.15992,\"Fitness\":-133.99503,\"Count\":37.0,\"AvgProfit\":-3.62149,\"Sharpe\":-17.1657},{\"index\":76,\"qgrid_unfiltered_index\":24,\"Period\":6859,\"StdDev\":2.63836,\"Fitness\":-132.93453,\"Count\":35.0,\"AvgProfit\":-3.79813,\"Sharpe\":-15.14341},{\"index\":245,\"qgrid_unfiltered_index\":25,\"Period\":4887,\"StdDev\":2.83699,\"Fitness\":-130.67573,\"Count\":24.0,\"AvgProfit\":-5.44482,\"Sharpe\":-10.91604},{\"index\":73,\"qgrid_unfiltered_index\":26,\"Period\":19198,\"StdDev\":1.81219,\"Fitness\":-123.72962,\"Count\":30.0,\"AvgProfit\":-4.12432,\"Sharpe\":-15.91073},{\"index\":50,\"qgrid_unfiltered_index\":27,\"Period\":25125,\"StdDev\":1.23588,\"Fitness\":-121.32051,\"Count\":35.0,\"AvgProfit\":-3.4663,\"Sharpe\":-15.14699},{\"index\":272,\"qgrid_unfiltered_index\":28,\"Period\":20096,\"StdDev\":1.78105,\"Fitness\":-116.39906,\"Count\":30.0,\"AvgProfit\":-3.87997,\"Sharpe\":-15.04837},{\"index\":20,\"qgrid_unfiltered_index\":29,\"Period\":13472,\"StdDev\":1.96469,\"Fitness\":-113.69993,\"Count\":45.0,\"AvgProfit\":-2.52667,\"Sharpe\":-14.59829},{\"index\":148,\"qgrid_unfiltered_index\":30,\"Period\":45970,\"StdDev\":2.49098,\"Fitness\":-99.40491,\"Count\":2.0,\"AvgProfit\":-49.70246,\"Sharpe\":-2.76948},{\"index\":125,\"qgrid_unfiltered_index\":31,\"Period\":46598,\"StdDev\":2.62194,\"Fitness\":-97.72057,\"Count\":2.0,\"AvgProfit\":-48.86028,\"Sharpe\":-2.73092},{\"index\":25,\"qgrid_unfiltered_index\":32,\"Period\":45205,\"StdDev\":2.62194,\"Fitness\":-97.43031,\"Count\":2.0,\"AvgProfit\":-48.71516,\"Sharpe\":-2.7373},{\"index\":27,\"qgrid_unfiltered_index\":33,\"Period\":46453,\"StdDev\":2.7786,\"Fitness\":-95.78168,\"Count\":2.0,\"AvgProfit\":-47.89084,\"Sharpe\":-2.69083},{\"index\":3,\"qgrid_unfiltered_index\":34,\"Period\":46187,\"StdDev\":2.80468,\"Fitness\":-95.39201,\"Count\":2.0,\"AvgProfit\":-47.69601,\"Sharpe\":-2.68324},{\"index\":317,\"qgrid_unfiltered_index\":35,\"Period\":30265,\"StdDev\":1.15992,\"Fitness\":-91.77316,\"Count\":33.0,\"AvgProfit\":-2.781,\"Sharpe\":-12.00891},{\"index\":12,\"qgrid_unfiltered_index\":36,\"Period\":49619,\"StdDev\":1.81747,\"Fitness\":-88.92139,\"Count\":5.0,\"AvgProfit\":-17.78428,\"Sharpe\":-2.47582},{\"index\":88,\"qgrid_unfiltered_index\":37,\"Period\":45970,\"StdDev\":2.15805,\"Fitness\":-88.79413,\"Count\":3.0,\"AvgProfit\":-29.59804,\"Sharpe\":-2.04671},{\"index\":212,\"qgrid_unfiltered_index\":38,\"Period\":14968,\"StdDev\":2.1083,\"Fitness\":-88.36413,\"Count\":36.0,\"AvgProfit\":-2.45456,\"Sharpe\":-10.82391},{\"index\":13,\"qgrid_unfiltered_index\":39,\"Period\":31905,\"StdDev\":1.12407,\"Fitness\":-87.49843,\"Count\":30.0,\"AvgProfit\":-2.91661,\"Sharpe\":-11.35073},{\"index\":43,\"qgrid_unfiltered_index\":40,\"Period\":48055,\"StdDev\":1.86938,\"Fitness\":-86.9964,\"Count\":5.0,\"AvgProfit\":-17.39928,\"Sharpe\":-2.44889},{\"index\":106,\"qgrid_unfiltered_index\":41,\"Period\":16733,\"StdDev\":2.1083,\"Fitness\":-83.1006,\"Count\":33.0,\"AvgProfit\":-2.5182,\"Sharpe\":-10.34995},{\"index\":99,\"qgrid_unfiltered_index\":42,\"Period\":49013,\"StdDev\":2.4056,\"Fitness\":-82.25268,\"Count\":3.0,\"AvgProfit\":-27.41756,\"Sharpe\":-1.9068},{\"index\":201,\"qgrid_unfiltered_index\":43,\"Period\":25445,\"StdDev\":1.44914,\"Fitness\":-82.01403,\"Count\":35.0,\"AvgProfit\":-2.34326,\"Sharpe\":-10.15937},{\"index\":89,\"qgrid_unfiltered_index\":44,\"Period\":12423,\"StdDev\":2.16911,\"Fitness\":-79.09982,\"Count\":39.0,\"AvgProfit\":-2.0282,\"Sharpe\":-9.25384},{\"index\":64,\"qgrid_unfiltered_index\":45,\"Period\":25884,\"StdDev\":1.74537,\"Fitness\":-77.85018,\"Count\":28.0,\"AvgProfit\":-2.78036,\"Sharpe\":-10.55453},{\"index\":80,\"qgrid_unfiltered_index\":46,\"Period\":1794,\"StdDev\":3.67783,\"Fitness\":-77.58054,\"Count\":6.0,\"AvgProfit\":-12.93009,\"Sharpe\":-3.07748},{\"index\":96,\"qgrid_unfiltered_index\":47,\"Period\":16776,\"StdDev\":3.26889,\"Fitness\":-76.84295,\"Count\":1.0,\"AvgProfit\":-76.84295,\"Sharpe\":0.0},{\"index\":421,\"qgrid_unfiltered_index\":48,\"Period\":25445,\"StdDev\":1.78105,\"Fitness\":-75.90922,\"Count\":28.0,\"AvgProfit\":-2.71104,\"Sharpe\":-10.31492},{\"index\":58,\"qgrid_unfiltered_index\":49,\"Period\":28842,\"StdDev\":2.4217,\"Fitness\":-75.86888,\"Count\":8.0,\"AvgProfit\":-9.48361,\"Sharpe\":-3.03516},{\"index\":4,\"qgrid_unfiltered_index\":50,\"Period\":33338,\"StdDev\":1.10446,\"Fitness\":-75.16525,\"Count\":30.0,\"AvgProfit\":-2.50551,\"Sharpe\":-9.76376},{\"index\":24,\"qgrid_unfiltered_index\":51,\"Period\":34749,\"StdDev\":2.23888,\"Fitness\":-71.9799,\"Count\":8.0,\"AvgProfit\":-8.99749,\"Sharpe\":-2.71411},{\"index\":266,\"qgrid_unfiltered_index\":52,\"Period\":13618,\"StdDev\":3.35498,\"Fitness\":-71.11949,\"Count\":2.0,\"AvgProfit\":-35.55974,\"Sharpe\":-1.85018},{\"index\":173,\"qgrid_unfiltered_index\":53,\"Period\":30730,\"StdDev\":2.62492,\"Fitness\":-71.05251,\"Count\":6.0,\"AvgProfit\":-11.84208,\"Sharpe\":-2.5348},{\"index\":172,\"qgrid_unfiltered_index\":54,\"Period\":9902,\"StdDev\":3.08118,\"Fitness\":-70.64722,\"Count\":7.0,\"AvgProfit\":-10.09246,\"Sharpe\":-2.3567},{\"index\":47,\"qgrid_unfiltered_index\":55,\"Period\":45122,\"StdDev\":1.62936,\"Fitness\":-68.57694,\"Count\":10.0,\"AvgProfit\":-6.85769,\"Sharpe\":-2.99296},{\"index\":162,\"qgrid_unfiltered_index\":56,\"Period\":26561,\"StdDev\":2.49098,\"Fitness\":-68.33444,\"Count\":11.0,\"AvgProfit\":-6.21222,\"Sharpe\":-3.38917},{\"index\":37,\"qgrid_unfiltered_index\":57,\"Period\":37554,\"StdDev\":2.31484,\"Fitness\":-67.87345,\"Count\":7.0,\"AvgProfit\":-9.69621,\"Sharpe\":-2.51133},{\"index\":101,\"qgrid_unfiltered_index\":58,\"Period\":49523,\"StdDev\":1.61849,\"Fitness\":-67.71806,\"Count\":9.0,\"AvgProfit\":-7.52423,\"Sharpe\":-2.84346},{\"index\":2,\"qgrid_unfiltered_index\":59,\"Period\":46202,\"StdDev\":1.69961,\"Fitness\":-66.86354,\"Count\":9.0,\"AvgProfit\":-7.42928,\"Sharpe\":-2.80694},{\"index\":46,\"qgrid_unfiltered_index\":60,\"Period\":36561,\"StdDev\":2.55168,\"Fitness\":-66.68757,\"Count\":6.0,\"AvgProfit\":-11.1146,\"Sharpe\":-2.33268},{\"index\":38,\"qgrid_unfiltered_index\":61,\"Period\":11944,\"StdDev\":2.32828,\"Fitness\":-64.34398,\"Count\":31.0,\"AvgProfit\":-2.07561,\"Sharpe\":-6.04729},{\"index\":86,\"qgrid_unfiltered_index\":62,\"Period\":47041,\"StdDev\":1.72666,\"Fitness\":-62.7762,\"Count\":9.0,\"AvgProfit\":-6.97513,\"Sharpe\":-2.63643},{\"index\":91,\"qgrid_unfiltered_index\":63,\"Period\":46598,\"StdDev\":3.04001,\"Fitness\":-61.27289,\"Count\":2.0,\"AvgProfit\":-30.63645,\"Sharpe\":-2.9411},{\"index\":22,\"qgrid_unfiltered_index\":64,\"Period\":21422,\"StdDev\":3.09257,\"Fitness\":-59.04981,\"Count\":1.0,\"AvgProfit\":-59.04981,\"Sharpe\":0.0},{\"index\":68,\"qgrid_unfiltered_index\":65,\"Period\":17465,\"StdDev\":2.37213,\"Fitness\":-57.78953,\"Count\":24.0,\"AvgProfit\":-2.4079,\"Sharpe\":-6.90173},{\"index\":84,\"qgrid_unfiltered_index\":66,\"Period\":19914,\"StdDev\":2.33701,\"Fitness\":-55.42644,\"Count\":21.0,\"AvgProfit\":-2.63935,\"Sharpe\":-6.8678},{\"index\":35,\"qgrid_unfiltered_index\":67,\"Period\":42979,\"StdDev\":1.94215,\"Fitness\":-51.51303,\"Count\":10.0,\"AvgProfit\":-5.1513,\"Sharpe\":-2.3026},{\"index\":288,\"qgrid_unfiltered_index\":68,\"Period\":28061,\"StdDev\":1.78105,\"Fitness\":-48.15726,\"Count\":28.0,\"AvgProfit\":-1.7199,\"Sharpe\":-6.53178},{\"index\":8,\"qgrid_unfiltered_index\":69,\"Period\":42016,\"StdDev\":2.24204,\"Fitness\":-48.0035,\"Count\":7.0,\"AvgProfit\":-6.85764,\"Sharpe\":-1.68763},{\"index\":36,\"qgrid_unfiltered_index\":70,\"Period\":7514,\"StdDev\":3.54578,\"Fitness\":-46.27629,\"Count\":4.0,\"AvgProfit\":-11.56907,\"Sharpe\":-1.24354},{\"index\":60,\"qgrid_unfiltered_index\":71,\"Period\":11763,\"StdDev\":3.32641,\"Fitness\":-45.51423,\"Count\":3.0,\"AvgProfit\":-15.17141,\"Sharpe\":-1.093},{\"index\":7,\"qgrid_unfiltered_index\":72,\"Period\":30730,\"StdDev\":3.08118,\"Fitness\":-44.57619,\"Count\":3.0,\"AvgProfit\":-14.85873,\"Sharpe\":-1.4474},{\"index\":149,\"qgrid_unfiltered_index\":73,\"Period\":25128,\"StdDev\":2.15805,\"Fitness\":-44.09447,\"Count\":22.0,\"AvgProfit\":-2.00429,\"Sharpe\":-3.80984},{\"index\":251,\"qgrid_unfiltered_index\":74,\"Period\":42084,\"StdDev\":1.78105,\"Fitness\":-44.01194,\"Count\":12.0,\"AvgProfit\":-3.66766,\"Sharpe\":-2.37776},{\"index\":32,\"qgrid_unfiltered_index\":75,\"Period\":29675,\"StdDev\":2.30833,\"Fitness\":-43.59055,\"Count\":12.0,\"AvgProfit\":-3.63255,\"Sharpe\":-2.45317},{\"index\":87,\"qgrid_unfiltered_index\":76,\"Period\":41317,\"StdDev\":2.24323,\"Fitness\":-41.67729,\"Count\":8.0,\"AvgProfit\":-5.20966,\"Sharpe\":-1.54225},{\"index\":30,\"qgrid_unfiltered_index\":77,\"Period\":9902,\"StdDev\":2.62492,\"Fitness\":-41.61416,\"Count\":23.0,\"AvgProfit\":-1.80931,\"Sharpe\":-3.80209},{\"index\":83,\"qgrid_unfiltered_index\":78,\"Period\":25309,\"StdDev\":2.76334,\"Fitness\":-41.57991,\"Count\":8.0,\"AvgProfit\":-5.19749,\"Sharpe\":-1.96197},{\"index\":55,\"qgrid_unfiltered_index\":79,\"Period\":30551,\"StdDev\":2.74445,\"Fitness\":-40.82056,\"Count\":6.0,\"AvgProfit\":-6.80343,\"Sharpe\":-1.6552},{\"index\":49,\"qgrid_unfiltered_index\":80,\"Period\":29340,\"StdDev\":2.3435,\"Fitness\":-40.76249,\"Count\":12.0,\"AvgProfit\":-3.39687,\"Sharpe\":-2.31453},{\"index\":75,\"qgrid_unfiltered_index\":81,\"Period\":29874,\"StdDev\":2.34233,\"Fitness\":-38.44446,\"Count\":12.0,\"AvgProfit\":-3.2037,\"Sharpe\":-2.17291},{\"index\":63,\"qgrid_unfiltered_index\":82,\"Period\":2731,\"StdDev\":3.42469,\"Fitness\":-38.04413,\"Count\":5.0,\"AvgProfit\":-7.60883,\"Sharpe\":-1.47645},{\"index\":11,\"qgrid_unfiltered_index\":83,\"Period\":23743,\"StdDev\":3.18409,\"Fitness\":-37.1849,\"Count\":1.0,\"AvgProfit\":-37.1849,\"Sharpe\":0.0},{\"index\":44,\"qgrid_unfiltered_index\":84,\"Period\":2140,\"StdDev\":2.96259,\"Fitness\":-34.72707,\"Count\":41.0,\"AvgProfit\":-0.847,\"Sharpe\":-4.69651},{\"index\":93,\"qgrid_unfiltered_index\":85,\"Period\":19756,\"StdDev\":2.44107,\"Fitness\":-34.58381,\"Count\":21.0,\"AvgProfit\":-1.64685,\"Sharpe\":-4.25939},{\"index\":228,\"qgrid_unfiltered_index\":86,\"Period\":25445,\"StdDev\":3.21508,\"Fitness\":-34.39447,\"Count\":1.0,\"AvgProfit\":-34.39447,\"Sharpe\":0.0},{\"index\":42,\"qgrid_unfiltered_index\":87,\"Period\":22346,\"StdDev\":2.18665,\"Fitness\":-33.98335,\"Count\":24.0,\"AvgProfit\":-1.41597,\"Sharpe\":-4.37109},{\"index\":72,\"qgrid_unfiltered_index\":88,\"Period\":20155,\"StdDev\":2.50425,\"Fitness\":-32.08662,\"Count\":19.0,\"AvgProfit\":-1.68877,\"Sharpe\":-3.20795},{\"index\":17,\"qgrid_unfiltered_index\":89,\"Period\":25495,\"StdDev\":1.98715,\"Fitness\":-31.62882,\"Count\":26.0,\"AvgProfit\":-1.21649,\"Sharpe\":-4.22543},{\"index\":59,\"qgrid_unfiltered_index\":90,\"Period\":26530,\"StdDev\":2.85532,\"Fitness\":-30.21488,\"Count\":5.0,\"AvgProfit\":-6.04298,\"Sharpe\":-1.12107},{\"index\":66,\"qgrid_unfiltered_index\":91,\"Period\":39295,\"StdDev\":1.08707,\"Fitness\":-25.08351,\"Count\":28.0,\"AvgProfit\":-0.89584,\"Sharpe\":-2.76406},{\"index\":153,\"qgrid_unfiltered_index\":92,\"Period\":48755,\"StdDev\":1.49737,\"Fitness\":-24.21087,\"Count\":14.0,\"AvgProfit\":-1.72935,\"Sharpe\":-1.96573},{\"index\":287,\"qgrid_unfiltered_index\":93,\"Period\":26561,\"StdDev\":3.21508,\"Fitness\":-18.04853,\"Count\":1.0,\"AvgProfit\":-18.04853,\"Sharpe\":0.0},{\"index\":57,\"qgrid_unfiltered_index\":94,\"Period\":25128,\"StdDev\":2.49098,\"Fitness\":-17.81584,\"Count\":15.0,\"AvgProfit\":-1.18772,\"Sharpe\":-1.10207},{\"index\":74,\"qgrid_unfiltered_index\":95,\"Period\":28061,\"StdDev\":2.1083,\"Fitness\":-13.86664,\"Count\":24.0,\"AvgProfit\":-0.57778,\"Sharpe\":-1.65919},{\"index\":70,\"qgrid_unfiltered_index\":96,\"Period\":32328,\"StdDev\":1.92634,\"Fitness\":-7.73708,\"Count\":20.0,\"AvgProfit\":-0.38685,\"Sharpe\":-0.70438},{\"index\":77,\"qgrid_unfiltered_index\":97,\"Period\":45155,\"StdDev\":1.58668,\"Fitness\":-7.26291,\"Count\":14.0,\"AvgProfit\":-0.51878,\"Sharpe\":-0.45536},{\"index\":41,\"qgrid_unfiltered_index\":98,\"Period\":30809,\"StdDev\":2.07454,\"Fitness\":-3.77624,\"Count\":18.0,\"AvgProfit\":-0.20979,\"Sharpe\":-0.34086},{\"index\":14,\"qgrid_unfiltered_index\":99,\"Period\":10831,\"StdDev\":2.83699,\"Fitness\":-1.8724,\"Count\":11.0,\"AvgProfit\":-0.17022,\"Sharpe\":-0.11952}]}",
       "_df_range": [
        0,
        100
       ],
       "_editable_rows": {},
       "_index_col_name": "qgrid_unfiltered_index",
       "_interval_columns": [],
       "_model_module_version": "0.0.3",
       "_multi_index": false,
       "_row_count": 246,
       "_row_styles": {},
       "_sort_ascending": true,
       "_sort_field": null,
       "_view_module_version": "0.0.3",
       "_viewport_range": [
        0,
        100
       ],
       "grid_options": {
        "autoEdit": false,
        "boldIndex": true,
        "defaultColumnWidth": 150,
        "editable": false,
        "enableColumnReorder": false,
        "enableTextSelectionOnCells": true,
        "explicitInitialization": true,
        "filterable": true,
        "forceFitColumns": true,
        "fullWidthRows": true,
        "highlightSelectedCell": false,
        "highlightSelectedRow": true,
        "maxVisibleRows": 15,
        "minVisibleRows": 8,
        "multiSelect": false,
        "rowHeight": 28,
        "sortable": true,
        "syncColumnCellResize": true
       },
       "id": "7bf5c4e9-67b0-4411-b0c5-2e387180aed8",
       "layout": "IPY_MODEL_a530c40aad1d4fabae5c5312054fe779",
       "precision": 5,
       "show_toolbar": false
      }
     },
     "579ad157e35e494ba072881849be70f1": {
      "buffers": [
       {
        "data": "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",
        "encoding": "base64",
        "path": [
         "_data",
         0,
         "dimensions",
         1,
         "values",
         "value"
        ]
       },
       {
        "data": "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",
        "encoding": "base64",
        "path": [
         "_data",
         0,
         "dimensions",
         2,
         "values",
         "value"
        ]
       },
       {
        "data": "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",
        "encoding": "base64",
        "path": [
         "_data",
         0,
         "dimensions",
         3,
         "values",
         "value"
        ]
       },
       {
        "data": "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",
        "encoding": "base64",
        "path": [
         "_data",
         0,
         "dimensions",
         4,
         "values",
         "value"
        ]
       },
       {
        "data": "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",
        "encoding": "base64",
        "path": [
         "_data",
         0,
         "dimensions",
         5,
         "values",
         "value"
        ]
       }
      ],
      "model_module": "jupyterlab-plotly",
      "model_module_version": "^5.6.0",
      "model_name": "FigureModel",
      "state": {
       "_config": {
        "plotlyServerURL": "https://plot.ly"
       },
       "_data": [
        {
         "dimensions": [
          {
           "label": "Period",
           "values": [
            1400,
            3992,
            6098,
            2721,
            9645,
            7514,
            8568,
            10784,
            6406,
            5610,
            10048,
            12936,
            14968,
            10784,
            15866,
            12656,
            13217,
            12984,
            10784,
            17014,
            6691,
            24152,
            15866,
            25128,
            6859,
            4887,
            19198,
            25125,
            20096,
            13472,
            45970,
            46598,
            45205,
            46453,
            46187,
            30265,
            49619,
            45970,
            14968,
            31905,
            48055,
            16733,
            49013,
            25445,
            12423,
            25884,
            1794,
            16776,
            25445,
            28842,
            33338,
            34749,
            13618,
            30730,
            9902,
            45122,
            26561,
            37554,
            49523,
            46202,
            36561,
            11944,
            47041,
            46598,
            21422,
            17465,
            19914,
            42979,
            28061,
            42016,
            7514,
            11763,
            30730,
            25128,
            42084,
            29675,
            41317,
            9902,
            25309,
            30551,
            29340,
            29874,
            2731,
            23743,
            2140,
            19756,
            25445,
            22346,
            20155,
            25495,
            26530,
            39295,
            48755,
            26561,
            25128,
            28061,
            32328,
            45155,
            30809,
            10831,
            38070,
            41622,
            41175,
            41175,
            49523,
            10784,
            42084,
            42084,
            4887,
            12936,
            41175,
            42084,
            42084,
            49523,
            0,
            30587,
            15866,
            12936,
            41175,
            48755,
            41217,
            42217,
            10784,
            15866,
            15866,
            15866,
            15156,
            0,
            41175,
            25445,
            26561,
            41175,
            35310,
            41175,
            25128,
            42084,
            38419,
            0,
            14968,
            42084,
            42084,
            14968,
            20096,
            28061,
            15866,
            0,
            10831,
            14968,
            48755,
            0,
            41175,
            38419,
            15156,
            45122,
            25445,
            15156,
            0,
            42217,
            15866,
            30265,
            41217,
            28061,
            42217,
            45205,
            35310,
            15156,
            41175,
            20096,
            0,
            35310,
            20096,
            48755,
            30587,
            26561,
            12936,
            44479,
            13618,
            30265,
            38419,
            15419,
            49523,
            46895,
            0,
            25445,
            14968,
            36823,
            36353,
            15866,
            42217,
            16733,
            15156,
            15419,
            49523,
            20096,
            15866,
            16733,
            15156,
            10784,
            38419,
            48755,
            45122,
            38070,
            26561,
            25128,
            28061,
            12936,
            0,
            28061,
            25445,
            20096,
            41217,
            25128,
            45155,
            0,
            41217,
            45122,
            20096,
            15419,
            0,
            16733,
            30587,
            49523,
            20096,
            42084,
            42217,
            41175,
            41217,
            10784,
            4887,
            4887,
            4887,
            4887,
            4887,
            4887,
            10784,
            10784,
            10784,
            10831,
            10784,
            10784,
            10831,
            10831,
            10831,
            10784,
            10784,
            10784
           ]
          },
          {
           "label": "StdDev",
           "values": {
            "dtype": "float64",
            "shape": [
             246
            ]
           }
          },
          {
           "label": "Fitness",
           "values": {
            "dtype": "float64",
            "shape": [
             246
            ]
           }
          },
          {
           "label": "Count",
           "values": {
            "dtype": "float64",
            "shape": [
             246
            ]
           }
          },
          {
           "label": "AvgProfit",
           "values": {
            "dtype": "float64",
            "shape": [
             246
            ]
           }
          },
          {
           "label": "Sharpe",
           "values": {
            "dtype": "float64",
            "shape": [
             246
            ]
           }
          }
         ],
         "type": "parcoords",
         "uid": "15be2634-17ce-477d-bd7e-a0c09fe42faa"
        }
       ],
       "_js2py_pointsCallback": {},
       "_js2py_relayout": {},
       "_js2py_restyle": {},
       "_js2py_update": {},
       "_last_layout_edit_id": 1,
       "_last_trace_edit_id": 1,
       "_layout": {
        "autosize": true,
        "height": 400,
        "margin": {
         "b": 20,
         "l": 45,
         "pad": 3,
         "r": 45,
         "t": 50
        },
        "template": {
         "data": {
          "bar": [
           {
            "error_x": {
             "color": "#2a3f5f"
            },
            "error_y": {
             "color": "#2a3f5f"
            },
            "marker": {
             "line": {
              "color": "white",
              "width": 0.5
             },
             "pattern": {
              "fillmode": "overlay",
              "size": 10,
              "solidity": 0.2
             }
            },
            "type": "bar"
           }
          ],
          "barpolar": [
           {
            "marker": {
             "line": {
              "color": "white",
              "width": 0.5
             },
             "pattern": {
              "fillmode": "overlay",
              "size": 10,
              "solidity": 0.2
             }
            },
            "type": "barpolar"
           }
          ],
          "carpet": [
           {
            "aaxis": {
             "endlinecolor": "#2a3f5f",
             "gridcolor": "#C8D4E3",
             "linecolor": "#C8D4E3",
             "minorgridcolor": "#C8D4E3",
             "startlinecolor": "#2a3f5f"
            },
            "baxis": {
             "endlinecolor": "#2a3f5f",
             "gridcolor": "#C8D4E3",
             "linecolor": "#C8D4E3",
             "minorgridcolor": "#C8D4E3",
             "startlinecolor": "#2a3f5f"
            },
            "type": "carpet"
           }
          ],
          "choropleth": [
           {
            "colorbar": {
             "outlinewidth": 0,
             "ticks": ""
            },
            "type": "choropleth"
           }
          ],
          "contour": [
           {
            "colorbar": {
             "outlinewidth": 0,
             "ticks": ""
            },
            "colorscale": [
             [
              0,
              "#0d0887"
             ],
             [
              0.1111111111111111,
              "#46039f"
             ],
             [
              0.2222222222222222,
              "#7201a8"
             ],
             [
              0.3333333333333333,
              "#9c179e"
             ],
             [
              0.4444444444444444,
              "#bd3786"
             ],
             [
              0.5555555555555556,
              "#d8576b"
             ],
             [
              0.6666666666666666,
              "#ed7953"
             ],
             [
              0.7777777777777778,
              "#fb9f3a"
             ],
             [
              0.8888888888888888,
              "#fdca26"
             ],
             [
              1,
              "#f0f921"
             ]
            ],
            "type": "contour"
           }
          ],
          "contourcarpet": [
           {
            "colorbar": {
             "outlinewidth": 0,
             "ticks": ""
            },
            "type": "contourcarpet"
           }
          ],
          "heatmap": [
           {
            "colorbar": {
             "outlinewidth": 0,
             "ticks": ""
            },
            "colorscale": [
             [
              0,
              "#0d0887"
             ],
             [
              0.1111111111111111,
              "#46039f"
             ],
             [
              0.2222222222222222,
              "#7201a8"
             ],
             [
              0.3333333333333333,
              "#9c179e"
             ],
             [
              0.4444444444444444,
              "#bd3786"
             ],
             [
              0.5555555555555556,
              "#d8576b"
             ],
             [
              0.6666666666666666,
              "#ed7953"
             ],
             [
              0.7777777777777778,
              "#fb9f3a"
             ],
             [
              0.8888888888888888,
              "#fdca26"
             ],
             [
              1,
              "#f0f921"
             ]
            ],
            "type": "heatmap"
           }
          ],
          "heatmapgl": [
           {
            "colorbar": {
             "outlinewidth": 0,
             "ticks": ""
            },
            "colorscale": [
             [
              0,
              "#0d0887"
             ],
             [
              0.1111111111111111,
              "#46039f"
             ],
             [
              0.2222222222222222,
              "#7201a8"
             ],
             [
              0.3333333333333333,
              "#9c179e"
             ],
             [
              0.4444444444444444,
              "#bd3786"
             ],
             [
              0.5555555555555556,
              "#d8576b"
             ],
             [
              0.6666666666666666,
              "#ed7953"
             ],
             [
              0.7777777777777778,
              "#fb9f3a"
             ],
             [
              0.8888888888888888,
              "#fdca26"
             ],
             [
              1,
              "#f0f921"
             ]
            ],
            "type": "heatmapgl"
           }
          ],
          "histogram": [
           {
            "marker": {
             "pattern": {
              "fillmode": "overlay",
              "size": 10,
              "solidity": 0.2
             }
            },
            "type": "histogram"
           }
          ],
          "histogram2d": [
           {
            "colorbar": {
             "outlinewidth": 0,
             "ticks": ""
            },
            "colorscale": [
             [
              0,
              "#0d0887"
             ],
             [
              0.1111111111111111,
              "#46039f"
             ],
             [
              0.2222222222222222,
              "#7201a8"
             ],
             [
              0.3333333333333333,
              "#9c179e"
             ],
             [
              0.4444444444444444,
              "#bd3786"
             ],
             [
              0.5555555555555556,
              "#d8576b"
             ],
             [
              0.6666666666666666,
              "#ed7953"
             ],
             [
              0.7777777777777778,
              "#fb9f3a"
             ],
             [
              0.8888888888888888,
              "#fdca26"
             ],
             [
              1,
              "#f0f921"
             ]
            ],
            "type": "histogram2d"
           }
          ],
          "histogram2dcontour": [
           {
            "colorbar": {
             "outlinewidth": 0,
             "ticks": ""
            },
            "colorscale": [
             [
              0,
              "#0d0887"
             ],
             [
              0.1111111111111111,
              "#46039f"
             ],
             [
              0.2222222222222222,
              "#7201a8"
             ],
             [
              0.3333333333333333,
              "#9c179e"
             ],
             [
              0.4444444444444444,
              "#bd3786"
             ],
             [
              0.5555555555555556,
              "#d8576b"
             ],
             [
              0.6666666666666666,
              "#ed7953"
             ],
             [
              0.7777777777777778,
              "#fb9f3a"
             ],
             [
              0.8888888888888888,
              "#fdca26"
             ],
             [
              1,
              "#f0f921"
             ]
            ],
            "type": "histogram2dcontour"
           }
          ],
          "mesh3d": [
           {
            "colorbar": {
             "outlinewidth": 0,
             "ticks": ""
            },
            "type": "mesh3d"
           }
          ],
          "parcoords": [
           {
            "line": {
             "colorbar": {
              "outlinewidth": 0,
              "ticks": ""
             }
            },
            "type": "parcoords"
           }
          ],
          "pie": [
           {
            "automargin": true,
            "type": "pie"
           }
          ],
          "scatter": [
           {
            "marker": {
             "colorbar": {
              "outlinewidth": 0,
              "ticks": ""
             }
            },
            "type": "scatter"
           }
          ],
          "scatter3d": [
           {
            "line": {
             "colorbar": {
              "outlinewidth": 0,
              "ticks": ""
             }
            },
            "marker": {
             "colorbar": {
              "outlinewidth": 0,
              "ticks": ""
             }
            },
            "type": "scatter3d"
           }
          ],
          "scattercarpet": [
           {
            "marker": {
             "colorbar": {
              "outlinewidth": 0,
              "ticks": ""
             }
            },
            "type": "scattercarpet"
           }
          ],
          "scattergeo": [
           {
            "marker": {
             "colorbar": {
              "outlinewidth": 0,
              "ticks": ""
             }
            },
            "type": "scattergeo"
           }
          ],
          "scattergl": [
           {
            "marker": {
             "colorbar": {
              "outlinewidth": 0,
              "ticks": ""
             }
            },
            "type": "scattergl"
           }
          ],
          "scattermapbox": [
           {
            "marker": {
             "colorbar": {
              "outlinewidth": 0,
              "ticks": ""
             }
            },
            "type": "scattermapbox"
           }
          ],
          "scatterpolar": [
           {
            "marker": {
             "colorbar": {
              "outlinewidth": 0,
              "ticks": ""
             }
            },
            "type": "scatterpolar"
           }
          ],
          "scatterpolargl": [
           {
            "marker": {
             "colorbar": {
              "outlinewidth": 0,
              "ticks": ""
             }
            },
            "type": "scatterpolargl"
           }
          ],
          "scatterternary": [
           {
            "marker": {
             "colorbar": {
              "outlinewidth": 0,
              "ticks": ""
             }
            },
            "type": "scatterternary"
           }
          ],
          "surface": [
           {
            "colorbar": {
             "outlinewidth": 0,
             "ticks": ""
            },
            "colorscale": [
             [
              0,
              "#0d0887"
             ],
             [
              0.1111111111111111,
              "#46039f"
             ],
             [
              0.2222222222222222,
              "#7201a8"
             ],
             [
              0.3333333333333333,
              "#9c179e"
             ],
             [
              0.4444444444444444,
              "#bd3786"
             ],
             [
              0.5555555555555556,
              "#d8576b"
             ],
             [
              0.6666666666666666,
              "#ed7953"
             ],
             [
              0.7777777777777778,
              "#fb9f3a"
             ],
             [
              0.8888888888888888,
              "#fdca26"
             ],
             [
              1,
              "#f0f921"
             ]
            ],
            "type": "surface"
           }
          ],
          "table": [
           {
            "cells": {
             "fill": {
              "color": "#EBF0F8"
             },
             "line": {
              "color": "white"
             }
            },
            "header": {
             "fill": {
              "color": "#C8D4E3"
             },
             "line": {
              "color": "white"
             }
            },
            "type": "table"
           }
          ]
         },
         "layout": {
          "annotationdefaults": {
           "arrowcolor": "#2a3f5f",
           "arrowhead": 0,
           "arrowwidth": 1
          },
          "autotypenumbers": "strict",
          "coloraxis": {
           "colorbar": {
            "outlinewidth": 0,
            "ticks": ""
           }
          },
          "colorscale": {
           "diverging": [
            [
             0,
             "#8e0152"
            ],
            [
             0.1,
             "#c51b7d"
            ],
            [
             0.2,
             "#de77ae"
            ],
            [
             0.3,
             "#f1b6da"
            ],
            [
             0.4,
             "#fde0ef"
            ],
            [
             0.5,
             "#f7f7f7"
            ],
            [
             0.6,
             "#e6f5d0"
            ],
            [
             0.7,
             "#b8e186"
            ],
            [
             0.8,
             "#7fbc41"
            ],
            [
             0.9,
             "#4d9221"
            ],
            [
             1,
             "#276419"
            ]
           ],
           "sequential": [
            [
             0,
             "#0d0887"
            ],
            [
             0.1111111111111111,
             "#46039f"
            ],
            [
             0.2222222222222222,
             "#7201a8"
            ],
            [
             0.3333333333333333,
             "#9c179e"
            ],
            [
             0.4444444444444444,
             "#bd3786"
            ],
            [
             0.5555555555555556,
             "#d8576b"
            ],
            [
             0.6666666666666666,
             "#ed7953"
            ],
            [
             0.7777777777777778,
             "#fb9f3a"
            ],
            [
             0.8888888888888888,
             "#fdca26"
            ],
            [
             1,
             "#f0f921"
            ]
           ],
           "sequentialminus": [
            [
             0,
             "#0d0887"
            ],
            [
             0.1111111111111111,
             "#46039f"
            ],
            [
             0.2222222222222222,
             "#7201a8"
            ],
            [
             0.3333333333333333,
             "#9c179e"
            ],
            [
             0.4444444444444444,
             "#bd3786"
            ],
            [
             0.5555555555555556,
             "#d8576b"
            ],
            [
             0.6666666666666666,
             "#ed7953"
            ],
            [
             0.7777777777777778,
             "#fb9f3a"
            ],
            [
             0.8888888888888888,
             "#fdca26"
            ],
            [
             1,
             "#f0f921"
            ]
           ]
          },
          "colorway": [
           "#636efa",
           "#EF553B",
           "#00cc96",
           "#ab63fa",
           "#FFA15A",
           "#19d3f3",
           "#FF6692",
           "#B6E880",
           "#FF97FF",
           "#FECB52"
          ],
          "font": {
           "color": "#2a3f5f"
          },
          "geo": {
           "bgcolor": "white",
           "lakecolor": "white",
           "landcolor": "white",
           "showlakes": true,
           "showland": true,
           "subunitcolor": "#C8D4E3"
          },
          "hoverlabel": {
           "align": "left"
          },
          "hovermode": "closest",
          "mapbox": {
           "style": "light"
          },
          "paper_bgcolor": "white",
          "plot_bgcolor": "white",
          "polar": {
           "angularaxis": {
            "gridcolor": "#EBF0F8",
            "linecolor": "#EBF0F8",
            "ticks": ""
           },
           "bgcolor": "white",
           "radialaxis": {
            "gridcolor": "#EBF0F8",
            "linecolor": "#EBF0F8",
            "ticks": ""
           }
          },
          "scene": {
           "xaxis": {
            "backgroundcolor": "white",
            "gridcolor": "#DFE8F3",
            "gridwidth": 2,
            "linecolor": "#EBF0F8",
            "showbackground": true,
            "ticks": "",
            "zerolinecolor": "#EBF0F8"
           },
           "yaxis": {
            "backgroundcolor": "white",
            "gridcolor": "#DFE8F3",
            "gridwidth": 2,
            "linecolor": "#EBF0F8",
            "showbackground": true,
            "ticks": "",
            "zerolinecolor": "#EBF0F8"
           },
           "zaxis": {
            "backgroundcolor": "white",
            "gridcolor": "#DFE8F3",
            "gridwidth": 2,
            "linecolor": "#EBF0F8",
            "showbackground": true,
            "ticks": "",
            "zerolinecolor": "#EBF0F8"
           }
          },
          "shapedefaults": {
           "line": {
            "color": "#2a3f5f"
           }
          },
          "ternary": {
           "aaxis": {
            "gridcolor": "#DFE8F3",
            "linecolor": "#A2B1C6",
            "ticks": ""
           },
           "baxis": {
            "gridcolor": "#DFE8F3",
            "linecolor": "#A2B1C6",
            "ticks": ""
           },
           "bgcolor": "white",
           "caxis": {
            "gridcolor": "#DFE8F3",
            "linecolor": "#A2B1C6",
            "ticks": ""
           }
          },
          "title": {
           "x": 0.05
          },
          "xaxis": {
           "automargin": true,
           "gridcolor": "#EBF0F8",
           "linecolor": "#EBF0F8",
           "ticks": "",
           "title": {
            "standoff": 15
           },
           "zerolinecolor": "#EBF0F8",
           "zerolinewidth": 2
          },
          "yaxis": {
           "automargin": true,
           "gridcolor": "#EBF0F8",
           "linecolor": "#EBF0F8",
           "ticks": "",
           "title": {
            "standoff": 15
           },
           "zerolinecolor": "#EBF0F8",
           "zerolinewidth": 2
          }
         }
        }
       },
       "_py2js_addTraces": {},
       "_py2js_animate": {},
       "_py2js_deleteTraces": {},
       "_py2js_moveTraces": {},
       "_py2js_removeLayoutProps": {},
       "_py2js_removeTraceProps": {},
       "_py2js_restyle": {},
       "_view_count": 1
      }
     },
     "5c8301e0d2bd4914b21ac2cd38e54ee2": {
      "model_module": "@jupyter-widgets/controls",
      "model_module_version": "1.5.0",
      "model_name": "FloatSliderModel",
      "state": {
       "description": "StdDev",
       "layout": "IPY_MODEL_8bae4f8270fc47f990ebbac1382867a8",
       "max": 4,
       "min": 1,
       "step": 0.1,
       "style": "IPY_MODEL_1923b3f75b864e06b83db134b6a7ea56",
       "value": 2
      }
     },
     "61bfcb5094594ad2ae3db0e750ffde03": {
      "model_module": "@jupyter-widgets/controls",
      "model_module_version": "1.5.0",
      "model_name": "ProgressStyleModel",
      "state": {
       "description_width": ""
      }
     },
     "658da9f0a90b4821a2604d089a801ff6": {
      "model_module": "@jupyter-widgets/controls",
      "model_module_version": "1.5.0",
      "model_name": "HBoxModel",
      "state": {
       "children": [
        "IPY_MODEL_c443f0795fda420999054a63459d0b20",
        "IPY_MODEL_d1b36b6a51154ff3a793e756c0aa0e1e",
        "IPY_MODEL_f02eb7598e4347e7ab709e90494d4404"
       ],
       "layout": "IPY_MODEL_0b0dba492fa44062b87a9a9f080d3bce"
      }
     },
     "6dc08bcacdef4b68974dd9f4448e43ac": {
      "model_module": "@jupyter-widgets/controls",
      "model_module_version": "1.5.0",
      "model_name": "VBoxModel",
      "state": {
       "children": [
        "IPY_MODEL_265b87e3feee4792bfb71ea8aac1395e",
        "IPY_MODEL_514fbb6d589843c28cc6e2339cce4b21"
       ],
       "layout": "IPY_MODEL_198627b7d1264fc78c41cd4b4e3fdd3a"
      }
     },
     "6ddd101fc98a42ba8dd939041fec7ea9": {
      "model_module": "@jupyter-widgets/controls",
      "model_module_version": "1.5.0",
      "model_name": "IntSliderModel",
      "state": {
       "description": "Period",
       "layout": "IPY_MODEL_11982fe61cf34332a1ea1fa0fa218441",
       "max": 50000,
       "min": 1000,
       "style": "IPY_MODEL_75a1ea788ae64077a5a9361b4257a42d",
       "value": 25500
      }
     },
     "74db110d6f7442f5bd374a0b6e19a916": {
      "model_module": "@jupyter-widgets/controls",
      "model_module_version": "1.5.0",
      "model_name": "DescriptionStyleModel",
      "state": {
       "description_width": ""
      }
     },
     "75a1ea788ae64077a5a9361b4257a42d": {
      "model_module": "@jupyter-widgets/controls",
      "model_module_version": "1.5.0",
      "model_name": "SliderStyleModel",
      "state": {
       "description_width": ""
      }
     },
     "86c81f77af7c458e978f788ac3d08c75": {
      "model_module": "@jupyter-widgets/base",
      "model_module_version": "1.2.0",
      "model_name": "LayoutModel",
      "state": {}
     },
     "8bae4f8270fc47f990ebbac1382867a8": {
      "model_module": "@jupyter-widgets/base",
      "model_module_version": "1.2.0",
      "model_name": "LayoutModel",
      "state": {}
     },
     "a530c40aad1d4fabae5c5312054fe779": {
      "model_module": "@jupyter-widgets/base",
      "model_module_version": "1.2.0",
      "model_name": "LayoutModel",
      "state": {}
     },
     "abced8faa67a4daca35b67de8a65a568": {
      "model_module": "@jupyter-widgets/base",
      "model_module_version": "1.2.0",
      "model_name": "LayoutModel",
      "state": {}
     },
     "ae9e2c39d6d8428f8d1a5072c14430da": {
      "buffers": [
       {
        "data": "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",
        "encoding": "base64",
        "path": [
         "_data",
         0,
         "y",
         "value"
        ]
       },
       {
        "data": "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",
        "encoding": "base64",
        "path": [
         "_data",
         1,
         "y",
         "value"
        ]
       },
       {
        "data": "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",
        "encoding": "base64",
        "path": [
         "_data",
         2,
         "y",
         "value"
        ]
       },
       {
        "data": "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",
        "encoding": "base64",
        "path": [
         "_data",
         3,
         "y",
         "value"
        ]
       },
       {
        "data": "mjMRKR9eIkDoUJdfMq8gQNtKD1CtYytA6b8LkLYzKEAY5qUMRpEsQPUkCLNQsyBAosZGPnzVIkCgnCy7PLHcPyLfdLoXIRdAxW69ajExK8B0hMwuqagZwAAAAAAAAPh/qWOJJgqxMMCKJwT7gagRwKIo3Zq0ARHAgJWmC7aE3T+AB9oxiBX9P4qeC0Pl4fA/bH8xNdCIF8AidA9o6lIRwJe7XUYZXSLAAAAAAAAA+H94KbQyNXw7wAWXnInDqjjAtoCzktFpNcBM0Plo0yY+wEt4blkDdjvAP22xHq3WPcA=",
        "encoding": "base64",
        "path": [
         "_data",
         4,
         "y",
         "value"
        ]
       },
       {
        "data": "TeQkMryIpEDP0Th+WnykQFqrz+DNdKRAc9tIUc9mpEBfwOjrN0qkQD6+snIgFaRAO23V2groo0ABuIiI8t6jQGPaYwcv46NAFtQTgTXSo0BZKfNiGe2jQN4vyPU67KNAxsPdU2LVo0D7wQQLvYikQOVgGJJafKRAgdoX7s10pED7ie+5z2akQN68czU4SqRA6jQqpyAVpED7rZoKC+ijQJay0ZDy3qNAWvbDHC/jo0C5IP+VNdKjQIu2LLMZ7aNA6HRf/Trso0Ac5UxSYtWjQA==",
        "encoding": "base64",
        "path": [
         "_data",
         5,
         "y",
         "value"
        ]
       },
       {
        "data": "1jlN6l+gpEB/AeWlT4ykQL5HmVdpfqRALy3S4CtupEBgN9P3FlqkQAUiWSSkKKRAqaZBQLUFpEAhWcuud+2jQObRJHXA5qNA+j5wlGTao0DBXeA6lM2jQJ1EjQbY96NAVFG/GNnfo0AwdOdzT4ykQCIE3FhpfqRAilBLsStupEDf+yrIFlqkQJ9smZqjKKRA0kWU2rQFpEBp9oGJd+2jQBzLxVXA5qNA2qljmmTao0BOHahElM2jQCWg7IfX96NA3aMMBdnfo0AeD1XatNWjQA==",
        "encoding": "base64",
        "path": [
         "_data",
         6,
         "y",
         "value"
        ]
       }
      ],
      "model_module": "jupyterlab-plotly",
      "model_module_version": "^5.6.0",
      "model_name": "FigureModel",
      "state": {
       "_config": {
        "plotlyServerURL": "https://plot.ly"
       },
       "_data": [
        {
         "line": {
          "color": "gray"
         },
         "name": "<b style=\"color:sandybrown\">[R]</b> Tick <i style=\"color:#fc9944\">~908</i>",
         "opacity": 0.25,
         "type": "scattergl",
         "uid": "a109a90d-d6d7-4406-9dea-1826f48bfc45",
         "x": [
          0,
          168,
          1410,
          2511,
          3480,
          3662,
          4891,
          6361,
          6693,
          7961,
          8206,
          9363,
          10769,
          11273,
          12366,
          13623,
          14029,
          14769,
          15602,
          16873,
          18083,
          18787,
          19548,
          20577,
          21315,
          21862,
          22733,
          23639,
          25396,
          25916,
          26595,
          28181,
          28615,
          29223,
          30406,
          30987,
          32162,
          33515,
          34075,
          35194,
          35961,
          36851,
          37618,
          38418,
          39559,
          40844,
          41793,
          42518,
          43047,
          44113,
          44678,
          45457,
          47202,
          47447,
          48446,
          49217,
          50733,
          51288,
          51821,
          52898,
          53639,
          54631,
          55610,
          57128,
          57621,
          59014,
          59841,
          60691,
          61485,
          62649,
          63217,
          63747,
          65281,
          66045,
          66505,
          67868,
          68246,
          69791,
          70819,
          71012,
          72722,
          73389,
          73737,
          75457,
          76193,
          76371,
          77649,
          78423,
          79709,
          80662,
          81669,
          82095,
          83320,
          83703,
          85379,
          85841,
          86658,
          87988,
          88753,
          89213,
          90621,
          91439,
          92448,
          92761,
          94078,
          94664,
          96076,
          96805,
          97512,
          98574,
          99452,
          100530,
          101814,
          102435,
          103060,
          103989,
          104992,
          106076,
          106368,
          107576,
          108195,
          109407,
          110328,
          111359,
          112250,
          112933,
          114327,
          115059,
          116057,
          117129,
          117889,
          118707,
          119967,
          120597,
          121349,
          121824,
          123074,
          124474,
          124746,
          125996,
          126639,
          127690,
          128992,
          129375,
          130905,
          131646,
          132525,
          133235,
          134094,
          135006,
          135617,
          136432,
          137508,
          138325,
          139562,
          140286,
          141823,
          142618,
          143014,
          143757,
          144560,
          145634,
          146373,
          147751,
          148630,
          149303,
          150375,
          150996,
          152674,
          153321,
          154533,
          154987,
          155618,
          157044,
          157319,
          158417,
          159133,
          160255,
          161386,
          162628,
          162734,
          164361,
          164879,
          165646,
          166740,
          167851,
          168914,
          169916,
          170693,
          171112,
          172682,
          173141,
          174131,
          175327,
          175840,
          176998,
          177533,
          178370,
          179288,
          180141,
          181069,
          182493,
          183276,
          184345,
          185227,
          186069,
          186819,
          187334,
          188801,
          189989,
          190645,
          191484,
          192204,
          192891,
          194490,
          195427,
          195631,
          196833,
          197905,
          198253,
          199466,
          200561,
          201375,
          201940,
          203028,
          204132,
          204774,
          205683,
          206794,
          207468,
          208497,
          209686,
          210484,
          211164,
          211826,
          212970,
          214083,
          215007,
          215468,
          217280,
          218189,
          218882,
          219874,
          220892,
          221329,
          222101,
          223264,
          223645,
          224640,
          225633,
          226875,
          227971,
          228326,
          229634,
          230013,
          231112,
          231877,
          232736,
          233914,
          234944,
          235823,
          236548,
          237966,
          238287,
          239626,
          240223,
          241176,
          241870,
          243340,
          244112,
          244754,
          245698,
          247086,
          247294,
          248990,
          249888,
          250842,
          251571,
          251829,
          252744,
          254554,
          254565,
          256253,
          256373,
          257391,
          258240,
          259433,
          260684,
          261078,
          261828,
          263124,
          263725,
          265058,
          266087,
          266805,
          267308,
          268440,
          269292,
          270547,
          271528,
          272014,
          273095,
          273724,
          274564,
          275681,
          277234,
          277637,
          278480,
          279685,
          280657,
          281807,
          282250,
          283182,
          283829,
          284816,
          286103,
          286862,
          287452,
          288556,
          289923,
          290443,
          290964,
          292467,
          293028,
          294053,
          294982,
          295600,
          296722,
          297563,
          298275,
          299591,
          300636,
          300920,
          302293,
          303422,
          304555,
          305272,
          306082,
          306515,
          308099,
          309080,
          309567,
          310550,
          311333,
          311896,
          312747,
          314010,
          314794,
          315813,
          317209,
          318162,
          318516,
          319113,
          320920,
          321781,
          322649,
          323117,
          323818,
          324907,
          325531,
          326382,
          327720,
          328706,
          329180,
          330454,
          331631,
          332308,
          333606,
          334354,
          335464,
          335748,
          337002,
          337731,
          338859,
          339526,
          340155,
          340959,
          341861,
          343391,
          344556,
          345197,
          346276,
          346554,
          347665,
          348432,
          349244,
          350715,
          351228,
          351960,
          352850,
          353690,
          354695,
          356102,
          356795,
          357446,
          359103,
          359396,
          360030,
          361811,
          362679,
          363639,
          363970,
          364962,
          366069,
          367201,
          367770,
          368322,
          369202,
          370283,
          371530,
          372608,
          372995,
          373717,
          375454,
          376341,
          377283,
          378139,
          378887,
          379773,
          380392,
          381446,
          382524,
          383647,
          383755,
          385252,
          386139,
          386731,
          387287,
          388793,
          389291,
          390116,
          391332,
          392475,
          393424,
          393962,
          394586,
          396255,
          396987,
          397864,
          398735,
          399832,
          400176,
          401447,
          402692,
          403160,
          403720,
          404608,
          405712,
          407287,
          407674,
          408751,
          409429,
          410440,
          411389,
          411833,
          413115,
          414523,
          415141,
          416378,
          417106,
          417494,
          418203,
          419515,
          420359,
          421077,
          422593,
          423307,
          424122,
          424890,
          425913,
          426809,
          427299,
          428290,
          429770,
          430202,
          431419,
          431944,
          432770,
          433837,
          435077,
          435805,
          436479,
          437625,
          438432,
          439344,
          440203,
          441596,
          442553,
          443039,
          443772,
          445187,
          446222,
          446608,
          448073,
          449106,
          449962,
          450442,
          451053,
          452734,
          453437,
          453916,
          454563,
          455685,
          456387,
          458108,
          458684,
          459612,
          460228,
          461224,
          461924,
          462999,
          464030,
          464568,
          465473,
          467289,
          468009,
          468258,
          469152,
          470819,
          471551,
          471977,
          473071,
          474416,
          474779,
          476138,
          477072,
          477818,
          478424,
          479170,
          480018,
          481129,
          482290,
          482886,
          484463,
          484736,
          485626,
          486429,
          487523,
          488965,
          489512,
          490152,
          490958,
          492024,
          493653,
          493719,
          494642,
          495473,
          496979,
          497813,
          499070,
          499218,
          500192,
          501608,
          502740,
          503612,
          503966,
          505304,
          506213,
          507072,
          507644,
          508910,
          509429,
          510566,
          511216,
          512422,
          512922,
          514486,
          515352,
          516176,
          516419,
          517612,
          518935,
          519965,
          520781,
          521572,
          522397,
          523295,
          523948,
          524803,
          526178,
          526383,
          527820,
          528492,
          529924,
          530927,
          531391,
          531957,
          532900,
          534146,
          535116,
          535547,
          537200,
          537294,
          538625,
          539437,
          540152,
          541117,
          541911,
          543169,
          544093,
          544796,
          545856,
          546498,
          547575,
          548450,
          549397,
          550081,
          550970,
          551838,
          553470,
          554379,
          554585,
          556188,
          557049,
          557539,
          558498,
          559369,
          560641,
          561049,
          561882,
          563405,
          564509,
          565190,
          565800,
          566917,
          568202,
          568473,
          569714,
          570597,
          571048,
          572349,
          573178,
          574478,
          575445,
          575706,
          576718,
          577314,
          578370,
          579251,
          580354,
          581115,
          582253,
          582852,
          584495,
          584820,
          585858,
          587064,
          587740,
          588997,
          589470,
          590624,
          591305,
          591854,
          593249,
          594327,
          594768,
          596003,
          597086,
          597347,
          598630,
          599319,
          600563,
          601598,
          602574,
          602870,
          604566,
          605209,
          605776,
          607177,
          607395,
          608609,
          609927,
          610310,
          611191,
          612558,
          613624,
          614087,
          615340,
          615616,
          616788,
          617605,
          618524,
          619428,
          620406,
          620947,
          621841,
          623356,
          623996,
          624720,
          625764,
          626673,
          627811,
          628442,
          629798,
          630559,
          631186,
          632374,
          633083,
          634005,
          634583,
          635852,
          637156,
          637712,
          639017,
          639758,
          640736,
          641378,
          642534,
          643659,
          644509,
          645260,
          646221,
          647118,
          648152,
          648544,
          649892,
          650879,
          651390,
          652194,
          653347,
          654164,
          655083,
          655672,
          656470,
          657953,
          658452,
          659505,
          660245,
          661408,
          662291,
          663088,
          664563,
          664875,
          665873,
          666708,
          668086,
          669043,
          669668,
          670905,
          671574,
          671843,
          673185,
          673938,
          674820,
          676382,
          676877,
          677301,
          678792,
          679386,
          680078,
          681241,
          682188,
          683160,
          684415,
          684739,
          686255,
          687023,
          687819,
          688957,
          689947,
          690927,
          691628,
          692526,
          693013,
          693830,
          694972,
          696062,
          697082,
          697902,
          699104,
          699806,
          700059,
          701287,
          701977,
          702795,
          704108,
          704646,
          705540,
          706540,
          707623,
          708891,
          709531,
          710769,
          711079,
          712511,
          713328,
          713927,
          714746,
          716051,
          716533,
          717342,
          718625,
          720004,
          720316,
          721346,
          722241,
          723586,
          724293,
          725407,
          725975,
          726474,
          727669,
          728213,
          729374,
          730267,
          731518,
          732011,
          733562,
          733731,
          734746,
          736024,
          736425,
          737877,
          738532,
          739585,
          740348,
          741559,
          742206,
          743475,
          744380,
          744840,
          745704,
          746416,
          747659,
          748841,
          749118,
          750591,
          751462,
          752094,
          753042,
          753664,
          754589,
          755756,
          756391,
          757484,
          758331,
          760025,
          760420,
          761250,
          762385,
          763300,
          764194,
          764573,
          765692,
          766921,
          768176,
          768685,
          769136,
          770244,
          771565,
          772145,
          772825,
          773938,
          774952,
          776304,
          776757,
          777840,
          778325,
          779860,
          780402,
          781546,
          782393,
          783391,
          784272,
          784743,
          785525,
          786727,
          787794,
          789017,
          790028,
          790786,
          791332,
          792208,
          793262,
          793667,
          795218,
          795702,
          796567,
          797691,
          798399,
          799689,
          800469,
          801260,
          802667,
          803169,
          804338,
          805190,
          805865,
          806598,
          807365,
          808345,
          809130,
          810666,
          811018,
          811848,
          813537,
          813683,
          814577,
          816389,
          817177,
          817613,
          818380,
          819282,
          820541,
          820942,
          822608,
          823003,
          823967,
          825311,
          826260,
          826925,
          828097,
          828351,
          829639,
          830470,
          831349,
          832746,
          833218,
          834351,
          834734,
          836253,
          836883,
          838146,
          838788,
          839572,
          840859,
          841789,
          842276,
          843379,
          843667,
          844752,
          845844,
          846668,
          847605,
          848212,
          849579,
          850511,
          851774,
          852171,
          853016,
          853862,
          854914,
          856352,
          856835,
          857501,
          858929,
          859197,
          860126,
          861043,
          861850,
          862886,
          864456,
          864996,
          866076,
          866471,
          867405,
          868566,
          869882,
          870405,
          870974,
          871944,
          873477,
          873762,
          874665,
          876051,
          877014,
          877961,
          878292,
          879549,
          880061,
          881401,
          882222,
          883066,
          884573,
          885486,
          885918,
          886676,
          887973,
          888356,
          889555,
          890061,
          890992,
          892565,
          893668,
          894325,
          895326,
          895635,
          897097,
          897919,
          898544,
          899904,
          900926,
          901587,
          902338,
          903041,
          904034,
          905477,
          906163,
          906883,
          907306
         ],
         "y": {
          "dtype": "float64",
          "shape": [
           1000
          ]
         }
        },
        {
         "line": {
          "color": "blue"
         },
         "name": "<b style=\"color:sandybrown\">[R]</b> Center <i style=\"color:#fc9944\">~908</i>",
         "opacity": 0.5,
         "type": "scattergl",
         "uid": "3e4cfd96-2384-4615-b2be-91223a45e471",
         "x": [
          0,
          909,
          1818,
          2727,
          3636,
          4545,
          5454,
          6363,
          7272,
          8182,
          9091,
          10000,
          10909,
          11818,
          12727,
          13636,
          14545,
          15455,
          16364,
          17273,
          18182,
          19091,
          20000,
          20909,
          21818,
          22728,
          23637,
          24546,
          25455,
          26106,
          27194,
          27981,
          28684,
          29396,
          30405,
          30911,
          32392,
          33310,
          33714,
          34654,
          35796,
          36723,
          37853,
          39046,
          39977,
          40443,
          41409,
          42714,
          43225,
          43966,
          45278,
          46364,
          46721,
          47514,
          48333,
          49148,
          50053,
          51148,
          52548,
          53162,
          54263,
          54892,
          55724,
          56586,
          57849,
          58780,
          59108,
          60388,
          61462,
          62478,
          63503,
          64483,
          65254,
          65892,
          67271,
          68022,
          68899,
          69854,
          70643,
          71350,
          72541,
          73181,
          74547,
          75129,
          75956,
          76713,
          78016,
          78363,
          79385,
          80911,
          81387,
          82665,
          83209,
          83640,
          85202,
          85522,
          86599,
          87276,
          88304,
          90003,
          90311,
          91165,
          91928,
          93209,
          93791,
          94653,
          95798,
          96851,
          98041,
          98681,
          100003,
          100672,
          101474,
          102084,
          102876,
          104391,
          104883,
          106167,
          106793,
          107842,
          109094,
          110003,
          110202,
          111351,
          112519,
          113639,
          114022,
          115458,
          115811,
          116665,
          117428,
          119047,
          119287,
          120160,
          121300,
          122556,
          123423,
          124453,
          125459,
          126188,
          126990,
          127278,
          128914,
          129281,
          130720,
          131083,
          132536,
          133342,
          134550,
          134590,
          135514,
          137127,
          137670,
          139007,
          139581,
          140427,
          141688,
          141930,
          142877,
          144096,
          144811,
          146046,
          146907,
          147396,
          149090,
          149663,
          150237,
          151688,
          152490,
          152733,
          153693,
          155212,
          156070,
          156786,
          157680,
          159080,
          159930,
          160347,
          161275,
          162726,
          163033,
          164527,
          164904,
          165624,
          167107,
          167761,
          168982,
          169271,
          170038,
          171206,
          172418,
          173269,
          173873,
          175140,
          175481,
          176701,
          177443,
          178895,
          179593,
          180773,
          181420,
          181839,
          183059,
          184047,
          185229,
          185794,
          187272,
          187684,
          188875,
          189979,
          190496,
          191103,
          192719,
          192981,
          194302,
          194651,
          195781,
          196698,
          197568,
          198402,
          199373,
          200873,
          201357,
          202632,
          203038,
          203660,
          205096,
          206273,
          206400,
          207297,
          208810,
          209338,
          210613,
          211461,
          212406,
          213184,
          214088,
          214910,
          215764,
          217028,
          217814,
          218205,
          219779,
          220009,
          221282,
          222081,
          222992,
          223966,
          225148,
          225771,
          226743,
          227854,
          228436,
          230008,
          230332,
          231782,
          231864,
          232748,
          234464,
          234885,
          235463,
          237095,
          237470,
          238842,
          239122,
          240289,
          241623,
          242552,
          243314,
          244177,
          245268,
          246235,
          246932,
          247580,
          248695,
          249481,
          250791,
          251036,
          252331,
          253474,
          254531,
          255277,
          255837,
          257197,
          257555,
          259055,
          259460,
          260918,
          261412,
          261923,
          263363,
          264382,
          265234,
          266373,
          267123,
          267880,
          268753,
          269643,
          270789,
          271386,
          272356,
          273080,
          274189,
          274747,
          275877,
          276864,
          277970,
          278445,
          279528,
          280544,
          281711,
          282136,
          283052,
          283879,
          284960,
          286297,
          286807,
          287352,
          288198,
          289535,
          290487,
          291729,
          292438,
          293583,
          294348,
          294901,
          295815,
          296478,
          297772,
          298946,
          299968,
          300638,
          301082,
          301994,
          303581,
          304377,
          305210,
          306011,
          307004,
          308123,
          308866,
          309943,
          310448,
          311797,
          312738,
          313114,
          313909,
          314804,
          316252,
          316924,
          317934,
          318529,
          319183,
          320744,
          321829,
          322273,
          323611,
          324168,
          325187,
          326243,
          327139,
          328037,
          328810,
          329587,
          330634,
          331692,
          332152,
          333365,
          334233,
          335079,
          336164,
          336906,
          338178,
          338804,
          339980,
          340449,
          341416,
          342457,
          343648,
          344028,
          344725,
          345979,
          346487,
          347487,
          348349,
          349216,
          350435,
          351830,
          352549,
          353542,
          354310,
          355159,
          356035,
          357192,
          357609,
          359030,
          359772,
          360693,
          361658,
          362735,
          363514,
          364069,
          365466,
          365867,
          366861,
          368157,
          369070,
          369869,
          370139,
          371261,
          371836,
          373570,
          373693,
          375317,
          375813,
          376511,
          377869,
          378704,
          379105,
          380451,
          381320,
          382297,
          383132,
          383676,
          385174,
          385769,
          386412,
          387465,
          388240,
          389774,
          390580,
          391264,
          391910,
          393526,
          393926,
          394914,
          395721,
          396763,
          397500,
          398473,
          399455,
          400240,
          401313,
          402416,
          403647,
          404495,
          405261,
          406075,
          406846,
          407543,
          408698,
          409892,
          410610,
          411642,
          412184,
          413368,
          414274,
          414618,
          416101,
          416418,
          417410,
          418691,
          419853,
          420652,
          421715,
          422454,
          423000,
          423838,
          425183,
          425789,
          426648,
          427557,
          429080,
          430008,
          430281,
          431290,
          432412,
          433225,
          434197,
          435392,
          435758,
          436930,
          437633,
          438428,
          439223,
          440477,
          441492,
          442038,
          443025,
          444170,
          445024,
          445938,
          446728,
          447363,
          448327,
          449497,
          450655,
          451657,
          452503,
          453543,
          454489,
          455218,
          456213,
          456385,
          457847,
          459079,
          459624,
          460246,
          461063,
          461877,
          463650,
          464237,
          465328,
          466083,
          467066,
          467543,
          468678,
          469440,
          470051,
          471751,
          472381,
          472982,
          473845,
          475197,
          476143,
          477179,
          478158,
          478516,
          479259,
          480710,
          481743,
          482684,
          483453,
          484333,
          485414,
          485838,
          487096,
          488069,
          488762,
          489322,
          490471,
          490963,
          492494,
          493460,
          494155,
          494855,
          496082,
          496508,
          498110,
          498398,
          499336,
          500194,
          501079,
          502454,
          503221,
          504016,
          505336,
          506172,
          506782,
          507955,
          509109,
          509198,
          510069,
          511214,
          511854,
          512795,
          513935,
          515407,
          515933,
          517060,
          517610,
          518981,
          520018,
          520840,
          521582,
          522199,
          523606,
          524397,
          524718,
          526178,
          527092,
          527735,
          528551,
          529167,
          530033,
          531512,
          532587,
          533640,
          534344,
          534953,
          535773,
          536626,
          537742,
          538639,
          539963,
          540355,
          541614,
          542582,
          543121,
          544563,
          545398,
          545918,
          546435,
          547570,
          548704,
          549875,
          550912,
          551399,
          551973,
          553376,
          554565,
          555379,
          556378,
          556969,
          557485,
          558917,
          559604,
          560186,
          561608,
          561842,
          563242,
          564139,
          564806,
          565855,
          566630,
          567705,
          568940,
          569781,
          570929,
          571189,
          572747,
          573441,
          574541,
          575340,
          576149,
          577076,
          577913,
          579040,
          580020,
          580085,
          581837,
          581872,
          583094,
          584200,
          585475,
          586374,
          586806,
          587401,
          588468,
          589118,
          590436,
          591790,
          592206,
          593657,
          594372,
          594618,
          596355,
          596916,
          597840,
          598499,
          600021,
          600840,
          601649,
          602576,
          603635,
          604523,
          605409,
          605875,
          607278,
          608197,
          608711,
          609388,
          610429,
          611220,
          612271,
          613010,
          614567,
          614772,
          616339,
          616821,
          617706,
          618528,
          619523,
          620118,
          621840,
          622339,
          622750,
          624503,
          625461,
          626289,
          627295,
          627814,
          629005,
          629756,
          630686,
          631402,
          632574,
          632822,
          634222,
          635182,
          635966,
          636755,
          638140,
          639064,
          639944,
          640263,
          641773,
          642171,
          643118,
          643807,
          645220,
          646386,
          646639,
          647308,
          648208,
          649582,
          650164,
          651840,
          652750,
          653314,
          654507,
          654605,
          656091,
          657294,
          657918,
          658763,
          659327,
          660495,
          661841,
          662162,
          663539,
          664243,
          665165,
          666256,
          667296,
          667419,
          668602,
          669277,
          670538,
          671225,
          672298,
          673513,
          673703,
          675366,
          676314,
          676614,
          678054,
          678975,
          679742,
          680702,
          681506,
          682475,
          683052,
          684569,
          685478,
          686383,
          687297,
          687713,
          688504,
          689737,
          690866,
          691653,
          692109,
          693341,
          693891,
          694733,
          696333,
          697272,
          697451,
          698583,
          699400,
          700113,
          701785,
          702487,
          703039,
          704190,
          705303,
          706223,
          706846,
          707478,
          708619,
          709998,
          710858,
          711032,
          712752,
          713213,
          714004,
          715452,
          715648,
          717005,
          717962,
          718841,
          719117,
          720737,
          721623,
          722734,
          722864,
          723921,
          725280,
          725886,
          727019,
          728103,
          728748,
          729957,
          730298,
          731533,
          732718,
          733305,
          734051,
          734706,
          736164,
          736554,
          737575,
          738761,
          739180,
          740855,
          741431,
          742185,
          743096,
          744571,
          745086,
          745570,
          746419,
          747600,
          748949,
          749672,
          750416,
          751261,
          751845,
          753277,
          754319,
          755077,
          756143,
          757165,
          757576,
          758635,
          759626,
          760536,
          761466,
          762593,
          763207,
          764304,
          765384,
          766167,
          767003,
          767729,
          768642,
          770004,
          770544,
          771569,
          772422,
          773316,
          774568,
          775290,
          775955,
          776655,
          778036,
          778828,
          779391,
          780492,
          781565,
          782180,
          783258,
          783952,
          785126,
          786192,
          786998,
          787820,
          788210,
          789755,
          790511,
          791136,
          792325,
          793292,
          794179,
          795103,
          795655,
          796392,
          798022,
          798226,
          799434,
          800171,
          801290,
          801987,
          803052,
          804540,
          804885,
          806312,
          807065,
          807659,
          808970,
          809587,
          810445,
          811777,
          812095,
          813254,
          813699,
          814950,
          815776,
          816809,
          817834,
          818411,
          819168,
          820234,
          821687,
          822231,
          823015,
          823774,
          824934,
          826036,
          826583,
          827852,
          828821,
          829767,
          830880,
          831360,
          832631,
          833601,
          834501,
          835449,
          836105,
          837294,
          837593,
          838788,
          839379,
          840190,
          841487,
          842729,
          843359,
          844067,
          845466,
          845787,
          847187,
          848080,
          848675,
          849467,
          850385,
          851481,
          852582,
          853130,
          853767,
          855369,
          856070,
          857253,
          858140,
          858952,
          859202,
          860128,
          861172,
          862750,
          863488,
          864496,
          864864,
          865720,
          866786,
          867641,
          868566,
          869809,
          870510,
          871139,
          872498,
          873546,
          873888,
          874811,
          876314,
          877236,
          878079,
          878892,
          879729,
          880370,
          881462,
          881989,
          882881,
          884576,
          884999,
          885919,
          887184,
          888213,
          888693,
          889956,
          890888,
          891088,
          892085,
          893226,
          893794,
          894873,
          896029,
          896472,
          897849,
          899062,
          899950,
          900592,
          901380,
          901884,
          902851,
          904032,
          905378,
          905781,
          906527,
          907306
         ],
         "y": {
          "dtype": "float64",
          "shape": [
           1000
          ]
         }
        },
        {
         "line": {
          "color": "red",
          "dash": "dot"
         },
         "name": "<b style=\"color:sandybrown\">[R]</b> qA <i style=\"color:#fc9944\">~908</i>",
         "opacity": 0.5,
         "type": "scattergl",
         "uid": "8db8976c-4eeb-4d01-bb53-a60ae03cc2d2",
         "x": [
          0,
          909,
          1818,
          2727,
          3636,
          4545,
          5454,
          6363,
          7272,
          8182,
          9091,
          10000,
          10909,
          11818,
          12727,
          13636,
          14545,
          15455,
          16364,
          17273,
          18182,
          19091,
          20000,
          20909,
          21818,
          22728,
          23637,
          24546,
          25455,
          26106,
          26743,
          27981,
          28685,
          29598,
          30400,
          31086,
          32155,
          33572,
          34368,
          35454,
          35796,
          37274,
          37853,
          38836,
          39977,
          40887,
          41409,
          42548,
          43196,
          43966,
          44793,
          45517,
          47073,
          47844,
          48682,
          50001,
          50673,
          51184,
          52368,
          53002,
          54263,
          55098,
          55997,
          57031,
          57923,
          58245,
          59896,
          60153,
          61143,
          62445,
          63503,
          64483,
          65254,
          65892,
          67114,
          67276,
          68899,
          69854,
          70611,
          71124,
          72541,
          73181,
          74547,
          75128,
          75849,
          76715,
          78017,
          78363,
          79168,
          80911,
          81387,
          81921,
          83209,
          83640,
          85202,
          86242,
          87263,
          87931,
          88304,
          90003,
          90311,
          91808,
          92076,
          93209,
          93791,
          95457,
          96143,
          96653,
          98041,
          98681,
          100003,
          100672,
          101692,
          102084,
          103376,
          104549,
          104883,
          106167,
          106793,
          107842,
          108392,
          109959,
          110202,
          111769,
          112519,
          112902,
          114549,
          115458,
          115811,
          116665,
          117428,
          118819,
          119287,
          120035,
          121300,
          122351,
          122842,
          124208,
          125436,
          126188,
          127197,
          127956,
          129043,
          129814,
          130562,
          131322,
          132179,
          133311,
          134550,
          134591,
          135754,
          137127,
          137671,
          138581,
          139911,
          140427,
          141688,
          141930,
          142877,
          144361,
          145176,
          146046,
          146636,
          148187,
          148535,
          149232,
          150225,
          151688,
          152684,
          153525,
          154237,
          155169,
          156070,
          156758,
          157680,
          158913,
          159287,
          160135,
          161275,
          161890,
          163033,
          164154,
          165069,
          166315,
          167212,
          167429,
          168748,
          169271,
          170038,
          170916,
          172201,
          173269,
          173873,
          175403,
          175961,
          176608,
          177280,
          178565,
          179865,
          180756,
          181797,
          182566,
          183311,
          184418,
          184985,
          185774,
          186912,
          187335,
          188888,
          189979,
          190483,
          191423,
          192029,
          192981,
          194302,
          194651,
          196107,
          196698,
          197568,
          198987,
          199873,
          200903,
          201825,
          202411,
          202735,
          204299,
          205346,
          206020,
          207238,
          207385,
          208891,
          209338,
          210613,
          211457,
          212406,
          213482,
          214426,
          214956,
          215762,
          217075,
          217814,
          218917,
          219889,
          220738,
          221161,
          221867,
          222746,
          224450,
          225109,
          226234,
          226743,
          228113,
          228436,
          229831,
          230055,
          230966,
          231864,
          233405,
          234464,
          235035,
          236117,
          237090,
          237470,
          239055,
          239946,
          240867,
          241819,
          242578,
          243314,
          244396,
          245268,
          245464,
          247158,
          247892,
          248695,
          249860,
          250791,
          251364,
          252331,
          253474,
          254088,
          255277,
          255837,
          257197,
          257555,
          258381,
          259883,
          260918,
          261296,
          262424,
          263363,
          264382,
          264661,
          266108,
          266374,
          267320,
          268712,
          269645,
          270789,
          271327,
          272408,
          273080,
          274189,
          274669,
          275877,
          276950,
          277973,
          279047,
          279528,
          280541,
          281507,
          282701,
          283052,
          284443,
          285118,
          285741,
          286723,
          287920,
          288248,
          289564,
          290183,
          291216,
          292057,
          293583,
          294137,
          294887,
          295815,
          296945,
          298129,
          298836,
          299612,
          300779,
          301786,
          302559,
          303580,
          304377,
          305210,
          305894,
          306800,
          308192,
          308328,
          309943,
          310617,
          311797,
          312456,
          313130,
          314477,
          314804,
          316374,
          316614,
          317881,
          318529,
          319735,
          320816,
          321710,
          322443,
          323466,
          323996,
          325272,
          326374,
          327280,
          328019,
          328761,
          329587,
          330245,
          330946,
          332152,
          333090,
          333759,
          335016,
          335957,
          337088,
          337628,
          338630,
          339232,
          340645,
          341416,
          342568,
          343648,
          344369,
          345085,
          345979,
          346494,
          347936,
          348966,
          349726,
          350435,
          351721,
          352738,
          353153,
          354261,
          354872,
          355656,
          357268,
          357609,
          358817,
          359666,
          360207,
          361831,
          362319,
          363514,
          364558,
          365205,
          365600,
          366981,
          368159,
          369074,
          369869,
          370412,
          371261,
          371919,
          373281,
          373693,
          375317,
          376377,
          376761,
          377359,
          378936,
          379856,
          380162,
          381320,
          382275,
          383096,
          384261,
          385110,
          385769,
          386412,
          387360,
          389014,
          389774,
          390915,
          391264,
          392191,
          393598,
          394231,
          395168,
          395812,
          397011,
          397520,
          398993,
          399974,
          400269,
          401475,
          402738,
          402915,
          404495,
          405416,
          405773,
          406764,
          407362,
          408389,
          409430,
          410610,
          411642,
          412587,
          413259,
          414118,
          414695,
          416178,
          416749,
          417295,
          418217,
          419215,
          420652,
          421261,
          421959,
          422860,
          424514,
          425183,
          426101,
          426648,
          427871,
          429029,
          430008,
          430634,
          431556,
          432629,
          432780,
          434083,
          434838,
          435502,
          436716,
          438155,
          438980,
          439801,
          440587,
          441492,
          442425,
          443260,
          444170,
          445210,
          445785,
          446728,
          448197,
          448604,
          449955,
          450650,
          451657,
          452334,
          453370,
          454489,
          455038,
          456213,
          457288,
          457847,
          459079,
          459624,
          460925,
          461686,
          462087,
          463650,
          464237,
          464714,
          465859,
          467286,
          467543,
          468678,
          469217,
          470908,
          471409,
          472202,
          473446,
          473845,
          475197,
          475861,
          476584,
          478158,
          478870,
          479623,
          480710,
          481743,
          482682,
          483347,
          483838,
          484594,
          485840,
          486749,
          487739,
          488686,
          489718,
          490664,
          491420,
          492485,
          493460,
          494155,
          495340,
          496028,
          497290,
          497702,
          498912,
          499345,
          500697,
          501631,
          502740,
          503575,
          503756,
          505239,
          506171,
          506729,
          507955,
          508661,
          509198,
          510069,
          511046,
          511854,
          513633,
          514539,
          515195,
          515850,
          517061,
          517610,
          518599,
          519454,
          520847,
          521582,
          522199,
          523155,
          524248,
          524718,
          525938,
          526407,
          528069,
          528719,
          529929,
          530919,
          531345,
          532130,
          533048,
          533657,
          534748,
          536270,
          537259,
          537746,
          538944,
          539331,
          540355,
          541106,
          542614,
          543166,
          544283,
          544674,
          546139,
          546939,
          548134,
          548704,
          549897,
          550912,
          551382,
          551973,
          553604,
          554152,
          555379,
          556378,
          557292,
          558001,
          558905,
          559313,
          560225,
          561191,
          562367,
          563242,
          564193,
          564806,
          565855,
          567084,
          567463,
          568666,
          569771,
          570929,
          571183,
          572333,
          573096,
          574243,
          575166,
          575598,
          577080,
          577473,
          579040,
          579658,
          580085,
          581832,
          582033,
          583100,
          584498,
          585475,
          586373,
          587292,
          588066,
          588468,
          589514,
          590708,
          591788,
          592159,
          592922,
          593734,
          595117,
          596355,
          596916,
          597840,
          599001,
          599903,
          600840,
          601718,
          602576,
          602970,
          604496,
          605326,
          606382,
          607278,
          607652,
          608265,
          609388,
          610690,
          611548,
          612272,
          612880,
          614193,
          614772,
          615667,
          616739,
          617659,
          618264,
          619234,
          620619,
          621257,
          622416,
          623342,
          624130,
          624777,
          625557,
          627295,
          627819,
          628461,
          629132,
          630670,
          631837,
          632160,
          632861,
          633666,
          635182,
          635582,
          636682,
          637592,
          638205,
          639932,
          640263,
          641773,
          642213,
          643470,
          643877,
          644940,
          646352,
          646887,
          648013,
          648205,
          649200,
          650164,
          651821,
          652750,
          653314,
          654555,
          655003,
          655933,
          657296,
          657660,
          658210,
          659327,
          660289,
          661576,
          662417,
          663539,
          664243,
          665165,
          665480,
          667284,
          667419,
          668800,
          669377,
          670346,
          671140,
          671968,
          673513,
          673703,
          675366,
          676314,
          676670,
          678069,
          678352,
          679552,
          680704,
          681006,
          682475,
          683033,
          684329,
          685459,
          686383,
          687297,
          687713,
          688734,
          689776,
          690866,
          691625,
          692132,
          693284,
          693829,
          694834,
          695616,
          697005,
          697451,
          698311,
          699397,
          700302,
          701800,
          702047,
          702940,
          704054,
          705131,
          706107,
          706846,
          707596,
          708660,
          709531,
          710858,
          711835,
          712752,
          713213,
          714234,
          715452,
          715480,
          716390,
          717603,
          718841,
          719405,
          720345,
          721429,
          722683,
          722867,
          724371,
          724893,
          725666,
          727019,
          728207,
          728819,
          729883,
          730372,
          730946,
          731946,
          733305,
          734051,
          734706,
          735934,
          736554,
          737578,
          738622,
          739656,
          740241,
          741551,
          742727,
          743103,
          744571,
          745090,
          745906,
          747145,
          747817,
          748951,
          749315,
          750052,
          751725,
          752519,
          753277,
          753882,
          754690,
          756383,
          757033,
          757930,
          759098,
          759432,
          760337,
          761397,
          761857,
          762755,
          764304,
          764857,
          766143,
          766996,
          767989,
          768786,
          770004,
          770544,
          771388,
          772015,
          773149,
          774407,
          775340,
          776379,
          776793,
          777956,
          778828,
          779607,
          780750,
          781845,
          782654,
          783232,
          783928,
          785460,
          785982,
          786998,
          788131,
          788832,
          789823,
          790220,
          791199,
          792327,
          792924,
          793684,
          795131,
          795770,
          796814,
          798022,
          798226,
          799434,
          800304,
          801844,
          802699,
          803323,
          804540,
          805196,
          805484,
          807049,
          807681,
          808906,
          809541,
          810935,
          811482,
          812095,
          813497,
          814162,
          815479,
          815868,
          816787,
          817834,
          818411,
          819662,
          820069,
          821134,
          822231,
          823158,
          823774,
          825310,
          826036,
          827025,
          827487,
          828496,
          829755,
          830937,
          831847,
          832631,
          833101,
          834013,
          834933,
          835621,
          837294,
          838147,
          838788,
          839657,
          840655,
          841487,
          842734,
          843359,
          844371,
          845484,
          845787,
          846860,
          847707,
          848675,
          849761,
          850776,
          851550,
          852582,
          853296,
          853767,
          855475,
          856394,
          857253,
          858162,
          858738,
          859202,
          860126,
          861121,
          862750,
          863488,
          864080,
          864864,
          866173,
          867010,
          867641,
          868881,
          869809,
          870510,
          871143,
          872498,
          873546,
          874565,
          875445,
          875880,
          877182,
          877745,
          878892,
          879729,
          880836,
          881027,
          882067,
          883334,
          884193,
          884999,
          885919,
          887014,
          888213,
          888655,
          889276,
          890467,
          891088,
          892091,
          893668,
          893807,
          894873,
          895964,
          896472,
          898007,
          898423,
          899950,
          900592,
          901793,
          902397,
          902851,
          904302,
          905475,
          906316,
          906677,
          907306
         ],
         "y": {
          "dtype": "float64",
          "shape": [
           1000
          ]
         }
        },
        {
         "line": {
          "color": "green",
          "dash": "dot"
         },
         "name": "<b style=\"color:sandybrown\">[R]</b> qB <i style=\"color:#fc9944\">~908</i>",
         "opacity": 0.5,
         "type": "scattergl",
         "uid": "daa3fd25-4f33-42b3-b52d-56e8770dbc10",
         "x": [
          0,
          909,
          1818,
          2727,
          3636,
          4545,
          5454,
          6363,
          7272,
          8182,
          9091,
          10000,
          10909,
          11818,
          12727,
          13636,
          14545,
          15455,
          16364,
          17273,
          18182,
          19091,
          20000,
          20909,
          21818,
          22728,
          23637,
          24546,
          25455,
          26106,
          27194,
          27994,
          29089,
          29987,
          30674,
          31795,
          32392,
          33310,
          33714,
          35336,
          36362,
          37007,
          37853,
          39046,
          39977,
          40739,
          41742,
          42475,
          43383,
          44044,
          44627,
          45795,
          47165,
          47657,
          48491,
          49148,
          50849,
          51368,
          52145,
          53110,
          53640,
          54892,
          55724,
          56500,
          57820,
          58729,
          59109,
          60388,
          60915,
          62216,
          62991,
          64483,
          65254,
          66265,
          66840,
          67507,
          68899,
          69897,
          70540,
          71350,
          72541,
          73126,
          73639,
          75032,
          75464,
          76713,
          78013,
          78891,
          79910,
          80911,
          81387,
          82039,
          83209,
          84234,
          85024,
          85522,
          87052,
          87820,
          88665,
          90003,
          90311,
          91165,
          91822,
          93209,
          94309,
          94794,
          95946,
          96851,
          98041,
          98626,
          99095,
          100532,
          100964,
          101921,
          103313,
          104383,
          104619,
          106096,
          107252,
          107570,
          108318,
          109592,
          110013,
          111420,
          112118,
          112763,
          114020,
          115347,
          115811,
          116804,
          117428,
          119044,
          119970,
          120443,
          121381,
          122115,
          122924,
          124388,
          125459,
          125886,
          126990,
          127794,
          129089,
          129714,
          130719,
          131092,
          132224,
          133482,
          134550,
          135455,
          136142,
          137127,
          137666,
          138485,
          139767,
          140565,
          141688,
          141930,
          142879,
          144507,
          145237,
          145810,
          146904,
          148080,
          148591,
          149534,
          150011,
          151386,
          152490,
          152733,
          153914,
          154832,
          156070,
          157242,
          158187,
          159006,
          159920,
          160364,
          161196,
          162733,
          163161,
          164507,
          164877,
          165624,
          167107,
          167761,
          168982,
          169271,
          170027,
          171206,
          172418,
          172936,
          173873,
          175144,
          175865,
          176701,
          177443,
          179097,
          179596,
          180810,
          181420,
          181839,
          183040,
          184047,
          185229,
          185570,
          186745,
          188055,
          188888,
          189979,
          190644,
          191103,
          191951,
          192827,
          194281,
          194752,
          196260,
          196698,
          197568,
          198707,
          199409,
          200873,
          201591,
          202174,
          203144,
          204071,
          205096,
          206273,
          206920,
          207297,
          208559,
          209608,
          210729,
          211699,
          211883,
          213550,
          214388,
          215208,
          215479,
          216938,
          217432,
          218677,
          219779,
          220822,
          221753,
          222284,
          223343,
          224174,
          225180,
          226098,
          226563,
          227833,
          228239,
          229710,
          230334,
          231782,
          232051,
          232907,
          234464,
          235100,
          236276,
          236755,
          237417,
          238842,
          239761,
          240874,
          241566,
          242578,
          243191,
          244095,
          245268,
          246235,
          246925,
          247851,
          248280,
          249525,
          250338,
          251447,
          252334,
          253066,
          254013,
          255277,
          255837,
          257197,
          257555,
          258702,
          259451,
          260057,
          261505,
          261903,
          263363,
          264382,
          265234,
          265814,
          266374,
          267320,
          268712,
          269157,
          270387,
          271810,
          272658,
          273343,
          273769,
          275031,
          275845,
          276950,
          278188,
          278693,
          279528,
          280102,
          281711,
          282508,
          282922,
          284443,
          285258,
          285900,
          287158,
          288068,
          288863,
          289535,
          290659,
          291729,
          292344,
          293583,
          294272,
          294902,
          295488,
          296478,
          297648,
          298946,
          300007,
          300749,
          301082,
          302365,
          303336,
          304534,
          305210,
          305793,
          306556,
          307636,
          308319,
          309426,
          310335,
          310944,
          312738,
          313647,
          314550,
          314949,
          316255,
          316924,
          317704,
          318538,
          319622,
          320267,
          320987,
          322038,
          322739,
          323996,
          325187,
          326243,
          327177,
          328037,
          328712,
          329993,
          330634,
          331674,
          331876,
          332995,
          334233,
          334559,
          336164,
          337284,
          338178,
          338304,
          339104,
          340013,
          341416,
          342478,
          343204,
          344028,
          344604,
          346157,
          346487,
          347843,
          348635,
          349333,
          350210,
          351830,
          352682,
          353542,
          354001,
          355064,
          355721,
          357192,
          357473,
          358866,
          359772,
          360862,
          361827,
          362392,
          362908,
          363785,
          364769,
          365867,
          366866,
          368068,
          368653,
          369495,
          370121,
          371195,
          372568,
          373375,
          374393,
          375466,
          375872,
          376825,
          377835,
          378835,
          380013,
          380437,
          381320,
          382722,
          383336,
          383676,
          385019,
          386142,
          386978,
          387863,
          388499,
          389835,
          390657,
          391832,
          392362,
          392899,
          393781,
          394914,
          395721,
          397267,
          398150,
          398707,
          399499,
          400483,
          401313,
          401921,
          402946,
          403659,
          404562,
          406171,
          407282,
          407858,
          408734,
          409677,
          410751,
          411642,
          412478,
          413368,
          414266,
          414618,
          416101,
          416418,
          417410,
          418691,
          419449,
          420506,
          421163,
          422309,
          423000,
          424102,
          425334,
          425759,
          427255,
          427670,
          429082,
          429837,
          430622,
          431506,
          432520,
          433226,
          434472,
          435392,
          435944,
          436778,
          437865,
          438550,
          439994,
          440449,
          441492,
          442161,
          442802,
          444158,
          445018,
          445938,
          446728,
          447363,
          448670,
          449497,
          450481,
          451657,
          452503,
          452838,
          453852,
          454693,
          456379,
          456676,
          457847,
          458574,
          459332,
          460814,
          461512,
          462714,
          463650,
          464237,
          464768,
          466295,
          467238,
          467543,
          468945,
          469928,
          470297,
          470968,
          472381,
          473412,
          474550,
          475197,
          476032,
          477179,
          478158,
          478828,
          479500,
          480576,
          481778,
          482684,
          483453,
          484333,
          485384,
          486110,
          487096,
          488006,
          488762,
          489322,
          490471,
          490963,
          492485,
          493460,
          494154,
          494855,
          496082,
          497052,
          498025,
          498482,
          499345,
          500185,
          501079,
          502374,
          503221,
          504016,
          504902,
          506123,
          506390,
          507955,
          508872,
          509422,
          510613,
          511213,
          512486,
          512922,
          514250,
          514961,
          515850,
          517060,
          518142,
          518773,
          519655,
          520395,
          521582,
          522570,
          523507,
          524560,
          525327,
          526176,
          527178,
          527877,
          528450,
          529407,
          530824,
          531512,
          532312,
          533640,
          533738,
          534744,
          536158,
          537144,
          538094,
          538784,
          539223,
          540764,
          541614,
          542370,
          543121,
          544193,
          545396,
          545918,
          546632,
          547576,
          548351,
          549859,
          550160,
          551399,
          551973,
          553160,
          553921,
          555429,
          556086,
          557030,
          557489,
          558709,
          559154,
          560462,
          561341,
          562636,
          563242,
          564139,
          564967,
          565855,
          566652,
          567709,
          568940,
          569693,
          570929,
          571189,
          572747,
          573441,
          574541,
          575340,
          575527,
          576412,
          577913,
          578359,
          580020,
          580085,
          580970,
          581872,
          583211,
          583691,
          584860,
          585918,
          586393,
          587567,
          588788,
          589241,
          590162,
          591447,
          592206,
          592922,
          594372,
          594618,
          596355,
          596839,
          597294,
          598499,
          600021,
          600840,
          601537,
          602389,
          603635,
          604038,
          604933,
          606105,
          606901,
          608148,
          608654,
          609543,
          610429,
          611220,
          612237,
          613010,
          614567,
          615050,
          616339,
          616947,
          617948,
          618425,
          619347,
          620118,
          621840,
          622339,
          622750,
          623964,
          624723,
          625840,
          626532,
          627814,
          629016,
          629846,
          630686,
          631809,
          632186,
          633408,
          634222,
          635182,
          635966,
          636755,
          638140,
          638413,
          639617,
          640263,
          641840,
          642129,
          643118,
          643693,
          644951,
          646386,
          646655,
          647707,
          648747,
          649632,
          650164,
          651117,
          652292,
          653314,
          654505,
          654569,
          656333,
          656544,
          657918,
          658778,
          659327,
          660475,
          661023,
          662157,
          663318,
          664243,
          665454,
          666130,
          667296,
          667419,
          668612,
          670023,
          670579,
          671225,
          672468,
          673513,
          673703,
          675478,
          676314,
          677192,
          677812,
          678975,
          679752,
          680481,
          681670,
          681893,
          683052,
          684569,
          684854,
          685900,
          687297,
          687713,
          688555,
          689737,
          690933,
          691653,
          692361,
          693341,
          693902,
          695043,
          695548,
          697272,
          697451,
          698581,
          700001,
          700514,
          701779,
          702487,
          703039,
          703667,
          704646,
          706223,
          707218,
          708105,
          708619,
          710022,
          710858,
          711028,
          712331,
          713213,
          714055,
          715466,
          716250,
          717005,
          717940,
          718957,
          719802,
          720787,
          721347,
          721844,
          722789,
          723939,
          724605,
          726207,
          727139,
          728103,
          728747,
          730023,
          730643,
          731818,
          732287,
          733502,
          734061,
          734617,
          736231,
          736554,
          738136,
          738605,
          739909,
          740104,
          741593,
          742741,
          743460,
          744571,
          744999,
          746336,
          746892,
          747611,
          748759,
          749693,
          750416,
          751238,
          752639,
          753277,
          754319,
          755388,
          756143,
          757165,
          757578,
          758635,
          759626,
          760206,
          761465,
          762593,
          763207,
          764304,
          765384,
          766034,
          767067,
          767741,
          768911,
          769247,
          770218,
          771312,
          772419,
          772773,
          773760,
          775290,
          776024,
          777221,
          777919,
          778637,
          779391,
          780450,
          781572,
          782742,
          782996,
          784573,
          785126,
          786182,
          786998,
          787820,
          788210,
          789752,
          790432,
          791136,
          792204,
          793292,
          794563,
          795353,
          795655,
          796392,
          797877,
          798735,
          800028,
          800895,
          801585,
          802257,
          803052,
          804540,
          804885,
          805658,
          807065,
          807726,
          808496,
          809199,
          810445,
          811777,
          812347,
          813254,
          813699,
          814702,
          816142,
          816661,
          817830,
          818567,
          819277,
          820234,
          820952,
          822236,
          823565,
          824255,
          825192,
          825671,
          826670,
          827852,
          828548,
          829853,
          830528,
          831357,
          831894,
          833601,
          834372,
          834839,
          836068,
          836774,
          837593,
          838473,
          839833,
          840939,
          841286,
          842593,
          843344,
          844249,
          845155,
          845688,
          847187,
          848080,
          848974,
          849467,
          850645,
          851409,
          852582,
          853362,
          854312,
          855480,
          856193,
          856809,
          857648,
          858957,
          859202,
          860652,
          861213,
          862750,
          863496,
          864496,
          864864,
          865720,
          866480,
          867624,
          868566,
          869398,
          870510,
          871118,
          872441,
          873556,
          873898,
          874929,
          876146,
          877097,
          878079,
          878702,
          879843,
          880940,
          881289,
          881989,
          883148,
          884576,
          884999,
          886128,
          887184,
          888213,
          888759,
          889997,
          890507,
          891688,
          892454,
          893597,
          894102,
          894664,
          896029,
          896911,
          898209,
          899062,
          899953,
          900859,
          901833,
          902478,
          902863,
          904055,
          905119,
          905923,
          906934,
          907306
         ],
         "y": {
          "dtype": "float64",
          "shape": [
           1000
          ]
         }
        },
        {
         "connectgaps": true,
         "line": {
          "color": "gray",
          "shape": "hv",
          "width": 3
         },
         "name": "Profit",
         "opacity": 0.4,
         "type": "scattergl",
         "uid": "da1fe546-d850-4149-9023-da413e9b8738",
         "x": [
          30350,
          70777,
          80910,
          105778,
          124747,
          162012,
          180059,
          217244,
          222886,
          281223,
          313056,
          431406,
          431406,
          442826,
          467199,
          487093,
          508819,
          537177,
          606069,
          629628,
          679308,
          760024,
          760024,
          779312,
          786865,
          835730,
          855925,
          880806
         ],
         "xaxis": "x",
         "y": {
          "dtype": "float64",
          "shape": [
           28
          ]
         },
         "yaxis": "y2"
        },
        {
         "marker": {
          "color": "green",
          "line": {
           "color": "darkgreen",
           "width": 1
          },
          "size": 10,
          "symbol": "triangle-up"
         },
         "mode": "markers",
         "name": "Buy",
         "type": "scattergl",
         "uid": "1afba642-6ca1-4e0c-a5d8-01af14216f90",
         "x": [
          30352,
          80911,
          124748,
          180060,
          222888,
          313057,
          442827,
          487094,
          537178,
          629629,
          760025,
          786866,
          855926,
          30350,
          80910,
          124747,
          180059,
          222886,
          313056,
          442826,
          487093,
          537177,
          629628,
          760024,
          786865,
          855925
         ],
         "y": {
          "dtype": "float64",
          "shape": [
           26
          ]
         }
        },
        {
         "marker": {
          "color": "red",
          "line": {
           "color": "darkred",
           "width": 1
          },
          "size": 10,
          "symbol": "triangle-down"
         },
         "mode": "markers",
         "name": "Sell",
         "type": "scattergl",
         "uid": "b52f14a2-28b7-41ad-b683-43a3244dcc27",
         "x": [
          17633,
          70778,
          105779,
          162013,
          217245,
          281224,
          431413,
          467200,
          508820,
          606070,
          679309,
          779313,
          835731,
          70777,
          105778,
          162012,
          217244,
          281223,
          431406,
          467199,
          508819,
          606069,
          679308,
          779312,
          835730,
          880806
         ],
         "y": {
          "dtype": "float64",
          "shape": [
           26
          ]
         }
        }
       ],
       "_js2py_pointsCallback": {},
       "_js2py_restyle": {},
       "_js2py_update": {},
       "_last_layout_edit_id": 16,
       "_last_trace_edit_id": 16,
       "_layout": {
        "autosize": true,
        "height": 700,
        "legend": {
         "orientation": "h",
         "x": 0.1,
         "y": 1
        },
        "margin": {
         "b": 10,
         "l": 45,
         "pad": 3,
         "r": 15,
         "t": 30
        },
        "template": {
         "data": {
          "bar": [
           {
            "error_x": {
             "color": "#2a3f5f"
            },
            "error_y": {
             "color": "#2a3f5f"
            },
            "marker": {
             "line": {
              "color": "white",
              "width": 0.5
             },
             "pattern": {
              "fillmode": "overlay",
              "size": 10,
              "solidity": 0.2
             }
            },
            "type": "bar"
           }
          ],
          "barpolar": [
           {
            "marker": {
             "line": {
              "color": "white",
              "width": 0.5
             },
             "pattern": {
              "fillmode": "overlay",
              "size": 10,
              "solidity": 0.2
             }
            },
            "type": "barpolar"
           }
          ],
          "carpet": [
           {
            "aaxis": {
             "endlinecolor": "#2a3f5f",
             "gridcolor": "#C8D4E3",
             "linecolor": "#C8D4E3",
             "minorgridcolor": "#C8D4E3",
             "startlinecolor": "#2a3f5f"
            },
            "baxis": {
             "endlinecolor": "#2a3f5f",
             "gridcolor": "#C8D4E3",
             "linecolor": "#C8D4E3",
             "minorgridcolor": "#C8D4E3",
             "startlinecolor": "#2a3f5f"
            },
            "type": "carpet"
           }
          ],
          "choropleth": [
           {
            "colorbar": {
             "outlinewidth": 0,
             "ticks": ""
            },
            "type": "choropleth"
           }
          ],
          "contour": [
           {
            "colorbar": {
             "outlinewidth": 0,
             "ticks": ""
            },
            "colorscale": [
             [
              0,
              "#0d0887"
             ],
             [
              0.1111111111111111,
              "#46039f"
             ],
             [
              0.2222222222222222,
              "#7201a8"
             ],
             [
              0.3333333333333333,
              "#9c179e"
             ],
             [
              0.4444444444444444,
              "#bd3786"
             ],
             [
              0.5555555555555556,
              "#d8576b"
             ],
             [
              0.6666666666666666,
              "#ed7953"
             ],
             [
              0.7777777777777778,
              "#fb9f3a"
             ],
             [
              0.8888888888888888,
              "#fdca26"
             ],
             [
              1,
              "#f0f921"
             ]
            ],
            "type": "contour"
           }
          ],
          "contourcarpet": [
           {
            "colorbar": {
             "outlinewidth": 0,
             "ticks": ""
            },
            "type": "contourcarpet"
           }
          ],
          "heatmap": [
           {
            "colorbar": {
             "outlinewidth": 0,
             "ticks": ""
            },
            "colorscale": [
             [
              0,
              "#0d0887"
             ],
             [
              0.1111111111111111,
              "#46039f"
             ],
             [
              0.2222222222222222,
              "#7201a8"
             ],
             [
              0.3333333333333333,
              "#9c179e"
             ],
             [
              0.4444444444444444,
              "#bd3786"
             ],
             [
              0.5555555555555556,
              "#d8576b"
             ],
             [
              0.6666666666666666,
              "#ed7953"
             ],
             [
              0.7777777777777778,
              "#fb9f3a"
             ],
             [
              0.8888888888888888,
              "#fdca26"
             ],
             [
              1,
              "#f0f921"
             ]
            ],
            "type": "heatmap"
           }
          ],
          "heatmapgl": [
           {
            "colorbar": {
             "outlinewidth": 0,
             "ticks": ""
            },
            "colorscale": [
             [
              0,
              "#0d0887"
             ],
             [
              0.1111111111111111,
              "#46039f"
             ],
             [
              0.2222222222222222,
              "#7201a8"
             ],
             [
              0.3333333333333333,
              "#9c179e"
             ],
             [
              0.4444444444444444,
              "#bd3786"
             ],
             [
              0.5555555555555556,
              "#d8576b"
             ],
             [
              0.6666666666666666,
              "#ed7953"
             ],
             [
              0.7777777777777778,
              "#fb9f3a"
             ],
             [
              0.8888888888888888,
              "#fdca26"
             ],
             [
              1,
              "#f0f921"
             ]
            ],
            "type": "heatmapgl"
           }
          ],
          "histogram": [
           {
            "marker": {
             "pattern": {
              "fillmode": "overlay",
              "size": 10,
              "solidity": 0.2
             }
            },
            "type": "histogram"
           }
          ],
          "histogram2d": [
           {
            "colorbar": {
             "outlinewidth": 0,
             "ticks": ""
            },
            "colorscale": [
             [
              0,
              "#0d0887"
             ],
             [
              0.1111111111111111,
              "#46039f"
             ],
             [
              0.2222222222222222,
              "#7201a8"
             ],
             [
              0.3333333333333333,
              "#9c179e"
             ],
             [
              0.4444444444444444,
              "#bd3786"
             ],
             [
              0.5555555555555556,
              "#d8576b"
             ],
             [
              0.6666666666666666,
              "#ed7953"
             ],
             [
              0.7777777777777778,
              "#fb9f3a"
             ],
             [
              0.8888888888888888,
              "#fdca26"
             ],
             [
              1,
              "#f0f921"
             ]
            ],
            "type": "histogram2d"
           }
          ],
          "histogram2dcontour": [
           {
            "colorbar": {
             "outlinewidth": 0,
             "ticks": ""
            },
            "colorscale": [
             [
              0,
              "#0d0887"
             ],
             [
              0.1111111111111111,
              "#46039f"
             ],
             [
              0.2222222222222222,
              "#7201a8"
             ],
             [
              0.3333333333333333,
              "#9c179e"
             ],
             [
              0.4444444444444444,
              "#bd3786"
             ],
             [
              0.5555555555555556,
              "#d8576b"
             ],
             [
              0.6666666666666666,
              "#ed7953"
             ],
             [
              0.7777777777777778,
              "#fb9f3a"
             ],
             [
              0.8888888888888888,
              "#fdca26"
             ],
             [
              1,
              "#f0f921"
             ]
            ],
            "type": "histogram2dcontour"
           }
          ],
          "mesh3d": [
           {
            "colorbar": {
             "outlinewidth": 0,
             "ticks": ""
            },
            "type": "mesh3d"
           }
          ],
          "parcoords": [
           {
            "line": {
             "colorbar": {
              "outlinewidth": 0,
              "ticks": ""
             }
            },
            "type": "parcoords"
           }
          ],
          "pie": [
           {
            "automargin": true,
            "type": "pie"
           }
          ],
          "scatter": [
           {
            "marker": {
             "colorbar": {
              "outlinewidth": 0,
              "ticks": ""
             }
            },
            "type": "scatter"
           }
          ],
          "scatter3d": [
           {
            "line": {
             "colorbar": {
              "outlinewidth": 0,
              "ticks": ""
             }
            },
            "marker": {
             "colorbar": {
              "outlinewidth": 0,
              "ticks": ""
             }
            },
            "type": "scatter3d"
           }
          ],
          "scattercarpet": [
           {
            "marker": {
             "colorbar": {
              "outlinewidth": 0,
              "ticks": ""
             }
            },
            "type": "scattercarpet"
           }
          ],
          "scattergeo": [
           {
            "marker": {
             "colorbar": {
              "outlinewidth": 0,
              "ticks": ""
             }
            },
            "type": "scattergeo"
           }
          ],
          "scattergl": [
           {
            "marker": {
             "colorbar": {
              "outlinewidth": 0,
              "ticks": ""
             }
            },
            "type": "scattergl"
           }
          ],
          "scattermapbox": [
           {
            "marker": {
             "colorbar": {
              "outlinewidth": 0,
              "ticks": ""
             }
            },
            "type": "scattermapbox"
           }
          ],
          "scatterpolar": [
           {
            "marker": {
             "colorbar": {
              "outlinewidth": 0,
              "ticks": ""
             }
            },
            "type": "scatterpolar"
           }
          ],
          "scatterpolargl": [
           {
            "marker": {
             "colorbar": {
              "outlinewidth": 0,
              "ticks": ""
             }
            },
            "type": "scatterpolargl"
           }
          ],
          "scatterternary": [
           {
            "marker": {
             "colorbar": {
              "outlinewidth": 0,
              "ticks": ""
             }
            },
            "type": "scatterternary"
           }
          ],
          "surface": [
           {
            "colorbar": {
             "outlinewidth": 0,
             "ticks": ""
            },
            "colorscale": [
             [
              0,
              "#0d0887"
             ],
             [
              0.1111111111111111,
              "#46039f"
             ],
             [
              0.2222222222222222,
              "#7201a8"
             ],
             [
              0.3333333333333333,
              "#9c179e"
             ],
             [
              0.4444444444444444,
              "#bd3786"
             ],
             [
              0.5555555555555556,
              "#d8576b"
             ],
             [
              0.6666666666666666,
              "#ed7953"
             ],
             [
              0.7777777777777778,
              "#fb9f3a"
             ],
             [
              0.8888888888888888,
              "#fdca26"
             ],
             [
              1,
              "#f0f921"
             ]
            ],
            "type": "surface"
           }
          ],
          "table": [
           {
            "cells": {
             "fill": {
              "color": "#EBF0F8"
             },
             "line": {
              "color": "white"
             }
            },
            "header": {
             "fill": {
              "color": "#C8D4E3"
             },
             "line": {
              "color": "white"
             }
            },
            "type": "table"
           }
          ]
         },
         "layout": {
          "annotationdefaults": {
           "arrowcolor": "#2a3f5f",
           "arrowhead": 0,
           "arrowwidth": 1
          },
          "autotypenumbers": "strict",
          "coloraxis": {
           "colorbar": {
            "outlinewidth": 0,
            "ticks": ""
           }
          },
          "colorscale": {
           "diverging": [
            [
             0,
             "#8e0152"
            ],
            [
             0.1,
             "#c51b7d"
            ],
            [
             0.2,
             "#de77ae"
            ],
            [
             0.3,
             "#f1b6da"
            ],
            [
             0.4,
             "#fde0ef"
            ],
            [
             0.5,
             "#f7f7f7"
            ],
            [
             0.6,
             "#e6f5d0"
            ],
            [
             0.7,
             "#b8e186"
            ],
            [
             0.8,
             "#7fbc41"
            ],
            [
             0.9,
             "#4d9221"
            ],
            [
             1,
             "#276419"
            ]
           ],
           "sequential": [
            [
             0,
             "#0d0887"
            ],
            [
             0.1111111111111111,
             "#46039f"
            ],
            [
             0.2222222222222222,
             "#7201a8"
            ],
            [
             0.3333333333333333,
             "#9c179e"
            ],
            [
             0.4444444444444444,
             "#bd3786"
            ],
            [
             0.5555555555555556,
             "#d8576b"
            ],
            [
             0.6666666666666666,
             "#ed7953"
            ],
            [
             0.7777777777777778,
             "#fb9f3a"
            ],
            [
             0.8888888888888888,
             "#fdca26"
            ],
            [
             1,
             "#f0f921"
            ]
           ],
           "sequentialminus": [
            [
             0,
             "#0d0887"
            ],
            [
             0.1111111111111111,
             "#46039f"
            ],
            [
             0.2222222222222222,
             "#7201a8"
            ],
            [
             0.3333333333333333,
             "#9c179e"
            ],
            [
             0.4444444444444444,
             "#bd3786"
            ],
            [
             0.5555555555555556,
             "#d8576b"
            ],
            [
             0.6666666666666666,
             "#ed7953"
            ],
            [
             0.7777777777777778,
             "#fb9f3a"
            ],
            [
             0.8888888888888888,
             "#fdca26"
            ],
            [
             1,
             "#f0f921"
            ]
           ]
          },
          "colorway": [
           "#636efa",
           "#EF553B",
           "#00cc96",
           "#ab63fa",
           "#FFA15A",
           "#19d3f3",
           "#FF6692",
           "#B6E880",
           "#FF97FF",
           "#FECB52"
          ],
          "font": {
           "color": "#2a3f5f"
          },
          "geo": {
           "bgcolor": "white",
           "lakecolor": "white",
           "landcolor": "white",
           "showlakes": true,
           "showland": true,
           "subunitcolor": "#C8D4E3"
          },
          "hoverlabel": {
           "align": "left"
          },
          "hovermode": "closest",
          "mapbox": {
           "style": "light"
          },
          "paper_bgcolor": "white",
          "plot_bgcolor": "white",
          "polar": {
           "angularaxis": {
            "gridcolor": "#EBF0F8",
            "linecolor": "#EBF0F8",
            "ticks": ""
           },
           "bgcolor": "white",
           "radialaxis": {
            "gridcolor": "#EBF0F8",
            "linecolor": "#EBF0F8",
            "ticks": ""
           }
          },
          "scene": {
           "xaxis": {
            "backgroundcolor": "white",
            "gridcolor": "#DFE8F3",
            "gridwidth": 2,
            "linecolor": "#EBF0F8",
            "showbackground": true,
            "ticks": "",
            "zerolinecolor": "#EBF0F8"
           },
           "yaxis": {
            "backgroundcolor": "white",
            "gridcolor": "#DFE8F3",
            "gridwidth": 2,
            "linecolor": "#EBF0F8",
            "showbackground": true,
            "ticks": "",
            "zerolinecolor": "#EBF0F8"
           },
           "zaxis": {
            "backgroundcolor": "white",
            "gridcolor": "#DFE8F3",
            "gridwidth": 2,
            "linecolor": "#EBF0F8",
            "showbackground": true,
            "ticks": "",
            "zerolinecolor": "#EBF0F8"
           }
          },
          "shapedefaults": {
           "line": {
            "color": "#2a3f5f"
           }
          },
          "ternary": {
           "aaxis": {
            "gridcolor": "#DFE8F3",
            "linecolor": "#A2B1C6",
            "ticks": ""
           },
           "baxis": {
            "gridcolor": "#DFE8F3",
            "linecolor": "#A2B1C6",
            "ticks": ""
           },
           "bgcolor": "white",
           "caxis": {
            "gridcolor": "#DFE8F3",
            "linecolor": "#A2B1C6",
            "ticks": ""
           }
          },
          "title": {
           "x": 0.05
          },
          "xaxis": {
           "automargin": true,
           "gridcolor": "#EBF0F8",
           "linecolor": "#EBF0F8",
           "ticks": "",
           "title": {
            "standoff": 15
           },
           "zerolinecolor": "#EBF0F8",
           "zerolinewidth": 2
          },
          "yaxis": {
           "automargin": true,
           "gridcolor": "#EBF0F8",
           "linecolor": "#EBF0F8",
           "ticks": "",
           "title": {
            "standoff": 15
           },
           "zerolinecolor": "#EBF0F8",
           "zerolinewidth": 2
          }
         }
        },
        "xaxis": {
         "anchor": "y",
         "domain": [
          0,
          0.94
         ]
        },
        "yaxis": {
         "anchor": "x",
         "domain": [
          0,
          1
         ]
        },
        "yaxis2": {
         "anchor": "x",
         "overlaying": "y",
         "side": "right"
        }
       },
       "_py2js_animate": {},
       "_py2js_deleteTraces": {},
       "_py2js_moveTraces": {},
       "_py2js_relayout": {},
       "_py2js_removeLayoutProps": {},
       "_py2js_removeTraceProps": {},
       "_view_count": 1
      }
     },
     "af9e1684b5a34ca487e3d415452aade1": {
      "model_module": "@jupyter-widgets/controls",
      "model_module_version": "1.5.0",
      "model_name": "VBoxModel",
      "state": {
       "_dom_classes": [
        "widget-interact"
       ],
       "children": [
        "IPY_MODEL_6ddd101fc98a42ba8dd939041fec7ea9",
        "IPY_MODEL_5c8301e0d2bd4914b21ac2cd38e54ee2",
        "IPY_MODEL_1f2ede3f17784daf845050676e5af306"
       ],
       "layout": "IPY_MODEL_2e21c16ad2de4e2c842e1218310dfe18"
      }
     },
     "c055999101af4a58a05393708c3bad9a": {
      "model_module": "@jupyter-widgets/controls",
      "model_module_version": "1.5.0",
      "model_name": "DescriptionStyleModel",
      "state": {
       "description_width": ""
      }
     },
     "c443f0795fda420999054a63459d0b20": {
      "model_module": "@jupyter-widgets/controls",
      "model_module_version": "1.5.0",
      "model_name": "HTMLModel",
      "state": {
       "layout": "IPY_MODEL_f99e13b6fc744386b385adcb41d4cfff",
       "style": "IPY_MODEL_74db110d6f7442f5bd374a0b6e19a916",
       "value": "100%"
      }
     },
     "d1b36b6a51154ff3a793e756c0aa0e1e": {
      "model_module": "@jupyter-widgets/controls",
      "model_module_version": "1.5.0",
      "model_name": "FloatProgressModel",
      "state": {
       "bar_style": "success",
       "layout": "IPY_MODEL_abced8faa67a4daca35b67de8a65a568",
       "max": 5,
       "style": "IPY_MODEL_61bfcb5094594ad2ae3db0e750ffde03",
       "value": 5
      }
     },
     "e6a5ef06b4394c15921656a411cfe606": {
      "model_module": "jupyterlab-plotly",
      "model_module_version": "^5.6.0",
      "model_name": "FigureModel",
      "state": {
       "_config": {
        "plotlyServerURL": "https://plot.ly"
       },
       "_js2py_layoutDelta": {},
       "_js2py_pointsCallback": {},
       "_js2py_relayout": {},
       "_js2py_restyle": {},
       "_js2py_traceDeltas": {},
       "_js2py_update": {},
       "_layout": {
        "template": {
         "data": {
          "bar": [
           {
            "error_x": {
             "color": "#2a3f5f"
            },
            "error_y": {
             "color": "#2a3f5f"
            },
            "marker": {
             "line": {
              "color": "#E5ECF6",
              "width": 0.5
             },
             "pattern": {
              "fillmode": "overlay",
              "size": 10,
              "solidity": 0.2
             }
            },
            "type": "bar"
           }
          ],
          "barpolar": [
           {
            "marker": {
             "line": {
              "color": "#E5ECF6",
              "width": 0.5
             },
             "pattern": {
              "fillmode": "overlay",
              "size": 10,
              "solidity": 0.2
             }
            },
            "type": "barpolar"
           }
          ],
          "carpet": [
           {
            "aaxis": {
             "endlinecolor": "#2a3f5f",
             "gridcolor": "white",
             "linecolor": "white",
             "minorgridcolor": "white",
             "startlinecolor": "#2a3f5f"
            },
            "baxis": {
             "endlinecolor": "#2a3f5f",
             "gridcolor": "white",
             "linecolor": "white",
             "minorgridcolor": "white",
             "startlinecolor": "#2a3f5f"
            },
            "type": "carpet"
           }
          ],
          "choropleth": [
           {
            "colorbar": {
             "outlinewidth": 0,
             "ticks": ""
            },
            "type": "choropleth"
           }
          ],
          "contour": [
           {
            "colorbar": {
             "outlinewidth": 0,
             "ticks": ""
            },
            "colorscale": [
             [
              0,
              "#0d0887"
             ],
             [
              0.1111111111111111,
              "#46039f"
             ],
             [
              0.2222222222222222,
              "#7201a8"
             ],
             [
              0.3333333333333333,
              "#9c179e"
             ],
             [
              0.4444444444444444,
              "#bd3786"
             ],
             [
              0.5555555555555556,
              "#d8576b"
             ],
             [
              0.6666666666666666,
              "#ed7953"
             ],
             [
              0.7777777777777778,
              "#fb9f3a"
             ],
             [
              0.8888888888888888,
              "#fdca26"
             ],
             [
              1,
              "#f0f921"
             ]
            ],
            "type": "contour"
           }
          ],
          "contourcarpet": [
           {
            "colorbar": {
             "outlinewidth": 0,
             "ticks": ""
            },
            "type": "contourcarpet"
           }
          ],
          "heatmap": [
           {
            "colorbar": {
             "outlinewidth": 0,
             "ticks": ""
            },
            "colorscale": [
             [
              0,
              "#0d0887"
             ],
             [
              0.1111111111111111,
              "#46039f"
             ],
             [
              0.2222222222222222,
              "#7201a8"
             ],
             [
              0.3333333333333333,
              "#9c179e"
             ],
             [
              0.4444444444444444,
              "#bd3786"
             ],
             [
              0.5555555555555556,
              "#d8576b"
             ],
             [
              0.6666666666666666,
              "#ed7953"
             ],
             [
              0.7777777777777778,
              "#fb9f3a"
             ],
             [
              0.8888888888888888,
              "#fdca26"
             ],
             [
              1,
              "#f0f921"
             ]
            ],
            "type": "heatmap"
           }
          ],
          "heatmapgl": [
           {
            "colorbar": {
             "outlinewidth": 0,
             "ticks": ""
            },
            "colorscale": [
             [
              0,
              "#0d0887"
             ],
             [
              0.1111111111111111,
              "#46039f"
             ],
             [
              0.2222222222222222,
              "#7201a8"
             ],
             [
              0.3333333333333333,
              "#9c179e"
             ],
             [
              0.4444444444444444,
              "#bd3786"
             ],
             [
              0.5555555555555556,
              "#d8576b"
             ],
             [
              0.6666666666666666,
              "#ed7953"
             ],
             [
              0.7777777777777778,
              "#fb9f3a"
             ],
             [
              0.8888888888888888,
              "#fdca26"
             ],
             [
              1,
              "#f0f921"
             ]
            ],
            "type": "heatmapgl"
           }
          ],
          "histogram": [
           {
            "marker": {
             "pattern": {
              "fillmode": "overlay",
              "size": 10,
              "solidity": 0.2
             }
            },
            "type": "histogram"
           }
          ],
          "histogram2d": [
           {
            "colorbar": {
             "outlinewidth": 0,
             "ticks": ""
            },
            "colorscale": [
             [
              0,
              "#0d0887"
             ],
             [
              0.1111111111111111,
              "#46039f"
             ],
             [
              0.2222222222222222,
              "#7201a8"
             ],
             [
              0.3333333333333333,
              "#9c179e"
             ],
             [
              0.4444444444444444,
              "#bd3786"
             ],
             [
              0.5555555555555556,
              "#d8576b"
             ],
             [
              0.6666666666666666,
              "#ed7953"
             ],
             [
              0.7777777777777778,
              "#fb9f3a"
             ],
             [
              0.8888888888888888,
              "#fdca26"
             ],
             [
              1,
              "#f0f921"
             ]
            ],
            "type": "histogram2d"
           }
          ],
          "histogram2dcontour": [
           {
            "colorbar": {
             "outlinewidth": 0,
             "ticks": ""
            },
            "colorscale": [
             [
              0,
              "#0d0887"
             ],
             [
              0.1111111111111111,
              "#46039f"
             ],
             [
              0.2222222222222222,
              "#7201a8"
             ],
             [
              0.3333333333333333,
              "#9c179e"
             ],
             [
              0.4444444444444444,
              "#bd3786"
             ],
             [
              0.5555555555555556,
              "#d8576b"
             ],
             [
              0.6666666666666666,
              "#ed7953"
             ],
             [
              0.7777777777777778,
              "#fb9f3a"
             ],
             [
              0.8888888888888888,
              "#fdca26"
             ],
             [
              1,
              "#f0f921"
             ]
            ],
            "type": "histogram2dcontour"
           }
          ],
          "mesh3d": [
           {
            "colorbar": {
             "outlinewidth": 0,
             "ticks": ""
            },
            "type": "mesh3d"
           }
          ],
          "parcoords": [
           {
            "line": {
             "colorbar": {
              "outlinewidth": 0,
              "ticks": ""
             }
            },
            "type": "parcoords"
           }
          ],
          "pie": [
           {
            "automargin": true,
            "type": "pie"
           }
          ],
          "scatter": [
           {
            "marker": {
             "colorbar": {
              "outlinewidth": 0,
              "ticks": ""
             }
            },
            "type": "scatter"
           }
          ],
          "scatter3d": [
           {
            "line": {
             "colorbar": {
              "outlinewidth": 0,
              "ticks": ""
             }
            },
            "marker": {
             "colorbar": {
              "outlinewidth": 0,
              "ticks": ""
             }
            },
            "type": "scatter3d"
           }
          ],
          "scattercarpet": [
           {
            "marker": {
             "colorbar": {
              "outlinewidth": 0,
              "ticks": ""
             }
            },
            "type": "scattercarpet"
           }
          ],
          "scattergeo": [
           {
            "marker": {
             "colorbar": {
              "outlinewidth": 0,
              "ticks": ""
             }
            },
            "type": "scattergeo"
           }
          ],
          "scattergl": [
           {
            "marker": {
             "colorbar": {
              "outlinewidth": 0,
              "ticks": ""
             }
            },
            "type": "scattergl"
           }
          ],
          "scattermapbox": [
           {
            "marker": {
             "colorbar": {
              "outlinewidth": 0,
              "ticks": ""
             }
            },
            "type": "scattermapbox"
           }
          ],
          "scatterpolar": [
           {
            "marker": {
             "colorbar": {
              "outlinewidth": 0,
              "ticks": ""
             }
            },
            "type": "scatterpolar"
           }
          ],
          "scatterpolargl": [
           {
            "marker": {
             "colorbar": {
              "outlinewidth": 0,
              "ticks": ""
             }
            },
            "type": "scatterpolargl"
           }
          ],
          "scatterternary": [
           {
            "marker": {
             "colorbar": {
              "outlinewidth": 0,
              "ticks": ""
             }
            },
            "type": "scatterternary"
           }
          ],
          "surface": [
           {
            "colorbar": {
             "outlinewidth": 0,
             "ticks": ""
            },
            "colorscale": [
             [
              0,
              "#0d0887"
             ],
             [
              0.1111111111111111,
              "#46039f"
             ],
             [
              0.2222222222222222,
              "#7201a8"
             ],
             [
              0.3333333333333333,
              "#9c179e"
             ],
             [
              0.4444444444444444,
              "#bd3786"
             ],
             [
              0.5555555555555556,
              "#d8576b"
             ],
             [
              0.6666666666666666,
              "#ed7953"
             ],
             [
              0.7777777777777778,
              "#fb9f3a"
             ],
             [
              0.8888888888888888,
              "#fdca26"
             ],
             [
              1,
              "#f0f921"
             ]
            ],
            "type": "surface"
           }
          ],
          "table": [
           {
            "cells": {
             "fill": {
              "color": "#EBF0F8"
             },
             "line": {
              "color": "white"
             }
            },
            "header": {
             "fill": {
              "color": "#C8D4E3"
             },
             "line": {
              "color": "white"
             }
            },
            "type": "table"
           }
          ]
         },
         "layout": {
          "annotationdefaults": {
           "arrowcolor": "#2a3f5f",
           "arrowhead": 0,
           "arrowwidth": 1
          },
          "autotypenumbers": "strict",
          "coloraxis": {
           "colorbar": {
            "outlinewidth": 0,
            "ticks": ""
           }
          },
          "colorscale": {
           "diverging": [
            [
             0,
             "#8e0152"
            ],
            [
             0.1,
             "#c51b7d"
            ],
            [
             0.2,
             "#de77ae"
            ],
            [
             0.3,
             "#f1b6da"
            ],
            [
             0.4,
             "#fde0ef"
            ],
            [
             0.5,
             "#f7f7f7"
            ],
            [
             0.6,
             "#e6f5d0"
            ],
            [
             0.7,
             "#b8e186"
            ],
            [
             0.8,
             "#7fbc41"
            ],
            [
             0.9,
             "#4d9221"
            ],
            [
             1,
             "#276419"
            ]
           ],
           "sequential": [
            [
             0,
             "#0d0887"
            ],
            [
             0.1111111111111111,
             "#46039f"
            ],
            [
             0.2222222222222222,
             "#7201a8"
            ],
            [
             0.3333333333333333,
             "#9c179e"
            ],
            [
             0.4444444444444444,
             "#bd3786"
            ],
            [
             0.5555555555555556,
             "#d8576b"
            ],
            [
             0.6666666666666666,
             "#ed7953"
            ],
            [
             0.7777777777777778,
             "#fb9f3a"
            ],
            [
             0.8888888888888888,
             "#fdca26"
            ],
            [
             1,
             "#f0f921"
            ]
           ],
           "sequentialminus": [
            [
             0,
             "#0d0887"
            ],
            [
             0.1111111111111111,
             "#46039f"
            ],
            [
             0.2222222222222222,
             "#7201a8"
            ],
            [
             0.3333333333333333,
             "#9c179e"
            ],
            [
             0.4444444444444444,
             "#bd3786"
            ],
            [
             0.5555555555555556,
             "#d8576b"
            ],
            [
             0.6666666666666666,
             "#ed7953"
            ],
            [
             0.7777777777777778,
             "#fb9f3a"
            ],
            [
             0.8888888888888888,
             "#fdca26"
            ],
            [
             1,
             "#f0f921"
            ]
           ]
          },
          "colorway": [
           "#636efa",
           "#EF553B",
           "#00cc96",
           "#ab63fa",
           "#FFA15A",
           "#19d3f3",
           "#FF6692",
           "#B6E880",
           "#FF97FF",
           "#FECB52"
          ],
          "font": {
           "color": "#2a3f5f"
          },
          "geo": {
           "bgcolor": "white",
           "lakecolor": "white",
           "landcolor": "#E5ECF6",
           "showlakes": true,
           "showland": true,
           "subunitcolor": "white"
          },
          "hoverlabel": {
           "align": "left"
          },
          "hovermode": "closest",
          "mapbox": {
           "style": "light"
          },
          "paper_bgcolor": "white",
          "plot_bgcolor": "#E5ECF6",
          "polar": {
           "angularaxis": {
            "gridcolor": "white",
            "linecolor": "white",
            "ticks": ""
           },
           "bgcolor": "#E5ECF6",
           "radialaxis": {
            "gridcolor": "white",
            "linecolor": "white",
            "ticks": ""
           }
          },
          "scene": {
           "xaxis": {
            "backgroundcolor": "#E5ECF6",
            "gridcolor": "white",
            "gridwidth": 2,
            "linecolor": "white",
            "showbackground": true,
            "ticks": "",
            "zerolinecolor": "white"
           },
           "yaxis": {
            "backgroundcolor": "#E5ECF6",
            "gridcolor": "white",
            "gridwidth": 2,
            "linecolor": "white",
            "showbackground": true,
            "ticks": "",
            "zerolinecolor": "white"
           },
           "zaxis": {
            "backgroundcolor": "#E5ECF6",
            "gridcolor": "white",
            "gridwidth": 2,
            "linecolor": "white",
            "showbackground": true,
            "ticks": "",
            "zerolinecolor": "white"
           }
          },
          "shapedefaults": {
           "line": {
            "color": "#2a3f5f"
           }
          },
          "ternary": {
           "aaxis": {
            "gridcolor": "white",
            "linecolor": "white",
            "ticks": ""
           },
           "baxis": {
            "gridcolor": "white",
            "linecolor": "white",
            "ticks": ""
           },
           "bgcolor": "#E5ECF6",
           "caxis": {
            "gridcolor": "white",
            "linecolor": "white",
            "ticks": ""
           }
          },
          "title": {
           "x": 0.05
          },
          "xaxis": {
           "automargin": true,
           "gridcolor": "white",
           "linecolor": "white",
           "ticks": "",
           "title": {
            "standoff": 15
           },
           "zerolinecolor": "white",
           "zerolinewidth": 2
          },
          "yaxis": {
           "automargin": true,
           "gridcolor": "white",
           "linecolor": "white",
           "ticks": "",
           "title": {
            "standoff": 15
           },
           "zerolinecolor": "white",
           "zerolinewidth": 2
          }
         }
        },
        "xaxis": {
         "anchor": "y",
         "domain": [
          0,
          0.94
         ]
        },
        "yaxis": {
         "anchor": "x",
         "domain": [
          0,
          1
         ]
        },
        "yaxis2": {
         "anchor": "x",
         "overlaying": "y",
         "side": "right"
        }
       },
       "_py2js_addTraces": {},
       "_py2js_animate": {},
       "_py2js_deleteTraces": {},
       "_py2js_moveTraces": {},
       "_py2js_relayout": {},
       "_py2js_removeLayoutProps": {},
       "_py2js_removeTraceProps": {},
       "_py2js_restyle": {},
       "_py2js_update": {},
       "_view_count": 0
      }
     },
     "f02eb7598e4347e7ab709e90494d4404": {
      "model_module": "@jupyter-widgets/controls",
      "model_module_version": "1.5.0",
      "model_name": "HTMLModel",
      "state": {
       "layout": "IPY_MODEL_0d424b73ecce4aed8226e66598bf6f59",
       "style": "IPY_MODEL_c055999101af4a58a05393708c3bad9a",
       "value": " 5/5 [00:30&lt;00:00,  5.68s/it, fit=0.00]"
      }
     },
     "f99e13b6fc744386b385adcb41d4cfff": {
      "model_module": "@jupyter-widgets/base",
      "model_module_version": "1.2.0",
      "model_name": "LayoutModel",
      "state": {}
     }
    },
    "version_major": 2,
    "version_minor": 0
   }
  }
 },
 "nbformat": 4,
 "nbformat_minor": 5
}

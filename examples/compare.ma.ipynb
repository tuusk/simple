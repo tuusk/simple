{
 "cells": [
  {
   "cell_type": "markdown",
   "id": "84f7807b-4d84-46a8-b5fb-8625b03b1935",
   "metadata": {},
   "source": [
    "# Compare different moving averages"
   ]
  },
  {
   "cell_type": "code",
   "execution_count": 1,
   "id": "738a45a0-9f11-413a-94a1-4e5b6e5a4ce9",
   "metadata": {},
   "outputs": [],
   "source": [
    "from simple.funcs import cwma, epma, vwap\n",
    "import numpy as np\n",
    "from simple.chart import interactFigure"
   ]
  },
  {
   "cell_type": "code",
   "execution_count": 2,
   "id": "1d9edf63-1c1f-4505-bb5e-ef0c81398233",
   "metadata": {},
   "outputs": [
    {
     "data": {
      "text/plain": [
       "60000"
      ]
     },
     "execution_count": 2,
     "metadata": {},
     "output_type": "execute_result"
    }
   ],
   "source": [
    "T = np.load('data/ETHUSDT.2022-05-08.tick.npz')['ETHUSDT'].view(np.recarray)[:60_000]\n",
    "len(T)"
   ]
  },
  {
   "cell_type": "code",
   "execution_count": 3,
   "id": "5c69eaf3-a186-4c71-a320-112d9f885da1",
   "metadata": {},
   "outputs": [],
   "source": [
    "R = (100, 20000, 100)"
   ]
  },
  {
   "cell_type": "code",
   "execution_count": 4,
   "id": "286ad4bd-e9dd-46c7-8699-a22eccb72738",
   "metadata": {},
   "outputs": [],
   "source": [
    "def update(cwma_period: int = R, vwap_period: int = R, epma_period: int = R):\n",
    "    Tick = T.Price\n",
    "    VWAP = vwap(T, vwap_period)\n",
    "    CWMA = cwma(Tick, cwma_period)\n",
    "    EPMA = epma(Tick, epma_period)\n",
    "\n",
    "    return 0, locals()"
   ]
  },
  {
   "cell_type": "code",
   "execution_count": 5,
   "id": "185dbc4e-8afc-4adc-9336-c881fa063937",
   "metadata": {},
   "outputs": [
    {
     "data": {
      "application/vnd.jupyter.widget-view+json": {
       "model_id": "2389f1f8594b4e36869a0d7791e9a507",
       "version_major": 2,
       "version_minor": 0
      },
      "text/plain": [
       "VBox(children=(HBox(children=(IntSlider(value=10000, description='cwma_period', max=20000, min=100, step=100),…"
      ]
     },
     "metadata": {},
     "output_type": "display_data"
    }
   ],
   "source": [
    "interactFigure(update,\n",
    "    Tick=dict(color='gray', opacity=0.3),\n",
    "    VWAP={},\n",
    "    CWMA={},\n",
    "    EPMA=dict()\n",
    ")"
   ]
  }
 ],
 "metadata": {
  "kernelspec": {
   "display_name": "Python 3 (ipykernel)",
   "language": "python",
   "name": "python3"
  },
  "language_info": {
   "codemirror_mode": {
    "name": "ipython",
    "version": 3
   },
   "file_extension": ".py",
   "mimetype": "text/x-python",
   "name": "python",
   "nbconvert_exporter": "python",
   "pygments_lexer": "ipython3",
   "version": "3.8.13"
  },
  "widgets": {
   "application/vnd.jupyter.widget-state+json": {
    "state": {
     "1bb27e241cef45f1b8c1b7d6334aa544": {
      "model_module": "@jupyter-widgets/base",
      "model_module_version": "1.2.0",
      "model_name": "LayoutModel",
      "state": {}
     },
     "1ddac5305056406c9f7c3b551c8c3a93": {
      "model_module": "@jupyter-widgets/controls",
      "model_module_version": "1.5.0",
      "model_name": "SliderStyleModel",
      "state": {
       "description_width": ""
      }
     },
     "2389f1f8594b4e36869a0d7791e9a507": {
      "model_module": "@jupyter-widgets/controls",
      "model_module_version": "1.5.0",
      "model_name": "VBoxModel",
      "state": {
       "children": [
        "IPY_MODEL_68e1fe2ef03e43aba5a1c1c485f1790b",
        "IPY_MODEL_ffbeff642c4548f6a5fa96fb3ba0e85b"
       ],
       "layout": "IPY_MODEL_6a180099fa164d69a3cba875d958250c"
      }
     },
     "2b9fe4f74fcd4fc6a7941d0fb0bb6fe6": {
      "model_module": "@jupyter-widgets/controls",
      "model_module_version": "1.5.0",
      "model_name": "IntSliderModel",
      "state": {
       "description": "epma_period",
       "layout": "IPY_MODEL_36b5c5e58153449cb3d2588d0eca5b01",
       "max": 20000,
       "min": 100,
       "step": 100,
       "style": "IPY_MODEL_f0a1e6094df5419487e41cb7bfa7d95e",
       "value": 6200
      }
     },
     "36b5c5e58153449cb3d2588d0eca5b01": {
      "model_module": "@jupyter-widgets/base",
      "model_module_version": "1.2.0",
      "model_name": "LayoutModel",
      "state": {}
     },
     "39e3b2bf6d9943f9b909686de0db4d9c": {
      "model_module": "@jupyter-widgets/base",
      "model_module_version": "1.2.0",
      "model_name": "LayoutModel",
      "state": {}
     },
     "538e24025e164b7499c9238027607c62": {
      "model_module": "jupyterlab-plotly",
      "model_module_version": "^5.6.0",
      "model_name": "FigureModel",
      "state": {
       "_config": {
        "plotlyServerURL": "https://plot.ly"
       },
       "_js2py_layoutDelta": {},
       "_js2py_pointsCallback": {},
       "_js2py_relayout": {},
       "_js2py_restyle": {},
       "_js2py_traceDeltas": {},
       "_js2py_update": {},
       "_layout": {
        "template": {
         "data": {
          "bar": [
           {
            "error_x": {
             "color": "#2a3f5f"
            },
            "error_y": {
             "color": "#2a3f5f"
            },
            "marker": {
             "line": {
              "color": "#E5ECF6",
              "width": 0.5
             },
             "pattern": {
              "fillmode": "overlay",
              "size": 10,
              "solidity": 0.2
             }
            },
            "type": "bar"
           }
          ],
          "barpolar": [
           {
            "marker": {
             "line": {
              "color": "#E5ECF6",
              "width": 0.5
             },
             "pattern": {
              "fillmode": "overlay",
              "size": 10,
              "solidity": 0.2
             }
            },
            "type": "barpolar"
           }
          ],
          "carpet": [
           {
            "aaxis": {
             "endlinecolor": "#2a3f5f",
             "gridcolor": "white",
             "linecolor": "white",
             "minorgridcolor": "white",
             "startlinecolor": "#2a3f5f"
            },
            "baxis": {
             "endlinecolor": "#2a3f5f",
             "gridcolor": "white",
             "linecolor": "white",
             "minorgridcolor": "white",
             "startlinecolor": "#2a3f5f"
            },
            "type": "carpet"
           }
          ],
          "choropleth": [
           {
            "colorbar": {
             "outlinewidth": 0,
             "ticks": ""
            },
            "type": "choropleth"
           }
          ],
          "contour": [
           {
            "colorbar": {
             "outlinewidth": 0,
             "ticks": ""
            },
            "colorscale": [
             [
              0,
              "#0d0887"
             ],
             [
              0.1111111111111111,
              "#46039f"
             ],
             [
              0.2222222222222222,
              "#7201a8"
             ],
             [
              0.3333333333333333,
              "#9c179e"
             ],
             [
              0.4444444444444444,
              "#bd3786"
             ],
             [
              0.5555555555555556,
              "#d8576b"
             ],
             [
              0.6666666666666666,
              "#ed7953"
             ],
             [
              0.7777777777777778,
              "#fb9f3a"
             ],
             [
              0.8888888888888888,
              "#fdca26"
             ],
             [
              1,
              "#f0f921"
             ]
            ],
            "type": "contour"
           }
          ],
          "contourcarpet": [
           {
            "colorbar": {
             "outlinewidth": 0,
             "ticks": ""
            },
            "type": "contourcarpet"
           }
          ],
          "heatmap": [
           {
            "colorbar": {
             "outlinewidth": 0,
             "ticks": ""
            },
            "colorscale": [
             [
              0,
              "#0d0887"
             ],
             [
              0.1111111111111111,
              "#46039f"
             ],
             [
              0.2222222222222222,
              "#7201a8"
             ],
             [
              0.3333333333333333,
              "#9c179e"
             ],
             [
              0.4444444444444444,
              "#bd3786"
             ],
             [
              0.5555555555555556,
              "#d8576b"
             ],
             [
              0.6666666666666666,
              "#ed7953"
             ],
             [
              0.7777777777777778,
              "#fb9f3a"
             ],
             [
              0.8888888888888888,
              "#fdca26"
             ],
             [
              1,
              "#f0f921"
             ]
            ],
            "type": "heatmap"
           }
          ],
          "heatmapgl": [
           {
            "colorbar": {
             "outlinewidth": 0,
             "ticks": ""
            },
            "colorscale": [
             [
              0,
              "#0d0887"
             ],
             [
              0.1111111111111111,
              "#46039f"
             ],
             [
              0.2222222222222222,
              "#7201a8"
             ],
             [
              0.3333333333333333,
              "#9c179e"
             ],
             [
              0.4444444444444444,
              "#bd3786"
             ],
             [
              0.5555555555555556,
              "#d8576b"
             ],
             [
              0.6666666666666666,
              "#ed7953"
             ],
             [
              0.7777777777777778,
              "#fb9f3a"
             ],
             [
              0.8888888888888888,
              "#fdca26"
             ],
             [
              1,
              "#f0f921"
             ]
            ],
            "type": "heatmapgl"
           }
          ],
          "histogram": [
           {
            "marker": {
             "pattern": {
              "fillmode": "overlay",
              "size": 10,
              "solidity": 0.2
             }
            },
            "type": "histogram"
           }
          ],
          "histogram2d": [
           {
            "colorbar": {
             "outlinewidth": 0,
             "ticks": ""
            },
            "colorscale": [
             [
              0,
              "#0d0887"
             ],
             [
              0.1111111111111111,
              "#46039f"
             ],
             [
              0.2222222222222222,
              "#7201a8"
             ],
             [
              0.3333333333333333,
              "#9c179e"
             ],
             [
              0.4444444444444444,
              "#bd3786"
             ],
             [
              0.5555555555555556,
              "#d8576b"
             ],
             [
              0.6666666666666666,
              "#ed7953"
             ],
             [
              0.7777777777777778,
              "#fb9f3a"
             ],
             [
              0.8888888888888888,
              "#fdca26"
             ],
             [
              1,
              "#f0f921"
             ]
            ],
            "type": "histogram2d"
           }
          ],
          "histogram2dcontour": [
           {
            "colorbar": {
             "outlinewidth": 0,
             "ticks": ""
            },
            "colorscale": [
             [
              0,
              "#0d0887"
             ],
             [
              0.1111111111111111,
              "#46039f"
             ],
             [
              0.2222222222222222,
              "#7201a8"
             ],
             [
              0.3333333333333333,
              "#9c179e"
             ],
             [
              0.4444444444444444,
              "#bd3786"
             ],
             [
              0.5555555555555556,
              "#d8576b"
             ],
             [
              0.6666666666666666,
              "#ed7953"
             ],
             [
              0.7777777777777778,
              "#fb9f3a"
             ],
             [
              0.8888888888888888,
              "#fdca26"
             ],
             [
              1,
              "#f0f921"
             ]
            ],
            "type": "histogram2dcontour"
           }
          ],
          "mesh3d": [
           {
            "colorbar": {
             "outlinewidth": 0,
             "ticks": ""
            },
            "type": "mesh3d"
           }
          ],
          "parcoords": [
           {
            "line": {
             "colorbar": {
              "outlinewidth": 0,
              "ticks": ""
             }
            },
            "type": "parcoords"
           }
          ],
          "pie": [
           {
            "automargin": true,
            "type": "pie"
           }
          ],
          "scatter": [
           {
            "marker": {
             "colorbar": {
              "outlinewidth": 0,
              "ticks": ""
             }
            },
            "type": "scatter"
           }
          ],
          "scatter3d": [
           {
            "line": {
             "colorbar": {
              "outlinewidth": 0,
              "ticks": ""
             }
            },
            "marker": {
             "colorbar": {
              "outlinewidth": 0,
              "ticks": ""
             }
            },
            "type": "scatter3d"
           }
          ],
          "scattercarpet": [
           {
            "marker": {
             "colorbar": {
              "outlinewidth": 0,
              "ticks": ""
             }
            },
            "type": "scattercarpet"
           }
          ],
          "scattergeo": [
           {
            "marker": {
             "colorbar": {
              "outlinewidth": 0,
              "ticks": ""
             }
            },
            "type": "scattergeo"
           }
          ],
          "scattergl": [
           {
            "marker": {
             "colorbar": {
              "outlinewidth": 0,
              "ticks": ""
             }
            },
            "type": "scattergl"
           }
          ],
          "scattermapbox": [
           {
            "marker": {
             "colorbar": {
              "outlinewidth": 0,
              "ticks": ""
             }
            },
            "type": "scattermapbox"
           }
          ],
          "scatterpolar": [
           {
            "marker": {
             "colorbar": {
              "outlinewidth": 0,
              "ticks": ""
             }
            },
            "type": "scatterpolar"
           }
          ],
          "scatterpolargl": [
           {
            "marker": {
             "colorbar": {
              "outlinewidth": 0,
              "ticks": ""
             }
            },
            "type": "scatterpolargl"
           }
          ],
          "scatterternary": [
           {
            "marker": {
             "colorbar": {
              "outlinewidth": 0,
              "ticks": ""
             }
            },
            "type": "scatterternary"
           }
          ],
          "surface": [
           {
            "colorbar": {
             "outlinewidth": 0,
             "ticks": ""
            },
            "colorscale": [
             [
              0,
              "#0d0887"
             ],
             [
              0.1111111111111111,
              "#46039f"
             ],
             [
              0.2222222222222222,
              "#7201a8"
             ],
             [
              0.3333333333333333,
              "#9c179e"
             ],
             [
              0.4444444444444444,
              "#bd3786"
             ],
             [
              0.5555555555555556,
              "#d8576b"
             ],
             [
              0.6666666666666666,
              "#ed7953"
             ],
             [
              0.7777777777777778,
              "#fb9f3a"
             ],
             [
              0.8888888888888888,
              "#fdca26"
             ],
             [
              1,
              "#f0f921"
             ]
            ],
            "type": "surface"
           }
          ],
          "table": [
           {
            "cells": {
             "fill": {
              "color": "#EBF0F8"
             },
             "line": {
              "color": "white"
             }
            },
            "header": {
             "fill": {
              "color": "#C8D4E3"
             },
             "line": {
              "color": "white"
             }
            },
            "type": "table"
           }
          ]
         },
         "layout": {
          "annotationdefaults": {
           "arrowcolor": "#2a3f5f",
           "arrowhead": 0,
           "arrowwidth": 1
          },
          "autotypenumbers": "strict",
          "coloraxis": {
           "colorbar": {
            "outlinewidth": 0,
            "ticks": ""
           }
          },
          "colorscale": {
           "diverging": [
            [
             0,
             "#8e0152"
            ],
            [
             0.1,
             "#c51b7d"
            ],
            [
             0.2,
             "#de77ae"
            ],
            [
             0.3,
             "#f1b6da"
            ],
            [
             0.4,
             "#fde0ef"
            ],
            [
             0.5,
             "#f7f7f7"
            ],
            [
             0.6,
             "#e6f5d0"
            ],
            [
             0.7,
             "#b8e186"
            ],
            [
             0.8,
             "#7fbc41"
            ],
            [
             0.9,
             "#4d9221"
            ],
            [
             1,
             "#276419"
            ]
           ],
           "sequential": [
            [
             0,
             "#0d0887"
            ],
            [
             0.1111111111111111,
             "#46039f"
            ],
            [
             0.2222222222222222,
             "#7201a8"
            ],
            [
             0.3333333333333333,
             "#9c179e"
            ],
            [
             0.4444444444444444,
             "#bd3786"
            ],
            [
             0.5555555555555556,
             "#d8576b"
            ],
            [
             0.6666666666666666,
             "#ed7953"
            ],
            [
             0.7777777777777778,
             "#fb9f3a"
            ],
            [
             0.8888888888888888,
             "#fdca26"
            ],
            [
             1,
             "#f0f921"
            ]
           ],
           "sequentialminus": [
            [
             0,
             "#0d0887"
            ],
            [
             0.1111111111111111,
             "#46039f"
            ],
            [
             0.2222222222222222,
             "#7201a8"
            ],
            [
             0.3333333333333333,
             "#9c179e"
            ],
            [
             0.4444444444444444,
             "#bd3786"
            ],
            [
             0.5555555555555556,
             "#d8576b"
            ],
            [
             0.6666666666666666,
             "#ed7953"
            ],
            [
             0.7777777777777778,
             "#fb9f3a"
            ],
            [
             0.8888888888888888,
             "#fdca26"
            ],
            [
             1,
             "#f0f921"
            ]
           ]
          },
          "colorway": [
           "#636efa",
           "#EF553B",
           "#00cc96",
           "#ab63fa",
           "#FFA15A",
           "#19d3f3",
           "#FF6692",
           "#B6E880",
           "#FF97FF",
           "#FECB52"
          ],
          "font": {
           "color": "#2a3f5f"
          },
          "geo": {
           "bgcolor": "white",
           "lakecolor": "white",
           "landcolor": "#E5ECF6",
           "showlakes": true,
           "showland": true,
           "subunitcolor": "white"
          },
          "hoverlabel": {
           "align": "left"
          },
          "hovermode": "closest",
          "mapbox": {
           "style": "light"
          },
          "paper_bgcolor": "white",
          "plot_bgcolor": "#E5ECF6",
          "polar": {
           "angularaxis": {
            "gridcolor": "white",
            "linecolor": "white",
            "ticks": ""
           },
           "bgcolor": "#E5ECF6",
           "radialaxis": {
            "gridcolor": "white",
            "linecolor": "white",
            "ticks": ""
           }
          },
          "scene": {
           "xaxis": {
            "backgroundcolor": "#E5ECF6",
            "gridcolor": "white",
            "gridwidth": 2,
            "linecolor": "white",
            "showbackground": true,
            "ticks": "",
            "zerolinecolor": "white"
           },
           "yaxis": {
            "backgroundcolor": "#E5ECF6",
            "gridcolor": "white",
            "gridwidth": 2,
            "linecolor": "white",
            "showbackground": true,
            "ticks": "",
            "zerolinecolor": "white"
           },
           "zaxis": {
            "backgroundcolor": "#E5ECF6",
            "gridcolor": "white",
            "gridwidth": 2,
            "linecolor": "white",
            "showbackground": true,
            "ticks": "",
            "zerolinecolor": "white"
           }
          },
          "shapedefaults": {
           "line": {
            "color": "#2a3f5f"
           }
          },
          "ternary": {
           "aaxis": {
            "gridcolor": "white",
            "linecolor": "white",
            "ticks": ""
           },
           "baxis": {
            "gridcolor": "white",
            "linecolor": "white",
            "ticks": ""
           },
           "bgcolor": "#E5ECF6",
           "caxis": {
            "gridcolor": "white",
            "linecolor": "white",
            "ticks": ""
           }
          },
          "title": {
           "x": 0.05
          },
          "xaxis": {
           "automargin": true,
           "gridcolor": "white",
           "linecolor": "white",
           "ticks": "",
           "title": {
            "standoff": 15
           },
           "zerolinecolor": "white",
           "zerolinewidth": 2
          },
          "yaxis": {
           "automargin": true,
           "gridcolor": "white",
           "linecolor": "white",
           "ticks": "",
           "title": {
            "standoff": 15
           },
           "zerolinecolor": "white",
           "zerolinewidth": 2
          }
         }
        },
        "xaxis": {
         "anchor": "y",
         "domain": [
          0,
          0.94
         ]
        },
        "yaxis": {
         "anchor": "x",
         "domain": [
          0,
          1
         ]
        },
        "yaxis2": {
         "anchor": "x",
         "overlaying": "y",
         "side": "right"
        }
       },
       "_py2js_addTraces": {},
       "_py2js_animate": {},
       "_py2js_deleteTraces": {},
       "_py2js_moveTraces": {},
       "_py2js_relayout": {},
       "_py2js_removeLayoutProps": {},
       "_py2js_removeTraceProps": {},
       "_py2js_restyle": {},
       "_py2js_update": {},
       "_view_count": 0
      }
     },
     "57ffae00a9e849dfb6673444ea990ada": {
      "model_module": "@jupyter-widgets/output",
      "model_module_version": "1.0.0",
      "model_name": "OutputModel",
      "state": {
       "layout": "IPY_MODEL_a943a7c939af4d938de54a5cdba769eb"
      }
     },
     "68ddb3061bdf46edb042193f83f26235": {
      "model_module": "@jupyter-widgets/controls",
      "model_module_version": "1.5.0",
      "model_name": "IntSliderModel",
      "state": {
       "description": "cwma_period",
       "layout": "IPY_MODEL_1bb27e241cef45f1b8c1b7d6334aa544",
       "max": 20000,
       "min": 100,
       "step": 100,
       "style": "IPY_MODEL_c5a40f4bc3264c69a9a56c56f8acb383",
       "value": 14700
      }
     },
     "68e1fe2ef03e43aba5a1c1c485f1790b": {
      "model_module": "@jupyter-widgets/controls",
      "model_module_version": "1.5.0",
      "model_name": "HBoxModel",
      "state": {
       "children": [
        "IPY_MODEL_68ddb3061bdf46edb042193f83f26235",
        "IPY_MODEL_fc0a8f5a9f0f495bbadc0e481be8741c",
        "IPY_MODEL_2b9fe4f74fcd4fc6a7941d0fb0bb6fe6"
       ],
       "layout": "IPY_MODEL_f6e3296ac30644b781185cc045e1891c"
      }
     },
     "6a180099fa164d69a3cba875d958250c": {
      "model_module": "@jupyter-widgets/base",
      "model_module_version": "1.2.0",
      "model_name": "LayoutModel",
      "state": {}
     },
     "6ea1569dca2d4619b3aed89d6172d385": {
      "model_module": "jupyterlab-plotly",
      "model_module_version": "^5.6.0",
      "model_name": "FigureModel",
      "state": {
       "_config": {
        "plotlyServerURL": "https://plot.ly"
       },
       "_js2py_layoutDelta": {},
       "_js2py_pointsCallback": {},
       "_js2py_relayout": {},
       "_js2py_restyle": {},
       "_js2py_traceDeltas": {},
       "_js2py_update": {},
       "_layout": {
        "template": {
         "data": {
          "bar": [
           {
            "error_x": {
             "color": "#2a3f5f"
            },
            "error_y": {
             "color": "#2a3f5f"
            },
            "marker": {
             "line": {
              "color": "#E5ECF6",
              "width": 0.5
             },
             "pattern": {
              "fillmode": "overlay",
              "size": 10,
              "solidity": 0.2
             }
            },
            "type": "bar"
           }
          ],
          "barpolar": [
           {
            "marker": {
             "line": {
              "color": "#E5ECF6",
              "width": 0.5
             },
             "pattern": {
              "fillmode": "overlay",
              "size": 10,
              "solidity": 0.2
             }
            },
            "type": "barpolar"
           }
          ],
          "carpet": [
           {
            "aaxis": {
             "endlinecolor": "#2a3f5f",
             "gridcolor": "white",
             "linecolor": "white",
             "minorgridcolor": "white",
             "startlinecolor": "#2a3f5f"
            },
            "baxis": {
             "endlinecolor": "#2a3f5f",
             "gridcolor": "white",
             "linecolor": "white",
             "minorgridcolor": "white",
             "startlinecolor": "#2a3f5f"
            },
            "type": "carpet"
           }
          ],
          "choropleth": [
           {
            "colorbar": {
             "outlinewidth": 0,
             "ticks": ""
            },
            "type": "choropleth"
           }
          ],
          "contour": [
           {
            "colorbar": {
             "outlinewidth": 0,
             "ticks": ""
            },
            "colorscale": [
             [
              0,
              "#0d0887"
             ],
             [
              0.1111111111111111,
              "#46039f"
             ],
             [
              0.2222222222222222,
              "#7201a8"
             ],
             [
              0.3333333333333333,
              "#9c179e"
             ],
             [
              0.4444444444444444,
              "#bd3786"
             ],
             [
              0.5555555555555556,
              "#d8576b"
             ],
             [
              0.6666666666666666,
              "#ed7953"
             ],
             [
              0.7777777777777778,
              "#fb9f3a"
             ],
             [
              0.8888888888888888,
              "#fdca26"
             ],
             [
              1,
              "#f0f921"
             ]
            ],
            "type": "contour"
           }
          ],
          "contourcarpet": [
           {
            "colorbar": {
             "outlinewidth": 0,
             "ticks": ""
            },
            "type": "contourcarpet"
           }
          ],
          "heatmap": [
           {
            "colorbar": {
             "outlinewidth": 0,
             "ticks": ""
            },
            "colorscale": [
             [
              0,
              "#0d0887"
             ],
             [
              0.1111111111111111,
              "#46039f"
             ],
             [
              0.2222222222222222,
              "#7201a8"
             ],
             [
              0.3333333333333333,
              "#9c179e"
             ],
             [
              0.4444444444444444,
              "#bd3786"
             ],
             [
              0.5555555555555556,
              "#d8576b"
             ],
             [
              0.6666666666666666,
              "#ed7953"
             ],
             [
              0.7777777777777778,
              "#fb9f3a"
             ],
             [
              0.8888888888888888,
              "#fdca26"
             ],
             [
              1,
              "#f0f921"
             ]
            ],
            "type": "heatmap"
           }
          ],
          "heatmapgl": [
           {
            "colorbar": {
             "outlinewidth": 0,
             "ticks": ""
            },
            "colorscale": [
             [
              0,
              "#0d0887"
             ],
             [
              0.1111111111111111,
              "#46039f"
             ],
             [
              0.2222222222222222,
              "#7201a8"
             ],
             [
              0.3333333333333333,
              "#9c179e"
             ],
             [
              0.4444444444444444,
              "#bd3786"
             ],
             [
              0.5555555555555556,
              "#d8576b"
             ],
             [
              0.6666666666666666,
              "#ed7953"
             ],
             [
              0.7777777777777778,
              "#fb9f3a"
             ],
             [
              0.8888888888888888,
              "#fdca26"
             ],
             [
              1,
              "#f0f921"
             ]
            ],
            "type": "heatmapgl"
           }
          ],
          "histogram": [
           {
            "marker": {
             "pattern": {
              "fillmode": "overlay",
              "size": 10,
              "solidity": 0.2
             }
            },
            "type": "histogram"
           }
          ],
          "histogram2d": [
           {
            "colorbar": {
             "outlinewidth": 0,
             "ticks": ""
            },
            "colorscale": [
             [
              0,
              "#0d0887"
             ],
             [
              0.1111111111111111,
              "#46039f"
             ],
             [
              0.2222222222222222,
              "#7201a8"
             ],
             [
              0.3333333333333333,
              "#9c179e"
             ],
             [
              0.4444444444444444,
              "#bd3786"
             ],
             [
              0.5555555555555556,
              "#d8576b"
             ],
             [
              0.6666666666666666,
              "#ed7953"
             ],
             [
              0.7777777777777778,
              "#fb9f3a"
             ],
             [
              0.8888888888888888,
              "#fdca26"
             ],
             [
              1,
              "#f0f921"
             ]
            ],
            "type": "histogram2d"
           }
          ],
          "histogram2dcontour": [
           {
            "colorbar": {
             "outlinewidth": 0,
             "ticks": ""
            },
            "colorscale": [
             [
              0,
              "#0d0887"
             ],
             [
              0.1111111111111111,
              "#46039f"
             ],
             [
              0.2222222222222222,
              "#7201a8"
             ],
             [
              0.3333333333333333,
              "#9c179e"
             ],
             [
              0.4444444444444444,
              "#bd3786"
             ],
             [
              0.5555555555555556,
              "#d8576b"
             ],
             [
              0.6666666666666666,
              "#ed7953"
             ],
             [
              0.7777777777777778,
              "#fb9f3a"
             ],
             [
              0.8888888888888888,
              "#fdca26"
             ],
             [
              1,
              "#f0f921"
             ]
            ],
            "type": "histogram2dcontour"
           }
          ],
          "mesh3d": [
           {
            "colorbar": {
             "outlinewidth": 0,
             "ticks": ""
            },
            "type": "mesh3d"
           }
          ],
          "parcoords": [
           {
            "line": {
             "colorbar": {
              "outlinewidth": 0,
              "ticks": ""
             }
            },
            "type": "parcoords"
           }
          ],
          "pie": [
           {
            "automargin": true,
            "type": "pie"
           }
          ],
          "scatter": [
           {
            "marker": {
             "colorbar": {
              "outlinewidth": 0,
              "ticks": ""
             }
            },
            "type": "scatter"
           }
          ],
          "scatter3d": [
           {
            "line": {
             "colorbar": {
              "outlinewidth": 0,
              "ticks": ""
             }
            },
            "marker": {
             "colorbar": {
              "outlinewidth": 0,
              "ticks": ""
             }
            },
            "type": "scatter3d"
           }
          ],
          "scattercarpet": [
           {
            "marker": {
             "colorbar": {
              "outlinewidth": 0,
              "ticks": ""
             }
            },
            "type": "scattercarpet"
           }
          ],
          "scattergeo": [
           {
            "marker": {
             "colorbar": {
              "outlinewidth": 0,
              "ticks": ""
             }
            },
            "type": "scattergeo"
           }
          ],
          "scattergl": [
           {
            "marker": {
             "colorbar": {
              "outlinewidth": 0,
              "ticks": ""
             }
            },
            "type": "scattergl"
           }
          ],
          "scattermapbox": [
           {
            "marker": {
             "colorbar": {
              "outlinewidth": 0,
              "ticks": ""
             }
            },
            "type": "scattermapbox"
           }
          ],
          "scatterpolar": [
           {
            "marker": {
             "colorbar": {
              "outlinewidth": 0,
              "ticks": ""
             }
            },
            "type": "scatterpolar"
           }
          ],
          "scatterpolargl": [
           {
            "marker": {
             "colorbar": {
              "outlinewidth": 0,
              "ticks": ""
             }
            },
            "type": "scatterpolargl"
           }
          ],
          "scatterternary": [
           {
            "marker": {
             "colorbar": {
              "outlinewidth": 0,
              "ticks": ""
             }
            },
            "type": "scatterternary"
           }
          ],
          "surface": [
           {
            "colorbar": {
             "outlinewidth": 0,
             "ticks": ""
            },
            "colorscale": [
             [
              0,
              "#0d0887"
             ],
             [
              0.1111111111111111,
              "#46039f"
             ],
             [
              0.2222222222222222,
              "#7201a8"
             ],
             [
              0.3333333333333333,
              "#9c179e"
             ],
             [
              0.4444444444444444,
              "#bd3786"
             ],
             [
              0.5555555555555556,
              "#d8576b"
             ],
             [
              0.6666666666666666,
              "#ed7953"
             ],
             [
              0.7777777777777778,
              "#fb9f3a"
             ],
             [
              0.8888888888888888,
              "#fdca26"
             ],
             [
              1,
              "#f0f921"
             ]
            ],
            "type": "surface"
           }
          ],
          "table": [
           {
            "cells": {
             "fill": {
              "color": "#EBF0F8"
             },
             "line": {
              "color": "white"
             }
            },
            "header": {
             "fill": {
              "color": "#C8D4E3"
             },
             "line": {
              "color": "white"
             }
            },
            "type": "table"
           }
          ]
         },
         "layout": {
          "annotationdefaults": {
           "arrowcolor": "#2a3f5f",
           "arrowhead": 0,
           "arrowwidth": 1
          },
          "autotypenumbers": "strict",
          "coloraxis": {
           "colorbar": {
            "outlinewidth": 0,
            "ticks": ""
           }
          },
          "colorscale": {
           "diverging": [
            [
             0,
             "#8e0152"
            ],
            [
             0.1,
             "#c51b7d"
            ],
            [
             0.2,
             "#de77ae"
            ],
            [
             0.3,
             "#f1b6da"
            ],
            [
             0.4,
             "#fde0ef"
            ],
            [
             0.5,
             "#f7f7f7"
            ],
            [
             0.6,
             "#e6f5d0"
            ],
            [
             0.7,
             "#b8e186"
            ],
            [
             0.8,
             "#7fbc41"
            ],
            [
             0.9,
             "#4d9221"
            ],
            [
             1,
             "#276419"
            ]
           ],
           "sequential": [
            [
             0,
             "#0d0887"
            ],
            [
             0.1111111111111111,
             "#46039f"
            ],
            [
             0.2222222222222222,
             "#7201a8"
            ],
            [
             0.3333333333333333,
             "#9c179e"
            ],
            [
             0.4444444444444444,
             "#bd3786"
            ],
            [
             0.5555555555555556,
             "#d8576b"
            ],
            [
             0.6666666666666666,
             "#ed7953"
            ],
            [
             0.7777777777777778,
             "#fb9f3a"
            ],
            [
             0.8888888888888888,
             "#fdca26"
            ],
            [
             1,
             "#f0f921"
            ]
           ],
           "sequentialminus": [
            [
             0,
             "#0d0887"
            ],
            [
             0.1111111111111111,
             "#46039f"
            ],
            [
             0.2222222222222222,
             "#7201a8"
            ],
            [
             0.3333333333333333,
             "#9c179e"
            ],
            [
             0.4444444444444444,
             "#bd3786"
            ],
            [
             0.5555555555555556,
             "#d8576b"
            ],
            [
             0.6666666666666666,
             "#ed7953"
            ],
            [
             0.7777777777777778,
             "#fb9f3a"
            ],
            [
             0.8888888888888888,
             "#fdca26"
            ],
            [
             1,
             "#f0f921"
            ]
           ]
          },
          "colorway": [
           "#636efa",
           "#EF553B",
           "#00cc96",
           "#ab63fa",
           "#FFA15A",
           "#19d3f3",
           "#FF6692",
           "#B6E880",
           "#FF97FF",
           "#FECB52"
          ],
          "font": {
           "color": "#2a3f5f"
          },
          "geo": {
           "bgcolor": "white",
           "lakecolor": "white",
           "landcolor": "#E5ECF6",
           "showlakes": true,
           "showland": true,
           "subunitcolor": "white"
          },
          "hoverlabel": {
           "align": "left"
          },
          "hovermode": "closest",
          "mapbox": {
           "style": "light"
          },
          "paper_bgcolor": "white",
          "plot_bgcolor": "#E5ECF6",
          "polar": {
           "angularaxis": {
            "gridcolor": "white",
            "linecolor": "white",
            "ticks": ""
           },
           "bgcolor": "#E5ECF6",
           "radialaxis": {
            "gridcolor": "white",
            "linecolor": "white",
            "ticks": ""
           }
          },
          "scene": {
           "xaxis": {
            "backgroundcolor": "#E5ECF6",
            "gridcolor": "white",
            "gridwidth": 2,
            "linecolor": "white",
            "showbackground": true,
            "ticks": "",
            "zerolinecolor": "white"
           },
           "yaxis": {
            "backgroundcolor": "#E5ECF6",
            "gridcolor": "white",
            "gridwidth": 2,
            "linecolor": "white",
            "showbackground": true,
            "ticks": "",
            "zerolinecolor": "white"
           },
           "zaxis": {
            "backgroundcolor": "#E5ECF6",
            "gridcolor": "white",
            "gridwidth": 2,
            "linecolor": "white",
            "showbackground": true,
            "ticks": "",
            "zerolinecolor": "white"
           }
          },
          "shapedefaults": {
           "line": {
            "color": "#2a3f5f"
           }
          },
          "ternary": {
           "aaxis": {
            "gridcolor": "white",
            "linecolor": "white",
            "ticks": ""
           },
           "baxis": {
            "gridcolor": "white",
            "linecolor": "white",
            "ticks": ""
           },
           "bgcolor": "#E5ECF6",
           "caxis": {
            "gridcolor": "white",
            "linecolor": "white",
            "ticks": ""
           }
          },
          "title": {
           "x": 0.05
          },
          "xaxis": {
           "automargin": true,
           "gridcolor": "white",
           "linecolor": "white",
           "ticks": "",
           "title": {
            "standoff": 15
           },
           "zerolinecolor": "white",
           "zerolinewidth": 2
          },
          "yaxis": {
           "automargin": true,
           "gridcolor": "white",
           "linecolor": "white",
           "ticks": "",
           "title": {
            "standoff": 15
           },
           "zerolinecolor": "white",
           "zerolinewidth": 2
          }
         }
        },
        "xaxis": {
         "anchor": "y",
         "domain": [
          0,
          0.94
         ]
        },
        "yaxis": {
         "anchor": "x",
         "domain": [
          0,
          1
         ]
        },
        "yaxis2": {
         "anchor": "x",
         "overlaying": "y",
         "side": "right"
        }
       },
       "_py2js_addTraces": {},
       "_py2js_animate": {},
       "_py2js_deleteTraces": {},
       "_py2js_moveTraces": {},
       "_py2js_relayout": {},
       "_py2js_removeLayoutProps": {},
       "_py2js_removeTraceProps": {},
       "_py2js_restyle": {},
       "_py2js_update": {},
       "_view_count": 0
      }
     },
     "a943a7c939af4d938de54a5cdba769eb": {
      "model_module": "@jupyter-widgets/base",
      "model_module_version": "1.2.0",
      "model_name": "LayoutModel",
      "state": {}
     },
     "c5a40f4bc3264c69a9a56c56f8acb383": {
      "model_module": "@jupyter-widgets/controls",
      "model_module_version": "1.5.0",
      "model_name": "SliderStyleModel",
      "state": {
       "description_width": ""
      }
     },
     "c5a8973c4e5c4700bf5a626ba07bb132": {
      "model_module": "@jupyter-widgets/base",
      "model_module_version": "1.2.0",
      "model_name": "LayoutModel",
      "state": {}
     },
     "f0a1e6094df5419487e41cb7bfa7d95e": {
      "model_module": "@jupyter-widgets/controls",
      "model_module_version": "1.5.0",
      "model_name": "SliderStyleModel",
      "state": {
       "description_width": ""
      }
     },
     "f6e3296ac30644b781185cc045e1891c": {
      "model_module": "@jupyter-widgets/base",
      "model_module_version": "1.2.0",
      "model_name": "LayoutModel",
      "state": {}
     },
     "fc0a8f5a9f0f495bbadc0e481be8741c": {
      "model_module": "@jupyter-widgets/controls",
      "model_module_version": "1.5.0",
      "model_name": "IntSliderModel",
      "state": {
       "description": "vwap_period",
       "layout": "IPY_MODEL_39e3b2bf6d9943f9b909686de0db4d9c",
       "max": 20000,
       "min": 100,
       "step": 100,
       "style": "IPY_MODEL_1ddac5305056406c9f7c3b551c8c3a93",
       "value": 10000
      }
     },
     "fc7a4acddf394f82a2a99d62b0b59dbb": {
      "model_module": "@jupyter-widgets/controls",
      "model_module_version": "1.5.0",
      "model_name": "VBoxModel",
      "state": {
       "_dom_classes": [
        "widget-interact"
       ],
       "children": [
        "IPY_MODEL_68ddb3061bdf46edb042193f83f26235",
        "IPY_MODEL_fc0a8f5a9f0f495bbadc0e481be8741c",
        "IPY_MODEL_2b9fe4f74fcd4fc6a7941d0fb0bb6fe6",
        "IPY_MODEL_57ffae00a9e849dfb6673444ea990ada"
       ],
       "layout": "IPY_MODEL_c5a8973c4e5c4700bf5a626ba07bb132"
      }
     },
     "ffbeff642c4548f6a5fa96fb3ba0e85b": {
      "buffers": [
       {
        "data": "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",
        "encoding": "base64",
        "path": [
         "_data",
         0,
         "y",
         "value"
        ]
       },
       {
        "data": "UjiAqiSVpEBSOICqJJWkQFI4gKoklaRAUjiAqiSVpEBSOICqJJWkQFI4gKoklaRAUjiAqiSVpEBSOICqJJWkQFI4gKoklaRAUjiAqiSVpEBSOICqJJWkQFI4gKoklaRAUjiAqiSVpEBSOICqJJWkQFI4gKoklaRAUjiAqiSVpEBSOICqJJWkQFI4gKoklaRAUjiAqiSVpEBSOICqJJWkQFI4gKoklaRAUjiAqiSVpEBSOICqJJWkQFI4gKoklaRAUjiAqiSVpEBSOICqJJWkQFI4gKoklaRAUjiAqiSVpEBSOICqJJWkQFI4gKoklaRAUjiAqiSVpEBSOICqJJWkQFI4gKoklaRAUjiAqiSVpEBSOICqJJWkQFI4gKoklaRAUjiAqiSVpEBSOICqJJWkQFI4gKoklaRAUjiAqiSVpEBSOICqJJWkQFI4gKoklaRAUjiAqiSVpEBSOICqJJWkQFI4gKoklaRAUjiAqiSVpEBSOICqJJWkQFI4gKoklaRAUjiAqiSVpEBSOICqJJWkQFI4gKoklaRAUjiAqiSVpEBSOICqJJWkQFI4gKoklaRAUjiAqiSVpEBSOICqJJWkQFI4gKoklaRAUjiAqiSVpEBSOICqJJWkQFI4gKoklaRAUjiAqiSVpEBSOICqJJWkQFI4gKoklaRAUjiAqiSVpEBSOICqJJWkQFI4gKoklaRAUjiAqiSVpEBSOICqJJWkQFI4gKoklaRAUjiAqiSVpEBSOICqJJWkQFI4gKoklaRAUjiAqiSVpEBSOICqJJWkQFI4gKoklaRAUjiAqiSVpEBSOICqJJWkQFI4gKoklaRAUjiAqiSVpEBSOICqJJWkQFI4gKoklaRAUjiAqiSVpEBSOICqJJWkQFI4gKoklaRAUjiAqiSVpEBSOICqJJWkQFI4gKoklaRAUjiAqiSVpEBSOICqJJWkQFI4gKoklaRAUjiAqiSVpEBSOICqJJWkQFI4gKoklaRAUjiAqiSVpEBSOICqJJWkQFI4gKoklaRAUjiAqiSVpEBSOICqJJWkQFI4gKoklaRAUjiAqiSVpEBSOICqJJWkQFI4gKoklaRAUjiAqiSVpEBSOICqJJWkQFI4gKoklaRAUjiAqiSVpEBSOICqJJWkQFI4gKoklaRAUjiAqiSVpEBSOICqJJWkQFI4gKoklaRAUjiAqiSVpEBSOICqJJWkQFI4gKoklaRAUjiAqiSVpEBSOICqJJWkQFI4gKoklaRAUjiAqiSVpEBSOICqJJWkQFI4gKoklaRAUjiAqiSVpEBSOICqJJWkQFI4gKoklaRAUjiAqiSVpEBSOICqJJWkQFI4gKoklaRAUjiAqiSVpEBSOICqJJWkQFI4gKoklaRAUjiAqiSVpEBSOICqJJWkQFI4gKoklaRAUjiAqiSVpEBSOICqJJWkQFI4gKoklaRAUjiAqiSVpEBSOICqJJWkQFI4gKoklaRAUjiAqiSVpEBSOICqJJWkQFI4gKoklaRAUjiAqiSVpEBSOICqJJWkQFI4gKoklaRAUjiAqiSVpEBSOICqJJWkQFI4gKoklaRAUjiAqiSVpEBSOICqJJWkQFI4gKoklaRAUjiAqiSVpEBSOICqJJWkQFI4gKoklaRAUjiAqiSVpEBSOICqJJWkQFI4gKoklaRAUjiAqiSVpEBSOICqJJWkQFI4gKoklaRAUjiAqiSVpEBSOICqJJWkQFI4gKoklaRAUjiAqiSVpEBSOICqJJWkQFI4gKoklaRAUjiAqiSVpEBSOICqJJWkQD337wcklaRANar7yiKVpEBpDqglHpWkQA5E/+AclaRAEWAfMA6VpEDlG3EXC5WkQCRjHswIlaRApJlUUgeVpEDo2Yfx/5SkQHk6kYLwlKRAF1yXKeyUpEBdR/6u2JSkQP/5yhzXlKRA6ktA8cCUpEA5uOqywZSkQL0+cIC6lKRAoH1fRLmUpEAi5wf8r5SkQDdR7verlKRA3o3j8qSUpEABbfTqmJSkQCDT8C2JlKRAyEYElmOUpEAlI+12WJSkQH2BBmpIlKRAoOQACzqUpEBUMQaiMJSkQLWeczcklKRAmJk24wWUpEB2AW2KA5SkQJnOM4f5k6RAuxcvdfGTpED3CaQR55OkQN0YnBHTk6RAgz0009GTpEChNOnryZOkQJogh6bGk6RApAsLgruTpEDlgrMbuJOkQGow32udk6RAdKZbQpaTpECakNt7kJOkQGF0qfpwk6RA0JcZ5GuTpECJkR/RZpOkQMYVTLtYk6RA+QsH1EqTpEA41zKcQJOkQO8jM5kmk6RACnmnSBaTpEDxLcvw8JKkQJfYRlTekqRArXSPR9ySpEClSe7glpKkQOzMGqqSkqRAtA+RS4ySpEC+C1rLiZKkQGRN/4l6kqRAuCqzbXySpED++CZee5KkQP/EQrhpkqRAIIL5jl+SpEDmPlEgSJKkQPoqKHBJkqRAIfYJLkmSpEDP/Y7kS5KkQBPfZBFQkqRAu7XYM1SSpEBOtGa+XpKkQPnI1sdTkqRAVXxCeFKSpECaNk3BSpKkQLKEtB1JkqRAj6IFvTqSpECLxEzxOJKkQNWCyS9AkqRAbEIPtT6SpEDl1bmYOpKkQFBMJCMtkqRAEwGLUCeSpEAz4UMuMZKkQBmCTEookqRA+ErEESWSpEA30juzRJKkQIHlaHJEkqRAab9/hk+SpEBQwjKVYZKkQOY9nO9xkqRAjy+NXnKSpED4N2hUdpKkQFWghYCIkqRAjwz775WSpEBcdI/im5KkQIgS3/u5kqRAmN3CismSpEAc9xDS0ZKkQNil9DzfkqRAtJsGCOWSpEBKU+JZ8ZKkQJXzdjEMk6RAH/AwlA2TpEDSYqU3IpOkQDkrX7I3k6RAqvETAjiTpECizGQmPJOkQDwSIWpJk6RA40lKn0yTpEDjhtUfUpOkQJTgqiJmk6RAEhJzEIuTpEADeiXXu5OkQGBEY+P5k6RAl4z7nhSUpEDJaIZ6KJSkQBzftag3lKRArBVd00yUpEAnvaWrdpSkQMh6dJ6HlKRArFRujqGUpEDt5TVEvpSkQJUHUkbJlKRAwpAys9GUpEAUs9KG9JSkQFLl8dsBlaRA++f4DVeVpEDRGQcEcpWkQI0/khV1laRAFrtcBX+VpEAYsl33lZWkQFpLi260laRAVIA2iPKVpEBVc4Y2H5akQO1TrhwslqRARIQS9k6WpEDAYBFgWJakQH/dPOKDlqRAPpjEEJyWpEBwJOvtx5akQCFVkybXlqRApxBn9eOWpEANHl7f7pakQAvSo1ECl6RA6UP6JRGXpEDa9WtdJ5ekQEBh2z8zl6RAhbFzPD6XpEBO99fJRpekQL+tC7FXl6RAkeVPMWCXpEDazsB7ZZekQKRIIRN5l6RAiInnHY2XpEAdCcqwmJekQIvXeKedl6RAdjoriqeXpEC0Ry3CsJekQECWnZG3l6RA1mNJz7uXpEAmpUM50ZekQCaIgRP1l6RAEdP3bRSYpEDxYBaBQZikQL5t+69NmKRAYTFXxFaYpEAGY/MHWpikQM5ePKxamKRAOI0XUGCYpEAC6qLDZ5ikQPFyuTZ/mKRA4/5jQpuYpEBA+x3cm5ikQF3nO8WhmKRA76ww06yYpEDK5K+ut5ikQGXrZOfBmKRAQ6SZ9vqYpEAj7Fx+ApmkQAGgwvsGmaRAaOgnPQiZpEAdvzsmHZmkQAT4xAovmaRAifDZhzKZpEA1nlgyS5mkQMomh8RNmaRAzS8dkU6ZpEAeuUr0VZmkQLqpBFtzmaRA3Xt5JHSZpEAuS4zmepmkQFnfrl2HmaRA1C4JkoiZpECUynHgnJmkQPd4WzehmaRAQ7bMBaSZpEAvcms08pmkQNC2oi7zmaRABIcNOBSapEB/tGqIG5qkQLLam+ASmqRA1pcvLRuapEBOi3XuA5qkQAfnAloDmqRAUu9XywiapECB+gqpDZqkQO0UP+IsmqRAdK/nEleapEBe1e9GU5qkQMyWColFmqRApI7aHkaapEBP672YUpqkQPSdR6NamqRAmlWv4FyapEBTtDK4VZqkQCygR+lYmqRAgRE9P1mapEAkp+plS5qkQDkd/c5dmqRAn/ljsk6apEC6MVVrUpqkQG3ANEBDmqRAnkkH+T+apEB5G6PWSJqkQPviTAdEmqRAD7PoVjKapEDP74jbHZqkQN4TlIgrmqRAvMK0uCuapEBuUWpiH5qkQCJuXU4rmqRA+HrwNymapEBaIEa1IpqkQMsdlZ4XmqRAbh4lGwiapEBgmv+rGpqkQJGp7MEQmqRAo2ZwQxeapECMPB43/ZmkQPOMpBjymaRAvehZofKZpEBcd36+7JmkQI2tJjPlmaRAPaGZOuuZpEDHUHeD6ZmkQGp1IyO4maRA+lfg7aiZpEAR2e/BopmkQMt1IEmqmaRAz15wQ6uZpEAPOToSppmkQNBlW5y0maRA8pTEmLOZpEAQcrWbrJmkQFa6rriLmaRAw3w0ooiZpEAEwd8IgJmkQNwVwldzmaRAHHu36WmZpEAD2qIlQJmkQJpc7NExmaRAuO7JIySZpEBfkcjuDZmkQC1osL26mKRAF5SVPbKYpEBjc3teoJikQPzNxKCVmKRA/3QJ/ICYpEAsCMoFfpikQJj9lixrmKRA23sHIDeYpEDPQmiDNZikQE4MuPgEmKRAgxWkl/WXpEBr+1Iv8JekQLNEEwPpl6RAkeRgpuSXpEDg4k56zZekQF0tYEnEl6RAjjUUS7aXpECVrZ15pJekQOBrTISHl6RACyiUQH2XpEALnozwcpekQB25hKZtl6RADVlh3UuXpEBDeLjoD5ekQAvlrbjUlqRAlQdzw8mWpEDQsrYvxJakQF8duaiylqRAKhzmKKqWpEAeN0tWk5akQN9Z+Ex+lqRA/4eznGGWpECD5Z6HWJakQA7SBAJIlqRAcV8yBDCWpEBwxvecCpakQOsgMum1laRAeUxSm6qVpEAzQOD2dpWkQIlmiZVDlaRAsxCnlimVpEAQ+xDP/ZSkQMLn5J65lKRAhV/a9o2UpEDU9V3XOpSkQGMHeKYklKRA/b4aKgGUpEBZn8Ms9pOkQBhHCjrSk6RAhHNE9MOTpEBjFBGsvpOkQI1Geb+4k6RA/QlaQYmTpEAmrCOeeZOkQI6SfnF5k6RAyhZgH3KTpEDGlcmSbJOkQBgW5v9gk6RAgsp7d0iTpEDJ6HVyRZOkQBvWxiUuk6RAnbXNS/OSpECy1YabrJKkQJgbAcsvkqRAsSlx+v+RpEAUSa5r65GkQK9Uw/vhkaRAknjmrtaRpEDizXyKzJGkQAleSXDAkaRA1O/zub6RpEDY5FvfppGkQJgzgkiPkaRAqQULbXyRpECiJAvqbpGkQK7n71AskaRAzDPKs/mQpEBIicJW55CkQM2/ZKWwkKRA4HZilqGQpEARB+1gkZCkQMZkDLaBkKRAV1usFm+QpEA+Z97lUJCkQPZ14ztEkKRA5dzgUDqQpEDYHlOoKJCkQDG3q2MlkKRAAcLu6CCQpEDZtaDIGpCkQCD7F7cXkKRA73rRtRSQpEDuL1MUApCkQAVndhLQj6RArQ+hCMyPpEDTXtG2xY+kQDpaYt2yj6RAt3yzQbGPpEDpUXHCoo+kQAsGJxqOj6RA+w5BbIuPpEDYm7ROf4+kQJVRUDh7j6RAEEU5iWiPpEA4d7PfZY+kQHpbwMtQj6RA8dJfzk+PpEAFLa4tSo+kQK0BGH9Cj6RA1J593kGPpECcdvkIO4+kQMKFMNsnj6RA4yjlKQ+PpEB4P+rqAI+kQAZGuBz4jqRAABI8FuOOpEC6lms/3I6kQNi8fbXLjqRAReLpxsaOpEBy9PzfwI6kQLqZHTK0jqRAtZUsVauOpEC4uAOqf46kQKxEgcB8jqRAGz0ayHCOpEAIfb/eYI6kQMCiR1ZVjqRAGoXYRkuOpEA6DV6OOI6kQDqBSuwTjqRA8uWM6OeNpEDzsZc/wo2kQKHNi9awjaRA1AU2RJeNpEDpdbWvlY2kQE0l3NyFjaRAihEQk2+NpEB0riQnb42kQFB6C8NkjaRAGppf+VeNpEAPfR1nVo2kQM16mytQjaRAQK3maEONpEBPeckpPI2kQH8747QnjaRAEeYk1BONpEAhx8jW9IykQEZtd5fijKRAuHiMssWMpECcycIIfIykQB/wmJJ1jKRAGKwvfmKMpEB1DaHUXIykQL4UM6VOjKRAWEX+WkqMpEBX0HDULIykQDh8GDghjKRAjPOh9hCMpECIqlrBAoykQPa9wDH9i6RAV4Evm/iLpEDkOQqh6oukQPS0FWLgi6RAHKSAf9iLpECxZvAfzoukQIx5iqnGi6RAGbw4c6+LpEDPUoiriIukQHrBbBR8i6RAqQP8CGCLpEDK4YL3XYukQC+64npVi6RA6NRZX0+LpEDf6jR9JoukQP+dQ/Ebi6RAdL2iJfCKpEBcQ1br64qkQNh8wNXqiqRANQv4AOmKpEC/n6x74oqkQLhaqdnaiqRAtW5KldOKpEB5bG+Iz4qkQJi+28bEiqRA8Xjmf62KpEAJdNA3noqkQJ1KWhGYiqRA37Md8H6KpEASBhmdcIqkQLYgEnZQiqRA0YLiYUCKpEAcMwENNYqkQLuQWMsviqRAfQlTKy2KpED6/kwVHoqkQJTtXmsXiqRAHsHfSRKKpECmlLqkCoqkQG6IGT4EiqRA/T1nXAOKpEBlQGljAIqkQLjGAfEAiqRAUyu2eQaKpECXku+HBYqkQBBsdKIHiqRAOUkFGAyKpEBIHumlCoqkQCaTc+4KiqRAXZ/qih+KpEBpzB5OHYqkQO/SKoEaiqRAcgwgAiiKpEAj9eyjPoqkQMgOA+1JiqRAfWpivkWKpEAyfIRiToqkQI01HuxYiqRAg43lEl2KpEBzMzceXYqkQMHSsy1JiqRA1oZb7kuKpEBmf0YkVIqkQHnb6RVpiqRAXTCK+HSKpEBjfH8om4qkQDxMQjeaiqRAQV3B1a6KpECsgQsQtIqkQMCsJQWviqRAk2X405iKpEDn3tLbmIqkQOZkulysiqRAd7sSIryKpEAV3fMT4YqkQNKmILD4iqRAA7NvAPeKpECJHAp7/4qkQGMxvgb+iqRAhL8Sqf2KpEATZxXN/4qkQOohmnIJi6RA81HAdxCLpECymf3FGoukQMN4HBsli6RAbgdAKDWLpEAWtoRkWoukQLf6iqdfi6RAS8zE6WCLpEDNRv/aZ4ukQESLmvpzi6RAuINYfXuLpEB2zhIzmIukQI1TzZmti6RA0JyZTriLpEAl0sgQvIukQKxNhgLCi6RAcCT5e8KLpEDmVd10xYukQG5B7tfJi6RAxt0S0MyLpEBj1R8L1YukQIN4DQ/1i6RA7oklQPmLpEB492BFDoykQOATes8XjKRA6medUSyMpECVSZLhNIykQF97Rj47jKRAqxXm1TuMpEAaAsfjPYykQPh45Dk+jKRAWHMlTTuMpEBC3l8lO4ykQNtX3fw4jKRAUh4bETSMpECoJS8sMoykQHix+6cxjKRAEvZtDzKMpEBz4sBMM4ykQHhLVyc9jKRA2iEJV0aMpEBq+AeLT4ykQKUStfJPjKRAlbslfVGMpEDO6FNmVIykQFFvCVlUjKRAoqUf8lSMpEDtU3gPVoykQNuf7NpXjKRAbixwXF2MpEBf68+aXoykQH0eGNJmjKRAuQ+i9WeMpEACZ2yRb4ykQImLxId0jKRAk71PTX6MpED97engh4ykQDSUMcu2jKRAeMEIkr+MpED/03cDxoykQNlFY+HQjKRA2z3zBdCMpEBf10XL04ykQIjr4CTXjKRAxOArzdWMpECwev8H2YykQL0akT7YjKRA9VqHQtiMpEAkavlC2oykQN4t4VnZjKRATl2WlOSMpEDgVkZa8YykQKYdercGjaRAr4kBoAuNpED96HaUHo2kQM5M+ZgvjaRAPwi53DiNpEC4oRQaQY2kQDTEoblEjaRAi9osFkeNpEA3hvEdTo2kQJVkq29jjaRAGXf4n2GNpEAoUHSyZo2kQCBSajlljaRAyU1052eNpEAWaY2BZI2kQBw938dqjaRAleboYW+NpEBF0UZwb42kQC+e2WlyjaRAhYLt3HONpEDr2fYBfI2kQNzvJi9+jaRAxYKMcnyNpEC5sTRDh42kQNE6k6eJjaRA0J0yBo+NpEAt68McjI2kQMrtE8eRjaRAJmGxSpGNpEA1G+k4mo2kQLyvbs2ZjaRAjEbqBZqNpEBdafR1no2kQHjqK6aijaRAKNjyFKSNpECtjlQ8qo2kQAkTJ+GrjaRA0tyEramNpEAQBZmKqY2kQAeb0BDKjaRAFVrZqdiNpED7LK6myo2kQMXafnPRjaRAKgkM9NiNpEBRUEvb2I2kQGnTzbDkjaRAkPFMoeONpEAMykCW342kQP7O59vijaRAeW/TNOyNpEBXGYvz7o2kQJ93JGAJjqRAYDXooiSOpEAvq7r/IY6kQNfocXQwjqRAG8Vo1TGOpEAaj4gEQI6kQB4mn4hCjqRA+52RWUOOpEC8zU4aSI6kQI11WGZIjqRAFsiMjEaOpEChqab2RY6kQOYwU/VBjqRAoz0sdj2OpEC+1WjNMY6kQKiVGAcmjqRAdRVGZRWOpEAiX9+CD46kQL0PRgD1jaRAX3i1pceNpEAr3VapsI2kQHoFCJCqjaRAks6rE5mNpECO5lqAi42kQHSMOd+CjaRAthWU63SNpECFNph3Zo2kQOckeR9SjaRAkskaRTqNpEA1k9YeFY2kQMfnLI8FjaRAjeCetfuMpECxIQdj9YykQIwXT3fZjKRACVwKMNOMpECQ3H6qtYykQB1Ix+KDjKRAeLxfi1aMpEDKm5eSVIykQL0IiAhKjKRAMIpNWkiMpEBRFXAlRYykQGdo1DtBjKRAMHu4qTSMpECYTpvDHoykQE456cIVjKRAqegwKgGMpEC+Hqrt94ukQMvn0rLxi6RA5eAAz8qLpEDjTPAGtYukQCoErMqri6RAOzL0GaGLpEBAalLjkYukQFNdtM1qi6RA5wCVJWeLpEBobdd6MYukQB12K0omi6RAAj6eRRSLpEAPC950BIukQHsFEVcDi6RAS6Pj+fiKpEDyjOK27YqkQCjvoea6iqRAEVPsNHaKpECBhQVGQoqkQJ4nz8EGiqRAAqA84uqJpED6VknTqomkQHzXiS2biaRAMzUuQ3yJpEDiBYSrX4mkQBRayw1EiaRAk9N07z2JpEBhuA3xMImkQIiPOSQeiaRAK3wZ2xeJpECaL5tdAomkQGrpKMPWiKRAZI5qIbqIpECWh8nBb4ikQC+IXtNOiKRAU4a4OTiIpEAK1qNiDIikQDKvuCEJiKRACmt0g/yHpEDIosC39YekQP6nE8rbh6RAdhs5eMSHpEBgoQV2l4ekQOtgDneVh6RAh0z/MXiHpEDJtmRwSYekQFZ8lscxh6RAJ6eN/SmHpEDYiYebH4ekQPq9TYgDh6RAAAriMdmGpEAnbgNU0oakQHOrn6fOhqRA5gwMyMeGpEBNiYQDv4akQGbirhKphqRADq7GoKOGpEBXtXw/nYakQCYck7SQhqRArxju64yGpED3Mh+7gIakQHt1U5d7hqRAzugZ6WmGpECwM+6PaIakQPIbZUZghqRAHXmf1FmGpEBYLDDYUIakQMbWsYtKhqRAUoXK6zmGpECuzBvLMoakQKQm2tELhqRAgIw76ASGpEAYygGs8IWkQN10sp7ahaRAcv+1KsmFpEBwfmulxYWkQHyHWIW6haRATwSlhraFpEDoHn3erIWkQIw/RF2OhaRAVmzgn3uFpEDTUsc5coWkQDBL985ihaRA11dKKjyFpEAtemARHYWkQE5zB1wXhaRAiu2FqRKFpEBWzX7q94SkQEPAvPvlhKRAgc8JUNKEpEBdDLMPwYSkQB0wP5W0hKRADynHpq6EpEA/lc0Eo4SkQP/U4uWdhKRAtW2doWSEpEA8gHrVYYSkQJWpi/9ZhKRATJIrvlOEpEBBbUHqQoSkQGptStI+hKRA/czF2zaEpECFiARxLYSkQAxRINkihKRAzJ7zJx6EpECpLCNRE4SkQHfZAof4g6RAQ8Fr2/WDpEDGsCZX6YOkQHyvmCvpg6RA02f7C8iDpEDAf3/FuYOkQE6jdievg6RAB1Ycyq6DpEDYzSMcqYOkQOQMpL2cg6RAgYPpFZyDpEBYIMA5loOkQJ9FQuuNg6RAk2G1C4uDpEDww5jhhoOkQPQV3N17g6RAq5eQ2niDpECpDsZ5d4OkQPSMfsJog6RAUgv952ODpECwCAFtYYOkQM6N22dgg6RAEcz1ZFyDpEBg3dRQWYOkQIsyH31Ug6RAuNC4GVKDpEBEDa22R4OkQNCFR0Y0g6RAosITOiiDpEDuAvkYF4OkQG4YchkUg6RA9j++wPKCpEBNblI1xIKkQHIGKf+ugqRAwwkJTq2CpEBktRAQrIKkQJ99GTabgqRAmhqS9JCCpEAHFcT/jIKkQBm2J7aLgqRAuHzK5XCCpEAW5O9MboKkQF5PeaBogqRAn5FouFqCpEBPzrB/VIKkQCr2qhNUgqRAU7GgDlOCpECym1PUSYKkQGp4i6pJgqRAP9brcESCpECBhgIvN4KkQBpvLpMxgqRAT3qkXTCCpEDJDTFWLYKkQPhcNBgpgqRAYYZeWSaCpEA=",
        "encoding": "base64",
        "path": [
         "_data",
         1,
         "y",
         "value"
        ]
       },
       {
        "data": "ZynO/UKTpEBnKc79QpOkQGcpzv1Ck6RAZynO/UKTpEBnKc79QpOkQGcpzv1Ck6RAZynO/UKTpEBnKc79QpOkQGcpzv1Ck6RAZynO/UKTpEBnKc79QpOkQGcpzv1Ck6RAZynO/UKTpEBnKc79QpOkQGcpzv1Ck6RAZynO/UKTpEBnKc79QpOkQGcpzv1Ck6RAZynO/UKTpEBnKc79QpOkQGcpzv1Ck6RAZynO/UKTpEBnKc79QpOkQGcpzv1Ck6RAZynO/UKTpEBnKc79QpOkQGcpzv1Ck6RAZynO/UKTpEBnKc79QpOkQGcpzv1Ck6RAZynO/UKTpEBnKc79QpOkQGcpzv1Ck6RAZynO/UKTpEBnKc79QpOkQGcpzv1Ck6RAZynO/UKTpEBnKc79QpOkQGcpzv1Ck6RAZynO/UKTpEBnKc79QpOkQGcpzv1Ck6RAZynO/UKTpEBnKc79QpOkQGcpzv1Ck6RAZynO/UKTpEBnKc79QpOkQGcpzv1Ck6RAZynO/UKTpEBnKc79QpOkQGcpzv1Ck6RAZynO/UKTpEBnKc79QpOkQGcpzv1Ck6RAZynO/UKTpEBnKc79QpOkQGcpzv1Ck6RAZynO/UKTpEBnKc79QpOkQGcpzv1Ck6RAZynO/UKTpEBnKc79QpOkQGcpzv1Ck6RAZynO/UKTpEBnKc79QpOkQGcpzv1Ck6RAZynO/UKTpEBnKc79QpOkQGcpzv1Ck6RAZynO/UKTpEBnKc79QpOkQGcpzv1Ck6RAZynO/UKTpEBnKc79QpOkQGcpzv1Ck6RAZynO/UKTpEBnKc79QpOkQGcpzv1Ck6RAZynO/UKTpEBnKc79QpOkQGcpzv1Ck6RAZynO/UKTpEBnKc79QpOkQGcpzv1Ck6RAZynO/UKTpEBnKc79QpOkQGcpzv1Ck6RAZynO/UKTpEBnKc79QpOkQGcpzv1Ck6RAZynO/UKTpEBnKc79QpOkQGcpzv1Ck6RAZynO/UKTpEBnKc79QpOkQGcpzv1Ck6RAZynO/UKTpEBnKc79QpOkQGcpzv1Ck6RAZynO/UKTpEBnKc79QpOkQGcpzv1Ck6RAZynO/UKTpEBnKc79QpOkQGcpzv1Ck6RAZynO/UKTpEBnKc79QpOkQGcpzv1Ck6RAZynO/UKTpEBnKc79QpOkQGcpzv1Ck6RAZynO/UKTpEBnKc79QpOkQGcpzv1Ck6RAZynO/UKTpEBnKc79QpOkQGcpzv1Ck6RAZynO/UKTpEBnKc79QpOkQGcpzv1Ck6RAZynO/UKTpEBnKc79QpOkQGcpzv1Ck6RAZynO/UKTpEBnKc79QpOkQGcpzv1Ck6RAZynO/UKTpEBnKc79QpOkQGcpzv1Ck6RAZynO/UKTpEBnKc79QpOkQGcpzv1Ck6RAZynO/UKTpEBnKc79QpOkQGcpzv1Ck6RAZynO/UKTpEBnKc79QpOkQGcpzv1Ck6RAZynO/UKTpEBnKc79QpOkQGcpzv1Ck6RAZynO/UKTpEBnKc79QpOkQGcpzv1Ck6RAZynO/UKTpEBnKc79QpOkQGcpzv1Ck6RAZynO/UKTpEBnKc79QpOkQGcpzv1Ck6RAZynO/UKTpEBnKc79QpOkQGcpzv1Ck6RAZynO/UKTpEBnKc79QpOkQGcpzv1Ck6RAZynO/UKTpEBnKc79QpOkQGcpzv1Ck6RAZynO/UKTpEBnKc79QpOkQGcpzv1Ck6RAZynO/UKTpEBnKc79QpOkQGcpzv1Ck6RAZynO/UKTpEBnKc79QpOkQGcpzv1Ck6RAZynO/UKTpEBnKc79QpOkQGcpzv1Ck6RAZynO/UKTpEBnKc79QpOkQGcpzv1Ck6RAZynO/UKTpEBnKc79QpOkQGcpzv1Ck6RAZynO/UKTpEBnKc79QpOkQGcpzv1Ck6RAZynO/UKTpEBnKc79QpOkQGcpzv1Ck6RAZynO/UKTpEBnKc79QpOkQGcpzv1Ck6RAZynO/UKTpEBnKc79QpOkQGcpzv1Ck6RAZynO/UKTpEBnKc79QpOkQGcpzv1Ck6RAZynO/UKTpEBnKc79QpOkQGcpzv1Ck6RAZynO/UKTpEBnKc79QpOkQGcpzv1Ck6RAZynO/UKTpEBnKc79QpOkQGcpzv1Ck6RAZynO/UKTpEBnKc79QpOkQGcpzv1Ck6RAZynO/UKTpEBnKc79QpOkQGcpzv1Ck6RAZynO/UKTpEBnKc79QpOkQGcpzv1Ck6RAZynO/UKTpEBnKc79QpOkQGcpzv1Ck6RAZynO/UKTpEBnKc79QpOkQGcpzv1Ck6RAZynO/UKTpEBnKc79QpOkQGcpzv1Ck6RAZynO/UKTpEBnKc79QpOkQGcpzv1Ck6RAZynO/UKTpEBnKc79QpOkQGcpzv1Ck6RAZynO/UKTpEBnKc79QpOkQGcpzv1Ck6RAZynO/UKTpEBnKc79QpOkQGcpzv1Ck6RAZynO/UKTpEBnKc79QpOkQGcpzv1Ck6RAZynO/UKTpEBnKc79QpOkQGcpzv1Ck6RAZynO/UKTpEBnKc79QpOkQGcpzv1Ck6RAZynO/UKTpEBnKc79QpOkQGcpzv1Ck6RAZynO/UKTpEBnKc79QpOkQGcpzv1Ck6RAjRWfOVWTpEAzEEDVXZOkQAK+/L18k6RA83kD8Y2TpEA9RrAUmZOkQGL6AHq0k6RA1otRENSTpEAxDH7N3pOkQGejSmgJlKRA6EkEySiUpEA1UUMoTJSkQEq/XhhrlKRAN/kyZYmUpECI8vHWxJSkQLt4t9rtlKRAs8k5DQSVpEBnvU6+FJWkQMRrCxNAlaRAuH7wJ2aVpEAt6Tx2o5WkQJxmcN60laRAmCo1pu+VpECJu8dKCpakQK924b49lqRA6I4iM2aWpEAelxPFhJakQPqGzwanlqRAqNYez76WpEAh/qBT5ZakQExQC77wlqRAjvb34hSXpEAHH/wBJJekQPPLlJU4l6RA27iqBliXpEAzYvqAb5ekQKFyZ7aNl6RAWyeVBZ+XpEC1p9UVzpekQBaFgPXil6RA0SkS5/qXpEDoQZVtEJikQEyNNKk5mKRArWASqmyYpEA+4zyih5ikQO1AHQq1mKRAR8LkPN6YpEDT5z9T/ZikQGTJBmsomaRAxWn7MDyZpEBH2/FscZmkQNvdmb6ImaRAfv2Ci76ZpECVdahI1ZmkQHcC5fL2maRAwn/2Ky+apEB515VXQJqkQDxpMBx2mqRADxE7w5GapEBo2jyrvZqkQFNn9efcmqRAmwD1m/yapEAUxlZQFZukQPKbdYEnm6RAhzCf8DqbpEArJDaBRZukQBSZpDpPm6RAeA+gTVKbpEDBpunxUZukQPrKYOVMm6RA9ikv1EybpEBCOwDUTZukQN0ayS9Nm6RAwkewY0ubpEDAxj3wRZukQCKp//VDm6RAB7PnQkSbpEAHAkHnRpukQPfiJixLm6RALxPMY0+bpEA3ZM61VpukQBz8nN1Zm6RAxA6NxmCbpEAxNiz8YZukQBI4tHNmm6RAo3hTKmqbpEANjdm0bJukQEdWO/Fvm6RAlMjconCbpEBX1l1db5ukQL7uBJ1sm6RAoqQ0nWubpEB6o409aJukQMLdrMJlm6RAugGQmV6bpEBtyl8fWZukQNehpfxRm6RAU74aSkSbpEC+zRa9P5ukQM3qKoQ0m6RAOS55kRubpEBW7e55GJukQM3tkiAPm6RA2jOkBgGbpEBWQ5kc/JqkQDqySn/tmqRA5QDI2uGapEBO7iYw15qkQGbfsv7RmqRA6GYp9sqapEA/CbbJxpqkQF6XSCPAmqRATbP/yL2apEDjt4SJsJqkQB55JS2rmqRAGyrdq6KapECckbc+l5qkQCR7ZXyJmqRAj9TP9WyapEBM0Be5YpqkQE1OltFVmqRAn1ypSi6apEBt3yK+JpqkQIe9hYoUmqRAxHRzMPqZpEBE/8Fc55mkQItjBkbYmaRAQlQQ78OZpEC2XqRisZmkQOexCHWmmaRA6MjTnJyZpEC5tjeDlpmkQH+meQ6GmaRAYzfWZH+ZpEDkNasgdpmkQK6z7w5mmaRAYfJmuk6ZpEA/cPoFOpmkQIdL63svmaRACGJnTSSZpED0CuqvDJmkQB09WQ7omKRABs0j3syYpED0wanHtpikQExCXT+OmKRAAW0B5YaYpECJqKpwVJikQDNbAyI3mKRAdw97ZSmYpEDxpdum/pekQG1Ik8Tyl6RAsaWigtaXpEBbeKV2xpekQCW4oLGxl6RAmCUmsqiXpEDhnS9NgJekQJ+WL49ll6RA+Pyp2kqXpEAguBDCNpekQIj1Fewpl6RAfiSe3BiXpEBFqqzz6ZakQNH6W9/WlqRAlWn0XMSWpEBchKOlrpakQKvYdLahlqRAoN/Dm5aWpEDnfMSeh5akQDTAdBd+lqRAF9jkiG2WpECIH3Bka5akQKf5MdVblqRA0SjJbVOWpEDvqIluR5akQFGz2d08lqRAKoJXbTCWpECB6QkSDpakQD7WJLXvlaRAKbvAvdeVpEAjsEV6wpWkQCiJAo6slaRAEYb7yZeVpEDez4jxh5WkQOVAq2Z9laRAnECcdW+VpEBC0ke1ZpWkQMXah/FflaRAIShmDlmVpEAtEFH6UpWkQEdoH5BIlaRAW39xA0KVpEDv5VIsOJWkQIfAKGcolaRAWVb3BB2VpED/ns78BJWkQN7/sM7zlKRAx2yN3dyUpEBLt4tI05SkQOubecuwlKRAfJy1EaaUpEBn2DVKh5SkQCbG98Z5lKRAeyBVCWmUpEDSHIK0VpSkQPBFTnk9lKRAd/CEHzGUpEC5MVqTKJSkQMOqo00GlKRA1ctsV/uTpEBk/bjA5pOkQI7HJsbNk6RAxmPInb6TpEAiTrejo5OkQDpV0RiSk6RA5LCql4CTpEAzX7+BZJOkQKEUj3FQk6RAu3cHYzuTpEApjx1AIZOkQDmFzYsRk6RA0QGzYfOSpEB/3cUc4pKkQNEhLI7ZkqRAq3sFZquSpEDxXkeokZKkQLmt3LZ8kqRA6Tq+9lKSpEAtJIc0P5KkQJ60UGImkqRAvw15hBKSpEDYZqZNBpKkQD04orT+kaRABPFZ9PiRpEBjqTLw7pGkQLBLhqvgkaRARRurQtyRpEDOoc4qzZGkQDyM72zAkaRAv14DJriRpEBFrIQxrpGkQL2ummqhkaRAipTrg46RpEABevp8cpGkQPeMV8NikaRAE09HWFCRpEB/MFYsQ5GkQGrTZrwokaRAqDPi8ByRpEAkoYA7DZGkQCeDFWXtkKRA3BYqfdmQpEAr2i8qy5CkQIaYcBy5kKRAP/XFvqCQpEC3LtgrhZCkQOYO3tZqkKRAZjLvd1aQpEB8yH3INZCkQJ+yViogkKRAGpVYlwKQpEC3Omt11o+kQOV4EjCwj6RAHA+SwZWPpEBVnR3HfI+kQLddj4Rtj6RA5vyyNlaPpECzTH2IM4+kQJ6SCEMVj6RAR0LKVAKPpEDvlAy4+I6kQBb+pZDjjqRA1Du8bd+OpEC0TpgZ046kQDzHEEXKjqRAVzbkUbqOpED1w95ooo6kQIrfZ92TjqRAe27dRY+OpEBCFk4geY6kQNVHwv9qjqRAYR4JeV6OpEAmeR3wRo6kQAKmHnc+jqRA0cafYSSOpEA45D3gGY6kQG6JeMcFjqRAAJLLh/+NpEC1JqCH/I2kQDdspdL4jaRAPWTFTvWNpECGqR+n842kQOQxYsLwjaRAisrdGumNpEAIhf1X242kQOQNHCjRjaRAmW7H1MONpECoYkKes42kQB8I6N+OjaRAgwl5LXuNpEB5g2OTco2kQH09Sq9ejaRABEbOI1eNpED7ZVSkPY2kQJG2ZAoyjaRAxRcUbyGNpEC93zp9E42kQAHbhJAAjaRABBYApNaMpECarLdtxoykQBn1cOKjjKRAH7QdsYiMpEBdjwXzboykQB3slQlOjKRA7NZWMTSMpEDh/Ebq/YukQNviu+/Vi6RAXpJsQr6LpECQrSuLm4ukQFfNBEeJi6RARgpBW3eLpEABHoJyYYukQIY4URxSi6RA6k0bnkWLpEAB9fieOoukQODmB+Yoi6RAboqp7xeLpEB2+c9194qkQDyOZHDgiqRA4hNIf8SKpEAeGvgFo4qkQP4a8baHiqRANicw1XqKpEC6Ogs7W4qkQLTHvzhRiqRAlgPohjWKpEAIyD0SEoqkQAHN1U3jiaRANROhmN+JpEBkPH62u4mkQLSk/QydiaRAQTfS5nWJpEBn2/Xnb4mkQCjXqMVLiaRA6Xf3hTSJpECbmynZG4mkQBfwDVsTiaRAuFtYqAWJpEDxrtxPAImkQFyQw8r5iKRAKyTaD/OIpEAvoLuB64ikQMzl4jnmiKRAvT9kTeWIpEAbCK9x54ikQOCT7aTqiKRA+WeOceyIpEB3GjBN8YikQI4aRv/ziKRA427e7fSIpECiwECk+IikQAY+87v7iKRA5YfZ7/uIpEAaiEY6+IikQC4X2wv1iKRA/7b2cvKIpEBhttQu5YikQMnhAurZiKRAH7Oqcs6IpEA68vHIxIikQM/Sd9apiKRAgrJ3EJ6IpEBQB3UQkIikQFAUdQyFiKRANk2KsXyIpEBsTmhCeIikQIYw7A1yiKRAieINe2yIpECqX1CBX4ikQDPHejlZiKRAju2GTFeIpEADXlyTV4ikQE2o0LdbiKRA4ehEzV6IpECKtNp9ZIikQD/OtMFtiKRA8O47M3aIpEBHVPV+eYikQI+X/PCJiKRAjwChgpSIpEDnNkOzrYikQMGAWna/iKRAvbUXRNmIpEAl+q49+4ikQCRZwrUUiaRAP/jGLiSJpEAQb1UfNYmkQJL4QcNPiaRAAbyffH6JpEBmgEPWmImkQO/zToCpiaRAiKlbK8KJpED8DZZy1ImkQGuzi0HliaRA311zVQOKpECaVY3cIIqkQJGRfjg0iqRAI0z6tkmKpECSxO1+YIqkQIMSFGuCiqRAknWp0aKKpEDlqxmcu4qkQHdxATXdiqRAiAhWAfmKpEDyXDCRFoukQPulr8JLi6RAOYy2tGWLpECJ+ZfIhYukQAJR2/Sni6RADkeSfLyLpECc0Se2zYukQCHTD9Dki6RAP8jqPQaMpEBVu5NREYykQJhuMKwyjKRAPgYCO2SMpEAtOfh4d4ykQCIbGICPjKRA7y98O6aMpEBO9j0gvIykQIWo9+7MjKRA1L4t9PSMpECWt9r1Do2kQIbnmSYijaRAGdjLUEGNpEAd6Icpb42kQFs6WJWDjaRAniyNzqCNpEDdWU8ewY2kQIWmUtbWjaRAM5V6L+WNpEAcIh8tBI6kQALS4CIWjqRAoOjo7ieOpEDZ+aLTNI6kQBgfkpE/jqRApySzbkmOpEChjTfaUI6kQHGByhxXjqRAAuWA0FmOpEAONfyaXI6kQKVfcGFcjqRA2aQMNVqOpEAVAIXjWI6kQHzHBCxWjqRA/crcyVCOpEBUuT6nTo6kQOXpDtVIjqRAZnve9kSOpEBt5xd6Q46kQD0g9SY5jqRAPEDSsDWOpEAAzwGzNY6kQEWpB6w7jqRAQysuJz6OpEBo0DfCPo6kQJpIL84+jqRASP+i0DuOpEC0wCXROo6kQPi7KdoxjqRAtDsu8C6OpECADJIyJo6kQJPw0MEhjqRAJcaCDBiOpEBQdIkxDo6kQD+BhSEIjqRAUfu3HQaOpEDeXFBLA46kQFXLWKj3jaRAuuQofPONpECp2zYa6I2kQDI/EtnijaRAa0SaQdyNpEBTRahO1o2kQJ7CKjXRjaRAMPMG7MyNpEBR6zoGvY2kQLPjPSGwjaRAafgLIKWNpEAc91aPmo2kQGeLqraOjaRAyutiboSNpECNsK0OeY2kQNQX4ihyjaRAzPSR+WmNpEDwQoLYZo2kQP/2z2hhjaRAc0nYZ16NpEADr8HdXY2kQE1cw2dhjaRApmtoCGmNpEDjptq5bI2kQNJ4Tw5vjaRA+hTsuW2NpEBrj803ao2kQFspCGpkjaRAkwR9/F2NpEAzfyxLVY2kQEr5Y5BAjaRAECcLMjCNpEBwkeiCIY2kQOYHrE4ZjaRAaK5YogqNpECa1imB+YykQOqsYerojKRA523yeuGMpEArmr+O1IykQKrtolnRjKRAcTYTF8yMpECOgrMGwoykQFTjyg20jKRAV9X68K6MpEBB5kJiq4ykQMvXxXqljKRA1nw7fpmMpEDbOVLMjoykQCpmOLmLjKRA5Vx3enyMpEB6D/dLcoykQGXqPIZljKRAxdjR9FKMpEAl2EXWQoykQI4p+806jKRAFNjj1zKMpEB4uxs/KYykQBPA+eEejKRA56o+NhqMpEC1WydYBoykQLitv/39i6RALbtDQPeLpECOr15T7YukQK3g8LTii6RAGpUKxdqLpEBWipc41IukQBOPh+rGi6RAsGAZn7SLpED1530zq4ukQFTOGN2Fi6RAF52i1HiLpEBtiSJ5Z4ukQH0eSRhLi6RAIkgbuT2LpEDn8SwiMoukQHsbXeQqi6RA91sX3COLpEDgIevHH4ukQGxvG5UYi6RA8M4MuBSLpEC4nbUAFIukQM5IFd4Si6RANt5EqQqLpEBEJf/+A4ukQIYiaR8Ci6RAbUFeigCLpEAx1Ts7/YqkQGTFkRD3iqRAFTLAieeKpEBBat671oqkQDVD8mbRiqRA/kayo7KKpEAIlPfxp4qkQFDjx7ebiqRA6aiC64uKpEB1a+05g4qkQLLfa5R7iqRASlbAoWuKpEBiGuTZVIqkQBlPDStGiqRAoUBQtTOKpECuN05YKoqkQC7NRp4YiqRAr7RNeAiKpEDWudiEAoqkQANAjSTniaRAhuu8ENWJpEAdUrdLz4mkQIwOWyG/iaRAwE6eoK6JpEC1mErLkImkQH5pVbiEiaRAJFjgunaJpEC4GPO8YImkQGEbQFpIiaRAjRhTQDiJpEDBk1hyI4mkQP6lRXgViaRARUGWSgOJpEDJrqaW9YikQB/ChUXxiKRANYh7sOmIpECjTuAa2oikQG50qWnMiKRAVATAScOIpECEoUOQtYikQFfg6WOtiKRAgt0ecZuIpECp9pJ0hoikQIB2S2d2iKRAamp+sUWIpEB1sNuzMIikQF3El00NiKRAgb/+kPmHpEClVchm54ekQJVt3mfUh6RArYO/obWHpEDwra6HoIekQLxokBmPh6RANrVoc4WHpEBp9LRyfIekQP6LEgdzh6RAZMnWCG6HpEBgnRQaYYekQKJy091Zh6RAcyIgdUGHpEDJFwh/NIekQP0tewcih6RAeQnuUgqHpEDWE9mA6oakQNfUrc/fhqRAyujlzLOGpEBj/S+5n4akQHArnlKWhqRA2CHnHniGpECojpLWUYakQH6ZqwhEhqRAmOnPGSGGpEB+qZacBYakQOv0TdjnhaRAksBdDNCFpEBMUfD2uYWkQFb9DxmrhaRAXodcKZuFpEDW9yS5lYWkQIhE6U+JhaRAHldbW4OFpECBqMe6cIWkQNYgNW5nhaRAmQYruGGFpEA60w2UWIWkQIyPFcVHhaRAb+LWsz+FpED9DnftJoWkQCWo+0cKhaRAUO0x0QOFpEBZ6vSH5oSkQNeg3DbNhKRAyElVG7SEpEAypVYGqISkQNHuRhKYhKRAYGmrIIuEpEB86Cl5g4SkQN6+W9B6hKRAhkqBvW6EpEAgMN7OY4SkQD1yTAdbhKRAjv6WoFCEpEC3cHVfSoSkQCq0YTw8hKRAq9sIhjOEpEDIiFJtKoSkQIKtnm4ehKRAkrpXURWEpEACI4bTB4SkQEEB55v7g6RAhBVOGeqDpEA8rNw3y4OkQNaGCAS3g6RAVsNThqeDpEBQZrDfjoOkQP+Mw5l0g6RAp3VQTV2DpEBgTZ1FPYOkQKLD7f8pg6RA57PHmheDpECs23etCIOkQN6Jljj5gqRAqGffXeGCpEA4Rmvx04KkQNfPGs69gqRA0Reo17aCpEDY4H67pYKkQEWbrT2agqRAAWHFsISCpEBCdFqSc4KkQLSYSp9rgqRAC9+W51iCpECm2uaDUIKkQKAj0ilNgqRA44ZvBUuCpEClH9yWQYKkQOxCd18/gqRAfyh2vTqCpEApAhs4MoKkQCyitfMtgqRAiXOPXCiCpECcVTwNJoKkQHH2Rc8mgqRAH4xSlyyCpEBcqOgSL4KkQHN3G6UvgqRAHzv9+y6CpEBFcKBwLIKkQA604zEsgqRA0otbjieCpECzqnTjI4KkQLiBIqAggqRATmAgNBaCpEAGg9pRB4KkQG2CaS4CgqRATEoyZQGCpECLUli9AoKkQF4b5R0KgqRAdzydjAqCpEDmHDTQDIKkQDuup6kMgqRAPmC60AiCpEDMBBo1BYKkQCo5B7kEgqRAIWO2XAGCpEDoBELC/4GkQLJEz6n+gaRAROntsvmBpEByewDE8YGkQJ8lozzvgaRAyzIpWO+BpEB7WkK+9IGkQCJQVkD2gaRAjafYI/yBpEDv9FN2AYKkQKL69W0EgqRAj4yLUQWCpED6s4RWBIKkQHkfNeL9gaRACJKSYP2BpEDmQ9ae+4GkQBuFD1X5gaRA9VfXPveBpEAhtjmA84GkQPSX20PvgaRAUt5fi+2BpEDHvOxj34GkQMMFKm/PgaRA0MUf0siBpEDzmtnswYGkQEB7l7i/gaRADbwoQ72BpEA=",
        "encoding": "base64",
        "path": [
         "_data",
         2,
         "y",
         "value"
        ]
       },
       {
        "data": "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",
        "encoding": "base64",
        "path": [
         "_data",
         4,
         "y",
         "value"
        ]
       }
      ],
      "model_module": "jupyterlab-plotly",
      "model_module_version": "^5.6.0",
      "model_name": "FigureModel",
      "state": {
       "_config": {
        "plotlyServerURL": "https://plot.ly"
       },
       "_data": [
        {
         "line": {
          "color": "gray"
         },
         "name": "<b style=\"color:sandybrown\">[R]</b> Tick <i style=\"color:#fc9944\">~60</i>",
         "opacity": 0.3,
         "type": "scattergl",
         "uid": "8fb57520-2602-45cd-a355-537c33f5f87c",
         "x": [
          0,
          36,
          100,
          168,
          240,
          272,
          360,
          411,
          421,
          522,
          586,
          606,
          678,
          781,
          782,
          843,
          942,
          1003,
          1048,
          1124,
          1155,
          1243,
          1294,
          1369,
          1433,
          1455,
          1505,
          1623,
          1674,
          1708,
          1787,
          1804,
          1895,
          1953,
          2024,
          2082,
          2105,
          2212,
          2225,
          2319,
          2345,
          2444,
          2511,
          2571,
          2601,
          2668,
          2706,
          2782,
          2861,
          2945,
          2961,
          3018,
          3067,
          3148,
          3198,
          3268,
          3364,
          3416,
          3476,
          3542,
          3582,
          3616,
          3726,
          3730,
          3825,
          3848,
          3964,
          3986,
          4044,
          4144,
          4157,
          4225,
          4278,
          4373,
          4402,
          4449,
          4517,
          4569,
          4676,
          4705,
          4767,
          4811,
          4891,
          4964,
          5047,
          5052,
          5170,
          5225,
          5254,
          5316,
          5387,
          5448,
          5495,
          5541,
          5627,
          5654,
          5732,
          5778,
          5835,
          5909,
          5996,
          6039,
          6072,
          6156,
          6251,
          6254,
          6361,
          6432,
          6462,
          6500,
          6611,
          6673,
          6696,
          6735,
          6811,
          6869,
          6954,
          6998,
          7034,
          7128,
          7210,
          7228,
          7334,
          7340,
          7429,
          7491,
          7516,
          7635,
          7677,
          7755,
          7791,
          7828,
          7925,
          7987,
          8000,
          8056,
          8152,
          8177,
          8252,
          8318,
          8357,
          8432,
          8501,
          8578,
          8648,
          8691,
          8759,
          8818,
          8859,
          8940,
          9014,
          9051,
          9078,
          9194,
          9257,
          9309,
          9331,
          9438,
          9450,
          9549,
          9582,
          9663,
          9689,
          9741,
          9802,
          9861,
          9920,
          10034,
          10091,
          10159,
          10176,
          10280,
          10331,
          10400,
          10451,
          10515,
          10540,
          10637,
          10670,
          10748,
          10794,
          10823,
          10893,
          10942,
          11002,
          11118,
          11152,
          11185,
          11273,
          11313,
          11418,
          11440,
          11490,
          11547,
          11655,
          11707,
          11780,
          11818,
          11876,
          11951,
          11965,
          12074,
          12126,
          12187,
          12226,
          12300,
          12359,
          12441,
          12502,
          12515,
          12619,
          12646,
          12691,
          12767,
          12820,
          12925,
          12953,
          12997,
          13068,
          13114,
          13183,
          13263,
          13346,
          13381,
          13436,
          13469,
          13551,
          13623,
          13667,
          13746,
          13793,
          13869,
          13940,
          13993,
          14061,
          14124,
          14155,
          14229,
          14249,
          14354,
          14423,
          14445,
          14489,
          14583,
          14609,
          14728,
          14769,
          14796,
          14850,
          14916,
          14995,
          15053,
          15090,
          15162,
          15244,
          15305,
          15332,
          15391,
          15481,
          15567,
          15602,
          15669,
          15750,
          15766,
          15839,
          15909,
          15949,
          16013,
          16111,
          16131,
          16209,
          16248,
          16340,
          16412,
          16472,
          16495,
          16592,
          16615,
          16668,
          16713,
          16833,
          16873,
          16925,
          16990,
          17039,
          17098,
          17135,
          17246,
          17296,
          17370,
          17388,
          17444,
          17495,
          17610,
          17665,
          17721,
          17783,
          17851,
          17889,
          17940,
          18017,
          18075,
          18137,
          18191,
          18275,
          18336,
          18338,
          18421,
          18488,
          18556,
          18578,
          18648,
          18730,
          18801,
          18869,
          18937,
          18953,
          19009,
          19083,
          19129,
          19195,
          19291,
          19303,
          19418,
          19467,
          19491,
          19548,
          19599,
          19676,
          19776,
          19817,
          19872,
          19954,
          20008,
          20047,
          20081,
          20140,
          20258,
          20302,
          20328,
          20384,
          20477,
          20539,
          20577,
          20621,
          20735,
          20761,
          20801,
          20921,
          20962,
          20982,
          21051,
          21161,
          21193,
          21224,
          21314,
          21342,
          21415,
          21517,
          21545,
          21597,
          21659,
          21731,
          21813,
          21862,
          21884,
          21967,
          22037,
          22113,
          22163,
          22231,
          22245,
          22356,
          22418,
          22448,
          22519,
          22545,
          22664,
          22696,
          22756,
          22816,
          22895,
          22907,
          22973,
          23029,
          23144,
          23176,
          23212,
          23296,
          23351,
          23403,
          23481,
          23507,
          23568,
          23672,
          23706,
          23797,
          23829,
          23867,
          23928,
          24005,
          24048,
          24108,
          24214,
          24267,
          24292,
          24396,
          24418,
          24498,
          24552,
          24640,
          24673,
          24741,
          24770,
          24888,
          24899,
          25009,
          25060,
          25081,
          25185,
          25249,
          25276,
          25360,
          25394,
          25440,
          25500,
          25610,
          25633,
          25691,
          25756,
          25794,
          25857,
          25916,
          25972,
          26091,
          26136,
          26165,
          26225,
          26272,
          26380,
          26393,
          26512,
          26541,
          26595,
          26641,
          26748,
          26762,
          26814,
          26925,
          26988,
          27026,
          27065,
          27143,
          27191,
          27251,
          27294,
          27379,
          27466,
          27507,
          27594,
          27639,
          27707,
          27772,
          27810,
          27885,
          27952,
          28014,
          28027,
          28111,
          28141,
          28196,
          28315,
          28334,
          28383,
          28491,
          28505,
          28601,
          28639,
          28677,
          28787,
          28832,
          28912,
          28950,
          29030,
          29041,
          29103,
          29213,
          29265,
          29334,
          29357,
          29413,
          29477,
          29527,
          29604,
          29674,
          29726,
          29790,
          29848,
          29938,
          29999,
          30019,
          30115,
          30122,
          30201,
          30283,
          30326,
          30419,
          30472,
          30519,
          30596,
          30633,
          30713,
          30744,
          30781,
          30869,
          30960,
          30985,
          31070,
          31129,
          31147,
          31242,
          31286,
          31376,
          31433,
          31481,
          31514,
          31620,
          31658,
          31729,
          31779,
          31862,
          31899,
          31947,
          32043,
          32077,
          32117,
          32209,
          32260,
          32343,
          32356,
          32422,
          32498,
          32575,
          32614,
          32678,
          32705,
          32778,
          32884,
          32912,
          32991,
          33040,
          33085,
          33175,
          33226,
          33266,
          33329,
          33405,
          33443,
          33515,
          33596,
          33622,
          33686,
          33740,
          33797,
          33852,
          33945,
          33976,
          34075,
          34100,
          34191,
          34266,
          34318,
          34343,
          34433,
          34507,
          34567,
          34628,
          34629,
          34697,
          34760,
          34856,
          34923,
          34932,
          35042,
          35083,
          35165,
          35194,
          35260,
          35347,
          35382,
          35452,
          35529,
          35570,
          35635,
          35658,
          35761,
          35807,
          35870,
          35894,
          35961,
          36011,
          36091,
          36179,
          36234,
          36269,
          36330,
          36427,
          36474,
          36550,
          36612,
          36649,
          36717,
          36735,
          36821,
          36880,
          36971,
          37004,
          37047,
          37153,
          37178,
          37243,
          37297,
          37347,
          37402,
          37494,
          37553,
          37618,
          37637,
          37697,
          37808,
          37818,
          37876,
          37935,
          37996,
          38065,
          38141,
          38235,
          38243,
          38311,
          38361,
          38418,
          38485,
          38539,
          38596,
          38686,
          38741,
          38808,
          38896,
          38948,
          38977,
          39029,
          39099,
          39140,
          39202,
          39311,
          39352,
          39415,
          39497,
          39551,
          39617,
          39674,
          39693,
          39754,
          39801,
          39863,
          39978,
          40017,
          40049,
          40126,
          40217,
          40262,
          40302,
          40386,
          40426,
          40498,
          40520,
          40630,
          40682,
          40726,
          40772,
          40844,
          40920,
          40978,
          41008,
          41081,
          41170,
          41200,
          41250,
          41330,
          41363,
          41423,
          41502,
          41573,
          41602,
          41713,
          41751,
          41793,
          41864,
          41922,
          41970,
          42046,
          42084,
          42198,
          42233,
          42323,
          42346,
          42421,
          42464,
          42518,
          42564,
          42646,
          42737,
          42757,
          42824,
          42865,
          42981,
          42992,
          43047,
          43146,
          43188,
          43238,
          43293,
          43358,
          43413,
          43467,
          43534,
          43587,
          43705,
          43738,
          43788,
          43827,
          43900,
          43947,
          44066,
          44110,
          44142,
          44247,
          44294,
          44367,
          44413,
          44487,
          44527,
          44579,
          44614,
          44678,
          44746,
          44820,
          44903,
          44922,
          45028,
          45048,
          45136,
          45157,
          45209,
          45296,
          45339,
          45417,
          45451,
          45569,
          45621,
          45689,
          45717,
          45765,
          45863,
          45903,
          45977,
          46009,
          46077,
          46144,
          46230,
          46254,
          46345,
          46394,
          46450,
          46526,
          46590,
          46606,
          46674,
          46712,
          46830,
          46858,
          46937,
          47001,
          47014,
          47115,
          47134,
          47215,
          47286,
          47358,
          47433,
          47483,
          47524,
          47577,
          47624,
          47729,
          47790,
          47801,
          47867,
          47965,
          48006,
          48063,
          48134,
          48188,
          48217,
          48323,
          48377,
          48446,
          48515,
          48560,
          48620,
          48661,
          48697,
          48757,
          48856,
          48929,
          48941,
          49046,
          49086,
          49149,
          49177,
          49238,
          49303,
          49359,
          49419,
          49537,
          49579,
          49607,
          49690,
          49718,
          49798,
          49849,
          49899,
          50018,
          50030,
          50132,
          50180,
          50257,
          50302,
          50320,
          50439,
          50497,
          50554,
          50563,
          50620,
          50733,
          50740,
          50855,
          50882,
          50932,
          51000,
          51058,
          51104,
          51211,
          51274,
          51340,
          51383,
          51449,
          51503,
          51541,
          51596,
          51679,
          51730,
          51809,
          51823,
          51892,
          51975,
          52037,
          52088,
          52133,
          52193,
          52243,
          52356,
          52380,
          52450,
          52501,
          52554,
          52628,
          52723,
          52744,
          52843,
          52880,
          52909,
          52990,
          53080,
          53142,
          53180,
          53207,
          53293,
          53371,
          53445,
          53498,
          53525,
          53584,
          53661,
          53707,
          53796,
          53806,
          53880,
          53986,
          54042,
          54096,
          54149,
          54207,
          54266,
          54333,
          54407,
          54467,
          54493,
          54557,
          54631,
          54701,
          54764,
          54768,
          54852,
          54906,
          55008,
          55042,
          55127,
          55184,
          55226,
          55286,
          55350,
          55395,
          55435,
          55549,
          55608,
          55615,
          55717,
          55761,
          55807,
          55881,
          55927,
          56029,
          56084,
          56115,
          56190,
          56266,
          56311,
          56354,
          56434,
          56463,
          56536,
          56587,
          56690,
          56714,
          56784,
          56845,
          56873,
          56984,
          57037,
          57104,
          57172,
          57198,
          57255,
          57293,
          57356,
          57423,
          57526,
          57591,
          57597,
          57654,
          57761,
          57821,
          57834,
          57905,
          57981,
          58037,
          58115,
          58137,
          58245,
          58263,
          58322,
          58434,
          58494,
          58497,
          58564,
          58675,
          58700,
          58753,
          58838,
          58883,
          58975,
          59036,
          59048,
          59126,
          59176,
          59276,
          59294,
          59339,
          59397,
          59508,
          59519,
          59585,
          59638,
          59721,
          59758,
          59841,
          59928,
          59963,
          59999
         ],
         "y": {
          "dtype": "float64",
          "shape": [
           1000
          ]
         }
        },
        {
         "name": "<b style=\"color:sandybrown\">[R]</b> VWAP <i style=\"color:#fc9944\">~60</i>",
         "type": "scattergl",
         "uid": "c1bbd634-1f22-44c2-99f0-4ca557bf30ee",
         "visible": "legendonly",
         "x": [
          0,
          60,
          120,
          180,
          240,
          300,
          360,
          420,
          480,
          541,
          601,
          661,
          721,
          781,
          841,
          901,
          961,
          1022,
          1082,
          1142,
          1202,
          1262,
          1322,
          1382,
          1442,
          1502,
          1563,
          1623,
          1683,
          1743,
          1803,
          1863,
          1923,
          1983,
          2044,
          2104,
          2164,
          2224,
          2284,
          2344,
          2404,
          2464,
          2524,
          2585,
          2645,
          2705,
          2765,
          2825,
          2885,
          2945,
          3005,
          3066,
          3126,
          3186,
          3246,
          3306,
          3366,
          3426,
          3486,
          3546,
          3607,
          3667,
          3727,
          3787,
          3847,
          3907,
          3967,
          4027,
          4088,
          4148,
          4208,
          4268,
          4328,
          4388,
          4448,
          4508,
          4568,
          4629,
          4689,
          4749,
          4809,
          4869,
          4929,
          4989,
          5049,
          5110,
          5170,
          5230,
          5290,
          5350,
          5410,
          5470,
          5530,
          5590,
          5651,
          5711,
          5771,
          5831,
          5891,
          5951,
          6011,
          6071,
          6132,
          6192,
          6252,
          6312,
          6372,
          6432,
          6492,
          6552,
          6613,
          6673,
          6733,
          6793,
          6853,
          6913,
          6973,
          7033,
          7093,
          7154,
          7214,
          7274,
          7334,
          7394,
          7454,
          7514,
          7574,
          7635,
          7695,
          7755,
          7815,
          7875,
          7935,
          7995,
          8055,
          8115,
          8176,
          8236,
          8296,
          8356,
          8416,
          8476,
          8536,
          8596,
          8657,
          8717,
          8777,
          8837,
          8897,
          8957,
          9017,
          9077,
          9137,
          9198,
          9258,
          9318,
          9378,
          9438,
          9498,
          9558,
          9618,
          9679,
          9739,
          9799,
          9859,
          9919,
          9979,
          10037,
          10067,
          10103,
          10162,
          10262,
          10319,
          10400,
          10425,
          10485,
          10556,
          10640,
          10661,
          10719,
          10779,
          10826,
          10908,
          10972,
          11030,
          11104,
          11147,
          11242,
          11294,
          11344,
          11422,
          11448,
          11499,
          11592,
          11658,
          11694,
          11726,
          11784,
          11871,
          11963,
          12023,
          12054,
          12131,
          12192,
          12218,
          12267,
          12362,
          12406,
          12494,
          12558,
          12623,
          12631,
          12742,
          12784,
          12865,
          12918,
          12982,
          13018,
          13090,
          13165,
          13184,
          13273,
          13346,
          13349,
          13439,
          13525,
          13559,
          13603,
          13664,
          13727,
          13770,
          13866,
          13947,
          13975,
          14067,
          14099,
          14160,
          14244,
          14266,
          14368,
          14414,
          14477,
          14516,
          14608,
          14642,
          14690,
          14756,
          14802,
          14870,
          14943,
          14970,
          15089,
          15105,
          15160,
          15239,
          15307,
          15373,
          15415,
          15494,
          15569,
          15620,
          15659,
          15721,
          15771,
          15828,
          15909,
          15952,
          15995,
          16103,
          16143,
          16189,
          16242,
          16304,
          16367,
          16455,
          16514,
          16576,
          16647,
          16695,
          16723,
          16787,
          16875,
          16936,
          16979,
          17054,
          17108,
          17184,
          17245,
          17278,
          17328,
          17392,
          17492,
          17547,
          17600,
          17650,
          17677,
          17757,
          17815,
          17883,
          17965,
          17982,
          18041,
          18102,
          18191,
          18217,
          18276,
          18371,
          18397,
          18490,
          18517,
          18592,
          18637,
          18737,
          18757,
          18870,
          18888,
          18965,
          18998,
          19112,
          19122,
          19197,
          19244,
          19344,
          19360,
          19439,
          19518,
          19592,
          19609,
          19690,
          19733,
          19800,
          19898,
          19900,
          20015,
          20067,
          20103,
          20177,
          20234,
          20300,
          20320,
          20413,
          20485,
          20556,
          20590,
          20627,
          20710,
          20792,
          20814,
          20875,
          20961,
          20987,
          21053,
          21156,
          21211,
          21261,
          21282,
          21378,
          21462,
          21497,
          21523,
          21642,
          21679,
          21722,
          21768,
          21872,
          21905,
          21967,
          22014,
          22073,
          22183,
          22213,
          22275,
          22362,
          22407,
          22435,
          22539,
          22592,
          22634,
          22682,
          22746,
          22786,
          22863,
          22963,
          22989,
          23061,
          23113,
          23182,
          23245,
          23285,
          23375,
          23403,
          23495,
          23546,
          23593,
          23683,
          23746,
          23790,
          23811,
          23927,
          23959,
          24011,
          24067,
          24153,
          24205,
          24247,
          24325,
          24355,
          24464,
          24516,
          24557,
          24645,
          24670,
          24756,
          24802,
          24876,
          24943,
          24951,
          25012,
          25098,
          25174,
          25237,
          25309,
          25326,
          25378,
          25467,
          25500,
          25573,
          25634,
          25726,
          25748,
          25805,
          25909,
          25952,
          25995,
          26081,
          26143,
          26158,
          26240,
          26304,
          26391,
          26415,
          26463,
          26525,
          26604,
          26633,
          26718,
          26758,
          26872,
          26932,
          26963,
          27044,
          27055,
          27155,
          27182,
          27245,
          27353,
          27392,
          27416,
          27491,
          27547,
          27641,
          27666,
          27757,
          27775,
          27883,
          27954,
          27982,
          28075,
          28102,
          28192,
          28217,
          28294,
          28355,
          28388,
          28466,
          28518,
          28592,
          28653,
          28736,
          28789,
          28851,
          28905,
          28925,
          29026,
          29082,
          29155,
          29206,
          29236,
          29295,
          29396,
          29443,
          29506,
          29565,
          29598,
          29698,
          29741,
          29813,
          29863,
          29898,
          29975,
          30019,
          30113,
          30162,
          30202,
          30264,
          30313,
          30400,
          30442,
          30519,
          30546,
          30641,
          30674,
          30734,
          30816,
          30855,
          30928,
          30962,
          31073,
          31086,
          31159,
          31257,
          31314,
          31329,
          31412,
          31451,
          31502,
          31622,
          31673,
          31721,
          31759,
          31818,
          31916,
          31967,
          32014,
          32077,
          32153,
          32194,
          32236,
          32343,
          32402,
          32435,
          32517,
          32530,
          32613,
          32682,
          32747,
          32770,
          32854,
          32885,
          32949,
          33065,
          33114,
          33132,
          33203,
          33305,
          33346,
          33371,
          33479,
          33514,
          33572,
          33640,
          33714,
          33736,
          33794,
          33905,
          33933,
          33969,
          34062,
          34101,
          34167,
          34208,
          34270,
          34368,
          34425,
          34468,
          34551,
          34602,
          34666,
          34715,
          34780,
          34864,
          34916,
          34960,
          35019,
          35099,
          35119,
          35173,
          35268,
          35317,
          35351,
          35415,
          35490,
          35556,
          35636,
          35684,
          35726,
          35786,
          35867,
          35931,
          35974,
          36066,
          36113,
          36158,
          36240,
          36302,
          36362,
          36393,
          36432,
          36520,
          36561,
          36615,
          36723,
          36758,
          36800,
          36866,
          36945,
          37029,
          37048,
          37138,
          37155,
          37255,
          37297,
          37378,
          37443,
          37457,
          37520,
          37606,
          37658,
          37707,
          37766,
          37847,
          37878,
          37990,
          38025,
          38055,
          38153,
          38231,
          38239,
          38329,
          38393,
          38448,
          38493,
          38566,
          38603,
          38696,
          38762,
          38814,
          38850,
          38912,
          38983,
          39017,
          39124,
          39173,
          39204,
          39258,
          39321,
          39396,
          39453,
          39557,
          39581,
          39640,
          39695,
          39754,
          39858,
          39882,
          39977,
          39996,
          40058,
          40149,
          40160,
          40232,
          40297,
          40388,
          40451,
          40497,
          40551,
          40607,
          40650,
          40722,
          40770,
          40825,
          40885,
          40981,
          41001,
          41112,
          41143,
          41241,
          41280,
          41340,
          41408,
          41442,
          41485,
          41543,
          41613,
          41685,
          41771,
          41832,
          41864,
          41906,
          41985,
          42077,
          42142,
          42155,
          42204,
          42320,
          42379,
          42403,
          42496,
          42530,
          42612,
          42634,
          42715,
          42745,
          42850,
          42868,
          42953,
          43012,
          43047,
          43121,
          43191,
          43233,
          43322,
          43366,
          43431,
          43479,
          43572,
          43621,
          43683,
          43737,
          43824,
          43850,
          43905,
          43953,
          44029,
          44106,
          44166,
          44188,
          44270,
          44367,
          44425,
          44468,
          44517,
          44602,
          44628,
          44706,
          44736,
          44789,
          44886,
          44960,
          45019,
          45088,
          45109,
          45195,
          45232,
          45327,
          45338,
          45415,
          45509,
          45540,
          45594,
          45646,
          45724,
          45796,
          45856,
          45919,
          45955,
          45998,
          46104,
          46170,
          46224,
          46254,
          46335,
          46365,
          46434,
          46523,
          46576,
          46622,
          46711,
          46728,
          46800,
          46892,
          46936,
          46954,
          47032,
          47109,
          47169,
          47250,
          47286,
          47358,
          47378,
          47443,
          47504,
          47603,
          47614,
          47710,
          47768,
          47847,
          47871,
          47915,
          48009,
          48086,
          48120,
          48202,
          48229,
          48328,
          48347,
          48424,
          48483,
          48541,
          48615,
          48650,
          48711,
          48815,
          48852,
          48903,
          48983,
          49013,
          49112,
          49168,
          49177,
          49274,
          49313,
          49416,
          49445,
          49535,
          49559,
          49598,
          49691,
          49754,
          49828,
          49882,
          49949,
          49996,
          50033,
          50114,
          50157,
          50252,
          50283,
          50359,
          50392,
          50452,
          50510,
          50593,
          50622,
          50722,
          50770,
          50801,
          50885,
          50980,
          51006,
          51074,
          51116,
          51217,
          51248,
          51332,
          51369,
          51442,
          51498,
          51549,
          51613,
          51662,
          51719,
          51771,
          51870,
          51924,
          51987,
          52036,
          52122,
          52180,
          52220,
          52286,
          52353,
          52423,
          52445,
          52522,
          52584,
          52619,
          52715,
          52724,
          52822,
          52894,
          52913,
          53005,
          53061,
          53135,
          53196,
          53243,
          53278,
          53370,
          53399,
          53471,
          53546,
          53619,
          53685,
          53742,
          53783,
          53821,
          53881,
          53927,
          53994,
          54100,
          54129,
          54175,
          54251,
          54288,
          54355,
          54410,
          54521,
          54577,
          54628,
          54689,
          54712,
          54814,
          54887,
          54921,
          54993,
          55032,
          55092,
          55171,
          55248,
          55308,
          55350,
          55429,
          55459,
          55549,
          55580,
          55660,
          55722,
          55743,
          55817,
          55895,
          55964,
          55981,
          56082,
          56091,
          56210,
          56261,
          56322,
          56340,
          56434,
          56457,
          56538,
          56615,
          56683,
          56746,
          56788,
          56871,
          56893,
          56936,
          56999,
          57099,
          57167,
          57195,
          57280,
          57338,
          57357,
          57437,
          57532,
          57541,
          57640,
          57713,
          57734,
          57788,
          57849,
          57905,
          57991,
          58018,
          58107,
          58136,
          58208,
          58299,
          58347,
          58429,
          58468,
          58525,
          58615,
          58650,
          58712,
          58794,
          58827,
          58871,
          58932,
          59036,
          59060,
          59148,
          59198,
          59256,
          59313,
          59372,
          59424,
          59497,
          59567,
          59582,
          59692,
          59715,
          59781,
          59828,
          59898,
          59938,
          59999
         ],
         "y": {
          "dtype": "float64",
          "shape": [
           1000
          ]
         }
        },
        {
         "name": "<b style=\"color:sandybrown\">[R]</b> CWMA <i style=\"color:#fc9944\">~60</i>",
         "type": "scattergl",
         "uid": "9ed6e0d5-e500-446d-b800-4a2b5b7ef27a",
         "visible": true,
         "x": [
          0,
          1,
          61,
          121,
          181,
          241,
          301,
          361,
          480,
          481,
          542,
          602,
          662,
          722,
          782,
          842,
          961,
          962,
          1023,
          1083,
          1143,
          1203,
          1263,
          1323,
          1383,
          1502,
          1503,
          1564,
          1624,
          1684,
          1744,
          1804,
          1864,
          1983,
          1984,
          2045,
          2105,
          2165,
          2225,
          2285,
          2345,
          2405,
          2524,
          2525,
          2586,
          2646,
          2706,
          2766,
          2826,
          2886,
          3005,
          3006,
          3067,
          3127,
          3187,
          3247,
          3307,
          3367,
          3427,
          3546,
          3547,
          3608,
          3668,
          3728,
          3788,
          3848,
          3908,
          4027,
          4028,
          4089,
          4149,
          4209,
          4269,
          4329,
          4389,
          4449,
          4568,
          4569,
          4630,
          4690,
          4750,
          4810,
          4870,
          4930,
          5049,
          5050,
          5111,
          5171,
          5231,
          5291,
          5351,
          5411,
          5471,
          5590,
          5591,
          5652,
          5712,
          5772,
          5832,
          5892,
          5952,
          6071,
          6072,
          6133,
          6193,
          6253,
          6313,
          6373,
          6433,
          6552,
          6553,
          6614,
          6674,
          6734,
          6794,
          6854,
          6914,
          6974,
          7093,
          7094,
          7155,
          7215,
          7275,
          7335,
          7395,
          7455,
          7574,
          7575,
          7636,
          7696,
          7756,
          7816,
          7876,
          7936,
          7996,
          8115,
          8116,
          8177,
          8237,
          8297,
          8357,
          8417,
          8477,
          8596,
          8597,
          8658,
          8718,
          8778,
          8838,
          8898,
          8958,
          9018,
          9137,
          9138,
          9199,
          9259,
          9319,
          9379,
          9439,
          9499,
          9618,
          9619,
          9680,
          9740,
          9800,
          9860,
          9920,
          9980,
          10040,
          10159,
          10160,
          10221,
          10281,
          10341,
          10401,
          10461,
          10521,
          10640,
          10641,
          10702,
          10762,
          10822,
          10882,
          10942,
          11002,
          11062,
          11181,
          11182,
          11243,
          11303,
          11363,
          11423,
          11483,
          11543,
          11662,
          11663,
          11724,
          11784,
          11844,
          11904,
          11964,
          12024,
          12143,
          12144,
          12205,
          12265,
          12325,
          12385,
          12445,
          12505,
          12565,
          12684,
          12685,
          12746,
          12806,
          12866,
          12926,
          12986,
          13046,
          13165,
          13166,
          13227,
          13287,
          13347,
          13407,
          13467,
          13527,
          13587,
          13706,
          13707,
          13768,
          13828,
          13888,
          13948,
          14008,
          14068,
          14187,
          14188,
          14249,
          14309,
          14369,
          14429,
          14489,
          14549,
          14668,
          14701,
          14775,
          14803,
          14909,
          14963,
          14994,
          15065,
          15135,
          15157,
          15240,
          15306,
          15373,
          15428,
          15478,
          15570,
          15630,
          15663,
          15691,
          15765,
          15828,
          15928,
          15955,
          16044,
          16083,
          16157,
          16217,
          16269,
          16333,
          16382,
          16463,
          16488,
          16575,
          16612,
          16665,
          16744,
          16804,
          16882,
          16920,
          17013,
          17054,
          17097,
          17134,
          17203,
          17289,
          17335,
          17413,
          17484,
          17538,
          17614,
          17648,
          17734,
          17771,
          17853,
          17888,
          17941,
          18030,
          18057,
          18141,
          18187,
          18265,
          18319,
          18379,
          18434,
          18485,
          18556,
          18609,
          18680,
          18726,
          18761,
          18853,
          18878,
          18952,
          19018,
          19058,
          19127,
          19180,
          19292,
          19349,
          19418,
          19476,
          19538,
          19566,
          19658,
          19675,
          19766,
          19812,
          19871,
          19959,
          19993,
          20046,
          20130,
          20160,
          20259,
          20312,
          20380,
          20420,
          20467,
          20546,
          20569,
          20621,
          20738,
          20755,
          20821,
          20921,
          20955,
          21036,
          21101,
          21161,
          21191,
          21245,
          21287,
          21389,
          21413,
          21522,
          21563,
          21610,
          21663,
          21717,
          21813,
          21846,
          21884,
          22003,
          22026,
          22085,
          22165,
          22227,
          22282,
          22357,
          22421,
          22465,
          22514,
          22554,
          22664,
          22707,
          22752,
          22814,
          22899,
          22965,
          22996,
          23026,
          23086,
          23180,
          23244,
          23292,
          23374,
          23388,
          23481,
          23542,
          23573,
          23673,
          23704,
          23787,
          23844,
          23904,
          23928,
          24033,
          24096,
          24165,
          24214,
          24245,
          24288,
          24402,
          24454,
          24501,
          24563,
          24609,
          24671,
          24738,
          24792,
          24888,
          24903,
          25009,
          25062,
          25117,
          25154,
          25190,
          25285,
          25362,
          25418,
          25473,
          25533,
          25595,
          25645,
          25688,
          25756,
          25812,
          25866,
          25934,
          25991,
          26091,
          26140,
          26188,
          26253,
          26294,
          26380,
          26439,
          26512,
          26540,
          26632,
          26662,
          26750,
          26795,
          26849,
          26909,
          26993,
          27030,
          27054,
          27147,
          27180,
          27252,
          27330,
          27375,
          27453,
          27502,
          27554,
          27639,
          27699,
          27759,
          27834,
          27877,
          27954,
          27996,
          28016,
          28123,
          28180,
          28225,
          28315,
          28359,
          28426,
          28491,
          28542,
          28583,
          28621,
          28692,
          28796,
          28823,
          28900,
          28976,
          29032,
          29084,
          29140,
          29202,
          29277,
          29321,
          29379,
          29425,
          29505,
          29549,
          29598,
          29694,
          29749,
          29795,
          29845,
          29908,
          29980,
          30046,
          30093,
          30163,
          30206,
          30262,
          30342,
          30409,
          30457,
          30510,
          30546,
          30604,
          30686,
          30769,
          30828,
          30865,
          30960,
          30982,
          31074,
          31120,
          31181,
          31259,
          31321,
          31340,
          31418,
          31478,
          31527,
          31621,
          31651,
          31735,
          31773,
          31862,
          31898,
          31933,
          32043,
          32102,
          32163,
          32203,
          32261,
          32343,
          32393,
          32439,
          32485,
          32577,
          32636,
          32667,
          32749,
          32780,
          32884,
          32930,
          32983,
          33021,
          33068,
          33175,
          33213,
          33290,
          33345,
          33393,
          33451,
          33496,
          33589,
          33661,
          33705,
          33780,
          33826,
          33877,
          33946,
          34007,
          34063,
          34123,
          34191,
          34241,
          34318,
          34368,
          34427,
          34497,
          34556,
          34586,
          34667,
          34690,
          34749,
          34826,
          34923,
          34931,
          35011,
          35077,
          35169,
          35183,
          35262,
          35319,
          35401,
          35440,
          35529,
          35567,
          35647,
          35707,
          35770,
          35818,
          35856,
          35923,
          35961,
          36013,
          36091,
          36153,
          36211,
          36302,
          36347,
          36403,
          36481,
          36529,
          36552,
          36650,
          36722,
          36776,
          36815,
          36908,
          36952,
          37008,
          37064,
          37118,
          37161,
          37245,
          37286,
          37360,
          37421,
          37477,
          37525,
          37625,
          37674,
          37745,
          37809,
          37854,
          37878,
          37957,
          38001,
          38088,
          38141,
          38212,
          38295,
          38355,
          38390,
          38425,
          38483,
          38588,
          38649,
          38690,
          38749,
          38799,
          38852,
          38948,
          39016,
          39065,
          39116,
          39164,
          39232,
          39300,
          39354,
          39425,
          39479,
          39531,
          39617,
          39661,
          39723,
          39797,
          39844,
          39885,
          39941,
          40023,
          40048,
          40119,
          40217,
          40258,
          40314,
          40377,
          40445,
          40489,
          40579,
          40639,
          40679,
          40738,
          40820,
          40857,
          40917,
          40987,
          41040,
          41080,
          41175,
          41241,
          41301,
          41346,
          41394,
          41451,
          41508,
          41576,
          41623,
          41722,
          41773,
          41823,
          41864,
          41915,
          42013,
          42047,
          42141,
          42203,
          42225,
          42323,
          42372,
          42425,
          42503,
          42539,
          42623,
          42649,
          42741,
          42754,
          42828,
          42865,
          42982,
          43019,
          43081,
          43150,
          43202,
          43231,
          43311,
          43405,
          43447,
          43525,
          43569,
          43645,
          43705,
          43752,
          43780,
          43869,
          43942,
          44005,
          44066,
          44126,
          44186,
          44247,
          44289,
          44367,
          44402,
          44487,
          44537,
          44591,
          44662,
          44727,
          44764,
          44815,
          44904,
          44965,
          45028,
          45070,
          45111,
          45196,
          45255,
          45311,
          45347,
          45416,
          45493,
          45569,
          45605,
          45689,
          45714,
          45777,
          45852,
          45925,
          45969,
          46020,
          46071,
          46145,
          46230,
          46250,
          46332,
          46378,
          46446,
          46523,
          46591,
          46635,
          46682,
          46766,
          46832,
          46855,
          46942,
          46991,
          47037,
          47120,
          47189,
          47250,
          47284,
          47343,
          47407,
          47434,
          47534,
          47573,
          47632,
          47731,
          47788,
          47854,
          47900,
          47958,
          48003,
          48066,
          48128,
          48196,
          48215,
          48326,
          48392,
          48422,
          48515,
          48558,
          48597,
          48672,
          48737,
          48756,
          48864,
          48907,
          48972,
          49056,
          49116,
          49154,
          49214,
          49290,
          49345,
          49410,
          49446,
          49516,
          49581,
          49602,
          49693,
          49775,
          49797,
          49853,
          49911,
          50018,
          50059,
          50101,
          50160,
          50240,
          50302,
          50374,
          50423,
          50488,
          50547,
          50572,
          50620,
          50724,
          50799,
          50856,
          50920,
          50952,
          51007,
          51062,
          51101,
          51217,
          51265,
          51340,
          51384,
          51431,
          51489,
          51571,
          51634,
          51693,
          51737,
          51793,
          51869,
          51904,
          51985,
          52021,
          52122,
          52168,
          52220,
          52279,
          52353,
          52382,
          52477,
          52524,
          52548,
          52629,
          52723,
          52754,
          52826,
          52879,
          52944,
          53001,
          53067,
          53122,
          53202,
          53233,
          53317,
          53355,
          53445,
          53493,
          53531,
          53583,
          53667,
          53698,
          53776,
          53859,
          53877,
          53956,
          54026,
          54106,
          54148,
          54209,
          54262,
          54301,
          54350,
          54422,
          54491,
          54553,
          54635,
          54677,
          54750,
          54800,
          54857,
          54925,
          54969,
          55028,
          55073,
          55132,
          55225,
          55289,
          55335,
          55401,
          55468,
          55527,
          55609,
          55659,
          55709,
          55753,
          55806,
          55892,
          55943,
          56030,
          56056,
          56112,
          56158,
          56245,
          56316,
          56351,
          56440,
          56494,
          56529,
          56576,
          56682,
          56726,
          56777,
          56847,
          56904,
          56984,
          57042,
          57096,
          57172,
          57217,
          57244,
          57307,
          57412,
          57422,
          57530,
          57573,
          57598,
          57661,
          57766,
          57826,
          57870,
          57904,
          58000,
          58069,
          58122,
          58136,
          58245,
          58314,
          58325,
          58434,
          58480,
          58496,
          58563,
          58675,
          58720,
          58750,
          58855,
          58882,
          58975,
          59036,
          59084,
          59139,
          59171,
          59276,
          59298,
          59353,
          59435,
          59511,
          59577,
          59625,
          59638,
          59732,
          59817,
          59855,
          59915,
          59961,
          59999
         ],
         "y": {
          "dtype": "float64",
          "shape": [
           1000
          ]
         }
        },
        {
         "hovertext": "",
         "name": "SSMA",
         "text": "",
         "type": "scattergl",
         "uid": "def99d9e-5363-478e-b162-9f27f5bf0d8b",
         "x": [
          null
         ],
         "y": [
          null
         ]
        },
        {
         "name": "<b style=\"color:sandybrown\">[R]</b> EPMA <i style=\"color:#fc9944\">~60</i>",
         "type": "scattergl",
         "uid": "05a77020-1cf7-4e6f-8e46-f6daaa3e6685",
         "x": [
          0,
          60,
          120,
          180,
          240,
          300,
          360,
          420,
          480,
          541,
          601,
          661,
          721,
          781,
          841,
          901,
          961,
          1022,
          1082,
          1142,
          1202,
          1262,
          1322,
          1382,
          1442,
          1502,
          1563,
          1623,
          1683,
          1743,
          1803,
          1863,
          1923,
          1983,
          2044,
          2104,
          2164,
          2224,
          2284,
          2344,
          2404,
          2464,
          2524,
          2585,
          2645,
          2705,
          2765,
          2825,
          2885,
          2945,
          3005,
          3066,
          3126,
          3186,
          3246,
          3306,
          3366,
          3426,
          3486,
          3546,
          3607,
          3667,
          3727,
          3787,
          3847,
          3907,
          3967,
          4027,
          4088,
          4148,
          4208,
          4268,
          4328,
          4388,
          4448,
          4508,
          4568,
          4629,
          4689,
          4749,
          4809,
          4869,
          4929,
          4989,
          5049,
          5110,
          5170,
          5230,
          5290,
          5350,
          5410,
          5470,
          5530,
          5590,
          5651,
          5711,
          5771,
          5831,
          5891,
          5951,
          6011,
          6071,
          6132,
          6192,
          6201,
          6312,
          6372,
          6432,
          6464,
          6523,
          6583,
          6673,
          6695,
          6734,
          6822,
          6910,
          6968,
          7030,
          7091,
          7115,
          7214,
          7274,
          7306,
          7339,
          7436,
          7491,
          7569,
          7635,
          7658,
          7755,
          7786,
          7863,
          7912,
          7953,
          7996,
          8075,
          8168,
          8236,
          8266,
          8342,
          8412,
          8476,
          8521,
          8550,
          8610,
          8717,
          8777,
          8801,
          8849,
          8936,
          8991,
          9061,
          9118,
          9198,
          9235,
          9318,
          9363,
          9438,
          9477,
          9553,
          9601,
          9644,
          9720,
          9798,
          9828,
          9882,
          9947,
          9987,
          10091,
          10159,
          10178,
          10247,
          10338,
          10400,
          10435,
          10520,
          10579,
          10615,
          10678,
          10743,
          10805,
          10881,
          10915,
          10979,
          11045,
          11121,
          11164,
          11213,
          11257,
          11338,
          11415,
          11438,
          11501,
          11546,
          11662,
          11700,
          11783,
          11800,
          11888,
          11936,
          11964,
          12076,
          12133,
          12193,
          12211,
          12300,
          12336,
          12440,
          12504,
          12512,
          12624,
          12645,
          12703,
          12766,
          12819,
          12925,
          12969,
          13035,
          13071,
          13119,
          13174,
          13263,
          13346,
          13376,
          13452,
          13512,
          13569,
          13646,
          13700,
          13767,
          13790,
          13869,
          13927,
          14000,
          14046,
          14082,
          14151,
          14236,
          14267,
          14328,
          14424,
          14434,
          14534,
          14584,
          14631,
          14683,
          14774,
          14803,
          14909,
          14963,
          14994,
          15065,
          15135,
          15157,
          15240,
          15306,
          15373,
          15428,
          15478,
          15570,
          15630,
          15663,
          15691,
          15765,
          15828,
          15928,
          15955,
          16034,
          16080,
          16157,
          16217,
          16269,
          16333,
          16382,
          16463,
          16488,
          16576,
          16612,
          16665,
          16727,
          16781,
          16880,
          16912,
          17013,
          17054,
          17097,
          17134,
          17202,
          17291,
          17335,
          17413,
          17484,
          17538,
          17614,
          17648,
          17734,
          17771,
          17853,
          17888,
          17941,
          18030,
          18095,
          18147,
          18189,
          18265,
          18319,
          18379,
          18434,
          18485,
          18556,
          18609,
          18680,
          18726,
          18772,
          18854,
          18937,
          18987,
          19049,
          19117,
          19171,
          19194,
          19293,
          19349,
          19418,
          19476,
          19538,
          19566,
          19658,
          19675,
          19767,
          19812,
          19871,
          19959,
          19993,
          20046,
          20106,
          20160,
          20258,
          20312,
          20380,
          20420,
          20467,
          20546,
          20569,
          20639,
          20740,
          20755,
          20843,
          20921,
          20955,
          20983,
          21090,
          21161,
          21191,
          21245,
          21287,
          21390,
          21413,
          21522,
          21563,
          21610,
          21663,
          21717,
          21813,
          21846,
          21884,
          22003,
          22026,
          22085,
          22165,
          22227,
          22282,
          22358,
          22421,
          22465,
          22514,
          22568,
          22664,
          22707,
          22752,
          22814,
          22899,
          22965,
          22996,
          23026,
          23086,
          23180,
          23244,
          23291,
          23375,
          23446,
          23491,
          23546,
          23592,
          23673,
          23704,
          23784,
          23845,
          23904,
          23928,
          24034,
          24096,
          24165,
          24214,
          24246,
          24288,
          24397,
          24455,
          24502,
          24563,
          24609,
          24671,
          24738,
          24792,
          24888,
          24893,
          25009,
          25062,
          25117,
          25154,
          25190,
          25285,
          25362,
          25418,
          25473,
          25533,
          25594,
          25645,
          25688,
          25756,
          25812,
          25866,
          25934,
          26000,
          26091,
          26140,
          26188,
          26253,
          26294,
          26380,
          26439,
          26512,
          26540,
          26632,
          26662,
          26750,
          26795,
          26849,
          26909,
          26993,
          27030,
          27054,
          27146,
          27180,
          27252,
          27330,
          27375,
          27453,
          27502,
          27555,
          27639,
          27699,
          27746,
          27829,
          27875,
          27954,
          27996,
          28027,
          28123,
          28180,
          28224,
          28315,
          28359,
          28426,
          28491,
          28542,
          28583,
          28621,
          28692,
          28796,
          28823,
          28900,
          28976,
          29032,
          29084,
          29140,
          29202,
          29277,
          29321,
          29379,
          29425,
          29505,
          29549,
          29598,
          29689,
          29749,
          29795,
          29845,
          29909,
          29979,
          30046,
          30093,
          30163,
          30206,
          30262,
          30341,
          30409,
          30457,
          30510,
          30546,
          30604,
          30686,
          30769,
          30828,
          30865,
          30960,
          30982,
          31074,
          31120,
          31181,
          31259,
          31321,
          31340,
          31418,
          31478,
          31525,
          31621,
          31652,
          31735,
          31773,
          31862,
          31898,
          31934,
          32043,
          32102,
          32163,
          32203,
          32261,
          32343,
          32393,
          32439,
          32485,
          32577,
          32636,
          32667,
          32749,
          32780,
          32884,
          32930,
          32983,
          33021,
          33068,
          33175,
          33213,
          33290,
          33345,
          33393,
          33451,
          33496,
          33589,
          33663,
          33705,
          33780,
          33826,
          33877,
          33946,
          34007,
          34063,
          34123,
          34191,
          34241,
          34318,
          34368,
          34427,
          34502,
          34563,
          34587,
          34667,
          34690,
          34749,
          34826,
          34923,
          34939,
          35011,
          35077,
          35132,
          35182,
          35262,
          35319,
          35401,
          35440,
          35529,
          35567,
          35647,
          35707,
          35770,
          35818,
          35856,
          35923,
          35961,
          36013,
          36091,
          36153,
          36211,
          36302,
          36347,
          36403,
          36481,
          36529,
          36552,
          36649,
          36722,
          36776,
          36815,
          36912,
          36952,
          37008,
          37064,
          37118,
          37161,
          37245,
          37286,
          37360,
          37421,
          37477,
          37525,
          37625,
          37674,
          37745,
          37809,
          37854,
          37878,
          37957,
          38015,
          38088,
          38141,
          38208,
          38295,
          38355,
          38390,
          38425,
          38483,
          38588,
          38649,
          38690,
          38749,
          38799,
          38846,
          38948,
          39016,
          39065,
          39116,
          39164,
          39232,
          39300,
          39354,
          39425,
          39479,
          39531,
          39617,
          39661,
          39723,
          39797,
          39844,
          39885,
          39945,
          40023,
          40048,
          40119,
          40217,
          40258,
          40314,
          40377,
          40445,
          40488,
          40579,
          40639,
          40679,
          40738,
          40820,
          40857,
          40917,
          40987,
          41040,
          41080,
          41174,
          41192,
          41244,
          41335,
          41389,
          41450,
          41508,
          41576,
          41623,
          41722,
          41773,
          41783,
          41864,
          41915,
          42013,
          42044,
          42120,
          42203,
          42225,
          42323,
          42372,
          42425,
          42503,
          42541,
          42623,
          42649,
          42741,
          42754,
          42828,
          42904,
          42982,
          43020,
          43074,
          43150,
          43202,
          43231,
          43311,
          43346,
          43447,
          43525,
          43569,
          43645,
          43705,
          43752,
          43781,
          43850,
          43899,
          43947,
          44066,
          44126,
          44186,
          44247,
          44289,
          44367,
          44404,
          44487,
          44537,
          44591,
          44662,
          44727,
          44764,
          44815,
          44904,
          44965,
          45028,
          45070,
          45111,
          45196,
          45255,
          45311,
          45347,
          45416,
          45486,
          45569,
          45605,
          45689,
          45714,
          45777,
          45852,
          45925,
          45969,
          46020,
          46068,
          46145,
          46230,
          46249,
          46332,
          46378,
          46446,
          46512,
          46590,
          46635,
          46682,
          46766,
          46832,
          46853,
          46940,
          46991,
          47037,
          47120,
          47189,
          47251,
          47284,
          47343,
          47407,
          47434,
          47534,
          47573,
          47632,
          47731,
          47788,
          47854,
          47900,
          47958,
          48003,
          48066,
          48128,
          48196,
          48215,
          48326,
          48392,
          48422,
          48515,
          48558,
          48597,
          48672,
          48737,
          48816,
          48867,
          48909,
          48972,
          49056,
          49116,
          49154,
          49214,
          49290,
          49345,
          49410,
          49446,
          49516,
          49581,
          49602,
          49693,
          49775,
          49797,
          49853,
          49909,
          50018,
          50059,
          50101,
          50160,
          50240,
          50302,
          50319,
          50393,
          50488,
          50547,
          50586,
          50620,
          50724,
          50799,
          50856,
          50920,
          50950,
          51006,
          51061,
          51101,
          51217,
          51265,
          51340,
          51384,
          51431,
          51489,
          51573,
          51634,
          51693,
          51737,
          51794,
          51869,
          51904,
          51985,
          52021,
          52122,
          52168,
          52220,
          52279,
          52353,
          52382,
          52477,
          52524,
          52548,
          52629,
          52723,
          52754,
          52826,
          52879,
          52944,
          53001,
          53067,
          53122,
          53202,
          53233,
          53317,
          53355,
          53445,
          53493,
          53531,
          53583,
          53667,
          53698,
          53776,
          53859,
          53877,
          53959,
          54026,
          54106,
          54148,
          54209,
          54262,
          54301,
          54360,
          54426,
          54491,
          54553,
          54647,
          54677,
          54750,
          54800,
          54857,
          54925,
          54969,
          55028,
          55073,
          55132,
          55225,
          55289,
          55335,
          55401,
          55468,
          55527,
          55609,
          55659,
          55709,
          55753,
          55806,
          55892,
          55943,
          56030,
          56056,
          56112,
          56159,
          56245,
          56316,
          56351,
          56440,
          56494,
          56529,
          56576,
          56682,
          56726,
          56777,
          56847,
          56904,
          56984,
          57042,
          57096,
          57172,
          57217,
          57244,
          57307,
          57412,
          57422,
          57530,
          57573,
          57598,
          57661,
          57766,
          57826,
          57870,
          57904,
          58000,
          58069,
          58122,
          58136,
          58245,
          58314,
          58325,
          58434,
          58480,
          58496,
          58563,
          58675,
          58720,
          58750,
          58855,
          58881,
          58975,
          59036,
          59084,
          59139,
          59171,
          59276,
          59298,
          59355,
          59435,
          59511,
          59577,
          59625,
          59638,
          59732,
          59817,
          59855,
          59915,
          59961,
          59999
         ],
         "y": {
          "dtype": "float64",
          "shape": [
           1000
          ]
         }
        }
       ],
       "_js2py_update": {},
       "_last_layout_edit_id": 32,
       "_last_trace_edit_id": 32,
       "_layout": {
        "autosize": true,
        "height": 700,
        "legend": {
         "orientation": "h",
         "x": 0.1,
         "y": 1
        },
        "margin": {
         "b": 10,
         "l": 45,
         "pad": 3,
         "r": 15,
         "t": 30
        },
        "template": {
         "data": {
          "bar": [
           {
            "error_x": {
             "color": "#2a3f5f"
            },
            "error_y": {
             "color": "#2a3f5f"
            },
            "marker": {
             "line": {
              "color": "white",
              "width": 0.5
             },
             "pattern": {
              "fillmode": "overlay",
              "size": 10,
              "solidity": 0.2
             }
            },
            "type": "bar"
           }
          ],
          "barpolar": [
           {
            "marker": {
             "line": {
              "color": "white",
              "width": 0.5
             },
             "pattern": {
              "fillmode": "overlay",
              "size": 10,
              "solidity": 0.2
             }
            },
            "type": "barpolar"
           }
          ],
          "carpet": [
           {
            "aaxis": {
             "endlinecolor": "#2a3f5f",
             "gridcolor": "#C8D4E3",
             "linecolor": "#C8D4E3",
             "minorgridcolor": "#C8D4E3",
             "startlinecolor": "#2a3f5f"
            },
            "baxis": {
             "endlinecolor": "#2a3f5f",
             "gridcolor": "#C8D4E3",
             "linecolor": "#C8D4E3",
             "minorgridcolor": "#C8D4E3",
             "startlinecolor": "#2a3f5f"
            },
            "type": "carpet"
           }
          ],
          "choropleth": [
           {
            "colorbar": {
             "outlinewidth": 0,
             "ticks": ""
            },
            "type": "choropleth"
           }
          ],
          "contour": [
           {
            "colorbar": {
             "outlinewidth": 0,
             "ticks": ""
            },
            "colorscale": [
             [
              0,
              "#0d0887"
             ],
             [
              0.1111111111111111,
              "#46039f"
             ],
             [
              0.2222222222222222,
              "#7201a8"
             ],
             [
              0.3333333333333333,
              "#9c179e"
             ],
             [
              0.4444444444444444,
              "#bd3786"
             ],
             [
              0.5555555555555556,
              "#d8576b"
             ],
             [
              0.6666666666666666,
              "#ed7953"
             ],
             [
              0.7777777777777778,
              "#fb9f3a"
             ],
             [
              0.8888888888888888,
              "#fdca26"
             ],
             [
              1,
              "#f0f921"
             ]
            ],
            "type": "contour"
           }
          ],
          "contourcarpet": [
           {
            "colorbar": {
             "outlinewidth": 0,
             "ticks": ""
            },
            "type": "contourcarpet"
           }
          ],
          "heatmap": [
           {
            "colorbar": {
             "outlinewidth": 0,
             "ticks": ""
            },
            "colorscale": [
             [
              0,
              "#0d0887"
             ],
             [
              0.1111111111111111,
              "#46039f"
             ],
             [
              0.2222222222222222,
              "#7201a8"
             ],
             [
              0.3333333333333333,
              "#9c179e"
             ],
             [
              0.4444444444444444,
              "#bd3786"
             ],
             [
              0.5555555555555556,
              "#d8576b"
             ],
             [
              0.6666666666666666,
              "#ed7953"
             ],
             [
              0.7777777777777778,
              "#fb9f3a"
             ],
             [
              0.8888888888888888,
              "#fdca26"
             ],
             [
              1,
              "#f0f921"
             ]
            ],
            "type": "heatmap"
           }
          ],
          "heatmapgl": [
           {
            "colorbar": {
             "outlinewidth": 0,
             "ticks": ""
            },
            "colorscale": [
             [
              0,
              "#0d0887"
             ],
             [
              0.1111111111111111,
              "#46039f"
             ],
             [
              0.2222222222222222,
              "#7201a8"
             ],
             [
              0.3333333333333333,
              "#9c179e"
             ],
             [
              0.4444444444444444,
              "#bd3786"
             ],
             [
              0.5555555555555556,
              "#d8576b"
             ],
             [
              0.6666666666666666,
              "#ed7953"
             ],
             [
              0.7777777777777778,
              "#fb9f3a"
             ],
             [
              0.8888888888888888,
              "#fdca26"
             ],
             [
              1,
              "#f0f921"
             ]
            ],
            "type": "heatmapgl"
           }
          ],
          "histogram": [
           {
            "marker": {
             "pattern": {
              "fillmode": "overlay",
              "size": 10,
              "solidity": 0.2
             }
            },
            "type": "histogram"
           }
          ],
          "histogram2d": [
           {
            "colorbar": {
             "outlinewidth": 0,
             "ticks": ""
            },
            "colorscale": [
             [
              0,
              "#0d0887"
             ],
             [
              0.1111111111111111,
              "#46039f"
             ],
             [
              0.2222222222222222,
              "#7201a8"
             ],
             [
              0.3333333333333333,
              "#9c179e"
             ],
             [
              0.4444444444444444,
              "#bd3786"
             ],
             [
              0.5555555555555556,
              "#d8576b"
             ],
             [
              0.6666666666666666,
              "#ed7953"
             ],
             [
              0.7777777777777778,
              "#fb9f3a"
             ],
             [
              0.8888888888888888,
              "#fdca26"
             ],
             [
              1,
              "#f0f921"
             ]
            ],
            "type": "histogram2d"
           }
          ],
          "histogram2dcontour": [
           {
            "colorbar": {
             "outlinewidth": 0,
             "ticks": ""
            },
            "colorscale": [
             [
              0,
              "#0d0887"
             ],
             [
              0.1111111111111111,
              "#46039f"
             ],
             [
              0.2222222222222222,
              "#7201a8"
             ],
             [
              0.3333333333333333,
              "#9c179e"
             ],
             [
              0.4444444444444444,
              "#bd3786"
             ],
             [
              0.5555555555555556,
              "#d8576b"
             ],
             [
              0.6666666666666666,
              "#ed7953"
             ],
             [
              0.7777777777777778,
              "#fb9f3a"
             ],
             [
              0.8888888888888888,
              "#fdca26"
             ],
             [
              1,
              "#f0f921"
             ]
            ],
            "type": "histogram2dcontour"
           }
          ],
          "mesh3d": [
           {
            "colorbar": {
             "outlinewidth": 0,
             "ticks": ""
            },
            "type": "mesh3d"
           }
          ],
          "parcoords": [
           {
            "line": {
             "colorbar": {
              "outlinewidth": 0,
              "ticks": ""
             }
            },
            "type": "parcoords"
           }
          ],
          "pie": [
           {
            "automargin": true,
            "type": "pie"
           }
          ],
          "scatter": [
           {
            "marker": {
             "colorbar": {
              "outlinewidth": 0,
              "ticks": ""
             }
            },
            "type": "scatter"
           }
          ],
          "scatter3d": [
           {
            "line": {
             "colorbar": {
              "outlinewidth": 0,
              "ticks": ""
             }
            },
            "marker": {
             "colorbar": {
              "outlinewidth": 0,
              "ticks": ""
             }
            },
            "type": "scatter3d"
           }
          ],
          "scattercarpet": [
           {
            "marker": {
             "colorbar": {
              "outlinewidth": 0,
              "ticks": ""
             }
            },
            "type": "scattercarpet"
           }
          ],
          "scattergeo": [
           {
            "marker": {
             "colorbar": {
              "outlinewidth": 0,
              "ticks": ""
             }
            },
            "type": "scattergeo"
           }
          ],
          "scattergl": [
           {
            "marker": {
             "colorbar": {
              "outlinewidth": 0,
              "ticks": ""
             }
            },
            "type": "scattergl"
           }
          ],
          "scattermapbox": [
           {
            "marker": {
             "colorbar": {
              "outlinewidth": 0,
              "ticks": ""
             }
            },
            "type": "scattermapbox"
           }
          ],
          "scatterpolar": [
           {
            "marker": {
             "colorbar": {
              "outlinewidth": 0,
              "ticks": ""
             }
            },
            "type": "scatterpolar"
           }
          ],
          "scatterpolargl": [
           {
            "marker": {
             "colorbar": {
              "outlinewidth": 0,
              "ticks": ""
             }
            },
            "type": "scatterpolargl"
           }
          ],
          "scatterternary": [
           {
            "marker": {
             "colorbar": {
              "outlinewidth": 0,
              "ticks": ""
             }
            },
            "type": "scatterternary"
           }
          ],
          "surface": [
           {
            "colorbar": {
             "outlinewidth": 0,
             "ticks": ""
            },
            "colorscale": [
             [
              0,
              "#0d0887"
             ],
             [
              0.1111111111111111,
              "#46039f"
             ],
             [
              0.2222222222222222,
              "#7201a8"
             ],
             [
              0.3333333333333333,
              "#9c179e"
             ],
             [
              0.4444444444444444,
              "#bd3786"
             ],
             [
              0.5555555555555556,
              "#d8576b"
             ],
             [
              0.6666666666666666,
              "#ed7953"
             ],
             [
              0.7777777777777778,
              "#fb9f3a"
             ],
             [
              0.8888888888888888,
              "#fdca26"
             ],
             [
              1,
              "#f0f921"
             ]
            ],
            "type": "surface"
           }
          ],
          "table": [
           {
            "cells": {
             "fill": {
              "color": "#EBF0F8"
             },
             "line": {
              "color": "white"
             }
            },
            "header": {
             "fill": {
              "color": "#C8D4E3"
             },
             "line": {
              "color": "white"
             }
            },
            "type": "table"
           }
          ]
         },
         "layout": {
          "annotationdefaults": {
           "arrowcolor": "#2a3f5f",
           "arrowhead": 0,
           "arrowwidth": 1
          },
          "autotypenumbers": "strict",
          "coloraxis": {
           "colorbar": {
            "outlinewidth": 0,
            "ticks": ""
           }
          },
          "colorscale": {
           "diverging": [
            [
             0,
             "#8e0152"
            ],
            [
             0.1,
             "#c51b7d"
            ],
            [
             0.2,
             "#de77ae"
            ],
            [
             0.3,
             "#f1b6da"
            ],
            [
             0.4,
             "#fde0ef"
            ],
            [
             0.5,
             "#f7f7f7"
            ],
            [
             0.6,
             "#e6f5d0"
            ],
            [
             0.7,
             "#b8e186"
            ],
            [
             0.8,
             "#7fbc41"
            ],
            [
             0.9,
             "#4d9221"
            ],
            [
             1,
             "#276419"
            ]
           ],
           "sequential": [
            [
             0,
             "#0d0887"
            ],
            [
             0.1111111111111111,
             "#46039f"
            ],
            [
             0.2222222222222222,
             "#7201a8"
            ],
            [
             0.3333333333333333,
             "#9c179e"
            ],
            [
             0.4444444444444444,
             "#bd3786"
            ],
            [
             0.5555555555555556,
             "#d8576b"
            ],
            [
             0.6666666666666666,
             "#ed7953"
            ],
            [
             0.7777777777777778,
             "#fb9f3a"
            ],
            [
             0.8888888888888888,
             "#fdca26"
            ],
            [
             1,
             "#f0f921"
            ]
           ],
           "sequentialminus": [
            [
             0,
             "#0d0887"
            ],
            [
             0.1111111111111111,
             "#46039f"
            ],
            [
             0.2222222222222222,
             "#7201a8"
            ],
            [
             0.3333333333333333,
             "#9c179e"
            ],
            [
             0.4444444444444444,
             "#bd3786"
            ],
            [
             0.5555555555555556,
             "#d8576b"
            ],
            [
             0.6666666666666666,
             "#ed7953"
            ],
            [
             0.7777777777777778,
             "#fb9f3a"
            ],
            [
             0.8888888888888888,
             "#fdca26"
            ],
            [
             1,
             "#f0f921"
            ]
           ]
          },
          "colorway": [
           "#636efa",
           "#EF553B",
           "#00cc96",
           "#ab63fa",
           "#FFA15A",
           "#19d3f3",
           "#FF6692",
           "#B6E880",
           "#FF97FF",
           "#FECB52"
          ],
          "font": {
           "color": "#2a3f5f"
          },
          "geo": {
           "bgcolor": "white",
           "lakecolor": "white",
           "landcolor": "white",
           "showlakes": true,
           "showland": true,
           "subunitcolor": "#C8D4E3"
          },
          "hoverlabel": {
           "align": "left"
          },
          "hovermode": "closest",
          "mapbox": {
           "style": "light"
          },
          "paper_bgcolor": "white",
          "plot_bgcolor": "white",
          "polar": {
           "angularaxis": {
            "gridcolor": "#EBF0F8",
            "linecolor": "#EBF0F8",
            "ticks": ""
           },
           "bgcolor": "white",
           "radialaxis": {
            "gridcolor": "#EBF0F8",
            "linecolor": "#EBF0F8",
            "ticks": ""
           }
          },
          "scene": {
           "xaxis": {
            "backgroundcolor": "white",
            "gridcolor": "#DFE8F3",
            "gridwidth": 2,
            "linecolor": "#EBF0F8",
            "showbackground": true,
            "ticks": "",
            "zerolinecolor": "#EBF0F8"
           },
           "yaxis": {
            "backgroundcolor": "white",
            "gridcolor": "#DFE8F3",
            "gridwidth": 2,
            "linecolor": "#EBF0F8",
            "showbackground": true,
            "ticks": "",
            "zerolinecolor": "#EBF0F8"
           },
           "zaxis": {
            "backgroundcolor": "white",
            "gridcolor": "#DFE8F3",
            "gridwidth": 2,
            "linecolor": "#EBF0F8",
            "showbackground": true,
            "ticks": "",
            "zerolinecolor": "#EBF0F8"
           }
          },
          "shapedefaults": {
           "line": {
            "color": "#2a3f5f"
           }
          },
          "ternary": {
           "aaxis": {
            "gridcolor": "#DFE8F3",
            "linecolor": "#A2B1C6",
            "ticks": ""
           },
           "baxis": {
            "gridcolor": "#DFE8F3",
            "linecolor": "#A2B1C6",
            "ticks": ""
           },
           "bgcolor": "white",
           "caxis": {
            "gridcolor": "#DFE8F3",
            "linecolor": "#A2B1C6",
            "ticks": ""
           }
          },
          "title": {
           "x": 0.05
          },
          "xaxis": {
           "automargin": true,
           "gridcolor": "#EBF0F8",
           "linecolor": "#EBF0F8",
           "ticks": "",
           "title": {
            "standoff": 15
           },
           "zerolinecolor": "#EBF0F8",
           "zerolinewidth": 2
          },
          "yaxis": {
           "automargin": true,
           "gridcolor": "#EBF0F8",
           "linecolor": "#EBF0F8",
           "ticks": "",
           "title": {
            "standoff": 15
           },
           "zerolinecolor": "#EBF0F8",
           "zerolinewidth": 2
          }
         }
        },
        "xaxis": {
         "anchor": "y",
         "domain": [
          0,
          0.94
         ]
        },
        "yaxis": {
         "anchor": "x",
         "domain": [
          0,
          1
         ]
        },
        "yaxis2": {
         "anchor": "x",
         "overlaying": "y",
         "side": "right"
        }
       },
       "_py2js_animate": {},
       "_py2js_deleteTraces": {},
       "_py2js_moveTraces": {},
       "_py2js_relayout": {},
       "_py2js_removeLayoutProps": {},
       "_py2js_removeTraceProps": {},
       "_view_count": 1
      }
     }
    },
    "version_major": 2,
    "version_minor": 0
   }
  }
 },
 "nbformat": 4,
 "nbformat_minor": 5
}

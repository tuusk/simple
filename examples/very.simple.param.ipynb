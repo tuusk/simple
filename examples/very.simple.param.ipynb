{
 "cells": [
  {
   "cell_type": "code",
   "execution_count": 1,
   "id": "c72f71d9",
   "metadata": {
    "ExecuteTime": {
     "end_time": "2022-05-23T13:36:53.792537Z",
     "start_time": "2022-05-23T13:36:53.105224Z"
    },
    "code_folding": [],
    "execution": {
     "iopub.execute_input": "2023-05-05T08:16:38.159252Z",
     "iopub.status.busy": "2023-05-05T08:16:38.158989Z",
     "iopub.status.idle": "2023-05-05T08:16:39.183285Z",
     "shell.execute_reply": "2023-05-05T08:16:39.182508Z",
     "shell.execute_reply.started": "2023-05-05T08:16:38.159221Z"
    },
    "tags": []
   },
   "outputs": [],
   "source": [
    "import numpy as np\n",
    "from simple.chart import interactFigure\n",
    "from simple.funcs import symlog, vwap"
   ]
  },
  {
   "cell_type": "code",
   "execution_count": 2,
   "id": "78806a1e",
   "metadata": {
    "ExecuteTime": {
     "end_time": "2022-05-23T13:36:53.921429Z",
     "start_time": "2022-05-23T13:36:53.794091Z"
    },
    "execution": {
     "iopub.execute_input": "2023-05-05T08:16:39.185490Z",
     "iopub.status.busy": "2023-05-05T08:16:39.185088Z",
     "iopub.status.idle": "2023-05-05T08:16:39.315208Z",
     "shell.execute_reply": "2023-05-05T08:16:39.314485Z",
     "shell.execute_reply.started": "2023-05-05T08:16:39.185465Z"
    },
    "tags": []
   },
   "outputs": [
    {
     "data": {
      "text/plain": [
       "907307"
      ]
     },
     "execution_count": 2,
     "metadata": {},
     "output_type": "execute_result"
    }
   ],
   "source": [
    "T = np.load('data/ETHUSDT.2022-05-08.tick.npz')['ETHUSDT'].view(np.recarray)\n",
    "len(T)"
   ]
  },
  {
   "cell_type": "code",
   "execution_count": 5,
   "id": "3fbd2922",
   "metadata": {
    "ExecuteTime": {
     "end_time": "2022-05-23T13:36:53.926831Z",
     "start_time": "2022-05-23T13:36:53.923204Z"
    },
    "execution": {
     "iopub.execute_input": "2023-05-05T08:16:44.534218Z",
     "iopub.status.busy": "2023-05-05T08:16:44.533433Z",
     "iopub.status.idle": "2023-05-05T08:16:44.544544Z",
     "shell.execute_reply": "2023-05-05T08:16:44.543797Z",
     "shell.execute_reply.started": "2023-05-05T08:16:44.534150Z"
    },
    "tags": []
   },
   "outputs": [],
   "source": [
    "def model(Period: int = (500, 20000, 500)):\n",
    "    Tick = T.Price\n",
    "    Center = vwap(T, Period)\n",
    "    Buy = np.where(T.Size > 0, symlog(T.Size), 0)\n",
    "    Sell = np.where(T.Size < 0, symlog(T.Size), 0)\n",
    "    return locals()"
   ]
  },
  {
   "cell_type": "code",
   "execution_count": 6,
   "id": "2290a208",
   "metadata": {
    "ExecuteTime": {
     "end_time": "2022-05-23T13:36:55.343862Z",
     "start_time": "2022-05-23T13:36:53.927816Z"
    },
    "execution": {
     "iopub.execute_input": "2023-05-05T08:16:46.072219Z",
     "iopub.status.busy": "2023-05-05T08:16:46.071515Z",
     "iopub.status.idle": "2023-05-05T08:16:47.093153Z",
     "shell.execute_reply": "2023-05-05T08:16:47.092450Z",
     "shell.execute_reply.started": "2023-05-05T08:16:46.072142Z"
    },
    "tags": []
   },
   "outputs": [
    {
     "name": "stdout",
     "output_type": "stream",
     "text": [
      "{'Period': 10000}\n"
     ]
    },
    {
     "data": {
      "application/vnd.jupyter.widget-view+json": {
       "model_id": "9e205dc2287544ffb45287f68924bac6",
       "version_major": 2,
       "version_minor": 0
      },
      "text/plain": [
       "VBox(children=(HBox(children=(IntSlider(value=10000, description='Period', max=20000, min=500, step=500),)), F…"
      ]
     },
     "metadata": {},
     "output_type": "display_data"
    }
   ],
   "source": [
    "interactFigure(model, rows=2, height=850, \n",
    "    Tick={'color': 'gray', 'opacity': 0.4},\n",
    "    Center={'color': 'blue', 'opacity': 0.4},\n",
    "    Buy={'color': 'green', 'shape': 'hv', 'opacity': 0.6, 'row': 2},\n",
    "    Sell={'color': 'red', 'shape': 'hv', 'opacity': 0.6, 'row': 2}\n",
    ")"
   ]
  },
  {
   "cell_type": "code",
   "execution_count": null,
   "id": "0ce3e9df-f496-45e5-aa38-6a5c0e1b8059",
   "metadata": {},
   "outputs": [],
   "source": []
  }
 ],
 "metadata": {
  "kernelspec": {
   "display_name": "Python 3 (ipykernel)",
   "language": "python",
   "name": "python3"
  },
  "language_info": {
   "codemirror_mode": {
    "name": "ipython",
    "version": 3
   },
   "file_extension": ".py",
   "mimetype": "text/x-python",
   "name": "python",
   "nbconvert_exporter": "python",
   "pygments_lexer": "ipython3",
   "version": "3.9.16"
  },
  "widgets": {
   "application/vnd.jupyter.widget-state+json": {
    "state": {
     "2971105ad96c4ecf94bc4713abae7256": {
      "model_module": "@jupyter-widgets/controls",
      "model_module_version": "1.5.0",
      "model_name": "HBoxModel",
      "state": {
       "children": [
        "IPY_MODEL_5809590491c4428da17f187d654d2524"
       ],
       "layout": "IPY_MODEL_5971833dc05a4b429e33f369a3529207"
      }
     },
     "5809590491c4428da17f187d654d2524": {
      "model_module": "@jupyter-widgets/controls",
      "model_module_version": "1.5.0",
      "model_name": "IntSliderModel",
      "state": {
       "description": "Period",
       "layout": "IPY_MODEL_950d6cf918ce4c0982096467d3bf026e",
       "max": 20000,
       "min": 500,
       "step": 500,
       "style": "IPY_MODEL_6e8039eb075549cb83ea97ed6015855f",
       "value": 10000
      }
     },
     "5971833dc05a4b429e33f369a3529207": {
      "model_module": "@jupyter-widgets/base",
      "model_module_version": "1.2.0",
      "model_name": "LayoutModel",
      "state": {}
     },
     "5ade8887ce71428198e8f5a6d82b81d9": {
      "model_module": "@jupyter-widgets/base",
      "model_module_version": "1.2.0",
      "model_name": "LayoutModel",
      "state": {}
     },
     "6596feb3e5184d8ea7f860f28b32c6f2": {
      "model_module": "jupyterlab-plotly",
      "model_module_version": "^5.6.0",
      "model_name": "FigureModel",
      "state": {
       "_config": {
        "plotlyServerURL": "https://plot.ly"
       },
       "_js2py_layoutDelta": {},
       "_js2py_pointsCallback": {},
       "_js2py_relayout": {},
       "_js2py_restyle": {},
       "_js2py_traceDeltas": {},
       "_js2py_update": {},
       "_layout": {
        "template": {
         "data": {
          "bar": [
           {
            "error_x": {
             "color": "#2a3f5f"
            },
            "error_y": {
             "color": "#2a3f5f"
            },
            "marker": {
             "line": {
              "color": "#E5ECF6",
              "width": 0.5
             },
             "pattern": {
              "fillmode": "overlay",
              "size": 10,
              "solidity": 0.2
             }
            },
            "type": "bar"
           }
          ],
          "barpolar": [
           {
            "marker": {
             "line": {
              "color": "#E5ECF6",
              "width": 0.5
             },
             "pattern": {
              "fillmode": "overlay",
              "size": 10,
              "solidity": 0.2
             }
            },
            "type": "barpolar"
           }
          ],
          "carpet": [
           {
            "aaxis": {
             "endlinecolor": "#2a3f5f",
             "gridcolor": "white",
             "linecolor": "white",
             "minorgridcolor": "white",
             "startlinecolor": "#2a3f5f"
            },
            "baxis": {
             "endlinecolor": "#2a3f5f",
             "gridcolor": "white",
             "linecolor": "white",
             "minorgridcolor": "white",
             "startlinecolor": "#2a3f5f"
            },
            "type": "carpet"
           }
          ],
          "choropleth": [
           {
            "colorbar": {
             "outlinewidth": 0,
             "ticks": ""
            },
            "type": "choropleth"
           }
          ],
          "contour": [
           {
            "colorbar": {
             "outlinewidth": 0,
             "ticks": ""
            },
            "colorscale": [
             [
              0,
              "#0d0887"
             ],
             [
              0.1111111111111111,
              "#46039f"
             ],
             [
              0.2222222222222222,
              "#7201a8"
             ],
             [
              0.3333333333333333,
              "#9c179e"
             ],
             [
              0.4444444444444444,
              "#bd3786"
             ],
             [
              0.5555555555555556,
              "#d8576b"
             ],
             [
              0.6666666666666666,
              "#ed7953"
             ],
             [
              0.7777777777777778,
              "#fb9f3a"
             ],
             [
              0.8888888888888888,
              "#fdca26"
             ],
             [
              1,
              "#f0f921"
             ]
            ],
            "type": "contour"
           }
          ],
          "contourcarpet": [
           {
            "colorbar": {
             "outlinewidth": 0,
             "ticks": ""
            },
            "type": "contourcarpet"
           }
          ],
          "heatmap": [
           {
            "colorbar": {
             "outlinewidth": 0,
             "ticks": ""
            },
            "colorscale": [
             [
              0,
              "#0d0887"
             ],
             [
              0.1111111111111111,
              "#46039f"
             ],
             [
              0.2222222222222222,
              "#7201a8"
             ],
             [
              0.3333333333333333,
              "#9c179e"
             ],
             [
              0.4444444444444444,
              "#bd3786"
             ],
             [
              0.5555555555555556,
              "#d8576b"
             ],
             [
              0.6666666666666666,
              "#ed7953"
             ],
             [
              0.7777777777777778,
              "#fb9f3a"
             ],
             [
              0.8888888888888888,
              "#fdca26"
             ],
             [
              1,
              "#f0f921"
             ]
            ],
            "type": "heatmap"
           }
          ],
          "heatmapgl": [
           {
            "colorbar": {
             "outlinewidth": 0,
             "ticks": ""
            },
            "colorscale": [
             [
              0,
              "#0d0887"
             ],
             [
              0.1111111111111111,
              "#46039f"
             ],
             [
              0.2222222222222222,
              "#7201a8"
             ],
             [
              0.3333333333333333,
              "#9c179e"
             ],
             [
              0.4444444444444444,
              "#bd3786"
             ],
             [
              0.5555555555555556,
              "#d8576b"
             ],
             [
              0.6666666666666666,
              "#ed7953"
             ],
             [
              0.7777777777777778,
              "#fb9f3a"
             ],
             [
              0.8888888888888888,
              "#fdca26"
             ],
             [
              1,
              "#f0f921"
             ]
            ],
            "type": "heatmapgl"
           }
          ],
          "histogram": [
           {
            "marker": {
             "pattern": {
              "fillmode": "overlay",
              "size": 10,
              "solidity": 0.2
             }
            },
            "type": "histogram"
           }
          ],
          "histogram2d": [
           {
            "colorbar": {
             "outlinewidth": 0,
             "ticks": ""
            },
            "colorscale": [
             [
              0,
              "#0d0887"
             ],
             [
              0.1111111111111111,
              "#46039f"
             ],
             [
              0.2222222222222222,
              "#7201a8"
             ],
             [
              0.3333333333333333,
              "#9c179e"
             ],
             [
              0.4444444444444444,
              "#bd3786"
             ],
             [
              0.5555555555555556,
              "#d8576b"
             ],
             [
              0.6666666666666666,
              "#ed7953"
             ],
             [
              0.7777777777777778,
              "#fb9f3a"
             ],
             [
              0.8888888888888888,
              "#fdca26"
             ],
             [
              1,
              "#f0f921"
             ]
            ],
            "type": "histogram2d"
           }
          ],
          "histogram2dcontour": [
           {
            "colorbar": {
             "outlinewidth": 0,
             "ticks": ""
            },
            "colorscale": [
             [
              0,
              "#0d0887"
             ],
             [
              0.1111111111111111,
              "#46039f"
             ],
             [
              0.2222222222222222,
              "#7201a8"
             ],
             [
              0.3333333333333333,
              "#9c179e"
             ],
             [
              0.4444444444444444,
              "#bd3786"
             ],
             [
              0.5555555555555556,
              "#d8576b"
             ],
             [
              0.6666666666666666,
              "#ed7953"
             ],
             [
              0.7777777777777778,
              "#fb9f3a"
             ],
             [
              0.8888888888888888,
              "#fdca26"
             ],
             [
              1,
              "#f0f921"
             ]
            ],
            "type": "histogram2dcontour"
           }
          ],
          "mesh3d": [
           {
            "colorbar": {
             "outlinewidth": 0,
             "ticks": ""
            },
            "type": "mesh3d"
           }
          ],
          "parcoords": [
           {
            "line": {
             "colorbar": {
              "outlinewidth": 0,
              "ticks": ""
             }
            },
            "type": "parcoords"
           }
          ],
          "pie": [
           {
            "automargin": true,
            "type": "pie"
           }
          ],
          "scatter": [
           {
            "marker": {
             "colorbar": {
              "outlinewidth": 0,
              "ticks": ""
             }
            },
            "type": "scatter"
           }
          ],
          "scatter3d": [
           {
            "line": {
             "colorbar": {
              "outlinewidth": 0,
              "ticks": ""
             }
            },
            "marker": {
             "colorbar": {
              "outlinewidth": 0,
              "ticks": ""
             }
            },
            "type": "scatter3d"
           }
          ],
          "scattercarpet": [
           {
            "marker": {
             "colorbar": {
              "outlinewidth": 0,
              "ticks": ""
             }
            },
            "type": "scattercarpet"
           }
          ],
          "scattergeo": [
           {
            "marker": {
             "colorbar": {
              "outlinewidth": 0,
              "ticks": ""
             }
            },
            "type": "scattergeo"
           }
          ],
          "scattergl": [
           {
            "marker": {
             "colorbar": {
              "outlinewidth": 0,
              "ticks": ""
             }
            },
            "type": "scattergl"
           }
          ],
          "scattermapbox": [
           {
            "marker": {
             "colorbar": {
              "outlinewidth": 0,
              "ticks": ""
             }
            },
            "type": "scattermapbox"
           }
          ],
          "scatterpolar": [
           {
            "marker": {
             "colorbar": {
              "outlinewidth": 0,
              "ticks": ""
             }
            },
            "type": "scatterpolar"
           }
          ],
          "scatterpolargl": [
           {
            "marker": {
             "colorbar": {
              "outlinewidth": 0,
              "ticks": ""
             }
            },
            "type": "scatterpolargl"
           }
          ],
          "scatterternary": [
           {
            "marker": {
             "colorbar": {
              "outlinewidth": 0,
              "ticks": ""
             }
            },
            "type": "scatterternary"
           }
          ],
          "surface": [
           {
            "colorbar": {
             "outlinewidth": 0,
             "ticks": ""
            },
            "colorscale": [
             [
              0,
              "#0d0887"
             ],
             [
              0.1111111111111111,
              "#46039f"
             ],
             [
              0.2222222222222222,
              "#7201a8"
             ],
             [
              0.3333333333333333,
              "#9c179e"
             ],
             [
              0.4444444444444444,
              "#bd3786"
             ],
             [
              0.5555555555555556,
              "#d8576b"
             ],
             [
              0.6666666666666666,
              "#ed7953"
             ],
             [
              0.7777777777777778,
              "#fb9f3a"
             ],
             [
              0.8888888888888888,
              "#fdca26"
             ],
             [
              1,
              "#f0f921"
             ]
            ],
            "type": "surface"
           }
          ],
          "table": [
           {
            "cells": {
             "fill": {
              "color": "#EBF0F8"
             },
             "line": {
              "color": "white"
             }
            },
            "header": {
             "fill": {
              "color": "#C8D4E3"
             },
             "line": {
              "color": "white"
             }
            },
            "type": "table"
           }
          ]
         },
         "layout": {
          "annotationdefaults": {
           "arrowcolor": "#2a3f5f",
           "arrowhead": 0,
           "arrowwidth": 1
          },
          "autotypenumbers": "strict",
          "coloraxis": {
           "colorbar": {
            "outlinewidth": 0,
            "ticks": ""
           }
          },
          "colorscale": {
           "diverging": [
            [
             0,
             "#8e0152"
            ],
            [
             0.1,
             "#c51b7d"
            ],
            [
             0.2,
             "#de77ae"
            ],
            [
             0.3,
             "#f1b6da"
            ],
            [
             0.4,
             "#fde0ef"
            ],
            [
             0.5,
             "#f7f7f7"
            ],
            [
             0.6,
             "#e6f5d0"
            ],
            [
             0.7,
             "#b8e186"
            ],
            [
             0.8,
             "#7fbc41"
            ],
            [
             0.9,
             "#4d9221"
            ],
            [
             1,
             "#276419"
            ]
           ],
           "sequential": [
            [
             0,
             "#0d0887"
            ],
            [
             0.1111111111111111,
             "#46039f"
            ],
            [
             0.2222222222222222,
             "#7201a8"
            ],
            [
             0.3333333333333333,
             "#9c179e"
            ],
            [
             0.4444444444444444,
             "#bd3786"
            ],
            [
             0.5555555555555556,
             "#d8576b"
            ],
            [
             0.6666666666666666,
             "#ed7953"
            ],
            [
             0.7777777777777778,
             "#fb9f3a"
            ],
            [
             0.8888888888888888,
             "#fdca26"
            ],
            [
             1,
             "#f0f921"
            ]
           ],
           "sequentialminus": [
            [
             0,
             "#0d0887"
            ],
            [
             0.1111111111111111,
             "#46039f"
            ],
            [
             0.2222222222222222,
             "#7201a8"
            ],
            [
             0.3333333333333333,
             "#9c179e"
            ],
            [
             0.4444444444444444,
             "#bd3786"
            ],
            [
             0.5555555555555556,
             "#d8576b"
            ],
            [
             0.6666666666666666,
             "#ed7953"
            ],
            [
             0.7777777777777778,
             "#fb9f3a"
            ],
            [
             0.8888888888888888,
             "#fdca26"
            ],
            [
             1,
             "#f0f921"
            ]
           ]
          },
          "colorway": [
           "#636efa",
           "#EF553B",
           "#00cc96",
           "#ab63fa",
           "#FFA15A",
           "#19d3f3",
           "#FF6692",
           "#B6E880",
           "#FF97FF",
           "#FECB52"
          ],
          "font": {
           "color": "#2a3f5f"
          },
          "geo": {
           "bgcolor": "white",
           "lakecolor": "white",
           "landcolor": "#E5ECF6",
           "showlakes": true,
           "showland": true,
           "subunitcolor": "white"
          },
          "hoverlabel": {
           "align": "left"
          },
          "hovermode": "closest",
          "mapbox": {
           "style": "light"
          },
          "paper_bgcolor": "white",
          "plot_bgcolor": "#E5ECF6",
          "polar": {
           "angularaxis": {
            "gridcolor": "white",
            "linecolor": "white",
            "ticks": ""
           },
           "bgcolor": "#E5ECF6",
           "radialaxis": {
            "gridcolor": "white",
            "linecolor": "white",
            "ticks": ""
           }
          },
          "scene": {
           "xaxis": {
            "backgroundcolor": "#E5ECF6",
            "gridcolor": "white",
            "gridwidth": 2,
            "linecolor": "white",
            "showbackground": true,
            "ticks": "",
            "zerolinecolor": "white"
           },
           "yaxis": {
            "backgroundcolor": "#E5ECF6",
            "gridcolor": "white",
            "gridwidth": 2,
            "linecolor": "white",
            "showbackground": true,
            "ticks": "",
            "zerolinecolor": "white"
           },
           "zaxis": {
            "backgroundcolor": "#E5ECF6",
            "gridcolor": "white",
            "gridwidth": 2,
            "linecolor": "white",
            "showbackground": true,
            "ticks": "",
            "zerolinecolor": "white"
           }
          },
          "shapedefaults": {
           "line": {
            "color": "#2a3f5f"
           }
          },
          "ternary": {
           "aaxis": {
            "gridcolor": "white",
            "linecolor": "white",
            "ticks": ""
           },
           "baxis": {
            "gridcolor": "white",
            "linecolor": "white",
            "ticks": ""
           },
           "bgcolor": "#E5ECF6",
           "caxis": {
            "gridcolor": "white",
            "linecolor": "white",
            "ticks": ""
           }
          },
          "title": {
           "x": 0.05
          },
          "xaxis": {
           "automargin": true,
           "gridcolor": "white",
           "linecolor": "white",
           "ticks": "",
           "title": {
            "standoff": 15
           },
           "zerolinecolor": "white",
           "zerolinewidth": 2
          },
          "yaxis": {
           "automargin": true,
           "gridcolor": "white",
           "linecolor": "white",
           "ticks": "",
           "title": {
            "standoff": 15
           },
           "zerolinecolor": "white",
           "zerolinewidth": 2
          }
         }
        },
        "xaxis": {
         "anchor": "y",
         "domain": [
          0,
          0.94
         ],
         "matches": "x2",
         "showticklabels": false
        },
        "xaxis2": {
         "anchor": "y3",
         "domain": [
          0,
          0.94
         ]
        },
        "yaxis": {
         "anchor": "x",
         "domain": [
          0.32100000000000006,
          1
         ]
        },
        "yaxis2": {
         "anchor": "x",
         "overlaying": "y",
         "side": "right"
        },
        "yaxis3": {
         "anchor": "x2",
         "domain": [
          0,
          0.29100000000000004
         ]
        },
        "yaxis4": {
         "anchor": "x2",
         "overlaying": "y3",
         "side": "right"
        }
       },
       "_py2js_addTraces": {},
       "_py2js_animate": {},
       "_py2js_deleteTraces": {},
       "_py2js_moveTraces": {},
       "_py2js_relayout": {},
       "_py2js_removeLayoutProps": {},
       "_py2js_removeTraceProps": {},
       "_py2js_restyle": {},
       "_py2js_update": {},
       "_view_count": 0
      }
     },
     "663d46b3c9c84db485a26dd983cc809e": {
      "model_module": "@jupyter-widgets/controls",
      "model_module_version": "1.5.0",
      "model_name": "VBoxModel",
      "state": {
       "_dom_classes": [
        "widget-interact"
       ],
       "children": [
        "IPY_MODEL_5809590491c4428da17f187d654d2524",
        "IPY_MODEL_f728456d59814ad69bb6094d02704277"
       ],
       "layout": "IPY_MODEL_80f6ae748af243849f08bf084c7c910e"
      }
     },
     "6e8039eb075549cb83ea97ed6015855f": {
      "model_module": "@jupyter-widgets/controls",
      "model_module_version": "1.5.0",
      "model_name": "SliderStyleModel",
      "state": {
       "description_width": ""
      }
     },
     "80f6ae748af243849f08bf084c7c910e": {
      "model_module": "@jupyter-widgets/base",
      "model_module_version": "1.2.0",
      "model_name": "LayoutModel",
      "state": {}
     },
     "950d6cf918ce4c0982096467d3bf026e": {
      "model_module": "@jupyter-widgets/base",
      "model_module_version": "1.2.0",
      "model_name": "LayoutModel",
      "state": {}
     },
     "aaf26dd7ad714b9fa9acc535ef95e20d": {
      "model_module": "@jupyter-widgets/controls",
      "model_module_version": "1.5.0",
      "model_name": "VBoxModel",
      "state": {
       "children": [
        "IPY_MODEL_2971105ad96c4ecf94bc4713abae7256",
        "IPY_MODEL_e3a36c519d8742a2bcff69b5efc96507"
       ],
       "layout": "IPY_MODEL_5ade8887ce71428198e8f5a6d82b81d9"
      }
     },
     "b78eff5a04ed4fc3847b3234bec7cde2": {
      "model_module": "@jupyter-widgets/base",
      "model_module_version": "1.2.0",
      "model_name": "LayoutModel",
      "state": {}
     },
     "bbe38697b5394a01b08f7283d39ab5ad": {
      "model_module": "jupyterlab-plotly",
      "model_module_version": "^5.6.0",
      "model_name": "FigureModel",
      "state": {
       "_config": {
        "plotlyServerURL": "https://plot.ly"
       },
       "_js2py_layoutDelta": {},
       "_js2py_pointsCallback": {},
       "_js2py_relayout": {},
       "_js2py_restyle": {},
       "_js2py_traceDeltas": {},
       "_js2py_update": {},
       "_layout": {
        "template": {
         "data": {
          "bar": [
           {
            "error_x": {
             "color": "#2a3f5f"
            },
            "error_y": {
             "color": "#2a3f5f"
            },
            "marker": {
             "line": {
              "color": "#E5ECF6",
              "width": 0.5
             },
             "pattern": {
              "fillmode": "overlay",
              "size": 10,
              "solidity": 0.2
             }
            },
            "type": "bar"
           }
          ],
          "barpolar": [
           {
            "marker": {
             "line": {
              "color": "#E5ECF6",
              "width": 0.5
             },
             "pattern": {
              "fillmode": "overlay",
              "size": 10,
              "solidity": 0.2
             }
            },
            "type": "barpolar"
           }
          ],
          "carpet": [
           {
            "aaxis": {
             "endlinecolor": "#2a3f5f",
             "gridcolor": "white",
             "linecolor": "white",
             "minorgridcolor": "white",
             "startlinecolor": "#2a3f5f"
            },
            "baxis": {
             "endlinecolor": "#2a3f5f",
             "gridcolor": "white",
             "linecolor": "white",
             "minorgridcolor": "white",
             "startlinecolor": "#2a3f5f"
            },
            "type": "carpet"
           }
          ],
          "choropleth": [
           {
            "colorbar": {
             "outlinewidth": 0,
             "ticks": ""
            },
            "type": "choropleth"
           }
          ],
          "contour": [
           {
            "colorbar": {
             "outlinewidth": 0,
             "ticks": ""
            },
            "colorscale": [
             [
              0,
              "#0d0887"
             ],
             [
              0.1111111111111111,
              "#46039f"
             ],
             [
              0.2222222222222222,
              "#7201a8"
             ],
             [
              0.3333333333333333,
              "#9c179e"
             ],
             [
              0.4444444444444444,
              "#bd3786"
             ],
             [
              0.5555555555555556,
              "#d8576b"
             ],
             [
              0.6666666666666666,
              "#ed7953"
             ],
             [
              0.7777777777777778,
              "#fb9f3a"
             ],
             [
              0.8888888888888888,
              "#fdca26"
             ],
             [
              1,
              "#f0f921"
             ]
            ],
            "type": "contour"
           }
          ],
          "contourcarpet": [
           {
            "colorbar": {
             "outlinewidth": 0,
             "ticks": ""
            },
            "type": "contourcarpet"
           }
          ],
          "heatmap": [
           {
            "colorbar": {
             "outlinewidth": 0,
             "ticks": ""
            },
            "colorscale": [
             [
              0,
              "#0d0887"
             ],
             [
              0.1111111111111111,
              "#46039f"
             ],
             [
              0.2222222222222222,
              "#7201a8"
             ],
             [
              0.3333333333333333,
              "#9c179e"
             ],
             [
              0.4444444444444444,
              "#bd3786"
             ],
             [
              0.5555555555555556,
              "#d8576b"
             ],
             [
              0.6666666666666666,
              "#ed7953"
             ],
             [
              0.7777777777777778,
              "#fb9f3a"
             ],
             [
              0.8888888888888888,
              "#fdca26"
             ],
             [
              1,
              "#f0f921"
             ]
            ],
            "type": "heatmap"
           }
          ],
          "heatmapgl": [
           {
            "colorbar": {
             "outlinewidth": 0,
             "ticks": ""
            },
            "colorscale": [
             [
              0,
              "#0d0887"
             ],
             [
              0.1111111111111111,
              "#46039f"
             ],
             [
              0.2222222222222222,
              "#7201a8"
             ],
             [
              0.3333333333333333,
              "#9c179e"
             ],
             [
              0.4444444444444444,
              "#bd3786"
             ],
             [
              0.5555555555555556,
              "#d8576b"
             ],
             [
              0.6666666666666666,
              "#ed7953"
             ],
             [
              0.7777777777777778,
              "#fb9f3a"
             ],
             [
              0.8888888888888888,
              "#fdca26"
             ],
             [
              1,
              "#f0f921"
             ]
            ],
            "type": "heatmapgl"
           }
          ],
          "histogram": [
           {
            "marker": {
             "pattern": {
              "fillmode": "overlay",
              "size": 10,
              "solidity": 0.2
             }
            },
            "type": "histogram"
           }
          ],
          "histogram2d": [
           {
            "colorbar": {
             "outlinewidth": 0,
             "ticks": ""
            },
            "colorscale": [
             [
              0,
              "#0d0887"
             ],
             [
              0.1111111111111111,
              "#46039f"
             ],
             [
              0.2222222222222222,
              "#7201a8"
             ],
             [
              0.3333333333333333,
              "#9c179e"
             ],
             [
              0.4444444444444444,
              "#bd3786"
             ],
             [
              0.5555555555555556,
              "#d8576b"
             ],
             [
              0.6666666666666666,
              "#ed7953"
             ],
             [
              0.7777777777777778,
              "#fb9f3a"
             ],
             [
              0.8888888888888888,
              "#fdca26"
             ],
             [
              1,
              "#f0f921"
             ]
            ],
            "type": "histogram2d"
           }
          ],
          "histogram2dcontour": [
           {
            "colorbar": {
             "outlinewidth": 0,
             "ticks": ""
            },
            "colorscale": [
             [
              0,
              "#0d0887"
             ],
             [
              0.1111111111111111,
              "#46039f"
             ],
             [
              0.2222222222222222,
              "#7201a8"
             ],
             [
              0.3333333333333333,
              "#9c179e"
             ],
             [
              0.4444444444444444,
              "#bd3786"
             ],
             [
              0.5555555555555556,
              "#d8576b"
             ],
             [
              0.6666666666666666,
              "#ed7953"
             ],
             [
              0.7777777777777778,
              "#fb9f3a"
             ],
             [
              0.8888888888888888,
              "#fdca26"
             ],
             [
              1,
              "#f0f921"
             ]
            ],
            "type": "histogram2dcontour"
           }
          ],
          "mesh3d": [
           {
            "colorbar": {
             "outlinewidth": 0,
             "ticks": ""
            },
            "type": "mesh3d"
           }
          ],
          "parcoords": [
           {
            "line": {
             "colorbar": {
              "outlinewidth": 0,
              "ticks": ""
             }
            },
            "type": "parcoords"
           }
          ],
          "pie": [
           {
            "automargin": true,
            "type": "pie"
           }
          ],
          "scatter": [
           {
            "marker": {
             "colorbar": {
              "outlinewidth": 0,
              "ticks": ""
             }
            },
            "type": "scatter"
           }
          ],
          "scatter3d": [
           {
            "line": {
             "colorbar": {
              "outlinewidth": 0,
              "ticks": ""
             }
            },
            "marker": {
             "colorbar": {
              "outlinewidth": 0,
              "ticks": ""
             }
            },
            "type": "scatter3d"
           }
          ],
          "scattercarpet": [
           {
            "marker": {
             "colorbar": {
              "outlinewidth": 0,
              "ticks": ""
             }
            },
            "type": "scattercarpet"
           }
          ],
          "scattergeo": [
           {
            "marker": {
             "colorbar": {
              "outlinewidth": 0,
              "ticks": ""
             }
            },
            "type": "scattergeo"
           }
          ],
          "scattergl": [
           {
            "marker": {
             "colorbar": {
              "outlinewidth": 0,
              "ticks": ""
             }
            },
            "type": "scattergl"
           }
          ],
          "scattermapbox": [
           {
            "marker": {
             "colorbar": {
              "outlinewidth": 0,
              "ticks": ""
             }
            },
            "type": "scattermapbox"
           }
          ],
          "scatterpolar": [
           {
            "marker": {
             "colorbar": {
              "outlinewidth": 0,
              "ticks": ""
             }
            },
            "type": "scatterpolar"
           }
          ],
          "scatterpolargl": [
           {
            "marker": {
             "colorbar": {
              "outlinewidth": 0,
              "ticks": ""
             }
            },
            "type": "scatterpolargl"
           }
          ],
          "scatterternary": [
           {
            "marker": {
             "colorbar": {
              "outlinewidth": 0,
              "ticks": ""
             }
            },
            "type": "scatterternary"
           }
          ],
          "surface": [
           {
            "colorbar": {
             "outlinewidth": 0,
             "ticks": ""
            },
            "colorscale": [
             [
              0,
              "#0d0887"
             ],
             [
              0.1111111111111111,
              "#46039f"
             ],
             [
              0.2222222222222222,
              "#7201a8"
             ],
             [
              0.3333333333333333,
              "#9c179e"
             ],
             [
              0.4444444444444444,
              "#bd3786"
             ],
             [
              0.5555555555555556,
              "#d8576b"
             ],
             [
              0.6666666666666666,
              "#ed7953"
             ],
             [
              0.7777777777777778,
              "#fb9f3a"
             ],
             [
              0.8888888888888888,
              "#fdca26"
             ],
             [
              1,
              "#f0f921"
             ]
            ],
            "type": "surface"
           }
          ],
          "table": [
           {
            "cells": {
             "fill": {
              "color": "#EBF0F8"
             },
             "line": {
              "color": "white"
             }
            },
            "header": {
             "fill": {
              "color": "#C8D4E3"
             },
             "line": {
              "color": "white"
             }
            },
            "type": "table"
           }
          ]
         },
         "layout": {
          "annotationdefaults": {
           "arrowcolor": "#2a3f5f",
           "arrowhead": 0,
           "arrowwidth": 1
          },
          "autotypenumbers": "strict",
          "coloraxis": {
           "colorbar": {
            "outlinewidth": 0,
            "ticks": ""
           }
          },
          "colorscale": {
           "diverging": [
            [
             0,
             "#8e0152"
            ],
            [
             0.1,
             "#c51b7d"
            ],
            [
             0.2,
             "#de77ae"
            ],
            [
             0.3,
             "#f1b6da"
            ],
            [
             0.4,
             "#fde0ef"
            ],
            [
             0.5,
             "#f7f7f7"
            ],
            [
             0.6,
             "#e6f5d0"
            ],
            [
             0.7,
             "#b8e186"
            ],
            [
             0.8,
             "#7fbc41"
            ],
            [
             0.9,
             "#4d9221"
            ],
            [
             1,
             "#276419"
            ]
           ],
           "sequential": [
            [
             0,
             "#0d0887"
            ],
            [
             0.1111111111111111,
             "#46039f"
            ],
            [
             0.2222222222222222,
             "#7201a8"
            ],
            [
             0.3333333333333333,
             "#9c179e"
            ],
            [
             0.4444444444444444,
             "#bd3786"
            ],
            [
             0.5555555555555556,
             "#d8576b"
            ],
            [
             0.6666666666666666,
             "#ed7953"
            ],
            [
             0.7777777777777778,
             "#fb9f3a"
            ],
            [
             0.8888888888888888,
             "#fdca26"
            ],
            [
             1,
             "#f0f921"
            ]
           ],
           "sequentialminus": [
            [
             0,
             "#0d0887"
            ],
            [
             0.1111111111111111,
             "#46039f"
            ],
            [
             0.2222222222222222,
             "#7201a8"
            ],
            [
             0.3333333333333333,
             "#9c179e"
            ],
            [
             0.4444444444444444,
             "#bd3786"
            ],
            [
             0.5555555555555556,
             "#d8576b"
            ],
            [
             0.6666666666666666,
             "#ed7953"
            ],
            [
             0.7777777777777778,
             "#fb9f3a"
            ],
            [
             0.8888888888888888,
             "#fdca26"
            ],
            [
             1,
             "#f0f921"
            ]
           ]
          },
          "colorway": [
           "#636efa",
           "#EF553B",
           "#00cc96",
           "#ab63fa",
           "#FFA15A",
           "#19d3f3",
           "#FF6692",
           "#B6E880",
           "#FF97FF",
           "#FECB52"
          ],
          "font": {
           "color": "#2a3f5f"
          },
          "geo": {
           "bgcolor": "white",
           "lakecolor": "white",
           "landcolor": "#E5ECF6",
           "showlakes": true,
           "showland": true,
           "subunitcolor": "white"
          },
          "hoverlabel": {
           "align": "left"
          },
          "hovermode": "closest",
          "mapbox": {
           "style": "light"
          },
          "paper_bgcolor": "white",
          "plot_bgcolor": "#E5ECF6",
          "polar": {
           "angularaxis": {
            "gridcolor": "white",
            "linecolor": "white",
            "ticks": ""
           },
           "bgcolor": "#E5ECF6",
           "radialaxis": {
            "gridcolor": "white",
            "linecolor": "white",
            "ticks": ""
           }
          },
          "scene": {
           "xaxis": {
            "backgroundcolor": "#E5ECF6",
            "gridcolor": "white",
            "gridwidth": 2,
            "linecolor": "white",
            "showbackground": true,
            "ticks": "",
            "zerolinecolor": "white"
           },
           "yaxis": {
            "backgroundcolor": "#E5ECF6",
            "gridcolor": "white",
            "gridwidth": 2,
            "linecolor": "white",
            "showbackground": true,
            "ticks": "",
            "zerolinecolor": "white"
           },
           "zaxis": {
            "backgroundcolor": "#E5ECF6",
            "gridcolor": "white",
            "gridwidth": 2,
            "linecolor": "white",
            "showbackground": true,
            "ticks": "",
            "zerolinecolor": "white"
           }
          },
          "shapedefaults": {
           "line": {
            "color": "#2a3f5f"
           }
          },
          "ternary": {
           "aaxis": {
            "gridcolor": "white",
            "linecolor": "white",
            "ticks": ""
           },
           "baxis": {
            "gridcolor": "white",
            "linecolor": "white",
            "ticks": ""
           },
           "bgcolor": "#E5ECF6",
           "caxis": {
            "gridcolor": "white",
            "linecolor": "white",
            "ticks": ""
           }
          },
          "title": {
           "x": 0.05
          },
          "xaxis": {
           "automargin": true,
           "gridcolor": "white",
           "linecolor": "white",
           "ticks": "",
           "title": {
            "standoff": 15
           },
           "zerolinecolor": "white",
           "zerolinewidth": 2
          },
          "yaxis": {
           "automargin": true,
           "gridcolor": "white",
           "linecolor": "white",
           "ticks": "",
           "title": {
            "standoff": 15
           },
           "zerolinecolor": "white",
           "zerolinewidth": 2
          }
         }
        },
        "xaxis": {
         "anchor": "y",
         "domain": [
          0,
          0.94
         ],
         "matches": "x2",
         "showticklabels": false
        },
        "xaxis2": {
         "anchor": "y3",
         "domain": [
          0,
          0.94
         ]
        },
        "yaxis": {
         "anchor": "x",
         "domain": [
          0.32100000000000006,
          1
         ]
        },
        "yaxis2": {
         "anchor": "x",
         "overlaying": "y",
         "side": "right"
        },
        "yaxis3": {
         "anchor": "x2",
         "domain": [
          0,
          0.29100000000000004
         ]
        },
        "yaxis4": {
         "anchor": "x2",
         "overlaying": "y3",
         "side": "right"
        }
       },
       "_py2js_addTraces": {},
       "_py2js_animate": {},
       "_py2js_deleteTraces": {},
       "_py2js_moveTraces": {},
       "_py2js_relayout": {},
       "_py2js_removeLayoutProps": {},
       "_py2js_removeTraceProps": {},
       "_py2js_restyle": {},
       "_py2js_update": {},
       "_view_count": 0
      }
     },
     "e3a36c519d8742a2bcff69b5efc96507": {
      "buffers": [
       {
        "data": "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",
        "encoding": "base64",
        "path": [
         "_data",
         0,
         "y",
         "value"
        ]
       },
       {
        "data": "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",
        "encoding": "base64",
        "path": [
         "_data",
         1,
         "y",
         "value"
        ]
       },
       {
        "data": "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",
        "encoding": "base64",
        "path": [
         "_data",
         2,
         "y",
         "value"
        ]
       },
       {
        "data": "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",
        "encoding": "base64",
        "path": [
         "_data",
         3,
         "y",
         "value"
        ]
       }
      ],
      "model_module": "jupyterlab-plotly",
      "model_module_version": "^5.6.0",
      "model_name": "FigureModel",
      "state": {
       "_config": {
        "plotlyServerURL": "https://plot.ly"
       },
       "_data": [
        {
         "line": {
          "color": "gray"
         },
         "name": "<b style=\"color:sandybrown\">[R]</b> Tick <i style=\"color:#fc9944\">~890</i>",
         "opacity": 0.4,
         "type": "scattergl",
         "uid": "ae851133-79fd-4917-8380-11993860513d",
         "x": [
          0,
          538,
          1383,
          2031,
          3137,
          3593,
          5130,
          5515,
          6577,
          7345,
          8157,
          8993,
          10173,
          11201,
          11585,
          13271,
          13859,
          15114,
          15962,
          16376,
          17585,
          17966,
          19605,
          20103,
          21223,
          21987,
          22971,
          23269,
          24660,
          25843,
          26486,
          27617,
          27858,
          28918,
          29923,
          30385,
          31850,
          32954,
          33197,
          34581,
          35488,
          36536,
          36982,
          37428,
          38585,
          39211,
          40693,
          41186,
          42109,
          42949,
          44087,
          44681,
          45635,
          46932,
          47987,
          48442,
          49026,
          50610,
          51316,
          51753,
          52925,
          54125,
          54599,
          55702,
          56352,
          57539,
          58815,
          59176,
          60476,
          61192,
          62294,
          62786,
          63390,
          64385,
          65936,
          66830,
          67532,
          68044,
          69269,
          70247,
          70699,
          71452,
          72774,
          73772,
          74013,
          75446,
          76158,
          77363,
          78239,
          78855,
          79362,
          80407,
          81462,
          82807,
          83352,
          83958,
          84819,
          85919,
          86816,
          88025,
          88759,
          89202,
          90683,
          91445,
          92386,
          92980,
          93838,
          94655,
          95542,
          96262,
          97135,
          98916,
          99760,
          100051,
          101046,
          102190,
          103112,
          103453,
          105098,
          105286,
          106936,
          107735,
          108557,
          108999,
          109669,
          110913,
          112212,
          112412,
          114037,
          114625,
          115536,
          115849,
          116939,
          118093,
          119244,
          120106,
          120755,
          121483,
          122140,
          123517,
          124141,
          124996,
          126162,
          126827,
          127647,
          129075,
          130019,
          130170,
          131154,
          132278,
          133114,
          134184,
          134815,
          135810,
          136545,
          137846,
          139017,
          139805,
          140089,
          140801,
          141943,
          143473,
          144077,
          144378,
          145561,
          146267,
          147233,
          148307,
          148983,
          150602,
          151324,
          151663,
          152630,
          153660,
          154591,
          155796,
          156173,
          156856,
          158351,
          159089,
          160186,
          160479,
          161672,
          162188,
          163509,
          164705,
          165358,
          165964,
          167103,
          168101,
          168796,
          169776,
          170878,
          171294,
          172373,
          173337,
          174192,
          175428,
          176146,
          176649,
          177437,
          178266,
          179321,
          180526,
          181062,
          182039,
          183474,
          184424,
          184854,
          185358,
          186763,
          187664,
          188380,
          188949,
          190125,
          190846,
          192213,
          193087,
          193867,
          194358,
          195359,
          196051,
          197028,
          198724,
          199593,
          200048,
          201006,
          201398,
          202378,
          204021,
          204539,
          205421,
          205884,
          207470,
          208511,
          208879,
          210010,
          210453,
          211530,
          212352,
          213143,
          214201,
          214934,
          216207,
          217232,
          217913,
          219219,
          219918,
          220158,
          221654,
          222721,
          222849,
          223879,
          224801,
          225767,
          226756,
          228095,
          228960,
          229517,
          230555,
          231369,
          231960,
          232693,
          233561,
          234984,
          235734,
          236228,
          237061,
          238448,
          239596,
          239731,
          241028,
          241689,
          242397,
          244027,
          244626,
          245165,
          246845,
          247098,
          247957,
          248894,
          250067,
          250888,
          251686,
          252194,
          253309,
          254531,
          255112,
          256226,
          256885,
          257567,
          259106,
          259582,
          260221,
          261814,
          262533,
          263478,
          264259,
          264777,
          266271,
          266534,
          267673,
          268814,
          269581,
          270213,
          271399,
          272499,
          272955,
          274024,
          275095,
          275925,
          277045,
          278023,
          278863,
          279178,
          280562,
          281229,
          282382,
          283225,
          284090,
          285019,
          285433,
          286229,
          286965,
          288525,
          289335,
          290112,
          290649,
          292230,
          292573,
          293898,
          294929,
          295396,
          296749,
          297220,
          298222,
          298869,
          299919,
          300904,
          301774,
          302433,
          303189,
          304090,
          305277,
          305910,
          307061,
          308096,
          308965,
          310009,
          310285,
          311115,
          312236,
          313075,
          314502,
          314918,
          316106,
          316525,
          317246,
          318294,
          319031,
          320570,
          321535,
          321886,
          322988,
          323484,
          324575,
          325566,
          326544,
          327540,
          328383,
          329154,
          330613,
          331245,
          332353,
          332978,
          333519,
          334696,
          335441,
          336159,
          336961,
          338376,
          339025,
          340148,
          340535,
          342197,
          342435,
          343394,
          344141,
          345090,
          346247,
          346682,
          348098,
          349326,
          349705,
          350618,
          351200,
          352366,
          353232,
          354196,
          354674,
          356152,
          357280,
          357645,
          358955,
          359460,
          360651,
          361090,
          361869,
          363089,
          364172,
          364616,
          365454,
          366686,
          367390,
          368929,
          369787,
          370466,
          370887,
          371937,
          372566,
          373650,
          375063,
          375647,
          376308,
          377699,
          378049,
          379051,
          380153,
          381233,
          381871,
          382693,
          383437,
          384374,
          385718,
          385914,
          387060,
          388128,
          388744,
          390183,
          390530,
          391404,
          392477,
          393021,
          394052,
          395089,
          395667,
          396670,
          397700,
          398450,
          400021,
          400438,
          401142,
          401917,
          402878,
          404100,
          404960,
          405672,
          406552,
          407842,
          408276,
          409177,
          410668,
          411693,
          412189,
          412920,
          413999,
          414719,
          415875,
          416458,
          417338,
          418007,
          418864,
          420576,
          420941,
          421520,
          422429,
          423456,
          424227,
          425372,
          426808,
          427302,
          428187,
          428983,
          430132,
          430597,
          431642,
          432435,
          433241,
          434763,
          434930,
          435770,
          436945,
          437942,
          439277,
          439958,
          440263,
          441431,
          442014,
          443651,
          443856,
          445502,
          446450,
          446952,
          447588,
          448596,
          449361,
          450869,
          451444,
          452257,
          453393,
          454077,
          454736,
          455893,
          456519,
          457585,
          458741,
          459423,
          460625,
          461296,
          462425,
          463128,
          463717,
          464459,
          465442,
          466669,
          467281,
          468211,
          469155,
          470418,
          471411,
          472037,
          473088,
          473452,
          474893,
          475276,
          476536,
          477343,
          477813,
          479431,
          479831,
          480499,
          481635,
          482115,
          483164,
          484123,
          484852,
          486252,
          487197,
          487581,
          488370,
          489663,
          490128,
          491617,
          492002,
          493103,
          494024,
          494957,
          496365,
          496585,
          497799,
          498753,
          499704,
          500344,
          500821,
          502603,
          503000,
          503972,
          504570,
          505321,
          506534,
          507389,
          508504,
          509617,
          510470,
          511245,
          511994,
          512432,
          513811,
          514190,
          515199,
          516085,
          516862,
          518393,
          518709,
          520109,
          520648,
          522117,
          522813,
          523705,
          524011,
          525695,
          525834,
          527166,
          528061,
          529056,
          529815,
          530304,
          531348,
          532404,
          533255,
          534259,
          534921,
          535902,
          536973,
          537789,
          538313,
          539463,
          540204,
          541385,
          542691,
          543595,
          543979,
          545017,
          546128,
          546642,
          547511,
          548640,
          549200,
          550548,
          550915,
          552192,
          553386,
          553900,
          554526,
          555337,
          556072,
          557341,
          558225,
          559366,
          560220,
          561353,
          561938,
          563199,
          563825,
          564500,
          565197,
          566291,
          567479,
          567757,
          568942,
          570107,
          571193,
          571647,
          572984,
          573779,
          574548,
          574990,
          575890,
          577456,
          578188,
          578369,
          579847,
          580694,
          581292,
          582563,
          583116,
          583817,
          584636,
          585637,
          586374,
          587369,
          588328,
          589771,
          589991,
          591086,
          592313,
          592884,
          593697,
          594416,
          596064,
          596537,
          597563,
          598230,
          599047,
          600125,
          601339,
          601563,
          602994,
          604006,
          604690,
          605740,
          606697,
          606945,
          608379,
          608794,
          609663,
          610718,
          611728,
          612649,
          613993,
          614574,
          615724,
          616420,
          616803,
          617579,
          619301,
          619458,
          620959,
          621961,
          622196,
          623057,
          624570,
          624733,
          626471,
          627129,
          627791,
          628254,
          629705,
          630216,
          631064,
          632617,
          633365,
          634469,
          635020,
          635699,
          636344,
          637551,
          638842,
          639658,
          639993,
          641359,
          642004,
          642912,
          643720,
          644791,
          645592,
          646077,
          647798,
          648496,
          648928,
          650531,
          651243,
          652261,
          652876,
          653441,
          654984,
          655070,
          656543,
          657122,
          658468,
          659069,
          659451,
          660698,
          661416,
          662312,
          663360,
          664428,
          664934,
          666119,
          667304,
          667568,
          669030,
          670087,
          670701,
          671866,
          672808,
          673435,
          674164,
          675301,
          676043,
          677097,
          677496,
          678158,
          679206,
          679987,
          680832,
          682302,
          683246,
          684380,
          685125,
          686176,
          686742,
          687918,
          688376,
          689364,
          689921,
          691344,
          692143,
          692868,
          694198,
          694636,
          695594,
          696131,
          697034,
          698571,
          699400,
          700001,
          700525,
          702145,
          702325,
          703523,
          704511,
          705745,
          706148,
          706736,
          708035,
          708576,
          709471,
          710315,
          711990,
          712266,
          713100,
          714118,
          715016,
          715599,
          717021,
          717430,
          718333,
          719799,
          720679,
          721551,
          722570,
          723034,
          724022,
          725206,
          726164,
          726813,
          728033,
          728695,
          729641,
          730035,
          731359,
          732415,
          733164,
          733623,
          734593,
          735812,
          736082,
          737464,
          738635,
          739056,
          740336,
          740561,
          741641,
          742948,
          743723,
          744107,
          745750,
          746766,
          747005,
          748555,
          749144,
          750229,
          751059,
          751672,
          752816,
          753178,
          754374,
          755260,
          756379,
          756772,
          757699,
          758883,
          760115,
          760367,
          761260,
          762352,
          763498,
          763791,
          764880,
          766315,
          767271,
          767510,
          768475,
          769922,
          770086,
          770837,
          772148,
          772920,
          774148,
          775132,
          776127,
          776883,
          777905,
          778408,
          778922,
          779748,
          781257,
          782212,
          782521,
          783329,
          784919,
          785867,
          786599,
          787356,
          788033,
          789450,
          790119,
          791102,
          791455,
          792348,
          793736,
          794291,
          794936,
          795976,
          796975,
          797824,
          798508,
          800158,
          800328,
          801955,
          802741,
          803013,
          804696,
          805584,
          806055,
          806589,
          807757,
          809007,
          809478,
          810495,
          811163,
          812033,
          813585,
          814073,
          815162,
          816248,
          816569,
          817244,
          818406,
          819347,
          820172,
          820939,
          821632,
          823276,
          823983,
          824698,
          825676,
          826723,
          827731,
          828167,
          828879,
          829693,
          830769,
          831787,
          832631,
          833883,
          834925,
          835456,
          836516,
          837353,
          838205,
          839050,
          840218,
          840935,
          841443,
          842687,
          843342,
          844546,
          845189,
          845781,
          846956,
          848077,
          849207,
          850019,
          850323,
          851272,
          852216,
          853003,
          854567,
          855224,
          855813,
          856657,
          857376,
          858834,
          859605,
          860311,
          861473,
          862234,
          863471,
          863981,
          864559,
          866087,
          866319,
          867354,
          868528,
          869295,
          870219,
          870645,
          872110,
          873042,
          873469,
          874209,
          875100,
          876188,
          877097,
          877974,
          879476,
          879954,
          880807,
          881361,
          883015,
          884010,
          884520,
          885088,
          886682,
          887574,
          888427,
          889167,
          889359
         ],
         "xaxis": "x2",
         "y": {
          "dtype": "float64",
          "shape": [
           1000
          ],
          "value": {}
         }
        },
        {
         "line": {
          "color": "blue"
         },
         "name": "<b style=\"color:sandybrown\">[R]</b> Center <i style=\"color:#fc9944\">~890</i>",
         "opacity": 0.4,
         "type": "scattergl",
         "uid": "a9c88ce6-4bd4-4d91-9b15-e0dbb2ca91cb",
         "x": [
          0,
          891,
          1782,
          2673,
          3564,
          4455,
          5346,
          6237,
          7129,
          8020,
          8911,
          9802,
          10173,
          11223,
          11903,
          12651,
          13967,
          15054,
          15484,
          16372,
          17221,
          17894,
          18738,
          20298,
          21140,
          21758,
          22281,
          23174,
          24347,
          25619,
          26380,
          26765,
          27634,
          29283,
          30109,
          31189,
          31738,
          32390,
          33863,
          34715,
          35507,
          36041,
          36703,
          38205,
          38789,
          40082,
          40695,
          41638,
          42390,
          43582,
          44242,
          44711,
          46078,
          46364,
          47962,
          48980,
          49616,
          50289,
          51056,
          52121,
          52980,
          53835,
          54780,
          55895,
          56880,
          57222,
          57932,
          59162,
          60288,
          61096,
          62047,
          62484,
          63355,
          64601,
          65168,
          66489,
          66979,
          68617,
          69454,
          70133,
          71132,
          72044,
          72734,
          73240,
          73972,
          75416,
          76086,
          77043,
          78149,
          78947,
          79343,
          80986,
          81373,
          82467,
          83089,
          84265,
          85512,
          86033,
          86910,
          88001,
          88633,
          89200,
          90169,
          91387,
          92475,
          93220,
          94253,
          95120,
          95840,
          96525,
          97294,
          98456,
          99606,
          100501,
          101338,
          102422,
          102683,
          104061,
          104783,
          105240,
          106136,
          107325,
          108711,
          109606,
          110197,
          111244,
          112225,
          112832,
          113760,
          114957,
          115241,
          116566,
          116807,
          117766,
          118760,
          120002,
          120729,
          121986,
          122878,
          123628,
          124759,
          125540,
          126528,
          126744,
          128256,
          128553,
          129798,
          130561,
          131425,
          132408,
          133447,
          133684,
          135453,
          136020,
          136651,
          137664,
          138255,
          139128,
          140178,
          140801,
          141987,
          143473,
          143684,
          144793,
          145596,
          146651,
          147353,
          148603,
          149399,
          149761,
          151469,
          152309,
          153177,
          153837,
          154668,
          155887,
          156526,
          157369,
          158456,
          159038,
          160000,
          161082,
          161665,
          162314,
          163430,
          163970,
          165024,
          166046,
          167109,
          167821,
          168547,
          169859,
          171082,
          171363,
          172558,
          173705,
          173992,
          174933,
          176033,
          177314,
          177826,
          178668,
          179398,
          180772,
          181538,
          182613,
          183423,
          184041,
          185051,
          185358,
          186549,
          187800,
          188580,
          189122,
          190220,
          191218,
          191893,
          192958,
          193632,
          194425,
          195448,
          196857,
          197654,
          198120,
          198843,
          199835,
          200625,
          201711,
          203148,
          203460,
          204090,
          205520,
          206473,
          207622,
          208197,
          209404,
          209840,
          211052,
          211827,
          212624,
          213388,
          214735,
          215643,
          215942,
          216725,
          218197,
          218576,
          220066,
          220973,
          221893,
          222555,
          222792,
          224159,
          225227,
          225876,
          226731,
          227546,
          228472,
          229300,
          230658,
          231235,
          232076,
          232589,
          233984,
          235006,
          236152,
          236319,
          237321,
          238643,
          239471,
          240519,
          241294,
          242211,
          242970,
          243538,
          244659,
          245497,
          246318,
          247554,
          248034,
          249153,
          250241,
          250470,
          251656,
          252621,
          253543,
          254385,
          255438,
          256450,
          257226,
          258304,
          258731,
          259421,
          260825,
          261656,
          262886,
          263363,
          263824,
          264867,
          266223,
          267281,
          267971,
          269124,
          269784,
          270723,
          271796,
          271999,
          273212,
          274142,
          274638,
          275872,
          276262,
          277949,
          278723,
          279702,
          280408,
          281321,
          281915,
          283122,
          283523,
          284695,
          285402,
          286194,
          287545,
          288722,
          289389,
          290428,
          291321,
          291977,
          292933,
          293464,
          294709,
          295485,
          296746,
          297514,
          298065,
          299323,
          300119,
          300490,
          301976,
          302227,
          303704,
          304150,
          305523,
          306314,
          307397,
          307868,
          308611,
          309614,
          310652,
          311574,
          312620,
          312992,
          314008,
          315461,
          316296,
          317059,
          317943,
          318767,
          319566,
          320088,
          321655,
          322037,
          323067,
          323647,
          325088,
          325660,
          326922,
          327571,
          327958,
          329122,
          329751,
          331045,
          332319,
          333154,
          334010,
          334269,
          335783,
          336260,
          337571,
          337849,
          339112,
          339754,
          341160,
          342182,
          342536,
          343810,
          344132,
          345622,
          346095,
          347244,
          347889,
          348940,
          349815,
          350857,
          351353,
          352665,
          353709,
          354289,
          355487,
          355942,
          356564,
          357563,
          358693,
          359813,
          360409,
          361156,
          362396,
          363024,
          363586,
          364705,
          365998,
          367096,
          367559,
          368650,
          369229,
          370083,
          371528,
          372121,
          373113,
          373560,
          374517,
          375932,
          376674,
          377711,
          378611,
          379384,
          380124,
          381009,
          381901,
          383110,
          383930,
          384730,
          385860,
          386225,
          387545,
          388421,
          389308,
          390155,
          390693,
          392080,
          392840,
          393862,
          394260,
          395515,
          396016,
          396939,
          397801,
          399230,
          399691,
          400197,
          401517,
          402090,
          403160,
          404069,
          404955,
          406291,
          406878,
          407921,
          408924,
          409186,
          410526,
          411303,
          412531,
          413154,
          414098,
          414672,
          415272,
          417044,
          417562,
          418378,
          419634,
          420177,
          420848,
          421510,
          423085,
          423782,
          424951,
          425725,
          426855,
          427170,
          428021,
          428953,
          429861,
          430912,
          432081,
          433031,
          433729,
          434790,
          435605,
          436549,
          437106,
          438021,
          438679,
          439896,
          440913,
          442005,
          442783,
          443214,
          444443,
          445566,
          446071,
          446549,
          447889,
          449078,
          449846,
          450322,
          451355,
          451809,
          453560,
          454079,
          455043,
          455946,
          456737,
          457374,
          458142,
          459828,
          460241,
          461360,
          461623,
          462997,
          463396,
          464569,
          465261,
          466515,
          467014,
          468298,
          469105,
          470241,
          470951,
          471799,
          472737,
          473263,
          474262,
          475158,
          476647,
          477134,
          478175,
          479000,
          479848,
          480345,
          481799,
          482390,
          483742,
          484276,
          485127,
          486508,
          487452,
          487829,
          489236,
          489984,
          490914,
          491712,
          492384,
          493393,
          494296,
          495148,
          496093,
          496694,
          497731,
          498975,
          499761,
          500595,
          501398,
          501959,
          503212,
          503547,
          505243,
          505356,
          506475,
          507846,
          508348,
          508921,
          510566,
          511509,
          511990,
          513210,
          513542,
          514343,
          515412,
          516751,
          517549,
          518021,
          519217,
          519547,
          520920,
          521794,
          522792,
          523684,
          524330,
          525049,
          526661,
          527076,
          527695,
          528462,
          530226,
          530463,
          531760,
          532771,
          533117,
          534338,
          535405,
          536067,
          537088,
          537919,
          538681,
          539793,
          540363,
          541813,
          542704,
          542883,
          544276,
          544959,
          546210,
          547108,
          547628,
          548839,
          549685,
          550705,
          551057,
          551960,
          552883,
          553534,
          554959,
          555617,
          556649,
          557415,
          558203,
          558836,
          559878,
          561302,
          561754,
          563200,
          563779,
          564501,
          565873,
          566455,
          567128,
          568340,
          568701,
          569647,
          571140,
          572088,
          572766,
          573502,
          574508,
          574912,
          575741,
          577321,
          578264,
          579025,
          580067,
          581021,
          581880,
          582402,
          583115,
          583848,
          585134,
          585665,
          586901,
          587262,
          588475,
          589814,
          590578,
          591611,
          592530,
          593190,
          593927,
          595047,
          595782,
          596788,
          597902,
          598502,
          599480,
          600279,
          601253,
          602408,
          603192,
          604017,
          604795,
          605975,
          606422,
          607754,
          608499,
          609068,
          610416,
          610994,
          612203,
          612649,
          613275,
          614647,
          615756,
          616181,
          617371,
          618370,
          619342,
          620022,
          620651,
          621520,
          622744,
          623598,
          624197,
          625578,
          626428,
          626814,
          627363,
          629074,
          629789,
          630207,
          631774,
          632038,
          633354,
          634205,
          635255,
          635527,
          637118,
          637889,
          638475,
          639599,
          640545,
          641061,
          642311,
          642962,
          643737,
          644498,
          645253,
          646213,
          647165,
          647897,
          648751,
          650350,
          651417,
          652213,
          653114,
          653778,
          654733,
          655068,
          656487,
          657661,
          658518,
          659281,
          659464,
          661124,
          661992,
          662923,
          663778,
          664312,
          665097,
          666141,
          667211,
          668294,
          668900,
          669390,
          670780,
          671882,
          672779,
          673223,
          674117,
          675355,
          676139,
          676820,
          677915,
          678426,
          679798,
          680537,
          681349,
          682540,
          683291,
          684395,
          684962,
          685470,
          686416,
          687137,
          688091,
          688860,
          689798,
          691349,
          691947,
          692670,
          693522,
          694338,
          695127,
          695995,
          697612,
          698469,
          699406,
          700385,
          701083,
          701810,
          702501,
          703506,
          704430,
          705442,
          706036,
          707486,
          708343,
          709340,
          710217,
          710915,
          711820,
          712912,
          713569,
          713991,
          715143,
          715778,
          716830,
          717812,
          718892,
          719772,
          720354,
          721680,
          722144,
          723391,
          724099,
          724890,
          725881,
          726372,
          727583,
          728508,
          729677,
          730488,
          731621,
          732124,
          732594,
          733853,
          734932,
          735889,
          736539,
          737479,
          738714,
          739229,
          740038,
          741055,
          741971,
          742998,
          744085,
          744661,
          745395,
          746511,
          747132,
          748323,
          748699,
          750048,
          751055,
          751794,
          753012,
          753575,
          754777,
          755407,
          755940,
          757185,
          757552,
          758411,
          760142,
          760550,
          761788,
          762100,
          763707,
          764065,
          764895,
          765828,
          767158,
          768061,
          769032,
          769749,
          770299,
          771119,
          771773,
          773486,
          774016,
          775053,
          776161,
          776488,
          777715,
          778061,
          778892,
          780304,
          780973,
          782414,
          782985,
          783950,
          785041,
          785844,
          786274,
          787029,
          788015,
          788992,
          789850,
          790772,
          791962,
          792307,
          793950,
          794746,
          795336,
          796014,
          797535,
          798430,
          799250,
          799556,
          800336,
          801264,
          802683,
          803626,
          804489,
          805383,
          806481,
          807335,
          807820,
          808502,
          809967,
          810578,
          811798,
          812608,
          813015,
          814268,
          814888,
          815963,
          817116,
          818016,
          818860,
          819831,
          819936,
          821317,
          822060,
          822753,
          823712,
          824572,
          825849,
          826431,
          827343,
          828062,
          829381,
          829945,
          830867,
          831434,
          832952,
          833865,
          834598,
          835849,
          836099,
          837364,
          838203,
          839358,
          839906,
          841158,
          841850,
          842957,
          843565,
          844644,
          845081,
          845868,
          847189,
          848067,
          848411,
          850097,
          851001,
          851850,
          852091,
          853379,
          854599,
          855081,
          856360,
          857033,
          858168,
          858907,
          859906,
          860182,
          860993,
          861847,
          863340,
          863976,
          864755,
          865315,
          866859,
          867725,
          868532,
          869752,
          870104,
          870757,
          871970,
          872732,
          873860,
          874902,
          875990,
          876352,
          877308,
          877801,
          879481,
          880423,
          880536,
          881887,
          882741,
          883883,
          884395,
          885162,
          886590,
          887180,
          887934,
          888601,
          889359
         ],
         "xaxis": "x2",
         "y": {
          "dtype": "float64",
          "shape": [
           1000
          ],
          "value": {}
         }
        },
        {
         "line": {
          "color": "green",
          "shape": "hv"
         },
         "name": "<b style=\"color:sandybrown\">[R]</b> Buy <i style=\"color:#fc9944\">~890</i>",
         "opacity": 0.6,
         "type": "scattergl",
         "uid": "8034540e-3850-4acc-8423-8ed13b72ba3b",
         "x": [
          0,
          12,
          948,
          1889,
          2690,
          3764,
          4456,
          5358,
          6243,
          7373,
          8029,
          9445,
          9815,
          11465,
          11590,
          12601,
          13372,
          14622,
          15154,
          16454,
          16932,
          18527,
          18714,
          19626,
          20497,
          22240,
          22300,
          23278,
          24061,
          25034,
          25855,
          26917,
          27632,
          29133,
          29488,
          30520,
          31190,
          32199,
          32973,
          34650,
          34787,
          35792,
          36539,
          37439,
          38323,
          39579,
          40124,
          41310,
          41884,
          43294,
          43716,
          44704,
          45449,
          46617,
          47231,
          48356,
          49013,
          49980,
          50799,
          52391,
          52584,
          54054,
          54360,
          55389,
          56142,
          57617,
          57925,
          59019,
          59779,
          60715,
          62294,
          62380,
          63760,
          64171,
          65166,
          65954,
          66896,
          67727,
          68881,
          69509,
          70644,
          71292,
          72279,
          73074,
          74589,
          74857,
          76240,
          76639,
          77812,
          78421,
          79504,
          80203,
          81514,
          81985,
          83048,
          83782,
          84678,
          85550,
          86938,
          87387,
          88309,
          89130,
          90077,
          90897,
          91917,
          92719,
          93657,
          94461,
          95381,
          96244,
          97277,
          98055,
          99031,
          99808,
          100803,
          101635,
          102565,
          103381,
          105006,
          105155,
          106807,
          106948,
          108289,
          108720,
          109847,
          110502,
          111620,
          112284,
          113343,
          114074,
          115116,
          115862,
          116974,
          117631,
          118697,
          119413,
          120371,
          121196,
          122252,
          122978,
          123921,
          124768,
          125996,
          126545,
          128061,
          128325,
          129425,
          130110,
          131138,
          131891,
          132813,
          133672,
          134721,
          135477,
          136690,
          137242,
          138703,
          139030,
          140025,
          140801,
          141700,
          142583,
          143523,
          144365,
          145606,
          146148,
          147063,
          147930,
          148998,
          150586,
          150604,
          151653,
          152385,
          153585,
          154168,
          155300,
          155950,
          157369,
          157732,
          158813,
          159515,
          160566,
          161297,
          162654,
          163079,
          164064,
          164863,
          165947,
          166644,
          168376,
          168426,
          169623,
          170227,
          171131,
          171991,
          173061,
          173773,
          174786,
          175560,
          176708,
          177447,
          178580,
          179120,
          180216,
          180910,
          182168,
          182686,
          183852,
          184467,
          185442,
          186250,
          187933,
          188031,
          188978,
          189830,
          190779,
          191621,
          192499,
          193397,
          194391,
          195168,
          196054,
          196990,
          197941,
          198725,
          199823,
          200507,
          201866,
          202303,
          203254,
          204072,
          205440,
          205878,
          206908,
          207636,
          208788,
          209422,
          210619,
          211260,
          212117,
          213005,
          214290,
          214830,
          215752,
          216560,
          217606,
          218330,
          219639,
          220112,
          221445,
          221894,
          222851,
          223713,
          224818,
          225459,
          226495,
          227241,
          228846,
          229035,
          230024,
          230817,
          231719,
          232606,
          233985,
          234370,
          235607,
          236165,
          237071,
          237936,
          238993,
          240470,
          240679,
          241724,
          243263,
          243285,
          244511,
          245064,
          246060,
          246859,
          247893,
          248641,
          249818,
          250411,
          251327,
          252193,
          253320,
          253976,
          255026,
          255758,
          256707,
          257540,
          258561,
          259322,
          260219,
          261105,
          262071,
          262899,
          263819,
          264673,
          265928,
          266484,
          268009,
          268234,
          269158,
          270016,
          270983,
          271798,
          272915,
          273581,
          274695,
          275363,
          276733,
          277145,
          278893,
          278944,
          279896,
          280764,
          281623,
          283214,
          283410,
          284362,
          285198,
          286920,
          286948,
          287932,
          288730,
          289932,
          290531,
          291510,
          292295,
          293266,
          294077,
          295446,
          295876,
          296922,
          297642,
          298959,
          299424,
          300684,
          301206,
          302369,
          302988,
          304111,
          304807,
          306191,
          306573,
          307553,
          308335,
          309272,
          310117,
          311314,
          311980,
          313116,
          313682,
          314619,
          315464,
          316362,
          317246,
          318744,
          319029,
          319988,
          320811,
          322041,
          322593,
          323996,
          324428,
          325550,
          326158,
          327663,
          327963,
          329354,
          329722,
          331069,
          331510,
          332419,
          333287,
          334213,
          335236,
          336099,
          336870,
          337925,
          338634,
          339577,
          340416,
          342136,
          342203,
          343261,
          343981,
          345234,
          345763,
          347091,
          347621,
          349046,
          349335,
          350948,
          351132,
          352149,
          352912,
          353849,
          354674,
          355854,
          356457,
          357388,
          358251,
          359231,
          360067,
          360929,
          361803,
          363107,
          363632,
          364623,
          365412,
          366982,
          367184,
          368195,
          368949,
          370054,
          370715,
          372111,
          372497,
          373479,
          374279,
          375307,
          376117,
          377158,
          377844,
          379304,
          379639,
          380678,
          381417,
          382864,
          383191,
          384866,
          385014,
          385955,
          386755,
          387813,
          388546,
          390048,
          390321,
          391293,
          392109,
          393009,
          393922,
          394790,
          395667,
          396720,
          397476,
          398926,
          399231,
          400442,
          401017,
          402194,
          402839,
          403692,
          404578,
          405538,
          406360,
          407363,
          408165,
          409179,
          409925,
          411155,
          411707,
          412664,
          413497,
          414905,
          415272,
          416214,
          417944,
          417966,
          419032,
          419741,
          420663,
          421527,
          422411,
          423302,
          424267,
          425074,
          426850,
          426880,
          427817,
          428639,
          429702,
          430421,
          431366,
          432236,
          433271,
          433998,
          435035,
          435774,
          436951,
          437584,
          438477,
          439333,
          440492,
          441115,
          442738,
          442897,
          444211,
          444781,
          445600,
          446515,
          447453,
          448244,
          449153,
          450199,
          451166,
          451875,
          452748,
          453677,
          454832,
          455390,
          456521,
          457155,
          458142,
          458939,
          460165,
          460725,
          461792,
          462505,
          463396,
          464490,
          465544,
          466067,
          467747,
          467860,
          469614,
          469637,
          470801,
          471442,
          472870,
          473196,
          474259,
          474978,
          476106,
          476761,
          478175,
          478543,
          479563,
          480333,
          481266,
          482117,
          483258,
          483907,
          484909,
          485696,
          486607,
          487454,
          488368,
          489297,
          490440,
          491019,
          492186,
          492841,
          493830,
          494583,
          495723,
          496386,
          497264,
          498155,
          499290,
          499936,
          500936,
          501712,
          502660,
          503495,
          504959,
          505311,
          506328,
          507059,
          508154,
          508842,
          509864,
          510624,
          511712,
          512414,
          513630,
          514229,
          515085,
          515973,
          517382,
          517795,
          518817,
          519554,
          520466,
          521318,
          522994,
          523100,
          524266,
          524899,
          526065,
          526664,
          527798,
          528599,
          529857,
          530229,
          531632,
          532049,
          533341,
          533794,
          534766,
          535589,
          536757,
          537392,
          538346,
          539142,
          540432,
          540923,
          541823,
          542757,
          544399,
          544515,
          545440,
          546269,
          547195,
          548934,
          548972,
          549942,
          550738,
          551983,
          552507,
          553405,
          554299,
          555305,
          556115,
          557727,
          557881,
          559003,
          559637,
          560723,
          561443,
          562446,
          563201,
          564158,
          565050,
          565946,
          566776,
          567808,
          568548,
          569453,
          570351,
          571388,
          572113,
          573464,
          573900,
          574906,
          576401,
          576568,
          577703,
          578351,
          579391,
          580133,
          581040,
          581915,
          582905,
          583697,
          584601,
          586311,
          586371,
          587490,
          588194,
          589888,
          589994,
          590930,
          591737,
          592647,
          593500,
          594559,
          595282,
          596720,
          597127,
          598319,
          598847,
          600447,
          600630,
          601564,
          603166,
          603302,
          604648,
          605109,
          606271,
          606892,
          608140,
          608649,
          609581,
          610432,
          611409,
          612220,
          613144,
          613996,
          614929,
          615787,
          617318,
          617580,
          618585,
          620209,
          620235,
          621192,
          622016,
          623351,
          623811,
          625155,
          625581,
          626604,
          627381,
          628357,
          629148,
          630318,
          630928,
          632190,
          632710,
          633798,
          634492,
          635640,
          636275,
          637609,
          638068,
          638976,
          639839,
          641066,
          641622,
          642997,
          643404,
          644956,
          645193,
          646473,
          646980,
          648104,
          648751,
          649819,
          650533,
          651509,
          652315,
          653319,
          654100,
          655068,
          655905,
          656910,
          657662,
          658806,
          659444,
          660780,
          661227,
          662951,
          663013,
          664230,
          664795,
          665872,
          666573,
          667620,
          668356,
          669390,
          670139,
          671203,
          671920,
          672938,
          673703,
          674936,
          675485,
          677106,
          677325,
          678287,
          679055,
          679944,
          680832,
          682537,
          682632,
          683627,
          684396,
          685581,
          686179,
          687236,
          687963,
          688888,
          689743,
          690657,
          691525,
          692484,
          693312,
          694279,
          695090,
          696349,
          696873,
          698126,
          698675,
          699812,
          700528,
          701783,
          702229,
          703129,
          704001,
          705010,
          705790,
          706820,
          707574,
          708695,
          709362,
          711011,
          711130,
          712604,
          712913,
          713939,
          714695,
          715647,
          716481,
          717413,
          718260,
          719158,
          720090,
          721423,
          721863,
          723331,
          723649,
          724546,
          725389,
          726317,
          727171,
          728320,
          728953,
          730058,
          730736,
          732225,
          732518,
          733931,
          734300,
          735345,
          736124,
          737145,
          737875,
          738988,
          739647,
          740705,
          741440,
          742714,
          743394,
          744170,
          744994,
          746049,
          746799,
          747792,
          748601,
          749711,
          750342,
          751388,
          752123,
          753762,
          753905,
          755372,
          755687,
          756589,
          757470,
          758767,
          759254,
          760318,
          761034,
          762004,
          762860,
          763834,
          765430,
          765490,
          766429,
          767272,
          768198,
          769061,
          770082,
          770839,
          772018,
          772619,
          774007,
          774406,
          775556,
          776198,
          777294,
          777969,
          779233,
          779755,
          780715,
          781555,
          783090,
          783355,
          784206,
          785095,
          786274,
          786878,
          788362,
          788661,
          789556,
          790442,
          791364,
          792224,
          793177,
          794006,
          795679,
          795854,
          796831,
          797580,
          798731,
          799356,
          800442,
          801136,
          802705,
          802918,
          804332,
          804802,
          806423,
          806586,
          807916,
          808265,
          809331,
          810056,
          810985,
          811837,
          813286,
          813612,
          815388,
          815401,
          816325,
          817176,
          818270,
          818958,
          819904,
          820745,
          822159,
          822535,
          823641,
          824305,
          825379,
          826088,
          827343,
          827904,
          828798,
          829652,
          831111,
          831434,
          832708,
          833236,
          834138,
          835003,
          836518,
          836781,
          838280,
          838564,
          839467,
          840346,
          841589,
          842170,
          843061,
          843910,
          845089,
          845790,
          846841,
          847497,
          848608,
          849257,
          850288,
          851068,
          852269,
          852866,
          853812,
          854604,
          855594,
          856405,
          857725,
          858169,
          859512,
          859951,
          860969,
          861733,
          862638,
          863541,
          864454,
          865303,
          866344,
          867080,
          868553,
          868862,
          870428,
          870645,
          871887,
          872447,
          873376,
          874243,
          875307,
          876008,
          877019,
          877774,
          879250,
          879556,
          880453,
          881338,
          882376,
          883121,
          884200,
          884940,
          885848,
          886687,
          887712,
          888467,
          889359
         ],
         "xaxis": "x2",
         "y": {
          "dtype": "float64",
          "shape": [
           1000
          ],
          "value": {}
         },
         "yaxis": "y3"
        },
        {
         "line": {
          "color": "red",
          "shape": "hv"
         },
         "name": "<b style=\"color:sandybrown\">[R]</b> Sell <i style=\"color:#fc9944\">~890</i>",
         "opacity": 0.6,
         "type": "scattergl",
         "uid": "9b8e5233-c6f3-4d5e-aa1f-d87e1fe82d9f",
         "x": [
          0,
          179,
          892,
          1792,
          2674,
          3566,
          4518,
          5954,
          6238,
          7155,
          8830,
          8927,
          9980,
          10694,
          11696,
          12494,
          13439,
          14321,
          15293,
          16055,
          17417,
          17828,
          18771,
          19606,
          20697,
          21391,
          22373,
          23192,
          24092,
          24952,
          26691,
          26737,
          28044,
          28517,
          29756,
          30302,
          31760,
          32089,
          32994,
          33868,
          34877,
          35646,
          36991,
          37432,
          38480,
          39211,
          40465,
          40993,
          42240,
          42775,
          44212,
          44625,
          46123,
          46340,
          47533,
          48122,
          49029,
          49904,
          50930,
          51687,
          52949,
          53469,
          54495,
          55269,
          56259,
          57034,
          58071,
          58860,
          59839,
          60598,
          61498,
          62390,
          63420,
          64163,
          65274,
          65945,
          67246,
          67728,
          69024,
          69621,
          70424,
          71368,
          72702,
          73084,
          74236,
          74856,
          76104,
          76651,
          77620,
          78422,
          79574,
          80254,
          81481,
          81995,
          83202,
          83768,
          84872,
          85557,
          86497,
          87332,
          88466,
          89115,
          90063,
          90905,
          92165,
          92679,
          94458,
          94473,
          96051,
          96245,
          97170,
          98026,
          98920,
          99821,
          101012,
          101590,
          102596,
          104256,
          104265,
          105489,
          106046,
          107204,
          107839,
          108729,
          109618,
          110635,
          111420,
          112495,
          113175,
          114128,
          115057,
          116315,
          116740,
          118042,
          118522,
          120055,
          120367,
          121911,
          122089,
          123061,
          123869,
          124928,
          125651,
          126946,
          127434,
          128883,
          129216,
          130734,
          130998,
          132206,
          132780,
          134509,
          134563,
          135930,
          136346,
          137614,
          138132,
          139098,
          139927,
          141101,
          141698,
          143221,
          143495,
          144387,
          146085,
          146170,
          147107,
          147950,
          149643,
          149712,
          150636,
          151494,
          152943,
          153279,
          154532,
          155059,
          156390,
          156870,
          158160,
          158638,
          159852,
          160406,
          161313,
          162197,
          163238,
          163970,
          164877,
          165753,
          166704,
          167605,
          168510,
          169317,
          170750,
          171099,
          172059,
          172882,
          174624,
          174701,
          176277,
          176447,
          177936,
          178229,
          179122,
          180016,
          181109,
          181825,
          182714,
          183576,
          185088,
          185361,
          186259,
          187146,
          188793,
          188950,
          190574,
          190705,
          191710,
          192487,
          193897,
          194271,
          195402,
          196051,
          197250,
          197834,
          199169,
          199623,
          201255,
          201398,
          202395,
          203191,
          204236,
          204972,
          206499,
          206745,
          207688,
          208538,
          209541,
          210310,
          211397,
          212115,
          213036,
          213874,
          214942,
          215663,
          216732,
          217466,
          218576,
          219221,
          220395,
          221200,
          221927,
          222794,
          224096,
          224568,
          226278,
          226350,
          227374,
          228145,
          229101,
          229915,
          231505,
          231698,
          232622,
          233479,
          234490,
          235269,
          236282,
          237053,
          238488,
          238842,
          239830,
          240608,
          241598,
          242423,
          243430,
          244175,
          245103,
          245956,
          246969,
          247766,
          248783,
          249521,
          250476,
          251307,
          252258,
          253089,
          254309,
          254867,
          255761,
          257323,
          257545,
          258500,
          259332,
          260248,
          261135,
          262210,
          262887,
          264029,
          264669,
          265581,
          266451,
          267385,
          268363,
          269203,
          270017,
          271158,
          271799,
          273167,
          273588,
          274540,
          275369,
          276423,
          277153,
          278845,
          278927,
          280092,
          280710,
          281753,
          282492,
          283698,
          284274,
          285523,
          286057,
          287149,
          287920,
          288934,
          289621,
          290740,
          292190,
          292310,
          293475,
          294078,
          295378,
          295859,
          297252,
          297641,
          298594,
          299445,
          300362,
          301215,
          302262,
          303000,
          304530,
          304770,
          305931,
          306553,
          307813,
          308363,
          309584,
          310145,
          311017,
          311900,
          312992,
          313701,
          315002,
          315465,
          316438,
          317271,
          318194,
          319038,
          320028,
          320822,
          321706,
          322643,
          323537,
          324376,
          325857,
          326170,
          327319,
          327940,
          329154,
          329762,
          330978,
          331505,
          333006,
          333331,
          334312,
          335069,
          336328,
          336852,
          338401,
          338678,
          339636,
          341297,
          341420,
          342353,
          343096,
          344251,
          344910,
          345847,
          347421,
          347545,
          348450,
          349327,
          350356,
          351110,
          352377,
          352892,
          354259,
          354675,
          355949,
          356467,
          357703,
          358239,
          359517,
          360021,
          361775,
          361861,
          362704,
          363586,
          364534,
          365368,
          366485,
          367150,
          368146,
          368933,
          369989,
          370760,
          371990,
          372510,
          373561,
          374313,
          375208,
          376062,
          377033,
          377873,
          378959,
          379626,
          380536,
          381409,
          382328,
          383194,
          384287,
          384973,
          386149,
          386773,
          387893,
          388538,
          389575,
          390320,
          391320,
          392102,
          393147,
          393885,
          395117,
          395682,
          396888,
          397449,
          398341,
          399276,
          400298,
          401014,
          401927,
          402796,
          404284,
          404614,
          405637,
          406385,
          407255,
          408143,
          409392,
          409971,
          410843,
          411733,
          412752,
          413490,
          414614,
          415305,
          416163,
          417331,
          418132,
          418844,
          419860,
          420619,
          421804,
          422401,
          423730,
          424235,
          425587,
          426035,
          427367,
          427748,
          428642,
          429543,
          430970,
          431312,
          432495,
          433095,
          434432,
          434877,
          435825,
          436664,
          437982,
          438442,
          439738,
          440264,
          441174,
          442006,
          443566,
          443789,
          444926,
          446433,
          446462,
          447581,
          448315,
          449459,
          450026,
          451041,
          451809,
          453026,
          453591,
          455092,
          455373,
          456432,
          457168,
          458505,
          458938,
          459863,
          460720,
          461653,
          462502,
          463596,
          464285,
          465211,
          466068,
          466964,
          467849,
          469006,
          469631,
          470584,
          471414,
          473139,
          473261,
          474470,
          474981,
          475908,
          476775,
          477710,
          478614,
          479580,
          480325,
          481630,
          482107,
          483344,
          483890,
          485304,
          485672,
          487005,
          487478,
          488456,
          489237,
          490188,
          491036,
          491911,
          492801,
          493720,
          494590,
          495483,
          496366,
          497732,
          498148,
          499196,
          499930,
          500892,
          502382,
          502613,
          503556,
          504386,
          505934,
          506168,
          507067,
          507950,
          509158,
          509733,
          510941,
          511523,
          512613,
          513297,
          514782,
          515080,
          516372,
          516890,
          518158,
          518716,
          519628,
          520426,
          521383,
          522230,
          523100,
          523991,
          525138,
          525774,
          526741,
          527556,
          528649,
          529341,
          530887,
          531133,
          532378,
          532902,
          534061,
          534685,
          535657,
          536473,
          537906,
          538262,
          539249,
          540043,
          541258,
          541814,
          542949,
          543596,
          544892,
          545378,
          546310,
          547161,
          548092,
          548943,
          550150,
          550725,
          551821,
          552544,
          553998,
          554290,
          555351,
          556072,
          557022,
          557854,
          558750,
          559659,
          561063,
          561419,
          562344,
          563226,
          564253,
          564983,
          565968,
          566766,
          568346,
          568550,
          569771,
          570330,
          571631,
          572115,
          573770,
          573895,
          574882,
          575677,
          576770,
          577461,
          578560,
          579250,
          580158,
          581024,
          582044,
          582806,
          583849,
          584589,
          585499,
          586402,
          587756,
          588153,
          589125,
          589935,
          591232,
          591718,
          592755,
          593574,
          594446,
          595291,
          596290,
          597064,
          598158,
          598860,
          599831,
          600629,
          601746,
          602415,
          603485,
          604197,
          605242,
          605988,
          607153,
          607758,
          608667,
          609554,
          611155,
          611337,
          612784,
          613138,
          614019,
          614890,
          615795,
          616670,
          618034,
          618475,
          620023,
          620234,
          621557,
          622018,
          623324,
          623799,
          624840,
          625607,
          626558,
          627363,
          628471,
          629146,
          630480,
          630943,
          631920,
          632737,
          633623,
          634496,
          635432,
          636358,
          637327,
          638057,
          639823,
          639841,
          640772,
          641627,
          642659,
          643414,
          644700,
          645186,
          646402,
          646968,
          647968,
          648756,
          649684,
          650545,
          651715,
          652386,
          653346,
          654977,
          654989,
          656689,
          656782,
          658147,
          658553,
          659810,
          660353,
          661509,
          662124,
          663233,
          663947,
          664946,
          666353,
          666583,
          668045,
          668506,
          669811,
          670138,
          671847,
          671923,
          673435,
          673719,
          674866,
          675497,
          676955,
          677267,
          678801,
          679049,
          680077,
          680835,
          682518,
          682614,
          683552,
          684432,
          685488,
          686236,
          687583,
          687961,
          689509,
          689767,
          690637,
          691536,
          692530,
          693308,
          694284,
          695094,
          695995,
          696872,
          697784,
          698654,
          699692,
          700437,
          701358,
          702219,
          703512,
          704045,
          704914,
          705784,
          707069,
          707566,
          708585,
          709348,
          710273,
          711150,
          712088,
          712917,
          713876,
          714696,
          715905,
          716477,
          717584,
          718270,
          719236,
          720042,
          721344,
          721824,
          723110,
          723606,
          725049,
          725413,
          726941,
          727188,
          728130,
          728976,
          729861,
          730754,
          731717,
          732527,
          733448,
          734325,
          735429,
          736082,
          737044,
          737865,
          739063,
          739648,
          740575,
          741429,
          742396,
          743211,
          744255,
          744999,
          746258,
          746776,
          747729,
          748558,
          749464,
          750341,
          751559,
          752141,
          753371,
          753922,
          754831,
          755714,
          756751,
          757472,
          758417,
          759252,
          760377,
          761911,
          761942,
          762861,
          763731,
          764654,
          765595,
          766588,
          767298,
          768258,
          769055,
          770210,
          770837,
          772395,
          772640,
          773591,
          774401,
          776021,
          776184,
          777854,
          777966,
          779357,
          779748,
          781256,
          781531,
          782724,
          783313,
          784681,
          785097,
          786112,
          786877,
          787980,
          788660,
          789799,
          790459,
          791503,
          792249,
          793949,
          794008,
          795038,
          795789,
          796990,
          797571,
          798475,
          799353,
          800380,
          801141,
          802206,
          802928,
          803820,
          804700,
          805750,
          806482,
          808249,
          808341,
          809733,
          810047,
          811183,
          811829,
          813066,
          813632,
          814536,
          815394,
          816293,
          817235,
          818451,
          818975,
          820211,
          820741,
          821883,
          822523,
          823812,
          824316,
          825262,
          826091,
          827267,
          827870,
          829122,
          829680,
          830640,
          831435,
          832930,
          833217,
          834462,
          834999,
          836250,
          836782,
          837754,
          838586,
          839915,
          840458,
          841717,
          842128,
          843380,
          843933,
          844905,
          845693,
          846670,
          847475,
          848526,
          849311,
          850172,
          851039,
          852114,
          852822,
          853999,
          854605,
          855845,
          856386,
          857434,
          858283,
          859593,
          859962,
          860946,
          861762,
          862683,
          863515,
          864652,
          865298,
          866298,
          867107,
          868011,
          868888,
          870172,
          870666,
          871741,
          872427,
          873493,
          874209,
          875130,
          875991,
          877154,
          877800,
          878671,
          879579,
          880826,
          881343,
          882940,
          883133,
          884100,
          884903,
          886165,
          886685,
          887613,
          889113,
          889359
         ],
         "xaxis": "x2",
         "y": {
          "dtype": "float64",
          "shape": [
           1000
          ],
          "value": {}
         },
         "yaxis": "y3"
        }
       ],
       "_js2py_pointsCallback": {},
       "_js2py_restyle": {},
       "_js2py_update": {},
       "_last_layout_edit_id": 14,
       "_last_trace_edit_id": 14,
       "_layout": {
        "autosize": true,
        "height": 850,
        "legend": {
         "orientation": "h",
         "x": 0.1,
         "y": 1
        },
        "margin": {
         "b": 10,
         "l": 45,
         "pad": 3,
         "r": 15,
         "t": 30
        },
        "template": {
         "data": {
          "bar": [
           {
            "error_x": {
             "color": "#2a3f5f"
            },
            "error_y": {
             "color": "#2a3f5f"
            },
            "marker": {
             "line": {
              "color": "white",
              "width": 0.5
             },
             "pattern": {
              "fillmode": "overlay",
              "size": 10,
              "solidity": 0.2
             }
            },
            "type": "bar"
           }
          ],
          "barpolar": [
           {
            "marker": {
             "line": {
              "color": "white",
              "width": 0.5
             },
             "pattern": {
              "fillmode": "overlay",
              "size": 10,
              "solidity": 0.2
             }
            },
            "type": "barpolar"
           }
          ],
          "carpet": [
           {
            "aaxis": {
             "endlinecolor": "#2a3f5f",
             "gridcolor": "#C8D4E3",
             "linecolor": "#C8D4E3",
             "minorgridcolor": "#C8D4E3",
             "startlinecolor": "#2a3f5f"
            },
            "baxis": {
             "endlinecolor": "#2a3f5f",
             "gridcolor": "#C8D4E3",
             "linecolor": "#C8D4E3",
             "minorgridcolor": "#C8D4E3",
             "startlinecolor": "#2a3f5f"
            },
            "type": "carpet"
           }
          ],
          "choropleth": [
           {
            "colorbar": {
             "outlinewidth": 0,
             "ticks": ""
            },
            "type": "choropleth"
           }
          ],
          "contour": [
           {
            "colorbar": {
             "outlinewidth": 0,
             "ticks": ""
            },
            "colorscale": [
             [
              0,
              "#0d0887"
             ],
             [
              0.1111111111111111,
              "#46039f"
             ],
             [
              0.2222222222222222,
              "#7201a8"
             ],
             [
              0.3333333333333333,
              "#9c179e"
             ],
             [
              0.4444444444444444,
              "#bd3786"
             ],
             [
              0.5555555555555556,
              "#d8576b"
             ],
             [
              0.6666666666666666,
              "#ed7953"
             ],
             [
              0.7777777777777778,
              "#fb9f3a"
             ],
             [
              0.8888888888888888,
              "#fdca26"
             ],
             [
              1,
              "#f0f921"
             ]
            ],
            "type": "contour"
           }
          ],
          "contourcarpet": [
           {
            "colorbar": {
             "outlinewidth": 0,
             "ticks": ""
            },
            "type": "contourcarpet"
           }
          ],
          "heatmap": [
           {
            "colorbar": {
             "outlinewidth": 0,
             "ticks": ""
            },
            "colorscale": [
             [
              0,
              "#0d0887"
             ],
             [
              0.1111111111111111,
              "#46039f"
             ],
             [
              0.2222222222222222,
              "#7201a8"
             ],
             [
              0.3333333333333333,
              "#9c179e"
             ],
             [
              0.4444444444444444,
              "#bd3786"
             ],
             [
              0.5555555555555556,
              "#d8576b"
             ],
             [
              0.6666666666666666,
              "#ed7953"
             ],
             [
              0.7777777777777778,
              "#fb9f3a"
             ],
             [
              0.8888888888888888,
              "#fdca26"
             ],
             [
              1,
              "#f0f921"
             ]
            ],
            "type": "heatmap"
           }
          ],
          "heatmapgl": [
           {
            "colorbar": {
             "outlinewidth": 0,
             "ticks": ""
            },
            "colorscale": [
             [
              0,
              "#0d0887"
             ],
             [
              0.1111111111111111,
              "#46039f"
             ],
             [
              0.2222222222222222,
              "#7201a8"
             ],
             [
              0.3333333333333333,
              "#9c179e"
             ],
             [
              0.4444444444444444,
              "#bd3786"
             ],
             [
              0.5555555555555556,
              "#d8576b"
             ],
             [
              0.6666666666666666,
              "#ed7953"
             ],
             [
              0.7777777777777778,
              "#fb9f3a"
             ],
             [
              0.8888888888888888,
              "#fdca26"
             ],
             [
              1,
              "#f0f921"
             ]
            ],
            "type": "heatmapgl"
           }
          ],
          "histogram": [
           {
            "marker": {
             "pattern": {
              "fillmode": "overlay",
              "size": 10,
              "solidity": 0.2
             }
            },
            "type": "histogram"
           }
          ],
          "histogram2d": [
           {
            "colorbar": {
             "outlinewidth": 0,
             "ticks": ""
            },
            "colorscale": [
             [
              0,
              "#0d0887"
             ],
             [
              0.1111111111111111,
              "#46039f"
             ],
             [
              0.2222222222222222,
              "#7201a8"
             ],
             [
              0.3333333333333333,
              "#9c179e"
             ],
             [
              0.4444444444444444,
              "#bd3786"
             ],
             [
              0.5555555555555556,
              "#d8576b"
             ],
             [
              0.6666666666666666,
              "#ed7953"
             ],
             [
              0.7777777777777778,
              "#fb9f3a"
             ],
             [
              0.8888888888888888,
              "#fdca26"
             ],
             [
              1,
              "#f0f921"
             ]
            ],
            "type": "histogram2d"
           }
          ],
          "histogram2dcontour": [
           {
            "colorbar": {
             "outlinewidth": 0,
             "ticks": ""
            },
            "colorscale": [
             [
              0,
              "#0d0887"
             ],
             [
              0.1111111111111111,
              "#46039f"
             ],
             [
              0.2222222222222222,
              "#7201a8"
             ],
             [
              0.3333333333333333,
              "#9c179e"
             ],
             [
              0.4444444444444444,
              "#bd3786"
             ],
             [
              0.5555555555555556,
              "#d8576b"
             ],
             [
              0.6666666666666666,
              "#ed7953"
             ],
             [
              0.7777777777777778,
              "#fb9f3a"
             ],
             [
              0.8888888888888888,
              "#fdca26"
             ],
             [
              1,
              "#f0f921"
             ]
            ],
            "type": "histogram2dcontour"
           }
          ],
          "mesh3d": [
           {
            "colorbar": {
             "outlinewidth": 0,
             "ticks": ""
            },
            "type": "mesh3d"
           }
          ],
          "parcoords": [
           {
            "line": {
             "colorbar": {
              "outlinewidth": 0,
              "ticks": ""
             }
            },
            "type": "parcoords"
           }
          ],
          "pie": [
           {
            "automargin": true,
            "type": "pie"
           }
          ],
          "scatter": [
           {
            "marker": {
             "colorbar": {
              "outlinewidth": 0,
              "ticks": ""
             }
            },
            "type": "scatter"
           }
          ],
          "scatter3d": [
           {
            "line": {
             "colorbar": {
              "outlinewidth": 0,
              "ticks": ""
             }
            },
            "marker": {
             "colorbar": {
              "outlinewidth": 0,
              "ticks": ""
             }
            },
            "type": "scatter3d"
           }
          ],
          "scattercarpet": [
           {
            "marker": {
             "colorbar": {
              "outlinewidth": 0,
              "ticks": ""
             }
            },
            "type": "scattercarpet"
           }
          ],
          "scattergeo": [
           {
            "marker": {
             "colorbar": {
              "outlinewidth": 0,
              "ticks": ""
             }
            },
            "type": "scattergeo"
           }
          ],
          "scattergl": [
           {
            "marker": {
             "colorbar": {
              "outlinewidth": 0,
              "ticks": ""
             }
            },
            "type": "scattergl"
           }
          ],
          "scattermapbox": [
           {
            "marker": {
             "colorbar": {
              "outlinewidth": 0,
              "ticks": ""
             }
            },
            "type": "scattermapbox"
           }
          ],
          "scatterpolar": [
           {
            "marker": {
             "colorbar": {
              "outlinewidth": 0,
              "ticks": ""
             }
            },
            "type": "scatterpolar"
           }
          ],
          "scatterpolargl": [
           {
            "marker": {
             "colorbar": {
              "outlinewidth": 0,
              "ticks": ""
             }
            },
            "type": "scatterpolargl"
           }
          ],
          "scatterternary": [
           {
            "marker": {
             "colorbar": {
              "outlinewidth": 0,
              "ticks": ""
             }
            },
            "type": "scatterternary"
           }
          ],
          "surface": [
           {
            "colorbar": {
             "outlinewidth": 0,
             "ticks": ""
            },
            "colorscale": [
             [
              0,
              "#0d0887"
             ],
             [
              0.1111111111111111,
              "#46039f"
             ],
             [
              0.2222222222222222,
              "#7201a8"
             ],
             [
              0.3333333333333333,
              "#9c179e"
             ],
             [
              0.4444444444444444,
              "#bd3786"
             ],
             [
              0.5555555555555556,
              "#d8576b"
             ],
             [
              0.6666666666666666,
              "#ed7953"
             ],
             [
              0.7777777777777778,
              "#fb9f3a"
             ],
             [
              0.8888888888888888,
              "#fdca26"
             ],
             [
              1,
              "#f0f921"
             ]
            ],
            "type": "surface"
           }
          ],
          "table": [
           {
            "cells": {
             "fill": {
              "color": "#EBF0F8"
             },
             "line": {
              "color": "white"
             }
            },
            "header": {
             "fill": {
              "color": "#C8D4E3"
             },
             "line": {
              "color": "white"
             }
            },
            "type": "table"
           }
          ]
         },
         "layout": {
          "annotationdefaults": {
           "arrowcolor": "#2a3f5f",
           "arrowhead": 0,
           "arrowwidth": 1
          },
          "autotypenumbers": "strict",
          "coloraxis": {
           "colorbar": {
            "outlinewidth": 0,
            "ticks": ""
           }
          },
          "colorscale": {
           "diverging": [
            [
             0,
             "#8e0152"
            ],
            [
             0.1,
             "#c51b7d"
            ],
            [
             0.2,
             "#de77ae"
            ],
            [
             0.3,
             "#f1b6da"
            ],
            [
             0.4,
             "#fde0ef"
            ],
            [
             0.5,
             "#f7f7f7"
            ],
            [
             0.6,
             "#e6f5d0"
            ],
            [
             0.7,
             "#b8e186"
            ],
            [
             0.8,
             "#7fbc41"
            ],
            [
             0.9,
             "#4d9221"
            ],
            [
             1,
             "#276419"
            ]
           ],
           "sequential": [
            [
             0,
             "#0d0887"
            ],
            [
             0.1111111111111111,
             "#46039f"
            ],
            [
             0.2222222222222222,
             "#7201a8"
            ],
            [
             0.3333333333333333,
             "#9c179e"
            ],
            [
             0.4444444444444444,
             "#bd3786"
            ],
            [
             0.5555555555555556,
             "#d8576b"
            ],
            [
             0.6666666666666666,
             "#ed7953"
            ],
            [
             0.7777777777777778,
             "#fb9f3a"
            ],
            [
             0.8888888888888888,
             "#fdca26"
            ],
            [
             1,
             "#f0f921"
            ]
           ],
           "sequentialminus": [
            [
             0,
             "#0d0887"
            ],
            [
             0.1111111111111111,
             "#46039f"
            ],
            [
             0.2222222222222222,
             "#7201a8"
            ],
            [
             0.3333333333333333,
             "#9c179e"
            ],
            [
             0.4444444444444444,
             "#bd3786"
            ],
            [
             0.5555555555555556,
             "#d8576b"
            ],
            [
             0.6666666666666666,
             "#ed7953"
            ],
            [
             0.7777777777777778,
             "#fb9f3a"
            ],
            [
             0.8888888888888888,
             "#fdca26"
            ],
            [
             1,
             "#f0f921"
            ]
           ]
          },
          "colorway": [
           "#636efa",
           "#EF553B",
           "#00cc96",
           "#ab63fa",
           "#FFA15A",
           "#19d3f3",
           "#FF6692",
           "#B6E880",
           "#FF97FF",
           "#FECB52"
          ],
          "font": {
           "color": "#2a3f5f"
          },
          "geo": {
           "bgcolor": "white",
           "lakecolor": "white",
           "landcolor": "white",
           "showlakes": true,
           "showland": true,
           "subunitcolor": "#C8D4E3"
          },
          "hoverlabel": {
           "align": "left"
          },
          "hovermode": "closest",
          "mapbox": {
           "style": "light"
          },
          "paper_bgcolor": "white",
          "plot_bgcolor": "white",
          "polar": {
           "angularaxis": {
            "gridcolor": "#EBF0F8",
            "linecolor": "#EBF0F8",
            "ticks": ""
           },
           "bgcolor": "white",
           "radialaxis": {
            "gridcolor": "#EBF0F8",
            "linecolor": "#EBF0F8",
            "ticks": ""
           }
          },
          "scene": {
           "xaxis": {
            "backgroundcolor": "white",
            "gridcolor": "#DFE8F3",
            "gridwidth": 2,
            "linecolor": "#EBF0F8",
            "showbackground": true,
            "ticks": "",
            "zerolinecolor": "#EBF0F8"
           },
           "yaxis": {
            "backgroundcolor": "white",
            "gridcolor": "#DFE8F3",
            "gridwidth": 2,
            "linecolor": "#EBF0F8",
            "showbackground": true,
            "ticks": "",
            "zerolinecolor": "#EBF0F8"
           },
           "zaxis": {
            "backgroundcolor": "white",
            "gridcolor": "#DFE8F3",
            "gridwidth": 2,
            "linecolor": "#EBF0F8",
            "showbackground": true,
            "ticks": "",
            "zerolinecolor": "#EBF0F8"
           }
          },
          "shapedefaults": {
           "line": {
            "color": "#2a3f5f"
           }
          },
          "ternary": {
           "aaxis": {
            "gridcolor": "#DFE8F3",
            "linecolor": "#A2B1C6",
            "ticks": ""
           },
           "baxis": {
            "gridcolor": "#DFE8F3",
            "linecolor": "#A2B1C6",
            "ticks": ""
           },
           "bgcolor": "white",
           "caxis": {
            "gridcolor": "#DFE8F3",
            "linecolor": "#A2B1C6",
            "ticks": ""
           }
          },
          "title": {
           "x": 0.05
          },
          "xaxis": {
           "automargin": true,
           "gridcolor": "#EBF0F8",
           "linecolor": "#EBF0F8",
           "ticks": "",
           "title": {
            "standoff": 15
           },
           "zerolinecolor": "#EBF0F8",
           "zerolinewidth": 2
          },
          "yaxis": {
           "automargin": true,
           "gridcolor": "#EBF0F8",
           "linecolor": "#EBF0F8",
           "ticks": "",
           "title": {
            "standoff": 15
           },
           "zerolinecolor": "#EBF0F8",
           "zerolinewidth": 2
          }
         }
        },
        "xaxis": {
         "anchor": "y",
         "domain": [
          0,
          0.94
         ],
         "matches": "x2",
         "showticklabels": false,
         "spikedash": "dot",
         "spikemode": "across+marker",
         "spikesnap": "cursor",
         "spikethickness": 2
        },
        "xaxis2": {
         "anchor": "y3",
         "domain": [
          0,
          0.94
         ],
         "spikedash": "dot",
         "spikemode": "across+marker",
         "spikesnap": "cursor",
         "spikethickness": 2
        },
        "yaxis": {
         "anchor": "x",
         "domain": [
          0.32100000000000006,
          1
         ]
        },
        "yaxis2": {
         "anchor": "x",
         "overlaying": "y",
         "side": "right"
        },
        "yaxis3": {
         "anchor": "x2",
         "domain": [
          0,
          0.29100000000000004
         ]
        },
        "yaxis4": {
         "anchor": "x2",
         "overlaying": "y3",
         "side": "right"
        }
       },
       "_py2js_animate": {},
       "_py2js_deleteTraces": {},
       "_py2js_moveTraces": {},
       "_py2js_relayout": {},
       "_py2js_removeLayoutProps": {},
       "_py2js_removeTraceProps": {},
       "_view_count": 1
      }
     },
     "f728456d59814ad69bb6094d02704277": {
      "model_module": "@jupyter-widgets/output",
      "model_module_version": "1.0.0",
      "model_name": "OutputModel",
      "state": {
       "layout": "IPY_MODEL_b78eff5a04ed4fc3847b3234bec7cde2"
      }
     }
    },
    "version_major": 2,
    "version_minor": 0
   }
  }
 },
 "nbformat": 4,
 "nbformat_minor": 5
}

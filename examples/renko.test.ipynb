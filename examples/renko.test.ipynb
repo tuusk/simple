{
 "cells": [
  {
   "cell_type": "code",
   "execution_count": 1,
   "id": "08bafebb",
   "metadata": {
    "collapsed": false,
    "execution": {
     "iopub.execute_input": "2023-06-14T12:14:17.675208Z",
     "iopub.status.busy": "2023-06-14T12:14:17.674952Z",
     "iopub.status.idle": "2023-06-14T12:14:18.719366Z",
     "shell.execute_reply": "2023-06-14T12:14:18.718255Z",
     "shell.execute_reply.started": "2023-06-14T12:14:17.675173Z"
    },
    "jupyter": {
     "outputs_hidden": false
    },
    "pycharm": {
     "name": "#%%\n"
    }
   },
   "outputs": [],
   "source": [
    "import numpy as np\n",
    "import pandas as pd\n",
    "from simple.ohlc import renko, midPrice\n",
    "from simple.chart import chartFigure\n",
    "from simple.funcs import symlog"
   ]
  },
  {
   "cell_type": "code",
   "execution_count": 2,
   "id": "2a705a36",
   "metadata": {
    "collapsed": false,
    "execution": {
     "iopub.execute_input": "2023-06-14T12:14:18.721598Z",
     "iopub.status.busy": "2023-06-14T12:14:18.721264Z",
     "iopub.status.idle": "2023-06-14T12:14:18.868380Z",
     "shell.execute_reply": "2023-06-14T12:14:18.867715Z",
     "shell.execute_reply.started": "2023-06-14T12:14:18.721573Z"
    },
    "jupyter": {
     "outputs_hidden": false
    },
    "pycharm": {
     "name": "#%%\n"
    }
   },
   "outputs": [
    {
     "data": {
      "text/plain": [
       "907307"
      ]
     },
     "execution_count": 2,
     "metadata": {},
     "output_type": "execute_result"
    }
   ],
   "source": [
    "T = np.load('data/ETHUSDT.2022-05-08.tick.npz')['ETHUSDT'].view(np.recarray)\n",
    "len(T)"
   ]
  },
  {
   "cell_type": "code",
   "execution_count": 3,
   "id": "9da7ef36",
   "metadata": {
    "collapsed": false,
    "execution": {
     "iopub.execute_input": "2023-06-14T12:14:18.869601Z",
     "iopub.status.busy": "2023-06-14T12:14:18.869358Z",
     "iopub.status.idle": "2023-06-14T12:14:18.962035Z",
     "shell.execute_reply": "2023-06-14T12:14:18.961368Z",
     "shell.execute_reply.started": "2023-06-14T12:14:18.869576Z"
    },
    "jupyter": {
     "outputs_hidden": false
    },
    "pycharm": {
     "name": "#%%\n"
    },
    "tags": []
   },
   "outputs": [
    {
     "data": {
      "text/plain": [
       "rec.array([('2022-05-08T00:01:00.335000', 2636.,  6.),\n",
       "           ('2022-05-08T00:01:00.335000', 2636.,  4.),\n",
       "           ('2022-05-08T00:01:00.668000', 2636., 96.),\n",
       "           ('2022-05-08T00:01:00.668000', 2636.,  2.),\n",
       "           ('2022-05-08T00:01:00.668000', 2636.,  2.)],\n",
       "          dtype=[('DateTime', '<M8[us]'), ('Price', '<f8'), ('Size', '<f8')])"
      ]
     },
     "execution_count": 3,
     "metadata": {},
     "output_type": "execute_result"
    }
   ],
   "source": [
    "Buy = T[T.Size > 0]\n",
    "Sell = T[T.Size < 0]\n",
    "Buy[:5]"
   ]
  },
  {
   "cell_type": "code",
   "execution_count": 4,
   "id": "f4a2bebd",
   "metadata": {
    "collapsed": false,
    "execution": {
     "iopub.execute_input": "2023-06-14T12:14:18.963365Z",
     "iopub.status.busy": "2023-06-14T12:14:18.963048Z",
     "iopub.status.idle": "2023-06-14T12:14:19.051396Z",
     "shell.execute_reply": "2023-06-14T12:14:19.050659Z",
     "shell.execute_reply.started": "2023-06-14T12:14:18.963337Z"
    },
    "jupyter": {
     "outputs_hidden": false
    },
    "pycharm": {
     "name": "#%%\n"
    },
    "tags": []
   },
   "outputs": [
    {
     "data": {
      "text/plain": [
       "rec.array([('2022-05-08T00:01:00.007000', 2636., 2635.99),\n",
       "           ('2022-05-08T00:01:00.043000', 2636., 2635.99),\n",
       "           ('2022-05-08T00:01:00.079000', 2636., 2635.99),\n",
       "           ('2022-05-08T00:01:00.117000', 2636., 2635.99),\n",
       "           ('2022-05-08T00:01:00.149000', 2636., 2635.99)],\n",
       "          dtype={'names': ['DateTime', 'Ask', 'Bid'], 'formats': ['<M8[us]', '<f4', '<f4'], 'offsets': [0, 8, 16], 'itemsize': 24})"
      ]
     },
     "execution_count": 4,
     "metadata": {},
     "output_type": "execute_result"
    }
   ],
   "source": [
    "S = np.load('data/ETHUSDT.2022-05-08.bidask.npz')['ETHUSDT'].view(np.recarray)\n",
    "S[:5]"
   ]
  },
  {
   "cell_type": "code",
   "execution_count": 5,
   "id": "c253f893",
   "metadata": {
    "collapsed": false,
    "execution": {
     "iopub.execute_input": "2023-06-14T12:14:19.052645Z",
     "iopub.status.busy": "2023-06-14T12:14:19.052347Z",
     "iopub.status.idle": "2023-06-14T12:14:19.057364Z",
     "shell.execute_reply": "2023-06-14T12:14:19.056688Z",
     "shell.execute_reply.started": "2023-06-14T12:14:19.052620Z"
    },
    "jupyter": {
     "outputs_hidden": false
    },
    "pycharm": {
     "name": "#%%\n"
    },
    "tags": []
   },
   "outputs": [
    {
     "data": {
      "text/plain": [
       "(907307, 600964)"
      ]
     },
     "execution_count": 5,
     "metadata": {},
     "output_type": "execute_result"
    }
   ],
   "source": [
    "len(T), len(S)"
   ]
  },
  {
   "cell_type": "code",
   "execution_count": 7,
   "id": "143d49a1",
   "metadata": {
    "collapsed": false,
    "execution": {
     "iopub.execute_input": "2023-06-14T12:14:48.778456Z",
     "iopub.status.busy": "2023-06-14T12:14:48.777633Z",
     "iopub.status.idle": "2023-06-14T12:14:50.706126Z",
     "shell.execute_reply": "2023-06-14T12:14:50.705159Z",
     "shell.execute_reply.started": "2023-06-14T12:14:48.778365Z"
    },
    "jupyter": {
     "outputs_hidden": false
    },
    "pycharm": {
     "name": "#%%\n"
    },
    "tags": []
   },
   "outputs": [
    {
     "data": {
      "application/vnd.jupyter.widget-view+json": {
       "model_id": "06e59f32392c4c71a3df99cf7f08587d",
       "version_major": 2,
       "version_minor": 0
      },
      "text/plain": [
       "FigureWidgetResampler({\n",
       "    'data': [{'line': {'color': 'gray'},\n",
       "              'name': '<b style=\"color:sandybrown\">[R]</b> Tick <i style=\"color:#fc9944\">~22s</i>',\n",
       "              'opacity': 0.4,\n",
       "              'type': 'scattergl',\n",
       "              'uid': '4636d679-bbee-4028-8a3b-7b86928872d8',\n",
       "              'x': array([datetime.datetime(2022, 5, 8, 0, 1, 0, 335000),\n",
       "                          datetime.datetime(2022, 5, 8, 0, 1, 5, 755000),\n",
       "                          datetime.datetime(2022, 5, 8, 0, 1, 31, 509000), ...,\n",
       "                          datetime.datetime(2022, 5, 8, 5, 58, 53, 508000),\n",
       "                          datetime.datetime(2022, 5, 8, 5, 59, 13, 945000),\n",
       "                          datetime.datetime(2022, 5, 8, 5, 59, 59, 909999)], dtype=object),\n",
       "              'y': array([2636.  , 2635.6 , 2639.29, ..., 2537.56, 2536.07, 2537.16])},\n",
       "             {'marker': {'color': 'red',\n",
       "                         'size': array([4.58351894, 5.91265489, 1.69314718, ..., 6.22035583, 7.3403593 ,\n",
       "                                        1.69314718])},\n",
       "              'mode': 'markers',\n",
       "              'name': '<b style=\"color:sandybrown\">[R]</b> Sell <i style=\"color:#fc9944\">~22s</i>',\n",
       "              'type': 'scattergl',\n",
       "              'uid': 'b51789d1-f8ef-42f8-a883-805d02728644',\n",
       "              'x': array([datetime.datetime(2022, 5, 8, 0, 1, 0, 865000),\n",
       "                          datetime.datetime(2022, 5, 8, 0, 1, 31, 602999),\n",
       "                          datetime.datetime(2022, 5, 8, 0, 1, 36, 945999), ...,\n",
       "                          datetime.datetime(2022, 5, 8, 5, 58, 41, 166000),\n",
       "                          datetime.datetime(2022, 5, 8, 5, 59, 8, 347000),\n",
       "                          datetime.datetime(2022, 5, 8, 5, 59, 56, 864999)], dtype=object),\n",
       "              'y': array([2636.21, 2639.28, 2637.89, ..., 2534.16, 2537.85, 2536.98])},\n",
       "             {'marker': {'color': 'green',\n",
       "                         'size': array([2.79175947, 2.38629436, 5.56434819, ..., 6.34710753, 1.69314718,\n",
       "                                        1.69314718])},\n",
       "              'mode': 'markers',\n",
       "              'name': '<b style=\"color:sandybrown\">[R]</b> Buy <i style=\"color:#fc9944\">~22s</i>',\n",
       "              'type': 'scattergl',\n",
       "              'uid': 'f57bd244-0d77-4401-b9cb-e9a3e3bea7b8',\n",
       "              'x': array([datetime.datetime(2022, 5, 8, 0, 1, 0, 335000),\n",
       "                          datetime.datetime(2022, 5, 8, 0, 1, 5, 755000),\n",
       "                          datetime.datetime(2022, 5, 8, 0, 1, 15, 594000), ...,\n",
       "                          datetime.datetime(2022, 5, 8, 5, 58, 53, 508000),\n",
       "                          datetime.datetime(2022, 5, 8, 5, 59, 13, 856999),\n",
       "                          datetime.datetime(2022, 5, 8, 5, 59, 59, 909999)], dtype=object),\n",
       "              'y': array([2636.  , 2635.6 , 2637.69, ..., 2537.56, 2536.08, 2537.16])}],\n",
       "    'layout': {'autosize': True,\n",
       "               'height': 600,\n",
       "               'legend': {'orientation': 'h', 'x': 0.1, 'y': 1},\n",
       "               'margin': {'b': 10, 'l': 45, 'pad': 3, 'r': 15, 't': 30},\n",
       "               'template': '...',\n",
       "               'xaxis': {'anchor': 'y', 'domain': [0.0, 0.94], 'rangeslider': {'visible': False}},\n",
       "               'yaxis': {'anchor': 'x', 'domain': [0.0, 1.0]},\n",
       "               'yaxis2': {'anchor': 'x', 'overlaying': 'y', 'side': 'right'}}\n",
       "})"
      ]
     },
     "execution_count": 7,
     "metadata": {},
     "output_type": "execute_result"
    }
   ],
   "source": [
    "# indexed chart\n",
    "fig = chartFigure(\n",
    "    Tick=dict(y=T.Price, x=T.DateTime, color='gray', opacity=0.4),\n",
    "    Sell=dict(y=Sell.Price, x=Sell.DateTime, color='red', mode='markers', size=-symlog(Sell.Size)),\n",
    "    Buy=dict(y=Buy.Price, x=Buy.DateTime, color='green', mode='markers', size=symlog(Buy.Size))\n",
    ")\n",
    "fig"
   ]
  },
  {
   "cell_type": "code",
   "execution_count": null,
   "id": "4b1d7586-76e4-446b-a754-dc485a652032",
   "metadata": {
    "execution": {
     "iopub.status.busy": "2023-06-14T12:14:19.937429Z",
     "iopub.status.idle": "2023-06-14T12:14:19.937753Z",
     "shell.execute_reply": "2023-06-14T12:14:19.937607Z",
     "shell.execute_reply.started": "2023-06-14T12:14:19.937590Z"
    },
    "tags": []
   },
   "outputs": [],
   "source": [
    "C = renko(T, 20)\n",
    "C[:10]"
   ]
  },
  {
   "cell_type": "code",
   "execution_count": null,
   "id": "7e5a7f8c",
   "metadata": {
    "collapsed": false,
    "execution": {
     "iopub.status.busy": "2023-06-14T12:14:19.938875Z",
     "iopub.status.idle": "2023-06-14T12:14:19.939452Z",
     "shell.execute_reply": "2023-06-14T12:14:19.939295Z",
     "shell.execute_reply.started": "2023-06-14T12:14:19.939276Z"
    },
    "jupyter": {
     "outputs_hidden": false
    },
    "pycharm": {
     "name": "#%%\n"
    },
    "tags": []
   },
   "outputs": [],
   "source": [
    "fig.layout.shapes = [{\n",
    "     'fillcolor': 'green' if c[3] > c[2] else 'red',\n",
    "     'line': {'color': 'black', 'width': 1},\n",
    "     'opacity': 0.2,\n",
    "     'type': 'rect',\n",
    "     'x0': c[0],\n",
    "     'x1': c[1],\n",
    "     'y0': c[2],\n",
    "     'y1': c[3]\n",
    " } for c in C]"
   ]
  },
  {
   "cell_type": "code",
   "execution_count": null,
   "id": "939cc1a6-9024-495f-977f-6ad9c6de20d0",
   "metadata": {},
   "outputs": [],
   "source": []
  }
 ],
 "metadata": {
  "kernelspec": {
   "display_name": "Python 3 (ipykernel)",
   "language": "python",
   "name": "python3"
  },
  "language_info": {
   "codemirror_mode": {
    "name": "ipython",
    "version": 3
   },
   "file_extension": ".py",
   "mimetype": "text/x-python",
   "name": "python",
   "nbconvert_exporter": "python",
   "pygments_lexer": "ipython3",
   "version": "3.9.16"
  }
 },
 "nbformat": 4,
 "nbformat_minor": 5
}

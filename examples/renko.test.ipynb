{
 "cells": [
  {
   "cell_type": "code",
   "execution_count": 13,
   "id": "10bf60bb-6426-49b1-8150-868bd4a1e606",
   "metadata": {
    "execution": {
     "iopub.execute_input": "2022-06-03T17:50:39.773181Z",
     "iopub.status.busy": "2022-06-03T17:50:39.772181Z",
     "iopub.status.idle": "2022-06-03T17:50:39.778183Z",
     "shell.execute_reply": "2022-06-03T17:50:39.778183Z",
     "shell.execute_reply.started": "2022-06-03T17:50:39.773181Z"
    },
    "pycharm": {
     "name": "#%%\n"
    },
    "tags": []
   },
   "outputs": [],
   "source": [
    "import numpy as np\n",
    "import pandas as pd\n",
    "from simple.renko import Renko\n",
    "from simple.plotly import chartFigure\n",
    "from simple.funcs import symlog"
   ]
  },
  {
   "cell_type": "code",
   "execution_count": 41,
   "id": "a32e64fd-cf7c-4e79-989b-fd2bff813cab",
   "metadata": {
    "execution": {
     "iopub.execute_input": "2022-06-03T18:10:18.903273Z",
     "iopub.status.busy": "2022-06-03T18:10:18.903273Z",
     "iopub.status.idle": "2022-06-03T18:10:18.918277Z",
     "shell.execute_reply": "2022-06-03T18:10:18.918277Z",
     "shell.execute_reply.started": "2022-06-03T18:10:18.903273Z"
    },
    "tags": []
   },
   "outputs": [
    {
     "data": {
      "text/plain": [
       "rec.array([('2022-05-08T00:00:00.048000', 2634.82,   31.), ('2022-05-08T00:00:00.090000', 2634.82,   10.), ('2022-05-08T00:00:06.184000', 2634.81,  -59.),\n",
       "           ('2022-05-08T00:00:06.585000', 2634.82,   16.), ('2022-05-08T00:00:07.116000', 2634.82,   11.), ..., ('2022-05-08T00:59:59.571000', 2617.99,   -2.),\n",
       "           ('2022-05-08T00:59:59.584000', 2617.99,   -2.), ('2022-05-08T00:59:59.596000', 2617.99,   -2.), ('2022-05-08T00:59:59.706000', 2618.  ,   32.),\n",
       "           ('2022-05-08T00:59:59.826000', 2618.  , 1912.)],\n",
       "          dtype={'names':['DateTimeA','PriceA','VolumeA'], 'formats':['<M8[us]','<f8','<f8'], 'offsets':[0,16,24], 'itemsize':40})"
      ]
     },
     "execution_count": 41,
     "metadata": {},
     "output_type": "execute_result"
    }
   ],
   "source": [
    "T = np.load('data/ETHUSDT.2022-05-08.tick.npz')['ETHUSDT'].view(np.recarray)\n",
    "T"
   ]
  },
  {
   "cell_type": "code",
   "execution_count": 42,
   "id": "7a34976d-0d79-4c78-99eb-5fb7db6c9c9d",
   "metadata": {
    "execution": {
     "iopub.execute_input": "2022-06-03T18:10:19.382380Z",
     "iopub.status.busy": "2022-06-03T18:10:19.382380Z",
     "iopub.status.idle": "2022-06-03T18:10:19.390383Z",
     "shell.execute_reply": "2022-06-03T18:10:19.390383Z",
     "shell.execute_reply.started": "2022-06-03T18:10:19.382380Z"
    },
    "tags": []
   },
   "outputs": [
    {
     "data": {
      "text/plain": [
       "rec.array([('2022-05-08T00:00:00.048000', 2634.82,   31.), ('2022-05-08T00:00:00.090000', 2634.82,   10.), ('2022-05-08T00:00:06.585000', 2634.82,   16.),\n",
       "           ('2022-05-08T00:00:07.116000', 2634.82,   11.), ('2022-05-08T00:00:12.079000', 2634.82,   41.), ..., ('2022-05-08T00:59:58.970999', 2618.02,   40.),\n",
       "           ('2022-05-08T00:59:58.977000', 2618.02,  250.), ('2022-05-08T00:59:59.488000', 2618.02,    9.), ('2022-05-08T00:59:59.706000', 2618.  ,   32.),\n",
       "           ('2022-05-08T00:59:59.826000', 2618.  , 1912.)],\n",
       "          dtype={'names':['DateTimeA','PriceA','VolumeA'], 'formats':['<M8[us]','<f8','<f8'], 'offsets':[0,16,24], 'itemsize':40})"
      ]
     },
     "execution_count": 42,
     "metadata": {},
     "output_type": "execute_result"
    }
   ],
   "source": [
    "Buy = T[T.VolumeA > 0]\n",
    "Sell = T[T.VolumeA < 0]\n",
    "Buy"
   ]
  },
  {
   "cell_type": "code",
   "execution_count": 43,
   "id": "e23714b1-dfa0-4be3-915c-bf87b9444f11",
   "metadata": {
    "execution": {
     "iopub.execute_input": "2022-06-03T18:13:15.680097Z",
     "iopub.status.busy": "2022-06-03T18:13:15.680097Z",
     "iopub.status.idle": "2022-06-03T18:13:15.694101Z",
     "shell.execute_reply": "2022-06-03T18:13:15.694101Z",
     "shell.execute_reply.started": "2022-06-03T18:13:15.680097Z"
    },
    "tags": []
   },
   "outputs": [
    {
     "data": {
      "text/plain": [
       "rec.array([('2022-05-08T00:00:00.055000', 2634.82, 2634.81), ('2022-05-08T00:00:00.088000', 2634.82, 2634.81),\n",
       "           ('2022-05-08T00:00:00.119999', 2634.82, 2634.81), ('2022-05-08T00:00:01.243000', 2634.82, 2634.81),\n",
       "           ('2022-05-08T00:00:03.632000', 2634.82, 2634.81), ..., ('2022-05-08T00:59:59.858000', 2618.  , 2617.97),\n",
       "           ('2022-05-08T00:59:59.891000', 2618.  , 2617.97), ('2022-05-08T00:59:59.923000', 2618.  , 2617.97),\n",
       "           ('2022-05-08T00:59:59.955000', 2618.  , 2617.97), ('2022-05-08T00:59:59.989000', 2618.  , 2617.97)],\n",
       "          dtype={'names':['DT','A','B'], 'formats':['<M8[us]','<f4','<f4'], 'offsets':[0,8,16], 'itemsize':24})"
      ]
     },
     "execution_count": 43,
     "metadata": {},
     "output_type": "execute_result"
    }
   ],
   "source": [
    "S = np.load('data/ETHUSDT.2022-05-08.bidask.npz')['ETHUSDT'].view(np.recarray)\n",
    "S"
   ]
  },
  {
   "cell_type": "code",
   "execution_count": 44,
   "id": "44c579d5-5ee1-454f-b835-8eb2d983078d",
   "metadata": {
    "execution": {
     "iopub.execute_input": "2022-06-03T18:13:20.390274Z",
     "iopub.status.busy": "2022-06-03T18:13:20.389274Z",
     "iopub.status.idle": "2022-06-03T18:13:20.393275Z",
     "shell.execute_reply": "2022-06-03T18:13:20.393275Z",
     "shell.execute_reply.started": "2022-06-03T18:13:20.390274Z"
    },
    "tags": []
   },
   "outputs": [
    {
     "data": {
      "text/plain": [
       "(98555, 101605)"
      ]
     },
     "execution_count": 44,
     "metadata": {},
     "output_type": "execute_result"
    }
   ],
   "source": [
    "len(T), len(S)"
   ]
  },
  {
   "cell_type": "code",
   "execution_count": 45,
   "id": "287315a7-ff15-4d2d-aded-90e31979726e",
   "metadata": {
    "execution": {
     "iopub.execute_input": "2022-06-03T18:13:20.849378Z",
     "iopub.status.busy": "2022-06-03T18:13:20.849378Z",
     "iopub.status.idle": "2022-06-03T18:13:21.169449Z",
     "shell.execute_reply": "2022-06-03T18:13:21.169449Z",
     "shell.execute_reply.started": "2022-06-03T18:13:20.849378Z"
    },
    "tags": []
   },
   "outputs": [
    {
     "data": {
      "application/vnd.jupyter.widget-view+json": {
       "model_id": "96bef873571746b090a7ead610183f8c",
       "version_major": 2,
       "version_minor": 0
      },
      "text/plain": [
       "FigureWidgetResampler({\n",
       "    'data': [{'marker': {'color': 'red',\n",
       "                         'size': array([8.077…"
      ]
     },
     "metadata": {},
     "output_type": "display_data"
    }
   ],
   "source": [
    "chartFigure(Sell=dict(x=Sell.DateTimeA, y=Sell.PriceA, color='red', mode='markers', size=-symlog(Sell.VolumeA)+3),\n",
    "            Buy=dict(x=Buy.DateTimeA, y=Buy.PriceA, color='green', mode='markers', size=symlog(Buy.VolumeA)+3),\n",
    "            Ask=dict(x=S.DT, y=S.A, color='red', opacity=0.2, shape='hv', mode='lines'),\n",
    "            Bid=dict(x=S.DT, y=S.B, color='green', opacity=0.2, shape='hv', mode='lines')\n",
    ")"
   ]
  },
  {
   "cell_type": "code",
   "execution_count": 50,
   "id": "a63cd402-27a8-4c0f-a05b-1debee6b515e",
   "metadata": {
    "execution": {
     "iopub.execute_input": "2022-06-03T18:14:10.575678Z",
     "iopub.status.busy": "2022-06-03T18:14:10.574678Z",
     "iopub.status.idle": "2022-06-03T18:14:10.672700Z",
     "shell.execute_reply": "2022-06-03T18:14:10.672700Z",
     "shell.execute_reply.started": "2022-06-03T18:14:10.575678Z"
    },
    "pycharm": {
     "name": "#%%\n"
    },
    "tags": []
   },
   "outputs": [
    {
     "data": {
      "text/plain": [
       "0      2634.82\n",
       "1      2634.32\n",
       "2      2635.32\n",
       "3      2636.32\n",
       "4      2637.32\n",
       "        ...   \n",
       "100    2619.32\n",
       "101    2618.32\n",
       "102    2617.32\n",
       "103    2616.32\n",
       "104    2617.32\n",
       "Name: mid, Length: 105, dtype: float64"
      ]
     },
     "execution_count": 50,
     "metadata": {},
     "output_type": "execute_result"
    }
   ],
   "source": [
    "step = 1\n",
    "rnk = Renko(step, T.PriceA)\n",
    "rnk.create_renko()\n",
    "\n",
    "X = pd.DataFrame(rnk.bricks)\n",
    "X['mid'] = (X.close + X.open) / 2\n",
    "renko = X.mid\n",
    "renko"
   ]
  },
  {
   "cell_type": "code",
   "execution_count": 51,
   "id": "30b92302-a7a4-4bb4-a54e-d7794fcc1778",
   "metadata": {
    "execution": {
     "iopub.execute_input": "2022-06-03T18:24:41.648626Z",
     "iopub.status.busy": "2022-06-03T18:24:41.648626Z",
     "iopub.status.idle": "2022-06-03T18:24:41.663647Z",
     "shell.execute_reply": "2022-06-03T18:24:41.663647Z",
     "shell.execute_reply.started": "2022-06-03T18:24:41.648626Z"
    },
    "pycharm": {
     "name": "#%%\n"
    }
   },
   "outputs": [
    {
     "data": {
      "text/html": [
       "<div>\n",
       "<style scoped>\n",
       "    .dataframe tbody tr th:only-of-type {\n",
       "        vertical-align: middle;\n",
       "    }\n",
       "\n",
       "    .dataframe tbody tr th {\n",
       "        vertical-align: top;\n",
       "    }\n",
       "\n",
       "    .dataframe thead th {\n",
       "        text-align: right;\n",
       "    }\n",
       "</style>\n",
       "<table border=\"1\" class=\"dataframe\">\n",
       "  <thead>\n",
       "    <tr style=\"text-align: right;\">\n",
       "      <th></th>\n",
       "      <th>type</th>\n",
       "      <th>open</th>\n",
       "      <th>close</th>\n",
       "      <th>low</th>\n",
       "      <th>high</th>\n",
       "      <th>mid</th>\n",
       "    </tr>\n",
       "  </thead>\n",
       "  <tbody>\n",
       "    <tr>\n",
       "      <th>0</th>\n",
       "      <td>first</td>\n",
       "      <td>2634.82</td>\n",
       "      <td>2634.82</td>\n",
       "      <td>NaN</td>\n",
       "      <td>NaN</td>\n",
       "      <td>2634.82</td>\n",
       "    </tr>\n",
       "    <tr>\n",
       "      <th>1</th>\n",
       "      <td>down</td>\n",
       "      <td>2634.82</td>\n",
       "      <td>2633.82</td>\n",
       "      <td>NaN</td>\n",
       "      <td>NaN</td>\n",
       "      <td>2634.32</td>\n",
       "    </tr>\n",
       "    <tr>\n",
       "      <th>2</th>\n",
       "      <td>up</td>\n",
       "      <td>2634.82</td>\n",
       "      <td>2635.82</td>\n",
       "      <td>2633.30</td>\n",
       "      <td>NaN</td>\n",
       "      <td>2635.32</td>\n",
       "    </tr>\n",
       "    <tr>\n",
       "      <th>3</th>\n",
       "      <td>up</td>\n",
       "      <td>2635.82</td>\n",
       "      <td>2636.82</td>\n",
       "      <td>2634.54</td>\n",
       "      <td>NaN</td>\n",
       "      <td>2636.32</td>\n",
       "    </tr>\n",
       "    <tr>\n",
       "      <th>4</th>\n",
       "      <td>up</td>\n",
       "      <td>2636.82</td>\n",
       "      <td>2637.82</td>\n",
       "      <td>NaN</td>\n",
       "      <td>NaN</td>\n",
       "      <td>2637.32</td>\n",
       "    </tr>\n",
       "    <tr>\n",
       "      <th>...</th>\n",
       "      <td>...</td>\n",
       "      <td>...</td>\n",
       "      <td>...</td>\n",
       "      <td>...</td>\n",
       "      <td>...</td>\n",
       "      <td>...</td>\n",
       "    </tr>\n",
       "    <tr>\n",
       "      <th>100</th>\n",
       "      <td>down</td>\n",
       "      <td>2619.82</td>\n",
       "      <td>2618.82</td>\n",
       "      <td>NaN</td>\n",
       "      <td>2621.04</td>\n",
       "      <td>2619.32</td>\n",
       "    </tr>\n",
       "    <tr>\n",
       "      <th>101</th>\n",
       "      <td>down</td>\n",
       "      <td>2618.82</td>\n",
       "      <td>2617.82</td>\n",
       "      <td>NaN</td>\n",
       "      <td>2619.85</td>\n",
       "      <td>2618.32</td>\n",
       "    </tr>\n",
       "    <tr>\n",
       "      <th>102</th>\n",
       "      <td>down</td>\n",
       "      <td>2617.82</td>\n",
       "      <td>2616.82</td>\n",
       "      <td>NaN</td>\n",
       "      <td>2619.68</td>\n",
       "      <td>2617.32</td>\n",
       "    </tr>\n",
       "    <tr>\n",
       "      <th>103</th>\n",
       "      <td>down</td>\n",
       "      <td>2616.82</td>\n",
       "      <td>2615.82</td>\n",
       "      <td>NaN</td>\n",
       "      <td>2618.10</td>\n",
       "      <td>2616.32</td>\n",
       "    </tr>\n",
       "    <tr>\n",
       "      <th>104</th>\n",
       "      <td>up</td>\n",
       "      <td>2616.82</td>\n",
       "      <td>2617.82</td>\n",
       "      <td>2615.00</td>\n",
       "      <td>NaN</td>\n",
       "      <td>2617.32</td>\n",
       "    </tr>\n",
       "  </tbody>\n",
       "</table>\n",
       "<p>105 rows × 6 columns</p>\n",
       "</div>"
      ],
      "text/plain": [
       "      type     open    close      low     high      mid\n",
       "0    first  2634.82  2634.82      NaN      NaN  2634.82\n",
       "1     down  2634.82  2633.82      NaN      NaN  2634.32\n",
       "2       up  2634.82  2635.82  2633.30      NaN  2635.32\n",
       "3       up  2635.82  2636.82  2634.54      NaN  2636.32\n",
       "4       up  2636.82  2637.82      NaN      NaN  2637.32\n",
       "..     ...      ...      ...      ...      ...      ...\n",
       "100   down  2619.82  2618.82      NaN  2621.04  2619.32\n",
       "101   down  2618.82  2617.82      NaN  2619.85  2618.32\n",
       "102   down  2617.82  2616.82      NaN  2619.68  2617.32\n",
       "103   down  2616.82  2615.82      NaN  2618.10  2616.32\n",
       "104     up  2616.82  2617.82  2615.00      NaN  2617.32\n",
       "\n",
       "[105 rows x 6 columns]"
      ]
     },
     "execution_count": 51,
     "metadata": {},
     "output_type": "execute_result"
    }
   ],
   "source": [
    "X"
   ]
  },
  {
   "cell_type": "code",
   "execution_count": null,
   "id": "4ef035f1-8e47-44fa-8a08-31739f6e2fce",
   "metadata": {},
   "outputs": [],
   "source": []
  }
 ],
 "metadata": {
  "kernelspec": {
   "display_name": "Python 3 (ipykernel)",
   "language": "python",
   "name": "python3"
  },
  "language_info": {
   "codemirror_mode": {
    "name": "ipython",
    "version": 3
   },
   "file_extension": ".py",
   "mimetype": "text/x-python",
   "name": "python",
   "nbconvert_exporter": "python",
   "pygments_lexer": "ipython3",
   "version": "3.9.12"
  }
 },
 "nbformat": 4,
 "nbformat_minor": 5
}

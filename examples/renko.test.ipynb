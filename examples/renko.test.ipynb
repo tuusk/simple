{
 "cells": [
  {
   "cell_type": "code",
   "execution_count": 1,
   "id": "10bf60bb-6426-49b1-8150-868bd4a1e606",
   "metadata": {
    "execution": {
     "iopub.execute_input": "2022-06-02T20:19:44.983818Z",
     "iopub.status.busy": "2022-06-02T20:19:44.983818Z",
     "iopub.status.idle": "2022-06-02T20:19:45.386922Z",
     "shell.execute_reply": "2022-06-02T20:19:45.386922Z",
     "shell.execute_reply.started": "2022-06-02T20:19:44.983818Z"
    },
    "tags": [],
    "pycharm": {
     "name": "#%%\n"
    }
   },
   "outputs": [
    {
     "ename": "ModuleNotFoundError",
     "evalue": "No module named 'renko'",
     "output_type": "error",
     "traceback": [
      "\u001B[1;31m---------------------------------------------------------------------------\u001B[0m",
      "\u001B[1;31mModuleNotFoundError\u001B[0m                       Traceback (most recent call last)",
      "Input \u001B[1;32mIn [1]\u001B[0m, in \u001B[0;36m<cell line: 1>\u001B[1;34m()\u001B[0m\n\u001B[1;32m----> 1\u001B[0m \u001B[38;5;28;01mfrom\u001B[39;00m \u001B[38;5;21;01mrenko\u001B[39;00m \u001B[38;5;28;01mimport\u001B[39;00m Renko\n\u001B[0;32m      2\u001B[0m \u001B[38;5;28;01mimport\u001B[39;00m \u001B[38;5;21;01mpandas\u001B[39;00m \u001B[38;5;28;01mas\u001B[39;00m \u001B[38;5;21;01mpd\u001B[39;00m\n\u001B[0;32m      3\u001B[0m \u001B[38;5;28;01mimport\u001B[39;00m \u001B[38;5;21;01mpretty\u001B[39;00m\n",
      "\u001B[1;31mModuleNotFoundError\u001B[0m: No module named 'renko'"
     ]
    }
   ],
   "source": [
    "from renko import Renko\n",
    "import pandas as pd\n",
    "import pretty\n",
    "%config InlineBackend.figure_format = 'retina'"
   ]
  },
  {
   "cell_type": "code",
   "execution_count": null,
   "id": "7caf5e86-9bb0-4283-b680-44855a97ac0f",
   "metadata": {
    "execution": {
     "iopub.status.busy": "2022-06-02T20:19:45.387922Z",
     "iopub.status.idle": "2022-06-02T20:19:45.387922Z",
     "shell.execute_reply": "2022-06-02T20:19:45.387922Z",
     "shell.execute_reply.started": "2022-06-02T20:19:45.387922Z"
    },
    "tags": [],
    "pycharm": {
     "name": "#%%\n"
    }
   },
   "outputs": [],
   "source": [
    "t = pd.read_hdf('t.hdf')\n",
    "t"
   ]
  },
  {
   "cell_type": "code",
   "execution_count": null,
   "id": "a63cd402-27a8-4c0f-a05b-1debee6b515e",
   "metadata": {
    "execution": {
     "iopub.status.busy": "2022-06-02T20:19:45.388923Z",
     "iopub.status.idle": "2022-06-02T20:19:45.388923Z",
     "shell.execute_reply": "2022-06-02T20:19:45.388923Z",
     "shell.execute_reply.started": "2022-06-02T20:19:45.388923Z"
    },
    "tags": [],
    "pycharm": {
     "name": "#%%\n"
    }
   },
   "outputs": [],
   "source": [
    "# Create new renko instance. Give brick size and list of close prices as parameters\n",
    "rnk = Renko(0.1, t.Price)\n",
    "rnk.create_renko()\n",
    "\n",
    "rnk.bricks[:10]"
   ]
  },
  {
   "cell_type": "code",
   "execution_count": null,
   "id": "1a8ee3a7-6930-4760-ba9c-dec2e4247656",
   "metadata": {
    "execution": {
     "iopub.status.busy": "2022-06-02T20:19:45.389923Z",
     "iopub.status.idle": "2022-06-02T20:19:45.389923Z",
     "shell.execute_reply": "2022-06-02T20:19:45.389923Z",
     "shell.execute_reply.started": "2022-06-02T20:19:45.389923Z"
    },
    "tags": [],
    "pycharm": {
     "name": "#%%\n"
    }
   },
   "outputs": [],
   "source": [
    "X = pd.DataFrame(rnk.bricks)\n",
    "X['color'] = np.where(X.type == 'up', 'green', 'red')\n",
    "X['mid'] = (X.close + X.open) / 2\n",
    "X.head()"
   ]
  },
  {
   "cell_type": "code",
   "execution_count": null,
   "id": "e42b7bd9-7596-4938-9682-1b6e7b2b42ea",
   "metadata": {
    "execution": {
     "iopub.status.busy": "2022-06-02T20:19:45.390923Z",
     "iopub.status.idle": "2022-06-02T20:19:45.390923Z",
     "shell.execute_reply": "2022-06-02T20:19:45.390923Z",
     "shell.execute_reply.started": "2022-06-02T20:19:45.390923Z"
    },
    "tags": [],
    "pycharm": {
     "name": "#%%\n"
    }
   },
   "outputs": [],
   "source": [
    "fig, ax = rnk.draw_chart()\n",
    "ax.set_ylim(2271, 2274)"
   ]
  },
  {
   "cell_type": "code",
   "execution_count": null,
   "id": "9dd5f8c1-d131-4b49-831c-88f6f59fcfb7",
   "metadata": {
    "execution": {
     "iopub.status.busy": "2022-06-02T20:19:45.391923Z",
     "iopub.status.idle": "2022-06-02T20:19:45.391923Z",
     "shell.execute_reply": "2022-06-02T20:19:45.391923Z",
     "shell.execute_reply.started": "2022-06-02T20:19:45.391923Z"
    },
    "tags": [],
    "pycharm": {
     "name": "#%%\n"
    }
   },
   "outputs": [],
   "source": [
    "import plotly.graph_objects as go\n",
    "import numpy as np\n",
    "from plotly_resampler import FigureWidgetResampler"
   ]
  },
  {
   "cell_type": "code",
   "execution_count": null,
   "id": "8e9f1137-36ae-45aa-80a4-ef5ae5dac9c7",
   "metadata": {
    "execution": {
     "iopub.status.busy": "2022-06-02T20:19:45.392923Z",
     "iopub.status.idle": "2022-06-02T20:19:45.392923Z",
     "shell.execute_reply": "2022-06-02T20:19:45.392923Z",
     "shell.execute_reply.started": "2022-06-02T20:19:45.392923Z"
    },
    "tags": [],
    "pycharm": {
     "name": "#%%\n"
    }
   },
   "outputs": [],
   "source": [
    "fig = FigureWidgetResampler(go.FigureWidget(layout={'height':300, 'template': 'plotly_white',  \n",
    "                              'margin': dict(l=45, r=5, b=10, t=25, pad=3), 'legend_orientation': 'h'}))\n",
    "k = 290\n",
    "fig.add_scattergl(name='B', mode='markers', y=X.mid, \n",
    "                  marker_symbol='square', marker_size=15, marker_line_width=1, \n",
    "                  marker_line_color=\"black\", marker_color=X.color)\n",
    "\n",
    "fig"
   ]
  },
  {
   "cell_type": "code",
   "execution_count": null,
   "id": "9f17bd27-7918-4770-bcce-93984bfca983",
   "metadata": {
    "execution": {
     "iopub.status.busy": "2022-06-02T20:19:45.393924Z",
     "iopub.status.idle": "2022-06-02T20:19:45.393924Z",
     "shell.execute_reply": "2022-06-02T20:19:45.393924Z",
     "shell.execute_reply.started": "2022-06-02T20:19:45.393924Z"
    },
    "tags": [],
    "pycharm": {
     "name": "#%%\n"
    }
   },
   "outputs": [],
   "source": [
    "fig.data[0].marker.size=15"
   ]
  },
  {
   "cell_type": "code",
   "execution_count": null,
   "id": "30b92302-a7a4-4bb4-a54e-d7794fcc1778",
   "metadata": {
    "pycharm": {
     "name": "#%%\n"
    }
   },
   "outputs": [],
   "source": []
  }
 ],
 "metadata": {
  "kernelspec": {
   "display_name": "Python 3 (ipykernel)",
   "language": "python",
   "name": "python3"
  },
  "language_info": {
   "codemirror_mode": {
    "name": "ipython",
    "version": 3
   },
   "file_extension": ".py",
   "mimetype": "text/x-python",
   "name": "python",
   "nbconvert_exporter": "python",
   "pygments_lexer": "ipython3",
   "version": "3.9.12"
  }
 },
 "nbformat": 4,
 "nbformat_minor": 5
}